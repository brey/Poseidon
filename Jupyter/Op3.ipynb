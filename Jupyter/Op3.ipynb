{
 "cells": [
  {
   "cell_type": "code",
   "execution_count": null,
   "metadata": {
    "collapsed": true
   },
   "outputs": [],
   "source": []
  },
  {
   "cell_type": "code",
   "execution_count": null,
   "metadata": {
    "collapsed": true
   },
   "outputs": [],
   "source": [
    "%matplotlib notebook"
   ]
  },
  {
   "cell_type": "code",
   "execution_count": 2,
   "metadata": {
    "collapsed": true
   },
   "outputs": [],
   "source": [
    "import numpy as np\n",
    "# -------------------------------------------------------------------------\n",
    "# Const\n",
    "# -------------------------------------------------------------------------\n",
    "nm2m=1852. # 1 nautical mile to meters\n",
    "kt2ms=nm2m/3600.  # knots to m/s\n",
    "omega=2*np.pi/(3600.*24.) # angular speed omega=2pi*f(=frequency of earth : 1 cycle per day) 2pi* 1 / day in seconds\n",
    "rhoa=1.15 #air density  Kg/m^3\n",
    "radius=6378388 #137. # earth's radius according to WGS 84\n",
    "deg2m=np.pi*radius/180.  # ds on cicle equals ds=r*dth - dth=pi/180\n",
    "pn=101000.  # Atmospheric pressure [N/m^2] (101KPa - enviromental pressure)\n",
    "\n",
    "tetaNE=45. #mean angle [degrees] of North Eastern quadrant\n",
    "tetaNW=135. #        \"              North Western\n",
    "tetaSW=225. #        \"              South West\n",
    "tetaSE=315. #        \"              South East\n",
    "\n",
    "maxR=500.e3  # maximum radius of TC [m] (500Km)"
   ]
  },
  {
   "cell_type": "code",
   "execution_count": 3,
   "metadata": {
    "collapsed": true
   },
   "outputs": [],
   "source": [
    "import pandas\n",
    "import matplotlib.pyplot as plt\n",
    "from netCDF4 import Dataset"
   ]
  },
  {
   "cell_type": "code",
   "execution_count": 4,
   "metadata": {
    "collapsed": true
   },
   "outputs": [],
   "source": [
    "def hvel(r):\n",
    "    x=0.5+(r-rmaxh)/(maxR-rmaxh)*kh\n",
    "    return (bh/rhoa*(rmaxh/r)**bh*dph*np.exp(-(rmaxh/r)**bh))**x"
   ]
  },
  {
   "cell_type": "code",
   "execution_count": 5,
   "metadata": {
    "collapsed": true
   },
   "outputs": [],
   "source": [
    "def pres(r):\n",
    "    return pch+dph*np.exp(-(rmaxh/r)**bh)"
   ]
  },
  {
   "cell_type": "code",
   "execution_count": 6,
   "metadata": {
    "collapsed": true
   },
   "outputs": [],
   "source": [
    "def hvel2d(l1,l2,vtx,vty):\n",
    "    r=np.sqrt(l1**2+l2**2)\n",
    "    xh=0.5+(r-rmaxh)/(maxR-rmaxh)*kh\n",
    "    ur=(bh/rhoa*(rmaxh/r)**bh*dph*np.exp(-(rmaxh/r)**bh))**xh\n",
    "    theta=np.arctan2(l2,l1)\n",
    "    ux=-ur*np.sin(theta)\n",
    "    uy=ur*np.cos(theta)\n",
    "    return ux+vtx,uy+vty, pres(r)"
   ]
  },
  {
   "cell_type": "code",
   "execution_count": 7,
   "metadata": {
    "collapsed": true
   },
   "outputs": [],
   "source": [
    "path='/DATA/critechuser/BestTrack/'"
   ]
  },
  {
   "cell_type": "code",
   "execution_count": 9,
   "metadata": {
    "collapsed": false
   },
   "outputs": [],
   "source": [
    "data=Dataset(path+'Allstorms.ibtracs_all.v03r08.nc')"
   ]
  },
  {
   "cell_type": "markdown",
   "metadata": {},
   "source": [
    "# ANALYSIS STARTS HERE"
   ]
  },
  {
   "cell_type": "code",
   "execution_count": 11,
   "metadata": {
    "collapsed": true
   },
   "outputs": [],
   "source": [
    "hurName='SANDY'"
   ]
  },
  {
   "cell_type": "code",
   "execution_count": 31,
   "metadata": {
    "collapsed": false
   },
   "outputs": [
    {
     "data": {
      "text/plain": [
       "<type 'netCDF4._netCDF4.Dataset'>\n",
       "root group (NETCDF3_CLASSIC data model, file format NETCDF3):\n",
       "    Title: IBTrACS-WMO: NetCDF reformat\n",
       "    Version: v03r08\n",
       "    Description: IBTrACS-WMO data reformatted to contain \n",
       "all data in one netCDF file. Also an attempt has been made\n",
       "to have the data appear as trajectories in the CDM\n",
       "    cdm_datatype: Trajectory\n",
       "    trajectoryDimension: storm\n",
       "    Conventions: CF-1.0\n",
       "    metadata_link: gov.noaa.ncdc:C00834\n",
       "    dimensions(sizes): storm(12635), time(191), ncharsn(13), ncharnm(57), center(26), ncharcn(10)\n",
       "    variables(dimensions): |S1 \u001b[4mstorm_sn\u001b[0m(storm,ncharsn), |S1 \u001b[4mname\u001b[0m(storm,ncharnm), int16 \u001b[4mnumObs\u001b[0m(storm), int16 \u001b[4mseason\u001b[0m(storm), int8 \u001b[4mtrack_type\u001b[0m(storm), int8 \u001b[4mgenesis_basin\u001b[0m(storm), int8 \u001b[4mnum_basins\u001b[0m(storm), int8 \u001b[4mbasin\u001b[0m(storm,time), int8 \u001b[4mwind_avg_period\u001b[0m(center), |S1 \u001b[4msource\u001b[0m(center,ncharcn), float64 \u001b[4msource_time\u001b[0m(storm,time), int16 \u001b[4mlat_for_mapping\u001b[0m(storm,time), int16 \u001b[4mlon_for_mapping\u001b[0m(storm,time), int8 \u001b[4mnature_for_mapping\u001b[0m(storm,time), int16 \u001b[4msource_lat\u001b[0m(storm,time,center), int16 \u001b[4msource_lon\u001b[0m(storm,time,center), int16 \u001b[4msource_wind\u001b[0m(storm,time,center), int16 \u001b[4msource_pres\u001b[0m(storm,time,center), int16 \u001b[4mdist2land\u001b[0m(storm,time), int16 \u001b[4mlandfall\u001b[0m(storm,time)\n",
       "    groups: "
      ]
     },
     "execution_count": 31,
     "metadata": {},
     "output_type": "execute_result"
    }
   ],
   "source": [
    "data"
   ]
  },
  {
   "cell_type": "code",
   "execution_count": 67,
   "metadata": {
    "collapsed": false
   },
   "outputs": [
    {
     "name": "stdout",
     "output_type": "stream",
     "text": [
      "\n"
     ]
    }
   ],
   "source": [
    "datadic={}\n",
    "for k in data.variables:\n",
    "    datadic[k]=data.variables[k][:]"
   ]
  },
  {
   "cell_type": "code",
   "execution_count": 68,
   "metadata": {
    "collapsed": false
   },
   "outputs": [
    {
     "data": {
      "text/plain": [
       "[u'lat_for_mapping',\n",
       " u'source_lat',\n",
       " u'storm_sn',\n",
       " u'source_time',\n",
       " u'num_basins',\n",
       " u'numObs',\n",
       " u'season',\n",
       " u'track_type',\n",
       " u'lon_for_mapping',\n",
       " u'source_pres',\n",
       " u'genesis_basin',\n",
       " u'wind_avg_period',\n",
       " u'landfall',\n",
       " u'source',\n",
       " u'source_wind',\n",
       " u'dist2land',\n",
       " u'basin',\n",
       " u'source_lon',\n",
       " u'nature_for_mapping',\n",
       " u'name']"
      ]
     },
     "execution_count": 68,
     "metadata": {},
     "output_type": "execute_result"
    }
   ],
   "source": [
    "datadic.keys()"
   ]
  },
  {
   "cell_type": "code",
   "execution_count": 69,
   "metadata": {
    "collapsed": false
   },
   "outputs": [],
   "source": [
    "datadic['storm_sn']=np.array([''.join(x) for x in datadic['storm_sn']])"
   ]
  },
  {
   "cell_type": "code",
   "execution_count": 70,
   "metadata": {
    "collapsed": false
   },
   "outputs": [],
   "source": [
    "datadic['name']=np.array([''.join(x) for x in datadic['name']])"
   ]
  },
  {
   "cell_type": "code",
   "execution_count": 96,
   "metadata": {
    "collapsed": false
   },
   "outputs": [],
   "source": [
    "datadic['source']=np.array([''.join(x) for x in datadic['source']])"
   ]
  },
  {
   "cell_type": "code",
   "execution_count": 98,
   "metadata": {
    "collapsed": false
   },
   "outputs": [
    {
     "name": "stdout",
     "output_type": "stream",
     "text": [
      "lat_for_mapping (12635, 191)\n",
      "source_lat (12635, 191, 26)\n",
      "storm_sn (12635,)\n",
      "source_time (12635, 191)\n",
      "num_basins (12635,)\n",
      "numObs (12635,)\n",
      "season (12635,)\n",
      "track_type (12635,)\n",
      "lon_for_mapping (12635, 191)\n",
      "source_pres (12635, 191, 26)\n",
      "genesis_basin (12635,)\n",
      "wind_avg_period (26,)\n",
      "landfall (12635, 191)\n",
      "source (26,)\n",
      "source_wind (12635, 191, 26)\n",
      "dist2land (12635, 191)\n",
      "basin (12635, 191)\n",
      "source_lon (12635, 191, 26)\n",
      "nature_for_mapping (12635, 191)\n",
      "name (12635,)\n"
     ]
    }
   ],
   "source": [
    "for k in datadic.keys():\n",
    "  print k, datadic[k].shape    "
   ]
  },
  {
   "cell_type": "code",
   "execution_count": 104,
   "metadata": {
    "collapsed": false
   },
   "outputs": [
    {
     "data": {
      "text/plain": [
       "array([0, 0, 2, ..., 0, 0, 0], dtype=int8)"
      ]
     },
     "execution_count": 104,
     "metadata": {},
     "output_type": "execute_result"
    }
   ],
   "source": [
    "datadic['track_type']"
   ]
  },
  {
   "cell_type": "code",
   "execution_count": 91,
   "metadata": {
    "collapsed": true
   },
   "outputs": [],
   "source": [
    "pd={k:datadic[k] for k in ('storm_sn','name')}"
   ]
  },
  {
   "cell_type": "code",
   "execution_count": 92,
   "metadata": {
    "collapsed": false
   },
   "outputs": [],
   "source": [
    "df=pandas.DataFrame.from_dict(pd,orient='index')"
   ]
  },
  {
   "cell_type": "code",
   "execution_count": 93,
   "metadata": {
    "collapsed": false
   },
   "outputs": [
    {
     "data": {
      "text/html": [
       "<div>\n",
       "<table border=\"1\" class=\"dataframe\">\n",
       "  <thead>\n",
       "    <tr style=\"text-align: right;\">\n",
       "      <th></th>\n",
       "      <th>0</th>\n",
       "      <th>1</th>\n",
       "      <th>2</th>\n",
       "      <th>3</th>\n",
       "      <th>4</th>\n",
       "      <th>5</th>\n",
       "      <th>6</th>\n",
       "      <th>7</th>\n",
       "      <th>8</th>\n",
       "      <th>9</th>\n",
       "      <th>...</th>\n",
       "      <th>12625</th>\n",
       "      <th>12626</th>\n",
       "      <th>12627</th>\n",
       "      <th>12628</th>\n",
       "      <th>12629</th>\n",
       "      <th>12630</th>\n",
       "      <th>12631</th>\n",
       "      <th>12632</th>\n",
       "      <th>12633</th>\n",
       "      <th>12634</th>\n",
       "    </tr>\n",
       "  </thead>\n",
       "  <tbody>\n",
       "    <tr>\n",
       "      <th>storm_sn</th>\n",
       "      <td>1842298N11080</td>\n",
       "      <td>1845336N10074</td>\n",
       "      <td>1848011S09079</td>\n",
       "      <td>1848011S09080</td>\n",
       "      <td>1848011S15057</td>\n",
       "      <td>1848011S16057</td>\n",
       "      <td>1848061S12075</td>\n",
       "      <td>1848062S13069</td>\n",
       "      <td>1848112S07084</td>\n",
       "      <td>1848112S07444</td>\n",
       "      <td>...</td>\n",
       "      <td>2014303N13141</td>\n",
       "      <td>2014309N13088</td>\n",
       "      <td>2014329N08131</td>\n",
       "      <td>2014334N02156</td>\n",
       "      <td>2014355S07099</td>\n",
       "      <td>2014362N07130</td>\n",
       "      <td>2015045S12145</td>\n",
       "      <td>2015046S15150</td>\n",
       "      <td>2015068S14114</td>\n",
       "      <td>2015117S12115</td>\n",
       "    </tr>\n",
       "    <tr>\n",
       "      <th>name</th>\n",
       "      <td>NOT NAMED</td>\n",
       "      <td>NOT NAMED</td>\n",
       "      <td>NOT NAMED</td>\n",
       "      <td>XXXX848003</td>\n",
       "      <td>XXXX848002</td>\n",
       "      <td>NOT NAMED</td>\n",
       "      <td>XXXX848001</td>\n",
       "      <td>NOT NAMED</td>\n",
       "      <td>XXXX848004</td>\n",
       "      <td>NOT NAMED</td>\n",
       "      <td>...</td>\n",
       "      <td>NURI</td>\n",
       "      <td>FIVE</td>\n",
       "      <td>SINLAKU</td>\n",
       "      <td>HAGUPIT</td>\n",
       "      <td>KATE</td>\n",
       "      <td>JANGMI</td>\n",
       "      <td>LAM</td>\n",
       "      <td>MARCIA</td>\n",
       "      <td>OLWYN</td>\n",
       "      <td>QUANG</td>\n",
       "    </tr>\n",
       "  </tbody>\n",
       "</table>\n",
       "<p>2 rows × 12635 columns</p>\n",
       "</div>"
      ],
      "text/plain": [
       "                  0              1              2              3      \\\n",
       "storm_sn  1842298N11080  1845336N10074  1848011S09079  1848011S09080   \n",
       "name          NOT NAMED      NOT NAMED      NOT NAMED     XXXX848003   \n",
       "\n",
       "                  4              5              6              7      \\\n",
       "storm_sn  1848011S15057  1848011S16057  1848061S12075  1848062S13069   \n",
       "name         XXXX848002      NOT NAMED     XXXX848001      NOT NAMED   \n",
       "\n",
       "                  8              9          ...                12625  \\\n",
       "storm_sn  1848112S07084  1848112S07444      ...        2014303N13141   \n",
       "name         XXXX848004      NOT NAMED      ...                 NURI   \n",
       "\n",
       "                  12626          12627          12628          12629  \\\n",
       "storm_sn  2014309N13088  2014329N08131  2014334N02156  2014355S07099   \n",
       "name               FIVE        SINLAKU        HAGUPIT           KATE   \n",
       "\n",
       "                  12630          12631          12632          12633  \\\n",
       "storm_sn  2014362N07130  2015045S12145  2015046S15150  2015068S14114   \n",
       "name             JANGMI            LAM         MARCIA          OLWYN   \n",
       "\n",
       "                  12634  \n",
       "storm_sn  2015117S12115  \n",
       "name              QUANG  \n",
       "\n",
       "[2 rows x 12635 columns]"
      ]
     },
     "execution_count": 93,
     "metadata": {},
     "output_type": "execute_result"
    }
   ],
   "source": [
    "df"
   ]
  },
  {
   "cell_type": "code",
   "execution_count": 27,
   "metadata": {
    "collapsed": false
   },
   "outputs": [],
   "source": [
    "i=names[1]"
   ]
  },
  {
   "cell_type": "code",
   "execution_count": null,
   "metadata": {
    "collapsed": true
   },
   "outputs": [],
   "source": [
    "bul=10"
   ]
  },
  {
   "cell_type": "code",
   "execution_count": null,
   "metadata": {
    "collapsed": false
   },
   "outputs": [],
   "source": [
    "infolder=sdir+'/{}'.format(bul)"
   ]
  },
  {
   "cell_type": "code",
   "execution_count": null,
   "metadata": {
    "collapsed": false
   },
   "outputs": [],
   "source": [
    "infofile=infolder+'/info.xml'\n",
    "info=bxml(infofile)\n",
    "print info.setexp"
   ]
  },
  {
   "cell_type": "code",
   "execution_count": null,
   "metadata": {
    "collapsed": true
   },
   "outputs": [],
   "source": [
    "outfile=infolder+'/outData.txt'"
   ]
  },
  {
   "cell_type": "code",
   "execution_count": null,
   "metadata": {
    "collapsed": false
   },
   "outputs": [],
   "source": [
    "dat=pandas.read_csv(outfile,header=0,delimiter='\\t',usecols=np.arange(0,14))\n",
    "dat"
   ]
  },
  {
   "cell_type": "code",
   "execution_count": null,
   "metadata": {
    "collapsed": false
   },
   "outputs": [],
   "source": [
    "b=dat['b'].values\n",
    "vmax=dat['vmax'].values\n",
    "k=dat['k'].values\n",
    "rmax=dat['rmax'].values\n",
    "deltap=dat['deltap'].values\n",
    "vtrx=dat['vtrx'].values\n",
    "vtry=dat['vtry'].values"
   ]
  },
  {
   "cell_type": "code",
   "execution_count": null,
   "metadata": {
    "collapsed": true
   },
   "outputs": [],
   "source": [
    "# choose time\n",
    "it=0"
   ]
  },
  {
   "cell_type": "code",
   "execution_count": null,
   "metadata": {
    "collapsed": false
   },
   "outputs": [],
   "source": [
    "bh=b[it]\n",
    "vmaxh=vmax[it]\n",
    "kh=k[it]\n",
    "rmaxh=rmax[it]\n",
    "dph=deltap[it]\n",
    "pch=pn-dph\n",
    "vtx=vtrx[it]\n",
    "vty=vtry[it]"
   ]
  },
  {
   "cell_type": "code",
   "execution_count": null,
   "metadata": {
    "collapsed": true
   },
   "outputs": [],
   "source": [
    "rh=np.linspace(0.,5*rmaxh,100)"
   ]
  },
  {
   "cell_type": "code",
   "execution_count": null,
   "metadata": {
    "collapsed": false
   },
   "outputs": [],
   "source": [
    "plt.figure(figsize=(10,8))\n",
    "plt.plot(rh/1000,hvel(rh))\n",
    "plt.xlabel('km',fontsize=18)\n",
    "plt.ylabel('Velocity [m/s]',fontsize=18)\n",
    "plt.title('Velocity vs radius')\n",
    "\n",
    "\n",
    "plt.show()"
   ]
  },
  {
   "cell_type": "code",
   "execution_count": null,
   "metadata": {
    "collapsed": false
   },
   "outputs": [],
   "source": [
    "plt.figure(figsize=(10,8))\n",
    "plt.plot(rh/1000,pres(rh)/100)\n",
    "\n",
    "plt.xlabel('km',fontsize=18)\n",
    "plt.ylabel('Pressure [PA]',fontsize=18)\n",
    "plt.title('Pressure vs radius')\n",
    "\n",
    "\n",
    "plt.show()"
   ]
  },
  {
   "cell_type": "code",
   "execution_count": null,
   "metadata": {
    "collapsed": true
   },
   "outputs": [],
   "source": [
    "ni,nj=1000,1000\n",
    "xl=np.linspace(-maxR, maxR,ni+1)\n",
    "yl=np.linspace(-maxR, maxR,nj+1)\n",
    "q1,q2=np.meshgrid(xl,yl)"
   ]
  },
  {
   "cell_type": "code",
   "execution_count": null,
   "metadata": {
    "collapsed": true
   },
   "outputs": [],
   "source": [
    "zx,zy, pr=hvel2d(q1,q2,vtx,vty)"
   ]
  },
  {
   "cell_type": "code",
   "execution_count": null,
   "metadata": {
    "collapsed": false
   },
   "outputs": [],
   "source": [
    "plt.figure(figsize=(10,8))\n",
    "plt.contourf(q1/1000,q2/1000,pr/100,20)\n",
    "plt.xlabel('km',fontsize=18)\n",
    "plt.ylabel('Km',fontsize=18)\n",
    "plt.title('Pressure contours')\n",
    "\n",
    "\n",
    "plt.colorbar(label='PA')\n",
    "plt.show()"
   ]
  },
  {
   "cell_type": "code",
   "execution_count": null,
   "metadata": {
    "collapsed": false
   },
   "outputs": [],
   "source": [
    "plt.figure(figsize=(10,8))\n",
    "plt.plot(q1[0,:]/1000,pr[500,:]/100)\n",
    "\n",
    "plt.xlabel('km',fontsize=18)\n",
    "plt.ylabel('Pressure',fontsize=18)\n",
    "plt.title('Pressure vs radius')\n",
    "\n",
    "\n",
    "plt.show()"
   ]
  },
  {
   "cell_type": "code",
   "execution_count": null,
   "metadata": {
    "collapsed": false
   },
   "outputs": [],
   "source": [
    "\n",
    "vel=np.sqrt(zx**2+zy**2)"
   ]
  },
  {
   "cell_type": "code",
   "execution_count": null,
   "metadata": {
    "collapsed": false
   },
   "outputs": [],
   "source": [
    "plt.figure(figsize=(10,8))\n",
    "plt.contourf(q1/1000,q2/1000,vel,20)\n",
    "plt.streamplot(q1/1000,q2/1000,zx,zy, color=vel, linewidth=0.1*vel)\n",
    "plt.xlabel('km',fontsize=18)\n",
    "plt.ylabel('Km',fontsize=18)\n",
    "plt.title('Velocity vs radius')\n",
    "\n",
    "plt.colorbar(label='m/s')\n",
    "plt.show()"
   ]
  },
  {
   "cell_type": "code",
   "execution_count": null,
   "metadata": {
    "collapsed": false,
    "scrolled": false
   },
   "outputs": [],
   "source": [
    "plt.figure(figsize=(10,8))\n",
    "plt.plot(q1[0,:]/1000,vel[ni/2,:],label='horizontal')\n",
    "plt.plot(q2[:,0]/1000,vel[:,nj/2],label='verical')\n",
    "\n",
    "plt.xlabel('km',fontsize=18)\n",
    "plt.ylabel('Velocity [m/s]',fontsize=18)\n",
    "plt.title('Velocity vs radius')\n",
    "\n",
    "\n",
    "plt.legend(loc=0)\n",
    "plt.show()"
   ]
  },
  {
   "cell_type": "code",
   "execution_count": null,
   "metadata": {
    "collapsed": false
   },
   "outputs": [],
   "source": [
    "np.savetxt('tmp/phol',[q1[0,:],pr[500,:]])\n",
    "np.savetxt('tmp/uhol',[q1[0,:],vel[ni/2,:],vel[:,nj/2]])"
   ]
  },
  {
   "cell_type": "code",
   "execution_count": null,
   "metadata": {
    "collapsed": false
   },
   "outputs": [],
   "source": [
    "pandas.DataFrame({'Min Pressure':[pch/100],'Max Velocity':[vmaxh]})"
   ]
  },
  {
   "cell_type": "code",
   "execution_count": null,
   "metadata": {
    "collapsed": true
   },
   "outputs": [],
   "source": []
  }
 ],
 "metadata": {
  "kernelspec": {
   "display_name": "Python 2",
   "language": "python",
   "name": "python2"
  },
  "language_info": {
   "codemirror_mode": {
    "name": "ipython",
    "version": 2
   },
   "file_extension": ".py",
   "mimetype": "text/x-python",
   "name": "python",
   "nbconvert_exporter": "python",
   "pygments_lexer": "ipython2",
   "version": "2.7.11+"
  },
  "widgets": {
   "state": {},
   "version": "1.1.1"
  }
 },
 "nbformat": 4,
 "nbformat_minor": 0
}
