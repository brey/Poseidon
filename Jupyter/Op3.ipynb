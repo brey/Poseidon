{
 "cells": [
  {
   "cell_type": "code",
   "execution_count": 91,
   "metadata": {
    "collapsed": true
   },
   "outputs": [],
   "source": [
    "#%matplotlib notebook"
   ]
  },
  {
   "cell_type": "code",
   "execution_count": 1,
   "metadata": {
    "collapsed": true
   },
   "outputs": [],
   "source": [
    "%matplotlib inline"
   ]
  },
  {
   "cell_type": "code",
   "execution_count": 2,
   "metadata": {
    "collapsed": true
   },
   "outputs": [],
   "source": [
    "import numpy as np\n",
    "# -------------------------------------------------------------------------\n",
    "# Const\n",
    "# -------------------------------------------------------------------------\n",
    "nm2m=1852. # 1 nautical mile to meters\n",
    "kt2ms=nm2m/3600.  # knots to m/s\n",
    "omega=2*np.pi/(3600.*24.) # angular speed omega=2pi*f(=frequency of earth : 1 cycle per day) 2pi* 1 / day in seconds\n",
    "rhoa=1.15 #air density  Kg/m^3\n",
    "radius=6378388 #137. # earth's radius according to WGS 84\n",
    "deg2m=np.pi*radius/180.  # ds on cicle equals ds=r*dth - dth=pi/180\n",
    "pn=101000.  # Atmospheric pressure [N/m^2] (101KPa - enviromental pressure)\n",
    "\n",
    "tetaNE=45. #mean angle [degrees] of North Eastern quadrant\n",
    "tetaNW=135. #        \"              North Western\n",
    "tetaSW=225. #        \"              South West\n",
    "tetaSE=315. #        \"              South East\n",
    "\n",
    "maxR=500.e3  # maximum radius of TC [m] (500Km)"
   ]
  },
  {
   "cell_type": "code",
   "execution_count": 3,
   "metadata": {
    "collapsed": true
   },
   "outputs": [],
   "source": [
    "from netCDF4 import Dataset"
   ]
  },
  {
   "cell_type": "code",
   "execution_count": 4,
   "metadata": {
    "collapsed": true
   },
   "outputs": [],
   "source": [
    "import glob"
   ]
  },
  {
   "cell_type": "code",
   "execution_count": 28,
   "metadata": {
    "collapsed": true
   },
   "outputs": [],
   "source": [
    "import re"
   ]
  },
  {
   "cell_type": "code",
   "execution_count": 148,
   "metadata": {
    "collapsed": true
   },
   "outputs": [],
   "source": [
    "import datetime"
   ]
  },
  {
   "cell_type": "code",
   "execution_count": 64,
   "metadata": {
    "collapsed": true
   },
   "outputs": [],
   "source": [
    "import pandas as pd\n",
    "import matplotlib.pyplot as plt\n",
    "import mplleaflet"
   ]
  },
  {
   "cell_type": "code",
   "execution_count": 6,
   "metadata": {
    "collapsed": true
   },
   "outputs": [],
   "source": [
    "def hvel(r):\n",
    "    x=0.5+(r-rmaxh)/(maxR-rmaxh)*kh\n",
    "    return (bh/rhoa*(rmaxh/r)**bh*dph*np.exp(-(rmaxh/r)**bh))**x"
   ]
  },
  {
   "cell_type": "code",
   "execution_count": 7,
   "metadata": {
    "collapsed": true
   },
   "outputs": [],
   "source": [
    "def pres(r):\n",
    "    return pch+dph*np.exp(-(rmaxh/r)**bh)"
   ]
  },
  {
   "cell_type": "code",
   "execution_count": 8,
   "metadata": {
    "collapsed": true
   },
   "outputs": [],
   "source": [
    "def hvel2d(l1,l2,vtx,vty):\n",
    "    r=np.sqrt(l1**2+l2**2)\n",
    "    xh=0.5+(r-rmaxh)/(maxR-rmaxh)*kh\n",
    "    ur=(bh/rhoa*(rmaxh/r)**bh*dph*np.exp(-(rmaxh/r)**bh))**xh\n",
    "    theta=np.arctan2(l2,l1)\n",
    "    ux=-ur*np.sin(theta)\n",
    "    uy=ur*np.cos(theta)\n",
    "    return ux+vtx,uy+vty, pres(r)"
   ]
  },
  {
   "cell_type": "code",
   "execution_count": 9,
   "metadata": {
    "collapsed": true
   },
   "outputs": [],
   "source": [
    "path='../BestTrack/'"
   ]
  },
  {
   "cell_type": "code",
   "execution_count": 65,
   "metadata": {
    "collapsed": false
   },
   "outputs": [],
   "source": [
    "data=pd.read_csv(path+'Allstorms.ibtracs_wmo.v03r09.csv', header=1, low_memory=False)"
   ]
  },
  {
   "cell_type": "code",
   "execution_count": 66,
   "metadata": {
    "collapsed": false
   },
   "outputs": [
    {
     "data": {
      "text/html": [
       "<div>\n",
       "<table border=\"1\" class=\"dataframe\">\n",
       "  <thead>\n",
       "    <tr style=\"text-align: right;\">\n",
       "      <th></th>\n",
       "      <th>Serial_Num</th>\n",
       "      <th>Season</th>\n",
       "      <th>Num</th>\n",
       "      <th>Basin</th>\n",
       "      <th>Sub_basin</th>\n",
       "      <th>Name</th>\n",
       "      <th>ISO_time</th>\n",
       "      <th>Nature</th>\n",
       "      <th>Latitude</th>\n",
       "      <th>Longitude</th>\n",
       "      <th>Wind(WMO)</th>\n",
       "      <th>Pres(WMO)</th>\n",
       "      <th>Center</th>\n",
       "      <th>Wind(WMO) Percentile</th>\n",
       "      <th>Pres(WMO) Percentile</th>\n",
       "      <th>Track_type</th>\n",
       "    </tr>\n",
       "  </thead>\n",
       "  <tbody>\n",
       "    <tr>\n",
       "      <th>0</th>\n",
       "      <td>NaN</td>\n",
       "      <td>Year</td>\n",
       "      <td>#</td>\n",
       "      <td>BB</td>\n",
       "      <td>BB</td>\n",
       "      <td>NaN</td>\n",
       "      <td>YYYY-MM-DD HH:MM:SS</td>\n",
       "      <td>NaN</td>\n",
       "      <td>deg_north</td>\n",
       "      <td>deg_east</td>\n",
       "      <td>kt</td>\n",
       "      <td>mb</td>\n",
       "      <td>NaN</td>\n",
       "      <td>%</td>\n",
       "      <td>%</td>\n",
       "      <td>NaN</td>\n",
       "    </tr>\n",
       "    <tr>\n",
       "      <th>1</th>\n",
       "      <td>1848011S09080</td>\n",
       "      <td>1848</td>\n",
       "      <td>02</td>\n",
       "      <td>SI</td>\n",
       "      <td>MM</td>\n",
       "      <td>XXXX848003</td>\n",
       "      <td>1848-01-11 06:00:00</td>\n",
       "      <td>NR</td>\n",
       "      <td>-8.60</td>\n",
       "      <td>79.80</td>\n",
       "      <td>0.0</td>\n",
       "      <td>0.0</td>\n",
       "      <td>reunion</td>\n",
       "      <td>-100.000</td>\n",
       "      <td>-100.000</td>\n",
       "      <td>main</td>\n",
       "    </tr>\n",
       "    <tr>\n",
       "      <th>2</th>\n",
       "      <td>1848011S09080</td>\n",
       "      <td>1848</td>\n",
       "      <td>02</td>\n",
       "      <td>SI</td>\n",
       "      <td>MM</td>\n",
       "      <td>XXXX848003</td>\n",
       "      <td>1848-01-12 06:00:00</td>\n",
       "      <td>NR</td>\n",
       "      <td>-9.00</td>\n",
       "      <td>78.90</td>\n",
       "      <td>0.0</td>\n",
       "      <td>0.0</td>\n",
       "      <td>reunion</td>\n",
       "      <td>-100.000</td>\n",
       "      <td>-100.000</td>\n",
       "      <td>main</td>\n",
       "    </tr>\n",
       "    <tr>\n",
       "      <th>3</th>\n",
       "      <td>1848011S09080</td>\n",
       "      <td>1848</td>\n",
       "      <td>02</td>\n",
       "      <td>SI</td>\n",
       "      <td>MM</td>\n",
       "      <td>XXXX848003</td>\n",
       "      <td>1848-01-13 06:00:00</td>\n",
       "      <td>NR</td>\n",
       "      <td>-10.40</td>\n",
       "      <td>73.20</td>\n",
       "      <td>0.0</td>\n",
       "      <td>0.0</td>\n",
       "      <td>reunion</td>\n",
       "      <td>-100.000</td>\n",
       "      <td>-100.000</td>\n",
       "      <td>main</td>\n",
       "    </tr>\n",
       "    <tr>\n",
       "      <th>4</th>\n",
       "      <td>1848011S09080</td>\n",
       "      <td>1848</td>\n",
       "      <td>02</td>\n",
       "      <td>SI</td>\n",
       "      <td>MM</td>\n",
       "      <td>XXXX848003</td>\n",
       "      <td>1848-01-14 06:00:00</td>\n",
       "      <td>NR</td>\n",
       "      <td>-12.80</td>\n",
       "      <td>69.90</td>\n",
       "      <td>0.0</td>\n",
       "      <td>0.0</td>\n",
       "      <td>reunion</td>\n",
       "      <td>-100.000</td>\n",
       "      <td>-100.000</td>\n",
       "      <td>main</td>\n",
       "    </tr>\n",
       "  </tbody>\n",
       "</table>\n",
       "</div>"
      ],
      "text/plain": [
       "      Serial_Num Season Num Basin Sub_basin        Name             ISO_time  \\\n",
       "0            NaN   Year   #    BB        BB         NaN  YYYY-MM-DD HH:MM:SS   \n",
       "1  1848011S09080   1848  02    SI        MM  XXXX848003  1848-01-11 06:00:00   \n",
       "2  1848011S09080   1848  02    SI        MM  XXXX848003  1848-01-12 06:00:00   \n",
       "3  1848011S09080   1848  02    SI        MM  XXXX848003  1848-01-13 06:00:00   \n",
       "4  1848011S09080   1848  02    SI        MM  XXXX848003  1848-01-14 06:00:00   \n",
       "\n",
       "  Nature   Latitude Longitude Wind(WMO) Pres(WMO)   Center  \\\n",
       "0    NaN  deg_north  deg_east        kt        mb      NaN   \n",
       "1     NR      -8.60     79.80       0.0       0.0  reunion   \n",
       "2     NR      -9.00     78.90       0.0       0.0  reunion   \n",
       "3     NR     -10.40     73.20       0.0       0.0  reunion   \n",
       "4     NR     -12.80     69.90       0.0       0.0  reunion   \n",
       "\n",
       "  Wind(WMO) Percentile Pres(WMO) Percentile Track_type  \n",
       "0                    %                    %        NaN  \n",
       "1             -100.000             -100.000       main  \n",
       "2             -100.000             -100.000       main  \n",
       "3             -100.000             -100.000       main  \n",
       "4             -100.000             -100.000       main  "
      ]
     },
     "execution_count": 66,
     "metadata": {},
     "output_type": "execute_result"
    }
   ],
   "source": [
    "data.head()"
   ]
  },
  {
   "cell_type": "markdown",
   "metadata": {},
   "source": [
    "# ANALYSIS STARTS HERE"
   ]
  },
  {
   "cell_type": "code",
   "execution_count": 12,
   "metadata": {
    "collapsed": true
   },
   "outputs": [],
   "source": [
    "hurName='TOMAS'\n",
    "year = '2010'"
   ]
  },
  {
   "cell_type": "code",
   "execution_count": 13,
   "metadata": {
    "collapsed": false
   },
   "outputs": [],
   "source": [
    "hurdata = data[data['Name'].str.contains(hurName,na=False) & data['ISO_time'].str.contains(year,na=False)]"
   ]
  },
  {
   "cell_type": "code",
   "execution_count": 14,
   "metadata": {
    "collapsed": false
   },
   "outputs": [
    {
     "data": {
      "text/plain": [
       "Serial_Num                    2010069S12188\n",
       "Season                                 2010\n",
       "Num                                      10\n",
       "Basin                                    SP\n",
       "Sub_basin                                MM\n",
       "Name                                  TOMAS\n",
       "ISO_time                2010-03-10 00:00:00\n",
       "Nature                                   NR\n",
       "Latitude                             -12.30\n",
       "Longitude                           -172.20\n",
       "Wind(WMO)                              20.0\n",
       "Pres(WMO)                            1005.0\n",
       "Center                                 nadi\n",
       "Wind(WMO) Percentile                  4.063\n",
       "Pres(WMO) Percentile                  1.388\n",
       "Track_type                             main\n",
       "Name: 179026, dtype: object"
      ]
     },
     "execution_count": 14,
     "metadata": {},
     "output_type": "execute_result"
    }
   ],
   "source": [
    "hurdata.iloc[0]"
   ]
  },
  {
   "cell_type": "code",
   "execution_count": 15,
   "metadata": {
    "collapsed": false
   },
   "outputs": [
    {
     "data": {
      "text/plain": [
       "(95, 16)"
      ]
     },
     "execution_count": 15,
     "metadata": {},
     "output_type": "execute_result"
    }
   ],
   "source": [
    "hurdata.shape"
   ]
  },
  {
   "cell_type": "code",
   "execution_count": 16,
   "metadata": {
    "collapsed": false
   },
   "outputs": [],
   "source": [
    "ntc=hurdata['Basin'].unique()"
   ]
  },
  {
   "cell_type": "code",
   "execution_count": 17,
   "metadata": {
    "collapsed": false
   },
   "outputs": [
    {
     "data": {
      "text/plain": [
       "array([' SP', ' NA'], dtype=object)"
      ]
     },
     "execution_count": 17,
     "metadata": {},
     "output_type": "execute_result"
    }
   ],
   "source": [
    "ntc"
   ]
  },
  {
   "cell_type": "code",
   "execution_count": 18,
   "metadata": {
    "collapsed": false
   },
   "outputs": [],
   "source": [
    "hur1=hurdata.loc[hurdata['Basin']==ntc[1]]"
   ]
  },
  {
   "cell_type": "code",
   "execution_count": 19,
   "metadata": {
    "collapsed": false
   },
   "outputs": [
    {
     "data": {
      "text/html": [
       "<div>\n",
       "<table border=\"1\" class=\"dataframe\">\n",
       "  <thead>\n",
       "    <tr style=\"text-align: right;\">\n",
       "      <th></th>\n",
       "      <th>Serial_Num</th>\n",
       "      <th>Season</th>\n",
       "      <th>Num</th>\n",
       "      <th>Basin</th>\n",
       "      <th>Sub_basin</th>\n",
       "      <th>Name</th>\n",
       "      <th>ISO_time</th>\n",
       "      <th>Nature</th>\n",
       "      <th>Latitude</th>\n",
       "      <th>Longitude</th>\n",
       "      <th>Wind(WMO)</th>\n",
       "      <th>Pres(WMO)</th>\n",
       "      <th>Center</th>\n",
       "      <th>Wind(WMO) Percentile</th>\n",
       "      <th>Pres(WMO) Percentile</th>\n",
       "      <th>Track_type</th>\n",
       "    </tr>\n",
       "  </thead>\n",
       "  <tbody>\n",
       "    <tr>\n",
       "      <th>180706</th>\n",
       "      <td>2010302N09306</td>\n",
       "      <td>2010</td>\n",
       "      <td>19</td>\n",
       "      <td>NA</td>\n",
       "      <td>NA</td>\n",
       "      <td>TOMAS</td>\n",
       "      <td>2010-10-29 06:00:00</td>\n",
       "      <td>TS</td>\n",
       "      <td>9.00</td>\n",
       "      <td>-53.70</td>\n",
       "      <td>30.0</td>\n",
       "      <td>1006.0</td>\n",
       "      <td>atcf</td>\n",
       "      <td>17.564</td>\n",
       "      <td>26.787</td>\n",
       "      <td>main</td>\n",
       "    </tr>\n",
       "    <tr>\n",
       "      <th>180707</th>\n",
       "      <td>2010302N09306</td>\n",
       "      <td>2010</td>\n",
       "      <td>19</td>\n",
       "      <td>NA</td>\n",
       "      <td>NA</td>\n",
       "      <td>TOMAS</td>\n",
       "      <td>2010-10-29 12:00:00</td>\n",
       "      <td>TS</td>\n",
       "      <td>9.80</td>\n",
       "      <td>-55.30</td>\n",
       "      <td>35.0</td>\n",
       "      <td>1003.0</td>\n",
       "      <td>atcf</td>\n",
       "      <td>32.605</td>\n",
       "      <td>41.881</td>\n",
       "      <td>main</td>\n",
       "    </tr>\n",
       "    <tr>\n",
       "      <th>180708</th>\n",
       "      <td>2010302N09306</td>\n",
       "      <td>2010</td>\n",
       "      <td>19</td>\n",
       "      <td>NA</td>\n",
       "      <td>NA</td>\n",
       "      <td>TOMAS</td>\n",
       "      <td>2010-10-29 18:00:00</td>\n",
       "      <td>TS</td>\n",
       "      <td>10.80</td>\n",
       "      <td>-56.80</td>\n",
       "      <td>45.0</td>\n",
       "      <td>998.0</td>\n",
       "      <td>atcf</td>\n",
       "      <td>50.354</td>\n",
       "      <td>57.575</td>\n",
       "      <td>main</td>\n",
       "    </tr>\n",
       "    <tr>\n",
       "      <th>180709</th>\n",
       "      <td>2010302N09306</td>\n",
       "      <td>2010</td>\n",
       "      <td>19</td>\n",
       "      <td>NA</td>\n",
       "      <td>NA</td>\n",
       "      <td>TOMAS</td>\n",
       "      <td>2010-10-30 00:00:00</td>\n",
       "      <td>TS</td>\n",
       "      <td>11.90</td>\n",
       "      <td>-57.80</td>\n",
       "      <td>55.0</td>\n",
       "      <td>999.0</td>\n",
       "      <td>atcf</td>\n",
       "      <td>64.336</td>\n",
       "      <td>55.831</td>\n",
       "      <td>main</td>\n",
       "    </tr>\n",
       "    <tr>\n",
       "      <th>180710</th>\n",
       "      <td>2010302N09306</td>\n",
       "      <td>2010</td>\n",
       "      <td>19</td>\n",
       "      <td>NA</td>\n",
       "      <td>NA</td>\n",
       "      <td>TOMAS</td>\n",
       "      <td>2010-10-30 06:00:00</td>\n",
       "      <td>TS</td>\n",
       "      <td>12.70</td>\n",
       "      <td>-58.90</td>\n",
       "      <td>60.0</td>\n",
       "      <td>997.0</td>\n",
       "      <td>atcf</td>\n",
       "      <td>69.665</td>\n",
       "      <td>59.549</td>\n",
       "      <td>main</td>\n",
       "    </tr>\n",
       "    <tr>\n",
       "      <th>180711</th>\n",
       "      <td>2010302N09306</td>\n",
       "      <td>2010</td>\n",
       "      <td>19</td>\n",
       "      <td>NA</td>\n",
       "      <td>CS</td>\n",
       "      <td>TOMAS</td>\n",
       "      <td>2010-10-30 09:00:00</td>\n",
       "      <td>TS</td>\n",
       "      <td>13.00</td>\n",
       "      <td>-59.50</td>\n",
       "      <td>60.0</td>\n",
       "      <td>997.0</td>\n",
       "      <td>atcf</td>\n",
       "      <td>69.665</td>\n",
       "      <td>59.549</td>\n",
       "      <td>main</td>\n",
       "    </tr>\n",
       "    <tr>\n",
       "      <th>180712</th>\n",
       "      <td>2010302N09306</td>\n",
       "      <td>2010</td>\n",
       "      <td>19</td>\n",
       "      <td>NA</td>\n",
       "      <td>CS</td>\n",
       "      <td>TOMAS</td>\n",
       "      <td>2010-10-30 12:00:00</td>\n",
       "      <td>TS</td>\n",
       "      <td>13.10</td>\n",
       "      <td>-60.10</td>\n",
       "      <td>65.0</td>\n",
       "      <td>993.0</td>\n",
       "      <td>atcf</td>\n",
       "      <td>73.828</td>\n",
       "      <td>67.865</td>\n",
       "      <td>main</td>\n",
       "    </tr>\n",
       "    <tr>\n",
       "      <th>180713</th>\n",
       "      <td>2010302N09306</td>\n",
       "      <td>2010</td>\n",
       "      <td>19</td>\n",
       "      <td>NA</td>\n",
       "      <td>CS</td>\n",
       "      <td>TOMAS</td>\n",
       "      <td>2010-10-30 18:00:00</td>\n",
       "      <td>TS</td>\n",
       "      <td>13.30</td>\n",
       "      <td>-61.00</td>\n",
       "      <td>80.0</td>\n",
       "      <td>990.0</td>\n",
       "      <td>atcf</td>\n",
       "      <td>85.026</td>\n",
       "      <td>71.117</td>\n",
       "      <td>main</td>\n",
       "    </tr>\n",
       "    <tr>\n",
       "      <th>180714</th>\n",
       "      <td>2010302N09306</td>\n",
       "      <td>2010</td>\n",
       "      <td>19</td>\n",
       "      <td>NA</td>\n",
       "      <td>CS</td>\n",
       "      <td>TOMAS</td>\n",
       "      <td>2010-10-30 20:00:00</td>\n",
       "      <td>TS</td>\n",
       "      <td>13.40</td>\n",
       "      <td>-61.20</td>\n",
       "      <td>85.0</td>\n",
       "      <td>987.0</td>\n",
       "      <td>atcf</td>\n",
       "      <td>87.293</td>\n",
       "      <td>74.957</td>\n",
       "      <td>main</td>\n",
       "    </tr>\n",
       "    <tr>\n",
       "      <th>180715</th>\n",
       "      <td>2010302N09306</td>\n",
       "      <td>2010</td>\n",
       "      <td>19</td>\n",
       "      <td>NA</td>\n",
       "      <td>CS</td>\n",
       "      <td>TOMAS</td>\n",
       "      <td>2010-10-31 00:00:00</td>\n",
       "      <td>TS</td>\n",
       "      <td>13.50</td>\n",
       "      <td>-61.70</td>\n",
       "      <td>85.0</td>\n",
       "      <td>982.0</td>\n",
       "      <td>atcf</td>\n",
       "      <td>87.293</td>\n",
       "      <td>80.573</td>\n",
       "      <td>main</td>\n",
       "    </tr>\n",
       "    <tr>\n",
       "      <th>180716</th>\n",
       "      <td>2010302N09306</td>\n",
       "      <td>2010</td>\n",
       "      <td>19</td>\n",
       "      <td>NA</td>\n",
       "      <td>CS</td>\n",
       "      <td>TOMAS</td>\n",
       "      <td>2010-10-31 06:00:00</td>\n",
       "      <td>TS</td>\n",
       "      <td>13.80</td>\n",
       "      <td>-62.40</td>\n",
       "      <td>85.0</td>\n",
       "      <td>983.0</td>\n",
       "      <td>atcf</td>\n",
       "      <td>87.293</td>\n",
       "      <td>79.778</td>\n",
       "      <td>main</td>\n",
       "    </tr>\n",
       "    <tr>\n",
       "      <th>180717</th>\n",
       "      <td>2010302N09306</td>\n",
       "      <td>2010</td>\n",
       "      <td>19</td>\n",
       "      <td>NA</td>\n",
       "      <td>CS</td>\n",
       "      <td>TOMAS</td>\n",
       "      <td>2010-10-31 12:00:00</td>\n",
       "      <td>TS</td>\n",
       "      <td>14.00</td>\n",
       "      <td>-63.30</td>\n",
       "      <td>80.0</td>\n",
       "      <td>988.0</td>\n",
       "      <td>atcf</td>\n",
       "      <td>85.026</td>\n",
       "      <td>73.886</td>\n",
       "      <td>main</td>\n",
       "    </tr>\n",
       "    <tr>\n",
       "      <th>180718</th>\n",
       "      <td>2010302N09306</td>\n",
       "      <td>2010</td>\n",
       "      <td>19</td>\n",
       "      <td>NA</td>\n",
       "      <td>CS</td>\n",
       "      <td>TOMAS</td>\n",
       "      <td>2010-10-31 18:00:00</td>\n",
       "      <td>TS</td>\n",
       "      <td>14.20</td>\n",
       "      <td>-64.40</td>\n",
       "      <td>65.0</td>\n",
       "      <td>994.0</td>\n",
       "      <td>atcf</td>\n",
       "      <td>73.828</td>\n",
       "      <td>65.329</td>\n",
       "      <td>main</td>\n",
       "    </tr>\n",
       "  </tbody>\n",
       "</table>\n",
       "</div>"
      ],
      "text/plain": [
       "           Serial_Num Season Num Basin Sub_basin   Name             ISO_time  \\\n",
       "180706  2010302N09306   2010  19    NA        NA  TOMAS  2010-10-29 06:00:00   \n",
       "180707  2010302N09306   2010  19    NA        NA  TOMAS  2010-10-29 12:00:00   \n",
       "180708  2010302N09306   2010  19    NA        NA  TOMAS  2010-10-29 18:00:00   \n",
       "180709  2010302N09306   2010  19    NA        NA  TOMAS  2010-10-30 00:00:00   \n",
       "180710  2010302N09306   2010  19    NA        NA  TOMAS  2010-10-30 06:00:00   \n",
       "180711  2010302N09306   2010  19    NA        CS  TOMAS  2010-10-30 09:00:00   \n",
       "180712  2010302N09306   2010  19    NA        CS  TOMAS  2010-10-30 12:00:00   \n",
       "180713  2010302N09306   2010  19    NA        CS  TOMAS  2010-10-30 18:00:00   \n",
       "180714  2010302N09306   2010  19    NA        CS  TOMAS  2010-10-30 20:00:00   \n",
       "180715  2010302N09306   2010  19    NA        CS  TOMAS  2010-10-31 00:00:00   \n",
       "180716  2010302N09306   2010  19    NA        CS  TOMAS  2010-10-31 06:00:00   \n",
       "180717  2010302N09306   2010  19    NA        CS  TOMAS  2010-10-31 12:00:00   \n",
       "180718  2010302N09306   2010  19    NA        CS  TOMAS  2010-10-31 18:00:00   \n",
       "\n",
       "       Nature Latitude Longitude Wind(WMO) Pres(WMO) Center  \\\n",
       "180706     TS     9.00    -53.70      30.0    1006.0   atcf   \n",
       "180707     TS     9.80    -55.30      35.0    1003.0   atcf   \n",
       "180708     TS    10.80    -56.80      45.0     998.0   atcf   \n",
       "180709     TS    11.90    -57.80      55.0     999.0   atcf   \n",
       "180710     TS    12.70    -58.90      60.0     997.0   atcf   \n",
       "180711     TS    13.00    -59.50      60.0     997.0   atcf   \n",
       "180712     TS    13.10    -60.10      65.0     993.0   atcf   \n",
       "180713     TS    13.30    -61.00      80.0     990.0   atcf   \n",
       "180714     TS    13.40    -61.20      85.0     987.0   atcf   \n",
       "180715     TS    13.50    -61.70      85.0     982.0   atcf   \n",
       "180716     TS    13.80    -62.40      85.0     983.0   atcf   \n",
       "180717     TS    14.00    -63.30      80.0     988.0   atcf   \n",
       "180718     TS    14.20    -64.40      65.0     994.0   atcf   \n",
       "\n",
       "       Wind(WMO) Percentile Pres(WMO) Percentile Track_type  \n",
       "180706               17.564               26.787       main  \n",
       "180707               32.605               41.881       main  \n",
       "180708               50.354               57.575       main  \n",
       "180709               64.336               55.831       main  \n",
       "180710               69.665               59.549       main  \n",
       "180711               69.665               59.549       main  \n",
       "180712               73.828               67.865       main  \n",
       "180713               85.026               71.117       main  \n",
       "180714               87.293               74.957       main  \n",
       "180715               87.293               80.573       main  \n",
       "180716               87.293               79.778       main  \n",
       "180717               85.026               73.886       main  \n",
       "180718               73.828               65.329       main  "
      ]
     },
     "execution_count": 19,
     "metadata": {},
     "output_type": "execute_result"
    }
   ],
   "source": [
    "hur1[:13]"
   ]
  },
  {
   "cell_type": "code",
   "execution_count": 20,
   "metadata": {
    "collapsed": false
   },
   "outputs": [
    {
     "data": {
      "text/html": [
       "<iframe src=\"data:text/html;base64,PGhlYWQ+CiAgICA8c2NyaXB0IHNyYz0iaHR0cHM6Ly9jZG5qcy5jbG91ZGZsYXJlLmNvbS9hamF4L2xpYnMvbGVhZmxldC8wLjcuMy9sZWFmbGV0LmpzIj48L3NjcmlwdD4KICAgIDxsaW5rIHJlbD0ic3R5bGVzaGVldCIgaHJlZj0iaHR0cHM6Ly9jZG5qcy5jbG91ZGZsYXJlLmNvbS9hamF4L2xpYnMvbGVhZmxldC8wLjcuMy9sZWFmbGV0LmNzcyIgLz4KICA8c3R5bGU+CiAgICAjbWFwNDVmYzUyOTMxYTQ4NGU5OTlkY2ZmNDAwY2ViYzAzOGUgewogICAgICBoZWlnaHQ6MTAwJTsKICAgIH0KICA8L3N0eWxlPiAKPC9oZWFkPgo8Ym9keT4KICA8ZGl2IGlkPSJtYXA0NWZjNTI5MzFhNDg0ZTk5OWRjZmY0MDBjZWJjMDM4ZSI+PC9kaXY+CjxzY3JpcHQgdGV4dD0idGV4dC9qYXZhc2NyaXB0Ij4KdmFyIG1hcCA9IEwubWFwKCdtYXA0NWZjNTI5MzFhNDg0ZTk5OWRjZmY0MDBjZWJjMDM4ZScpOwpMLnRpbGVMYXllcigKICAiaHR0cDovL3tzfS50aWxlLm9wZW5zdHJlZXRtYXAub3JnL3t6fS97eH0ve3l9LnBuZyIsCiAge21heFpvb206MTksIGF0dHJpYnV0aW9uOiAnPGEgaHJlZj0iaHR0cHM6Ly9naXRodWIuY29tL2p3YXNzL21wbGxlYWZsZXQiPm1wbGxlYWZsZXQ8L2E+IHwgTWFwIGRhdGEgKGMpIDxhIGhyZWY9Imh0dHA6Ly9vcGVuc3RyZWV0bWFwLm9yZyI+T3BlblN0cmVldE1hcDwvYT4gY29udHJpYnV0b3JzJ30pLmFkZFRvKG1hcCk7CnZhciBnakRhdGEgPSB7InR5cGUiOiAiRmVhdHVyZUNvbGxlY3Rpb24iLCAiZmVhdHVyZXMiOiBbeyJnZW9tZXRyeSI6IHsidHlwZSI6ICJMaW5lU3RyaW5nIiwgImNvb3JkaW5hdGVzIjogW1stNTMuNywgOS4wXSwgWy01NS4zLCA5LjhdLCBbLTU2LjgsIDEwLjhdLCBbLTU3LjgsIDExLjldLCBbLTU4LjksIDEyLjddLCBbLTU5LjUsIDEzLjBdLCBbLTYwLjEsIDEzLjFdLCBbLTYxLjAsIDEzLjNdLCBbLTYxLjIsIDEzLjRdLCBbLTYxLjcsIDEzLjVdLCBbLTYyLjQsIDEzLjhdLCBbLTYzLjMsIDE0LjBdLCBbLTY0LjQsIDE0LjJdLCBbLTY1LjgsIDE0LjFdLCBbLTY3LjEsIDEzLjldLCBbLTY4LjIsIDEzLjZdLCBbLTY5LjIsIDEzLjVdLCBbLTcwLjMsIDEzLjVdLCBbLTcxLjQsIDEzLjVdLCBbLTcyLjUsIDEzLjVdLCBbLTczLjQsIDEzLjZdLCBbLTczLjksIDEzLjhdLCBbLTc0LjMsIDE0LjBdLCBbLTc0LjcsIDE0LjNdLCBbLTc1LjEsIDE0LjddLCBbLTc1LjUsIDE1LjFdLCBbLTc1LjksIDE1LjVdLCBbLTc2LjIsIDE1LjldLCBbLTc2LjIsIDE2LjRdLCBbLTc1LjcsIDE3LjBdLCBbLTc1LjIsIDE3LjddLCBbLTc0LjcsIDE4LjddLCBbLTc0LjAsIDE5LjddLCBbLTczLjEsIDIwLjRdLCBbLTcxLjgsIDIxLjRdLCBbLTcxLjYsIDIxLjddLCBbLTcwLjksIDIyLjZdLCBbLTcwLjMsIDIzLjhdLCBbLTY5LjgsIDI0LjldLCBbLTY5LjYsIDI1LjRdLCBbLTY5LjUsIDI1LjddLCBbLTY5LjMsIDI2LjBdLCBbLTY4LjUsIDI2LjBdLCBbLTY3LjUsIDI1LjhdLCBbLTY2LjIsIDI1LjZdLCBbLTY0LjUsIDI1LjhdLCBbLTYyLjMsIDI2LjVdLCBbLTYwLjQsIDI3LjldLCBbLTU4LjYsIDI5LjRdLCBbLTU2LjksIDMxLjBdLCBbLTU1LjQsIDMzLjNdLCBbLTU0LjAsIDM2LjBdLCBbLTUzLjUsIDM5LjBdLCBbLTUzLjUsIDQyLjBdXX0sICJ0eXBlIjogIkZlYXR1cmUiLCAicHJvcGVydGllcyI6IHsiY29sb3IiOiAiIzAwMDBGRiIsICJvcGFjaXR5IjogMSwgImRhc2hBcnJheSI6ICI2LDYiLCAid2VpZ2h0IjogMS4wfX0sIHsiZ2VvbWV0cnkiOiB7InR5cGUiOiAiUG9pbnQiLCAiY29vcmRpbmF0ZXMiOiBbLTUzLjcwMDAwMDAwMDAwMDAwMywgOS4wXX0sICJ0eXBlIjogIkZlYXR1cmUiLCAicHJvcGVydGllcyI6IHsiYW5jaG9yX3giOiA0LjAsICJodG1sIjogIjxzdmcgd2lkdGg9XCI4cHhcIiBoZWlnaHQ9XCI4cHhcIiB2aWV3Qm94PVwiLTQuMCAtNC4wIDguMCA4LjBcIiB4bWxucz1cImh0dHA6Ly93d3cudzMub3JnLzIwMDAvc3ZnXCIgdmVyc2lvbj1cIjEuMVwiPiAgPHBhdGggZD1cIk0gMC4wIC0zLjAgQyAwLjc5NTYwOTMgLTMuMCAxLjU1ODczOTYxMjM1IC0yLjY4MzkwMTA3NDc2IDIuMTIxMzIwMzQzNTYgLTIuMTIxMzIwMzQzNTYgQyAyLjY4MzkwMTA3NDc2IC0xLjU1ODczOTYxMjM1IDMuMCAtMC43OTU2MDkzIDMuMCAtMC4wIEMgMy4wIDAuNzk1NjA5MyAyLjY4MzkwMTA3NDc2IDEuNTU4NzM5NjEyMzUgMi4xMjEzMjAzNDM1NiAyLjEyMTMyMDM0MzU2IEMgMS41NTg3Mzk2MTIzNSAyLjY4MzkwMTA3NDc2IDAuNzk1NjA5MyAzLjAgMC4wIDMuMCBDIC0wLjc5NTYwOTMgMy4wIC0xLjU1ODczOTYxMjM1IDIuNjgzOTAxMDc0NzYgLTIuMTIxMzIwMzQzNTYgMi4xMjEzMjAzNDM1NiBDIC0yLjY4MzkwMTA3NDc2IDEuNTU4NzM5NjEyMzUgLTMuMCAwLjc5NTYwOTMgLTMuMCAtMC4wIEMgLTMuMCAtMC43OTU2MDkzIC0yLjY4MzkwMTA3NDc2IC0xLjU1ODczOTYxMjM1IC0yLjEyMTMyMDM0MzU2IC0yLjEyMTMyMDM0MzU2IEMgLTEuNTU4NzM5NjEyMzUgLTIuNjgzOTAxMDc0NzYgLTAuNzk1NjA5MyAtMy4wIDAuMCAtMy4wIFpcIiBmaWxsLW9wYWNpdHk9XCIxXCIgc3Ryb2tlPVwiIzAwMDAwMFwiIHN0cm9rZS13aWR0aD1cIjAuNVwiIHN0cm9rZS1vcGFjaXR5PVwiMVwiIGZpbGw9XCIjMDAwMEZGXCIgLz48L3N2Zz4iLCAiYW5jaG9yX3kiOiA0LjB9fSwgeyJnZW9tZXRyeSI6IHsidHlwZSI6ICJQb2ludCIsICJjb29yZGluYXRlcyI6IFstNTUuMjk5OTk5OTk5OTk5OTk3LCA5LjgwMDAwMDAwMDAwMDAwMDddfSwgInR5cGUiOiAiRmVhdHVyZSIsICJwcm9wZXJ0aWVzIjogeyJhbmNob3JfeCI6IDQuMCwgImh0bWwiOiAiPHN2ZyB3aWR0aD1cIjhweFwiIGhlaWdodD1cIjhweFwiIHZpZXdCb3g9XCItNC4wIC00LjAgOC4wIDguMFwiIHhtbG5zPVwiaHR0cDovL3d3dy53My5vcmcvMjAwMC9zdmdcIiB2ZXJzaW9uPVwiMS4xXCI+ICA8cGF0aCBkPVwiTSAwLjAgLTMuMCBDIDAuNzk1NjA5MyAtMy4wIDEuNTU4NzM5NjEyMzUgLTIuNjgzOTAxMDc0NzYgMi4xMjEzMjAzNDM1NiAtMi4xMjEzMjAzNDM1NiBDIDIuNjgzOTAxMDc0NzYgLTEuNTU4NzM5NjEyMzUgMy4wIC0wLjc5NTYwOTMgMy4wIC0wLjAgQyAzLjAgMC43OTU2MDkzIDIuNjgzOTAxMDc0NzYgMS41NTg3Mzk2MTIzNSAyLjEyMTMyMDM0MzU2IDIuMTIxMzIwMzQzNTYgQyAxLjU1ODczOTYxMjM1IDIuNjgzOTAxMDc0NzYgMC43OTU2MDkzIDMuMCAwLjAgMy4wIEMgLTAuNzk1NjA5MyAzLjAgLTEuNTU4NzM5NjEyMzUgMi42ODM5MDEwNzQ3NiAtMi4xMjEzMjAzNDM1NiAyLjEyMTMyMDM0MzU2IEMgLTIuNjgzOTAxMDc0NzYgMS41NTg3Mzk2MTIzNSAtMy4wIDAuNzk1NjA5MyAtMy4wIC0wLjAgQyAtMy4wIC0wLjc5NTYwOTMgLTIuNjgzOTAxMDc0NzYgLTEuNTU4NzM5NjEyMzUgLTIuMTIxMzIwMzQzNTYgLTIuMTIxMzIwMzQzNTYgQyAtMS41NTg3Mzk2MTIzNSAtMi42ODM5MDEwNzQ3NiAtMC43OTU2MDkzIC0zLjAgMC4wIC0zLjAgWlwiIGZpbGwtb3BhY2l0eT1cIjFcIiBzdHJva2U9XCIjMDAwMDAwXCIgc3Ryb2tlLXdpZHRoPVwiMC41XCIgc3Ryb2tlLW9wYWNpdHk9XCIxXCIgZmlsbD1cIiMwMDAwRkZcIiAvPjwvc3ZnPiIsICJhbmNob3JfeSI6IDQuMH19LCB7Imdlb21ldHJ5IjogeyJ0eXBlIjogIlBvaW50IiwgImNvb3JkaW5hdGVzIjogWy01Ni43OTk5OTk5OTk5OTk5OTcsIDEwLjgwMDAwMDAwMDAwMDAwMV19LCAidHlwZSI6ICJGZWF0dXJlIiwgInByb3BlcnRpZXMiOiB7ImFuY2hvcl94IjogNC4wLCAiaHRtbCI6ICI8c3ZnIHdpZHRoPVwiOHB4XCIgaGVpZ2h0PVwiOHB4XCIgdmlld0JveD1cIi00LjAgLTQuMCA4LjAgOC4wXCIgeG1sbnM9XCJodHRwOi8vd3d3LnczLm9yZy8yMDAwL3N2Z1wiIHZlcnNpb249XCIxLjFcIj4gIDxwYXRoIGQ9XCJNIDAuMCAtMy4wIEMgMC43OTU2MDkzIC0zLjAgMS41NTg3Mzk2MTIzNSAtMi42ODM5MDEwNzQ3NiAyLjEyMTMyMDM0MzU2IC0yLjEyMTMyMDM0MzU2IEMgMi42ODM5MDEwNzQ3NiAtMS41NTg3Mzk2MTIzNSAzLjAgLTAuNzk1NjA5MyAzLjAgLTAuMCBDIDMuMCAwLjc5NTYwOTMgMi42ODM5MDEwNzQ3NiAxLjU1ODczOTYxMjM1IDIuMTIxMzIwMzQzNTYgMi4xMjEzMjAzNDM1NiBDIDEuNTU4NzM5NjEyMzUgMi42ODM5MDEwNzQ3NiAwLjc5NTYwOTMgMy4wIDAuMCAzLjAgQyAtMC43OTU2MDkzIDMuMCAtMS41NTg3Mzk2MTIzNSAyLjY4MzkwMTA3NDc2IC0yLjEyMTMyMDM0MzU2IDIuMTIxMzIwMzQzNTYgQyAtMi42ODM5MDEwNzQ3NiAxLjU1ODczOTYxMjM1IC0zLjAgMC43OTU2MDkzIC0zLjAgLTAuMCBDIC0zLjAgLTAuNzk1NjA5MyAtMi42ODM5MDEwNzQ3NiAtMS41NTg3Mzk2MTIzNSAtMi4xMjEzMjAzNDM1NiAtMi4xMjEzMjAzNDM1NiBDIC0xLjU1ODczOTYxMjM1IC0yLjY4MzkwMTA3NDc2IC0wLjc5NTYwOTMgLTMuMCAwLjAgLTMuMCBaXCIgZmlsbC1vcGFjaXR5PVwiMVwiIHN0cm9rZT1cIiMwMDAwMDBcIiBzdHJva2Utd2lkdGg9XCIwLjVcIiBzdHJva2Utb3BhY2l0eT1cIjFcIiBmaWxsPVwiIzAwMDBGRlwiIC8+PC9zdmc+IiwgImFuY2hvcl95IjogNC4wfX0sIHsiZ2VvbWV0cnkiOiB7InR5cGUiOiAiUG9pbnQiLCAiY29vcmRpbmF0ZXMiOiBbLTU3Ljc5OTk5OTk5OTk5OTk5NywgMTEuOV19LCAidHlwZSI6ICJGZWF0dXJlIiwgInByb3BlcnRpZXMiOiB7ImFuY2hvcl94IjogNC4wLCAiaHRtbCI6ICI8c3ZnIHdpZHRoPVwiOHB4XCIgaGVpZ2h0PVwiOHB4XCIgdmlld0JveD1cIi00LjAgLTQuMCA4LjAgOC4wXCIgeG1sbnM9XCJodHRwOi8vd3d3LnczLm9yZy8yMDAwL3N2Z1wiIHZlcnNpb249XCIxLjFcIj4gIDxwYXRoIGQ9XCJNIDAuMCAtMy4wIEMgMC43OTU2MDkzIC0zLjAgMS41NTg3Mzk2MTIzNSAtMi42ODM5MDEwNzQ3NiAyLjEyMTMyMDM0MzU2IC0yLjEyMTMyMDM0MzU2IEMgMi42ODM5MDEwNzQ3NiAtMS41NTg3Mzk2MTIzNSAzLjAgLTAuNzk1NjA5MyAzLjAgLTAuMCBDIDMuMCAwLjc5NTYwOTMgMi42ODM5MDEwNzQ3NiAxLjU1ODczOTYxMjM1IDIuMTIxMzIwMzQzNTYgMi4xMjEzMjAzNDM1NiBDIDEuNTU4NzM5NjEyMzUgMi42ODM5MDEwNzQ3NiAwLjc5NTYwOTMgMy4wIDAuMCAzLjAgQyAtMC43OTU2MDkzIDMuMCAtMS41NTg3Mzk2MTIzNSAyLjY4MzkwMTA3NDc2IC0yLjEyMTMyMDM0MzU2IDIuMTIxMzIwMzQzNTYgQyAtMi42ODM5MDEwNzQ3NiAxLjU1ODczOTYxMjM1IC0zLjAgMC43OTU2MDkzIC0zLjAgLTAuMCBDIC0zLjAgLTAuNzk1NjA5MyAtMi42ODM5MDEwNzQ3NiAtMS41NTg3Mzk2MTIzNSAtMi4xMjEzMjAzNDM1NiAtMi4xMjEzMjAzNDM1NiBDIC0xLjU1ODczOTYxMjM1IC0yLjY4MzkwMTA3NDc2IC0wLjc5NTYwOTMgLTMuMCAwLjAgLTMuMCBaXCIgZmlsbC1vcGFjaXR5PVwiMVwiIHN0cm9rZT1cIiMwMDAwMDBcIiBzdHJva2Utd2lkdGg9XCIwLjVcIiBzdHJva2Utb3BhY2l0eT1cIjFcIiBmaWxsPVwiIzAwMDBGRlwiIC8+PC9zdmc+IiwgImFuY2hvcl95IjogNC4wfX0sIHsiZ2VvbWV0cnkiOiB7InR5cGUiOiAiUG9pbnQiLCAiY29vcmRpbmF0ZXMiOiBbLTU4Ljg5OTk5OTk5OTk5OTk5OSwgMTIuNjk5OTk5OTk5OTk5OTk5XX0sICJ0eXBlIjogIkZlYXR1cmUiLCAicHJvcGVydGllcyI6IHsiYW5jaG9yX3giOiA0LjAsICJodG1sIjogIjxzdmcgd2lkdGg9XCI4cHhcIiBoZWlnaHQ9XCI4cHhcIiB2aWV3Qm94PVwiLTQuMCAtNC4wIDguMCA4LjBcIiB4bWxucz1cImh0dHA6Ly93d3cudzMub3JnLzIwMDAvc3ZnXCIgdmVyc2lvbj1cIjEuMVwiPiAgPHBhdGggZD1cIk0gMC4wIC0zLjAgQyAwLjc5NTYwOTMgLTMuMCAxLjU1ODczOTYxMjM1IC0yLjY4MzkwMTA3NDc2IDIuMTIxMzIwMzQzNTYgLTIuMTIxMzIwMzQzNTYgQyAyLjY4MzkwMTA3NDc2IC0xLjU1ODczOTYxMjM1IDMuMCAtMC43OTU2MDkzIDMuMCAtMC4wIEMgMy4wIDAuNzk1NjA5MyAyLjY4MzkwMTA3NDc2IDEuNTU4NzM5NjEyMzUgMi4xMjEzMjAzNDM1NiAyLjEyMTMyMDM0MzU2IEMgMS41NTg3Mzk2MTIzNSAyLjY4MzkwMTA3NDc2IDAuNzk1NjA5MyAzLjAgMC4wIDMuMCBDIC0wLjc5NTYwOTMgMy4wIC0xLjU1ODczOTYxMjM1IDIuNjgzOTAxMDc0NzYgLTIuMTIxMzIwMzQzNTYgMi4xMjEzMjAzNDM1NiBDIC0yLjY4MzkwMTA3NDc2IDEuNTU4NzM5NjEyMzUgLTMuMCAwLjc5NTYwOTMgLTMuMCAtMC4wIEMgLTMuMCAtMC43OTU2MDkzIC0yLjY4MzkwMTA3NDc2IC0xLjU1ODczOTYxMjM1IC0yLjEyMTMyMDM0MzU2IC0yLjEyMTMyMDM0MzU2IEMgLTEuNTU4NzM5NjEyMzUgLTIuNjgzOTAxMDc0NzYgLTAuNzk1NjA5MyAtMy4wIDAuMCAtMy4wIFpcIiBmaWxsLW9wYWNpdHk9XCIxXCIgc3Ryb2tlPVwiIzAwMDAwMFwiIHN0cm9rZS13aWR0aD1cIjAuNVwiIHN0cm9rZS1vcGFjaXR5PVwiMVwiIGZpbGw9XCIjMDAwMEZGXCIgLz48L3N2Zz4iLCAiYW5jaG9yX3kiOiA0LjB9fSwgeyJnZW9tZXRyeSI6IHsidHlwZSI6ICJQb2ludCIsICJjb29yZGluYXRlcyI6IFstNTkuNSwgMTMuMF19LCAidHlwZSI6ICJGZWF0dXJlIiwgInByb3BlcnRpZXMiOiB7ImFuY2hvcl94IjogNC4wLCAiaHRtbCI6ICI8c3ZnIHdpZHRoPVwiOHB4XCIgaGVpZ2h0PVwiOHB4XCIgdmlld0JveD1cIi00LjAgLTQuMCA4LjAgOC4wXCIgeG1sbnM9XCJodHRwOi8vd3d3LnczLm9yZy8yMDAwL3N2Z1wiIHZlcnNpb249XCIxLjFcIj4gIDxwYXRoIGQ9XCJNIDAuMCAtMy4wIEMgMC43OTU2MDkzIC0zLjAgMS41NTg3Mzk2MTIzNSAtMi42ODM5MDEwNzQ3NiAyLjEyMTMyMDM0MzU2IC0yLjEyMTMyMDM0MzU2IEMgMi42ODM5MDEwNzQ3NiAtMS41NTg3Mzk2MTIzNSAzLjAgLTAuNzk1NjA5MyAzLjAgLTAuMCBDIDMuMCAwLjc5NTYwOTMgMi42ODM5MDEwNzQ3NiAxLjU1ODczOTYxMjM1IDIuMTIxMzIwMzQzNTYgMi4xMjEzMjAzNDM1NiBDIDEuNTU4NzM5NjEyMzUgMi42ODM5MDEwNzQ3NiAwLjc5NTYwOTMgMy4wIDAuMCAzLjAgQyAtMC43OTU2MDkzIDMuMCAtMS41NTg3Mzk2MTIzNSAyLjY4MzkwMTA3NDc2IC0yLjEyMTMyMDM0MzU2IDIuMTIxMzIwMzQzNTYgQyAtMi42ODM5MDEwNzQ3NiAxLjU1ODczOTYxMjM1IC0zLjAgMC43OTU2MDkzIC0zLjAgLTAuMCBDIC0zLjAgLTAuNzk1NjA5MyAtMi42ODM5MDEwNzQ3NiAtMS41NTg3Mzk2MTIzNSAtMi4xMjEzMjAzNDM1NiAtMi4xMjEzMjAzNDM1NiBDIC0xLjU1ODczOTYxMjM1IC0yLjY4MzkwMTA3NDc2IC0wLjc5NTYwOTMgLTMuMCAwLjAgLTMuMCBaXCIgZmlsbC1vcGFjaXR5PVwiMVwiIHN0cm9rZT1cIiMwMDAwMDBcIiBzdHJva2Utd2lkdGg9XCIwLjVcIiBzdHJva2Utb3BhY2l0eT1cIjFcIiBmaWxsPVwiIzAwMDBGRlwiIC8+PC9zdmc+IiwgImFuY2hvcl95IjogNC4wfX0sIHsiZ2VvbWV0cnkiOiB7InR5cGUiOiAiUG9pbnQiLCAiY29vcmRpbmF0ZXMiOiBbLTYwLjEwMDAwMDAwMDAwMDAwMSwgMTMuMV19LCAidHlwZSI6ICJGZWF0dXJlIiwgInByb3BlcnRpZXMiOiB7ImFuY2hvcl94IjogNC4wLCAiaHRtbCI6ICI8c3ZnIHdpZHRoPVwiOHB4XCIgaGVpZ2h0PVwiOHB4XCIgdmlld0JveD1cIi00LjAgLTQuMCA4LjAgOC4wXCIgeG1sbnM9XCJodHRwOi8vd3d3LnczLm9yZy8yMDAwL3N2Z1wiIHZlcnNpb249XCIxLjFcIj4gIDxwYXRoIGQ9XCJNIDAuMCAtMy4wIEMgMC43OTU2MDkzIC0zLjAgMS41NTg3Mzk2MTIzNSAtMi42ODM5MDEwNzQ3NiAyLjEyMTMyMDM0MzU2IC0yLjEyMTMyMDM0MzU2IEMgMi42ODM5MDEwNzQ3NiAtMS41NTg3Mzk2MTIzNSAzLjAgLTAuNzk1NjA5MyAzLjAgLTAuMCBDIDMuMCAwLjc5NTYwOTMgMi42ODM5MDEwNzQ3NiAxLjU1ODczOTYxMjM1IDIuMTIxMzIwMzQzNTYgMi4xMjEzMjAzNDM1NiBDIDEuNTU4NzM5NjEyMzUgMi42ODM5MDEwNzQ3NiAwLjc5NTYwOTMgMy4wIDAuMCAzLjAgQyAtMC43OTU2MDkzIDMuMCAtMS41NTg3Mzk2MTIzNSAyLjY4MzkwMTA3NDc2IC0yLjEyMTMyMDM0MzU2IDIuMTIxMzIwMzQzNTYgQyAtMi42ODM5MDEwNzQ3NiAxLjU1ODczOTYxMjM1IC0zLjAgMC43OTU2MDkzIC0zLjAgLTAuMCBDIC0zLjAgLTAuNzk1NjA5MyAtMi42ODM5MDEwNzQ3NiAtMS41NTg3Mzk2MTIzNSAtMi4xMjEzMjAzNDM1NiAtMi4xMjEzMjAzNDM1NiBDIC0xLjU1ODczOTYxMjM1IC0yLjY4MzkwMTA3NDc2IC0wLjc5NTYwOTMgLTMuMCAwLjAgLTMuMCBaXCIgZmlsbC1vcGFjaXR5PVwiMVwiIHN0cm9rZT1cIiMwMDAwMDBcIiBzdHJva2Utd2lkdGg9XCIwLjVcIiBzdHJva2Utb3BhY2l0eT1cIjFcIiBmaWxsPVwiIzAwMDBGRlwiIC8+PC9zdmc+IiwgImFuY2hvcl95IjogNC4wfX0sIHsiZ2VvbWV0cnkiOiB7InR5cGUiOiAiUG9pbnQiLCAiY29vcmRpbmF0ZXMiOiBbLTYxLjAsIDEzLjMwMDAwMDAwMDAwMDAwMV19LCAidHlwZSI6ICJGZWF0dXJlIiwgInByb3BlcnRpZXMiOiB7ImFuY2hvcl94IjogNC4wLCAiaHRtbCI6ICI8c3ZnIHdpZHRoPVwiOHB4XCIgaGVpZ2h0PVwiOHB4XCIgdmlld0JveD1cIi00LjAgLTQuMCA4LjAgOC4wXCIgeG1sbnM9XCJodHRwOi8vd3d3LnczLm9yZy8yMDAwL3N2Z1wiIHZlcnNpb249XCIxLjFcIj4gIDxwYXRoIGQ9XCJNIDAuMCAtMy4wIEMgMC43OTU2MDkzIC0zLjAgMS41NTg3Mzk2MTIzNSAtMi42ODM5MDEwNzQ3NiAyLjEyMTMyMDM0MzU2IC0yLjEyMTMyMDM0MzU2IEMgMi42ODM5MDEwNzQ3NiAtMS41NTg3Mzk2MTIzNSAzLjAgLTAuNzk1NjA5MyAzLjAgLTAuMCBDIDMuMCAwLjc5NTYwOTMgMi42ODM5MDEwNzQ3NiAxLjU1ODczOTYxMjM1IDIuMTIxMzIwMzQzNTYgMi4xMjEzMjAzNDM1NiBDIDEuNTU4NzM5NjEyMzUgMi42ODM5MDEwNzQ3NiAwLjc5NTYwOTMgMy4wIDAuMCAzLjAgQyAtMC43OTU2MDkzIDMuMCAtMS41NTg3Mzk2MTIzNSAyLjY4MzkwMTA3NDc2IC0yLjEyMTMyMDM0MzU2IDIuMTIxMzIwMzQzNTYgQyAtMi42ODM5MDEwNzQ3NiAxLjU1ODczOTYxMjM1IC0zLjAgMC43OTU2MDkzIC0zLjAgLTAuMCBDIC0zLjAgLTAuNzk1NjA5MyAtMi42ODM5MDEwNzQ3NiAtMS41NTg3Mzk2MTIzNSAtMi4xMjEzMjAzNDM1NiAtMi4xMjEzMjAzNDM1NiBDIC0xLjU1ODczOTYxMjM1IC0yLjY4MzkwMTA3NDc2IC0wLjc5NTYwOTMgLTMuMCAwLjAgLTMuMCBaXCIgZmlsbC1vcGFjaXR5PVwiMVwiIHN0cm9rZT1cIiMwMDAwMDBcIiBzdHJva2Utd2lkdGg9XCIwLjVcIiBzdHJva2Utb3BhY2l0eT1cIjFcIiBmaWxsPVwiIzAwMDBGRlwiIC8+PC9zdmc+IiwgImFuY2hvcl95IjogNC4wfX0sIHsiZ2VvbWV0cnkiOiB7InR5cGUiOiAiUG9pbnQiLCAiY29vcmRpbmF0ZXMiOiBbLTYxLjIwMDAwMDAwMDAwMDAwMywgMTMuNF19LCAidHlwZSI6ICJGZWF0dXJlIiwgInByb3BlcnRpZXMiOiB7ImFuY2hvcl94IjogNC4wLCAiaHRtbCI6ICI8c3ZnIHdpZHRoPVwiOHB4XCIgaGVpZ2h0PVwiOHB4XCIgdmlld0JveD1cIi00LjAgLTQuMCA4LjAgOC4wXCIgeG1sbnM9XCJodHRwOi8vd3d3LnczLm9yZy8yMDAwL3N2Z1wiIHZlcnNpb249XCIxLjFcIj4gIDxwYXRoIGQ9XCJNIDAuMCAtMy4wIEMgMC43OTU2MDkzIC0zLjAgMS41NTg3Mzk2MTIzNSAtMi42ODM5MDEwNzQ3NiAyLjEyMTMyMDM0MzU2IC0yLjEyMTMyMDM0MzU2IEMgMi42ODM5MDEwNzQ3NiAtMS41NTg3Mzk2MTIzNSAzLjAgLTAuNzk1NjA5MyAzLjAgLTAuMCBDIDMuMCAwLjc5NTYwOTMgMi42ODM5MDEwNzQ3NiAxLjU1ODczOTYxMjM1IDIuMTIxMzIwMzQzNTYgMi4xMjEzMjAzNDM1NiBDIDEuNTU4NzM5NjEyMzUgMi42ODM5MDEwNzQ3NiAwLjc5NTYwOTMgMy4wIDAuMCAzLjAgQyAtMC43OTU2MDkzIDMuMCAtMS41NTg3Mzk2MTIzNSAyLjY4MzkwMTA3NDc2IC0yLjEyMTMyMDM0MzU2IDIuMTIxMzIwMzQzNTYgQyAtMi42ODM5MDEwNzQ3NiAxLjU1ODczOTYxMjM1IC0zLjAgMC43OTU2MDkzIC0zLjAgLTAuMCBDIC0zLjAgLTAuNzk1NjA5MyAtMi42ODM5MDEwNzQ3NiAtMS41NTg3Mzk2MTIzNSAtMi4xMjEzMjAzNDM1NiAtMi4xMjEzMjAzNDM1NiBDIC0xLjU1ODczOTYxMjM1IC0yLjY4MzkwMTA3NDc2IC0wLjc5NTYwOTMgLTMuMCAwLjAgLTMuMCBaXCIgZmlsbC1vcGFjaXR5PVwiMVwiIHN0cm9rZT1cIiMwMDAwMDBcIiBzdHJva2Utd2lkdGg9XCIwLjVcIiBzdHJva2Utb3BhY2l0eT1cIjFcIiBmaWxsPVwiIzAwMDBGRlwiIC8+PC9zdmc+IiwgImFuY2hvcl95IjogNC4wfX0sIHsiZ2VvbWV0cnkiOiB7InR5cGUiOiAiUG9pbnQiLCAiY29vcmRpbmF0ZXMiOiBbLTYxLjcwMDAwMDAwMDAwMDAwMywgMTMuNV19LCAidHlwZSI6ICJGZWF0dXJlIiwgInByb3BlcnRpZXMiOiB7ImFuY2hvcl94IjogNC4wLCAiaHRtbCI6ICI8c3ZnIHdpZHRoPVwiOHB4XCIgaGVpZ2h0PVwiOHB4XCIgdmlld0JveD1cIi00LjAgLTQuMCA4LjAgOC4wXCIgeG1sbnM9XCJodHRwOi8vd3d3LnczLm9yZy8yMDAwL3N2Z1wiIHZlcnNpb249XCIxLjFcIj4gIDxwYXRoIGQ9XCJNIDAuMCAtMy4wIEMgMC43OTU2MDkzIC0zLjAgMS41NTg3Mzk2MTIzNSAtMi42ODM5MDEwNzQ3NiAyLjEyMTMyMDM0MzU2IC0yLjEyMTMyMDM0MzU2IEMgMi42ODM5MDEwNzQ3NiAtMS41NTg3Mzk2MTIzNSAzLjAgLTAuNzk1NjA5MyAzLjAgLTAuMCBDIDMuMCAwLjc5NTYwOTMgMi42ODM5MDEwNzQ3NiAxLjU1ODczOTYxMjM1IDIuMTIxMzIwMzQzNTYgMi4xMjEzMjAzNDM1NiBDIDEuNTU4NzM5NjEyMzUgMi42ODM5MDEwNzQ3NiAwLjc5NTYwOTMgMy4wIDAuMCAzLjAgQyAtMC43OTU2MDkzIDMuMCAtMS41NTg3Mzk2MTIzNSAyLjY4MzkwMTA3NDc2IC0yLjEyMTMyMDM0MzU2IDIuMTIxMzIwMzQzNTYgQyAtMi42ODM5MDEwNzQ3NiAxLjU1ODczOTYxMjM1IC0zLjAgMC43OTU2MDkzIC0zLjAgLTAuMCBDIC0zLjAgLTAuNzk1NjA5MyAtMi42ODM5MDEwNzQ3NiAtMS41NTg3Mzk2MTIzNSAtMi4xMjEzMjAzNDM1NiAtMi4xMjEzMjAzNDM1NiBDIC0xLjU1ODczOTYxMjM1IC0yLjY4MzkwMTA3NDc2IC0wLjc5NTYwOTMgLTMuMCAwLjAgLTMuMCBaXCIgZmlsbC1vcGFjaXR5PVwiMVwiIHN0cm9rZT1cIiMwMDAwMDBcIiBzdHJva2Utd2lkdGg9XCIwLjVcIiBzdHJva2Utb3BhY2l0eT1cIjFcIiBmaWxsPVwiIzAwMDBGRlwiIC8+PC9zdmc+IiwgImFuY2hvcl95IjogNC4wfX0sIHsiZ2VvbWV0cnkiOiB7InR5cGUiOiAiUG9pbnQiLCAiY29vcmRpbmF0ZXMiOiBbLTYyLjM5OTk5OTk5OTk5OTk5OSwgMTMuODAwMDAwMDAwMDAwMDAxXX0sICJ0eXBlIjogIkZlYXR1cmUiLCAicHJvcGVydGllcyI6IHsiYW5jaG9yX3giOiA0LjAsICJodG1sIjogIjxzdmcgd2lkdGg9XCI4cHhcIiBoZWlnaHQ9XCI4cHhcIiB2aWV3Qm94PVwiLTQuMCAtNC4wIDguMCA4LjBcIiB4bWxucz1cImh0dHA6Ly93d3cudzMub3JnLzIwMDAvc3ZnXCIgdmVyc2lvbj1cIjEuMVwiPiAgPHBhdGggZD1cIk0gMC4wIC0zLjAgQyAwLjc5NTYwOTMgLTMuMCAxLjU1ODczOTYxMjM1IC0yLjY4MzkwMTA3NDc2IDIuMTIxMzIwMzQzNTYgLTIuMTIxMzIwMzQzNTYgQyAyLjY4MzkwMTA3NDc2IC0xLjU1ODczOTYxMjM1IDMuMCAtMC43OTU2MDkzIDMuMCAtMC4wIEMgMy4wIDAuNzk1NjA5MyAyLjY4MzkwMTA3NDc2IDEuNTU4NzM5NjEyMzUgMi4xMjEzMjAzNDM1NiAyLjEyMTMyMDM0MzU2IEMgMS41NTg3Mzk2MTIzNSAyLjY4MzkwMTA3NDc2IDAuNzk1NjA5MyAzLjAgMC4wIDMuMCBDIC0wLjc5NTYwOTMgMy4wIC0xLjU1ODczOTYxMjM1IDIuNjgzOTAxMDc0NzYgLTIuMTIxMzIwMzQzNTYgMi4xMjEzMjAzNDM1NiBDIC0yLjY4MzkwMTA3NDc2IDEuNTU4NzM5NjEyMzUgLTMuMCAwLjc5NTYwOTMgLTMuMCAtMC4wIEMgLTMuMCAtMC43OTU2MDkzIC0yLjY4MzkwMTA3NDc2IC0xLjU1ODczOTYxMjM1IC0yLjEyMTMyMDM0MzU2IC0yLjEyMTMyMDM0MzU2IEMgLTEuNTU4NzM5NjEyMzUgLTIuNjgzOTAxMDc0NzYgLTAuNzk1NjA5MyAtMy4wIDAuMCAtMy4wIFpcIiBmaWxsLW9wYWNpdHk9XCIxXCIgc3Ryb2tlPVwiIzAwMDAwMFwiIHN0cm9rZS13aWR0aD1cIjAuNVwiIHN0cm9rZS1vcGFjaXR5PVwiMVwiIGZpbGw9XCIjMDAwMEZGXCIgLz48L3N2Zz4iLCAiYW5jaG9yX3kiOiA0LjB9fSwgeyJnZW9tZXRyeSI6IHsidHlwZSI6ICJQb2ludCIsICJjb29yZGluYXRlcyI6IFstNjMuMjk5OTk5OTk5OTk5OTk3LCAxNC4wXX0sICJ0eXBlIjogIkZlYXR1cmUiLCAicHJvcGVydGllcyI6IHsiYW5jaG9yX3giOiA0LjAsICJodG1sIjogIjxzdmcgd2lkdGg9XCI4cHhcIiBoZWlnaHQ9XCI4cHhcIiB2aWV3Qm94PVwiLTQuMCAtNC4wIDguMCA4LjBcIiB4bWxucz1cImh0dHA6Ly93d3cudzMub3JnLzIwMDAvc3ZnXCIgdmVyc2lvbj1cIjEuMVwiPiAgPHBhdGggZD1cIk0gMC4wIC0zLjAgQyAwLjc5NTYwOTMgLTMuMCAxLjU1ODczOTYxMjM1IC0yLjY4MzkwMTA3NDc2IDIuMTIxMzIwMzQzNTYgLTIuMTIxMzIwMzQzNTYgQyAyLjY4MzkwMTA3NDc2IC0xLjU1ODczOTYxMjM1IDMuMCAtMC43OTU2MDkzIDMuMCAtMC4wIEMgMy4wIDAuNzk1NjA5MyAyLjY4MzkwMTA3NDc2IDEuNTU4NzM5NjEyMzUgMi4xMjEzMjAzNDM1NiAyLjEyMTMyMDM0MzU2IEMgMS41NTg3Mzk2MTIzNSAyLjY4MzkwMTA3NDc2IDAuNzk1NjA5MyAzLjAgMC4wIDMuMCBDIC0wLjc5NTYwOTMgMy4wIC0xLjU1ODczOTYxMjM1IDIuNjgzOTAxMDc0NzYgLTIuMTIxMzIwMzQzNTYgMi4xMjEzMjAzNDM1NiBDIC0yLjY4MzkwMTA3NDc2IDEuNTU4NzM5NjEyMzUgLTMuMCAwLjc5NTYwOTMgLTMuMCAtMC4wIEMgLTMuMCAtMC43OTU2MDkzIC0yLjY4MzkwMTA3NDc2IC0xLjU1ODczOTYxMjM1IC0yLjEyMTMyMDM0MzU2IC0yLjEyMTMyMDM0MzU2IEMgLTEuNTU4NzM5NjEyMzUgLTIuNjgzOTAxMDc0NzYgLTAuNzk1NjA5MyAtMy4wIDAuMCAtMy4wIFpcIiBmaWxsLW9wYWNpdHk9XCIxXCIgc3Ryb2tlPVwiIzAwMDAwMFwiIHN0cm9rZS13aWR0aD1cIjAuNVwiIHN0cm9rZS1vcGFjaXR5PVwiMVwiIGZpbGw9XCIjMDAwMEZGXCIgLz48L3N2Zz4iLCAiYW5jaG9yX3kiOiA0LjB9fSwgeyJnZW9tZXRyeSI6IHsidHlwZSI6ICJQb2ludCIsICJjb29yZGluYXRlcyI6IFstNjQuNDAwMDAwMDAwMDAwMDA2LCAxNC4xOTk5OTk5OTk5OTk5OTldfSwgInR5cGUiOiAiRmVhdHVyZSIsICJwcm9wZXJ0aWVzIjogeyJhbmNob3JfeCI6IDQuMCwgImh0bWwiOiAiPHN2ZyB3aWR0aD1cIjhweFwiIGhlaWdodD1cIjhweFwiIHZpZXdCb3g9XCItNC4wIC00LjAgOC4wIDguMFwiIHhtbG5zPVwiaHR0cDovL3d3dy53My5vcmcvMjAwMC9zdmdcIiB2ZXJzaW9uPVwiMS4xXCI+ICA8cGF0aCBkPVwiTSAwLjAgLTMuMCBDIDAuNzk1NjA5MyAtMy4wIDEuNTU4NzM5NjEyMzUgLTIuNjgzOTAxMDc0NzYgMi4xMjEzMjAzNDM1NiAtMi4xMjEzMjAzNDM1NiBDIDIuNjgzOTAxMDc0NzYgLTEuNTU4NzM5NjEyMzUgMy4wIC0wLjc5NTYwOTMgMy4wIC0wLjAgQyAzLjAgMC43OTU2MDkzIDIuNjgzOTAxMDc0NzYgMS41NTg3Mzk2MTIzNSAyLjEyMTMyMDM0MzU2IDIuMTIxMzIwMzQzNTYgQyAxLjU1ODczOTYxMjM1IDIuNjgzOTAxMDc0NzYgMC43OTU2MDkzIDMuMCAwLjAgMy4wIEMgLTAuNzk1NjA5MyAzLjAgLTEuNTU4NzM5NjEyMzUgMi42ODM5MDEwNzQ3NiAtMi4xMjEzMjAzNDM1NiAyLjEyMTMyMDM0MzU2IEMgLTIuNjgzOTAxMDc0NzYgMS41NTg3Mzk2MTIzNSAtMy4wIDAuNzk1NjA5MyAtMy4wIC0wLjAgQyAtMy4wIC0wLjc5NTYwOTMgLTIuNjgzOTAxMDc0NzYgLTEuNTU4NzM5NjEyMzUgLTIuMTIxMzIwMzQzNTYgLTIuMTIxMzIwMzQzNTYgQyAtMS41NTg3Mzk2MTIzNSAtMi42ODM5MDEwNzQ3NiAtMC43OTU2MDkzIC0zLjAgMC4wIC0zLjAgWlwiIGZpbGwtb3BhY2l0eT1cIjFcIiBzdHJva2U9XCIjMDAwMDAwXCIgc3Ryb2tlLXdpZHRoPVwiMC41XCIgc3Ryb2tlLW9wYWNpdHk9XCIxXCIgZmlsbD1cIiMwMDAwRkZcIiAvPjwvc3ZnPiIsICJhbmNob3JfeSI6IDQuMH19LCB7Imdlb21ldHJ5IjogeyJ0eXBlIjogIlBvaW50IiwgImNvb3JkaW5hdGVzIjogWy02NS43OTk5OTk5OTk5OTk5OTcsIDE0LjFdfSwgInR5cGUiOiAiRmVhdHVyZSIsICJwcm9wZXJ0aWVzIjogeyJhbmNob3JfeCI6IDQuMCwgImh0bWwiOiAiPHN2ZyB3aWR0aD1cIjhweFwiIGhlaWdodD1cIjhweFwiIHZpZXdCb3g9XCItNC4wIC00LjAgOC4wIDguMFwiIHhtbG5zPVwiaHR0cDovL3d3dy53My5vcmcvMjAwMC9zdmdcIiB2ZXJzaW9uPVwiMS4xXCI+ICA8cGF0aCBkPVwiTSAwLjAgLTMuMCBDIDAuNzk1NjA5MyAtMy4wIDEuNTU4NzM5NjEyMzUgLTIuNjgzOTAxMDc0NzYgMi4xMjEzMjAzNDM1NiAtMi4xMjEzMjAzNDM1NiBDIDIuNjgzOTAxMDc0NzYgLTEuNTU4NzM5NjEyMzUgMy4wIC0wLjc5NTYwOTMgMy4wIC0wLjAgQyAzLjAgMC43OTU2MDkzIDIuNjgzOTAxMDc0NzYgMS41NTg3Mzk2MTIzNSAyLjEyMTMyMDM0MzU2IDIuMTIxMzIwMzQzNTYgQyAxLjU1ODczOTYxMjM1IDIuNjgzOTAxMDc0NzYgMC43OTU2MDkzIDMuMCAwLjAgMy4wIEMgLTAuNzk1NjA5MyAzLjAgLTEuNTU4NzM5NjEyMzUgMi42ODM5MDEwNzQ3NiAtMi4xMjEzMjAzNDM1NiAyLjEyMTMyMDM0MzU2IEMgLTIuNjgzOTAxMDc0NzYgMS41NTg3Mzk2MTIzNSAtMy4wIDAuNzk1NjA5MyAtMy4wIC0wLjAgQyAtMy4wIC0wLjc5NTYwOTMgLTIuNjgzOTAxMDc0NzYgLTEuNTU4NzM5NjEyMzUgLTIuMTIxMzIwMzQzNTYgLTIuMTIxMzIwMzQzNTYgQyAtMS41NTg3Mzk2MTIzNSAtMi42ODM5MDEwNzQ3NiAtMC43OTU2MDkzIC0zLjAgMC4wIC0zLjAgWlwiIGZpbGwtb3BhY2l0eT1cIjFcIiBzdHJva2U9XCIjMDAwMDAwXCIgc3Ryb2tlLXdpZHRoPVwiMC41XCIgc3Ryb2tlLW9wYWNpdHk9XCIxXCIgZmlsbD1cIiMwMDAwRkZcIiAvPjwvc3ZnPiIsICJhbmNob3JfeSI6IDQuMH19LCB7Imdlb21ldHJ5IjogeyJ0eXBlIjogIlBvaW50IiwgImNvb3JkaW5hdGVzIjogWy02Ny4wOTk5OTk5OTk5OTk5OTQsIDEzLjldfSwgInR5cGUiOiAiRmVhdHVyZSIsICJwcm9wZXJ0aWVzIjogeyJhbmNob3JfeCI6IDQuMCwgImh0bWwiOiAiPHN2ZyB3aWR0aD1cIjhweFwiIGhlaWdodD1cIjhweFwiIHZpZXdCb3g9XCItNC4wIC00LjAgOC4wIDguMFwiIHhtbG5zPVwiaHR0cDovL3d3dy53My5vcmcvMjAwMC9zdmdcIiB2ZXJzaW9uPVwiMS4xXCI+ICA8cGF0aCBkPVwiTSAwLjAgLTMuMCBDIDAuNzk1NjA5MyAtMy4wIDEuNTU4NzM5NjEyMzUgLTIuNjgzOTAxMDc0NzYgMi4xMjEzMjAzNDM1NiAtMi4xMjEzMjAzNDM1NiBDIDIuNjgzOTAxMDc0NzYgLTEuNTU4NzM5NjEyMzUgMy4wIC0wLjc5NTYwOTMgMy4wIC0wLjAgQyAzLjAgMC43OTU2MDkzIDIuNjgzOTAxMDc0NzYgMS41NTg3Mzk2MTIzNSAyLjEyMTMyMDM0MzU2IDIuMTIxMzIwMzQzNTYgQyAxLjU1ODczOTYxMjM1IDIuNjgzOTAxMDc0NzYgMC43OTU2MDkzIDMuMCAwLjAgMy4wIEMgLTAuNzk1NjA5MyAzLjAgLTEuNTU4NzM5NjEyMzUgMi42ODM5MDEwNzQ3NiAtMi4xMjEzMjAzNDM1NiAyLjEyMTMyMDM0MzU2IEMgLTIuNjgzOTAxMDc0NzYgMS41NTg3Mzk2MTIzNSAtMy4wIDAuNzk1NjA5MyAtMy4wIC0wLjAgQyAtMy4wIC0wLjc5NTYwOTMgLTIuNjgzOTAxMDc0NzYgLTEuNTU4NzM5NjEyMzUgLTIuMTIxMzIwMzQzNTYgLTIuMTIxMzIwMzQzNTYgQyAtMS41NTg3Mzk2MTIzNSAtMi42ODM5MDEwNzQ3NiAtMC43OTU2MDkzIC0zLjAgMC4wIC0zLjAgWlwiIGZpbGwtb3BhY2l0eT1cIjFcIiBzdHJva2U9XCIjMDAwMDAwXCIgc3Ryb2tlLXdpZHRoPVwiMC41XCIgc3Ryb2tlLW9wYWNpdHk9XCIxXCIgZmlsbD1cIiMwMDAwRkZcIiAvPjwvc3ZnPiIsICJhbmNob3JfeSI6IDQuMH19LCB7Imdlb21ldHJ5IjogeyJ0eXBlIjogIlBvaW50IiwgImNvb3JkaW5hdGVzIjogWy02OC4yMDAwMDAwMDAwMDAwMDMsIDEzLjZdfSwgInR5cGUiOiAiRmVhdHVyZSIsICJwcm9wZXJ0aWVzIjogeyJhbmNob3JfeCI6IDQuMCwgImh0bWwiOiAiPHN2ZyB3aWR0aD1cIjhweFwiIGhlaWdodD1cIjhweFwiIHZpZXdCb3g9XCItNC4wIC00LjAgOC4wIDguMFwiIHhtbG5zPVwiaHR0cDovL3d3dy53My5vcmcvMjAwMC9zdmdcIiB2ZXJzaW9uPVwiMS4xXCI+ICA8cGF0aCBkPVwiTSAwLjAgLTMuMCBDIDAuNzk1NjA5MyAtMy4wIDEuNTU4NzM5NjEyMzUgLTIuNjgzOTAxMDc0NzYgMi4xMjEzMjAzNDM1NiAtMi4xMjEzMjAzNDM1NiBDIDIuNjgzOTAxMDc0NzYgLTEuNTU4NzM5NjEyMzUgMy4wIC0wLjc5NTYwOTMgMy4wIC0wLjAgQyAzLjAgMC43OTU2MDkzIDIuNjgzOTAxMDc0NzYgMS41NTg3Mzk2MTIzNSAyLjEyMTMyMDM0MzU2IDIuMTIxMzIwMzQzNTYgQyAxLjU1ODczOTYxMjM1IDIuNjgzOTAxMDc0NzYgMC43OTU2MDkzIDMuMCAwLjAgMy4wIEMgLTAuNzk1NjA5MyAzLjAgLTEuNTU4NzM5NjEyMzUgMi42ODM5MDEwNzQ3NiAtMi4xMjEzMjAzNDM1NiAyLjEyMTMyMDM0MzU2IEMgLTIuNjgzOTAxMDc0NzYgMS41NTg3Mzk2MTIzNSAtMy4wIDAuNzk1NjA5MyAtMy4wIC0wLjAgQyAtMy4wIC0wLjc5NTYwOTMgLTIuNjgzOTAxMDc0NzYgLTEuNTU4NzM5NjEyMzUgLTIuMTIxMzIwMzQzNTYgLTIuMTIxMzIwMzQzNTYgQyAtMS41NTg3Mzk2MTIzNSAtMi42ODM5MDEwNzQ3NiAtMC43OTU2MDkzIC0zLjAgMC4wIC0zLjAgWlwiIGZpbGwtb3BhY2l0eT1cIjFcIiBzdHJva2U9XCIjMDAwMDAwXCIgc3Ryb2tlLXdpZHRoPVwiMC41XCIgc3Ryb2tlLW9wYWNpdHk9XCIxXCIgZmlsbD1cIiMwMDAwRkZcIiAvPjwvc3ZnPiIsICJhbmNob3JfeSI6IDQuMH19LCB7Imdlb21ldHJ5IjogeyJ0eXBlIjogIlBvaW50IiwgImNvb3JkaW5hdGVzIjogWy02OS4yMDAwMDAwMDAwMDAwMDMsIDEzLjVdfSwgInR5cGUiOiAiRmVhdHVyZSIsICJwcm9wZXJ0aWVzIjogeyJhbmNob3JfeCI6IDQuMCwgImh0bWwiOiAiPHN2ZyB3aWR0aD1cIjhweFwiIGhlaWdodD1cIjhweFwiIHZpZXdCb3g9XCItNC4wIC00LjAgOC4wIDguMFwiIHhtbG5zPVwiaHR0cDovL3d3dy53My5vcmcvMjAwMC9zdmdcIiB2ZXJzaW9uPVwiMS4xXCI+ICA8cGF0aCBkPVwiTSAwLjAgLTMuMCBDIDAuNzk1NjA5MyAtMy4wIDEuNTU4NzM5NjEyMzUgLTIuNjgzOTAxMDc0NzYgMi4xMjEzMjAzNDM1NiAtMi4xMjEzMjAzNDM1NiBDIDIuNjgzOTAxMDc0NzYgLTEuNTU4NzM5NjEyMzUgMy4wIC0wLjc5NTYwOTMgMy4wIC0wLjAgQyAzLjAgMC43OTU2MDkzIDIuNjgzOTAxMDc0NzYgMS41NTg3Mzk2MTIzNSAyLjEyMTMyMDM0MzU2IDIuMTIxMzIwMzQzNTYgQyAxLjU1ODczOTYxMjM1IDIuNjgzOTAxMDc0NzYgMC43OTU2MDkzIDMuMCAwLjAgMy4wIEMgLTAuNzk1NjA5MyAzLjAgLTEuNTU4NzM5NjEyMzUgMi42ODM5MDEwNzQ3NiAtMi4xMjEzMjAzNDM1NiAyLjEyMTMyMDM0MzU2IEMgLTIuNjgzOTAxMDc0NzYgMS41NTg3Mzk2MTIzNSAtMy4wIDAuNzk1NjA5MyAtMy4wIC0wLjAgQyAtMy4wIC0wLjc5NTYwOTMgLTIuNjgzOTAxMDc0NzYgLTEuNTU4NzM5NjEyMzUgLTIuMTIxMzIwMzQzNTYgLTIuMTIxMzIwMzQzNTYgQyAtMS41NTg3Mzk2MTIzNSAtMi42ODM5MDEwNzQ3NiAtMC43OTU2MDkzIC0zLjAgMC4wIC0zLjAgWlwiIGZpbGwtb3BhY2l0eT1cIjFcIiBzdHJva2U9XCIjMDAwMDAwXCIgc3Ryb2tlLXdpZHRoPVwiMC41XCIgc3Ryb2tlLW9wYWNpdHk9XCIxXCIgZmlsbD1cIiMwMDAwRkZcIiAvPjwvc3ZnPiIsICJhbmNob3JfeSI6IDQuMH19LCB7Imdlb21ldHJ5IjogeyJ0eXBlIjogIlBvaW50IiwgImNvb3JkaW5hdGVzIjogWy03MC4yOTk5OTk5OTk5OTk5OTcsIDEzLjVdfSwgInR5cGUiOiAiRmVhdHVyZSIsICJwcm9wZXJ0aWVzIjogeyJhbmNob3JfeCI6IDQuMCwgImh0bWwiOiAiPHN2ZyB3aWR0aD1cIjhweFwiIGhlaWdodD1cIjhweFwiIHZpZXdCb3g9XCItNC4wIC00LjAgOC4wIDguMFwiIHhtbG5zPVwiaHR0cDovL3d3dy53My5vcmcvMjAwMC9zdmdcIiB2ZXJzaW9uPVwiMS4xXCI+ICA8cGF0aCBkPVwiTSAwLjAgLTMuMCBDIDAuNzk1NjA5MyAtMy4wIDEuNTU4NzM5NjEyMzUgLTIuNjgzOTAxMDc0NzYgMi4xMjEzMjAzNDM1NiAtMi4xMjEzMjAzNDM1NiBDIDIuNjgzOTAxMDc0NzYgLTEuNTU4NzM5NjEyMzUgMy4wIC0wLjc5NTYwOTMgMy4wIC0wLjAgQyAzLjAgMC43OTU2MDkzIDIuNjgzOTAxMDc0NzYgMS41NTg3Mzk2MTIzNSAyLjEyMTMyMDM0MzU2IDIuMTIxMzIwMzQzNTYgQyAxLjU1ODczOTYxMjM1IDIuNjgzOTAxMDc0NzYgMC43OTU2MDkzIDMuMCAwLjAgMy4wIEMgLTAuNzk1NjA5MyAzLjAgLTEuNTU4NzM5NjEyMzUgMi42ODM5MDEwNzQ3NiAtMi4xMjEzMjAzNDM1NiAyLjEyMTMyMDM0MzU2IEMgLTIuNjgzOTAxMDc0NzYgMS41NTg3Mzk2MTIzNSAtMy4wIDAuNzk1NjA5MyAtMy4wIC0wLjAgQyAtMy4wIC0wLjc5NTYwOTMgLTIuNjgzOTAxMDc0NzYgLTEuNTU4NzM5NjEyMzUgLTIuMTIxMzIwMzQzNTYgLTIuMTIxMzIwMzQzNTYgQyAtMS41NTg3Mzk2MTIzNSAtMi42ODM5MDEwNzQ3NiAtMC43OTU2MDkzIC0zLjAgMC4wIC0zLjAgWlwiIGZpbGwtb3BhY2l0eT1cIjFcIiBzdHJva2U9XCIjMDAwMDAwXCIgc3Ryb2tlLXdpZHRoPVwiMC41XCIgc3Ryb2tlLW9wYWNpdHk9XCIxXCIgZmlsbD1cIiMwMDAwRkZcIiAvPjwvc3ZnPiIsICJhbmNob3JfeSI6IDQuMH19LCB7Imdlb21ldHJ5IjogeyJ0eXBlIjogIlBvaW50IiwgImNvb3JkaW5hdGVzIjogWy03MS40MDAwMDAwMDAwMDAwMDYsIDEzLjVdfSwgInR5cGUiOiAiRmVhdHVyZSIsICJwcm9wZXJ0aWVzIjogeyJhbmNob3JfeCI6IDQuMCwgImh0bWwiOiAiPHN2ZyB3aWR0aD1cIjhweFwiIGhlaWdodD1cIjhweFwiIHZpZXdCb3g9XCItNC4wIC00LjAgOC4wIDguMFwiIHhtbG5zPVwiaHR0cDovL3d3dy53My5vcmcvMjAwMC9zdmdcIiB2ZXJzaW9uPVwiMS4xXCI+ICA8cGF0aCBkPVwiTSAwLjAgLTMuMCBDIDAuNzk1NjA5MyAtMy4wIDEuNTU4NzM5NjEyMzUgLTIuNjgzOTAxMDc0NzYgMi4xMjEzMjAzNDM1NiAtMi4xMjEzMjAzNDM1NiBDIDIuNjgzOTAxMDc0NzYgLTEuNTU4NzM5NjEyMzUgMy4wIC0wLjc5NTYwOTMgMy4wIC0wLjAgQyAzLjAgMC43OTU2MDkzIDIuNjgzOTAxMDc0NzYgMS41NTg3Mzk2MTIzNSAyLjEyMTMyMDM0MzU2IDIuMTIxMzIwMzQzNTYgQyAxLjU1ODczOTYxMjM1IDIuNjgzOTAxMDc0NzYgMC43OTU2MDkzIDMuMCAwLjAgMy4wIEMgLTAuNzk1NjA5MyAzLjAgLTEuNTU4NzM5NjEyMzUgMi42ODM5MDEwNzQ3NiAtMi4xMjEzMjAzNDM1NiAyLjEyMTMyMDM0MzU2IEMgLTIuNjgzOTAxMDc0NzYgMS41NTg3Mzk2MTIzNSAtMy4wIDAuNzk1NjA5MyAtMy4wIC0wLjAgQyAtMy4wIC0wLjc5NTYwOTMgLTIuNjgzOTAxMDc0NzYgLTEuNTU4NzM5NjEyMzUgLTIuMTIxMzIwMzQzNTYgLTIuMTIxMzIwMzQzNTYgQyAtMS41NTg3Mzk2MTIzNSAtMi42ODM5MDEwNzQ3NiAtMC43OTU2MDkzIC0zLjAgMC4wIC0zLjAgWlwiIGZpbGwtb3BhY2l0eT1cIjFcIiBzdHJva2U9XCIjMDAwMDAwXCIgc3Ryb2tlLXdpZHRoPVwiMC41XCIgc3Ryb2tlLW9wYWNpdHk9XCIxXCIgZmlsbD1cIiMwMDAwRkZcIiAvPjwvc3ZnPiIsICJhbmNob3JfeSI6IDQuMH19LCB7Imdlb21ldHJ5IjogeyJ0eXBlIjogIlBvaW50IiwgImNvb3JkaW5hdGVzIjogWy03Mi41LCAxMy41XX0sICJ0eXBlIjogIkZlYXR1cmUiLCAicHJvcGVydGllcyI6IHsiYW5jaG9yX3giOiA0LjAsICJodG1sIjogIjxzdmcgd2lkdGg9XCI4cHhcIiBoZWlnaHQ9XCI4cHhcIiB2aWV3Qm94PVwiLTQuMCAtNC4wIDguMCA4LjBcIiB4bWxucz1cImh0dHA6Ly93d3cudzMub3JnLzIwMDAvc3ZnXCIgdmVyc2lvbj1cIjEuMVwiPiAgPHBhdGggZD1cIk0gMC4wIC0zLjAgQyAwLjc5NTYwOTMgLTMuMCAxLjU1ODczOTYxMjM1IC0yLjY4MzkwMTA3NDc2IDIuMTIxMzIwMzQzNTYgLTIuMTIxMzIwMzQzNTYgQyAyLjY4MzkwMTA3NDc2IC0xLjU1ODczOTYxMjM1IDMuMCAtMC43OTU2MDkzIDMuMCAtMC4wIEMgMy4wIDAuNzk1NjA5MyAyLjY4MzkwMTA3NDc2IDEuNTU4NzM5NjEyMzUgMi4xMjEzMjAzNDM1NiAyLjEyMTMyMDM0MzU2IEMgMS41NTg3Mzk2MTIzNSAyLjY4MzkwMTA3NDc2IDAuNzk1NjA5MyAzLjAgMC4wIDMuMCBDIC0wLjc5NTYwOTMgMy4wIC0xLjU1ODczOTYxMjM1IDIuNjgzOTAxMDc0NzYgLTIuMTIxMzIwMzQzNTYgMi4xMjEzMjAzNDM1NiBDIC0yLjY4MzkwMTA3NDc2IDEuNTU4NzM5NjEyMzUgLTMuMCAwLjc5NTYwOTMgLTMuMCAtMC4wIEMgLTMuMCAtMC43OTU2MDkzIC0yLjY4MzkwMTA3NDc2IC0xLjU1ODczOTYxMjM1IC0yLjEyMTMyMDM0MzU2IC0yLjEyMTMyMDM0MzU2IEMgLTEuNTU4NzM5NjEyMzUgLTIuNjgzOTAxMDc0NzYgLTAuNzk1NjA5MyAtMy4wIDAuMCAtMy4wIFpcIiBmaWxsLW9wYWNpdHk9XCIxXCIgc3Ryb2tlPVwiIzAwMDAwMFwiIHN0cm9rZS13aWR0aD1cIjAuNVwiIHN0cm9rZS1vcGFjaXR5PVwiMVwiIGZpbGw9XCIjMDAwMEZGXCIgLz48L3N2Zz4iLCAiYW5jaG9yX3kiOiA0LjB9fSwgeyJnZW9tZXRyeSI6IHsidHlwZSI6ICJQb2ludCIsICJjb29yZGluYXRlcyI6IFstNzMuNDAwMDAwMDAwMDAwMDA2LCAxMy42XX0sICJ0eXBlIjogIkZlYXR1cmUiLCAicHJvcGVydGllcyI6IHsiYW5jaG9yX3giOiA0LjAsICJodG1sIjogIjxzdmcgd2lkdGg9XCI4cHhcIiBoZWlnaHQ9XCI4cHhcIiB2aWV3Qm94PVwiLTQuMCAtNC4wIDguMCA4LjBcIiB4bWxucz1cImh0dHA6Ly93d3cudzMub3JnLzIwMDAvc3ZnXCIgdmVyc2lvbj1cIjEuMVwiPiAgPHBhdGggZD1cIk0gMC4wIC0zLjAgQyAwLjc5NTYwOTMgLTMuMCAxLjU1ODczOTYxMjM1IC0yLjY4MzkwMTA3NDc2IDIuMTIxMzIwMzQzNTYgLTIuMTIxMzIwMzQzNTYgQyAyLjY4MzkwMTA3NDc2IC0xLjU1ODczOTYxMjM1IDMuMCAtMC43OTU2MDkzIDMuMCAtMC4wIEMgMy4wIDAuNzk1NjA5MyAyLjY4MzkwMTA3NDc2IDEuNTU4NzM5NjEyMzUgMi4xMjEzMjAzNDM1NiAyLjEyMTMyMDM0MzU2IEMgMS41NTg3Mzk2MTIzNSAyLjY4MzkwMTA3NDc2IDAuNzk1NjA5MyAzLjAgMC4wIDMuMCBDIC0wLjc5NTYwOTMgMy4wIC0xLjU1ODczOTYxMjM1IDIuNjgzOTAxMDc0NzYgLTIuMTIxMzIwMzQzNTYgMi4xMjEzMjAzNDM1NiBDIC0yLjY4MzkwMTA3NDc2IDEuNTU4NzM5NjEyMzUgLTMuMCAwLjc5NTYwOTMgLTMuMCAtMC4wIEMgLTMuMCAtMC43OTU2MDkzIC0yLjY4MzkwMTA3NDc2IC0xLjU1ODczOTYxMjM1IC0yLjEyMTMyMDM0MzU2IC0yLjEyMTMyMDM0MzU2IEMgLTEuNTU4NzM5NjEyMzUgLTIuNjgzOTAxMDc0NzYgLTAuNzk1NjA5MyAtMy4wIDAuMCAtMy4wIFpcIiBmaWxsLW9wYWNpdHk9XCIxXCIgc3Ryb2tlPVwiIzAwMDAwMFwiIHN0cm9rZS13aWR0aD1cIjAuNVwiIHN0cm9rZS1vcGFjaXR5PVwiMVwiIGZpbGw9XCIjMDAwMEZGXCIgLz48L3N2Zz4iLCAiYW5jaG9yX3kiOiA0LjB9fSwgeyJnZW9tZXRyeSI6IHsidHlwZSI6ICJQb2ludCIsICJjb29yZGluYXRlcyI6IFstNzMuOTAwMDAwMDAwMDAwMDA2LCAxMy44MDAwMDAwMDAwMDAwMDFdfSwgInR5cGUiOiAiRmVhdHVyZSIsICJwcm9wZXJ0aWVzIjogeyJhbmNob3JfeCI6IDQuMCwgImh0bWwiOiAiPHN2ZyB3aWR0aD1cIjhweFwiIGhlaWdodD1cIjhweFwiIHZpZXdCb3g9XCItNC4wIC00LjAgOC4wIDguMFwiIHhtbG5zPVwiaHR0cDovL3d3dy53My5vcmcvMjAwMC9zdmdcIiB2ZXJzaW9uPVwiMS4xXCI+ICA8cGF0aCBkPVwiTSAwLjAgLTMuMCBDIDAuNzk1NjA5MyAtMy4wIDEuNTU4NzM5NjEyMzUgLTIuNjgzOTAxMDc0NzYgMi4xMjEzMjAzNDM1NiAtMi4xMjEzMjAzNDM1NiBDIDIuNjgzOTAxMDc0NzYgLTEuNTU4NzM5NjEyMzUgMy4wIC0wLjc5NTYwOTMgMy4wIC0wLjAgQyAzLjAgMC43OTU2MDkzIDIuNjgzOTAxMDc0NzYgMS41NTg3Mzk2MTIzNSAyLjEyMTMyMDM0MzU2IDIuMTIxMzIwMzQzNTYgQyAxLjU1ODczOTYxMjM1IDIuNjgzOTAxMDc0NzYgMC43OTU2MDkzIDMuMCAwLjAgMy4wIEMgLTAuNzk1NjA5MyAzLjAgLTEuNTU4NzM5NjEyMzUgMi42ODM5MDEwNzQ3NiAtMi4xMjEzMjAzNDM1NiAyLjEyMTMyMDM0MzU2IEMgLTIuNjgzOTAxMDc0NzYgMS41NTg3Mzk2MTIzNSAtMy4wIDAuNzk1NjA5MyAtMy4wIC0wLjAgQyAtMy4wIC0wLjc5NTYwOTMgLTIuNjgzOTAxMDc0NzYgLTEuNTU4NzM5NjEyMzUgLTIuMTIxMzIwMzQzNTYgLTIuMTIxMzIwMzQzNTYgQyAtMS41NTg3Mzk2MTIzNSAtMi42ODM5MDEwNzQ3NiAtMC43OTU2MDkzIC0zLjAgMC4wIC0zLjAgWlwiIGZpbGwtb3BhY2l0eT1cIjFcIiBzdHJva2U9XCIjMDAwMDAwXCIgc3Ryb2tlLXdpZHRoPVwiMC41XCIgc3Ryb2tlLW9wYWNpdHk9XCIxXCIgZmlsbD1cIiMwMDAwRkZcIiAvPjwvc3ZnPiIsICJhbmNob3JfeSI6IDQuMH19LCB7Imdlb21ldHJ5IjogeyJ0eXBlIjogIlBvaW50IiwgImNvb3JkaW5hdGVzIjogWy03NC4yOTk5OTk5OTk5OTk5OTcsIDE0LjBdfSwgInR5cGUiOiAiRmVhdHVyZSIsICJwcm9wZXJ0aWVzIjogeyJhbmNob3JfeCI6IDQuMCwgImh0bWwiOiAiPHN2ZyB3aWR0aD1cIjhweFwiIGhlaWdodD1cIjhweFwiIHZpZXdCb3g9XCItNC4wIC00LjAgOC4wIDguMFwiIHhtbG5zPVwiaHR0cDovL3d3dy53My5vcmcvMjAwMC9zdmdcIiB2ZXJzaW9uPVwiMS4xXCI+ICA8cGF0aCBkPVwiTSAwLjAgLTMuMCBDIDAuNzk1NjA5MyAtMy4wIDEuNTU4NzM5NjEyMzUgLTIuNjgzOTAxMDc0NzYgMi4xMjEzMjAzNDM1NiAtMi4xMjEzMjAzNDM1NiBDIDIuNjgzOTAxMDc0NzYgLTEuNTU4NzM5NjEyMzUgMy4wIC0wLjc5NTYwOTMgMy4wIC0wLjAgQyAzLjAgMC43OTU2MDkzIDIuNjgzOTAxMDc0NzYgMS41NTg3Mzk2MTIzNSAyLjEyMTMyMDM0MzU2IDIuMTIxMzIwMzQzNTYgQyAxLjU1ODczOTYxMjM1IDIuNjgzOTAxMDc0NzYgMC43OTU2MDkzIDMuMCAwLjAgMy4wIEMgLTAuNzk1NjA5MyAzLjAgLTEuNTU4NzM5NjEyMzUgMi42ODM5MDEwNzQ3NiAtMi4xMjEzMjAzNDM1NiAyLjEyMTMyMDM0MzU2IEMgLTIuNjgzOTAxMDc0NzYgMS41NTg3Mzk2MTIzNSAtMy4wIDAuNzk1NjA5MyAtMy4wIC0wLjAgQyAtMy4wIC0wLjc5NTYwOTMgLTIuNjgzOTAxMDc0NzYgLTEuNTU4NzM5NjEyMzUgLTIuMTIxMzIwMzQzNTYgLTIuMTIxMzIwMzQzNTYgQyAtMS41NTg3Mzk2MTIzNSAtMi42ODM5MDEwNzQ3NiAtMC43OTU2MDkzIC0zLjAgMC4wIC0zLjAgWlwiIGZpbGwtb3BhY2l0eT1cIjFcIiBzdHJva2U9XCIjMDAwMDAwXCIgc3Ryb2tlLXdpZHRoPVwiMC41XCIgc3Ryb2tlLW9wYWNpdHk9XCIxXCIgZmlsbD1cIiMwMDAwRkZcIiAvPjwvc3ZnPiIsICJhbmNob3JfeSI6IDQuMH19LCB7Imdlb21ldHJ5IjogeyJ0eXBlIjogIlBvaW50IiwgImNvb3JkaW5hdGVzIjogWy03NC43MDAwMDAwMDAwMDAwMDMsIDE0LjMwMDAwMDAwMDAwMDAwMV19LCAidHlwZSI6ICJGZWF0dXJlIiwgInByb3BlcnRpZXMiOiB7ImFuY2hvcl94IjogNC4wLCAiaHRtbCI6ICI8c3ZnIHdpZHRoPVwiOHB4XCIgaGVpZ2h0PVwiOHB4XCIgdmlld0JveD1cIi00LjAgLTQuMCA4LjAgOC4wXCIgeG1sbnM9XCJodHRwOi8vd3d3LnczLm9yZy8yMDAwL3N2Z1wiIHZlcnNpb249XCIxLjFcIj4gIDxwYXRoIGQ9XCJNIDAuMCAtMy4wIEMgMC43OTU2MDkzIC0zLjAgMS41NTg3Mzk2MTIzNSAtMi42ODM5MDEwNzQ3NiAyLjEyMTMyMDM0MzU2IC0yLjEyMTMyMDM0MzU2IEMgMi42ODM5MDEwNzQ3NiAtMS41NTg3Mzk2MTIzNSAzLjAgLTAuNzk1NjA5MyAzLjAgLTAuMCBDIDMuMCAwLjc5NTYwOTMgMi42ODM5MDEwNzQ3NiAxLjU1ODczOTYxMjM1IDIuMTIxMzIwMzQzNTYgMi4xMjEzMjAzNDM1NiBDIDEuNTU4NzM5NjEyMzUgMi42ODM5MDEwNzQ3NiAwLjc5NTYwOTMgMy4wIDAuMCAzLjAgQyAtMC43OTU2MDkzIDMuMCAtMS41NTg3Mzk2MTIzNSAyLjY4MzkwMTA3NDc2IC0yLjEyMTMyMDM0MzU2IDIuMTIxMzIwMzQzNTYgQyAtMi42ODM5MDEwNzQ3NiAxLjU1ODczOTYxMjM1IC0zLjAgMC43OTU2MDkzIC0zLjAgLTAuMCBDIC0zLjAgLTAuNzk1NjA5MyAtMi42ODM5MDEwNzQ3NiAtMS41NTg3Mzk2MTIzNSAtMi4xMjEzMjAzNDM1NiAtMi4xMjEzMjAzNDM1NiBDIC0xLjU1ODczOTYxMjM1IC0yLjY4MzkwMTA3NDc2IC0wLjc5NTYwOTMgLTMuMCAwLjAgLTMuMCBaXCIgZmlsbC1vcGFjaXR5PVwiMVwiIHN0cm9rZT1cIiMwMDAwMDBcIiBzdHJva2Utd2lkdGg9XCIwLjVcIiBzdHJva2Utb3BhY2l0eT1cIjFcIiBmaWxsPVwiIzAwMDBGRlwiIC8+PC9zdmc+IiwgImFuY2hvcl95IjogNC4wfX0sIHsiZ2VvbWV0cnkiOiB7InR5cGUiOiAiUG9pbnQiLCAiY29vcmRpbmF0ZXMiOiBbLTc1LjA5OTk5OTk5OTk5OTk5NCwgMTQuNjk5OTk5OTk5OTk5OTk5XX0sICJ0eXBlIjogIkZlYXR1cmUiLCAicHJvcGVydGllcyI6IHsiYW5jaG9yX3giOiA0LjAsICJodG1sIjogIjxzdmcgd2lkdGg9XCI4cHhcIiBoZWlnaHQ9XCI4cHhcIiB2aWV3Qm94PVwiLTQuMCAtNC4wIDguMCA4LjBcIiB4bWxucz1cImh0dHA6Ly93d3cudzMub3JnLzIwMDAvc3ZnXCIgdmVyc2lvbj1cIjEuMVwiPiAgPHBhdGggZD1cIk0gMC4wIC0zLjAgQyAwLjc5NTYwOTMgLTMuMCAxLjU1ODczOTYxMjM1IC0yLjY4MzkwMTA3NDc2IDIuMTIxMzIwMzQzNTYgLTIuMTIxMzIwMzQzNTYgQyAyLjY4MzkwMTA3NDc2IC0xLjU1ODczOTYxMjM1IDMuMCAtMC43OTU2MDkzIDMuMCAtMC4wIEMgMy4wIDAuNzk1NjA5MyAyLjY4MzkwMTA3NDc2IDEuNTU4NzM5NjEyMzUgMi4xMjEzMjAzNDM1NiAyLjEyMTMyMDM0MzU2IEMgMS41NTg3Mzk2MTIzNSAyLjY4MzkwMTA3NDc2IDAuNzk1NjA5MyAzLjAgMC4wIDMuMCBDIC0wLjc5NTYwOTMgMy4wIC0xLjU1ODczOTYxMjM1IDIuNjgzOTAxMDc0NzYgLTIuMTIxMzIwMzQzNTYgMi4xMjEzMjAzNDM1NiBDIC0yLjY4MzkwMTA3NDc2IDEuNTU4NzM5NjEyMzUgLTMuMCAwLjc5NTYwOTMgLTMuMCAtMC4wIEMgLTMuMCAtMC43OTU2MDkzIC0yLjY4MzkwMTA3NDc2IC0xLjU1ODczOTYxMjM1IC0yLjEyMTMyMDM0MzU2IC0yLjEyMTMyMDM0MzU2IEMgLTEuNTU4NzM5NjEyMzUgLTIuNjgzOTAxMDc0NzYgLTAuNzk1NjA5MyAtMy4wIDAuMCAtMy4wIFpcIiBmaWxsLW9wYWNpdHk9XCIxXCIgc3Ryb2tlPVwiIzAwMDAwMFwiIHN0cm9rZS13aWR0aD1cIjAuNVwiIHN0cm9rZS1vcGFjaXR5PVwiMVwiIGZpbGw9XCIjMDAwMEZGXCIgLz48L3N2Zz4iLCAiYW5jaG9yX3kiOiA0LjB9fSwgeyJnZW9tZXRyeSI6IHsidHlwZSI6ICJQb2ludCIsICJjb29yZGluYXRlcyI6IFstNzUuNSwgMTUuMV19LCAidHlwZSI6ICJGZWF0dXJlIiwgInByb3BlcnRpZXMiOiB7ImFuY2hvcl94IjogNC4wLCAiaHRtbCI6ICI8c3ZnIHdpZHRoPVwiOHB4XCIgaGVpZ2h0PVwiOHB4XCIgdmlld0JveD1cIi00LjAgLTQuMCA4LjAgOC4wXCIgeG1sbnM9XCJodHRwOi8vd3d3LnczLm9yZy8yMDAwL3N2Z1wiIHZlcnNpb249XCIxLjFcIj4gIDxwYXRoIGQ9XCJNIDAuMCAtMy4wIEMgMC43OTU2MDkzIC0zLjAgMS41NTg3Mzk2MTIzNSAtMi42ODM5MDEwNzQ3NiAyLjEyMTMyMDM0MzU2IC0yLjEyMTMyMDM0MzU2IEMgMi42ODM5MDEwNzQ3NiAtMS41NTg3Mzk2MTIzNSAzLjAgLTAuNzk1NjA5MyAzLjAgLTAuMCBDIDMuMCAwLjc5NTYwOTMgMi42ODM5MDEwNzQ3NiAxLjU1ODczOTYxMjM1IDIuMTIxMzIwMzQzNTYgMi4xMjEzMjAzNDM1NiBDIDEuNTU4NzM5NjEyMzUgMi42ODM5MDEwNzQ3NiAwLjc5NTYwOTMgMy4wIDAuMCAzLjAgQyAtMC43OTU2MDkzIDMuMCAtMS41NTg3Mzk2MTIzNSAyLjY4MzkwMTA3NDc2IC0yLjEyMTMyMDM0MzU2IDIuMTIxMzIwMzQzNTYgQyAtMi42ODM5MDEwNzQ3NiAxLjU1ODczOTYxMjM1IC0zLjAgMC43OTU2MDkzIC0zLjAgLTAuMCBDIC0zLjAgLTAuNzk1NjA5MyAtMi42ODM5MDEwNzQ3NiAtMS41NTg3Mzk2MTIzNSAtMi4xMjEzMjAzNDM1NiAtMi4xMjEzMjAzNDM1NiBDIC0xLjU1ODczOTYxMjM1IC0yLjY4MzkwMTA3NDc2IC0wLjc5NTYwOTMgLTMuMCAwLjAgLTMuMCBaXCIgZmlsbC1vcGFjaXR5PVwiMVwiIHN0cm9rZT1cIiMwMDAwMDBcIiBzdHJva2Utd2lkdGg9XCIwLjVcIiBzdHJva2Utb3BhY2l0eT1cIjFcIiBmaWxsPVwiIzAwMDBGRlwiIC8+PC9zdmc+IiwgImFuY2hvcl95IjogNC4wfX0sIHsiZ2VvbWV0cnkiOiB7InR5cGUiOiAiUG9pbnQiLCAiY29vcmRpbmF0ZXMiOiBbLTc1LjkwMDAwMDAwMDAwMDAwNiwgMTUuNV19LCAidHlwZSI6ICJGZWF0dXJlIiwgInByb3BlcnRpZXMiOiB7ImFuY2hvcl94IjogNC4wLCAiaHRtbCI6ICI8c3ZnIHdpZHRoPVwiOHB4XCIgaGVpZ2h0PVwiOHB4XCIgdmlld0JveD1cIi00LjAgLTQuMCA4LjAgOC4wXCIgeG1sbnM9XCJodHRwOi8vd3d3LnczLm9yZy8yMDAwL3N2Z1wiIHZlcnNpb249XCIxLjFcIj4gIDxwYXRoIGQ9XCJNIDAuMCAtMy4wIEMgMC43OTU2MDkzIC0zLjAgMS41NTg3Mzk2MTIzNSAtMi42ODM5MDEwNzQ3NiAyLjEyMTMyMDM0MzU2IC0yLjEyMTMyMDM0MzU2IEMgMi42ODM5MDEwNzQ3NiAtMS41NTg3Mzk2MTIzNSAzLjAgLTAuNzk1NjA5MyAzLjAgLTAuMCBDIDMuMCAwLjc5NTYwOTMgMi42ODM5MDEwNzQ3NiAxLjU1ODczOTYxMjM1IDIuMTIxMzIwMzQzNTYgMi4xMjEzMjAzNDM1NiBDIDEuNTU4NzM5NjEyMzUgMi42ODM5MDEwNzQ3NiAwLjc5NTYwOTMgMy4wIDAuMCAzLjAgQyAtMC43OTU2MDkzIDMuMCAtMS41NTg3Mzk2MTIzNSAyLjY4MzkwMTA3NDc2IC0yLjEyMTMyMDM0MzU2IDIuMTIxMzIwMzQzNTYgQyAtMi42ODM5MDEwNzQ3NiAxLjU1ODczOTYxMjM1IC0zLjAgMC43OTU2MDkzIC0zLjAgLTAuMCBDIC0zLjAgLTAuNzk1NjA5MyAtMi42ODM5MDEwNzQ3NiAtMS41NTg3Mzk2MTIzNSAtMi4xMjEzMjAzNDM1NiAtMi4xMjEzMjAzNDM1NiBDIC0xLjU1ODczOTYxMjM1IC0yLjY4MzkwMTA3NDc2IC0wLjc5NTYwOTMgLTMuMCAwLjAgLTMuMCBaXCIgZmlsbC1vcGFjaXR5PVwiMVwiIHN0cm9rZT1cIiMwMDAwMDBcIiBzdHJva2Utd2lkdGg9XCIwLjVcIiBzdHJva2Utb3BhY2l0eT1cIjFcIiBmaWxsPVwiIzAwMDBGRlwiIC8+PC9zdmc+IiwgImFuY2hvcl95IjogNC4wfX0sIHsiZ2VvbWV0cnkiOiB7InR5cGUiOiAiUG9pbnQiLCAiY29vcmRpbmF0ZXMiOiBbLTc2LjIwMDAwMDAwMDAwMDAwMywgMTUuOV19LCAidHlwZSI6ICJGZWF0dXJlIiwgInByb3BlcnRpZXMiOiB7ImFuY2hvcl94IjogNC4wLCAiaHRtbCI6ICI8c3ZnIHdpZHRoPVwiOHB4XCIgaGVpZ2h0PVwiOHB4XCIgdmlld0JveD1cIi00LjAgLTQuMCA4LjAgOC4wXCIgeG1sbnM9XCJodHRwOi8vd3d3LnczLm9yZy8yMDAwL3N2Z1wiIHZlcnNpb249XCIxLjFcIj4gIDxwYXRoIGQ9XCJNIDAuMCAtMy4wIEMgMC43OTU2MDkzIC0zLjAgMS41NTg3Mzk2MTIzNSAtMi42ODM5MDEwNzQ3NiAyLjEyMTMyMDM0MzU2IC0yLjEyMTMyMDM0MzU2IEMgMi42ODM5MDEwNzQ3NiAtMS41NTg3Mzk2MTIzNSAzLjAgLTAuNzk1NjA5MyAzLjAgLTAuMCBDIDMuMCAwLjc5NTYwOTMgMi42ODM5MDEwNzQ3NiAxLjU1ODczOTYxMjM1IDIuMTIxMzIwMzQzNTYgMi4xMjEzMjAzNDM1NiBDIDEuNTU4NzM5NjEyMzUgMi42ODM5MDEwNzQ3NiAwLjc5NTYwOTMgMy4wIDAuMCAzLjAgQyAtMC43OTU2MDkzIDMuMCAtMS41NTg3Mzk2MTIzNSAyLjY4MzkwMTA3NDc2IC0yLjEyMTMyMDM0MzU2IDIuMTIxMzIwMzQzNTYgQyAtMi42ODM5MDEwNzQ3NiAxLjU1ODczOTYxMjM1IC0zLjAgMC43OTU2MDkzIC0zLjAgLTAuMCBDIC0zLjAgLTAuNzk1NjA5MyAtMi42ODM5MDEwNzQ3NiAtMS41NTg3Mzk2MTIzNSAtMi4xMjEzMjAzNDM1NiAtMi4xMjEzMjAzNDM1NiBDIC0xLjU1ODczOTYxMjM1IC0yLjY4MzkwMTA3NDc2IC0wLjc5NTYwOTMgLTMuMCAwLjAgLTMuMCBaXCIgZmlsbC1vcGFjaXR5PVwiMVwiIHN0cm9rZT1cIiMwMDAwMDBcIiBzdHJva2Utd2lkdGg9XCIwLjVcIiBzdHJva2Utb3BhY2l0eT1cIjFcIiBmaWxsPVwiIzAwMDBGRlwiIC8+PC9zdmc+IiwgImFuY2hvcl95IjogNC4wfX0sIHsiZ2VvbWV0cnkiOiB7InR5cGUiOiAiUG9pbnQiLCAiY29vcmRpbmF0ZXMiOiBbLTc2LjIwMDAwMDAwMDAwMDAwMywgMTYuMzk5OTk5OTk5OTk5OTk5XX0sICJ0eXBlIjogIkZlYXR1cmUiLCAicHJvcGVydGllcyI6IHsiYW5jaG9yX3giOiA0LjAsICJodG1sIjogIjxzdmcgd2lkdGg9XCI4cHhcIiBoZWlnaHQ9XCI4cHhcIiB2aWV3Qm94PVwiLTQuMCAtNC4wIDguMCA4LjBcIiB4bWxucz1cImh0dHA6Ly93d3cudzMub3JnLzIwMDAvc3ZnXCIgdmVyc2lvbj1cIjEuMVwiPiAgPHBhdGggZD1cIk0gMC4wIC0zLjAgQyAwLjc5NTYwOTMgLTMuMCAxLjU1ODczOTYxMjM1IC0yLjY4MzkwMTA3NDc2IDIuMTIxMzIwMzQzNTYgLTIuMTIxMzIwMzQzNTYgQyAyLjY4MzkwMTA3NDc2IC0xLjU1ODczOTYxMjM1IDMuMCAtMC43OTU2MDkzIDMuMCAtMC4wIEMgMy4wIDAuNzk1NjA5MyAyLjY4MzkwMTA3NDc2IDEuNTU4NzM5NjEyMzUgMi4xMjEzMjAzNDM1NiAyLjEyMTMyMDM0MzU2IEMgMS41NTg3Mzk2MTIzNSAyLjY4MzkwMTA3NDc2IDAuNzk1NjA5MyAzLjAgMC4wIDMuMCBDIC0wLjc5NTYwOTMgMy4wIC0xLjU1ODczOTYxMjM1IDIuNjgzOTAxMDc0NzYgLTIuMTIxMzIwMzQzNTYgMi4xMjEzMjAzNDM1NiBDIC0yLjY4MzkwMTA3NDc2IDEuNTU4NzM5NjEyMzUgLTMuMCAwLjc5NTYwOTMgLTMuMCAtMC4wIEMgLTMuMCAtMC43OTU2MDkzIC0yLjY4MzkwMTA3NDc2IC0xLjU1ODczOTYxMjM1IC0yLjEyMTMyMDM0MzU2IC0yLjEyMTMyMDM0MzU2IEMgLTEuNTU4NzM5NjEyMzUgLTIuNjgzOTAxMDc0NzYgLTAuNzk1NjA5MyAtMy4wIDAuMCAtMy4wIFpcIiBmaWxsLW9wYWNpdHk9XCIxXCIgc3Ryb2tlPVwiIzAwMDAwMFwiIHN0cm9rZS13aWR0aD1cIjAuNVwiIHN0cm9rZS1vcGFjaXR5PVwiMVwiIGZpbGw9XCIjMDAwMEZGXCIgLz48L3N2Zz4iLCAiYW5jaG9yX3kiOiA0LjB9fSwgeyJnZW9tZXRyeSI6IHsidHlwZSI6ICJQb2ludCIsICJjb29yZGluYXRlcyI6IFstNzUuNzAwMDAwMDAwMDAwMDAzLCAxNy4wXX0sICJ0eXBlIjogIkZlYXR1cmUiLCAicHJvcGVydGllcyI6IHsiYW5jaG9yX3giOiA0LjAsICJodG1sIjogIjxzdmcgd2lkdGg9XCI4cHhcIiBoZWlnaHQ9XCI4cHhcIiB2aWV3Qm94PVwiLTQuMCAtNC4wIDguMCA4LjBcIiB4bWxucz1cImh0dHA6Ly93d3cudzMub3JnLzIwMDAvc3ZnXCIgdmVyc2lvbj1cIjEuMVwiPiAgPHBhdGggZD1cIk0gMC4wIC0zLjAgQyAwLjc5NTYwOTMgLTMuMCAxLjU1ODczOTYxMjM1IC0yLjY4MzkwMTA3NDc2IDIuMTIxMzIwMzQzNTYgLTIuMTIxMzIwMzQzNTYgQyAyLjY4MzkwMTA3NDc2IC0xLjU1ODczOTYxMjM1IDMuMCAtMC43OTU2MDkzIDMuMCAtMC4wIEMgMy4wIDAuNzk1NjA5MyAyLjY4MzkwMTA3NDc2IDEuNTU4NzM5NjEyMzUgMi4xMjEzMjAzNDM1NiAyLjEyMTMyMDM0MzU2IEMgMS41NTg3Mzk2MTIzNSAyLjY4MzkwMTA3NDc2IDAuNzk1NjA5MyAzLjAgMC4wIDMuMCBDIC0wLjc5NTYwOTMgMy4wIC0xLjU1ODczOTYxMjM1IDIuNjgzOTAxMDc0NzYgLTIuMTIxMzIwMzQzNTYgMi4xMjEzMjAzNDM1NiBDIC0yLjY4MzkwMTA3NDc2IDEuNTU4NzM5NjEyMzUgLTMuMCAwLjc5NTYwOTMgLTMuMCAtMC4wIEMgLTMuMCAtMC43OTU2MDkzIC0yLjY4MzkwMTA3NDc2IC0xLjU1ODczOTYxMjM1IC0yLjEyMTMyMDM0MzU2IC0yLjEyMTMyMDM0MzU2IEMgLTEuNTU4NzM5NjEyMzUgLTIuNjgzOTAxMDc0NzYgLTAuNzk1NjA5MyAtMy4wIDAuMCAtMy4wIFpcIiBmaWxsLW9wYWNpdHk9XCIxXCIgc3Ryb2tlPVwiIzAwMDAwMFwiIHN0cm9rZS13aWR0aD1cIjAuNVwiIHN0cm9rZS1vcGFjaXR5PVwiMVwiIGZpbGw9XCIjMDAwMEZGXCIgLz48L3N2Zz4iLCAiYW5jaG9yX3kiOiA0LjB9fSwgeyJnZW9tZXRyeSI6IHsidHlwZSI6ICJQb2ludCIsICJjb29yZGluYXRlcyI6IFstNzUuMjAwMDAwMDAwMDAwMDAzLCAxNy42OTk5OTk5OTk5OTk5OTldfSwgInR5cGUiOiAiRmVhdHVyZSIsICJwcm9wZXJ0aWVzIjogeyJhbmNob3JfeCI6IDQuMCwgImh0bWwiOiAiPHN2ZyB3aWR0aD1cIjhweFwiIGhlaWdodD1cIjhweFwiIHZpZXdCb3g9XCItNC4wIC00LjAgOC4wIDguMFwiIHhtbG5zPVwiaHR0cDovL3d3dy53My5vcmcvMjAwMC9zdmdcIiB2ZXJzaW9uPVwiMS4xXCI+ICA8cGF0aCBkPVwiTSAwLjAgLTMuMCBDIDAuNzk1NjA5MyAtMy4wIDEuNTU4NzM5NjEyMzUgLTIuNjgzOTAxMDc0NzYgMi4xMjEzMjAzNDM1NiAtMi4xMjEzMjAzNDM1NiBDIDIuNjgzOTAxMDc0NzYgLTEuNTU4NzM5NjEyMzUgMy4wIC0wLjc5NTYwOTMgMy4wIC0wLjAgQyAzLjAgMC43OTU2MDkzIDIuNjgzOTAxMDc0NzYgMS41NTg3Mzk2MTIzNSAyLjEyMTMyMDM0MzU2IDIuMTIxMzIwMzQzNTYgQyAxLjU1ODczOTYxMjM1IDIuNjgzOTAxMDc0NzYgMC43OTU2MDkzIDMuMCAwLjAgMy4wIEMgLTAuNzk1NjA5MyAzLjAgLTEuNTU4NzM5NjEyMzUgMi42ODM5MDEwNzQ3NiAtMi4xMjEzMjAzNDM1NiAyLjEyMTMyMDM0MzU2IEMgLTIuNjgzOTAxMDc0NzYgMS41NTg3Mzk2MTIzNSAtMy4wIDAuNzk1NjA5MyAtMy4wIC0wLjAgQyAtMy4wIC0wLjc5NTYwOTMgLTIuNjgzOTAxMDc0NzYgLTEuNTU4NzM5NjEyMzUgLTIuMTIxMzIwMzQzNTYgLTIuMTIxMzIwMzQzNTYgQyAtMS41NTg3Mzk2MTIzNSAtMi42ODM5MDEwNzQ3NiAtMC43OTU2MDkzIC0zLjAgMC4wIC0zLjAgWlwiIGZpbGwtb3BhY2l0eT1cIjFcIiBzdHJva2U9XCIjMDAwMDAwXCIgc3Ryb2tlLXdpZHRoPVwiMC41XCIgc3Ryb2tlLW9wYWNpdHk9XCIxXCIgZmlsbD1cIiMwMDAwRkZcIiAvPjwvc3ZnPiIsICJhbmNob3JfeSI6IDQuMH19LCB7Imdlb21ldHJ5IjogeyJ0eXBlIjogIlBvaW50IiwgImNvb3JkaW5hdGVzIjogWy03NC43MDAwMDAwMDAwMDAwMDMsIDE4LjY5OTk5OTk5OTk5OTk5OV19LCAidHlwZSI6ICJGZWF0dXJlIiwgInByb3BlcnRpZXMiOiB7ImFuY2hvcl94IjogNC4wLCAiaHRtbCI6ICI8c3ZnIHdpZHRoPVwiOHB4XCIgaGVpZ2h0PVwiOHB4XCIgdmlld0JveD1cIi00LjAgLTQuMCA4LjAgOC4wXCIgeG1sbnM9XCJodHRwOi8vd3d3LnczLm9yZy8yMDAwL3N2Z1wiIHZlcnNpb249XCIxLjFcIj4gIDxwYXRoIGQ9XCJNIDAuMCAtMy4wIEMgMC43OTU2MDkzIC0zLjAgMS41NTg3Mzk2MTIzNSAtMi42ODM5MDEwNzQ3NiAyLjEyMTMyMDM0MzU2IC0yLjEyMTMyMDM0MzU2IEMgMi42ODM5MDEwNzQ3NiAtMS41NTg3Mzk2MTIzNSAzLjAgLTAuNzk1NjA5MyAzLjAgLTAuMCBDIDMuMCAwLjc5NTYwOTMgMi42ODM5MDEwNzQ3NiAxLjU1ODczOTYxMjM1IDIuMTIxMzIwMzQzNTYgMi4xMjEzMjAzNDM1NiBDIDEuNTU4NzM5NjEyMzUgMi42ODM5MDEwNzQ3NiAwLjc5NTYwOTMgMy4wIDAuMCAzLjAgQyAtMC43OTU2MDkzIDMuMCAtMS41NTg3Mzk2MTIzNSAyLjY4MzkwMTA3NDc2IC0yLjEyMTMyMDM0MzU2IDIuMTIxMzIwMzQzNTYgQyAtMi42ODM5MDEwNzQ3NiAxLjU1ODczOTYxMjM1IC0zLjAgMC43OTU2MDkzIC0zLjAgLTAuMCBDIC0zLjAgLTAuNzk1NjA5MyAtMi42ODM5MDEwNzQ3NiAtMS41NTg3Mzk2MTIzNSAtMi4xMjEzMjAzNDM1NiAtMi4xMjEzMjAzNDM1NiBDIC0xLjU1ODczOTYxMjM1IC0yLjY4MzkwMTA3NDc2IC0wLjc5NTYwOTMgLTMuMCAwLjAgLTMuMCBaXCIgZmlsbC1vcGFjaXR5PVwiMVwiIHN0cm9rZT1cIiMwMDAwMDBcIiBzdHJva2Utd2lkdGg9XCIwLjVcIiBzdHJva2Utb3BhY2l0eT1cIjFcIiBmaWxsPVwiIzAwMDBGRlwiIC8+PC9zdmc+IiwgImFuY2hvcl95IjogNC4wfX0sIHsiZ2VvbWV0cnkiOiB7InR5cGUiOiAiUG9pbnQiLCAiY29vcmRpbmF0ZXMiOiBbLTc0LjAsIDE5LjY5OTk5OTk5OTk5OTk5OV19LCAidHlwZSI6ICJGZWF0dXJlIiwgInByb3BlcnRpZXMiOiB7ImFuY2hvcl94IjogNC4wLCAiaHRtbCI6ICI8c3ZnIHdpZHRoPVwiOHB4XCIgaGVpZ2h0PVwiOHB4XCIgdmlld0JveD1cIi00LjAgLTQuMCA4LjAgOC4wXCIgeG1sbnM9XCJodHRwOi8vd3d3LnczLm9yZy8yMDAwL3N2Z1wiIHZlcnNpb249XCIxLjFcIj4gIDxwYXRoIGQ9XCJNIDAuMCAtMy4wIEMgMC43OTU2MDkzIC0zLjAgMS41NTg3Mzk2MTIzNSAtMi42ODM5MDEwNzQ3NiAyLjEyMTMyMDM0MzU2IC0yLjEyMTMyMDM0MzU2IEMgMi42ODM5MDEwNzQ3NiAtMS41NTg3Mzk2MTIzNSAzLjAgLTAuNzk1NjA5MyAzLjAgLTAuMCBDIDMuMCAwLjc5NTYwOTMgMi42ODM5MDEwNzQ3NiAxLjU1ODczOTYxMjM1IDIuMTIxMzIwMzQzNTYgMi4xMjEzMjAzNDM1NiBDIDEuNTU4NzM5NjEyMzUgMi42ODM5MDEwNzQ3NiAwLjc5NTYwOTMgMy4wIDAuMCAzLjAgQyAtMC43OTU2MDkzIDMuMCAtMS41NTg3Mzk2MTIzNSAyLjY4MzkwMTA3NDc2IC0yLjEyMTMyMDM0MzU2IDIuMTIxMzIwMzQzNTYgQyAtMi42ODM5MDEwNzQ3NiAxLjU1ODczOTYxMjM1IC0zLjAgMC43OTU2MDkzIC0zLjAgLTAuMCBDIC0zLjAgLTAuNzk1NjA5MyAtMi42ODM5MDEwNzQ3NiAtMS41NTg3Mzk2MTIzNSAtMi4xMjEzMjAzNDM1NiAtMi4xMjEzMjAzNDM1NiBDIC0xLjU1ODczOTYxMjM1IC0yLjY4MzkwMTA3NDc2IC0wLjc5NTYwOTMgLTMuMCAwLjAgLTMuMCBaXCIgZmlsbC1vcGFjaXR5PVwiMVwiIHN0cm9rZT1cIiMwMDAwMDBcIiBzdHJva2Utd2lkdGg9XCIwLjVcIiBzdHJva2Utb3BhY2l0eT1cIjFcIiBmaWxsPVwiIzAwMDBGRlwiIC8+PC9zdmc+IiwgImFuY2hvcl95IjogNC4wfX0sIHsiZ2VvbWV0cnkiOiB7InR5cGUiOiAiUG9pbnQiLCAiY29vcmRpbmF0ZXMiOiBbLTczLjA5OTk5OTk5OTk5OTk5NCwgMjAuMzk5OTk5OTk5OTk5OTk5XX0sICJ0eXBlIjogIkZlYXR1cmUiLCAicHJvcGVydGllcyI6IHsiYW5jaG9yX3giOiA0LjAsICJodG1sIjogIjxzdmcgd2lkdGg9XCI4cHhcIiBoZWlnaHQ9XCI4cHhcIiB2aWV3Qm94PVwiLTQuMCAtNC4wIDguMCA4LjBcIiB4bWxucz1cImh0dHA6Ly93d3cudzMub3JnLzIwMDAvc3ZnXCIgdmVyc2lvbj1cIjEuMVwiPiAgPHBhdGggZD1cIk0gMC4wIC0zLjAgQyAwLjc5NTYwOTMgLTMuMCAxLjU1ODczOTYxMjM1IC0yLjY4MzkwMTA3NDc2IDIuMTIxMzIwMzQzNTYgLTIuMTIxMzIwMzQzNTYgQyAyLjY4MzkwMTA3NDc2IC0xLjU1ODczOTYxMjM1IDMuMCAtMC43OTU2MDkzIDMuMCAtMC4wIEMgMy4wIDAuNzk1NjA5MyAyLjY4MzkwMTA3NDc2IDEuNTU4NzM5NjEyMzUgMi4xMjEzMjAzNDM1NiAyLjEyMTMyMDM0MzU2IEMgMS41NTg3Mzk2MTIzNSAyLjY4MzkwMTA3NDc2IDAuNzk1NjA5MyAzLjAgMC4wIDMuMCBDIC0wLjc5NTYwOTMgMy4wIC0xLjU1ODczOTYxMjM1IDIuNjgzOTAxMDc0NzYgLTIuMTIxMzIwMzQzNTYgMi4xMjEzMjAzNDM1NiBDIC0yLjY4MzkwMTA3NDc2IDEuNTU4NzM5NjEyMzUgLTMuMCAwLjc5NTYwOTMgLTMuMCAtMC4wIEMgLTMuMCAtMC43OTU2MDkzIC0yLjY4MzkwMTA3NDc2IC0xLjU1ODczOTYxMjM1IC0yLjEyMTMyMDM0MzU2IC0yLjEyMTMyMDM0MzU2IEMgLTEuNTU4NzM5NjEyMzUgLTIuNjgzOTAxMDc0NzYgLTAuNzk1NjA5MyAtMy4wIDAuMCAtMy4wIFpcIiBmaWxsLW9wYWNpdHk9XCIxXCIgc3Ryb2tlPVwiIzAwMDAwMFwiIHN0cm9rZS13aWR0aD1cIjAuNVwiIHN0cm9rZS1vcGFjaXR5PVwiMVwiIGZpbGw9XCIjMDAwMEZGXCIgLz48L3N2Zz4iLCAiYW5jaG9yX3kiOiA0LjB9fSwgeyJnZW9tZXRyeSI6IHsidHlwZSI6ICJQb2ludCIsICJjb29yZGluYXRlcyI6IFstNzEuNzk5OTk5OTk5OTk5OTk3LCAyMS4zOTk5OTk5OTk5OTk5OTldfSwgInR5cGUiOiAiRmVhdHVyZSIsICJwcm9wZXJ0aWVzIjogeyJhbmNob3JfeCI6IDQuMCwgImh0bWwiOiAiPHN2ZyB3aWR0aD1cIjhweFwiIGhlaWdodD1cIjhweFwiIHZpZXdCb3g9XCItNC4wIC00LjAgOC4wIDguMFwiIHhtbG5zPVwiaHR0cDovL3d3dy53My5vcmcvMjAwMC9zdmdcIiB2ZXJzaW9uPVwiMS4xXCI+ICA8cGF0aCBkPVwiTSAwLjAgLTMuMCBDIDAuNzk1NjA5MyAtMy4wIDEuNTU4NzM5NjEyMzUgLTIuNjgzOTAxMDc0NzYgMi4xMjEzMjAzNDM1NiAtMi4xMjEzMjAzNDM1NiBDIDIuNjgzOTAxMDc0NzYgLTEuNTU4NzM5NjEyMzUgMy4wIC0wLjc5NTYwOTMgMy4wIC0wLjAgQyAzLjAgMC43OTU2MDkzIDIuNjgzOTAxMDc0NzYgMS41NTg3Mzk2MTIzNSAyLjEyMTMyMDM0MzU2IDIuMTIxMzIwMzQzNTYgQyAxLjU1ODczOTYxMjM1IDIuNjgzOTAxMDc0NzYgMC43OTU2MDkzIDMuMCAwLjAgMy4wIEMgLTAuNzk1NjA5MyAzLjAgLTEuNTU4NzM5NjEyMzUgMi42ODM5MDEwNzQ3NiAtMi4xMjEzMjAzNDM1NiAyLjEyMTMyMDM0MzU2IEMgLTIuNjgzOTAxMDc0NzYgMS41NTg3Mzk2MTIzNSAtMy4wIDAuNzk1NjA5MyAtMy4wIC0wLjAgQyAtMy4wIC0wLjc5NTYwOTMgLTIuNjgzOTAxMDc0NzYgLTEuNTU4NzM5NjEyMzUgLTIuMTIxMzIwMzQzNTYgLTIuMTIxMzIwMzQzNTYgQyAtMS41NTg3Mzk2MTIzNSAtMi42ODM5MDEwNzQ3NiAtMC43OTU2MDkzIC0zLjAgMC4wIC0zLjAgWlwiIGZpbGwtb3BhY2l0eT1cIjFcIiBzdHJva2U9XCIjMDAwMDAwXCIgc3Ryb2tlLXdpZHRoPVwiMC41XCIgc3Ryb2tlLW9wYWNpdHk9XCIxXCIgZmlsbD1cIiMwMDAwRkZcIiAvPjwvc3ZnPiIsICJhbmNob3JfeSI6IDQuMH19LCB7Imdlb21ldHJ5IjogeyJ0eXBlIjogIlBvaW50IiwgImNvb3JkaW5hdGVzIjogWy03MS41OTk5OTk5OTk5OTk5OTQsIDIxLjY5OTk5OTk5OTk5OTk5OV19LCAidHlwZSI6ICJGZWF0dXJlIiwgInByb3BlcnRpZXMiOiB7ImFuY2hvcl94IjogNC4wLCAiaHRtbCI6ICI8c3ZnIHdpZHRoPVwiOHB4XCIgaGVpZ2h0PVwiOHB4XCIgdmlld0JveD1cIi00LjAgLTQuMCA4LjAgOC4wXCIgeG1sbnM9XCJodHRwOi8vd3d3LnczLm9yZy8yMDAwL3N2Z1wiIHZlcnNpb249XCIxLjFcIj4gIDxwYXRoIGQ9XCJNIDAuMCAtMy4wIEMgMC43OTU2MDkzIC0zLjAgMS41NTg3Mzk2MTIzNSAtMi42ODM5MDEwNzQ3NiAyLjEyMTMyMDM0MzU2IC0yLjEyMTMyMDM0MzU2IEMgMi42ODM5MDEwNzQ3NiAtMS41NTg3Mzk2MTIzNSAzLjAgLTAuNzk1NjA5MyAzLjAgLTAuMCBDIDMuMCAwLjc5NTYwOTMgMi42ODM5MDEwNzQ3NiAxLjU1ODczOTYxMjM1IDIuMTIxMzIwMzQzNTYgMi4xMjEzMjAzNDM1NiBDIDEuNTU4NzM5NjEyMzUgMi42ODM5MDEwNzQ3NiAwLjc5NTYwOTMgMy4wIDAuMCAzLjAgQyAtMC43OTU2MDkzIDMuMCAtMS41NTg3Mzk2MTIzNSAyLjY4MzkwMTA3NDc2IC0yLjEyMTMyMDM0MzU2IDIuMTIxMzIwMzQzNTYgQyAtMi42ODM5MDEwNzQ3NiAxLjU1ODczOTYxMjM1IC0zLjAgMC43OTU2MDkzIC0zLjAgLTAuMCBDIC0zLjAgLTAuNzk1NjA5MyAtMi42ODM5MDEwNzQ3NiAtMS41NTg3Mzk2MTIzNSAtMi4xMjEzMjAzNDM1NiAtMi4xMjEzMjAzNDM1NiBDIC0xLjU1ODczOTYxMjM1IC0yLjY4MzkwMTA3NDc2IC0wLjc5NTYwOTMgLTMuMCAwLjAgLTMuMCBaXCIgZmlsbC1vcGFjaXR5PVwiMVwiIHN0cm9rZT1cIiMwMDAwMDBcIiBzdHJva2Utd2lkdGg9XCIwLjVcIiBzdHJva2Utb3BhY2l0eT1cIjFcIiBmaWxsPVwiIzAwMDBGRlwiIC8+PC9zdmc+IiwgImFuY2hvcl95IjogNC4wfX0sIHsiZ2VvbWV0cnkiOiB7InR5cGUiOiAiUG9pbnQiLCAiY29vcmRpbmF0ZXMiOiBbLTcwLjkwMDAwMDAwMDAwMDAwNiwgMjIuNjAwMDAwMDAwMDAwMDAxXX0sICJ0eXBlIjogIkZlYXR1cmUiLCAicHJvcGVydGllcyI6IHsiYW5jaG9yX3giOiA0LjAsICJodG1sIjogIjxzdmcgd2lkdGg9XCI4cHhcIiBoZWlnaHQ9XCI4cHhcIiB2aWV3Qm94PVwiLTQuMCAtNC4wIDguMCA4LjBcIiB4bWxucz1cImh0dHA6Ly93d3cudzMub3JnLzIwMDAvc3ZnXCIgdmVyc2lvbj1cIjEuMVwiPiAgPHBhdGggZD1cIk0gMC4wIC0zLjAgQyAwLjc5NTYwOTMgLTMuMCAxLjU1ODczOTYxMjM1IC0yLjY4MzkwMTA3NDc2IDIuMTIxMzIwMzQzNTYgLTIuMTIxMzIwMzQzNTYgQyAyLjY4MzkwMTA3NDc2IC0xLjU1ODczOTYxMjM1IDMuMCAtMC43OTU2MDkzIDMuMCAtMC4wIEMgMy4wIDAuNzk1NjA5MyAyLjY4MzkwMTA3NDc2IDEuNTU4NzM5NjEyMzUgMi4xMjEzMjAzNDM1NiAyLjEyMTMyMDM0MzU2IEMgMS41NTg3Mzk2MTIzNSAyLjY4MzkwMTA3NDc2IDAuNzk1NjA5MyAzLjAgMC4wIDMuMCBDIC0wLjc5NTYwOTMgMy4wIC0xLjU1ODczOTYxMjM1IDIuNjgzOTAxMDc0NzYgLTIuMTIxMzIwMzQzNTYgMi4xMjEzMjAzNDM1NiBDIC0yLjY4MzkwMTA3NDc2IDEuNTU4NzM5NjEyMzUgLTMuMCAwLjc5NTYwOTMgLTMuMCAtMC4wIEMgLTMuMCAtMC43OTU2MDkzIC0yLjY4MzkwMTA3NDc2IC0xLjU1ODczOTYxMjM1IC0yLjEyMTMyMDM0MzU2IC0yLjEyMTMyMDM0MzU2IEMgLTEuNTU4NzM5NjEyMzUgLTIuNjgzOTAxMDc0NzYgLTAuNzk1NjA5MyAtMy4wIDAuMCAtMy4wIFpcIiBmaWxsLW9wYWNpdHk9XCIxXCIgc3Ryb2tlPVwiIzAwMDAwMFwiIHN0cm9rZS13aWR0aD1cIjAuNVwiIHN0cm9rZS1vcGFjaXR5PVwiMVwiIGZpbGw9XCIjMDAwMEZGXCIgLz48L3N2Zz4iLCAiYW5jaG9yX3kiOiA0LjB9fSwgeyJnZW9tZXRyeSI6IHsidHlwZSI6ICJQb2ludCIsICJjb29yZGluYXRlcyI6IFstNzAuMjk5OTk5OTk5OTk5OTk3LCAyMy44MDAwMDAwMDAwMDAwMDFdfSwgInR5cGUiOiAiRmVhdHVyZSIsICJwcm9wZXJ0aWVzIjogeyJhbmNob3JfeCI6IDQuMCwgImh0bWwiOiAiPHN2ZyB3aWR0aD1cIjhweFwiIGhlaWdodD1cIjhweFwiIHZpZXdCb3g9XCItNC4wIC00LjAgOC4wIDguMFwiIHhtbG5zPVwiaHR0cDovL3d3dy53My5vcmcvMjAwMC9zdmdcIiB2ZXJzaW9uPVwiMS4xXCI+ICA8cGF0aCBkPVwiTSAwLjAgLTMuMCBDIDAuNzk1NjA5MyAtMy4wIDEuNTU4NzM5NjEyMzUgLTIuNjgzOTAxMDc0NzYgMi4xMjEzMjAzNDM1NiAtMi4xMjEzMjAzNDM1NiBDIDIuNjgzOTAxMDc0NzYgLTEuNTU4NzM5NjEyMzUgMy4wIC0wLjc5NTYwOTMgMy4wIC0wLjAgQyAzLjAgMC43OTU2MDkzIDIuNjgzOTAxMDc0NzYgMS41NTg3Mzk2MTIzNSAyLjEyMTMyMDM0MzU2IDIuMTIxMzIwMzQzNTYgQyAxLjU1ODczOTYxMjM1IDIuNjgzOTAxMDc0NzYgMC43OTU2MDkzIDMuMCAwLjAgMy4wIEMgLTAuNzk1NjA5MyAzLjAgLTEuNTU4NzM5NjEyMzUgMi42ODM5MDEwNzQ3NiAtMi4xMjEzMjAzNDM1NiAyLjEyMTMyMDM0MzU2IEMgLTIuNjgzOTAxMDc0NzYgMS41NTg3Mzk2MTIzNSAtMy4wIDAuNzk1NjA5MyAtMy4wIC0wLjAgQyAtMy4wIC0wLjc5NTYwOTMgLTIuNjgzOTAxMDc0NzYgLTEuNTU4NzM5NjEyMzUgLTIuMTIxMzIwMzQzNTYgLTIuMTIxMzIwMzQzNTYgQyAtMS41NTg3Mzk2MTIzNSAtMi42ODM5MDEwNzQ3NiAtMC43OTU2MDkzIC0zLjAgMC4wIC0zLjAgWlwiIGZpbGwtb3BhY2l0eT1cIjFcIiBzdHJva2U9XCIjMDAwMDAwXCIgc3Ryb2tlLXdpZHRoPVwiMC41XCIgc3Ryb2tlLW9wYWNpdHk9XCIxXCIgZmlsbD1cIiMwMDAwRkZcIiAvPjwvc3ZnPiIsICJhbmNob3JfeSI6IDQuMH19LCB7Imdlb21ldHJ5IjogeyJ0eXBlIjogIlBvaW50IiwgImNvb3JkaW5hdGVzIjogWy02OS43OTk5OTk5OTk5OTk5OTcsIDI0Ljg5OTk5OTk5OTk5OTk5OV19LCAidHlwZSI6ICJGZWF0dXJlIiwgInByb3BlcnRpZXMiOiB7ImFuY2hvcl94IjogNC4wLCAiaHRtbCI6ICI8c3ZnIHdpZHRoPVwiOHB4XCIgaGVpZ2h0PVwiOHB4XCIgdmlld0JveD1cIi00LjAgLTQuMCA4LjAgOC4wXCIgeG1sbnM9XCJodHRwOi8vd3d3LnczLm9yZy8yMDAwL3N2Z1wiIHZlcnNpb249XCIxLjFcIj4gIDxwYXRoIGQ9XCJNIDAuMCAtMy4wIEMgMC43OTU2MDkzIC0zLjAgMS41NTg3Mzk2MTIzNSAtMi42ODM5MDEwNzQ3NiAyLjEyMTMyMDM0MzU2IC0yLjEyMTMyMDM0MzU2IEMgMi42ODM5MDEwNzQ3NiAtMS41NTg3Mzk2MTIzNSAzLjAgLTAuNzk1NjA5MyAzLjAgLTAuMCBDIDMuMCAwLjc5NTYwOTMgMi42ODM5MDEwNzQ3NiAxLjU1ODczOTYxMjM1IDIuMTIxMzIwMzQzNTYgMi4xMjEzMjAzNDM1NiBDIDEuNTU4NzM5NjEyMzUgMi42ODM5MDEwNzQ3NiAwLjc5NTYwOTMgMy4wIDAuMCAzLjAgQyAtMC43OTU2MDkzIDMuMCAtMS41NTg3Mzk2MTIzNSAyLjY4MzkwMTA3NDc2IC0yLjEyMTMyMDM0MzU2IDIuMTIxMzIwMzQzNTYgQyAtMi42ODM5MDEwNzQ3NiAxLjU1ODczOTYxMjM1IC0zLjAgMC43OTU2MDkzIC0zLjAgLTAuMCBDIC0zLjAgLTAuNzk1NjA5MyAtMi42ODM5MDEwNzQ3NiAtMS41NTg3Mzk2MTIzNSAtMi4xMjEzMjAzNDM1NiAtMi4xMjEzMjAzNDM1NiBDIC0xLjU1ODczOTYxMjM1IC0yLjY4MzkwMTA3NDc2IC0wLjc5NTYwOTMgLTMuMCAwLjAgLTMuMCBaXCIgZmlsbC1vcGFjaXR5PVwiMVwiIHN0cm9rZT1cIiMwMDAwMDBcIiBzdHJva2Utd2lkdGg9XCIwLjVcIiBzdHJva2Utb3BhY2l0eT1cIjFcIiBmaWxsPVwiIzAwMDBGRlwiIC8+PC9zdmc+IiwgImFuY2hvcl95IjogNC4wfX0sIHsiZ2VvbWV0cnkiOiB7InR5cGUiOiAiUG9pbnQiLCAiY29vcmRpbmF0ZXMiOiBbLTY5LjU5OTk5OTk5OTk5OTk5NCwgMjUuMzk5OTk5OTk5OTk5OTk5XX0sICJ0eXBlIjogIkZlYXR1cmUiLCAicHJvcGVydGllcyI6IHsiYW5jaG9yX3giOiA0LjAsICJodG1sIjogIjxzdmcgd2lkdGg9XCI4cHhcIiBoZWlnaHQ9XCI4cHhcIiB2aWV3Qm94PVwiLTQuMCAtNC4wIDguMCA4LjBcIiB4bWxucz1cImh0dHA6Ly93d3cudzMub3JnLzIwMDAvc3ZnXCIgdmVyc2lvbj1cIjEuMVwiPiAgPHBhdGggZD1cIk0gMC4wIC0zLjAgQyAwLjc5NTYwOTMgLTMuMCAxLjU1ODczOTYxMjM1IC0yLjY4MzkwMTA3NDc2IDIuMTIxMzIwMzQzNTYgLTIuMTIxMzIwMzQzNTYgQyAyLjY4MzkwMTA3NDc2IC0xLjU1ODczOTYxMjM1IDMuMCAtMC43OTU2MDkzIDMuMCAtMC4wIEMgMy4wIDAuNzk1NjA5MyAyLjY4MzkwMTA3NDc2IDEuNTU4NzM5NjEyMzUgMi4xMjEzMjAzNDM1NiAyLjEyMTMyMDM0MzU2IEMgMS41NTg3Mzk2MTIzNSAyLjY4MzkwMTA3NDc2IDAuNzk1NjA5MyAzLjAgMC4wIDMuMCBDIC0wLjc5NTYwOTMgMy4wIC0xLjU1ODczOTYxMjM1IDIuNjgzOTAxMDc0NzYgLTIuMTIxMzIwMzQzNTYgMi4xMjEzMjAzNDM1NiBDIC0yLjY4MzkwMTA3NDc2IDEuNTU4NzM5NjEyMzUgLTMuMCAwLjc5NTYwOTMgLTMuMCAtMC4wIEMgLTMuMCAtMC43OTU2MDkzIC0yLjY4MzkwMTA3NDc2IC0xLjU1ODczOTYxMjM1IC0yLjEyMTMyMDM0MzU2IC0yLjEyMTMyMDM0MzU2IEMgLTEuNTU4NzM5NjEyMzUgLTIuNjgzOTAxMDc0NzYgLTAuNzk1NjA5MyAtMy4wIDAuMCAtMy4wIFpcIiBmaWxsLW9wYWNpdHk9XCIxXCIgc3Ryb2tlPVwiIzAwMDAwMFwiIHN0cm9rZS13aWR0aD1cIjAuNVwiIHN0cm9rZS1vcGFjaXR5PVwiMVwiIGZpbGw9XCIjMDAwMEZGXCIgLz48L3N2Zz4iLCAiYW5jaG9yX3kiOiA0LjB9fSwgeyJnZW9tZXRyeSI6IHsidHlwZSI6ICJQb2ludCIsICJjb29yZGluYXRlcyI6IFstNjkuNSwgMjUuNjk5OTk5OTk5OTk5OTk5XX0sICJ0eXBlIjogIkZlYXR1cmUiLCAicHJvcGVydGllcyI6IHsiYW5jaG9yX3giOiA0LjAsICJodG1sIjogIjxzdmcgd2lkdGg9XCI4cHhcIiBoZWlnaHQ9XCI4cHhcIiB2aWV3Qm94PVwiLTQuMCAtNC4wIDguMCA4LjBcIiB4bWxucz1cImh0dHA6Ly93d3cudzMub3JnLzIwMDAvc3ZnXCIgdmVyc2lvbj1cIjEuMVwiPiAgPHBhdGggZD1cIk0gMC4wIC0zLjAgQyAwLjc5NTYwOTMgLTMuMCAxLjU1ODczOTYxMjM1IC0yLjY4MzkwMTA3NDc2IDIuMTIxMzIwMzQzNTYgLTIuMTIxMzIwMzQzNTYgQyAyLjY4MzkwMTA3NDc2IC0xLjU1ODczOTYxMjM1IDMuMCAtMC43OTU2MDkzIDMuMCAtMC4wIEMgMy4wIDAuNzk1NjA5MyAyLjY4MzkwMTA3NDc2IDEuNTU4NzM5NjEyMzUgMi4xMjEzMjAzNDM1NiAyLjEyMTMyMDM0MzU2IEMgMS41NTg3Mzk2MTIzNSAyLjY4MzkwMTA3NDc2IDAuNzk1NjA5MyAzLjAgMC4wIDMuMCBDIC0wLjc5NTYwOTMgMy4wIC0xLjU1ODczOTYxMjM1IDIuNjgzOTAxMDc0NzYgLTIuMTIxMzIwMzQzNTYgMi4xMjEzMjAzNDM1NiBDIC0yLjY4MzkwMTA3NDc2IDEuNTU4NzM5NjEyMzUgLTMuMCAwLjc5NTYwOTMgLTMuMCAtMC4wIEMgLTMuMCAtMC43OTU2MDkzIC0yLjY4MzkwMTA3NDc2IC0xLjU1ODczOTYxMjM1IC0yLjEyMTMyMDM0MzU2IC0yLjEyMTMyMDM0MzU2IEMgLTEuNTU4NzM5NjEyMzUgLTIuNjgzOTAxMDc0NzYgLTAuNzk1NjA5MyAtMy4wIDAuMCAtMy4wIFpcIiBmaWxsLW9wYWNpdHk9XCIxXCIgc3Ryb2tlPVwiIzAwMDAwMFwiIHN0cm9rZS13aWR0aD1cIjAuNVwiIHN0cm9rZS1vcGFjaXR5PVwiMVwiIGZpbGw9XCIjMDAwMEZGXCIgLz48L3N2Zz4iLCAiYW5jaG9yX3kiOiA0LjB9fSwgeyJnZW9tZXRyeSI6IHsidHlwZSI6ICJQb2ludCIsICJjb29yZGluYXRlcyI6IFstNjkuMjk5OTk5OTk5OTk5OTk3LCAyNi4wXX0sICJ0eXBlIjogIkZlYXR1cmUiLCAicHJvcGVydGllcyI6IHsiYW5jaG9yX3giOiA0LjAsICJodG1sIjogIjxzdmcgd2lkdGg9XCI4cHhcIiBoZWlnaHQ9XCI4cHhcIiB2aWV3Qm94PVwiLTQuMCAtNC4wIDguMCA4LjBcIiB4bWxucz1cImh0dHA6Ly93d3cudzMub3JnLzIwMDAvc3ZnXCIgdmVyc2lvbj1cIjEuMVwiPiAgPHBhdGggZD1cIk0gMC4wIC0zLjAgQyAwLjc5NTYwOTMgLTMuMCAxLjU1ODczOTYxMjM1IC0yLjY4MzkwMTA3NDc2IDIuMTIxMzIwMzQzNTYgLTIuMTIxMzIwMzQzNTYgQyAyLjY4MzkwMTA3NDc2IC0xLjU1ODczOTYxMjM1IDMuMCAtMC43OTU2MDkzIDMuMCAtMC4wIEMgMy4wIDAuNzk1NjA5MyAyLjY4MzkwMTA3NDc2IDEuNTU4NzM5NjEyMzUgMi4xMjEzMjAzNDM1NiAyLjEyMTMyMDM0MzU2IEMgMS41NTg3Mzk2MTIzNSAyLjY4MzkwMTA3NDc2IDAuNzk1NjA5MyAzLjAgMC4wIDMuMCBDIC0wLjc5NTYwOTMgMy4wIC0xLjU1ODczOTYxMjM1IDIuNjgzOTAxMDc0NzYgLTIuMTIxMzIwMzQzNTYgMi4xMjEzMjAzNDM1NiBDIC0yLjY4MzkwMTA3NDc2IDEuNTU4NzM5NjEyMzUgLTMuMCAwLjc5NTYwOTMgLTMuMCAtMC4wIEMgLTMuMCAtMC43OTU2MDkzIC0yLjY4MzkwMTA3NDc2IC0xLjU1ODczOTYxMjM1IC0yLjEyMTMyMDM0MzU2IC0yLjEyMTMyMDM0MzU2IEMgLTEuNTU4NzM5NjEyMzUgLTIuNjgzOTAxMDc0NzYgLTAuNzk1NjA5MyAtMy4wIDAuMCAtMy4wIFpcIiBmaWxsLW9wYWNpdHk9XCIxXCIgc3Ryb2tlPVwiIzAwMDAwMFwiIHN0cm9rZS13aWR0aD1cIjAuNVwiIHN0cm9rZS1vcGFjaXR5PVwiMVwiIGZpbGw9XCIjMDAwMEZGXCIgLz48L3N2Zz4iLCAiYW5jaG9yX3kiOiA0LjB9fSwgeyJnZW9tZXRyeSI6IHsidHlwZSI6ICJQb2ludCIsICJjb29yZGluYXRlcyI6IFstNjguNSwgMjYuMF19LCAidHlwZSI6ICJGZWF0dXJlIiwgInByb3BlcnRpZXMiOiB7ImFuY2hvcl94IjogNC4wLCAiaHRtbCI6ICI8c3ZnIHdpZHRoPVwiOHB4XCIgaGVpZ2h0PVwiOHB4XCIgdmlld0JveD1cIi00LjAgLTQuMCA4LjAgOC4wXCIgeG1sbnM9XCJodHRwOi8vd3d3LnczLm9yZy8yMDAwL3N2Z1wiIHZlcnNpb249XCIxLjFcIj4gIDxwYXRoIGQ9XCJNIDAuMCAtMy4wIEMgMC43OTU2MDkzIC0zLjAgMS41NTg3Mzk2MTIzNSAtMi42ODM5MDEwNzQ3NiAyLjEyMTMyMDM0MzU2IC0yLjEyMTMyMDM0MzU2IEMgMi42ODM5MDEwNzQ3NiAtMS41NTg3Mzk2MTIzNSAzLjAgLTAuNzk1NjA5MyAzLjAgLTAuMCBDIDMuMCAwLjc5NTYwOTMgMi42ODM5MDEwNzQ3NiAxLjU1ODczOTYxMjM1IDIuMTIxMzIwMzQzNTYgMi4xMjEzMjAzNDM1NiBDIDEuNTU4NzM5NjEyMzUgMi42ODM5MDEwNzQ3NiAwLjc5NTYwOTMgMy4wIDAuMCAzLjAgQyAtMC43OTU2MDkzIDMuMCAtMS41NTg3Mzk2MTIzNSAyLjY4MzkwMTA3NDc2IC0yLjEyMTMyMDM0MzU2IDIuMTIxMzIwMzQzNTYgQyAtMi42ODM5MDEwNzQ3NiAxLjU1ODczOTYxMjM1IC0zLjAgMC43OTU2MDkzIC0zLjAgLTAuMCBDIC0zLjAgLTAuNzk1NjA5MyAtMi42ODM5MDEwNzQ3NiAtMS41NTg3Mzk2MTIzNSAtMi4xMjEzMjAzNDM1NiAtMi4xMjEzMjAzNDM1NiBDIC0xLjU1ODczOTYxMjM1IC0yLjY4MzkwMTA3NDc2IC0wLjc5NTYwOTMgLTMuMCAwLjAgLTMuMCBaXCIgZmlsbC1vcGFjaXR5PVwiMVwiIHN0cm9rZT1cIiMwMDAwMDBcIiBzdHJva2Utd2lkdGg9XCIwLjVcIiBzdHJva2Utb3BhY2l0eT1cIjFcIiBmaWxsPVwiIzAwMDBGRlwiIC8+PC9zdmc+IiwgImFuY2hvcl95IjogNC4wfX0sIHsiZ2VvbWV0cnkiOiB7InR5cGUiOiAiUG9pbnQiLCAiY29vcmRpbmF0ZXMiOiBbLTY3LjUsIDI1LjgwMDAwMDAwMDAwMDAwMV19LCAidHlwZSI6ICJGZWF0dXJlIiwgInByb3BlcnRpZXMiOiB7ImFuY2hvcl94IjogNC4wLCAiaHRtbCI6ICI8c3ZnIHdpZHRoPVwiOHB4XCIgaGVpZ2h0PVwiOHB4XCIgdmlld0JveD1cIi00LjAgLTQuMCA4LjAgOC4wXCIgeG1sbnM9XCJodHRwOi8vd3d3LnczLm9yZy8yMDAwL3N2Z1wiIHZlcnNpb249XCIxLjFcIj4gIDxwYXRoIGQ9XCJNIDAuMCAtMy4wIEMgMC43OTU2MDkzIC0zLjAgMS41NTg3Mzk2MTIzNSAtMi42ODM5MDEwNzQ3NiAyLjEyMTMyMDM0MzU2IC0yLjEyMTMyMDM0MzU2IEMgMi42ODM5MDEwNzQ3NiAtMS41NTg3Mzk2MTIzNSAzLjAgLTAuNzk1NjA5MyAzLjAgLTAuMCBDIDMuMCAwLjc5NTYwOTMgMi42ODM5MDEwNzQ3NiAxLjU1ODczOTYxMjM1IDIuMTIxMzIwMzQzNTYgMi4xMjEzMjAzNDM1NiBDIDEuNTU4NzM5NjEyMzUgMi42ODM5MDEwNzQ3NiAwLjc5NTYwOTMgMy4wIDAuMCAzLjAgQyAtMC43OTU2MDkzIDMuMCAtMS41NTg3Mzk2MTIzNSAyLjY4MzkwMTA3NDc2IC0yLjEyMTMyMDM0MzU2IDIuMTIxMzIwMzQzNTYgQyAtMi42ODM5MDEwNzQ3NiAxLjU1ODczOTYxMjM1IC0zLjAgMC43OTU2MDkzIC0zLjAgLTAuMCBDIC0zLjAgLTAuNzk1NjA5MyAtMi42ODM5MDEwNzQ3NiAtMS41NTg3Mzk2MTIzNSAtMi4xMjEzMjAzNDM1NiAtMi4xMjEzMjAzNDM1NiBDIC0xLjU1ODczOTYxMjM1IC0yLjY4MzkwMTA3NDc2IC0wLjc5NTYwOTMgLTMuMCAwLjAgLTMuMCBaXCIgZmlsbC1vcGFjaXR5PVwiMVwiIHN0cm9rZT1cIiMwMDAwMDBcIiBzdHJva2Utd2lkdGg9XCIwLjVcIiBzdHJva2Utb3BhY2l0eT1cIjFcIiBmaWxsPVwiIzAwMDBGRlwiIC8+PC9zdmc+IiwgImFuY2hvcl95IjogNC4wfX0sIHsiZ2VvbWV0cnkiOiB7InR5cGUiOiAiUG9pbnQiLCAiY29vcmRpbmF0ZXMiOiBbLTY2LjIwMDAwMDAwMDAwMDAwMywgMjUuNjAwMDAwMDAwMDAwMDAxXX0sICJ0eXBlIjogIkZlYXR1cmUiLCAicHJvcGVydGllcyI6IHsiYW5jaG9yX3giOiA0LjAsICJodG1sIjogIjxzdmcgd2lkdGg9XCI4cHhcIiBoZWlnaHQ9XCI4cHhcIiB2aWV3Qm94PVwiLTQuMCAtNC4wIDguMCA4LjBcIiB4bWxucz1cImh0dHA6Ly93d3cudzMub3JnLzIwMDAvc3ZnXCIgdmVyc2lvbj1cIjEuMVwiPiAgPHBhdGggZD1cIk0gMC4wIC0zLjAgQyAwLjc5NTYwOTMgLTMuMCAxLjU1ODczOTYxMjM1IC0yLjY4MzkwMTA3NDc2IDIuMTIxMzIwMzQzNTYgLTIuMTIxMzIwMzQzNTYgQyAyLjY4MzkwMTA3NDc2IC0xLjU1ODczOTYxMjM1IDMuMCAtMC43OTU2MDkzIDMuMCAtMC4wIEMgMy4wIDAuNzk1NjA5MyAyLjY4MzkwMTA3NDc2IDEuNTU4NzM5NjEyMzUgMi4xMjEzMjAzNDM1NiAyLjEyMTMyMDM0MzU2IEMgMS41NTg3Mzk2MTIzNSAyLjY4MzkwMTA3NDc2IDAuNzk1NjA5MyAzLjAgMC4wIDMuMCBDIC0wLjc5NTYwOTMgMy4wIC0xLjU1ODczOTYxMjM1IDIuNjgzOTAxMDc0NzYgLTIuMTIxMzIwMzQzNTYgMi4xMjEzMjAzNDM1NiBDIC0yLjY4MzkwMTA3NDc2IDEuNTU4NzM5NjEyMzUgLTMuMCAwLjc5NTYwOTMgLTMuMCAtMC4wIEMgLTMuMCAtMC43OTU2MDkzIC0yLjY4MzkwMTA3NDc2IC0xLjU1ODczOTYxMjM1IC0yLjEyMTMyMDM0MzU2IC0yLjEyMTMyMDM0MzU2IEMgLTEuNTU4NzM5NjEyMzUgLTIuNjgzOTAxMDc0NzYgLTAuNzk1NjA5MyAtMy4wIDAuMCAtMy4wIFpcIiBmaWxsLW9wYWNpdHk9XCIxXCIgc3Ryb2tlPVwiIzAwMDAwMFwiIHN0cm9rZS13aWR0aD1cIjAuNVwiIHN0cm9rZS1vcGFjaXR5PVwiMVwiIGZpbGw9XCIjMDAwMEZGXCIgLz48L3N2Zz4iLCAiYW5jaG9yX3kiOiA0LjB9fSwgeyJnZW9tZXRyeSI6IHsidHlwZSI6ICJQb2ludCIsICJjb29yZGluYXRlcyI6IFstNjQuNSwgMjUuODAwMDAwMDAwMDAwMDAxXX0sICJ0eXBlIjogIkZlYXR1cmUiLCAicHJvcGVydGllcyI6IHsiYW5jaG9yX3giOiA0LjAsICJodG1sIjogIjxzdmcgd2lkdGg9XCI4cHhcIiBoZWlnaHQ9XCI4cHhcIiB2aWV3Qm94PVwiLTQuMCAtNC4wIDguMCA4LjBcIiB4bWxucz1cImh0dHA6Ly93d3cudzMub3JnLzIwMDAvc3ZnXCIgdmVyc2lvbj1cIjEuMVwiPiAgPHBhdGggZD1cIk0gMC4wIC0zLjAgQyAwLjc5NTYwOTMgLTMuMCAxLjU1ODczOTYxMjM1IC0yLjY4MzkwMTA3NDc2IDIuMTIxMzIwMzQzNTYgLTIuMTIxMzIwMzQzNTYgQyAyLjY4MzkwMTA3NDc2IC0xLjU1ODczOTYxMjM1IDMuMCAtMC43OTU2MDkzIDMuMCAtMC4wIEMgMy4wIDAuNzk1NjA5MyAyLjY4MzkwMTA3NDc2IDEuNTU4NzM5NjEyMzUgMi4xMjEzMjAzNDM1NiAyLjEyMTMyMDM0MzU2IEMgMS41NTg3Mzk2MTIzNSAyLjY4MzkwMTA3NDc2IDAuNzk1NjA5MyAzLjAgMC4wIDMuMCBDIC0wLjc5NTYwOTMgMy4wIC0xLjU1ODczOTYxMjM1IDIuNjgzOTAxMDc0NzYgLTIuMTIxMzIwMzQzNTYgMi4xMjEzMjAzNDM1NiBDIC0yLjY4MzkwMTA3NDc2IDEuNTU4NzM5NjEyMzUgLTMuMCAwLjc5NTYwOTMgLTMuMCAtMC4wIEMgLTMuMCAtMC43OTU2MDkzIC0yLjY4MzkwMTA3NDc2IC0xLjU1ODczOTYxMjM1IC0yLjEyMTMyMDM0MzU2IC0yLjEyMTMyMDM0MzU2IEMgLTEuNTU4NzM5NjEyMzUgLTIuNjgzOTAxMDc0NzYgLTAuNzk1NjA5MyAtMy4wIDAuMCAtMy4wIFpcIiBmaWxsLW9wYWNpdHk9XCIxXCIgc3Ryb2tlPVwiIzAwMDAwMFwiIHN0cm9rZS13aWR0aD1cIjAuNVwiIHN0cm9rZS1vcGFjaXR5PVwiMVwiIGZpbGw9XCIjMDAwMEZGXCIgLz48L3N2Zz4iLCAiYW5jaG9yX3kiOiA0LjB9fSwgeyJnZW9tZXRyeSI6IHsidHlwZSI6ICJQb2ludCIsICJjb29yZGluYXRlcyI6IFstNjIuMjk5OTk5OTk5OTk5OTk3LCAyNi41XX0sICJ0eXBlIjogIkZlYXR1cmUiLCAicHJvcGVydGllcyI6IHsiYW5jaG9yX3giOiA0LjAsICJodG1sIjogIjxzdmcgd2lkdGg9XCI4cHhcIiBoZWlnaHQ9XCI4cHhcIiB2aWV3Qm94PVwiLTQuMCAtNC4wIDguMCA4LjBcIiB4bWxucz1cImh0dHA6Ly93d3cudzMub3JnLzIwMDAvc3ZnXCIgdmVyc2lvbj1cIjEuMVwiPiAgPHBhdGggZD1cIk0gMC4wIC0zLjAgQyAwLjc5NTYwOTMgLTMuMCAxLjU1ODczOTYxMjM1IC0yLjY4MzkwMTA3NDc2IDIuMTIxMzIwMzQzNTYgLTIuMTIxMzIwMzQzNTYgQyAyLjY4MzkwMTA3NDc2IC0xLjU1ODczOTYxMjM1IDMuMCAtMC43OTU2MDkzIDMuMCAtMC4wIEMgMy4wIDAuNzk1NjA5MyAyLjY4MzkwMTA3NDc2IDEuNTU4NzM5NjEyMzUgMi4xMjEzMjAzNDM1NiAyLjEyMTMyMDM0MzU2IEMgMS41NTg3Mzk2MTIzNSAyLjY4MzkwMTA3NDc2IDAuNzk1NjA5MyAzLjAgMC4wIDMuMCBDIC0wLjc5NTYwOTMgMy4wIC0xLjU1ODczOTYxMjM1IDIuNjgzOTAxMDc0NzYgLTIuMTIxMzIwMzQzNTYgMi4xMjEzMjAzNDM1NiBDIC0yLjY4MzkwMTA3NDc2IDEuNTU4NzM5NjEyMzUgLTMuMCAwLjc5NTYwOTMgLTMuMCAtMC4wIEMgLTMuMCAtMC43OTU2MDkzIC0yLjY4MzkwMTA3NDc2IC0xLjU1ODczOTYxMjM1IC0yLjEyMTMyMDM0MzU2IC0yLjEyMTMyMDM0MzU2IEMgLTEuNTU4NzM5NjEyMzUgLTIuNjgzOTAxMDc0NzYgLTAuNzk1NjA5MyAtMy4wIDAuMCAtMy4wIFpcIiBmaWxsLW9wYWNpdHk9XCIxXCIgc3Ryb2tlPVwiIzAwMDAwMFwiIHN0cm9rZS13aWR0aD1cIjAuNVwiIHN0cm9rZS1vcGFjaXR5PVwiMVwiIGZpbGw9XCIjMDAwMEZGXCIgLz48L3N2Zz4iLCAiYW5jaG9yX3kiOiA0LjB9fSwgeyJnZW9tZXRyeSI6IHsidHlwZSI6ICJQb2ludCIsICJjb29yZGluYXRlcyI6IFstNjAuMzk5OTk5OTk5OTk5OTk5LCAyNy44OTk5OTk5OTk5OTk5OTldfSwgInR5cGUiOiAiRmVhdHVyZSIsICJwcm9wZXJ0aWVzIjogeyJhbmNob3JfeCI6IDQuMCwgImh0bWwiOiAiPHN2ZyB3aWR0aD1cIjhweFwiIGhlaWdodD1cIjhweFwiIHZpZXdCb3g9XCItNC4wIC00LjAgOC4wIDguMFwiIHhtbG5zPVwiaHR0cDovL3d3dy53My5vcmcvMjAwMC9zdmdcIiB2ZXJzaW9uPVwiMS4xXCI+ICA8cGF0aCBkPVwiTSAwLjAgLTMuMCBDIDAuNzk1NjA5MyAtMy4wIDEuNTU4NzM5NjEyMzUgLTIuNjgzOTAxMDc0NzYgMi4xMjEzMjAzNDM1NiAtMi4xMjEzMjAzNDM1NiBDIDIuNjgzOTAxMDc0NzYgLTEuNTU4NzM5NjEyMzUgMy4wIC0wLjc5NTYwOTMgMy4wIC0wLjAgQyAzLjAgMC43OTU2MDkzIDIuNjgzOTAxMDc0NzYgMS41NTg3Mzk2MTIzNSAyLjEyMTMyMDM0MzU2IDIuMTIxMzIwMzQzNTYgQyAxLjU1ODczOTYxMjM1IDIuNjgzOTAxMDc0NzYgMC43OTU2MDkzIDMuMCAwLjAgMy4wIEMgLTAuNzk1NjA5MyAzLjAgLTEuNTU4NzM5NjEyMzUgMi42ODM5MDEwNzQ3NiAtMi4xMjEzMjAzNDM1NiAyLjEyMTMyMDM0MzU2IEMgLTIuNjgzOTAxMDc0NzYgMS41NTg3Mzk2MTIzNSAtMy4wIDAuNzk1NjA5MyAtMy4wIC0wLjAgQyAtMy4wIC0wLjc5NTYwOTMgLTIuNjgzOTAxMDc0NzYgLTEuNTU4NzM5NjEyMzUgLTIuMTIxMzIwMzQzNTYgLTIuMTIxMzIwMzQzNTYgQyAtMS41NTg3Mzk2MTIzNSAtMi42ODM5MDEwNzQ3NiAtMC43OTU2MDkzIC0zLjAgMC4wIC0zLjAgWlwiIGZpbGwtb3BhY2l0eT1cIjFcIiBzdHJva2U9XCIjMDAwMDAwXCIgc3Ryb2tlLXdpZHRoPVwiMC41XCIgc3Ryb2tlLW9wYWNpdHk9XCIxXCIgZmlsbD1cIiMwMDAwRkZcIiAvPjwvc3ZnPiIsICJhbmNob3JfeSI6IDQuMH19LCB7Imdlb21ldHJ5IjogeyJ0eXBlIjogIlBvaW50IiwgImNvb3JkaW5hdGVzIjogWy01OC42MDAwMDAwMDAwMDAwMDEsIDI5LjM5OTk5OTk5OTk5OTk5OV19LCAidHlwZSI6ICJGZWF0dXJlIiwgInByb3BlcnRpZXMiOiB7ImFuY2hvcl94IjogNC4wLCAiaHRtbCI6ICI8c3ZnIHdpZHRoPVwiOHB4XCIgaGVpZ2h0PVwiOHB4XCIgdmlld0JveD1cIi00LjAgLTQuMCA4LjAgOC4wXCIgeG1sbnM9XCJodHRwOi8vd3d3LnczLm9yZy8yMDAwL3N2Z1wiIHZlcnNpb249XCIxLjFcIj4gIDxwYXRoIGQ9XCJNIDAuMCAtMy4wIEMgMC43OTU2MDkzIC0zLjAgMS41NTg3Mzk2MTIzNSAtMi42ODM5MDEwNzQ3NiAyLjEyMTMyMDM0MzU2IC0yLjEyMTMyMDM0MzU2IEMgMi42ODM5MDEwNzQ3NiAtMS41NTg3Mzk2MTIzNSAzLjAgLTAuNzk1NjA5MyAzLjAgLTAuMCBDIDMuMCAwLjc5NTYwOTMgMi42ODM5MDEwNzQ3NiAxLjU1ODczOTYxMjM1IDIuMTIxMzIwMzQzNTYgMi4xMjEzMjAzNDM1NiBDIDEuNTU4NzM5NjEyMzUgMi42ODM5MDEwNzQ3NiAwLjc5NTYwOTMgMy4wIDAuMCAzLjAgQyAtMC43OTU2MDkzIDMuMCAtMS41NTg3Mzk2MTIzNSAyLjY4MzkwMTA3NDc2IC0yLjEyMTMyMDM0MzU2IDIuMTIxMzIwMzQzNTYgQyAtMi42ODM5MDEwNzQ3NiAxLjU1ODczOTYxMjM1IC0zLjAgMC43OTU2MDkzIC0zLjAgLTAuMCBDIC0zLjAgLTAuNzk1NjA5MyAtMi42ODM5MDEwNzQ3NiAtMS41NTg3Mzk2MTIzNSAtMi4xMjEzMjAzNDM1NiAtMi4xMjEzMjAzNDM1NiBDIC0xLjU1ODczOTYxMjM1IC0yLjY4MzkwMTA3NDc2IC0wLjc5NTYwOTMgLTMuMCAwLjAgLTMuMCBaXCIgZmlsbC1vcGFjaXR5PVwiMVwiIHN0cm9rZT1cIiMwMDAwMDBcIiBzdHJva2Utd2lkdGg9XCIwLjVcIiBzdHJva2Utb3BhY2l0eT1cIjFcIiBmaWxsPVwiIzAwMDBGRlwiIC8+PC9zdmc+IiwgImFuY2hvcl95IjogNC4wfX0sIHsiZ2VvbWV0cnkiOiB7InR5cGUiOiAiUG9pbnQiLCAiY29vcmRpbmF0ZXMiOiBbLTU2Ljg5OTk5OTk5OTk5OTk5OSwgMzEuMF19LCAidHlwZSI6ICJGZWF0dXJlIiwgInByb3BlcnRpZXMiOiB7ImFuY2hvcl94IjogNC4wLCAiaHRtbCI6ICI8c3ZnIHdpZHRoPVwiOHB4XCIgaGVpZ2h0PVwiOHB4XCIgdmlld0JveD1cIi00LjAgLTQuMCA4LjAgOC4wXCIgeG1sbnM9XCJodHRwOi8vd3d3LnczLm9yZy8yMDAwL3N2Z1wiIHZlcnNpb249XCIxLjFcIj4gIDxwYXRoIGQ9XCJNIDAuMCAtMy4wIEMgMC43OTU2MDkzIC0zLjAgMS41NTg3Mzk2MTIzNSAtMi42ODM5MDEwNzQ3NiAyLjEyMTMyMDM0MzU2IC0yLjEyMTMyMDM0MzU2IEMgMi42ODM5MDEwNzQ3NiAtMS41NTg3Mzk2MTIzNSAzLjAgLTAuNzk1NjA5MyAzLjAgLTAuMCBDIDMuMCAwLjc5NTYwOTMgMi42ODM5MDEwNzQ3NiAxLjU1ODczOTYxMjM1IDIuMTIxMzIwMzQzNTYgMi4xMjEzMjAzNDM1NiBDIDEuNTU4NzM5NjEyMzUgMi42ODM5MDEwNzQ3NiAwLjc5NTYwOTMgMy4wIDAuMCAzLjAgQyAtMC43OTU2MDkzIDMuMCAtMS41NTg3Mzk2MTIzNSAyLjY4MzkwMTA3NDc2IC0yLjEyMTMyMDM0MzU2IDIuMTIxMzIwMzQzNTYgQyAtMi42ODM5MDEwNzQ3NiAxLjU1ODczOTYxMjM1IC0zLjAgMC43OTU2MDkzIC0zLjAgLTAuMCBDIC0zLjAgLTAuNzk1NjA5MyAtMi42ODM5MDEwNzQ3NiAtMS41NTg3Mzk2MTIzNSAtMi4xMjEzMjAzNDM1NiAtMi4xMjEzMjAzNDM1NiBDIC0xLjU1ODczOTYxMjM1IC0yLjY4MzkwMTA3NDc2IC0wLjc5NTYwOTMgLTMuMCAwLjAgLTMuMCBaXCIgZmlsbC1vcGFjaXR5PVwiMVwiIHN0cm9rZT1cIiMwMDAwMDBcIiBzdHJva2Utd2lkdGg9XCIwLjVcIiBzdHJva2Utb3BhY2l0eT1cIjFcIiBmaWxsPVwiIzAwMDBGRlwiIC8+PC9zdmc+IiwgImFuY2hvcl95IjogNC4wfX0sIHsiZ2VvbWV0cnkiOiB7InR5cGUiOiAiUG9pbnQiLCAiY29vcmRpbmF0ZXMiOiBbLTU1LjM5OTk5OTk5OTk5OTk5OSwgMzMuMjk5OTk5OTk5OTk5OTk3XX0sICJ0eXBlIjogIkZlYXR1cmUiLCAicHJvcGVydGllcyI6IHsiYW5jaG9yX3giOiA0LjAsICJodG1sIjogIjxzdmcgd2lkdGg9XCI4cHhcIiBoZWlnaHQ9XCI4cHhcIiB2aWV3Qm94PVwiLTQuMCAtNC4wIDguMCA4LjBcIiB4bWxucz1cImh0dHA6Ly93d3cudzMub3JnLzIwMDAvc3ZnXCIgdmVyc2lvbj1cIjEuMVwiPiAgPHBhdGggZD1cIk0gMC4wIC0zLjAgQyAwLjc5NTYwOTMgLTMuMCAxLjU1ODczOTYxMjM1IC0yLjY4MzkwMTA3NDc2IDIuMTIxMzIwMzQzNTYgLTIuMTIxMzIwMzQzNTYgQyAyLjY4MzkwMTA3NDc2IC0xLjU1ODczOTYxMjM1IDMuMCAtMC43OTU2MDkzIDMuMCAtMC4wIEMgMy4wIDAuNzk1NjA5MyAyLjY4MzkwMTA3NDc2IDEuNTU4NzM5NjEyMzUgMi4xMjEzMjAzNDM1NiAyLjEyMTMyMDM0MzU2IEMgMS41NTg3Mzk2MTIzNSAyLjY4MzkwMTA3NDc2IDAuNzk1NjA5MyAzLjAgMC4wIDMuMCBDIC0wLjc5NTYwOTMgMy4wIC0xLjU1ODczOTYxMjM1IDIuNjgzOTAxMDc0NzYgLTIuMTIxMzIwMzQzNTYgMi4xMjEzMjAzNDM1NiBDIC0yLjY4MzkwMTA3NDc2IDEuNTU4NzM5NjEyMzUgLTMuMCAwLjc5NTYwOTMgLTMuMCAtMC4wIEMgLTMuMCAtMC43OTU2MDkzIC0yLjY4MzkwMTA3NDc2IC0xLjU1ODczOTYxMjM1IC0yLjEyMTMyMDM0MzU2IC0yLjEyMTMyMDM0MzU2IEMgLTEuNTU4NzM5NjEyMzUgLTIuNjgzOTAxMDc0NzYgLTAuNzk1NjA5MyAtMy4wIDAuMCAtMy4wIFpcIiBmaWxsLW9wYWNpdHk9XCIxXCIgc3Ryb2tlPVwiIzAwMDAwMFwiIHN0cm9rZS13aWR0aD1cIjAuNVwiIHN0cm9rZS1vcGFjaXR5PVwiMVwiIGZpbGw9XCIjMDAwMEZGXCIgLz48L3N2Zz4iLCAiYW5jaG9yX3kiOiA0LjB9fSwgeyJnZW9tZXRyeSI6IHsidHlwZSI6ICJQb2ludCIsICJjb29yZGluYXRlcyI6IFstNTQuMCwgMzYuMF19LCAidHlwZSI6ICJGZWF0dXJlIiwgInByb3BlcnRpZXMiOiB7ImFuY2hvcl94IjogNC4wLCAiaHRtbCI6ICI8c3ZnIHdpZHRoPVwiOHB4XCIgaGVpZ2h0PVwiOHB4XCIgdmlld0JveD1cIi00LjAgLTQuMCA4LjAgOC4wXCIgeG1sbnM9XCJodHRwOi8vd3d3LnczLm9yZy8yMDAwL3N2Z1wiIHZlcnNpb249XCIxLjFcIj4gIDxwYXRoIGQ9XCJNIDAuMCAtMy4wIEMgMC43OTU2MDkzIC0zLjAgMS41NTg3Mzk2MTIzNSAtMi42ODM5MDEwNzQ3NiAyLjEyMTMyMDM0MzU2IC0yLjEyMTMyMDM0MzU2IEMgMi42ODM5MDEwNzQ3NiAtMS41NTg3Mzk2MTIzNSAzLjAgLTAuNzk1NjA5MyAzLjAgLTAuMCBDIDMuMCAwLjc5NTYwOTMgMi42ODM5MDEwNzQ3NiAxLjU1ODczOTYxMjM1IDIuMTIxMzIwMzQzNTYgMi4xMjEzMjAzNDM1NiBDIDEuNTU4NzM5NjEyMzUgMi42ODM5MDEwNzQ3NiAwLjc5NTYwOTMgMy4wIDAuMCAzLjAgQyAtMC43OTU2MDkzIDMuMCAtMS41NTg3Mzk2MTIzNSAyLjY4MzkwMTA3NDc2IC0yLjEyMTMyMDM0MzU2IDIuMTIxMzIwMzQzNTYgQyAtMi42ODM5MDEwNzQ3NiAxLjU1ODczOTYxMjM1IC0zLjAgMC43OTU2MDkzIC0zLjAgLTAuMCBDIC0zLjAgLTAuNzk1NjA5MyAtMi42ODM5MDEwNzQ3NiAtMS41NTg3Mzk2MTIzNSAtMi4xMjEzMjAzNDM1NiAtMi4xMjEzMjAzNDM1NiBDIC0xLjU1ODczOTYxMjM1IC0yLjY4MzkwMTA3NDc2IC0wLjc5NTYwOTMgLTMuMCAwLjAgLTMuMCBaXCIgZmlsbC1vcGFjaXR5PVwiMVwiIHN0cm9rZT1cIiMwMDAwMDBcIiBzdHJva2Utd2lkdGg9XCIwLjVcIiBzdHJva2Utb3BhY2l0eT1cIjFcIiBmaWxsPVwiIzAwMDBGRlwiIC8+PC9zdmc+IiwgImFuY2hvcl95IjogNC4wfX0sIHsiZ2VvbWV0cnkiOiB7InR5cGUiOiAiUG9pbnQiLCAiY29vcmRpbmF0ZXMiOiBbLTUzLjUsIDM5LjBdfSwgInR5cGUiOiAiRmVhdHVyZSIsICJwcm9wZXJ0aWVzIjogeyJhbmNob3JfeCI6IDQuMCwgImh0bWwiOiAiPHN2ZyB3aWR0aD1cIjhweFwiIGhlaWdodD1cIjhweFwiIHZpZXdCb3g9XCItNC4wIC00LjAgOC4wIDguMFwiIHhtbG5zPVwiaHR0cDovL3d3dy53My5vcmcvMjAwMC9zdmdcIiB2ZXJzaW9uPVwiMS4xXCI+ICA8cGF0aCBkPVwiTSAwLjAgLTMuMCBDIDAuNzk1NjA5MyAtMy4wIDEuNTU4NzM5NjEyMzUgLTIuNjgzOTAxMDc0NzYgMi4xMjEzMjAzNDM1NiAtMi4xMjEzMjAzNDM1NiBDIDIuNjgzOTAxMDc0NzYgLTEuNTU4NzM5NjEyMzUgMy4wIC0wLjc5NTYwOTMgMy4wIC0wLjAgQyAzLjAgMC43OTU2MDkzIDIuNjgzOTAxMDc0NzYgMS41NTg3Mzk2MTIzNSAyLjEyMTMyMDM0MzU2IDIuMTIxMzIwMzQzNTYgQyAxLjU1ODczOTYxMjM1IDIuNjgzOTAxMDc0NzYgMC43OTU2MDkzIDMuMCAwLjAgMy4wIEMgLTAuNzk1NjA5MyAzLjAgLTEuNTU4NzM5NjEyMzUgMi42ODM5MDEwNzQ3NiAtMi4xMjEzMjAzNDM1NiAyLjEyMTMyMDM0MzU2IEMgLTIuNjgzOTAxMDc0NzYgMS41NTg3Mzk2MTIzNSAtMy4wIDAuNzk1NjA5MyAtMy4wIC0wLjAgQyAtMy4wIC0wLjc5NTYwOTMgLTIuNjgzOTAxMDc0NzYgLTEuNTU4NzM5NjEyMzUgLTIuMTIxMzIwMzQzNTYgLTIuMTIxMzIwMzQzNTYgQyAtMS41NTg3Mzk2MTIzNSAtMi42ODM5MDEwNzQ3NiAtMC43OTU2MDkzIC0zLjAgMC4wIC0zLjAgWlwiIGZpbGwtb3BhY2l0eT1cIjFcIiBzdHJva2U9XCIjMDAwMDAwXCIgc3Ryb2tlLXdpZHRoPVwiMC41XCIgc3Ryb2tlLW9wYWNpdHk9XCIxXCIgZmlsbD1cIiMwMDAwRkZcIiAvPjwvc3ZnPiIsICJhbmNob3JfeSI6IDQuMH19LCB7Imdlb21ldHJ5IjogeyJ0eXBlIjogIlBvaW50IiwgImNvb3JkaW5hdGVzIjogWy01My41LCA0Mi4wXX0sICJ0eXBlIjogIkZlYXR1cmUiLCAicHJvcGVydGllcyI6IHsiYW5jaG9yX3giOiA0LjAsICJodG1sIjogIjxzdmcgd2lkdGg9XCI4cHhcIiBoZWlnaHQ9XCI4cHhcIiB2aWV3Qm94PVwiLTQuMCAtNC4wIDguMCA4LjBcIiB4bWxucz1cImh0dHA6Ly93d3cudzMub3JnLzIwMDAvc3ZnXCIgdmVyc2lvbj1cIjEuMVwiPiAgPHBhdGggZD1cIk0gMC4wIC0zLjAgQyAwLjc5NTYwOTMgLTMuMCAxLjU1ODczOTYxMjM1IC0yLjY4MzkwMTA3NDc2IDIuMTIxMzIwMzQzNTYgLTIuMTIxMzIwMzQzNTYgQyAyLjY4MzkwMTA3NDc2IC0xLjU1ODczOTYxMjM1IDMuMCAtMC43OTU2MDkzIDMuMCAtMC4wIEMgMy4wIDAuNzk1NjA5MyAyLjY4MzkwMTA3NDc2IDEuNTU4NzM5NjEyMzUgMi4xMjEzMjAzNDM1NiAyLjEyMTMyMDM0MzU2IEMgMS41NTg3Mzk2MTIzNSAyLjY4MzkwMTA3NDc2IDAuNzk1NjA5MyAzLjAgMC4wIDMuMCBDIC0wLjc5NTYwOTMgMy4wIC0xLjU1ODczOTYxMjM1IDIuNjgzOTAxMDc0NzYgLTIuMTIxMzIwMzQzNTYgMi4xMjEzMjAzNDM1NiBDIC0yLjY4MzkwMTA3NDc2IDEuNTU4NzM5NjEyMzUgLTMuMCAwLjc5NTYwOTMgLTMuMCAtMC4wIEMgLTMuMCAtMC43OTU2MDkzIC0yLjY4MzkwMTA3NDc2IC0xLjU1ODczOTYxMjM1IC0yLjEyMTMyMDM0MzU2IC0yLjEyMTMyMDM0MzU2IEMgLTEuNTU4NzM5NjEyMzUgLTIuNjgzOTAxMDc0NzYgLTAuNzk1NjA5MyAtMy4wIDAuMCAtMy4wIFpcIiBmaWxsLW9wYWNpdHk9XCIxXCIgc3Ryb2tlPVwiIzAwMDAwMFwiIHN0cm9rZS13aWR0aD1cIjAuNVwiIHN0cm9rZS1vcGFjaXR5PVwiMVwiIGZpbGw9XCIjMDAwMEZGXCIgLz48L3N2Zz4iLCAiYW5jaG9yX3kiOiA0LjB9fV19OwoKaWYgKGdqRGF0YS5mZWF0dXJlcy5sZW5ndGggIT0gMCkgewogIHZhciBnaiA9IEwuZ2VvSnNvbihnakRhdGEsIHsKICAgIHN0eWxlOiBmdW5jdGlvbiAoZmVhdHVyZSkgewogICAgICByZXR1cm4gZmVhdHVyZS5wcm9wZXJ0aWVzOwogICAgfSwKICAgIHBvaW50VG9MYXllcjogZnVuY3Rpb24gKGZlYXR1cmUsIGxhdGxuZykgewogICAgICB2YXIgaWNvbiA9IEwuZGl2SWNvbih7J2h0bWwnOiBmZWF0dXJlLnByb3BlcnRpZXMuaHRtbCwgCiAgICAgICAgaWNvbkFuY2hvcjogW2ZlYXR1cmUucHJvcGVydGllcy5hbmNob3JfeCwgCiAgICAgICAgICAgICAgICAgICAgIGZlYXR1cmUucHJvcGVydGllcy5hbmNob3JfeV0sIAogICAgICAgICAgY2xhc3NOYW1lOiAnZW1wdHknfSk7ICAvLyBXaGF0IGNhbiBJIGRvIGFib3V0IGVtcHR5PwogICAgICByZXR1cm4gTC5tYXJrZXIobGF0bG5nLCB7aWNvbjogaWNvbn0pOwogICAgfQogIH0pOwogIGdqLmFkZFRvKG1hcCk7CiAgCiAgbWFwLmZpdEJvdW5kcyhnai5nZXRCb3VuZHMoKSk7Cn0gZWxzZSB7CiAgbWFwLnNldFZpZXcoWzAsIDBdLCAxKTsKfQo8L3NjcmlwdD4KPC9ib2R5Pg==\" width=\"100%\" height=\"240\"></iframe>"
      ],
      "text/plain": [
       "<IPython.core.display.HTML object>"
      ]
     },
     "execution_count": 20,
     "metadata": {},
     "output_type": "execute_result"
    }
   ],
   "source": [
    "plt.plot(hur1['Longitude'],hur1['Latitude'],'o--')\n",
    "mplleaflet.display()"
   ]
  },
  {
   "cell_type": "code",
   "execution_count": 21,
   "metadata": {
    "collapsed": false
   },
   "outputs": [],
   "source": [
    "idf=hur1.iloc[0].Serial_Num"
   ]
  },
  {
   "cell_type": "code",
   "execution_count": 22,
   "metadata": {
    "collapsed": false
   },
   "outputs": [],
   "source": [
    "filename=glob.glob('../BestTrack/ibtracs/{}*'.format(idf))"
   ]
  },
  {
   "cell_type": "code",
   "execution_count": 23,
   "metadata": {
    "collapsed": true
   },
   "outputs": [],
   "source": [
    "dat=Dataset(filename[0])"
   ]
  },
  {
   "cell_type": "code",
   "execution_count": 24,
   "metadata": {
    "collapsed": false
   },
   "outputs": [
    {
     "data": {
      "text/plain": [
       "[u'nobs_wmo',\n",
       " u'nobs',\n",
       " u'genesis_basin',\n",
       " u'num_basins',\n",
       " u'season',\n",
       " u'source',\n",
       " u'track_from_source',\n",
       " u'name_from_source',\n",
       " u'time_wmo',\n",
       " u'isotime_wmo',\n",
       " u'source_wmo',\n",
       " u'averaging_time',\n",
       " u'lat_wmo',\n",
       " u'lon_wmo',\n",
       " u'wind_wmo',\n",
       " u'pres_wmo',\n",
       " u'basin_wmo',\n",
       " u'sub_basin_wmo',\n",
       " u'nature_wmo',\n",
       " u'dist2land_wmo',\n",
       " u'landfall_wmo',\n",
       " u'pres_perc_wmo',\n",
       " u'wind_perc_wmo',\n",
       " u'time',\n",
       " u'isotime',\n",
       " u'lat_for_mapping',\n",
       " u'lon_for_mapping',\n",
       " u'wind_for_mapping',\n",
       " u'pres_for_mapping',\n",
       " u'nature_for_mapping',\n",
       " u'dist2land',\n",
       " u'landfall',\n",
       " u'lat_from_source',\n",
       " u'lon_from_source',\n",
       " u'wind_from_source',\n",
       " u'wind_avg_period',\n",
       " u'wind_perc_from_source',\n",
       " u'pres_from_source',\n",
       " u'pres_perc_from_source',\n",
       " u'basin',\n",
       " u'sub_basin',\n",
       " u'pos_stdev',\n",
       " u'pos_num',\n",
       " u'pos_flag',\n",
       " u'wind_quality',\n",
       " u'wind_stdev',\n",
       " u'wind_condition',\n",
       " u'wind_num',\n",
       " u'wind_flag',\n",
       " u'wind_maximum',\n",
       " u'wind_minimum',\n",
       " u'wind_median',\n",
       " u'pres_quality',\n",
       " u'pres_stdev',\n",
       " u'pres_condition',\n",
       " u'pres_flag',\n",
       " u'pres_num',\n",
       " u'pres_maximum',\n",
       " u'pres_minimum',\n",
       " u'intermediate_files',\n",
       " u'hurdat_atl_att',\n",
       " u'hurdat_atl_wrads',\n",
       " u'hurdat_atl_quad',\n",
       " u'hurdat_atl_lat',\n",
       " u'hurdat_atl_lon',\n",
       " u'hurdat_atl_wind',\n",
       " u'hurdat_atl_pres',\n",
       " u'hurdat_atl_class',\n",
       " u'hurdat_atl_recid',\n",
       " u'hurdat_atl_wrad',\n",
       " u'atcf_att',\n",
       " u'atcf_wrads',\n",
       " u'atcf_lat',\n",
       " u'atcf_lon',\n",
       " u'atcf_wind',\n",
       " u'atcf_pres',\n",
       " u'atcf_class',\n",
       " u'atcf_rmw',\n",
       " u'atcf_roci',\n",
       " u'atcf_poci',\n",
       " u'atcf_eye',\n",
       " u'atcf_maxseas',\n",
       " u'atcf_gust',\n",
       " u'atcf_sdir',\n",
       " u'atcf_sspd',\n",
       " u'atcf_depth',\n",
       " u'atcf_seascode',\n",
       " u'atcf_seas',\n",
       " u'atcf_windcode',\n",
       " u'atcf_wrad']"
      ]
     },
     "execution_count": 24,
     "metadata": {},
     "output_type": "execute_result"
    }
   ],
   "source": [
    "dat.variables.keys()"
   ]
  },
  {
   "cell_type": "code",
   "execution_count": 25,
   "metadata": {
    "collapsed": false
   },
   "outputs": [],
   "source": [
    "wradii=dat['atcf_wrad'][:13]"
   ]
  },
  {
   "cell_type": "code",
   "execution_count": 26,
   "metadata": {
    "collapsed": false
   },
   "outputs": [],
   "source": [
    "isot=dat['isotime'][:13]"
   ]
  },
  {
   "cell_type": "code",
   "execution_count": 33,
   "metadata": {
    "collapsed": false
   },
   "outputs": [],
   "source": [
    "isot1=[''.join(x) for x in isot]"
   ]
  },
  {
   "cell_type": "code",
   "execution_count": 37,
   "metadata": {
    "collapsed": false
   },
   "outputs": [],
   "source": [
    "time=[re.sub(r'[-: ]+','',x)[:-4] for x in isot1]"
   ]
  },
  {
   "cell_type": "code",
   "execution_count": 61,
   "metadata": {
    "collapsed": false
   },
   "outputs": [],
   "source": [
    "lat=dat['atcf_lat'][:13]\n",
    "lon=dat['atcf_lon'][:13]\n",
    "pcenter=dat['atcf_pres'][:13]\n",
    "vmaxh=dat['atcf_wind'][:13]\n",
    "rmaxh=dat['atcf_rmw'][:13]"
   ]
  },
  {
   "cell_type": "code",
   "execution_count": 62,
   "metadata": {
    "collapsed": false
   },
   "outputs": [],
   "source": [
    "dph=pn-pcenter"
   ]
  },
  {
   "cell_type": "code",
   "execution_count": 44,
   "metadata": {
    "collapsed": false
   },
   "outputs": [],
   "source": [
    "wradiinp=np.array(wradii)"
   ]
  },
  {
   "cell_type": "code",
   "execution_count": 47,
   "metadata": {
    "collapsed": false
   },
   "outputs": [
    {
     "data": {
      "text/plain": [
       "['2010102906',\n",
       " '2010102912',\n",
       " '2010102918',\n",
       " '2010103000',\n",
       " '2010103006',\n",
       " '2010103012',\n",
       " '2010103018',\n",
       " '2010103100',\n",
       " '2010103106',\n",
       " '2010103112',\n",
       " '2010103118',\n",
       " '2010110100',\n",
       " '2010110106']"
      ]
     },
     "execution_count": 47,
     "metadata": {},
     "output_type": "execute_result"
    }
   ],
   "source": [
    "time"
   ]
  },
  {
   "cell_type": "code",
   "execution_count": 70,
   "metadata": {
    "collapsed": false
   },
   "outputs": [
    {
     "data": {
      "text/plain": [
       "['2010-10-29 06:00:00',\n",
       " '2010-10-29 12:00:00',\n",
       " '2010-10-29 18:00:00',\n",
       " '2010-10-30 00:00:00',\n",
       " '2010-10-30 06:00:00',\n",
       " '2010-10-30 12:00:00',\n",
       " '2010-10-30 18:00:00',\n",
       " '2010-10-31 00:00:00',\n",
       " '2010-10-31 06:00:00',\n",
       " '2010-10-31 12:00:00',\n",
       " '2010-10-31 18:00:00',\n",
       " '2010-11-01 00:00:00',\n",
       " '2010-11-01 06:00:00']"
      ]
     },
     "execution_count": 70,
     "metadata": {},
     "output_type": "execute_result"
    }
   ],
   "source": [
    "isot1"
   ]
  },
  {
   "cell_type": "code",
   "execution_count": 50,
   "metadata": {
    "collapsed": false
   },
   "outputs": [],
   "source": [
    "w34=wradiinp[:,0,:]"
   ]
  },
  {
   "cell_type": "code",
   "execution_count": 53,
   "metadata": {
    "collapsed": false
   },
   "outputs": [],
   "source": [
    "w50=wradiinp[:,1,:]"
   ]
  },
  {
   "cell_type": "code",
   "execution_count": 55,
   "metadata": {
    "collapsed": false
   },
   "outputs": [],
   "source": [
    "w64=wradiinp[:,2,:]"
   ]
  },
  {
   "cell_type": "code",
   "execution_count": 58,
   "metadata": {
    "collapsed": false
   },
   "outputs": [
    {
     "data": {
      "text/plain": [
       "array([ 0,  0,  0,  0,  0, 20, 20, 30, 30, 30, 15,  0,  0], dtype=int16)"
      ]
     },
     "execution_count": 58,
     "metadata": {},
     "output_type": "execute_result"
    }
   ],
   "source": [
    "w64[:,0]"
   ]
  },
  {
   "cell_type": "markdown",
   "metadata": {},
   "source": [
    "### create inpData file"
   ]
  },
  {
   "cell_type": "code",
   "execution_count": 124,
   "metadata": {
    "collapsed": false
   },
   "outputs": [],
   "source": [
    "dic={'t':isot1,'lat':lat,'long':lon,'vmax':vmaxh,'64ne':w64[:,0],'64se':w64[:,1],'64sw':w64[:,2],'64nw':w64[:,3],'50ne':w50[:,0],'50se':w50[:,1],'50sw':w50[:,2],'50nw':w50[:,3],'34ne':w34[:,0],'34se':w34[:,1],'34sw':w34[:,2],'34nw':w34[:,3],'notes':np.zeros(len(time))}"
   ]
  },
  {
   "cell_type": "code",
   "execution_count": 125,
   "metadata": {
    "collapsed": true
   },
   "outputs": [],
   "source": [
    "inpData=pd.DataFrame(dic)"
   ]
  },
  {
   "cell_type": "code",
   "execution_count": 126,
   "metadata": {
    "collapsed": false
   },
   "outputs": [],
   "source": [
    "inpData['t']=pd.to_datetime(inpData['t'])"
   ]
  },
  {
   "cell_type": "code",
   "execution_count": 127,
   "metadata": {
    "collapsed": false
   },
   "outputs": [],
   "source": [
    "inpData['time']=inpData['t']-inpData['t'][0]"
   ]
  },
  {
   "cell_type": "code",
   "execution_count": 128,
   "metadata": {
    "collapsed": false
   },
   "outputs": [],
   "source": [
    "inpData['time']=inpData['time'] / pd.Timedelta('1 hour')"
   ]
  },
  {
   "cell_type": "code",
   "execution_count": 129,
   "metadata": {
    "collapsed": false
   },
   "outputs": [
    {
     "data": {
      "text/html": [
       "<div>\n",
       "<table border=\"1\" class=\"dataframe\">\n",
       "  <thead>\n",
       "    <tr style=\"text-align: right;\">\n",
       "      <th></th>\n",
       "      <th>34ne</th>\n",
       "      <th>34nw</th>\n",
       "      <th>34se</th>\n",
       "      <th>34sw</th>\n",
       "      <th>50ne</th>\n",
       "      <th>50nw</th>\n",
       "      <th>50se</th>\n",
       "      <th>50sw</th>\n",
       "      <th>64ne</th>\n",
       "      <th>64nw</th>\n",
       "      <th>64se</th>\n",
       "      <th>64sw</th>\n",
       "      <th>lat</th>\n",
       "      <th>long</th>\n",
       "      <th>notes</th>\n",
       "      <th>vmax</th>\n",
       "      <th>time</th>\n",
       "    </tr>\n",
       "    <tr>\n",
       "      <th>t</th>\n",
       "      <th></th>\n",
       "      <th></th>\n",
       "      <th></th>\n",
       "      <th></th>\n",
       "      <th></th>\n",
       "      <th></th>\n",
       "      <th></th>\n",
       "      <th></th>\n",
       "      <th></th>\n",
       "      <th></th>\n",
       "      <th></th>\n",
       "      <th></th>\n",
       "      <th></th>\n",
       "      <th></th>\n",
       "      <th></th>\n",
       "      <th></th>\n",
       "      <th></th>\n",
       "    </tr>\n",
       "  </thead>\n",
       "  <tbody>\n",
       "    <tr>\n",
       "      <th>2010-10-29 06:00:00</th>\n",
       "      <td>0</td>\n",
       "      <td>0</td>\n",
       "      <td>0</td>\n",
       "      <td>0</td>\n",
       "      <td>0</td>\n",
       "      <td>0</td>\n",
       "      <td>0</td>\n",
       "      <td>0</td>\n",
       "      <td>0</td>\n",
       "      <td>0</td>\n",
       "      <td>0</td>\n",
       "      <td>0</td>\n",
       "      <td>9.0</td>\n",
       "      <td>-53.700001</td>\n",
       "      <td>0.0</td>\n",
       "      <td>30</td>\n",
       "      <td>0.0</td>\n",
       "    </tr>\n",
       "    <tr>\n",
       "      <th>2010-10-29 12:00:00</th>\n",
       "      <td>75</td>\n",
       "      <td>75</td>\n",
       "      <td>40</td>\n",
       "      <td>0</td>\n",
       "      <td>0</td>\n",
       "      <td>0</td>\n",
       "      <td>0</td>\n",
       "      <td>0</td>\n",
       "      <td>0</td>\n",
       "      <td>0</td>\n",
       "      <td>0</td>\n",
       "      <td>0</td>\n",
       "      <td>9.8</td>\n",
       "      <td>-55.299999</td>\n",
       "      <td>0.0</td>\n",
       "      <td>35</td>\n",
       "      <td>6.0</td>\n",
       "    </tr>\n",
       "    <tr>\n",
       "      <th>2010-10-29 18:00:00</th>\n",
       "      <td>90</td>\n",
       "      <td>90</td>\n",
       "      <td>50</td>\n",
       "      <td>50</td>\n",
       "      <td>0</td>\n",
       "      <td>0</td>\n",
       "      <td>0</td>\n",
       "      <td>0</td>\n",
       "      <td>0</td>\n",
       "      <td>0</td>\n",
       "      <td>0</td>\n",
       "      <td>0</td>\n",
       "      <td>10.8</td>\n",
       "      <td>-56.799999</td>\n",
       "      <td>0.0</td>\n",
       "      <td>45</td>\n",
       "      <td>12.0</td>\n",
       "    </tr>\n",
       "    <tr>\n",
       "      <th>2010-10-30 00:00:00</th>\n",
       "      <td>90</td>\n",
       "      <td>90</td>\n",
       "      <td>50</td>\n",
       "      <td>50</td>\n",
       "      <td>30</td>\n",
       "      <td>30</td>\n",
       "      <td>0</td>\n",
       "      <td>0</td>\n",
       "      <td>0</td>\n",
       "      <td>0</td>\n",
       "      <td>0</td>\n",
       "      <td>0</td>\n",
       "      <td>11.9</td>\n",
       "      <td>-57.799999</td>\n",
       "      <td>0.0</td>\n",
       "      <td>55</td>\n",
       "      <td>18.0</td>\n",
       "    </tr>\n",
       "    <tr>\n",
       "      <th>2010-10-30 06:00:00</th>\n",
       "      <td>90</td>\n",
       "      <td>90</td>\n",
       "      <td>50</td>\n",
       "      <td>50</td>\n",
       "      <td>30</td>\n",
       "      <td>30</td>\n",
       "      <td>0</td>\n",
       "      <td>0</td>\n",
       "      <td>0</td>\n",
       "      <td>0</td>\n",
       "      <td>0</td>\n",
       "      <td>0</td>\n",
       "      <td>12.7</td>\n",
       "      <td>-58.900002</td>\n",
       "      <td>0.0</td>\n",
       "      <td>60</td>\n",
       "      <td>24.0</td>\n",
       "    </tr>\n",
       "    <tr>\n",
       "      <th>2010-10-30 12:00:00</th>\n",
       "      <td>120</td>\n",
       "      <td>90</td>\n",
       "      <td>60</td>\n",
       "      <td>50</td>\n",
       "      <td>50</td>\n",
       "      <td>40</td>\n",
       "      <td>30</td>\n",
       "      <td>20</td>\n",
       "      <td>20</td>\n",
       "      <td>0</td>\n",
       "      <td>20</td>\n",
       "      <td>0</td>\n",
       "      <td>13.1</td>\n",
       "      <td>-60.099998</td>\n",
       "      <td>0.0</td>\n",
       "      <td>65</td>\n",
       "      <td>30.0</td>\n",
       "    </tr>\n",
       "    <tr>\n",
       "      <th>2010-10-30 18:00:00</th>\n",
       "      <td>120</td>\n",
       "      <td>90</td>\n",
       "      <td>60</td>\n",
       "      <td>50</td>\n",
       "      <td>50</td>\n",
       "      <td>40</td>\n",
       "      <td>30</td>\n",
       "      <td>20</td>\n",
       "      <td>20</td>\n",
       "      <td>0</td>\n",
       "      <td>20</td>\n",
       "      <td>0</td>\n",
       "      <td>13.3</td>\n",
       "      <td>-61.000000</td>\n",
       "      <td>0.0</td>\n",
       "      <td>80</td>\n",
       "      <td>36.0</td>\n",
       "    </tr>\n",
       "    <tr>\n",
       "      <th>2010-10-31 00:00:00</th>\n",
       "      <td>120</td>\n",
       "      <td>90</td>\n",
       "      <td>60</td>\n",
       "      <td>50</td>\n",
       "      <td>50</td>\n",
       "      <td>40</td>\n",
       "      <td>30</td>\n",
       "      <td>20</td>\n",
       "      <td>30</td>\n",
       "      <td>20</td>\n",
       "      <td>20</td>\n",
       "      <td>10</td>\n",
       "      <td>13.5</td>\n",
       "      <td>-61.700001</td>\n",
       "      <td>0.0</td>\n",
       "      <td>85</td>\n",
       "      <td>42.0</td>\n",
       "    </tr>\n",
       "    <tr>\n",
       "      <th>2010-10-31 06:00:00</th>\n",
       "      <td>120</td>\n",
       "      <td>90</td>\n",
       "      <td>60</td>\n",
       "      <td>50</td>\n",
       "      <td>60</td>\n",
       "      <td>50</td>\n",
       "      <td>30</td>\n",
       "      <td>20</td>\n",
       "      <td>30</td>\n",
       "      <td>20</td>\n",
       "      <td>20</td>\n",
       "      <td>10</td>\n",
       "      <td>13.8</td>\n",
       "      <td>-62.400002</td>\n",
       "      <td>0.0</td>\n",
       "      <td>85</td>\n",
       "      <td>48.0</td>\n",
       "    </tr>\n",
       "    <tr>\n",
       "      <th>2010-10-31 12:00:00</th>\n",
       "      <td>120</td>\n",
       "      <td>90</td>\n",
       "      <td>60</td>\n",
       "      <td>50</td>\n",
       "      <td>60</td>\n",
       "      <td>50</td>\n",
       "      <td>30</td>\n",
       "      <td>20</td>\n",
       "      <td>30</td>\n",
       "      <td>20</td>\n",
       "      <td>20</td>\n",
       "      <td>10</td>\n",
       "      <td>14.0</td>\n",
       "      <td>-63.299999</td>\n",
       "      <td>0.0</td>\n",
       "      <td>80</td>\n",
       "      <td>54.0</td>\n",
       "    </tr>\n",
       "    <tr>\n",
       "      <th>2010-10-31 18:00:00</th>\n",
       "      <td>120</td>\n",
       "      <td>90</td>\n",
       "      <td>60</td>\n",
       "      <td>50</td>\n",
       "      <td>50</td>\n",
       "      <td>40</td>\n",
       "      <td>30</td>\n",
       "      <td>20</td>\n",
       "      <td>15</td>\n",
       "      <td>15</td>\n",
       "      <td>0</td>\n",
       "      <td>0</td>\n",
       "      <td>14.2</td>\n",
       "      <td>-64.400002</td>\n",
       "      <td>0.0</td>\n",
       "      <td>65</td>\n",
       "      <td>60.0</td>\n",
       "    </tr>\n",
       "    <tr>\n",
       "      <th>2010-11-01 00:00:00</th>\n",
       "      <td>150</td>\n",
       "      <td>90</td>\n",
       "      <td>60</td>\n",
       "      <td>50</td>\n",
       "      <td>50</td>\n",
       "      <td>50</td>\n",
       "      <td>30</td>\n",
       "      <td>20</td>\n",
       "      <td>0</td>\n",
       "      <td>0</td>\n",
       "      <td>0</td>\n",
       "      <td>0</td>\n",
       "      <td>14.1</td>\n",
       "      <td>-65.800003</td>\n",
       "      <td>0.0</td>\n",
       "      <td>55</td>\n",
       "      <td>66.0</td>\n",
       "    </tr>\n",
       "    <tr>\n",
       "      <th>2010-11-01 06:00:00</th>\n",
       "      <td>150</td>\n",
       "      <td>90</td>\n",
       "      <td>60</td>\n",
       "      <td>30</td>\n",
       "      <td>0</td>\n",
       "      <td>0</td>\n",
       "      <td>0</td>\n",
       "      <td>0</td>\n",
       "      <td>0</td>\n",
       "      <td>0</td>\n",
       "      <td>0</td>\n",
       "      <td>0</td>\n",
       "      <td>13.9</td>\n",
       "      <td>-67.099998</td>\n",
       "      <td>0.0</td>\n",
       "      <td>45</td>\n",
       "      <td>72.0</td>\n",
       "    </tr>\n",
       "  </tbody>\n",
       "</table>\n",
       "</div>"
      ],
      "text/plain": [
       "                     34ne  34nw  34se  34sw  50ne  50nw  50se  50sw  64ne  \\\n",
       "t                                                                           \n",
       "2010-10-29 06:00:00     0     0     0     0     0     0     0     0     0   \n",
       "2010-10-29 12:00:00    75    75    40     0     0     0     0     0     0   \n",
       "2010-10-29 18:00:00    90    90    50    50     0     0     0     0     0   \n",
       "2010-10-30 00:00:00    90    90    50    50    30    30     0     0     0   \n",
       "2010-10-30 06:00:00    90    90    50    50    30    30     0     0     0   \n",
       "2010-10-30 12:00:00   120    90    60    50    50    40    30    20    20   \n",
       "2010-10-30 18:00:00   120    90    60    50    50    40    30    20    20   \n",
       "2010-10-31 00:00:00   120    90    60    50    50    40    30    20    30   \n",
       "2010-10-31 06:00:00   120    90    60    50    60    50    30    20    30   \n",
       "2010-10-31 12:00:00   120    90    60    50    60    50    30    20    30   \n",
       "2010-10-31 18:00:00   120    90    60    50    50    40    30    20    15   \n",
       "2010-11-01 00:00:00   150    90    60    50    50    50    30    20     0   \n",
       "2010-11-01 06:00:00   150    90    60    30     0     0     0     0     0   \n",
       "\n",
       "                     64nw  64se  64sw   lat       long  notes  vmax  time  \n",
       "t                                                                          \n",
       "2010-10-29 06:00:00     0     0     0   9.0 -53.700001    0.0    30   0.0  \n",
       "2010-10-29 12:00:00     0     0     0   9.8 -55.299999    0.0    35   6.0  \n",
       "2010-10-29 18:00:00     0     0     0  10.8 -56.799999    0.0    45  12.0  \n",
       "2010-10-30 00:00:00     0     0     0  11.9 -57.799999    0.0    55  18.0  \n",
       "2010-10-30 06:00:00     0     0     0  12.7 -58.900002    0.0    60  24.0  \n",
       "2010-10-30 12:00:00     0    20     0  13.1 -60.099998    0.0    65  30.0  \n",
       "2010-10-30 18:00:00     0    20     0  13.3 -61.000000    0.0    80  36.0  \n",
       "2010-10-31 00:00:00    20    20    10  13.5 -61.700001    0.0    85  42.0  \n",
       "2010-10-31 06:00:00    20    20    10  13.8 -62.400002    0.0    85  48.0  \n",
       "2010-10-31 12:00:00    20    20    10  14.0 -63.299999    0.0    80  54.0  \n",
       "2010-10-31 18:00:00    15     0     0  14.2 -64.400002    0.0    65  60.0  \n",
       "2010-11-01 00:00:00     0     0     0  14.1 -65.800003    0.0    55  66.0  \n",
       "2010-11-01 06:00:00     0     0     0  13.9 -67.099998    0.0    45  72.0  "
      ]
     },
     "execution_count": 129,
     "metadata": {},
     "output_type": "execute_result"
    }
   ],
   "source": [
    "inpData=inpData.set_index('t')\n",
    "inpData"
   ]
  },
  {
   "cell_type": "code",
   "execution_count": 157,
   "metadata": {
    "collapsed": true
   },
   "outputs": [],
   "source": [
    "column_order=['time','lat','long','vmax','64ne','64se','64sw','64nw','50ne','50se','50sw','50nw','34ne','34se','34sw','34nw','notes']"
   ]
  },
  {
   "cell_type": "code",
   "execution_count": 158,
   "metadata": {
    "collapsed": false
   },
   "outputs": [],
   "source": [
    "inpData.to_csv('tmp/inpData.txt',index=False, columns=column_order, sep='\\t')"
   ]
  },
  {
   "cell_type": "markdown",
   "metadata": {},
   "source": [
    "### create bulInfo.txt file"
   ]
  },
  {
   "cell_type": "code",
   "execution_count": 138,
   "metadata": {
    "collapsed": false
   },
   "outputs": [],
   "source": [
    "tt=pd.to_datetime(isot1[0])"
   ]
  },
  {
   "cell_type": "code",
   "execution_count": 152,
   "metadata": {
    "collapsed": false
   },
   "outputs": [],
   "source": [
    "tt=datetime.datetime.strftime(tt,'%d %b %Y %H:%M:%S')"
   ]
  },
  {
   "cell_type": "code",
   "execution_count": 153,
   "metadata": {
    "collapsed": true
   },
   "outputs": [],
   "source": [
    "dic0={'advNo':[1],'tShift':[0],'$date':tt,'land':[1],'notes':[0]}"
   ]
  },
  {
   "cell_type": "code",
   "execution_count": 154,
   "metadata": {
    "collapsed": false
   },
   "outputs": [],
   "source": [
    "bul=pd.DataFrame.from_dict(dic0)"
   ]
  },
  {
   "cell_type": "code",
   "execution_count": 155,
   "metadata": {
    "collapsed": false
   },
   "outputs": [
    {
     "data": {
      "text/html": [
       "<div>\n",
       "<table border=\"1\" class=\"dataframe\">\n",
       "  <thead>\n",
       "    <tr style=\"text-align: right;\">\n",
       "      <th></th>\n",
       "      <th>$date</th>\n",
       "      <th>advNo</th>\n",
       "      <th>land</th>\n",
       "      <th>notes</th>\n",
       "      <th>tShift</th>\n",
       "    </tr>\n",
       "  </thead>\n",
       "  <tbody>\n",
       "    <tr>\n",
       "      <th>0</th>\n",
       "      <td>29 Oct 2010 06:00:00</td>\n",
       "      <td>1</td>\n",
       "      <td>1</td>\n",
       "      <td>0</td>\n",
       "      <td>0</td>\n",
       "    </tr>\n",
       "  </tbody>\n",
       "</table>\n",
       "</div>"
      ],
      "text/plain": [
       "                  $date  advNo  land  notes  tShift\n",
       "0  29 Oct 2010 06:00:00      1     1      0       0"
      ]
     },
     "execution_count": 155,
     "metadata": {},
     "output_type": "execute_result"
    }
   ],
   "source": [
    "bul"
   ]
  },
  {
   "cell_type": "code",
   "execution_count": 156,
   "metadata": {
    "collapsed": false
   },
   "outputs": [],
   "source": [
    "bul.to_csv('tmp/bulInfo.txt',index=False, columns=['advNo','tShift','$date','land','notes'], sep='\\t')"
   ]
  },
  {
   "cell_type": "markdown",
   "metadata": {},
   "source": [
    "### create info.pr file"
   ]
  },
  {
   "cell_type": "code",
   "execution_count": null,
   "metadata": {
    "collapsed": true
   },
   "outputs": [],
   "source": []
  },
  {
   "cell_type": "markdown",
   "metadata": {},
   "source": [
    "## compute b,k"
   ]
  },
  {
   "cell_type": "code",
   "execution_count": null,
   "metadata": {
    "collapsed": true
   },
   "outputs": [],
   "source": []
  },
  {
   "cell_type": "code",
   "execution_count": 46,
   "metadata": {
    "collapsed": false
   },
   "outputs": [],
   "source": [
    "rh=np.linspace(0.,5*rmaxh,100)"
   ]
  },
  {
   "cell_type": "code",
   "execution_count": 47,
   "metadata": {
    "collapsed": false
   },
   "outputs": [
    {
     "ename": "NameError",
     "evalue": "global name 'kh' is not defined",
     "output_type": "error",
     "traceback": [
      "\u001b[0;31m---------------------------------------------------------------------------\u001b[0m",
      "\u001b[0;31mNameError\u001b[0m                                 Traceback (most recent call last)",
      "\u001b[0;32m<ipython-input-47-d6d32a487367>\u001b[0m in \u001b[0;36m<module>\u001b[0;34m()\u001b[0m\n\u001b[1;32m      1\u001b[0m \u001b[0mplt\u001b[0m\u001b[0;34m.\u001b[0m\u001b[0mfigure\u001b[0m\u001b[0;34m(\u001b[0m\u001b[0mfigsize\u001b[0m\u001b[0;34m=\u001b[0m\u001b[0;34m(\u001b[0m\u001b[0;36m10\u001b[0m\u001b[0;34m,\u001b[0m\u001b[0;36m8\u001b[0m\u001b[0;34m)\u001b[0m\u001b[0;34m)\u001b[0m\u001b[0;34m\u001b[0m\u001b[0m\n\u001b[0;32m----> 2\u001b[0;31m \u001b[0mplt\u001b[0m\u001b[0;34m.\u001b[0m\u001b[0mplot\u001b[0m\u001b[0;34m(\u001b[0m\u001b[0mrh\u001b[0m\u001b[0;34m/\u001b[0m\u001b[0;36m1000\u001b[0m\u001b[0;34m,\u001b[0m\u001b[0mhvel\u001b[0m\u001b[0;34m(\u001b[0m\u001b[0mrh\u001b[0m\u001b[0;34m)\u001b[0m\u001b[0;34m)\u001b[0m\u001b[0;34m\u001b[0m\u001b[0m\n\u001b[0m\u001b[1;32m      3\u001b[0m \u001b[0mplt\u001b[0m\u001b[0;34m.\u001b[0m\u001b[0mxlabel\u001b[0m\u001b[0;34m(\u001b[0m\u001b[0;34m'km'\u001b[0m\u001b[0;34m,\u001b[0m\u001b[0mfontsize\u001b[0m\u001b[0;34m=\u001b[0m\u001b[0;36m18\u001b[0m\u001b[0;34m)\u001b[0m\u001b[0;34m\u001b[0m\u001b[0m\n\u001b[1;32m      4\u001b[0m \u001b[0mplt\u001b[0m\u001b[0;34m.\u001b[0m\u001b[0mylabel\u001b[0m\u001b[0;34m(\u001b[0m\u001b[0;34m'Velocity [m/s]'\u001b[0m\u001b[0;34m,\u001b[0m\u001b[0mfontsize\u001b[0m\u001b[0;34m=\u001b[0m\u001b[0;36m18\u001b[0m\u001b[0;34m)\u001b[0m\u001b[0;34m\u001b[0m\u001b[0m\n\u001b[1;32m      5\u001b[0m \u001b[0mplt\u001b[0m\u001b[0;34m.\u001b[0m\u001b[0mtitle\u001b[0m\u001b[0;34m(\u001b[0m\u001b[0;34m'Velocity vs radius'\u001b[0m\u001b[0;34m)\u001b[0m\u001b[0;34m\u001b[0m\u001b[0m\n",
      "\u001b[0;32m<ipython-input-5-ef8bb80584ab>\u001b[0m in \u001b[0;36mhvel\u001b[0;34m(r)\u001b[0m\n\u001b[1;32m      1\u001b[0m \u001b[0;32mdef\u001b[0m \u001b[0mhvel\u001b[0m\u001b[0;34m(\u001b[0m\u001b[0mr\u001b[0m\u001b[0;34m)\u001b[0m\u001b[0;34m:\u001b[0m\u001b[0;34m\u001b[0m\u001b[0m\n\u001b[0;32m----> 2\u001b[0;31m     \u001b[0mx\u001b[0m\u001b[0;34m=\u001b[0m\u001b[0;36m0.5\u001b[0m\u001b[0;34m+\u001b[0m\u001b[0;34m(\u001b[0m\u001b[0mr\u001b[0m\u001b[0;34m-\u001b[0m\u001b[0mrmaxh\u001b[0m\u001b[0;34m)\u001b[0m\u001b[0;34m/\u001b[0m\u001b[0;34m(\u001b[0m\u001b[0mmaxR\u001b[0m\u001b[0;34m-\u001b[0m\u001b[0mrmaxh\u001b[0m\u001b[0;34m)\u001b[0m\u001b[0;34m*\u001b[0m\u001b[0mkh\u001b[0m\u001b[0;34m\u001b[0m\u001b[0m\n\u001b[0m\u001b[1;32m      3\u001b[0m     \u001b[0;32mreturn\u001b[0m \u001b[0;34m(\u001b[0m\u001b[0mbh\u001b[0m\u001b[0;34m/\u001b[0m\u001b[0mrhoa\u001b[0m\u001b[0;34m*\u001b[0m\u001b[0;34m(\u001b[0m\u001b[0mrmaxh\u001b[0m\u001b[0;34m/\u001b[0m\u001b[0mr\u001b[0m\u001b[0;34m)\u001b[0m\u001b[0;34m**\u001b[0m\u001b[0mbh\u001b[0m\u001b[0;34m*\u001b[0m\u001b[0mdph\u001b[0m\u001b[0;34m*\u001b[0m\u001b[0mnp\u001b[0m\u001b[0;34m.\u001b[0m\u001b[0mexp\u001b[0m\u001b[0;34m(\u001b[0m\u001b[0;34m-\u001b[0m\u001b[0;34m(\u001b[0m\u001b[0mrmaxh\u001b[0m\u001b[0;34m/\u001b[0m\u001b[0mr\u001b[0m\u001b[0;34m)\u001b[0m\u001b[0;34m**\u001b[0m\u001b[0mbh\u001b[0m\u001b[0;34m)\u001b[0m\u001b[0;34m)\u001b[0m\u001b[0;34m**\u001b[0m\u001b[0mx\u001b[0m\u001b[0;34m\u001b[0m\u001b[0m\n",
      "\u001b[0;31mNameError\u001b[0m: global name 'kh' is not defined"
     ]
    },
    {
     "data": {
      "text/plain": [
       "<matplotlib.figure.Figure at 0x7f12abc15990>"
      ]
     },
     "metadata": {},
     "output_type": "display_data"
    }
   ],
   "source": [
    "plt.figure(figsize=(10,8))\n",
    "plt.plot(rh/1000,hvel(rh))\n",
    "plt.xlabel('km',fontsize=18)\n",
    "plt.ylabel('Velocity [m/s]',fontsize=18)\n",
    "plt.title('Velocity vs radius')"
   ]
  },
  {
   "cell_type": "code",
   "execution_count": null,
   "metadata": {
    "collapsed": false
   },
   "outputs": [],
   "source": [
    "plt.figure(figsize=(10,8))\n",
    "plt.plot(rh/1000,pres(rh)/100)\n",
    "\n",
    "plt.xlabel('km',fontsize=18)\n",
    "plt.ylabel('Pressure [PA]',fontsize=18)\n",
    "plt.title('Pressure vs radius')\n",
    "\n",
    "\n",
    "plt.show()"
   ]
  },
  {
   "cell_type": "code",
   "execution_count": null,
   "metadata": {
    "collapsed": true
   },
   "outputs": [],
   "source": [
    "ni,nj=1000,1000\n",
    "xl=np.linspace(-maxR, maxR,ni+1)\n",
    "yl=np.linspace(-maxR, maxR,nj+1)\n",
    "q1,q2=np.meshgrid(xl,yl)"
   ]
  },
  {
   "cell_type": "code",
   "execution_count": null,
   "metadata": {
    "collapsed": true
   },
   "outputs": [],
   "source": [
    "zx,zy, pr=hvel2d(q1,q2,vtx,vty)"
   ]
  },
  {
   "cell_type": "code",
   "execution_count": null,
   "metadata": {
    "collapsed": false
   },
   "outputs": [],
   "source": [
    "plt.figure(figsize=(10,8))\n",
    "plt.contourf(q1/1000,q2/1000,pr/100,20)\n",
    "plt.xlabel('km',fontsize=18)\n",
    "plt.ylabel('Km',fontsize=18)\n",
    "plt.title('Pressure contours')\n",
    "\n",
    "\n",
    "plt.colorbar(label='PA')\n",
    "plt.show()"
   ]
  },
  {
   "cell_type": "code",
   "execution_count": null,
   "metadata": {
    "collapsed": false
   },
   "outputs": [],
   "source": [
    "plt.figure(figsize=(10,8))\n",
    "plt.plot(q1[0,:]/1000,pr[500,:]/100)\n",
    "\n",
    "plt.xlabel('km',fontsize=18)\n",
    "plt.ylabel('Pressure',fontsize=18)\n",
    "plt.title('Pressure vs radius')\n",
    "\n",
    "\n",
    "plt.show()"
   ]
  },
  {
   "cell_type": "code",
   "execution_count": null,
   "metadata": {
    "collapsed": false
   },
   "outputs": [],
   "source": [
    "\n",
    "vel=np.sqrt(zx**2+zy**2)"
   ]
  },
  {
   "cell_type": "code",
   "execution_count": null,
   "metadata": {
    "collapsed": false
   },
   "outputs": [],
   "source": [
    "plt.figure(figsize=(10,8))\n",
    "plt.contourf(q1/1000,q2/1000,vel,20)\n",
    "plt.streamplot(q1/1000,q2/1000,zx,zy, color=vel, linewidth=0.1*vel)\n",
    "plt.xlabel('km',fontsize=18)\n",
    "plt.ylabel('Km',fontsize=18)\n",
    "plt.title('Velocity vs radius')\n",
    "\n",
    "plt.colorbar(label='m/s')\n",
    "plt.show()"
   ]
  },
  {
   "cell_type": "code",
   "execution_count": null,
   "metadata": {
    "collapsed": false,
    "scrolled": false
   },
   "outputs": [],
   "source": [
    "plt.figure(figsize=(10,8))\n",
    "plt.plot(q1[0,:]/1000,vel[ni/2,:],label='horizontal')\n",
    "plt.plot(q2[:,0]/1000,vel[:,nj/2],label='verical')\n",
    "\n",
    "plt.xlabel('km',fontsize=18)\n",
    "plt.ylabel('Velocity [m/s]',fontsize=18)\n",
    "plt.title('Velocity vs radius')\n",
    "\n",
    "\n",
    "plt.legend(loc=0)\n",
    "plt.show()"
   ]
  },
  {
   "cell_type": "code",
   "execution_count": null,
   "metadata": {
    "collapsed": false
   },
   "outputs": [],
   "source": [
    "np.savetxt('tmp/phol',[q1[0,:],pr[500,:]])\n",
    "np.savetxt('tmp/uhol',[q1[0,:],vel[ni/2,:],vel[:,nj/2]])"
   ]
  },
  {
   "cell_type": "code",
   "execution_count": null,
   "metadata": {
    "collapsed": false
   },
   "outputs": [],
   "source": [
    "pd.DataFrame({'Min Pressure':[pch/100],'Max Velocity':[vmaxh]})"
   ]
  },
  {
   "cell_type": "code",
   "execution_count": null,
   "metadata": {
    "collapsed": true
   },
   "outputs": [],
   "source": []
  }
 ],
 "metadata": {
  "hide_input": false,
  "kernelspec": {
   "display_name": "Python 2",
   "language": "python",
   "name": "python2"
  },
  "language_info": {
   "codemirror_mode": {
    "name": "ipython",
    "version": 2
   },
   "file_extension": ".py",
   "mimetype": "text/x-python",
   "name": "python",
   "nbconvert_exporter": "python",
   "pygments_lexer": "ipython2",
   "version": "2.7.12"
  },
  "latex_envs": {
   "bibliofile": "biblio.bib",
   "cite_by": "apalike",
   "current_citInitial": 1,
   "eqLabelWithNumbers": true,
   "eqNumInitial": 0
  }
 },
 "nbformat": 4,
 "nbformat_minor": 0
}
