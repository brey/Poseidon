{
 "cells": [
  {
   "cell_type": "code",
   "execution_count": null,
   "metadata": {
    "collapsed": true
   },
   "outputs": [],
   "source": []
  },
  {
   "cell_type": "code",
   "execution_count": 1,
   "metadata": {
    "collapsed": true
   },
   "outputs": [],
   "source": [
    "%matplotlib notebook"
   ]
  },
  {
   "cell_type": "code",
   "execution_count": 2,
   "metadata": {
    "collapsed": true
   },
   "outputs": [],
   "source": [
    "import numpy as np\n",
    "import datetime\n",
    "import pandas as pd\n",
    "import urllib2, urllib\n",
    "import pytides\n",
    "import os\n",
    "import subprocess\n",
    "import copy\n",
    "from netCDF4 import Dataset\n",
    "import pickle\n",
    "from point_history import getmes\n",
    "from int4 import bl4"
   ]
  },
  {
   "cell_type": "code",
   "execution_count": 3,
   "metadata": {
    "collapsed": true
   },
   "outputs": [],
   "source": [
    "path='/home/critechuser/tide/20160901.00/'"
   ]
  },
  {
   "cell_type": "code",
   "execution_count": 4,
   "metadata": {
    "collapsed": true
   },
   "outputs": [],
   "source": [
    "path='/mnt/rmdisk/tide/20131101.00/'"
   ]
  },
  {
   "cell_type": "code",
   "execution_count": 5,
   "metadata": {
    "collapsed": true
   },
   "outputs": [],
   "source": [
    "#start date\n",
    "t1='20131101.00'"
   ]
  },
  {
   "cell_type": "code",
   "execution_count": 6,
   "metadata": {
    "collapsed": true
   },
   "outputs": [],
   "source": [
    "sdate=datetime.datetime.strptime(t1,'%Y%m%d.%H')"
   ]
  },
  {
   "cell_type": "code",
   "execution_count": 7,
   "metadata": {
    "collapsed": false
   },
   "outputs": [],
   "source": [
    "start=datetime.datetime.strftime(sdate,'%Y-%m-%d')"
   ]
  },
  {
   "cell_type": "code",
   "execution_count": 8,
   "metadata": {
    "collapsed": true
   },
   "outputs": [],
   "source": [
    "#end day\n",
    "t2='20131210.00'"
   ]
  },
  {
   "cell_type": "code",
   "execution_count": 9,
   "metadata": {
    "collapsed": true
   },
   "outputs": [],
   "source": [
    "edate=datetime.datetime.strptime(t2,'%Y%m%d.%H')"
   ]
  },
  {
   "cell_type": "code",
   "execution_count": 10,
   "metadata": {
    "collapsed": false
   },
   "outputs": [],
   "source": [
    "end=datetime.datetime.strftime(edate,'%Y-%m-%d')"
   ]
  },
  {
   "cell_type": "code",
   "execution_count": 11,
   "metadata": {
    "collapsed": true
   },
   "outputs": [],
   "source": [
    "point=1858"
   ]
  },
  {
   "cell_type": "markdown",
   "metadata": {},
   "source": [
    "## Observations"
   ]
  },
  {
   "cell_type": "code",
   "execution_count": 12,
   "metadata": {
    "collapsed": false
   },
   "outputs": [],
   "source": [
    "t,s,plat,plon,bname,bid = getmes(sdate,edate,point) # measured data"
   ]
  },
  {
   "cell_type": "code",
   "execution_count": 13,
   "metadata": {
    "collapsed": false
   },
   "outputs": [],
   "source": [
    "dic0={'time':t, 'Observation':[a for [a,b,c] in s], 'jrc_tide':[b for [a,b,c] in s], 'jrc_ss':[c for [a,b,c] in s]}\n",
    "dat1=pd.DataFrame(dic0)\n",
    "dat1=dat1.set_index('time')"
   ]
  },
  {
   "cell_type": "code",
   "execution_count": 14,
   "metadata": {
    "collapsed": true
   },
   "outputs": [],
   "source": [
    "dat1['Observation']=pd.to_numeric(dat1['Observation']) # convert string to floats\n",
    "dat1['jrc_ss']=pd.to_numeric(dat1['jrc_ss']) # convert string to floats\n",
    "dat1['jrc_tide']=pd.to_numeric(dat1['jrc_tide']) # convert string to floats"
   ]
  },
  {
   "cell_type": "code",
   "execution_count": 15,
   "metadata": {
    "collapsed": false
   },
   "outputs": [
    {
     "data": {
      "text/html": [
       "<div>\n",
       "<table border=\"1\" class=\"dataframe\">\n",
       "  <thead>\n",
       "    <tr style=\"text-align: right;\">\n",
       "      <th></th>\n",
       "      <th>Observation</th>\n",
       "      <th>jrc_ss</th>\n",
       "      <th>jrc_tide</th>\n",
       "    </tr>\n",
       "    <tr>\n",
       "      <th>time</th>\n",
       "      <th></th>\n",
       "      <th></th>\n",
       "      <th></th>\n",
       "    </tr>\n",
       "  </thead>\n",
       "  <tbody>\n",
       "    <tr>\n",
       "      <th>2013-11-01 00:05:00</th>\n",
       "      <td>0.000</td>\n",
       "      <td>-0.045</td>\n",
       "      <td>0.045</td>\n",
       "    </tr>\n",
       "    <tr>\n",
       "      <th>2013-11-01 00:23:00</th>\n",
       "      <td>0.007</td>\n",
       "      <td>-0.038</td>\n",
       "      <td>0.045</td>\n",
       "    </tr>\n",
       "    <tr>\n",
       "      <th>2013-11-01 00:41:00</th>\n",
       "      <td>0.007</td>\n",
       "      <td>-0.039</td>\n",
       "      <td>0.046</td>\n",
       "    </tr>\n",
       "    <tr>\n",
       "      <th>2013-11-01 00:59:00</th>\n",
       "      <td>0.000</td>\n",
       "      <td>-0.050</td>\n",
       "      <td>0.050</td>\n",
       "    </tr>\n",
       "    <tr>\n",
       "      <th>2013-11-01 01:09:00</th>\n",
       "      <td>0.018</td>\n",
       "      <td>-0.035</td>\n",
       "      <td>0.053</td>\n",
       "    </tr>\n",
       "  </tbody>\n",
       "</table>\n",
       "</div>"
      ],
      "text/plain": [
       "                     Observation  jrc_ss  jrc_tide\n",
       "time                                              \n",
       "2013-11-01 00:05:00        0.000  -0.045     0.045\n",
       "2013-11-01 00:23:00        0.007  -0.038     0.045\n",
       "2013-11-01 00:41:00        0.007  -0.039     0.046\n",
       "2013-11-01 00:59:00        0.000  -0.050     0.050\n",
       "2013-11-01 01:09:00        0.018  -0.035     0.053"
      ]
     },
     "execution_count": 15,
     "metadata": {},
     "output_type": "execute_result"
    }
   ],
   "source": [
    "dat1.head()"
   ]
  },
  {
   "cell_type": "code",
   "execution_count": 16,
   "metadata": {
    "collapsed": false
   },
   "outputs": [],
   "source": [
    "demeaned=dat1['Observation'].values-dat1['Observation'].values.mean()"
   ]
  },
  {
   "cell_type": "code",
   "execution_count": 17,
   "metadata": {
    "collapsed": false
   },
   "outputs": [],
   "source": [
    "tide=pytides.tide.Tide.decompose(demeaned, dat1['Observation'].index)"
   ]
  },
  {
   "cell_type": "code",
   "execution_count": 18,
   "metadata": {
    "collapsed": true
   },
   "outputs": [],
   "source": [
    "constituent = [c.name for c in tide.model['constituent']]"
   ]
  },
  {
   "cell_type": "code",
   "execution_count": 19,
   "metadata": {
    "collapsed": false
   },
   "outputs": [],
   "source": [
    "df=pd.DataFrame(tide.model, index=constituent).drop('constituent', axis=1)"
   ]
  },
  {
   "cell_type": "code",
   "execution_count": 20,
   "metadata": {
    "collapsed": false
   },
   "outputs": [
    {
     "data": {
      "text/html": [
       "<div>\n",
       "<table border=\"1\" class=\"dataframe\">\n",
       "  <thead>\n",
       "    <tr style=\"text-align: right;\">\n",
       "      <th></th>\n",
       "      <th>amplitude</th>\n",
       "      <th>phase</th>\n",
       "    </tr>\n",
       "  </thead>\n",
       "  <tbody>\n",
       "    <tr>\n",
       "      <th>S2</th>\n",
       "      <td>10.087247</td>\n",
       "      <td>181.117448</td>\n",
       "    </tr>\n",
       "    <tr>\n",
       "      <th>R2</th>\n",
       "      <td>8.686622</td>\n",
       "      <td>139.122908</td>\n",
       "    </tr>\n",
       "    <tr>\n",
       "      <th>T2</th>\n",
       "      <td>4.020833</td>\n",
       "      <td>42.879272</td>\n",
       "    </tr>\n",
       "    <tr>\n",
       "      <th>K2</th>\n",
       "      <td>3.249430</td>\n",
       "      <td>314.946648</td>\n",
       "    </tr>\n",
       "    <tr>\n",
       "      <th>S1</th>\n",
       "      <td>0.229919</td>\n",
       "      <td>327.918656</td>\n",
       "    </tr>\n",
       "    <tr>\n",
       "      <th>Mf</th>\n",
       "      <td>0.188023</td>\n",
       "      <td>231.967046</td>\n",
       "    </tr>\n",
       "    <tr>\n",
       "      <th>L2</th>\n",
       "      <td>0.173977</td>\n",
       "      <td>98.803768</td>\n",
       "    </tr>\n",
       "    <tr>\n",
       "      <th>lambda2</th>\n",
       "      <td>0.151345</td>\n",
       "      <td>6.473839</td>\n",
       "    </tr>\n",
       "    <tr>\n",
       "      <th>K1</th>\n",
       "      <td>0.119374</td>\n",
       "      <td>291.390517</td>\n",
       "    </tr>\n",
       "    <tr>\n",
       "      <th>MSF</th>\n",
       "      <td>0.118771</td>\n",
       "      <td>270.101960</td>\n",
       "    </tr>\n",
       "  </tbody>\n",
       "</table>\n",
       "</div>"
      ],
      "text/plain": [
       "         amplitude       phase\n",
       "S2       10.087247  181.117448\n",
       "R2        8.686622  139.122908\n",
       "T2        4.020833   42.879272\n",
       "K2        3.249430  314.946648\n",
       "S1        0.229919  327.918656\n",
       "Mf        0.188023  231.967046\n",
       "L2        0.173977   98.803768\n",
       "lambda2   0.151345    6.473839\n",
       "K1        0.119374  291.390517\n",
       "MSF       0.118771  270.101960"
      ]
     },
     "execution_count": 20,
     "metadata": {},
     "output_type": "execute_result"
    }
   ],
   "source": [
    "df.sort_values(by='amplitude', ascending=False).head(10) # 10 highest amplitudes"
   ]
  },
  {
   "cell_type": "markdown",
   "metadata": {},
   "source": [
    "## DELFT3D run"
   ]
  },
  {
   "cell_type": "code",
   "execution_count": 21,
   "metadata": {
    "collapsed": false
   },
   "outputs": [],
   "source": [
    "with open(path+'med.pkl', 'r') as f:\n",
    "    ptr=pickle.load(f)"
   ]
  },
  {
   "cell_type": "code",
   "execution_count": 22,
   "metadata": {
    "collapsed": false
   },
   "outputs": [],
   "source": [
    "obsp=pd.read_csv(path+'med.obs',delim_whitespace=True,names=['idx','i','j'],header=None, engine='python')"
   ]
  },
  {
   "cell_type": "code",
   "execution_count": 23,
   "metadata": {
    "collapsed": false
   },
   "outputs": [],
   "source": [
    "#obsp=obsp.set_index('idx')"
   ]
  },
  {
   "cell_type": "code",
   "execution_count": 24,
   "metadata": {
    "collapsed": false
   },
   "outputs": [
    {
     "data": {
      "text/html": [
       "<div>\n",
       "<table border=\"1\" class=\"dataframe\">\n",
       "  <thead>\n",
       "    <tr style=\"text-align: right;\">\n",
       "      <th></th>\n",
       "      <th>idx</th>\n",
       "      <th>i</th>\n",
       "      <th>j</th>\n",
       "    </tr>\n",
       "  </thead>\n",
       "  <tbody>\n",
       "    <tr>\n",
       "      <th>0</th>\n",
       "      <td>819</td>\n",
       "      <td>116</td>\n",
       "      <td>193</td>\n",
       "    </tr>\n",
       "    <tr>\n",
       "      <th>1</th>\n",
       "      <td>833</td>\n",
       "      <td>6</td>\n",
       "      <td>107</td>\n",
       "    </tr>\n",
       "    <tr>\n",
       "      <th>2</th>\n",
       "      <td>834</td>\n",
       "      <td>206</td>\n",
       "      <td>160</td>\n",
       "    </tr>\n",
       "    <tr>\n",
       "      <th>3</th>\n",
       "      <td>884</td>\n",
       "      <td>4</td>\n",
       "      <td>116</td>\n",
       "    </tr>\n",
       "    <tr>\n",
       "      <th>4</th>\n",
       "      <td>899</td>\n",
       "      <td>204</td>\n",
       "      <td>226</td>\n",
       "    </tr>\n",
       "  </tbody>\n",
       "</table>\n",
       "</div>"
      ],
      "text/plain": [
       "   idx    i    j\n",
       "0  819  116  193\n",
       "1  833    6  107\n",
       "2  834  206  160\n",
       "3  884    4  116\n",
       "4  899  204  226"
      ]
     },
     "execution_count": 24,
     "metadata": {},
     "output_type": "execute_result"
    }
   ],
   "source": [
    "obsp.head()"
   ]
  },
  {
   "cell_type": "code",
   "execution_count": 25,
   "metadata": {
    "collapsed": true
   },
   "outputs": [],
   "source": [
    "# READ delft3d OUTPUT\n",
    "dat=Dataset(path+'trih-med.nc') # with tidal force"
   ]
  },
  {
   "cell_type": "code",
   "execution_count": 26,
   "metadata": {
    "collapsed": true
   },
   "outputs": [],
   "source": [
    "h=dat['ZWL'][:,ptr[point]]"
   ]
  },
  {
   "cell_type": "code",
   "execution_count": 27,
   "metadata": {
    "collapsed": true
   },
   "outputs": [],
   "source": [
    "tt=dat['time'][:]"
   ]
  },
  {
   "cell_type": "code",
   "execution_count": 28,
   "metadata": {
    "collapsed": false
   },
   "outputs": [],
   "source": [
    "tstamp=[]\n",
    "for t in tt:\n",
    "    tstamp.append(sdate+datetime.timedelta(seconds=int(t)))"
   ]
  },
  {
   "cell_type": "markdown",
   "metadata": {},
   "source": [
    "#### get xz,yz from map output"
   ]
  },
  {
   "cell_type": "code",
   "execution_count": 29,
   "metadata": {
    "collapsed": true
   },
   "outputs": [],
   "source": [
    "# READ delft3d OUTPUT\n",
    "datm=Dataset(path+'trim-med.nc') # to get xz,yz"
   ]
  },
  {
   "cell_type": "code",
   "execution_count": 30,
   "metadata": {
    "collapsed": false
   },
   "outputs": [],
   "source": [
    "iv,ii,jj=obsp.xs(ptr[point]).values"
   ]
  },
  {
   "cell_type": "code",
   "execution_count": 31,
   "metadata": {
    "collapsed": false
   },
   "outputs": [],
   "source": [
    "xz=datm['XZ'][ii,jj]\n",
    "yz=datm['YZ'][ii,jj]\n"
   ]
  },
  {
   "cell_type": "code",
   "execution_count": 32,
   "metadata": {
    "collapsed": false
   },
   "outputs": [
    {
     "name": "stdout",
     "output_type": "stream",
     "text": [
      "13.4238 38.2332\n",
      "13.371 38.121\n"
     ]
    }
   ],
   "source": [
    "print xz,yz\n",
    "print plon,plat"
   ]
  },
  {
   "cell_type": "code",
   "execution_count": 33,
   "metadata": {
    "collapsed": false
   },
   "outputs": [],
   "source": [
    "# READ delft3d OUTPUT\n",
    "fdat=Dataset(path+'NF/trih-med.nc') # WITHOUT tidal force"
   ]
  },
  {
   "cell_type": "code",
   "execution_count": 34,
   "metadata": {
    "collapsed": true
   },
   "outputs": [],
   "source": [
    "fh=fdat['ZWL'][:,ptr[point]]"
   ]
  },
  {
   "cell_type": "code",
   "execution_count": 35,
   "metadata": {
    "collapsed": true
   },
   "outputs": [],
   "source": [
    "dic1={'time':tstamp, 'hd':h, 'fh':fh}\n",
    "dat2=pd.DataFrame(dic1)\n",
    "dat2=dat2.set_index('time')"
   ]
  },
  {
   "cell_type": "code",
   "execution_count": 36,
   "metadata": {
    "collapsed": true
   },
   "outputs": [],
   "source": [
    "dat2['hd']=pd.to_numeric(dat2['hd']) # convert string to floats"
   ]
  },
  {
   "cell_type": "code",
   "execution_count": 37,
   "metadata": {
    "collapsed": true
   },
   "outputs": [],
   "source": [
    "dat2['fh']=pd.to_numeric(dat2['fh']) # convert string to floats"
   ]
  },
  {
   "cell_type": "code",
   "execution_count": 38,
   "metadata": {
    "collapsed": false
   },
   "outputs": [],
   "source": [
    "dat2['scaled'] = dat2['fh'] + dat1['Observation'].values.mean()"
   ]
  },
  {
   "cell_type": "code",
   "execution_count": 39,
   "metadata": {
    "collapsed": false
   },
   "outputs": [
    {
     "data": {
      "text/html": [
       "<div>\n",
       "<table border=\"1\" class=\"dataframe\">\n",
       "  <thead>\n",
       "    <tr style=\"text-align: right;\">\n",
       "      <th></th>\n",
       "      <th>fh</th>\n",
       "      <th>hd</th>\n",
       "      <th>scaled</th>\n",
       "    </tr>\n",
       "    <tr>\n",
       "      <th>time</th>\n",
       "      <th></th>\n",
       "      <th></th>\n",
       "      <th></th>\n",
       "    </tr>\n",
       "  </thead>\n",
       "  <tbody>\n",
       "    <tr>\n",
       "      <th>2013-11-01 00:00:00</th>\n",
       "      <td>0.000000e+00</td>\n",
       "      <td>0.000000</td>\n",
       "      <td>0.159208</td>\n",
       "    </tr>\n",
       "    <tr>\n",
       "      <th>2013-11-01 00:10:00</th>\n",
       "      <td>-1.759803e-15</td>\n",
       "      <td>0.002657</td>\n",
       "      <td>0.159208</td>\n",
       "    </tr>\n",
       "    <tr>\n",
       "      <th>2013-11-01 00:20:00</th>\n",
       "      <td>-4.183826e-14</td>\n",
       "      <td>0.001584</td>\n",
       "      <td>0.159208</td>\n",
       "    </tr>\n",
       "    <tr>\n",
       "      <th>2013-11-01 00:30:00</th>\n",
       "      <td>1.223556e-14</td>\n",
       "      <td>-0.002698</td>\n",
       "      <td>0.159208</td>\n",
       "    </tr>\n",
       "    <tr>\n",
       "      <th>2013-11-01 00:40:00</th>\n",
       "      <td>-1.429785e-14</td>\n",
       "      <td>-0.010757</td>\n",
       "      <td>0.159208</td>\n",
       "    </tr>\n",
       "  </tbody>\n",
       "</table>\n",
       "</div>"
      ],
      "text/plain": [
       "                               fh        hd    scaled\n",
       "time                                                 \n",
       "2013-11-01 00:00:00  0.000000e+00  0.000000  0.159208\n",
       "2013-11-01 00:10:00 -1.759803e-15  0.002657  0.159208\n",
       "2013-11-01 00:20:00 -4.183826e-14  0.001584  0.159208\n",
       "2013-11-01 00:30:00  1.223556e-14 -0.002698  0.159208\n",
       "2013-11-01 00:40:00 -1.429785e-14 -0.010757  0.159208"
      ]
     },
     "execution_count": 39,
     "metadata": {},
     "output_type": "execute_result"
    }
   ],
   "source": [
    "dat2.head()"
   ]
  },
  {
   "cell_type": "markdown",
   "metadata": {},
   "source": [
    "## EXPECTED TIDE"
   ]
  },
  {
   "cell_type": "code",
   "execution_count": 40,
   "metadata": {
    "collapsed": true
   },
   "outputs": [],
   "source": [
    "tideset='../TIDES/med.nc'"
   ]
  },
  {
   "cell_type": "code",
   "execution_count": 41,
   "metadata": {
    "collapsed": false
   },
   "outputs": [],
   "source": [
    "tidal_c,amp,ph=bl4(tideset,xz,yz)"
   ]
  },
  {
   "cell_type": "code",
   "execution_count": 42,
   "metadata": {
    "collapsed": false
   },
   "outputs": [],
   "source": [
    "if amp.max()==0. :\n",
    "    print 'using plon,plat'\n",
    "    tidal_c,amp,ph=bl4(tideset,float(plon),float(plat))"
   ]
  },
  {
   "cell_type": "code",
   "execution_count": 43,
   "metadata": {
    "collapsed": true
   },
   "outputs": [],
   "source": [
    "#tidal_c,amp,ph=bl4(tideset,float(plon),float(plat))"
   ]
  },
  {
   "cell_type": "code",
   "execution_count": 44,
   "metadata": {
    "collapsed": false
   },
   "outputs": [
    {
     "data": {
      "text/html": [
       "<div>\n",
       "<table border=\"1\" class=\"dataframe\">\n",
       "  <thead>\n",
       "    <tr style=\"text-align: right;\">\n",
       "      <th></th>\n",
       "      <th>amplitude</th>\n",
       "      <th>phase</th>\n",
       "    </tr>\n",
       "    <tr>\n",
       "      <th>name</th>\n",
       "      <th></th>\n",
       "      <th></th>\n",
       "    </tr>\n",
       "  </thead>\n",
       "  <tbody>\n",
       "    <tr>\n",
       "      <th>M2</th>\n",
       "      <td>0.113913</td>\n",
       "      <td>235.933948</td>\n",
       "    </tr>\n",
       "    <tr>\n",
       "      <th>S2</th>\n",
       "      <td>0.042516</td>\n",
       "      <td>256.293228</td>\n",
       "    </tr>\n",
       "    <tr>\n",
       "      <th>N2</th>\n",
       "      <td>0.023543</td>\n",
       "      <td>222.109374</td>\n",
       "    </tr>\n",
       "    <tr>\n",
       "      <th>K2</th>\n",
       "      <td>0.011743</td>\n",
       "      <td>254.667955</td>\n",
       "    </tr>\n",
       "    <tr>\n",
       "      <th>K1</th>\n",
       "      <td>0.029644</td>\n",
       "      <td>196.472573</td>\n",
       "    </tr>\n",
       "    <tr>\n",
       "      <th>O1</th>\n",
       "      <td>0.010840</td>\n",
       "      <td>128.931300</td>\n",
       "    </tr>\n",
       "    <tr>\n",
       "      <th>P1</th>\n",
       "      <td>0.009042</td>\n",
       "      <td>187.025334</td>\n",
       "    </tr>\n",
       "    <tr>\n",
       "      <th>Q1</th>\n",
       "      <td>0.001705</td>\n",
       "      <td>36.194315</td>\n",
       "    </tr>\n",
       "  </tbody>\n",
       "</table>\n",
       "</div>"
      ],
      "text/plain": [
       "      amplitude       phase\n",
       "name                       \n",
       "M2     0.113913  235.933948\n",
       "S2     0.042516  256.293228\n",
       "N2     0.023543  222.109374\n",
       "K2     0.011743  254.667955\n",
       "K1     0.029644  196.472573\n",
       "O1     0.010840  128.931300\n",
       "P1     0.009042  187.025334\n",
       "Q1     0.001705   36.194315"
      ]
     },
     "execution_count": 44,
     "metadata": {},
     "output_type": "execute_result"
    }
   ],
   "source": [
    "dic3={'name':tidal_c,'amplitude':amp,'phase':ph}\n",
    "df=pd.DataFrame(dic3)\n",
    "df=df.set_index('name')\n",
    "df"
   ]
  },
  {
   "cell_type": "code",
   "execution_count": 45,
   "metadata": {
    "collapsed": false
   },
   "outputs": [],
   "source": [
    "# set a tide object to validate\n",
    "tomed=copy.deepcopy(tide)"
   ]
  },
  {
   "cell_type": "code",
   "execution_count": 46,
   "metadata": {
    "collapsed": true
   },
   "outputs": [],
   "source": [
    "k=0\n",
    "for c,a,p in tomed.model:\n",
    "    if c.name in df.index:\n",
    "        tomed.model['amplitude'][k] = df['amplitude'][c.name]\n",
    "        tomed.model['phase'][k] = df['phase'][c.name]\n",
    "    else:\n",
    "        tomed.model['amplitude'][k]=0.\n",
    "        tomed.model['phase'][k]=0.\n",
    "    k +=1    "
   ]
  },
  {
   "cell_type": "code",
   "execution_count": 47,
   "metadata": {
    "collapsed": false
   },
   "outputs": [
    {
     "data": {
      "text/plain": [
       "array([ 0.        ,  0.11391287,  0.04251595,  0.0235429 ,  0.02964365,\n",
       "        0.        ,  0.01084016,  0.        ,  0.        ,  0.        ,\n",
       "        0.        ,  0.        ,  0.        ,  0.        ,  0.        ,\n",
       "        0.        ,  0.        ,  0.        ,  0.        ,  0.        ,\n",
       "        0.        ,  0.        ,  0.        ,  0.00170493,  0.        ,\n",
       "        0.        ,  0.        ,  0.00904169,  0.        ,  0.        ,\n",
       "        0.        ,  0.        ,  0.01174348,  0.        ,  0.        ])"
      ]
     },
     "execution_count": 47,
     "metadata": {},
     "output_type": "execute_result"
    }
   ],
   "source": [
    "tomed.model['amplitude']"
   ]
  },
  {
   "cell_type": "code",
   "execution_count": 48,
   "metadata": {
    "collapsed": false
   },
   "outputs": [
    {
     "data": {
      "text/plain": [
       "array([   0.        ,  235.93394821,  256.29322841,  222.10937402,\n",
       "        196.47257346,    0.        ,  128.93129989,    0.        ,\n",
       "          0.        ,    0.        ,    0.        ,    0.        ,\n",
       "          0.        ,    0.        ,    0.        ,    0.        ,\n",
       "          0.        ,    0.        ,    0.        ,    0.        ,\n",
       "          0.        ,    0.        ,    0.        ,   36.19431502,\n",
       "          0.        ,    0.        ,    0.        ,  187.02533363,\n",
       "          0.        ,    0.        ,    0.        ,    0.        ,\n",
       "        254.66795512,    0.        ,    0.        ])"
      ]
     },
     "execution_count": 48,
     "metadata": {},
     "output_type": "execute_result"
    }
   ],
   "source": [
    "tomed.model['phase']"
   ]
  },
  {
   "cell_type": "code",
   "execution_count": 49,
   "metadata": {
    "collapsed": false
   },
   "outputs": [],
   "source": [
    "dates=pd.date_range(start=start,end=end,freq='6T')"
   ]
  },
  {
   "cell_type": "code",
   "execution_count": 50,
   "metadata": {
    "collapsed": false
   },
   "outputs": [],
   "source": [
    "hours=np.cumsum(np.r_[0, [t.total_seconds()/3600.0 for t in np.diff(dates.to_pydatetime())]])"
   ]
  },
  {
   "cell_type": "code",
   "execution_count": 51,
   "metadata": {
    "collapsed": true
   },
   "outputs": [],
   "source": [
    "times=pytides.tide.Tide._times(dates[0], hours)"
   ]
  },
  {
   "cell_type": "code",
   "execution_count": 52,
   "metadata": {
    "collapsed": false
   },
   "outputs": [],
   "source": [
    "med_deltares = pd.Series(tomed.at(times) + dat1['Observation'].values.mean(), index=dates)"
   ]
  },
  {
   "cell_type": "code",
   "execution_count": 53,
   "metadata": {
    "collapsed": false
   },
   "outputs": [],
   "source": [
    "med_d1 = pd.Series(tomed.at(times) + dat2['hd'].values.mean(), index=dates)"
   ]
  },
  {
   "cell_type": "code",
   "execution_count": 54,
   "metadata": {
    "collapsed": false
   },
   "outputs": [],
   "source": [
    "#%%skip\n",
    "med_d2 = pd.Series(tomed.at(times) + dat2['fh'].values.mean(), index=dates)"
   ]
  },
  {
   "cell_type": "markdown",
   "metadata": {},
   "source": [
    "## COMPARE"
   ]
  },
  {
   "cell_type": "code",
   "execution_count": 55,
   "metadata": {
    "collapsed": false
   },
   "outputs": [],
   "source": [
    "%%skip\n",
    "ax = dat1['jrc_tide'].plot(figsize=(12,8), label='Observed data')\n",
    "med_deltares.plot(ax=ax, color='green', linestyle='--', label='pytides from deltares med')\n",
    "dat2['hd'].plot(ax=ax,color='k',linestyle='-', label='Calculated no Tidal force' )\n",
    "dat2['fh'].plot(ax=ax,color='r',marker='',linestyle='-', label='Calculated with Tidal force' )\n",
    "dat2['scaled'].plot(ax=ax,color='orange',marker='',linestyle='-', label='Scaled' )\n",
    "leg=ax.legend(loc='best')"
   ]
  },
  {
   "cell_type": "code",
   "execution_count": 56,
   "metadata": {
    "collapsed": false
   },
   "outputs": [
    {
     "data": {
      "application/javascript": [
       "/* Put everything inside the global mpl namespace */\n",
       "window.mpl = {};\n",
       "\n",
       "mpl.get_websocket_type = function() {\n",
       "    if (typeof(WebSocket) !== 'undefined') {\n",
       "        return WebSocket;\n",
       "    } else if (typeof(MozWebSocket) !== 'undefined') {\n",
       "        return MozWebSocket;\n",
       "    } else {\n",
       "        alert('Your browser does not have WebSocket support.' +\n",
       "              'Please try Chrome, Safari or Firefox ≥ 6. ' +\n",
       "              'Firefox 4 and 5 are also supported but you ' +\n",
       "              'have to enable WebSockets in about:config.');\n",
       "    };\n",
       "}\n",
       "\n",
       "mpl.figure = function(figure_id, websocket, ondownload, parent_element) {\n",
       "    this.id = figure_id;\n",
       "\n",
       "    this.ws = websocket;\n",
       "\n",
       "    this.supports_binary = (this.ws.binaryType != undefined);\n",
       "\n",
       "    if (!this.supports_binary) {\n",
       "        var warnings = document.getElementById(\"mpl-warnings\");\n",
       "        if (warnings) {\n",
       "            warnings.style.display = 'block';\n",
       "            warnings.textContent = (\n",
       "                \"This browser does not support binary websocket messages. \" +\n",
       "                    \"Performance may be slow.\");\n",
       "        }\n",
       "    }\n",
       "\n",
       "    this.imageObj = new Image();\n",
       "\n",
       "    this.context = undefined;\n",
       "    this.message = undefined;\n",
       "    this.canvas = undefined;\n",
       "    this.rubberband_canvas = undefined;\n",
       "    this.rubberband_context = undefined;\n",
       "    this.format_dropdown = undefined;\n",
       "\n",
       "    this.image_mode = 'full';\n",
       "\n",
       "    this.root = $('<div/>');\n",
       "    this._root_extra_style(this.root)\n",
       "    this.root.attr('style', 'display: inline-block');\n",
       "\n",
       "    $(parent_element).append(this.root);\n",
       "\n",
       "    this._init_header(this);\n",
       "    this._init_canvas(this);\n",
       "    this._init_toolbar(this);\n",
       "\n",
       "    var fig = this;\n",
       "\n",
       "    this.waiting = false;\n",
       "\n",
       "    this.ws.onopen =  function () {\n",
       "            fig.send_message(\"supports_binary\", {value: fig.supports_binary});\n",
       "            fig.send_message(\"send_image_mode\", {});\n",
       "            fig.send_message(\"refresh\", {});\n",
       "        }\n",
       "\n",
       "    this.imageObj.onload = function() {\n",
       "            if (fig.image_mode == 'full') {\n",
       "                // Full images could contain transparency (where diff images\n",
       "                // almost always do), so we need to clear the canvas so that\n",
       "                // there is no ghosting.\n",
       "                fig.context.clearRect(0, 0, fig.canvas.width, fig.canvas.height);\n",
       "            }\n",
       "            fig.context.drawImage(fig.imageObj, 0, 0);\n",
       "        };\n",
       "\n",
       "    this.imageObj.onunload = function() {\n",
       "        this.ws.close();\n",
       "    }\n",
       "\n",
       "    this.ws.onmessage = this._make_on_message_function(this);\n",
       "\n",
       "    this.ondownload = ondownload;\n",
       "}\n",
       "\n",
       "mpl.figure.prototype._init_header = function() {\n",
       "    var titlebar = $(\n",
       "        '<div class=\"ui-dialog-titlebar ui-widget-header ui-corner-all ' +\n",
       "        'ui-helper-clearfix\"/>');\n",
       "    var titletext = $(\n",
       "        '<div class=\"ui-dialog-title\" style=\"width: 100%; ' +\n",
       "        'text-align: center; padding: 3px;\"/>');\n",
       "    titlebar.append(titletext)\n",
       "    this.root.append(titlebar);\n",
       "    this.header = titletext[0];\n",
       "}\n",
       "\n",
       "\n",
       "\n",
       "mpl.figure.prototype._canvas_extra_style = function(canvas_div) {\n",
       "\n",
       "}\n",
       "\n",
       "\n",
       "mpl.figure.prototype._root_extra_style = function(canvas_div) {\n",
       "\n",
       "}\n",
       "\n",
       "mpl.figure.prototype._init_canvas = function() {\n",
       "    var fig = this;\n",
       "\n",
       "    var canvas_div = $('<div/>');\n",
       "\n",
       "    canvas_div.attr('style', 'position: relative; clear: both; outline: 0');\n",
       "\n",
       "    function canvas_keyboard_event(event) {\n",
       "        return fig.key_event(event, event['data']);\n",
       "    }\n",
       "\n",
       "    canvas_div.keydown('key_press', canvas_keyboard_event);\n",
       "    canvas_div.keyup('key_release', canvas_keyboard_event);\n",
       "    this.canvas_div = canvas_div\n",
       "    this._canvas_extra_style(canvas_div)\n",
       "    this.root.append(canvas_div);\n",
       "\n",
       "    var canvas = $('<canvas/>');\n",
       "    canvas.addClass('mpl-canvas');\n",
       "    canvas.attr('style', \"left: 0; top: 0; z-index: 0; outline: 0\")\n",
       "\n",
       "    this.canvas = canvas[0];\n",
       "    this.context = canvas[0].getContext(\"2d\");\n",
       "\n",
       "    var rubberband = $('<canvas/>');\n",
       "    rubberband.attr('style', \"position: absolute; left: 0; top: 0; z-index: 1;\")\n",
       "\n",
       "    var pass_mouse_events = true;\n",
       "\n",
       "    canvas_div.resizable({\n",
       "        start: function(event, ui) {\n",
       "            pass_mouse_events = false;\n",
       "        },\n",
       "        resize: function(event, ui) {\n",
       "            fig.request_resize(ui.size.width, ui.size.height);\n",
       "        },\n",
       "        stop: function(event, ui) {\n",
       "            pass_mouse_events = true;\n",
       "            fig.request_resize(ui.size.width, ui.size.height);\n",
       "        },\n",
       "    });\n",
       "\n",
       "    function mouse_event_fn(event) {\n",
       "        if (pass_mouse_events)\n",
       "            return fig.mouse_event(event, event['data']);\n",
       "    }\n",
       "\n",
       "    rubberband.mousedown('button_press', mouse_event_fn);\n",
       "    rubberband.mouseup('button_release', mouse_event_fn);\n",
       "    // Throttle sequential mouse events to 1 every 20ms.\n",
       "    rubberband.mousemove('motion_notify', mouse_event_fn);\n",
       "\n",
       "    rubberband.mouseenter('figure_enter', mouse_event_fn);\n",
       "    rubberband.mouseleave('figure_leave', mouse_event_fn);\n",
       "\n",
       "    canvas_div.on(\"wheel\", function (event) {\n",
       "        event = event.originalEvent;\n",
       "        event['data'] = 'scroll'\n",
       "        if (event.deltaY < 0) {\n",
       "            event.step = 1;\n",
       "        } else {\n",
       "            event.step = -1;\n",
       "        }\n",
       "        mouse_event_fn(event);\n",
       "    });\n",
       "\n",
       "    canvas_div.append(canvas);\n",
       "    canvas_div.append(rubberband);\n",
       "\n",
       "    this.rubberband = rubberband;\n",
       "    this.rubberband_canvas = rubberband[0];\n",
       "    this.rubberband_context = rubberband[0].getContext(\"2d\");\n",
       "    this.rubberband_context.strokeStyle = \"#000000\";\n",
       "\n",
       "    this._resize_canvas = function(width, height) {\n",
       "        // Keep the size of the canvas, canvas container, and rubber band\n",
       "        // canvas in synch.\n",
       "        canvas_div.css('width', width)\n",
       "        canvas_div.css('height', height)\n",
       "\n",
       "        canvas.attr('width', width);\n",
       "        canvas.attr('height', height);\n",
       "\n",
       "        rubberband.attr('width', width);\n",
       "        rubberband.attr('height', height);\n",
       "    }\n",
       "\n",
       "    // Set the figure to an initial 600x600px, this will subsequently be updated\n",
       "    // upon first draw.\n",
       "    this._resize_canvas(600, 600);\n",
       "\n",
       "    // Disable right mouse context menu.\n",
       "    $(this.rubberband_canvas).bind(\"contextmenu\",function(e){\n",
       "        return false;\n",
       "    });\n",
       "\n",
       "    function set_focus () {\n",
       "        canvas.focus();\n",
       "        canvas_div.focus();\n",
       "    }\n",
       "\n",
       "    window.setTimeout(set_focus, 100);\n",
       "}\n",
       "\n",
       "mpl.figure.prototype._init_toolbar = function() {\n",
       "    var fig = this;\n",
       "\n",
       "    var nav_element = $('<div/>')\n",
       "    nav_element.attr('style', 'width: 100%');\n",
       "    this.root.append(nav_element);\n",
       "\n",
       "    // Define a callback function for later on.\n",
       "    function toolbar_event(event) {\n",
       "        return fig.toolbar_button_onclick(event['data']);\n",
       "    }\n",
       "    function toolbar_mouse_event(event) {\n",
       "        return fig.toolbar_button_onmouseover(event['data']);\n",
       "    }\n",
       "\n",
       "    for(var toolbar_ind in mpl.toolbar_items) {\n",
       "        var name = mpl.toolbar_items[toolbar_ind][0];\n",
       "        var tooltip = mpl.toolbar_items[toolbar_ind][1];\n",
       "        var image = mpl.toolbar_items[toolbar_ind][2];\n",
       "        var method_name = mpl.toolbar_items[toolbar_ind][3];\n",
       "\n",
       "        if (!name) {\n",
       "            // put a spacer in here.\n",
       "            continue;\n",
       "        }\n",
       "        var button = $('<button/>');\n",
       "        button.addClass('ui-button ui-widget ui-state-default ui-corner-all ' +\n",
       "                        'ui-button-icon-only');\n",
       "        button.attr('role', 'button');\n",
       "        button.attr('aria-disabled', 'false');\n",
       "        button.click(method_name, toolbar_event);\n",
       "        button.mouseover(tooltip, toolbar_mouse_event);\n",
       "\n",
       "        var icon_img = $('<span/>');\n",
       "        icon_img.addClass('ui-button-icon-primary ui-icon');\n",
       "        icon_img.addClass(image);\n",
       "        icon_img.addClass('ui-corner-all');\n",
       "\n",
       "        var tooltip_span = $('<span/>');\n",
       "        tooltip_span.addClass('ui-button-text');\n",
       "        tooltip_span.html(tooltip);\n",
       "\n",
       "        button.append(icon_img);\n",
       "        button.append(tooltip_span);\n",
       "\n",
       "        nav_element.append(button);\n",
       "    }\n",
       "\n",
       "    var fmt_picker_span = $('<span/>');\n",
       "\n",
       "    var fmt_picker = $('<select/>');\n",
       "    fmt_picker.addClass('mpl-toolbar-option ui-widget ui-widget-content');\n",
       "    fmt_picker_span.append(fmt_picker);\n",
       "    nav_element.append(fmt_picker_span);\n",
       "    this.format_dropdown = fmt_picker[0];\n",
       "\n",
       "    for (var ind in mpl.extensions) {\n",
       "        var fmt = mpl.extensions[ind];\n",
       "        var option = $(\n",
       "            '<option/>', {selected: fmt === mpl.default_extension}).html(fmt);\n",
       "        fmt_picker.append(option)\n",
       "    }\n",
       "\n",
       "    // Add hover states to the ui-buttons\n",
       "    $( \".ui-button\" ).hover(\n",
       "        function() { $(this).addClass(\"ui-state-hover\");},\n",
       "        function() { $(this).removeClass(\"ui-state-hover\");}\n",
       "    );\n",
       "\n",
       "    var status_bar = $('<span class=\"mpl-message\"/>');\n",
       "    nav_element.append(status_bar);\n",
       "    this.message = status_bar[0];\n",
       "}\n",
       "\n",
       "mpl.figure.prototype.request_resize = function(x_pixels, y_pixels) {\n",
       "    // Request matplotlib to resize the figure. Matplotlib will then trigger a resize in the client,\n",
       "    // which will in turn request a refresh of the image.\n",
       "    this.send_message('resize', {'width': x_pixels, 'height': y_pixels});\n",
       "}\n",
       "\n",
       "mpl.figure.prototype.send_message = function(type, properties) {\n",
       "    properties['type'] = type;\n",
       "    properties['figure_id'] = this.id;\n",
       "    this.ws.send(JSON.stringify(properties));\n",
       "}\n",
       "\n",
       "mpl.figure.prototype.send_draw_message = function() {\n",
       "    if (!this.waiting) {\n",
       "        this.waiting = true;\n",
       "        this.ws.send(JSON.stringify({type: \"draw\", figure_id: this.id}));\n",
       "    }\n",
       "}\n",
       "\n",
       "\n",
       "mpl.figure.prototype.handle_save = function(fig, msg) {\n",
       "    var format_dropdown = fig.format_dropdown;\n",
       "    var format = format_dropdown.options[format_dropdown.selectedIndex].value;\n",
       "    fig.ondownload(fig, format);\n",
       "}\n",
       "\n",
       "\n",
       "mpl.figure.prototype.handle_resize = function(fig, msg) {\n",
       "    var size = msg['size'];\n",
       "    if (size[0] != fig.canvas.width || size[1] != fig.canvas.height) {\n",
       "        fig._resize_canvas(size[0], size[1]);\n",
       "        fig.send_message(\"refresh\", {});\n",
       "    };\n",
       "}\n",
       "\n",
       "mpl.figure.prototype.handle_rubberband = function(fig, msg) {\n",
       "    var x0 = msg['x0'];\n",
       "    var y0 = fig.canvas.height - msg['y0'];\n",
       "    var x1 = msg['x1'];\n",
       "    var y1 = fig.canvas.height - msg['y1'];\n",
       "    x0 = Math.floor(x0) + 0.5;\n",
       "    y0 = Math.floor(y0) + 0.5;\n",
       "    x1 = Math.floor(x1) + 0.5;\n",
       "    y1 = Math.floor(y1) + 0.5;\n",
       "    var min_x = Math.min(x0, x1);\n",
       "    var min_y = Math.min(y0, y1);\n",
       "    var width = Math.abs(x1 - x0);\n",
       "    var height = Math.abs(y1 - y0);\n",
       "\n",
       "    fig.rubberband_context.clearRect(\n",
       "        0, 0, fig.canvas.width, fig.canvas.height);\n",
       "\n",
       "    fig.rubberband_context.strokeRect(min_x, min_y, width, height);\n",
       "}\n",
       "\n",
       "mpl.figure.prototype.handle_figure_label = function(fig, msg) {\n",
       "    // Updates the figure title.\n",
       "    fig.header.textContent = msg['label'];\n",
       "}\n",
       "\n",
       "mpl.figure.prototype.handle_cursor = function(fig, msg) {\n",
       "    var cursor = msg['cursor'];\n",
       "    switch(cursor)\n",
       "    {\n",
       "    case 0:\n",
       "        cursor = 'pointer';\n",
       "        break;\n",
       "    case 1:\n",
       "        cursor = 'default';\n",
       "        break;\n",
       "    case 2:\n",
       "        cursor = 'crosshair';\n",
       "        break;\n",
       "    case 3:\n",
       "        cursor = 'move';\n",
       "        break;\n",
       "    }\n",
       "    fig.rubberband_canvas.style.cursor = cursor;\n",
       "}\n",
       "\n",
       "mpl.figure.prototype.handle_message = function(fig, msg) {\n",
       "    fig.message.textContent = msg['message'];\n",
       "}\n",
       "\n",
       "mpl.figure.prototype.handle_draw = function(fig, msg) {\n",
       "    // Request the server to send over a new figure.\n",
       "    fig.send_draw_message();\n",
       "}\n",
       "\n",
       "mpl.figure.prototype.handle_image_mode = function(fig, msg) {\n",
       "    fig.image_mode = msg['mode'];\n",
       "}\n",
       "\n",
       "mpl.figure.prototype.updated_canvas_event = function() {\n",
       "    // Called whenever the canvas gets updated.\n",
       "    this.send_message(\"ack\", {});\n",
       "}\n",
       "\n",
       "// A function to construct a web socket function for onmessage handling.\n",
       "// Called in the figure constructor.\n",
       "mpl.figure.prototype._make_on_message_function = function(fig) {\n",
       "    return function socket_on_message(evt) {\n",
       "        if (evt.data instanceof Blob) {\n",
       "            /* FIXME: We get \"Resource interpreted as Image but\n",
       "             * transferred with MIME type text/plain:\" errors on\n",
       "             * Chrome.  But how to set the MIME type?  It doesn't seem\n",
       "             * to be part of the websocket stream */\n",
       "            evt.data.type = \"image/png\";\n",
       "\n",
       "            /* Free the memory for the previous frames */\n",
       "            if (fig.imageObj.src) {\n",
       "                (window.URL || window.webkitURL).revokeObjectURL(\n",
       "                    fig.imageObj.src);\n",
       "            }\n",
       "\n",
       "            fig.imageObj.src = (window.URL || window.webkitURL).createObjectURL(\n",
       "                evt.data);\n",
       "            fig.updated_canvas_event();\n",
       "            fig.waiting = false;\n",
       "            return;\n",
       "        }\n",
       "        else if (typeof evt.data === 'string' && evt.data.slice(0, 21) == \"data:image/png;base64\") {\n",
       "            fig.imageObj.src = evt.data;\n",
       "            fig.updated_canvas_event();\n",
       "            fig.waiting = false;\n",
       "            return;\n",
       "        }\n",
       "\n",
       "        var msg = JSON.parse(evt.data);\n",
       "        var msg_type = msg['type'];\n",
       "\n",
       "        // Call the  \"handle_{type}\" callback, which takes\n",
       "        // the figure and JSON message as its only arguments.\n",
       "        try {\n",
       "            var callback = fig[\"handle_\" + msg_type];\n",
       "        } catch (e) {\n",
       "            console.log(\"No handler for the '\" + msg_type + \"' message type: \", msg);\n",
       "            return;\n",
       "        }\n",
       "\n",
       "        if (callback) {\n",
       "            try {\n",
       "                // console.log(\"Handling '\" + msg_type + \"' message: \", msg);\n",
       "                callback(fig, msg);\n",
       "            } catch (e) {\n",
       "                console.log(\"Exception inside the 'handler_\" + msg_type + \"' callback:\", e, e.stack, msg);\n",
       "            }\n",
       "        }\n",
       "    };\n",
       "}\n",
       "\n",
       "// from http://stackoverflow.com/questions/1114465/getting-mouse-location-in-canvas\n",
       "mpl.findpos = function(e) {\n",
       "    //this section is from http://www.quirksmode.org/js/events_properties.html\n",
       "    var targ;\n",
       "    if (!e)\n",
       "        e = window.event;\n",
       "    if (e.target)\n",
       "        targ = e.target;\n",
       "    else if (e.srcElement)\n",
       "        targ = e.srcElement;\n",
       "    if (targ.nodeType == 3) // defeat Safari bug\n",
       "        targ = targ.parentNode;\n",
       "\n",
       "    // jQuery normalizes the pageX and pageY\n",
       "    // pageX,Y are the mouse positions relative to the document\n",
       "    // offset() returns the position of the element relative to the document\n",
       "    var x = e.pageX - $(targ).offset().left;\n",
       "    var y = e.pageY - $(targ).offset().top;\n",
       "\n",
       "    return {\"x\": x, \"y\": y};\n",
       "};\n",
       "\n",
       "/*\n",
       " * return a copy of an object with only non-object keys\n",
       " * we need this to avoid circular references\n",
       " * http://stackoverflow.com/a/24161582/3208463\n",
       " */\n",
       "function simpleKeys (original) {\n",
       "  return Object.keys(original).reduce(function (obj, key) {\n",
       "    if (typeof original[key] !== 'object')\n",
       "        obj[key] = original[key]\n",
       "    return obj;\n",
       "  }, {});\n",
       "}\n",
       "\n",
       "mpl.figure.prototype.mouse_event = function(event, name) {\n",
       "    var canvas_pos = mpl.findpos(event)\n",
       "\n",
       "    if (name === 'button_press')\n",
       "    {\n",
       "        this.canvas.focus();\n",
       "        this.canvas_div.focus();\n",
       "    }\n",
       "\n",
       "    var x = canvas_pos.x;\n",
       "    var y = canvas_pos.y;\n",
       "\n",
       "    this.send_message(name, {x: x, y: y, button: event.button,\n",
       "                             step: event.step,\n",
       "                             guiEvent: simpleKeys(event)});\n",
       "\n",
       "    /* This prevents the web browser from automatically changing to\n",
       "     * the text insertion cursor when the button is pressed.  We want\n",
       "     * to control all of the cursor setting manually through the\n",
       "     * 'cursor' event from matplotlib */\n",
       "    event.preventDefault();\n",
       "    return false;\n",
       "}\n",
       "\n",
       "mpl.figure.prototype._key_event_extra = function(event, name) {\n",
       "    // Handle any extra behaviour associated with a key event\n",
       "}\n",
       "\n",
       "mpl.figure.prototype.key_event = function(event, name) {\n",
       "\n",
       "    // Prevent repeat events\n",
       "    if (name == 'key_press')\n",
       "    {\n",
       "        if (event.which === this._key)\n",
       "            return;\n",
       "        else\n",
       "            this._key = event.which;\n",
       "    }\n",
       "    if (name == 'key_release')\n",
       "        this._key = null;\n",
       "\n",
       "    var value = '';\n",
       "    if (event.ctrlKey && event.which != 17)\n",
       "        value += \"ctrl+\";\n",
       "    if (event.altKey && event.which != 18)\n",
       "        value += \"alt+\";\n",
       "    if (event.shiftKey && event.which != 16)\n",
       "        value += \"shift+\";\n",
       "\n",
       "    value += 'k';\n",
       "    value += event.which.toString();\n",
       "\n",
       "    this._key_event_extra(event, name);\n",
       "\n",
       "    this.send_message(name, {key: value,\n",
       "                             guiEvent: simpleKeys(event)});\n",
       "    return false;\n",
       "}\n",
       "\n",
       "mpl.figure.prototype.toolbar_button_onclick = function(name) {\n",
       "    if (name == 'download') {\n",
       "        this.handle_save(this, null);\n",
       "    } else {\n",
       "        this.send_message(\"toolbar_button\", {name: name});\n",
       "    }\n",
       "};\n",
       "\n",
       "mpl.figure.prototype.toolbar_button_onmouseover = function(tooltip) {\n",
       "    this.message.textContent = tooltip;\n",
       "};\n",
       "mpl.toolbar_items = [[\"Home\", \"Reset original view\", \"fa fa-home icon-home\", \"home\"], [\"Back\", \"Back to  previous view\", \"fa fa-arrow-left icon-arrow-left\", \"back\"], [\"Forward\", \"Forward to next view\", \"fa fa-arrow-right icon-arrow-right\", \"forward\"], [\"\", \"\", \"\", \"\"], [\"Pan\", \"Pan axes with left mouse, zoom with right\", \"fa fa-arrows icon-move\", \"pan\"], [\"Zoom\", \"Zoom to rectangle\", \"fa fa-square-o icon-check-empty\", \"zoom\"], [\"\", \"\", \"\", \"\"], [\"Download\", \"Download plot\", \"fa fa-floppy-o icon-save\", \"download\"]];\n",
       "\n",
       "mpl.extensions = [\"eps\", \"jpeg\", \"pdf\", \"png\", \"ps\", \"raw\", \"svg\", \"tif\"];\n",
       "\n",
       "mpl.default_extension = \"png\";var comm_websocket_adapter = function(comm) {\n",
       "    // Create a \"websocket\"-like object which calls the given IPython comm\n",
       "    // object with the appropriate methods. Currently this is a non binary\n",
       "    // socket, so there is still some room for performance tuning.\n",
       "    var ws = {};\n",
       "\n",
       "    ws.close = function() {\n",
       "        comm.close()\n",
       "    };\n",
       "    ws.send = function(m) {\n",
       "        //console.log('sending', m);\n",
       "        comm.send(m);\n",
       "    };\n",
       "    // Register the callback with on_msg.\n",
       "    comm.on_msg(function(msg) {\n",
       "        //console.log('receiving', msg['content']['data'], msg);\n",
       "        // Pass the mpl event to the overriden (by mpl) onmessage function.\n",
       "        ws.onmessage(msg['content']['data'])\n",
       "    });\n",
       "    return ws;\n",
       "}\n",
       "\n",
       "mpl.mpl_figure_comm = function(comm, msg) {\n",
       "    // This is the function which gets called when the mpl process\n",
       "    // starts-up an IPython Comm through the \"matplotlib\" channel.\n",
       "\n",
       "    var id = msg.content.data.id;\n",
       "    // Get hold of the div created by the display call when the Comm\n",
       "    // socket was opened in Python.\n",
       "    var element = $(\"#\" + id);\n",
       "    var ws_proxy = comm_websocket_adapter(comm)\n",
       "\n",
       "    function ondownload(figure, format) {\n",
       "        window.open(figure.imageObj.src);\n",
       "    }\n",
       "\n",
       "    var fig = new mpl.figure(id, ws_proxy,\n",
       "                           ondownload,\n",
       "                           element.get(0));\n",
       "\n",
       "    // Call onopen now - mpl needs it, as it is assuming we've passed it a real\n",
       "    // web socket which is closed, not our websocket->open comm proxy.\n",
       "    ws_proxy.onopen();\n",
       "\n",
       "    fig.parent_element = element.get(0);\n",
       "    fig.cell_info = mpl.find_output_cell(\"<div id='\" + id + \"'></div>\");\n",
       "    if (!fig.cell_info) {\n",
       "        console.error(\"Failed to find cell for figure\", id, fig);\n",
       "        return;\n",
       "    }\n",
       "\n",
       "    var output_index = fig.cell_info[2]\n",
       "    var cell = fig.cell_info[0];\n",
       "\n",
       "};\n",
       "\n",
       "mpl.figure.prototype.handle_close = function(fig, msg) {\n",
       "    fig.root.unbind('remove')\n",
       "\n",
       "    // Update the output cell to use the data from the current canvas.\n",
       "    fig.push_to_output();\n",
       "    var dataURL = fig.canvas.toDataURL();\n",
       "    // Re-enable the keyboard manager in IPython - without this line, in FF,\n",
       "    // the notebook keyboard shortcuts fail.\n",
       "    IPython.keyboard_manager.enable()\n",
       "    $(fig.parent_element).html('<img src=\"' + dataURL + '\">');\n",
       "    fig.close_ws(fig, msg);\n",
       "}\n",
       "\n",
       "mpl.figure.prototype.close_ws = function(fig, msg){\n",
       "    fig.send_message('closing', msg);\n",
       "    // fig.ws.close()\n",
       "}\n",
       "\n",
       "mpl.figure.prototype.push_to_output = function(remove_interactive) {\n",
       "    // Turn the data on the canvas into data in the output cell.\n",
       "    var dataURL = this.canvas.toDataURL();\n",
       "    this.cell_info[1]['text/html'] = '<img src=\"' + dataURL + '\">';\n",
       "}\n",
       "\n",
       "mpl.figure.prototype.updated_canvas_event = function() {\n",
       "    // Tell IPython that the notebook contents must change.\n",
       "    IPython.notebook.set_dirty(true);\n",
       "    this.send_message(\"ack\", {});\n",
       "    var fig = this;\n",
       "    // Wait a second, then push the new image to the DOM so\n",
       "    // that it is saved nicely (might be nice to debounce this).\n",
       "    setTimeout(function () { fig.push_to_output() }, 1000);\n",
       "}\n",
       "\n",
       "mpl.figure.prototype._init_toolbar = function() {\n",
       "    var fig = this;\n",
       "\n",
       "    var nav_element = $('<div/>')\n",
       "    nav_element.attr('style', 'width: 100%');\n",
       "    this.root.append(nav_element);\n",
       "\n",
       "    // Define a callback function for later on.\n",
       "    function toolbar_event(event) {\n",
       "        return fig.toolbar_button_onclick(event['data']);\n",
       "    }\n",
       "    function toolbar_mouse_event(event) {\n",
       "        return fig.toolbar_button_onmouseover(event['data']);\n",
       "    }\n",
       "\n",
       "    for(var toolbar_ind in mpl.toolbar_items){\n",
       "        var name = mpl.toolbar_items[toolbar_ind][0];\n",
       "        var tooltip = mpl.toolbar_items[toolbar_ind][1];\n",
       "        var image = mpl.toolbar_items[toolbar_ind][2];\n",
       "        var method_name = mpl.toolbar_items[toolbar_ind][3];\n",
       "\n",
       "        if (!name) { continue; };\n",
       "\n",
       "        var button = $('<button class=\"btn btn-default\" href=\"#\" title=\"' + name + '\"><i class=\"fa ' + image + ' fa-lg\"></i></button>');\n",
       "        button.click(method_name, toolbar_event);\n",
       "        button.mouseover(tooltip, toolbar_mouse_event);\n",
       "        nav_element.append(button);\n",
       "    }\n",
       "\n",
       "    // Add the status bar.\n",
       "    var status_bar = $('<span class=\"mpl-message\" style=\"text-align:right; float: right;\"/>');\n",
       "    nav_element.append(status_bar);\n",
       "    this.message = status_bar[0];\n",
       "\n",
       "    // Add the close button to the window.\n",
       "    var buttongrp = $('<div class=\"btn-group inline pull-right\"></div>');\n",
       "    var button = $('<button class=\"btn btn-mini btn-primary\" href=\"#\" title=\"Stop Interaction\"><i class=\"fa fa-power-off icon-remove icon-large\"></i></button>');\n",
       "    button.click(function (evt) { fig.handle_close(fig, {}); } );\n",
       "    button.mouseover('Stop Interaction', toolbar_mouse_event);\n",
       "    buttongrp.append(button);\n",
       "    var titlebar = this.root.find($('.ui-dialog-titlebar'));\n",
       "    titlebar.prepend(buttongrp);\n",
       "}\n",
       "\n",
       "mpl.figure.prototype._root_extra_style = function(el){\n",
       "    var fig = this\n",
       "    el.on(\"remove\", function(){\n",
       "\tfig.close_ws(fig, {});\n",
       "    });\n",
       "}\n",
       "\n",
       "mpl.figure.prototype._canvas_extra_style = function(el){\n",
       "    // this is important to make the div 'focusable\n",
       "    el.attr('tabindex', 0)\n",
       "    // reach out to IPython and tell the keyboard manager to turn it's self\n",
       "    // off when our div gets focus\n",
       "\n",
       "    // location in version 3\n",
       "    if (IPython.notebook.keyboard_manager) {\n",
       "        IPython.notebook.keyboard_manager.register_events(el);\n",
       "    }\n",
       "    else {\n",
       "        // location in version 2\n",
       "        IPython.keyboard_manager.register_events(el);\n",
       "    }\n",
       "\n",
       "}\n",
       "\n",
       "mpl.figure.prototype._key_event_extra = function(event, name) {\n",
       "    var manager = IPython.notebook.keyboard_manager;\n",
       "    if (!manager)\n",
       "        manager = IPython.keyboard_manager;\n",
       "\n",
       "    // Check for shift+enter\n",
       "    if (event.shiftKey && event.which == 13) {\n",
       "        this.canvas_div.blur();\n",
       "        event.shiftKey = false;\n",
       "        // Send a \"J\" for go to next cell\n",
       "        event.which = 74;\n",
       "        event.keyCode = 74;\n",
       "        manager.command_mode();\n",
       "        manager.handle_keydown(event);\n",
       "    }\n",
       "}\n",
       "\n",
       "mpl.figure.prototype.handle_save = function(fig, msg) {\n",
       "    fig.ondownload(fig, null);\n",
       "}\n",
       "\n",
       "\n",
       "mpl.find_output_cell = function(html_output) {\n",
       "    // Return the cell and output element which can be found *uniquely* in the notebook.\n",
       "    // Note - this is a bit hacky, but it is done because the \"notebook_saving.Notebook\"\n",
       "    // IPython event is triggered only after the cells have been serialised, which for\n",
       "    // our purposes (turning an active figure into a static one), is too late.\n",
       "    var cells = IPython.notebook.get_cells();\n",
       "    var ncells = cells.length;\n",
       "    for (var i=0; i<ncells; i++) {\n",
       "        var cell = cells[i];\n",
       "        if (cell.cell_type === 'code'){\n",
       "            for (var j=0; j<cell.output_area.outputs.length; j++) {\n",
       "                var data = cell.output_area.outputs[j];\n",
       "                if (data.data) {\n",
       "                    // IPython >= 3 moved mimebundle to data attribute of output\n",
       "                    data = data.data;\n",
       "                }\n",
       "                if (data['text/html'] == html_output) {\n",
       "                    return [cell, data, j];\n",
       "                }\n",
       "            }\n",
       "        }\n",
       "    }\n",
       "}\n",
       "\n",
       "// Register the function which deals with the matplotlib target/channel.\n",
       "// The kernel may be null if the page has been refreshed.\n",
       "if (IPython.notebook.kernel != null) {\n",
       "    IPython.notebook.kernel.comm_manager.register_target('matplotlib', mpl.mpl_figure_comm);\n",
       "}\n"
      ],
      "text/plain": [
       "<IPython.core.display.Javascript object>"
      ]
     },
     "metadata": {},
     "output_type": "display_data"
    },
    {
     "data": {
      "text/html": [
       "<img src=\"data:image/png;base64,iVBORw0KGgoAAAANSUhEUgAAA8AAAAFACAYAAABz+RVqAAAgAElEQVR4nOzdd3yN5//H8euc7CEkJDYxI/aKPWLECkIbahZVo7X3ql2zilotYtbWUCRGbVozVP1q164qilIzkvP6/XHnnOR2TtJQ+RI+z8fjepBzPuc+931yTnK/c133dSklhBBCCCGEEEIIIV4LN6WUhzRp0qRJkyZNmjRp/9LclBBCpFJdHB0d7yulkCZNmjRp0qRJkyYtOS3u/LGLEkKIVKSLs7NzdEREBLdu3eLevXvSpEmTJk2aNGnSpCXZbt26RUREBC4uLjHe3t7Ta9Sokf51n9QKIcS/cnR0vB8REYEQQgghhBAvKiIiAmdn5+j69etPrV27dubXfW4rhBBJcVNKcevWrdf9s1MIIYQQQqRCt27dQilF7dq1lwUHB7d63Se3QgiRFA+lFPfu3XvdPzuFEEIIIUQqdO/ePZRS1KxZc2ZwcPAXr/vkVgghkiIBWAghhBBCvDRzAA4KCvqqQYMG0173ya0QQiRFAvAb5tixY4wYMYK7d+++0u0uWLAAg8HA5cuXX+l2RdIWLlyI0WjUve4jRoxg586dVrVt2rQhW7ZsL/wcgYGBGAyGJJt5H2ztjy2XLl3CYDCwaNGiF96fqlWrUq1atRd+nPhvFi5cyPz581/3bryz/hef9f9q165djBgx4l/rRowYkayfKYsWLXqhnxU5c+akXbt2L7zfw4cPx2AwvPDjxH+T3PcLSAAWQqQuEoDfMAsXLsRgMHD+/PlXvt3kBB/xav31118cPHiQ6Ohoy20Gg4GhQ4da1bZt25bs2bO/8HOcOnWKgwcPWlpwcDAZM2bk0KFDutujo6Nt7o8t/yUABwYGSgB+DQIDA6lcufLr3o131v/is/5fjRgxAqPRSGxsbJJ1165d0/3sGDp0KEajkTVr1uhu/+uvv3j69Knl///G19f3pQKweb/F/1Zy3y8gAVgIkbpIAH7DLFiwAKPRKAH4LZbSJ8WvYjsSgFMfCcBvnjctAA8fPhyj0UhMTMwLPc78++O//l6SAJy6vMj7RQKwECI1eWsD8LFjx2jQoAGenp64uLhQsWJF9u7dC8D169fx8fHhvffe0z1m9uzZGAwGNm7cCMSHgFmzZtG7d298fHxwdXWlfv36XLp0yeo558yZQ7FixXB2diZDhgy0b9+eO3fu6GpiYmIYP348BQsWxNnZGW9vb+rWrcuZM2csvb9Go9Fq6Kr5sWPHjqVAgQI4OTmRJUsW+vTpw5MnT3TPceHCBerVq4erqys+Pj706NGD2bNnSwD+D6KiojAYDPz000+W26ZNm2Z1gnvu3DkMBgObNm0CrIee2/r+jhw5Eog/Kf7555+pXLkyrq6u5MuXj2+++eaF9jWpk2tbQ+EfPXrEJ598Qvr06XF3dyckJIQff/zRKgAfPnyY0NBQsmXLhouLC35+fgwePJjHjx/rniO5Afjhw4cMGDCAPHny4OTkRKZMmQgNDeXmzZuWmoMHD1KjRg3c3d1xc3OjRo0aHDp0SLcd83DSqKgoKlSoYNm3yMhIAL788kt8fX3x8PAgJCTEqqfKYDAwZMgQxowZYzm2KlWqcOzYMat9njx5Mn5+fjg6OpI5c2a6du3K/fv3rbY3dOhQpk2bRq5cuUiTJg1Vq1blxIkTVtsLDw+nXLlyuLq6ki5dOpo0acKVK1d0Nb6+vrRq1YoVK1bg7++Pm5sbpUuX5scff9S95s+/t+SPEC/nTfusJ+czkNhlBwmHHJuHNT+/T8mRVABO7I9lU6dOxdfXF2dnZwICAti7d69VAL516xadOnUif/78uLq6kj17dlq0aMG1a9d023qRADxnzhxKliyJi4sLnp6eBAYGsn//fsv9169fp3Xr1mTIkAEnJyeKFi3KkiVLdNswfy/37dtH06ZNSZMmDRkzZmTcuHEAbNq0iRIlSuDm5kZAQABHjhzRPb5q1apUqlSJdevWUbhwYZycnChQoACrVq2y2t9NmzZRvnx5XFxcSJs2LY0aNeLMmTM2t7dt2zZKliyJq6srhQsX5vvvv7faXlLnPmbmn5lJvf9e9P0iAVgIkZq8lQH4yJEjuLm5UblyZcLDw9m0aRMNGzbEycmJo0ePAhAZGYnBYGD27NkAnDx5Ejc3N3r27GnZjvkXe/bs2WnYsCEbN25k4cKFZM6cGT8/P91fRQcMGICDgwP9+vVj69atLFy4kKxZs1KuXDlMJpOl7v3338fBwYH+/fuzZcsW1q1bR58+fdi1axd//fWXzaFm5iF1H3zwAe7u7nz++eds376dGTNmkC5dOkJDQy3bj46OJnfu3GTNmpVFixaxceNGQkJCyJ49uwTg/8BkMuHp6cno0aMttzVu3Bg3NzcqVqxoue2bb77BwcGBBw8eANY97wcPHsRgMPDRRx9Zvr/mk722bdvi4eFBwYIFmTNnDtu2baNly5YYDAZ27dqV7H1NKgDbGgnQqlUrnJycGDduHFu3bqV///7kyJHDco2fWXh4OGPGjGHjxo3s2bOHr7/+msyZM9O8eXPdcyQnAEdHR1O+fHnc3NwYM2YM27ZtIzw8nI4dO1pO/n755RdcXFwoXbo0a9asYc2aNQQEBODi4sLx48d1x+vh4UGhQoVYsGABW7ZsoXLlyjg7O9OnTx/LZ3fBggV4eHjwwQcf6PbF/Bk3n7CuWrUKPz8/MmTIoLsWf9CgQRgMBrp3784PP/zA1KlTcXd3p0qVKlbby5UrF3Xq1GHDhg2Eh4eTK1cu8uXLpxtK+PXXX2MwGPj444/ZtGkTq1atwt/fn9y5c1veP6AF4Jw5c1KmTBnWrFlDZGQkJUqUwNPT0/Kz+9SpU5QsWZLixYtbhr6fOnUqye+BsO1N+qwn9zOQ2GcuYeD8/fff+fjjjzEajezfv9+yT8nxogE4LCwMg8FA+/bt2bJlCzNnziRbtmykS5dOF4DPnDlDz549Wbt2LXv37mXlypWUKVOGXLly8fTpU0tdcgNwnz59MBgMdOzYkYiICDZu3MiwYcNYuXIloP3RLV++fPj4+BAWFsbmzZtp1aoVBoOBuXPn6o7XYDCQP39+y+/bzp07YzAYGDBgAEWLFmXVqlVERkZSsGBBcuTIwbNnzyyPDwwMJFOmTPj6+lp+Dzdo0ACj0aj7/m7atAk7Oztq165NREQEy5cvJ2/evPj4+PDHH3/otpc5c2YKFy7MsmXL2LJlC0FBQTg4OOi+J8k594Hkvf+uXbv2Qu8XCcBCiNTkhQLwk2dPuPfkns0WE2t7iExMbEyij3ny7InNx/xX1atXp1ChQrqAajKZ8Pf3p3HjxpbbevTogZubG0eOHKFo0aKUKFFC90vX/Iu9cOHCuu3/9NNPGAwGy4Qzly5dws7Ojs8//1xXt2/fPgwGA+vWrQNg+/btGAwGZsyYkei+J3aisWfPHgwGg9VfqpcuXYrRaOSXX34BtL9+G41GXQ+ByWSiUKFCb2wANplM3Lt3L0Vbwj9CvKyQkBCqV69u2WcvLy/69u2Lo6MjDx8+BKBZs2aUL1/e8hhbgTOpYZFGo5Hdu3dbbnv69CkZMmSgU6dOyd7PFwnAZ86cwc7OjokTJ+rqPvnkE6sA/LyYmBiWLFmCnZ2dbqRDcgLwvHnzMBqNREREJFrz/vvv4+npqethvX//Pl5eXrz//vu64zUajboe0ePHj2MwGChQoIDue9+7d28cHR11txkMBry9vXU92ZcuXcLBwYFhw4YBcOfOHZydnfnoo490+7hkyRIMBgMbNmzQbS9//vy6nz/fffed5UQS4MGDB6RNm5aPP/5Yt73Lly/j6OjIV199ZbnN19cXLy8v3c9pcy/l8uXLLbeliiHQJhPcu5ey7S36rCf3M5CcAAwvdk1nQi8SgE0mE9mzZ6devXq6upUrV2IwGJIcAh0bG8vVq1cxGAy63s3kBODffvsNOzs7+vbtm2jN9OnTMRqN7NmzR3d7zZo1yZgxo+XngjkAJ/ydHhMTg4+PD46Ojrrv8fr16622GRgYaPV7ODY2lgIFCuj+YFaqVCny58+v+35cvHgRBwcH+vTpo9ueo6Oj7vW/efMmdnZ2ll5pSP65T3Lff3INsBDibfVCAXj4zuGoEcpm+/XGrzYf8+uNXxN9zPCdw5P1vC/i8ePH2NvbM3z4cGJiYizt2bNndOvWjfTp01tqnz59SvHixXF2dsbNzY3Tp0/rtmX+xT58uPV+Zs+enQ4dOgDxofPChQtWz5k2bVrLL7IBAwZgZ2dnNWQ5ocRONIYMGYKzszOPHj3SPcfNmzcxGAxMnz4dgI8++oicOXNabXfkyJFvbAA2/+JMyfYqRjlMnToVFxcXnj59ypEjR7Czs+PmzZu4u7uzefNmADJlysSQIUMsj3nRk2J3d3er28uXL0/dunWTvZ8vEoAXL16M0Wjk4sWLurrdu3db9ercv3+f/v37kydPHhwdHXXD4hL2DCQnADdr1owsWbIkWePj40Pr1q1tHl+GDBl0X6dJk0ZXEx0djcFgoGvXrrrbzZ/VhEMsDQYDbdq0sXqeypUrExQUBGgjRoxGI9u3b9fVxMTE4ODgoDvpNhgMdOnSRVd35swZDAaDpSdq69atGI1GduzYYfUzo2jRorpw4+vrS3BwsG57T58+xWAwMGHCBMttqSIA37sHSqVse4s+68n9DLxJAfjKlSsYDAYWLFigqzN/Vp4PwLNmzaJYsWK4u7vrfqYkfG8nJwB/8803GI1Gq+HDCTVt2tTmz0bz8f3666+6r6OionR1FSpUsPqD+NmzZzEYDCxdutRyW2BgoM3fw0OHDsXZ2RnQeqONRqPN90dgYCClS5fWfV2oUCGrusyZM/PJJ58AL3buk9z3nwRgIcTb6q3rAb527ZrVdSsJm52dna5+3LhxGAwG3V9HzRJeA/y80qVLW/7CPWbMmCSXimjbti0AHTp0wNvbO8n9T+xEo0OHDkk+h3mpgrp161KmTBmr7ZpPDt7EAJxaeoCPHz+O0Whk586dfPnll5QsWRKAOnXqMGDAAE6cOIHBYGDbtm2Wx7zoSbGtk7MXnVTqRQLwhAkTMBqNPHr0SFd3+vRpqwD83nvvkS5dOqZPn86ePXs4cuQIs2bNsupJSM7+BgUFERAQkGSNvb09/fv3t7p94MCBus9xYsdr63W29fkyGAw2nyc0NJSCBQsCWk+v0Wjk5MmTVnWZMmXS9Qzbet7nQ8LSpUuT/DwHBgZaHuvr62szBBkMBss1pZBKAnAq6QF+Uz7ryf0MvEkB2Dz02zyXRkKZMmXS7Y/52mrzpUNRUVEcOnTI6r2dnAA8ZswYjEajpYfelpo1a9r8/bh582ZdL25ix2vrM2Y+/nnz5unqbD3PjBkzMBqN3Lx5k99//z3R84tmzZqRO3fuJJ8X9N/fFzn3Se77TwKwEOJt9dZdA/zw4UPs7Ozo0aMHR48e5ciRI1bN7Ndff8XV1ZUyZcpgNBpZv369blvJ7QE2h8vt27fbfD7zhFmDBg166R7ggQMH4urqmugxXb9+HUi8B9j8i+xNDMCpibe3N5999hnBwcGWXr+JEydSunRppk+fjrOzs24o7ZsegJPbA/zkyRPs7e0ZO3asrm7+/PkvFYCbN2+erB7gDz/80ObxJfxD0qsIwP/WA7xx40YMBgM7duzQ1Zh7tfr165fk8z4fEjZv3ozBYODbb7+1+Xk+e/as5bFvVQBORd6Ez3pyPwN16tTRXZ9s5uHh8Ub3AFesWNHyGTO7ePHiSwVg80SPCT87z2vatCk5cuRI9PjME9W9igBs6/fwZ599ZtUDbL7M4vnnSfgHwuQE4Bc595EALIR41711ARi0H+IJe1BsefLkCUWKFKF06dI8e/aM999/H29vb0uQhPhfbM8PPTLPkGv+BX/+/Hns7e0t1wQnZufOnf96DfDy5ct1Q7HMdu3aZRkymZS5c+daDUk1mUwULFhQAvArEBoaStmyZUmbNq2lhyMqKgo7OzuqV69O1apVdfW2ToqdnJxsXqf2OgKw+RrghMMNATp37qy7BvjevXsYDAara4WrVKnyUgHYvNxXUtcAN2nShPTp0+smhLp//z7p06enSZMm/3q8LxKAvb29db3g5uvwzH/8Ml8D3LFjR932zD3DCY8jOQH4/v37eHh42Dz5fV5yA3Dt2rV1wybFf/MmfNaT+xno1KkT3t7euomYzH/EShg4x40bh9Fo1G0vOV70GuAcOXJYXbaxYsUKq/0pUaKE1bXC5okgXzQAnz9//l+vAZ45cyZGo5F9+/bpbg8KCiJTpky6a4D/awA2Go0cOHDAcpv5GuCE75uAgAD8/f11I5QuXbqEo6Oj7o9qyQnA5rp/O/eB5L//XuT9IgFYCJGavJUB+OjRo6RJk4agoCBWrFjB7t27CQ8PZ8iQIQwaNAiArl274u7uzrlz5wDtBDd79uzUqFHDsh3zL7YcOXLQsGFDIiMjWbBgAZkzZ6ZAgQK6iSYGDx6Mq6sr/fv3JzIyku3bt7NgwQJatmypm/UxNDQUR0dH+vfvz+bNm9mwYQP9+vWzBIhffvkFg8FA586d2b9/P1FRUZaTmhYtWuDl5cXo0aPZsmULW7duZc6cOTRu3NhyHNHR0eTJk4esWbOycOFCNm7cSMOGDWUW6Fdk1qxZGAwGHBwc+Oeff4D4WWMTDkU3s3VSXKJECfz9/S1D/syzfb6OAAzQunVrnJycGDt2rGUW6Jw5c1pNglW+fHkyZszI4sWL2bhxI6GhoeTLl++lAvCzZ8+oUKECadKkscwCvWbNGjp37my5hu/48eOWERrh4eGEh4dTpkwZXF1drWaB/q8BOEeOHFSqVInvv/+eFStW4Ofnh7e3t24W6MGDB2M0GunZs6dlFmjzEkf/9ry2ZsqdPXs2Dg4OdO7cmXXr1rFr1y6WLl1Kx44ddZNbJTcA9+rVC2dnZ1auXElUVFSS10KKf/cmfNaT+xnYuXMnRqORVq1asW3bNubMmYO/vz+enp66gLRu3TrLvh88eNDqGtfEvOgs0OZJ7tq1a8eWLVuYMWOGzVmgzaOixo4dy7Zt2xg8eDD58+d/qQAM0LdvX+zs7CyzQG/atImRI0dalh96+PAh+fPnJ1OmTLpZoI1GI2FhYf96vC8SgDNnzoyvry8LFy4kMjKS4OBg7OzsdD8rN2/ejL29PXXr1mXDhg0sW7aM/PnzkzFjRt0f45MbgJNz7gPJf/+9yPtFArAQIjV5KwMwaNcwNm/enIwZM+Ls7Ez27NkJCQlh06ZNREREYDQarXpsd+/ejb29vaWXy/yL7euvv6ZPnz54e3vj5uZGgwYNbK4DvGTJEsqXL4+7uztp0qShYMGCdOvWTTfhTmxsLGPHjsXPzw8nJyd8fHwIDg7WDdsaNWoU2bJlw97e3uqEatq0aRQvXhwXFxfSpUtH8eLFGTBggG6W0IsXLxIcHIybmxs+Pj707NnTMvmPBOD/5tSpUxiNRipUqKC7PSQkxOrkBmyfFO/bt4/SpUvj4uKiO9Fr27atzeF5gYGBlhlpkyOx7SS2P48fP+bTTz8lffr0pEmThkaNGrFv3z6rAHz58mXq1auHh4cHGTNmpHv37mzcuNFmAE7O/j58+JD+/fvj6+trWde6SZMm3Lp1y1Jz6NAhgoKCSJMmDe7u7gQFBVmdhCV2vLaGFyYWgD/77DPGjRtnWQe4atWquoBhNnXqVN063N26dbOEo6Se99KlSzZn1d60aRPVq1cnbdq0lrU427dvr1vCKFeuXDaHwRqNRkaNGmX5+s8//yQ4OBgPDw+MRqOsA/wfvSmf9eR8BkCb4M28nm7FihU5evQouXLl0l2fHhsbS9euXcmYMSN2dnbJCpUJjy2xAGzrvT1t2jR8fX1xcXEhICCAn376yWp/zD97fHx88PDwoGHDhpbtJXxvjxgxwmr+jsTMnj2bYsWK4ezsTPr06alWrZquJ/bPP//kww8/xNvbG2dnZ4oVK8ayZcuSdbyBgYFWy56Z9/f5AFy5cmU2bNhA4cKFcXZ2pkCBAqxevdpqf7ds2UKFChUsa4E3btzYahi3recFrF5PSPrcxyy5778Xeb9IABZCpCZvbQB+FWz9ZVcI8XZJ7DpNIYR4Ge/i9fgSgIUQqYkE4CRIABbi7ScBWAjxKkkAlgAshHizSQBOgq2hTUKIt0tiM7EKIcTLSGzI8ttMArAQIjWRACyEEEIIIV6aBGAhRGoiAVgIIYQQQrw0CcBCiNREArAQQgghhHhpEoCFEKmJm1JKt+yIEEIIIYQQyXXr1i2UUtSuXXuqBGAhxBvP0dHxfkRExOv+2SmEEEIIIVKhiIgInJ2dnwYHB38hAVgIkRp0cXZ2fhYREcGtW7e4d++eNGnSpEmTJk2aNGlJtlu3bhEREYGLi0tszpw5Ixs0aDCpfv36X73uE1shhPhXadOmHePs7BytlEKaNGnSpEmTJk2atOQ0Z2fnpzlz5oysX7/+iPr1638dHBw8QAkhxJsuMDDQOTg4eHKtWrUWBQUFTahZs+Y4adKkSZMmTZo0adISa0FBQWPigu+I+vXrf1m/fv2l9evXL/+6z2uFEK+HQSmVVWmzLKeKVrRoUb86deqMqFev3rJ69eotq1u37nJp0qRJkyZNmjRp0v6t1alT55vq1as3ft3ns8loWePO04UQr1hW9QYMS3mZZm9vj6OjozRp0qRJkyZNmjRpyWoGg+G1n8O+QMua7DN6IUSyeSiluHr16mufoCA1tC5durz2fXhbmryW8lq+ia1YsWKvfR/elibvS3k939Qmr6W8lm9iS/haXr161RyAPV5zThDireShlOLevXuve2b6VGHz5s2vexfeGvJavjryWr46jRs3ft278NaQ9+WrJa/nqyOv5asjr+Wrk/C1vHfvngRgIZRSI5VS15RS/yildimlCiVRu04p9btS6l7cv/OUUl6J1EoAFkKIOL169XrduyCEEOIdJwFYCKX6KaUuK6UKKqWclFJjlRZsXROpLxJXp5RSaZVSy5VS3yVSKwH4HRQVFfW6d0GIN5L0ZgghhHjdJAALodQFpVTXBF/bKaVuKqVaJuOxnkqppUqp44ncLwH4HfPkyRMMBgPnz59Psu7kyZP8888//6O9EkIIIYQQIAFYCA+llEkpVfa527copSYl8bixSqn7cY99oJR6L4ntSwB+h/zxxx8opdi3b1+SdeXKlWPevHlJ1ixevJivvvrqVe6eEEIIIcQ7TQKweNdlU1qI9Xvu9hVKqTnJeHwupdQopVTRRO6XAPyO+fXXX1FKsW7duiTrfH19GTlyZJI1H3/8MSEhIa9y94QQQggh3mkSgMW77mV7gBMKUEpdV9rQaVvblwD8lrh27RqfffZZkjV79uxBKcXcuXOTrHN1daVTp05J1tStW5fSpUu/8H4KIYQQQgjbJAALYfsa4BsqedcAK6VURaVUrLI9E7SHUoouXbrQq1cvevXqJZPApGIRERGkT58+yZrvv/8epRRjx45NtObBgwcopahfv36S2ypatCiZMmV6qX0VQgghhBCazZs3W87Fu3TpIgFYvPP6KqUuKW3pIxel1Bil1FVlexbofEqpxkqpNHFf+ymlflJK7U9k29ID/Bb59ttvMRqNxMbGJlozf/58lFL07Nkz0ZoLFy6glKJkyZJJPl/69OkxGAxER0e/9D4LIYQQQoh40gMshGaE0oYxP1D6dYCzK21t4IpxX+dXSu1VSt1R2iRYF5RSs5RSPolsVwLwW2TatGkopbh9+3aiNZMmTUIpRcuWLROtOXDgAEopMmbMmGjN48ePzT+cuXz58n/abyGEEEIIoZEALETKkgD8Fhk5ciRKKc6ePZtozeDBg3FwcCAoKCjRmvXr1+Pl5ZVk7+6FCxews7MjU6ZM/zqjtBBCCCGESB4JwEKkLAnAqcSMGTPo1atXkjU9e/ZEKcX+/fsTrencuTMFCxakePHiidbMmzePqlWrYjAYuHLlis2avXv3ki1bNsqUKcOqVauSdxBCCCGEECJJEoCFSFkSgFOJPn360LBhwyRr2rRpg1KKiIiIRGuaNm1K48aNyZIlS6I148aNo0WLFmTKlIkDBw7YrFmxYgVly5blvffeY8qUKck7CCGEEEIIkSQJwEKkLAnAqUT79u2pWLFikjUNGzZEKcWiRYsSralZsyaDBg3CwcEBk8lks6ZXr1707NmTkiVLEh4ebrPmyy+/pHHjxnTr1o0+ffok/0CEEEIIIUSiJAALkbIkAKcSoaGh+Pv7J1lTuXJllFJ8+eWXidaULFmShQsXopTi7t27NmtatmzJ2LFjadCgAdOnT7dZ06dPH7p27cqECRNo1qxZos938OBBqlSpkuR+CyGEEEIIjQRgIVKWBOBUIigoKMlZmQEKFy5M1qxZGTx4cKI1vr6+7Ny5Eycnp0QnywoKCiIsLIxOnToxcOBAmzXNmjVj3LhxLFmyhEqVKiX6fLNmzcLJySnJpZmEEEIIIYRGArAQKUsCcCpRpkyZJIctA2TNmpWqVavSqVOnRGs8PDw4fvw42bJl48cff7RZU6xYMdavX8+oUaNo3bq1zZrKlSuzePFidu3aha+vb6LP17t3b5RSiU6mZfbLL78keb8QQgghxLtAArAQKUsCcCrh5+eHUor79+8nWuPq6kr79u0JDQ21eX90dDRKKa5du0bJkiVZu3atzbrMmTNz4MABwsLCqFGjhs2a3Llzs337ds6dO4ejo2OiPbzm65J37tyZ6H7/9ddfKKW4dOlSojVCCCGEEO8CCcBCpCwJwKlEpkyZkgyJT58+RSnFuHHjqFatms2aGzduoJTi0aNH1K5dm9mzZ1vVxMbGYm9vz4ULF9i0aRMFChSwqjGZTDg5OXH69GkePXqEUoobN27YfM6CBQtib29PWFhYose2b98+lFJs37490RohhBBCiHeBBGAhUpYE4FTC2dkZpRRHjx61ef+ff/6JUq747j4AACAASURBVIrVq1dTtGhRmzWnTp3CxcUFgNatW/P5559b1dy+fRulFP/88w+//PILHh4eidaYe6O9vLxs7ldsbCzOzs5UrlyZQYMGJXps5km5kgrJQgghhBDvAgnAQqQsCcCpgLl318PDg23bttmsMYfbn376iaxZs9qsSXhf79696d69e6LbMR0+zO3z5y1hOKHjx4+TJk0ay9dFixZl/fr1Vtu6evUqBoOBkSNH0rRp00SPb/DgwSilkpy8SwghhBDiXSABWIiUJQE4Fbh58yZKKYoVK8aqVats1uzbt48sWbJw+vRpnJ2dbU6WtWHDBooUKQLA+PHjad68uVXN7t27yZkzJ5Qti2nePJycnDhz5oyu5vmh0XXr1uXrr7+22tbOnTvJmTMnq1evplSpUokeX2hoKOnTp7e5P0IIIYQQ7xIJwEKkLAnAqcC5c+dwcHBINGgCREZGUqhQIW7duoVSigcPHljVLFq0iKpVqwIwb948mxNcrV69moCAAMibF774gly5crFjxw5dzfOTY3Xo0IEhQ4ZYbSssLIzq1atz9OhR0qVLl+jxFS1alGbNmlG2bNlEa4QQQggh3gUSgIVIWRKAU4GoqCgyZMhAq1atGDNmjM0a83q8MTExGAwGLl++bFUzZcoUGjduDOh7gxOaNWsWwcHB4OUFgwZRqVIllixZoqsZOXIkH374IURHw5MnjBgxgrZt21pta+DAgXTs2NHyg/z27dtWNbGxsbi4uLBw4UK8vb2T9XoIIYQQQrytJAALkbIkAKcC27dvJ0+ePHTv3p0+ffrYrJk+fToNGjQAwNPT0+akVEOHDqV9+/YAHDhwgEyZMlnVjBgxgo/atgWjETp2pGnTpkyYMEFX06lTJwYOHAijR0O3boSFhVGzZk2rbYWGhjJx4kQAMmTIwKFDh6xqrly5gtFo5Pfff7d5vbEQQgghxLtEArAQKUsCcCqwZs0aSpUqxciRI2nXrp3NmlGjRmm9skDevHnZunWrVU2XLl3o17cvjBrFhVOnsLOzs1q/99NPP2V4jx6gFISG0qtXL3r06KGrqV+/PtOnT4cOHSAkhE2bNuHv72/1fCVKlCA8PByAsmXLsnz5cquabdu2kTt3bkwmE+7u7hw/fjx5L4oQQgghxFtIArAQKUsCcCowf/58qlevzvTp02nYsKHNmoRBtWzZsqxYscKqpnnz5kwaORKU4kFUlM1hyaGhoYQNHqwF4GrV+OKLLwgNDdXVlChRgjVr1sB770GFCvzf//2fblZo0NYKTpMmDb/88gsALVq0sLns0qxZs6hTpw6gXQu8bt26ZL4qQgghhBBvHwnAQqQsCcCpgPna3aVLl1KpUiWbNW3btmXEiBEABAcHM3PmTKua2rVrs2T8eFAK0969uLi4cOrUKV1NlSpViIwLyRQrxrJly6hQoYKuxsfHh4MHD0KVKpAvH3fu3OH599GNGzd0k3ENHTrUZu91z549LcsxhYSEMGXKlBd4ZYQQQggh3i4SgIVIWRKAUwHzJFObNm2iYMGCNmtCQkL46quvAPjwww8ZNWqUVU1AQABbJk3Swu3335MjRw727NmjqylQoABRY8dqNdmysWvXLm1ZpDjR0dEopfj999+hUCHw9MRkMuHq6srJkyctdfv27dNdY7xw4UKqVKlitU/16tVjxowZgNaLbWttYiGEEEKId4UEYCFSlgTgVMA8vPngwYM2J64Cred28eLFuvrn5cmThyNTpmjhdt48SpcuzXfffaer8fLy4uK4cdos0K6uliWYzNcKX758GaPRyLNnzyBjRm1b0dHky5dPd93x4sWLdb3Ve/fuJWvWrFb7lDdvXn744QdAm8irfv36ib4Oy5cv5+rVq4neL4QQQgiR2kkAFiJlSQB+A0yePJmoqKhE7//oo48YNmwYv/32Gw4ODphMJquaIkWKsH3OHGjdms8//5yWLVta1Xh6enLBHIAnTrRaV9jcu3t3zBgoWxaU4uHt2yiluHnzJqD17GbOnBlMJrC317Z1/TrVqlVjwYIFlm0NGzZMtzTSH3/8gVKKR48eWW57+vQpdnZ2XLp0CYCIiIhEe7hNJhOZMmWy9HILIYQQQryNJAALkbIkAL8BypQpw9SpUxO9//3332fy5MmWa21tLRWULVs2TowfD15efP3115aJpczM6wP/9eWXWmjt3582bdowcuRIS405pD4bMQJatNDqrl0jXbp0/PzzzwCsXr2a0qVLw99/a/fb2cH//R+tWrXSTXJlmfTq1i1YsMAyTPrEiROWmtOnT+Pk5GTpXT558iQuLi42A/7Vq1dRSvHxxx8n81UVQgghhEh9JAALkbIkAL8B8uXLx5AhQxK9v0aNGsybN4/Y2FgMBgOXL1+2qnFzc+P3sWPBYGDVihUEBATo7v/rr79QSvEkbhIs2renX79+dO3a1VJz7Ngx0qVLB716Qc+ekDYtHD9OwYIFiYyMBGDq1KmEhITA+fNaD3CuXLBjBwMHDqRz586WbVmWPQoPh8yZAShcuDDr16+31Kxfv57ChQtbvn706BFKKa5fv251fGvXrkUpRbly5f7t5RRCCCGESLUkAAuRsiQAvwEyZMhAp06dEr2/dOnSRMyeDWfO4OXlZemNNTMPXf47bvbm3d9/T+7cuXU1Z8+exdHREdPQoVoADglh4sSJNG3a1FLzww8/kD9/fmjTBkaN0sLtrl0EBQUxZ84cAPr378+nn34KBw9q1wCXKQMrVzJ9+nQaNGhg2Vb69Ok5fPgwzJwJRiM8e2Y1y/OkSZN47733dPuZOXNm9u3bZ/UaDB48mICAANzd3a3WLhZCCCGEeFtIABYiZUkAfs1MJhN2dna8//77idbky5eP8y1bQosW5MuXj+3bt+vuNy859Cxu/d5TERGkTZtWV3PgwAFtAq1u3bQe2UqVWLhwIdWqVbPUWJZZatAAZsyA0qUhPJw2bdpYllhq2bIlY8aMgY0btVmgg4Nh5kzWrl1LiRIlALh79y5KKe7cuQPmwH3tGr1796Zbt26W5+vYsSMDBw7U7WfFihVZsmSJ1WsQFBTE1KlTsbe358KFC8l8dYUQQgghUhcJwEKkLAnAr9n9+/dRSlG1atVEa3x8fPizaVOoU4eyZcuyatUq3f2nT5/G2dlZC7dKcSMiQgvEz55ZajZu3KhNMNWqFVSuDP7+REZGUqhQIUvNlClTtB7ZihVh2TKoVQvmzmXw4MF06NABgMDAQG2yq8WLtXWA27aFESM4dOgQPj4+AERFReHl5aVttEMHLQBHRTFz5kzq1atneb7AwEDmz5+vO5ZWrVpZLeFkMpnw9PTk0KFDFC5cmHXr1iX79RVCCCGESE0kAAuRsiQAv2aXL19GKaULos9zcnLiXkgIlClD3bp1+eabb3T379+/X5uZuVUrUIqn69ejlOLGjRuWmiVLlmi9u8HB0K4deHtz+PBhS2gFGDRokHYdr78/bN4MzZvD+PHMmDGD4OBgQOuN/uGHH2DKFGjcGPr2hS5dLBNoPXnyhBUrVlCmTBltow0aaAF4/Xo2b96Mn5+f5fmyZMnCjz/+qDuWYcOG0a5dO91t5tmvnzx5QvPmzXWTbQkhhBBCvE0kAAuRsiQAv2Y///wzSikyZsxo8/4nT55owbJWLcibl5YtWzJ27FhdjaV3NzhYC5vLluHq6srJkyctNdOmTaNhw4ZQoQKMHQt2dly6eBGj0Wi5prZ9+/YMGzZMu7b30CHo0gX692ft2rUUL14ck8mEm5ubNpPzkCFa7+6ECfDBB8TExGBnZ8fFixf5/PPPadGihfbEAQHaPn3zDefOncPR0ZGYmBj++ecf3fJKZgsWLLDqDV++fLk28zQwduxYPvjgg//ykgshhBBCvLEkAAuRsiQAv2Y7duzA3t4eOzs7m8v/mK/vja1UCby86NatG3379tXVLF26lIoVK2rhVimYPp3s2bOzZ88eS82IESO0dXn9/WHlSm2N32vXUEpx69YtABo0aMCM6dPBwQF++w2GDYP27Tl48CA+Pj78/fff2mRbf/8NnTvDwIEwfz5Urw5A9uzZ2bt3L+3atWPo0KHaE+fIAfnzw7BhREdHY2dnx+XLlzl69Cjp0qXTjvnRIy10//UXu3fvJkeOHLrj69Onj2WG6Q0bNiS6VrAQQgghRGonAViIlCUB+DULDw8nf/78KKW4e/eu1f1nzpzByckJihYFg4ERNoYIz5gxg/r162vhNmNGGDmS4sWLs3btWktN9+7d6d27N2TKBPv3ayH33Ln4Hl20pYvCFy/WQvSdOzB1KjRuzO+//45SimPHjuHm5qaF1tBQmDQJ1q+HIkUAKFeuHCtWrKBy5cosWrQITCZwdIRmzSBu/d5cuXKxY8cO/TDp06e159y3j6tXr2IwGHj69Kll36tUqcK8efMAuHTpEnZ2djx58uTVfROEEEIIId4QEoCFSFkSgF+zsLAwatasiaOjI+fOnbO63zK5VI4coBSzx4/X1uFNYPTo0bRu3VoLtxUqQI8e1KhRg7CwMEtNq1attGtnnZ21wJkpExw4QK5cudi1axeghdP9K1eCwQCxsfDtt1ClCs+ePcNoNBIWFqYtkwQQGAgLFmhhOm6d39DQUCZNmkTmzJn56aeftBCtlDZMOm7yq5o1azJ37lxGjRpFq1attG398INWt2QJsbGxODo6cvbsWQBiYmJwd3fn+PHjgDYhVpo0aTh27Ngr+x4IIYQQQrwpJAALkbIkAL9mX3zxBU2aNCFLlizs37/f6v6tW7eSL18+8PAApfj+yy+pXLmyrqZ37950794dnJygdWto3ZqmTZsyYcIES029evWYM22aFjRv3IDChSEykjJlylhmlXZzc+N8eDiYZ3COjNTq0Nbn7dSpE4GBgdp9RYrAhg3aUGkHBzCZ6NGjBx07doyfgOvkSXB1hbVroXhxADp16sTAgQP1sz2HhWn7NXo0APnz52fLli0AnDhxAhcXF92M1uXLl+fbb7/9j6+8EEIIIcSbRwKwEClLAvBrNnjwYDp16kTRokVZv3691f3fffcdAaVKab2yBgM/TZ1qNWN0u3btGB23BjAjRkBwMJ9++in9+/e31JQrV45133yj1URHQ9WqsGgR9evXZ+bMmTx48EC7vnfNGsibV3vQgQOW3t1SpUpRsmRJWrZsqd2XOTPs2wd//61t8+5dvvjiCwoUKIC7u7s2THrHDsidGw4e1IZmAxMnTqRJkyaUKVOGFStWaNsaNkzbRtzQ7tq1a/P1118DsHDhQu365gQ6duyoOzYhhBBCiLeFBGAhUpYE4BTWq1cv/vnnn0Tv79y5MwMHDqR69epWa+ICzJs3j4ZVqmgBMVs2Tk2dSqZMmXQ1jRo1Yu7IkVrN4sVQvjxDhw6lffv2lpr8+fOzLywM3Ny0G957DyZPpl27dgwfPpyLFy9iZ2dH7MqVYL429+xZrVfZZKJhw4bY29trwdN8be/Zs9r/464nXrZsGUopisf19rJsmTYk++pVLcBHRxMeHk7JkiVJly4dR48e1eratgVfXy2UA5988okl4Hbt2pWePXvqjnf69OnUrVs3ud8CIYQQQohUQwKwEClLAnAKMi9hdOTIkURrPvjgAyZMmEDTpk2ZOHGi1f2TJ0+mc506YDRChQpcnzwZR0dH3YzRVatW5fsxY8DdHbZsAT8/pk6dSqNGjSw1GTJk4PS8eZAtm3ZDx44wZAgDBgzgk08+4eDBg9pSTLNnQ506Ws3t21qofvCAzp07o5Tiq6++gvv3tdtv39bqsmSBffvYs2cPSilCQ0O126dM0YJ2dLQWgK9e5dixYzg6OqKUiv/DQLVqWgjOnh3QhoWbt1G2bFmWLFmie0127dpFNvNxCCGEEEK8RSQAC5GyJACnoOvXr6OUYvPmzYnW1KpVizlz5lgNWTYbNmwYw0JCwNMTGjTgwcSJKKV48OCBpaZo0aL8OH68FiCjosDbm2+//dZyrXBsbCxGo5E/w8IsMzYzaBB06sSkSZMIDQ0lIiKCIkWKwLhxYF7DNyZGC65XrjB69GiUUnz33Xdw8aIWyOPWD6ZoUVi3jvPnz6OUYsCAAdrtAwbAp59q/8+YEQ4e5P79+yilyJIlS/xB5skDCxdqz/X0Kd999x2lSpXi6dOnODk5cebMGd1rcvv2bZRS3LlzJ/nfDCGEEEKIVEACsBApSwJwCjp58iRKqSQnbAoICOBU48bM+/BDPvroI6v7e/TowYwmTSBXLmjThtiRIzEYDFy5csVSkz17dk6MH68F0QsXwM6OjZGR+Pv7A1jW7300ezaYJ9CaNAlCQ1m8eDFVqlRh/vz51KhRA/r1g65d43fAywt+/pl58+ahlGLfvn1w+DBkyBBfU6MGzJvH48ePUUoxd+5c7fY2bcA80VWJEtpkWICPj0/8ZFqxsdpw6tOnLcOqjx49iqenJ0ePHiVt2rTEmoN2AlmyZNGtcyyEEEII8TaQACxEypIAnIJ+/PFHlFJMnjw50Zq8efPyt58fexo3pmHDhlb3t23bluXNmmkBslcv6NULT09P3TJA7u7uXB0zRruGNm5SqsPbt2vLJwHnz5/Hzs4O01dfgfk5Fi6EwEA2bdqEv78/48ePp3nz5tC+vTYpVZzo3L5c+/5b5q+ej1KKM+fPwObNUKBA/E42awbjxwPabNGWYFq7tjakGrRlkGbOBLRZnDt27Kjdfv26Npz60SPw84PNm7l79y5KKSZMmED16tVtvm61a9dmZtz2hBBCCCHeFhKAhUhZEoBT0IYNG1BKMXDgwERr0qdPz+McOfi1USMqVKhgdX/jxo3Z3KKFdp3sqFHQpg158+Zl+/btAERHR2uzN48cCY0aaZNS2dlxadcu7O3tMZlMHD58GG9vbxg5UuuV1XYOU5EirNm+Bk8vT3r37k2PHj2gcWPt2t04B7Mb+aCpEeOnRpRBoYYq2jVx5Kx/xvid7NoV+vQB4PLly/HXJxcrBuvWaf//+GP47DMAPvvsM5YuXRr3BAchLqhTty7MmgWAp6cnpUqVih9O/Zy+ffvSuXPnRF9XIYQQQojUSAKwEClLAnAKWrRoEUop3WzMCZmvzY3x8uJq/frkz5/fqqZ69ersb95cC7czZkCDBpQpU4bVq1cDcPPmTZRSRA8ebFlGiAwZuL9rlxaM//6bLVu24OfnBz17cu+T9syOms2A0YFc8zDg2NcRg8FAs2bNGGPuRV60KH4H6taFb77BZDKxc89Objy4wR+fD+RenWrxNQmDNbD1/Fau/H3Fct0voPUq2xjizerVULq09v8uXaBvX0BbdkmZrzlO5LV9fnkkIYQQQojUTgKwEClLAnAKmjJlCkopm0ObIf7aXJO9PXeCgvDy8rKqKVWqFCc++ECbJXnZMqhYkTp16jA7bmjxmTNncHJygu7doXdv7UH582PasgV7e3vOnz/P8uXLKVOuDBHlMzC8mpHK8yszc2lPYh0duPePtg/FihXTrt0tUgQ2bIjfgVatYMwY/U4NHaoPs7NmaUOc4zT7rhmOI+yIMSjmrhnKzQc34Ztv4meXTmjSJG2maPP/338fgNDQUJRSXLp0yeZrZ74+OOFs2EIIIYQQqZ0EYCFSlgTgFDRs2DDc3NwoX768zfsvXrxIGoMBlOJxpUoYDAaePXumq8mbNy+X338fevbUrr3196dFixaMGzcOgAMHDmjrArduDaNHaw8qVw5WrMDHx4dDhw4xc+ZMgoODuRpYigeTtMdZljj65x/SpEmDk5MT69atg6xZ4aef4nege3fL8GaLTz+FhDNWr1oFAQG6klvnfwWlqDmnMo6jHRk/oBIP/PNavwjdu2vHBrBmjXatM9C/f3+8vb0TDbiPHz/Gzs6Oy5cv626/f/++vJ+FEEIIkWpJABYiZUkATkFdu3alZMmS5M1rI/ih9WIWTpcOlCK2aFGUUty4cUNXkyFDBm41bAjDh8OhQ5AxI127dqVv3FBh8yRW1K+vDZEGrTd21iz8/f3ZtGkTo0ePpnXr1toM0OYZqWNjtaWMLl0iT548KKXYv38/uLjAqVPxOzBypNb7nFDTpjBhQvzXO3dqs1QndOwYpEsHwJm/zjB1Rmsee6axfhEaNYq/5vjYMfDwAJOJlStX0rJlS33tmTPw+LHlywIFChAREWH5+sSJE/j6+tK0aVPr5xFCiFQgOiZaGzWTiOE7hxOyPIQW4S3oEtmF8XvHs/T4Ug5fO0ysyXrGfCFE6iMBWIiUJQE4BbVo0YJmzZqRNm1am/dv376dutmyaT2x2bPj5ubGiRMnLPebTCYcHBz4p1YtLST+9hs4ODB82DDLkknLli2jQoUKxFaowJZRbaj1bS1MrVrC559TqVIllixZQq9evbQJrgoX1g9vzpABoqIoV64cSikunDyp7UvCED59evzM0WZxyx5Z/PoruLvra56fKfqPP7RtP3mirytZEsLDtf/fu6fV3L5t+wXNmxfCwixfNmnSxNITvnXrVtKmTUv79u1xdnaW97QQIlW4/+Q+35/6nt6bexMwJwCHUQ6ELA9JtH7b+W1MOzCNcXvH0e+HfjT7rhkV5lUg91e55ZIQId4SEoCFSFkSgFNQ3bp1GT58OEopnjwf/IDvvvuOj/38tNDn6krOnDnZvXu35f5Hjx6hlOJp5cqwYAHcuQNKMWviRBo1agTAjBkzKF65OGcyOdDx0+yEnwzH1K0b9O5NSEgIU6dOpU2bNowaNQqyZYMff4zfAT8/2LKFhg0bopTiwblz2r5ER8fXxF13rFOsGHz/ffzXf/6pPS5B76x5mSWLmBhLj7NOhgzEHDyg+5rDh61fTPNzJJj5edSoUbRo0YK5c+fi6urKorjJu4oXL87ChQuttyGEEG+Q1mta4zjaEb/pfnTa0Imlx5fy2+3fXnlP7rHrx7h49+Ir3aYQIuVIABYiZUkATkFly5ZlyZIlKKX4/fffre6fO3cuw4oXh8yZQSnKlyhBuLk3FLh+/TpKKWJLloS1a7VhywYD4VOmUKVKFQ5cPUC2RtlwLeXKQ+90xPwUF25HjIC2bfnoo48YOnQoDRo0YMaMGeDmBgl6mKlYEZYto3379ri4uGD6v/+DNM8NU4677ljn+SD97JkWTq9ejb9t/HhtfeCEMmeG/fvjv374EJTi0/mhtFnbhj//+VO7lnjVKusXc80a7TnMM0YDa9euxdnZGU9PT3bt2mW5feLEidSqVct6G0II8QbZdG4TZ/86m+LPM3jbYBxGOVBjUQ1W/N8Knjyz/oOsEOLNIQFYiJQlATgF5c+fn61bt5IuXTp+/vlnq/snTJjAzDJloFIlUIqWgYGW2Z0BTp8+jbOzM+TJAzt2aDd6ebFn+nT8/P1IOy4t5ZuW55Mun4CzM5w+rdXEDVvu168fn376KRUrVmT54sVagPzjj/gdaNgQpk1j0KBB5MiRA/bsgZw59Tt5+HD8Or1mzs7664Tj9oujR+O/7tUrfnIrs1Kl4oc7g7YNZ2cu371E6KpQ0o5Ly/laAZjihjXr9O0L1auDoyM8fQrAn3/+Se3atTltPu44V65cwd7enuvXr1tvRwgh/ofelGHJ1/+5zoQfJ5BvWj4yfpGRMXvGcOfRnde9W0IIGyQAC5GyJACnoAwZMhAVFUW+fPn44YcfrO4fOHAgKytUgMaNwcODgcHB2lq8cQ4ePKjN8Jw+fXy4zJuXEzNmkDlzZu49ucdHH33EqMGD9dfuLl0KlSoxYcIEPvjgA/z9/dmxYoX1MOV27WD4cCZPnkzp0qW1Yc1xszBbnD8P9vZgPomL67Xl1i19Xf78sGVL/NfNm8PzQbZBAy2cm23Zoj0uTuTZSKbVcGdDtazWw/XKl9eGgadNC0eOWL2Wz6tatSpfffXVv9YJIURKeBb7jIU/L6TAjALa6JY3hMlkIvJsJFUXVKXD+g6ve3eEEDZIABYiZUkATiEmkwk7OzsuXLhAxYoVWbp0qVVNp06d2FapkhZEc+Vi+vvv06tXL8v9W7ZswS9/frCzgwsXtBsDAvhj+nScnJwwmUw0btyY2SNG6K/d3bQJChYkLCyMmjVrkjFjRo6vXq313CbUrx907cqRI0eYOnUqzJ+vTXCV0N9/a9s2v0cuXwaDQbumN6GKFbXgbVatmhZY9QcMgwbFfz13LtSsqSt5OGsaJ4plwWOcR3wIfvxY6/k9d07rBZ4zx+q1fN7s2bMpW7bsv9YJIcSrZDKZWH96PQVmFCDX1FwsOraImNiYf3/ga/A05unr3gUhhA0SgIVIWRKAU4j5h9fdu3dp1KiRFjCf07RpUw5XqgS9e0Pp0qxu3lxbrijOqlWrqFKqlH5m5Nq1+WfyZJRSPHz4kMDAQNaOGaNd32t28CBkysTatWspUaIEDg4OXF29WrsGN6Hnr9OdNAmaNNHXmExaAL94Ufv66FFtuPPzGjWChMfo768F8YRGjoQ2beK/HjoU4maztti+HfLkIepaVPzQwZ9+Am9vbV/69YOOHa2f/zm3b9/G0dGRc+fO/WutEEK8CqdvnabOkjqkn5CemYdmEh0T/e8PEkKI50gAFiJlSQBOIRcvXsRoNBL79CkdOnRgyJAhVjVBQUGcKV8eRo2CWrXY3bIldevWtdw/65tZlC6kTZDFs2fajc2bEzt2LEoprl69SrFixdgzbpw2MZXZuXPg4MCe3bvx8vJCKcX9lSuhYEH9DoSFQVBQ/NeDB2u9tM/z9oaoKO3/P/wA+fJZ13z8MSQ8Rk9PeP6657lz9c/Xpo02YVdCFy5oQ67NxwswcaIWsAFWrtSWTkqGhg0barNfCyFECos1xVJoZiG6Rnbl9qNElnJLJSLORPxPJucSQtgmAViIlCUB+CWZTCZuJFwv9zlHjx4lvZcXeHszvmtXOnSwvtaqdOnSXAsI0K6Lbd6c/2vRgoCAAAB+u/0bWUOzUt7fg9iEKRAVggAAIABJREFUa+x26QL9+5MuXTqOHTtGjhw5+L9x46BIkfia27dBKU4eOoRSCoPBQOy330KFCvodWLtWf81v5876Icpmfn5a8AVYvly7Hvd5gwbFh+cnT7TQ/vwkVJGRUKhQ/NeBgdqw64SePdP3OIMWfidO1P4ftxay1XrCNqxcuRI/P783ZhIaIcTb7fGzx/9elAoM3TEU1zGufPHTFzyLffbvDxBCvFISgIVIWRKAX9Lhw4fJnj17ovdv27aN4rlzg1Ks6NHDsm5vQrlz5+ZukSLw7bfQtStXmjbF19eXyLORpB2XljLNy/B5vXr63t2hQ+Hjj8mTJw87duwgTZo0XBkzBqpUia+JiQGDgZtRUSil8PLygpkzIThYvwN79kCOHPFfN20KX3xhfTAVKmjBF7SwXr++dc3kyfDee9r/r1zR1vx9/jrhn3/WD5/OnRu2bbPeVu7c2lBo0IY9+/hYll06ffMUpnTpbK8V/JyHDx/i7u7OkWRMmiWEECLe3st78ZvuR9m5ZTl3Wy4lEeJ/SQKwEJqRSqlrSql/lFK7lFKFEqnzVkotVEpdUErdj/t3rFLKMZF6CcAv6fvvv8dgMPDsme2/jq9atYqQYsVAKXb26kXFihWtajw9PXmULx9ERMDw4dwJCcHRxRG3MW6s+L8VdO/enTmNGkHhwvEPmjIF3nuPgIAAVqxYoV1nPHIkhIQ8v3Gi43qA8+bNC59/Dq1a6WtOntRfO1yzJsybZ30w9etrARosawxbWbwYKlfW/n/okPXSSQB//hk/E3VsrNaTa+sa3Zo1teHSoN3v6AiPH2MymSg7tyw/F87A4xnJm+H5ww8/pHfv3smqFUIIEe/xs8f03NSTNGPTMO/oPBlNI8T/iARgIZTqp5S6rJQqqJRyUlqg/V0p5WqjNpdSamDcv0oplVsp9YtSanIi25YA/JLCwsJQSvFHwnV1E5g9ezZdypUDpfi1Vy/yJ1juByA2NlYL0Jkza72b06bxqFYQSil+PK/1drZp04Y1oaHaOsFmixZBYCC1a9dmbNy1wE8HD7YOpXnywPbtpE2bljJlykCfPtCtm77mxg390kglS2rDop/Xpo12nTJA167atp63aZM28RXA+vVQtKh1TWxs/IzWf/xhvSyTWceO2vXI5uNNMOT6zqM7LA/OyXcVvbh676r1Y5+zefNmsmTJQszzvdFCCPESNp/bTJNVTYg1xb7uXfmf2XxuMyVnl+Tvx3+/7l0R4p0gAVgIrRe3a4Kv7ZRSN5VSLZP5+B5KqZ8TuU8C8EuaMGECSimOmtfnfc64ceMYGxgISnGtWzc8PT1199+9exelFCZ3dzhxApYuxVShAkopfv/9dwBCQkLY0aSJfsjxhg1QtCjNmzenffv2ODg4YOreHRIsnwRAQACsXk3u3LmpU6eONtvysGH6mmfPtBAa93z4+sLu3dYH06sX9Oyp/d/W+r6gTZKVIYP2/zlzoFYtm68L2bJpgf/AAciY0XbNuHHxs1N37Ah9++p3e+VyLuVOT/bJ2Tlx84TtbVgO8RlZs2Zl4cKFSdYJIURSYk2xjNo1Crcxbiw+tvh1787/nPT+CvG/IwFYvOs8lFImpVTZ527fopSalMxtRCql5iWxfQnAL6Ffv34opYiMjLR5f//+/ZlfqxYoxf2OHVFKER0dvyTGhQsXcDIatQB67dr/s3fe4VFU3x++u2mkN0jooQRCkd57kCpSBUSKSgdBRKSJ8KMJgYAgSkcBQUSaIr0X6b1J74RegyGhJNl9f3/cTbJlZrF8IyL3fR4f2Zkzd+4My+yce875HFi7FgoUIDAwkCNHjgAQGRnJgWbNoHXrtIF37oTs2enevTvVqlUjJCQE3nsvLUKbQt26MH06ZcqUoXXr1tCkiUyfticgAI4elX/284PffnO0GTECUtoz1aql3Yf38uW0/sDDh8s5aVG2LCxaJP+zCH45sHChtAOZ/v3zz7b7L17E7OrKsLUDCBwdyI4rO7THsbB8+XL8/f25evX5EWOFQqGw59GzRzRe0Jg8X+XhyM0jL3o6CoXiP45ygBWvOtmFdIAj7LYvEELM+APH/5+QtcNZdfYrB/gv0q5dO4QQzNSqmQU6duzI8rp1QQiSW7VySJc+ePAg+QIDpQP8+LGsm82UiXz58rHRIgxVokQJzjRpIpWfUzh1Cry9GTx4MNmzZyciIgIaNJDiVNa0agWjRlG3bl169OghFZe1oqCWVGkSE9OccXumTEkT0CpZ0tEhBUhIkMffvQvdukG/fto3LqVf8Nix0LSpts3+/TKaHBsrnepbt2z3m81STGvfPqbun8qac2u0x7Hi/fffp06dOiqKoVAo/hQxD2MoNrUY1b+r/tK3N1IoFC8HygFWvOr8nQjw50LWDoc/Z3y6d+9Or1696NWrF2vXrn3R/+5fCho2bIgQgpEjR2ruf+utt9hZp450Ct94Az8/P46mRFqBqO+iqJEzJ3h4yA0XLoCLCxXKl2fBggWAVIm+Vr++bX9dS93uxC++wGAwUL58eVkjPG+e7QQ+/BD69qVdu3aMGDECihWDX35xnGi5cjIae+dOmjNuz8KFUL68/HPOnNpp0gBeXlJYq2lTGDdO2ybFOe7RA/TEqSxtnFi0SDroWtSqJR3zP0hsbCzZs2dn+vTpGqe7T5s2bVi9evUfHk+hUPzvMZvN3D7hvKzhn6bf+n50Wt6JxOTE5xu/YpjMJsbtGkdCYsKLnopC8dKzdu3a1Hfx7t27KwdY8cqjVQN8WzivAZ4shDgrhMjxnLFVBPgvUrFiRbJly8aHH36oub969eqcqFULwsKgdGny5s2bGtmdsm8KHu948Hb+3Gl1sA8fghC8U7cukyZNAiA4OJj7tWun9cCF1Ejtoq+/RgjBG2+8IXvr2qdiDx4MHToQGxtLQkKCnIeW41qvHkydCqdPg6en9sVu2AApIl7e3rJmWYsU57hSJfjhB22blHTqRo1kJFgLsxn8/aVNSuq1PQMGQIcOjttHj5bn0GDdunX4+vpyyarH8P79+8mVKxe+vr58nFLnrFAoXgin5s/nhtH4oqdhQ7IpWWWO6PDo2SOqzKpChW8rcC/h3ouejkLxn0FFgBUKIfoIIS4L2frIUwgxUghxVWirQLsIIX4QQvwmhMj8B8ZWDvBfJCIigjp16tCsWTPN/cWKFSMmMlKKQYWFUaFCBebPn8+wrcMIHB1Iv1H9GFCqFBQoIA8wm8HVlX7NmjF06FDMZjOurq4kVKniWHPr48PWKVMQQtCqVSvImhV27bK1mTBB1v2m4OcHx445TvTdd+Hzz+Xx2bJpX+yhQxAcLBWbhXBMSU6hVCn46ae0tGotZs2CGjWgRAntVOoUiheXbZKmTdPev2SJjGpbs2WLjEJ7ecH27ZqHdenShcjISEwmE1OmTMHLy4vRo0czadIkuZigUCheGPuHDSNZCEyJz4m2Hj4sn5mKF86TpCc0WdCEgpMKEvMw5kVPR6H4T6AcYIVCMlQIcVMIES9s+wDnELI3cCXL56pCCJMQ4rGQfYDjLPvjdMZVDvBfJDg4mN69e1PZukWRFTlz5uR++fIy1dfLiwYNG1ClSxWyjsvKb7d/Y/To0UyoWDEttRggJISv2rThww8/JD4+XgpnlSolU4FtB+f4tGkIS/o6np6yNtiauXOhWjX55+Rk6bhqiUClKDyvXAlFimhf7OXLYDRCTIwcR+/ltG5d6bA6ixKntEsKDpbK0Xq89ZY8l5bTnjInF5e0lO0HDyBHDpg0CcaNIylPLoiPdzgsLi6OXLlyUaJECTJnzszWrVsB2LhxI3n10q0VCsXfJykJnj51arK7e3cQglit/uApmEwkGY3E7dnzP56g4q+SbEqmy4ouZBuXjeO3j7/o6SgULz3KAVYo0hflAP8FkpOTMRgMzJ49m/DwcE0bHx8fEooWhcmTQQiKVg8nsE4gl2IvAdC/f39+qFoVrKOOBQuyqEMHWrRowfXr12WbpIgIWL/edvDixblmiQAP+fRT7ajsypVSQRng3j1po+EQMmIEtGlj6zDb8+iRPH7rVpmarEebNtC/v7S9ryMWc/QoZMggbe7c0R+rTx8Ztdbr32s2S6GsPXvkn99+W6Zzm83c/v0Gu8JcONtGO6K7Y8cOWrRowc2bN1O3xcTEYDQaefqcF3SFQvEXmTRJ9hR3wo4WLUAILq/RF7Z7cu0aCMGpyZOdjhUfH/+n+38/TtTQQFD8IcxmM8O2DiNgdIBSylYo/ibKAVYo0hflAP8F7t27hxCC/fv34+3t7bA/MTERIQRJuXPDunWYDQaaNCjJu+3T6lk7d+7MmurVZV/dFCpXZmunTtSoUYOTJ0/i5eUFmTPD3r22J3j9deIsNcBThwyRzuSzZ7Y2u3bJ1GiAc+dkOrFWyuDUqdIJt0+ZtsZslsfPmKEvSgUymvzmm/rnAqkSLYSMWjtLYZw7V38+KdSpI1+q58yBkBCbRYDN66bzyF2wf95Y52NYMJlMeHp6cvLkyT9kr1Ao/iQDBsjyByfsqFULhODE1Km6Nre2bAEhONy/v9OxGjRo8Kf6f0/cO5HSM0qret+/yZITS5QolkLxN1EOsEKRvigH+C9w+vRpAj08eDRrFkIIHj16ZLP/9u3bMnobFCTrZzNmZN7HH/PWW2+l2jRr1oy91atLVeQUGjbkt06dKFasGLt37yZLliwyWnrmjO0EmjUjecwYhBD8NGKErHl1nKQ8FmSLpZAQ7YtZvFj23LWIZumSObOMyqb059UiKkqKbWXPrm+T4kxHROjbWNs6Y+BAeP11GSnW6Me8v9+7XAo0sO/05uefC1m3vXTp0j9kq1Ao/iQffCBr/52ws2xZEIKDn32ma3Nu5kwQgn1t2jgd65OcOZlg/Xx1wvhd4wkYHcCeqyqt+uHDh3Tp0uVFT0OheKVRDrBCkb4oB/gvsGPHDlpkzIjZ3x93d3fO2dWrnTp1Cu8MGWQP2ytXoGBBNvbpQ5UqVVJtatSowalq1cD6Ra9dO2LatydbtmysXbuWIvnzy2jp7du2E+jcGQYOxN/fn19HjdIWr7Jua7RuXZqKsz2bN0OePKltk3QpVEj2G65XT99mxgx5ztKl9W1AOsm1ajm3+SP8/LM8n3WfZGtMJq6WCGdmeY8/VJfWvHlzoqOj//68FAqFI++8I5XinbA3IgKEYHfbtro2xwYPljY1azoda7+bGwuf9ywCondEEzg6kP3X9z/X9lVg//79GAwGTCbTi56KQvHKohxghSJ9UQ7wX2DZsmX0z5kThCBfjhxs27bNZv+uXbsonDlzWt1t1aoc7dOHAimKz0DJkiW5WrEijLVK0e3Th9jWrfHw8GDhwoXULVlSjmFfl/rpp/DBB1StWpVLkyal1fpak5Qkj712TfbxLVdO+2KOHpV1va1awahR+hddpYqM2uq1JQJYulSes359fRuAChWcR5v/KPfvQ6dO2r2LU7hwgaee7vTumBOT2fkL3aBBg2jfvr3u/tWrVxMVFfVXZ6tQ/HcZPVoupjmjbl3w8XFqcih7dhCCHU4U2Q+0bw9CsLd4cV0bs9nMRSFY+hyHe/0njZlWKQOHbhxyPvdXiPXr1yOEIDY29kVPRaF4ZVEOsEKRvigH+C8wc+ZMJufLB0LQsFgxFlmpNJvMJhb8tIB6+fKBu7tM423alKu9ehEcHJxqlzt3bu6XLg3ffJM28KhRPGvaFCEE48ePp33lymlpzNaMGQMtWsg/f/+9dE618PeXKsrTpsmXTy2uX5dOa40aMH26/kU3aiRTl3v10rfZsUOO1bGjvg3Iuev06k0PzMuWYfLylCJeTpg7d66uqjdAp06dbKL4CoXCQrVqzhfQQCrea+kVWHEyKIjrQrCzTBldm7316oEQHAoL07WJffCABCFY7+ura3PwxkFmlXXnURl9R/pVZNGiRQghuHz58v9szPhn8Wy++MdKURQKhXKAFYr0RjnAf4ExY8awtGBBEII+Varw9ddfAzLq0GN1D4p1LUbX4sUhSxZ5QJcu/N6tGwaDIVWVNCAggITChWU/2xRmzMBcqxYuLi5069aNATVqyNpbe779VvYXBvj6a2jYUHuiuXNLp2/UKFuxLWuePpUvpWFhju2WrLFEXZw6rqdPS5tBg/RtQKZ029VNpzvffAMBAfDbb7ome/fuJUSvVhooUaIE+fLlS4/ZKRQvN8WKQb9+zm0s6c26fcSBS15e7HR3Z5+Ouj7AvjJluCQEp4KCdG3OHzoka4ldXJxO6UnN6mnPaQUAM2bMQAjBkSN/X8l50KBBLFmyhK2XtuI10oufTzrp/a5QKFJRDrBCkb4oB/gv0K9fP3YWKABCMLlOHQYMGADA4M2DyTouK4NHDWZ4+fJQuLA8YNAgktq2RQjB7du3U9soJebKBRs3pg38009QqhQhISHUqVOH8W+8AVZp0zZ2KbVtw4bptxYpVUrWyfbrZyu2ZY+Pj6xXtp6LPX36yJfXadP0be7flzYTJ+rbvEiGDpX10jExmrsfPHigm/r35MkTXF1d8XUSUVIoXlnCwp6b+fEsKEg+H/R6hAN3XF35JXNmjjpZiDoUHs4GDw+uamXHWDj4448gBDc1RAptKFQoTStBAUB0dDRCCH799de/PVbt2rUZMmQIAMtOL8NrpBerzjoKFioUCluUA6xQpC/KAf4LtG/fntOWFOjl9evTrl07xu0aR3B0MCfunGDIkCHMqFIFqlaVB3z1FTRsiI+PD7/99hv379+XKtHBwXDwYNrAW7dCrlwULlyY8PBw5jZooF27u2WLFK4C+Phj+Z8WtWrJaHGnTlIxWY+wMPkSeMhJHdyoUdJm8WJ9G5MJXFyc27xIzGZ5LwoVggcPNE0yZcrEXvu2U8jocIYMGRBCEK/VT1mheJXx94emTfX3m80kubhgEgK2b9e1eSoE80uV4pyTWuETISH8mDMnj4xGXZttI0fyxGAAIThz7Jju+fDxkc+1V6T92bVr157r2A4YMAAhBMuWLfvb5ytXrhw9e/ZM/bzo+CJ8onzYfkXnO6BQKADlACsU6Y1ygP8CjRo14mZYGPj4sK9BA4pUKoLfKL9UFdGPPvqIXyIj0/rYzp8PFSuSO3duNm/ezPnz53F1ccHs4gIXLqQNfOwY+PpSrVo1XF1dWdmokex1a8/RozKdF2T0d9gw7Ym2aCHrhZs1gy++0L+gFLEtZzVf06dLmy1b9G1AqrxqOJD/GpKSoGFDzFmy8CR/XpmWGR4u08WXLKFy5crMnTvX4bDJkydTs2ZN3NzcOH/+/AuYuELxgrhwwXlLMpNJZpBUr65v8/gxCMEtd3fQc6wSEkAI5rdqxW1XV92hLnl7813Nmk4jtxu7dOG0nx+JQrDz+++1B3rwQI6RIwesXKk/9/8QEyZMoFq1ak5tunbtihCCOXPmOLWLiYl5bs/kiIgI3rfLUJq2fxoBowM4euvoH5myQvFKohxghSJ9UQ7wX6BSpUo8ypgRKlTg6OuVMGYxsvVSmsBSmzZt2BYZmaZ0vGED5MtHuXLlWLhwIfv37ydXxozy5cs6EmkRpGrRpAlCCLY3apQmdmXN1avy2ORkWf9rqUF24IMPpGJ0jRoyEqxH7dpyvLg4fZslS6SNXjQlhbt3n9+/90Xz5AnXF8+i0fse7Js9EjZtkq2l3nmH9u3bM0ijhrldu3Z89tlnZM+enR07dryASSsULwh/f6e188TGymeDE1VmbtyQvXu9vGDWLE0Tc0wMCMGy6GieCqH7HHng6srCPn1IFoIkncWodfXrcyBbNm56eLD2s8+4EXeD327bXcORI3IhsUED/WdoCv+R38hBgwZRtGhRpzbvvPMOQohUbQs9MmfOzEHrDCYdm8aNGztsH7ltJJ+s/eT5E1YoXlGUA6xQpC/KAdYgPj6ee/fu6e6PyJ+fZA8P6NKF+5GRZArNZLO/Xr16/Fa1apoojOVFq379+kyaNIn169dTNXfuNCc2BYsgVd9330UIwdEGDaRjZo8lUsK9e1IBWi/CMXCgTPktVUrWDevRsiW4ujp3XDdvlue8cUPf5iXjh2M/4DfKT74Yb9kCWbIQPXo0zZs3d7AtUqQIP//8M6VLl2aJtXCZQvFf5tkz+e9+0yZ9m0uX0oT09DhxggQXF5Z5eOhmozzeu5dYIdi9Zo0cT+t3KTkZkxD8Om8et4Tg/tq1mmOtL1OGna+9xumMGfmpaRPKzChDlxVdbI2WLyc+PJxz9erpl5GAVLd/Tjull4WuXbuSPXt2pzZ16tRBCMHw4cN1bUwmE0ajkbU69z8FT09PIiMjHbabzebnRo8VilcZ5QArFOmLcoA1iI6OpoVW5NVCWIqYy+TJPClVCqPRmKruDFChQgUuV6gA0dFyw7VrIAQd33+fIUOGsHDhQloVKSIjK/Z4ezOhc2eEEFysV09bWdVsBg8POHtW9gDWS98bN07W5eXJ47xH54cfghPRGUCmXT+nhcnLyNAtQwn7Moxbdy6BuzvrJ0+mWLFiNjYJCQkYjUZiYmJSFzEUileCW7fkv3tniz6HD0sbZwJxO3dyy92dGUYjZotooD33fvqJi0Jw/do1EoXgsVbU+fZtEILTR45w3GDgypQpmmNtyZuXbdWrcygigjH5gqg8qzJPk+z6qU+axG+5cvFV3rz6SvqA+euv5fXdvq1/fS8JzZo1w8vLy6lNuXLlyJIlC71799a1efjwIUIIfvzxR12bZ8+eIYSguLPMAIVCoYlygBWK9EU5wBr06NGDUqVKae4zmUyEGwyYXV1h0ybMuXMjhOCWVWuPiIgI7pYsmdbj1xLZ/bxbN7p168a0adPoU7Ys5MrleIKcOVn44YdyzFq1ICpKe5JZssCePVLVeOdObZvZs2VdXmCgfEnVY+hQbbVpa548gdGjndu8hJjNZlr91IpKMythqlSJ659/jqenJyaTKdVm586dhISEYH74kH4tWjDQmaCYQvFf4tQp6fzNmKFvs3kziW5u0i4xUdtm5UpOubszUggSddSir06cyCGDgaSkJG4Iwa1ffnGwebxvH78Lwd27d9mRIQOn+/fXHGtPxoxsb9WKBcXDmBbkyt2Eu45G/fqxImdOWnh5YS5SRPfyrjdsCEJgek6082WgWrVqCCF48uSJrk3+/PmpUKECHVJKeDS4dOkSQgimTp2qa3Pnzh2EEOTS+p1TKBROUQ6wQpG+KAdYg+bNm5MpUybNfffv36e8EJiyZJHKod7eBAYGctjKwQwJCSG+QAHZgigFPz9m9+pFs2bNiIqKYmyVKto1cyVKsKVnT4QQPKxaFXQiHBQuDKtXg5eXvoLpsmVQpIgUqHEmcDVxIlSsqL//P87jxMeUmFaCra0rk9yqVWq0N4WvvvqKevXqQd++nAkPd/piqFD8p9i9Wzq2KdksWvz8M5e8vKTdnTvaNvPmscvVld5CkFC/vqbJhYED+dXdHYDjLi5cmDDBwebWjz9yXgiSk5NZGxTEsdatNcc64enJN23foHcpNzb76USm33mHMcHBFBICk5eXbglITO7cJArBVSs1438jJpPpuWnFhQsXRgjB9evXdW1CQkJo2bIlzZo107U5ePAgQghGjRqla3P27FmEEASkCDYqFIo/jHKAFYr0RTnAGlStWhUhBAkJCTbbHyc+Zu2etTRzdcVcokSqimipiAjWrFkDyIiiq6sridmzy7ZGKeTNy9p+/ahWrRp9+/Zlbo0a2qqpNWty7OOP5Sp96dLwww/ak6xSRYrJCAE3b2rb7Ngh0xL16ulSuHDB1ll/Bbn6+1V+X7EEcuYkT548bNiwIXXfu+++y+D/+z/Ik4cHoaG8+eabL3CmCsU/yOrV8vnx6af6NrNmscfHh0QXFzhzRtPENHEiy4SgrRA80mrtBpzu1InVljTqnZ6enNBIwb04ahT7LArRv4SFcaRmTc2xbhiN1GjsyYo+7flNR1HaVKECrY1GMvv5OU1x/t3Dg5VC8FuJEpr7/y106tTpucJVoaGhCCH4TUfUzGw24+bmxoABA6ipc28BNm7ciBCC/joReID9+/cjhMBgMNhk1Nhz5swZVq9ezZWHV5i0V5WXKBSgHGCFIr1RDrAGERERCCE4depU6rZkUzKNFzSm4tCK9AsIkO2JzGZwd6dN+fLMnj0bgLi4ONnj18fHVjm1fHkO9e9PoUKF6NixIytr105rk2TN229ztUcPhBAkFSwIq1ZpT7JRIxg0SL64PX2qbXPypNxvNP77lZn/DTx6BC4uvB8ZyeTJk1M3FyxYkK0TJoDBQLKbG6VLlnyBk1Qo/kF++EE+Q7TE+FIYP57Vnp488PSUEWMNHg8cyHdC0MbXl7h8+TRtTjZpws+WzJv1QUEcadXK0aZbNzZaegQvKl6cY3b1+gDm5GSeCcGB5Yu4uWIFd4UgUSM1OylzZqq6uPD2228T5+OjPfc7d0AIxhUvznknvYn/DVSqVMmm5649ZrMZFxcXXFxcdHsBJyQkIIRg+vTplClTRnesxYsXI4SgS5cuujYbNmwgJCREZjM9fKhrFx0dTa1atTh19xSBowOZeWimrq1C8aqgHGCFIn1RDrAGAQEBNgqXZrOZD1d9SIFJBfhh8Q9MypwZ3n1XGufIwdCaNYmy1OpeuXIFdyEcFZMbNOBy375kypSJpk2bsqt2bWjf3vHkH3xAXLdueHp6Ys6RQ7++t21bqd7s6al/ISkCNkFBf+U2vJqUK8e82rVTXyTj4uIwGAzEffyxXHQQgpKZM7/gSSoU/xCTJslniIYyeiqDBzPXzY1LPj4yYqxBbIcOfG000i48nASd8pITkZH8aKkXXR4WxqEaNRxsjjVpwnKLYN/CWrU4paHOHGdRpX5w9SqJlpZxV+0j04mJmI1GquXJw+jRozkVHKyZbRO/ahVXhGDfwoU8E4KE2Fj9+/CCCQsL45133tHdHxs1roY4AAAgAElEQVQbixCC8PBwli5dqmlz7do1hBCsXbuWfDoLFQAzZsxACMHbb7+ta7NkyRJKliyJwWDgypUrunb9+/dP1dzYcmkLXiO92HBhg669QvEqoBxghSJ9UQ6wHU+fPkUIQdGiRZk+fToAX+7+kpCxIVyKvcSsWbP4OXt26NNHHlCmDLPr1+ejjz4C4PDhw+T393eMzLZrR+xHH2E0GomMjOR4zZrwiUYfxEGDoGNH7ty5I9OXjx/Xnugnn0DZspA1q/7FpLQwyZv3r9yKV5N+/ThZsSJ169YF4NdffyVr1qxQqBAsXEhSaChVXFx0U/qePn2q+3KpULx0fP651BDQcEZTMPXowVghOOzjo1uycadhQ8Z6e9O2bFkSM2TQtDlVvDhzLWJUPxUtyhENjYRjFSuy2OKYLXr3XS4FBjrYxKxZQ5wQsh7WZOKpEBxeuNDW6PJlTEYjDd54gzVr1vCLj4+8VjvO9urFZg8PzMnJxBkM7LDKDPk3kZycjKurK6+//rquzblz53Bzc6NGjRrMnKkdZT1+/Di+vr4c2riRECedAUaPHo0Qgtq1a+vazJw5k2/Cw3nb25ujR4/q2nXq1IncuXOnfp5zZA7+o/wd+zYrFK8QygFWKNIX5QDbERMTg8FgoF27dnz22WcsP70c75He7Lm6B4AxY8awM0cOGDNGHlC/PhsaN05dCd+8eTN1cuQAb2/bgfv1I7FTJ4QQ5MiRgyuRkZovXHz5pUyNTk6Wzuu1a9oTHTECgoOlGJYzfHygdOk/cwtebVauJCFbNvLkyYPZbGb8+PF8UL26bDsVF0dyhQq0EkIuUGiwZd06mluEfBSKl57evSFHDnCS9v+0RQsGCsF6Ly8pqKfBrUqViAoNpcObb+q2UzuXJw/fVaoEwOLq1TmuoR58vEABFlhqiH/59FPueng42JycNIkLLi6pn696ePDr4MG2Rtu2cd/Xl549e3Ljxg2GC0FiSlaPFYcrV2ZpnjxyfqGh/GBZGPu3cf36dYQQFHbye7B7924aBAfzfdGijB07VtNm+/btVM6cmWRfX9zd3HTH6t+/P5kyZaJs2bK6NuPGjeNwSAjjAwJ0U64BmjZtir9dS8AhW4aQ88uc3Hyko2+hUPzHUQ6wQpG+KAfYjv3791MwOJjJvXrR/J3mBIwOYPGJxan7+/fvz5msWWHOHLmhY0eONWpE1apVAZn21TEiAuxT88aOBUsPRiEEdytV0n5ZnDsXqlZNFdgiPl57olOmyP2VKzu/oJw5oVatP3r5iocPMRuNZDMYaDa/GZXerMSmGjXS+oS2acNwDw+OHTumefiq3r15IgRPHj/+ByetUKQT7dtDZKR2yzYL8TVr0l0I5rm5wfDhmja3ChdmRHg4Xdu1k88tq7ZxKVwODWW2RSF6SYsWnA8OdrA5lyULP1ps1k2dSqIQYDLx+9O037CDvXtz0KrX7W/BwayzryeeN4/jQUFMnDhRlrj4+vJQw8k/ERrKLw0ayHPXrs1sjTn9E0RHR3P3rkYrJwt79uxBCKHbvQBgxYoVfBUaysWQEAbo9GJesWIFHfLkASHwctIuqXPnznwaHs5r4eG65xs8eDAXM2bk+0yZWLZsma5d9erVpeZFUlLqNrPZzLs/v8t3h78DZPcFZ/XNCsV/DeUAKxTpi3KA7Vi5ciWTQkK4WqIElStX5nKsbfugDh06cDtjRrCoPjNoEFfr1Uutl5oxYwZDihd3bHH03XcQGUlYWBhCCOJLloR58xwnsGqVjOpevAguLvriVQsWyBdJy8uZLsWLg5M6LYUj5pIlec/dna9XfI0xo5G7uXOmLXgMGsRiPz/Wr1+veeyyOnVACK7rpa4rFC8TTZpIJ9guQmdNXMmStBGC8UKQbCkFsedOjhyMKFOGvn378tTVFU6ccLC55evLnPffB2BZr17c1NA3uObryyJLH+Gd69aBEFy+cIiQsSGcuCPH3NuiBb9aOYJ78+Vjjf1CYVQUy/38UtX7e5UqRZyGVsJdV1e2WVpAxY8fzwYhuGGt7fAPkJCQgIuLC79o9EVOYfHixYSGhmKw9FHWYvbs2SzNlo37/v664lVz585lSIECIAQ5hOCmToeB5s2bk+DqSgMnLY4++ugj7gQEsDpzZuakPD81KFasGEIjq8a6pdP27dtxcXF5bpsnheK/gnKAFYr0RTnAdsycOZNVWbMSnzs3OXLkcNjfuHFjHnt5wcGDcsPEifweGYmvpX1HdHQ0U8uUcayZszi2pUuXRghBYkQErFzpOIE9eyBzZjh0SKY467F+vXSA33vP+QW9/jo4UepUaPDxxywMDmb27NmECUGii4EndywvvTNnciAggLlz52oeujp/fhCC0z/95PwcTtqCKBT/GiIjZbmFELIsQ4O43LlpmykTg4Tgsc5i24PAQKLq1CEqKoq7Xl6wfbvjOG5uzLNoK6wdN454o9HB5ndXV5YNGwbA6VOnSBCCRkMi6L6qe6rNnmrVWGsVmdxZrRob7XQQTF26EG00cu7cOQCGd+6MyS41OyEmBoTgWspi1u7d3Hd1Zc5332leo265yt9k586dCCEYP368rs348eOJKlGCCkJwSyO6DjB27Fj2Zc1KopsbzXVEzb7++mtmFCkCQlDew8OmE4I1dapXByFo4sQpff/994n38mJ35sx89dVXunPPkSMHQghOnz6ta7N06VKEEMT+i0XIFIr/JcoBVijSF+UA2xEVFcWRLFkwZciAUWM1vVrFira1uYsXk1iihIzqxsfTv39/fqpQwVE1de9eCAmhXr16CCEwZcumrfB89iy4ucHmzc7Fqw4ckPN4XlpYs2bOe3gqHFm6lKt+ftSpU4fhAQHsLuRP1xVd5b7Nm7nl7U20JSpkzy5LT9HDOjV2gIzqZ8smo/wKxYvi8WP49lvnNsWKwfz58llz756mSULGjHSIiKB3hgz8HhmpbePhwZg2bZg2bRrnfX3BPiXWZMIkBIss/262LVkiz2mdgpuYCEKwweKA3r17l0tC0LVXIZ4lpzmu+wsVYoVVr+E9773HbjuxrITq1elmMKS2R5r73Xc8Mxjk89fC8WnTuGE0pjl48fGYhKD7W285XuC1a7LdnNai5t9kwoQJCCHo0aOHrk2vXr04lSMHX7u76wpO9e/fn8uZMoEQvKnz9zRs2DCWFS0KQtA8KIg9e/Zo2tW2OMnvCUFCQoKmTaOGDTEZjZzMnJnhOqnxAN7e3ggh2LVrl67Nt99+ixAidcFCofivoxxghSJ9UQ6wHR999BHXM2YEIchqNHL5sm0KdJXwcFsRl+3bMefMiZubG+fPn6dz585srVgRuna1HdiS0tz2vfdwc3PD7O2tmQbI/fty/LlzwdIaQpOLF6Xd0KHOL2jVKhlVVvxx7t3DJAShBgOngoK492UUgaMDmX9sPly8SLLBQG+dhYfLRiPPhGDvhx/qj//wofy727o1nS5AofgD7N4txd2cpZXmzMmluXMxu7vbOIfWPMuQgU4VKtAzJIRYi4qzDRbn9qvevVm4cCH7/PzA0jc9ldhYEILlFhXpIwcOyIhsTEyazY0bIAR7tm0DYMreKewVgnPjR9kMdSxLFpan1OwDRz7/nNN2wnSPcuWig1U7s6NHj3LGYMBk1cZpS8uWHLDLwknInp13AgIco57jx8t7Wbr0n+q5fmfPHo7nzIlJQxQshdatWzPFy4v3atbUtWnWrBkPgoNZ5ePDhg3aLYQ6dOgg+x0LQf1ChTRtevXqxa7XXgMh+Dhr1tRWgPbUyZYNhKCnEFy/fl3Tpm7lyjKCnjEjn2h1PCCt60JoaCgrnSwepKhO6znkCsV/DeUAKxTpi3KArbibcJcWLVrIFGchaBIa6qBeWT0wkCQ/v7QNZ8+CuzvZs2Vjx44dNGvWjKPlysHAgbaDP3oEQjC4e3eyWlbh0aolM5lkJGHoUJm+rEeKE+UktUzx13mQPTvdhcBkNMKtWyw/vZxea3tBUhImo5EeVi/YKTy8eROTEBzy9WV3kyb6gx8/DkIQ+7zom0KRnqxaJZ8hcXH6Nn5+lPX0JDFjRpnFYk9SEghB5/r1+ShfPh5qlI2kPKtmfPEF69evZ7WPD3zxha3NhQskCcGmjRsBuHr1KveEIMnqnObDh3kgBGfPnuXwzcN4jfRirZsrl/v1sx3K15dVVguQl5YuJTalLZKFpxky0KVixdTPz549Y43BwB2rSOX6woXZYaegb3rrLQa5uTlGWcuUkc/ikBBYvtzxHuiwLW9eEIKzixbp2pTKmxeTEHycPbuuTYWyZTG5uHDM15d5WtoSwFsNGmA2GDC5uNBYp5d527ZtORURAUIQnSsXC+3bR1l409sbhCDKzY0TWgu5QJ1CheRzzt+f9lo974EbN26QTwg+KVTIaZ1wnz59EEIwYe4EHjx+oGunUPxXUA6wQpG+KAfYwq6YXfiP8ieyYjn5UhgRwfCICJtaT5PJRB2DgURLWwxAvjwKQfXixVmyZAmvv/46l0qVgnHjbE9gNkOGDHzTuzflLS896CkFBwfL2l6tVDvr8VxcZKRY8T/nVrNm3BWCBxoRrbiMGflYo0fpqUWLiBOC1QUKsLdCBd2xE1euBCG40L///3TOCsWf4vvv5XPowgXt/ZZWbNmE4FHOnGnCf9ZYMla6t23Lx+XLE68llnXpEslC8OP8+ezfv5/vMmSAzz6ztTlwgLsGAwcOHADg8ePHnBKC2AULUk0Sli3jjBA8ePCA03dP8+3Bb/kpIIBzrVvbDHXP1ZWNo9Kiwo8uXwYhuHfpktxgccj7dOpkc9yC4GDONGqU+nm3ry/7O3e2nefnn7Mla1bbNkLnz2NydaVEWBjnu3WTLaP+QBT44MKFPBGCCx4ebNapyY2NjaW2ECAEg1xddetty4SEgBDc9fTUrRVuUro0ZoOBJ+HhtNDpxdy4cWNu5MoFGTLwXXg406dPd7BJTk7mLcucZnl7s1OrlAd4wxIlfpohA2/p/JYdP36cgR4eHAoJ4csvv9S0AWjXrh1CCMp0L0Od7+uQbNKuR1co/isoB1ihSF+UAwzEPIwhdGwoE/dOpE7evJhcXeHdd1lStCifW/XqvX//Pq2FINkqcoDZDF5efBAZycSJEylRogR3XntNqj7bkyMHawYO5J1SpWS6nB7580OlSlJ91RnBwbBixZ+8WsUfIeG770AIEqKiHPbdL1qUARoRlN29e3PCy4tllSpxKH9+3bEfjB8PQnCmbdv/6ZwVij/FhAnSAdZLK713L7Udzp38+WUtsD0XLpBsNNKvb1/6NmpEoquro83hw8S6uLBu3TouXLjAKIMBs70w3/r1nLGr8dxhNHJt9OjUz7e//JIdQmCyEpCblyMHp60zZZKTSRaC3dYRVbOZBCE4vXSp/HzsGPGurkyYMMFmCvNLleJ4wYKAjAhfE4JrVg44AMuXczdzZmrXrm0Z2syu+vVZZTTSrl07sgcFkZQxo2ONsx3JycmsCAriSMmSbK9enS32bfMsbNq0ifEWXYEZOqrMiYmJVBcCk4cHJoOBAX37ao7VPEcOngYF8bRaNToKwTONtOtq1arxe0gIFCvGqvz5GZPS796K+/fv08niAK/w99dNXX7T1xeTqytmg4Ea1atr2mzbto3Jfn5cyJSJ//u//9O0AWjQoAFCCKLGRJF/Yn4Gbhqoa6tQ/BdQDrBCkb688g5wQmICJaeXpNPyTpjNZur7+vI0a1YYNoyDRYvS0dJyA+Ds2bP0c3HB3KyZ7SC5czP2zTcZOHAgYWFhPMqbV9sxLVmSZwsWcHPZMggN1Z9UhQpSCbpXL+eT/+gjuHLlT1yt4g9z6xZ4e9vWIFq436gR0RoLGNvq1GFbzpwsbdqU0yEhukPf6NYNhOBUvXr/0ykrFH+KwYOlA6y3iHbuHGZXV4QQXHztNZg82dHm4EF+9/AgKiqKQV26aGe2bNnCRRcX9u/fz4MHD+gtBIl2JQLPvv+e3UJw+/bt1G2rPT25YCX8dOWTT1hlV8s7u0gRzhYtmrbh5k0QgpOHD9vYXXJ3Z2/KYubKlZzx8HBw3Ja1bct5SwT76K+/ghCY7XvvXr6M2cUFfw8P4uLi6Nq1KyddXDg7ZAgga2ijQkNJLlrUaRR4wfDhPDUYeHriBCfHjeOC0Wjj2KcwevRojoSEQJky7HB31xSKunz5Mh0NBsxVqmAWgk90osnv+/iQULAgyS1b8pmOWnSxYsVI8vSEd95hd758fGYfqQfOnz/PIKMRhGBXYKBmyrXZbKax0UhiWBgIQVXrvyMrfvnlF5YEB3M7KIju3btr2gBUqFABX19fBg4cyIk7J/CN8uWXU/ptoRSKlx3lACsU6csr7QCbzWZaLG5BlVlVeJb8jMTERFoKwdMyZeD777kZHk6tWrVS7Xft2sUkHx/o1s12oAoVWNikCR06dMDPz4/EkBBthefatWH6dFi3DgoU0J9Y/fryRdLS7kPxgoiP19z8qF8/5gjBE2uFWmB3/vysr1yZX3r04LqXl+6wV998k2QhOF2+/P90ugrFn+LDD+VzZtYs7f379vEsIAAhBEeKFgWrbJhUNm3impcXU6dOJWr4cDmenSiS+aefOGAwcOHCBUwmE+2E4EmlSjY2v0dHs0oInj59mrptcXAwZ6wWG8+1aMFCu76zM19/nYtWdcePd+3ivnDsKXsoKIhfLS3jTJMmsdpodGi7s2f6dH43GMBsZvmAAdx3c3O8XrMZc0AAdTJlIl++fLyVPz+mDBmkxgMystuodm3ueXiQvGSJ4/HICOpCd3euWEStEm/fxiQEJ7ZscbBt/tZbPPXwgIkTueXurulsbt++na98faFTJx75+9Nbo/wiKSmJj4Tgca1a0Ls3U1xdOXnypINd/uzZU397TubJo+mU7t+/nymenhAaysnAQCZNmuRg8+jRI94XgsRKlTAbjVTRqg0HZs2axdaQEB75+NCyZUtNG4D8+fNTunTp1P7Fi44vwn+UP2fundE9RqF4mVEOsEKRvrxyDvCVK1d4ZHlZGbV9FGFfhnEnXr4sXbt2jb5CYGrWDHbu5ElwMPmtUllXrFjBL4GBjo5pkyZsb9qU2rVrI4TA7OEBWj0NW7eWPTUXLJBRXj3ee08JXP2LMc2ZwzYh2HVsl00t2ik/PzZ07MjqL77gsdGoGwG6VqIEJ4TgnLNFEIUivWnVSj5ndFp6sX49cVmzIoRgc7FioKXku2QJJ729+fHHH5k2bRoJLi5S5M2KJ1OmsEGk9XBt6e1Ngt13/84nn/CjXd/feblycapq1dTPZyMjmWPnSM1u1YqbVnXHt+bM4YQQJNv1LN4eHs6WatUA+L1bN6baOdsA9yzK+r9fusT3kZGc1XHaqFqVBXXq0Lx5c5716+fQ8u7hw4eMDA3lWsaMmv2+h7ZsyTOjEbNV7fUVb29W2NUkA9TKnFlGZK9eBSEYNXiwg838+fNZFxwMUVHcz5ePAblzO9jcuXOH0UKQ2KkTREezzNOTHTt2ONgV9vHBbDTC/Plcy5GD1nb11QDr1q3jZz8/qFSJ635+jBgxwsHm6tWr9BQCU+PGJPn7U02rNhz44osvOBYSQpKra2pauRZBQUG0bt2aZlYLIr3X9abU9FK6ddEKxcuMcoAVivTllXOAa9WqlSoScvz2cY7dOpa67+DBg0zLkEG+6FlS6QI8PFJ/YGfPns2e4GCYOtV20K5dOf3WW+TMmZMMltoo7CIQAHz8sezbO20avPGG/iR79ZJjOFHFVLxAtm/nutFIoQGF+PxXS1TMbOZ3o5E906axZelS+ff38KHm4bezZWO+EFzJmvUfnLRCYUfdupAhA/Tpo71/4UJu5c6NEILFr70GWjXr337LTm9v1qxZw5IlS7ju7g6WNkUpPBg0iMVWtbtvZ8nCE7sSkBtt2vCtp6fNttnFi3OmcGHMZjNzj8zlbOHCfGuXSjuvb18eWUVqLw4ZwjaNyO2WypXZZlnMvFmjBtF2keQU7huNHPrmG37IkoXTVtk/NvToIZ/lZrPs1f7TTw4mF0+e5IbBwJzGjVm2bBmHDh3i3r17HD58mPkuLjy0c5qPlCrFT3a6Abdv36azECRWqwZmM8/c3BiooS4fHR3N2aAgWLCAu5GRjNBwNk+ePMmPLi5yAfa779jn7c1yO7Xq5ORkSgtBcsaMsGEDsSEh1K9f32GsBQsWsCMgANq25XdPT/pofH+OHz9OlJsbtG9PYlgYr1v3U7bis88+40pwMAhBxZIlHfanzMtgMDB8+HCqW9USJ5mSOH77uOYxCsXLjnKAFYr05ZVzgPPly0dX+x69FlavXs06X1+p4Gw2Y/b0pIBVXdrYsWM5Hxjo+MIzdCi369VDCEEed3fp/CQlOZ5g5EgZdRk1Sv5fjxEj5Bi/qBqnfyXXrmESggnTovEa6cWumF0kXbsGQnDp+HEOHTzIYyHg1CnNwx95efGpENzSiYooFP8IZctCkSLaji3AtGmcz58fIQSTIiLASiE5lS++YLmHB3v27GHr1q0cd3d3EIC60akTc61q5psVKkSinQrxtbp1mRgUZLNtVo0aXMyWjVmHZhE6NpSLWbPwjV1ruJ8mTbLpy366XTtWWbeps7C1VSsOWnr63gwPJ6pwYc1LPu3vz8q2bVlvNHJDI9oKwLffQvXqsH8/+PqCXSlECuf79yfRaGSHjw/9PD3JLQQFhCDRxQVSFKlTbD/9lB2urjZ1wCtXruQnPz8YNAiA+9mz89lrrzmc58MPPyTOywv27eNB27ZM0nA2t23bxi4PD9l/efVqLnl58Z2dUOP9+/d5UwhMhQvDoUM89fGhcuXKDuebOnUqJwMCYORIkoxGOmiINe7YsYOZPj7wySckFS9OIyFSM6+s6dKlCw8sIl/ldITA7t69i7sQ7P7wQ4po9ZlWKP6DKAdYoUhfXikH2Gw24+HhQY0aNTT3z549mxN+fjJFGaBwYVr6+bFv3z4APv30Ux54e4N96ti0aSRUq4YQghoZM4JOdIEZM2QdcP/+jnXE1kydKl/qtm79s5eo+CcwmUg0GJg/bBjjdo0j14RcnP9+FjFCkJSUxJUrV7ggBMkbNjge+/QpCEFDV1fi7AR9HBg8GNavT59rUCjCw6FZM3jzTe39o0ZxuEABsmXLxsCwMKhSxdFm0CC+dXHh9OnTHD9+nK0uLtLJsiKmcWO+sXomNq9SxcZpBbhWrhzj7NObW7bkuq8PPlE+rD23ltt+fnxrVye6PqWX8bVrAJyoU4dF2bI5THPPkCFcsDjhD/z8+ELLmQeOFCzI5Jw5iTEYSN60Sfu+7NsHQUEyU8hSV6zLuXNSbbtmTcxubpi8vTFrpDonHj5MvBAcO3gwddvQoUO54esLq1cDcKdKFYZp/La0ePNNeQ/u3uXxyJH8LAQP7bJPfv75Zy57eMjnyYEDPHR3d2iXdP78eToajZhr1IArVzAbDBTTcLijoqLkvBYuBCFopXEvV61axTJ/f/j8c8yvv877QnD16lUHu+bNm8saZyEo6+ureQtPnTpFVQ8PTO7uZH1O1syNGzec7lcoXhaUA6xQpC+vlAN8+/ZthBCEhYVp7h89ejT3PD1h+3a5oUEDxuTIweLFiwHo2KEDSS4ucPas7YFLl2IqVgwhBG1z5QLrPsF2dpQoAZ07w0AnbRwWLZIvNEeO/MkrVPxT3PTzY26bNpjMJup8X4ex9fOzw5LCGR8fz3YhiLNPlQe4eJFkg4HX8+TBJITstapHuXIyW0Ch+LMcPAg//ODcJihIPofKltXe368fmwsUoHr16ryfKRNoOENJXbsSbcmSuXXrFouFIMmudc7lKlWYkj176ueWb70ln29WKsQ3IiIYXaiQzXFzP+nFfRcDn6yVtcfxrq7MtUu3PXToEPcNBjh0CICTJUrwvcY8Ty5axCNLZk6ywcB0DXVjgBONGjHfWRkLSJVro1EudGr1RtYjLg6WL5ftpewxmXjk6sqPVtfXsmZNzAYDPHgAwO9dujBZCBITE20OfbtgQRI9PWXW0uLFHDAYOHPGVhxqxvTpPDEa4cQJuHoVkxAMtrsHBw4cYLi3N7RsKQUAhaCIhsPZt29f4j084MABEIJ37ATNQNYl7wgMhEmToGlTPvXw4LfffnOwq129ulTbdnOjvGUB0Z7t27fTJmNGEAJ/d3enNb+BgYEcPXpUd79C8bKgHGCFIn15pRzg/fv34+rqisFgcFDwBej10UckGwxp6Wk9e7IiPJwvvvgCgFb16skXI/v7tXs3ZMmCv78/gwoUgDJltCewfTtkzw5vvw1jx+pPdNMmeR67NDnFv4czuXMzzxIRu/noJl/lc+PHUJnCaTabWWI0cqdfP8cDt2/nlrs7zVK+S/ZtVqzJlQu0xlAonseIEWCXLmyDyQQGg9QZ0BBNAqBTJxbnz0+XLl2oniEDaDhDj5s2ZYBFUCoxMZEZQhDXs6eNzeUiRZhk5dx27tyZp25u0hmzcDtrVqLsVNHf/UA6R0+fxKdmTiz6+msbm5iYGE4KQfKqVQCcz5mTORo9Z++cPQtC8HjvXpKFYJmOQvON4cO5LwRxdinaDhQoIPuw2zmjf4cL+fLxTbFigHyGtPH3JyFXrtT9pilTWGcwcP78eZvj2vj5EZ8vn/ywdy93jEa2pyziWhj3f/+XpktguZef2qW+b9y4kVkBAVKnwmzG5O5OcW9vh3l2bNdOLt7FxPDMy4sWlt7J1kyZMoXjgYFyEaZDB77083OYE8Drr70GQmDKk4e6QnBX43n4yy+/8KmlnVJWnVRqgLi4OIQQ/Pzzz5r7FYqXCeUAKxTpyyvjAE/aO4l3Pn+HEiVK4OnpyQmrl68UPmjUyDY176uv+C1vXnpYelG2LFWKZDc3R3XfS5fAxYWC+fMzqWhRqFNHexKnT4OHB9SqJevI9Dh8WM7Dopqq+PdxrGJFloSHp0SQ/GAAACAASURBVH4+kDMLU0umveR/6+3N9XfecTxwwQIOZ8hA7969eWwwaKuFg/yOeXqCRrqkQvFcevbUjNim8uCBfMbs2QM+Pto2zZszOXduxo0bR4QQmO1EqgAeRUbS00p06kt3d+7Zfe9jwsKYZBUl/PTTT7nn45OWaQM89PMjyqov9s6Ynfi2dk+LFFtUkNfY9Sx+/PgxW4Xgd0srnusBAczV0FcwJScTJwS3hg7lqsGg+fwHSF6/HoTgRkSE9j1JoVUr0NGS+KvEtG/PYnd3TCYTV65cYbTBQNL776cZbNzIFTc31luVRTx58oSeQvCkbl254cYNEIKff/zRZuzo996Tiw6W364nnp70s/udWrx4MastatIAyaGhlNNQ1H4/JeU6IYHHmTPTUmNhZNSoUcT4+8OqVdC7N/OCg1mh0W/69axZSc6QASpV4j03N4fINcC3337LxIgIEIKiBgOXL1/WvH9nzpxBCEGlTo4RaWvWrl3LWfssLoXiX4ZygBWK9OWVcIA3XdyE10gveg7pSaNGjShSpAjL7IRaAD4oXZrH1nVIK1ZwN0sWGjZsCEDrsDAeZ8rkeILHj0EIGlWowKKSJfUFru7fly8OBQqATgQCkFHBrFmdp8cqXihHW7VivZVoz3UfHxZaicF8GRrKNa2ayS++YJmbG1OnTuW60ehYT57C77/L74pV2w+F4g/TqhXYKS3bcP48uLnB7dvye6Yl5FSzJoOyZGH58uVkSkkLtrP7vVgxulnVpY4JCuKmncbCzeBgpjRokPo5OjqaiwEBNmJZT9zcGP3uu6mfk0xJfLfyO+IMBvjtN7CkOqfoMVjzs4sLt/r2lfNxc+PH/v01L/msmxsXK1dmh3Ds4Z3KpUsgBAnWjqcW9++n9v79X5G0ciUXDQaOHTvGkiVL2OftbbtQeukSyQYDM6ZMSd10/vx5JhqNmHv1khss+gTfDx1qM/aYmjW5ZxEBA4gNDeXTUqVsbL755hsOBgWlnjO5UCHqCcEDSwp2Cu+VLUuSRb8goUAB3tVYQOnfvz+x3t6waxd8/jlrQkI0exjX8PIiMTQU3nyTT/392b17t4PN6NGjWWiJFDfw8+OgVZ20NVu3bmW8EGQu78GcI/odFCpXrsznWj2tFYp/kMWLFzu0YrPm4sWLygFWKNKR/7wDfOHBBYKig5h1aBaffPIJvbt2pVnjxqlpzdb0yJGDh3nzpm04cYIkDw+KWVpvtPPzI14j3QsAPz/61q3L5lKlZJsMLUwmcHEBd3eZ5qx4aTk5ZAiHUkSsnj0jSQhWW72YjipQgJsaUaTkjz5ighBs2rSJo0ajg2JuKpaUTXQE2xQKp9SqJetUNfrQAlLIKTRULrIZDBAT42hTqhTtAwLYu3cvwRalXuxEhuLCwuhiJV4VlTs3N4oXt7G57+XFN1aLQzNmzOBQUFCaWFZiIgjBWLs+w+fPn+eCEJg3bcK8Zg0nheDixYsO05zj40NMy5apqb2/TJumecl7AgK44+vLL15e2vcEpHq/iwtMnKhvk17ExmISgm9GjGBAnz48dXGBkyfT9icnk2Q0MqZz59RNW7ZsYaOnp6y1tXDHx4fZdg78+CJFuGbVZuluwYIMskt9HzNmDJf9/WWdMmCuVo33DQYu2ZXivB8ezmOLM/24YkU6GAwOdbldu3blmaurVMKfOJE9oaFMspojQGJiIm8KQWKhQtC6NV+GhrLKkspuTd++fWUfaiHonjUr69at07x9C+bPJ1kIupYrivdIb5sWh9Zkz56dDh06aO5TKP4JzGYz7u7ubNy4Uddm3bp1ygFWKNKR/7QDHPc0jsKTC9NzjaxJa968OecLFuTn2rU1WyH18/Ym1rrtgyWym9/PD5PJRDeDgQSN+jIA8ufnUHQ0t+vXhyFD9CcVGipfJHVWsRUvB1cWL+a2EPLF79QpHgvBoQMHUvcPr1KF+xrZAo8bNKCvEFy+fJkNQpD0zTfaJ9i+XX5PdHpjKhROKV7ceY352rWQspgXHKz5PDLnyUMtFxfOnTtH3rx5SfL0hOO2fVcTgoLobJVqHVWyJLes6lYBnri4MNdKcGnx4sVsCAyElEVISxT6q+hom+NiY2PZIwQJs2cTP3UqvwpBXFycwzynZc3K5erVISYGkxBs1lFO35Q7NwjBfJ12O6mUKgV79zq3SSfuhIQwunx5upYuzVMvL4cFjHuZMjHSKrNk7ty5XPTykqnGFi5mz84su/rvqdmycdnquDtVqzLCru3UZ599xkMvL5kWD/DWW3zm6cnhw4dt7NpnzMgjS/nHs4YN+UTj76VN8+by+3fzJnz/PadCQhgxYoSNze3bt3lXCJKrVoXu3fkhRw7mzp3rcE/atWvHYYsDPDJvXubPn69576aMHAlC8Em+fAzePJh8X+fj96e27zbPnj3DYDBQs2ZNzTEUir/L3bt3aa/RGsya2NhYhBB89dVXujaTJk1SDrBCkY78Zx1gk9lEkwVNqDGnBkkmqSxZrlw5EgIDOV2pkkMrpKSkJEYJwaPWrW3HyZyZChaHZYgQJLZpo33CqlVh7lxo2BDshFpssKRyoRHJULw8PLp4EYTgQUwMj+bN46hd65FhzZvzVKPNUXyxYnTy8iIhIYEFQhCvt1iyZIkUh7FzJhxYt84m+qNQAJAtm3zOWEcQrfnhBxLLl6dfv36yJEMjqmYODKS4JQW2bNmyxAcH29TtAiS6u9OlatXUz6PtUm159gyEYLFVRHXTpk384OcHKU7xqVM8MRqZOXOm7fnNZlYKwd1hw7g7YAA/aUQaASYWKsTl116D/fu5bUkh1mJthQogBD9UrKh9T/4F3GrQgK8zZKBvhgw81FBXvl6yJNFWDvzIESN45uJi03P8ZMmS/GCnqD3P15crVi2k7r79NuOtejMDdOva1VYEslMnJvr7s9WuHd8HGTLwyCJYZu7YkRFCEGOXQdDy9dfl9+/pU1ixgmvBwfSxU/A+deoUfd3coEkTGDiQdblyMWHCBIdrbtCgARctv5szCxViok50PrpTJxCCHv7+JJuSqf19bZoubGrznTl37hxCCMKt9BsUiv8l27dvx2AwOKi1W3Pq1CmEEHRyovHRs2dP5QArFOnIf9YBfvjkIa1+asW9hLSWExGW6GtcvnzktIsC3LhxgzlCkGTnkJgrV6aDhwdLly5lmtGIWU+Vt3lzqexcqZLz9iORkfLFwK6uSvGSYTYTLwTnly3j2kcf8YuVEBDA8J495d+zXZ3g49BQWmfPjtlsZqrRyIP/Z++8w6Ootz98djd1kwDplAChBuldqii9F5UuCgjSFVBAOiJVkN67AkrvVZDeQZpCCEgvUkKoCan7/v6Y2c3sZjf87r1yr+K8z8PzkJ0zk9nN7O6c7znn89G0M9oxfTr3vbyIdyI8ZMfAga59XHX+mVgsypiFyeTaS3zqVKIrVcJkMmGpVAkc5zNTUrAYjeQyGEhJSaFu3bo8CAuztccCttblbu++a3vo29ateaa9Zu/fV8Sr1q61PXTy5EkmeHmlikgdOsQ9d3dWOdFF+MHLi1sdO3KrTRsWuWhdnlylCrezZSNxzRpOi/DHH384jdvevDmIsOpl873/Q5LmzOGA0chyoxHH7yKAuy1aMFOjUN23TZs0s9m/NWjAWof5780mE7e//NL28+PevVngYDv0idWe6vlz5YEvv2R5UBDr1q1LPb+kJL4QIc46092vH3M9PNIsOrQoXtw2J8z+/TzKkIEOHTrYxRw4cICJGTLAxx/DuHEcy5WLIUOGpHnOFSpU4H5EBGTIwMaiRRnqYtFwaO3aIEIvVZX8QewDGv7YkJi41O/aHTt2kMvDA393d1JcjQfo6PwHrF27FhHh9u3bLmP27NmDiFAhncW492rU0BNgHZ1XyGubADuSkJBAeREsbm5YPDxwdxBCOXXqFHvc3GDBAvsdP/yQqcHBDBo0iE1eXvDtt85/QY8e8PnnSlthet6QTZsqM3f6l+/fnih3d06PGMGVd95hfpYsdtsGDO9PvEE4vkfTrpeSQrLJRDO1rXm82cz9xo2dH3zwYA77+Sk+oOldK507K4suOjpWrAJqERGKp7gzvvqK61WrIiK8qFsXJk603/74MYgQ7u8PQJs2bbgaHg6LFqXGPHigJByacZLpX3yhVBGtVbeoKOJE7MSNrl69yhcGA5amTZUHNm3ivLsbM5en9c2eFxDAtQYNuF6jBjNDQpw+lSnNmvHQz4+H33zDdknrk2tlz4ABIMJOV5/hfwXOnyfeaOSeuzs4mQ98Pno0GzTf2Z+XL8+zjBntYiK7d2e3ZrEgPj6eEyLEaAS1EiZNUqrrmhb5TypVIlFbFf7mG3YFB/Pdd6mCUg8ePGC0CEnWytWYMaw3m9m7d6/dObQID+eFtcX611+J9/LifQdBvw0bNvBDYCD06QNz53IhPJzu3bunec758+fnWY4cULIkh4oVcxoDMEBt+x9lNKaxirIyd+5cDgQE0P0lCYqOjjNSUlLSreyCco2JiEuxNoDly5dT3csL/wwZ0nS1JCQn8MPZH2icPbueAOvovEL+MQnwlStX6Gg0YqlSBYuPD6W9vOysMLZt28YVD4+0rYDDhrEjWzbq1q3LL2Zz2kqJlZEjoXVrCAlRBGZc0bUrONyw6Pw9OeDvz/EPP+RmzpxMe/NNu22LFi3ipocbzbtn5mm8Oh+nzjo2V1XFvw4K4p6r5PWTT1jg6/vyboGmTcGh3VHnH45V4blePdft8Z99xq+1aiEiRL/3Xmo7spWrV7EYjeRXW0V79erF6Tx57BPlS5dINBoZNHCg7aGFkybZe6UfPcodETt7m8ePH9NWhKQqVQC4MX0Ue43C/I32LdAA08PDufrmm9woVozJVq9bB2b17k2C0cjtrl350cnYgZVfliwBEX5z4kf7lyElhXizmRSDAZzMO1s2bybSaOT06dMA9M+enWiH9//VyZP51Wi0/Xz79m3+ECFJozhvWbmS4waD3d+lyxtv8Ey7yDB/PqeDg+3mFKOiolhgNMLgwcoDs2dzwM8vjavCB4GBqR7Gt26BCLUc5m4XLVrEjtBQGD0aVq7kdlgYrZw4KAQEBJAYGAjNmnG+SBFaalq5tfRX2/6X+Pmxa9cupzEDBw7kSnAwE3x9OXjwoNMYHR1XLFy4kObNm6cbM3rUKCJEnAq6WZkyeTLxRiNVDQZu3bplt63/zv4UmVaED4xGPQHW0XmF/GMS4D179jDXzw+6d4dy5fgye3a7L+3vFi0izmgER3/I77/nYpYshIaGcsPbG1wIrDBvnqLY6+am3IC6YuhQeNlcp87fgs158nC8ShWeenkx3aGtcuPGjZz29mZ454J8vF5VHP3lF2K9vflEbXsenCsXD1ypijdqRB8PD6Wadvmy65OoWlWxzNL553D1avqLIocPK9dEu3auBfnatGF/7dqICL+3aJHWb/rkSeJ9fCinznqOGDGC3XnypCY+AMeP88jT005Rf82qVSSLgOrVGr9+PeccKo0Wi4XGRiPxhQqRkJzA2GbZWG8wcMGJJ/bkEiW4kS8ft3PkYIJ6Lo4sUpPu29WrM1etWDvj1vXrfOTmxvM/2b7oT6d2bShWzPm2qCgSDAbWqu3io7y8iK5f3y4keudOYjQdTmdOnCBFRPFStrJ/P7dMJrvK/GdZsvBI+3m0bh3XAgIYPny47aEjR46wxdMTrLO6K1Zw3s/PrkoM0NbTk9gSJZQfnj8HEapZf1aZMGECJ0NDYfZs2LGDR6Gh1HLwJk5OTsYggsXDA/r35+Ybb1CjRg2nL81AsxlE2BUczCJtp4KGVq1aEePvz+rQUJdiWjo6rhg+fDhvOix2OzK+TRueiTBfa2HmwIjevUGEEUFBbNu2zfb4nqt7MI80s/nwZoYbDHoCrKPzCvnHJMDff/89R/z9YcYM6NSJtfny2d24TfrqK6VyoREyAuDAAZ5kyICI8NzdHc6ccf4LNm2CHDmUYzx65PpEpk1TFFp1/vasrliR37NnBxG+cxA+O3ToEJu8vIgZOZiMozOy/sJ62LCBmwEBDFQrZl8WL06Mi+Q1pWxZmonwxNMTNOrSaShWDF42J6zzetGwIYwZ43r7hg3KddGvH3Tp4jymXj3WqRXgIy1bgmMr/s8/8zgoiLp16wIwa9YsVoaHKwuIVnbs4IbZbCdetXfvXh4ajXDyJAAPZ8zgoMOsKUC9DBmIz5KFQT8PYnqdEBa4mN2dVL06d4ODic6YkYlq54Qja9esIdFg4GHOnEx5yeLivXv30t3+l2DuXKWjyBkJCSSLMGfQIJ4/f84CEWJVD2QryWqnyQ1VAO2Aag+E9m8QFUW8wcDmTZtsDw3w8yNGI2jG/v3E+PrSW2NPtXXrVo6bzbB4sfLAzp3c9vGxqxInJSXRRYQXVqFJi4UUk4mqDn+bQYMGcSU4GFauhOPHeZExI2XKlLGLefDgAWZRPajnzSMmd25KOlHGT0hI4Gs1Uf4tc2a7pF1LhQoVSPTy4nD27IwaNcppjI6OKyY1b85grcifE8ZVrw4ifKvpjHFkqDpvvzNHDr5VRzJi4mLIPiE7045OY+PGjWzw8dETYB2dV8hrkwAvOLmAZwmuV/ZHjhzJA7MZ9u6FGTOICg+nU6dOtu1jP/yQeHf31Nk1K3fugAgZrF/CLgRWOHFC2W4ypT2Gll9+ARdfzjp/L1a2akWSwcB9kylNy11UVBQzjEYsn3/O4jOLCf4mmCeTvuFESIjtZrHvO+/w3NfX6bGTcuSgigi3fHxgxw7XJxEWlqq2qvPPoGxZ117jAPPnQ/Xqis3Qe+85jylfnjnVqiEirGvWLO0c+apV3MmalTZt2gCKddG0bNlA26K6YgW/ms2sXr3a9tC5c+e4ZDDYfM5vDR7Mdje3NL++do4cJHh54j3Cm5sfvMe3IsTFxaWJm9K6NY/NZl64uTFF83mtZf/+/dwxmUgymZhQqpTr1+U1ITpjRiY3bkxkZCT7DAYsjtVOi4VYEX5V5793fv019x1E+qwz3stmz1Z3sTDSaOSxdS4b4Px5Etzd7Txzf/jhB654e6fqXPzyC089Pfnqq69Szy86mgEiJLVoYXssMVMmqmbKZHcKXbt25YG/v3KtXLpEirs7eXLntouJjIwkr6enopvx88+8yJyZnDlzpnlNrl+/zkwRLAUKcDtz5jSCW1ZyZskMIlzKmdPu+19H5+J773F19Oh0Y1aULMl+zXiBM8ZbZ9FdtOoDDHnzTaVrJTSU9u3bY7FYaL6yOXWX1sVisTB+/HgumM16Aqyj8wp5LRLgub/MJXBsIFcfXXUZ81m7dqm+mAcPEpshg50V0uiqVXkQFJR2R4uFZA8PqokobWQOlQwbN28qx3d2DJ3XkjVDhoAIe1WbLC3Wm8DE5s2xWCxMPTqVuL6fsz4kxNZ6169pU5KNxrQLJhYLKV5eFBDhvJ+fayEjUKq/InD37p/99HT+qoSHu05sQakOt2yp2LJpK3paIiIY/tZbuLm5Mb1xY8if3377vHlcyJGDzz5TPNR3797NwMBAqFMnNWbOHPZ6e9st/ty7d4+jIiSoSviXO3ZknY9Pml9fW71JHLvra540bswQo9GpxdGsvn2VeVgR5rioil64cIFTasyEf4Ai+o2ICCYXLsxPP/3EHTe3NNZUAFc8PDiiLrRu/fhjohx1JywWEo1GFqlVqri4OGaJENuzZ2qMWkluoekOmDZtGjEeHqk6F1eukGww0FO9TgAuX77MtwYDFk23QELOnNQwmez+xi1atCDObIZTp2yCalkckuQDBw5QMzQUMmWCs2dJ9vPDx8n1dOTIEdZ7ekLDhjwNCKBmzZppYuLj48miLmT/kTVzmnZrnX82vwQHs0/VJXDF6rx5OecgoOrIxJw5lfZmje+2I8Nz5eJ5cDDJbm6UL12aZb8uI2RcCHefKd/jXdu355GS/OoJsI7OK+JvnwAfuH4A80gzu6/uTjeuZ/nyxFmrbU+fggilsmWzbR9XsCC3ChRwum9i/vwMEiHWyRevDdXvkoiIf/Up6PxN2bZsGYgw12AgOTnZbltycjLtDQbitDYHbdsyJSCAHWpFd0D37s7b7tXr01+EgxkywKxZzk8gLk7ZXwSczE/qvKaYzVC+vOvtn38On34K27YpHr/OCA6mc5kyFCxYkC9q1ACrYq+VceM4mjOnrZX07NmzfOjlBdr5t2++YbWHByfVdmdQ2l+3ihAzdiwAUU2asDw4OM2vr1+jBoiQfOc2jypXpq+Lz9bvpk1T/LBF+MHadutAdHQ0W9X3wWRXtmKvEdfr1mVuYCALZ81SFmUdRHQATvj7s69tWwC21q7NiezZ08Q89PFhXrt2gCKUtUaEZK1Ctmpz1axSJdtDXw8fTpJWl+DRIxChs6Yz4JdffmGxpydoLI0SixeniQixsbG2x2rVqKGo3F+7piwsi5BFxO6zdN26dXycJw/kzm0T0zKJYnOkZe3atRzx9YUvviDJ25sCTq77qKgoSrq7Kwmwj4mIAvp3tU4q53x92V+0aLoxGzNn5r6k9b3WMt3fH0QY40K0D2Bcxozcq16dZLOZst7ePIp7xInbqaNObUuVItrDQ0+AdXReIX/rBPjG4xuEjAth2tFpWCwWChUqxGUXgkGDsmUjunBh289J4eHU0qzkTQ0J4cY77zjd11KvHlsMBh5pEmanBAZCOr5uOq8XJ06cIEaE0S6q/k39/HihnXurUYMe3t6cUefIh3/1lXIz6SiadukSySYTIsJGX19FJdUZN28qrYEhIYrwkc7rjyoolK6Q3ocfwtdfK+MWjoktKB0HJhN133iDpk2b0rhMGeWY2u6WAQPYmiMH01QV6Tt37lBdBIvmps7Svz+zRLhy5Yrd4Ve5u3NbrQhGvvUWS3PlSnMKLVq0IMHDA86f51GhQnzmwuJo7Zo1xBsMRJtMbHdU6FdJSUnhezUBnjVihOvX5TXhXt++rDEamdK9O4lGo1ObtD25crFf7XDaUbIkB5zoTtwIDWWuWtE/d+4ch41G+PFHu5hEs5nmGpXpAd262at8p6SQYjDQUSNMtWvXLraazTBhgu2xlGrVaCf21kNvq10AVrVri68vBUSIjo62xcybN49hRYtC6dIQGwsiBEpaC6OZM2dy2c8P5swBETJ6e6fpKNi+fTttwsKwGI28cDNg8jA57TrQ+WdyxcODwy/RENiRIQMpIvySjtPHQg8PEGGSs89elHGDWUYjDzt0IKV8eT40GNJ0kHXMmJHb+fLpCbCOzivkb5sAxybGUnJ2STpu6IjFYuHatWuICAscfXxVJnt4EK2Rr7e8+y4D3d1tVkiLvLy47aDka+PTT3lkNBLzMvGqggXBQZFT5/XFWjXpWbas0+0NcuYkUVPZshQoQG0R7ty5A8CUKVOI8fSEo0ftdzxwgKeZMhESEsJCb2/o29f5CZw+Df7+ynWXnvd0QkJaey+dvydXrihJg4eHa62BOnWUrgHrWIbj2IbqE1woLIxhw4ZRME+etG30XbqwOGtWflQTooSEBEqKkKy5qUvo0IHRIjxyEP1bnDEjV9XP2siiRVnsRNG4S5cuxGTIAPv38yQsjG558jh9Kvv27eO2yUSkyZSur+Z0b28SRVjqokr8OpGwfDmnRBhcpgz3XQjybCtbliNq4nogZ072OGn3/T1/fuarolMHDhzgqslkm922Epc5M600Qn1933svzdhGvI8PHTSz12vXruWYry8sXJh6oPffp5+HB+dVYS6At8LCSNFoZljCwnjL3Z2LFy/aYsaOHcvsMmWgZk0lztOTEj4+nD171u48hwwZwkOzGXbvBhFCxV55HGD27Nl8XbQoqNe7twhTd011+vrp/D148OCBS1Xwf5X7RiO/OOlW0XLA01MRr3JYKLKSmJjIahGSvLyY7zh3r/L48WPWihA3Zgx07cqCgAA2acTonjx5whAR7jdpoifAOjqvkL9tAjz92HQqzq9IQnICAJs2baKWCF2ciF88fvyYTSLEfvNN6oPDh7MpUybWrVtHcnIyG0WIdiVOpdpsWF7i/0bVquAqidZ57UhMTMRgMNDFhdJundKllcRCbftL8fOjiAiJiYmAokx+xWwGR7/A1au5nSUL5cqVY6ybW1qLGis//wx58ypdB+lZeuzZ47wSqPP348gRyJBBua40lTI7SpfmxIABfDVggHPhvqtXwWTC18eHlStXKjOVfn7w66+pMS1aMD4oyK7qWsTHB4smYXneqBFfipDiUIFckC0bv6vVx6hcuVjsZK5uwIABXA8MhPXricuQgS5OlH1BqUyeMhjYJcL169ddvizjQ0K4KcJPrmzqXid+/ZXnBgO9vby4rulq0rK5SRPOZs4MwGl/f/a0b58m5kL58ixWfZ43bdrEM6PR/hoAnhcsSLsMGWw/96lSheeanwGeZ85MR80CxsKFC7no6wvr1qUGdejARD8/Dh06ZHuoio8PidrPpcKFaeXvz5EjR1J/X58+rClfHqzfvVmy8G7WrGlEBzt27EiimxtERoKvLxUyZkyzYNK/f3+WVKqk2EwZDBTM6IdXZy8uRl/EkcjISHbu3JnmcZ2/FsePH0c036muePYy6zOLhXgRzrsQpbRyxmgEEda76Mq6e/cu+0SIL1WKjSI8f/48TUxUVBTHDQYsK1bAnDmcCQlhrDoyAnDs2DHWeHjwZMgQPQHW0XmF/G0TYIvFwtP4p7afJw4ZQooInzpptzt79izXDAYs2tXt9eu5niED48eP5+7du/wiQsLy5c5/2caNyo1kesqroCik9ur17zwdnb8pwcHBdnZaWhrUq6dUS37/3TbXm1sVo7nz9A5zl87luI+PIlakZfp0fsuZk5YtW/K5CCmuBI9WrCA6Xz4u5s+v2Hu5YtWql6uT6/w92LABihZVkmCHKpiNnDlZ0K4dlStXhowZ01q3/fILzjwjQQAAIABJREFUluBgRITz588jIqTkygXapKJ2bXr7+HBCY8FVRLX8sra/PqlcmZ5eXml+/dyCBbmker5eCQ5mqZPrd/z48ZwNDoYFC0gymehSvbrTp3L37l22i7DcYX7UkZH583NchFOnTrmMeW1QW4G/F+Gai46jrT17ct1sBuC6pycHNCrNViIbNmSl2nr+w/z5yt/WwSYqtnJlOmvEq/oULpxmFOhpRASdNZWzSZMmcddsVhberHzxBUsCAtiyZQugzIrXECFRTcABqFSJL8LCbDEA7dq1Y1/Fiql2XoUK8Wm+fKxcudLuHN6rU0c5//v3IWdO2ufLx9q1a+1iWrRowd7q1ZVF6oAAWhcsyNBpQ0lOsddvABjXogX9XHQl6Px12LlzJ+Kk2u9IeHh4mq4BLUnq9/N1F1VbUBa8r6ujFstdLHr/9ttvXDAYsHTuzEkRpyN5+/bt4w+TCQ4ehKNHeW4286Gqtg+wePFiLprNPFm6VE+AdXRE5CsRuS0iz0Rkj4gUSif2axE5KSIJIrLvJcf92ybAjnxbpYqiFGowpLlR2rZqVdoWv2vXSDYY6Pbxx5w5c4b7BgMcP+784OfOKfu/bL7s8GHXPsE6ryVly5a1u2HT8tFHH/FYbfMkMpJkDw/yqzOUfX7qQ5F+RZRZuYkT7XccMoTduXIxcOBA2ouQ6EqZcuZMLuTJw+5s2Vz7hgLMnm03a6fzN2bePMXiqEAB123tZjPDW7UiIiJC6RBwrGTt2EFSnjyICAkJCXh4eBBXrBhoFgAtb75Jc4OBq1ev2h4rU6pUqmgR8LhwYbo7mX+fV7Eil1U7m9u+vqzo1In7z+8zev9oUixKtXj+/PnsCQlRLOFE6OaiuyYxMZElIsw0mdJ9WVo3akRhEW45EYR6HXloNnNHhDtffOF0++7p04kzGMBiIc5g4BdVlVvLxU6d2KKOaCz86ivFK9hBzO/Fu+/ST1ItqvqHhdlpaQA8LV+eHhov8mHDhhHr7m7/XThiBFuCg20K+A8ePKC5CMnlyqXG1K/P+Dx5WLJkie2hhg0b8mvFimD1VK1cmbFFizLLQRiwbpEiyrWZlAQlSjCqbFk7b2KAcuXKcaF2bUUkLl8+vqpcmW+0XWEaFoSFsc1FBU/nr8PqH3+kvQiXLl1yGWOxWPDw8GBrOmNCMeo93iODwWXM/fv3eSpCnLs7Sxx901X27Nmj+KDPmsUDo5GDBw+miVm5bBnJItz97SjExmIxGKileU8NHjCARJOJJydO6Amwzj+ePiJyXUQKioiniIwSkVsiYnYR/5GI1BORqfIPSoAXBwfzJCyMu0Yj+7Qrz8CqL7/kiaPHr8VCvNlMpzJl2LFpk5IgqLOZaVBX3Jkz5xU+A52/I8+fP3cppNK7d2+uhoYqicXOnTwNDaWSqqj6POE52ftlZ767KfXmzkqnTvwQHs6cOXNoIkKCizZHRozgaEQEq7Nlgz59XJ/kqFHK9ZuOcqXO34RRo5ROk3fesZ+xtKKKZLVv1Ah/f3/n7fHLlhFbrBi+artfjhw5iK5QAVTBK4DkvHmp7vDdUKtWLV5YbWuAJ9mz08XBtxVgQcOG3FArgo/c3Vk/ZAjvLX+Pd5e/a3uvrFmzhpVBQYpglwg9NZY5jjQzm2n+ktm8Tp06IU7UgV9XrubIASI81ySLWo7v2qW85y9fBhGiNJV82zG+/pqDqkfz3E6deOykmp/ctSvfaHQLhmbMSLTDglxsgwb01bTC9/7ss7SfN9OmcSQkhBlqp0pUVBSfurnZa2Z88AHfFyxol7hWqFCB62XLglWdumFDvitdmhEOi9E1goNJ9PNTfqhenaXVqvH555/bxWTOnJkHNWsqooLlyrG4fn26deuW5jknJSUxz2TilMHAzw4z0Y44867W+e+xZuhQUkQ4kY4oVVxcHP4itsUXZ9zYts3mqGBxYXUZ9euvIMKtrFlZ7EKFf9Xy5Yoy+5EjIMI6J12FvXo0VzyAHyjigfG5c9PYw8P2/ulepw7JJhNPHj7UE2CdfzxXRKS75meTiNwXkdYv2W+o/EMS4KSkJE4aDNz55hueubmx+NNP7bavqF+fi+o8lJZHxYrxeUAAayZMIMnJ6rcdWbLYzzTp6LyEkSNHcjwsTJkh/+47bubJQ5MmTWzbVx9azSgRoj9sar9j48Z8ky0ba9eupY63Nwmu1Md79WJrgQLMzZwZnMy+2/j8c+XLPZ0WMJ2/CT17Kv9at3Ze9Vfne6u+/bbS2tywoXL9aZkxg+jy5cmZMycAb775JlfefhuGDrWFJAcEUM7Bt7V169Y8DAiwCSXFZsrkdHZ3ySefcM/HR/GaFeHrwe0IGRfC/ef3bTG7d+9mesaMUKECse7uDB482OVTzp07N8VfIkA4aNAgMjjMpr7OXKxcWXlPnz7tdPu1a9d4JELcvHk8cVBWtnL3+++JVBPXuY0bc9uZoNbQoXxnMhEZGQnAGHd3Ypraf14lfPwxozRiaN1atUrbcbJ0KZHBwYwaNQqAw4cPM9bPT1kAsdK9O1uKFGGo5jrMnz8/0SVKgFXcsm1btrz5Jr00o0YpKSnUNBpJVK9nmjVjT716NNWcZ1xcnLJAUqUKzJ0L9euzu2lT6jnxjT579iwbTSYeennxlZPWcStHtm9nkK9vGgs8nf8ey7p0ARH2pHNvdufOHa6LsOzLL13GXFiwgIdqAvzchdbAic2bQYQLpUuz1NE3XWXRuHHKtf/sGckGA4u//tpu+/XH1ylfyp1HHqmt1ilNmzLQaOR31Q2ie3g4T7Jn58mTJ3oCrPOPJoOIWETkTYfHt4vI+Jfs+9okwAnJCdx+etvl9ovHjpEsQvKtW5wrUoSVb7xht31DoUL8oqpdannWvj2TRVjUoQMPNC1cTtm1S6mu6Oj8P5k1axYbs2eHfv1g5EhOFSrEJxqf0sePH/O5CNuLZyQxWSPiUb48XQMD2b9/P9VDQkiyVjYc+fBDvo+IYFRwMLiaEwZl5k0E9u37c56Yzv+OVq2UKnCfPuCkesWxYxASQuHChRERnrdunbbDYMQIbrz9NiXUOd1GjRpxvFq11ONZLKSYTJR1EE779NNPuR4aqsyUA4nu7nRzMru7auhQnrm52arR2dv6sC7S/gb1zJkzDPTygtBQ7pnNLufoAcqUKUN1FzPCViZNmkSef9DM5v1eveztiByIi4vjrAh3mzXjvIjTJO35wYPEiBATE8P8SpW47EQ/gylT2OblxeHDh0lISGCGCM8cqvWWL79kloitXb5LrVqkOChFs3kztwIC6Nevn/rjZhYFBoJqlwXAoEEcLlqUHhqtjcDAQGILFEhdfO7dmyPlyvGhJnG+d+8ezURIsX7Hd+nC+UaNeFPjWR0ZGYmXlxeWkiVh7Vr46CMutGpFYSfdNfPnz+c3Pz9SjEZqpnPdzWnenBcinHA1OqXzylnatCmIsDUdDYzz586RJMIPmjlbR06PGkWUuzsvRLizd6/TmH1z5hBrMHC+QQNWhoY6jZn92We8ULsqHprNzFW9uAGSU5J5a+FbdCmejTta27fRo9maMSPr1q0jJSWF/m5uPKlZU0+Adf7xhImSAEc4PL5MROa8ZN/XIgG2WCy0W9eOekvTrtRaOfjll1zx9ATg1/79+c1ByOBgQADHPvgg7bHnzmWv0cjo4sW54uIDTUfn32XlypXMzJoV2rSBrl3ZVrQogwYNsm1PSUmhrQiHcnkzbPew1B1z5aK2pyeRkZFUzZtXmW1z4vVJvXqMz5OHXhkzgqq665T69ZWb5Q0b/sRnp/M/oXp1ZQ544kTQdBPY2LwZChUiNDQUEeGPDh3Sqoj37s1v1atTTb1mOnfuzOZ33oFmzZTtz56BCOU0nr8Aw4cP52yWLMooSHw8iPBZixZpTmHrvHlKK+HVqyDCu5MbpYm5ceMGbdWKy0U/P+bOnevyKdeuXZsWTn6PljVr1vCOCx/315Lly8GF/7iV7SYT93PlYo8LYR/L7dsgwu/nz/N9oUJccKbEvXQpJ7y92bZtG3fv3mW5CEljxtjHjBvHWg8PmwBZ5zJliHNU0z14kEd+fnTq1AlQhH62hIaCtsI6fjznihShdevWACQnJ2MwGEgKC0tdvBsxggtly1K3bl3bbqdPn+Zzb2+wPjZwIHcbNSJLliy2mK1bt1KgQAHIkUM5Vu/ePGjVCl9fX7suhwsPLhBRO4JoVWk9p48PSS5aYvurbehThgxxul3n1bO4alUQYW06f4MjO3eCCEtq13YZc7RnT075+nLHYCDKhZXaT8OGcdfDg0uffMJmjb2hlqlNm/JQXbC+kTUrszXfyyP3jST/1PxMK1KYqxpvbbZs4ZafHyNHjuTatWssMBhI7t9fT4B1/vH8VyrA3bp1o1evXvTq1Ytt27al93nzX+ebA9+Q9dus3HriWtzkYPny/KzerD25do1EEe5pVmWvublx2lmF4fhxnphMDPTy4rz2A0lH509g9+7d9AsKUpKWRo2YW7hwGmGW5mYzj3LnYNW5VbbHLGYzb4hw//593i5VSkleY2LS/oJy5fg8e3ZaenmBCxsZAMqXV47hqDbtyIgRoM+0/bUpWlRZyFi+HLQCQlYWLcLy9tuYTCa8vb2J7NIFGjkkoG3bcqBmTZqpCe+wYcOYW7GiMlcMNv/gyhUq2O02ffp09mbJAmPHKmrBIvR1GDcBOLhjB4iwZXY/HosQdTUqTcyzZ89oqCbAxzJkYMWKFS6fcuvWremezowwKItJ/yjBokePwIUXqZUfM2Qg2WhkravW8MREEOHUpk2sCAvjnDM/1W3buOrtzbJly4iMjGS30Zh29nzePPZ7e9usiTrny8czx5Gjc+dI8PCguSp2NmnSJI5mzgxTp9od50bBgtRWE5UHDx4gIlgyZEi1Z5o+ndslS9pVd7du3crkoCBloRFgwgTi6ta1mwmfOXOmclwfHzh/HkaOJKFZM0SEhw8f2o71LOEZXtk9iXczKYtAvr5O/adv375NH4MBROjqYh5U5z8j5fBhklyIlFlZon4/rnShygyw67vvQISlZcu6jDnYujWHg4KIcnfntOMCj8qmzp254ufHja+/Zq8LUb7Jb73FbXVk6feiRZlXqBAAV2KuYB5p5vjt48zPmpXL2sW6O3ewGAy0a9aMUaNG0dpkoledOnTr1k1PgHX+8TibAb4n/4AZ4LWRa/EZ6cOJ22kFPLT87u/Pek2F4KjZzGm11TT56VNSRLh2+HDaHePiSBZhhQhnq1b9U89dR+fs2bO85+0NhQpBqVIMiIjgR4eb1iahocRrBX7U6luACElJSVSvVk1pJ3Rip0C+fLQIDuZtESxOxIi0cfj4wJQprmPUm2F9Tvh/TIMGkI7fLZkzKwIr+/Yp1SxHxo0jvlEjRISSJUuyr0sXZQFES8OGrK9Rg86dOwMwe/ZsBpcsCdZ20LNniffyomHDhna7LV++nFUhIUpLf1QUCSYTw514p58/d454EaK/Hcc1VWnaEYvFQhWTkmRs9fOz8xt2ZOPGjS8VI9JJy2zVtur7sDCXMTEmEwenTmWTvz/nnXRJcewYMR4ezJo1i0OHDnHOzS1tJ8nq1Zwzm1mzZg0A3TNn5nFEhH2MWm2uoybZQ4YMISo0FLTq1KtW8TBPHsqqicqFCxfw8/JSPpduqyNQP/7Io4IFyauxT1q4cCGrwsJSLQjVRSB3d3ebDU2/fv3o0aFDqlXS7NlQuzb+/v52CW58fDz+avKbkMmPL8uUSbNoCbBgwQKWZskCIrzn4eH0GtdxzaBBg1i0aFG6MSdatSLyJf71P+bLByL86DCXrmXLmDEgwjLHa1LD/jp12Js9Oyd9fTnas6fTmPXvv8+50FBilizhVxeCe1MKFeK6Wky5WLs2izULQZdjlGtxma8v17Sz7xYL8Rky0DpvXqZOmaKMj5w8qVeAdXRE5AsRuSaK9ZG3iIwUkZviWgXaTUS8RGSEiOwXRTna00XsXzYBPnnnJL6jfFl9fnX6gY8fkyzCju++sz30Y5kyXFATgnvbtxMjQvyLF053vxsYyGMRfvvooz/r1HV0AKVKUFwEi78/ZM7M+2Fh7HSwpGlQoADJWoXy338nxc2NAH9/AN59911ifXzAiYorAQFUMJspJoIlUybXJxIQoFQOnSQrNtSKnj4n/D8kMREMBtet6ikpip/zlSuKt7S7e9rW+L59iWnVCi8vL9577z1WdOqkWCFpqVSJuVWrMmDAAADWr19P63z5wDoGsncvjzJmpK1mfg0Uz83p/v7wySdw9CgPPT2Zqq3gqdy/f1+x6Pn4Y84YjS6fbqWAABBhsbc3h50tUOr8R0wuWRJEmF20qMuYK97e7O7Xj71eXkQ5U5K/fJkkg4GxY8awadMm7rq5waFD9jG7dnHHy4sFqlBVT19fHjt2J6hOCjXUTpXu3bvzR2AgaK1pdu4kNls2W3J74MABimXNqnwuWTtTtm/nRa5cZNJ83o0aNYr94eGpNoUbN0LRouTKlYvdu3cD0KxZM6b376+8v5KSlDn20qUpUaKELXEHOH78OCX9/Eh2d+NoDhNLGtW1E9Oy0qxZM84UKQIi9PH1ZZ/+ufkvUa9ePfqk51wAHHjnHa44USbXslK9Pn5IZwRobc+eIMLqrFldxuwvX56dBQtyKDiYgy1bOo1Z9847nM6dm6RDh7grws2bN9PEzMyWjWtvvQXAlU8+YZ3qxW3FYrGw3Wjkj2HD7B6PrVCBriYT/T78UFGRjo3VE2AdHZVhIvKHiDwXex/g7KJ4A1fUxC4UpW06Rf1n/b8z/pIJ8POE54RNCGP0/tEvjU1cu5YoEa6p3pQAP3z1FQkGAzx9yqWhQzmajrn572XLKnNoDh9IOjr/KfHx8YSqbZ4YDBT08+OMg090fWt7srV98+BBXgQFkV9Vmfzoo4+IDgyEn36yP3hyMhaDgTARcopgMRqdzwknJys3fU2aQO/erk82MlI5j40b/5OnrPOfcP268jfQ2BHZER2deq1Yrdnu37ePadeO6+3akT17drp27cqEdu3AsQW2YEFGVKrEt6q1zLFjxygdGKgk1ykpsG4dN4OC0tjInD59WhGuev992L6dq2Yzi53MyyUlJXFOhGsVK3JI1WZwRsU8eUCE8W5unD9//uWvj86/xAR19n9aOkJOZwID2fHBB5w1GrnqrEPk8WMQYVivXiz+/nvijUaIcmhpP32aZ+7uTJgwAYvFQj+jkaeO6soWCylublRXhbZatWrFMz8/OHo0NebECRL9/QlQq37r1q2jUYECoBWoPH6c5KAgRO2QAejRowfnc+WCmTOVmIMHIVs2qlSpwnfqwnjZsmXZPnasshgIsHs35MpF48aNmTBhgu3wM2fO5LPSpSF7dk6Vz83It4PIkjWL3ZxwUlISmTJl4kmpUuDtzZqCBRnm4v7BYrHw1Vdf8eDBA6fbX0fWrFlDbGxsujHly5fn448/TjfmYIkSPHiJ//eGTJmUCnDp0i5jVn7wAYiwOZ1F4oOFCvFTuXLszpWL/c5GAYD1JUpwonhxuHqVJBFOOlmUXpAhAzfefx+AP775hr0Gg9218/TpU86I8MzBkimld29mmUy0CAnhiarGrifAOjqvlr9kAgxw8MZBl/6qWu5/9BEL3NzsYk+dOkWU0UjyypWcb9yYtel4SF7+5BMQ4c6yZX/KeevoaPEzm7GYTFiMRtxE+OOPP+y2N27QQBG5sra9rl7Nw1y5KK+2rfbo0YPrmTMrM59a1GTIW4SM1iT78eO0J2BNmvr0gfbtXZ/owYNKnAtfUZ3/Ata/Qd++zrefP6+0slvJlCmtDU79+pzq2JGSJUsybNgwPm3WTDmmtl0vc2a6lCrFQnWW88aNG/har6GHD2HhQs6FhjLSwWbp5s2btBMhpWpVWL6cU2YzG10smBx2c+NG9uz8nDGjy6dbWV187CvC7duuVf51/j0mde+uJMDpdDcdCQ9ne/Xq3Bbh7vr1aQMsFpKNRga3bs0Mq8WLo6XS9eukiDB08GBiY2MZKUKck9+Z6O9PDTUBrV2rFslubnDpUmrA779jcXfHIIo10/z58+lRpgxoK3eXL2Nxc0NUjQSA999/nzvZs4N1jvzCBfD2pk2bNnyt2tCEhIQQOXUqWO1rzp6FDBno2bMnn2mUqNu3b8+SJk2gdGmSO33C4lrZcHN348qVK7aYgwcPEhgYiKVAAahYkajy5XlLrfo5snv3bkSEj16DDrN79+4RHh5u86t1RVBQEDt27Eg3ZkZAAFNLlUo35kiePCSI2KuJO7DTy4sUEZa7sCUCWFGnDoiwO53FuKM5c/JT7drsKFaM/S7Oa3Pu3Bx/5x2buv2ulSvTxCx3c+MP9XqK3biRS6KorFu5ePEiD0SwOCqHL17MKR8fuokQrc636wmwjs6r5S+bAP9/ic6dmyEOLX5JSUlMcHMjpnFjLhUqxIJixVzu/+jHH0GEF7/99qpPVecfSI4cOYgPCiJZVeVNTEy02/7hhx8SazaDdQ5txgyuFixI5RqVARg4cCC/hYXBrFn2B46KIsXTE6PRSEhQkFIB1nRB2LhwAby8FNXgd991faIbNyo3t9On/ydPV+c/YcUK5W/gSvF4zx7QWtW88YZ9CynAm2+yo2NHatWqxYwZM6hfu7ZyTGu7nsUCHh7UL1CADWqrdUJCgiI25OWlXC8TJ3IgNJRZDtdcXFwcjUVILFIEZs3iZy8vDhw44PRUf/bx4ZGXF1ud+K9bqVOnDgkeHnQQ+WcJWP2XmDlxIjEizEjHy3Zf8eJsLViQJBGeW4WmHHju48OgWrWY2KsXKQaD0lWi5elTZSGjY0fu3LnDDBGSnbS3JoSHU1vtxnrLKu6nEaDSLuo9fPiQsWPHMuatt1Jn00ERAxQh2MvL1jVQsWJFnoaE2PypuX8fRBjaty8dOnQgNjYWEeHxrFlgFXa7cwdEmDxuHI00InFFixblVIcOinL+sGFY2n5EuXLl+F4jIDho0CBatmypLED17ElcuXK4u7s7rXo2b96cFi1a4Ovra2vH/m/z6NEjnj179h8f59ixY2lEwxyxKncve0lBYbu7O8uyZ0835mRoKIiQ7GxhV+WQyUSMnx9r0mlvXlGuHMkGA8fTGcc4FRTEzlat+KlKFQ45joyo/BQaygnVbvCF0ciGsWPttsfHx7NdhMeq4KolMpI4Ec6fO2eLOfDzz8p177AQzq+/8sLNjRkiPFeV0vUEWEfn1fL3ToCfPCHZYKCPk5mNbkWLEufry4MMGZiZ3o3/vXtYgoLAxYywjs5/QokSJYjJk4fnhQrhr871avn000+55++f2uI8dChHixbCrZQbP/3+E2PGjOFgjhww2mEc4NAhEkJCCAgIIE+ePCT6+YFqQ2KH2g7IwoWQntCbqpTJqFH//pPV+c+YMEFpQ3ZQX7axYgVo1G+pVg3mz7ePyZ2bxe3b88EHH7B69WpKly4NgYGpCyxq9aJwtmx2yWtgYCAJoaFw4AAMGcL6oCCnysw1PT1JyJYNxoxhhZsbv2kWDuecmMOFBxcA2BwcDCJsdHEzCUobbLSvL02Nxv9Xt4/Ov8bKlSvxELG1ATtjd7VqHPL3V2yrXCRJMaGhDC5Thm9atuSZs5lMi4UUo5HPGzfm/PnzLDeZFKVwBxKLF+c9EV68eEGl8HDl80abTCclKdZD7u5cunSJPn36sKh6ddBWV1NSwGCgXJYs7N+/H0D5/PPxSe2GUI+zZOxYatasyblz5zCbzVimTAGrsFtCgqJUvmABxYsXByA2NhaTycTjzz6Djz9WWqrr1OGLL76w828vXbo0S1WrL5YuxZIvHzlz5kwj5Hb37l08PDy4ePEiEyZMIH/+/E6Fk141bdu2ZfDgwenGxMTEcMKZzoSGzZs3IyJcuHDBZYxVuXt6OgupKSkpHBRh7UsErs6pVlQxjl0uKklJSfwmwq28edns5LvVyqo33uBBxoz87mQB2kqkry97Pv2UHe+9xwkXi3b7/fw4papN3/f2ZoWDMv3t27f5RYSklSvpsaUHP59ZDyLsW5fqgb5l+nSSHK97gMREkkwmrhsMWObMAfQEWEfnVfP3ToC3bOGO2cykSZPSbOrbuzfPPD1BhLlDh6Z/HP3mS+cVUb16da4VK8a9ChWIcKJCOXjwYC6FhKRamnTuzPaSJanRpgZhE8L4dvK3bMqRI21b7MaNPMudm1y5clG8eHGeZ86szLU5smGDIoC1dm36VkkTJ6bffqvz6undW/kbqTYaaZg2TVGJttKmDagtnjb8/BjdujW9evVi//795MiRw75SfOMGGAz4eHvbzd0WLlyYx3nyKNdJjx7My5jRqfJyzcyZSfLxIaVvX6aLcOuWYk93+OZhzCPNnL2rqIivz5ULRFifTptj9+7dmZs3L0XSaZPW+ffZu3cvIsLmzZtdxuxu2ZKbJhPPRVzG3M+fn2H58zO2enVFj8AJsb6+9KpcmcOHD7PL01NRWXYgpVo1Phbh7t27VMqQgSTVL9UOX1/eCgri6NGjtG/fns21a0PjxvYxAQE0y5+fdevWYbFY8PP2tu9yAMiYkQMzZlCgQAE2b95MwYIFYehQ+zEQX1/Or1xpE9Q6ePAgISEhWDp2hAEDYM0aKFmSdevWKfujtAEbjUbuHzumLFadOwfe3rRr25Z+/frZnebo0aOprs5fJyUlUbx4cb5Kpxr/qihbtixtrBZRLpg5c6adtZQzFi1ahIjYFh6ccf78eUTEqTq8lUePHhEpwjbtbLcTrqr3b9c0CaSWhw8fcluEG9WqsSudY63Lnp3rBQoQI8K9e/ecxlzz8ODQiBHs7tyZ31zYhp308OCcOut9NThYaZXXcPbsWW4aDGxbNJjAsYHcenKLZyYTmzW2Sqt79+aBC2GvZxERynWsLkzqCbCOzqvlL5EAP0/4N9vf+vZlma9vGmVdUFaH/SjFAAAgAElEQVS/N/j788xoZPWqVU521tF59TRv3pyTb75JZM2aVKpUKc32b7/9luNZsqT6YTZpwnclSjB69GhqLa5F5Z6V+S57dujY0X7HRYu4X7gwJUqUoHLlykSHhys3bI4sWKBUfnfvhvSskgYPVr581fYrnf8BzZtDt26KaJmzSsWQIUplykq/fqD1v4yPBxE6N2nCqFGjiIqKwsvLC8tbb6V6QJ8+jSUgAHG4GaxevTo3CxaEOXPggw8Y4eXFKScdBbUKFVJGRtq0YaQIsbGxxCbGkn9qfsYeSK36rS1eHETYkI4A0+DBg8mbNy+5tG3dOn8aFy5cQEQ4qhWacmDf55+DCDfc3FzG3H3zTUZlycI3JUtyx8VnyJPMmelVuDDbtm3jtJdX6jyulqZN+VIVPHtbhERnNl5hYbQKD2fr1q00bNiQI3XqQLt29jF58/J5iRLMmzePJ0+eEGydX9d6mOfOzbVFizCbzUybNo26desq7y1ta3bOnDzdtElpj378mMmTJ1OvXj2lSjx5sq175v79+xgMBqKjo1m8eDGlSpVSlLCzZrW1fy+fOZMyZcrYDp2SkkJ4eDirNPcex44dw9vbmyhHEbFXjL+/P1VfYvM4cODAl74Pv/nmG0TETjXbEeuii3au2pHLly9zX4QDLxG4emA0ggjnXYgCXrlyhVgR7nTqxNF0jrUlMJDfa9YEES5o2pG1RBuNnJw3j4PDhnHFxazwRaORy2p1NipPHhZXrGi3fdfPP/PCIJTo5cOmqE0A3PDzY7Xmu3vZ++9zOSjI+Ym2a2c3FqAnwDo6r5b/eQJ8/PZxQseFcvfZ3X953+TSpflAXVF25MaNG9QxGNjo5sZxR8EBHZ3/El27duWrLl2YPXw4TRxWjAHmz5/PtixZwKoiWr48IwsXZt68edx6cgufD30YGeyvKO9q+fZbrpYuzTvvvEPdunW5GRGhJLuOjBsHTZsq7dHptZx16wZGo+v5U51XT8WKsGiRUlm6ejXt9s6doX9/oqOjiYuLU27StdWxmzdBhFrVqjF37lwePXqkzJ03bgzqXBq7dpEUHp5mHr1NmzacLVoURo7EUrcu3US4ceNGmlNoULUqiBBbsSJfqq3LPbb0oOL8iiSnpLb1ra1WTVFebd7c5dOdMGEC7u7uthZUnT+XmJgYRMTmheuMI2rnx1mtuJoDd+vV41s/P77NnZubLrpIYiIi+Dx7dpYtW8Y1Ly9wJoLUsSMTfXzYsmULTURIdnaswoX5omBBli5dSoUKFbhQqxY4qJFTpgwTKlRg7NixXLhwgWIeHlgc7GYoXZq4JUsQEdq3b0+3bt2UBSZta3apUlhWrcJPVef/4IMPGDp0qDJmsHy5YjXm5gYpKRRQZ+Zbt25Njy962KrDAGTMyL0dOzAajTx69AiArVu3kjlzZuU9pplv7969O1WrVv1TWv4tFgslS5ZMd4EjOjoaEbG5Crjio48+wuz4GjrQp08fRITZTqr7VlavXk17ETo2a+Yy5vjRoySL8Gs6LclYLCSJ8ECEX1S7NkdOHTkCItwfP57zIi5f090+PkSpYqfHt21z+rsSRbiwZQsn587lvpNZ4eTkZO6LcHfLFgDOlynD0gIF7GKWL5wPIgxcmbooeT4sjJW1a6fGlC/Pb67+FpMmQUiI7Uc9AdbRebX8TxPgyzGXCRkXwviD4//1nZ8+xWIyUczf3+kHn8ViIUuWLIiLBFlH57/B4MGDad++PQMGDKCTk+rqqlWrWBwaCj16KA/kzk3HPHlYp7Z9DZg3gI99DCS8Xdl+xwEDOFO+PE2aNKF58+ZcKFIEVFsbO778Ukmcrl5VElxXCp4tW0LOnFCnTvpP6MUL18fQ+c/ImVMRusqRA/buTbv93Xdh4kTef/99xo8fr1TZypZN3X7yJAQEULx4cVt7qLu7O49bt05tbV+5ktgiRfBzaD/t06cPPxctCj17kli2LC1dCFO1aN6cJJOJF2Fh9PbzY+flnfiO8uXSw0t2cRubNwcRtjvMyWlZuHAhIkKVKlX+v6+Qzr+AxWJh/vz5JDvOG2o4u3YtiHDIVVUKeNC2LbPc3ZkaHMxNFxX9mHLl+DJTJmbPns0jDw9wtujcty9LMmVi2rRpdDKZsNSsmTamUiW+LVWKKVOmEBERwe1q1cBBjZxatVhapQp9+/Zl9+7dNMuSBRwFlWrVgjlzbBoJ48aNSzszX7MmzJlD4cKF2bBhAwUKFGDTpk0QHq68D589s6lef/zxx3zxxRcEBAbg3cmbS1/3BqvVU+HCsHkzBQoUsH1uN2rUiEGDBimznpkyKeJywOPHj8maNSuLFi1y+Xr/f4mKikJEnHpxWzl8+DAigo+PT7pJd7Vq1ZCXiNF99NFHiAgjrH7LTpg1axbRIgxIx5bo5zVrQITbkqrk7Ujyo0cgwilPTw67sEs6sGoViPB082buiPD06VOnccfc3Ph95EjiDQb2qBVcu9/15AmIcOvsWaK2biVR0ipPP4yOJkmEWLWCfL5ePVY4zAq3bFOOJBHiE1I7EU4VL85qzQLfmrx5Oe2kEwxQ/N01VmR6Aqyj82r5nyXA0bHR5J+anx5berx8NfTKFeVGfuZM2LdPaRHZupUnwcG8/fbbLndr3Lgxnp6eL5Xt19F5VUyePJlGjRrRoUMH5YbIgZ07dzIuMFBJQAF8fHgnNNQmUHTixAlamD1JLF7UfsdOndhXuTJt27alQ4cOHC9RQmljdqRDBxg0CNQbCly912vVgrffdi3AZKVhQ3DwMNT5E0hJAXd3xRamcmVw4q9LpUqwdCkVK1aka9euyqxYWFjq9u3bISKCbNmycfDgQQCyZcvGjfbtU9tIZ8/mYdmyhIeH2x16woQJLClYEFq3Jj5vXho4WMtZ6d69O0/NZlJMJnpkyUz4pHBmHp+ZJm7bp5+CCHvTuVlev349IkJDqzCRzn+dK2fPggg/p9P++vjLL1kqwlxvb263auU8pl49hnp4MHbMGJIMBqV66sioUWwNCqJ3794M9/V13m1Svz7flyvHsGHDCAwM5HGlSjBjhn1My5Zsr1qV9u3b88MPP9AvIgIcuwhatoTRoylevDgiwsqVK5UYrdWTGlO/fn1GjBiBwWDgjzt3FN/hyEglxmyGc+dYuHAhAQEBZMqUiYkHJjKhui9xH6qvRe3aMGsWXbt25dNPP+XmzZu4u7tz/fp15XUQSdV4QLnuvby8aN++vW2G/t9hypQpiIjyWeCC77//nqJFiyIituq0MyIiIl7aLVC3bl28vb3p2bOny5iRw4aBCIPSGbdZP2kSiBAvQpQLQa2Y06dJEWFXaCgHtLoHGn6aMoU4o5Hkc+d4IcJN7Qy4isViIVKE2wsWcN/Dg61O/JofnzunJNIxMfwRGQkiJDooXV8+dUoRilNfw0sdOrDJ1zf1fONiqF4xI48c2qdP1qnDZs1n9NagIM6k0xWjRU+AdXReLX9eApycnFba3QVxiXFUnF+RJsua2LXNOWX7dqV1s3FjZcU2WzblC8XLiyOFCtE9nQrD6NGjyZuOCqmOzqtmyZIlVKpUiUaNGjFFs7pr5cSJE/Ty9VWubVWhN5uXl01p8+LFi1R3c7O3vwF47z3WvvUWPXv2pFevXvxcqhQ4ey80aaIIXKnqqTa/YUfKlFEEYlSxF5eULKm0Vev8udy9mzrH2Lp12qoXKB6mO3YQERFBgwYNlIVBkym1Ir9kCZZKlWzKs6CokJ/+5JPUatXo0dyoXJmSDu2nP/zwA6Nz54aaNUkICqKeC7GjoUOHcjtjRhChe0QEZ+6ecZoo7x0zBkQ45qwtX2Xfvn2IyEsFenReHY9iYogVYXM6begvJk9mmwhLRLjv2I6s8rxtW8aKMLBnz7T2RlZmzOBIcDBNmjRhbmAgOEvcPviAzZUq0a1bNwwGA/ElS4KjpU63bhyvVo1GjRoxYcIEppcsqVR3tXTvDn360LBhQ0REGYMKC1PmerUxX3xBt27dKFWqFGFhYcoCoYhitwSKbsKuXVy6dAkRoWnTplgsFn6ulpvvG+RU7l/URcbVq1dTuHBhhg4dSv369ZX9N21SjjdwoN3pXb58mebNm2M2mxk4cOC/dQ9Wt25dChYsyDvvvOMyZvDgwbRr1w5fX187xXYtFosFs9mMiHD48GGXxypTpgwlS5akdevWrn/fxx+DCF+5+PwAWN63L4kGg/L54MIa6vqGDcSIsLNAAQ44zNpa2ThgAPc9PeHePRDhNycq1nFxcfwhQsy2bVz182ND585pYm5t28YTtYX6RWwsySI8cDjWmfXrFfVm9bPuxrBh7HGYO57ZoAF3HJ73mU6d2Kvptjnk5cX5/6fQpJ4A6+i8Wv68BHjDBnu/vnRovrI5FeZXIC4xznWQxQJjxoCPD3z3nTLzZuXRIzh4kKZVqqTxqtRy+fJlZs5MW53Q0flvsXXrVt544w0qVKjAj5oqgJVLly7R1GTCUqoUXL6Mxc0NgwgPHjwAFCuNoiJYVKVSG2+/zdxKlRg2bBhDhgxhdalS8MEHaU9AK4CUKROcOeP8RPPmVRSFXSkQWwkPVxRSdf5cfvlFsSsC6N/fuRiZ+vcLDAykWLFiSju6iJI8A0ycSGL9+nbVnlq1arGjUydlgQOgTx9+q1qVGjVq2B169+7dfBISAiVKkOzhQYN8+Zye5tSpUzmv2ub0KFfO9dP54QdFwMZq7+WEX3/9FRFJdxFT59WSkpLCFRE2OCaQGiwrV3JMhG0iPHU2ZgEk9uvHHBG6NGiQ1t7Iyg8/EBkURLFixViXObPSmeJI9+4cqlyZOnX+j73zDIyiatvw2U0jlRaSUKQEBOlVepMmRQSkiBJCBxEUFKRJkaaIgICgIAioiPTepEhJaDF0Qugl9GropOxe348zszs7Oxt9X+X9LHP9yu6c7M5usrPnnOe577sRQghshQs7I+JUhg3jdO3aVK9enQ8++IAVVaqAXnM6fDh07kzv3r0RQnD71i2Zh641oProI+jYkc8++wwhhPRoOHUKfH2dLbBVqsCPP2K324mIiOAbpYU6rdHLjGwTzpAtQxyPc/v2baxWK6GhobKVGqT2Xghn/JKOffv2UaNGDXLkyMG8efN+tzb4yZMn+Pv7M2vWLCIyyNpu27YtH3/8MUWKFGGjkf4Vp1Y8MjLS0cJtRL58+YiKiqKBUeu6wuBGjUAIxnkwkgKYHx3NteBgbEKwTZOvrOX49Olc8PJiU+XK7Cpe3HDM8m7duBgS4oi02rtihduYa1ev8lQIUo4eJTE8nBUGkZin5szhkkb3e0sIzi1b5jJmz/Tp3NEseO98+y2HhSAlJcVx31eVK3NBt1F9cvx4jmgM5k5aLFycNcvw9egxF8AmJs+WP28BPHWqbOFLS/vNoXsu7eHu47ueBzx4IE1/8uaF+HhiY2Px9/d3cVQEyJkzp0uWpYnJX424uDjCwsIoVKiQoVv5rVu3qCEEtrx5Ydcu0sLDsVgsDt3e48ePeU4I7BaLq/a2ZEnGVK7M5MmT+eyzz5hdrpyzyqeleHGuzJ5NjRo15OLVSFsKssti/nzQtHUZkjmzceVGy6VLoInYMfkdrFol46rAkT/qgjLJS798GYvF4syUzprVmf88ZAjJbdvi4+PjmEi3b9+ebzt3lvpigC5diK1bl9d1bXiJiYm85OuLXcnvbeZhcbtgwQJilQVwn8aNPb6cU3v38lgIriiVaCMuX76MEIIPddUxk/8tsd7eLDXaPFPZto3zViu/CEGakbszYJ8wgeUWC+1KleKJp8XP+vVczpqV4OBgYnPmNPYsGDqUhOrVKViwIP7+/tIUSF/ZmzSJa9Wq8cILLxAVFcWuGjXcr0mKQdz48eMJCgqSGcf6yvQXX0DTpixevBghBGPHjoWYGFc9cfPm0pwIOHbsmHPBU748l+ZMIfjjYA6PeRcUbXTZsmXJmzevU3fdtavU6WfQEmy321m+fDk5c+akSZMmXLlyxeNYlU2bNpEnTx7u3LmTYXtz+fLlWbJkCXXr1nUs3vUcOXKEkJAQ6tevz9cGGlmV7P7+7K1Rg7IZdAsMKlsWhGCaEKR5mAvOa9iQczlzcs/bm3UecucPDB3KMT8/NjVuTJxe362wpEULToaHA/DIYmG7QbHjxIED8u9+8yaHChZkuYHfwJGPPybR19dx+6yXF8d03Vrbhg7loia+KC02lqtCuPytZhYuzFldZ821NWu4IQTp6ek8ePCA+0KQ/DvnrOYC2MTk2fLnLYAHDpQXGiPtz39KnTrw0kugGCT07NmTKlWqEBQUxKRJkwCnu2FGuhYTk/9vzp49i7e3NyEhIRw5csTteGpqKsWEwBYYCMuX86hIEbJr2qjsdjuZlTgIR1seQK5c9CpXjrlz5zJjxgzGlS4tXYT1hIezZ8oUgoKC3DVwKmp79K5dnqs3IDe3hHDqlT0xbJjpJv2fMn06qAvKdevcW9EvXwYhuHXtmjopkqYvxYvL8QDdunGpY0dy5szp+LV+/foxpl07qWUEaNGC1XXr0lMbn4Q05ykslDgZIWjdrJnhaW7atIkVwcEgBP07dPD4cu7du0fxHDl48uSJxzGPHz9GCMH48eM9jjF59pQqWJAZep2tliNHuG+xcN5i8byBNncuMT4+NMuWjXue3OZ37yY5KAghBAk5c8Lcue5jJkwgqXJlrFYreXLnli7Mel3qvHncK1+eHDlyULduXU7UqOHuf/D991CjBsuWLZMu4xcuuJsALlgAVasSFxeHEIJNmzbB0qWgNXDq0UN2ZOjJlQt272b9qfVcXTIXFEfgL7/8klnaCl/16lIyIoSLG7QRd+7coX379mTJkuU3q8Hvv/8+Xbt2BSA8PJzdu3e7jbHb7YSEhHDo0CGio6M9ZhCvX7+eYsWKERUV5dHg6uHDh5RTrg0v5Mrl8byG5ssHQrBQeM7cnVexIieLFOFKQAArVPNHHfu6d2df5sxs7dCBQx7aqZfUrk2CsrFww9eXjcOHu42JX71avvepqewvW5aVpUu7jfmlTx/2azZ+D/v7Ez9okMuYTd26kajNKz97llQhOKSJipsbHs7Zl192+b2n58+DEFy7cMGpIzaSBxhgLoBNTJ4tcgGcnJzxJ3H9etninBHt28sLjWITb0hKisyxfJxB6/PFi/JLT7lIpKWlkSNHDrZt2+aopr377rv8/PPPUrNjYvIXJjk52bFgueZBI1/A319+dqZM4daLL1KkSBGX41mzZMHu5eXYXLr98BZ2Pz+aFS3KihUr+OGHH+hXrJj7osluB29v1kyejBACe61a8O237idw9658/qtX3RfaWm7dksc1sQ6G9OolNc0mv58hQ5xZz0ePykq8dgJ84ABkz05iYiKZMmUiICCAhIQEqF8f1Al38+Yc7dqVUqWchmnjx4+nS/Pmzgl4rVp8U7u2myGb3W4nV6ZMIAQpPj6OybWe/fv3M0MZN0Sbqfpf4ufnl2Gsismzp379+qzP6Hv7yhUQgscWC3jIUWXlShL8/GgqBHfUbgM9x4+T4uODEILLOXIYb8bNns3t8uURQlC1ZEn5f6vf5F69mqdFi+Ll5UXRokW5Xrmyo0rrYP16KF6ctLQ0rl69KqvIOXK4jlFM4+7cuUNISAh37tyBadNA1e+Co5XahfR0qb0/d07ePnZMSrWMFqyhoRAXJ+UNcXHG74uOVatWERERQbNmzTxWUYsVK+boiKtdu7ZhdffGjRsOZ+chQ4bQvXt3w8f6+uuvadCgAe+//z7veFiQnj9/nubKRmxxTYeJnlGKP8A2q5XjHrqAvitcmBOVKnE2e3aWeDCE2tWiBTsjItg5YAAnPcQzLS1blsPKgvZCUBBrdJt6ADEzZvBQaW+Or1OHtQZmb3vatWOXxgV9T7Zs7OnY0WXMhubNOajZWLx+9TQIwc+aVukfg4K4qN8UTE8nTQgS1q3jwIIFPNHoiH8LcwFsYvJskQtgD21NDrp2lcYsGaHkQ/L5557HHDokx+hamV2YPNnF0GLLli1EREQ4WorOnTtHkSJFyJUrFw1/ayJuYvL/jN1ux9vbGyE8Zx7mzZlTfi569OBszZpU1Tkx58uXj9TMmR3RIh+ukkYzZfPmZdu2baxevZqoQoVkVUKLYujyzaRJ8vmbNJGtgXrOnJHyBZtNVknUiZ2eU6fkeWag/QRkhVjVnJr8PqKjQa3Q6I14ADZuhKJFiYmJ4bnnnuOFF16Qmr4OHZy/V60a27p1o67m+jlv3jzq1K7tnLCXLMmYKlUcnTRaIvPnx261cjcwkAEGRi1JyUmMWDGCEULwxNubcePG/eGXHRERwUK9yZHJ/xS73Z6x9lTVmmv15np27OCKry/RQnCrZEnjMcoGm48QJGfJItuN9SxdysPixRFC8Ga1asbRbbGx2PLkQQiBj48PD8qWdXdN37sXtNrYjRsdVVoHGt3906dP5X3DhslNepXp092lJYrpEmp3g/p51S/U1Q3D+/ehVi3jnHYP3Llzh8jISL412LBMSkrCy8vL0f3Ws2dP+vfv7zYuNjbW0Q0yffp0GnuQLAwfPpzOnTvz6aefukkjVOLi4hisdH7UFMaRQ3a7nQleXqTmykWCjw8xRn9fYEFEBCcaNeJ4vnws8qA9j61Zk62FChH3+edc0WhotawoWJBDSkvziRw5WNm6tduYzSNGcE1pb97fpg2b9JsgwK5Gjfg5b17H7e158hCr+5uvr1WLfYovwt3Hd8n/eT6eWiys1hhCrvHy4pqBP8ZVb2/2TJjAzpEjuaRptf4tzAWwicmzRS6Af8vV9dVXpZlORhQpIjVsul24pOQk540ffpBfCC1ben6cWrXkl45Ct27d3ExS7ty5Q506dTLMozMx+asQFhZGNk9tgcjd/NSAAKhenfh69dxiYUqUKMGDXLkcZjAPTx/HZhEEBftz8OBBtm3bRr08eWR8h5azZ8Hbm4/HjkUIwYPWrZ2LJS1xcaBoqVw0pXr27pWfX12F2o2GDaWplsnvp04d14zSLFnkhqHKd99BrVqsWLGCsmXL0qBBA6nX0xpmFS7Mwi5daKtpP1+/fj3FixeXf999+yB3bnqWLWuYQ1q1alUeZ85MUkgIn376qcsxm91G3W/rErUwineE4LqPz59Sua1ataph+6bJX4snXl6OVlJDjh7loZcX7wrBLU9zhcePQQhChSDFz8+4mrxlC6kFCiCEYECDBk5jOC3Hj2MPDMRHqSanPf+8e+fZ6dOuZlbz58t2ZC1GbdHdu7ua/C1dCuXLu/7eoUPy86klOFh2bmiJiXGaCvbqBe+/7/5aMmDevHlERka6bZzOmjWL6prXMnXqVJoY+D/MnTuXmsrfYtWqVdI4z4DOnTszfPhw5s6d6zFWcu3atXwTGgpC8IbFwjmDTdL79+8zVwhS6tblho+PR0OtZSEhnI6O5nDJkizWaWZVdpUuzaZy5UhYupSHQhifU0QEh5s3B+BI/vysMMioXt+zJ2cVF+bDvXsTY+BxsatKFTZruqc2FytGbJUqLmM2lirF7goVSLel02h+I5ouaMot/0wsfvddQMo5YoUg2UCHnBAczLaePdnSoQNHVe+G34G5ADYxebbIBfDAgRl/EitXdo9h0RMcDO++61K9XZqwlKCPg5yL4CFDZM5opkzGeaQ3bshKhWIskJqaSvbs2T3uJJqY/B0oWrSoW1uzlipVqvAgLAyyZmVDgwZ01rXcVa1aldsFC8KiRfKOAwdIzRKCsAg2x28mPj6eYtmzywmqWskAubANC2PAgAEIIbgVFQXvved+Akp1EZBGWdu3G5/ohg3yOdTFsicqVjSeuP6buXRJXvs8VdqKFJF/B5VSpVxlJxMmQOvWzJo1i/r16ztzpadOdTrMZs3KxPbtXdoY4+PjyZEjB5QsCWvWgL8/TYsUYc2aNW6n8Nprr3ErIoIjWbK46hiByXsmU2ByAe49uUdHHx+OW60sUv8fTf7x3A4M5KGPj+cBikZ9tBDcadHCeIzdjs3bm2JqNdlIEhIfjy00FCEEU5o1M95Iu3YNhOC58HCsViv2sDC5uaPlzh35HA8eyNuTJ0tDKy1GxlivvuraJRMT45q1DcbV5KJF5fVRy6xZzvnQV1/9x7KQtLQ0ChcuzOzZs13ub9mypcvm/+bNmylgMD8bMmQIXZRqdnx8vIu3hBZ1M03VAhsxd+5cNoeHy4zfoCD26d9vZHfeeiGwv/8+KRYL3+jOW2Wjjw8XBw7kUI0aLPewUbqvQAF+qluXi3FxIAQ2Ay+BzZkzc1R5fQdKlGClVrutsKZ1axLCwgBIHDOGgwb/w3uKF2djpUqO25uqVGG37n3YUqAAu+vXZ9DmQRT5ogjJT5K5EBrKfKWYc+nSJU4KQbqB0/bePHnY0qQJm+rWZa8ufz0jzAWwicmzRS6A9RoXPZGRzhZJI+7fl18kK1Y4HBRXJq4kYGwAq09oJnHNmknnx9KljbWIs2bJ2AGFjRs3kjt3bmyentfE5G9A9erVpQuzBxo1asQNxTxkTr16bu2nDRs2JKlYMVAjvzZvxlawIEIIyk0uR0JiAiF+fu4tihs2QNGidOvWDSEEF7t0gU6d3E9gwQKngVbp0sbaPJAdHBERrpUVI55/Xm5k/U6t07+CxYvl3+f8efdjdrvUEGpzOl95ReoRVQYMgF69GDduHG+88QYjR44kOjraadqTmiqdmVu1YtSoUY5fS0pKwmKxYK9TR3bWCEGJiAh2afNQFXr16sXpvHnZnjkzy5cvd9yfcDOBgLEBxFyUG5EVwsPpIAQ//fTTH35bTP4eXMqRgxuaPFM3Hj0CIbOC73nQjwOkZM1KE3UBrN2sUzlzBruPDz7e3ixq3Vpupul5+lS24hYpQs6ICGOjLH3u+dChUsqlxW6X1zKtU3mlSs6NRnCPRQJp3qXP3tVo8Xut68XupN3Qr5+s/IJcSNKKFycAACAASURBVGdgHuWJH374gXz58jncp1NTUwkJCZG5xgqXFWf4xzpvldatWztkCtevX0cIYWhKV6xYMdavX5/hInn8+PEcz5EDQkKYnT27M+ZJw759+zjk7S07WYTg89Gj3cbYbDZiheDm1Kkcbt6ctR42Uw+EhbG5TRvuKW3k9wzc5Hf5+XFCMSiLr1aNNQabzKvr1uWgsjlwYe5czlosbmN+yZePjRrzqk1Nmrg5T+/MkYOFDauQ+ZPMnLh1AoCTkZF8r3yvHzx4kF8tFsPuqR1lyrC1XDm2lijBToNFuifMBbCJybNFLoC1pg9GBAV53rEFOHEC/PwcO7PrDi0hYGwAy48vdx1XqJDcPR03zj3mA+R9GkfQTp060bdv3999wTAx+SvSvHlzXjPIH1R54403OFu4MAjBqNq13dpPW7duzfEyZeCTT+QdCxfytFw5hBC8MPUFBi4fKE2u/P0hMdH5i/PnQ40atG7dGiEEx3v0AKPqzLRp0LSp/LlmTePNKZCxIVWrymtBRkZ2ajX6z3CX/6cwZIhzk1BPcrI8pjUjfPttuehV6dgRRo6kf//+vPPOO852xd275cRa0Vc2bdDAJfv8yZMncuLbvLns0BGCoEyZOHHihNtpjB49mj358rE0MJDtShdASnoKZWeUZdBmpytq6dKlEUIQ9ztNfUz+/jyoVImHHvJYAbDbSfPyYrcQPDHK91V4mj8/vYUgXS/XULl9G4Qgf1gYW9u29Wy4FxhI+woVqFm6tPtnRyVbNmkeB/DWW6Bz9gUcbs4O9B0w6ua+Vo//ySfuTvidOsGIEQBM2TuF8M/CefxyHXnNBKfR4O90AFZJT0+nWLFijs90TEwMoaGhLkUBu91OcHAwB3WLrzJlyrBMMWmy2Wz4+PhwxiClQ00oSEpKki3lBsZb/fv351ZICNSpw8bwcOYaOHivXbuWa97eEBNDusXCuLfechvz66+/clwIHi5fzrFu3djiYVMlMTiYbb17Y7fbuS8ElwzyxA9ZrZxXqvXxTZqw0SDDfk358sQrpoC3tm7lrnDN7gU4HBrKJs3fc0vHjhzWSZb2BQbQubI3a086F/7HK1RgvtI5tUXtjrp82e0ctjVsSGzevOzOlYsdHvKgjTAXwCYmz5YQIQQ3ypb1/ClUdnbx9XWY8LixdausEtvtpAYFUPGdTCxJWOI65vFjuSN76ZLU3vj4SJMIleRk+RynTwOQkpJClixZTH2Yyd+eLl260EPVaRrw1ltvcaB4cRCCzpUquTl6dunShX0VKjgXRNOnc69mTVkJuPILM3fNRAiBLSIC9uxx/qLS9levXj2EEOx9+233ygXAqFHSTAlkC6AuA9FlXLt28nrgKatSNdISQn7OTSRNmshK1UcfuR8zcpEdN841SqpxY/jqKzp27MjIkSPZunUrBQsWdOoYDx6EkBAqVKjglpceEhLCrXbtoEED7JkzI4TgphIxp2X27NksyZuXz318OKroGcfHjqf0V6VJSXdOGuvUqYMQglMZZPya/MNo08Z401rDg+BgrgmBTV30GZBSrhyThCBN46jrghK1VrNQIQ62bes5cu255xhcqxZdateWnyujbpPnnwc1e711aykj0KNKA0A+hn4T0ei+d9911/NqzLPsdjvdV3fnYg5fHq3TdNPkzu05RurpU48dM4sXLyZ37tw8efKEDz/8kHYGhqQVK1ZkwYIFmtO2ExQU5BK9ly9fPnbonl9dZN29e5enT58ihJCu2To6RkeT7uUFAwdyKDzcMLps3ty5pFgscPo0DwIDGW0QpXb27FmuC4E9Lo6Tw4ezx4Mp1EVfX3YrFeRLViuJunZqm83GOSG4sUTOMw9ER7PNQF+7/vnn+UWp0j49cwaE4LpukXoyKIifNbKRnQMHclrnPH3c14cFfd50uS+xUSMWKf/HK776ymNXw85u3TiUOTNHgoPZpfOzyQhzAWxi8mwJEUKQZOCM50CdYJUpA8uXG4/5/nuoXp2U9BSO5PUjdqJB1fbAAQgJcV7kq1aVuhiVBQuk7k1h7dq15M2bN2N3ShOTvwHbt2/PUMc+aNAgtiqRH7WKF2eVrgX5vffe46eKFZ0xOaNGcb1hQ55T2rRsNhtCCFL0ZjDKpKy8EivyU69eYLTZ1bevUxvcvj0YtK65jAsKcm3X1aJWM318PJtp/RvJnVtuLuh1iCC7YvTtewsWuMhBqFABli3jlVdeYfr06Zw+fRpfX19sirEQ8+dDwYKGk9xChQpxpnNnyJuXtLx5PVZ51q5dS9lChQgSgivKBsfDlIdc+NV1I6NNmzZSU67dwDT5Z/PWWxAVleGQOxERzv9FD9jq12d3WBg2T07RAEFBbP3iCx717u1sIdZTqhRfNGjAmFdfBUXj6Ya2nfmll8DA+I3atZ33e3Jz1leFW7d26VQD4OuvXTS+qQ/vk24RRE2pTZpN+ay9/LKLwafbeXhwVbfZbJQqVYqpU6dSvnx5vtc7XgMdOnRgmCYL+ZqSF/7o0SPHfVWrVuWHH35w+b3jx48TEBCA/fp12LmTzJkzc0hrvqfwhprysWQJl7Nl4wODCLQpo0Y5On9uh4czSpdmAPBLXBypQsDZsyTNmEGCQUsywF2rlQPKRvBxPz8O6Mwbk5OT+VUIHioFkiPvv88eg7ikTbly8YtadVWKOad0RZUkX19iNd95cVOmyEq2hksWCyd1Ve9TnTqxWqlg/zB4MI88uFXHjRvHRR8fLnl7s9/Afd8T5gLYxOTZEiKE4Kafn+dPoWKkQ7NmxhEqIC/cin1+WtvXYexY9zHz57tO6KZOdXWWbtXK0UIEEB0dTb9+/X73xcLE5O/KuHHjWFyyJHh5kSdXLjd95vDhw1n44ovyMwLQpw9nmzWjpGYSGRQUxKMyZeTCSeXtt2HgQAoWLEj27NlZ2LOnnMzpiY52Lnp79waDSA1AVolHjZI6/9hY4zHnz0v9b4EC8PPPv+8N+KejxqEsXWr8/n/zjcMs54MPPpALy9hYp4MsQN68EBND5cqVWbRokaO1+dq1a7Ll/IMPoHJlAgIC3PI3q1atSlzXriAEj4oVI3PmzIanuX//fry8vDxqBVV69uyZYayXyT+QJUukE3kG3FJkHKxb53nQ669DiRJyweeJPHlg1y6p2dUs6lyoXZtTQ4eSMGGC08BPj9I1AchKr4FulVatpC8JGOt9wV0XXKOGe+zS+vWuOexHj2IPDKTE9OL0WNNDbuT37++WkgFInbIQcp7l4XO3YsUKQkNDsVqt3Lhxw+34p59+Siv1+wHYuXMneXTmXW3atHGr3G7atInChQvDpElQujSFCxdmk0G7cfuiRXkaEgLx8TwMCKCjLicXYHzXrqQq3g/XixRhtIEmd/OyZY5Nhjvr1nFFCGcElYrNRroQnFLOIz4khL269+3CuXPYhMCuaLxPjh/PEYMF6M4sWdiv8bh5LAT7f/zRZcxdq5V4TYX52LJlPNI4T9tsNh4IwWW1m0Dh4rBhbFOec250tEeNfOLKlTwRghQhOJVR3rYOcwFsYvJskRpgITxeeFm7Vn5h9erleWL87rvOCtJHHznbKbUMHuxqQnH9umxdunRJtkcHBMDhw4DUrYWEhJgaM5N/BTNmzGBasWLYc+Ykk4E+c8KECXxZoYLTUTQqioOtWrkYa+XMmZO7Vau6VhjatIHx48mWLRvlypVjevfu7vEdIA2Xpk9n7dq12IcMcVaa9TRtKvXC2rZBPWq2ZvnyoOjP/vVs2SIXvupCWF9hGjkSoqOx2+34+PjICWhSkpSMpKbKCXmmTHDyJIUKFWLr1q2AjNfat2+f/Hs0aEBa48aGldnmzZuzpksXEII7FSoYOsYCXLlyBSEEAQaVFC3Dhg0jMDDwv38/TP6R3K9ZU/5/ZyRb6tFDftdn4IlAyZJyEd2yJXz+ufGY116Tx5TuM0OiokB1S86ZU8a4GZ2PYqRETIzDxNMFvSykUCFna7XKkSOyw01lyRIoX56LyReJWh7Fk7QnstJsZIY4cSLUqyfnWR6ixex2O+XKlaO8PpJJYfXq1TLuTOGbb77hJVXucvMmJCfz3nvv8a4S26MyZ84c6tSpA507Q2Ag1atVM6wwd8+RgwfPP+9w+25ukCn8cePG/Kpsrl2rUoVPtDnMCqumTCFNCLDbSTl6lCdCcE3Xcp168yYIwTXlezA2IoJYzeIe4OjOnS4u3xe/+47zRgZX/v4c0aScXPf2JlYb+2m3ky4ExzUL0wu//CKdpx8+BCBZOZ/7ijxP5facORxUNgJnN2jARQ9t/TfOnnXkaN/6D2RB5gLYxOTZEiKE4Fch5ITLiDlzSC5fnnM9ejiqvG60bOnU1+hb91RefRX7xIksWrSIXbt2ydacevXkxX/VKihY0LHzumrVKgoUKGC2P5v8K/jxxx8Z8MILpL/4IkIIbt++7XL866+/ZmSZMqBmJjZqxLbXX6epalwFFC5cmKt16rh2X9Sti332bKxWK82bN+ejzp3lokrvql61KrYffsBisXC9Xz/Z4mdE9ery812zpnsFRGXLFqm9q1cPPMRgANJcZuFCz8f/SUycKDtowFgH2K0bDBnC3bt3EULIjN70dFlJP3/eacTz669kyZKFw8pGYYUKFViyZIlsrQwP50GbNlitVjfX/O7duzOjQwcQgqRq1ajgwYk0LS0Ni8XiaK33xOTJk92qSyYmtG8v/091HQguDBwox2TgFE2NGtJx3lPbMjirw0bxRip9+kitrt0uJRkGBlAMGSKzf0EuWo0+G8rn04GRBEQ1uVKN/0aPln4JWuLjZc66UYV51iz5WgsX9pi2cfToUYc5nZ7Tp0/j4+PjkDYMGjSI7urratQI+vdn4sSJtFRie1RGjRol3eQrVgQh6NK4MRPViriG93x8uP/SS5Cait1i4ZUyZdzGfFyhAtfz5gXgRrNmfG6wSbZw4ECSVd2vYniWuH+/y5hbcXGkC8ETpX3750KF2KnrGNi7YIFjIQ3S4OpXA4OrRC8vTmjajs8GBPCzprPQpkh2kjRa6WTlvO4pum81ismuq1Sn7tjBZUUz/U358pzRR2MppKenk6zMs/+TRBNzAWxi8mwJEUJw0cfHs8HVJ5+wr2BBplWt6oxK0VOlirP1Mj7eOAO0YEEufP01Pj4+hIWF4eXlxfA8eTgXGsqRcuXYW7Mm48aN49NPP6VatWoM/K1sYhOTfwgbNmygRNGiJB08iNVqJT093eX4jz/+yNvFijmzuCtWZGnbtkRpNHnly5fnjDLROX5TmYCWKcOjH39ECEGfPn14OyrK2DH1hRd4sGwZQgjODhrkOa+yWDEZrZSRUdbixXIy1bo1aHfa3V80ZOQ98E+ifXunvKNJE/f3rnFjmD6dxMREhBCMVTcx8uWTi+UzZ8DHh9SUFIQQXFZMXF577TUmTZokHWiF4Gp0tMz81TFs2DAGt24NQpBQqxYNMsgjDQsLo3Tp0hm+nPnz51OiRInf++pN/i0oLuMe0yJAOigL4epwrqdpU9nJUrq0axa2FiUWTGs+5cbIkbIbzZO2F+TmlLoonDZNdsPoGTrU+RxG2cEgF2IBAc7Ff7t27l4Kjx7JDUitgaBqCHr7NqSkyA2ylSuNX08GpKen4+fnx8mTJwGZFfzZZ5/Jx/X2hrp1WbhwIZU0ebcgN8c+HDxYmvB5eTGxWTO3GL6HDx/yqRA8UVqJU7JkoZlBpNOn+fNzRfGYuPPWW8ywWt2KGN9FR3NVrZSnp4MQxOk6hc4vW8YtTQvylvLlidFdk7ZNnMhdTcvzk5MnsQnBTW0MIHBZCC5qNlqPZM/OT5rvzfsJCdiEIFnj8h1/JZ5kIbi4XrbyJyxdygPN+Tg4fZoUITh86BDzIiM5aaB5Vjnp5cVJDxphT5gLYBOTZ0uIEIKDmTJ51u289x6rIyPpXrSo1KEh23FG7xjN6B3KBT5vXmdVQ/2y0VaxlAv/vLFjqVevHna7nYsXL7Lq229J8/LiiZcXw+vXp23btrRt25Y333zT0K7fxOSfyJ49e8iVKxfx8fGEhoa6HV+3bh2vFSzobF8uWJCv2rSht8ZRsnbt2hxq1ozHHaMI+jiIn8/9DHnycG3pUiwWC5999hmtW7aUhnb6NqywMC6vXIkQgkNDhsiKhBEREbBvn1MLbMTMmTK6pHt316qJnu++k+fyb8j4LlXKaSA4ZIhsN9QfX7WK7du3I4Sgl2r8o2oNd++G3Lndsjz79u0rY+KUiKXjXbtSTKtDVPjiiy9o26gRCMGul16irdZdWoPdbie8YDjVanrY6FS4desW6zLSeZr8OxkxwnO+r4rqluvB8AmQG0Zjxsh5hSevATWKSB8XpkWNdzt71nMu+bffOvXInhbTX3zhXBh70gmDrN6q+tny5WVFWU+hQqDNz54wwXXDcfx4z4UGPXY77NzpkK+VLFmSlcriuVSpUvLnWbNk1Tl7dmJjYtw6Nxo3bsz3o0bJRXL16qx69VU3fe+5c+dYYLFgUzbmHhcuTGuDGKvJ2bJxRcnTfTR6NIuF4P79+y5j5jZqxHlNq/A9q5Xtug3BhKlTOefl5bi9uV499uhkGxsHDOCS9hyULpkzmkLOkydPeCQEtzUGlL/kzctGTbTW1Y0bXSqzSclJ5JyQk/NWCyeVXOf4KVO4YrR4VarH21eu5MfQUE556kQA9gQFsScoyONxI8wFsInJsyVECMEmPz8Z7m5Eu3Z89dxzlMmSBby8sKWl0u+nfkRMiODojaNyAuvtzfktW5yVC30cy/79kDkzrVu1YoyqyVFp1kzqc/4NE2ETEwOOHz9OYGAgP/30E0UMjENiYmKonCuXrB6kp0OWLHzUogVDNXmbTZs2JaZFC2jZkmn7ppH387zY/f1JXLGCLFmyMHv2bFn5y5oVtC6fdjt4e3Ns9WqEEOz88EMwauWy22XW96lTrq7RetSJ6cCBxoYvKhMnyonwP91JOCVFVnjOnZO3Fy92trKrZMsG+/ezaNEihBA0VydS7drJlvYVK6BsWY4dO0aQZhI1ceJEmS89bRoIQUy3btSqVcvtFBYtWkTlSpXA15c1L73kXGDrmL1/Nn5F/Hi1xe/PqjQxcTB5sowMyogff5Sf+6+/9jzmnXek30hQECQkGI9RN9ratAFdbrqDBQtk2sS+fRAebjxG9TgBz5t2ixfDiy/Kn3fudBQC3KhTRxra2e2yoqpEibnQvLlrHFPFiq5SkeRkCA7OWEcNssDQpo18L5UW3zZt2vDJJ59gt9sJCAggISFBSlHGjAGrlaTdu/Hy8nLpMCpVqhT7hg2D4sWhe3f2N2hAI13c1b59+9jj4+OQvTytXZtuBuZVX/v6cqNTJwBsc+fysxCcP3/eZczcihU5Xbiw4/blTJn4SZfPvH/wYI5o/o+2tm3Lfl1ny7pOnTiljT2y20kTgsOa6vm1CxdACJ5qNnz3FC/ORs0G75k5c7ioaIfvPb1HyS9L0n11d475+XFIiayLHTSIk0b/13Y7qRYLayZNYpW/P+cz+L7blCsXmw2q5hlhLoBNTJ4tIUII5nl5ed6RrV+fQaGh+AiB3WKh+4wmFJxSkNN3FEOAGzdACGZOnoyPj4/c8atZ01W78/332KtWJUeOHMTqd3R37YI5c/6jC4OJyT+Jq1evOrSf1Qx2/w8dOkSezJnlZEcx5OjRpAkTNBOpN998k7UtW0LdutjsNprMlrEVsStXUqBAARYvXizb3woUcI30UHbOd6xahRCC1UOGyA0pPWoe+O3b0ujOwAUUcLYm6nNs9Qwe/Nt6wX8CSj6vo2J06pTcSFAdlNUYo+vXmTp1KlarlYoVK8pjgwdLkx5lsr99+3bya1yklyxZIvW8y5eDECzt2tXFCVZl27ZtREZGQp48fFOzpktcisqJWycI+jiIBi0bZJhZbWLike++M752aNmwwRGn45Fhw6QzfUbt1EuWyMVj3bqevQZ++klu5q1bJxd4RuzZ4zxnT9IO7aJ30SLPHTIdOsi260uXZHeLUSV86FBSo9vReWVn7hzf72x/1tK/P7RoYfwcIBftERGyePDFFxAZCenpjBgxgujoaC5fvozFYuHJxYuyspuUBEWLkrpiBUI4I84AsmXLxpV33pGL6c8+41Llym5GW2vXruWyjw9s2waArX17hgnBpUuXHGNSUlJYLAT3VKnH2rUkeHkRHx/v8ljfFi7MCfX6BpzKkoW1yqJZZW/nzuzTmDXu7NOHBF31dPWrr3JUt6C8a7Wy98svHbdPx8S4dSTEVqvGZs0m89GPPybBx4fU9FQafN+Al79/mTRbGnEhIex76y0AtnXqxEGDjGGA25kysahvX7ZarVw1Sj9RmFivHpNUE8vfibkANjF5toQIIRgnBGk6d0AHpUvT2s8PIQQ3g7zp/mEpbj3SVG0OHICsWenbty9CCJYvXy4NKrQ7qYMGcbdVK/z9/d1MCkxM/u08fvwYIQTDhg2jmWqWpOHcuXN4Wa3Yvbykk6kQNKlTh1lKixZAjx49mN+ypaO6eD0xHptF0HfiO5QtW5aNGzdStGhRmQOs1ZgpOd/LliyRi/BBg4yrOIr7J+npMg7NU7tX165SMzdzpjRn8oQSy+NmCPV35MIFZ+ujHr3zq83mWh06fVpOgm02PvzwQ4oVK0ZuNf7oq69klWv0aIiOZunSpS4GVvv27SMsLMzxPzG1Qwd6GlQhEhISZOW4SRMG16jB5zpn3adpTyk7oyz9f+rPzz//7NFox8QkQ7ZuNTaR0rJnj/zcK07mhkycKD8zGbVTb90q24nLlJEdEkb88ov0Gfj2WzDojABcW5r1cUcqJ0/KTSu7XV77DK7RAHz4oTTM2rxZnpsRCxdir1CB1otbM7lVHtLqGyyKkpLkOSl6Xge3bsnHDwmR1xW7XW6k5c4Nq1axcOFCXnzxRbZt20a+fPnk9UPdUG3bFsaMcTrHA48ePZKSilatpKRl5UoeFizo1iY9Z/ZsUi0Wp4nYoEF84+vLgQMHHGOuXr3KDiFIUzsJ9+7lppcXP2nbvYEfcubkpKbCfCR3blbrdNe7Xn2VHZrF7b5x47igGmcprK5RgwOaSjLART8/tg8f7rh9aOFCHuu0u7FNm7JdEy+3v08f4oKC6LyyMyW/LMm9p9LEbGdEBLsVbfjWpk3Zq42k0z5n9uzMfvVVDgnBvQzyr5ctW8bSpUs9HjfCXACbmDxbQoQQvC8EDz3sONoiIqgkBIHhgSSEB5H6o2uQOmvXQvHiNGrUiGzZstGlSxepY9FWIpo2JaZVK+r+hztgJib/BtT4mzfffFN+fnTcvn0bIQT20FCZp+3vz4svvigdgBX69+/PlBYtZDUA4OBBUjIHkallJqrUqMLu3bvlwkrvrHrgAGTPzuzZsxFCMLF/fznx1Ge8HjkCan5sRhPKli1lS55qhuWJ5s2d2bh/d9q3lxmeRrm4ffvKbGUtVao4XbS3b3dkA3ft2pWoqChnm+K6ddJ4TGkJnTFjBg01+rVr167JCezJkyAE/du0YbhmAqhy69YthBA8evSIWrVq8Z0uz7XfT/0oN7McKenm5qTJH8Bud8TSeCQxUX7uDx70POabb2QWcEZRWwcOSOnAc8/J+CIjVO2v1uhKj+re/OCB/Bwabf4oWk+Sk2HQIFAqg2589ZV0XNZqhvUkJIC/P09THpMYGcL4Li/wNM1gkd++veyyWbtWOlmXKSOryvXru3s4jB0Ldety+PBhgoODmTlzJvXq1ZPaZrWiPW4ctGpFuXLlZJECOHnyJH5+fthLl5ZdJAkJ2Pz98fXxcTGvmvbhh/L1q1GZkyezOTDQJS/48OHDnLRanRuBZ86QZrGw4AfX+eLSkBDOREc7bu8vUoTVOvOo2OrV2aKp0h75/nvu6CKO1pQqxS+6zZYTISFs0WwA7pk0ies67e4eXXV5X7t27AwNZdT2UVy+d9lx/5ZChYhVtOFbq1UjxoPD86n8+fm8eHGuCEG6p//D/xJzAWxi8mwJEULQw9+fe0ZtPTYbdm9vClmttGzdksRixRx6EwczZ0KDBkRGRjJkyBBy5syJfcUKaeyiEhnJqJo1Ga13RTQxMQEgR44cVKpUyc2BE2R7mRCCtMhI2X6cJw+FCxdm8+bNjjEjR45kWNOmUuMLjjiiln1b0vjVxhw7dozg4GDZWjd5svPBlXETJkxACMEg1clVr83dscPpQr16tXRoNeKll6SfwObNMg7JE9Wqyef56qvf8e78hbl7V2b0ZslinI380kvuLZo9ezoz1efPd1RpmjZt6vg7XLt2TUatBAU58pzHjBnj4vxts9nw9fXldGIi9OtH8yZN+OKLL9xOwWazYbVauXDhAiVKlGDt2rWOYydvnyT442BO3Drh9nsmJn86167Jz/3Fi57HLFsm/Q4yitpSOlfw9/cso1AXrr16SSmBETabfJzz5+VjKdE3Lqj+BydPykWpog11Y80amWH89tvOz7ee1FTZ8bFlC3YfH+pNLsdri14j3ebq/M+RI/K8ChWS2uSFC0HncOzg5k3IlImn+/djtVp58803GRgdLduf1XbnjRvh+edp2rQpU5VF8datWykcGSmrzadOwZMn2C0WcgpBsiYpYHK7dtzXdgUtWsSxoCB+0Cxut2zZwq9Wq9NfQnnvZ44f73Kq6319SdJ8x/1SqRJrdcZ9u0qUYJOquQbO79iBTQjsGu3yhgIF+KVePZffOxQWxkZNhN+OgQM5q+tmih8yhKOZMjlu72nUiC0Gmu6fypdnt/Idt61ECbZ7aHs/Xq4cn2bJQooQspvnT8RcAJuYPFtChBB0zpmTe2rlSMudOyAEkWFhDBs2jE3Firmb34wYQXr79litVs6ePUtwcDAJS5fKLxObDR49wm6xUCJbNmL+5B0yE5N/Cs8//zzZs2dnvG7CoOLn58eTUqUgKgpKlyYsLIxfNI6XkyZN3MiNIgAAIABJREFUokfDhk5n5UWLoHJlhg0bRpcuXUhKSpJVZP0EbvFiqFSJoUOHIoSgW9eucuKkd2FfscJp3hQT49kIpkwZmevtKQ5NpUgRqWPz5Cat8uWXxpXVvwpTp8qK7pAh7vnJdrvckNBHzM2YIc1pQFZmlHz1ihUrsmjRIkJDQ6V2TnXUL1MG5s1zuj5riIyMZKvSTlq5cmUWeshWDg8PJy4ujly5crFHa1AIXHuQQWyNicmfSVqadEHPSAq1dav8v9duoutRs7GFkD4kRtjtsgJcv75sT/ZEaKjUt3qKSgJ5vdu5U8o6Zs40HnPwoPy816mTcQZ6yZJy06thQ24/uk2x6cWIXhHtvgj+rWq6lk6doEcPChYsSJYsWdjaooVrl861a2Cx0LdLF0fE5LfffkvUiy/KDTxlcWnPm5e63t6OOCWAKbVqcVWr7d6xgxv+/kzWbKQu+v57+f5dvSrvsNtJs1iYrJHW2Ww2dgrBTc3vxTVqxEZd7nhcvnxs0jhj37l4EYTgoUZzvDUsjHjd9faXAgXYqFkUb+nUiaM67e6xadM4r3GY3lOlChsNnPM31qvHPmXDNyZfPrZrOm+0HH/5ZWar/4f6eME/iLkANjF5toQIIehYvDiPNG0hDhITSfP1pXSpUsybN4/pBQq4tjYDdO3Kze7dCQgIwGaz0bJlS8YOHy4n4klJEB9PekgI/pkyubkGmpiYSCpUqIAQgjkeDOFy5MhBcpUqULky9jp18PX15dSpU47js2bNovlLLzm/iKdPhyZN6N27N/3793d8mT7t1Uu25arMmAGNGtGrVy+8vLx4/fXX5cJ1/37XE/jmG+ei7ehR6VRqhDpRzCh6BGT7Yp06sr3XE2rm5uHDnsf8f2K3y8nsnDlw4oSsEmnyJElKku/B48euv7d3r9Qm2u3y9ffrB0C+fPnYvn07pUqVYrWaf5oli9yQWL+eqKgoNxf92rVrM1fR3RUsWNCxGNZTsmRJ1qxZ45IVamLyl2T/fvm5V+OJjFDc6xFCLqo9kSOHvCbpdO8uFCkir5ee4o1AukAvXiwX5Z6yiW/dkueTNavn+CaQLvlCOMw/r96/ykfbPsJm/wNJGAcOQEAArzdogBCC28WKyc1DLeHhzO3enXbt2gEwduxYJteoIX0hVOrW5YOsWV2KFV8VLcp57WbEqVOkWq18qPF5mTN6tNvf4l5gIJ9pFqm//vorCULwUJP7G9++PduzZXM5zUOhoWx+4w3H7fS0NFKE4MrOnY77YoODOajzO9hdqhQbNW3Rm159lXiddvfcypX8qtEF7ytenA2VK6NnU9u2HFKcp+NCQ9mp6bzRcqpDB3YLITXSnv53/kvMBbCJybMlRAhBpzp1SFcqR0dvHOVhykP5Cdyxg/vZs1O/fn1iY2N5K2tWdwfExo052K0bZcqUAWDOnDnSbTYyUrZXfvstVwsWNPW/JiYZUK9ePenC7GFyFRkZyfU6dSA0lLTXXpOmdDdvOo4vXLiQqpUrO3N+R42C6GjHoslmsyGEILlfP1cH548/hnbtaNeuHfny5ZMRGJGR7iY1EyY4K5yqIZbRxDM4WLbuqtq6e/fcx6SlyWO9e2fsFH3qlBynadn9S7F3rzSkeahcLytVcm3pXr1aanj1PHok/05XrsiW9EmTsNvtZMqUicTERBo1asRX6uOUKiXfg/h4GjZsyIwZM1weKjo6mpEjRwIQEhLCkSNHDE+1bt26TJs2DSEEt/7p0VMmf2/OnpX/86+9lvG4sDCnL4EnihSRj6XTvbtQrZpsW9ZVIl145RWp7Q0Lg7g44zF2u6ymqm75nhg7VrZBazfL/gxq1GBtrVrkFgK7t7d7y/TLL7O7fXtqKxsLPXv2ZFO1alJvrNKjB3PDw10Mm74ND+eMtgKqbEz21Wh5v+zWjft+fi5PdzM8nE81VeizZ89yTQjsigkXwOH+/YkLCHD5vROBgWzv08flvusWCyc1LdcH/PxIUB2nFXZVr+7i8LypRg326oyybh48CELwRKmu78+bl/UGZo3b+vThhOI8fTQwkN0eYv8ufvghvwrBHd1r/zMwF8AmJs+WECEE3du1AyGY//MUAscGsiJRcVVcsoQruXMTFRXFtWvXqCIENn3MQenSLG3fXlaOkMYsVquVlDp15A7kwIFsjow09b8mJhnQqlUrhBDs2rXL8HiZMmU416gRCMGj6GiEEC6O6uvWraNEiRKy+nDwIPTpA++/T5MmTZg+fToAwcHBXB00yNXBuX9/eOcdGjduTI0aNWQMU7ly0hRFy5AhTh3dw4fGk7zUVHn/lSuyDdticTdsAUd0GtOnyxgTT+zc+dfWCXfp4mqI8+WXsh1aZfRoePNN498tUkSaXCmVJXWyc/fuXbp06eKMKnrlFfkeJCVRoUIFNyfRoUOH0qVLF54+ferUDhvwxhtv0Lt3b4QQLjmgJiZ/ORTpFQaGgC4UKeI0/fNE1arysdav9zzm1Vdlu3BGDtZdukgDLItFxhx5olAh2VKdEfv3G+cN/1GWLuVB9uz0t1iwvfSS+/EBA7jUpAmFFIfqpk2bcrpMGdcc5QkTiA0P50tN9XhlQADnund3eagUX1/e0Vy7pzZpwnWd5OVK4cKMVzOWgbh9+6RWViOvOTFxIsd1RlVJPj7s+eQTl/tO+/hwUHOep61Wzui+F3bpHJ43lyrFLt3fdE38YhCCC4dkPNPR0FA2aqrNKrvHjZPRT8A5Hx/iPWRN35o1C4TgkoeYpD+CuQA2MXm2hAgheKfvOzyyWqjaLyubzmjiPKZP52j+/PTr1w+73U5hf3/sFourJi80lJGvvOLiPlq+fHkSGjSAvn2xv/IKQ4KCTP2viUkGdOnSBSGEx/bUmjVrcuTVV0EIbvXoQYBu13znzp0y+iIyUurZoqJg7FiqVavmMCvJnTs3xwYP4E7Fks5f7NwZRoygatWqREVFUbJkSaeRlZaePeUEEGSlw8fHXSesZBQ7Wn7VxbieY8ekw+vq1Rnr/BYtko83eLDnMf9f3L8vX4O2VfzOHdf4kpYtXSeXWl5/XVbfc+WC3bs5deoUvr6+2O12h24bkJUpxYE1f/78bhFFX3/9NQ0aNODy5csIIUj1oJfu27cvdevWJYuR1MXE5K+E2iHywQcZj6tSRW4gZYS6geSpagtSP5sjh2fnZpAL1iZN5GNlpF+uXRuqV8/4nJ4VaWmk5szJI29v+Ppr9+MLFvC4ZEn8/f2x2+2ULVuWe3nyyI04lVWrSMqalRFKddVut7PLauXKZ5+5PNS98HD6aBa3X7z4Ikm6zYjLlSszSWNktnnFCvn+aSrfSYsXc1kIF9fpZIuFQ99+6/JYh4KC2KtId+x2O9eF4KquW2pPx47s0bRTbytQgFiNJnhl4koCxgbwWAhOK11Fp4KC2GIgwzn43XfcU5ynb1ssJHiIOEr5+WcQgtP58hke/yOYC2ATk2dLiBCCrK9k5byvlZvrdOH0I0bwc/78fKpM4sqWLIndanU6OD59CkLQtHx55msuEMOHD2d2uXLQuDEpefLQyNfX1P+amGRAv379EEJw584dw+NNmjQhtkULEILz775LTl0nxsGDB8mWLZuzetuwIcyYQbFixVivVD+KFi3Kqve6cjjCwr7LShta8+YwZQpFixblww8/lIvo5s1dnaJBLti0Bl1hYe7mTidOyBZAlchI+Pln9xejRv/s2QP6jhItU6bICZMH/ZWD1aszrso8C2bOdJqCaWnZ0mm4U6gQKDmYt27doqU2iuWTT2SLp3I9jYmJceRvusQdjRsn26yBoKAgjh075vJ0GzZs4IUXXuDgwYNkzaAK8fHHH5MrVy6CwoPYcHrDf/miTUz+RwQHy89IRjRpImOHMqJDB3kNOXfO8xg1+i2jivPUqdKV+requ1FRMuP8T+DGwxuk2TLQNxsxbpz0HTCSORw/jt3fH6vyPZM7NFRmy2u7dI4fJ8Xbm55KZ8uDBw84LwT3dA73d4sX5wPNtfvLyEjO6WLvrjRtyjRNi/rKqVOxCSG7gxTu7N3LEyF4pMpI0tPlglL3vbEnRw5ilG6a+/fukSIE9zU5xADxH3zAIc3G8K6wMHa1aQPAomOLCBgbwMrElVyzWjmsSEku+/qyU+erAHB6+3YQAntKCulCcFGjP3ZBiaBL9JSK8AcwF8AmJs+WECEErw96nWNBQe4h8D178sNzzzFPyQ197bXXuJ85s9Pg4fx5sFoJzZrVxZF23759NAsMxJ4rFwhBq/+vHVETk78Jo0ePxmq1YrMZG6G88cYbrGvZEoTgcL9+FC1a1OX4mTNn8PHxkS3Fc+bIysjSpeTMmdPh+lupUiV+HjmS5Iis5Ps8H3cf34WaNeH778mZMyczZ86UFcIOHdyjPho0cHU2LVxYRh1p2bNHVjRVypeXkSZ6liyR7YZnzshKsifzkEGDZAxQzZrGx1VKlpQa5Yw4d05Wnv8sKlQwbs1etUqa7qgOzooOLyYmRmqwVafQ9eulflHpqFm6dCnly5cHYPXq1ZRSK+MLFkDBgo4W5+s6XV9CQgIBAQFs2rSJwjq9mxY159nnOR9uPPTgmmti8lfhueekQV9GtG//25tj770nP4f373seM26cHJNRW7LajaKpehqyf7+MMPoTaL6wOU0XNOVR6qPf/0sPH8IGDxtcaWmQKRPlAgKIi4ujpBDYAgNdr79KFFJXZWPh3OnTpAqBTRfxc7dePYZrFpvfZM/OeV0F/Ua3bsxR2ogBfhwwgHua2wBpSizWZcXQ8cmVKyAEN3UbFjvy52dH/foAXDpxAoTApvHAADgyYQKnNe3U+4OD2fv223x/+HsCxway/pTcCD6ZKRP7lI7FZKuVOAPH7hsXLoAQ3ImLAyG4ayTlAYfXxfE6dYyP/wHMBbCJybMlRAjBihUr2BIYKE0etLRsybiwMDYoF9QPPviAs+Hh8OOP8viuXaRHRCCE4J7G7MZms1E2e3YQgvu+voz+ragTE5N/OVOnTiWH4jppRI8ePZivLIB3DBhAFa3WFLhx44bUd7ZoARMnOlqh/f39SVSyLRs0aMCyjz7Cnjkzryx4hWY/NsNeogSsXYu/vz8bN27EarVif+cd97izChVcF7OVKklXVC3r1kHx4s7b9eoZx4F89ZWs3KiLRE/RIx07ypZCNX/YCLtdtiJ36uR5DMgW7saNMx7zezl4EAICjA2+UlNlO+WYMTLmSWHx4sUIITik5mRevSpfuzLmyy+/pLFyfvv37ye7qqdLToYNG7hy5Yphi/P9+/cRQjB16lSp3/bApLmTEEJQsWZFj2NMTP4ylC4tN8oyYsiQ39bSjhmTsbszgKLjRMnHNUSpCKIswv4X3H18l+pzqlNldhVuP8rAVOs/4cUXeT9XLqZNm0aU1YrdwAH5QWgovZWF/v41a+Tr1nXw3e/YkYkaP4FFmTJxSacTTh45kqUar4rvOnTgmtLN4kBpdz++SUrvbuzeTaoQpOrazLeWLs0ORc97fPNmQxPGU/Pnc11pWwZI9PNj4we9CP44mC1ntzjuP5A5M7Hdu4PNhk0Ijhnow1NTU3ksBCemTCFNCGyefBPsdtKtVq6//bbx8T+AuQA2MXm2hAghiImJYZ6vL6jGKyrVq9MjMJD9is5t5syZbA8Pd7ZCLl7M/aJF3doxATpGR5Pq7c0eHx9T/2ti8ht89913vPDCCx6P9+/fn8nNm4MQLB8wQLo1a3j8+DFCCJ5ERcHQoRASQkp8vEvVsFWrVnw9bBhYLNx+cJPnJj3Hg9AQUrZvRwjB8ePHpbnWoEFSG6xF1RarGOVhzp8PNWo4b7duDTrtGCAdqtu3l5NSX1/p9mzEyy/DgAGySuyhMu4w1Kr4Gwu76tVlxfXPMIB6+23390dLnz6ycq1xF50yZQpCCFauXCnvsNvlQlmZ1I0YMYJOyiL+2rVrMrJKM+k8fPiwR/1u1qxZ6dixI8215mYakp8kk+u9XAgheNOTKZeJyV+JQ4ekW3pGpKZmHIEE0phO25VixPLl8hqi74DTkpgox2icj/8XPE59TPOFzSk6rSgXky/+8Qfs1o0F+fPTvn17poWEGLZr3y5blg/DwgCImTiR2zqTKoDUUaOYLwQ3btzAZrOxQQhujR3rMiZt7ly2a4z55jRuzAXNpqBKstVKvBIJdXbhQm4K4TZmS61axD7/PADx8+ZxX7PQVbm8bRtPhHB0UV22Wjk2YwZX7l9xGbc7Z052tGiB/ddfpSGWh4r9FYuFXzp14qbBc7kQEQHTpmU85r/AXACbmDxbQoQQJCYmMkYI0nUXQ/vzz1NPCC5fvgzAli1bmJU5M6jh5pMnc6FsWYetvpbFixdzzMuLr728TP2viclvcPbsWaZl8CU6atQohjZtCkIws39/2urig+x2O15eXvzarZt0axaCm4cPuyykOnfuzNhBgxxV191Ju3nsLfhlzXyEEDx8+FB2c4wYIbWsWrJmlZNSlbZt3Q2epk6Vjqoq3bsbV2jeeQfef1/+nDs3eHC+pnRpWWUWQlZMjdi7Vx4PCvJc5bHbZZ6uEK6v4b9hzRqpT1Tayg1Rc0wHDnTcNXjwYIQQTNZqq+vXdzhyv/XWWwxSTMbS09Px8vLinKYNcOvWrQ73Vj2lS5emZMmSdOvWze2Y3W6n5aKW1JxUEyEEvXv3/k9erYnJ35ulS0GJaPTIjh3y86ozmHNBjXUbMODPPb/fQbotnR5repB7Ym6O3jj6xx5s2jQO587N888/z85s2dy9HoBbrVvzua8vAFvffpsTRpnvc+ey3cuLY8eOcefOHeKF4PGCBa5j1q/nuNXq8C34pmJFThvINJJ8fYlVUkKOTZrk0sassrVlS/YphZbYceO4omulBrh35gwIwT1lw/e+EJzTaZcBtj//PNtr1uThsWOkC8GvHnw3En182Fu1KmcNnsuFcuWMpT5/EHMBbGLybAkRQuZCvisET7RZb4Atc2ZKaVpYLly4wHsWC7ZmzeSADz5gd9my9FDjUTT8+uuvTLZYGK1tiTQxMfmvmDx5Mt1efhmEYGSfPryljd9RyJIlC1ffeUe2HgtB4uHD+Pv7O4737duX9/r2lcZL589Lt2YhOBkb6xjn7+/PtTFj5GOoqJFGSUnO+956y+kKrTJypGvG8MCBsvVYzxtvOA1uypQBtSqqR83cDAuTC10jFiyQExC9mYuWS5fka65Z013m8Xs5dw6aNoVs2WTLZEbY7VL/vGKF466OHTsihKCv4mQKyPZMpeumRYsWfP75545DefLkIVb1WgAWLVpEZYN2RYBXXnkFLy8vhhhsNly9f5Uqs6tw/sZ5hBAubv0mJv94UlJAp191IyFBLm4VqYghareK5jP6v8Rut/PRto+YujeDNu3fQ2ws9wMDZWdQYKC7jwNwb8QIlikbp5tfeYU4TbSQgw0bOOXjw7Zt2zh58qR0ctZcrwCIi+Om1cqOHTsAmFu4MCcNXLsTg4PZqrQQ642sVHa+9RaHFUOtn997j9OBgW5jbIop66W4OJ7cvy83gQ1SCLZWqMDOkiW5vnEjdzQVYz3xgYEceO45Dhs8lwsXL7omo/xJmAtgE5NnS4hQ9Lud/P15qN0pTUkBIXhB4+KXnp5OGy8vnpRUYlTatWN+0aJMnDjR8ANcp04dxuraYkxMTP5zvvnmG+rVqQOzZ9NTUy3U8txzz3Hm/felw3JQELt37yaXpv1v+PDhMl4nWzapY718GYRgT0yMY1x4eDinP/nENRNTrX48eOC8b/Bg1wxckK2/Wu3wuHGyUqynXj3nIrJ+feMFZVqaM3OzQgXPesAxY6BdO5kJ6inrc/16ado1ZgworqCGpKfLyu7Bg7It++pV+drHjJGa3y5djN1VjUhLc6lIN2zYkKJFi9JM3TzUUbVqVRZoKigVK1ZksUZjPX36dF7xENPy9ttvI4RwWUBrUSNGAgICmDJlyu87fxOTfwu3bskNMk9eBCp58jj9T/6uKAvDAkLIa7pBbnj6ihUcEYKkpCS2lS/PdqOoukOHuOflxeLFi4mNiXHL9wXg3DnShGC5kl3+Q86cnNQVWQAOhoWxqXVrAPZ06OASZaSy96OPOOPnB8CmqCiO6jKHAWx2Gw+E4OSKFdw4dgyE4IlBdXdL/frszp+fc3PmcD6D9uaY0FDOBQSwx+C5/heYC2CT/2vvvsOjqLowgL8b0kjoNdSA0ntHuoQmSm9+UkSqNEGkSu8gTapU6QJK772DhFBEepfepAmEQMq+3x93dzO7O7MJyEqA83uefczO3J2dGZnZPXvvPUe4ly0Abpw2LUO1c2UsX47zZM9ud1HWz5iRz63lNj7+mN+nScO1lppqjh48eCDDn4V4DZYsWcJilnmuX3zxBUeMGOHUJleuXDzao4f6MpcpE9evX89cuXLZ1o8ePZr169ePns977BiZKJFdu6xZs/LIDz+QlvlWJPWzNY8cqUojaX35JWkZykZSzRHWzIO10fb6Nmyo6uE6smQD5YsXpDWxl57mzdWc5zp19Ocbk2qodt26aqhjmjTGQ6UXLFBlnJInJ3181PsDan9//13/NbGUP39+Nm/enPkNymV8+OGH3LZtm+25Y4/wwIED2bRpU93XjhgxggDsStHpyZQpE+fPn//yOy/Eu86g/rqdSZPUfekt9zQggL0APnPMAG11+jRDAR4KCeH+wEBurVzZuc3t22o6zrhxXLtggX6mbUuwPdcyzHppokS82KSJ06aCP/yQmyxZlPd99hl3amoHW/05YwZve3iQJDd++ikPZchgt/7k3ZPMNyUfb8SLxz8mT+bFjRv5HNA9vm1ffMHDKVPy5NChPOZiePO2TJkYBnCXw3v9VyQAFsK9bAFwo/z5Ga4ZLskjR/jc359lHUqQNA4KsmUFNGfLxqrx4vF8TEOMhBD/yqZNm2xJsqpWrcopOiV4ihcvzt3ff6+uz8KF+csvv9hlBp4xYwarVKmihgyvWKECwkyZuHDhQpYsWZIkWbhwYW7/4Qc17NgqJIRMndr+zaZPdw5uq1WzTwby22/6yanSpYsupebYa2x1+LAKREmVc0A7dFirfHlV9qlvX/vh11pNmqiyTmFhahij0f2qVi37AD48XPUKGSXgegmpU6fmjBkzmFgzokbLscZv+/bt2a1bN9vzb775hl26dNF97cKFCwmAmyw1h4307t2bp06deoW9F0K8Kx5UqMCTAO9qfhy18/w5IwFumzuXJ5Ik4Va9hH+RkYw0mTju22/56+DBfO7h4Rxsms0M9/DgtK5dSZLrvLx4VXNPs9pXsCA3W0Yf7i1RglscSvyR5IWNGxlmCWg3lijBYE2bladXMtHwROy7vS/PWUocHf/5Z96xBMyOdn37LU/7+/OPTp0YnCCB/jkguTFfPhLgVqPz5GYSAAvhXrYAuIllfiGfPbNc/Rt5L1Uq1WOk0alDB0Z6eJAXLzLKz4/5PT0ZEVMmRiHEv6IdzlyiRAku0hmKV7FiRa7u1Utdx5Urc/Lkyfzss89s63/99VdVPikoiJw9WwXBhQrZtStfvjyXDR+uekCtNm0iHTNUL1niHNyWKqXm5Fpt2WLfk0yqL0k+PtE9LkOG6NfyXLs2uubm6NHOSbmsAgNV8prFi1XtYz0FCqhkONZ9tGQctfPkier9dUOAGBERQZPJxOPHjxMAHzoMtQwNDSUsuRishg4dapex+YsvvuBw67xpB9Yaw0eOHHnt+y6EiNt2Xd7FnX+5SODl4EmPHiTAW0b3VJI3fX25oXt33vLy4q4hQ3TbPPL35+i6dTmvVSveNZgn+9DfnxMbNWJUVBR3AbyrM01jb1AQt3/wAUny91y5uFkn18FdS+3fsPv3uTl3bu4rXpwRURHsvrk7Ew5LyN9OqOkiRxMl4t42bXho6FBesCTychQ8YgSvennxYKNG3JkiheE52FC2LAlws+XH4f+aBMBCuJctAG7ZrBmjTKboRDLz5vFC+vROWUPHjx/P2/Hjk6tXkwCL62T1E0K8XidOnGBCSzbOXLly2Wpza9WuXZtzrD3ADRtyyJAhbKwJLjds2KCGOtepo5K5/PwzWbEihw4dykaNGpEkK35akcXrZFLbCAtTL1y0iLR8Cbh+/TqfPXumH9zmzElq9+vQIdLxC4ZlWBytc7OMhknPnBmdiOvXX/WD2/BwNdz7yhXy+HFVD9ixtzYiwj7g7tlTv2bwr7+Sr/hLf2RkJENdlGyx1vB98eIFkyRJ4hSoXrp0ifHixbNLxjJnzhy77PqVKlXiDIPkW1euXCEAXrt2jUduHmGU+d/3WAsh3g5zj86l31A/DtgxgBFRMXdGRK1cSQJ8ajRlhOSfqVNzY61ajAAYYlAe6la6dBxdqhRnV6vGy44jhKxtUqXiuIoV+fDhQx4HGGr9IVJjX/363Gt5fUiGDNzsUOKPJMPDwkiAtw8d4vbAQG6r8DHLzi7L3JNz88zfZ2ztglOn5s569fh7x448ZtC7e3T+fD4ymXigalVuzpjR8Bxsql1bBcCaH5H/SxIAC+FetgC4Z8+e/Cd+fDXckSRHj+aBjBk5aNAgu4ty7dq1PBQ/Ptm7N8O9vFjLIKmLEOL1uXr1KmHJWJk2bVru1ynD8+WXX3Ks5dd9WobMfvPNN7b1+/btY/r06dW82f791ZzZBg3YrVs32w9djRs3Zu46H5IAo25ZSg/99BNp+RJQsWJFzpw5UwW3KVPa70BAAHngQPTzixdVdmbt0LhLl9Qya7C3fLkaku1o8GA1dJlUial06kfa5iZHRqq5wp6eKru11qlTZPz40fV/160j9coJ1a/vXAc9ln7++WfW0JZ/cnD48GEmtwznLliwIJcvX263fv/+/QxwOL7Nmzczm+bHxYIFC3KFJqu0VlRUFEeNGsXfr/xOv6F+PHJTeoKFeJ/8cesP5pyUkyVmluDFBxddN756VX1G7N6RA8u2AAAgAElEQVRt2GR33rw8lCMHCfCMQZ3cq/nycVy2bJxdrBjPOeSKsbXJmpXjCxbkhQsXeAOgWedzK7hDBx6y/Lh7NHlybtUbEUTyAcDzy5ZxX4oUXFOrMlusasGnL57atdnzwQfcWaECdzdsyAOOn08WFyxlr0KKF+d6Fz96bm3dWg2BNppa42YSAAvhXrYAeMyYMbycKJEaekiS3btzdYYMnDZtmt1FeebMGf7q4UFzhQq8kygRe2hqXQoh3OPhw4e0Xqt+fn66cznbt2/P77/7Tn25GTCALVq0YF9NUHf8+HEmSpRI1eDt1MmWyblly5bs06ePbRsdv+vI554mTpxvCZ6HDLEFo3ny5FFDcS9eVAGnNbi1lgk5dy56h6zZo7XJUQ4csJ9PvGcPqZdkpH170jpfzJKQj44J9TZvtu+Fzpkz+v5l9dtvqiRR9IlUvcba7Kehoar3+M8/nfcjFnr16mUXrDpau3Yt81iGc9euXZtjx461W79y5Uqn5FgnT56kv7+/LYNzhgwZuGfPHsP3uPXkFtOPTc/R+0a/0jEIId5uz8KfscO6Dkw4LCEnHZhkPBLEbFYjYVyMWtlctSrv+/ryFsAHDx7otrlSqRKnpErF+R9+yNMGw4QvFyvGSZkyMeTAAZWUSvv5YHFkyBCetgxXPufnx10GuQ4ue3ryz/HjeThBAh7s1Em3zY78+bmzcGHuqlKFewIDddvcuXyZBHgiY0auNSgtR5K7+/UjAe56A7WfSQmAhXA3WwA8b948HkySRA2LJMmvvuJPAQFOvQ7Pnz/nSIBRCRPyaOLE/NnaXgjhNpGRkQTAv/5S9Vxv3rzp1KZnz55s27at6vGcOJF16tSxC7auXLlCk8nEqIEDVcbmr78me/VivXr1bKXMvv/+e7Zp04bhKZKxXDs/NbeqSxeViIpkmjRp2LVrVzWEGSCfWn6BDw1Vz+/di94ha/3gK1eil61dS2prg585o+beOiZQqVOHtO57ZKQKti869GxMnUpqM5TWq6cyPmv17Us6Zk8uUEAFxlbLl6teYaPs0DFo2rQpfXx8DOtJzpw5kxUtw7k7d+5s1ytPktOmTWNlh0yr2h88SFWf+bRBndJn4c9YbEYxNlrWyBYwCyHeT1svbmXen/Ly6qOrMTc2sLFDBxLgQcDwnnLtq6+4IH58/pYyJc/Urq3b5spnn3F68uTcYhl2TZ2yRKdnzeJNS8KqG56eDB6t/yPeCT8/HujZk6e9vfmnQXnNbWXKcG+2bNxVvDh3aD9nNMLDwxkK8Kq/P9fplGWyCpk6lQQY7PCD5X9FAmAh3MsWAG/YsIFrEiUirYlWPv2UPRIl4u865T/6JU1KAlzu68u9jsXPhRBu4e/vz927dxOAmofrYOjQoWrOb9q05KJFDAoK4ixNwqdHjx4RAMNGjiRr1FDDfkePZoUKFWw/ZA0fPlwlX8qalftnD6H/UH/eafAZOWAAzWYzvby82Lx5cxWUAqpOL6n+C0QPNbZKkoQ8ejT6+Zw5pGZuqy2Q1tYYJtWcY21CrcBAVbpJq0cP+1rE/furwF6rVi2VREvrm2/Uw6phQ9Uj8ooqVapEALylU1OTJAcPHswmlh708ePHs3r16nbrBw0aZFtvZTabGT9+fJ46dUo3SZZVlDmK9X+rz9KzSvN5hJScE0LwX/8QtnXyZBLgOm0yRAd3+/fnWpOJ6+LH5wWHXDFW11u04AJfX66YMIFRep8PJK9u2cJnlkD7scnEY5r7/oX7F2zzmg8mS8Y9X33F6x4ePKuXyJDktpo1GZwuHffmyMFtLpJXXTeZ+MJk4npNokFHJ9etIwH+aTAH2t0kABbCvWwB8KFDhzjV19dWksRcpAjre3jwomOvC8m+efOSAEcZfCkTQrx+AQEBXLBgAb29vXW/4EyYMIE1a9ZUwe2RI07zRq29yPfHjSPLliUrVCBnzWLhwoW5bNkykuRPP/2kMkIXKUIuXcrJIZN5s0IxcsIE2wdyrVq11AYTJVK1hEn1X70SP5kz2weuo0apnlqrqCg1J/jSJdevK1OGnDfPvk39+qoesZXjcGdS9ew6lgf67TfVC0yqYdUJE5IHDzrveyzlypWLAHTnZZNku3btbCWNVq9ezbx589qtb9++vepVd5AlSxZu3brV1nMfqfPlcdKBSfxg/Af8O1Tuw0KI1yN4925GAvzFWopOR+j8+TwIcDfA644jbyz+7tuXK0wmLuzRg48Nau4+unCBBPiP5UfUi7t381HYI3bb3I2+Q3y5468dJMm9GTJw52ef8THAawYl33Y2a8ajSZMyOEMGbnORvOqUl5dKcGUZ2aTn2qlTjAB4ITjYsI07SQAshHvZAuArV67we4BRll/EItOnZ2mATxx7ZkgOsWTH6+Xn91/fE4R4b2XLlo3Dhw9nSoPkHrNmzWJQUJDteebMmbnDodc0QYIEvDJ5MpkvH1mwILlyJT/44ANu376dJLlgwQKWKVNGBcczZ6oXlS1Lzp/PixcvEkB0bfDAwOhEKjt3kpkyOe9UoUJqiLFVjx5k27b2bVKntk+eZTarYdzaIb8NG6q5yFqFC6tyTFYnT5J+ftEJtp4+VUOwHYeL37ql5gE/fEiuWaOO41/0mCRJkoT+/v5cvHix7nrtUPRjx44xYcKEdj9g1KtXj6N0MrKWLVuWc+fOtUui5Sg0PJSXHlzSXSeEEFoPwx5y8fHFjIxy/jFN6+LFi7wIcJpewkAL8969vA7wDMBHOtmdSTJ0xgzuBji5Xj3etiS6chT14oUKfJctIwH2X9qdSUckZfk55Xn0VvTooR25cnFboUIkwIcnT+pua2/37jzj58c/kifndodRNVoh/v4kwJ0GJZ5IVZ6ugL8/Hz16ZNjGnSQAFkIZCOAGgCcAdgLI7aJtEgC/AHgI4AGA+QASG7S1BcDPnj1jc4AvypYlzWZGeXszv6+v7oU5sW9fEmAfxzIoQgi3KVKkCNu1a8esBtfdkiVLWFRTLihJkiQ8qh1+TDJt2rQ8MXUqmTGjLYBNliyZrTTP6tWrVUKmunVJy7xg5slDrlvHkJAQArAldGKBAuSqVepvS01hUn1xsNW6rVAhOq8AqTJQO2ZbzpPHPnnVo0dqWLT2i0fPnmrOslayZOThw9HPw8NVVmjrqJWQENVGL7jNkkVlhP7qK5UU7BVZhycHBQVxxIgRum20dZsfP35MALynmStdtmxZznPs3WZ07d9NmzYxu0GWVSGEiK2DNw4y/dj0zDohK6cdmsawiDDddk+fPuVwgAOspej0XLrECICPAEb98YduE/OGDTwFcHjhwrxiUCqJJB+ZTJzY+GOGAfxo+kfcenGr0yinbSVLcl9AAAkwUqdjhiQPjhnD656ePOPvz90u7us7U6RQ83utP/Ia0Jtq9F+RAFgIoBuAKwByAfABMAzAdQB+Bu3XAdgMICmAZAC2AFhp0NYWAJNkPR8fhmXLRv7zDwkwv0GNtGVLljAM4FCdem1CCPcoX748q1WrZhfkam3cuJE5cuQgqUrjmEwmXtEmoCKZI0cO7ps2TQ1fTpiQUceO0cPDg39Zygft3LmTmTNnVoFqv37qRenSkb//zvXr1xMA06ZNq5Z//DE5d676++efVbBLNRf5K2vpiHr17Ofg1qhBTpjgeGDk7NnRz/USY02eTH76afTzhw9VkGwNtK1y51Y1yq37VK6c7rlis2YquVfSpKROnoPYOn/+PL28vNi9e3e20c5H1nDsiU+ePDkPHTpke549e3Zu0hnSZy1j9csvv7BUqVKvvI9CCGH1IvIF5x6dyzw/5WHKkSnZbXM3u1q6Vn5+fuzoYogwnz1T92DAPqu+1qFD/NtkYt+AAF5w0WFyxdOTC8rk5S2TcdKt7dWq8ZSvL8MAw+0cX7iQj0wmXvPyYrDBsGyS3BwYSAI8tn69YZs3TQJgIYBLADponscDcBdAI522GQGYAeTRLMtnWZZep71dAFwzTRo+T5aMPH+ekfHisXixYroX5tGjR1kd4AiHGsFCCPepWbMm8+fPz0qVKumu37dvH9OlS0fSOYuwVbFixbjWkt2SAB+fPUsAth7bI0eOqOG2nTurUkmkGo585gznzZvHNGnS0Nc6MqR2bXLcOPX36NFqTi7VnNYqVaqo5a1akb17R+9AiRL2ya1IskED+7m8O3eqOcBaa9aonmKrI0dUgi1HDRpEJ/Lr3Jk0SM7CWbPIBAlUwjCD7M2xsXPnTgYGBvKnn35iVZ0fBM1mM319fXnmTPQXzMKFC3OpZsigXk89SY4ZM4Z16tTh+PHj1dxuIYR4TcxmM7dc3MLPl3zODGMz2JJNWWXOnJmDBw92uY0nnp4quVVEhH6Dy5cZCbCvhwfPGvxwS5In/fy4L08enjOYJ0ySu5o14z8A71gyRuu5tHu3+lwzmfjn/PmG7dblyUMCvGRQ4zgukABYvO8SQQWvxR2WbwIwWqd9DQBhOsufA6hmsH3bl+Qa+fIxysOD3LOHTxInZo0aNXQvzCdPnhCALXGOEML9mjRpwqRJk7KeNomUxrFjx1SdX5KXLl2ih4eH06/plSpV4lxLhk8CvHL2rCqNZAkCL1y4QC8vL5r791flg8LCVNu7dzl27FiWK1eOADhl3xTVizpggNpwr15k69YkyQYNGrCwNRlV9+5ku3bRO5AlC7lli/2Oa2v+kuSiRSpQ1jp61D7J1rJltiHXdgYMIBs3Vn9XrEg61DG3OX9eHZdDSaKXtXDhQpYsWZLr169nzpw5ndZbM29r55HVrVvXNuf3+fPnhhmkFy9ezI8++oh9+/ZlixYt+CjsEZ++ePqv9lcIIRy9iHzhtOyjjz7itGnTGBpuXC/4eqJEfOgiaDU/eUICnAlwRaH0zDYxGx88c64rfDB5ch5NnpxH/P0Nt/V7z55qrrCrzNSXLtk+285v22bYbk2ZMowAeF9bti+OkQBYvO/SQwXA2R2WLwYwXad9YwC3dJbfBtBQZ7ldAFy7cmV185gxgzdSp2bLli0NL87atWvzmrUEihDC7dq1a0cAhtflX3/9ZQt6jxw5wmTJkjm1qVu3Ln8cO1ZlXvbz49GjR5lE05N69+5dAmD4yJGqhNDNm+qeEB7O3r17s0WLFgTA+N3j81zT6tG9xG3b2koJBQUFMZM1Idbw4eQXX0TvgGNZJFIFrdYh0yT544+qd1nLWi7J2qM9apSap+xoyRKV3ItUybX27dM9VzSbyRw5SIPMzbE1atQo1qtXjydPnqSfn5/TDw6nT59m/Pjx7ZZ36dKF7du3J0levXqVJpOJETo9KLt372aGDBnYtm1bftf1O5aeVZrfb/3+X+2vEELExuHDh/ngwQNWnl+ZqUalYsV5FdlqdSsO3jWYMw/P5MrTK3kuXTpe1UluterMKpb6uRSTDE/MZyaVKfrXoJxcc3aNbrC9N2NG3vD05O8usk7/MWECCfC4QTItknweFsZwSwB8+/x5w3Zra9Xi34DufTeukABYvO9epQf4mc7yWPUAN23alC+8vclOnXg8fXr21g5dFEK8UT179iQA3ZI5JHnv3j0C4NOnT7lt2zZ++OGHTm2aNWvGgQMHksmTk+nTR8/5tbD2SP4zfryam3vihCoTRPLrr79mr169mDhxYo5fNZ4DK3jxZm3LcOzPPyctc67y5cvHhNYvKdOmkZ98ov4OD1dB7PXr9js1eTKpLVnh2GtMqoDV31/tD6kCbm2vsdWpU2r+8O3b9gGzm3Tu3JmdOnXi06dPCYB37961W799+3a780uSkyZNUqWmSB48eNAwq/fFixfp6enJOnXrMEfDHCwzqwyfhb+5pCxCiPfPkxdP+PvV3zn14FT22tqLjZc3ZoW5FVh9YXVeK1OGN7Jlc3pNyPUQzjs6j4dvHuY9Pz/eBni1SxfD99iZOzejAO40yDtDkmeXLycBHkyVyuX+3gUYATDMRQKrDa1a8aLJ5HI7b5oEwELozwG+A+M5wFFwngMcBRdzgNu3b8/OnTuzcOHCXOznRwYFcXv69JzgmKxGCPHGDBs2jAAM52W9ePHCNpx26dKlLFKkiFObTp068bvvviM//JDMl48rVqxgQWuPqYW3tzdvTp6shhjv2aMyRlP1Ho8dO9aW1OlAzyZcm9OTIddDyMqVyRkzSJJp0qQhAL548ULV3LXmErh1SwWlz5/b75S2DUl++SWpl18gRw7SmrTkk0/IKVOc21gzQc+YobJcu1mDBg34gyXwT5EiBQ861BO2DpHWWrt2LXPnzm37O492brPGs2fPCIBJMiZhhi8z8GHYQ912QgjxRnTurH78dOFGypQkwLvWqgI6tpUqRQLcYrkv6rl5+DAJcJ9euT2NC/Hi8a6LRFkkuWTmTDZ10dv8pmzcuJGdO3dm586d2b59ewmAxXuvK4DLUKWP4gMYCuAajLNArwGwEUByACmgeotXGLS16wH+4YcfeDZ5cjJVKi4ICDCsaymE+O9NnDiRADhx4kTDNt7e3jx37hxnzpzJijolLPr27auGUBcuTH78MWfPns3y5cvbtUmRIgXPTpmiguRVq1S5I5LlypXjvHnzWKRIETX/f8ECXi/wAZP/kJzPCuQhly6l2Wyml5cXAfDmzZtqvq81++exY7beZDs7dtgnvapUyRZM26lcOXpOb7Zs5MaN+ichTx41/7daNcPz9LqULl2aCxYsIKnKVC3R1iVmdCIrrRMnTtiGS//888+sYMme7chsNtMngQ/hAc77zblMkhBCvFFHjqikhS78lSULCTDU4d6ota16dRLgZhfZ7p89eEAC3JU3r8v3+9PXlxfixXPZ5vDhw3E+saD0AAuhDICa2/sU9nWAM0DVBi6laZsEwAIAj6BqAc+D8QVkFwDPmjWLey310YYnTWpXukMI8WbNnTuXADjfRXbL5MmT8/Dhwxw1ahTrW7Iya40aNYoNGjRQJYvq1OHYsWOdArQPPviAB6dOVcOk58xRQ6FJ5smTh+vWrWPlypU5Y8YMVbs3b16O3DuSzzOlJ7dvt31ox4sXj8ePHycPHSJTpFAb3r6d/OAD550+cUJlZLbKm1dlfXbUooXKKB0VRXp7k+fO6Z+Ezz8nPTxsc5LdKXPmzNy+fTtJsl69erbkVlbdunWzzfe1siYRvHv3LocNG8aGDRvqbnvZqWX0DPAkAO7/l3OVhRDiTbhQtCgJ0Oyi3NzO5s1VABzDj5ZPAe6IoSTc/sSJedRaqeAtJgGwEO5lFwCvWbOGS5ImJQG29vbmqVOn3vAtQAhhtWLFCgLgGr3g0CJTpkzctWsXe/fuzVatWjmtnz59Oj/55BOVQKplS/br14/Nmze3a1OgQAFunTqV9PQkx461JZsKCAjggQMH+L///U8N+923j0yfXr0oaVLyjz9sWaQDAwPVD2gXL6qEW2Yz+euv9kOdre7cUUOjw8LU8xQpVODsaOBANTz62jXSZCJfOCdTIamGTwPkL78YnqfXwWw208fHh2fPniWpklt1cCi71LhxY90h6ylTpmRISAg7derEzp07624/yhzFckEq6/Y5o2BfCCHisAtVq6r7seU+qWff99+TALdpkyHquOHhwZ0xBMk7AwL4u7ZiwFtKAmAh3MsuAA4ODuaP/v4kwKoA78XhFPFCvG+2bt1KANy9e7dhm7x583Lt2rVs164du3fv7rR+8eLFak7q11+T33/Pb775hl0ckpOULVuWv/30k/rS0qUL2aoVzWYzPT09efHixehtnzypem6jolRAeuUKg4ODmSZNmuhat5Zha3z82DnZlVVkpHr91avGibJIVbv344/JXbvIDBmMT9SyZWobbq7xaE069uTJE5JqiHo1hy9nFSpU4MyZM51eW7RoUf7222/83//+xxEjRhi+R7NmzQiADx44lw4RQoi47mGnTup+/Pffhm0OTZxIAtyt85mlddbHh7ubNnXZZvMHH3BHQMCr7GqcIgGwEO5lFwBfvHiR33p4kACLx4tnqw0qhHjzQkJCCIDHXAR2JUuW5KJFi/jFF19w2LBhTuvXr1+vki79/Tf58CGbNGni1ENZrVo1TrGUnGCdOmT37rZ6tv/88w/79Omj5hFbSyTdvWsLcteuXcu8efOySpUqnDZtml1w7FTuSCt5cvLw4eje3fBw5zZbt6p5ybNnk+XKGZ+oS5fIRImMe4hfwq5duwxHwmjrLpPk6tWrmddhflru3Lm5bt06p9fWr1+fP/zwA8uXL8/Zs2cbvn/v3r0ZT+7FQoi3lSW4pYuSQ6dXriQBhowb53JTmypU4OmlS122WVasGFfo1GR/20gALIR72QXAjx8/ZgNLDbUiMaSaF0L8t86cOUMAvHr1qmGbKlWqcPr06axatSqn6GRJ3rt3LzNoek+rV6/OSZMm2bVp1KiRCp7jx1c1dUeMsJXkMZvN0fOGw8LUF5vgYDVc2my2JdVq2LAhe/azzMG11v5t3540KOHEHDlUUquDB0mDskA8e5b08SH79CGbNXN9skJDXa+PpcqVK/Pbb7/VXbdhwwbmyJHD9vzYsWNMmDChXc3fZMmS8fDhw06v7datG9u2bctcuXJxvTWztY7JkyczldyLhRBvq0WL1GeAC9eOHCEBnnCRKCu2+vbty2+++eZfb+dNkwBYCPeyC4DNZjMre3mpHuB8+d7w5S+E0Lp16xYB8PHjx4Zt6tWrxzFjxvCjjz7SzeJ+7NgxJtbMj9JmMbZq27Yte/bsSQYEqC8u06bxwIEDDLAMK5szZw4//vhj1djHh1y40Ba0WpNsfd78c3qX9ubuy7tVhucdO+xqBTspU4acP59cvZo0uvc8e6YC7kqV9MskuUGmTJlYqVIl3XWOGZytX1isw5WtNZVv3rzp9NqffvqJVatWZfLkyRkcEsxum7vxxuMbTu02btzIQoUKvaajEUKI/9iePWSuXC6bPH7wgIcBXjp69F+/XWhoqG1ayttMAmAh3MsuACbJYgEBvJ44MatUqfIGL30hhJ69e/e6XN+sWTMOGDCAOXLk4EadMkGXL1+myWSy9VLmyZOHa9eutWvTo0cPtmvXjsyeXQWcS5Zw3bp1tnq1a9asYT5rkBoQQA4ZotpqXjtw4ECWqFaC/kP9+SDXB+Ty5WRQEPnzzyTJiIgIHjlyJPpN69RRCbemT1fljoykSEH6+5MOQbs7hIWF0WQyMU2aNLrrBw0axCZNmtgtS5o0qe24rly5QpPJxAidoX/r169nlixZCIBlxpVhwakFefvJbad2ZrOZDx9K/V8hxFvKbCYfPYqhiSoJFxkZ+R/tVNwnAbAQ7uUUABcsWJCFCxd2+mInhIj7OnbsyC5dujB16tQ8cOCA0/qHDx/aJW5Kly4d9+3bZ9dm6NChbNy4MVm8uAqAt27l3Llzbb2++/btY3pr9uccOcjmzcmPPiJJtmjRgv369eOkSZP42WefcdWZVdz+oQe39m6oenZXryZJbtmyxdajTNKWlIsDB5KukpwUKqT2yUVJjdflxIkT9Pb2JgwSArZp00b1lGsULFiQy5cvJ0keOHCAqVOn1t32qVOnrF9uWGFWBT5+btyrL4QQ4v0iAbAQ7uUUAFeuXJnx48dnV6O5ekKIOKt3795s3bo1vb29beV5tCIjIwmAN26o4bb+/v48efKkXZuJEyeyRo0aqicWII8c4dixY1nXUg7p9OnT9PPzU41LlFCZmT/9lCRZo0YNTpw4kYsWLeJHlqD43mfl2fczPz5K5s+IvSqD9Zw5c+x7R/v0IVu2JNu2JXv0MD7AmjXVPt269crnKLaWL1/OAgUKMH369Ny1a5fT+urVq3PChAl2y2rVqsUff/yRJLly5Urmz59fd9v7L+4nAHon8OaLyH+frEsIIcS7QwJgIdzLKQBu1KgRAXDUqFFv8NIXQryKESNGsFatWgTAu3fv6rbx9/fn6dOnGR4erjtH1dbbW7++CjYvX2avXr349ddfkyTv3LlDAAwLC1OBb8aMZKNGJKOzUG/ZsoVZs2ZVG2zVig++a8fweCY+PH6QJDl8+HAC4HVruaPx41VwW6sWaQkgdXXooJJzaRJNucuIESPYoEEDfvLJJ/zpp5+c1hcuXJjLli2zW/btt9+yU6dOJMkpU6aomssOrv1zjQmHJWSCZAnskmgJIYQQpATAQribUwD87bffEgDnzp37Bi99IcSrmDx5MgsXLkwADNcrJUQyTZo0DA4O5t27dwmAz549s1u/YsUKlXipZUsVAP/zD1u3bs3evXuTpC1wvnHjBtmwoSpbZMm6mS1bNm7ZsoVHjhxh0qRJ1Qa7dycbN1bbsswF69ixIwEwJCREtVm4kCxZUg2l1kneZTNyJJk79784Q7HXvHlz9unTh127dlVzoh0EBARw//79dst+/PFH1qpViyTZv39/fmVQ9un4neMsXrw4y7kq5ySEEOK9JAGwEO7lFAAPHTqUAHQT6Agh4rZ58+YxZcqU9Pf3N2yTPXt2bt68mWfPnqWPj4/T+m3btjFLlixkly5kvHik2cw6derYhvaSZMKECXn8+HFV2ggg+/UjqZJAHT16lFevXqXJZFJJTYYPJ4sVI728bD239evXJwCuXLlSbXDLFjJrVjIwkNy50/gAjx5VdSX/A6VLl+a8efM4Z84cli1b1m5dREQETSaTU0mqFStWsECBAiTJ1q1b8/vvvzfc/ueff84GDRq8/h0XQgjxVpMAWAj3cgqAp0+fTgD2GVqFEG+FFStWEEB0kiodRYsW5dKlSw2TNB08eFDVnh08WGVdJlmuXDnOmzfP1iYwMFDNi+3dWwXA48YxIiLCNqw5NDSUAPj333+TU6eqckqabMqlS5cmgOihxUePqjY+PqrebxyQKlUqBgcH8+DBg0yWLJldfd9r167RZDI59bL/8ccftp7vGjVqcPz48YbbnzBhAkeOHOmenRdCCPHWkgBYCPdyCoCtX6CtSXKEEKJh5HgAAB/uSURBVG+PrVu3EoCtZJGeihUrctasWdy0aROzW8oXaZ09e5a+vr7khAlktmwkydy5c3P9+vW2NoUKFeKKFSvI0aNVADx3rv3cYJK+vr48ffo0+euvqk3evLbXf/jhh8ycOTN79+7Ntmvb8tiRjaqNZcj1m2bNln3//n0+ffqUJpPJbq600Y8HDx48oPWeWqRIEf4wzaDusRBCCGFAAmAh3MspAN67d6/L+YNCiLjrwIEDqrZsmTKGberUqcNx48Zx8eLFtkzNWrdu3SIARsydS5YqRZJMnTp19HxdqiD6559/JmfOVEHrmjU8ceIEEyRIYGuTPn16Vbd482bVJiiIpKr56Ofnx3r16rFZs2YcvGswEw3wJQGa/fxsw6TNZjObNWtmK9n0XwoJCWEKS+83qQL2LVu22J4vX76cBQsWdHqd2WxmokSJuHTHUnon9Wbennnteo6FEEKImEgALIR7OQXA9+/fZ6tWrd7gZS+EeFXW+rI1atQwbPPVV19x0KBBnDp1qm6WYuvw5XvXr5N//UWz2UxPT09eunTJ1qZBgwYqU/yyZSq43buXO3fuZObMmW1t8ufPz1WrVpEHD6o2lvmu1g/24cOH294/5HoI/4nvwaspvBh8LZgkefv2bQJgcHDwazk3L+OXX35hyZIlbc9r1qxpNwd60qRJrFatmtPrwiLCmCpzKno38qaHpwdPnD7xn+yvEEKId4cEwEK4l1MALIR4e127do0A+OWXXxq26dixI7t27crhw4fziy++cFpvNpsZL148W8D76NEjOt4n2rRpw549e5Lbt6vg9tQpLl26lEWLFrW1CQoKUr3EFy6oNu3bkyTPnDlDX19fpzq55qxZeDVvIP2G+rHNmjbcH6xq5S5cuPBfn5eX5ZjBuVevXmzRooXt+ffff8/WrVvbnpvNZq46s4pZJmRh4nyJ+XWXrwngjfReCyGEeLtJACyEe0kALMQ7xBqsWmvR6unTpw9btWrFHj16sG3btrptrNmcSfLChQv08vKyG8rbq1cvFQAeOaKC21u3OGXKFFatWtXWpkGDBirJ0/37qs2AASTJHTt2MHPmzDx48CBTpkwZ/aYlS5J16/L8/fOcEDyBv/32GwFw8ODB/+aUvJIvvviCw4YNsz1fuHAhixcvbnvetGlTDhw40PY8NDyUeX/Ky6kHp7J9+/asUqWK3XBwIYQQIrYkABbCvSQAFuIdEhkZSQDs37+/YZuRI0fy888/Z+vWrdmrVy/dNoGBgdy9ezdJMjg4mGk0GZxJcvTo0axXrx555YqqA/z8OQcPHmzX89y2bVv26NGDjIxUAfCkSSRVMFmyZElev36dAPjixQv1gpo1yQ4dbK8fNWoUAbBZs2avcipitHfv3uj3dlC4cGEuXbrU9vzYsWNMkCCB7UeAihUrcsaMGXavsa4bPXo0kyRJwqxZs7plv4UQQrzbJAAWwr0kABbiHePn58dx48YZrp86dSqrVq0a3UOrI1++fFyzZg1Jcu3atU5ZpWfNmsUgS1IrHj5MkuzUqRO/++47W5s+ffpEDxtOnFhlgyY5ZswY1q1b11ZL98qVK6rN6NHkL7/YXt+hQwemTJmS5cqVsy0Liwjj7Se3Yz4JMTh+/Dg9PDx0h1ebzWYmTJiQx44dsy178eIFPT09efnyZZJkrly57LJiay1dujTGRGRCCCGEEQmAhXAvCYCFeMekTp2ac+bMMVy/aNEilipVipUqVXLqxbQqXbo0f7EEo3PmzOHHH39st37VqlUsUKCA3bKGDRvaDRseN24ca9WqpZ7kzUseOECS7Nq1KztYenoDAgK4f/9+3X2oXr0669evb1fTeN25dfQZ7MOGyxpyw/kNjIiKMDxOV6pXr87EiROzcePGTuusWbCfPXtmW3bj8Q2mzpSagW0DefnhZSZOnNg2RNzRwYMHCYANLEm/hBBCiJchAbAQ7iUBsBDvmCxZsqjsywbWrVvHvHnzsmjRolyyZIlum08//ZRTpkwhqXps69WrZ7d+z549zJgxo92yypUr2wXU8+fPj+4F1Qw1btSoEYcOHUpS1RNetmyZ7j7ky5ePU6ZMoclkstUWJslTd0+x66auTDsmLVOPSs02a9pw9ZnVfBGpP5zZ0e7du5kwYUIuX76cKVKkYGRkpN36Xbt2MWPGjDx37xzH/j6WQXOD6DnIk6mLpWaDTg1479E9AuDff/+tu/2///6bANixY8dY7Y8QQgihJQGwEO4lAbAQ75ht27bx6dOnhuv37NnDwMBAZs2a1a62rdb//vc//vDDDyRVxuM2bdrYrT958qRTkqdChQpxxYoVtufr169nzpw5nbYdFBTEWbNmkSSrVavGSZa5wY4SJ07MI0eO0NfXl2fOnHFaHxkVya0Xt7Lj+o7M81MehoaHGh6zldlsZokSJTho0CBGREQwSZIkTmWWZsyYwaJlitJ7sDerzK/CiQcm8vo/1zlw4EA2btyY586do7e3t2F9X2ud4+HDh8e4P0IIIYQjCYCFcC8JgIV4z/z5559MkiQJU6RIwUOHDum2ad26NXv37k2SbNWqle1vK+swYW0SqQwZMnDPnj225yEhIUyVKpXTtnPmzMkNGzbY3kcvEZc1m/WDBw+YK1curlu3zvB4Ll68aDdc2dHPR35mtonZ+NHMj5j7m9z0SuTFUlNKMf+U/KxcszL79etn175bt25s07YNn76w/xFh2bJlLFiwIHfu3MlMmTIZvh+p5gjPnj3bZRshhBBCjwTAQriXBMBCvGf++usvenh40NPTkxcuXNBt07VrV37zzTckydq1a/PHH3+0W//8+XMC4K1bt2zL4sePb9dTe/HiRcaLF8+ppzRJkiS2+bMDBgywq7dr9eeffzJhwoQ0m82sXr06J06caHg8hQoVYufOnQ3X33h8g1subuEvf/zCNJnT8MteX3Le0XlcdWYVJ8+YbFe7mCRr1qypm0Ts7Nmz9PHx4bx581iyZEnD9yNVhumHDx+6bCOEEELokQBYCPeSAFiI98z9+/etH6y8f/++bptBgwaxadOmJMmyZcty/vz5Tm38/f158uRJkmRoaCgB8N69e7b11l5cbSD47NkzAuCdO3dIktOnT2flypWdtr169Wpb5ulOnTrx22+/1d3P8PBwent708fHh9euXXN53DNmzGCWLFkYHh5uW3bnzh16eHjw9u3ozNI5c+bUzfAcGRlJHx8ftmrVivXr13f5XkIIIcSrkgBYCPeSAFiI90xERIQtAHZMAGU1btw41q5dm6QazmsdsqylHfJ8+fJlenh4MCoqyrbebDY79TJfunSJnp6etnZ6JZZIcuLEifzss89IkuPHj2eNGjV099Nan7d+/fps3bq14TGHhoYybdq0/O2335zWFS1alHPnziWpglwvLy/DnvECBQowMDCQnTp1MnwvIYQQ4t+QAFgI95IAWIj3kJ+fHxMlSmS4ftasWaxQoQJJMlWqVAwJCXFqU6BAAVu26UOHDjFlypRObVKnTs0DlvJHJLlv3z6mS5fO9vzw4cNMliyZ0+u6du3Kdu3akTQOkknahiOfPXuWvr6+PH/+vG67nj17skiRIrqJq/r168fPP/+cpBq27eXlxYgI/fJKjRs3JgDD+slCCCHEvyUBsBDuJQGwEO+hgIAApzJGWkuXLmXRokVpNpsZL148Xrp0yalNUFCQLdHTxo0bdTM+OyawWrp0KYsUKWJ7bk2mpS1zRJL169e3ZaE+deoU/fz8dIPXLl26sG3btiTJ5s2bs1GjRk5t5s2bx8SJE/PEiRO6xxocHMwkSZIwIiKCGzZsYI4cOXTbkeSIESMIgAsWLDBsI4QQQvwbEgAL4V4SAAvxHsqWLRvz5ctnuH7z5s3Mnj07Hz58SAB8/PixU5t69epxzJgxJB1q/mqULVuW8+bNsz2fOHEiq1evbnseGRnJePHi8a+//rJ7XbFixbh48WKS0fOGtQm3rCpUqMBp06aRVMOwfX19eezYMdv6Xbt20c/Pj5s3bzY81sjISKZIkYJ79uxxOdyaVL3RALhjxw7DNkIIIcS/IQGwEO4lAbAQ76EiRYqwXLlyhuuDg4OZJk0anj9/3rDmrbaE0Y8//sg6deo4tXHMIN2rVy+nubrp0qXjvn377JalTp3arj5vunTpuHfvXrs2ZrOZKVKksGvXsWNH1qxZk6TK2pwsWTJOnz7d8DitGjduzF69erF9+/bs2rWrYbvLly8TAM+ePRvjNoUQQohXIQGwEO4lAbAQ76GgoCBboKjn1KlT9Pf35/79+5kmTRrdNj179mSbNm1Ikr1799ZNQtWyZUu7GsLNmjVj//797doULVqUS5YssT0PCwtz6vEtU6aMXU8ySV6/fp0eHh4MDQ21Lbt9+zb9/f25bt06ZsmShd27dzc8Rq2FCxeyQIECrFSpksuA2Ww2c9SoUYZzhIUQQoh/SwJgIdxLAmAh3kO1a9fWrb9rdf36dQLgypUrmTdvXt02I0eOZIMGDUja9wZraYNkkvzkk084depUuzY1a9bk+PHjbc+t9Xa1GaW/+uorDhgwwO5169atY/bs2Z3es1evXjSZTKxbt67dNly5d+8e48WLx8SJE3Pnzp2xeo0QQgjhDhIAC+FeEgAL8R5q2rSpYW1dknz8+DEB8Mcff2T58uV128ycOZMVK1YkSdapU8duqLPVqFGj7Grm5suXz5Y52qpt27bs0aOH7fnmzZuZNWtWuzaDBg1ikyZN7JYNHTrUlr1Z6+HDh+zZs6ddz3BslChRggB48+bNl3qdEEII8TpJACyEe0kALMR7aPPmzU5zarXMZjNNJhO/+eYbuwBWa8WKFSxUqBBJlexq/vz5Tm1mzZplF0CnTJnSqaTS4MGD7YLbGTNm2AJrqwULFrBUqVJ2yxo0aMBhw4YZHsPLGjx4MBMkSKA731kIIYT4r0gALIR7SQAshNCVOHFifvbZZ3ZDmLV27drFTJkykSRz5szJDRs2OLVZvXq1Ldt0eHg4AfDatWt2bWbOnGmrOUySffr0YYsWLeza7N+/nwEBAXbLsmXLxvXr17/8gRm4dOkS+/Tp89q2J4QQQrwKCYCFcC8JgIUQujJkyMCcOXMaBoXHjx9nokSJSKqe3UOHDjm12bdvH9OlS0eSvHbtGk0mE8PDw+3arF+/nrly5bI9b9KkCQcNGmTX5s6dOwRgG9b89OlTmkwm3rhx49UPUAghhIiDJAAWwr0kABZC6MqdOzd9fX05btw43fU3btwgAD5//pweHh68fPmyUxtrQiuz2cyQkBCmTJnSqc3Ro0eZJEkS2/OyZcty7ty5dm3MZjMTJEjAEydOkFQ9wilTppThykIIId45EgAL4V4SAAshdFmTQi1YsEB3/bNnzwiAp06dIgA+ffrUqc29e/ds61atWmUbDq119+5du97dwMBA3UzM2gRaU6dOdZonLIQQQrwLJAAWwr0kABZC6KpSpQoB6M7ttYofPz5XrlzJ+PHj666PjIykyWTilStXOHXqVFapUsWpTVRUFL28vHjhwgVGREQwXrx4/Ouvv5za1apVy5Zpuk2bNuzateurHZgQQggRh0kALIR7SQAshNBVv359AuDBgwcN26RPn54jR45khgwZDNskT56chw8fZv/+/Q1rD2fMmJG7d+/mlStX6OHh4TRPmCS7dOnCDh06kFS903pZp4UQQoi3nQTAQriXBMBCCF0tWrQgAN3eWKt8+fKxZcuWLFiwoGGbbNmycfPmzWzdujV79eql2+ajjz7i4sWLuXv3bsNgevLkyfz0008ZFRVFf39/Hj9+/KWORwghhHgbSAAshHtJACyE0NW5c2cC4JMnTwzbfPzxxyxTpgwrV65s2KZEiRJctGgRq1evzokTJ+q2qVOnDseOHcv58+ezdOnSum02btzIHDly8Ny5c/T29tbtJRZCCCHedhIAC+FeEgALIXT179+f3t7eLjMt16lTh6lTp2bDhg0N21gD3yJFinDp0qW6bTp06MBu3bpxyJAhbNSokW6bc+fO0cfHh7/++isLFSr0cgcjhBBCvCUkABbCvSQAFkLoGjNmDNOmTeuyTcuWLQmAHTt2NGzz1VdfccCAAUyXLh337dun22bo0KFs1KgRW7VqZThM+sWLF/Tw8GDTpk3ZrFmz2B+IEEII8RaRAFgI95IAWAiha8aMGbpli7S6d+9OABw8eLBhmy5durB9+/b09PTkpUuXdNvMnj2b5cuXZ+XKlTlt2jTDbQUGBjJp0qQcP3587A5CCCGEeMtIACyEe0kALITQdezYMf7www8u24wYMYIAOGXKFMM2w4cPZ8WKFQmAYWFhum02bdrE7NmzM3v27Ny4caPhtsqXL08AunWChRBCiHeBBMBCuJcEwEKIVzZjxgwC4JIlSwzbTJ8+nQEBAUySJIlhm+PHjzNBggSMHz8+T58+bdjOmpn64cOH/2q/hRBCiLhKAmAh3EsCYCHEK1u2bFmMPbLWNjlz5jRsc//+feuHPUNDQw3bDRs2jIGBgf9ml4UQQog4TQJgIdxLAmAhxCvbsWMHAfDEiROGbXbt2kUADAoKMmxjNpvp4+PDlClTuny/Q4cOcdSoUa+8v0IIIURcJwGwEO4lAbAQ4pX9+eefBMDbt28btjlx4gQBGJY3ssqcOTOLFCnyundRCCGEeKtIACyEe0kALIR4ZXfv3mXy5MkZERFh2ObWrVsEwK5du7rcVqlSpVi3bt3XvYtCCCHEW0UCYCHcSwJgIcS/EhkZ6XJ9eHg4AXDMmDEu29WvX5/ffffd69w1IYQQ4q0jAbAQ7iUBsBDC7RIlSsSFCxe6bBMSEsIzZ878R3skhBBCxE0SAIv3XT0ApwGEAjgJoHYM7T8HsBvAPwCiAHjE0F4CYCGE2xUuXJiHDx9+07shhBBCxHkSAIv3WXEAYQBqAfAEUAfAMwCFXLymElQQ3AwSAAshhBBCCPFWkQBYvM9mAVjmsGw5gBmxeG05SAAshBAvZePGjW96F4QQQrznJAAW77MjAHo4LPsewKFYvFYCYCGEeEmdO3d+07sghBDiPScBsHgXzQZghgpQzTqP7ZZ2FwB87fDaNgDOxeI9JAB2A+kden3kXL4+ci5fn9q1a7/pXXhnyL/L10vO5+sj5/L1kXP5+mjPpQTA4l3kByCZi0dCS7v/rAe4ZcuWbN++Pdu3b89ly5bxn3/+kYfOo3379m98H96Vh5xLOZdx8ZE/f/43vg/vykP+Xcr5jKsPOZdyLuPio3r16rbv4i1btpQAWLy3ZgFY6rBsGV7vHOB0UBeYPOQhD3nIQx7ykIc85CGPuPNIByHeM8Whsj7XhMoCXRuqHJKrLNAeAHwAVIYKgP0sz00G7U1QF1ciechDHvKQhzzkIQ95yEMeceKRDsbf34V4p9WFqgP8DMApqJJIWicA9NQ8b4ro+cVRmr/Lun1PhRBCCCGEEEIIIYQQQgghhBBCCCGEEEIIIYQQQrwmnwPYDeAf6CcHM0MNM38M4Inlv7lj2GY+ALsAPAVwHUB/nTYDAdywbHNnLLb5NojpXDYCcMyy/hqAHwF4xbDNjwEchprjfhGq3JeWN4DJAP62bHc1gPSvegBxyHBEn6sbABbC+bhmQE11iAAwL5bbzQBgDdS/47sAJkLlEdBqD+AvqH+/hwCUefndj5NcXXOxuWYdva/XOWB8XJkB7IW6Hh8BOA+gTyy2J+dS/7i8AQwDcBnq3PwFoHEM25NzqX9c1aDuZ/9Anc+eiNn7er909VleDOpz9hbUNf4ngK9isU05l/IdUwgRh1SCukE1g/HNqfxLbC8BgJsAhkB9eckDFex10rTpBuAKgFxQiciGQd3E/F5+9+MUV+cyr2VZPcvzDFBz14e42F5GqBt8G6gPyrJQH7g1NW0mAzgKFRwmADAXqkzY224ogIJQx50IwC8A/nBo0wHqnC9D7AJgE1RQPRuAP9T/gz+hfoiwqg/gIYDSlvduB/UB+rZnm3R1zcXmmnX0Pl/nMZ3LrIhOzpIJ6jpv72J7ci6Nj2s1gE1QPywAQAqo82tEzqX+cRUFEAYVBANAAagAroOL7b3P90tXn+VVAXwJ9W8RUD9S/wOghovtybmU75hCiDiqHIxvTkEvsZ2mAG47bKcjVE+I1SXYf/DGg/pFtNFLvE9cpncuawG479BuFIB1LrbTD6r3V2ssgC2Wv32geoaradYnBxAOoNTL7XKclx/qnCbWWTcbsQuAywF4ASCpZlkNqC8Z1p747QDGOLzuCIDeL7OzcZCra+5LxHzNOnqfr/OXOa7MUKMUJrjYnpzLaNrjCoK6v6XQeZ0ROZfR4gG4A3VcIwCsd2g/GMBZF9t7n++XVkbfixytgH0wq7cdOZfyHVMIEQe5ujndhBrSdwhAS4f1XwB4oHk+FsAGhzYlLNtOANWbZ4YqZaW1CcDoV9z3uEbvXMYHEAygoWX5hwDOAGiuadMDqjfXajmAKQ7b/gLAPcvf1qAwtUObs3D9y/7bqDvUh5oeowC4FNS/TevQ6Y5QmeO10kD9e8xjef4A6tdqrWlwrjv+NonpmovpmgXkOreK7XHthhrWZ4bqiciuWSfnUonpuIZD/XgwGuoz6AqAWVA/8lnJuVRiOq6RcD4vw6DOi7/ludwvncUmAE4E9e+ziWaZnEtn8h1TCBEnGd2cykP1NHpCDf15AOBrF9uZCWCRw7Iclm2nhfpAMMP+CyEALAYw/VV2PA4yOpetoM5fuGX9bLiuY7cV6kug1ieW1wNqqFQU1P8frWAAvV56r+OuilC/lFcyWB/bHuA+APY7LPOF+vdY0vI8EkAVhzYjAGyO1Z7GTTFdczFds3re1+v8ZY7LBOAjqKF6SWFMzqU963HNsKwfD3WdpoS6Dh17MrXkXNqzHldJqB7I2lC9YUWghkBHQQViet7X+6VWTAGwF1QwttVFG0DOJSDfMYUQcVRsh/r0h0ryYkR+ndM/l02hbuzWocmpoRJiON7ItWLqAc6Hd78HuBrUvChX86tiGwC7+hXemiDjXfwV/nX0ADt6X6/zVzmubnD970fOpT3rcY2BCgq0P/B9ZFkW32Cbci7taY+rHtSUmntQwVhfqASCvgbbfF/vl1quvhfFB7ARKviNaW6pnEv5jimEiKNie3PqB2Cfi/WxmU/oaq7Su0DvXE6AmiekVR1qjpuRflBDgrRimgOcAuqX/ndhDnAjqOC3YgztYhsAlwXwHPrzsLwtz7fD+UPyMN7+eViurrlXmQP8Pl/nL3tcvaES4BiRcxlNe1yN4ByglbAsMwqA5VxGi+m4foQaqm/kfb5fWhl9L0oC9T1oFWKu5ADIuQTkO6YQIo7xgAqkKkPdnPwsz01QWXgLQd3g41na3EfMGU1vQCXY8IWa33IF9hn6ukKVYcgN9UVmKFQWv7c9Q5+rc9kA6tyVsLRNCfXhucvF9qxZoL+G+n9QBiog1GaBngSVKCMDgIRQWaAdE2e9jTpAHaurQN4L6t/YPAALoM61t4v2Jqg51rOg/p1mhMosrU1eUg/ql/jSlu23hSrL8LZn4nR1zcXmmnX0Pl/nro6rItQ17g11zywP9cXLcSqDlpxL/ePygzoPY6Gu7eRQPW4rXWxPzqX+cZmgMkHHszz/Eur++pGL7b3P90tXn+WpoTI4L4I6n7Eh51K+Ywoh4pimUMNFoiwP699loXoWT0H9SvkA6obdyuH1DaFu0lp5oH5ZDoVKbtBX530HQM1Beop3p0abq3MJAN9ADYN6BHXsv0IFrlbfAzjusM2yUAFuKNSvmo5zY7yh6gneg/r/sAZv/wcmoM7dC6hj0tYH1AbEO+B8vrWJskpbXqOtH5wBwFrL9v6Gml/o+At+O6gPz1CoHvjSr+F44oIBML7mYrpm5Tq3NwD2x5XLsrw21Jfjf6ACjBNQ17W2t0LOpb0BMD6ubFBzIJ9AlTGZBtX7ZiXn0t4A6B+XJ4ADUJ89j6F6G0s4vFbul9FcfZb3s/z9BNGfS49hX9FBzmU0+Y4phBBCCCGEEEIIIYQQQgghhBBCCCGEEEIIIYQQQgghhBBCCCGEEEIIIYQQQgghhBBCCCGEEEIIIYQQQgjx1ukH4AJUuZO7ADYAyO/QJh9U/emnUKVl+sdiu2ao0j6pHZZfg6opKoQQQgghhBBC/KeyAkhs+dsTwHcAbgMwWZYlgKqbOASqhnQeqCC2UwzbNQO4A2COw3IJgIUQQgghhBBCvHE+AL4FEAUguWVZU6iA2EPTriOA8zFsywygHYAwAEU0yx0D4BwA1gP4G8BVAFMBJLKsaw3gnMN2vaB6qmvGeDRCCCGEEEIIIYSDTwE8hApaIwGM0qwbCzUsWqsEVJCcwMU2zQCCLK//XbNcGwAngBpSPRIq+E4NYCeAFZr1jwGU1bz+c6geaW1ALoQQQgghhBBCvJQkUEOb62qWzQSwyKFdDqgAOK2LbVkD4MRQPbYNLcu1AfAXUMOktcFsActrU1mezwIwT7N+M4BhMR+KEEIIIYQQQgjhmgkqIVZey/OYeoAbAnhieTwGkN7SxhoAA0AbqOHNfrAPgLsBCHHYdgLLa63DpksCCIUaFp0Jqoc6yysemxBCCCGEEEIIYeMJFXDWsTz/Eq8+B9gaAHsAOApgEOwD4P/pbLsAVHCdSrPsBNR84kEAdsT+UIQQQgghhBBCiGgdER1spgQwHcADRJcvSgDgBoDBAHyhskBfQeyyQAdpnpcH8AyqNJI1AE5o2fYIy7YDAGxH9Bxgq+8A/AHVi9wo1kcmhBBCCCGEEEJorAFwC2oI8w0AKwEUcmiTB8BuqJ7hmwD6xmK7UbAPgAFgmWW5Ngt0TgAbAdyD6h2eiuiyTFbJATwHcB8qWZYQQgghhBBCCCGEEEIIIYQQQgghhBBCCCGEEEIIIYQQQrxu/wd4sknGNWELaQAAAABJRU5ErkJggg==\">"
      ],
      "text/plain": [
       "<IPython.core.display.HTML object>"
      ]
     },
     "metadata": {},
     "output_type": "display_data"
    }
   ],
   "source": [
    "ax=med_d1.plot(figsize=(12,4),color='green', linestyle='--',linewidth=1, label='expected')\n",
    "#med_d2.plot(ax=ax,color='orange',linestyle='--', label='pytides2' )\n",
    "dat2['hd'].plot(ax=ax,color='k',linestyle='-', label='with Tidal component' )\n",
    "dat2['fh'].plot(ax=ax,color='r',marker='',linestyle='-', label='without Tidal component' )\n",
    "leg=ax.legend(loc='upper center', bbox_to_anchor=(.5,1.15), ncol=3, fancybox=True, shadow=True)"
   ]
  },
  {
   "cell_type": "code",
   "execution_count": null,
   "metadata": {
    "collapsed": true
   },
   "outputs": [],
   "source": []
  },
  {
   "cell_type": "code",
   "execution_count": null,
   "metadata": {
    "collapsed": true
   },
   "outputs": [],
   "source": []
  },
  {
   "cell_type": "code",
   "execution_count": null,
   "metadata": {
    "collapsed": true
   },
   "outputs": [],
   "source": []
  }
 ],
 "metadata": {
  "hide_input": false,
  "kernelspec": {
   "display_name": "Python 2",
   "language": "python",
   "name": "python2"
  },
  "language_info": {
   "codemirror_mode": {
    "name": "ipython",
    "version": 2
   },
   "file_extension": ".py",
   "mimetype": "text/x-python",
   "name": "python",
   "nbconvert_exporter": "python",
   "pygments_lexer": "ipython2",
   "version": "2.7.12"
  },
  "latex_envs": {
   "bibliofile": "biblio.bib",
   "cite_by": "apalike",
   "current_citInitial": 1,
   "eqLabelWithNumbers": true,
   "eqNumInitial": 0
  }
 },
 "nbformat": 4,
 "nbformat_minor": 1
}
