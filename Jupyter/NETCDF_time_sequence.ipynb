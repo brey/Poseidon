{
 "cells": [
  {
   "cell_type": "code",
   "execution_count": 101,
   "metadata": {
    "collapsed": false
   },
   "outputs": [],
   "source": [
    "import numpy as np\n",
    "from  netCDF4 import Dataset\n",
    "import matplotlib.pyplot as plt\n",
    "from IPython.html.widgets import *\n",
    "\n",
    "from IPython.html import widgets\n",
    "%matplotlib inline"
   ]
  },
  {
   "cell_type": "code",
   "execution_count": 102,
   "metadata": {
    "collapsed": false
   },
   "outputs": [],
   "source": [
    "PATHbase=\"/mnt/web/TsunamiSurge/JETS_System/JRC/\"\n",
    "data0=Dataset(PATHbase+str(1406)+'/coarse/NETCDF_H.nc')\n",
    "ha0=data0.variables['HA']\n",
    "lon=data0.variables['LON'][:]\n",
    "lat=data0.variables['LAT'][:]\n",
    "t=data0.variables['TIME'][:]\n"
   ]
  },
  {
   "cell_type": "code",
   "execution_count": 111,
   "metadata": {
    "collapsed": false
   },
   "outputs": [],
   "source": [
    "def point(lati,lonj, save=False,):\n",
    "    li=np.float64(lati)\n",
    "    lj=np.float64(lonj)\n",
    "    #print np.dtype(lat[0]), np.dtype(li), li, lat[0], li-lat[0]\n",
    "    i=np.argwhere(np.abs(lat-li) < 1.e-6)\n",
    "    j=np.argwhere(np.abs(lon-lj) < 1.e-6)\n",
    "    i = i.flatten()[0]\n",
    "    j = j.flatten()[0]\n",
    "    print i,j\n",
    "    plt.figure()\n",
    "    plt.plot(ha0[:,i,j])\n",
    "    plt.show()\n",
    "    if save : np.savetxt(PATHbase+'time_sequence',ha0[:,i,j])"
   ]
  },
  {
   "cell_type": "code",
   "execution_count": 109,
   "metadata": {
    "collapsed": false
   },
   "outputs": [],
   "source": [
    "lats=[w for w in map(str,lat )]\n",
    "lons=[w for w in map(str,lon )]"
   ]
  },
  {
   "cell_type": "code",
   "execution_count": 112,
   "metadata": {
    "collapsed": false
   },
   "outputs": [
    {
     "name": "stdout",
     "output_type": "stream",
     "text": [
      "43 15\n"
     ]
    },
    {
     "data": {
      "image/png": "[encoded data removed]",
      "text/plain": [
       "<matplotlib.figure.Figure at 0x6e3a650>"
      ]
     },
     "metadata": {},
     "output_type": "display_data"
    }
   ],
   "source": [
    "ts=interact(point, lati=lats, lonj=lons, save=widgets.CheckboxWidget())"
   ]
  },
  {
   "cell_type": "code",
   "execution_count": 99,
   "metadata": {
    "collapsed": false
   },
   "outputs": [],
   "source": []
  }
 ],
 "metadata": {
  "kernelspec": {
   "display_name": "Python 3",
   "language": "python",
   "name": "python3"
  },
  "language_info": {
   "codemirror_mode": {
    "name": "ipython",
    "version": 3
   },
   "file_extension": ".py",
   "mimetype": "text/x-python",
   "name": "python",
   "nbconvert_exporter": "python",
   "pygments_lexer": "ipython3",
   "version": "3.5.1+"
  },
  "widgets": {
   "state": {},
   "version": "1.1.1"
  }
 },
 "nbformat": 4,
 "nbformat_minor": 0
}
