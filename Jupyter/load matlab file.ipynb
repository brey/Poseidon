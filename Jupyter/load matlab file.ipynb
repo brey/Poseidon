{
 "cells": [
  {
   "cell_type": "code",
   "execution_count": 1,
   "metadata": {
    "collapsed": false,
    "scrolled": true
   },
   "outputs": [
    {
     "name": "stdout",
     "output_type": "stream",
     "text": [
      "mat = \n",
      "\n",
      "            NOF_Almei_all_1time: [1x1 struct]\n",
      "            NOF_Ancon_all_1time: [1x1 struct]\n",
      "            NOF_Carlo_all_1time: [1x1 struct]\n",
      "            NOF_Civit_all_1time: [1x1 struct]\n",
      "           NOF_Croton_all_1time: [1x1 struct]\n",
      "            NOF_Genov_all_1time: [1x1 struct]\n",
      "                    NOF_HF_T00x: [1x1 struct]\n",
      "                    NOF_HF_T12x: [1x1 struct]\n",
      "                    NOF_HF_T24x: [1x1 struct]\n",
      "                    NOF_HF_T36x: [1x1 struct]\n",
      "                    NOF_HF_T48x: [1x1 struct]\n",
      "                    NOF_HF_T60x: [1x1 struct]\n",
      "                    NOF_HF_T71x: [1x1 struct]\n",
      "            NOF_Imper_all_1time: [1x1 struct]\n",
      "            NOF_Napol_all_1time: [1x1 struct]\n",
      "            NOF_Orton_all_1time: [1x1 struct]\n",
      "            NOF_Paler_all_1time: [1x1 struct]\n",
      "            NOF_Raven_all_1time: [1x1 struct]\n",
      "            NOF_Sanbe_all_1time: [1x1 struct]\n",
      "                       NOF_T00x: [15x1704 double]\n",
      "                       NOF_T12x: [15x1704 double]\n",
      "                       NOF_T24x: [15x1704 double]\n",
      "                       NOF_T36x: [15x1704 double]\n",
      "                       NOF_T48x: [15x1704 double]\n",
      "                       NOF_T60x: [15x1704 double]\n",
      "                       NOF_T71x: [15x1704 double]\n",
      "            NOF_Tries_all_1time: [1x1 struct]\n",
      "            NOF_Valen_all_1time: [1x1 struct]\n",
      "            NOF_Venez_all_1time: [1x1 struct]\n",
      "                   Obs_00_12UTC: [1704x15 double]\n",
      "                  Obs_00_12UTCx: [15x1704 double]\n",
      "              Ref_Obs_00_12UTCx: [1x1 struct]\n",
      "                  Time_00_12UTC: [1704x1 datetime]\n",
      "               Time_ss_00_12UTC: [1704x1 datetime]\n",
      "     YOF_Almei_all_1time_offset: [1x1 struct]\n",
      "     YOF_Ancon_all_1time_offset: [1x1 struct]\n",
      "     YOF_Carlo_all_1time_offset: [1x1 struct]\n",
      "     YOF_Civit_all_1time_offset: [1x1 struct]\n",
      "    YOF_Croton_all_1time_offset: [1x1 struct]\n",
      "     YOF_Genov_all_1time_offset: [1x1 struct]\n",
      "                    YOF_HF_T00x: [1x1 struct]\n",
      "                    YOF_HF_T12x: [1x1 struct]\n",
      "                    YOF_HF_T24x: [1x1 struct]\n",
      "                    YOF_HF_T36x: [1x1 struct]\n",
      "                    YOF_HF_T48x: [1x1 struct]\n",
      "                    YOF_HF_T60x: [1x1 struct]\n",
      "                    YOF_HF_T71x: [1x1 struct]\n",
      "     YOF_Imper_all_1time_offset: [1x1 struct]\n",
      "     YOF_Napol_all_1time_offset: [1x1 struct]\n",
      "     YOF_Orton_all_1time_offset: [1x1 struct]\n",
      "     YOF_Paler_all_1time_offset: [1x1 struct]\n",
      "     YOF_Raven_all_1time_offset: [1x1 struct]\n",
      "     YOF_Sanbe_all_1time_offset: [1x1 struct]\n",
      "                        YOF_T00: [1704x15 double]\n",
      "                       YOF_T00x: [15x1704 double]\n",
      "                        YOF_T12: [1704x15 double]\n",
      "                       YOF_T12x: [15x1704 double]\n",
      "                        YOF_T24: [1704x15 double]\n",
      "                       YOF_T24x: [15x1704 double]\n",
      "                        YOF_T36: [1704x15 double]\n",
      "                       YOF_T36x: [15x1704 double]\n",
      "                        YOF_T48: [1704x15 double]\n",
      "                       YOF_T48x: [15x1704 double]\n",
      "                        YOF_T60: [1704x15 double]\n",
      "                       YOF_T60x: [15x1704 double]\n",
      "                        YOF_T71: [1704x15 double]\n",
      "                       YOF_T71x: [15x1704 double]\n",
      "     YOF_Tries_all_1time_offset: [1x1 struct]\n",
      "     YOF_Valen_all_1time_offset: [1x1 struct]\n",
      "     YOF_Venez_all_1time_offset: [1x1 struct]\n"
     ]
    }
   ],
   "source": [
    "mat=load('/mnt/pandora/Users_Critech/Thomas/__D_MATLAB_NEW/_DATA_4BREY_2TEST/ws_20161013_NOF_YOF_ALL.mat')"
   ]
  },
  {
   "cell_type": "code",
   "execution_count": 2,
   "metadata": {
    "collapsed": false
   },
   "outputs": [
    {
     "name": "stdout",
     "output_type": "stream",
     "text": [
      "ans =\n",
      "\n",
      "  Columns 1 through 13\n",
      "\n",
      "   NaN   NaN   NaN   NaN   NaN   NaN   NaN   NaN   NaN   NaN   NaN   NaN   NaN\n",
      "\n",
      "  Columns 14 through 26\n",
      "\n",
      "   NaN   NaN   NaN   NaN   NaN   NaN   NaN   NaN   NaN   NaN   NaN   NaN   NaN\n",
      "\n",
      "  Columns 27 through 30\n",
      "\n",
      "   NaN   NaN   NaN   NaN\n"
     ]
    }
   ],
   "source": [
    "mat.NOF_HF_T24x.Almei(1:30)"
   ]
  },
  {
   "cell_type": "code",
   "execution_count": 3,
   "metadata": {
    "collapsed": false
   },
   "outputs": [
    {
     "name": "stdout",
     "output_type": "stream",
     "text": [
      "ans =\n",
      "\n",
      "  Columns 1 through 7\n",
      "\n",
      "   10.0667    4.2200    1.8600    3.8000   11.5600    1.6800   -2.6000\n",
      "\n",
      "  Columns 8 through 14\n",
      "\n",
      "   -2.0200   -5.5000   -7.6600   -3.6000   -6.8800   -8.8200   -5.0800\n",
      "\n",
      "  Columns 15 through 21\n",
      "\n",
      "   -0.9000   -0.2000   -0.8000   -1.1000   -3.0200   -4.0000   -4.4800\n",
      "\n",
      "  Columns 22 through 28\n",
      "\n",
      "   -3.2000   -1.2200    0.0200   -5.5400   -4.4000    1.9400   -2.1600\n",
      "\n",
      "  Columns 29 through 30\n",
      "\n",
      "   -3.9800   -3.2000\n"
     ]
    }
   ],
   "source": [
    "mat.Obs_00_12UTCx(1,1:30)"
   ]
  },
  {
   "cell_type": "code",
   "execution_count": 14,
   "metadata": {
    "collapsed": false
   },
   "outputs": [
    {
     "name": "stdout",
     "output_type": "stream",
     "text": [
      "ans = \n",
      "\n",
      "   01-Dec-2013 00:00:00\n",
      "   01-Dec-2013 12:00:00\n",
      "   02-Dec-2013 00:00:00\n",
      "   02-Dec-2013 12:00:00\n",
      "   03-Dec-2013 00:00:00\n",
      "   03-Dec-2013 12:00:00\n",
      "   04-Dec-2013 00:00:00\n",
      "   04-Dec-2013 12:00:00\n",
      "   05-Dec-2013 00:00:00\n",
      "   05-Dec-2013 12:00:00\n"
     ]
    }
   ],
   "source": [
    "mat.Time_ss_00_12UTC(1:10)"
   ]
  },
  {
   "cell_type": "code",
   "execution_count": null,
   "metadata": {
    "collapsed": true
   },
   "outputs": [],
   "source": []
  }
 ],
 "metadata": {
  "hide_input": false,
  "kernelspec": {
   "display_name": "Matlab",
   "language": "matlab",
   "name": "matlab"
  },
  "language_info": {
   "codemirror_mode": "octave",
   "file_extension": ".m",
   "help_links": [
    {
     "text": "MetaKernel Magics",
     "url": "https://github.com/calysto/metakernel/blob/master/metakernel/magics/README.md"
    }
   ],
   "mimetype": "text/x-octave",
   "name": "matlab",
   "version": "0.10.1"
  },
  "latex_envs": {
   "bibliofile": "biblio.bib",
   "cite_by": "apalike",
   "current_citInitial": 1,
   "eqLabelWithNumbers": true,
   "eqNumInitial": 0
  }
 },
 "nbformat": 4,
 "nbformat_minor": 1
}
