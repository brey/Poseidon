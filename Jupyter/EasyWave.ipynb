{
 "cells": [
  {
   "cell_type": "code",
   "execution_count": null,
   "metadata": {
    "collapsed": false
   },
   "outputs": [],
   "source": [
    "import numpy as np\n",
    "from  netCDF4 import Dataset\n",
    "import matplotlib.pyplot as plt\n",
    "\n",
    "import time\n",
    "#%matplotlib inline"
   ]
  },
  {
   "cell_type": "code",
   "execution_count": null,
   "metadata": {
    "collapsed": false
   },
   "outputs": [],
   "source": [
    "PATHbase=\"/mnt/web2/TsunamiSurge/JETS_System/JRC/\""
   ]
  },
  {
   "cell_type": "code",
   "execution_count": null,
   "metadata": {
    "collapsed": false
   },
   "outputs": [],
   "source": [
    "data0=Dataset(PATHbase+str(15610)+'/NETCDF_H.nc')"
   ]
  },
  {
   "cell_type": "code",
   "execution_count": null,
   "metadata": {
    "collapsed": false
   },
   "outputs": [],
   "source": [
    "nformat=data0.data_model"
   ]
  },
  {
   "cell_type": "code",
   "execution_count": null,
   "metadata": {
    "collapsed": false
   },
   "outputs": [],
   "source": [
    "ha0=data0.variables['HA'][:-1,:-1,:-1]\n",
    "lon=data0.variables['LON'][:-1]\n",
    "lat=data0.variables['LAT'][:-1]\n",
    "t=data0.variables['TIME'][:-1]\n",
    "\n",
    "latc=np.mean(lat)\n",
    "lonc=np.mean(lon)\n",
    "\n",
    "lons, lats = np.meshgrid(lon,lat)\n"
   ]
  },
  {
   "cell_type": "code",
   "execution_count": null,
   "metadata": {
    "collapsed": false
   },
   "outputs": [],
   "source": [
    "s=ha0.shape"
   ]
  },
  {
   "cell_type": "code",
   "execution_count": null,
   "metadata": {
    "collapsed": false
   },
   "outputs": [],
   "source": [
    "s"
   ]
  },
  {
   "cell_type": "code",
   "execution_count": null,
   "metadata": {
    "collapsed": false
   },
   "outputs": [],
   "source": [
    "s[1:]"
   ]
  },
  {
   "cell_type": "code",
   "execution_count": null,
   "metadata": {
    "collapsed": false
   },
   "outputs": [],
   "source": [
    "ens={}"
   ]
  },
  {
   "cell_type": "code",
   "execution_count": null,
   "metadata": {
    "collapsed": false
   },
   "outputs": [],
   "source": [
    "ens['nominal']=ha0[:,:,:]"
   ]
  },
  {
   "cell_type": "code",
   "execution_count": null,
   "metadata": {
    "collapsed": false
   },
   "outputs": [],
   "source": [
    "for f in range(2,4):\n",
    "    data=Dataset(PATHbase+str(15610)+ '/%03i/coarse/NETCDF_H.nc' %(f))\n",
    "    print f\n",
    "    ha=data.variables['HA']\n",
    "    print ha.shape\n",
    "#    lon=data.variables['LON']\n",
    "#    lat=data.variables['LAT']\n",
    "#    t=data.variables['TIME']\n",
    "    if ha.shape[1:]==s[1:] :\n",
    "             ens['r'+str(f)]=ha[:,:,:]\n",
    "    data.close()        \n"
   ]
  },
  {
   "cell_type": "code",
   "execution_count": null,
   "metadata": {
    "collapsed": false
   },
   "outputs": [],
   "source": [
    "tt = {k:np.shape(v)[0] for k,v in ens.items()}"
   ]
  },
  {
   "cell_type": "code",
   "execution_count": null,
   "metadata": {
    "collapsed": false
   },
   "outputs": [],
   "source": [
    "tm=np.min(tt.values())\n"
   ]
  },
  {
   "cell_type": "code",
   "execution_count": null,
   "metadata": {
    "collapsed": false
   },
   "outputs": [],
   "source": [
    "ss"
   ]
  },
  {
   "cell_type": "code",
   "execution_count": null,
   "metadata": {
    "collapsed": false
   },
   "outputs": [],
   "source": [
    "ss=np.append(tm,s[1:])\n",
    "#w=np.zeros(ss)\n",
    "wmin=ha0[:ss[0],:,:]\n",
    "wmax=ha0[:ss[0],:,:]\n",
    "for k,v in ens.items():\n",
    "     w = w+v[:ss[0],:,:] \n",
    "     c=wmin>v[:ss[0],:,:]\n",
    "     print np.sum(c) \n",
    "     wmin[c]=v[:ss[0],:,:][c]\n",
    "     c=wmax<v[:ss[0],:,:]\n",
    "     print np.sum(c) \n",
    "     wmax[c]=v[:ss[0],:,:][c]\n",
    "\n",
    "    "
   ]
  },
  {
   "cell_type": "code",
   "execution_count": null,
   "metadata": {
    "collapsed": false
   },
   "outputs": [],
   "source": [
    "tm=200"
   ]
  },
  {
   "cell_type": "code",
   "execution_count": null,
   "metadata": {
    "collapsed": false
   },
   "outputs": [],
   "source": [
    "tstart = time.time()"
   ]
  },
  {
   "cell_type": "code",
   "execution_count": null,
   "metadata": {
    "collapsed": false
   },
   "outputs": [],
   "source": [
    "import copy"
   ]
  },
  {
   "cell_type": "code",
   "execution_count": null,
   "metadata": {
    "collapsed": false
   },
   "outputs": [],
   "source": [
    "wmin=copy.deepcopy(ha0)\n",
    "wmax=copy.deepcopy(ha0)\n",
    "#ss=np.append(tm,s[1:])\n",
    "w=ha0"
   ]
  },
  {
   "cell_type": "code",
   "execution_count": null,
   "metadata": {
    "collapsed": false
   },
   "outputs": [],
   "source": [
    "ni=6"
   ]
  },
  {
   "cell_type": "code",
   "execution_count": null,
   "metadata": {
    "collapsed": false
   },
   "outputs": [],
   "source": [
    "for f in range(1,ni):\n",
    "    data=Dataset(PATHbase+str(15610)+ '/%03i/coarse/NETCDF_H.nc' %(f))\n",
    "    print f\n",
    "    ha=data.variables['HA'][:-1,:-1,:-1]\n",
    "    print ha.shape\n",
    "#    lon=data.variables['LON']\n",
    "#    lat=data.variables['LAT']\n",
    "#    t=data.variables['TIME']\n",
    "    c=wmin>ha\n",
    "    print np.sum(c) \n",
    "    wmin[c]=ha[c]\n",
    "    c=wmax<ha\n",
    "    print np.sum(c) \n",
    "    wmax[c]=ha[c]\n",
    "\n",
    "    w=w+ha\n",
    "    #data.close()        \n"
   ]
  },
  {
   "cell_type": "code",
   "execution_count": null,
   "metadata": {
    "collapsed": false
   },
   "outputs": [],
   "source": [
    "ha.max()"
   ]
  },
  {
   "cell_type": "code",
   "execution_count": null,
   "metadata": {
    "collapsed": false
   },
   "outputs": [],
   "source": [
    "wmin.all()==wmax.all()"
   ]
  },
  {
   "cell_type": "code",
   "execution_count": null,
   "metadata": {
    "collapsed": false
   },
   "outputs": [],
   "source": [
    "print time.time() - tstart"
   ]
  },
  {
   "cell_type": "code",
   "execution_count": null,
   "metadata": {
    "collapsed": false
   },
   "outputs": [],
   "source": [
    "import os\n",
    "import shutil"
   ]
  },
  {
   "cell_type": "code",
   "execution_count": null,
   "metadata": {
    "collapsed": false
   },
   "outputs": [],
   "source": [
    "\n",
    "for f in range(11,ni):\n",
    "    ifile=PATHbase+str(15610)+ '/%03i/coarse/NETCDF_H.nc' %(f)\n",
    "    shutil.copy(ifile, '/home/critechuser/brey/NETCDF_TEST/15610/f{}.nc'.format(f))"
   ]
  },
  {
   "cell_type": "code",
   "execution_count": null,
   "metadata": {
    "collapsed": false
   },
   "outputs": [],
   "source": [
    "1874/60."
   ]
  },
  {
   "cell_type": "code",
   "execution_count": null,
   "metadata": {
    "collapsed": false
   },
   "outputs": [],
   "source": [
    "wmin.max(),wmin.min()"
   ]
  },
  {
   "cell_type": "code",
   "execution_count": null,
   "metadata": {
    "collapsed": false
   },
   "outputs": [],
   "source": [
    "wmax.max(),wmax.min()"
   ]
  },
  {
   "cell_type": "code",
   "execution_count": null,
   "metadata": {
    "collapsed": false
   },
   "outputs": [],
   "source": [
    "plt.figure()\n",
    "plt.plot(wmin[:,320,40],'r-',ha0[:ss[0],320,40],'g-',wmax[:,320,40],'b-',w[:,320,40]/f,'k--')\n",
    "plt.show()"
   ]
  },
  {
   "cell_type": "code",
   "execution_count": null,
   "metadata": {
    "collapsed": false
   },
   "outputs": [],
   "source": [
    "from mpl_toolkits.basemap import Basemap, shiftgrid\n",
    "import matplotlib.animation as animation\n"
   ]
  },
  {
   "cell_type": "code",
   "execution_count": null,
   "metadata": {
    "collapsed": false
   },
   "outputs": [],
   "source": [
    "\n",
    "# make orthographic basemap.\n",
    "m = Basemap(llcrnrlon=lon.min(),llcrnrlat=lat.min(),urcrnrlon=lon.max(),urcrnrlat=lat.max(),\n",
    "            projection='cyl',lat_1=lat.min(),lat_2=lat.max(),lon_0=lonc,\n",
    "            resolution ='l',area_thresh=1000.)\n",
    "# create figure, add axes\n",
    "fig1 = plt.figure(figsize=(8,10))\n",
    "ax = fig1.add_axes([0.1,0.1,0.8,0.8])\n",
    "# set desired contour levels.\n",
    "\n",
    "# compute native x,y coordinates of grid.\n",
    "x, y = m(lons, lats)\n",
    "# define parallels and meridians to draw.\n",
    "parallels = np.arange(-80.,90,20.)\n",
    "meridians = np.arange(0.,360.,20.)\n",
    "m.drawcoastlines(linewidth=1.5)\n",
    "m.drawparallels(parallels)\n",
    "m.drawmeridians(meridians)\n",
    "# set plot title\n",
    "ax.set_title('Watel level height')\n",
    "\n",
    "# plot contours.\n",
    "CS1 = m.contour(x,y,ha[100,:-1,:-1],linewidths=0.5,colors='k',animated=True)\n",
    "CS2 = m.contourf(x,y,ha[100,:-1,:-1],cmap=plt.cm.jet,animated=True)\n",
    "# add colorbar\n",
    "cb = m.colorbar(CS2,\"bottom\", size=\"5%\", pad=\"2%\")\n",
    "cb.set_label('ha')\n",
    "m.fillcontinents(color = 'gray')\n",
    "        \n",
    "plt.show()"
   ]
  },
  {
   "cell_type": "code",
   "execution_count": null,
   "metadata": {
    "collapsed": false
   },
   "outputs": [],
   "source": [
    "lon[:-1]"
   ]
  },
  {
   "cell_type": "code",
   "execution_count": null,
   "metadata": {
    "collapsed": false
   },
   "outputs": [],
   "source": [
    "lat[:-1]"
   ]
  },
  {
   "cell_type": "code",
   "execution_count": null,
   "metadata": {
    "collapsed": false
   },
   "outputs": [],
   "source": [
    "def onclick(event):\n",
    "    global ix, iy\n",
    "    ix, iy = event.xdata, event.ydata\n",
    "    print 'x = %d, y = %d'%(\n",
    "        ix, iy)\n",
    "\n",
    "    global coords\n",
    "    coords.append((ix, iy))\n",
    "\n",
    "#   if len(coords) == 2:\n",
    "#       fig.canvas.mpl_disconnect(cid)\n",
    "\n",
    "    return coords\n",
    "\n"
   ]
  },
  {
   "cell_type": "code",
   "execution_count": null,
   "metadata": {
    "collapsed": false
   },
   "outputs": [],
   "source": [
    "coords=[]\n",
    "cid = fig1.canvas.mpl_connect('button_press_event', onclick)\n",
    "print coords"
   ]
  },
  {
   "cell_type": "markdown",
   "metadata": {},
   "source": [
    "# WRITE to NETCDF file"
   ]
  },
  {
   "cell_type": "code",
   "execution_count": null,
   "metadata": {
    "collapsed": false
   },
   "outputs": [],
   "source": [
    "import os\n",
    "os.chdir('../../brey/NETCDF_TEST/')\n",
    "!pwd"
   ]
  },
  {
   "cell_type": "code",
   "execution_count": null,
   "metadata": {
    "collapsed": false
   },
   "outputs": [],
   "source": [
    "wfile = 'output.nc'\n",
    "ncfile = Dataset(wfile,'w',format=nformat)\n",
    "\n",
    "#create dimensions\n",
    "ncfile.createDimension('lat',lat.size)\n",
    "ncfile.createDimension('lon',lon.size)\n",
    "ncfile.createDimension('time',t.size)\n",
    "\n",
    "#define variables\n",
    "latitude = ncfile.createVariable('LAT','d',('lat',))\n",
    "longitude = ncfile.createVariable('LON','d',('lon',))\n",
    "ha = ncfile.createVariable('HA','d',('time','lat','lon'))\n",
    "hmin = ncfile.createVariable('Hmin','d',('time','lat','lon'))\n",
    "hmax = ncfile.createVariable('Hmax','d',('time','lat','lon'))\n",
    "hav = ncfile.createVariable('Have','d',('time','lat','lon'))\n",
    "\n",
    "longitude[:] = lon\n",
    "latitude[:] = lat\n",
    "ha[:] = ha0\n",
    "time[:] = time\n",
    "hmin[:]=wmin\n",
    "hmax[:]=wmax\n",
    "hav[:]=w\n",
    "\n",
    "#close ncfile\n",
    "ncfile.close()\n"
   ]
  },
  {
   "cell_type": "code",
   "execution_count": null,
   "metadata": {
    "collapsed": false
   },
   "outputs": [],
   "source": [
    "from netcdf_io import file_open,file_write, file_close"
   ]
  },
  {
   "cell_type": "code",
   "execution_count": null,
   "metadata": {
    "collapsed": false
   },
   "outputs": [],
   "source": [
    "handle=file_open('output.nc')"
   ]
  },
  {
   "cell_type": "code",
   "execution_count": null,
   "metadata": {
    "collapsed": false
   },
   "outputs": [],
   "source": [
    "s=file_write(handle,'LAT',lat)\n",
    "s=file_write(handle,'LON',lon)\n",
    "s=file_write(handle,'TIME',t)\n",
    "s=file_write(handle,'HA',ha0[:,:,:])\n",
    "s=file_write(handle,'Hmin',wmin)\n",
    "s=file_write(handle,'Hmax',wmax)\n",
    "s=file_write(handle,'Hav',w)"
   ]
  },
  {
   "cell_type": "code",
   "execution_count": null,
   "metadata": {
    "collapsed": false
   },
   "outputs": [],
   "source": [
    "file_close(handle)"
   ]
  },
  {
   "cell_type": "code",
   "execution_count": null,
   "metadata": {
    "collapsed": false
   },
   "outputs": [],
   "source": [
    "ha0"
   ]
  },
  {
   "cell_type": "code",
   "execution_count": null,
   "metadata": {
    "collapsed": false
   },
   "outputs": [],
   "source": [
    "read=Dataset('output.nc')"
   ]
  },
  {
   "cell_type": "code",
   "execution_count": null,
   "metadata": {
    "collapsed": false
   },
   "outputs": [],
   "source": [
    "read.variables"
   ]
  },
  {
   "cell_type": "code",
   "execution_count": null,
   "metadata": {
    "collapsed": false
   },
   "outputs": [],
   "source": [
    "h0=read.variables['HA']\n",
    "#hmin=read.variables['Hmin']\n",
    "#hmax=read.variables['Hmax']\n",
    "#hav=read.variables['Hav']\n",
    "\n"
   ]
  },
  {
   "cell_type": "code",
   "execution_count": null,
   "metadata": {
    "collapsed": false
   },
   "outputs": [],
   "source": [
    "plt.figure()\n",
    "plt.plot(hmin[:,320,400],'r-',label='min')\n",
    "#plt.plot(h0[:,320,400],'g-',label='baseline')\n",
    "plt.plot(hmax[:,320,400],'b-',label='max')\n",
    "#plt.plot(hav[:,320,400]/52.,'k--',label='average')\n",
    "plt.legend()\n",
    "plt.show()"
   ]
  },
  {
   "cell_type": "code",
   "execution_count": null,
   "metadata": {
    "collapsed": false
   },
   "outputs": [],
   "source": [
    "h0.shape, ha0.shape"
   ]
  },
  {
   "cell_type": "code",
   "execution_count": null,
   "metadata": {
    "collapsed": false
   },
   "outputs": [],
   "source": [
    "h0[:,:,:].min(), ha0[:,:,:].min()"
   ]
  },
  {
   "cell_type": "code",
   "execution_count": null,
   "metadata": {
    "collapsed": false
   },
   "outputs": [],
   "source": [
    "h0[:,:,:].max(), ha0[:,:,:].max()"
   ]
  },
  {
   "cell_type": "code",
   "execution_count": null,
   "metadata": {
    "collapsed": false
   },
   "outputs": [],
   "source": [
    "hmin[:,320,400]==hav[:,320,400]"
   ]
  },
  {
   "cell_type": "code",
   "execution_count": null,
   "metadata": {
    "collapsed": false
   },
   "outputs": [],
   "source": []
  }
 ],
 "metadata": {
  "kernelspec": {
   "display_name": "Python 2",
   "language": "python",
   "name": "python2"
  },
  "language_info": {
   "codemirror_mode": {
    "name": "ipython",
    "version": 2
   },
   "file_extension": ".py",
   "mimetype": "text/x-python",
   "name": "python",
   "nbconvert_exporter": "python",
   "pygments_lexer": "ipython2",
   "version": "2.7.12"
  }
 },
 "nbformat": 4,
 "nbformat_minor": 0
}
