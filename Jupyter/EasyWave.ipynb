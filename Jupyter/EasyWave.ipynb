{
 "cells": [
  {
   "cell_type": "code",
   "execution_count": 1,
   "metadata": {
    "collapsed": false
   },
   "outputs": [],
   "source": [
    "import numpy as np\n",
    "from  netCDF4 import Dataset\n",
    "import matplotlib.pyplot as plt\n",
    "\n",
    "import time\n",
    "#%matplotlib inline"
   ]
  },
  {
   "cell_type": "code",
   "execution_count": 2,
   "metadata": {
    "collapsed": false
   },
   "outputs": [],
   "source": [
    "PATHbase=\"/mnt/web2/TsunamiSurge/JETS_System/JRC/\""
   ]
  },
  {
   "cell_type": "code",
   "execution_count": 3,
   "metadata": {
    "collapsed": false
   },
   "outputs": [
    {
     "ename": "RuntimeError",
     "evalue": "No such file or directory",
     "output_type": "error",
     "traceback": [
      "\u001b[1;31m---------------------------------------------------------------------------\u001b[0m\n\u001b[1;31mRuntimeError\u001b[0m                              Traceback (most recent call last)",
      "\u001b[1;32m<ipython-input-3-fe2541f48bfa>\u001b[0m in \u001b[0;36m<module>\u001b[1;34m()\u001b[0m\n\u001b[1;32m----> 1\u001b[1;33m \u001b[0mdata0\u001b[0m\u001b[1;33m=\u001b[0m\u001b[0mDataset\u001b[0m\u001b[1;33m(\u001b[0m\u001b[0mPATHbase\u001b[0m\u001b[1;33m+\u001b[0m\u001b[0mstr\u001b[0m\u001b[1;33m(\u001b[0m\u001b[1;36m15610\u001b[0m\u001b[1;33m)\u001b[0m\u001b[1;33m+\u001b[0m\u001b[1;34m'/NETCDF_H.nc'\u001b[0m\u001b[1;33m)\u001b[0m\u001b[1;33m\u001b[0m\u001b[0m\n\u001b[0m",
      "\u001b[1;32m/home/critechuser/Enthought/Canopy_64bit/User/lib/python2.7/site-packages/netCDF4-1.1.1-py2.7-linux-x86_64.egg/netCDF4.so\u001b[0m in \u001b[0;36mnetCDF4.Dataset.__init__ (netCDF4.c:19736)\u001b[1;34m()\u001b[0m\n",
      "\u001b[1;31mRuntimeError\u001b[0m: No such file or directory"
     ]
    }
   ],
   "source": [
    "data0=Dataset(PATHbase+str(15610)+'/NETCDF_H.nc')"
   ]
  },
  {
   "cell_type": "code",
   "execution_count": 4,
   "metadata": {
    "collapsed": false
   },
   "outputs": [],
   "source": [
    "nformat=data0.data_model"
   ]
  },
  {
   "cell_type": "code",
   "execution_count": 25,
   "metadata": {
    "collapsed": false
   },
   "outputs": [],
   "source": [
    "ha0=data0.variables['HA'][:-1,:-1,:-1]\n",
    "lon=data0.variables['LON'][:-1]\n",
    "lat=data0.variables['LAT'][:-1]\n",
    "t=data0.variables['TIME'][:-1]\n",
    "\n",
    "latc=np.mean(lat)\n",
    "lonc=np.mean(lon)\n",
    "\n",
    "lons, lats = np.meshgrid(lon,lat)\n"
   ]
  },
  {
   "cell_type": "code",
   "execution_count": 6,
   "metadata": {
    "collapsed": false
   },
   "outputs": [],
   "source": [
    "s=ha0.shape"
   ]
  },
  {
   "cell_type": "code",
   "execution_count": 7,
   "metadata": {
    "collapsed": false
   },
   "outputs": [
    {
     "data": {
      "text/plain": [
       "(240, 509, 1379)"
      ]
     },
     "execution_count": 7,
     "metadata": {},
     "output_type": "execute_result"
    }
   ],
   "source": [
    "s"
   ]
  },
  {
   "cell_type": "code",
   "execution_count": 8,
   "metadata": {
    "collapsed": false
   },
   "outputs": [
    {
     "data": {
      "text/plain": [
       "(509, 1379)"
      ]
     },
     "execution_count": 8,
     "metadata": {},
     "output_type": "execute_result"
    }
   ],
   "source": [
    "s[1:]"
   ]
  },
  {
   "cell_type": "code",
   "execution_count": 8,
   "metadata": {
    "collapsed": false
   },
   "outputs": [],
   "source": [
    "ens={}"
   ]
  },
  {
   "cell_type": "code",
   "execution_count": 9,
   "metadata": {
    "collapsed": false
   },
   "outputs": [],
   "source": [
    "ens['nominal']=ha0[:,:,:]"
   ]
  },
  {
   "cell_type": "code",
   "execution_count": 10,
   "metadata": {
    "collapsed": false
   },
   "outputs": [
    {
     "name": "stdout",
     "output_type": "stream",
     "text": [
      "2\n",
      "(251, 628, 1120)\n",
      "3\n",
      "(250, 628, 1120)\n"
     ]
    }
   ],
   "source": [
    "for f in range(2,4):\n",
    "    data=Dataset(PATHbase+str(15610)+ '/%03i/coarse/NETCDF_H.nc' %(f))\n",
    "    print f\n",
    "    ha=data.variables['HA']\n",
    "    print ha.shape\n",
    "#    lon=data.variables['LON']\n",
    "#    lat=data.variables['LAT']\n",
    "#    t=data.variables['TIME']\n",
    "    if ha.shape[1:]==s[1:] :\n",
    "             ens['r'+str(f)]=ha[:,:,:]\n",
    "    data.close()        \n"
   ]
  },
  {
   "cell_type": "code",
   "execution_count": 8,
   "metadata": {
    "collapsed": false
   },
   "outputs": [
    {
     "ename": "NameError",
     "evalue": "name 'ens' is not defined",
     "output_type": "error",
     "traceback": [
      "\u001b[1;31m---------------------------------------------------------------------------\u001b[0m\n\u001b[1;31mNameError\u001b[0m                                 Traceback (most recent call last)",
      "\u001b[1;32m<ipython-input-8-cf67e5eeda36>\u001b[0m in \u001b[0;36m<module>\u001b[1;34m()\u001b[0m\n\u001b[1;32m----> 1\u001b[1;33m \u001b[0mtt\u001b[0m \u001b[1;33m=\u001b[0m \u001b[1;33m{\u001b[0m\u001b[0mk\u001b[0m\u001b[1;33m:\u001b[0m\u001b[0mnp\u001b[0m\u001b[1;33m.\u001b[0m\u001b[0mshape\u001b[0m\u001b[1;33m(\u001b[0m\u001b[0mv\u001b[0m\u001b[1;33m)\u001b[0m\u001b[1;33m[\u001b[0m\u001b[1;36m0\u001b[0m\u001b[1;33m]\u001b[0m \u001b[1;32mfor\u001b[0m \u001b[0mk\u001b[0m\u001b[1;33m,\u001b[0m\u001b[0mv\u001b[0m \u001b[1;32min\u001b[0m \u001b[0mens\u001b[0m\u001b[1;33m.\u001b[0m\u001b[0mitems\u001b[0m\u001b[1;33m(\u001b[0m\u001b[1;33m)\u001b[0m\u001b[1;33m}\u001b[0m\u001b[1;33m\u001b[0m\u001b[0m\n\u001b[0m",
      "\u001b[1;31mNameError\u001b[0m: name 'ens' is not defined"
     ]
    }
   ],
   "source": [
    "tt = {k:np.shape(v)[0] for k,v in ens.items()}"
   ]
  },
  {
   "cell_type": "code",
   "execution_count": 9,
   "metadata": {
    "collapsed": false
   },
   "outputs": [
    {
     "ename": "NameError",
     "evalue": "name 'tt' is not defined",
     "output_type": "error",
     "traceback": [
      "\u001b[1;31m---------------------------------------------------------------------------\u001b[0m\n\u001b[1;31mNameError\u001b[0m                                 Traceback (most recent call last)",
      "\u001b[1;32m<ipython-input-9-d477c4e01703>\u001b[0m in \u001b[0;36m<module>\u001b[1;34m()\u001b[0m\n\u001b[1;32m----> 1\u001b[1;33m \u001b[0mtm\u001b[0m\u001b[1;33m=\u001b[0m\u001b[0mnp\u001b[0m\u001b[1;33m.\u001b[0m\u001b[0mmin\u001b[0m\u001b[1;33m(\u001b[0m\u001b[0mtt\u001b[0m\u001b[1;33m.\u001b[0m\u001b[0mvalues\u001b[0m\u001b[1;33m(\u001b[0m\u001b[1;33m)\u001b[0m\u001b[1;33m)\u001b[0m\u001b[1;33m\u001b[0m\u001b[0m\n\u001b[0m",
      "\u001b[1;31mNameError\u001b[0m: name 'tt' is not defined"
     ]
    }
   ],
   "source": [
    "tm=np.min(tt.values())\n"
   ]
  },
  {
   "cell_type": "code",
   "execution_count": 15,
   "metadata": {
    "collapsed": false
   },
   "outputs": [
    {
     "data": {
      "text/plain": [
       "array([ 250,  628, 1120])"
      ]
     },
     "execution_count": 15,
     "metadata": {},
     "output_type": "execute_result"
    }
   ],
   "source": [
    "ss"
   ]
  },
  {
   "cell_type": "code",
   "execution_count": 14,
   "metadata": {
    "collapsed": false
   },
   "outputs": [
    {
     "ename": "MemoryError",
     "evalue": "",
     "output_type": "error",
     "traceback": [
      "\u001b[1;31m---------------------------------------------------------------------------\u001b[0m\n\u001b[1;31mMemoryError\u001b[0m                               Traceback (most recent call last)",
      "\u001b[1;32m<ipython-input-14-142e58dec9b5>\u001b[0m in \u001b[0;36m<module>\u001b[1;34m()\u001b[0m\n\u001b[0;32m      1\u001b[0m \u001b[0mss\u001b[0m\u001b[1;33m=\u001b[0m\u001b[0mnp\u001b[0m\u001b[1;33m.\u001b[0m\u001b[0mappend\u001b[0m\u001b[1;33m(\u001b[0m\u001b[0mtm\u001b[0m\u001b[1;33m,\u001b[0m\u001b[0ms\u001b[0m\u001b[1;33m[\u001b[0m\u001b[1;36m1\u001b[0m\u001b[1;33m:\u001b[0m\u001b[1;33m]\u001b[0m\u001b[1;33m)\u001b[0m\u001b[1;33m\u001b[0m\u001b[0m\n\u001b[1;32m----> 2\u001b[1;33m \u001b[0mw\u001b[0m\u001b[1;33m=\u001b[0m\u001b[0mnp\u001b[0m\u001b[1;33m.\u001b[0m\u001b[0mzeros\u001b[0m\u001b[1;33m(\u001b[0m\u001b[0mss\u001b[0m\u001b[1;33m)\u001b[0m\u001b[1;33m\u001b[0m\u001b[0m\n\u001b[0m\u001b[0;32m      3\u001b[0m \u001b[0mwmin\u001b[0m\u001b[1;33m=\u001b[0m\u001b[0mha0\u001b[0m\u001b[1;33m[\u001b[0m\u001b[1;33m:\u001b[0m\u001b[0mss\u001b[0m\u001b[1;33m[\u001b[0m\u001b[1;36m0\u001b[0m\u001b[1;33m]\u001b[0m\u001b[1;33m,\u001b[0m\u001b[1;33m:\u001b[0m\u001b[1;33m,\u001b[0m\u001b[1;33m:\u001b[0m\u001b[1;33m]\u001b[0m\u001b[1;33m\u001b[0m\u001b[0m\n\u001b[0;32m      4\u001b[0m \u001b[0mwmax\u001b[0m\u001b[1;33m=\u001b[0m\u001b[0mha0\u001b[0m\u001b[1;33m[\u001b[0m\u001b[1;33m:\u001b[0m\u001b[0mss\u001b[0m\u001b[1;33m[\u001b[0m\u001b[1;36m0\u001b[0m\u001b[1;33m]\u001b[0m\u001b[1;33m,\u001b[0m\u001b[1;33m:\u001b[0m\u001b[1;33m,\u001b[0m\u001b[1;33m:\u001b[0m\u001b[1;33m]\u001b[0m\u001b[1;33m\u001b[0m\u001b[0m\n\u001b[0;32m      5\u001b[0m \u001b[1;32mfor\u001b[0m \u001b[0mk\u001b[0m\u001b[1;33m,\u001b[0m\u001b[0mv\u001b[0m \u001b[1;32min\u001b[0m \u001b[0mens\u001b[0m\u001b[1;33m.\u001b[0m\u001b[0mitems\u001b[0m\u001b[1;33m(\u001b[0m\u001b[1;33m)\u001b[0m\u001b[1;33m:\u001b[0m\u001b[1;33m\u001b[0m\u001b[0m\n",
      "\u001b[1;31mMemoryError\u001b[0m: "
     ]
    }
   ],
   "source": [
    "ss=np.append(tm,s[1:])\n",
    "#w=np.zeros(ss)\n",
    "wmin=ha0[:ss[0],:,:]\n",
    "wmax=ha0[:ss[0],:,:]\n",
    "for k,v in ens.items():\n",
    "     w = w+v[:ss[0],:,:] \n",
    "     c=wmin>v[:ss[0],:,:]\n",
    "     print np.sum(c) \n",
    "     wmin[c]=v[:ss[0],:,:][c]\n",
    "     c=wmax<v[:ss[0],:,:]\n",
    "     print np.sum(c) \n",
    "     wmax[c]=v[:ss[0],:,:][c]\n",
    "\n",
    "    "
   ]
  },
  {
   "cell_type": "code",
   "execution_count": 8,
   "metadata": {
    "collapsed": false
   },
   "outputs": [],
   "source": [
    "tm=200"
   ]
  },
  {
   "cell_type": "code",
   "execution_count": 9,
   "metadata": {
    "collapsed": false
   },
   "outputs": [],
   "source": [
    "tstart = time.time()"
   ]
  },
  {
   "cell_type": "code",
   "execution_count": 23,
   "metadata": {
    "collapsed": false
   },
   "outputs": [],
   "source": [
    "import copy"
   ]
  },
  {
   "cell_type": "code",
   "execution_count": 25,
   "metadata": {
    "collapsed": false
   },
   "outputs": [],
   "source": [
    "wmin=copy.deepcopy(ha0)\n",
    "wmax=copy.deepcopy(ha0)\n",
    "#ss=np.append(tm,s[1:])\n",
    "w=ha0"
   ]
  },
  {
   "cell_type": "code",
   "execution_count": 31,
   "metadata": {
    "collapsed": false
   },
   "outputs": [],
   "source": [
    "ni=6"
   ]
  },
  {
   "cell_type": "code",
   "execution_count": 32,
   "metadata": {
    "collapsed": false
   },
   "outputs": [
    {
     "name": "stdout",
     "output_type": "stream",
     "text": [
      "1\n"
     ]
    },
    {
     "ename": "MemoryError",
     "evalue": "",
     "output_type": "error",
     "traceback": [
      "\u001b[1;31m---------------------------------------------------------------------------\u001b[0m\n\u001b[1;31mMemoryError\u001b[0m                               Traceback (most recent call last)",
      "\u001b[1;32m<ipython-input-32-0575f32a5477>\u001b[0m in \u001b[0;36m<module>\u001b[1;34m()\u001b[0m\n\u001b[0;32m      2\u001b[0m     \u001b[0mdata\u001b[0m\u001b[1;33m=\u001b[0m\u001b[0mDataset\u001b[0m\u001b[1;33m(\u001b[0m\u001b[0mPATHbase\u001b[0m\u001b[1;33m+\u001b[0m\u001b[0mstr\u001b[0m\u001b[1;33m(\u001b[0m\u001b[1;36m15610\u001b[0m\u001b[1;33m)\u001b[0m\u001b[1;33m+\u001b[0m \u001b[1;34m'/%03i/coarse/NETCDF_H.nc'\u001b[0m \u001b[1;33m%\u001b[0m\u001b[1;33m(\u001b[0m\u001b[0mf\u001b[0m\u001b[1;33m)\u001b[0m\u001b[1;33m)\u001b[0m\u001b[1;33m\u001b[0m\u001b[0m\n\u001b[0;32m      3\u001b[0m     \u001b[1;32mprint\u001b[0m \u001b[0mf\u001b[0m\u001b[1;33m\u001b[0m\u001b[0m\n\u001b[1;32m----> 4\u001b[1;33m     \u001b[0mha\u001b[0m\u001b[1;33m=\u001b[0m\u001b[0mdata\u001b[0m\u001b[1;33m.\u001b[0m\u001b[0mvariables\u001b[0m\u001b[1;33m[\u001b[0m\u001b[1;34m'HA'\u001b[0m\u001b[1;33m]\u001b[0m\u001b[1;33m[\u001b[0m\u001b[1;33m:\u001b[0m\u001b[1;33m-\u001b[0m\u001b[1;36m1\u001b[0m\u001b[1;33m,\u001b[0m\u001b[1;33m:\u001b[0m\u001b[1;33m-\u001b[0m\u001b[1;36m1\u001b[0m\u001b[1;33m,\u001b[0m\u001b[1;33m:\u001b[0m\u001b[1;33m-\u001b[0m\u001b[1;36m1\u001b[0m\u001b[1;33m]\u001b[0m\u001b[1;33m\u001b[0m\u001b[0m\n\u001b[0m\u001b[0;32m      5\u001b[0m     \u001b[1;32mprint\u001b[0m \u001b[0mha\u001b[0m\u001b[1;33m.\u001b[0m\u001b[0mshape\u001b[0m\u001b[1;33m\u001b[0m\u001b[0m\n\u001b[0;32m      6\u001b[0m \u001b[1;31m#    lon=data.variables['LON']\u001b[0m\u001b[1;33m\u001b[0m\u001b[1;33m\u001b[0m\u001b[0m\n",
      "\u001b[1;32m/home/critechuser/Enthought/Canopy_64bit/User/lib/python2.7/site-packages/netCDF4-1.1.1-py2.7-linux-x86_64.egg/netCDF4.so\u001b[0m in \u001b[0;36mnetCDF4.Variable.__getitem__ (netCDF4.c:37286)\u001b[1;34m()\u001b[0m\n",
      "\u001b[1;32m/home/critechuser/Enthought/Canopy_64bit/User/lib/python2.7/site-packages/netCDF4-1.1.1-py2.7-linux-x86_64.egg/netCDF4.so\u001b[0m in \u001b[0;36mnetCDF4.Variable._get (netCDF4.c:44154)\u001b[1;34m()\u001b[0m\n",
      "\u001b[1;31mMemoryError\u001b[0m: "
     ]
    }
   ],
   "source": [
    "for f in range(1,ni):\n",
    "    data=Dataset(PATHbase+str(15610)+ '/%03i/coarse/NETCDF_H.nc' %(f))\n",
    "    print f\n",
    "    ha=data.variables['HA'][:-1,:-1,:-1]\n",
    "    print ha.shape\n",
    "#    lon=data.variables['LON']\n",
    "#    lat=data.variables['LAT']\n",
    "#    t=data.variables['TIME']\n",
    "    c=wmin>ha\n",
    "    print np.sum(c) \n",
    "    wmin[c]=ha[c]\n",
    "    c=wmax<ha\n",
    "    print np.sum(c) \n",
    "    wmax[c]=ha[c]\n",
    "\n",
    "    w=w+ha\n",
    "    #data.close()        \n"
   ]
  },
  {
   "cell_type": "code",
   "execution_count": 30,
   "metadata": {
    "collapsed": false
   },
   "outputs": [
    {
     "data": {
      "text/plain": [
       "1.6130793"
      ]
     },
     "execution_count": 30,
     "metadata": {},
     "output_type": "execute_result"
    }
   ],
   "source": [
    "ha.max()"
   ]
  },
  {
   "cell_type": "code",
   "execution_count": 27,
   "metadata": {
    "collapsed": false
   },
   "outputs": [
    {
     "data": {
      "text/plain": [
       "True"
      ]
     },
     "execution_count": 27,
     "metadata": {},
     "output_type": "execute_result"
    }
   ],
   "source": [
    "wmin.all()==wmax.all()"
   ]
  },
  {
   "cell_type": "code",
   "execution_count": 22,
   "metadata": {
    "collapsed": false
   },
   "outputs": [
    {
     "name": "stdout",
     "output_type": "stream",
     "text": [
      "1874.43783212\n"
     ]
    }
   ],
   "source": [
    "print time.time() - tstart"
   ]
  },
  {
   "cell_type": "code",
   "execution_count": 26,
   "metadata": {
    "collapsed": false
   },
   "outputs": [],
   "source": [
    "import os\n",
    "import shutil"
   ]
  },
  {
   "cell_type": "code",
   "execution_count": 27,
   "metadata": {
    "collapsed": false
   },
   "outputs": [],
   "source": [
    "\n",
    "for f in range(11,ni):\n",
    "    ifile=PATHbase+str(15610)+ '/%03i/coarse/NETCDF_H.nc' %(f)\n",
    "    shutil.copy(ifile, '/home/critechuser/brey/NETCDF_TEST/15610/f{}.nc'.format(f))"
   ]
  },
  {
   "cell_type": "code",
   "execution_count": 23,
   "metadata": {
    "collapsed": false
   },
   "outputs": [
    {
     "data": {
      "text/plain": [
       "31.233333333333334"
      ]
     },
     "execution_count": 23,
     "metadata": {},
     "output_type": "execute_result"
    }
   ],
   "source": [
    "1874/60."
   ]
  },
  {
   "cell_type": "code",
   "execution_count": 17,
   "metadata": {
    "collapsed": false
   },
   "outputs": [
    {
     "data": {
      "text/plain": [
       "(1.6130793, -1.5439506)"
      ]
     },
     "execution_count": 17,
     "metadata": {},
     "output_type": "execute_result"
    }
   ],
   "source": [
    "wmin.max(),wmin.min()"
   ]
  },
  {
   "cell_type": "code",
   "execution_count": 18,
   "metadata": {
    "collapsed": false
   },
   "outputs": [
    {
     "data": {
      "text/plain": [
       "(1.6130793, -1.5439506)"
      ]
     },
     "execution_count": 18,
     "metadata": {},
     "output_type": "execute_result"
    }
   ],
   "source": [
    "wmax.max(),wmax.min()"
   ]
  },
  {
   "cell_type": "code",
   "execution_count": 17,
   "metadata": {
    "collapsed": false
   },
   "outputs": [],
   "source": [
    "plt.figure()\n",
    "plt.plot(wmin[:,320,40],'r-',ha0[:ss[0],320,40],'g-',wmax[:,320,40],'b-',w[:,320,40]/f,'k--')\n",
    "plt.show()"
   ]
  },
  {
   "cell_type": "code",
   "execution_count": 21,
   "metadata": {
    "collapsed": false
   },
   "outputs": [],
   "source": [
    "from mpl_toolkits.basemap import Basemap, shiftgrid\n",
    "import matplotlib.animation as animation\n"
   ]
  },
  {
   "cell_type": "code",
   "execution_count": 28,
   "metadata": {
    "collapsed": false
   },
   "outputs": [
    {
     "data": {
      "image/png": "[encoded data removed]",
      "text/plain": [
       "<matplotlib.figure.Figure at 0x3cabb50>"
      ]
     },
     "metadata": {},
     "output_type": "display_data"
    }
   ],
   "source": [
    "\n",
    "# make orthographic basemap.\n",
    "m = Basemap(llcrnrlon=lon.min(),llcrnrlat=lat.min(),urcrnrlon=lon.max(),urcrnrlat=lat.max(),\n",
    "            projection='cyl',lat_1=lat.min(),lat_2=lat.max(),lon_0=lonc,\n",
    "            resolution ='l',area_thresh=1000.)\n",
    "# create figure, add axes\n",
    "fig1 = plt.figure(figsize=(8,10))\n",
    "ax = fig1.add_axes([0.1,0.1,0.8,0.8])\n",
    "# set desired contour levels.\n",
    "\n",
    "# compute native x,y coordinates of grid.\n",
    "x, y = m(lons, lats)\n",
    "# define parallels and meridians to draw.\n",
    "parallels = np.arange(-80.,90,20.)\n",
    "meridians = np.arange(0.,360.,20.)\n",
    "m.drawcoastlines(linewidth=1.5)\n",
    "m.drawparallels(parallels)\n",
    "m.drawmeridians(meridians)\n",
    "# set plot title\n",
    "ax.set_title('Watel level height')\n",
    "\n",
    "# plot contours.\n",
    "CS1 = m.contour(x,y,ha[100,:-1,:-1],linewidths=0.5,colors='k',animated=True)\n",
    "CS2 = m.contourf(x,y,ha[100,:-1,:-1],cmap=plt.cm.jet,animated=True)\n",
    "# add colorbar\n",
    "cb = m.colorbar(CS2,\"bottom\", size=\"5%\", pad=\"2%\")\n",
    "cb.set_label('ha')\n",
    "m.fillcontinents(color = 'gray')\n",
    "        \n",
    "plt.show()"
   ]
  },
  {
   "cell_type": "code",
   "execution_count": 59,
   "metadata": {
    "collapsed": false
   },
   "outputs": [
    {
     "data": {
      "text/plain": [
       "array([ -9.4875    ,  -9.4625    ,  -9.4375    , ...,  18.38750042,\n",
       "        18.41250042,  18.43750042])"
      ]
     },
     "execution_count": 59,
     "metadata": {},
     "output_type": "execute_result"
    }
   ],
   "source": [
    "lon[:-1]"
   ]
  },
  {
   "cell_type": "code",
   "execution_count": 50,
   "metadata": {
    "collapsed": false
   },
   "outputs": [
    {
     "data": {
      "text/plain": [
       "array([ 30.01250053,  30.03750053,  30.06250053,  30.08750053,\n",
       "        30.11250053,  30.13750053,  30.16250053,  30.18750053,\n",
       "        30.21250053,  30.23750053,  30.26250053,  30.28750053,\n",
       "        30.31250053,  30.33750053,  30.36250053,  30.38750053,\n",
       "        30.41250054,  30.43750054,  30.46250054,  30.48750054,\n",
       "        30.51250054,  30.53750054,  30.56250054,  30.58750054,\n",
       "        30.61250054,  30.63750054,  30.66250054,  30.68750054,\n",
       "        30.71250054,  30.73750054,  30.76250054,  30.78750054,\n",
       "        30.81250054,  30.83750054,  30.86250054,  30.88750054,\n",
       "        30.91250054,  30.93750054,  30.96250054,  30.98750054,\n",
       "        31.01250054,  31.03750054,  31.06250054,  31.08750055,\n",
       "        31.11250055,  31.13750055,  31.16250055,  31.18750055,\n",
       "        31.21250055,  31.23750055,  31.26250055,  31.28750055,\n",
       "        31.31250055,  31.33750055,  31.36250055,  31.38750055,\n",
       "        31.41250055,  31.43750055,  31.46250055,  31.48750055,\n",
       "        31.51250055,  31.53750055,  31.56250055,  31.58750055,\n",
       "        31.61250055,  31.63750055,  31.66250055,  31.68750055,\n",
       "        31.71250055,  31.73750055,  31.76250056,  31.78750056,\n",
       "        31.81250056,  31.83750056,  31.86250056,  31.88750056,\n",
       "        31.91250056,  31.93750056,  31.96250056,  31.98750056,\n",
       "        32.01250056,  32.03750056,  32.06250056,  32.08750056,\n",
       "        32.11250056,  32.13750056,  32.16250056,  32.18750056,\n",
       "        32.21250056,  32.23750056,  32.26250056,  32.28750056,\n",
       "        32.31250056,  32.33750056,  32.36250056,  32.38750056,\n",
       "        32.41250056,  32.43750057,  32.46250057,  32.48750057,\n",
       "        32.51250057,  32.53750057,  32.56250057,  32.58750057,\n",
       "        32.61250057,  32.63750057,  32.66250057,  32.68750057,\n",
       "        32.71250057,  32.73750057,  32.76250057,  32.78750057,\n",
       "        32.81250057,  32.83750057,  32.86250057,  32.88750057,\n",
       "        32.91250057,  32.93750057,  32.96250057,  32.98750057,\n",
       "        33.01250057,  33.03750057,  33.06250057,  33.08750057,\n",
       "        33.11250058,  33.13750058,  33.16250058,  33.18750058,\n",
       "        33.21250058,  33.23750058,  33.26250058,  33.28750058,\n",
       "        33.31250058,  33.33750058,  33.36250058,  33.38750058,\n",
       "        33.41250058,  33.43750058,  33.46250058,  33.48750058,\n",
       "        33.51250058,  33.53750058,  33.56250058,  33.58750058,\n",
       "        33.61250058,  33.63750058,  33.66250058,  33.68750058,\n",
       "        33.71250058,  33.73750058,  33.76250059,  33.78750059,\n",
       "        33.81250059,  33.83750059,  33.86250059,  33.88750059,\n",
       "        33.91250059,  33.93750059,  33.96250059,  33.98750059,\n",
       "        34.01250059,  34.03750059,  34.06250059,  34.08750059,\n",
       "        34.11250059,  34.13750059,  34.16250059,  34.18750059,\n",
       "        34.21250059,  34.23750059,  34.26250059,  34.28750059,\n",
       "        34.31250059,  34.33750059,  34.36250059,  34.38750059,\n",
       "        34.41250059,  34.4375006 ,  34.4625006 ,  34.4875006 ,\n",
       "        34.5125006 ,  34.5375006 ,  34.5625006 ,  34.5875006 ,\n",
       "        34.6125006 ,  34.6375006 ,  34.6625006 ,  34.6875006 ,\n",
       "        34.7125006 ,  34.7375006 ,  34.7625006 ,  34.7875006 ,\n",
       "        34.8125006 ,  34.8375006 ,  34.8625006 ,  34.8875006 ,\n",
       "        34.9125006 ,  34.9375006 ,  34.9625006 ,  34.9875006 ,\n",
       "        35.0125006 ,  35.0375006 ,  35.0625006 ,  35.0875006 ,\n",
       "        35.11250061,  35.13750061,  35.16250061,  35.18750061,\n",
       "        35.21250061,  35.23750061,  35.26250061,  35.28750061,\n",
       "        35.31250061,  35.33750061,  35.36250061,  35.38750061,\n",
       "        35.41250061,  35.43750061,  35.46250061,  35.48750061,\n",
       "        35.51250061,  35.53750061,  35.56250061,  35.58750061,\n",
       "        35.61250061,  35.63750061,  35.66250061,  35.68750061,\n",
       "        35.71250061,  35.73750061,  35.76250061,  35.78750062,\n",
       "        35.81250062,  35.83750062,  35.86250062,  35.88750062,\n",
       "        35.91250062,  35.93750062,  35.96250062,  35.98750062,\n",
       "        36.01250062,  36.03750062,  36.06250062,  36.08750062,\n",
       "        36.11250062,  36.13750062,  36.16250062,  36.18750062,\n",
       "        36.21250062,  36.23750062,  36.26250062,  36.28750062,\n",
       "        36.31250062,  36.33750062,  36.36250062,  36.38750062,\n",
       "        36.41250062,  36.43750062,  36.46250063,  36.48750063,\n",
       "        36.51250063,  36.53750063,  36.56250063,  36.58750063,\n",
       "        36.61250063,  36.63750063,  36.66250063,  36.68750063,\n",
       "        36.71250063,  36.73750063,  36.76250063,  36.78750063,\n",
       "        36.81250063,  36.83750063,  36.86250063,  36.88750063,\n",
       "        36.91250063,  36.93750063,  36.96250063,  36.98750063,\n",
       "        37.01250063,  37.03750063,  37.06250063,  37.08750063,\n",
       "        37.11250063,  37.13750064,  37.16250064,  37.18750064,\n",
       "        37.21250064,  37.23750064,  37.26250064,  37.28750064,\n",
       "        37.31250064,  37.33750064,  37.36250064,  37.38750064,\n",
       "        37.41250064,  37.43750064,  37.46250064,  37.48750064,\n",
       "        37.51250064,  37.53750064,  37.56250064,  37.58750064,\n",
       "        37.61250064,  37.63750064,  37.66250064,  37.68750064,\n",
       "        37.71250064,  37.73750064,  37.76250064,  37.78750065,\n",
       "        37.81250065,  37.83750065,  37.86250065,  37.88750065,\n",
       "        37.91250065,  37.93750065,  37.96250065,  37.98750065,\n",
       "        38.01250065,  38.03750065,  38.06250065,  38.08750065,\n",
       "        38.11250065,  38.13750065,  38.16250065,  38.18750065,\n",
       "        38.21250065,  38.23750065,  38.26250065,  38.28750065,\n",
       "        38.31250065,  38.33750065,  38.36250065,  38.38750065,\n",
       "        38.41250065,  38.43750065,  38.46250066,  38.48750066,\n",
       "        38.51250066,  38.53750066,  38.56250066,  38.58750066,\n",
       "        38.61250066,  38.63750066,  38.66250066,  38.68750066,\n",
       "        38.71250066,  38.73750066,  38.76250066,  38.78750066,\n",
       "        38.81250066,  38.83750066,  38.86250066,  38.88750066,\n",
       "        38.91250066,  38.93750066,  38.96250066,  38.98750066,\n",
       "        39.01250066,  39.03750066,  39.06250066,  39.08750066,\n",
       "        39.11250066,  39.13750067,  39.16250067,  39.18750067,\n",
       "        39.21250067,  39.23750067,  39.26250067,  39.28750067,\n",
       "        39.31250067,  39.33750067,  39.36250067,  39.38750067,\n",
       "        39.41250067,  39.43750067,  39.46250067,  39.48750067,\n",
       "        39.51250067,  39.53750067,  39.56250067,  39.58750067,\n",
       "        39.61250067,  39.63750067,  39.66250067,  39.68750067,\n",
       "        39.71250067,  39.73750067,  39.76250067,  39.78750067,\n",
       "        39.81250068,  39.83750068,  39.86250068,  39.88750068,\n",
       "        39.91250068,  39.93750068,  39.96250068,  39.98750068,\n",
       "        40.01250068,  40.03750068,  40.06250068,  40.08750068,\n",
       "        40.11250068,  40.13750068,  40.16250068,  40.18750068,\n",
       "        40.21250068,  40.23750068,  40.26250068,  40.28750068,\n",
       "        40.31250068,  40.33750068,  40.36250068,  40.38750068,\n",
       "        40.41250068,  40.43750068,  40.46250068,  40.48750069,\n",
       "        40.51250069,  40.53750069,  40.56250069,  40.58750069,\n",
       "        40.61250069,  40.63750069,  40.66250069,  40.68750069,\n",
       "        40.71250069,  40.73750069,  40.76250069,  40.78750069,\n",
       "        40.81250069,  40.83750069,  40.86250069,  40.88750069,\n",
       "        40.91250069,  40.93750069,  40.96250069,  40.98750069,\n",
       "        41.01250069,  41.03750069,  41.06250069,  41.08750069,\n",
       "        41.11250069,  41.13750069,  41.1625007 ,  41.1875007 ,\n",
       "        41.2125007 ,  41.2375007 ,  41.2625007 ,  41.2875007 ,\n",
       "        41.3125007 ,  41.3375007 ,  41.3625007 ,  41.3875007 ,\n",
       "        41.4125007 ,  41.4375007 ,  41.4625007 ,  41.4875007 ,\n",
       "        41.5125007 ,  41.5375007 ,  41.5625007 ,  41.5875007 ,\n",
       "        41.6125007 ,  41.6375007 ,  41.6625007 ,  41.6875007 ,\n",
       "        41.7125007 ,  41.7375007 ,  41.7625007 ,  41.7875007 ,\n",
       "        41.81250071,  41.83750071,  41.86250071,  41.88750071,\n",
       "        41.91250071,  41.93750071,  41.96250071,  41.98750071,\n",
       "        42.01250071,  42.03750071,  42.06250071,  42.08750071,\n",
       "        42.11250071,  42.13750071,  42.16250071,  42.18750071,\n",
       "        42.21250071,  42.23750071,  42.26250071,  42.28750071,\n",
       "        42.31250071,  42.33750071,  42.36250071,  42.38750071,\n",
       "        42.41250071,  42.43750071,  42.46250071,  42.48750072,\n",
       "        42.51250072,  42.53750072,  42.56250072,  42.58750072,\n",
       "        42.61250072,  42.63750072,  42.66250072,  42.68750072,\n",
       "        42.71250072,  42.73750072,  42.76250072,  42.78750072,\n",
       "        42.81250072,  42.83750072,  42.86250072,  42.88750072,\n",
       "        42.91250072,  42.93750072,  42.96250072,  42.98750072,\n",
       "        43.01250072,  43.03750072,  43.06250072,  43.08750072,\n",
       "        43.11250072,  43.13750072,  43.16250073,  43.18750073,\n",
       "        43.21250073,  43.23750073,  43.26250073,  43.28750073,\n",
       "        43.31250073,  43.33750073,  43.36250073,  43.38750073,\n",
       "        43.41250073,  43.43750073,  43.46250073,  43.48750073,\n",
       "        43.51250073,  43.53750073,  43.56250073,  43.58750073,\n",
       "        43.61250073,  43.63750073,  43.66250073,  43.68750073,\n",
       "        43.71250073,  43.73750073,  43.76250073,  43.78750073,\n",
       "        43.81250073,  43.83750074,  43.86250074,  43.88750074,\n",
       "        43.91250074,  43.93750074,  43.96250074,  43.98750074,\n",
       "        44.01250074,  44.03750074,  44.06250074,  44.08750074,\n",
       "        44.11250074,  44.13750074,  44.16250074,  44.18750074,\n",
       "        44.21250074,  44.23750074,  44.26250074,  44.28750074,\n",
       "        44.31250074,  44.33750074,  44.36250074,  44.38750074,\n",
       "        44.41250074,  44.43750074,  44.46250074,  44.48750074,\n",
       "        44.51250075,  44.53750075,  44.56250075,  44.58750075,\n",
       "        44.61250075,  44.63750075,  44.66250075,  44.68750075,\n",
       "        44.71250075,  44.73750075,  44.76250075,  44.78750075,\n",
       "        44.81250075,  44.83750075,  44.86250075,  44.88750075,\n",
       "        44.91250075,  44.93750075,  44.96250075,  44.98750075,\n",
       "        45.01250075,  45.03750075,  45.06250075,  45.08750075,\n",
       "        45.11250075,  45.13750075,  45.16250075,  45.18750076,\n",
       "        45.21250076,  45.23750076,  45.26250076,  45.28750076,\n",
       "        45.31250076,  45.33750076,  45.36250076,  45.38750076,\n",
       "        45.41250076,  45.43750076,  45.46250076,  45.48750076,\n",
       "        45.51250076,  45.53750076,  45.56250076,  45.58750076,\n",
       "        45.61250076,  45.63750076,  45.66250076])"
      ]
     },
     "execution_count": 50,
     "metadata": {},
     "output_type": "execute_result"
    }
   ],
   "source": [
    "lat[:-1]"
   ]
  },
  {
   "cell_type": "code",
   "execution_count": 16,
   "metadata": {
    "collapsed": false
   },
   "outputs": [],
   "source": [
    "def onclick(event):\n",
    "    global ix, iy\n",
    "    ix, iy = event.xdata, event.ydata\n",
    "    print 'x = %d, y = %d'%(\n",
    "        ix, iy)\n",
    "\n",
    "    global coords\n",
    "    coords.append((ix, iy))\n",
    "\n",
    "#   if len(coords) == 2:\n",
    "#       fig.canvas.mpl_disconnect(cid)\n",
    "\n",
    "    return coords\n",
    "\n"
   ]
  },
  {
   "cell_type": "code",
   "execution_count": 20,
   "metadata": {
    "collapsed": false
   },
   "outputs": [
    {
     "name": "stdout",
     "output_type": "stream",
     "text": [
      "[]\n"
     ]
    }
   ],
   "source": [
    "coords=[]\n",
    "cid = fig1.canvas.mpl_connect('button_press_event', onclick)\n",
    "print coords"
   ]
  },
  {
   "cell_type": "markdown",
   "metadata": {},
   "source": [
    "# WRITE to NETCDF file"
   ]
  },
  {
   "cell_type": "code",
   "execution_count": 16,
   "metadata": {
    "collapsed": false
   },
   "outputs": [
    {
     "name": "stdout",
     "output_type": "stream",
     "text": [
      "/home/critechuser/brey/NETCDF_TEST\r\n"
     ]
    }
   ],
   "source": [
    "import os\n",
    "os.chdir('../../brey/NETCDF_TEST/')\n",
    "!pwd"
   ]
  },
  {
   "cell_type": "code",
   "execution_count": 49,
   "metadata": {
    "collapsed": false
   },
   "outputs": [
    {
     "ename": "IndexError",
     "evalue": "size of data array does not conform to slice",
     "output_type": "error",
     "traceback": [
      "\u001b[1;31m---------------------------------------------------------------------------\u001b[0m\n\u001b[1;31mIndexError\u001b[0m                                Traceback (most recent call last)",
      "\u001b[1;32m<ipython-input-49-bd87db54efef>\u001b[0m in \u001b[0;36m<module>\u001b[1;34m()\u001b[0m\n\u001b[0;32m     17\u001b[0m \u001b[0mlongitude\u001b[0m\u001b[1;33m[\u001b[0m\u001b[1;33m:\u001b[0m\u001b[1;33m]\u001b[0m \u001b[1;33m=\u001b[0m \u001b[0mlon\u001b[0m\u001b[1;33m\u001b[0m\u001b[0m\n\u001b[0;32m     18\u001b[0m \u001b[0mlatitude\u001b[0m\u001b[1;33m[\u001b[0m\u001b[1;33m:\u001b[0m\u001b[1;33m]\u001b[0m \u001b[1;33m=\u001b[0m \u001b[0mlat\u001b[0m\u001b[1;33m\u001b[0m\u001b[0m\n\u001b[1;32m---> 19\u001b[1;33m \u001b[0mha\u001b[0m\u001b[1;33m[\u001b[0m\u001b[1;33m:\u001b[0m\u001b[1;33m]\u001b[0m \u001b[1;33m=\u001b[0m \u001b[0mha0\u001b[0m\u001b[1;33m\u001b[0m\u001b[0m\n\u001b[0m\u001b[0;32m     20\u001b[0m \u001b[0mtime\u001b[0m\u001b[1;33m[\u001b[0m\u001b[1;33m:\u001b[0m\u001b[1;33m]\u001b[0m \u001b[1;33m=\u001b[0m \u001b[0mtime\u001b[0m\u001b[1;33m\u001b[0m\u001b[0m\n\u001b[0;32m     21\u001b[0m \u001b[0mhmin\u001b[0m\u001b[1;33m[\u001b[0m\u001b[1;33m:\u001b[0m\u001b[1;33m]\u001b[0m\u001b[1;33m=\u001b[0m\u001b[0mwmin\u001b[0m\u001b[1;33m\u001b[0m\u001b[0m\n",
      "\u001b[1;32m/home/critechuser/Enthought/Canopy_64bit/User/lib/python2.7/site-packages/netCDF4-1.1.1-py2.7-linux-x86_64.egg/netCDF4.so\u001b[0m in \u001b[0;36mnetCDF4.Variable.__setitem__ (netCDF4.c:41562)\u001b[1;34m()\u001b[0m\n",
      "\u001b[1;32m/home/critechuser/Enthought/Canopy_64bit/User/lib/python2.7/site-packages/netCDF4-1.1.1-py2.7-linux-x86_64.egg/netCDF4.so\u001b[0m in \u001b[0;36mnetCDF4.Variable._put (netCDF4.c:42616)\u001b[1;34m()\u001b[0m\n",
      "\u001b[1;31mIndexError\u001b[0m: size of data array does not conform to slice"
     ]
    }
   ],
   "source": [
    "wfile = 'output.nc'\n",
    "ncfile = Dataset(wfile,'w',format=nformat)\n",
    "\n",
    "#create dimensions\n",
    "ncfile.createDimension('lat',lat.size)\n",
    "ncfile.createDimension('lon',lon.size)\n",
    "ncfile.createDimension('time',t.size)\n",
    "\n",
    "#define variables\n",
    "latitude = ncfile.createVariable('LAT','d',('lat',))\n",
    "longitude = ncfile.createVariable('LON','d',('lon',))\n",
    "ha = ncfile.createVariable('HA','d',('time','lat','lon'))\n",
    "hmin = ncfile.createVariable('Hmin','d',('time','lat','lon'))\n",
    "hmax = ncfile.createVariable('Hmax','d',('time','lat','lon'))\n",
    "hav = ncfile.createVariable('Have','d',('time','lat','lon'))\n",
    "\n",
    "longitude[:] = lon\n",
    "latitude[:] = lat\n",
    "ha[:] = ha0\n",
    "time[:] = time\n",
    "hmin[:]=wmin\n",
    "hmax[:]=wmax\n",
    "hav[:]=w\n",
    "\n",
    "#close ncfile\n",
    "ncfile.close()\n"
   ]
  },
  {
   "cell_type": "code",
   "execution_count": 58,
   "metadata": {
    "collapsed": false
   },
   "outputs": [],
   "source": [
    "from netcdf_io import file_open,file_write, file_close"
   ]
  },
  {
   "cell_type": "code",
   "execution_count": 59,
   "metadata": {
    "collapsed": false
   },
   "outputs": [],
   "source": [
    "handle=file_open('output.nc')"
   ]
  },
  {
   "cell_type": "code",
   "execution_count": null,
   "metadata": {
    "collapsed": false
   },
   "outputs": [],
   "source": [
    "s=file_write(handle,'LAT',lat)\n",
    "s=file_write(handle,'LON',lon)\n",
    "s=file_write(handle,'TIME',t)\n",
    "s=file_write(handle,'HA',ha0[:,:,:])\n",
    "s=file_write(handle,'Hmin',wmin)\n",
    "s=file_write(handle,'Hmax',wmax)\n",
    "s=file_write(handle,'Hav',w)"
   ]
  },
  {
   "cell_type": "code",
   "execution_count": 57,
   "metadata": {
    "collapsed": false
   },
   "outputs": [],
   "source": [
    "file_close(handle)"
   ]
  },
  {
   "cell_type": "code",
   "execution_count": 61,
   "metadata": {
    "collapsed": false
   },
   "outputs": [
    {
     "data": {
      "text/plain": [
       "<netCDF4.Variable at 0x297d2b0>"
      ]
     },
     "execution_count": 61,
     "metadata": {},
     "output_type": "execute_result"
    }
   ],
   "source": [
    "ha0"
   ]
  },
  {
   "cell_type": "code",
   "execution_count": 17,
   "metadata": {
    "collapsed": false
   },
   "outputs": [],
   "source": [
    "read=Dataset('output.nc')"
   ]
  },
  {
   "cell_type": "code",
   "execution_count": 18,
   "metadata": {
    "collapsed": false
   },
   "outputs": [
    {
     "data": {
      "text/plain": [
       "OrderedDict([(u'LAT', <netCDF4.Variable object at 0x46940e8>), (u'LON', <netCDF4.Variable object at 0x4694180>), (u'TIME', <netCDF4.Variable object at 0x4694218>), (u'HA', <netCDF4.Variable object at 0x46942b0>)])"
      ]
     },
     "execution_count": 18,
     "metadata": {},
     "output_type": "execute_result"
    }
   ],
   "source": [
    "read.variables"
   ]
  },
  {
   "cell_type": "code",
   "execution_count": 20,
   "metadata": {
    "collapsed": false
   },
   "outputs": [],
   "source": [
    "h0=read.variables['HA']\n",
    "#hmin=read.variables['Hmin']\n",
    "#hmax=read.variables['Hmax']\n",
    "#hav=read.variables['Hav']\n",
    "\n"
   ]
  },
  {
   "cell_type": "code",
   "execution_count": 13,
   "metadata": {
    "collapsed": false
   },
   "outputs": [],
   "source": [
    "plt.figure()\n",
    "plt.plot(hmin[:,320,400],'r-',label='min')\n",
    "#plt.plot(h0[:,320,400],'g-',label='baseline')\n",
    "plt.plot(hmax[:,320,400],'b-',label='max')\n",
    "#plt.plot(hav[:,320,400]/52.,'k--',label='average')\n",
    "plt.legend()\n",
    "plt.show()"
   ]
  },
  {
   "cell_type": "code",
   "execution_count": 26,
   "metadata": {
    "collapsed": false
   },
   "outputs": [
    {
     "data": {
      "text/plain": [
       "((240, 509, 1379), (240, 509, 1379))"
      ]
     },
     "execution_count": 26,
     "metadata": {},
     "output_type": "execute_result"
    }
   ],
   "source": [
    "h0.shape, ha0.shape"
   ]
  },
  {
   "cell_type": "code",
   "execution_count": 35,
   "metadata": {
    "collapsed": false
   },
   "outputs": [
    {
     "data": {
      "text/plain": [
       "(-1.5439506, -1.6094993)"
      ]
     },
     "execution_count": 35,
     "metadata": {},
     "output_type": "execute_result"
    }
   ],
   "source": [
    "h0[:,:,:].min(), ha0[:,:,:].min()"
   ]
  },
  {
   "cell_type": "code",
   "execution_count": 36,
   "metadata": {
    "collapsed": false
   },
   "outputs": [
    {
     "data": {
      "text/plain": [
       "(1.6130793, 1.6657526)"
      ]
     },
     "execution_count": 36,
     "metadata": {},
     "output_type": "execute_result"
    }
   ],
   "source": [
    "h0[:,:,:].max(), ha0[:,:,:].max()"
   ]
  },
  {
   "cell_type": "code",
   "execution_count": 15,
   "metadata": {
    "collapsed": false
   },
   "outputs": [
    {
     "data": {
      "text/plain": [
       "array([ True,  True,  True,  True,  True,  True,  True,  True,  True,\n",
       "        True,  True,  True,  True,  True,  True,  True,  True,  True,\n",
       "        True,  True,  True,  True,  True,  True,  True,  True,  True,\n",
       "        True,  True,  True,  True,  True,  True,  True,  True,  True,\n",
       "        True,  True,  True,  True,  True,  True,  True,  True,  True,\n",
       "        True,  True,  True,  True,  True,  True,  True,  True,  True,\n",
       "        True, False, False, False, False, False, False, False, False,\n",
       "       False, False, False, False, False, False, False, False, False,\n",
       "       False, False, False, False, False, False, False, False, False,\n",
       "       False, False, False, False, False, False, False, False, False,\n",
       "       False, False, False, False, False, False, False, False, False,\n",
       "       False, False, False, False, False, False, False, False, False,\n",
       "       False, False, False, False, False, False, False, False, False,\n",
       "       False, False, False, False, False, False, False, False, False,\n",
       "       False, False, False, False, False, False, False, False, False,\n",
       "       False, False, False, False, False, False, False, False, False,\n",
       "       False, False, False, False, False, False, False, False, False,\n",
       "       False, False, False, False, False, False, False, False, False,\n",
       "       False, False, False, False, False, False, False, False, False,\n",
       "       False, False, False, False, False, False, False, False, False,\n",
       "       False, False, False, False, False, False, False, False, False,\n",
       "       False, False, False, False, False, False, False, False, False,\n",
       "       False, False, False, False, False, False, False, False, False,\n",
       "       False, False, False, False, False, False, False, False, False,\n",
       "       False, False, False, False, False, False, False, False, False,\n",
       "       False, False, False, False, False, False, False, False, False,\n",
       "       False, False, False, False, False, False], dtype=bool)"
      ]
     },
     "execution_count": 15,
     "metadata": {},
     "output_type": "execute_result"
    }
   ],
   "source": [
    "hmin[:,320,400]==hav[:,320,400]"
   ]
  },
  {
   "cell_type": "code",
   "execution_count": null,
   "metadata": {
    "collapsed": false
   },
   "outputs": [],
   "source": []
  }
 ],
 "metadata": {
  "kernelspec": {
   "display_name": "Python 2",
   "language": "python",
   "name": "python2"
  },
  "language_info": {
   "codemirror_mode": {
    "name": "ipython",
    "version": 2
   },
   "file_extension": ".py",
   "mimetype": "text/x-python",
   "name": "python",
   "nbconvert_exporter": "python",
   "pygments_lexer": "ipython2",
   "version": "2.7.11+"
  },
  "widgets": {
   "state": {},
   "version": "1.1.1"
  }
 },
 "nbformat": 4,
 "nbformat_minor": 0
}
