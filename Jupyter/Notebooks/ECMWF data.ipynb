{
 "cells": [
  {
   "cell_type": "markdown",
   "metadata": {},
   "source": [
    "# Available ECMWF data"
   ]
  },
  {
   "cell_type": "markdown",
   "metadata": {},
   "source": [
    "The lab has access to a set of ECMWF data downloaded at the \\\\139.191.244.110\\h\\ECMWH\\ server. These data are stored in 2 folders"
   ]
  },
  {
   "cell_type": "markdown",
   "metadata": {},
   "source": [
    "## WMO essentials"
   ]
  },
  {
   "cell_type": "markdown",
   "metadata": {},
   "source": [
    "The first is the 'bufr' folder which stores for every year starting in 2013 a number of grib files with global data in 0.5 min resolution for a 'msl' (mean surface level) pressure, 'u' & 'v' veloctities, temperature 't' and geopotential height 'gh' at 2 isobaric levels (corresponding to different heights ?) namely 500 hPa and 850 hPa including the forecast for 240 h (10 days).\n",
    "\n",
    "### Note: The resolution of the local data is 0.5 min while the data downloaded from the ECMWF url (see below) have 2.5 min resolution based on the same 0.5 resolution results.\n",
    "\n",
    "Listing the files for the current day gives"
   ]
  },
  {
   "cell_type": "code",
   "execution_count": null,
   "metadata": {
    "collapsed": false
   },
   "outputs": [],
   "source": [
    "# Note that the above location is mounted on this system at \"/mnt/ECMWF/\"\n",
    "\n",
    "path='/mnt/ECMWF/'\n",
    "\n",
    "import datetime # for defining the date\n",
    "\n",
    "date=datetime.datetime.today() # get today\n",
    "\n",
    "#date=datetime.datetime.strptime('20160101.00','%Y%m%d.%H') # or fix a time stamp\n",
    "\n",
    "dstr=date.strftime(format='%Y%m%d') # get it in string as it it appear on the file names"
   ]
  },
  {
   "cell_type": "code",
   "execution_count": null,
   "metadata": {
    "collapsed": false,
    "scrolled": true
   },
   "outputs": [],
   "source": [
    "# list the files for today\n",
    "\n",
    "import os # module for os functions\n",
    "\n",
    "[ f for f in os.listdir(path+'bufr/{}'.format(date.year)) if '{}'.format(dstr) in f ] # list only the files with matching date"
   ]
  },
  {
   "cell_type": "markdown",
   "metadata": {},
   "source": [
    "As you can see above in the same directory there are also bufr files with the tracking of current Tropical cyclones (if any) with their name in the filename as descriptor. \n",
    "\n",
    "The list above (used to ) include the ensemble standart deviation ('es') forecast. We can mask them like... "
   ]
  },
  {
   "cell_type": "code",
   "execution_count": null,
   "metadata": {
    "collapsed": false
   },
   "outputs": [],
   "source": [
    "all=[ f for f in os.listdir(path+'bufr/{}'.format(date.year)) if '{}'.format(dstr) in f ] # list only the files with matching date\n",
    "[f  for f in all if '{}'.format('_es_') in f]"
   ]
  },
  {
   "cell_type": "markdown",
   "metadata": {},
   "source": [
    "We can get the name of the variable by reading the data, e.g"
   ]
  },
  {
   "cell_type": "code",
   "execution_count": null,
   "metadata": {
    "collapsed": false
   },
   "outputs": [],
   "source": [
    "import pygrib # module to read grib files\n",
    "\n",
    "for f in all:\n",
    "    if '{}'.format('_es_') in f:\n",
    "        data=pygrib.open(path+'bufr/{}/'.format(date.year)+f)\n",
    "        print f\n",
    "        print data.message(1)\n",
    "        break"
   ]
  },
  {
   "cell_type": "markdown",
   "metadata": {},
   "source": [
    "The ensemble mean .."
   ]
  },
  {
   "cell_type": "code",
   "execution_count": null,
   "metadata": {
    "collapsed": false
   },
   "outputs": [],
   "source": [
    "[f  for f in all if '{}'.format('_em_') in f] # if any"
   ]
  },
  {
   "cell_type": "code",
   "execution_count": null,
   "metadata": {
    "collapsed": false
   },
   "outputs": [],
   "source": [
    "for f in all:\n",
    "    if '{}'.format('_em_') in f:\n",
    "        data=pygrib.open(path+'bufr/{}/'.format(date.year)+f)\n",
    "        print f\n",
    "        print data.message(1)\n",
    "        break"
   ]
  },
  {
   "cell_type": "markdown",
   "metadata": {},
   "source": [
    "The analysis data 'an' which correspond to the WMO essentials found in this webpage http://www.ecmwf.int/en/forecasts/datasets/wmo-essential-based-hres. "
   ]
  },
  {
   "cell_type": "code",
   "execution_count": null,
   "metadata": {
    "collapsed": false
   },
   "outputs": [],
   "source": [
    "[f  for f in all if '{}'.format('_an_') in f]"
   ]
  },
  {
   "cell_type": "code",
   "execution_count": null,
   "metadata": {
    "collapsed": false
   },
   "outputs": [],
   "source": [
    "for f in all:\n",
    "    if '{}'.format('_an_') in f:\n",
    "        data=pygrib.open(path+'bufr/{}/'.format(date.year)+f)\n",
    "        print f\n",
    "        print data.message(1)\n"
   ]
  },
  {
   "cell_type": "markdown",
   "metadata": {},
   "source": [
    "Note that the reference regular_ll means that the gridtype is 'regular_ll'=Regular longitude/latitude grid (cyl).\n",
    "\n",
    "We can inspect the resolution as follows\n"
   ]
  },
  {
   "cell_type": "code",
   "execution_count": null,
   "metadata": {
    "collapsed": false
   },
   "outputs": [],
   "source": [
    "val=data[1]\n",
    "val.data()\n",
    "val.projparams"
   ]
  },
  {
   "cell_type": "markdown",
   "metadata": {},
   "source": [
    "The later arrays are the latlons of the data. These data can be visualized like this [ECMWFvis](ECMWFvis.ipynb) "
   ]
  },
  {
   "cell_type": "markdown",
   "metadata": {},
   "source": [
    "## Tropical Storms "
   ]
  },
  {
   "cell_type": "markdown",
   "metadata": {},
   "source": [
    "A description for analysing and displaying the information regarding tropical storms can be found here [HECMWF](HECMWF.ipynb)"
   ]
  },
  {
   "cell_type": "markdown",
   "metadata": {},
   "source": [
    "#### High resolution data"
   ]
  },
  {
   "cell_type": "markdown",
   "metadata": {},
   "source": [
    "The second location is the folder 'grib' where we can get daily data in nested folders starting in 2015."
   ]
  },
  {
   "cell_type": "code",
   "execution_count": null,
   "metadata": {
    "collapsed": false
   },
   "outputs": [],
   "source": [
    "path0=path+'grib/{}/{:02d}/{:02d}'.format(date.year,date.month,date.day-1) # we use yesterday for accessing all products\n",
    "lst=os.listdir(path0)\n",
    "lst"
   ]
  },
  {
   "cell_type": "markdown",
   "metadata": {},
   "source": [
    "Find the index of the tropical_cyclone file in the list above"
   ]
  },
  {
   "cell_type": "code",
   "execution_count": null,
   "metadata": {
    "collapsed": false
   },
   "outputs": [],
   "source": [
    "xf=[x for x in lst if 'tropical' in x]\n",
    "ix=lst.index(xf[0])\n",
    "ix"
   ]
  },
  {
   "cell_type": "markdown",
   "metadata": {},
   "source": [
    "The tropical_cyclone file contains"
   ]
  },
  {
   "cell_type": "code",
   "execution_count": null,
   "metadata": {
    "collapsed": false
   },
   "outputs": [],
   "source": [
    "dl=pygrib.open(path0+'/'+lst[ix])"
   ]
  },
  {
   "cell_type": "code",
   "execution_count": null,
   "metadata": {
    "collapsed": false
   },
   "outputs": [],
   "source": [
    "dl.messages # number of arrays included\n"
   ]
  },
  {
   "cell_type": "code",
   "execution_count": null,
   "metadata": {
    "collapsed": false
   },
   "outputs": [],
   "source": [
    "for g in dl:\n",
    "    print g"
   ]
  },
  {
   "cell_type": "code",
   "execution_count": null,
   "metadata": {
    "collapsed": false
   },
   "outputs": [],
   "source": [
    "dl.rewind()"
   ]
  },
  {
   "cell_type": "markdown",
   "metadata": {},
   "source": [
    "These data include the forecast for 72 hours (every hour) for pressure and U & V velocities at 10 m height. We can scan for e.g. pressure (references) to find..."
   ]
  },
  {
   "cell_type": "code",
   "execution_count": null,
   "metadata": {
    "collapsed": false
   },
   "outputs": [],
   "source": [
    "for g in dl:\n",
    "   if 'pressure' in g.name: print g"
   ]
  },
  {
   "cell_type": "markdown",
   "metadata": {},
   "source": [
    "The resolution is"
   ]
  },
  {
   "cell_type": "code",
   "execution_count": null,
   "metadata": {
    "collapsed": false
   },
   "outputs": [],
   "source": [
    "d=dl[1]\n",
    "d.data()"
   ]
  },
  {
   "cell_type": "code",
   "execution_count": null,
   "metadata": {
    "collapsed": false
   },
   "outputs": [],
   "source": [
    "d.projparams\n",
    "import numpy as np\n",
    "np.shape(d.latlons())"
   ]
  },
  {
   "cell_type": "markdown",
   "metadata": {},
   "source": [
    "The grid type before March 9, 2016 used to be 'reduced_gg' = Reduced Gaussian longitude/latitude grid  (https://en.wikipedia.org/wiki/Gaussian_grid). Note that although the data are in reduced_gg format the pygrib module expands the data in a regular grid \n",
    "(http://old.ecmwf.int/publications/manuals/libraries/interpolation/n640FIS.html).\n",
    "\n",
    "It can be seen that the resolution was ~ 0.14 min. \n",
    "\n",
    "After March 9, 2016 the grid is regular_gg with grid size 2560x5120 and resolution ~ 7.5 km. (https://software.ecmwf.int/wiki/display/FCST/Introducing+the+octahedral+reduced+Gaussian+grid)"
   ]
  },
  {
   "cell_type": "markdown",
   "metadata": {},
   "source": [
    "The other file in the folder is the 'boundary.grib' file. In this file there are the forecast for 24 hours of the following variables"
   ]
  },
  {
   "cell_type": "code",
   "execution_count": null,
   "metadata": {
    "collapsed": false
   },
   "outputs": [],
   "source": [
    "xf=[x for x in lst if 'boundary' in x]\n",
    "ix=lst.index(xf[0])\n",
    "\n",
    "\n",
    "bd=pygrib.open(path0+'/'+lst[ix])\n",
    "var=[]\n",
    "for g in bd:\n",
    "    if not g.name in var: var.append(g.name)\n",
    "        \n",
    "var"
   ]
  },
  {
   "cell_type": "markdown",
   "metadata": {},
   "source": [
    "One can find more info by listing any of them e.g..."
   ]
  },
  {
   "cell_type": "code",
   "execution_count": null,
   "metadata": {
    "collapsed": false
   },
   "outputs": [],
   "source": [
    "bd.rewind()\n",
    "for g in bd:\n",
    "    if var[20] in g.name: print g"
   ]
  },
  {
   "cell_type": "markdown",
   "metadata": {},
   "source": [
    "Finally the 3rd file is the Runoff (https://software.ecmwf.int/wiki/display/S2S/S2S+Surface+Water+Runoff) data in netcdf format. To access these we can use the tarfile module"
   ]
  },
  {
   "cell_type": "code",
   "execution_count": null,
   "metadata": {
    "collapsed": true
   },
   "outputs": [],
   "source": [
    "xf=[x for x in lst if 'Runoff' in x]\n",
    "ix=lst.index(xf[0])\n"
   ]
  },
  {
   "cell_type": "code",
   "execution_count": null,
   "metadata": {
    "collapsed": false
   },
   "outputs": [],
   "source": [
    "\n",
    "import tarfile\n",
    "tlst=[]\n",
    "tar=tarfile.open(path0+'/'+lst[ix], 'r:gz')\n",
    "for f in tar:\n",
    "    print f.name, f.size\n",
    "    tlst.append(f.name)\n",
    "tar.close()  "
   ]
  },
  {
   "cell_type": "markdown",
   "metadata": {},
   "source": [
    "To see inside one of these netcdf files we need to extract it"
   ]
  },
  {
   "cell_type": "code",
   "execution_count": null,
   "metadata": {
    "collapsed": true
   },
   "outputs": [],
   "source": [
    "from netCDF4 import Dataset\n"
   ]
  },
  {
   "cell_type": "code",
   "execution_count": null,
   "metadata": {
    "collapsed": false
   },
   "outputs": [],
   "source": [
    "tar=tarfile.open(path0+'/'+lst[ix], 'r:gz')\n",
    "for member in tar:\n",
    "  f=tar.extract(member, path='tmp/')\n",
    "  break\n",
    "tar.close()"
   ]
  },
  {
   "cell_type": "code",
   "execution_count": null,
   "metadata": {
    "collapsed": true
   },
   "outputs": [],
   "source": [
    "dat=Dataset('tmp/{}'.format(tlst[0]))"
   ]
  },
  {
   "cell_type": "code",
   "execution_count": null,
   "metadata": {
    "collapsed": false
   },
   "outputs": [],
   "source": [
    "print dat"
   ]
  },
  {
   "cell_type": "code",
   "execution_count": null,
   "metadata": {
    "collapsed": false
   },
   "outputs": [],
   "source": [
    "print dat.variables"
   ]
  },
  {
   "cell_type": "markdown",
   "metadata": {},
   "source": [
    "### Note that this files are written twice a day. One can list the files from previous day to verify this"
   ]
  },
  {
   "cell_type": "code",
   "execution_count": null,
   "metadata": {
    "collapsed": false
   },
   "outputs": [],
   "source": [
    "path1=path+'grib/'+str(date.year)+'/'+str(date.month).zfill(2)+'/'+str(date.day).zfill(2)\n",
    "os.listdir(path1)\n"
   ]
  },
  {
   "cell_type": "code",
   "execution_count": null,
   "metadata": {
    "collapsed": false
   },
   "outputs": [],
   "source": []
  }
 ],
 "metadata": {
  "kernelspec": {
   "display_name": "Python 2",
   "language": "python",
   "name": "python2"
  },
  "language_info": {
   "codemirror_mode": {
    "name": "ipython",
    "version": 2
   },
   "file_extension": ".py",
   "mimetype": "text/x-python",
   "name": "python",
   "nbconvert_exporter": "python",
   "pygments_lexer": "ipython2",
   "version": "2.7.11+"
  },
  "widgets": {
   "state": {},
   "version": "1.1.1"
  }
 },
 "nbformat": 4,
 "nbformat_minor": 0
}
