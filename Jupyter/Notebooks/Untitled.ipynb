{
 "cells": [
  {
   "cell_type": "code",
   "execution_count": 1,
   "metadata": {
    "collapsed": true
   },
   "outputs": [],
   "source": [
    "from pmap import *"
   ]
  },
  {
   "cell_type": "code",
   "execution_count": 2,
   "metadata": {
    "collapsed": true
   },
   "outputs": [],
   "source": [
    "import numpy as np"
   ]
  },
  {
   "cell_type": "code",
   "execution_count": 3,
   "metadata": {
    "collapsed": false
   },
   "outputs": [],
   "source": [
    "import pyresample"
   ]
  },
  {
   "cell_type": "code",
   "execution_count": 4,
   "metadata": {
    "collapsed": true
   },
   "outputs": [],
   "source": [
    "from mpl_toolkits.basemap import Basemap"
   ]
  },
  {
   "cell_type": "code",
   "execution_count": 5,
   "metadata": {
    "collapsed": true
   },
   "outputs": [],
   "source": [
    "import matplotlib.pyplot as plt "
   ]
  },
  {
   "cell_type": "code",
   "execution_count": 6,
   "metadata": {
    "collapsed": true
   },
   "outputs": [],
   "source": [
    "import matplotlib"
   ]
  },
  {
   "cell_type": "code",
   "execution_count": 7,
   "metadata": {
    "collapsed": true
   },
   "outputs": [],
   "source": [
    "%matplotlib inline"
   ]
  },
  {
   "cell_type": "code",
   "execution_count": 8,
   "metadata": {
    "collapsed": true
   },
   "outputs": [],
   "source": [
    "def get_pop(wlat,wlon,wind,nan):\n",
    "    filename='../../POPEXPO/lspop20141.tif' #population data filename\n",
    "    #define the lat/lon window of wind swath\n",
    "    minlon=wlon[wind != nan].min()\n",
    "    maxlon=wlon[wind != nan].max()\n",
    "    minlat=wlat[wind != nan].min()\n",
    "    maxlat=wlat[wind != nan].max()\n",
    "    buf=[minlon,maxlon,minlat,maxlat]\n",
    "    \n",
    "    pop=getmap(filename,buf) # read population data\n",
    "    mpop=np.ma.masked_array(pop.data,pop.data==pop.nan) # mask the nan values\n",
    "    \n",
    "    mwind=np.ma.masked_array(wind,wind==nan) #mask the wind data for interpolation\n",
    "    \n",
    "    wgeo=pyresample.geometry.SwathDefinition(lons=wlon,lats=wlat) # the wind grid geometry\n",
    "    pgeo=pyresample.geometry.SwathDefinition(lons=pop.lons,lats=pop.lats) # the pop grid geometry\n",
    "    air_near=pyresample.kd_tree.resample_nearest(wgeo,np.flipud(mwind),pgeo,radius_of_influence=500000,fill_value=-999)\n",
    "    \n",
    "    reference = np.array([0,33,63,82,95,112,136,1000]) \n",
    "   # reference = np.array([0,20,33,49,50,58,1000]) \n",
    "\n",
    "    output_labels = ['TD', 'TS' ,'CAT. 1','CAT. 2' , 'CAT. 3', 'CAT. 4', 'CAT. 5'] #The value assigned to each interval\n",
    "   # output_labels = ['', 'TS' ,'CAT. 1','CAT. 2' , 'CAT. 3', 'CAT. 4', 'CAT. 5'] #The value assigned to each interval\n",
    "\n",
    "    sort_idx = np.argsort(reference) # saving the scale indeces \n",
    "    pos = np.searchsorted(reference[sort_idx], air_near, side = 'left') # sort the wind array\n",
    "    out = np.argsort(reference)[pos] # restore the correct order of the scale, more info in http://stackoverflow.com/questions/31078160/classify-elements-of-a-numpy-array-using-a-second-array-as-reference\n",
    "    \n",
    "    dic={}\n",
    "    for i in range(7):\n",
    "        mask= out == i # wind force i\n",
    "        try:\n",
    "            npop = np.ma.masked_less(mpop[mask],0).sum() # sum of people exposed to wind force i\n",
    "            if npop is np.ma.masked :\n",
    "                dic[output_labels[i]] = 0 \n",
    "            else:\n",
    "                dic[output_labels[i]] = npop\n",
    "        except Exception as e :\n",
    "            print e\n",
    "    return dic"
   ]
  },
  {
   "cell_type": "code",
   "execution_count": 9,
   "metadata": {
    "collapsed": true
   },
   "outputs": [],
   "source": [
    "wind=getmap('/mnt/pandora/Users_Critech/Brey/maptest/wind10mmalakas18w2016091600.tif')"
   ]
  },
  {
   "cell_type": "code",
   "execution_count": 10,
   "metadata": {
    "collapsed": false
   },
   "outputs": [
    {
     "data": {
      "text/plain": [
       "Bunch(CELLSIZE=0.04999999999999716, DRIVER='PCRaster Raster File', GeoTr=(106.75, 0.04999999999999716, 0.0, 53.1, 0.0, -0.04999999999999716), NCOLS=1225, NROWS=942, Proj='GEOGCS[\"GCS_WGS_1984\",DATUM[\"WGS_1984\",SPHEROID[\"WGS_1984\",6378137.0,298.257223563]],PRIMEM[\"Greenwich\",0.0],UNIT[\"Degree\",0.0174532925199433]]', XSTART=106.75, YSTART=53.1, data=array([[-999., -999., -999., ..., -999., -999., -999.],\n",
       "       [-999., -999., -999., ..., -999., -999., -999.],\n",
       "       [-999., -999., -999., ..., -999., -999., -999.],\n",
       "       ..., \n",
       "       [-999., -999., -999., ..., -999., -999., -999.],\n",
       "       [-999., -999., -999., ..., -999., -999., -999.],\n",
       "       [-999., -999., -999., ..., -999., -999., -999.]], dtype=float32), lats=[], lons=[], nan=-3.4028234663852886e+38)"
      ]
     },
     "execution_count": 10,
     "metadata": {},
     "output_type": "execute_result"
    }
   ],
   "source": [
    "wind"
   ]
  },
  {
   "cell_type": "code",
   "execution_count": 11,
   "metadata": {
    "collapsed": true
   },
   "outputs": [],
   "source": [
    "# compute lat/lon\n",
    "widthw=wind.NCOLS\n",
    "heightw=wind.NROWS\n",
    "gw=wind.GeoTr\n",
    "wminx = gw[0]                                                                                                                            \n",
    "wminy = gw[3] + widthw*gw[4] + heightw*gw[5]                                                                                               \n",
    "wmaxx = gw[0] + widthw*gw[1] + heightw*gw[2]                                                                                               \n",
    "wmaxy = gw[3]                                                                                                                            \n",
    "                                                                                                                                          \n",
    "wlon=np.linspace(wminx,wmaxx,widthw,endpoint=True)                                                                                          \n",
    "wlat=np.linspace(wminy,wmaxy,heightw,endpoint=True)                                                                                         \n"
   ]
  },
  {
   "cell_type": "code",
   "execution_count": 12,
   "metadata": {
    "collapsed": true
   },
   "outputs": [],
   "source": [
    "w=np.flipud(wind.data)  # the issue of geotiff orientation"
   ]
  },
  {
   "cell_type": "code",
   "execution_count": 13,
   "metadata": {
    "collapsed": true
   },
   "outputs": [],
   "source": [
    "mwind=np.ma.masked_array(w,w==-999.)#wind.nan) # pay attention on the nan value"
   ]
  },
  {
   "cell_type": "code",
   "execution_count": 14,
   "metadata": {
    "collapsed": false
   },
   "outputs": [
    {
     "data": {
      "text/plain": [
       "121.22"
      ]
     },
     "execution_count": 14,
     "metadata": {},
     "output_type": "execute_result"
    }
   ],
   "source": [
    "mwind.max()"
   ]
  },
  {
   "cell_type": "code",
   "execution_count": 15,
   "metadata": {
    "collapsed": true
   },
   "outputs": [],
   "source": [
    "# full window expand\n",
    "minlon=wlon.min()\n",
    "maxlon=wlon.max()\n",
    "minlat=wlat.min()\n",
    "maxlat=wlat.max()"
   ]
  },
  {
   "cell_type": "code",
   "execution_count": 16,
   "metadata": {
    "collapsed": false
   },
   "outputs": [
    {
     "data": {
      "text/plain": [
       "(106.75, 167.99999999999653, 6.0000000000026787, 53.100000000000001)"
      ]
     },
     "execution_count": 16,
     "metadata": {},
     "output_type": "execute_result"
    }
   ],
   "source": [
    "minlon,maxlon,minlat,maxlat"
   ]
  },
  {
   "cell_type": "code",
   "execution_count": 17,
   "metadata": {
    "collapsed": true
   },
   "outputs": [],
   "source": [
    "xw,yw=np.meshgrid(wlon,wlat)"
   ]
  },
  {
   "cell_type": "code",
   "execution_count": 18,
   "metadata": {
    "collapsed": false
   },
   "outputs": [],
   "source": [
    "%%skip\n",
    "# finite value window\n",
    "minlon=xw[wind.data != -999.].min()\n",
    "maxlon=xw[wind.data != -999.].max()\n",
    "minlat=yw[wind.data != -999.].min()\n",
    "maxlat=yw[wind.data != -999.].max()\n"
   ]
  },
  {
   "cell_type": "code",
   "execution_count": 19,
   "metadata": {
    "collapsed": true
   },
   "outputs": [],
   "source": [
    "parallels = np.arange(-90.,90,20.)                                                                                                        \n",
    "meridians = np.arange(0.,360.,20.)                                                                                                        "
   ]
  },
  {
   "cell_type": "code",
   "execution_count": 20,
   "metadata": {
    "collapsed": true
   },
   "outputs": [],
   "source": [
    "m = Basemap(projection='cyl',llcrnrlat=minlat,urcrnrlat=maxlat, llcrnrlon=minlon,urcrnrlon=maxlon,resolution='l')    "
   ]
  },
  {
   "cell_type": "code",
   "execution_count": 21,
   "metadata": {
    "collapsed": false
   },
   "outputs": [
    {
     "data": {
      "text/plain": [
       "{120.0: ([<matplotlib.lines.Line2D at 0x7fe144eda590>], []),\n",
       " 140.0: ([<matplotlib.lines.Line2D at 0x7fe144edac10>], []),\n",
       " 160.0: ([<matplotlib.lines.Line2D at 0x7fe144ee4290>], [])}"
      ]
     },
     "execution_count": 21,
     "metadata": {},
     "output_type": "execute_result"
    },
    {
     "data": {
      "image/png": "[encoded data removed]",
      "text/plain": [
       "<matplotlib.figure.Figure at 0x7fe14577db50>"
      ]
     },
     "metadata": {},
     "output_type": "display_data"
    }
   ],
   "source": [
    "m.contourf(xw,yw,mwind,20,cmap=plt.cm.RdBu_r,animated=True)\n",
    "m.colorbar()\n",
    "m.drawcoastlines(linewidth=1.5)                                                                                                           \n",
    "m.drawparallels(parallels)                                                                                                                \n",
    "m.drawmeridians(meridians)    "
   ]
  },
  {
   "cell_type": "markdown",
   "metadata": {},
   "source": [
    "## compute pop exposure"
   ]
  },
  {
   "cell_type": "code",
   "execution_count": 22,
   "metadata": {
    "collapsed": true
   },
   "outputs": [],
   "source": [
    "buf=[minlon,maxlon,minlat,maxlat]"
   ]
  },
  {
   "cell_type": "code",
   "execution_count": 23,
   "metadata": {
    "collapsed": false
   },
   "outputs": [
    {
     "data": {
      "text/plain": [
       "[106.75, 167.99999999999653, 6.0000000000026787, 53.100000000000001]"
      ]
     },
     "execution_count": 23,
     "metadata": {},
     "output_type": "execute_result"
    }
   ],
   "source": [
    "buf"
   ]
  },
  {
   "cell_type": "code",
   "execution_count": 24,
   "metadata": {
    "collapsed": true
   },
   "outputs": [],
   "source": [
    "filename='../../POPEXPO/lspop20141.tif' #population data filename"
   ]
  },
  {
   "cell_type": "code",
   "execution_count": 25,
   "metadata": {
    "collapsed": false
   },
   "outputs": [],
   "source": [
    "pop=getmap(filename,buf) # read population data"
   ]
  },
  {
   "cell_type": "code",
   "execution_count": 26,
   "metadata": {
    "collapsed": false
   },
   "outputs": [
    {
     "data": {
      "text/plain": [
       "Bunch(CELLSIZE=0.0083333333333333, DRIVER='GeoTIFF', GeoTr=(106.74830435889606, 0.0083333333333333, 0.0, 53.089957868419276, 0.0, -0.0083333333333333), NCOLS=7351, NROWS=5651, Proj='GEOGCS[\"WGS 84\",DATUM[\"WGS_1984\",SPHEROID[\"WGS 84\",6378137,298.257223563,AUTHORITY[\"EPSG\",\"7030\"]],AUTHORITY[\"EPSG\",\"6326\"]],PRIMEM[\"Greenwich\",0],UNIT[\"degree\",0.0174532925199433],AUTHORITY[\"EPSG\",\"4326\"]]', XSTART=-180.0, YSTART=89.99999999999929, data=array([[          0,           0,           0, ..., -2147483647,\n",
       "        -2147483647, -2147483647],\n",
       "       [          0,           0,           0, ..., -2147483647,\n",
       "        -2147483647, -2147483647],\n",
       "       [          0,           0,           0, ..., -2147483647,\n",
       "        -2147483647, -2147483647],\n",
       "       ..., \n",
       "       [-2147483647, -2147483647, -2147483647, ..., -2147483647,\n",
       "        -2147483647, -2147483647],\n",
       "       [-2147483647, -2147483647, -2147483647, ..., -2147483647,\n",
       "        -2147483647, -2147483647],\n",
       "       [-2147483647, -2147483647, -2147483647, ..., -2147483647,\n",
       "        -2147483647, -2147483647]], dtype=int32), lats=array([[ 53.08995787,  53.08995787,  53.08995787, ...,  53.08995787,\n",
       "         53.08995787,  53.08995787],\n",
       "       [ 53.08162415,  53.08162415,  53.08162415, ...,  53.08162415,\n",
       "         53.08162415,  53.08162415],\n",
       "       [ 53.07329043,  53.07329043,  53.07329043, ...,  53.07329043,\n",
       "         53.07329043,  53.07329043],\n",
       "       ..., \n",
       "       [  6.02111209,   6.02111209,   6.02111209, ...,   6.02111209,\n",
       "          6.02111209,   6.02111209],\n",
       "       [  6.01277837,   6.01277837,   6.01277837, ...,   6.01277837,\n",
       "          6.01277837,   6.01277837],\n",
       "       [  6.00444465,   6.00444465,   6.00444465, ...,   6.00444465,\n",
       "          6.00444465,   6.00444465]]), lons=array([[ 106.74830436,  106.75663789,  106.76497141, ...,  167.98305516,\n",
       "         167.99138869,  167.99972222],\n",
       "       [ 106.74830436,  106.75663789,  106.76497141, ...,  167.98305516,\n",
       "         167.99138869,  167.99972222],\n",
       "       [ 106.74830436,  106.75663789,  106.76497141, ...,  167.98305516,\n",
       "         167.99138869,  167.99972222],\n",
       "       ..., \n",
       "       [ 106.74830436,  106.75663789,  106.76497141, ...,  167.98305516,\n",
       "         167.99138869,  167.99972222],\n",
       "       [ 106.74830436,  106.75663789,  106.76497141, ...,  167.98305516,\n",
       "         167.99138869,  167.99972222],\n",
       "       [ 106.74830436,  106.75663789,  106.76497141, ...,  167.98305516,\n",
       "         167.99138869,  167.99972222]]), nan=-2147483647.0)"
      ]
     },
     "execution_count": 26,
     "metadata": {},
     "output_type": "execute_result"
    }
   ],
   "source": [
    "pop"
   ]
  },
  {
   "cell_type": "code",
   "execution_count": 27,
   "metadata": {
    "collapsed": true
   },
   "outputs": [],
   "source": [
    "mpop=np.ma.masked_array(pop.data,pop.data==pop.nan) # mask the nan values"
   ]
  },
  {
   "cell_type": "code",
   "execution_count": 28,
   "metadata": {
    "collapsed": false
   },
   "outputs": [
    {
     "data": {
      "text/plain": [
       "(5651, 7351)"
      ]
     },
     "execution_count": 28,
     "metadata": {},
     "output_type": "execute_result"
    }
   ],
   "source": [
    "mpop.shape"
   ]
  },
  {
   "cell_type": "code",
   "execution_count": 29,
   "metadata": {
    "collapsed": false
   },
   "outputs": [],
   "source": [
    "wgeo=pyresample.geometry.SwathDefinition(lons=xw,lats=yw) # the wind grid geometry\n",
    "pgeo=pyresample.geometry.SwathDefinition(lons=pop.lons,lats=pop.lats) # the pop grid geometry\n",
    "air_near=pyresample.kd_tree.resample_nearest(wgeo,mwind,pgeo,radius_of_influence=500000,fill_value=wind.nan)\n"
   ]
  },
  {
   "cell_type": "code",
   "execution_count": 30,
   "metadata": {
    "collapsed": true
   },
   "outputs": [],
   "source": [
    "m = Basemap(projection='cyl',llcrnrlat=minlat,urcrnrlat=maxlat, llcrnrlon=minlon,urcrnrlon=maxlon,resolution='l')    "
   ]
  },
  {
   "cell_type": "code",
   "execution_count": 31,
   "metadata": {
    "collapsed": true
   },
   "outputs": [],
   "source": [
    "cmap = matplotlib.colors.ListedColormap(['w','b','g','y','r','purple']) # custom colormap"
   ]
  },
  {
   "cell_type": "code",
   "execution_count": 32,
   "metadata": {
    "collapsed": false
   },
   "outputs": [],
   "source": [
    "reference = np.array([0,33,63,82,95,112,136,1000]) # in kts"
   ]
  },
  {
   "cell_type": "code",
   "execution_count": 33,
   "metadata": {
    "collapsed": true
   },
   "outputs": [],
   "source": [
    "wlevs=[0,33,63,82,95,112,136,1000]"
   ]
  },
  {
   "cell_type": "code",
   "execution_count": 34,
   "metadata": {
    "collapsed": true
   },
   "outputs": [],
   "source": [
    "#reference = np.array([0,17,32,42,49,58,70,1000]) # in m/s"
   ]
  },
  {
   "cell_type": "code",
   "execution_count": 35,
   "metadata": {
    "collapsed": false,
    "scrolled": false
   },
   "outputs": [
    {
     "data": {
      "text/plain": [
       "{120.0: ([<matplotlib.lines.Line2D at 0x7fe144d19450>], []),\n",
       " 140.0: ([<matplotlib.lines.Line2D at 0x7fe144d19ad0>], []),\n",
       " 160.0: ([<matplotlib.lines.Line2D at 0x7fe144d24150>], [])}"
      ]
     },
     "execution_count": 35,
     "metadata": {},
     "output_type": "execute_result"
    },
    {
     "data": {
      "image/png": "[encoded data removed]",
      "text/plain": [
       "<matplotlib.figure.Figure at 0x7fe144e95b50>"
      ]
     },
     "metadata": {},
     "output_type": "display_data"
    }
   ],
   "source": [
    "m.contourf(xw,yw,mwind,7,cmap=cmap,animated=True)\n",
    "m.colorbar(ticks=reference)\n",
    "m.drawcoastlines(linewidth=1.5)                                                                                                           \n",
    "m.drawparallels(parallels)                                                                                                                \n",
    "m.drawmeridians(meridians)    "
   ]
  },
  {
   "cell_type": "code",
   "execution_count": 36,
   "metadata": {
    "collapsed": false
   },
   "outputs": [],
   "source": [
    "#m.contourf(pop.lons,pop.lats,mpop,20,cmap=plt.cm.RdBu_r,animated=True)"
   ]
  },
  {
   "cell_type": "code",
   "execution_count": 37,
   "metadata": {
    "collapsed": false
   },
   "outputs": [],
   "source": [
    "output_labels = ['TD', 'TS' ,'CAT. 1','CAT. 2' , 'CAT. 3', 'CAT. 4', 'CAT. 5'] #The value assigned to each interval\n",
    "sort_idx = np.argsort(reference) # saving the scale indeces \n",
    "pos = np.searchsorted(reference[sort_idx], air_near, side = 'left') # sort the wind array\n",
    "out = np.argsort(reference)[pos] # restore the correct order of the scale, more info in http://stackoverflow.com/questions/31078160/classify-elements-of-a-numpy-array-using-a-second-array-as-reference"
   ]
  },
  {
   "cell_type": "code",
   "execution_count": 38,
   "metadata": {
    "collapsed": true
   },
   "outputs": [],
   "source": [
    "dic={}\n",
    "for i in range(7):\n",
    "        mask= out == i # wind force i\n",
    "        try:\n",
    "            npop = np.ma.masked_less(mpop[mask],0).sum() # sum of people exposed to wind force i\n",
    "            if npop is np.ma.masked :\n",
    "                dic[output_labels[i]] = 0 \n",
    "            else:\n",
    "                dic[output_labels[i]] = npop\n",
    "        except Exception as e :\n",
    "            print e\n"
   ]
  },
  {
   "cell_type": "code",
   "execution_count": 39,
   "metadata": {
    "collapsed": false
   },
   "outputs": [
    {
     "data": {
      "text/plain": [
       "{'CAT. 1': 21362937,\n",
       " 'CAT. 2': 1066633,\n",
       " 'CAT. 3': 15990,\n",
       " 'CAT. 4': 636,\n",
       " 'CAT. 5': 1009,\n",
       " 'TD': 1198294253,\n",
       " 'TS': 289599989}"
      ]
     },
     "execution_count": 39,
     "metadata": {},
     "output_type": "execute_result"
    }
   ],
   "source": [
    "dic"
   ]
  },
  {
   "cell_type": "code",
   "execution_count": 40,
   "metadata": {
    "collapsed": false,
    "scrolled": false
   },
   "outputs": [],
   "source": [
    "exposure = get_pop(yw,xw,wind.data,-999.)"
   ]
  },
  {
   "cell_type": "code",
   "execution_count": 41,
   "metadata": {
    "collapsed": false
   },
   "outputs": [
    {
     "data": {
      "text/plain": [
       "{'CAT. 1': 21362937,\n",
       " 'CAT. 2': 1066633,\n",
       " 'CAT. 3': 15990,\n",
       " 'CAT. 4': 636,\n",
       " 'CAT. 5': 1009,\n",
       " 'TD': 250647429,\n",
       " 'TS': 289596565}"
      ]
     },
     "execution_count": 41,
     "metadata": {},
     "output_type": "execute_result"
    }
   ],
   "source": [
    "exposure"
   ]
  },
  {
   "cell_type": "code",
   "execution_count": 42,
   "metadata": {
    "collapsed": true
   },
   "outputs": [],
   "source": [
    "#%%skip\n",
    "resa=getmap('/mnt/web/brey/u10res.tif')"
   ]
  },
  {
   "cell_type": "code",
   "execution_count": 43,
   "metadata": {
    "collapsed": false
   },
   "outputs": [
    {
     "data": {
      "text/plain": [
       "Bunch(CELLSIZE=0.008333333333333, DRIVER='GeoTIFF', GeoTr=(106.75, 0.008333333333333, 0.0, 53.1, 0.0, -0.008333333333333), NCOLS=7350, NROWS=5652, Proj='', XSTART=106.75, YSTART=53.1, data=array([[-999., -999., -999., ..., -999., -999., -999.],\n",
       "       [-999., -999., -999., ..., -999., -999., -999.],\n",
       "       [-999., -999., -999., ..., -999., -999., -999.],\n",
       "       ..., \n",
       "       [-999., -999., -999., ..., -999., -999., -999.],\n",
       "       [-999., -999., -999., ..., -999., -999., -999.],\n",
       "       [-999., -999., -999., ..., -999., -999., -999.]], dtype=float32), lats=[], lons=[], nan=-3.4028234663852886e+38)"
      ]
     },
     "execution_count": 43,
     "metadata": {},
     "output_type": "execute_result"
    }
   ],
   "source": [
    "resa"
   ]
  },
  {
   "cell_type": "code",
   "execution_count": 44,
   "metadata": {
    "collapsed": false
   },
   "outputs": [],
   "source": [
    "# compute lat/lon\n",
    "widthw=resa.NCOLS\n",
    "heightw=resa.NROWS\n",
    "gw=resa.GeoTr\n",
    "wminx = gw[0]                                                                                                                            \n",
    "wminy = gw[3] + widthw*gw[4] + heightw*gw[5]                                                                                               \n",
    "wmaxx = gw[0] + widthw*gw[1] + heightw*gw[2]                                                                                               \n",
    "wmaxy = gw[3]                                                                                                                            \n",
    "                                                                                                                                          \n",
    "wlon=np.linspace(wminx,wmaxx,widthw,endpoint=True)                                                                                          \n",
    "wlat=np.linspace(wminy,wmaxy,heightw,endpoint=True)                                                                                         \n"
   ]
  },
  {
   "cell_type": "code",
   "execution_count": 45,
   "metadata": {
    "collapsed": true
   },
   "outputs": [],
   "source": [
    "w=np.flipud(resa.data)  # the issue of geotiff orientation"
   ]
  },
  {
   "cell_type": "code",
   "execution_count": 46,
   "metadata": {
    "collapsed": false
   },
   "outputs": [],
   "source": [
    "mwind=np.ma.masked_array(w,w==-999.) # pay attention on the nan value"
   ]
  },
  {
   "cell_type": "code",
   "execution_count": 47,
   "metadata": {
    "collapsed": false
   },
   "outputs": [
    {
     "data": {
      "text/plain": [
       "121.22"
      ]
     },
     "execution_count": 47,
     "metadata": {},
     "output_type": "execute_result"
    }
   ],
   "source": [
    "mwind.max()"
   ]
  },
  {
   "cell_type": "code",
   "execution_count": 48,
   "metadata": {
    "collapsed": true
   },
   "outputs": [],
   "source": [
    "# full window expand\n",
    "minlon=wlon.min()\n",
    "maxlon=wlon.max()\n",
    "minlat=wlat.min()\n",
    "maxlat=wlat.max()"
   ]
  },
  {
   "cell_type": "code",
   "execution_count": 49,
   "metadata": {
    "collapsed": true
   },
   "outputs": [],
   "source": [
    "xw,yw=np.meshgrid(wlon,wlat)"
   ]
  },
  {
   "cell_type": "code",
   "execution_count": 50,
   "metadata": {
    "collapsed": true
   },
   "outputs": [],
   "source": [
    "parallels = np.arange(-90.,90,20.)                                                                                                        \n",
    "meridians = np.arange(0.,360.,20.)                                                                                                        "
   ]
  },
  {
   "cell_type": "code",
   "execution_count": 51,
   "metadata": {
    "collapsed": true
   },
   "outputs": [],
   "source": [
    "m = Basemap(projection='cyl',llcrnrlat=minlat,urcrnrlat=maxlat, llcrnrlon=minlon,urcrnrlon=maxlon,resolution='l')    "
   ]
  },
  {
   "cell_type": "code",
   "execution_count": 53,
   "metadata": {
    "collapsed": true
   },
   "outputs": [],
   "source": [
    "ti=np.arange(0.,mwind.max()+1) # custom range of colormap"
   ]
  },
  {
   "cell_type": "code",
   "execution_count": 41,
   "metadata": {
    "collapsed": true
   },
   "outputs": [],
   "source": [
    "color=['w','b','g','y','r','purple']"
   ]
  },
  {
   "cell_type": "code",
   "execution_count": null,
   "metadata": {
    "collapsed": false
   },
   "outputs": [],
   "source": [
    "cmap = matplotlib.colors.ListedColormap(color[:mwind.max()+1]) # custom colormap"
   ]
  },
  {
   "cell_type": "code",
   "execution_count": 54,
   "metadata": {
    "collapsed": false
   },
   "outputs": [
    {
     "data": {
      "text/plain": [
       "{120.0: ([<matplotlib.lines.Line2D at 0x7fe144968850>], []),\n",
       " 140.0: ([<matplotlib.lines.Line2D at 0x7fe1449448d0>], []),\n",
       " 160.0: ([<matplotlib.lines.Line2D at 0x7fe144968e90>], [])}"
      ]
     },
     "execution_count": 54,
     "metadata": {},
     "output_type": "execute_result"
    },
    {
     "data": {
      "image/png": "[encoded data removed]",
      "text/plain": [
       "<matplotlib.figure.Figure at 0x7fe144c4f910>"
      ]
     },
     "metadata": {},
     "output_type": "display_data"
    }
   ],
   "source": [
    "m.contourf(xw,yw,mwind)#,cmap=cmap,animated=True)\n",
    "m.colorbar(ticks=ti)\n",
    "m.drawcoastlines(linewidth=1.5)                                                                                                           \n",
    "m.drawparallels(parallels)                                                                                                                \n",
    "m.drawmeridians(meridians)    "
   ]
  },
  {
   "cell_type": "code",
   "execution_count": 55,
   "metadata": {
    "collapsed": true
   },
   "outputs": [],
   "source": [
    " reference = np.array([0,33,63,82,95,112,136,1000]) # in kts"
   ]
  },
  {
   "cell_type": "code",
   "execution_count": 56,
   "metadata": {
    "collapsed": true
   },
   "outputs": [],
   "source": [
    "#reference = np.array([0,17,32,42,49,58,70,1000]) # in m/s"
   ]
  },
  {
   "cell_type": "code",
   "execution_count": 57,
   "metadata": {
    "collapsed": false
   },
   "outputs": [],
   "source": [
    "output_labels = ['TD', 'TS' ,'CAT. 1','CAT. 2' , 'CAT. 3', 'CAT. 4', 'CAT. 5'] #The value assigned to each interval\n",
    "sort_idx = np.argsort(reference) # saving the scale indeces \n",
    "pos = np.searchsorted(reference[sort_idx], mwind, side = 'left') # sort the wind array\n",
    "out = np.argsort(reference)[pos] # restore the correct order of the scale, more info in http://stackoverflow.com/questions/31078160/classify-elements-of-a-numpy-array-using-a-second-array-as-reference"
   ]
  },
  {
   "cell_type": "code",
   "execution_count": 58,
   "metadata": {
    "collapsed": false
   },
   "outputs": [
    {
     "data": {
      "text/plain": [
       "6"
      ]
     },
     "execution_count": 58,
     "metadata": {},
     "output_type": "execute_result"
    }
   ],
   "source": [
    "out.max()"
   ]
  },
  {
   "cell_type": "code",
   "execution_count": 59,
   "metadata": {
    "collapsed": false
   },
   "outputs": [],
   "source": [
    "popc=getmap('/mnt/web/brey/lspop20141_clipped.tif')"
   ]
  },
  {
   "cell_type": "code",
   "execution_count": 60,
   "metadata": {
    "collapsed": false
   },
   "outputs": [
    {
     "data": {
      "text/plain": [
       "(5652, 7350)"
      ]
     },
     "execution_count": 60,
     "metadata": {},
     "output_type": "execute_result"
    }
   ],
   "source": [
    "popc.data.shape"
   ]
  },
  {
   "cell_type": "code",
   "execution_count": 61,
   "metadata": {
    "collapsed": true
   },
   "outputs": [],
   "source": [
    "pop=np.flipud(popc.data)"
   ]
  },
  {
   "cell_type": "code",
   "execution_count": 62,
   "metadata": {
    "collapsed": false
   },
   "outputs": [
    {
     "data": {
      "text/plain": [
       "(5652, 7350)"
      ]
     },
     "execution_count": 62,
     "metadata": {},
     "output_type": "execute_result"
    }
   ],
   "source": [
    "pop.shape"
   ]
  },
  {
   "cell_type": "code",
   "execution_count": 63,
   "metadata": {
    "collapsed": false
   },
   "outputs": [
    {
     "data": {
      "text/plain": [
       "(5652, 7350)"
      ]
     },
     "execution_count": 63,
     "metadata": {},
     "output_type": "execute_result"
    }
   ],
   "source": [
    "mwind.shape"
   ]
  },
  {
   "cell_type": "code",
   "execution_count": 64,
   "metadata": {
    "collapsed": false
   },
   "outputs": [],
   "source": [
    "dic={}\n",
    "for i in range(7):\n",
    "        mask= out == i # wind force i\n",
    "        try:\n",
    "            npop = np.ma.masked_less(pop[mask],0).sum() # sum of people exposed to wind force i\n",
    "            if npop is np.ma.masked :\n",
    "                dic[output_labels[i]] = 0 \n",
    "            else:\n",
    "                dic[output_labels[i]] = npop\n",
    "        except Exception as e :\n",
    "            print e\n"
   ]
  },
  {
   "cell_type": "code",
   "execution_count": 65,
   "metadata": {
    "collapsed": false
   },
   "outputs": [
    {
     "data": {
      "text/plain": [
       "{'CAT. 1': 21166753,\n",
       " 'CAT. 2': 1050101,\n",
       " 'CAT. 3': 23213,\n",
       " 'CAT. 4': 807,\n",
       " 'CAT. 5': 838,\n",
       " 'TD': 1198266138,\n",
       " 'TS': 289275435}"
      ]
     },
     "execution_count": 65,
     "metadata": {},
     "output_type": "execute_result"
    }
   ],
   "source": [
    "dic"
   ]
  },
  {
   "cell_type": "code",
   "execution_count": null,
   "metadata": {
    "collapsed": false
   },
   "outputs": [],
   "source": [
    "dic['TD']+dic['TS']"
   ]
  },
  {
   "cell_type": "code",
   "execution_count": 66,
   "metadata": {
    "collapsed": false
   },
   "outputs": [
    {
     "data": {
      "text/plain": [
       "(5652, 7350)"
      ]
     },
     "execution_count": 66,
     "metadata": {},
     "output_type": "execute_result"
    }
   ],
   "source": [
    "pop.shape"
   ]
  },
  {
   "cell_type": "code",
   "execution_count": 67,
   "metadata": {
    "collapsed": false
   },
   "outputs": [
    {
     "data": {
      "text/plain": [
       "(5651, 7351)"
      ]
     },
     "execution_count": 67,
     "metadata": {},
     "output_type": "execute_result"
    }
   ],
   "source": [
    "mpop.shape"
   ]
  },
  {
   "cell_type": "code",
   "execution_count": 68,
   "metadata": {
    "collapsed": false
   },
   "outputs": [
    {
     "data": {
      "text/plain": [
       "[106.75, 167.99999999999756, 6.0000000000018829, 53.100000000000001]"
      ]
     },
     "execution_count": 68,
     "metadata": {},
     "output_type": "execute_result"
    }
   ],
   "source": [
    "[minlon,maxlon,minlat,maxlat]"
   ]
  },
  {
   "cell_type": "code",
   "execution_count": 69,
   "metadata": {
    "collapsed": false
   },
   "outputs": [
    {
     "data": {
      "text/plain": [
       "[106.75, 167.99999999999653, 6.0000000000026787, 53.100000000000001]"
      ]
     },
     "execution_count": 69,
     "metadata": {},
     "output_type": "execute_result"
    }
   ],
   "source": [
    "buf"
   ]
  },
  {
   "cell_type": "code",
   "execution_count": null,
   "metadata": {
    "collapsed": true
   },
   "outputs": [],
   "source": []
  }
 ],
 "metadata": {
  "hide_input": false,
  "kernelspec": {
   "display_name": "Python 2",
   "language": "python",
   "name": "python2"
  },
  "language_info": {
   "codemirror_mode": {
    "name": "ipython",
    "version": 2
   },
   "file_extension": ".py",
   "mimetype": "text/x-python",
   "name": "python",
   "nbconvert_exporter": "python",
   "pygments_lexer": "ipython2",
   "version": "2.7.12"
  },
  "latex_envs": {
   "bibliofile": "biblio.bib",
   "cite_by": "apalike",
   "current_citInitial": 1,
   "eqLabelWithNumbers": true,
   "eqNumInitial": 0
  }
 },
 "nbformat": 4,
 "nbformat_minor": 1
}
