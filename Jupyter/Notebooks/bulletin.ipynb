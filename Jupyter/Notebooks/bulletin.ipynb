{
 "cells": [
  {
   "cell_type": "code",
   "execution_count": 2,
   "metadata": {
    "collapsed": false
   },
   "outputs": [
    {
     "data": {
      "text/html": [
       "<img src='http://tsunami.jrc.it/StormSurgeBulletins/LAST/MEDITERRANEAN_SEA_END.jpg'>"
      ],
      "text/plain": [
       "<IPython.core.display.HTML object>"
      ]
     },
     "metadata": {},
     "output_type": "display_data"
    }
   ],
   "source": [
    "%%HTML\n",
    "<img src='http://tsunami.jrc.it/StormSurgeBulletins/LAST/MEDITERRANEAN_SEA_END.jpg'>"
   ]
  },
  {
   "cell_type": "code",
   "execution_count": 20,
   "metadata": {
    "collapsed": false,
    "scrolled": true
   },
   "outputs": [
    {
     "data": {
      "text/html": [
       "<img src='http://oiswww.eumetsat.org/IPPS/html/latestImages/EUMETSAT_MSG_IR108EColor-centralEurope.jpg' style='float: left; width:40%; margin-right: 1%; margin-bottom: 0.5em; margin-top:0.8em'>\n",
       "\n",
       "<img src='http://oiswww.eumetsat.org/IPPS/html/latestImages/EUMETSAT_MSG_RGB-naturalcolor-centralEurope.jpg' style='float: left; width:39%; margin-right: 1%; margin-bottom: 0.5em;'>\n",
       "<p style='clear: both;'>"
      ],
      "text/plain": [
       "<IPython.core.display.HTML object>"
      ]
     },
     "metadata": {},
     "output_type": "display_data"
    }
   ],
   "source": [
    "%%HTML\n",
    "<img src='http://oiswww.eumetsat.org/IPPS/html/latestImages/EUMETSAT_MSG_IR108EColor-centralEurope.jpg' style='float: left; width:40%; margin-right: 1%; margin-bottom: 0.5em; margin-top:0.8em'>\n",
    "\n",
    "<img src='http://oiswww.eumetsat.org/IPPS/html/latestImages/EUMETSAT_MSG_RGB-naturalcolor-centralEurope.jpg' style='float: left; width:39%; margin-right: 1%; margin-bottom: 0.5em;'>\n",
    "<p style='clear: both;'>"
   ]
  },
  {
   "cell_type": "code",
   "execution_count": 23,
   "metadata": {
    "collapsed": false
   },
   "outputs": [
    {
     "data": {
      "text/html": [
       "<img src='http://old.ecmwf.int/products/forecasts/d/getchart/catalog/products/forecasts/medium/deterministic/msl_uv850_z500!Wind%20850%20and%20mslp!0!Europe!pop!od!oper!public_plots! 2016070700!!chart.gif' style='float: left; width:40%; margin-right: 1%; margin-bottom: 0.5em; margin-top:0.8em'>\n",
       "\n",
       "<img src='http://old.ecmwf.int/products/forecasts/d/getchart/catalog/products/forecasts/medium/deterministic/msl_uv850_z500!Wind%20850%20and%20mslp!24!Europe!pop!od!oper!public_plots! 2016070700!!chart.gif' style='float: left; width:39%; margin-right: 1%; margin-bottom: 0.5em;'>\n",
       "<p style='clear: both;'>"
      ],
      "text/plain": [
       "<IPython.core.display.HTML object>"
      ]
     },
     "metadata": {},
     "output_type": "display_data"
    }
   ],
   "source": [
    "%%HTML\n",
    "<img src='http://old.ecmwf.int/products/forecasts/d/getchart/catalog/products/forecasts/medium/deterministic/msl_uv850_z500!Wind%20850%20and%20mslp!0!Europe!pop!od!oper!public_plots! 2016070700!!chart.gif' style='float: left; width:40%; margin-right: 1%; margin-bottom: 0.5em; margin-top:0.8em'>\n",
    "\n",
    "<img src='http://old.ecmwf.int/products/forecasts/d/getchart/catalog/products/forecasts/medium/deterministic/msl_uv850_z500!Wind%20850%20and%20mslp!24!Europe!pop!od!oper!public_plots! 2016070700!!chart.gif' style='float: left; width:39%; margin-right: 1%; margin-bottom: 0.5em;'>\n",
    "<p style='clear: both;'>"
   ]
  },
  {
   "cell_type": "code",
   "execution_count": 24,
   "metadata": {
    "collapsed": false
   },
   "outputs": [
    {
     "data": {
      "text/html": [
       "<img src='http://old.ecmwf.int/products/forecasts/d/getchart/catalog/products/forecasts/medium/deterministic/msl_uv850_z500!Wind%20850%20and%20mslp!48!Europe!pop!od!oper!public_plots!2016070700!!chart.gif' style='float: left; width:40%; margin-right: 1%; margin-bottom: 0.5em; margin-top:0.8em'>\n",
       "\n",
       "<img src='http://old.ecmwf.int/products/forecasts/d/getchart/catalog/products/forecasts/medium/deterministic/msl_uv850_z500!Wind%20850%20and%20mslp!72!Europe!pop!od!oper!public_plots!2016070700!!chart.gif' style='float: left; width:39%; margin-right: 1%; margin-bottom: 0.5em;'>\n",
       "<p style='clear: both;'>"
      ],
      "text/plain": [
       "<IPython.core.display.HTML object>"
      ]
     },
     "metadata": {},
     "output_type": "display_data"
    }
   ],
   "source": [
    "%%HTML\n",
    "<img src='http://old.ecmwf.int/products/forecasts/d/getchart/catalog/products/forecasts/medium/deterministic/msl_uv850_z500!Wind%20850%20and%20mslp!48!Europe!pop!od!oper!public_plots!2016070700!!chart.gif' style='float: left; width:40%; margin-right: 1%; margin-bottom: 0.5em; margin-top:0.8em'>\n",
    "\n",
    "<img src='http://old.ecmwf.int/products/forecasts/d/getchart/catalog/products/forecasts/medium/deterministic/msl_uv850_z500!Wind%20850%20and%20mslp!72!Europe!pop!od!oper!public_plots!2016070700!!chart.gif' style='float: left; width:39%; margin-right: 1%; margin-bottom: 0.5em;'>\n",
    "<p style='clear: both;'>"
   ]
  },
  {
   "cell_type": "code",
   "execution_count": 25,
   "metadata": {
    "collapsed": false
   },
   "outputs": [
    {
     "data": {
      "text/html": [
       "<img src='http://tsunami.jrc.it/ECMWF/2016/FIX_MED_SEA/calc_20160707.00/OUT_u10x00u10y0000.jpg' style='float: left; width:40%; margin-right: 1%; margin-bottom: 0.5em; margin-top:0.8em'>\n",
       "\n",
       "<img src='http://tsunami.jrc.it/ECMWF/2016/FIX_MED_SEA/calc_20160707.00/OUT_u10x00u10y0024.jpg' style='float: left; width:39%; margin-right: 1%; margin-bottom: 0.5em;'>\n",
       "<p style='clear: both;'>"
      ],
      "text/plain": [
       "<IPython.core.display.HTML object>"
      ]
     },
     "metadata": {},
     "output_type": "display_data"
    }
   ],
   "source": [
    "%%HTML\n",
    "<img src='http://tsunami.jrc.it/ECMWF/2016/FIX_MED_SEA/calc_20160707.00/OUT_u10x00u10y0000.jpg' style='float: left; width:40%; margin-right: 1%; margin-bottom: 0.5em; margin-top:0.8em'>\n",
    "\n",
    "<img src='http://tsunami.jrc.it/ECMWF/2016/FIX_MED_SEA/calc_20160707.00/OUT_u10x00u10y0024.jpg' style='float: left; width:39%; margin-right: 1%; margin-bottom: 0.5em;'>\n",
    "<p style='clear: both;'>"
   ]
  },
  {
   "cell_type": "code",
   "execution_count": 26,
   "metadata": {
    "collapsed": false
   },
   "outputs": [
    {
     "data": {
      "text/html": [
       "<img src='http://tsunami.jrc.it/ECMWF/2016/FIX_MED_SEA/calc_20160707.00/OUT_u10x00u10y0048.jpg' style='float: left; width:40%; margin-right: 1%; margin-bottom: 0.5em; margin-top:0.8em'>\n",
       "\n",
       "<img src='http://tsunami.jrc.it/ECMWF/2016/FIX_MED_SEA/calc_20160707.00/OUT_u10x00u10y0072.jpg' style='float: left; width:39%; margin-right: 1%; margin-bottom: 0.5em;'>\n",
       "<p style='clear: both;'>"
      ],
      "text/plain": [
       "<IPython.core.display.HTML object>"
      ]
     },
     "metadata": {},
     "output_type": "display_data"
    }
   ],
   "source": [
    "%%HTML\n",
    "<img src='http://tsunami.jrc.it/ECMWF/2016/FIX_MED_SEA/calc_20160707.00/OUT_u10x00u10y0048.jpg' style='float: left; width:40%; margin-right: 1%; margin-bottom: 0.5em; margin-top:0.8em'>\n",
    "\n",
    "<img src='http://tsunami.jrc.it/ECMWF/2016/FIX_MED_SEA/calc_20160707.00/OUT_u10x00u10y0072.jpg' style='float: left; width:39%; margin-right: 1%; margin-bottom: 0.5em;'>\n",
    "<p style='clear: both;'>"
   ]
  },
  {
   "cell_type": "code",
   "execution_count": 27,
   "metadata": {
    "collapsed": false
   },
   "outputs": [
    {
     "data": {
      "text/html": [
       "<img src='http://tsunami.jrc.it/ECMWF/2016/FIX_MED_SEA/calc_20160707.00/OUT_TIF_H_00.jpg' style='float: left; width:40%; margin-right: 1%; margin-bottom: 0.5em; margin-top:0.8em'>\n",
       "\n",
       "<img src='http://tsunami.jrc.it/ECMWF/2016/FIX_MED_SEA/calc_20160707.00/OUT_TIF_H_24.jpg' style='float: left; width:39%; margin-right: 1%; margin-bottom: 0.5em;'>\n",
       "<p style='clear: both;'>"
      ],
      "text/plain": [
       "<IPython.core.display.HTML object>"
      ]
     },
     "metadata": {},
     "output_type": "display_data"
    }
   ],
   "source": [
    "%%HTML\n",
    "<img src='http://tsunami.jrc.it/ECMWF/2016/FIX_MED_SEA/calc_20160707.00/OUT_TIF_H_00.jpg' style='float: left; width:40%; margin-right: 1%; margin-bottom: 0.5em; margin-top:0.8em'>\n",
    "\n",
    "<img src='http://tsunami.jrc.it/ECMWF/2016/FIX_MED_SEA/calc_20160707.00/OUT_TIF_H_24.jpg' style='float: left; width:39%; margin-right: 1%; margin-bottom: 0.5em;'>\n",
    "<p style='clear: both;'>"
   ]
  },
  {
   "cell_type": "code",
   "execution_count": 28,
   "metadata": {
    "collapsed": false
   },
   "outputs": [
    {
     "data": {
      "text/html": [
       "<img src='http://tsunami.jrc.it/ECMWF/2016/FIX_MED_SEA/calc_20160707.00/OUT_TIF_H_48.jpg' style='float: left; width:40%; margin-right: 1%; margin-bottom: 0.5em; margin-top:0.8em'>\n",
       "\n",
       "<img src='http://tsunami.jrc.it/ECMWF/2016/FIX_MED_SEA/calc_20160707.00/OUT_TIF_H_72.jpg' style='float: left; width:39%; margin-right: 1%; margin-bottom: 0.5em;'>\n",
       "<p style='clear: both;'>"
      ],
      "text/plain": [
       "<IPython.core.display.HTML object>"
      ]
     },
     "metadata": {},
     "output_type": "display_data"
    }
   ],
   "source": [
    "%%HTML\n",
    "<img src='http://tsunami.jrc.it/ECMWF/2016/FIX_MED_SEA/calc_20160707.00/OUT_TIF_H_48.jpg' style='float: left; width:40%; margin-right: 1%; margin-bottom: 0.5em; margin-top:0.8em'>\n",
    "\n",
    "<img src='http://tsunami.jrc.it/ECMWF/2016/FIX_MED_SEA/calc_20160707.00/OUT_TIF_H_72.jpg' style='float: left; width:39%; margin-right: 1%; margin-bottom: 0.5em;'>\n",
    "<p style='clear: both;'>"
   ]
  },
  {
   "cell_type": "code",
   "execution_count": null,
   "metadata": {
    "collapsed": true
   },
   "outputs": [],
   "source": []
  }
 ],
 "metadata": {
  "kernelspec": {
   "display_name": "Python 2",
   "language": "python",
   "name": "python2"
  },
  "language_info": {
   "codemirror_mode": {
    "name": "ipython",
    "version": 2
   },
   "file_extension": ".py",
   "mimetype": "text/x-python",
   "name": "python",
   "nbconvert_exporter": "python",
   "pygments_lexer": "ipython2",
   "version": "2.7.11+"
  },
  "widgets": {
   "state": {},
   "version": "1.1.1"
  }
 },
 "nbformat": 4,
 "nbformat_minor": 0
}
