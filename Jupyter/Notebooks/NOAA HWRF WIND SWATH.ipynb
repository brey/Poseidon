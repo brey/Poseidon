{
 "cells": [
  {
   "cell_type": "code",
   "execution_count": 1,
   "metadata": {
    "collapsed": true
   },
   "outputs": [],
   "source": [
    "# This a quick way to visualize the latest Hurricane wind data from HWRF "
   ]
  },
  {
   "cell_type": "code",
   "execution_count": 2,
   "metadata": {
    "collapsed": false
   },
   "outputs": [],
   "source": [
    "#Import the neccessary modules\n",
    "\n",
    "import numpy as np\n",
    "from notebook import *\n",
    "from ipywidgets import *\n",
    "import matplotlib.pyplot as plt\n",
    "import matplotlib as mpl\n",
    "import datetime\n",
    "from mpl_toolkits.basemap import Basemap, shiftgrid\n",
    "import glob\n",
    "import urllib2,urllib\n",
    "import os\n",
    "import pandas\n",
    "%matplotlib notebook"
   ]
  },
  {
   "cell_type": "code",
   "execution_count": 3,
   "metadata": {
    "collapsed": false
   },
   "outputs": [],
   "source": [
    "#Lookup the ftp server for the latest folder\n",
    "path0='ftp://ftp.ncep.noaa.gov/pub/data/nccf/com/hur/prod/'\n",
    "response=urllib2.urlopen(path0)\n",
    "ls=response.readlines()\n",
    "lp=[elem.strip() for elem in ls]\n"
   ]
  },
  {
   "cell_type": "code",
   "execution_count": 4,
   "metadata": {
    "collapsed": false
   },
   "outputs": [],
   "source": [
    "#choose the 4th folder (the latest) and isolate the name\n",
    "fpath=lp[3].split()[-1]"
   ]
  },
  {
   "cell_type": "code",
   "execution_count": 5,
   "metadata": {
    "collapsed": false
   },
   "outputs": [],
   "source": [
    "# parse the folder \n",
    "fresponse=urllib2.urlopen(path0+fpath)\n",
    "fls=fresponse.readlines()\n",
    "flp=[elem.strip() for elem in fls]\n"
   ]
  },
  {
   "cell_type": "code",
   "execution_count": 6,
   "metadata": {
    "collapsed": false
   },
   "outputs": [
    {
     "data": {
      "text/plain": [
       "[399, 798]"
      ]
     },
     "execution_count": 6,
     "metadata": {},
     "output_type": "execute_result"
    }
   ],
   "source": [
    "w=['wind10m' in e for e in flp]\n",
    "\n",
    "indx=[i for i, x in enumerate(w) if x]\n",
    "\n",
    "indx"
   ]
  },
  {
   "cell_type": "markdown",
   "metadata": {},
   "source": [
    "If it is more than one hur we choose ..."
   ]
  },
  {
   "cell_type": "code",
   "execution_count": 7,
   "metadata": {
    "collapsed": false
   },
   "outputs": [
    {
     "data": {
      "text/plain": [
       "'bonnie92l.2016060100.wind10m.ascii'"
      ]
     },
     "execution_count": 7,
     "metadata": {},
     "output_type": "execute_result"
    }
   ],
   "source": [
    "i=0 # change this one \n",
    "fname=flp[indx[i]].split()[-1]\n",
    "fname"
   ]
  },
  {
   "cell_type": "code",
   "execution_count": 8,
   "metadata": {
    "collapsed": false
   },
   "outputs": [],
   "source": [
    "#get hur name\n",
    "hurName=fname.split('.')[0]\n",
    "date=fname.split('.')[1]"
   ]
  },
  {
   "cell_type": "code",
   "execution_count": 9,
   "metadata": {
    "collapsed": false
   },
   "outputs": [],
   "source": [
    "# retrieve file\n",
    "try:\n",
    "    urllib.urlretrieve(path0+fpath+'/'+fname, filename='tmp/wind10m.txt')\n",
    "except:\n",
    "    print 'no such file'"
   ]
  },
  {
   "cell_type": "code",
   "execution_count": 10,
   "metadata": {
    "collapsed": false
   },
   "outputs": [],
   "source": [
    "#read file\n",
    "r=pandas.read_csv('tmp/wind10m.txt',header=0)"
   ]
  },
  {
   "cell_type": "markdown",
   "metadata": {},
   "source": [
    "The file has a header and in the end the track of the Hurricane. So we sort things out"
   ]
  },
  {
   "cell_type": "markdown",
   "metadata": {},
   "source": [
    "We find the number of points included in the track"
   ]
  },
  {
   "cell_type": "code",
   "execution_count": 11,
   "metadata": {
    "collapsed": false
   },
   "outputs": [
    {
     "name": "stderr",
     "output_type": "stream",
     "text": [
      "/usr/local/lib/python2.7/dist-packages/ipykernel/__main__.py:1: FutureWarning: convert_objects is deprecated.  Use the data-type specific converters pd.to_datetime, pd.to_timedelta and pd.to_numeric.\n",
      "  if __name__ == '__main__':\n"
     ]
    }
   ],
   "source": [
    "ntr=r.convert_objects(convert_numeric=True).dropna()"
   ]
  },
  {
   "cell_type": "code",
   "execution_count": 12,
   "metadata": {
    "collapsed": false
   },
   "outputs": [
    {
     "data": {
      "text/html": [
       "<div>\n",
       "<table border=\"1\" class=\"dataframe\">\n",
       "  <thead>\n",
       "    <tr style=\"text-align: right;\">\n",
       "      <th></th>\n",
       "      <th>-85.85   -33.80    26.55    50.25     0.05 1042  475</th>\n",
       "    </tr>\n",
       "  </thead>\n",
       "  <tbody>\n",
       "    <tr>\n",
       "      <th>494951</th>\n",
       "      <td>126</td>\n",
       "    </tr>\n",
       "  </tbody>\n",
       "</table>\n",
       "</div>"
      ],
      "text/plain": [
       "           -85.85   -33.80    26.55    50.25     0.05 1042  475\n",
       "494951                                                126      "
      ]
     },
     "execution_count": 12,
     "metadata": {},
     "output_type": "execute_result"
    }
   ],
   "source": [
    "ntr"
   ]
  },
  {
   "cell_type": "markdown",
   "metadata": {},
   "source": [
    "Now the values below line (see index on the left) is the track and above is the lat,lon, so"
   ]
  },
  {
   "cell_type": "code",
   "execution_count": 13,
   "metadata": {
    "collapsed": false
   },
   "outputs": [],
   "source": [
    "h=r.columns[0].split() # header"
   ]
  },
  {
   "cell_type": "code",
   "execution_count": 14,
   "metadata": {
    "collapsed": false
   },
   "outputs": [
    {
     "data": {
      "text/plain": [
       "494951"
      ]
     },
     "execution_count": 14,
     "metadata": {},
     "output_type": "execute_result"
    }
   ],
   "source": [
    "ntr.index[0]"
   ]
  },
  {
   "cell_type": "code",
   "execution_count": 15,
   "metadata": {
    "collapsed": false
   },
   "outputs": [],
   "source": [
    "tra=r[ntr.index[0]+1:]"
   ]
  },
  {
   "cell_type": "code",
   "execution_count": 16,
   "metadata": {
    "collapsed": false
   },
   "outputs": [],
   "source": [
    "tr=[]\n",
    "for x in tra.values.ravel():\n",
    "    tr.append(x.split())"
   ]
  },
  {
   "cell_type": "code",
   "execution_count": 17,
   "metadata": {
    "collapsed": false
   },
   "outputs": [],
   "source": [
    "track=np.array(tr).astype(float)"
   ]
  },
  {
   "cell_type": "code",
   "execution_count": 18,
   "metadata": {
    "collapsed": true
   },
   "outputs": [],
   "source": [
    "dat=r[:ntr.index[0]] "
   ]
  },
  {
   "cell_type": "code",
   "execution_count": 19,
   "metadata": {
    "collapsed": false
   },
   "outputs": [],
   "source": [
    "#s=data[data.columns[0]].apply(lambda x: pandas.Series(x.split(',')))"
   ]
  },
  {
   "cell_type": "code",
   "execution_count": 20,
   "metadata": {
    "collapsed": false
   },
   "outputs": [],
   "source": [
    "data=[]\n",
    "for x in dat.values.ravel():\n",
    "    data.append(x.split())"
   ]
  },
  {
   "cell_type": "code",
   "execution_count": 21,
   "metadata": {
    "collapsed": false
   },
   "outputs": [],
   "source": [
    "d=np.array(data)"
   ]
  },
  {
   "cell_type": "code",
   "execution_count": 22,
   "metadata": {
    "collapsed": false
   },
   "outputs": [],
   "source": [
    "lat=d[:-1,0].astype(float)\n",
    "lon=d[:-1,1].astype(float)\n",
    "windf=d[:-1,2].astype(float)"
   ]
  },
  {
   "cell_type": "code",
   "execution_count": 23,
   "metadata": {
    "collapsed": false
   },
   "outputs": [],
   "source": [
    "ni,nj=np.int(h[-1]),np.int(h[-2])"
   ]
  },
  {
   "cell_type": "markdown",
   "metadata": {},
   "source": [
    "Reshape data to the shape given in the header"
   ]
  },
  {
   "cell_type": "code",
   "execution_count": 24,
   "metadata": {
    "collapsed": false
   },
   "outputs": [],
   "source": [
    "lat=lat.reshape(ni,nj) # the last 2 values of the header define grid size\n",
    "lon=lon.reshape(ni,nj)\n",
    "windf=windf.reshape(ni,nj)"
   ]
  },
  {
   "cell_type": "markdown",
   "metadata": {},
   "source": [
    "In order to make the plot better we can mask the NaN values (in this case -999.)"
   ]
  },
  {
   "cell_type": "code",
   "execution_count": 25,
   "metadata": {
    "collapsed": false
   },
   "outputs": [],
   "source": [
    "wind=np.ma.masked_where(windf == -999., windf)"
   ]
  },
  {
   "cell_type": "code",
   "execution_count": 26,
   "metadata": {
    "collapsed": false
   },
   "outputs": [],
   "source": [
    "#Define a personal cmap\n",
    "\n",
    "wlevs = [30.,34.,50.,64.,83.,96.,114.,135.] #specify color map to match NOAA's HWRF\n",
    "mwind=np.max(wlevs)\n",
    "colors=['c','green','darkgreen','yellow','orange','r','brown']\n",
    "cmap=mpl.colors.ListedColormap(colors)\n",
    "norm=mpl.colors.BoundaryNorm(wlevs,cmap.N)\n",
    "\n",
    "cmap.set_over(mpl.colors.colorConverter.to_rgb('m'))\n",
    "cmap.set_under(mpl.colors.colorConverter.to_rgb('w'))"
   ]
  },
  {
   "cell_type": "markdown",
   "metadata": {},
   "source": [
    "plot the figure"
   ]
  },
  {
   "cell_type": "code",
   "execution_count": 27,
   "metadata": {
    "collapsed": false,
    "scrolled": true
   },
   "outputs": [
    {
     "data": {
      "application/javascript": [
       "/* Put everything inside the global mpl namespace */\n",
       "window.mpl = {};\n",
       "\n",
       "mpl.get_websocket_type = function() {\n",
       "    if (typeof(WebSocket) !== 'undefined') {\n",
       "        return WebSocket;\n",
       "    } else if (typeof(MozWebSocket) !== 'undefined') {\n",
       "        return MozWebSocket;\n",
       "    } else {\n",
       "        alert('Your browser does not have WebSocket support.' +\n",
       "              'Please try Chrome, Safari or Firefox ≥ 6. ' +\n",
       "              'Firefox 4 and 5 are also supported but you ' +\n",
       "              'have to enable WebSockets in about:config.');\n",
       "    };\n",
       "}\n",
       "\n",
       "mpl.figure = function(figure_id, websocket, ondownload, parent_element) {\n",
       "    this.id = figure_id;\n",
       "\n",
       "    this.ws = websocket;\n",
       "\n",
       "    this.supports_binary = (this.ws.binaryType != undefined);\n",
       "\n",
       "    if (!this.supports_binary) {\n",
       "        var warnings = document.getElementById(\"mpl-warnings\");\n",
       "        if (warnings) {\n",
       "            warnings.style.display = 'block';\n",
       "            warnings.textContent = (\n",
       "                \"This browser does not support binary websocket messages. \" +\n",
       "                    \"Performance may be slow.\");\n",
       "        }\n",
       "    }\n",
       "\n",
       "    this.imageObj = new Image();\n",
       "\n",
       "    this.context = undefined;\n",
       "    this.message = undefined;\n",
       "    this.canvas = undefined;\n",
       "    this.rubberband_canvas = undefined;\n",
       "    this.rubberband_context = undefined;\n",
       "    this.format_dropdown = undefined;\n",
       "\n",
       "    this.image_mode = 'full';\n",
       "\n",
       "    this.root = $('<div/>');\n",
       "    this._root_extra_style(this.root)\n",
       "    this.root.attr('style', 'display: inline-block');\n",
       "\n",
       "    $(parent_element).append(this.root);\n",
       "\n",
       "    this._init_header(this);\n",
       "    this._init_canvas(this);\n",
       "    this._init_toolbar(this);\n",
       "\n",
       "    var fig = this;\n",
       "\n",
       "    this.waiting = false;\n",
       "\n",
       "    this.ws.onopen =  function () {\n",
       "            fig.send_message(\"supports_binary\", {value: fig.supports_binary});\n",
       "            fig.send_message(\"send_image_mode\", {});\n",
       "            fig.send_message(\"refresh\", {});\n",
       "        }\n",
       "\n",
       "    this.imageObj.onload = function() {\n",
       "            if (fig.image_mode == 'full') {\n",
       "                // Full images could contain transparency (where diff images\n",
       "                // almost always do), so we need to clear the canvas so that\n",
       "                // there is no ghosting.\n",
       "                fig.context.clearRect(0, 0, fig.canvas.width, fig.canvas.height);\n",
       "            }\n",
       "            fig.context.drawImage(fig.imageObj, 0, 0);\n",
       "        };\n",
       "\n",
       "    this.imageObj.onunload = function() {\n",
       "        this.ws.close();\n",
       "    }\n",
       "\n",
       "    this.ws.onmessage = this._make_on_message_function(this);\n",
       "\n",
       "    this.ondownload = ondownload;\n",
       "}\n",
       "\n",
       "mpl.figure.prototype._init_header = function() {\n",
       "    var titlebar = $(\n",
       "        '<div class=\"ui-dialog-titlebar ui-widget-header ui-corner-all ' +\n",
       "        'ui-helper-clearfix\"/>');\n",
       "    var titletext = $(\n",
       "        '<div class=\"ui-dialog-title\" style=\"width: 100%; ' +\n",
       "        'text-align: center; padding: 3px;\"/>');\n",
       "    titlebar.append(titletext)\n",
       "    this.root.append(titlebar);\n",
       "    this.header = titletext[0];\n",
       "}\n",
       "\n",
       "\n",
       "\n",
       "mpl.figure.prototype._canvas_extra_style = function(canvas_div) {\n",
       "\n",
       "}\n",
       "\n",
       "\n",
       "mpl.figure.prototype._root_extra_style = function(canvas_div) {\n",
       "\n",
       "}\n",
       "\n",
       "mpl.figure.prototype._init_canvas = function() {\n",
       "    var fig = this;\n",
       "\n",
       "    var canvas_div = $('<div/>');\n",
       "\n",
       "    canvas_div.attr('style', 'position: relative; clear: both; outline: 0');\n",
       "\n",
       "    function canvas_keyboard_event(event) {\n",
       "        return fig.key_event(event, event['data']);\n",
       "    }\n",
       "\n",
       "    canvas_div.keydown('key_press', canvas_keyboard_event);\n",
       "    canvas_div.keyup('key_release', canvas_keyboard_event);\n",
       "    this.canvas_div = canvas_div\n",
       "    this._canvas_extra_style(canvas_div)\n",
       "    this.root.append(canvas_div);\n",
       "\n",
       "    var canvas = $('<canvas/>');\n",
       "    canvas.addClass('mpl-canvas');\n",
       "    canvas.attr('style', \"left: 0; top: 0; z-index: 0; outline: 0\")\n",
       "\n",
       "    this.canvas = canvas[0];\n",
       "    this.context = canvas[0].getContext(\"2d\");\n",
       "\n",
       "    var rubberband = $('<canvas/>');\n",
       "    rubberband.attr('style', \"position: absolute; left: 0; top: 0; z-index: 1;\")\n",
       "\n",
       "    var pass_mouse_events = true;\n",
       "\n",
       "    canvas_div.resizable({\n",
       "        start: function(event, ui) {\n",
       "            pass_mouse_events = false;\n",
       "        },\n",
       "        resize: function(event, ui) {\n",
       "            fig.request_resize(ui.size.width, ui.size.height);\n",
       "        },\n",
       "        stop: function(event, ui) {\n",
       "            pass_mouse_events = true;\n",
       "            fig.request_resize(ui.size.width, ui.size.height);\n",
       "        },\n",
       "    });\n",
       "\n",
       "    function mouse_event_fn(event) {\n",
       "        if (pass_mouse_events)\n",
       "            return fig.mouse_event(event, event['data']);\n",
       "    }\n",
       "\n",
       "    rubberband.mousedown('button_press', mouse_event_fn);\n",
       "    rubberband.mouseup('button_release', mouse_event_fn);\n",
       "    // Throttle sequential mouse events to 1 every 20ms.\n",
       "    rubberband.mousemove('motion_notify', mouse_event_fn);\n",
       "\n",
       "    rubberband.mouseenter('figure_enter', mouse_event_fn);\n",
       "    rubberband.mouseleave('figure_leave', mouse_event_fn);\n",
       "\n",
       "    canvas_div.on(\"wheel\", function (event) {\n",
       "        event = event.originalEvent;\n",
       "        event['data'] = 'scroll'\n",
       "        if (event.deltaY < 0) {\n",
       "            event.step = 1;\n",
       "        } else {\n",
       "            event.step = -1;\n",
       "        }\n",
       "        mouse_event_fn(event);\n",
       "    });\n",
       "\n",
       "    canvas_div.append(canvas);\n",
       "    canvas_div.append(rubberband);\n",
       "\n",
       "    this.rubberband = rubberband;\n",
       "    this.rubberband_canvas = rubberband[0];\n",
       "    this.rubberband_context = rubberband[0].getContext(\"2d\");\n",
       "    this.rubberband_context.strokeStyle = \"#000000\";\n",
       "\n",
       "    this._resize_canvas = function(width, height) {\n",
       "        // Keep the size of the canvas, canvas container, and rubber band\n",
       "        // canvas in synch.\n",
       "        canvas_div.css('width', width)\n",
       "        canvas_div.css('height', height)\n",
       "\n",
       "        canvas.attr('width', width);\n",
       "        canvas.attr('height', height);\n",
       "\n",
       "        rubberband.attr('width', width);\n",
       "        rubberband.attr('height', height);\n",
       "    }\n",
       "\n",
       "    // Set the figure to an initial 600x600px, this will subsequently be updated\n",
       "    // upon first draw.\n",
       "    this._resize_canvas(600, 600);\n",
       "\n",
       "    // Disable right mouse context menu.\n",
       "    $(this.rubberband_canvas).bind(\"contextmenu\",function(e){\n",
       "        return false;\n",
       "    });\n",
       "\n",
       "    function set_focus () {\n",
       "        canvas.focus();\n",
       "        canvas_div.focus();\n",
       "    }\n",
       "\n",
       "    window.setTimeout(set_focus, 100);\n",
       "}\n",
       "\n",
       "mpl.figure.prototype._init_toolbar = function() {\n",
       "    var fig = this;\n",
       "\n",
       "    var nav_element = $('<div/>')\n",
       "    nav_element.attr('style', 'width: 100%');\n",
       "    this.root.append(nav_element);\n",
       "\n",
       "    // Define a callback function for later on.\n",
       "    function toolbar_event(event) {\n",
       "        return fig.toolbar_button_onclick(event['data']);\n",
       "    }\n",
       "    function toolbar_mouse_event(event) {\n",
       "        return fig.toolbar_button_onmouseover(event['data']);\n",
       "    }\n",
       "\n",
       "    for(var toolbar_ind in mpl.toolbar_items) {\n",
       "        var name = mpl.toolbar_items[toolbar_ind][0];\n",
       "        var tooltip = mpl.toolbar_items[toolbar_ind][1];\n",
       "        var image = mpl.toolbar_items[toolbar_ind][2];\n",
       "        var method_name = mpl.toolbar_items[toolbar_ind][3];\n",
       "\n",
       "        if (!name) {\n",
       "            // put a spacer in here.\n",
       "            continue;\n",
       "        }\n",
       "        var button = $('<button/>');\n",
       "        button.addClass('ui-button ui-widget ui-state-default ui-corner-all ' +\n",
       "                        'ui-button-icon-only');\n",
       "        button.attr('role', 'button');\n",
       "        button.attr('aria-disabled', 'false');\n",
       "        button.click(method_name, toolbar_event);\n",
       "        button.mouseover(tooltip, toolbar_mouse_event);\n",
       "\n",
       "        var icon_img = $('<span/>');\n",
       "        icon_img.addClass('ui-button-icon-primary ui-icon');\n",
       "        icon_img.addClass(image);\n",
       "        icon_img.addClass('ui-corner-all');\n",
       "\n",
       "        var tooltip_span = $('<span/>');\n",
       "        tooltip_span.addClass('ui-button-text');\n",
       "        tooltip_span.html(tooltip);\n",
       "\n",
       "        button.append(icon_img);\n",
       "        button.append(tooltip_span);\n",
       "\n",
       "        nav_element.append(button);\n",
       "    }\n",
       "\n",
       "    var fmt_picker_span = $('<span/>');\n",
       "\n",
       "    var fmt_picker = $('<select/>');\n",
       "    fmt_picker.addClass('mpl-toolbar-option ui-widget ui-widget-content');\n",
       "    fmt_picker_span.append(fmt_picker);\n",
       "    nav_element.append(fmt_picker_span);\n",
       "    this.format_dropdown = fmt_picker[0];\n",
       "\n",
       "    for (var ind in mpl.extensions) {\n",
       "        var fmt = mpl.extensions[ind];\n",
       "        var option = $(\n",
       "            '<option/>', {selected: fmt === mpl.default_extension}).html(fmt);\n",
       "        fmt_picker.append(option)\n",
       "    }\n",
       "\n",
       "    // Add hover states to the ui-buttons\n",
       "    $( \".ui-button\" ).hover(\n",
       "        function() { $(this).addClass(\"ui-state-hover\");},\n",
       "        function() { $(this).removeClass(\"ui-state-hover\");}\n",
       "    );\n",
       "\n",
       "    var status_bar = $('<span class=\"mpl-message\"/>');\n",
       "    nav_element.append(status_bar);\n",
       "    this.message = status_bar[0];\n",
       "}\n",
       "\n",
       "mpl.figure.prototype.request_resize = function(x_pixels, y_pixels) {\n",
       "    // Request matplotlib to resize the figure. Matplotlib will then trigger a resize in the client,\n",
       "    // which will in turn request a refresh of the image.\n",
       "    this.send_message('resize', {'width': x_pixels, 'height': y_pixels});\n",
       "}\n",
       "\n",
       "mpl.figure.prototype.send_message = function(type, properties) {\n",
       "    properties['type'] = type;\n",
       "    properties['figure_id'] = this.id;\n",
       "    this.ws.send(JSON.stringify(properties));\n",
       "}\n",
       "\n",
       "mpl.figure.prototype.send_draw_message = function() {\n",
       "    if (!this.waiting) {\n",
       "        this.waiting = true;\n",
       "        this.ws.send(JSON.stringify({type: \"draw\", figure_id: this.id}));\n",
       "    }\n",
       "}\n",
       "\n",
       "\n",
       "mpl.figure.prototype.handle_save = function(fig, msg) {\n",
       "    var format_dropdown = fig.format_dropdown;\n",
       "    var format = format_dropdown.options[format_dropdown.selectedIndex].value;\n",
       "    fig.ondownload(fig, format);\n",
       "}\n",
       "\n",
       "\n",
       "mpl.figure.prototype.handle_resize = function(fig, msg) {\n",
       "    var size = msg['size'];\n",
       "    if (size[0] != fig.canvas.width || size[1] != fig.canvas.height) {\n",
       "        fig._resize_canvas(size[0], size[1]);\n",
       "        fig.send_message(\"refresh\", {});\n",
       "    };\n",
       "}\n",
       "\n",
       "mpl.figure.prototype.handle_rubberband = function(fig, msg) {\n",
       "    var x0 = msg['x0'];\n",
       "    var y0 = fig.canvas.height - msg['y0'];\n",
       "    var x1 = msg['x1'];\n",
       "    var y1 = fig.canvas.height - msg['y1'];\n",
       "    x0 = Math.floor(x0) + 0.5;\n",
       "    y0 = Math.floor(y0) + 0.5;\n",
       "    x1 = Math.floor(x1) + 0.5;\n",
       "    y1 = Math.floor(y1) + 0.5;\n",
       "    var min_x = Math.min(x0, x1);\n",
       "    var min_y = Math.min(y0, y1);\n",
       "    var width = Math.abs(x1 - x0);\n",
       "    var height = Math.abs(y1 - y0);\n",
       "\n",
       "    fig.rubberband_context.clearRect(\n",
       "        0, 0, fig.canvas.width, fig.canvas.height);\n",
       "\n",
       "    fig.rubberband_context.strokeRect(min_x, min_y, width, height);\n",
       "}\n",
       "\n",
       "mpl.figure.prototype.handle_figure_label = function(fig, msg) {\n",
       "    // Updates the figure title.\n",
       "    fig.header.textContent = msg['label'];\n",
       "}\n",
       "\n",
       "mpl.figure.prototype.handle_cursor = function(fig, msg) {\n",
       "    var cursor = msg['cursor'];\n",
       "    switch(cursor)\n",
       "    {\n",
       "    case 0:\n",
       "        cursor = 'pointer';\n",
       "        break;\n",
       "    case 1:\n",
       "        cursor = 'default';\n",
       "        break;\n",
       "    case 2:\n",
       "        cursor = 'crosshair';\n",
       "        break;\n",
       "    case 3:\n",
       "        cursor = 'move';\n",
       "        break;\n",
       "    }\n",
       "    fig.rubberband_canvas.style.cursor = cursor;\n",
       "}\n",
       "\n",
       "mpl.figure.prototype.handle_message = function(fig, msg) {\n",
       "    fig.message.textContent = msg['message'];\n",
       "}\n",
       "\n",
       "mpl.figure.prototype.handle_draw = function(fig, msg) {\n",
       "    // Request the server to send over a new figure.\n",
       "    fig.send_draw_message();\n",
       "}\n",
       "\n",
       "mpl.figure.prototype.handle_image_mode = function(fig, msg) {\n",
       "    fig.image_mode = msg['mode'];\n",
       "}\n",
       "\n",
       "mpl.figure.prototype.updated_canvas_event = function() {\n",
       "    // Called whenever the canvas gets updated.\n",
       "    this.send_message(\"ack\", {});\n",
       "}\n",
       "\n",
       "// A function to construct a web socket function for onmessage handling.\n",
       "// Called in the figure constructor.\n",
       "mpl.figure.prototype._make_on_message_function = function(fig) {\n",
       "    return function socket_on_message(evt) {\n",
       "        if (evt.data instanceof Blob) {\n",
       "            /* FIXME: We get \"Resource interpreted as Image but\n",
       "             * transferred with MIME type text/plain:\" errors on\n",
       "             * Chrome.  But how to set the MIME type?  It doesn't seem\n",
       "             * to be part of the websocket stream */\n",
       "            evt.data.type = \"image/png\";\n",
       "\n",
       "            /* Free the memory for the previous frames */\n",
       "            if (fig.imageObj.src) {\n",
       "                (window.URL || window.webkitURL).revokeObjectURL(\n",
       "                    fig.imageObj.src);\n",
       "            }\n",
       "\n",
       "            fig.imageObj.src = (window.URL || window.webkitURL).createObjectURL(\n",
       "                evt.data);\n",
       "            fig.updated_canvas_event();\n",
       "            fig.waiting = false;\n",
       "            return;\n",
       "        }\n",
       "        else if (typeof evt.data === 'string' && evt.data.slice(0, 21) == \"data:image/png;base64\") {\n",
       "            fig.imageObj.src = evt.data;\n",
       "            fig.updated_canvas_event();\n",
       "            fig.waiting = false;\n",
       "            return;\n",
       "        }\n",
       "\n",
       "        var msg = JSON.parse(evt.data);\n",
       "        var msg_type = msg['type'];\n",
       "\n",
       "        // Call the  \"handle_{type}\" callback, which takes\n",
       "        // the figure and JSON message as its only arguments.\n",
       "        try {\n",
       "            var callback = fig[\"handle_\" + msg_type];\n",
       "        } catch (e) {\n",
       "            console.log(\"No handler for the '\" + msg_type + \"' message type: \", msg);\n",
       "            return;\n",
       "        }\n",
       "\n",
       "        if (callback) {\n",
       "            try {\n",
       "                // console.log(\"Handling '\" + msg_type + \"' message: \", msg);\n",
       "                callback(fig, msg);\n",
       "            } catch (e) {\n",
       "                console.log(\"Exception inside the 'handler_\" + msg_type + \"' callback:\", e, e.stack, msg);\n",
       "            }\n",
       "        }\n",
       "    };\n",
       "}\n",
       "\n",
       "// from http://stackoverflow.com/questions/1114465/getting-mouse-location-in-canvas\n",
       "mpl.findpos = function(e) {\n",
       "    //this section is from http://www.quirksmode.org/js/events_properties.html\n",
       "    var targ;\n",
       "    if (!e)\n",
       "        e = window.event;\n",
       "    if (e.target)\n",
       "        targ = e.target;\n",
       "    else if (e.srcElement)\n",
       "        targ = e.srcElement;\n",
       "    if (targ.nodeType == 3) // defeat Safari bug\n",
       "        targ = targ.parentNode;\n",
       "\n",
       "    // jQuery normalizes the pageX and pageY\n",
       "    // pageX,Y are the mouse positions relative to the document\n",
       "    // offset() returns the position of the element relative to the document\n",
       "    var x = e.pageX - $(targ).offset().left;\n",
       "    var y = e.pageY - $(targ).offset().top;\n",
       "\n",
       "    return {\"x\": x, \"y\": y};\n",
       "};\n",
       "\n",
       "/*\n",
       " * return a copy of an object with only non-object keys\n",
       " * we need this to avoid circular references\n",
       " * http://stackoverflow.com/a/24161582/3208463\n",
       " */\n",
       "function simpleKeys (original) {\n",
       "  return Object.keys(original).reduce(function (obj, key) {\n",
       "    if (typeof original[key] !== 'object')\n",
       "        obj[key] = original[key]\n",
       "    return obj;\n",
       "  }, {});\n",
       "}\n",
       "\n",
       "mpl.figure.prototype.mouse_event = function(event, name) {\n",
       "    var canvas_pos = mpl.findpos(event)\n",
       "\n",
       "    if (name === 'button_press')\n",
       "    {\n",
       "        this.canvas.focus();\n",
       "        this.canvas_div.focus();\n",
       "    }\n",
       "\n",
       "    var x = canvas_pos.x;\n",
       "    var y = canvas_pos.y;\n",
       "\n",
       "    this.send_message(name, {x: x, y: y, button: event.button,\n",
       "                             step: event.step,\n",
       "                             guiEvent: simpleKeys(event)});\n",
       "\n",
       "    /* This prevents the web browser from automatically changing to\n",
       "     * the text insertion cursor when the button is pressed.  We want\n",
       "     * to control all of the cursor setting manually through the\n",
       "     * 'cursor' event from matplotlib */\n",
       "    event.preventDefault();\n",
       "    return false;\n",
       "}\n",
       "\n",
       "mpl.figure.prototype._key_event_extra = function(event, name) {\n",
       "    // Handle any extra behaviour associated with a key event\n",
       "}\n",
       "\n",
       "mpl.figure.prototype.key_event = function(event, name) {\n",
       "\n",
       "    // Prevent repeat events\n",
       "    if (name == 'key_press')\n",
       "    {\n",
       "        if (event.which === this._key)\n",
       "            return;\n",
       "        else\n",
       "            this._key = event.which;\n",
       "    }\n",
       "    if (name == 'key_release')\n",
       "        this._key = null;\n",
       "\n",
       "    var value = '';\n",
       "    if (event.ctrlKey && event.which != 17)\n",
       "        value += \"ctrl+\";\n",
       "    if (event.altKey && event.which != 18)\n",
       "        value += \"alt+\";\n",
       "    if (event.shiftKey && event.which != 16)\n",
       "        value += \"shift+\";\n",
       "\n",
       "    value += 'k';\n",
       "    value += event.which.toString();\n",
       "\n",
       "    this._key_event_extra(event, name);\n",
       "\n",
       "    this.send_message(name, {key: value,\n",
       "                             guiEvent: simpleKeys(event)});\n",
       "    return false;\n",
       "}\n",
       "\n",
       "mpl.figure.prototype.toolbar_button_onclick = function(name) {\n",
       "    if (name == 'download') {\n",
       "        this.handle_save(this, null);\n",
       "    } else {\n",
       "        this.send_message(\"toolbar_button\", {name: name});\n",
       "    }\n",
       "};\n",
       "\n",
       "mpl.figure.prototype.toolbar_button_onmouseover = function(tooltip) {\n",
       "    this.message.textContent = tooltip;\n",
       "};\n",
       "mpl.toolbar_items = [[\"Home\", \"Reset original view\", \"fa fa-home icon-home\", \"home\"], [\"Back\", \"Back to  previous view\", \"fa fa-arrow-left icon-arrow-left\", \"back\"], [\"Forward\", \"Forward to next view\", \"fa fa-arrow-right icon-arrow-right\", \"forward\"], [\"\", \"\", \"\", \"\"], [\"Pan\", \"Pan axes with left mouse, zoom with right\", \"fa fa-arrows icon-move\", \"pan\"], [\"Zoom\", \"Zoom to rectangle\", \"fa fa-square-o icon-check-empty\", \"zoom\"], [\"\", \"\", \"\", \"\"], [\"Download\", \"Download plot\", \"fa fa-floppy-o icon-save\", \"download\"]];\n",
       "\n",
       "mpl.extensions = [\"eps\", \"jpeg\", \"pdf\", \"png\", \"ps\", \"raw\", \"svg\", \"tif\"];\n",
       "\n",
       "mpl.default_extension = \"png\";var comm_websocket_adapter = function(comm) {\n",
       "    // Create a \"websocket\"-like object which calls the given IPython comm\n",
       "    // object with the appropriate methods. Currently this is a non binary\n",
       "    // socket, so there is still some room for performance tuning.\n",
       "    var ws = {};\n",
       "\n",
       "    ws.close = function() {\n",
       "        comm.close()\n",
       "    };\n",
       "    ws.send = function(m) {\n",
       "        //console.log('sending', m);\n",
       "        comm.send(m);\n",
       "    };\n",
       "    // Register the callback with on_msg.\n",
       "    comm.on_msg(function(msg) {\n",
       "        //console.log('receiving', msg['content']['data'], msg);\n",
       "        // Pass the mpl event to the overriden (by mpl) onmessage function.\n",
       "        ws.onmessage(msg['content']['data'])\n",
       "    });\n",
       "    return ws;\n",
       "}\n",
       "\n",
       "mpl.mpl_figure_comm = function(comm, msg) {\n",
       "    // This is the function which gets called when the mpl process\n",
       "    // starts-up an IPython Comm through the \"matplotlib\" channel.\n",
       "\n",
       "    var id = msg.content.data.id;\n",
       "    // Get hold of the div created by the display call when the Comm\n",
       "    // socket was opened in Python.\n",
       "    var element = $(\"#\" + id);\n",
       "    var ws_proxy = comm_websocket_adapter(comm)\n",
       "\n",
       "    function ondownload(figure, format) {\n",
       "        window.open(figure.imageObj.src);\n",
       "    }\n",
       "\n",
       "    var fig = new mpl.figure(id, ws_proxy,\n",
       "                           ondownload,\n",
       "                           element.get(0));\n",
       "\n",
       "    // Call onopen now - mpl needs it, as it is assuming we've passed it a real\n",
       "    // web socket which is closed, not our websocket->open comm proxy.\n",
       "    ws_proxy.onopen();\n",
       "\n",
       "    fig.parent_element = element.get(0);\n",
       "    fig.cell_info = mpl.find_output_cell(\"<div id='\" + id + \"'></div>\");\n",
       "    if (!fig.cell_info) {\n",
       "        console.error(\"Failed to find cell for figure\", id, fig);\n",
       "        return;\n",
       "    }\n",
       "\n",
       "    var output_index = fig.cell_info[2]\n",
       "    var cell = fig.cell_info[0];\n",
       "\n",
       "};\n",
       "\n",
       "mpl.figure.prototype.handle_close = function(fig, msg) {\n",
       "    fig.root.unbind('remove')\n",
       "\n",
       "    // Update the output cell to use the data from the current canvas.\n",
       "    fig.push_to_output();\n",
       "    var dataURL = fig.canvas.toDataURL();\n",
       "    // Re-enable the keyboard manager in IPython - without this line, in FF,\n",
       "    // the notebook keyboard shortcuts fail.\n",
       "    IPython.keyboard_manager.enable()\n",
       "    $(fig.parent_element).html('<img src=\"' + dataURL + '\">');\n",
       "    fig.close_ws(fig, msg);\n",
       "}\n",
       "\n",
       "mpl.figure.prototype.close_ws = function(fig, msg){\n",
       "    fig.send_message('closing', msg);\n",
       "    // fig.ws.close()\n",
       "}\n",
       "\n",
       "mpl.figure.prototype.push_to_output = function(remove_interactive) {\n",
       "    // Turn the data on the canvas into data in the output cell.\n",
       "    var dataURL = this.canvas.toDataURL();\n",
       "    this.cell_info[1]['text/html'] = '<img src=\"' + dataURL + '\">';\n",
       "}\n",
       "\n",
       "mpl.figure.prototype.updated_canvas_event = function() {\n",
       "    // Tell IPython that the notebook contents must change.\n",
       "    IPython.notebook.set_dirty(true);\n",
       "    this.send_message(\"ack\", {});\n",
       "    var fig = this;\n",
       "    // Wait a second, then push the new image to the DOM so\n",
       "    // that it is saved nicely (might be nice to debounce this).\n",
       "    setTimeout(function () { fig.push_to_output() }, 1000);\n",
       "}\n",
       "\n",
       "mpl.figure.prototype._init_toolbar = function() {\n",
       "    var fig = this;\n",
       "\n",
       "    var nav_element = $('<div/>')\n",
       "    nav_element.attr('style', 'width: 100%');\n",
       "    this.root.append(nav_element);\n",
       "\n",
       "    // Define a callback function for later on.\n",
       "    function toolbar_event(event) {\n",
       "        return fig.toolbar_button_onclick(event['data']);\n",
       "    }\n",
       "    function toolbar_mouse_event(event) {\n",
       "        return fig.toolbar_button_onmouseover(event['data']);\n",
       "    }\n",
       "\n",
       "    for(var toolbar_ind in mpl.toolbar_items){\n",
       "        var name = mpl.toolbar_items[toolbar_ind][0];\n",
       "        var tooltip = mpl.toolbar_items[toolbar_ind][1];\n",
       "        var image = mpl.toolbar_items[toolbar_ind][2];\n",
       "        var method_name = mpl.toolbar_items[toolbar_ind][3];\n",
       "\n",
       "        if (!name) { continue; };\n",
       "\n",
       "        var button = $('<button class=\"btn btn-default\" href=\"#\" title=\"' + name + '\"><i class=\"fa ' + image + ' fa-lg\"></i></button>');\n",
       "        button.click(method_name, toolbar_event);\n",
       "        button.mouseover(tooltip, toolbar_mouse_event);\n",
       "        nav_element.append(button);\n",
       "    }\n",
       "\n",
       "    // Add the status bar.\n",
       "    var status_bar = $('<span class=\"mpl-message\" style=\"text-align:right; float: right;\"/>');\n",
       "    nav_element.append(status_bar);\n",
       "    this.message = status_bar[0];\n",
       "\n",
       "    // Add the close button to the window.\n",
       "    var buttongrp = $('<div class=\"btn-group inline pull-right\"></div>');\n",
       "    var button = $('<button class=\"btn btn-mini btn-primary\" href=\"#\" title=\"Stop Interaction\"><i class=\"fa fa-power-off icon-remove icon-large\"></i></button>');\n",
       "    button.click(function (evt) { fig.handle_close(fig, {}); } );\n",
       "    button.mouseover('Stop Interaction', toolbar_mouse_event);\n",
       "    buttongrp.append(button);\n",
       "    var titlebar = this.root.find($('.ui-dialog-titlebar'));\n",
       "    titlebar.prepend(buttongrp);\n",
       "}\n",
       "\n",
       "mpl.figure.prototype._root_extra_style = function(el){\n",
       "    var fig = this\n",
       "    el.on(\"remove\", function(){\n",
       "\tfig.close_ws(fig, {});\n",
       "    });\n",
       "}\n",
       "\n",
       "mpl.figure.prototype._canvas_extra_style = function(el){\n",
       "    // this is important to make the div 'focusable\n",
       "    el.attr('tabindex', 0)\n",
       "    // reach out to IPython and tell the keyboard manager to turn it's self\n",
       "    // off when our div gets focus\n",
       "\n",
       "    // location in version 3\n",
       "    if (IPython.notebook.keyboard_manager) {\n",
       "        IPython.notebook.keyboard_manager.register_events(el);\n",
       "    }\n",
       "    else {\n",
       "        // location in version 2\n",
       "        IPython.keyboard_manager.register_events(el);\n",
       "    }\n",
       "\n",
       "}\n",
       "\n",
       "mpl.figure.prototype._key_event_extra = function(event, name) {\n",
       "    var manager = IPython.notebook.keyboard_manager;\n",
       "    if (!manager)\n",
       "        manager = IPython.keyboard_manager;\n",
       "\n",
       "    // Check for shift+enter\n",
       "    if (event.shiftKey && event.which == 13) {\n",
       "        this.canvas_div.blur();\n",
       "        event.shiftKey = false;\n",
       "        // Send a \"J\" for go to next cell\n",
       "        event.which = 74;\n",
       "        event.keyCode = 74;\n",
       "        manager.command_mode();\n",
       "        manager.handle_keydown(event);\n",
       "    }\n",
       "}\n",
       "\n",
       "mpl.figure.prototype.handle_save = function(fig, msg) {\n",
       "    fig.ondownload(fig, null);\n",
       "}\n",
       "\n",
       "\n",
       "mpl.find_output_cell = function(html_output) {\n",
       "    // Return the cell and output element which can be found *uniquely* in the notebook.\n",
       "    // Note - this is a bit hacky, but it is done because the \"notebook_saving.Notebook\"\n",
       "    // IPython event is triggered only after the cells have been serialised, which for\n",
       "    // our purposes (turning an active figure into a static one), is too late.\n",
       "    var cells = IPython.notebook.get_cells();\n",
       "    var ncells = cells.length;\n",
       "    for (var i=0; i<ncells; i++) {\n",
       "        var cell = cells[i];\n",
       "        if (cell.cell_type === 'code'){\n",
       "            for (var j=0; j<cell.output_area.outputs.length; j++) {\n",
       "                var data = cell.output_area.outputs[j];\n",
       "                if (data.data) {\n",
       "                    // IPython >= 3 moved mimebundle to data attribute of output\n",
       "                    data = data.data;\n",
       "                }\n",
       "                if (data['text/html'] == html_output) {\n",
       "                    return [cell, data, j];\n",
       "                }\n",
       "            }\n",
       "        }\n",
       "    }\n",
       "}\n",
       "\n",
       "// Register the function which deals with the matplotlib target/channel.\n",
       "// The kernel may be null if the page has been refreshed.\n",
       "if (IPython.notebook.kernel != null) {\n",
       "    IPython.notebook.kernel.comm_manager.register_target('matplotlib', mpl.mpl_figure_comm);\n",
       "}\n"
      ],
      "text/plain": [
       "<IPython.core.display.Javascript object>"
      ]
     },
     "metadata": {},
     "output_type": "display_data"
    },
    {
     "data": {
      "text/html": [
       "<img src=\"data:image/png;base64,iVBORw0KGgoAAAANSUhEUgAAA8AAAAKACAYAAABT+RFDAAAgAElEQVR4nOzdd3hUddrG8RuUjogVERDEhljXVVldQWmCoIgN64qIHRViQ5QSOqH3LkWqgIIiIQlJ2OKqq7vq2l3dVUR9FWwoogLJ8/7xTGQyKQyTSYaTfD/X9VwwZ86cOXPm5II7vyYBAAAAAAAAAAAAAAAAAAAAAAAAAAAAAAAAAAAAAAAAAAAAAAAAAAAAAAAAAAAAAAAAAAAAAAAAAAAAAAAAAAAAAAAAAAAAAAAAAAAAAAAAAAAAAAAAAAAAAAAAAAAAAAAAAAAAAAAAAAAAAAAAAAAAAAAAAAAAAAAAAAAAAAAAAAAAAAAAAAAAAAAAAAAAAAAAAAAAAAAAAAAAAAAAAAAAAAAAAAAAAAAAAAAAAAAAAAAAAAAAAAAAAAAAAAAAAAAAAAAAAAAAAAAAAAAAAAAAAAAAAAAAAAAAAAAAAAAAAAAAAAAAAAAAAAAAAAAAAAAAAAAAAAAAAAAAAAAAAAAAAACg/EuWlCupcoLPozi5kgbG+NqrJb0m6WdJ/ydpiqTaEftcJWmVpE8k7ZD0vqQRhex3S+hcjinm/SpLekhSlqQvJf0g6V+SbpVUqZD9m0vKkPSjpK8lzZN0SMQ+DULn/aKkn6I4h5MlrZC0Nezz3BexTyVJ/SR9LL82b0i6sojj1ZU0UdImSb9I2hw6z0hdtedafyLpcRW8r/4oab6ktyTtkvS/Yj5HQ/n38r2kbZKeltSoiPObK/+82yVtkHRqMccFAAAAUEENkpSj/TsAnyvp6Bhed708LD4hqb2kO+QhMz1iv5ckLQ/t31LS/ZK+kwfOcN3l16q48Fkr9NoJki6T1FrSmNDrUiL2rS9pi6Q/h86vm6RPJb0Qsd+F8vD+vKT1ezmHs+VhcY2kLqHX3iapT8R+w+VBNSm0z4zQcTtG7FdX0juS3pR0o6QLQuc5KWK/DpJ2h45zYej9fpY0MmK/gZI+lLRM0r9VdACuEdrvTfl1vCz09w9Dz4V7QX7dukm6WH49tyq2ewYAAABAORaEAByrD+UtseGukofi8KB3WCGv/ZP8ulwUti2aAFxZHhojPSFvja0Wtm2CpG8lHRS2rWXo/LoWcfyexZxDJXlYXVXM+UnSEfKW3MhW9Ux5S3C4mfJW4lp7OeZrkrIjtg0Ivc+RRbxmkYoOwL3lLcTHhm1rEtoWHuYvl1+PVmHb6kj6Rt5qDQAAAAC/yQvAp8oDzE+SvpA0uJB9T5S0Wt7CuUPectohYp9keYA7Xt5i+aO8O+yAiP0uDO13mbx779ZQLZIHmHCFdYE+Q9Jz8gC5Q94KeEHY84eFXvdwxOtqhbbPKuTzhWsW2u/GsG3RBOCi3BV6bYOwbR/JP2+kT+TdhAtTXABuE3ru/L2cS164Py5i+y2h7Y1Dj2vK74fH9nK8hvJrdWvE9iah7d2LeF1xAThT0t8K2f5nSRvDHs+Vd8mOtEAe3AEAAADgN4PkIeVD+ZjQdvIuu5Ghs748oH4k7yrcWVKqvNtrh0KO96a8e20beUtnZBDKC8D/lXenbSeplzzMRoa/yHM5Sz7W86/ycasdJT0rb238XWifuqHX9Y44VlV5yPt7EdcjT15gPStsW0kC8HJ5q2ReS3v10LH6FrLvOkn/KOI4xQXgAaHn2sl/ObFT0lfy61s9bL+R8usc6Rz5Nbsk9Lhl6Hi3S1oZes2P8l+CNAl7XYfQfi0KOeZ2Fez6nae4APx/8u7UkabJP1Oel+TdwiM9HDqnmkUcHwAAAEAFlNcCHNlSOls+ljSvNXasPFCFd0mtLJ9g6Z+FHO/miOO9KSkt7HFeAI6cTGmKCoazyACcJeltSQeEbask6V1Jz4Rt+0o+1jRcq9Dx3lPRGoRemxaxPdYAnBcQHw3bVj90HncUsv8i+S8kClNcAJ4ROubX8u+hlaQH5K24T4ftN0veyh/pOOVv9b429Hib/Dq2lXSdvIU6vFv09aFzOrGQY26WNKeIz1JcAP5VPhFZpKHy+zDPB5KWFrJf3nVqUMhzAAAAACqovMDaJGJ7ZHfaf8hbXAt7/W7tmTE573iHR+y3VB5Q8+QF4Ksj9rsj9PrwcaPhAbi6fBxosjwA59WBkibLw1+ex0L79pLPrPx7eXDeKR8rW5ha8kC/WQUnUYolADeXt/xmKP8469IIwLNCz02I2P5IaPtJYftFE4DzJhH7V8R+54a23xm2HwEYAAAAwH4vL7BGzqx7ijzkXBN6/KGkpwp5/Z2h1+ctT1PUpFrzlT/s5AXgNhH7FRYywwPw0aHHOaE/I2t32OuqyFtFd4ae+1XSeEmvyseYRqouH1/6tTy4RtrXANxU0ueSXlHBJZVqKP5doEeEnuscsf1M+ee/LvR4lKLrAn1x6PGYQvb9Xj5BluRd0OPdBfpLRdcF+mXRBRoAAABAlIprAc6VdF7o8T8k/aWQ1yer8Bbg0grANUPvN1E+3vesQipSHfkkXwfLW4q/D51nuAPlwXObPAgWZl8CcEN5N+G3JR1axD7/lfRkIds/VmyTYN2o4gNwt9DjvEmwmkbsd4vyT4LVQMUH4OmhvzdS4ZNgNVbsk2BlqfAeBxuVfxKsJ+RLIEWaLybBAgAAABAhL7A+ErF9jjwM5i3RM1reghoevCrLx9K+UsjxognAOdr3ACwVDEH74i5562f48StJWiEfK3tRMa+NNgAfLh8b/ZG8q3NRJsi7R4cvg3SBYl8G6VD52ruTI7b3U/7Ae4T8u4ycmTtTvjZvuFdUcGmk80LneEvYttdVcMmp/irZMkg7lf8XM01C2wpbBqll2LY68lZ8lkECAAAAkE9hs0CPlYeK/mH71Zd3Pf1APubzUvks0LsktY84Xmm2AEve8vuDfFzttfLJnq6UNEz5x422k4eldqHznRI63zuVX97kUUPk3XjDK3wMaTQBuLp8Tdwd8i7HkccLD7tHS9oiX9qnQ+izfKLCZ6i+KlR553pX6HGriP0GykPicPmkVY+GzuWJiP3yZoJOkn8XM+Qt65dE7NcmdLxV8q7ON8tbXN9W/jWNLwm9fmboeEnyMD4q4niHh32Wv8i7Ouc9Pjlsv5qS/iMP5F1C9Yb8Pg3v1lxJfr02ya9fB/n1/FqM/wUAAAAQIW8Sq+bKvw5wciH7niCfZTlvHeAXlT/8hh+vsAD837DH+9ICnKOCrZUnySc/+lIetD6VtEYe0vK0krdgbpMv3/M3SZ0K+Vwfh96jsAoP3tEE4MbFHCtHBQPrKZLSQ+f3jTyoHlLIcfPGPUdWdiH79pGHx19Cn22Q8s+YLXlwfCz0/M/ycHlFEZ+pg7wL/A75Uljz5a3IkbrKW4J/lgf5x0PvEy7vFx97u9aSdyNfKe9uvU0+k3Vh176ufD3gr+VjjjPkXd4BAAAAAAAAAAAAAAAAAAAAAAAAAAAAAAAAAAAAAAAAxFMl+bIXdSiKoiiKoqiYqoEKzuAeJE3lKwUAwH4pb8mUH+TLgPwgaUnY86fL14rcLumz0P5FaSDJKIqiKIqiqBJVUNfRrtxYje1IHWnKv1Y5AOw3Bkn6axHP1ZavRzpMUlX5uo6bJfUuYv86kmzz5s22bdu2Cl+9evVK+DlQfI8U32V5K77H8lF8j4XX5s2b8wJwnfj+d6/MdDtSR1pjNbYkJVmiTwYAClNcAO4u6UtJlcO23S/pwyL2ryPJtm3bZjBLSkpK9CkgDvgeyw++y/KB77F84Hss3LZt24IcgCvnBd+BGkgrMID91iB51+evJH0s7/7cJPTceEnrI/Y/T1KOvHU4EgE4DP+4lw98j+UH32X5wPdYPvA9Fi7gAbjbkTrS0pVuWcqiFRjAfqu5pEahv9eXtFjewltT0lxJyyL2byYPwEcXciwCcJi0tLREnwLigO+x/OC7LB/4HssHvsfCBTgA/9b6u1EbbaM20goMIDCqSvpZUjvF2ALcq1cvS0pKsqSkJP6BAwAAKEZaWtpv/2/q1atXUAPwb62/eQGYVmAAQVFV0g5J7SXdLMYAAwAAlImAtgAXaP2lFRjA/uwaSYeF/l5P0pOS/ieplryV93NJQyVVl88CvUl7mQWaAAwAALDvAhqAC7T+0goMYH/2rHwCrO3yJY6WyBcwz3OqfJbon+RLIg0o5lgEYAAAgBgFMAAX2fpLKzCAioAADAAAEKMABuAiW39pBQZQERCAAQAAYhSwALzX1l9agQGUdwRgAACAGAUsAO+19ZdWYADlHQEYAAAgRgEKwFG3/tIKDKA8IwADAADEKEABOOrWX1qBAZRnBGAAAIAYBSQA73PrL63AAMorAjAAAECMAhKA97n1l1ZgAOUVARgAACBGAQjAMbf+0goMoDwiAAMAAMQoAAE45tZfWoEBlEcEYAAAgBjt5wG4xK2/MbQCXyvpr5K2ScqRVDnsuWMlvSBpq6TvJX0oqX/E6wdJ2i3pB0k/hv5cUtILAQB5CMAAAAAx2s8DcIlbf2NoBW4vD8E9VDAA15Z0gqRKocdNJL0rqVfYPoPkARoASgUBGAAAIEb7cQCOW+tvjGOBL1TBABzpWElvS5octo0ADKBUEYABAABitB8H4Li1/sY4Fri4APxXSTsk5UraJOmksOcGybs+fyXpY3n35yYluA4AkA8BGAAAIEb7aQCOe+tvDK3Ae2sBriTpD5KGSTokbHtzSY1Cf68vabGkjyTVjPViAEA4AjAAAECM9tMAfFIVVYlr62+KUuxqXW1X6Sqrqqomqc9eziGaLtCS9LCkVcU8X1XSz5LaRf3pAaAYBGAAAIAY7acBuFm1SpVsSfPmpVKHHXigSTp/L+cQbQB+XNKbxTxfVd5dun3Unx4AikEABgAAiBEBuIDK8u7RF8sDcM3Q40ryVtzz5KH2AEmt5WN9R4a9/hpJh4X+Xk/Sk5L+J6lWXK8QgAqLAAwAABAjAnAB3eWTW+WEKu/vrSRdIenf8rV9v5PPAN1P+VuJn5WH4u2SNssnwWoa9ysEoMIiAAMAAMSIAAwAwUIABgAAiBEBGACChQAMAAAQIwIwAAQLARgAACBGBGAACBYCMAAAQIwIwAAQLARgAACAGBGAASBYCMAAAAAxIgADQLAQgAEAAGJEAAaAYCEAAwAAxIgADADBQgAGAACIEQEYAIKFAAwAABAjAjAABAsBGAAAIEYEYAAIFgIwAABAjAjAABAsBGAAAIAYEYABIFgIwAAAADEiAANAsBCAAQAAYkQABoBgIQADAADEiAAMAMFCAAYAAIgRARgAgoUADAAAECMCMAAECwEYAAAgRgRgAAgWAjAAAECMCMAAECwEYAAAgBgRgAEgWAjAAAAAMSIAA0CwEIABAABiRAAGgGAhAAMAAMSIAAwAwUIABgAAiBEBGACChQAMAAAQIwIwAAQLARgAACBGBGAACBYCMAAAQIwIwAAQLARgAACAGBGAASBYCMAAAAAxIgADQLAQgAEAAGJEAAaAYCEAAwAAxIgADADBQgAGAACIEQEYAIKFAAwAABAjAjAABAsBGAAAIEYEYAAIFgIwAABAjAjAABAsBGAAAIAYEYABIFgIwAAAADEiAANAsBCAAQAAYkQABoBgIQADAADEiAAMAMFCAAYAAIgRARgAgoUADAAAECMCMAAECwEYAAAgRgRgAAgWAjAAAECMCMAAECwEYAAAgBgRgAEgWAjAAAAAMSIAA0CwEIABAABiRAAGgGAhAAMAAMSIAAwAwUIABgAAiBEBGACChQAMAAAQIwIwAAQLARgAACBGBGAACBYCMAAAQIwIwAAQLARgAACAGBGAASBYCMAAAAAxIgADQLAQgAEAAGJEAAaAYCEAAwAAxIgADADBQgAGAACIEQG4gGsl/VXSNkk5kiqHPVdd0gpJ/wk9N2Qvn2O1pFxJbUpyMQAgHAEYAAAgRgTgAtrLQ3APFQzA1ST1lnShpBdVfAC+WVJa6BgEYABxQwAGAACIEQG4SBeqYAAOt1FFB+CGkj4J/UkLMIC4IgADAADEiABcpJIE4HRJPUN/JwADiCsCMAAAQIwIwEWKNQDfIw/AeQjAAOKKAAwAABAjAnCRYgnATSV9IalR2DYCMIC4IgADAADEaH8NwDUlszhWmmRJoartn7fPXs4hlgDcXdIvkrZI2hqqXEnfSZoZ68UAgHAEYAAAgBhVlAAcXo388xbVAlxZPtvzxfIAXDP0uFLo+ary5ZD+Iml46LkqoeeqSzo6onIlXSOpbrwvEoCKiQAMAAAQIwJwAd3loTUnVHl/bxV6/uOw5/Iqu5jPwjJIAOKKAAwAABAjAjAABAsBGAAAIEYEYAAIFgIwAABAjAjAABAsBGAAAIAYEYABIFgIwAAAADEiAANAsBCAAQAAYkQABoBgIQADAADEiAAMAMFCAAYAAIgRARgAgoUADAAAECMCMAAECwEYAAAgRgRgAAgWAjAAAECMCMAAECwEYAAAgBgRgAEgWAjAAAAAMSIAA0CwEIABAABiRAAGgGAhAAMAAMSIAAwAZWu1pFxJbUKPG4ce/yjph7A/Dyri9QRgAACAGBGAAaDs3CwpTVKO8gfgHEnHRnkMAjAAAECMCMAAUDYaSvok9GdhLcDHRXkcAjAAAECMCMAAUDbSJfUM/T0yAOdI2ixpq6QXJHUt5jgEYAAAgBgRgAGg9N0jD8B5wgNwLUktJB0oqZqkmyT9IqljEcciAAMAAMSIAAwApauppC8kNQrbFh6ACzNf0uIinqsjyXr16mVJSUmWlJRkaWlpif63BAAAYL+Vlpb22/+bevXqRQAGgFLUXd6iu0XexXmrPAB/J2lmEa95QtKSIp6jBRgAACBGtAADQOmqLunoiMqVdI2kupIukNRMUmVJVSRdL2mHpM5FHI8ADAAAECMCMACUvfBlkHpK+ki+/u/Xkl6UdGUxryUAAwAAxIgADADBQgAGAACIEQEYAIKFAAwAKLdyc3Nt/vzXbcmSN2337pxEnw7KIQIwAAQLARgAUG6lpv7HVH2Iqd5IU93hpsajTc3G2fr1Hyb61FBOEIABIFgIwACAhFq16h3TxTPsf//7Nu7Hnj//ddPpE0yZ2abJa0wjV5nuWWSqPsReeeWzuL8fKh4CMAAECwEYAJAwGRkfeQvtWRNNJ4y1nTt3x/X4H3zwtanKYNOaDNPGjXuqxwLTCWMtNzc3ru+HiocADADBQgAGACREbm6u6bgxpl6LTBlZpkYpNmvWP+P+Pmox2dR5lik7e08Afn6DScn29dc/xf39ULEQgAEgWAjAAICESE//yHTwcNP6TA+lDywxnTI+7u/z0UffmA4ZbkpasicAL1xnqjLYtm37Je7vh4qFAAwAwUIABgDE1c6du+3jj7+zXbuKn3VZF04z3fDEnlC6fL2pcvJvofTNN780dZxpOmqUj+NtO91bjA8Zbrr7yX06p/T0j0y1hppWp/t7XTbL1HZ6zJ8RyEMABoBgIQADAOJm9er3PGhWSjbVGWa6ZX6hQfi1174wHTjYtGhd/rG5TUbbnXeu9W7L1YaYOs00jX3G9MgyU88FpuQVplGrTLWGWlbW//bp3HThVA/SV88x1Rxq7723NV4fGxUYARgAgoUADACIi5de2uwTWg1a4bMuj3/Glx26ZGa+/f7+9099v6vm5A+/Gzeaxj1jOnyEqdvcghNXhVfPBabGo+27736O+vy+//5n06WzTK2m2ttvfxXvj48KigAMAMFCAAYAlFhOTq6pyWjTHQvzB9UVaaaaQ+3VVz//bV+1ne5dm4sKt9FUZrbp/CmmRim2YMHr9uuv8Z09GogWARgAgoUADACISW5urn3xxQ+Wm5trK1e+4y236VkFw2qbaabu83973dKlb5oOGGwa8FTJQ/D9i03HjDY1H2c//vhr4i4GKiwCMAAECwEYABAT/XGKScmmRimmmkNN9y0uPKj2WmT6w+R8r12w4HXvHl2SAJxX6Vk+trfzrJg+x6uvfm5qOdXeeWdLPC5LQu3enWPffx99t3CUHAEYAIKFAAwAFcSOHTt91uULp9qHH36z1/3ffXeLDR78Zxs37sUC4XDTpu99EqvFqb7GbovJvpZvYQF17DOmo0fle/1LL2322ZzjEYA3bjQtW2+qOsTefPPLfbom77yzxccjVx9iaj9jn167v3nllc9MDVL8lxLHj7Vvv92R6FOqEAjAABAsBGAAKKdycryLspm3DOriGaYTxvqfh4+wceNe9KWIjhzpAfDU8fbnP39sZmapqf8x1Rhqumiaj7WtOsTUZrp9+un3Zma2Zs170bfgPrHWVGvob+f1ww+/+DJELSbHLwBv3GjqOtvUauo+XSNdMcfHI3eeZeo2Nz4XPgH00FKfNfuOhT552EnjbNasfyb6tCoEAjAABAsBGADKoe+//9nDrpJNR48y1R3uXZWXrTdlZ5vuftKD7S3zTRNWm+Y97+Gp+hDT8WM9TIWP0V2RZmo/3XTQMA+/508xXTM3umD6XIZJyfbttzs8WNceZmo6xoNxPAPwijRTlcH2/vvRL2+kZuNMjy03NR1jS5e+WYrfSOlZseJt/2XFxNV7rkWX2fbIIxmJPrUKgQAMAMFCAAaAckiXzzadNdFbA1OeNk1e45NG7S1EPp3ugfCp9YU/33eZ6aBhPvHUsiL2KayajfNJsmoMNfVbHt/gG17tp5uumhP9dWo3/bdxzN98E7wuw5988p2Pvx62ssB1SE7emOjTqxAIwAAQLARgAAiAF17Y5GHt2DGmrrOLXPZn587dvkZuraGmhetKL2juay1bb7p3kWlVWum+T8rTpiNGWm5ublTX9bPPtpn6LLHNm4P576DOnmTqHLGk1JoMU62h9re/bUr06VUIBGAACBYCMADsx3btyjH9aZ63nF471zR0pXcfvjb/eNXdu3MsO/t//lzj0aaZzyU+9Cai0rNMBw62jz7a+yRfQffee1tNVQZ7F/PwXzScN9l0wZREn16FQQAGgGAhAAPAfuiLL36wIUP+7GH2mNE+Rjcv5Cx43sfqXjTNuzmfPM7H99Ye5mN6i5qNuaJU49G2fv2Hif4KS92iRf82nTLeQ+9tC/0eqJxs+v1E++qr7Yk+vQqDAAwAwUIABoAovPvuFktJecEWLnyjyO7HJZGbm2vPPfe+qc10U/sZpnojTb+b6GNu0wsJtHPWmrrPNz241DTwKZ+wan1m4sPn/lDnTLJp016J+3e0v3nppc0+fvmAwaZzJ9myZW/Zjz/+mujTqnAIwAAQLARgACjGjh07fYxltSE+83GjFF+/tuts27IlPq1subm5vgzPwcNNN8/3VtzHlkc3aVW0tXCDacGGxIfTsqg/zTO1nx6X72Z/9/XXP9m2bb8k+jQqNAIwAAQLARgAivDttzt89uJTxu+ZFTkz2zT+GQ/DR42yd9/dUqL32L07xwPvYSN8GZ94h8FFG0wnPWQ6YJGp8mJ/nOiAWto1YbXp0BGWkxPdRFhASRCAASBYCMAAUATd8IR3Qy6sC3J2tj9fKdmXBao73NR8nKnbXJs377W9BuPc3FxfE/eEsaYGKaUzadWQ9aaq80zn9DA9eLDp9F6mFt2Lf83UdNNp95rOut00IzS5Unp2fFuj97Uysnxip7rDTYNWRLd/zaH22mtflNGdgoqMAAwAwUIABoAi6Ngxew9cz2aYZj1nmvGsd1u+dJbpjAmmqkNMrafZzp35xwvv3LnbdOsC04ljvcvznU+a0kph7G7/VFPV+aZrzzEly+uWZqbqc01rs0zLMk1T0k2pYeF+bJqpygLT+Td4UK6ywHRaL9OBC01HjDGllUEIzs429VrktSHLtDLN1HKq6YSxtnTpm94VPXxCsKKq5VQbNuwvCbpzUJEQgAEgWAjAAFCILVu2+4y6sa5buzrdA3TPBb8dc/v2X03nTPKlih5ealpbSt2RF27w8HrjmXvCb7JMg2Q69nHTUSNNWm6q9oQH24xs09OZHo67ttqzf88TTOffaLrxDFO9FFOfMlhXeOwzPsN1oxRTzaH+HbScalu3/mRmZrpqjqnV1L0fJ2mJ6bTxibp9UIEQgAEgWAjAAFCI0aNf8O7PJQ1ztYfZzz/vsm++2eFjic+YYHq+lMfhHveo6Q835w+/efXwQaZT7zO1vdw0oLLpsPGmvqmm4x81nXJ/4a9JlqlLa9Ph4zwsl+a5d5ltumK2/frrbnv11c8LTDT29ttfeet6Yd3Sw+vpdFOVwfbee1sTdAehoiAAA0CwEIABIEJubq633vZbXrIwl51tqjfSkpLSfJxvy6ml0905vNKzfbKr++oVHWbD65IO3hp88BTTozWK3m/AAaZ6o0zH9zWtLMXPcOJYW7LkzeK/myqDTYuiaI2+Yrbp1PG2a1dOGd49qGgIwAAQLARgAIjwz39+7t1vU+MQ9AY+5eH39oVlM5HU6iwPtI9XiS4A963l3Ztvb7r3fR+p5WOCa842LS2FEDxnrenAwb91dy6Kqkc5Djg103+Rcc3cMrpzUBERgAEgWAjAABBBt8w3tZ5W+mG1NGpppgfghw+KLgDHUr+7w9S8d3zPOy3TVG+k6eb5xX43P/2006Rk7+IczXEXrTPVGmpLlxbdqgyUBAEYAIKFAAwAEdR2uqnngsSH2X2pzGxT+0tDMzffaxpYqfQC8D0NfWboDXFs0V63waRk+/e/vyz2u1mx4m3T0aO8e3m0xx6xylRjKOOBUSoIwAAQLARgAIigcyaZHliS+FAbbc3OMNUfYTpsnKlHs9ILvnn18EHeyhzvZZGunmOqN9I2bfq+0O/ll192mZqMNt2zaN+Pff0TpmNG23ff/VzGdxPKOwIwAAQLARgAIqjZuL2v/5voei7LlyhqPNBUaampZbfox/2WtLo3Nx00Pf6fKTvbdPls0xEj7dNP84fgr77abvr9RFPzcb4+8L4eOzPb1GKy6YIplpubm6A7C+URARgAgoUADAARVH+UafwziQ+5RVVWtgffJgNMndqb7m5UNsE3r8BYjVkAACAASURBVFp1M53eq3Q+W3a2qf0MU8MUe/HFTy0nJ9dmzfqnqc4w00XTSrZ28poMU62h9re/bUr0LYZyhAAMAMFCAAaACFHPMpyIys72NX4PnWB6rGrZBt9keSvzwVNMg9aX3mdct8GXMKox1HT4CNNRo0zDVsbn2FfMMV06K9G3GMoRAnABdSXNkvSZpB8kpUs6KWKfhyR9IGl7aL+HS+cyAEBBBGAACJObm2tSsumpUgx4JakJ6aZqT0S/zm+866IrTUcP91bo0vqMz2aYuswyjX3GNGqVaX0cl1wavMLUdEyibzOUIwTgAp6VlCrpEElVJU2Q9KmkGqHnp0j6p6TTQo/rSDql1K4EAEQgAANABFVONi1JTXzYLaya9zG16J6Y8DtIplozTWPS/FzWZ5vmZuzb+W/I8iWPinp+9nO+bnKdYaYqg02PL4/v9Zuz1lRraKJvMZQjBOB8akraLemcsG3VJO2SdL2k4yXlSGpe2hcAAIpCAAaACDpipGnS6sSH3chanWXSclOfwxITgPscZqq0ZM/szz3W+vlEe/6Z2T7B2OEjvJU3b/sz6aahK03tppuqDjH1WGC7d+fYM8+860E4PYZJr4oLwLWHJfoWQzlCAM6npjzgtgjbVkMeisdIulPS95L6Stok6XNJqyQ1Ls2LAQDhCMAAEEFnTdw/l0HKzPYZn3sfkZgAfN3vTUeMyX8+6VF2hc7ONrWZZmo6xnTCWNOdT5pSM33W5yqDTceMNl0zN99avbm5uaaGKabkOM7IPXSlqcnoBN5dKG8IwAWkh+pISbXkXZ53y8cFPy4pV9JKSQdLOkjSIklvSqpUupcEABwBGAAi6Io5viZtogNvZK3I9BbXslruKLJOu9d07i2xnfu1c01HjrQtW7abTp9gOmS4r+l7ynh7662viv4uus01XTorftew40xT19lleDehvKsoAThNsqRQ1fbP26eI9z5c0nxJm+UtvMmS3pE0XNJ98hbiE8P2P0oeiiMnygKAUkEABoAIAwdmmzrNTHzgjawN2abKi033H1n24feGM03V5pmW7+OEVJnZpu7zTXWG2YcffmNmZm+88X82ceJLtmDB6/bjj78W+10sWfKmr/0bj+s36zlTlcH2/vtbi31PYF/stwG4msyWlE41OqzYFuBIR0jaIam1pD+qYACuLwIwgDJEAAaACLpmrrcCJzrwFlZVFph6HV324bfqPNOjMUwM1nGmqVGKvf76/8X0Xfztb5tMR47ct/dcvt60OOJcV6b52O47Fsb5bkFFRwAu4ER56JV80qsMSc+FPf+qpOXy61Vb0kJJ/xJdoAGUEQIwAERQ++mmWxckPuyGV3b2ngB8T4OyC7+9jvbw+1gM4ffJdaYqg+2TT76L+bt4+eXNpsNGRP+eq9N9Fm8lmwY+ZVq4zjT6adOxY0wdZ1hubm4c7xSAAFyIHvLuz9vlE12NlC+HlOco+cRX2yR9KekpSQ1L7UoAQAQCMABEUMuppl6LEh96N270bs9NBpiOGWRal2U6bJy3yJZVAG57ualRcmznfuksU4cZJfouMjP/68siRfuedz9pOnOCrVr1jumgYT6rdL2Rppvm2c6du+N0hwB7EIABIFgIwAAQQW2mm25fmPjwu3Gjaeh6U83ZpqOHmY5/1HR6L1PLbqUffO+rZ2p9pbc4D14fW4t1zaH29NPvlui7eOKJ10xnTIj+fS+cZikpL5iZWU5OLi2+KHUEYAAIFgIwAETQlQmaBToze09X57w6/R7TBdeZHq1hqj3DdMbTppOTSi/4DpLp4s6mAxeaTnjENCYt9s/TYrKpUYotW/aWffXV9ti+iytm79t47Maj7bnn3o/zHQEUjQAMAMFCAAaACDHNAr0hy3TdE77G7TPp+x4WZzzr41aHrMwfiGvNNHVv7uH0gutMh0z02Zgfq1bysDuwkumy1h6ymz1gOra/6fCxpoOnmKZF+Rk2ZPvM0MsyTU9n+jnnPfdchgfYxqNNlZJN50yyN9/8MurvITc317svD18Z3bk87eN/t2yJLWwDsSAAA0CwEIABIIK6zPaZoKMNrzOfM500ztR0jKnGUNPjy/c9AHeY4QG454I925ZlmiotNQ04wAPrNS1M9Yd7SO3asmTh95Fapib9PVDfstbUa53pkVTTkPWmtVnFfNYMU4+1puMeNVWf6+sSa6mfp5b7Mk1Hjjad2900Is3HLW/c6L8UuGauqcpg0ynjbdmyt+ynn3YW+z288MImH8ebXsz5hNfDS03NxpXRXQI4AjAABAsBGAAiqPU0003zogtdI1eZqg8x3Tzfvv76J1OdYabJa/Yt/M5Za6o2xAP0HWFjj2dkeAtwXmi98QwPv73XmeqP8O7KsXRxvuVkD77NHjClRhkuV2eZTnzIVHW+6ZTepo6XmO5oYnrgENOAyn7s/gf6GsXXnmP6fU/ToRM8EDcYarpvnb/XmgyfqKpRil+3U8ab2kwzdZ7pSya1m+6zcLecaqo11HTDE9Ffx7Mn2Zgxf0/07YMKhgAMAMFCAAaACOnpH3nLY0YU4fD4sTZt2iu2fPlbvlzPGRMKjuMtrrKyvYtw9/keBh8Laz1+YJ3pmOQ94bV7c++evDLTW1v71tr3Ls/Ne3vLbZuu/t577Vac6ZNu1Zppat7H9EjtfXvPPoeburQ2HT3cVGfangm1srNN85439VvuE479aZ5fg54LTLfM919ATFwd/bXMyDJVGWzvv7810bcPKhgCMAAECwEYACLk5OSaGqaYHlq69+BVfYiNHPk3b80c+FR0oTK8Jq8x1R5mH3zwtR9j/vN7nju2v6ljxz1hsl81D6+HTjAdMWbfW39vO95U7QnTmr0E+5WZplbX+PJLlZb6ZFg3nBlbi3N4y3PXVqYas01n9zSl7eN12ls9m2FSsq1b959E3z6oYAjAABAsBGAAKMTTT79rqjvcg1VxweuQ4R5cY1k3ODvbZ0r+3URvPb4qYrbjGnNMdxybP0je09B0aVvTvfX3PYRef5aPzy3ufDq386WPTnrQ1Lm9d3Eu6WRbkS3CDYaZDhtvGhvlDNPLMk2tupkaDjEdMsl01EjvYp2Sln/SrQeW+HfRdbZ99NE3ib6FUEEQgAEgWAjAAFCI3NxcD6d7Ww5JyV4Dn9r3ADxspenQEaazJvrEW5HdfassMPU6On7hs+3lplPuL/xcMrNN5/TIP+t0adXASqYOl/hs1s0eME1Izx9k8yo1y/THG0wHLPL9rrjAz63buaYW3U21p5vqTjI9nLpnCanpz5oumvbbZFsjRvzV/vnPz/OtB5ybm2u//rqbNYIRFwRgAAgWAjAAFGHDhv96QC0uxN6/2HTjvH3v+rxxo6ntdH9ti8mm3osLPl97uunWE+MXPM++1QNl5PuszvJuzkeMMfU+onTDb3g9dLDpDzebas7ysH9cP5+J+qFU01m3m6rOMzVKNt3dsPDXD6jsofiQSd6q/HRmWDfuNO/Cfv4UbxWuOdTHWtcdbqo6xH9pccBg0+EjTK2n2Zw5/7KtW39K9C2HACIAA0CwEIABoAgvv7zZuzjHc6xqeHfjeiMtI+Mjn+m4YyHrDh/3qOmSDvELnMc9arrhOT/2uizvQnzeTR40mz2w75NqxbNF+O5GpnZdfNKvJgNMLW429Tw+unHH/Q80nd7LdNA006INBa9jRpbPtD1yla+3vHCdrxm8ONU0YbVPunXyOFPlZNPvJlpW1v9oHUbUCMAAECwEYAAowqJF//aZmUsjAM9Za6o+xHbs2GnPPPOu6dgxBfc57V7ThVfHL2he08J0wJN7lic6eIrpd3eYbj4lMcE3njVIpvNvMNWZ6mOGY/lOVqV5GD5omLcUnzfZxo170V56abNt2vS9ffHFD/bllz/azp27E31rYj9CAAaAYCEAA0AR1G2uqcus0gnAnXzdWzPz9YMPGGxavn7P809lerfgnifENygmHWa6+dSy7epcliH47Fu9K/fzUa5vXFhlZJmmrvH1iv8w2cNw3lhvJZsqJXvX+DMmmLrMthde2GS7duUk+G5FohCAASBYCMAAUARdNM10x8LSaf2tNiTfmrX63UQfT5y3T8trTScnJT5UBq0GVPaxxCc8Etu47OK6rGdmezhekWaa9qzpkWWmy2aZ6gwz1Rpq6jzTtmzZnsA7FolAAAaAYCEAA0ARdOM8U8upBcPQwKdM7ab7ONJ9DVKpmT5D8ekT7LXXvrAffvjF36vtdFP3+Xv2O76vL0OU6EAZxOpb0yfGOu+m0mm9j6zMbA/ELad6GL7+Cfvxx18TfPeirBCAASBYCMAAUISPP/7Ow2p41+SNG302YSWbOu9D9+jsbFPSEtMFU0zHjfFxprW95fDhhzN8puJpz+7Zv+EQ09XnJT5MBrXuq+dLOp3TwzQnwzRvg9eqGMcHR/sdj33GdNp40zGj7fnnP0j0LYwyQAAGgGAhAANAMXThNFPX2fnHhyrZ0tI+9HC8fi+BKj3LNHSl6dTxHppPHJv/+X7LTSeN8yV7wrc3fSy+M0BXxLq3vneFrjrPVHW+V+XFpj9eX3DN5XjWhizvzl57mOnKOZaTw4zS5RkBGACChQAMAMV4550t3jo7dKWHm+nPmqoPse3bfzU1SjH1XVZ4CFq3wXTXk76M0tGjTD0XeOtvjwXRhaj715mOGulLBCU6SJanure+6cAnTQsLWS4p3rU01VRvpOlP81hWqRwjAANAsBCAAWAvnn76XQ/BF00zHemBxsxs6dI3ffKjLrNMty4wPb7cW3IvnmGqOsR00jh7/vkPfgs/ajHZ1Ds00VV6tumu502n3ufdnVPSIlqOs011J5k6XJL40Fje6pBJprFppR+AN240zV3rvwS5ZT4tweUUARgAgoUADABReO+9rZacvNEmTnwpX5BJT//IHnkkw9Rmundz/v1E09Vz7K23vsr3+u3bf/UgNP4Z7357yv2meimm1leaWl9hqvaEaU3E0j2T000HLjTd0yDxobE8VbV5prkZZROAN270Wb+PGmU6fwprCJdDBGAACBYCMACUspdf3uxdYU8Z7+E3Jc1Uc7bpoTp7QtlJD/nMzzMzTEszfeKmC682abnp4s6JD43lpfpV82v6TAnWCY6l1m4wNR5tkye/nOjbEXFGAAaAYCEAA0Ap+vzzH0wHD/f1hDdkmTKyfWxvm675g9kjtUwnPWiqMcdUaYlP3HRcP9PNpzIOOJ7VtZXp4CllG37zqs8S07FjbPt2lkgqTwjAABAsBGAAKAX/+MdntmzZW6ZzJvkav3khqGU305Eppv4HFB3SBmnvoXfQfhAmg1Y9mnn352HrExOA07NMZ04w/W4iXaHLEQIwAAQLARgA4uyFFzaZqg3x2Z+VbFqd7gFoeobPQHzXMbGHuEGVTZctNbXZYXrg3MSHyqBUl4tMVRaYLm2bmPCbV6mZpkYpNm/ea4m+TREnBGAACBYCMADEmbrMMl0xx8f7rgstt7Mmy1R7hqlDp5IFucuWmi5+z9Tx76Ye/RIfLINQtzTz8DshPbHhN6/uWGi6YEqib1PECQEYAIKFAAwAcab2033d37zAsyHbdMbdpuMfLVnX5d5tTW1+Nt3czNT+Y9O9XeMXEstzNRngs20nOvjmVd9lptMnJPo2RZwQgAEgWAjAABBn6jrbdO1cDzsZ2T67c91JpvvqlSzIdR1vuuxJb/3tvMY0qJhxxJTX3Y18KannynjW5+Jqcaqp6hB7990tib5VEQcEYAAIFgIwAMTZww9nmK6Y7S2/JyeZ6o8wPVqjZEFuUCXTxe+YOmWaLv6PaWC1xIfLINQfbjad1ivxoTeyrphjajE50bcq4oAADADBQgAGgDjr23eDqfMsX9u33ijTwweVPMh1HWNq+62p7VbTPdclPlgGoR6s62N/Z2QkPvBG1poMU42h9uKLnyb6dkUJEYABIFgIwAAQR199td1Ua6jp2IdNRw/z9X3jEeZam1fn1SyBFE0Nkre+n3pf4sNuUXXzfFOzcZaTk5vo2xYlQAAGgGAhAANAlHJycm327H+arphtf/nLJwWe/+GHX0ynjjcdMsxUc5bp/ijH/EYTaK8YZbrzVtPAKvEPi/0PMF19nql5b9OhE0x1ppmOGmk6vZepa8vgBe5B8vWWa083PbMfjf2NrPWZpoOH25///HHZ38yIGwIwAAQLARgAojRv3mumQ0eYusw2VR9iH374zW/PffHFD6aTxpnqDjMdPCX68HvPNabWv5rub1/wuQG1vLtzaQbQa1r4+R46wXTRlaYxaabJ6abB603d15oOmma68OrEh9poq29NU/M+HuLnb0h8yN1bdZll6jI7gXc1SooADADBQgAGgCjplPGmB5Z4cGk73XT9E2Zm9u9/f2lqkGKq189Uc7ap19FRhrVjTW1+MHV43XTpqoLP925taveZqX8cxhBH1mPVTKffY6ox2/Roqikzu/CA9kSGj6O95eTEh9u91eNVTA2GmY7rZ1q9H7f8hteoVaajRyX4zkZJEIABIFgIwAAQJdUfZeq5yjQrw9f5bTPdPvjga9PBw03HPGSqPtd0e9PoA9tlT5q6zDNdOdB02aKyC4qPVTUdM8h0TLJpVebeQ1rn9qZaM6Nv1U5UnX+DB+D0IsL8/ljL15sqJduuXTmJvr0RIwIwAAQLARgAQrZv/9WeeeZdW7LkTVu//kPbvTt/KNFp402HjjEdMcZ01RxTq6mmo0aZGvb1lt97GhYMZQOrmW67z3T5NO/uPKiyb+/bxNT6F1P3pqYOb5juuKPsguLpvUyNkk3rowyK2dmm824y1Zhj6nCJB+hEh93IeuAQ04FPmubshzM+F1drN5iUbNu2/ZKgux4lRQAGgGAhAAOAmW3d+pOpUYrXaeN9rO8ZE2z16vcsN9dn6dVxY0zJK0wZ2aY/zTMp2XTkQFOtWaZ7GhQMZf0PMnV8ydThNVPXsab2m0yX/NXUv5bp8qmmTutNV99nuvj9slvXt2srD+vRtPxG1og0nxyr5mxTy2tNN53uob/HSaZ2l5maPWBqPNDU9DHTWbeb7m5UNp9pYCV/7+a9Ex9o97UWp5oOGMxM0AFGAAaAYCEAA4CZ6ZKZpvOnmLJCraLPbzDdNM90+AjTKeOtT5/1piqDTU+nm+5dZxq0ztQw2XTYeNO99fMHskeON/V4zNTh36ZO6aaeVU23yXRrTV/Ht/WvprZfm278o6ntFtN9ncomKHZv7uN5U9JiD2zZ2f760+71ibOqzvfZlk960HTX8z6e+KFU09k9vUX2uEdNXS7y8bml8ZkGHGA6807TYeNMawIy7je8BjxlOmFsom9/lAABGACChQAMoMLbsWOnqfoQ05y1BQPKug2mexaZOs00DXzK9HCqSctNtWd48OobWud3UGXT3TeaOj9navOz6dKnTdfc6aH3Npl6ynTj+aaLPzC12W667grTJdmmy5aV/jJD/Q80tbrGdOBC0yOpZRfuVmaa7njedGSK6ZBJprsL6SJekupzuI9lrpdiWhFDi/b+UO32TKaGYCIAA0CwEIABVHhpaR+a6o301s3iwkpKmreg3nhm/iDWt6mp4yum9v81XdXX1P0YD73h1XW0qe33pq4jTa3N65Ls+M7wfE9DnwH56OG+dNHlF/qfdSd71+VEjY/NyjZddJWp2hOmG88o+ed88GCf8KrKAu9qHe1Y5v2tUjNN1YbYm29+megfAZQAARgAgoUADKDCmzTpZe/+XFxYWZrpszxfcUH+MHZvF1ObH01dJ5hurVYw+N4m0601vFX4odO9tbdbT9PVD/g6v/EKv7ee6AHzvJtMj6WaTr3P1KS/d1UeuL7oZY7Ksh5L9S7TLW42PbKXzz5Ivs9tx5k6XWxq1c2reW/vWn3SQ6ap6Yn/TCWpYStNDVMSffujhAjAABAsBGAAFZ6umOOzOhcVVNKzTfVGmc7tnj+k3X29h9/ruhYefPPq6vt9IqzS6up8T0MPv53aJz7U7a0WbvBW6gMWmc6429TtXB+bfOOZpmtaeIt1/eGmyou9q3mNOabjH/WW3rNuN3Vfa1qwIfGfIx5115OmC6cm+vZHCRGAASBYCMAAKjz9cYqp16LCQ8qzWaaTk0wNhpr6HxDW8nupj+W9oX3x4feWBt71+b6OpRN+kw71SaguuirxgW5fasEGbwmuN8rHBx8xxnT0MG+57pdqWrzB9HwAJ7Xal+qxwHTxjETf/ighAjAABAsBGECFpxaTTUlLCgaUNVkezJr0Nz0cGqs7qJKv2dtmu+m6K4sPv7fJdFU/U+fnSyf8Pl7F1GCY6Xd37n38MrX/1Z/mmTrNTPTtjxIiAANAsBCAAVR4hQbgAet9kqWTk0wDKnvgHFjV1CnV1O5T0w1t9h5+b5Op6xhTl3klD7sDK5l6nmC6pIOp9xHenfp3d3oATt9L+F2Z6d2HKy01jSrBEkhUfKvVVBsy5M+Jvv1RQgRgAAgWAjCACk9nTzI9uHRPMBkbmu35ut/nD6FXDjR1eMN0a+3owu9tMl222HTpipKF32ta+LJL1ed6i/Sx/X2s7EHTTU9FsfxPwyE+nlbLTcPWJz74UaYJq01Vh9h//vN1om9/lBABGACChQAMoMLTuZP2tADnLXXUtWVEC2w1U9vvTDe2ij78drvZ1PZb06ONYg+/PU7y8xkQmsl5ZaZPEFVnWtHLGq3JMvVN9TV4H0vdE36TCb/7RY1Y5etOP7Q00bc+4oAADADBQgAGUCHl5ORabm6u7d6dY2qYYhq0wltHqywwXXV+wSDa60pf57dnlOH3uqt8nHDvNiVr/T05yZf/CQ9Q67NNGUV0ex6e5uv+1h/urcZablq5oej9qbKvTjPtoYfSE/0jgDghAANAsBCAAVQ4aWkfmmoNNdUZZmo6xlRvpOnBdR5+u51TMIQOkqnjy6arH4wu/F5zt4ff+zqVLPwOkunQCaahe2m5HZlm+v1tpsYDfdmgTheb7jjWu0w/uC7xgY/KX7cvNF04LdE/BogTAjAABAsBGEC59eOPv1pubm6+bW+99ZWH34eWmqY9a+q33NTyalO1eb4ebWFB9L7Opnafm249qPjg26OOT3jV9itTnwtKPvHV9Wf5+r7rC2m9HbredPg4HxNcY47pvJtMHTqZ+tYyJR1mqjXT1K5L4sMeVbBGrjIdMzpBPxWINwIwAAQLARjAfumzz7bZmjXv2c8/74pq//fe22rqNtd02AhT7WFeSjadPcl27coxM7NNm773Vt8eCzyIZGab/nCzdxW+s3HRQfSSP5tam+nq3r6ub2Fr/V45yGeH7pRWsjG/eXVvfQ/lj6WasrJNczNMj6aaGg02HZPsrdWd2pu6XGR64JA9r+t/gE96ddbtLI20v9bM50x1h5fmjw/KEAEYAIKFAAxgv/Paa194K+1hI0wnjrX//vfbQvf79tsd9sYb/2dqP8NUbYipxRTTpctNTR4zHT7GdFZP0zGjTXc9aWZmumme6ZxJHkKys01n3G06bLzp/nrFh9F+9U23323qlGlqvdt08Tumy5aZLlti6vgPU+tfTZ3Xmu7t6usElzT8JsvXHtZyU9PHTI2STQcuNB2Z4ssgdexouvXEgq/pc5iP/a2XYkrNSnzQowqvyWtMR4wsyx8plCICMAAECwEYwH5l9+4cU6MU060LTOlZpq6zTdWH2Kuvfp5vv02bvjdVTjZVSjadOs/UuL+3mB452tT6Sl866JBJpqtWmmoM9aWOag8zTV3jIaTTxaba000PHrxvwfTxQ033Xm669RFTj36me6419WsQn9AbXvc0MLW7zMNum66mR2oXv//lF3qr8Jl3mTbQ8rtf1wNLTGdMSNBPGOKNAAwAwUIABrBfWbbsLdORI717cl5guHKOqdNMMzP77rufTbfM967M58411RvlY2Ev7my6o4lPHPVb1+UO3l04+SnTn+aZVqX58aame1js0Sz+wTUR1bGjh/8xaYkPd9Te65TxNmHCSwn+SUO8EIABIFgIwAASJicn1775Zsdvj997b6vpoGGmAU+ZFm/wcaxzMky9F5v+MNlSU/9jOnSE6ZSJptNv9xDb+kof91pYMHz4IJ8M6ve3mcam+THHpfvsyJ0uTnxwjUc9VtVbslnjNxg16zlT9SH23Xc/J/AnD/FEAAaAYCEAA0iIzz7b5t2SlWy6YrZXraHeUtuhk+nAJ30M7Hk3me5YaGo82lR1iOnSJaYas03H9jfdcnIUXYkb+ljfupNNlZb4MTu3S3xwLWn1q+azVjdK9uWPWOc3GNV6mqnLrET/+CGOCMAAULZWS8qV1CZs20WS/iXpJ0n/lXRXMa8nAAMoc99+u8PUIMV00XRT0krTKeNNl8823bjK1Ly3qep80+1NTZe1Nh37uE8aVHOo6YgRHn6v/kNsoXFgJV8mKNHhNZYaJFPXlqYGQ011J5kqLzYdNN10bndTGuE3EHXbQtPBw23zZv7NLU8IwABQdm6WlCYpR3sCcGNJ2+Wh90BJrSR9L+nyIo5BAAZQaj755DtT55mm9tNt/vzXbcGC1+2VVz4ztZhsOnuKT1JVebF34a2ywHToBNOFV5vuO8pD33W/Nx010sNDu8tMB0/xbs2JDqNlGXpvPtWXamow1JdremidaUK6acmGxAe6fanMbG/dbznV1G666bonTENX5h/rXZ5r8ApT1SH2+uv/l+gfS8QZAbiAIyUtlfSlpG8l/V3+/1FJaiHpVUnfyP9/+raKb6gBgN80lPRJ6M/wFuCB8tbfcOMlbSjiOARgAHH3yy+7bOzYv/t43nbTPfg0G2dqPs5nbm42znTK/d66m9eV965jvIU2PADmBeCUNA/Itx2X+FBaFnVPQ5/5ufFAU405pnN6mJLWmdYGeGmjPktM9UfZuHEv2rBhfzFdMtNUb6TpuDG+Lm6iz6+06+xJzPxcThGAC3ha0l8kHSqpkqQHJP0g25IIkQAAIABJREFUqa6kw+WNNXlOk/SVpE6ldiUAlBvpknqG/h4egJ+RNCNi3+slfV3EcQjAAErkm2922IcffvPb419/3e0tvE3HmIatLBgE0rNMQ9d7V+a9LUF0b30fs1t5semKlokPpiWph+qYmvfx1tzw7f0PMN10us9g3by36cSHfM3f5n1Mdz9vem4/Dr0ZWb6ecjT7njLe5s79V75755dfdpl6LDBVH2K6b3H0xwpi3b/YdDoBuDwiABfwhqT7wh7Xkv9f9ZxC9j1N3lL8QFw/PYBy5x55AM6TK6l16O+ZkkZG7N9R0s4ijkUABhCzBQte9/CiZNOVc3wJoz9MNp0w1rQ2oovu2izTkPWms3t6a27XVtEFxz+dZvrTqUU/37eJ6fFDojvWIyeZLl1pav+xqe13pj5RnkNJ64FDTIePNR0zyAN9v+q+fWAl03H9fFZqLTeddq/p1rWmmRmJD2zF1ao0U7e5vr7ykSNNPReY1uzlnBulWHr6R4XeRy+8sMln9+4ww39BkujPF++a8awv23X3k2X8E4qyQAAu4HpJ2ZKOklRFUl9J/5FULWyfTyT9LP8/7FuSjiitCwEg+JpK+kJSo7BtJW4B7tWrlyUlJVlSUpKlpaUl+t8SAPu5b7/dYbp1gc/aPOZp07znfWznCWNNnWYWDENZ2d6yWW2ez8h8Z+OSh8o+LU1XPW5qbR5oB+xlcqsHzzS12W66fKbpxotMHV82Xbq89MPvPQ180qoz7zL1TfXwPyC0bFPXVj6ueV2W1/7eApqWaeq1yL/3C6bYCy9ssueee9+7tJ8wtuB3nvdLkMxs0yHD7S9/+aTIe+rzz38wnTzOJ0TbW5gOUg1Z6b8kIvyWK2lpab/9v6lXr14E4PyOkZQq///pTnkL73mF7HegpLaSkiVVj/8lAFBedJf0i6QtkraGKlfSd5JmShogxgADiNGuXTlFPpebm2u//LLLFi58w/9Df/xYH7s5Ns3UL9UDT+R//tOzTb3X+eRWh0yM3wRWD53hwbfDa6YbW3qYve2+4l/Tab2p6xhTz0qmbj1MbX4w9b6o9ILv41VM7S/1Ga1bdfMW8BpzTNe08OcHHOBLMz2WmviQtrdKzzI9ssx0+AhTk9GWmfnffPfGihVvey+ADaHW22XrTSeO9W1HjDQdNcrUKMV27txd7P3388+7TBdONR0z+v/Zu++4quu3DeCXG2du07I9zJa2y5Z7a+7cq2VqZpbmRpag4gbFiRP3QgERsPG0rMwstw219JepOVEEzvX8caOIDAEZHr3er9f3RQ+c8eWcr7+H69yfz30nX0HgjEdQKFHEnStX7sySf59yY1IFOIk8sAkkswHcBiAvgGawhldPpHKufgDGZcNrICI3CRcAla46HADawJoL3AXrAv0ubNnJK7BwrC7QIpKq+HiHzeGFK9FlbpLvkxZ+0Tzh5y5uxJiV9gf+pwkVzWL+xDM9rIIZEWXLnAvPtKW95X2IljWIIYWyJlgOK0Y0iiCazSXegh1NFxJdvNO+XwtvC821jxN1/yT6NMue4DsSRLtniRJTiQo+1rF582bi/fVE5VH2c1cQDesTZX1v/C7Ik1YTlX2Iu8Zw3rxtdDgcSa6d/fuP2zLoDxfZ7ReGWOBtGsC//z7NL774k6Gh+3jy5Pl0XYtxcfG2h/z5yTf+a5PWEbyJeGoiUdc/y/6dyo3phg3ARUAy646wMLB/fzuKFQMBfJjC85aG/V365FXf/xHAJ6mc6wwA67LuVxeRW8GVY5AAazW/FTYH+HdYGE6NArDILc7hcBAtZhKVvAnXZUSBUTx69CxRbxqRx9UqvWW9iJKehOtKosdaC7jV3rPmVJ0fJz4sYzNpS08gyo+xrz0esq7NV3d2zuzxSVXinXeJ2keJRhuJ7iUs/HZ6kagVbft707r/iIJWOR7wFDG8SPZVfav2I4oEEB9fVRV/rK9Vgl1B9K1AFJxDjA3L/aCW1vHOPPvA4735jIuLT3btHD58mrjTxz48iYoiFmwgyngRrWfS4XDw/PlYBgX9ws8++yND1+R//50n7h5j3cNz+zXI6BERRXy82P49PT+Z//2XvuAvzutWCcBXHpUrp1oBBmy00QwAxWEV4Saw/b61ALSAVYLzwwo1LQFEI+2/VUVEspQCsMgtDu/OJ0p52nLNzZttP2dpW+qKKWssFE9YTdRoZ42a7nIlXn6TeK4r0aDBFQG1ONGhGvHGKxaIs6yimo9oOYKodd6WOr/Z2pYxvwWic3Wi9jGizfvZE2gzcgzLT9w7jLjTjVhzVSOncWHW2bl3JftA4O4RxHPdcj+spXV42t7VbdtSnlt7+PBpqwzXn2ahb94Ga/TUPIBr1+6yD1XKetly5oJu/P77vzN0XW7depgo5GaPm9uvRXqPKWuIx8cTlbwZGPhTmlsK5OahAJzM/QBWw8YbnYQ1ubo0ueQ9ALthY5FOwCrDCr8ikqMUgEVuYei3kCjiTvitJZZF2B/xi0NsZMvqjbaHd2WEzeEtOJfokkY35uw4PqlC1P+BqLeT6Pxk4pLnt0C0b2qdnFsPyP3wOxLW3KuSJxFy1bLdyRuJ/POJJrXttnWaWVOsDTdwt+NJqwkXN65YsSPF6+bvv09bhbNBQvj1XUUUcbMPT/K6WvW2cQDhtcKq4K/70cPj84xfn42nEzX9cv/1SOsIj7QRTpW87d9Sxzk8cybmev9pihNRABYRcS4KwCK3qKio3215q+9q25uKJcToMFvK2qQ2UXS6fQ+LbUnvldXeLK+elrCOzA2/IJpPJoa7EK37W9fmFqOJHoUSg2/H14lGm6zy26tj7odfVxD1GtnrtTwieUB6bz3xSH+73ZtP257pzIw5urS/ek24BdTsGhe0OIQo7kF8tCjF6+bEiWgLuPWnWfjrPIcoNMq+d9/YlCu2NabQ1/frDF+jf/11yjpO9190Y+4Hjoiyim9lH65YsYNnzyr43ooUgEVEnIsCsMgtaOfOoxYsBgYR1d8hKrsSr7UmSvhZY6bi/kT7p4gBJYlPC2dveBxSnmjwFdEwimjXiWj4f9aoqs4RotMLicG3Z37ijfFErVNEy5Hpn/2bnceIPMRLHa3hl18qofapt4mXOth+6IJzCdfQjIWs6esSK6tIOIq6W6OprO6UvDGSeNiXaD4jxesmLi6eeHKCzXr2WUncP9aWyr88xc5xQyrn02A60Xpmpq7V0NB9RIXRtty638Ibqzv0p0FERW9GR1+8nn+O4uQUgEVEnIsCsMhNbOvWw9ZN9+4x/PLLA4yJieOPPx62rr2dE5owFZpD9C9jY3ka1yVav2jNnHIiQA58mKjzF9F0UWKVt2d+W97c7c7E8Nu9NNHga6L+NmLQ/bkffF1BfFyCuHeofWCwIJVQtibSml3VbEkUmm2dnzMafou6E93m8rffTvDvv0/zzJkYLljwM1HQjQhJoeKc2SMqypY0P+LLCxdiU7ye0GKmBfBiHrZvvHsgFy/ebue4LI2GXhNWE8U8ePr0hUxdx7Gx8QwI+MFGK+UbZbOCX5tK1PZPXgkPiyBGr7C51PeNtfO8zdP+HQxdknWv18IQooQHly799Xr+icpNQAFYRMS5KACL3KTQa76FpHaziJ6BFlwKjLKjRyAxJ5y4bQpRv2EWVHHLEkMqpP/2I0H0f4Got8Oquj2RdH/vlUfXyna7JiuIEVk0Sul6jpEg2j5HFJtGPPpB2nt5J2+0ZeQFAommtTIWsJaHWTOyd+cneV9XrdppS9dHLsvaamav+URpL/71V+r//wC1/AkXN65cuZOxsfGMiYmzD1OuFSyjoggXN/766z/XdU3Hxsbzs8/+4JQp3xFd59pS7WYBtpKhzwLiNT8LvOXsA55163bzm28O8dtvD3H8+K9tj67Xiuv/oKDPAqKwO9F+9nX9PnJzUAAWEXEuCsAiN5HPP/+TaD2TaDPLwu/UNUkrVvM3EEtDiYWbLPy+1DHzY4qGliZ6tyYaRhI144macURz/8Q5t6kdn1Qh6v9I1D5JtPC0im+S5lbNiXbtiY4vES3diFqnieZ+xMi8uR9++1awTs9FAmwGctQ19qVGRBHDQoh5GVy2Gx5pVc5605LM3Q0J2Wvhd9jSxNtujEy+P/bSfuH0Pp/rMqKwe4Y7NYeE7LUAfK3nGhhElPLM8j2y6DXflmRXn0g8MYGoMYVBQb8km1VMWnhGhdHEoKDMBd+VG23VxBMTiAqjuXnzH1n6u4jzUgAWEXEuCsAiN4mgoF8sHDUNsA68E1YTs8Nt5M4j/YnQhJCyJpIoNZF4vuu1w2pKx8CHiKbzLPDW2020Gkh0K2eV2roHiPc6p37fYcWIuvus6tujcPJqb5eHiZok6u63PcCN1xH9X8r94OsKotVLtlz8uW5EcDZ2cI6IIur6E/ePTbK39MiRM9Zp+P0Fibcdv8oq+pV9iKq+9t63mmn/N1yJgHXXfr5xqwgXNwYH78nwNYdmAcQbM9J+fF97/PDw/Vl5uWfYrl3/2j7qTel879aFWwfrGeuIAYutydczk+jp+YVm+0oSCsAiIs5FAVjkJvDXX6dsSeaVyzuHhxL55hMvdrLZtPcMJ3oGExW9iCofZbzyO6Qs0WwGUSuaaBpIdL0reYBt15mo+1vq1do+TYm6vyfO8b36aDabaLow98Pulcd7d9kHCEVmEO4ZbGCVmfDbbAZx95gkS5EdDoftYX1tamK1dWEIUcyDfn5bGBDwA2fP3mojgxpMs//ON4oYco2lyf5riSLunDdvW6auOzwzyc6r9wJifQpV7slriCLunDv3p6y61DPtxIlo26tcxZdoO4v4aJE1sRq6xGZhd55jHxy9NMWaeuV1Je70sZUUT08kus3lxYtxuf1ryA1IAVhExLkoAIs4mfh4B7/++iDXrdvNTZt+49GjZ+0P9Fr+xNpIov8GYupGovAMovULCVXbYsQLnYnH+xCvt8pYk6vhha3KW/sE0WQV0eXB1Pfr9sxnAbdNr5Qfq/8LVtlN6b4dX7OxR4Puyf3QOzwv0eZ5++Ag/zzimZ42Dzmrgm54pDVruvr73eYSlby5f//xJO/5mjW7iDJeVpXcvNmWsd/uTbSblez6iI6+aEuCX5hsFczUzmHBBmsO1XtBkvvHxMQxNjY+Xdfinj3HLDDClXhvftLHd1tuH8r0T3mcUm44deoC/f23WDOvahNsOfNj4y3wNpxOtJnFSZO+pbf3l/zxx8NctuxX7t79b26fttzgFIBFRJyLArCIE9m//7iNninhYR1uy4228PHMJKvAPdI/cX7vU29nLvyNBPHRs8QnVYmPHyPqbycafEd0qJtycP2gIjHpI8KnG/F23oQge87m9/ZtSPSrRfRtTPRuSbwxiah1nuiZN+ljdH6MqH2UaJvJc86qo+/tRK03bH/0bVOI99dn3XLn6euI9rNtOe1j44l35iX9+cAgoqg7f/gh6T5ch8NhQa1nYGL4rexDNA5Ittc1Li7eKrKPjU+7Q/SqjcQdPkkC9MWLcfziiz+J4UsYErI33dekw+GwpfeXllsHhRKNpxNF3Llq1c7ru+BFnIACsIiIc1EAFnESO3YctcDbYkbi6JfIKGJFWGIzpsIzibfvsxE9Gd3fO7wo0Xg1UfuYVXtrnSNqXkjo0pwvefB9vyTh+x5LfX+cdXdu5H0/7eeT238i3JoRnasRjdcS9X4h6u0l6v9MNPieaLKU6FiDaN/Qml11rUy07m/P12pIzgfewS4Wvl9pS9w+msi3gHhwIOEamrEmUmkd6zdZ1+Ci7lZ1vDTLNyjEfh4VZfNtC7szIuK3ZO97WNg+614cvImYt8Eqv00CGB+fvNETWs20ZbspLUe+dGzYZOOEavkxPt7BmJg4G2X0wDg7r3vHpNhEKjWxsfG2D7n5DKLRdKKQG1HLP1kVW+RmpQAsIuJcFIBFnEBMTJxVAZsGWGBaE0mEJwS0dZHEzHBb+pxvAfHuPZkLg01WEA03E52eJXq4WHfmlBpVvQWi/30s98M/fPaX77jsWGuS4Lm4wpx8pA/L//A/vrzjC6J36ZTv2745UTPGwnXNOKLh50TfRtkbdIfls728HasRzV8jqr9LlPch8iy2Su8TvYnBIVnf3GphiFVaq/hyzZpdXL58h+0pHb40Mfy2m0Xc5snPP/8z2ft+8OBJG+szYDExK5go6Um0n51iQMVHi6wSuygk7aXX1ScSz0ziyZPnibfm2dLqO32IetMIFzcGBf2S4evziy/+tCXXrWby55//l5lLXMRpKQCLiDgXBWCRG1B09EUeO3aOmzb9ZhXfqr5WoVu0kXhgUOJs2aLTCSy2fap3ulmH4syMNerTlKh1iuheJuXQ+l5RYsBDxMAnCa92vHvrH/zoz3FM6Q+js3FF2HzPaj768y8pNMlqT9Q6Y+OThhchhrtkb/AdWoCo2dJen4JziLLj7HV6+U1iVCixLAv39V59uC6zym2bWYyPd/DQoYRGZZcaU0VF2ciqcqNT3Gd65kwM8eA4W07st5Yo5kH0DEzxegkP32/BesLq1M8nNMJCahVfbt/+P7ueHhpnjdNmBRNlvYhuc7Pvoha5SSkAi4g4FwVgkVwQExPHhQt/5tChkdbZt4ov0W8hz527aB1q84+y5aglPS0A91lAeG0gSkwlHv2A+KQ40aty5pc7J1kGfAdR539Eu04WUoe8SEz3ID59hng7L7vtn8P8311k4S3neNv3//HJ7T/R86/BdDhS/+No3/n7iW9JvJXQ7blnXqL1Rzb7N7urva6wDwHaPmfjnm4fTUzemHZDqKw+3JcTLm5cu3Y3yYR9si9NIepOS7xN21lEWa8Uw+/587G2l7f6xMuPhb4LU7yWfv75f7a8+tM05tvO22D7hp+cwNWrd1mYbjHTKsKXwnW3uRla+pwZDoeD6DCbqOXPuLj4bH0ukZyiACwi4lwUgEVyUHy8w+b1VvK2QNJoui1DHRSU2NDqYV9iZrA1MVofaftRX+xkFd8GDa4v7F46RiYE35Zutv+2+XSiJwifLiy65Qzb7Q1ikS1nWXnrAVb9+VfuP38fM/LH0ccHxrDBrpCE8JufaBRq45E+ei6NIF6IaPeM7ckdXChzv1fvSkSNDkTJyUSxacSADVm3lzeD4XfNml2X3/eAgB9sqfGahC7O7WcTJTxSD79PTbQPRT5eTLi4ccmSlJcl//nnf1a57R6Y8rlERNn1VXCUBfD606wq3X+R/XzMSgvXH6QcrrPSP/+ctWu7mAcBV37zzaFsf06RnKAALCLiXBSARXLIwYMnrQlSudHEh4uJV9vYrN5Le3k3RhK+q4gV4VaxrORpS5zLjiOqfki8e3cmKqEFiN4tiAbfELX/s27OPT4hGq8napJoHEx0fN2Caq8SvO37/7jhv4Ykwf3n7+OyY60ZHe/CjPxhtDO6CgtvOUcMqp4w23cWUX8rMaxY6ufZ/imiuB9Rxpco7m97c+8dRtRpRvStcO3fs9edxMMDiPzzbdSTxxWva04evqsIFzeuXp0Yfrdv/5+FzHGr7Da95hMubtyz51iya+TcuYu217uqry2VvqKKfLXdu/8lKowm3piR2ATt6qpvVV/bg3z3GPvQpWmAfbiyeTPhaUF90aLtWXqdXy0+3mFBvqi7rXZoMYO43Zv//nsuW59XJKcoAIuIOBcFYJEc8O23hyys1JtGrN1kYa3kZFuie/cIwncjMSaMeL2lNbLKt4B44n2iy2OZr/j2aWJLm+v+SbQeYJ2ZW39ENFlGNJtBdL076f7cfpWZ99s4XogvyMz+UbTj3CO8c+tBDjnoYY/Z7Q5rePVp5VSqvi7WkKrgHGJQiAW5qCgiKILot8H2O+ebT1T0sr28fSomvf9Hpazim38e8XwXYnk27um91rEohCjmwblzf7r8vsfExNk+2w6z7TaDgggXt2Sjjkhy/fo9FlSfnECMXEa4uKU6Rmj79v/ZfuK2s1IOvyOXEcU9iHr+1kTrdb/EzuGbN9u+Xxc3rlixIwuv8uQCA3+ycV1lvAiflUTHOURJT+7YcTRbn1ckJykAi4g4FwVgkWy2YsUOqwB2n0fUaUqUG0vc4UEMLGpLfau9Z52Iy4wn7hlG9HjoOve/FiKa+xE1Y21fb0+k3Ngq2ZGHd239k+tONGFaf/j8e7EMvzxdg5+depVbz1bjjnOPcPXx5nzrtxl0+S6aww+NSnzMjq8TdQ+kfJ4dqhGlJlmld0kawXVNJDEkhHj4Y/tgoORkew1LTLVK8QODrAt2VobZqCiblbs4hJiz3ro2t5hpy4ifm5Q8dEZEEY+OJ5rPSPLeo2cgce9YC58JFdeoqN+TXSO7d/9ro4R6zbd5wC5uXL485XC6f//xyw2rkp13SIR9uOHixvHjv7bw22pm0vN1s/NYtuzXrL3QrxATE2fNu4q6W3fqjZHW8KuMF3ftSr7sW8SZKQCLiDgXBWCRbPTXX6csBAxdRlQeZcH3jVetO/H17uNN6XivM1HnoM3f7fxoOoNv4jH80CjW2RnOeEceXvpDZ/2JRqy+/Uc+vG0XH9m2g3m/jWPFH//mnVsPsvQPx1h0yxk+vG0X+/wxmfjkquds3Y9o8FXy/ccvv0kUmm1V3ozs0V0fSYwNI7zDiIkbbQRUZgLusjALtK/5EbX8LKi2mkk8M4m4a8zlfarI62p7Zu8fa7eHq72fVwfgwUuICqN57tzFy+89+i+yKq3/Wlt2XNg9xVC7a9e/tiy+zSw7jyLu3LTptxSvp/h4B/H4eKJZQNJzmL7OAmYpT+KJCZwz5yf7HTrPSbxdVBTRd2GyJdpZ7dy5i0Rtf6tmLwwhlofZ61rJm7/9diLbnlcktygAi4g4FwVgkWyEDrOtanj/YKt0ZkXw/aQK0dWd6Nmf+PjxxO/3f8FGDLV7k+iZJ8PhF2+B6F2GVbbt5H0/7afXX59y+KFRLLLlLOHbi3BtSLg1JfqUS99jtetI1Iom+jZOev6vtiVK+BHzNuXc8uT1m6w51Tvz7D1JWBY8duxX9PL6wkJwsxmcPv17btiwl1u3HuaZMzGXuyI7HA4LdZW8ibCI5I9d2ouLFyfupf3ttxNW0Z2yxqrIZb1SHGH09dcHiRIetjT+qYlEhdHctu1IqtfTnj3HLIQ3m2FV6S5ziUd8bYVBo+m25Lh5gD33gMVJK8MNpxOlPPl//3cg6y/0BDExcUSTAKt6T19nob7AKKKuP//773y2Pa9IblIAFhFxLgrAItkkJiaOKO1FVH3fRvF8Wvj6w+9wF6vwNl5NNNpI1DlMjMhvP+vxCdF4Q+aC75XHuy6ETze22buUrfYsJ4a+fO379ATRvTTR+XGizTtW9a15gejT7IpGVZVtn27hmcScHAi/EVFEpznEY+NtrNTdY2wvbJMABgX9kqGRP+gZSJQfbcuir14q/fIU4tlJlx8vNjbewmyD6VZpvsOHaDEz2fPh48UWDqv4WlW5jj9Pn76Q5nns2XPMuofXmGKV6nrTOG3a9zx16kJCt2c3a7QWuN7OLzKKcF1mt318PA8ePJnxCzkDvvjiTwvoBd3sNX9uEn/++X/Z+pwiuU0BWETEuSgAi2SDmJg4q7jdPs46E/dKpQlURo/eLYh6u63C2zOPjTAa8HRCQ6hniVqniG4Vrj8Ep3V0epZo15lo05toOZJostzOoyat03S9ncTbvYmhJROXPL/5NJF3oe3jnZvF4XdTpDWXquJrS47rTiM2bLIuyHAl4Mr9+49n+r0MC9tnFdZL3ZOvDL9tZxEVvXn8ePTl26NZQgV06hqiojfRcDrj468Kv30WWPit5E3c5sl161Lu9Jxe6BloM6OvPMegUNuvXG400XsBY2Pjr+s50iMuLp4YGMRp077n779rubPcGhSARUSciwKwSBY6cOAkJ078xqp0D44jHn+PePSDawfbIeWJYcWvfbum823561sgeuYlap0nBj6Q+PMmS4imi7Iu7HZ5kOjyMNH1fqJ9Y6JRuIXshlFE43VEs9lE98EWvlM6/6EFiNdbEYXmEM1fu76gO28DMXE1EbDOwuWyMGLBBuKBcUQlbwYE/MBvvjlkQbjAKKKWP9FgmoXgUp5E8xlEv4zNuz1zJsaWLw8MSn4+784nSnkmCdfLlv1KFHKzZcAubkSH2UnC7969x2xJPFyJPK7EQ+N46ND1/e9vYOBPVkGeHZxY+f54se0BbjQ9STi/0rFj5/jLL/9cs+osImlTABYRcS4KwCLX6ezZGIaE7CVemWrLPp+YYE2RAsKuXf0dmSehYzNtyXDLkcTIfCnfdtA9dptudyaE06pErXNJbz+4ElH7GNGuQ/Iw2618+jtC98xHtBhN1LxoIbvmBaLuPqKFOzG0VPqq1Z8WJu50s47NUzZeX/j1W2sNqSqMtvE+t3kmLrVtPZMXLsRefj8cDge3bPmLaD/7cgUYPQNtKfIdPhl6b9E5YQn11U2vRi4jirjzxx8PJ719udH2fA+O49dfH0zys/h4hwXxS+f0xgyePRuT+QuP5I4dRy1wj1tFrN5ov+fdY4gKo1OdHxwbG297ofMmnMej46/rHERudQrAIiLORQFY5Dr88MPfViG83dsqjMvCiEWbiIc+tiW/NTqkHRLb9Cbq/k50vYvo/BRRbwfRKIQYXtTGGb3bk2g+lWgUQdT+x5YbXwqprT4lGm1K/ph9G1tobRhJdH6C6FHYgnVNEo2DiR6F0g6/PYrY49bfTgx8OHNLtYcWsPnG9w8mQjPQ5Tm1o44/0XZWktd+woRv+Pnnf6b5/sybt81CXkQUUX0iUcsv3e/tzp1HbUn1pNVJz2X6OsLFLcVlyyEhe7l8+Y4Ulxv/+ed/l8Pv4sXbM7QHOTW4b6wF3g6z7VyfmcQFC37m+fOxKd7+7NkYex0q+xDDlhJF3BkZmXwsk4iknwKwiIhzUQAWyQSHw8HIyN+J4l5EGW+bR5tnMVFfe8JzAAAgAElEQVTcj8AS4qm3iQ/LXiMklrYKbod6ieGzewkLnzUvEjVjiPo/Ey18iDZ9iDfbED2KJ9yupHV87vd6Ko9dknhjXEL1lhas+79ENPySqP8D0en5lKvBPfMSjdcSDT+zEJ6Z8DsiD/HwAKv+hmRB+N28mag2gYGBP2XoPdq9+1+ruL6/gPg0iCjrxWPHzqXrvrGx8Vb5bTEj6XmsDbcPPN6bn5nLhj/+eDjNLs8ZhfcXWKh+eco1uzvv3ZvQQKvaBOtMXdmHaD0zy85F5FalACwi4lwUgEUyIDY2nhs37ieenEAU8yJum0A8OJDoU5F4/w6ia1ViYArBceBDRL1dRAvvxO99/KSF2J4FrwqhBYgO9YkuD6W+ZLl9U6LenmuH0eGFiSEVbKm1K4gRBYg3JlrTqoafWdW5J6yhVudHbQ9xvV2JDawyc9ToQJSekPkZvSl1cy7txc2b/0j3+3Tu3EULsM1n2Bza4h4Zmn2L7oEWEEOuGHm0Jpy404d4ZWqWVG+zysWLcWn+PCYmjmg3y5ZKvzHDKth3+BB1/BkXl/2NsURudgrAIiLORQFYJB0OHTqV2Gm3lCfRJJAoOdm6Gqdntm/zqbYkufZRovWAxDBafxvxxvj07829VKVttJFo4Zn5kDqsGPHGGKLWWevcXOu8zextupAYXDHzj9viFcJlVtbO+O29gKjsw5iYtIPeJf/8c5Z4aBzx+HgieBPxzCSirn+63+tly34lirgn7ai8JNQ6OtfyS9bR+Ub266//WNi9a4x1Ja8+0fZNd5nrVL+HyI1MAVhExLkoAIukIS4u3vZX5h9FPD2RGLGC6L+BKDiXqN3clvumJxi27kfU+5Vo15Go+0fi9z95xPYAN95AtG9izaeu1Zyq2Wyr0g65xhLr9BzDXawSPfBBC+TX81idHyMKBBJjwrIu/M4KJlzc+Nlnf6Tr/Tp7NsbCb00/IjySeHseUcmbJ0+eT9f9f/jhb+ve7Lk8aQOuit5EsxlOFRq3bTtiH9aU8LDmXHeP4YQJ3/DIkTO5fWoiNxUFYBER56IALJKCgwdPEl3m2oidu8cQ04KJ57tYwCs/xubaZjRoNvjG9uM2m530Z0NLE2+MJeoeIOr8ZZ2WOz9BdC9F9CiaMPM3P9GhFtHwC6LeL8TgO64//Gbl8UEFq/wOCsm68LswxPbb9ghM13t25kxCg6fqE4mNkcSKMMLFLVk35tQcOXKGKD/aQnNkFNFtrnWddnEjegY6Vfglya++Omj7g0t4EN3m5sgcYJFbkQKwiIhzUQAWuYLD4eCsWT9a6Hl5CvHhYqLveqK4v3U1fuuBzIfE4UWJj55J3I979TEiP9GnqXV6rnUmYTQSiZqx9rXO/4gWXsTwIrkfeK88Pi1so46e75p14XfMSht39ObsdO23PXfuogXfahNs325kFPH85HR3fT558rx1VK7pZ+H5lalEJW+uW7c73dXjG9GOHUcZHX0xt09D5KamACwi4lwUgEUS7Nt33EJvSR+i6vtW6S0QaA2d2j6X/uXOWXGMhO3THVra5v8Orpj6fODcPEaCeKI3cd8Qa1Z1vcF3wQYLrkXciYFB13zP4uLiOXv2VqK0lzUmu9S0qtMc4k4fnjgRna73/ptvDlm1tIqvHQ+O4/Hj6buviNzaFIBFRJyLArDc0v744z/ipSm2TDTfKKLiQKLAPOKR/kTbZ62zc04GX2c7Gtchik0jlkVcf/idu96WPDcO4OHDp6/53v3442ELqxW9iZHLrOq7ebN1OS7kxl9//Sfd18Gvv/5DeCznnDlbic5z0j0uSUREAVhExLkoAMst6ezZGBuRU9yDaBxADFpN3DbF5vh2q5L7wdIZjjeftgr5hI3XH36DNxH3jiXazuJ//0XTz28Lz56NSfX9CwnZa8vUu8wlwq4I36s3EpW8iZ7p2zec29au3c3ly3fcUGOVRCRjFIBFRJyLArDc9GJi4vjvv+cYH++wSl+H2RaSHhhHDF9BPNqPyD+fqNmCGFIw94OlMxytX7Dw6xZ6/eE3JIJ4aiLx0DhOnPitzd+FK1et2pni+xkcvMfC7/ClSR8nIop4dLzt320xk7hnTIaqwDkhJiaOYWH7rEFV+9m27Bqu/O23E7l9aiKSSQrAIiLORQFYnE509EVGR19kXNy1u9p+9dVB2x8KVyKPq81Afc2PGLaE+HS9VXyrfkh8VCox3H1Qj+g6iujqQfRqbx2ccztw3ijH0ALEi51sDNToDI472hhJuC6z7sxXht8XJ9vS5/yjbHZvGS+ipGeKc3+//vqg7Q++Ovxu3kwMCrI5zQkNrABXosvcbLgCMw89A+28ynhdDr+oPlEVYBEnpgAsIuJcFIDFaeze/a+FpbyuieHh7jEMDd2X4u3DwvYRhd2JvgsJ/zCiz1pi8Aai2rtEeR8Lvw3rWyOny5XND4nax4lms+youz/52KJb8RhUhGhSmyg5mbjDnZi3Kf3BNyrK9uiWH23v2UtT7PuhEUSNyTartrSn7QH2WkG4uHHr1sNJ3svY2HgGBPxAFHUnPliY8vO8OtUe/xHfy+Or0vMhSXY7evSsVaSrT7TKtfcKq3hX8uaXXx7I7dMTkeukACwi4lwUgMUpfPXVQQsPLWcSi0Jsr+fSUKL/IsLFLVmQiIr63W7feQlx+2hbrnuHO1HRk3ihM9HqJQt1lwLekPJE88lE7f+ITs8Rb8GODjWJ2v/mfgDNjuOT4jbWqXEd4pV2RMdqSRt+DS5kjcAe62uvX0VPm/ObkW7P8zYQz00iSnkyMPAna1rVfxGxJpx4YoJVQst42Xvqt5Yo4s6lS39N8l7+8cd/trT5Th/CfXnqz7U2nJi0mmgzi7hvbLoaaWW3f/89R9w1xkL/gMU2Y/jBccSTE3jq1IXcPj0RyQIKwCIizkUBWG54e/Ycs8pf/0UpB5/3FxBlvejl9QVXrtxJvDPPwm+LIAtu9RoTQwqlHQYb/h/RMJLo8kBi+O0Jm8nbdJ6NIBpeOPUZvs5yjMhDtHmeeOgTIs8iouh04t6hRPV37L9LTCWqv0s88b4tcy4znnj5TWJWeMaWOy8JJRpNtyXnLWbw+PFoHjp0yjpt+60lyo22vb6F3YnZwRaUb/Mk+ixI8t7v3HnUKsRNA6xifK3n9VtLuLhx9+5/c+lqNQ6Hgz/9dMQae73mRywMsQpwaS+OHfuVwq/ITUQBWETEuSgAyw0tJibOKn9vzk499ERGEf0WErX8iHvGWGVx5Cqi0GwLe9cKhQOqEzUvEt1LJYbft0C07kfU+Zvo3ZKoyYQj1kJxbgfZzBwDixL3DLdu16+3JJZeFSg3Rdm+3k7BROdgwi+DoffSMWOdfWBRxz9JEJ09e6stUS7lebnRFUavIIJCbQ9wh9lJ3vvffz9h1eHOc2wZ9bWeNyLKqqvd5ubwVZrUiRPRxEPj7EOYx8fbBzLFPIhmATx58nyunpuIZD0FYBER56IALDc0dA8k7h5DBK63oJRaAJ4WTniGEZ+EED2DbX/vs91TD4MjQQypQDSfQtSKJloNTAy+HV8jGnxL1D5JfPgy0eAroslSoksVom0Povax3A+zGT0GuxCVPIiHPiZCMrCEOaNHaARxh0+KY4i8vb+00NtjrlV+A9ZZpbiSN9F8xuVGUCdORHPx4u3WvKz1zPSF382bbXlxZR+ePx+b05fpZQ6Hg3hsPFHVl3h6ojXsen4yly/fkWvnJCLZSwFYRMS5KADLDev8+Vjidm9iwKLEplclPYlVGxMrltPDbY+vyyyigg9x7zDr6tz6xaTNrS4dwwsTgysSjcKsott4NdH5icTw264jUess0eoTu13zKUSDLUSPYkQPF6JRBNF8eu4H2owcQwpZ5fe+IcTGbAy/mzfb/tuqvik2nzp27Bw/++wP+0Cjlj+xYIM1xmoWwPh4C78LF/5sldO7x9iS9/SG33GrCBc3fvfdXzl9mSaxf/9xu07LehHPT+axY+dy9XxEJPspAIuIOBcFYLlhodMc4mFf6w4MV+v+/Oh4Ynk48Vw3m92bd6HtUR2WL+0QOBJEq0FW7a1JC7Ld7ky65Ll7Gav69m1k9xlQjah1juh6P9GjiN2nwVfE0JK5H2rTewy4jajsStwzLHsrv5s323LmNPbfRkdftCZYT00kZgZb+G0763LlFx8vtoqp94rEx1wWRjSfYVXlu8YQHlc1wYqIsuZSLm5csODnnLw8UxQdfZFTpnzHsWO/4oULuVeJFpGcowAsIuJcFIDlhhQdfdGqaJfCUJe5Nt7GfQNRZAZx/6fEu3cn7Vqc1tFqKFHnL+vw3KNw0uB76WjhSTTalHiflqPs/+5WkWjwDdEwihheNPdD7dXHe3cRbz5tXZ1HwmYad3qCeKWtNbZ6vDcRms3hd2YwUcSdQUG/pPh+OhwOora/jScattSqvN3m0uFw8MCBkzYft7A7MXG1PV5UlI07KupOvDqVa9fuZvv2K6yRlP9aa5rVba5dI+VGMzx8fw5foSIiRgFYRMS5KADLDQl1p1m198qRO26h1tW5Wc0MLgGuYJXfztVTDr5vgehQ16q9A6on3q99M6JmvDW+ahpIjLhGJ+nsOj4uQVQeZb/7/Z/a7OI2z9vXOzzs++XGElhM5JtvX0tNJB7vQzStmb3Bd/NmYtpaooQH8c68VN/PuLh4q+I/O4ko6s7Vq3fxwoVYa1yW15W4fywxfZ093sZIoq4/UdqLERG/Xa4Qb9nylzXQus3T7lN9Itet283Y2OTLrUVEcooCsIiIc1EAlhvOnj3HiAKjiBVhiSFrZQRRJMD29mY0QPZtSNT7NfXw266dLX3u1SGF8FyWGFwp96q7nxS3Pc5VPyRmhxPvrCceHGjB9/7BxAcbiOBIe43WRBLzNhFh6aj2LgqxJcdz16c/6K4Jv9xoCnePsX237WYRhdyI3guu+b6i+QziiQmMjPyd8fEOm41bxddmOl+5pLmWH/HQOB45cibZY1wKwyntMRYRyQ0KwCIizkUBWG44eGmKVYA3b7amTXWa2lLeJ3slb2yVnrm8/V+0gNu6H9HmfaJde1vu3MLDujvXOkP0bp17ITe1o9sj1tyr6ofW8CurKrZz1lvFtoqvLTFeGJL6baOibLZuq5m2bLn6RC5Z8ouNJnJxI16czJ9+OpKh99fhcNjjVfYhgjclPteMdRas7/DhP/+czaarS0QkaykAi4g4FwVguaEsWrTdwtn8MFvCW8nTujt3rJYYfj+pQjT3Ixp8bUuUm6wgBjydepAcCaLlSGti1TjYRhzV/8G+dh+cdNlzdhwjQQwoSfSqTHR8kvi08LXv0+4ZW9r80YasXa4cFmHNpDrNIZnwYUPPwOShd1Yw0WKmdeEu5kHUm8YtW66/w3JcXLyNNirrlTR4D1ligbrDbC1pFhGnogAsIuJcFIDlhrFx434LQR8tI8r72D7W2s2JoQWuqObWIGr/RzSdR7TpZbN5G4URtY/nfsU2paPv7bZcGUuIgnPs6wudUw7J79xrX998mig4lxiVytzjjBxRUYndnyOjiJenEI+NvxwyFy3aTpQbTYxdSfSaT7zuRxT3sCXoDaczOHhPlnUzdjgcRJMA4k4fYv6GxPPrPIco7sGQkL1Z8jwiIjlJAVhExLkoAEuOu3gxzro6VxhNlPLk4sXbiffmW+W3+2KiuD/xbPekwXdkPqLlcJvR2/btpHt4275NNPw898Pu1YG2/VO2dPv5rkRIwj7dlzoS1d9NetshBYl6jSwcd01Y9jwyC8Lv5s3E8giblbx5s42VquTNEyeiL78XDoeDaDHD9vHWmEJX18389ttDPHfuYpa/7wsW/GxNrJaGJobfZgFE+dHcseNolj+fiEhOUAAWEXEuCsCSo44dO2ejbO4dSwxcQXwSZMH30fHEm8uI26YQNdon3evbr6bN3633C9Hp+eRNrJosJboPyf3Q6wpicCGiUV1btl1kBvFxiAW9S4G08ijikf5Es9eJVi8Rr7Ylyoy38Fu1H1HJw75mRfhdE5n43G7LiaLu3Lkz5aB5qblUdvnll39sxq97whzfVRttn3f50Tx48GS2PreISHZSABYRcS4KwJIjYmPj6e+/hSjjRbw0lXjoYwt9t02x5lZVPrJqaZ2mibN9Bz5INJttS55bDSV6FEu5i3PDz4l338p4WO3dyirK/V+4/uA7Ig/R9jn7HSp6EZ+EJC49vvJwDyVKTibuHUbc4U5Ue48YGGJVYiwhHvqECM+ChlcTNtrjeYQSQaFEMQ8uW/Zrrr3/eGoi0TiAmLqGaDjdlli/OJmHDul/e0TEuSkAi4g4FwVgyXZHjpwhqvra3s8hSy38VXa1ET9tnidea20BsF+5K6q+tYiaJBqFE93uSH2E0Vsg3hiT0AirGjGiYPqXKNf+156jV/vrC7+fFLfKbXF/C75RmQiwGyKJmeFp33flRmtYNSjIjlHLbLbux4uT3zY8ipgVTqyPtOp6k4BcvQbQeY7N7i3mQTQO4K5d/+bq+YiIZBUFYBER56IALNnq8OHTNu6mlj8xeIPNtL1nuC0VTi1QDitB1NtBtBpsAXd0B+JbEkNfTjkAd3zNgmztk0St00TLUUTfxsS73YnhRVN/nqaLiHp70r5Neo5H+1nlNj3zdzN7hEQQlbyJahOIx8ZbqL3d2wKwz8qU7xMRZV2e7xvL6Ois39ObEQ6Hgzt2HGVMTFyunoeISFZTABYRcS4KwJJtzp+PtaWvz08jyvracue6TYghaYTf1h8Stc4RjUKInnkt4E751ALwwCdSDsA9QXSpal87vUDU+R9R52+i/o9EvV3EsOKpLFsuSAwteX3ht/1T1rRqZUT2hd/Nm4l35hGP+DI+PnGv7vLlO2xJeUQKwTskgnhuEnGHD0+ePJ+LV4GIyM1NAVhExLkoAEu2QfMZxL0TiWL+NvpneL6UQ+SQ8kSjUKv61j5KdHzZwuylgNu7FDG0RtrLoJME4nwWnnvmtdm/b0y4/j2+KR0flCcKzyCGhGRv+N28mbhvLBcv3p7k9f3uu7+Igm7EgqtmBW/YRDwxgXhyAv/991wuvfsiIrcGBWAREeeiACxZ5vTpC4yOvsjz52O5atVOooAb8eDHxBO9k3Z1vvp4t6d1eG7fmOhWLv1B98qjhwvR6VnbL9zD5YoRST2Ihp9lffh97y6ixFTixU7ZH343byaemEBf36954MBJLlqUGITxzCSi78LE222KtO89M4lnz8bk4tUgInJrUAAWEXEuCsBy3c6du2jzXPO6WnffIu5E2dFEpeHWGOrDMmmHybd725Ln7qWIRmGJe3/Te3S9n6j7m+0Brkmi1nmi3m6iwRbrIN16QNYF36EFiNdbEQUCiZotEptWBW8i2syyTsejV2RN6B0UZLOS/dYSI5fZuCi4EnDlqlU7SZLTp39ve6w3RtrtHhxHPDiOp05dyOWrQkTk1qAALCLiXBSA5bqcOnWBqOJLlBxFPDSAGBNMBKwjar1h820/KnXtUPlJFRtH1LqPBdgGX6U//HYvQ9TdT7wxnhiZhxiZlxh0P/FBXaJ3a+LDV7Mm+A4pSDSuQxT3Iyp6En7hiUF1YYh1uH5qItFuln0AcKePhdF7x1pFdlZw+oNvRBTRYTZR1J14aBzxsK91fy44ygJwQTdGRPxGkrx4Mc46bBd1tw8fegTmesMrEZFbiQJwil4EEAngNID/APxfCrd5GsBFAF9k+W8vIpIGBWDJtAMHThIlPYniPkTpCcT9n1pH5OnhRP55xNv3pT9gNllFtPAgmgYRnV5MX/jt8gBRfxvRZImF3+zY59uvHFGjPVFkBlHBhxgeSkRe0XTKd5VVZtvOYlxcPEkb+7Ry5U4GBf1iS8HhSgxbmr7wGxVFvOZH3ObJX375x6rrz0wiKozmunW7ibrTuGTJL0neh9jYeG7Z8hePH4/OjctAROSWpgCczIuw0NsRQCEAeQE8e9VtCgHYDiAcCsAiksMUgCVTLl6Ms8pkGQ+rivYrZ/ti8y60xlCvt8zAsuLSRO1jRIeaqXd57l6S6FIlsTN0u07WLfqNicSI/FkbekfkId54hbh7hP0+j/QnxoUlndG7JJSo60+4uHHmzB9TfI1WrtxJVPS21ymlTs0pHaERl5c546mJ3L1b83JFRG5kCsDJfAFg7DXObxyA8QBGQgFYRHKYArBk2Pff/028MpUoP9XC75XLnLs8RrR7Ju2mV1cfzWYQjYNTCb/5iYZRtjS6ZgxR93eiYaTt9+1XK+srvsPy20zfkpOIPhuIZSmMN5oVbFXfOv48cOBkiq/R4sXbicLuto83IsrGEvVbSIxblfSx1oQTrsssTHsut+/NWEfMDLYQ3GBaDr+7IiKSEQrASRQGEAfAB8B3AI4B+B5Ayytu8yqAXQBcoAAsIrlAAVjS7dChUxZ84Uo8Np64bzBRu/n1Bc6PH7P9v13vSeja3J1o6WoV3k7PEM1mE/V/JoaUJUbmI3q3IN7uRQyumPnnHHAb8Vpr4k434v7BRMdqNqJpWH6iykdEJU8iODLlCu2yMKKsF9E9MNXX6Y8//iNc3AjvFURQqO0LLulJPDDOQvGHi4jhS4laVkFGJW8i3yji1amJVeAOs4liHmpmJSJyg1MATuIOAA4ARwA8BVv+3AJADIDnARQFsA9AjYTbKwCLSI5TAJZ0iYr63cJbvWmJS3QreRL1GttS4a5VMxdG3+tK1Ntpy5xbjCZqHyeaBhINvyBqnyDq/0R8emfWVHeHFCSe60bkW0A88CkxOIR4pS1RaA7hMsuOSh7EmlTC78ZIa0rVaDodDkeqr9Wnn24iakyxEFvIjXjNj5s2/UaHw8Hg4D1EaS9rjtV5DrduPWwfLMCV+HixHRVGE1V8+f33f2fqvXI4HNy791iq1WkREck6t0oADgsD+/e3o1gxEMCHKTxvCVgA9rrq+2EAvAFMAzDxiu8rAItIjlMAlms6ePCkdTYeFGT7YC+N47ndk8ASO57vkrlQOrSkhd66+4k6h4iBDyb+bCSuvZR6WD7rOF3cj6j+LvHm00SvO4n37yT6VCTev4No/prN6y01kajsSgRuSt51eVq4HWnt1W01k3hwHM+fj03z9Zoy5Tt7fe4by61bD6d52z17jiV+oABXorIPFy3afrmhVmYMHRp5+fH27Tue6ccREZFru1EDMPIjYyMFM3IUTbUCDFiFN6UAPBrA7wBOAPg34TgH6wR9FMB92fJKiIhcRQFYrgnNZxC1/RO7Hl8Ka+7BxJAQ4sGBRL1G11GZLU+834YYUi799/mwDPH0W1a1Le9j5/Fsd6LcWJvRWyCQyDffvt7hbj/rvyEx4M7fYEuQW88kfFbasuO0mlONWEoUcU9XoIyPd/C3305cMyhf8uuv//D77//m6dMX6HA4ePx4NNFtLqdN+54xMXEZf7+qTSCen8wFC35Os1ItIiLXTwE4mQ8AHAbwJIA8AJoBiIZ1gi4PoNIVhy+AbwFUhC2XFhHJdgrAck2o4ksMDCLmbSCKJ1R/ewZaMFwdaUuK+1bI+oZUKR0j8tj+3QKBxKMfEFM2Jq/aRkQl7dh89bFgg1WxG04nmgbYkuMCo4jqE4lOc4jp6xKXPA9dQrwxg3BxY3Dwnmx9nS9ciCXuG0vkcbUQW8qTeN0vw49z6tSFdIdvERG5PgrAKRoE4CCAUwB+ANAkldtpCbSI5DgFYLkmtJ1F3DPGQmO1CfZ1U8I+2X4brJlUToTfIYWIhz8myvjarOGrg21QKNFoOvHi5KSzeq88Nmyy/betZ17+/RwOB/ftO86pU7+zbsyF3W100YPjiDt9iOYz+H//dyDbX+fLM4O7ziX6L7Lz7DY3259XREQyTwFYRMS5KADfQqKjLxItZxJd5vLs2Zhr3h4fLiJemsITJ6KJdrO4aNF2oo4/0WKmhcmQSNtX2/y17A2+A4tas61SE63h1rqrmlSFRBBd5lpwfc3POiqPX5U8/C4NJar6Es9OYmxs6ntsT526wFmzfqS395c52oX5+PFoe23vG0s8Op6oN02VXBGRG5wCsIiIc1EAvkVER1+0Jb4PjrOj3jRevJj6/tLY2HhbFgzXy92Ev/jiTxvbsyiE8NtI3D6auHeYjRDKruXO9Rtal+a7R1jX5iuXOw9ZYr9LITfi0fH8+uuDJGnfG7Y0cRmz+3LiuUn2+zSczujoiznymouIyM1PAVhExLkoAN8i0GA6UXU84RNKTF9P3DWGeHlKkiZJDofDqo/9F/Hrrw/aUufnJhHtZtljtJ9NNJ5OzA63Pbivt7TZudkRfntXIu5yJUpOJnw3Jq/m9l9EFPPgnDlbuXPn0SS/B1rMtHOv6kvkH0WUG028NY979x7L8dddRERubgrAIiLORQH4FrBnzzGrflZ720YWlZpIrNhIuLhx27Yjl28XH+8gWswgPlrENWt2EQ+MI2YGEy5uHDw4wpYYN1pMlPAjarTPnuBbu5mF3nwLbHTRhquWO0dEEe/NJwq788svU96Xe2ne7syZP3L//uPqhCwiItlGAVhExLkoAN+kLlyItfm9HecQZbyI2jOIPIuJDyoQZcZbB+XKY7l+fcqdjXfuPGpLi8MiCO8VFoZvG0UUCSBa1rDlydcbdvuXseXTI0E0qU1U+cgCeoM1xMwrmlwtCiHqTyPqTrNqbiVvfvvtoRx+RUVERJJTABYRcS4KwDeJffuOMzR0Hz///E+b23u7t3UUrjbB9sp6hBClJ1jw/KA8UXYcUXAKt207Yk2uavoRPQIvV0sdDgdR2cfGAG3eTMzfRBScQ3Stev3Bd3he4pkeFnbzLLbl1FhiRwVv4rYpxKaEvb6RUZfn2rq6bmZIyN40G1iJiIjkJAVgERHnogB8E/j88z+tOVWJhBm9D/va7Fr/UCIgoZLqE2bBckQe4u37iIqeRP4p/PXXfzh79la7H1x57lxig6hJk761PQGyhQoAACAASURBVMERUUSv9UQlz6xpbPVcN6KsL7E4ggiKsOZWxaYRT/ckPixLYDGxPMLO2305UcozR7sxi4iIpJcCsIiIc1EAvgngqYlEz0AieBMRsM6C44xwIv98q6rO30RsjCKK+xFP9kqsthbw4s6dR+nvv4WAK2fP3prkcS9ciCUqeRO9FxArI4hCs4nazW3JckaD76AiROsXiXuGEaUmEQs32Xl+GkLkn0e81MGWQz84kHisr/1sTThRYTT9/bfk0isrIiKSNgVgERHnogB8E8Bj44mXptjIn0v7Zu8eQbzahni8D1Gjg33PNdSC75AQosNs4p4xjIz8jXFx8anOBf7yywNWXR6w2PblFvcjXmlHvHuPLYd+vRXx3l0WckeC6FWZGFSUeOMVe97GdYhed1rFt9xY4tW2RHDCeUZFWUhv/hrxaWELvmXH2c+joogaU4iXpzA+Xk2sRETkxqQALCLiXBSAbwJ//XWKqOJL3D2GmL7OlhXnXUh8Upx441UbJ3QpGEdFEUGh1hU63yiikBsjI39P8/Gjon63EBywzkIwgiy4lpxsVeHKoywAv94qobq82ILyY32JMr72vdITks7wvXRU+Ygo7m9V4HuHEasSwvGE1URRdx47di6HXkUREZGMUwAWEXEuCsA3iZiYOKLrXKKUJ9E/mLjTzUJp89ds2fGVoXPAYuJuHwvNDadz8OCIaz4+Hh9PDAyypctYQlT9wBpVVfQi6jUm+lYgCs4lxm8kpocT48KIvhts3zGWEANDkoffsAhiZTjhHkJMCkkMyFFRNsO3e2AOvHIiIiKZpwAsIuJcFIBvIg6Hg3hiAvHyQttL6woLp4/0t2A5M5xot47otYio6E00mEbUm8YhQ9IOwOfOXSSKult1+e31FmirvWf7dktNJBrVtQrvi50Sw63LLLtdubHW5Xn9Fcuzg0KJh8Zdbrx1+agwmvBfSwxeQtzmyTNnUl6WLSIicqNQABYRcS4KwDeZNWt2EcUmWWXWFcQzPRP3AF9qgNU4iLjLx0JngVH88cfDSR7D4XBw27YjPH48miSJd+ZZZ+moKKLau/YYb66zr3kXEuV9iLpNki5xfurthDFHi4hJGxO/77eWKOtFNA3gkSNnePjwaR48eJJnzsQQvebb0uz8oxgaui83Xj4REZEMUQAWEXEuCsA3mbi4eKLQaCLvImss9egHRIUZxIiltiz6nuFEiSlWAe6zgBiy5PJ9jx+PtoZaBUZZOH5hMg8fPk0UcSd8V1mAvdRBOjDc9vjW6JDy3t7Nm2059OQrwu/wpbaXuNf8y/OGr7Zz51Hu3Hk0p14uERGR66IALCLiXBSAb0J4cTJRbCrRsgZRwYcYGUKERFgAbv4aUWIqUXgSZ836Men9us0lqk0gAtcTy8KsUgtX4tWpiSG2TjNiRGjKgTe1IyqK+GAhUdidGzbszaVXRUREJOspAIuIOBcF4JvQ6NFfEhUGJ1ZrV0YkLkt+sRPRrCZRzI8o4sHJk7+9XI1Fo+lEs4ArljFPtL2/qzZmLPBeeawJJ+pPI0p58ssvD+TyKyMiIpK1FIBFRJyLAvBN6PPP/yTKjLYlyk/2SgyjbqHWtGp4XmtO9Vx7orQX8eA4fvBBiC19HrIk8fY+K4mJqzMWdhtOJ8qNtj3Dpb3sMV+YzIMHT+b2yyIiIpLlFIBFRJyLAvBN6ODBk7Z0OfKqvblhUUS++cS79xAdn7ROzWNCbXnyi5Nt9m5mK72RUbZ8+vnJjIr6nUFBv/DLLw9w//7juf1yiIiIZBsFYBER56IAfJOJj3cQTQMsAG/YlDyo1mhPlBlPDCpqnZsLBBLPdidCU2lkld6j21yikrdGF4mIyC1FAVhExLkoAN9k9u07njhX93ZvC6dLI4h7hhGjQolNkUSVj6wR1gcViL4VbIxRzRYZC7ybIoklocS4VURtf6K4B7dtO5Lbv76IiEiOUgAWEXEuCsA3mbi4eGtcdSkErwknxoVZM6zCM2wM0oZIa4aVbwHxeG/rDv3E++kLvhsjibr+RF5XOyqMJprP4IED2uMrIiK3HgVgERHnogB8E9qx4ygDA38i7h1L9F5gc3pLTSJqNyMqehK91ttoogkbiW7Btix6TeS1w+/MYGtu9eh47t17jBcvxuX2ryoiIpKrFIBFRJyLAvBNbPXqXdaROSKKmLTR9vvmWWxLoDOy3HlFGNF6JlHIjWg3i+fPx+b2ryYiInJDUAAWEXEuCsA3sbi4eKKyD9FypgXZgHDi4xBifRrV3vBIYuxKovMcoqaf3T+vK/H8ZO7YcTS3fyUREZEbigKwiIhzUQC+yf3xx39ECQ9iUFDaVd7wSOKdeUQpT6KsF1F/Gj09v+D69Xv4zz9nc/vXEBERuSEpAIuIOBcF4FvApk2/ES5uxKhlKYfflRuJ+8YS941lSMhexsc7cvuURUREnIICsIiIc1EAvkWsW7fbQnCH2dbJ+VL4nbPewm8tfzW1EhERySAFYBER56IAfAvZseOohd1iHsRj44l7xhAFRhHtZzMmRuFXREQkoxSARUSciwLwLcbhcHDLlr+4aNF2Bgfv4eHDp3P7lERERJyWArCIiHNRABYRERHJJAVgEZHsNwLAfgAnARwFEArgyatu4wAQDeA0gDMJXx9N4bEUgEVEREQySQFYRCT7PQjgtoT/zg/gIwD/A5Dnits4ANRMx2MpAIuIiIhkkgKwiEjOKgTgQwDxAMpc8X0HgFrpuL8CsIiIiEgmKQCLiOSMRgD+gwXdOABjr/q5A8BhAP8C+AHAW6k8jgKwiIiISCYpAIuI5KySAPoBaHXV92vCqsP5ATQEcALAuyncXwFYREREJJMUgEVEcl4eWEOsx9O4zUgA/5fC90sAYO/evdm/f3/279+fYWFhuf3/S0RERERuWGFhYZf/burdu7cCsIhIDssP4ByAlmncZgSAr1L4virAIiIiIpmkCrCISPb7AED5hP8uB2AGbIlzhYTvVQfwFIACAPIBqAfgOIDeKTyWArCIiIhIJikAi4hkv2AAR2Dzff8GsAYWeC9pAmAnbPbvCQA/AXg7lcdSABYRERHJJAVgERHnogAsIiIikkkKwCIizkUBWERERCSTFIBFRJyLArCIiIhIJikAi4g4FwVgERERkUxSABYRcS4KwLe43bv/Jd6ax/h4R26fioiIiNNRABYRcS4KwLc41PEn4MqgoF9y+1REREScjgKwiIhzUQC+xaG4B3HXGLq6bs7tUxEREXE6CsAiIs5FAfgWdvZsDAFX4rlJ9PD4PLdPR0RExOkoAIuIOBcF4FvYX3+dsgD8mh9HjIjK7dMRERFxOgrAIiLORQH4FhYXF28BGK7ctu1Ibp+OiIiI01EAFhFxLgrAt7g9e47x//7vQG6fhoiIiFNSABYRcS4KwCIiIiKZpAAsIuJcFIBFREREMkkBWETEuSgAi4iIiGSSArCIiHNRABYRERHJJAVgERHnogAsIiIikkkKwCIizkUBWERERCSTFIBFRJyLArCIiIhIJikAJzESQByA0wDOJHxddMXPnwDwOYCzAP5KuL2ISI5SABYRERHJJAXgJEYC+CKVcyoG4DAADwAFATwG4BCAftnxAoiIpEYBWERERCSTFICTSCsAdwXwPwB5r/jeBwD2Ze2vLiKSNgVgERERkUxSAE5iJGzp8z8A/oAtf74n4WfjAYRedfsXAcTDqsMiIjlCAVhEREQkkxSAk6gKoHLCf1cEsBBW4S0CYBaAoGTnaQG4Uva8DCIiySkAi4iIiGSSAnCaCgI4D6AOVAEWkRuEArCIiIhIJt2wAbgA/r+9e4+27C4IO/6dMS8hJMGURKDhEaVoDOHRugpKAyq2XUBZFQoFm8Ja9mFZkSSDi9baAArYUnnZWhsEFIsiYqtiozBQQyRd5aF9CLpKK0iAQBKCQB4EQkoy/eN3LnPmzL0zN5uZO3fffD5r7cU5v7PPufveneHc7/3tvc++fuIILhe0r0cvlhPaV12yie04ofpS9f3Vs3MOMLANCGAAgInuNgG8vJyy4Qzw06vTF7fPrN5Ufay6Z2OW99PVS6uTGleB/kSuAg1sMQEMADCRAD7AbzcugPXFxkccvbk6e+nxcxtXib618ZFILzy6PwaAgwlgAICJBDDAvAhgAICJBDDAvAhgAICJBDDAvAhgAICJBDDAvAhgAICJBDDAvAhgAICJBDDAvAhgAICJBDDAvAhgAICJBDDAvAhgAICJBDDAvAhgAICJBDDAvAhgAICJBDDAvAhgAICJBDDAvAhgAICJBDDAvAhgAICJBDDAvAhgAICJBDDAvAhgAICJBDDAvAhgAICJBDDAvAhgAICJBDDAvAhgAICJBDDAvAhgAICJBDDAvAhgAICJBDDAvAhgAICJBDDAvAhgAICJBDDAvAhgAICJBDDAvAhgAICJBDDAvAhgAICJBDDAvAhgAICJBDDAvAhgAICJBDDAvAhgAICJBDDAvAhgAICJBDDAvAhgAICJBDDAvAhgAICJBDDAvAhgAICJBDDAvAhgAICJBDDAvAhgAICJBDDAvAhgAICJBDDAvAhgAICJBDDAvAhgAICJBDDAvAhgAICJBDDAvAhgAICJBDDAvAhgAICJBDDAvAhgAICJBDDAvAhgAICJBDDAvAhgAICJBDDAvAhgAICJBDDAvAhgAICJBDDAvAhgAICJBDDAvAhgAICJBDDAvAhgAICJBDDAvAhgAICJBDDAvAhgAICJBDDAvAhgAICJBDDAvAhgAICJBDDAvAhgAICJBDDAvAhgAICJBDDAvAhgAICJBDDAvAhgAICJBDDAvAhgAICJBDDAvAhgAICJBPABXlR9tLqxuqF6R/XwDbbxL1e3V1cdjR8AwEYEMADARAL4AA+pTl3cPq56fnV9tWtlvROrD1XvSgADW0wAAwBMJIA3dGJ1SXVHdfrKY6+sXl29OAEMbDEBDAAwkQA+yBOrL1R3Vl+tXrHy+PnVh6uTEsDAMSCAAQAmEsAbOq26uHra0tg9q49U3724L4CBLSeAAQAmutsE8AXt69GL5YT2NQ5vPpxdjQtiPWxx/7XVzyw9LoCBLSeAAQAm2rYBfNJJ+7ryyqOznHHGZj8G6bjq1uqpi/tXV5+vPrtYbm1cCfqG6uwj/2MAOJgABgCYSAAf4KLqjMXt+1SvawTvmYuxM6r7LS2vqt5f3bfafRR/HgBfI4ABACYSwAe4vLquuqX6dPW26lGH2E6HQANbTgADAEwkgAHmRQADAEwkgAHmRQADAEwkgAHmRQADAEwkgAHmRQADAEwkgAHmRQADAEwkgAGOvhdVH61ubHxw+Duqh6+sc171nuqL1acal5lfjwAGAJhIAAMcfQ+pTl3cPq56fnV9tWsxdnJ1bfWy6oTq3Oqa6uJ1XksAAwBMJIABttaJ1SXVHdXpi7HnNIJ499J6F1UfWef5AhgAYCIBDLA1nlh9obqz+mr1iqXHXt04LHrZYxqRfPLKuAAGAJhIAANsrdMahzY/bWnsDdVbVtb7tkYA329lXAADAEwkgAG23q7GBbEetrh/l2eAL7zwwn179uzZt2fPnn179+491u8lAADb1t69e7/2e9OFF14ogAG22HHVrdVTF/efnXOAAQCOOjPAAEffRdUZi9v3qV5Xfb46czF2cvXp6qXVSY2rQH8iV4EGADiiBDDA0Xd5dV11SyN031Y9amWdc6urGjPD11Yv3OC1BDAAwEQCGGBeBDAAwEQCGGBeBDAAwEQCGGBeBDAAwEQCGGBeBDAAwEQCGGBeBDAAwEQCGGBeBDAAwEQCGGBeBDAAwEQCGGBeBDAAwEQCGGBeBDAAwEQCGGBeBDAAwEQCGGBeBDAAwEQCGGBeBDAAwEQCGGBeBDAAwEQCGGBeBDAAwEQCGGBeBDAAwEQCGGBeBDAAwEQCGGBeBDAAwEQCGGBeBDAAwEQCGGBeBDAAwEQCGGBeBDAAwEQCGGBeBDAAwEQCGGBeBDAAwEQCGGBeBDAAwEQCGGBeBDAAwEQCGGBeBDAAwEQCGGBeBDAAwEQCGGBeBDAAwEQCGGBeBDAAwEQCGGBeBDAAwEQCGGBeBDAAwEQCGGBeBDAAwEQCGGBeBDAAwEQCGGBeBDAAwEQCGGBeBDAAwEQCGGBeBDAAwEQCGGBeBDAAwEQCGGBeBDAAwEQCGGBeBDAAwEQCGGBeBDAAwEQCGGBeBDAAwEQCGGBeBDAAwEQCGGBeBDAAwEQCGGBeBDAAwEQC+AAvqj5a3VjdUL2jevjKOudV76m+WH2qevHR+zEAHEwAAwBMJIAP8JDq1MXt46rnV9dXuxZjJ1fXVi+rTqjOra6pLj6aPwyAZQIYAGAiAbyhE6tLqjuq0xdjz2kE8e6l9S6qPnKkfwAAGxHAAAATCeCDPLH6QnVn9dXqFUuPvbpxWPSyxzQi+eQj/DMAWJcABgCYSABv6LTGoc1PWxp7Q/WWg7Z1BPD9jth3D3AIAhgAYKJtGsAP7fjj9/XOdx75+L3iin2deuq+xszt4exqXBDrYYv7ZoCBY04AAwBMtE0DePc555yz77LLLjti3+fevXv37dmzZ9+TnvSkfSeffPK+6smb2I7jqlurpy7uPzvnAAPHmAAGAJhomwZw1TPOOuusfbfddtsR+17vuOOOfWthvcHXvKg6Y3H7PtXrqs9XZy7GTq4+Xb20OqlxFehP5CrQwBYSwAAAE23jAD7is8Bvfetb95111ln7Gld4Xs/l1XXVLY3QfVv1qJV1zq2uaswMX1u98Oh8+wDrE8AAABNt4wCuIzgLvInZX4BZEMAAABNt8wA+YrPAm5j9BZgFAQwAMNE2D+A6ArPAZn+BnUQAAwBMNIMA/rpngc3+AjuJAAYAmGgGAVxfxyyw2V9gpxHAAAATzSSAJ88Cm/0FdhoBDAAw0UwCuCbMApv9BXYiAQwAMNGMAvguzwKb/QV2IgEMADDRjAK47sIssNlfYKcSwAAAE80sgDc9C2z2F9ipBDAAwEQzC+DaxCyw2V9gJxPAAAATzTCADzsLbPYX2MkEMADARDMM4DrELLDZX2CnE8AAABPNNIA3nAU2+wvsdAIYAGCimQZwrTMLbPYXuDsQwAAAE804gA+aBTb7C9wdCOAle/fuPdabwBFgP+4c9uXOYD/uDPbj+mYcwLU0C2z2F7i7EMBL9uzZc6w3gSPAftw57MudwX7cGezH9c08gL82C2z2F7i7EMBLvLnvDPbjzmFf7gz2485gP65v5gFci1lgs7/A3cUp1b5rrrlm30033XS3Xy688MJjvg0W+9FiX+60xX7cGYv9uP5yzTXXzD2Ad59zzjlmf4G7jfs3/k/bYrFYLBaLxTJ9uX/zdXb10GO9EQBbYVfj/7BPsVgsFovFYrFMWu7f+J0KAAAAAAAAAAAAAAAAOHJ2Vz9Vfby6qfpw9Y9X1jmrury6ubqh+tnquK3bRDbhsuqWxj66eXH7zuo1S+ucVr25urH6fPXL1albu5ls0v2rX6n+vLE//7g6d+lx+3L7e1zj3+Dyv8lPrqxjP87PxY39+pKVce+TADATz6s+U52zuH9+9aXqCYv7u6oPVW+s7tl4k/9gB4YV28/DqjuqRy6N/W71rure1TdV/6V629ZvGodx7+rq6qcbgVT1LdVfWFrHvtz+Htf4N3ioCwPZj/Py0OrPqj/qwAD2PgkAM/Iz1W+sjP1h9YLF7cdVX2n8grbmKY3ZjBOO+tYx1Wur9y3df0Bj1mJ5FvG8xdhf3MLt4vBeWv3BIR63L+dhLYC/YYPH7cd52V29v/H+d2UHBrD3SQCYkXMah1c+ovFX7O+rPld9x+LxixqHRS+7bwf/4sb2ca/GYXgXLI09pTGzv+q26slbsVFs2vuqX6t+s/Fv8cPVpe2fSbQv52EtgD9RXd+Y3T1/6XH7cV4ubRyiXgcHsPdJANgG3th4871j8b+ry7sX631j9erqq9XtjV++/snS61zagTOJVSctXuO7jtK2s99m9+OyH2mcg7Y883BBdd06615f/eAR3F42ttl9+ZHGv8dnNWYPz2ucO7p2VIZ9eWxtdj+e2TgVYXfjsNgfrb7c2J9lP24Hm92Xj2hcJ2PtlITVAPY+CQDbwD0a55RttNxrsd4bG4c8P3hx/9zGOU5rF8Lyl+1ja7P7cdmfVC9fGTPbdOxtdl/+jw7+ZfrHlsbsy2Nryr/JNVdWL1vcth+Pvc3sy+Ma5/P+7aXnmQEGgBn7UOOqlste1bg4S41D9m7LuU1z8fjG7OGDVsYf0JjlWD3f8I6cb7jdvL5678rYcgDbl/N1ReOq+2U/zsUDG/vkhuqzi+X26tbG6UPlfRIAZuXnqg80fhmr+vbqo9VPLu7valzx8herkxfr/a9c3XK7+vX2//Fi1eXV3ur0xhWF31n91hZtF5v3qMYv089oHD77HY3DLy9ZWse+3P7+euMPUbsap5pc3DgE+lFL69iP29+u6n4ry3sb74FnLq3jfRIAZuIe1b9tnGN4c+PjV15RHb+0zlnV7zT+mv3Z6t+sPM72cGYjnJ64weOnNT5b9sbqC9WbqlO2ZtO4i57UODrjlsY5wS9Yedy+3P4ubVwA65bG7OEVjQtjLbMf5+ndrf85wN4nAQAAAAAAAAAAAAAAAAAAAAAAAAAAAAAAAAAAAAAAAAAAAAAAAAAAAAAAAAAAAAAAAAAAAAAAAAAAAAAAAAAAAAAAAAAAAAAAAAAAAAAAAAAAONjPVz+6xV/zn1av3+KvCQAAsKP8fnVn9Y9Wxk+ubqnuqM5eeWxX9bHq1urUlcceWX2pevzK+C9U/63avc42/Eh13crY9yy269KV8d+sfnlx+8XVf1167JcWz7lw5Tkvra5cuv/G6vbq5urG6tPV26sfXGfbVj2i+lR1/NLY1dUPLd0/rXp39YHF9t+y+Fq3LLbv1sX9m6vfXjznexv74s8X2/Sn1WVLr3li42d03iG27XFLX2ttub367Mp6F1Ufr75Y/UH1XYd4zROr11b/d/F6n6x+rjplZb1nV3+82PZPVq+qjjvE6wIAAGy5Kxvh8t9Xxp+7GF8vgJ9U/b/qc9Ul67zmnkYk3ntx/5nVF6oHbLAND118nXOXxv5l9cFGFK7ZXX2+umBx/8XVVUuPv7H6TCP4Tlsaf2kjSJfXe9PS/VMa8Xtd++N6I79UvXxlbDmAH1T9SSPUT1pZ78RGAD9mZfzsxh8NntOIxl3Vt1T/cGW9Vy2+/l3xR4vnrXlWY789phHxFzXC9ps3eP69Gj+/hy6265sb/838+tI6j6y+Wv3A4v4DGsH8E3dxWwEAAI6qKxuxeU31nUvjH2rMpK4XwL9T/efqFdX/2eB131G9rXpwY1bwGYfZjo83wnnNHzaC6pbqHouxRy+2576L++sF8Juq91Q/uzR+uABe872NQH38Btu4uxHy37MyvhbAf6UR0a/Z4PlrAbw64/qMxszv4Xx/I153bWLdqsc2wvRbl8auqv71ynofqv7ZJl+z6mkdOKv8dxp/eFj2mvbPbgMAAGwLV1YvacTkLy7GHtuIugc3gm05gB/ciKonN2YF76yesM7rntmIos80Dn8+nNc3DkOuOr1xeO6JjUOcn7gYv7QxK71mowB+RHVb9e2L8c0GcNW11U9t8NjaTPV9Vsavrv5jYyb1og2eWxsH8IMaof+r1VOrB27w/DMXz/9Lh/gay361eufK2M2NgF32C9WvbfI1q15XvWvp/j0ah1L/3cYfCb61cQj3s+/CawIAABx1awF8/8ZM7SnVr1T/vBFiqwH88sZs8Zrfr35jg9f+vUYwrh7yu56nN6L3+MXt31uMv7j9M6rv6cDDeTcK4Ko3tD/+7koAv79xzut6HtP4fk5YGb+6MTN8dftnp9ezUQDXiPXLqg83/sDwZx0ckCctnv/oQ3yNNfdp/BHgKSvjd1bftzL2yvb/8eFwfqjx38k5K+M/3PgZ3N74Gb2hzc9UAwAAbIm1AK76rUYs3tyYbVwN4BMaM7ovWXr+329Ez/1WXveSxsWQXt84J/bEw2zHNzXOK358Y4bxxxbjj108/57VV6q/ufScQwXwGY0ge0pbMwP83MYfAq7uwEOOlx0qgJed2vj+76y+e2n8rswA/3j1iQ6O0K9nBvi5jUOfv3Nl/B+0/7ziGucJv73Dn08NAACwpZYD+G80Am8thh7YgecAX9AIsM81znW9rhHEd1Q/ufSaj2hc6fj8RjT/z+rfbWJbPtA4H/nqxvm0NS4KdXNjhvHL1TcurX+oAK7xUUV/2jjndbPnAN/RuJryenY3Zj8fvzK+dg7wrkZMXtf4GazabACvubFxhew1T2hcBOxwM6u7Ftv04+s8dlUHX8Trgx3+HOB/0fi+zl3nsX/fOAR82Q9UNx3mNQEAALbUcgDXuMDT2mzu6gzwe6vLG7Ory8srGzOn39A4H/R/Vy9bes1va5zj+uTDbMvLGh9J9LmV8d9djF+xMn64AD6+EcA3dPirQD9z8T28+TDb+B+qf7UytvoxSD/dmH3+ayvrbRTA51fPa1w9eVfjUOeLGzPrj1xa75WLr384T2kc/nzGOo89s3HBrbWrQD+vEaqHOnT7VY3Z/Ids8PizGjPDf3Vx/4zGhdJW9xcAAMAx9e4ODOBlyzPA5y1ur3f+6ZmNj/F5euPw5fc1YnjZD1fXt36UrTl/8TVWZxP3LMZXZykPF8BVf2vx3CtW1vtK+z8H+NrGVav/3iG2bc16nwP8sQ4M4Bbb+sUOjP4TF9uyGsAPq/5T45DlmxvB/p7Gx02tOakxA/vwTWzj2xsXwNrI8xZf69bG1baXz9He3fhjxdMX989uRPuX2//ZwmufNbz80UmXNK4IftNiO9/SOK8cAACAGfv5xuHVW+kFjfOpAQAAAAAAAAAAAAAAAAAAAAAAAAAAAAAAAAAAAAAAAAAAAAAAAAAAAAAAdxRySAAAACJJREFUAAAAAAAAAAAAAAAAAAAAAAAAAAAAAAAAAACYrf8PeTpstsn4tOwAAAAASUVORK5CYII=\">"
      ],
      "text/plain": [
       "<IPython.core.display.HTML object>"
      ]
     },
     "metadata": {},
     "output_type": "display_data"
    }
   ],
   "source": [
    "\n",
    "plt.figure(figsize=(12,8))\n",
    "plt.contourf(lon,lat,wind,wlevs,cmap=cmap,norm=norm,boundaries=[0]+wlevs+[150.],extend='both')\n",
    "plt.colorbar()\n",
    "plt.contour(lon,lat,wind,wlevs)\n",
    "plt.figtext(0.5,0.03,'MAX WIND (KTS) '+np.str(wind.max()))\n",
    "#plt.plot(track[:,1],track[:,0],'k') # not the one printed on HWRF site\n",
    "plt.savefig('wind10.png',transparent=True)\n",
    "plt.title(hurName+' '+date)\n",
    "plt.show()"
   ]
  },
  {
   "cell_type": "code",
   "execution_count": 28,
   "metadata": {
    "collapsed": false
   },
   "outputs": [],
   "source": [
    "from osgeo import gdal,gdal_array\n",
    "import osr\n",
    "\n",
    "dataTypeformat={1:np.byte,2:np.int32,3:np.int32,4:np.float32,5:np.float32,6:np.byte}\n",
    "VSType={1:'VS_BOOLEAN',2:'VS_NOMINAL',3:'VS_ORDINAL',4:'VS_SCALAR',5:'VS_DIRECTION',6:'VS_LDD'}\n",
    "\n",
    "def putmap(filename,var,geo,TYPE,nodata):\n",
    "     driver=gdal.GetDriverByName('PCRaster')\n",
    "     varw=var.astype(dataTypeformat[TYPE])\n",
    "     gtype=gdal_array.NumericTypeCodeToGDALTypeCode(varw.dtype)\n",
    "     NROWS,NCOLS = var.shape\n",
    "     VS='PCRASTER_VALUESCALE={}'.format(VSType[TYPE])\n",
    "     dst_ds=driver.Create(filename,NCOLS,NROWS,1,gtype,[VS])\n",
    "     proj=osr.SpatialReference()\n",
    "     proj.ImportFromEPSG(4326)\n",
    "     dst_ds.SetProjection(proj.ExportToWkt())\n",
    "     dst_ds.SetGeoTransform(geo)\n",
    "     dst_ds.GetRasterBand(1).WriteArray(varw)\n",
    "     dst_ds.GetRasterBand(1).SetNoDataValue(nodata)\n",
    "     dst_ds.FlushCache()\n",
    "     dst_ds=None\n",
    "     return\n"
   ]
  },
  {
   "cell_type": "code",
   "execution_count": 29,
   "metadata": {
    "collapsed": true
   },
   "outputs": [],
   "source": [
    "SAVEPATH='/mnt/pandora/Users_Critech/Pamela/'\n",
    "SAVEPATH='tmp/'"
   ]
  },
  {
   "cell_type": "code",
   "execution_count": 30,
   "metadata": {
    "collapsed": false
   },
   "outputs": [
    {
     "name": "stdout",
     "output_type": "stream",
     "text": [
      "0.05\n"
     ]
    }
   ],
   "source": [
    "TYPE=4     \n",
    "dd=lon[0,1]-lon[0,0]\n",
    "print dd\n",
    "geo=(lon.min(),dd,0,lat.max(),0, -dd)  \n",
    "nodata=-9999.\n",
    "putmap(SAVEPATH+'wind10m'+hurName+date+'.tif',np.flipud(wind),geo,TYPE,nodata)\n"
   ]
  },
  {
   "cell_type": "code",
   "execution_count": null,
   "metadata": {
    "collapsed": true
   },
   "outputs": [],
   "source": []
  }
 ],
 "metadata": {
  "kernelspec": {
   "display_name": "Python 2",
   "language": "python",
   "name": "python2"
  },
  "language_info": {
   "codemirror_mode": {
    "name": "ipython",
    "version": 2
   },
   "file_extension": ".py",
   "mimetype": "text/x-python",
   "name": "python",
   "nbconvert_exporter": "python",
   "pygments_lexer": "ipython2",
   "version": "2.7.11+"
  },
  "widgets": {
   "state": {},
   "version": "1.1.1"
  }
 },
 "nbformat": 4,
 "nbformat_minor": 0
}
