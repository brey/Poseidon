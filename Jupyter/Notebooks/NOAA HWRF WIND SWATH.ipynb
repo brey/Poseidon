{
 "cells": [
  {
   "cell_type": "code",
   "execution_count": 1,
   "metadata": {
    "collapsed": true
   },
   "outputs": [],
   "source": [
    "# This a quick way to visualize the latest Hurricane wind data from HWRF "
   ]
  },
  {
   "cell_type": "code",
   "execution_count": 1,
   "metadata": {
    "collapsed": false
   },
   "outputs": [],
   "source": [
    "#Import the neccessary modules\n",
    "\n",
    "import numpy as np\n",
    "from notebook import *\n",
    "from ipywidgets import *\n",
    "import matplotlib.pyplot as plt\n",
    "import matplotlib as mpl\n",
    "import datetime\n",
    "from mpl_toolkits.basemap import Basemap, shiftgrid\n",
    "import glob\n",
    "import urllib2,urllib\n",
    "import os\n",
    "import pandas\n",
    "%matplotlib notebook"
   ]
  },
  {
   "cell_type": "code",
   "execution_count": 2,
   "metadata": {
    "collapsed": false
   },
   "outputs": [],
   "source": [
    "#Lookup the ftp server for the latest folder\n",
    "path0='ftp://ftp.ncep.noaa.gov/pub/data/nccf/com/hur/prod/'\n",
    "response=urllib2.urlopen(path0)\n",
    "ls=response.readlines()\n",
    "lp=[elem.strip() for elem in ls]\n"
   ]
  },
  {
   "cell_type": "code",
   "execution_count": 3,
   "metadata": {
    "collapsed": false
   },
   "outputs": [],
   "source": [
    "#choose the 4th folder (the latest) and isolate the name\n",
    "fpath=lp[3].split()[-1]"
   ]
  },
  {
   "cell_type": "code",
   "execution_count": 4,
   "metadata": {
    "collapsed": false
   },
   "outputs": [],
   "source": [
    "# parse the folder \n",
    "fresponse=urllib2.urlopen(path0+fpath)\n",
    "fls=fresponse.readlines()\n",
    "flp=[elem.strip() for elem in fls]\n"
   ]
  },
  {
   "cell_type": "code",
   "execution_count": 5,
   "metadata": {
    "collapsed": false
   },
   "outputs": [
    {
     "data": {
      "text/plain": [
       "[534, 1064, 1594, 2124]"
      ]
     },
     "execution_count": 5,
     "metadata": {},
     "output_type": "execute_result"
    }
   ],
   "source": [
    "w=['wind10m' in e for e in flp]\n",
    "\n",
    "indx=[i for i, x in enumerate(w) if x]\n",
    "\n",
    "indx"
   ]
  },
  {
   "cell_type": "markdown",
   "metadata": {},
   "source": [
    "If it is more than one hur we choose ..."
   ]
  },
  {
   "cell_type": "code",
   "execution_count": 9,
   "metadata": {
    "collapsed": false
   },
   "outputs": [
    {
     "data": {
      "text/plain": [
       "'haima25w.2016102100.wind10m.ascii'"
      ]
     },
     "execution_count": 9,
     "metadata": {},
     "output_type": "execute_result"
    }
   ],
   "source": [
    "i=0 # change this one \n",
    "fname=flp[indx[i]].split()[-1]\n",
    "fname"
   ]
  },
  {
   "cell_type": "code",
   "execution_count": 10,
   "metadata": {
    "collapsed": false
   },
   "outputs": [],
   "source": [
    "#get hur name\n",
    "hurName=fname.split('.')[0]\n",
    "date=fname.split('.')[1]"
   ]
  },
  {
   "cell_type": "code",
   "execution_count": 11,
   "metadata": {
    "collapsed": false
   },
   "outputs": [],
   "source": [
    "# retrieve file\n",
    "try:\n",
    "    urllib.urlretrieve(path0+fpath+'/'+fname, filename='tmp/wind10m.txt')\n",
    "except:\n",
    "    print 'no such file'"
   ]
  },
  {
   "cell_type": "code",
   "execution_count": 12,
   "metadata": {
    "collapsed": false
   },
   "outputs": [],
   "source": [
    "#read file\n",
    "r=pandas.read_csv('tmp/wind10m.txt',header=0)"
   ]
  },
  {
   "cell_type": "markdown",
   "metadata": {},
   "source": [
    "The file has a header and in the end the track of the Hurricane. So we sort things out"
   ]
  },
  {
   "cell_type": "markdown",
   "metadata": {},
   "source": [
    "We find the number of points included in the track"
   ]
  },
  {
   "cell_type": "code",
   "execution_count": 13,
   "metadata": {
    "collapsed": false
   },
   "outputs": [
    {
     "name": "stderr",
     "output_type": "stream",
     "text": [
      "/usr/local/lib/python2.7/dist-packages/ipykernel/__main__.py:1: FutureWarning: convert_objects is deprecated.  Use the data-type specific converters pd.to_datetime, pd.to_timedelta and pd.to_numeric.\n",
      "  if __name__ == '__main__':\n"
     ]
    }
   ],
   "source": [
    "ntr=r.convert_objects(convert_numeric=True).dropna()"
   ]
  },
  {
   "cell_type": "code",
   "execution_count": 14,
   "metadata": {
    "collapsed": false
   },
   "outputs": [
    {
     "data": {
      "text/html": [
       "<div>\n",
       "<table border=\"1\" class=\"dataframe\">\n",
       "  <thead>\n",
       "    <tr style=\"text-align: right;\">\n",
       "      <th></th>\n",
       "      <th>99.60   156.25     7.85    45.75     0.05 1134  759</th>\n",
       "    </tr>\n",
       "  </thead>\n",
       "  <tbody>\n",
       "    <tr>\n",
       "      <th>860707</th>\n",
       "      <td>114.0</td>\n",
       "    </tr>\n",
       "  </tbody>\n",
       "</table>\n",
       "</div>"
      ],
      "text/plain": [
       "            99.60   156.25     7.85    45.75     0.05 1134  759\n",
       "860707                                              114.0      "
      ]
     },
     "execution_count": 14,
     "metadata": {},
     "output_type": "execute_result"
    }
   ],
   "source": [
    "ntr"
   ]
  },
  {
   "cell_type": "markdown",
   "metadata": {},
   "source": [
    "Now the values below line (see index on the left) is the track and above is the lat,lon, so"
   ]
  },
  {
   "cell_type": "code",
   "execution_count": 15,
   "metadata": {
    "collapsed": false
   },
   "outputs": [],
   "source": [
    "h=r.columns[0].split() # header"
   ]
  },
  {
   "cell_type": "code",
   "execution_count": 16,
   "metadata": {
    "collapsed": false
   },
   "outputs": [
    {
     "data": {
      "text/plain": [
       "860707"
      ]
     },
     "execution_count": 16,
     "metadata": {},
     "output_type": "execute_result"
    }
   ],
   "source": [
    "ntr.index[0]"
   ]
  },
  {
   "cell_type": "code",
   "execution_count": 17,
   "metadata": {
    "collapsed": false
   },
   "outputs": [],
   "source": [
    "tra=r[ntr.index[0]+1:]"
   ]
  },
  {
   "cell_type": "code",
   "execution_count": 18,
   "metadata": {
    "collapsed": false
   },
   "outputs": [],
   "source": [
    "tr=[]\n",
    "for x in tra.values.ravel():\n",
    "    tr.append(x.split())"
   ]
  },
  {
   "cell_type": "code",
   "execution_count": 19,
   "metadata": {
    "collapsed": false
   },
   "outputs": [],
   "source": [
    "track=np.array(tr).astype(float)"
   ]
  },
  {
   "cell_type": "code",
   "execution_count": 20,
   "metadata": {
    "collapsed": true
   },
   "outputs": [],
   "source": [
    "dat=r[:ntr.index[0]] "
   ]
  },
  {
   "cell_type": "code",
   "execution_count": 21,
   "metadata": {
    "collapsed": false
   },
   "outputs": [],
   "source": [
    "#s=data[data.columns[0]].apply(lambda x: pandas.Series(x.split(',')))"
   ]
  },
  {
   "cell_type": "code",
   "execution_count": 22,
   "metadata": {
    "collapsed": false
   },
   "outputs": [],
   "source": [
    "data=[]\n",
    "for x in dat.values.ravel():\n",
    "    data.append(x.split())"
   ]
  },
  {
   "cell_type": "code",
   "execution_count": 23,
   "metadata": {
    "collapsed": false
   },
   "outputs": [],
   "source": [
    "d=np.array(data)"
   ]
  },
  {
   "cell_type": "code",
   "execution_count": 24,
   "metadata": {
    "collapsed": false
   },
   "outputs": [],
   "source": [
    "lat=d[:-1,0].astype(float)\n",
    "lon=d[:-1,1].astype(float)\n",
    "windf=d[:-1,2].astype(float)"
   ]
  },
  {
   "cell_type": "code",
   "execution_count": 25,
   "metadata": {
    "collapsed": false
   },
   "outputs": [],
   "source": [
    "ni,nj=np.int(h[-1]),np.int(h[-2])"
   ]
  },
  {
   "cell_type": "code",
   "execution_count": 26,
   "metadata": {
    "collapsed": false
   },
   "outputs": [
    {
     "data": {
      "text/plain": [
       "(759, 1134)"
      ]
     },
     "execution_count": 26,
     "metadata": {},
     "output_type": "execute_result"
    }
   ],
   "source": [
    "ni,nj"
   ]
  },
  {
   "cell_type": "markdown",
   "metadata": {},
   "source": [
    "Reshape data to the shape given in the header"
   ]
  },
  {
   "cell_type": "code",
   "execution_count": 27,
   "metadata": {
    "collapsed": false
   },
   "outputs": [],
   "source": [
    "lat=lat.reshape(ni,nj) # the last 2 values of the header define grid size\n",
    "lon=lon.reshape(ni,nj)\n",
    "windf=windf.reshape(ni,nj)"
   ]
  },
  {
   "cell_type": "code",
   "execution_count": 28,
   "metadata": {
    "collapsed": false
   },
   "outputs": [
    {
     "data": {
      "text/plain": [
       "array([[  99.6 ,   99.65,   99.7 , ...,  156.15,  156.2 ,  156.25],\n",
       "       [  99.6 ,   99.65,   99.7 , ...,  156.15,  156.2 ,  156.25],\n",
       "       [  99.6 ,   99.65,   99.7 , ...,  156.15,  156.2 ,  156.25],\n",
       "       ..., \n",
       "       [  99.6 ,   99.65,   99.7 , ...,  156.15,  156.2 ,  156.25],\n",
       "       [  99.6 ,   99.65,   99.7 , ...,  156.15,  156.2 ,  156.25],\n",
       "       [  99.6 ,   99.65,   99.7 , ...,  156.15,  156.2 ,  156.25]])"
      ]
     },
     "execution_count": 28,
     "metadata": {},
     "output_type": "execute_result"
    }
   ],
   "source": [
    "lon"
   ]
  },
  {
   "cell_type": "markdown",
   "metadata": {},
   "source": [
    "In order to make the plot better we can mask the NaN values (in this case -999.)"
   ]
  },
  {
   "cell_type": "code",
   "execution_count": 29,
   "metadata": {
    "collapsed": false
   },
   "outputs": [],
   "source": [
    "wind=np.ma.masked_where(windf == -999., windf)"
   ]
  },
  {
   "cell_type": "code",
   "execution_count": 30,
   "metadata": {
    "collapsed": false
   },
   "outputs": [],
   "source": [
    "#Define a personal cmap\n",
    "\n",
    "wlevs = [30.,34.,50.,64.,83.,96.,114.,135.] #specify color map to match NOAA's HWRF\n",
    "mwind=np.max(wlevs)\n",
    "colors=['c','green','darkgreen','yellow','orange','r','brown']\n",
    "cmap=mpl.colors.ListedColormap(colors)\n",
    "norm=mpl.colors.BoundaryNorm(wlevs,cmap.N)\n",
    "\n",
    "cmap.set_over(mpl.colors.colorConverter.to_rgb('m'))\n",
    "cmap.set_under(mpl.colors.colorConverter.to_rgb('w'))"
   ]
  },
  {
   "cell_type": "markdown",
   "metadata": {},
   "source": [
    "plot the figure"
   ]
  },
  {
   "cell_type": "code",
   "execution_count": 31,
   "metadata": {
    "collapsed": false,
    "scrolled": true
   },
   "outputs": [
    {
     "data": {
      "application/javascript": [
       "/* Put everything inside the global mpl namespace */\n",
       "window.mpl = {};\n",
       "\n",
       "mpl.get_websocket_type = function() {\n",
       "    if (typeof(WebSocket) !== 'undefined') {\n",
       "        return WebSocket;\n",
       "    } else if (typeof(MozWebSocket) !== 'undefined') {\n",
       "        return MozWebSocket;\n",
       "    } else {\n",
       "        alert('Your browser does not have WebSocket support.' +\n",
       "              'Please try Chrome, Safari or Firefox ≥ 6. ' +\n",
       "              'Firefox 4 and 5 are also supported but you ' +\n",
       "              'have to enable WebSockets in about:config.');\n",
       "    };\n",
       "}\n",
       "\n",
       "mpl.figure = function(figure_id, websocket, ondownload, parent_element) {\n",
       "    this.id = figure_id;\n",
       "\n",
       "    this.ws = websocket;\n",
       "\n",
       "    this.supports_binary = (this.ws.binaryType != undefined);\n",
       "\n",
       "    if (!this.supports_binary) {\n",
       "        var warnings = document.getElementById(\"mpl-warnings\");\n",
       "        if (warnings) {\n",
       "            warnings.style.display = 'block';\n",
       "            warnings.textContent = (\n",
       "                \"This browser does not support binary websocket messages. \" +\n",
       "                    \"Performance may be slow.\");\n",
       "        }\n",
       "    }\n",
       "\n",
       "    this.imageObj = new Image();\n",
       "\n",
       "    this.context = undefined;\n",
       "    this.message = undefined;\n",
       "    this.canvas = undefined;\n",
       "    this.rubberband_canvas = undefined;\n",
       "    this.rubberband_context = undefined;\n",
       "    this.format_dropdown = undefined;\n",
       "\n",
       "    this.image_mode = 'full';\n",
       "\n",
       "    this.root = $('<div/>');\n",
       "    this._root_extra_style(this.root)\n",
       "    this.root.attr('style', 'display: inline-block');\n",
       "\n",
       "    $(parent_element).append(this.root);\n",
       "\n",
       "    this._init_header(this);\n",
       "    this._init_canvas(this);\n",
       "    this._init_toolbar(this);\n",
       "\n",
       "    var fig = this;\n",
       "\n",
       "    this.waiting = false;\n",
       "\n",
       "    this.ws.onopen =  function () {\n",
       "            fig.send_message(\"supports_binary\", {value: fig.supports_binary});\n",
       "            fig.send_message(\"send_image_mode\", {});\n",
       "            fig.send_message(\"refresh\", {});\n",
       "        }\n",
       "\n",
       "    this.imageObj.onload = function() {\n",
       "            if (fig.image_mode == 'full') {\n",
       "                // Full images could contain transparency (where diff images\n",
       "                // almost always do), so we need to clear the canvas so that\n",
       "                // there is no ghosting.\n",
       "                fig.context.clearRect(0, 0, fig.canvas.width, fig.canvas.height);\n",
       "            }\n",
       "            fig.context.drawImage(fig.imageObj, 0, 0);\n",
       "        };\n",
       "\n",
       "    this.imageObj.onunload = function() {\n",
       "        this.ws.close();\n",
       "    }\n",
       "\n",
       "    this.ws.onmessage = this._make_on_message_function(this);\n",
       "\n",
       "    this.ondownload = ondownload;\n",
       "}\n",
       "\n",
       "mpl.figure.prototype._init_header = function() {\n",
       "    var titlebar = $(\n",
       "        '<div class=\"ui-dialog-titlebar ui-widget-header ui-corner-all ' +\n",
       "        'ui-helper-clearfix\"/>');\n",
       "    var titletext = $(\n",
       "        '<div class=\"ui-dialog-title\" style=\"width: 100%; ' +\n",
       "        'text-align: center; padding: 3px;\"/>');\n",
       "    titlebar.append(titletext)\n",
       "    this.root.append(titlebar);\n",
       "    this.header = titletext[0];\n",
       "}\n",
       "\n",
       "\n",
       "\n",
       "mpl.figure.prototype._canvas_extra_style = function(canvas_div) {\n",
       "\n",
       "}\n",
       "\n",
       "\n",
       "mpl.figure.prototype._root_extra_style = function(canvas_div) {\n",
       "\n",
       "}\n",
       "\n",
       "mpl.figure.prototype._init_canvas = function() {\n",
       "    var fig = this;\n",
       "\n",
       "    var canvas_div = $('<div/>');\n",
       "\n",
       "    canvas_div.attr('style', 'position: relative; clear: both; outline: 0');\n",
       "\n",
       "    function canvas_keyboard_event(event) {\n",
       "        return fig.key_event(event, event['data']);\n",
       "    }\n",
       "\n",
       "    canvas_div.keydown('key_press', canvas_keyboard_event);\n",
       "    canvas_div.keyup('key_release', canvas_keyboard_event);\n",
       "    this.canvas_div = canvas_div\n",
       "    this._canvas_extra_style(canvas_div)\n",
       "    this.root.append(canvas_div);\n",
       "\n",
       "    var canvas = $('<canvas/>');\n",
       "    canvas.addClass('mpl-canvas');\n",
       "    canvas.attr('style', \"left: 0; top: 0; z-index: 0; outline: 0\")\n",
       "\n",
       "    this.canvas = canvas[0];\n",
       "    this.context = canvas[0].getContext(\"2d\");\n",
       "\n",
       "    var rubberband = $('<canvas/>');\n",
       "    rubberband.attr('style', \"position: absolute; left: 0; top: 0; z-index: 1;\")\n",
       "\n",
       "    var pass_mouse_events = true;\n",
       "\n",
       "    canvas_div.resizable({\n",
       "        start: function(event, ui) {\n",
       "            pass_mouse_events = false;\n",
       "        },\n",
       "        resize: function(event, ui) {\n",
       "            fig.request_resize(ui.size.width, ui.size.height);\n",
       "        },\n",
       "        stop: function(event, ui) {\n",
       "            pass_mouse_events = true;\n",
       "            fig.request_resize(ui.size.width, ui.size.height);\n",
       "        },\n",
       "    });\n",
       "\n",
       "    function mouse_event_fn(event) {\n",
       "        if (pass_mouse_events)\n",
       "            return fig.mouse_event(event, event['data']);\n",
       "    }\n",
       "\n",
       "    rubberband.mousedown('button_press', mouse_event_fn);\n",
       "    rubberband.mouseup('button_release', mouse_event_fn);\n",
       "    // Throttle sequential mouse events to 1 every 20ms.\n",
       "    rubberband.mousemove('motion_notify', mouse_event_fn);\n",
       "\n",
       "    rubberband.mouseenter('figure_enter', mouse_event_fn);\n",
       "    rubberband.mouseleave('figure_leave', mouse_event_fn);\n",
       "\n",
       "    canvas_div.on(\"wheel\", function (event) {\n",
       "        event = event.originalEvent;\n",
       "        event['data'] = 'scroll'\n",
       "        if (event.deltaY < 0) {\n",
       "            event.step = 1;\n",
       "        } else {\n",
       "            event.step = -1;\n",
       "        }\n",
       "        mouse_event_fn(event);\n",
       "    });\n",
       "\n",
       "    canvas_div.append(canvas);\n",
       "    canvas_div.append(rubberband);\n",
       "\n",
       "    this.rubberband = rubberband;\n",
       "    this.rubberband_canvas = rubberband[0];\n",
       "    this.rubberband_context = rubberband[0].getContext(\"2d\");\n",
       "    this.rubberband_context.strokeStyle = \"#000000\";\n",
       "\n",
       "    this._resize_canvas = function(width, height) {\n",
       "        // Keep the size of the canvas, canvas container, and rubber band\n",
       "        // canvas in synch.\n",
       "        canvas_div.css('width', width)\n",
       "        canvas_div.css('height', height)\n",
       "\n",
       "        canvas.attr('width', width);\n",
       "        canvas.attr('height', height);\n",
       "\n",
       "        rubberband.attr('width', width);\n",
       "        rubberband.attr('height', height);\n",
       "    }\n",
       "\n",
       "    // Set the figure to an initial 600x600px, this will subsequently be updated\n",
       "    // upon first draw.\n",
       "    this._resize_canvas(600, 600);\n",
       "\n",
       "    // Disable right mouse context menu.\n",
       "    $(this.rubberband_canvas).bind(\"contextmenu\",function(e){\n",
       "        return false;\n",
       "    });\n",
       "\n",
       "    function set_focus () {\n",
       "        canvas.focus();\n",
       "        canvas_div.focus();\n",
       "    }\n",
       "\n",
       "    window.setTimeout(set_focus, 100);\n",
       "}\n",
       "\n",
       "mpl.figure.prototype._init_toolbar = function() {\n",
       "    var fig = this;\n",
       "\n",
       "    var nav_element = $('<div/>')\n",
       "    nav_element.attr('style', 'width: 100%');\n",
       "    this.root.append(nav_element);\n",
       "\n",
       "    // Define a callback function for later on.\n",
       "    function toolbar_event(event) {\n",
       "        return fig.toolbar_button_onclick(event['data']);\n",
       "    }\n",
       "    function toolbar_mouse_event(event) {\n",
       "        return fig.toolbar_button_onmouseover(event['data']);\n",
       "    }\n",
       "\n",
       "    for(var toolbar_ind in mpl.toolbar_items) {\n",
       "        var name = mpl.toolbar_items[toolbar_ind][0];\n",
       "        var tooltip = mpl.toolbar_items[toolbar_ind][1];\n",
       "        var image = mpl.toolbar_items[toolbar_ind][2];\n",
       "        var method_name = mpl.toolbar_items[toolbar_ind][3];\n",
       "\n",
       "        if (!name) {\n",
       "            // put a spacer in here.\n",
       "            continue;\n",
       "        }\n",
       "        var button = $('<button/>');\n",
       "        button.addClass('ui-button ui-widget ui-state-default ui-corner-all ' +\n",
       "                        'ui-button-icon-only');\n",
       "        button.attr('role', 'button');\n",
       "        button.attr('aria-disabled', 'false');\n",
       "        button.click(method_name, toolbar_event);\n",
       "        button.mouseover(tooltip, toolbar_mouse_event);\n",
       "\n",
       "        var icon_img = $('<span/>');\n",
       "        icon_img.addClass('ui-button-icon-primary ui-icon');\n",
       "        icon_img.addClass(image);\n",
       "        icon_img.addClass('ui-corner-all');\n",
       "\n",
       "        var tooltip_span = $('<span/>');\n",
       "        tooltip_span.addClass('ui-button-text');\n",
       "        tooltip_span.html(tooltip);\n",
       "\n",
       "        button.append(icon_img);\n",
       "        button.append(tooltip_span);\n",
       "\n",
       "        nav_element.append(button);\n",
       "    }\n",
       "\n",
       "    var fmt_picker_span = $('<span/>');\n",
       "\n",
       "    var fmt_picker = $('<select/>');\n",
       "    fmt_picker.addClass('mpl-toolbar-option ui-widget ui-widget-content');\n",
       "    fmt_picker_span.append(fmt_picker);\n",
       "    nav_element.append(fmt_picker_span);\n",
       "    this.format_dropdown = fmt_picker[0];\n",
       "\n",
       "    for (var ind in mpl.extensions) {\n",
       "        var fmt = mpl.extensions[ind];\n",
       "        var option = $(\n",
       "            '<option/>', {selected: fmt === mpl.default_extension}).html(fmt);\n",
       "        fmt_picker.append(option)\n",
       "    }\n",
       "\n",
       "    // Add hover states to the ui-buttons\n",
       "    $( \".ui-button\" ).hover(\n",
       "        function() { $(this).addClass(\"ui-state-hover\");},\n",
       "        function() { $(this).removeClass(\"ui-state-hover\");}\n",
       "    );\n",
       "\n",
       "    var status_bar = $('<span class=\"mpl-message\"/>');\n",
       "    nav_element.append(status_bar);\n",
       "    this.message = status_bar[0];\n",
       "}\n",
       "\n",
       "mpl.figure.prototype.request_resize = function(x_pixels, y_pixels) {\n",
       "    // Request matplotlib to resize the figure. Matplotlib will then trigger a resize in the client,\n",
       "    // which will in turn request a refresh of the image.\n",
       "    this.send_message('resize', {'width': x_pixels, 'height': y_pixels});\n",
       "}\n",
       "\n",
       "mpl.figure.prototype.send_message = function(type, properties) {\n",
       "    properties['type'] = type;\n",
       "    properties['figure_id'] = this.id;\n",
       "    this.ws.send(JSON.stringify(properties));\n",
       "}\n",
       "\n",
       "mpl.figure.prototype.send_draw_message = function() {\n",
       "    if (!this.waiting) {\n",
       "        this.waiting = true;\n",
       "        this.ws.send(JSON.stringify({type: \"draw\", figure_id: this.id}));\n",
       "    }\n",
       "}\n",
       "\n",
       "\n",
       "mpl.figure.prototype.handle_save = function(fig, msg) {\n",
       "    var format_dropdown = fig.format_dropdown;\n",
       "    var format = format_dropdown.options[format_dropdown.selectedIndex].value;\n",
       "    fig.ondownload(fig, format);\n",
       "}\n",
       "\n",
       "\n",
       "mpl.figure.prototype.handle_resize = function(fig, msg) {\n",
       "    var size = msg['size'];\n",
       "    if (size[0] != fig.canvas.width || size[1] != fig.canvas.height) {\n",
       "        fig._resize_canvas(size[0], size[1]);\n",
       "        fig.send_message(\"refresh\", {});\n",
       "    };\n",
       "}\n",
       "\n",
       "mpl.figure.prototype.handle_rubberband = function(fig, msg) {\n",
       "    var x0 = msg['x0'];\n",
       "    var y0 = fig.canvas.height - msg['y0'];\n",
       "    var x1 = msg['x1'];\n",
       "    var y1 = fig.canvas.height - msg['y1'];\n",
       "    x0 = Math.floor(x0) + 0.5;\n",
       "    y0 = Math.floor(y0) + 0.5;\n",
       "    x1 = Math.floor(x1) + 0.5;\n",
       "    y1 = Math.floor(y1) + 0.5;\n",
       "    var min_x = Math.min(x0, x1);\n",
       "    var min_y = Math.min(y0, y1);\n",
       "    var width = Math.abs(x1 - x0);\n",
       "    var height = Math.abs(y1 - y0);\n",
       "\n",
       "    fig.rubberband_context.clearRect(\n",
       "        0, 0, fig.canvas.width, fig.canvas.height);\n",
       "\n",
       "    fig.rubberband_context.strokeRect(min_x, min_y, width, height);\n",
       "}\n",
       "\n",
       "mpl.figure.prototype.handle_figure_label = function(fig, msg) {\n",
       "    // Updates the figure title.\n",
       "    fig.header.textContent = msg['label'];\n",
       "}\n",
       "\n",
       "mpl.figure.prototype.handle_cursor = function(fig, msg) {\n",
       "    var cursor = msg['cursor'];\n",
       "    switch(cursor)\n",
       "    {\n",
       "    case 0:\n",
       "        cursor = 'pointer';\n",
       "        break;\n",
       "    case 1:\n",
       "        cursor = 'default';\n",
       "        break;\n",
       "    case 2:\n",
       "        cursor = 'crosshair';\n",
       "        break;\n",
       "    case 3:\n",
       "        cursor = 'move';\n",
       "        break;\n",
       "    }\n",
       "    fig.rubberband_canvas.style.cursor = cursor;\n",
       "}\n",
       "\n",
       "mpl.figure.prototype.handle_message = function(fig, msg) {\n",
       "    fig.message.textContent = msg['message'];\n",
       "}\n",
       "\n",
       "mpl.figure.prototype.handle_draw = function(fig, msg) {\n",
       "    // Request the server to send over a new figure.\n",
       "    fig.send_draw_message();\n",
       "}\n",
       "\n",
       "mpl.figure.prototype.handle_image_mode = function(fig, msg) {\n",
       "    fig.image_mode = msg['mode'];\n",
       "}\n",
       "\n",
       "mpl.figure.prototype.updated_canvas_event = function() {\n",
       "    // Called whenever the canvas gets updated.\n",
       "    this.send_message(\"ack\", {});\n",
       "}\n",
       "\n",
       "// A function to construct a web socket function for onmessage handling.\n",
       "// Called in the figure constructor.\n",
       "mpl.figure.prototype._make_on_message_function = function(fig) {\n",
       "    return function socket_on_message(evt) {\n",
       "        if (evt.data instanceof Blob) {\n",
       "            /* FIXME: We get \"Resource interpreted as Image but\n",
       "             * transferred with MIME type text/plain:\" errors on\n",
       "             * Chrome.  But how to set the MIME type?  It doesn't seem\n",
       "             * to be part of the websocket stream */\n",
       "            evt.data.type = \"image/png\";\n",
       "\n",
       "            /* Free the memory for the previous frames */\n",
       "            if (fig.imageObj.src) {\n",
       "                (window.URL || window.webkitURL).revokeObjectURL(\n",
       "                    fig.imageObj.src);\n",
       "            }\n",
       "\n",
       "            fig.imageObj.src = (window.URL || window.webkitURL).createObjectURL(\n",
       "                evt.data);\n",
       "            fig.updated_canvas_event();\n",
       "            fig.waiting = false;\n",
       "            return;\n",
       "        }\n",
       "        else if (typeof evt.data === 'string' && evt.data.slice(0, 21) == \"data:image/png;base64\") {\n",
       "            fig.imageObj.src = evt.data;\n",
       "            fig.updated_canvas_event();\n",
       "            fig.waiting = false;\n",
       "            return;\n",
       "        }\n",
       "\n",
       "        var msg = JSON.parse(evt.data);\n",
       "        var msg_type = msg['type'];\n",
       "\n",
       "        // Call the  \"handle_{type}\" callback, which takes\n",
       "        // the figure and JSON message as its only arguments.\n",
       "        try {\n",
       "            var callback = fig[\"handle_\" + msg_type];\n",
       "        } catch (e) {\n",
       "            console.log(\"No handler for the '\" + msg_type + \"' message type: \", msg);\n",
       "            return;\n",
       "        }\n",
       "\n",
       "        if (callback) {\n",
       "            try {\n",
       "                // console.log(\"Handling '\" + msg_type + \"' message: \", msg);\n",
       "                callback(fig, msg);\n",
       "            } catch (e) {\n",
       "                console.log(\"Exception inside the 'handler_\" + msg_type + \"' callback:\", e, e.stack, msg);\n",
       "            }\n",
       "        }\n",
       "    };\n",
       "}\n",
       "\n",
       "// from http://stackoverflow.com/questions/1114465/getting-mouse-location-in-canvas\n",
       "mpl.findpos = function(e) {\n",
       "    //this section is from http://www.quirksmode.org/js/events_properties.html\n",
       "    var targ;\n",
       "    if (!e)\n",
       "        e = window.event;\n",
       "    if (e.target)\n",
       "        targ = e.target;\n",
       "    else if (e.srcElement)\n",
       "        targ = e.srcElement;\n",
       "    if (targ.nodeType == 3) // defeat Safari bug\n",
       "        targ = targ.parentNode;\n",
       "\n",
       "    // jQuery normalizes the pageX and pageY\n",
       "    // pageX,Y are the mouse positions relative to the document\n",
       "    // offset() returns the position of the element relative to the document\n",
       "    var x = e.pageX - $(targ).offset().left;\n",
       "    var y = e.pageY - $(targ).offset().top;\n",
       "\n",
       "    return {\"x\": x, \"y\": y};\n",
       "};\n",
       "\n",
       "/*\n",
       " * return a copy of an object with only non-object keys\n",
       " * we need this to avoid circular references\n",
       " * http://stackoverflow.com/a/24161582/3208463\n",
       " */\n",
       "function simpleKeys (original) {\n",
       "  return Object.keys(original).reduce(function (obj, key) {\n",
       "    if (typeof original[key] !== 'object')\n",
       "        obj[key] = original[key]\n",
       "    return obj;\n",
       "  }, {});\n",
       "}\n",
       "\n",
       "mpl.figure.prototype.mouse_event = function(event, name) {\n",
       "    var canvas_pos = mpl.findpos(event)\n",
       "\n",
       "    if (name === 'button_press')\n",
       "    {\n",
       "        this.canvas.focus();\n",
       "        this.canvas_div.focus();\n",
       "    }\n",
       "\n",
       "    var x = canvas_pos.x;\n",
       "    var y = canvas_pos.y;\n",
       "\n",
       "    this.send_message(name, {x: x, y: y, button: event.button,\n",
       "                             step: event.step,\n",
       "                             guiEvent: simpleKeys(event)});\n",
       "\n",
       "    /* This prevents the web browser from automatically changing to\n",
       "     * the text insertion cursor when the button is pressed.  We want\n",
       "     * to control all of the cursor setting manually through the\n",
       "     * 'cursor' event from matplotlib */\n",
       "    event.preventDefault();\n",
       "    return false;\n",
       "}\n",
       "\n",
       "mpl.figure.prototype._key_event_extra = function(event, name) {\n",
       "    // Handle any extra behaviour associated with a key event\n",
       "}\n",
       "\n",
       "mpl.figure.prototype.key_event = function(event, name) {\n",
       "\n",
       "    // Prevent repeat events\n",
       "    if (name == 'key_press')\n",
       "    {\n",
       "        if (event.which === this._key)\n",
       "            return;\n",
       "        else\n",
       "            this._key = event.which;\n",
       "    }\n",
       "    if (name == 'key_release')\n",
       "        this._key = null;\n",
       "\n",
       "    var value = '';\n",
       "    if (event.ctrlKey && event.which != 17)\n",
       "        value += \"ctrl+\";\n",
       "    if (event.altKey && event.which != 18)\n",
       "        value += \"alt+\";\n",
       "    if (event.shiftKey && event.which != 16)\n",
       "        value += \"shift+\";\n",
       "\n",
       "    value += 'k';\n",
       "    value += event.which.toString();\n",
       "\n",
       "    this._key_event_extra(event, name);\n",
       "\n",
       "    this.send_message(name, {key: value,\n",
       "                             guiEvent: simpleKeys(event)});\n",
       "    return false;\n",
       "}\n",
       "\n",
       "mpl.figure.prototype.toolbar_button_onclick = function(name) {\n",
       "    if (name == 'download') {\n",
       "        this.handle_save(this, null);\n",
       "    } else {\n",
       "        this.send_message(\"toolbar_button\", {name: name});\n",
       "    }\n",
       "};\n",
       "\n",
       "mpl.figure.prototype.toolbar_button_onmouseover = function(tooltip) {\n",
       "    this.message.textContent = tooltip;\n",
       "};\n",
       "mpl.toolbar_items = [[\"Home\", \"Reset original view\", \"fa fa-home icon-home\", \"home\"], [\"Back\", \"Back to  previous view\", \"fa fa-arrow-left icon-arrow-left\", \"back\"], [\"Forward\", \"Forward to next view\", \"fa fa-arrow-right icon-arrow-right\", \"forward\"], [\"\", \"\", \"\", \"\"], [\"Pan\", \"Pan axes with left mouse, zoom with right\", \"fa fa-arrows icon-move\", \"pan\"], [\"Zoom\", \"Zoom to rectangle\", \"fa fa-square-o icon-check-empty\", \"zoom\"], [\"\", \"\", \"\", \"\"], [\"Download\", \"Download plot\", \"fa fa-floppy-o icon-save\", \"download\"]];\n",
       "\n",
       "mpl.extensions = [\"eps\", \"jpeg\", \"pdf\", \"png\", \"ps\", \"raw\", \"svg\", \"tif\"];\n",
       "\n",
       "mpl.default_extension = \"png\";var comm_websocket_adapter = function(comm) {\n",
       "    // Create a \"websocket\"-like object which calls the given IPython comm\n",
       "    // object with the appropriate methods. Currently this is a non binary\n",
       "    // socket, so there is still some room for performance tuning.\n",
       "    var ws = {};\n",
       "\n",
       "    ws.close = function() {\n",
       "        comm.close()\n",
       "    };\n",
       "    ws.send = function(m) {\n",
       "        //console.log('sending', m);\n",
       "        comm.send(m);\n",
       "    };\n",
       "    // Register the callback with on_msg.\n",
       "    comm.on_msg(function(msg) {\n",
       "        //console.log('receiving', msg['content']['data'], msg);\n",
       "        // Pass the mpl event to the overriden (by mpl) onmessage function.\n",
       "        ws.onmessage(msg['content']['data'])\n",
       "    });\n",
       "    return ws;\n",
       "}\n",
       "\n",
       "mpl.mpl_figure_comm = function(comm, msg) {\n",
       "    // This is the function which gets called when the mpl process\n",
       "    // starts-up an IPython Comm through the \"matplotlib\" channel.\n",
       "\n",
       "    var id = msg.content.data.id;\n",
       "    // Get hold of the div created by the display call when the Comm\n",
       "    // socket was opened in Python.\n",
       "    var element = $(\"#\" + id);\n",
       "    var ws_proxy = comm_websocket_adapter(comm)\n",
       "\n",
       "    function ondownload(figure, format) {\n",
       "        window.open(figure.imageObj.src);\n",
       "    }\n",
       "\n",
       "    var fig = new mpl.figure(id, ws_proxy,\n",
       "                           ondownload,\n",
       "                           element.get(0));\n",
       "\n",
       "    // Call onopen now - mpl needs it, as it is assuming we've passed it a real\n",
       "    // web socket which is closed, not our websocket->open comm proxy.\n",
       "    ws_proxy.onopen();\n",
       "\n",
       "    fig.parent_element = element.get(0);\n",
       "    fig.cell_info = mpl.find_output_cell(\"<div id='\" + id + \"'></div>\");\n",
       "    if (!fig.cell_info) {\n",
       "        console.error(\"Failed to find cell for figure\", id, fig);\n",
       "        return;\n",
       "    }\n",
       "\n",
       "    var output_index = fig.cell_info[2]\n",
       "    var cell = fig.cell_info[0];\n",
       "\n",
       "};\n",
       "\n",
       "mpl.figure.prototype.handle_close = function(fig, msg) {\n",
       "    fig.root.unbind('remove')\n",
       "\n",
       "    // Update the output cell to use the data from the current canvas.\n",
       "    fig.push_to_output();\n",
       "    var dataURL = fig.canvas.toDataURL();\n",
       "    // Re-enable the keyboard manager in IPython - without this line, in FF,\n",
       "    // the notebook keyboard shortcuts fail.\n",
       "    IPython.keyboard_manager.enable()\n",
       "    $(fig.parent_element).html('<img src=\"' + dataURL + '\">');\n",
       "    fig.close_ws(fig, msg);\n",
       "}\n",
       "\n",
       "mpl.figure.prototype.close_ws = function(fig, msg){\n",
       "    fig.send_message('closing', msg);\n",
       "    // fig.ws.close()\n",
       "}\n",
       "\n",
       "mpl.figure.prototype.push_to_output = function(remove_interactive) {\n",
       "    // Turn the data on the canvas into data in the output cell.\n",
       "    var dataURL = this.canvas.toDataURL();\n",
       "    this.cell_info[1]['text/html'] = '<img src=\"' + dataURL + '\">';\n",
       "}\n",
       "\n",
       "mpl.figure.prototype.updated_canvas_event = function() {\n",
       "    // Tell IPython that the notebook contents must change.\n",
       "    IPython.notebook.set_dirty(true);\n",
       "    this.send_message(\"ack\", {});\n",
       "    var fig = this;\n",
       "    // Wait a second, then push the new image to the DOM so\n",
       "    // that it is saved nicely (might be nice to debounce this).\n",
       "    setTimeout(function () { fig.push_to_output() }, 1000);\n",
       "}\n",
       "\n",
       "mpl.figure.prototype._init_toolbar = function() {\n",
       "    var fig = this;\n",
       "\n",
       "    var nav_element = $('<div/>')\n",
       "    nav_element.attr('style', 'width: 100%');\n",
       "    this.root.append(nav_element);\n",
       "\n",
       "    // Define a callback function for later on.\n",
       "    function toolbar_event(event) {\n",
       "        return fig.toolbar_button_onclick(event['data']);\n",
       "    }\n",
       "    function toolbar_mouse_event(event) {\n",
       "        return fig.toolbar_button_onmouseover(event['data']);\n",
       "    }\n",
       "\n",
       "    for(var toolbar_ind in mpl.toolbar_items){\n",
       "        var name = mpl.toolbar_items[toolbar_ind][0];\n",
       "        var tooltip = mpl.toolbar_items[toolbar_ind][1];\n",
       "        var image = mpl.toolbar_items[toolbar_ind][2];\n",
       "        var method_name = mpl.toolbar_items[toolbar_ind][3];\n",
       "\n",
       "        if (!name) { continue; };\n",
       "\n",
       "        var button = $('<button class=\"btn btn-default\" href=\"#\" title=\"' + name + '\"><i class=\"fa ' + image + ' fa-lg\"></i></button>');\n",
       "        button.click(method_name, toolbar_event);\n",
       "        button.mouseover(tooltip, toolbar_mouse_event);\n",
       "        nav_element.append(button);\n",
       "    }\n",
       "\n",
       "    // Add the status bar.\n",
       "    var status_bar = $('<span class=\"mpl-message\" style=\"text-align:right; float: right;\"/>');\n",
       "    nav_element.append(status_bar);\n",
       "    this.message = status_bar[0];\n",
       "\n",
       "    // Add the close button to the window.\n",
       "    var buttongrp = $('<div class=\"btn-group inline pull-right\"></div>');\n",
       "    var button = $('<button class=\"btn btn-mini btn-primary\" href=\"#\" title=\"Stop Interaction\"><i class=\"fa fa-power-off icon-remove icon-large\"></i></button>');\n",
       "    button.click(function (evt) { fig.handle_close(fig, {}); } );\n",
       "    button.mouseover('Stop Interaction', toolbar_mouse_event);\n",
       "    buttongrp.append(button);\n",
       "    var titlebar = this.root.find($('.ui-dialog-titlebar'));\n",
       "    titlebar.prepend(buttongrp);\n",
       "}\n",
       "\n",
       "mpl.figure.prototype._root_extra_style = function(el){\n",
       "    var fig = this\n",
       "    el.on(\"remove\", function(){\n",
       "\tfig.close_ws(fig, {});\n",
       "    });\n",
       "}\n",
       "\n",
       "mpl.figure.prototype._canvas_extra_style = function(el){\n",
       "    // this is important to make the div 'focusable\n",
       "    el.attr('tabindex', 0)\n",
       "    // reach out to IPython and tell the keyboard manager to turn it's self\n",
       "    // off when our div gets focus\n",
       "\n",
       "    // location in version 3\n",
       "    if (IPython.notebook.keyboard_manager) {\n",
       "        IPython.notebook.keyboard_manager.register_events(el);\n",
       "    }\n",
       "    else {\n",
       "        // location in version 2\n",
       "        IPython.keyboard_manager.register_events(el);\n",
       "    }\n",
       "\n",
       "}\n",
       "\n",
       "mpl.figure.prototype._key_event_extra = function(event, name) {\n",
       "    var manager = IPython.notebook.keyboard_manager;\n",
       "    if (!manager)\n",
       "        manager = IPython.keyboard_manager;\n",
       "\n",
       "    // Check for shift+enter\n",
       "    if (event.shiftKey && event.which == 13) {\n",
       "        this.canvas_div.blur();\n",
       "        event.shiftKey = false;\n",
       "        // Send a \"J\" for go to next cell\n",
       "        event.which = 74;\n",
       "        event.keyCode = 74;\n",
       "        manager.command_mode();\n",
       "        manager.handle_keydown(event);\n",
       "    }\n",
       "}\n",
       "\n",
       "mpl.figure.prototype.handle_save = function(fig, msg) {\n",
       "    fig.ondownload(fig, null);\n",
       "}\n",
       "\n",
       "\n",
       "mpl.find_output_cell = function(html_output) {\n",
       "    // Return the cell and output element which can be found *uniquely* in the notebook.\n",
       "    // Note - this is a bit hacky, but it is done because the \"notebook_saving.Notebook\"\n",
       "    // IPython event is triggered only after the cells have been serialised, which for\n",
       "    // our purposes (turning an active figure into a static one), is too late.\n",
       "    var cells = IPython.notebook.get_cells();\n",
       "    var ncells = cells.length;\n",
       "    for (var i=0; i<ncells; i++) {\n",
       "        var cell = cells[i];\n",
       "        if (cell.cell_type === 'code'){\n",
       "            for (var j=0; j<cell.output_area.outputs.length; j++) {\n",
       "                var data = cell.output_area.outputs[j];\n",
       "                if (data.data) {\n",
       "                    // IPython >= 3 moved mimebundle to data attribute of output\n",
       "                    data = data.data;\n",
       "                }\n",
       "                if (data['text/html'] == html_output) {\n",
       "                    return [cell, data, j];\n",
       "                }\n",
       "            }\n",
       "        }\n",
       "    }\n",
       "}\n",
       "\n",
       "// Register the function which deals with the matplotlib target/channel.\n",
       "// The kernel may be null if the page has been refreshed.\n",
       "if (IPython.notebook.kernel != null) {\n",
       "    IPython.notebook.kernel.comm_manager.register_target('matplotlib', mpl.mpl_figure_comm);\n",
       "}\n"
      ],
      "text/plain": [
       "<IPython.core.display.Javascript object>"
      ]
     },
     "metadata": {},
     "output_type": "display_data"
    },
    {
     "data": {
      "text/html": [
       "<img src=\"data:image/png;base64,iVBORw0KGgoAAAANSUhEUgAAA8AAAAKACAYAAABT+RFDAAAgAElEQVR4nOzdd3iUZfr28TNA6EUEdC0IIqiLvetaEF0Ve+8FWURUbFgRBQIJPRDpLYSOCCLSE0hZd3XXd1dWxfITuyIgiNKlJtf7xzUhk0kf0ga+n+O4D8jMM888ZcScc91FAgAAAAAAAAAAAAAAAAAAAAAAAAAAAAAAAAAAAAAAAAAAAAAAAAAAAAAAAAAAAAAAAAAAAAAAAAAAAAAAAAAAAAAAAAAAAAAAAAAAAAAAAAAAAAAAAAAAAAAAAAAAAAAAAAAAAAAAAAAAAAAAAAAAAAAAAAAAAAAAAAAAAAAAAAAAAAAAAAAAAAAAAAAAAAAAAAAAAAAAAAAAAAAAAAAAAAAAAAAAAAAAAAAAAAAAAAAAAAAAAAAAAAAAAAAAAAAAAAAAAAAAAAAAAAAAAAAAAAAAAAAAAAAAAAAAAAAAAAAAAAAAAAAAAAAAAAAAAAAAAAAAAAAAAAAAAAAAAAAAAAAAwMErRlKWpCqltL/2kjIlHVdK+yuuKyRNk/SNpD8Cf46W1CSfbbPyaZmSTi+D46onqaek9yVtlLQp8PebC9j+ksDzf0haJ2mIpJoh25wiaZykDyXtlh97YS6UtDTw3tslfSLprpBt+klKCRxjlqSHCtlfJ0n/J2mXpC8ldQ55viTnfLGkSZI+lbRX0neFvO+xkt6StFnSFklzJTXNZ7vDJCVK+lV+vsslnVrIfgEAAAAcInrJA1RpBeBGks6XFF1K+yuu2ZIWywP4pZL+JulneRCuHbJtljwgnR/SQoNmaThF0lpJcZKukXSVpKTAMTwesu3p8uA7V1LbwDn8LumNkO0ekvRjYLv3VHgAvl4ekidKaif/ouBJ5Q24WyW9Kw+jmfk8n61T4Pk+ktoE/sxU7hBcknPuKenrwDl+ooIDcK3Adisl3RhoKwOP1QrZ9p+SfpKH/Ksl/V0eho8uYN8AAAAADhGlHYArSqN8HrtUHroeDnk8Sx7cykMt5R+sUyX9EPLYPEmrJFUNeuxB+f05s4D9x6rgAFxX0np5Fbm4TlDBFeCqgf0lhTw+UdIG5Rx3Sc452DQVHICfkVeIjw96rHngsWeDHrtZfj0uC3qsvqTfJL1eyHsDAAAAOARkB+CWkhZJ2iYPKT1Ctqshaai8q+o2effcBZJOCtnuYXmACu4C/b083Dwg7zL7h6R/yMNWbUlj5V1lf5EUr9xhvLjvm5+agWN5NeTx4gTgTyWND/q5vvw6/RSy3fuSZhXjWEINkLQn6Odq8usSelw15F2NexWwn8IC8N8Czx1TguMqLABfEtjflSGPXx54vE0R+w4951CFBeBUeWU31N8lZQT9nChpdT7bTZZ/DgEAAAAcwnrJA89KSV3lXWQTAo+1D9quvjwQ3imvrN4sHzO6SdIRQdvlNwb4e3mX3fcl3STpDklr5F1e50kaJA9VvQPv+1gY75ufdoH93RryeJa8S+wuSTskpcnDXbBh8u7T2W4KbJv9ZYHk4X23pEeLOI78/Ft+zbOdFDiuu/PZ9nNJbxawn8IC8ET5eV4beK+98gDfUwVX/AsLwJ0D73VkyONNlH/35lCh5xyqsAC8TtKYfB4fJa9KB7/H0ny2e1F+7KHd4QEAAAAcQrIrwKGBZ6Wk5EJeV0Xe1XWrvHtqtoIC8EZ5l9xsT8lDU3CVVZJWyANpSd83VF15tflT5Q17U+SB+mJJ90n6SF6ZDO42e0vgPLInWUqQ9I68i3KnwGPtAtucWMhx5OfRwOvuCXrsIvn1uDqf7f8pn8gpP4UF4KXyqvLv8m7Cl8krzHtVcLfowgLwK4H3qh7yeFXlX2kPlt85hyosAO+WT9QVKla5q8qrJM3MZ7uOKnk1HAAAAMBBJjsANw55fKakL0Ieu0vSB/Lqa/DsyaODtikoAC8M2ddVgdffHvL4DElfhfG+warKu3NvkU/IVJS68m7f/wh6rKGkfcqpgn8i6Wl5d+3sSakGySfaKonLJe2UTzYV7C/y87oqn9e8p/ACcErgudAvCkbLq9/18nlNYQG4e2B/oROcFRWAL1f+5xyqqADcN5/H45Q7AH8l/wyFekQEYAAAAOCQV9AkWJOUO4zcKA852bMJnyvpbOWdFKmgADw1ZP9tAvu7Ip/3DR5nW9z3zRYlD0B/yINXcY2Sh7RgK+RjRxvJz+k0eRfldYHn/yMPbcV1njyUL1Tuia4k6WSVfhfomYHnQr8EyK5uX5jPawoLwI+p5F2gCzvnUIUF4F9UvC7QH4gu0AAAAAAKUNwAPF3evTRYNXl32rIMwMV932zj5RXBG/N5rjCj5aE5WHzgWO5QTshqIj+/vwSO4W/F3P9p8pmIM+QTW4WKlgfw/CbB2qnwJsF6NfBc65DHbw08fn4+ryksAGfPqh16z7LvZegkWEWdc6jCAnCaclfos2Uo9yRYE5V3ojLJP1dMggUAAAAc4oobgN+WVyKD/U0efMINwJkqOgAX930lH9e6Tz6utyTqyyfpSg95/PrA+yxX7grsp4HHMuVL8RSllbxq/P+Uexx0qHnyccvB9+KBwPucVcBrCgvAp8iP/7mQx8fJJ/TKrxpaWACuJl/uaGLI44nyybaqBT1W3HMOVtQySHuU+3o3DzyW3zJIlwY9Vl8+Bp1lkAAAAIBDXHEDcPYkRkPlofUl+XIzv6lsK8DFfd+XA/ubIOmCkNYiaLvn5VXiewPH0F4+4dcueVU3WD15lTdTuWemHh54r+JUFJvIxxdvlM/GHHpsweNpz5AH07mBc+0YOM/QZZZqycdO3y7prcDxZf98Tsi2SZK2y7sAXylfimiv8i5zdVng9U8Gzm1E0D6DdZZ/yRArv359Aj8HX5+SnHPjoPd5V97VOfvnPwdtV1s+vvcT+YzcN0n6WNLXyh3ko+Szjf8o705+jXyppI1i/C8AAABwyOslDzD5BeBvg36Okoedn+WBKkMe2L5T7opgfgH4O/nMy8EKqwD/GMb7ZgT2l18LDso3yGdV3iCfWOlXeeU1NDhm+0B+fYJnes4eQxtaCc1P9nkW1I4L2f4SeYD7Q15BHSJfzzhYM+VMBFbYuUpele0jv6a75BXmJ/M5zsKuX6hOgf3slHdP73wA55z9RUh+2/UM2e+xkuZI2iwfVzxXea+fJB0mr0pvlH9mlkk6NZ/tAAAAAAAAAAAAAAAAAAAAAAAAAAAAAAAAAAAAAAAAAIQjSr7cRX0ajUaj0Wg0WljtGPnvVJGqhaSTKvogAKA8HCPJaDQajUaj0WgH1CJ1/ewqzdTMjtARJqlGRR8MAJS1+pJs9erVtmXLFtuyZYt16dJl/99plbNxjyp/4x5V/sY9qvyNexQZ7VC/T6tXr84OwPUr+He6cN11hI6wZmpmXdXVKvpgAKCs1ZdkW7ZssWxdu3Y1VG7co8qPe1T5cY8qP+5RZDjU79OWLVsiOQBXyQ6+PdWTKjCAQwIBOAJxjyo/7lHlxz2q/LhHkeFQv08RHoDvOkJHWIpSLE1pVIEBHBLyBODk5OQK/N8IioN7VPlxjyo/7lHlxz2KDIf6fYrgALy/+puhDMtQBlVgABFhnqQsSVcEfm4W+HmbpK1Bf9Yr4PV5AjAAAACKJ4ID8P7qb3YApgoMoLJ7SFKKpEzlDsCZko4v5j4IwAAAAGGK0ACcp/pLFRhAZXespB8Cf+ZXAT6hmPshAAMAAIQpQgNwnuovVWAAlV2KpI6Bv4cG4ExJqyX9Kuk9SbcUsh8CMAAAQJgiMAAXWP2lCgygsnpCHoCzBQfgOpIukFRN/o/WA5J2SWpXwL4IwAAAAGGKwABcYPWXKjCAyqiFpLWSmgY9FhyA8zNJ0vQCnqsvybp06WJdu3a1rl27HvKzOQIAABQmOTl5/+9NXbp0iaQAXGT1lyowgMqmvbyiu0HexflXeQDeJGlsAa+ZKGlGAc9RAQYAAAhThFWAi6z+UgUGUNnUlHR0SMuSdKekwyRdIulkSVUkRUu6V9Ifkm4oYH8EYAAAgDBFUAAudvWXKjCAyi54GaSOkr6Rr/+7UdK/JN1WyGsJwAAAAGGKoABc7OovVWAABzMCMAAAQJgiJACXuPpLFRjAwYoADAAAEKYICcAlrv5SBQZwsCIAAwAAhCkCAnDY1V+qwAAORgRgAACAMEVAAA67+ksVGMDBiAAMAAAQpkoegA+4+htGFfhuSf+QtEU+UWuVoOeOl/SefBnPzZK+lvRayOt7Sdonaat8UtetKng5TwAoMQIwAABAmCp5AD7g6m8YVeCr5CG4g/IG4LqSWkmKCvzcXNIXkroEbdNLHqABoEwQgAEAAMJUiQNwqVV/wxwL3EZ5A3Co4yV9Jml40GMEYABligAMAAAQpkocgEut+hvmWODCAvA/JP0hKUvSj5JOCnqul7zr83pJ38u7Pzc/gOsAALkQgAEAAMJUSQNwqVd/w6gCF1UBjpJ0oaQ4SQ2DHm8tqWng70dJmi7pG0m1w70YABCMAAwAABCmShqAT4pWdKlWfwdqoN2hO+x23W7VVd0kPVvEMRSnC7QkvSjprUKery5pp6S/FvvsAaAQBGAAAIAwVdIAfHKNqCib0bp1mbRG1aqZpL8UcQzFDcCvSlpZyPPV5d2lryr22QNAIQjAAAAAYSIA51FF3j36ankArh34OUpexb1IHmqrSmorH+vbP+j1d0pqFPj7kZKmSvpOUp1SvUIADlkEYAAAgDARgPNoL5/cKjPQsv9+maRbJX0iXyN4k3wG6FeUu0o8Xx6Kt0taLZ8Eq0WpXyEAhywCMAAAQJgIwAAQWQjAAAAAYSIAA0BkIQADAACEiQAMAJGFAAwAABAmAjAARBYCMAAAQJgIwAAQWQjAAAAAYSIAA0BkIQADAACEiQAMAJGFAAwAABAmAjAARBYCMAAAQJgIwAAQWQjAAAAAYSIAA0BkIQADAACEiQAMAJGFAAwAABAmAjAARBYCMAAAQJgIwAAQWQjAAAAAYSIAA0BkIQADAACEiQAMAJGFAAwAABAmAjAARBYCMAAAQJgIwAAQWQjAAAAAYSIAA0BkIQADAACEiQAMAJGFAAwAABAmAjAARBYCMAAAQJgIwAAQWQjAAAAAYSIAA0BkIQADAACEiQAMAJGFAAwAABAmAjAARBYCMAAAQJgIwAAQWQjAAAAAYSIAA0BkIQADAACEiQAMAJGFAAwAABAmAjAARBYCMAAAQJgIwAAQWQjAAAAAYSIAA0BkIQADAACEiQAMAJGFAAwAABAmAjAARBYCMAAAQJgIwAAQWQjAAAAAYSIAA0BkIQADAACEiQAMAJGFAAwAABAmAjAARBYCMAAAQJgIwAAQWQjAAAAAYSIAA0BkIQADAACEiQAMAJGFAAwAABAmAjAARBYCMAAAQJgIwAAQWQjAAAAAYSIAA0BkIQADAACEiQAMAJGFAAwAABAmAjAARBYCMAAAQJgIwABQvuZJypJ0RdBjl0taIWmHpG8lPVbI6wnAAAAAYSIAA0D5eUhSiqRM5QTgZpK2y0NvNUmXSdos6eYC9kEABgAACBMBGADKx7GSfgj8GVwB7imv/gYbKml5AfshAAMAAISJAAwA5SNFUsfA34MD8NuSxoRse6+kjQXshwAMAAAQJgIwAJS9J+QBOFuWpLaBv6dK6h+yfTtJewrYFwEYAAAgTARgAChbLSStldQ06DEqwAAAABWAAAwAZau9pF2SNkj6NdCyJG2SNFZSD4UxBrhLly7WtWtX69q1qyUnJ1f0/0sAAAAqreTk5P2/N3Xp0oUADABlqKako0NalqQ7JR0m6Tj5LNCdJUVLulQejpkFGgAAoJRRAQaA8he8DJLkSx/9T74O8HfyMFwQAjAAAECYCMAAEFkIwAAAAGEiAANAZCEAAwAAhIkADACRhQAMAAAQJgIwAEQWAjAAAECYCMB53C3pH5K2yOepqRL0XE1JsyV9FXiuTxHnMU+5l/sEgANGAAYAAAgTATiPq+QhuIPyBuAakp6R1EbSv1R4AH5IUoryTvYKAAeEAAwAABAmAnCB2ihvAA6WoYID8LGSfgj8SQUYQKkiAAMAAISJAFygAwnAKZI6Bv5OAAZQqgjAAAAAYSIAFyjcAPyEPABnIwADKFUEYAAAgDARgAsUTgBuIWmtpKZBjxGAAZQqAjAAAECYKmsAri2ZlWJLlqxroNX18322iGMIJwC3l7RL0gZJvwZalqRNksaGezEAIBgBGAAAIEyHSgAObk39fAuqAFeRz/Z8tTwA1w78HBV4vrp8OaR3JfUNPBcdeK6mpKNDWpakOyUdVtoXCcChiQAMAAAQJgJwHu3loTUz0LL/flng+e+Dnstu6YWcC8sgAShVBGAAAIAwEYABILIQgAEAAMJEAAaAyEIABgAACBMBGAAiCwEYAAAgTARgAIgsBGAAAIAwEYABILIQgAEAAMJEAAaAyEIABgAACBMBGAAiCwEYAAAgTARgAIgsBGAAAIAwEYABILIQgAEAAMJEAAaAyEIABgAACBMBGAAiCwEYAAAgTARgAIgsBGAAAIAwEYABILIQgAEAAMJEAAaAyEIABgAACBMBGAAiCwEYAAAgTARgAIgsBGAAAIAwEYABILIQgAEAAMJEAAaAyEIABgAACBMBGAAiCwEYAAAgTARgAIgsBGAAAIAwEYABILIQgAEAAMJEAAaAyEIABgAACBMBGAAiCwEYAAAgTARgAIgsBGAAAIAwEYABILIQgAEAAMJEAAaAyEIABgAACBMBGAAiCwEYAAAgTARgAIgsBGAAAIAwEYABILIQgAEAAMJEAAaAyEIABgAACBMBGAAiCwEYAAAgTARgAIgsBGAAAIAwEYABILIQgAEAAMJEAAaAyEIABgAACBMBGAAiCwEYAAAgTARgAIgsBGAAAIAwEYABILIQgAEAAMJEAAaAyEIABnDIy8zMsn37Mg9oHytWrDUNeMuUnm6KnWObN+8spaMDUJkRgAEgshCAARxydu3aa1Onfmy6dKSp2SBT3ThT/ThTuzG2aVPxguv69dtt6NB/mS4ZYaoTa6oSY3phpikjw9Qq3jRpURmfBYDKgAAMAJGFAAzgoLdq1UbTA0keeC8YbmrQ13TcIFPHyab+b5lGzTclzDOdO8zUKt7Wrt2aZx/bt++2yZM/MrUbazrrdVO13v7nI1NMYxeY5i/z8JuR4VXg7L9nZJimLbbPP99QAWcOoKwRgAEgshCAARzUUlO/NdWKNbUdZXp8qumZ6abX55nSQkJqRoYpJc10+ShTq3jr3/+fpjsTTRcON7WMN1XtbWo+yPRgkqnrDNMbS/O+vqB2z0TT09Mr+lIAKAMEYACILARgAAc1PZBkOm9Y8cPq4uWm+5NMV4w23TrB9PR0U8xs08wleSu7oW1Rmmn68rzbpaab3gmqEC9Lq+jLAqCUEIABILIQgAEc1N588zNTvbjiB+BwWnq66dprTNWmmKpMN2mW6Z20grefm2LKyKjoSwOgFBCAASCyEIABHLSWLv3aVLOP6clpZRuA211rqj3O9PDJpovvNVWdapofEoAXLvdxxqmB6nDsHNPjUyv6EgE4QARgAIgsBGAAB6WPP17nszt3n1W6YTcl3TRqmenJxabTnjQ162mqnmR6pKWpew2v/r62xHTRA6YrbvGxxguXm44daFKM6aFJprsTTbVibc6czyv6MgE4QARgAIgsBGAAB53PP99gqh1r6jTFx+ReeZPphG6mP3c1nfyc6fqrSh58U9M90FZPMtUab2r5suny20w3XGl6pokpRqZXapiaDDZFzTS1eslUa4IpPtlDePNB9v77P3kIbtjXvv76t4q+TABKAQEYAMpeT0nfSNosaYOkpZLOCNkmS9IfkrZK2hb485R89kUABnDQmTFjpemYQabG8aaoGR5Wr7vadPX1pqtuMFWfZBq9rPjh9+00r/Q2GezdnHvJA29BrWeU/9n6WVPHRaYhb5sa9LUtW3bZr7/usO3bd1f0JQJQSgjAAFD2WklqEPh7NUnPSfpFUlTQNlmS2hZjXwRgAAedbdt2mw6L9+7I3avnDqe95ME4tpjLGCUtNx2eYDrlmbz7Kqx1r2GqN8rUP9m7QTfoa+np31X0pQFQygjAAFC+akh6VlKmpEZBj2dJuqIYrycAAzjoTJjwsSkqyXT8y3mD6c1tTHXGmhakeTB9I9VD7pzUvOG3b7Kp2lTTpXflVHWL2y6709S0t2leiun6caY/DbBt26j8AgcbAjAAlI/rJG2SB919kgaHPJ8laa2kXyV9KOmRAvZDAAYQ0fbuzTS1G2PqNMXMzPTQDJOmmpp1N71WLW8wPfUpn7H56L6m6MneRbp6kkkzTX+9yYPv8nRT3FIPyje3KVnwjZHpyaN8322TTNV6m8563X78cXMFXykAZYEADADl6zBJz0i6PeTxtvLqcDVJ10r6XVLnfF5PAAYQMbKysmzevP+zqVM/tp0795qZ2YQJK0wN+vqMz01HmzTddMYjBY/Tfamur9l7x0WmJ47NCcmPNvcQfM4jPslVgxGmMx439aha/ODbM8p066WmOmNMdQeYToy3Tz75pYKvGoCyRAAGgPIXJZ8Q67RCtukl6b18Hq8vybp06WJdu3a1rl27WnJyckX/vwQA8ti4cYfp0pGmhn1Nxww0tR1lZmZxce+azh9pajLIVH2i6a/Xlbxim92Of810xCBT+9am10oQfGPkQfqEV/wYqiaYrhu7P6QDOLgkJyfv/72pS5cuBGAAKGfVJO2QdFsh2/SU9H4+j1MBBlDpffTROlOjfqa/jDDNTTHFzTEdO9DMzFJTvzUp0WdcfjU6/PAbbutRxSvKRw4w1RxjahZv7733YwVfMQDlhQowAJS9pyUdEfh7E0nj5V2cjww8dpaksyVFS6oq6WpJv0nqks++CMAAKhU9PtXUpL/pmemWlZVleniyqdoA092JpvR0H6O7cLmpfpzpqnGmaqNN1RNN3WqVf/jtXt3HFB82zHT0WFOLIbZx447yu1Z/HW1qFW/79mWW23seKHWZZmo+iDHROGgQgAGg7C2UtE6+vu8aSe/IA2+2GyR9EXj+d0kfSepUwL4IwAAqjXXrtpkU4yG4Rh8PeFUSTZplemlJzuzMqemmszv4BFZHxpperFf+4ffR5j5OuPFAU70BpitH244de8rtWq1Zs9WvlWLsyy9/Lbf3PVB6ZZZJMfb++z9V9KEApYIADACRhQAMoELMm/d/pktH2scfr9v/2M6de31Cq6enm/462XTkJFPVaabrr/JZmzMyTG+lmlp0NzUe4iG0PMJuzyhvL9YzdWphuuoGn+W5cQ9T7VgbN+5Dy8rKKtfrl5WVZbp6jOmC4ZaZWb7vXVKffrrehg79l23fvtu2bt1l06d/Yr/99kexXlve1xUoKQIwAEQWAjCAcrV16y7TzeNNNfuYmg8ytYzP9fz48R+aouNNtSZ45VezTHVHm5r1NM1ONR2eYGr9TNl2eX7qSNMtl5rOb29q3sNUM9GrzZrlM0Qf2d/UYpTphMHl2uU50uzdm2nqMNmr+fXiTCcPMdWJ9Xt/6cgCX7dt226bM+dzU6t409Gsn4zKjQAMAJGFAAygXA0f/oHp6AGm+yaaaseabp+w/7mPP15najjcVGWa6ZETfEkizTI1jTF1X+Lr957dyauxRYXYS283VZtsOqZX8ZcyermO6czHTFWn+nue18H07CLTTVNNzV43tU7wY4/ubbpspG3evLPiLmQlt3HjDtO5w0zHDTKNXWB6K9l04zhT79mmMfNNVWJs06bc12/Dhu2mhyd5SG7cz3TLeFOLwaYWg1lOCpUWATiPwySNk/SzpK2SUiSdFLLNC5JWSdoe2O7FsrkMAJAXARhAuUpL+87Hrkb3tqVLv97/uJ6aaYoaZ4pOMt3UxgPpFbd4V+MLHzJVn+SzLRe0vm9wu/Uik6ab/jzepEmmUx8r+jVPHGtqmGCql2C6YLSp+ywfi1wn1nTKUEtK+p/NmLHSFiz4kuWNivDxx+tMR/T3ZasWLs8Zu53dlqd5FVgxpjMTTG1Hmc5IMFWJMZ31uilhXs6EZylp/mVJg762axfXHZUPATiP+ZKWSGooqbqkBEk/SaoVeH6EpA+Vs3xnfUmnlNmVAIAQBGAA5W7FijWmE+M9XNaP8yphldGmxoNMLzQw3Xu2j/M9oZtXgE9/wtTh5OJ3YT67gylqtFch648zRU8qPDjfd5ZXi6sMN906wauQzQaZTh5iKSnfMA61BD77bL2pbpyp4+ScEFtQm7HE9MJM06NTTM/NMM1Ozn+7OcmmqBhbt25bRZ8ekAcBOJdakvZJOi/osRqS9kq6V1JLSZmSWpf1BQCAghCAAZSbLVt22dy5X3jwvWOCKXGhadB800lPe9Dt2DIQSM/0iaZ6RPlSQ8UNvtnt0rtM0RNMGuFjd+85O//tutUyndnZVG2KqepAW7bsm4q+RBFtw4btpmMGmh5IKjz4lrTdOr7QMcNARSIA51JHHnAvCHosOxQPltRZ0mZJL0v6Ub6ayVuSmpXlxQCAYARgAGVq375MGzLkX6ZLRngX1/pxphdn5oSblt1MzV/zAPzUEaUzidUL9U2nP+7dcDucmP82r9QwHRNrajjYVG+g/fvfqyv6UkU8XT3G73NaEZXfkraTh5g6Tano0wPyRQDOIyXQjpAH4hHyADxO0quSsiTNkdRAUj1J0yStlBRVtpcEABwBGECZ+fvfvzed/boH0QeTTNOX5A1HJz1vOq6n6f7TTa9Gl93MzsHtpbo+q3TzHib1NtXoYx9+uKbMr8fGjTvsu+9+L/P3KW9btuyy5OSvvevzsHklC7fp6aanF5teWFxwl+lBc0114+zvf//eYmPfNd2ZSLUelcahEoCTJesaaHX9fJ8t4L0bS5okabW8whsj6XNJfSU9Ja8Qnxi0/Z/koTh0oiwAKBMEYABlQs9M94mObptgemdZweHnmcVe/S3LZVVfLJwAACAASURBVI2yWy/5RFrRk01/7mpakm4a+Y7PTnza0DK7FuvXbzd1muKzXkfF2AcfRHa1ec+effbJJ7/YokWrTFeN8Vmxj+hvemiSKbWE1d8labZ/uau4pQVv126Mqbovn6SbfBmt1NRvK/pSAJU3ANeQ2YyyaU0bFVoBDtVE0h+S2kq6WHkD8FEiAAMoRwRgAKVu5syVplqxplHzCw40aem+zFHt8T4JVVmH3x5VfFmjumNMr6fkPpbnZpjOTCi18//f/9ba6tX+7+r8+V/6FwEtR/ryStGJpjsSS+29ytPu3ftMdyX6va0Va2o60MfnJi06sC7OF9/nAbhnIQE4+wuT7D9PG2oJCf+u6EsCEIDzOlEeeiWf9GqZpAVBz/9X0iz59aoraYqkFaILNIByQgAGyoG6TDO1HVXRh1Hm1qzZ6uNAa8Wa+r9VeJg5t6Pp8ART18PLPvy+Gu1drZsMNr2RmvdYzhtmAwe+VyrXQI9MMVXr7RN9XTfWw2/MbFP7dwKVzumWnPx10TuqhHTvRNPxg30d39Ie53vR/ab4AmaBDm3jF5hq9rH167dX9CUBCMB5dZB3f94un+iqv3w5pGx/kk98tUXSL5LelHRsmV0JAAhBAAbKgTpPNbUZeVAvp/PBB6t9gqsrRvnyNoUFmBEppmpTTc82Kvsuzx1b+mRXx/YxvZOW91jGLTBF97Yffth0wNdAT0wzKcYr3z3f9Jmuh83z9YRrxppOG2FvvfV/pXC1y98nn/xiqtHHNHZB6Qbf7IpudjfoopZOWrjcdNHwPF8oqeNkk2JswwZCMcoXARgAIgsBGMAB27Rpp6lhXw+ARYWdpemmP/U31ZhY9pXfh//soarKdFNKPsEqaZEfdynNMKy7E01nJuTs/+0UH7t6RP9Srfpu27a71PZVHCtWrDXVi/PqdmmH3+wWn2y64pait7twuOn0hP1dzLOtWbPVhg37wPbuzSzXawMQgAEgshCAARyQ7dt3e+j7y4iiq3cZGaaXl3govf+Msg/AMTI9dKqPM27W05dbmh+oAg9527spd5hcKpX5jz5a5/vrOiOnUtl8kOmUofbNN7+VwpUOXOs/D/Eqc+eppbLP/Ozevc9+/nmLrV271T77bL1X9h+bWnbht7htwTKTYuyzz9aX2bkDJUUABoDIQgAGELasrCwPvmckmJYEja1dnm66/DbTWY96t+Mpi70ampFhemu56ZyOHkpfq1o+IbhrI9Old3nw7rHUu/HW6GOTJ39UatdCZ71uumein+MbS02N+5n+MqJUK5KLFq3y8Nukf6nPWp2VlWVvv/2FqWW8v0dUoCnG9PCkig+/GRk+7rjtKFPV3qYHk0r8xcV33/1u7777Q6leN4AADACRhQAMIGwTJqwwNernlbngoHL6E6YjBprqjDU1GuCBpU6sd6FtOtDUsJ+p/gjTrZeUTwB+Ndp04ove9To53UP7XaU7E7OuGmO6ZoxpdrKp2SDTjeMsM7N0x3xnZWX5hGpnJpgUY3PmfH7A+9y8eaclJq7wAN+gr+nZGX4OKWmmxctN0xZXfPBNTffjyf45caEvu/Ro/l3XN2/eaStX/mJZWVn2229/2IwZK308tjzQb92664CvW2G+/vo3X67pjgm2a9feMn0vVDwCMABEFgIwgLB8+ul6X5c1/u3cYWVIiqnaFJ/duckgk0b6GNJOUzwEPz7VdMVoU7OxHpB7RpVt+O3Y0tR4iKlpb9OCNFOfOaYafUqtW3K2Dz9c4wGrXpyp3dgyG4u6ceMO+/vfv/f3atwv7JCdlZXlazXXizOdPMQnkVq4vOLDbn5V3/OHmW4el/vxke+Yqvexfv3+4eH95CGmm8fbqFH/MR3W16QY69Ej3cd4t4w3tRnpY7SbDSqTyej27NlnS5d+bQkJ//YvEm4c58f05yH2yy/bSv39UHkQgAEgshCAgXxs3brLfv/9j4o+jEpry5ZdPr717sS8geXUp0wnvGI643FTvZEm9Ta1HmIrV/6yP6z9858/mtTPFDXT1L1G2YXfLkeboieZGvcwjZxvum+iqXasvfnmZ2VyXWbN+tTefPOzUg1YemGmqfNU27Bhuw0f/oEpureH3zqxHvQenlSs/Wzfvtu2b/fJs776aqMvV9W4n2lAEctVVXRbtNx07VjvVh763E3jvBr+zHSfdfuSEaYWg02Xjdxf7dXzM3O2v2j4/i7dpRlKk5O/Nh3Z36vSFw73L3kyMkzJqf6eV44utfdC5UMABoDIQgAGgmRmZnmoq9p7/1jLqVM/rujDqnRiYjJMpw31rqmhoaRbYJKrRv1M1fqZGg3zWZiPHGFmZqtWbTQdPsBUd4Tp7E5lW/09to+p+tCcMFQvzlat2ljBV69kVDPWpARvxww0DX3bNH+ZX/vAergffLC60H2MH/+hr0dcvY/ft+jeHhZnF3Pd3Uhqaem+DrNiTJePyv3cgLdMj04xnRr4TJyeYJs27SzyHuzevc+/PDkjwdQq3lQ3znThcPv99z/88Vqx3nU8v/8ekhaZqvexf/+78HuEyEUABoDIQgAGgqSkfOPdF5MWeXfQjpNNNfsc1Ov3hkMPTzKdNyz3rM9LU7079PnDcgJnsyEmTTXVGm/SRJ9kKTreVHO8qdVLpteqlV347VHFg/hFY+y888abFGOPPbawoi9diaxatdFUtX/OGrmjUvIGrAeTTGckFPgZXbFird+Lfm+ZYmZ7dfLtfPZzsLSUNA+4Fw43vRUS8BcsMw2c6yF5bopXZ5sPskWLVllS0v9s4cJV9vPPW3J1X9+7N9PHd7cYbHr5DVPv2T6J2klDfJKwk4f4+OIWgws+pi7T/AuIW8fb+vWsU3ywIQADQGQhAANBvvhig1fJxi8wLUvz7pXXjKnow6p01q/fbvrTAO8GfcVo/+U/Ksa75N6V6D/XjzdVm2Q6OsbX442abtI4U/WJPklWWYbfGJl6yXR4gume2TmBPJ+Zk//73zW2YsXaCriKhcvMzPIQd/m4nAA8NzVvuFq43FSzj33yyS/57mf9+u3e1fms13NPJHWotUmLTMcN8s/BnYGu+8vS/LocPcD/bDpwf0+B7Mqw7pvoj4WG6aWppjHzveo7O9nUfVbR7/+XEaY6sfbVV5HVCwGFIwADQGQhAAMh1GGyj+e7dKTphMG2bdvuij6kSmnr1l02e/ZnFhf3rr355me2Zs1Wn1jp2rGmE+JNDRNMF9/rQbSXTBc8aGr9jOn6K0wtu3mFtiwD8Iv1TNWmmiYt9yqpYjystxuzf/znjh17ApXqQRV8NXPLysoy3T7Bg9n8ZR58FxYQXtPTTXXj7H//KzjEb9q008NdUSHtYG2j5/taxncn2sqVv/iXNaGBNruNmm9SjP3002b78cfNplOGeoW3tI7l4hEWE5NRfh8mlDkCMABEFgIwEGLv3kyv1DTqZz/9tLmiD6dIWVlZtnNnzlIrmZlZtmTJV/buuz/Yb7/9UW7dt3/5ZZt3FT2yv+mKG00NXzf1KKd1fkNbzyjTiS+YTnreQ8fzM00aYDpznOn0EabaCZaR8Z0HzdN9SaF16yrHTL1ZWVmm+5N89uKZS4oOVK/PM9WPK3K5HT0yxdR6SP7jVMuqpaSbLr/ddPF9PgN3RYTf+ctyegCcNMRnaVZMzkRVoW3aYn++Ub+cL01Ka3bs1+eZasdaWtp35fRpQnkgAANAZCEAA/nIysqyPXv2VfRh5Gvt2q1e0Tx+sFf1juzvv6gf0d90wmAfw1wn1ptiTLVjTTeNt927S/98srKybOPGHd5NtEYf/+Jg1lJT3TGme8+umPAbI+9yXWuCh64XZ5oGLfZqcPVJphO6eXfiavG2du1W27Vrry1atKpSjPPOzMzy5XOO6G+aUsz1d5+YZjr79SL3vWPHHp9E68WZpRPmitOeWWxqMMKv9wvFCPNl0R6ZEgiyo3xG7VbxpnZjTEvy6U6e3cbM9/HsM0rpmGctNV031v8beX5mOXySUJ4IwAAQWQjAgAW6iJ48xNLTy78y88MPmywxcYVNnfqxpaZ+ax9+uMa+/36TLVv2jemaMT7JzrEDPeyePMRn8D1/mE/G0/8tn9xo1lJTwjxT3znehXN5mneNXbzcJ+w5YbC/tulAD8aN+/lMttG9fXKeI/ubrhxtCxZ8WewgqE5T/LWB2XQ1boH/sr8wzQPPS3UqJvy+VtXUZLDpsrv8eOalmE7rYrroAdPV15uaxpjqjTJppg0e/H4Z393iW7hwlU+s1HSg6c18lvwpqM1YYqoVa++992OR76G2o3wW5PIMwJplOmKgaXYhgbMs2+C5ptsmlO3EX3NTfKKrp6eb3lnmj81JNj00yXTuMJ+V+rKRETcDOYqHAAwAkYUADJjZmjVbTY362YwZK8vtPf/4Y4/PpKwYH2fYeoiP+awT62MUG/fzsYe9Zns1atBcU483w6tKzU3xqnHcHNPEhaaR75gmLDRNX2KavMj3/2CSqV6cqXE/mz//S8vMzLIdO/bkOe4NG7bbjBkr/bj7v+Uz6wa/V3q6qWaiqXOzignAbe4wHTEod1ffMzubLnzQdM85Js00HTkgUAUeVOFdn7dt2226ebyPUX1sqk+uVNL7236S6fjB9scfee9XMF0w3NR1RtmEwKXppunLTX2W5oTd1HTT6GWmJQf55Fu3jvcvkU6MNzUb5GsWXzjc1Crehgz5l61ezf9jD2YEYACILARgoALs2rXXZ6JtNij/8YXlOU4zuKWk+VIvNfvs70Kdmvqt7d2babNmfepryEbFeJXyrsSC91NrvKlz8/IPvze1NdVIMiUGhfJRy0yDk03Vk3JmU/7rjaZTnjHVGmatW4/yNXF7vlnun4PPPlvv1/K0oQfW3Tb+bZNi7B//+KHQ99PpCaZub5Te5yU13cf5Dkr2Lz2iZvr1PTqu4kNpWbfEZaaEFP/CIrq3LVjwpe3Zs88nz6sSY2oZb99++3s5fZJQkQjAABBZCMBABVDbUV7t/dtk7zqZVoqBNz3dNGW5aXkB+0xLLzpgv7PMu07fPN6XNGox2CtcXaYV3ZV0dqqpynRT10blG36fPsJUdarp3gXe3bnHUr8WN7fxY0pa7uHs4T+b7j7XA9vlid4N/IZxpsP6lts44L17M238+A/9S4YHkw7sC49bx/s47/aTihy3rr+M8PHaB/oZi1tqOq6X32fN8j9vbmO68Qr/AmJAATMsHyxtdqqfd/Uk/4w1HWhz5nxuZmbbt++2RYtW2fbtzB5/qCAAA0BkIQADFWB/l+eafbzbcYfJpfOLeUq6qe1t/st58x6mJen+C3pKuml+ms/GGz3Zn689znTSC7mrpaFtyNveFfveiT6uuDjH8MJiD0flXf196BQ/rzpjTed29PNMCIT1gck+MdcFD5keb+oV6u5L/MuAtHTTsHkmxZR5aMnKyrIpUz72yv8xA33M9oHc77ELTLVi7YcfNhXr/Zcs+cq7Wh/Ie7a71oNfu3amJ48yvVDf9EoN714ePdk0rAzH2laWNjDZFDXDexZkZJjOG2ajR/+nwOu+fftumzXr01yztePgQQAGgMhCAAYqwEcfrTMdP9imTPnY/v3v1V6FnF5IF9hFaaYZyz2svZXqFcPFaaZz/2Y6/lXvznvXAp/l+LBhpg4nmZr19CpnduDVLB8b+8gJpq6Hmzq2NJ3XwXTYcA/IpRUOLnjIW3kH4J5RpkeP90mweslUf6RpSIppRIpfg5su96BWf5TpsjtMf73JdOndvjZunVifKKnZINN9E8vknu/bl+ljug/vZ3puhmlZKYyLfXSK6dKRxT4GtRvr44BL+j7p6V5RP7aPf3nQsWXOdX/8WNP5D3vlt1sZzvScXkHDAkJbv2T/b25s0BdHgSWmCrrvixd/tX84AQ4+BGAAiCwEYKAS0I3jPHyl5BOK3kw11RvtAbZGUk71tnG8h9wbr/C1Vo9/1atwvYIC4YOnesXzhQaml2v7Y6GhscEIU4vuvkxNdsiYm+q/4KenexX5xSVFz+K7MM30VGDZmxuuLP8AHNweON2vU6uXvHvuuR1Nt11savGK6fChpnM7+BcFtSaYqg61OXM+t4yM731irxvGlejeffvt7/bzz4X/G7p69RbTOa/7bN7ZX3S8leoTRy1L9yp8OF9CdHvDdHL+wSvU8uXfelfp2WF0T35msVfWr7va9GI9v8bPNvYvUKpNNZ31aNl0e05P9yr+0XF+H8/q7J+zigzAf+rvn63gQD5jiUkxuSq8f//79z50QDGmRyZX2mXVcOAIwAAQWQjAQCWwd2+mL1N0xwSfSXfMspyQdHSc/+L/Yj3TIy1Nr0ab7jvLq5cv1z7wsNixlc+cXGes6exOpr/c72Npoyf7L/t1x/gv/Me/ZpqZanp5iVdW+yV7VXp4iunRRaZGQ3z7dteaelStmODbo6rpxBdzKt7ntzd1auGV7+pJpuhJgS8SEgOzRfc31R2+f+zvmjVbS7Re8sqVv3jAqR9XYMBJS/vOux23G+MTnqWmeyDPPkbN9OtdfZLp9CdKtlzQpEWm6n2KPM7du/f5mPOnpocX+k56wXTFLTnX+b6z/Hq2ftY0KZ9J3EqjjUrxL3hqJPl7P9rcP4Oa5VX85j1Kt+dCcdubqaZ3gkJ4errp1gmmc4ftv97ffvu7qVasz+p9z0RTy/hif6YQeQjAABBZCMBAJfH117+Zasaaqk3xX/JbP+NdmE970tS9etmHxyeO9fdq9ZLP4NytlumWy0z3n2l6qa7p8AQ/rqP6evU0++eaiaY/dzVdf5XptWoVW/ntVst05EAPlI+ckFMNrp5kejvNdPV1plOeNj2/OCiAxtm2beGN/V2xYq0HYMXkuwTRjBkrfZz3izMDoW6ZX78mg03PNjI938AnC+sZ5ctGnfS8qfGQgicwC21xc0zHDCzyONPSvvOx3OFMtjUzMOHT+Q+b2t7qX8ZETzb1LMFaxSVpI1O8R0LUDJ/MrFutnPvbS6bHjvPPXvWkignAoa3nm6ZasbZixdr913vu3C/8ej893VSzj82d+0VYny9EBgIwAEQWAjBQiejxqaaaQ/yX+0vuMbVvXbGBMri9UtPHfvYKeqxzs9KpQpdVe/4wH7P6Qj5jU6++3vTqElOd2LDHZr7//k/7A3Cee/nwJB9bPHCuB7W/3O/dhdveaupeI//j7VHVA/wZjxdvZvCzXveZum8db+np3xV4nP/5z8/hT371RiAAHxPrFeqLHih84rRw2uBk03Ex3oMgerJX5x8/Nu/1eeB0Hw5wQjfvKVHR4Tcjw+/vYX1t0aJVtmfPPtu8eadX2xVjajbI0tL8vqxfv91WrFhrK1astc2bd4b1eUPlRAAGgMhCAAYqkT179pmaDjbVHO+z7FZ0gIz01qmFh7fCKp8dJpsuGF7ie6Unp5mq9zGd/brppNzjcOfM+dzH205a5JOVHdXXdFQ/nzW5qGN+rqGPo36xiAmlUtM9ZEV5ANd1Yws81m3bdvt24Yz/zcjwAF9Wk1AtSvNeD3+90XTnBV4VD74er1XzLytO6+Lh+MUllWdCrIwMP5YOk32ZsOMHW/fuqX4/qsTs71q/Zcsu/wKiVqz/WSXGdMVolko6SBCAASCyEICBMpSZmWULFnxpX3yxodiv8VmhBwd+2a9X8SEyktudF/h1LKxL8ctvmE4ZWqL7qkeneJAZNd/06ixTi8G2YMGX9r//rbWpUz/2bs/ZSxw9scjHcZdkXPQJr5geW5T/8San5lSH708y3TLedMJg69hxfr7LIW3evNPeffcHD2ULK0nVNLstS/fzrDEx7wRt2e22i71HxAUPld1449Joqemmi0f4TNvtxtrMmSv334P167d76J0T+AJipk+apetLNuEaKicCMABEFgIwUIZ024T9kyRt3bqrwO22bMl5bu/eTNN5w0yNBpjO6VjxITKSWs8on9Tr1ktNZz7mE0v1KmSs6rB5PhHW41OLfU/XrdvmYWbcAt/HpSP9Hh8z0IPvMQNNMbP9uYQUU93Rphvbluw8oif78k2hxzviHX+vVvH+84JlpjMS/LGqvX05revGmm4YZyNH/j/74osNpsP6mqr1Nv15SHhjgEuzvZPmk3zNSvVlqOqMNTUc5rOVF3Qtzuno1d+KDrjFaXFzTA372sqVv+T9t+DyUabTE0yvzPIJ7xr2NT0xrWT/oKBSIgADQGQhAANlaNq0T/aPEf3yy1/NzOynnzZ7aDrndfvss/WmNh6gZs5caWo/2VRlkIeyOgO88nXHRRUfLCt7e66hj01t+LqP+W0a4zNATymgYpie7uv/1uxjgwa9Z5mZWcW+p7t27fXwkh1yxy0wJczL3S03Pd105U0eZNu1yz1uujjt9C6m5q/lDayxc/zzdHei/9x+0v7Pl95O8WO5Y4LpzsScJXiuGlNwl+G5qabjevmkXNdec2Dhb3aqj10+u5Mvj3R+e9OEZR56+yebLr7XFDUzZ+brZj19NumCKr/ZrfWzPgv1i0t8tvGiqsBJy01PL/bjmba87Cbryq+lpvuXXo367e/+nO333//w6vCJ8aaOk23HjryTpiEyEYABILIQgIEgf/yxx9R6iOmm8Xl+gQ2XukwzdZ1hZmZZWVk+Qc7lo3xZHMWZqk00/SnWpHhTlUQPCNWGe+Xu8GE+PrIyTYZVGds11/p1e21J0TMoL0k1XTHaVD8uVzfVkhg79r8+nnPM/PzD9WV3enWzc7PwzueVGj4OuE8+4W1JUBfo+Lf983rDuPyPY/qS/Ku+6emmq27wa1Z9kgfuo/odWPh7aYnv79K7fMKvcx7xwFttqi+l1aynT2zVo6rptSK6gz9ygq8l3bm5qcNJphNf8C8EWr1kqjrNq8ZndvZZtdPTfaKuU5/y5ZGyZ/euPdZnktYsX7qosGNfnOZLLXVYWLJlqEJbl2mmw/uZWsWX2r8fqPwIwAAQWQjAQJCfftq8v6L24YdryuQ91GKw6W+TvTvrTdP8F/TjevnSLuc97BMlRc0w1RrgXaHr9vcxoRUdMitze66hqfY4nyypsIAyfYl/AXF6gv3yy7aC79FtE00NR9rixV/lee6TT36xPn3+brpwuOmm8bn3P2qZqWlvn6n4iWMO7JxavWTqUsA44ANt113t424vu9Orq9GTTb0PsFK6MM2Xx2r9rOmZJn4Ojx5f8utw7TV+PM16eniOmmE661FfiitGvizS/Wf4skzVJ3nlv/a4oGWtZnnwvvD+nJ+7FzKh2Ntpvk50095+LWomeuW6pOc/aZFJMZaYuILJrQ4xBGAAiCwEYCCEnpthOm2o/f77H0Vv+/R0U4O+pgeS7IcfNnk17swE27Bhe4Gv+fDDNT57cM0+pkb9TDVH+hjH4BBwVF/TyUkm9TFVmewVzooOmZW9PXq8h5crbwpUStNNzy72UHP8a77GboeZppOH2N69mWbmk5SNHv1fS0r6KFfFTjWHBdY4HpT3nt86IafbcdcZ/l7L073yGT3ZdPltudeuDbfddLnv74KHDmzW40VppqUhr7/2Gj+/KtP9i5eb25ROsH47zXRMnIf3cM+7+Wumjgt9f+npphnLfX8NRpjuPjf3tvef4dXlCctMF7Q3jUrxibWyq94p6V79Lez6nfKMr2Pdo4rvs2U3D9clPfe5KaaafWzUqP/s/3zh0EAABoDIQgAGwrRx4w4PQc/N8EmRWsWbrhxtumi46crRRb528+adtn37blOjeFP0JA8l+3+xP9OrW6dONdUbVfIxpBXdutfw87nnHNML9cvvfTs3M9WaYLpngXeTPaqvT7Z04UMe+C6fbGqXs1zQ7NmfmapMMGmG6c4pOfe1abxJU0zH552l94MPVvt9f3aGB6vUdK/QNx5y4FXf0NaxpVeTC6tgFtZilnoVtc5Y7yYc/Nybqb6WbmkvKXTqU16VDfecr7vaz/m0J/2+vRHo8v3kYr+HV92Qs+2VN3k4zq5AP7PY1yoeW8wK7qzAGsdNBvt/czdc6V86DM9nArLitD5zTH8aYLpguO3eva90/8FBpUUABoDIQgAGwpSVlWVqGe9h6PB+pmaDTJ2mmM4dZmo3ptj70WNTTdGDfKzv/Wf4L/btW5uqTjVVH+h/djm64kNtSdpFD3iwaDDCx2W+UrP83vvmNv7eV1/vEyw919C7uLboZqobZwsWfLn/2icmrjBpum9/igdjtRll0kB77rlluWbnzrZo0Sq/53GBZY4GJvvrS6PqW9D5NBqaM+43tC1O88m+Epf5ONyXl3hoHJ7iYe7es31SqgYjfFbq0gy7GRmmman+fnNTTZfcY6qRVLz1jgtqr1U1XXeVj8lt9ZJ3Z66Z6PvVLA/Y2dt2OMkfazjMxwYf3dd0bkf/b+mYWFOL7j5xVmigXZjmk3RVmxo0Zni87yPcazRpkWnAW6bEhab6cfb2218c+D8yiAgEYACILARg4AD8/PMW05PT7JNPfrHRo//jwahunG3ZssvUcbLp0SnFmgxn8eKvTNHDTPVH+gRIV19vqjbO91djvOn2CJsJ+m8nemhr9ZJX8x48rXzf/5WaXjW/9RIfH9rqeZ+0KmS5o92795nunWK6eZJt2+bjNlVjeGAc6WR7551V+7fds2ef6ewJpiqjTR3eyN3t9/AE09XXlc25vFbVw9mQkGA2J9XU5g4PhlWn5YybbRqTM/lTdq+CnlE5Y2vfSSu98PuX+7wbdZXAlwjNepoeO67072Xn5l7df7GuV32vvDln9ujTn/DgGxy6O7Uw3XGhB+kTX/BrdNUN3iU6cZnpyAEejh9v6vu96AHfR9Pe4V2HvoHZuY8eYIqK8b9fMLzU/p3JzMyyOXM+914m900stf2idBCAASCyEICBUpCVlWU6M8GrvzX6mM4aaaoyzlR1pOnO4v3CqotH+HjgJgO84hs92VRzuKn+CFP36hUfakvautXy8NlwmFflyvO9e8nfpijD8AAAIABJREFUs+4Y0wsLTfXibMKEFcW7DzXHmFo9Z2owxHR4TM7jtyR5V+lj+pia98gdgJ5ebDqhW9mdz0UP+BjmtHSv8v6pvy8l1LKb9xYI7SL/cm3T00fm3U/d0aZhpVQFTlruvROeOtK7vL9SI7xze6lO0V38u9XySnb9kT5hXPWknJnRe1TJu5TS48d65bxjK591ulMLH1KgmV4dPq1L7pmoHzvOq8Gjw5j8KiPDJ7SrHWubN++0ffsybfXqLaW6zJHuTvReJooxXVR6wRqlgwAMAJGFAAyUgs8+W++Vn7dTTPfOMkUnmlq8Ymoy0FR1jOmZGXlek5WVlas6vH79dtMdE01R4031h+d0+bzzgooPs+G2S+4JdC9+pnzft3NzDzyzU02D5poa98v3vm3Zsst0/GDTJSP2BxYdPsHU4gXT9W1NmmpffrnRq2/RCaYjBviYZs306mv2ZEuDkr1KeyBdfwtrLzTwz0ODEabDhptuauvBsbDXPNfQx9Bee40HzOcaemU4dCxwSVtauik+2auo5zxyYOfV4WT/fJz5WOHb1Zjo253f3ivYx8V4GH6kZd5tuxztwbxZT78n9Ud5V+kX65mebZw3bD9wemDystvDvyavvWlSjH311cYy+fdFreJNV4wyNehrGzfu8Me6TDO1GWVr1mwtk/dE8RGAASCyEICBYti1a2+hXZkzMwMV4BPiPXhdfZ1XpV6sZ6ozxlQl3t5778f9269evcXHDDfpb19++Wuufc2a9blJE0y1h5rOeMR/ka/oIBtue62qV+66Hl7y174abXq0eXgTgF13tV+3jAzT4uWmGn3sk09+yXPf1GmKT1p0ylDTOcNs6tSVpmqjTM1f8sphjfEmjTXV7We6e5ZPSBYj79LdZLCp9TP+HunpPluzZnnoL4tr+eRR3q331ejiXbuj47ybb52xPgb4sOG+dm5Jgl32BFnTl5sax3uX9sOG+z7b3GF6rdqBndNd5/s1qzXBdOajBW/X5g7vSh81M/dyR5rl3c//1so/J69Gm45/1XTu3/y4JyzzLw3O7Jz/fh87zr9YCHeSsex2wXCTYuybb347oH9nsrKybPXqLbn+rdmyZdf+Wcdnzfp0/3aq4o/NnctY44pGAAaAyEIARqWm52eaLhheoVWOjz5aZ6oda7pqdKEheM+efaYzXzdVmebjCrN/yT6vg6lpN9NJQywrK8v27cs0NR1qajDY9Kcepj8NtF279uba1/vv/2Q6bajpmG7e5bOig+yBtNDuqcVpTx2ZE3ZKOn64y9Eell4OhJo+c0zRvW31av93bseOPab7k0wNB5iq9DUlzDOd1Skwbna6qfYY0yMn5BzH0XG+v+NifDKt7Pd5oYEf49xUX3LpqH5+vKFLWpV3ezU6ZzxrcrqPHW7R3WdIzm8irZvbmE5+zqvlwY/PT/MJoVLS/ZyO7WO65jpfiqhH1dI73l4yPXGsV+2L2rZbLe/e3UvezfnsjqaGCX7db2rrFe8GI0yPL/Kx0NGT/UuKu8/xbYI/i+1b++RaV9xy4N3B09J9eawafWzMmP/a5s07S/RvzJYtu2zChBW+jJpiTA9PsrVrt9r332+yPXv22cyZK+1f/1rt64ffnWjr12+3jz9eZ2PH/rdYcwygbBGAASCyEIBRqemYIb4cTeORxVqXt0yO4dKRpiP7mxSzv/thQT7/fIMparSpac+ckNCym+mhBaaGfW327M9s1aqNpipDgqpY8bZu3ba873vycJ9cqLQnFSrr9nJtnxypZ5Tp+cP8HB86pfivb3urd2HVLF+fNTRAP3mUVw6vv8qrrSe+aDq9i293cxuvwF90n+mGcb7Ocu1Ye+utz83MK/k6OcHHWmuWd2XWLFOjIR6IHjol7/v1jPLQd+XNpq6Ncj/XON6rhxc94IHrpTq+fm+tCaaLA9egvJewevBUD+zLCpg1evpyU/uFPnnU/hmT4zwsHtvHl67K3nbCMq90NxlserZR+Z5HcduzjXyd7O7VPcxqli9Jdd1VOUtwPdvIK8PZFeub2/jEYTe2/f/snXd0VNXXht8khNC7IB0piqg0URQFlGKjCWJDFBUVEUVRkA6TBBLSSO8dAkSRnl4mlp8F9cOKBUGRqii9p8z7/bGTTCokkGQysp+1ziKZuXPn3DuTYZ6799m7atZDF4yF8UQXd4nONnQmJoQzJyev3L7geXkmRkd/I73Eb/Iipq8iBvkT48IKo74HDpyUz5VGy8z9p2EgpsaUuc/c3Dx+8cV+/vbb1UWjlYqjAqwoimJdqAArtRoMCjWLyr0BlpnDO2vlC+ejYeVus2PHIebk5Mn2T0UTdSIkIthjDuEQQQSnEi/EEH29ef58DtF4ucitXQQxPqLU/vbtO0HYuEv6dEVSXmvTKEgFfqmbCCziiVtmVuyxM9uI/Ialicy0dpe1q4vs5DwMmiTFitq6EN3nErdPlWhfwXukSSDhnET08yH6ejM1dTdPnZJWRrm5ecSYMMI+TGTonWbEO01lHyXFtqJj/L0ijjZrzFH/EWNFrlp5masxX+n+KzuWQjIOus2T9kjN/AjH5OIpzQ1CpTLykCdkbk0C5WLNizeKyNeJlXN/92Q5tiFPSKEpS7+vKjrebXT5iw6DniFuml218lt0rE8hPDfK50b+xTMMDyIeDhFBvtNXlkA0W060cpEsBaOR+CCFaODM7dsPECODiO6ePHjwFNFkGdE6fz+tXeWxr8SW/Xk1Moio50TAwBUrPqmCT0DlcqgAK4qiWBcqwEqtZu3a782RUjtnJiXt4uHDp3nixHmitSu/+GJ/jczj6NFLR5+3bz/AQ4ckTfvChRyilzfh4CGtjWyXSVSn3QpimrThwdx1RD1n4qEQ5ubmldrfyZMXCDtHoqmfdbVAWlBXpKmZn1QcbhhCPLS54lWgH3lA0nWzsiSC2ffV4us9W64kVqcTHiki2l0XSEXmqDSR5vgU4g5foocnz5y5WHg+Dx06RdzoSbRzN++rSSBx34SrP+bx98ra3ILf32olFzdC0sxrVK8kDfxKxt2T5bhi0yV9GfESHS8QswyjRKcL0srnNpCLAAWPXwpZs91tvjzuxRst/56qjlFQFbq83sqXWg9dmTFrjawzj0ogJkUSY0IJ5/Xy84J4wncTkVakLVU/H2JYUGGBPJPJJNvespJIyhCpjk0k7B25d+/xMj+LcINHfvs0J2KwZS4aXmuoACuKolgXKsBKrebs2WyimRdxg6859a+nF8+dy+aiRZn8+ed/Lr8TC7BjxyFiVAjXrv1eqjvf4UuMDCpTdgvIycljVNQO7tlzjCSJTislGvfCTZYXhoqOEWNlzewHGZICHJtOvLCt4hHg3jOIIY8Xl4j3Moj4DFmjmppJ3PO0FC66c4o8B+KJD9KJN+MkUjY0kMePm9dg5ubmSRXdkUHy+I2ZIstFxfrOKcRdzxJvXld6TktR+QjodR6y3xtnX32hqMqMZn6Ec7L5AoIhiViVLhHdPtOJmHSZ09CJln+vWHIsqCtp4ognmvtINLjrAqLXW0RrN1m24JdqFt9RI4n6YVJ5OvIKWyVVZNyykngwmCaTSXpUvxAj/aujEszbvLaa6OZR7udIXp6Ju3b9y4sXc6vuA025JCrAiqIo1oUKsFLrOXDgJDEsiKGhXxdKcF7ef6vwS05OHjEgkEAw0c6TGzb8RNhEEre8bnlZqOh4ur9Ef71K9JkNS5PbL9cndlEdiU76XaJP7SMjRUJmtBOJ6bSU6LJAImcd3bhp08+lzu0//5w1p6Le5SdRv9tmiPBM6isSZBNKNPKRQldF5zS7MdFqhRQ2e6ES0dCZrUWaajp9/Y4XpO9yv1ekYnNBK62OjhJNt4+R31/uavn3i6XHnMZSSGtSX1lDPGYYMXK0tB277zEpcPbwg4RLipyzrgvk37cSq0+A1yUT9Zzk77+rh4zALcW3WRBPwKCCW4tQAVYURbEuVIAVq6JAgP9rlU8xLoqwjZYv2PXcCQQRTXytZ/3vc7eIXBmSS3+pNxoldfly/Ywn3CPpwuWlmiZkStXeZ/oQ8+tJpWOHIFlP/Vh44Vrfsvj4471E8+VERzciIY3o8Y5ESxsHEde5E3AkHgyV9cdTesl8ltgQDQOlj7ODJ+EQLtJd0XOyFBVbj1qVY6G9SNvgJ2Wd6/jBxVOcn79ZiowttiGmP0OMCyHevN/y75/aODoZ5O+xUZD0IW7tfvXtkioyJobL59zYsOLp0RHbJL3ZwYmYFFmDn07K5VABVhRFsS5UgBWrAv18/nPRj7i4HwibGKLnW5Iq3GEpUTdKopwV+aI+rz4xtYflChXNaSxi+u4l5OCeSRKVLG8fi22lovKsS0TX3kwk2jvL83WbT1y/jGi4jGfPZpd7bv/++4y0lHp1laRHxyURju8T7dyIWQnEihRJFS6Q7jH3S9R07P1SHMs2li4un9DR8RORoYq06jFAZL6pvzzGIYq43lWKYtUPk/Tjqrqw8dgcYk6vK3jcbGLEYWLMWmLEAcvLZm0cM9vI8oPnbpXo703vVL/8FlwwWlPib2lNklSVvn4F0c+nzJ7WiuVQAVYURbEuVIAVq2LfvhOMi/vO0tOoMozG34m6K6Rq8OjhEkWtE1t279t3mkqa5qgRxPSOImm9Z8hj6kaJhDb3IV7oWXOSsBQi7UUr6hqNxKL3iqduzsyX1/KKQY0ZJnMvr3VPVpakLd82QyK3TTwJO2fi+ehi5/PgwVOFLWc++GAnUddJxNfGIP1+kzIlhXVbkcja1jQpVhSyVX5fkkw085UU4qfel2g8YokOiyseze0+j3hwM7E1k4hIIwzJMrxSRYavdzW36LnS8e5NxOh1xDv9K//YR1cSD/xCjIkhHv7I8rJZ28fEu+XvqyYEuKQMDw4w1z9wcJKLgP19+OGHfxDNl1+2QJ9S/agAK4qiWBcqwIpiIfbuPU60cCFeym+V0zBEWvo0CTCL1vM3SySyhbesSezoKFFE2zii8xLpgxuWRqQaiYBUWcNoH0PcXwXVjS83FtvKutJmvsSGDPOX9oL2L109zLetzyAaB0pxqMm9i+9ndlM5Jucy0qeLjuHj8s+TG9HXh7/8Yi6Atn//SeLJCGn/0tBZ1o23cZX1kplGIiV/fitT5Tw6FikUNXW1ub1MVII57dRolHZLHQzEfY9WrpLzmGHyGnVZTAycIi2Jlq8nentLz9fmriL8FemtO6mvRI0fGSl9hovet+gKJXpRU2JcAPHwJ8S7PSwvmLV5jB4uF6XGVnHP4IqMbekEDJwxI9HcSqkgPbrdCgIGrl+/04KfYgqpAqwoimJtqAArioXA0ADpC2o0iiAmZRKBqZIy+/CDkuZbL0IqFLumEFvyxSzVSKRcIlIanCbyddPs6qsgPaexpIW2dpO5F41Y3e5DjA6VL+rb0s33pRqJp7eKzBekay+2lZ68t75R/vFkGiV1OWAzccNKYqAfL1zI4YULOfzss33EQyGErYG4x594JZaAQaK/DZyl6nPRfXlsIJ6NIt5PkWq+jQPzWwVFmvu13rpS2gV5p8r5X3CZ4l3ljVktRJ4QT4zfQNRzorf357IeuZ+PtMhqGHL5glQNQ8zVqm+cbXkhvJbG7CZy3pdc5uJMdUaAB+RXwB8TKuuAYZD3+9hQ4q01xA0eNBp/5/nzORX63DGZTPL3eZ0ro6J2VPOn3LWBCrCiKEr1swTAbgAnABwBkAygT4ltegP4CMAZAAcALC1nXyrAimIh0Hx58TThuCQiahsx+AmRy2GPEpsyr+yLs18qMWmrCFzRIkhVMRY4SCS359tSmKro87ptIJosk8rLtobSaxlTjSLAY+/LjyBPk30llXOciekipDBIO5gnInjo0CmGhHxFdHAjGi+Tys7TVhED/SRF9M04rlnzvbQ+KpCIDanEu+vk/p5eklbaxk0i6I88QDiEEQN8pWVV/WXEDbNFPHu8exXnqa75IsGgYOLxiMLX3mQySSS420yR8LkNy9/P5N5yrodOJKZ1rprXcHJv4rUOlhfM2j6W2BC93pQLD1fyd5hslPZdVyPBKRnEwnjpA1xwQaggS+H9FHN6dH6V85Mnyy8GR5L//nvW/BgYmJOTV90fdf95VIAVRVGqnx4Amub/XAfA2wD+AmCTf1sjAIcALANQF8CtAPYDeLOMfakAK4qFQGtXwvC+pN2OCyPsHYk6jrJ+tqoiSNd5EBPvqlopmHCP7DejjCh0Px/ipVg5vk7uxLL1pbdZlCTtjlq7yX7KE4SIbZJGPcCXZ85c5OHDp4kHgwk7R5Hbd9dJn9R6TiLDL8Tw0KFTJMm//jpdXAxgIDq7Ewvi+cMPf8u5buIvfV8bBhG2fvzzzxPEQxEEYogWHsSQJ6RNzpWco4X2EtnuvETk/rFwoq83z5y5SJK8cCFH5uT0vsitQ5TIeHn7e7mrRJNfb3vlr9uY+4knB0jaOuKJm2cRi+ykZZOlRbM2j7ebS0bF2kqKrHeqOXJ/qdZeVzu2pRMJ6UQvL8LOkbt3HyXGhl4yNXrz5p+JEUHMzPy9+j/orgFUgBVFUWoWBwBvAcgD0DL/tikQIbYtst1MAL+V8XgVYEWxEJgZZy5sMySAv/76L5OTfxOhG+ArMvl8tLlC8aZUibCWJZ5lja2ZBNYSsyqwzrQyY8jjRL9ppZ8vKYOwNXDfvhNyfKNCZV1uye2MRmJxMjE3SSJkJe9fl0z09xHRfSqSFy/m8quvDsp66cEBEilPTJdU6zau/PTTfWWe3127/uXKlZ8Ro0IK51R47l9fTdR1J+qGEXYruXHjTyLAtgFEK/crT3s2QKSy15tEBydzZHtbOtHVg35+X5jn8GacFOnqtZKYvdnc4qnk/pZCJKq5L1FnlUSln721cnOacE9+RepIiWYOmErUjSYahMrt1ZUq/18Y4weLAK+rpAAXyO+9T5X9Pq/qUVAsq6tH4cWfH374m6dPX2Rubh4PHz7NCxdy+O+/Z2k0/s7t2w/w00/3MTFxF9et+4FG4+9aUOsKUQFWFEWpGR4BcByACUAuAI8i962EpEUX5W6IJDcqcbsKsKJYkNOnL5ZKQfz5538YELCdoaFfS+sT701EcoakTDs4EY+EVOwLcXiaSFVVC8GDDxev+lwwIrcRDZwLj2PRokxiRFDlvsT7bZaqzWNCefz4eZJkWtpuSX+evkrkeWuaXCDo4124zZWQlrabmBTJ3buPkiS3bPmFaOor0emGIcRDD1e88NVSSNuqoROl3dH1rsTGEmndU2OILu5MSPi1sI/10aPnpO9rRzeiz6sSdS5r3w1CicA0KTY2dKKI8B0vXHpOb7WU9lM3z5Iq4U5F1rFmGOUChEuKpNy38iTeaGN52axt49VOIrFPbiX8Uyt+8SkrSwqfVTZqfDUjNZNwWk+8GCOZEQ2c5WKavaN8dhRJe0YbV1k+0NJFMiO6eUiLJTtH4qEQJibuumwqtWJGBVhRFKVmaQZJbX6syG0RANaV2K4nRIDblbhdBVixav7v/w4Vrgv9L4Kn8osztXIhWrowI2OPfFGtyBfiTZkSuXqmb9VKwaR+krpc8vm8NhJtVxTO/fvv/xJh99x4+bmuT5Fot4MTMWuN+fjfWiNf4hfEm7d9PpqAgb//fqzKzvOpUxckhbSlC7HkPalI3SRA1gdf6lzMdyCeul0qOtvGSXR1dhKRXoYoJaYTz0SJjHR2588/SxXrnJw8SeHuOJ/o/3LpVkuzWkjl6qKFzxYnS+Xsl7oXl/QlNtIia8I9IvE3zyJeTSA8U8o+72vSJVW3pZeIXrtlZUv/y12J526xvJDW9FhQV1qNtfCWiw73PVb6HCZkEs9uk9du8JOXLlBXTFiNxGsJRGx6xba/0hGbKBfREtJlLfyWtPK3Ddgsa+phIMaGVtnf138dFWBFUZSaxwZSEOu2/N81AqxcM6CLu0Q4JkVaeirVQk5OHuPivmNExP/x/Pkc7tx5RNJmKxqJmpZAdFlU9VExh8jSz7VsPdHVo9j8X389UdbtljW3pAypgt3ZXSJPfbz55ZcHSJJnzlwU+W/oLFHhYmKfSgzyJ7p78uLF3Co5z4cP568ZHuxP9PEm0jOld/ENC8s/D6+3lZZT9SKIWYkiNBV5TZIyiIeCic7ujI39lrGx33LSpA1EUy+R1g5Osu604Hneaimp7KlGIjpd1pNuyiTunixrhxuEEk39RYgL0m4RL/t5KUGiwFMTiKnbRNSe3SZiXFBdunGg+ecW3iL1r3aSKuRLbIh59WWb8fdaXkgtOSbcQ7RbXvr17D1Dzl1Tf/l3w2Wivgn5762C12tBUsXeN1U9NqWal1e4fCBLLmwM8nfQ0JlY+n6V/G1dC6gAK4qi1Dx1AJwFMCH/9+dQyTXAM2bM4KxZszhr1iympKRY+v8SRakwGCPtdjw9P7X0VGqECxdyJBrs+H7FvuS+nCCFnq7kC/98B+LxgcT8esVvn1dfhOyDEl/0F8QTt64sNt/PP98vwj4qhNhYpBDQumRJu+zrzS1bfuFff50ufMyZMxelyFVPLykQVmb0LJOwNXD79gNVen5PnDgv85oYTqxOJ+xWEXMblH1+HnpI+jJnXsH6zq1pxIRwqXB960qimxcxLJYISiN6vyYytdBenue1DhIB7jdNhMlutfxbZ5XId1HpLTrsVokE95kubaZ6zyD6vSLj7snEE3eWX+Rrob25PdNSSD/qgtZV1+roN4247fXSr+VL3YhOBqK1OzF62KVf90wj0dEgBeAeeUBep/cyZJ1w5yXS7qymBPipSCk0tzVNpHdkMA8ePMXDh0/zxIkrX1pwrZCSklL4vWnGjBkqwIqiKNXMTACt83++DkAYgGMA2uTf1gjAQQDOAOpBqkD/Ca0CrfwHuXgxlx99tPeaauWB21ZKEaeKfMm9e7IUPKrsl/0FDlJsCfFES3diUZ3i97d3JmYnlhbg3t6l5rtjxyHibj/iBg/Z5vEIWdP7aBizs0tHcL/66qBE9dPKaY2Umik9UDu7V8vr/tFHeyVNOSuL6LRU0l7LOkfP3SLnZ/i4qxORpEzCZo2sPbaPkX3ax5hbIy22IxoF5UeaW4qQzq8na45f7kpM6SVFsd5tJNsutpXU3QV1LS+NBeP1ccTojcRzK4iX3iSW2tXM877bnRiVSAw/SoyOJ5ZcxTlpEiip51HpRFiaRP2nbJN11MFpRFuX/Ih6UPlR3QVJcnHj+ZslCt/Un2jmK+2yGgdKz++aEmBjkQs3E8IJGK5qTf21jEaAFUVRqp9tAA4DOA0R3c0A+pfY5lYAH0Miw4cALC5nXyrAimJF/Pjj3xJRjatg2uScJIk4VeaL/iI7ots8opUbgWUEoogb5kuBpo4GKZiEeOKFrZIqXPBcC+OJW1aWOe/s7FxpBXTLSuLB4HIrN5P5UVhbA/FesvmL+qZUImSr9Ptt40r08CwsXlXVpKXtlrXImUZZH1s3SmSz4PzMaEcMmiQXCGzjCJ+rbHGTaRTRvn2qpBy/3rZ0Feql+aMgKmxNY1Fj4n4WH6+PrpnnfiRJnm9sNHF/LvHaJVpNGUBM6yIXjUquwzZAXvOC6HrdSKLTEoms14uQjIghT0jq+sS75bZHRpovcLikENMTijw+SiL9TQIkqvzYILno8VYiEXqJNbrVNYYGEA2c+c8/Z6vlb+q/jgqwoiiKdaECrChWRFbWH0S7ChbBysoiQtJkjWhFhWFuAynk1MqDaOLC4OCviDGR0hu3TgjRyJ/oEEi095a0yZYuIqVRCdLyaJB/lRwnRgbL/ju4yXpEGKRq7R2+fP/9H5mbW/WR38LnvslLnm/aKuL9FElPtY+RSPqwR6Vg1HUeIjThVSQrcemS2lx07W/J8VbL/Ii8l6xHLSrJcxuKOL/aiXi+JzFijEQkm/lJReqXulWdVC4FMbsJMbtp6cyA8sacnsTUd4ixUcSj7jUXAV7QihjnTzySToyJuXwEeNxQOW9N/In7xxe/b6E9cedzZokdOEVun1efeOP64tu+0FMk95UEiRw38yVuWETc/pI8Ni5d0qYbBUnV8HoRxPIUkeai1bprakxfJZXI6znJRarunvz228PV9jf2X0MFWFEUxbpQAVYUK+HgwVPS47PJsop/sY1JF3m7VDuf53sSI0cTDz8o1YxbriDqLydeW02TySTR2+ei6en5KVNSfmNo6Ndcu/Z77t59VL4435Dfd7TpcmZk7KmSYzWZTPzll3+Ylrab33xzmGfOXKyS/VaErVt/EQHv7yOp0IvfI5ZukQjtbTOIp7eWXv9cFaODk7QkKus1ereRVGi+7XVJPW/uK4LVdYEM2ziiTqwUxWrqL2uTFyRJBPuepyW9evhYSZleVEI+59e79PrexbZS+XvQM7JO1T6mSCQzmrjr2dLrxAvGM32IiXdJn+Fnbyt/PXVtGottzVkOXRbJWumC+5bYEH1flfvG3lf8cdM6Ew88In9H0zsSg56W7QZMNUeUF9vJbc18zeev77Sa6RNcoQtmW6U/+fjwUuv5lfJRAS5FawBrIfVojgH4FMCQ/PsGAvgKwFFIAdcfAbxarWdCURSlBCrAimIlYGB+e5LbfSr+hTbDKGL0WhnFjma2kQJJdaMknbfbPKKpE3GDBz/4YGel5mYymZiXZ6qmI7cMJpPJLPgOTkQLl9IVqatyRKSJqHafWzwSPCs/8msbR7ilEEn5shScJv1pe34gPYLL26/RKMWVus2XSKNDpLzuDz1EdFls3ndrd7kQMquliNrMNsQtMyUy3ThIRO7tRFkDm2SUqtR+qbKPll7EizcWf39NvEsKdbVdLlWmG4bIvkaMFal8qbtEtS0tvGWNefXNkl9yDfhSSIG4ko8ZOrF0IbKOBjmXL3WT1Oph40R6ES+FzZyTi6/FrS1jdSJh51hlVdb/66gAl2IDgI8AtIB0KnkbwClI685WADoX2faEEVybAAAgAElEQVQ2AH8DGFVtZ0JRFKUEKsCKYgWYTCai7QpixQeV/zLbdYGkxJb8gt84kLjlTSnok5VFzF5LtF3Bc+eyLX24tY68PBPxbJTI8LZq7Nu6KVPSq+94wfxaLXAwRwvrRcjrNnq4RKERLwW0bONk/ejl9p9pFHG+c4pc9Bg5WvYTly4Fnjotlf0VCNptr0sWwaXabmUYRWrtY4jJvc3zvu8xKfRUdFu3FIkiNw4kbFfLuOMFSae2tPSWHAUSW9Ht59eTXsDN/PKjvH7EO83ktSo4p10WE+OGyGu5vhqyCKpqZBiJTu5cvfo7S//pWQUqwKX4FsAbRX5vCMAE4I4ytr0NEil+u0qPXlEU5RKoACuKFfD332ck+nsl8rUiReRkUj9Jge3xrkTlWrgT9wYQc9cRwVuIpsu5ceNP1X4sv/zyD9HdkxgeVO3PVZWcOHFeXgOfTdUrHz3flpY7RQsxzXeQqs5LbIhHB+fL2Vrp27ugrkRqGweZ9/FGnKzlHBZELH2/cq2atmaKnFU2LXd2kgj68HEifQ3CiCXlrGf1TJG16X6pxE3vSOr2nc8TY+6XNdftlknq9lO3E0/3J+6fIMWlXulCvNZe1uq+26jqZLfvNFmr222+rP0tSHOujAAXjMW2kvpdkO5d0B+4uS8x5WbJuFhqgXW+lR1jQolRoTSZ/luZHdWBCnApngZgBHA9AHsAcwHsAuBQZJu9AM5DxPgHSFcTRVGUGkEFWFGsgJycPKK1K+G24cq+zC5NNveG7T+V6BlLNHKlo+OHUmjKzpF4NuqKv+yeOHGeGB1KPB99ye0+/nivFLWyMRB1nazqy3VU1A5Zg30lfX8rM8LTRJraO4vslSVZM1tLqvIbbST1tn64tOXJypJq3A2dGRb2NQ2GLOkb/VBw8YrdVzq8N8k60fLud0oWge9kkArkFU3v9UslBrxI3LBQ+la/myT/tnGT1Oyeb0vv3LrR8h5u5icp+1Uhv1N6SQTdJb/g2Q0LibueIx7aTHSvgueY1UJEfpGdFC+rs0ouAFhacC83grfI32pf72uqzdyVoAJcik4AkiBymw2J8N5dxnZ1AAwHYIC07VQURakRVIAVxUpAVw/Cef2Vf6HdkklsyyRGhRBdPQqrvJpMpqte67djxyGJjtZxvKTU4h5/2a7JMiYn/3ZVz1nTbNr0s8z9Hv+Kt6EqbxiN0ubJa6NE4KMTit+flCmpwc19ZL3sq52ksNJjg6RQ1k2zifphIm43vSNrSTONMq8GzkxI+LVw3gcOnCS6uBNPRVZ+nikZkg4blSCR5IJq3OPDzG2qKjP8U6WwVNgVVs/OyF977JMq0earldOx94uQjr2v9HM9u01SmqsyrXpRHblgYR9DGKwgCrwtnWi3gkuXZnHv3uMW/Our3agAF8MGwB4AkQCaArAFMBZS8Kp3OXMNBOBZDedAURSlTFSAFcVKwIggYmJ45b7ArviAuD+QeDGGeDiEmBJN1HXid9/9VeXz+/DDP7hz55HLbhMS8hX/+ut0lT9/dWMymbhu3Q/E4ABpGXMlQvFeshTW6uQuUfDWrkRvb+ntXFIoM4zSdqmFt6TN1o2WlkZ9phOvJRC+qSKDBdsHbpFo/oRwpqfvYVra7sK5b978s0TzZq8l1lRQ3pMzpOfytFXEhlRicyqxYB0xJP8ixkC/ykvwLTMlE6HNFZ6/glHQTuhS1c0rMtoul2hzWc/xcoL0+a1KAS4YT90uEux3lT2kq2MkpBdfauG1US6+1XXirl3/WvAvsPZSawW4AUhW3UhJAWfNktGoEQjgrTKetwUk8tunxO3/B2BOOXMNA7C16g5dURTl0qgAK4qVsG7dD9Kjtrwvrq+vFpl6LpoI3SriUs9JWvrc7cdFizJFWp6NsvShWDXfffeXCOBrqwmPDUTSJYoZpWSIQDwdKVWk7RyJ230YEfF/PHcum0eOnJHIcl2nq19bXNCOakSQ/GvnyE2bfubmzT9zx45D9PP7QtYF2zsSi967dGGrghGfLMdQ8HtiOtHGlf7+24l+PrKvpyKJOWvLrpCdaSRiE4m0/PTr5Snm6shXc6ybM2Xd8CtdrlxC32kmEhpRTjT6jhekWFh1CLABxKgR8vz+tUyCYZBR8vZRoUQbV3700V7+8cdxYmoMExN3WfrPsVZwrQhw0dGxY7kRYADYCZHaxpCI8GjIet9hAMZDIsF1IOuDJwA4B2BaNZ8PRVGUQlSAFcVK+PPPE0QdR4nGlfxy6r2JaOjMwMAviUH+Eu3r7M7PP99v6WkzJyeP//571tLTqFISEn6Viw1Nl0vUNXSrvAbjwoi+3jJ6e4sgXudKDAlgWtpu/vDD3wwO/kq2a7dCXs/O7nLR4mrb4cxdJ2t9H48gIrcRT0RI6nMXdxHvLu48ezZb5t5kmUSgb1kpF1W6echcw7eVve+4JMJzIzHAl+jvU9jy6ptvDhN3+8mxNnSWolt+m4n1KbJWuLunyFRPL2JdslleU6tgHXUrLymQdaUC2nkJ0fu1sve9PEUi7i/cVH0CbIBE8299o/TFiC2ZUlQs0AJyXDICXDAyjBIJvsO3UJK//PKAhf8SawcqwKXoBmATpL3RCUiRq6n5970K4BdIW6RjkMiwyq+iKDWKCrCiWBG42494MLj0l1Pn9UQ3D0tPrxSJibuI61cQMPCHH/629HSqnLw8E/FMlIhss+XE2FBGR3/D0NCvGRT0JXft+pcmk4k7dx6R1Ommy0U4HwomXD4QaZ27TsRz5UZJY66qIluBW2St7tQY4r7AYq/B+fM5/PHHvxkZuYMffLCTGzf+JOnOM1abH5+YTsxbRwwJEDluu4IYHMATJ86XeS4OHTpFDA8iWrqIIDk4EU9F8tSpC8TQQMlGKLnW+UqH0SjtosYNvTLxLGgttSHDLHc+qdKm6eUEiS4X7Ht6B4kGP/JA1QvwG9dLQa8GYfLcWVlEupHo4CRFv+xjZF41LcFljXXJRPPl5gjxVRTN+6+hAqwoimJdqAArihVx8OApKUK0IL74l1On9UQPT0tPrxiYtUaigjd4EM2X8+jRc5aeUrVx7lx2YVS0LDDQT4pnzYwjXomVSGoDZxGKm7zk51Yu8tp2yo8ID/InHqvkmu+C4b1JhHNUqMjv5KjLrvtevNgoadoPBYv0NlomEdxJkdy370SlzsfFi7nMzc0rfg4mRcrFkKstIJaVZe6BPPA56WldWfF88zppIxWZJtWfr3clGoZIVPl6V+K5W8xrdRuGSN/ixkHEQvuql+C7Jsux9HyL6PUm0cxX1kgvqEuMGSbFvt63YM/gzWmSVl/XiXgwmCdOnNe1wCVQAVYURbEuVIAVxcpISflN5ObFGJGkjm4SnRsfZumpFYKZcRI1HBJA1HPiJ5/8aekpWRRMiixcl4s7fRkY+CV37DhUSpqzs3MZELCdeCiYCxdmihBPWyXRWKORiEmQdceeG0VyZ6wmJoRLobPBAcSdvuZ1vnPWVmqO//xzlj4+n9NgyKKz80f8/PP9VRrhy8szSVp2k2WE+waJum5Ll2Nx2yDtmxbEV7zXtVuKVJRuuVJaDT0+UNoX3TZDJPblruVLZ/+Xzb2Um/oTw8dKheYCOZ7eQXoPO0QSDz0kKdvtlhE3zyLebVi1AjyvPjH+Xpn3vU9JWnfR57h5lvRErk7JTcssv02W4X1z1HdsKElyz55jxOhQ7t59tMreH9aMCrCiKIp1oQKsKFbIhx/+QfTxJsaEcvPmnxkd/Q3Pncu29LRIkkeOnJEvy82WE21c+emn+yw9pVrBP/+c5YULOZV6zGef7ZNK0TBIlNjBSS54tFshqcZ3+xGPhdPN7X9cufIzhoZ+zdWrv6vVLWvw1ho5lnpOclxtV8g66FtWFlYbxk1exEuxly4wlpUl6eIdHUVmW3gTA6cQk7cR/aYRLb2I+Q6lhXPYo/nyG08MmCq9lp+7lXhgFNFtPmETJ2JsHy3tpQqea0MG0X2uRIKfuEP2tcRG0pivthp10TG7CTFyNNF3mkSEh06UKPSsRGJrFfRyLjmiEswXZ8rrM745TdZ0OzhJOnub/PfksCBLv51qBSrAiqIo1oUKsKIoVUpubp5I2s1ePHLkjKWnY/WYTCb+/fcZfvPN4avu11xbyMnJ4/btB3jw4KlS9/36679cs+Z7KZx1s9flI8JbMon3SohyujG/yNUMs1guBTF6uKyr9U2VaGtrN8JmjUSBb1hETNoqKcf3PCUFqmzjiFEjzfs1GqVtkm2cSGpLLxHp+mESqR03lJjZ+uoEuO80Ed7nthHtnaV11OjhEoFuHCS9vKtSgFMz5aIDDMQjIebbM4zmwmxb04iHQognI4jRofLvIyHEg8EWePfUPlSAFUVRrAsVYEVRFKVG2bv3OFes+OSS65IvXMiRFP9my2UN9dhQactUUbG783mRYAOIGe2Im2YTDUIJ70sUlbp5lhS8KpDRF2+UatALS6xbfnSIiO+tb0h6tF8q8fw2opWnpE2/3vbKBXjs/bKPFKNEgAtaMb3dnLBZS8RXYj2wfyrxduLlpdnwvlTynrfOfBsMRA9PSUsvSIF+OF+Qt6XLRa7XV9fgu6b2ogKsKIpiXagAK4qiKDUKbvSUNkwOTsTY0HILiJlMJqak/EZf3y9kPXkPz4qJX2w6UWeViOi0zkT9cOL2l6QF06UeVzeKmNaluJA+OUCiwiVbFa3LIJJL3LYhvzjXiLFXthb49pekABbiJXqNeOLuycT946VadN9XiXlJ5fcuLhjR6SLndaOJti4y/1cTiDUVXF9tNBJjw4h315rl95EQ6QltNMp68zt8eebMRX7zzWF++OEf/OmnI8zJyavhd1LtQAVYURTFulABVpQSHDlyht7enzMh4VdLT0VR/pNgaoysAb5R+gRv3375frLr1++UdlNbLyN/WVnSx7dRkKwFrhNLDHmiYuJXJ1aixUXF9I3rCbvVpQW4rHGdh0hnWZWpl0Lk+pm+Umir5P2PDRLhfWorEZMuKdr2MUTXBSKz85NkDm+0ubQAJxtFePtOM0eiJ/WTgmF2q4lOBkmprmjf6cAtxNL3zduHb5MLF09HShXzhs5S3dvBiWi7gv/735/89tvDXLfuB2Zm/s5ff/3vV4xWAVYURbEuVIAVpQRz56ZLxMPeUftcKko1sWPHIbq4fMyIiP9jdvbl1zYfO3ZOqlzXdZJI8OSo8qU01SipzLe+QcRVMOqZlSXCOa1zcTF9rb3cXpHHz0sSibaPkXTq6R3MUeQbFoocN/eRdcfd5puFufs8Ym5DKcpVL0KKcN36BvF6olSsnpUo65orMoeYdMJulQh3Scme05gYNULWGM+5wnZUL8TI52NrV2LFB2YxzjDKfXWdRIp7eBYWcNu580gNvKMshwqwoiiKdaECrCgl2LHjkKT4PRNl6akoilKCX375h/HxPxBd3GWsq8S64MuNLotlvNXKLI3z60lktvMSSXuuSPpwWJqs3+3oKALdMISYsIXYmCn3G5KJmYmEUzIRlCZ9hp+63fyc7zQjbnlT1hTfPZlo7ittkipyDHHpEumd07j8dOvRwyUSXNnz47nRnBI9Y3XZ22SWEPXxYVLl+9koHj582tJvn2pBBVhRFMW6UAFWrmnOns2myWTi3r3HeeLEeUtPR1GUCpKdnStyVc+J6CstwRCVUFy+tqUTXhul0nFFBC8hU9Km60ZL5HXoRCme1dQ/XyorETVNyJR+xIgnus0rP1r98IOyzdP9yxfWUSOIVl7mKHBCpqznfT+DSCtjv73eyq9m/XTZraCevINos6Jy8jszjvDbLIXJxoZdvkVVwUjOIF5fLdH7tiv48cd7Lf3WqXJUgBVFUawLFWDlmgXPrCYQQtT1IrCMaON6zRZxURRr5euvDzIm5hsR4LpOxK0riYnhxKNh5l7D01dVTvaC0iTy2m+aSHBHR6nMHF2JdOqCkWosHRUtGXXuPk8qTi+2K1uAp/SSFkhNAiUSXS/C3Mu4rUvpKs8ZRmJlqrRO6mQgZrYp0WrpVUkRL29OmUYiKp1YX0RyvTfJ+t/KHn/RfU6SdcOnT1+09NumSlEBVhRFsS5UgJVrkp9/PkIgmui8gLh+GdEogKjr9J/ps6oo1yK7dx9lbOy30jZpkD+/+uogN236WVopXa6f8KWG0VixIlhXMiLSRFLtY4jBT5YfBV5iI2nSjw4mnruVmN1Exo1zRIgnbyN6vCvFv259Q6Q4KVMi2XariZYrRZ5fbytyf72rRJLLmtO9T8k65HoR5srRr68mHgwmgrZc3Xls4cLMzN8t/VapUlSAFUVRrAsVYOWaIzb2G+K6/EI0CxyIHm8TNhHE7LWWnpqiKFWMyWQiBvgSPb0qngptieGfKhL8SpfS4vt6W5HdssR4KUSMu82T9ktTeknlaLvVIsLJRkmVdk8hBrwoBbIeeIRoEiCiW9Zcbn9J2i41CCMW5Kd9t3ElblspUfVRobIG2GdT5Y7xdh+irhMPHPhvfedQAVYURbEuVICVa4ovvzxA2ARI6mCPOURDfwIxxEsqv4ryX+X8+RziJi/pZZt4FZHg6h5DJ8p642GPEgvtJSW66wKRVps1Uk26pAAvtJfHDZpUvPDV9I7yOTczsfhzLEwi2i+T+95OLHseWzIlSnz7VHOU+DpXpqXt5vbtByS9/C4/STkfFSJtkioSIb9+BQMDv7T026HKUQFWFEWxLlSAlWsKDM6X3/bOhF0s0dCNX355yNLTUhSlmvn992NEd0+i7QrijbjaGQ3OMBJzk2TtbqNg4q5n5fNqS6b0AW4UTDx7a/G1wk/3F0F2iCTG3C+3zW4qLZY6OEkEuOTz+G4i6jnLmtyKzu3ZKMLWQAz0Y3r6Hml5NDZULio0Wka8Vk5V6KLPae/Ijz7SIlg1hAqwoihKOagAK9cUuMGDsPOQKHCLJfznnzOWnpKiKDVEXp6J0dHfEN08JCV6XJiI3TtriccjJEU3OqFy0lqdItxlsTlN2Wgk7psgLZWaBBCPDySmdSEGPSNtkoY8QTQIJcYNlbXAN88qv3dwbKIUB3s2Sn7PNErhrw0ZsnZ4cTLhklK8eJfRSKxKJJ6OJK5zJVq5iPhODOf//venpEbf7SdS7byeWJskVbkT0mU/D4cQo0Is/RaoFlSAFUVRrAsVYOWaYvr0BKKHJ7/++iBNJpOlp6MoigU4c+Yi8Vi4tFEaGUz095F/YSCmxlxeUFMzRZqnrSLeT6mY1CZnECFbK94+qLyRaSQGbpTIsN1qoqNBpLdAmlu7SeR382Ui3LPWEMMCibRMoufb5qrSWEu0dpf1vwOniPiWt4+4JKKeE52dP+LHH++lq+snxAPB0vcXBqK+s0SNHZyIZsv59dcHLf3SVwsqwIqiKNaFCrByTfD55/uZlLSLgIG//37M0tNRFKUWglEhIm8bUkVUb/SUaGc3D8Lwvln8xoQSHd2I3t4iehWR4IdDZNtO7iKdVyPB7yaJrN72eun7bp9K3DJTeha7pxBryxHuieEynyXvSap1cx/ivseId5pJGvXM1hJp7vfKpefitVFaT7V04datvxSey+xsqai/f/9J/vTTkf90izkVYEVRFOtCBVi5JsC8dcT8eG1zpChKuWRn5xJDA4i+3lLluKEzP/nkT/r4fC7pvqmZRMQ2wsGJu3b9S5LScqn5ckkBHuhH3BcoEt3ZXaLMBRHfR8OIQf5Ej3ypDiynnVCGUSKr5UVeM41E5DbCsIVw3UQsiCc2pZrva+FtjuY2CZQo8aiRZe/n5ViR/TSjFN5yiJQ1xQXri99uLpHg218qXuQq1UgkFpF4o5GYvZao78yDB09Z+FWseVSAFUVRrAsVYEVRFEXJ58SJ88SdviK1c9fxwoUc4v5Aws6RSMmQFOn89bN79x7n6dMXmZz8G7/66iDd3P7HFSs+4ZYtvzAh4Veinw/R0oVYGC/iDAN/++2opB4/GFy24A4NlP139ZAo7brk4vc/Fy3313UiWriIaNsaiA5uIuAPBBPjVxPXuRP1w6SXb493KxZZHjiF6P1a8SrTb7WUlOhebxFJ+RJ84xwR7AcfLi7qDwYTvb2vuQuNKsCKoijWhQqwoiiKopTD/v0nRTg7uBFz10kU2Hm9SDIMxOjQch9rMpm4Zs33UjAKBqK1K48fP0/c4UvMjBNpTDdKIavBT4hMXufKbdt+5apV30o0uaWLuTBXQjpxgwe9vT8v9jyHDp1iYuIu+vl9wYULM2VuDZYRd0UQN4QR46KI4C2XXs+blUWsThdhbu9cPBI8uynR0VFSq7OypDBXC2+iURBx0zvm6HBShkS4R5V/Tv6LqAAriqJYFyrAiqIoinIJPv98PxcvNhJNl0tq9OY0kUxbAzEx/LKPz8nJ45kzF2kymZibmydFocK3iTTOTjSnLIenEQP96O7+P5Ii0JgSLcWkBgcQTZYRfbwrlGacmLiLmBhOX98v5LENnIku7jL3S0nwlkzpHVw3iphwD7HExtxuqXGgbDM/SQptvdRN5r0hP83baT0RtpVwcOJPPx256vNuLagAK4qiWBcqwIqiKIpSAT75JL/dj/cmieg2Wsbc3MoVd7p4MZewd5QWQVlZhHcqYR8jacoZRuLtNUQf72KP+fLLA1yx4hNmZOy54ur1Z89mS4p02xWSxv3BZQp3OSbLvBoHSfulVl7E0Ily3/oMs7Tf+bzc5rZBzklfb6KHJ9ev33lF87RGVIAVRVGsCxVgRVEURakgGOhH9PEWCa7rxOTk3yq/j4eCiZFBxQtSFfz8cixxu081zJzMzc2TPsj9fIh2K4gtl4kGpxqJpcnSj3jIE8X7CkekEV6p5t+fiiTqOMra5aGBxHPR1XIMtREVYEVRFOtCBVhRFEVRKsjx4+elDRIMBAzFWv9UlN9/PyaR5FlriPeSpRLz8vXEsCCinhMzMvZUw8zN5OWZiHv9iV5eUnH6ansTG42yRrqOI/FwLNHjLaK9W7UeQ21CBVhRFMW6UAFWFEVRlEpy8uQFnj598Yofn5Dwq/QXthGRRns34vEI7tlTM33Kz5/PkSJbMIiMz1krIp5pNBe1Ss8k3lojKdMJ6flrhNOI6atkLXRqfiukpe/L+uS+3kSbZfnp0R48eza7Ro7F0qgAK4qiWBcqwIqiKIpiIS5ezOX58zkWe/6cnDxu2PAT0Sm/nVJ9Zyn2NX2VtFjq4i6R4o5uxNhQua+Pt9ze2pXo7ilFvQb4SlumdktEgO0D+e23hy12XDWJCrCiKIp1oQKsKIqiKAqPHj3HTz/dJxHf3t4MCvqS2dm5zMnJo7//dr7zTioTEn6lyWTi+fM5TEn5TeS5qzvRbLlEkxt6Ec18CDs3/vvvWUsfUo2gAqwoimJdqAArVsuePcckhXBUaLHKqAcOnGR2dq4FZ6YoinJtkJOTJ1WtYSCeiSSeiJCf7w+09NRqDBVgRVEU60IFWLFaMDlK0vZg4K5d/5IkT5++KF++noyw8OwURVGuDT7/fD/fe+/HwguRv/zyDy9evHYuQqoAK4qiWBcqwIrVgmFBIrutXXnhgnkN3Y8//s0//zxRo3M5fvz8NZPupyiKophRAVYURbEuVIAVq+TcuWyilRfR1INo6E0MC7LYXHJz84i6TgQM/Oaba6Poi6IoiiKoACuKolgXKsCK1YFxYXz++U1EPR+pNlo/xKI9J00mE3HbSgIGJif/ZrF5KIqiKDWPCrCiKIp1oQKsWB2Ys5Zz5qQRLb3zq4168bPP9ll0TtnZuTx8+LRF56AoiqLUPCrAiqIo1oUKsGKV5OTkEQ2dia4exJhQS09HURRFuUZRAVYURbEuVIAVqyQ9fY8I8PgwYoTl1v8qiqIo1zYqwIqiKNaFCrBSK8HgAGJcWPn3jwolhgQQT0YQo8qOAH/33V88efJCdU1RURRFUVSAFUVRrAwVYKXWcf58jrQ36u1d6r7Nm3/mjh2HuHPnEcLBiWi3ghgawNzcvGLbYVgMgVVEs6WFt2Vn5zIo6EseO3auug9BURRFuUZQAVYURbEuVICVWofJZOLhw6d59mw2SfLzz/czIuL/GBPzDYGVhJ0L9+07QTT1Ip5YTbRxlfFoGPPyTFy/fieBNYRDJIFgnjx5QSo13xdKwJ2YFGXhI1QURVH+K6gAK4qiWBcqwEqtB53dCTtHiQq39CDah8n63w4riWntiTfeIxr6EfVXErf6EfZ+RINQ4rbpBIJ59mw2w8K+IbBa2iYNjLT0ISmKolicL77Yz4CA7Tx9+qKlp2LVqAAriqJYFyrASq0H17kSzhuIHrMJ52QichvRw5Po7km0ciEa+YvY1omVfxFPjBhDYC1xU4jso2cE0dhX9tUy0MJHpCiKYll27jxC1HMi2rsRDwZbejpWjQqwoiiKdaECrNR60MaVuPFNEdumvsSctYTvJokIw8ksvT1nmX++3oWwC2RGxh7+9ddpYlBY/n1riP6lv+x9/fVBrlz5GVNTd1vgCBVFUWoWjAsjHggmXD4gmi+39HSsGhVgRVEU60IFWKn14JkowmZNvsAGiPjGJsi/N3sRQ8cTzVwIG0eJCNt4Eggmhofx44/3Ek2Wyba3BhD3hfPff88W7vvixVyiTyhhE0nUiSJsghkR8Q1J8siRMzSZTCTJgIDtXL9+p0WOX1EUpSr58MM/JPo7bx3R2pV4MsLSU7JqVIAVRVGsCxVgpdbz1VcHCbgS9QKIiRHSIqndCuLR0PwosIEY4MtDh06RJHfvPspDh04RY8PM99d14urV35XaN56JIWziiCETiCm9pHBWHT+ivZc87skIpqXtljXH/Xxq+tAVRVGqHAzwJaZEE/18iInhzMszWXpKVo0KsKIoinWhAqzUan788W/iTl/C3pGwc+SPP/7NvDyT9P+FQao6I4zoGszz53P411+nGRCwnbg9kHAIkHW/vbz411+nS+374sVcAm6E7dqEAA4AACAASURBVGrihZuIbnMkRbq+t0SbGwUQ48O5e/dRZmX9XhgNVhRFsVZMJhNR10kkuJ4T//nn7OUfpFwSFWBFURTrQgVYqbWcPZtNNPcj6kYQ/ScTMDAjY0/h/c88s5GwiyV6T5cU6dHRxLNRIsYNfERibYL5yy//lPscERE7CJv89cE2gVy69H9cs+Z74oaVxLhwXriQUxOHqiiKUmPg3XXEAF9mZf1h6an8J1ABVhRFsS5UgJUq58cf/yZu9CearmRs7LfFbv/228MV3k9Q0JeEbTQxYCphH0PAlcePny+8f/Xq7wjEEVO7Ex2WEnbBRFNXoqVLfmQ4hBgecdnILWasJuov58cf7638wSqKoijXNCrAiqIo1oUKsFIuP/zwN7/77q9KPw6jQwnb/JZEN5pbDiUn75K1uxUsuIJx4dLKaHpHookf0Tyg2P0XLuQQdXzzo7erzRWgb/LhkSNnuG/fiYo9Tz8fAoZicq0oiqIoFUEFWFEUpXpxBfA9gJMADgJYC6BDiW32AjgP4BSA0/n/PlLO/lSAlXLJzs7luXPZl9zGZDJx69ZfmJubV3hbevoewiZUZLR/UOHtBw+ekvTkVi6Xfe79+0/ytdcSCATKfpr4E/bLuGfPsWLbYUG8pEnDlWiygmjkS8DxsvMu4PDh0zKn9m4V2l5RFEVRiqICrCiKUr0sB9APQB3IB+0aAN+U2OYPAC9UcH8qwMpVcfFiLvF8dLHWQiSJWWuJNq5MTNxlvu2J/MJVPb0uu98FCzLMFZwnryfeTyfarWBk5A7+8cfxYs+3du33sl3z5VIwa8bqwvt27DjEdet+kLYf48P46af7SJJHj57j7t1H+eefJwhbA/Huuqs9FYqiKMo1iAqwoihKzdIHQB6ApkVu+wPAixV8vAqwUi2cO5dNYDnRztyeCK1cZNwfeJlHS99d9PQiNqYSWVnEQyFEVw9pbwQDUc+pcFuMDJLbnoosto+kpD0EYmWdcD1PYqAf0cCZUVE7iEbSG/irrw5W7YEriqIo1xQqwIqiKDXLuwB+L3HbHwD+AvAvJF16DiRiXBYqwEq1sHz5ZyKeiCc6ifBi+irCxsA330wmZsaV23vy7Nls6bv7YgzhlkK8nUg0dSEeCGZenomHD5/mDz/8Xbj90aPnGBHxfzx58kKx/aChG9HCg7hnElHfXyS58TKitSux9H2inlNhRFhRFEVRrgQVYEVRlJpjBGSN78gStw8G0BCALeTD6Q/I2uGyUAFWqgX0CBD5dYgg6knxqt9/P0Z0cid6eBJNlhEPhZRKnSbJjIw9Eil2SSbqRhFNAol+zxP2jty27deKz8Heh+i0iGjpRSAgP6Xai2izgohJJ8aHE729+dtvR6vsuBVFUZRrCxVgRVGUmmE0gOMAxlZg2ykADpRzXxMAnDFjBmfNmsVZs2YxJSWlJv/fUKyYc+eyuX37gTJ75cbGfkPAm7AJYHj4Dp4/n0Nc5y1SvCiRWJ1I9PEmenuXeuzWrb/Iet5Bk4hu84in+xP1wwhbZx49eq5CczOZTER9V8JmLWEXRrwQy4SEXwnbCJlDx0XEhHCpAG3vSMzTNcCKoihKxUhJSSn83jRjxgwVYEVRlGrmGYj8jqjg9s9BKkaXhUaAlQqDaauI21YS7d34xx/HiTYeBJYRo0PL3H779gP8/ntpo/TXX6cJBBEOkYRDFDE/iRgVQvQxC/CFCznEkDCijhfxcL6oTulFLLQn6sQS3QLKfJ6yMJlMRHs3ifq+EkuTSVKnC6tTI0DuH+hH3BdIwMATJ7QNkqIoilI5NAKsKIpSvbwOkd97yrm/O4B7ATgAsAFwF4A9ADzK2V4FWKkweXkm4hYvAga+8so2Aj5E20VEV4/LPtZkMhHNfSSlefg4oo0bYWMotpYXk2Kkn2+DUKK9E9FtPtEkgLCPJhDJtLTdlZrvsWPnuHHjT3R1/aRwvfF77/1ItA1gdPS3PHbsHNHVg2i6nP7+22kylb0mWVEURVHKQwVYURSlejEBuAjp7Vu0z2+BEN8B4FtIn+ATAHYCmAvArpz9qQArleLs2WwmJ//GPXuOEcPyqy+/tvryDySJ232lKFXPtyUK29ydmzb9TJL87LN9hK0v0cEgEd+ebxNtlxEzE4iBjxNwIposY1jY15Wa76lTF4jNaeUW3MrLM6n4KoqiKFeMCrCiKIp1oQKsXBWXkscLF3J48WKuRI4nxxJ1AiSV2SGS6DOdmBlHtHFlXNx3RAsXon4I8dTthAEiwT3eJZr5EWOGEXf5EY+FV3gNcEnOn88hJkVy584jV3qoiqIoilIKFeAyuRtAJiRIcxzA/8rY5nYA2QA+rvKjVxRFuQQqwEqlOXPmIuPjf+CxY+XL6MmTF4jO7vmVl92kJVLbZcTk3kTfaUT/l4moNOKmWKKhOzFytUSF324uAmwAsdiWGPK43G4fTdTzLdXqqCwiI3cQbVcQU2MKb/v88/0yl1tWVsk5UBRFURRSBbgM7oZI72TIkjxbSIZiURwgrTrToAKsKEoNowKsVBqMDpOCVjZBRPMgonkA8ZxZNvPyTERvf8Iumhj0BFE/mBg21iy2M9oR9cOJOqtEbnu9lV+YKp5YYmPerkCCRw8n7psg64N7BzI3N6/cuUVF7SAaLZOeww2dGR//A8n8AlswEDDw2LFzXLXqW6kA7eBEvBJb7edMURRF+W+iAlyKj1F+7ZkCPAGsBLAUKsCKotQwKsBKpTh3Lpuos1IKVfV/kWjjQjTxI2xDiRHB9PHZTj+/Lwj7IKJhCGEfQ7TyIEYUEeAlNkRrNwLBRJ0Y4vGBEhl+pUtx+S057ppM2EZwy5Zf+O23h4l7w4nHo3jmzEWS5M8//0PYeRJ2q4ju84iXY4k2riK/j0VIdek6K4ne3gScRbh7vkbAwLNnsy18ZhVFURRrRAW4GPUB5AJwA7AdwL8AvgIwocg2gwH8DKAeVIAVRbEAKsBKpTh/Poew9yBs44iRj8ia3bueI+qFi3jarJLq0A1CJNKLeOKprfLvgrrEIjui63zCJoaAI9EigrhtxqXFt2A83Z+oF0p08SDsfAibNYRtLPFUNEkSY8Lktgn3iHz3DCUeCSEmRBB1wohGQfmRZleina/8PCCK6OpRbpEsRVEURbkUKsDFaA8p2HoYQH9I+vN4SAHXgQAaAvgN5uKtKsCKotQ4KsBKpUlK2kVc7y8Sa7OKsA8jmvlIwSrbOKJb/nre5r7EDQuINo5S0MoAYtijsj2cicZOhH0s8UyfignwkMeJG98m6ntKIa3XOhAtPQh7L+KBMMLGP1+0HYjerxEI5aZNP8m8GgaLQNeJJdp7SgukIQFEk2X88ssD0iO4hyfXrPleZVhRFEWpMNeKAKekgLNmyWjUCATwVhnP2wQiwC4lbk8BsAJAMACfIrerACuKUuOoACtXhMlkotH4O8PD/4/o6UV08icaeRN1vInmroTdSuLmMGLYaClg9eKNIrHNVkqEGO4SMS64vayxqA7RaQnR3pGY05jo9SbRJJBoHETMbC3bvNSNsF0lkd/WK4gnB5jXGTuEE/Aj6oRK+nQHA9EgkJgcVep4QkO/ljXCTZYRvb2vuNq0oiiKcm1RWwUYdUC8VE2j4SXXAP+GsgXYFcDvAI4B+Cd/nIVUgj4CoGu1nAlFUZQSqAArV01B9BSjQvnZZ/uYl2fi3r3HCdt8yX3uFmL8vZKaPGpkfqp0HDF89KUjviMfIRBDIJpo52wulDXhHonm3jlFRPfFGyU6vKBu8cePG0I08yZ6vml+LJaL6N7mw23bfi08BvT0ImavJZIyiEH+RCsX4skI5uSUX3BLURRFUVSASzETwCEAfQDYABgL4BykEnRrAO2KDC8AXwBoC0mXVhRFqXZUgJWrxmQy8Y8/jhfrCfzpp/sIxBIjRhPjBpsFdEY7YloXYmr3y6c8d50vEVz4E61dRXjH30tM6SUS3WGJ7HNuw7Iff8cLcn9iBjE/iWhnIBr5Ea3c5XYHd3700V46O39EtHQh3lpDZGURGUbCab20cbovkBcu5Fjw7CqKoii1GRXgMpkLYB+AkwC+BjC6nO00BVpRlBpHBVi5KkwmEzEoiIAvMUEipv/+e5YYEUxgHeEQRdSNIuAhknnrGxVb72sAMW4oYZe/nnjoRLltXn2iXgTR1JVoHEBc50EstC/+uDmNiRbexNihRAcnYvCTxKxEue2xu4kBL8o+u3gWtkZauDCTaL6c2JwmEpyVRWxIlcjwHb7Mzs619KlWFEVRaiEqwIqiKNaFCrByVXz99UHCJiA/wutP9PUWqazjIbfVjSTgRMyLl4juHS9UXIANIF7qLhHjgt/fbm6OJt83QfoEF93+zeukQBbiiSfuIKZ1lmjx0kSR6dlNiBtnE4MmEVvSiMhtRPPlTE/fQwwOIAb6SQS4QIIT04muHsTjEZY+1YqiKEotRAVYURTFulABVipFdnYuU1J+45EjZ0iSu3b9S9g4EwiSys71nQi/TUTIVqLFMqJ5ft/d6/2I+uHlpytXZkzqS4wZVvZ9z/QV+a0fTvR/Sbazj5HWR008ibbLpR3Su0lmyZ0STdzoyf37T0ra8/AgIj3TfP+qRKKBMzMy9lj47CuKoii1DRVgRVEU60IFWKkUGBsmEd4hASTJv/46XZhGjCEBREc3+bmTG9HLiwcPnmJ2di7h4C6p0PMdrl6Ayxov3kgshYyn+0sBrMLCV/EEXIg6TvKzbRwxYKpZcFMyiAG+RE8v/vHHcYn43uFLbEs3b/NcNNHPh2FhX3Pduh+0VZKiKIpCUgVYURTF2lABVioFJoQTNgYmJe0qvO23344S3T1kvezdfhJBhYH795/k33+fEUlu4SLi+VqHysvtwubEjMeIJfZl3z8+v8jWKzeYb1tiQ3SfK+nP7ZYRdWKkoFZB6yX7GGJhEmHMT3dOzSRuWUkMCeA//5wVAe7tLVWhs7JkbXCB6LdxJXp4ct++ExZ8JRRFUZTagAqwoiiKdaECrFw1JpNJ1s/aGoiGzlI8ysGJmzf/TDg4EfaOhK0HUS9cxLSyAjx+GXE/iZdfL/v+sfeJAE/vWPq+gucb9ijR1J8Yc7/8/sQdRKNgovMSYm2+5G5KJTq5E2PDeObMRaK/D3GnrzkKPGctEbqV2JJOjAohbvDg+fNaIVpRFOVaRgVYURTFulABVqqEnJw8njuXLRHSoQGEnaNEfceGEU9GEPAm2jtVTnzndSDe6UvcnyMCPO0SBbRKVoKuyJhfj7h9KtE4kNiYv+Y3PplovpwhIV9JNeuGzoTHBrMEe6eKbAekEN08iFdXWfrUK4qiKBZEBVhRFMW6UAFWqoTdu4+K6D4aRjwYzNmzJQqM1ExJIx4RJunHFU2BntuNGLFfxPfN+4k3HpH1vVW9dngppCr03ZOLSO4mop4TP/54LzEzjmi3wlwZ+uUEEeCuCwiXD4gWLroeWFEU5RpGBVhRFMW6UAFWqoSVKz+T6O+LMSTJpKRd8vvi94i4JCIxk2jlSYwefnkpXVKHGPmnyO87fateekuOp/+/vfuOr6q+Hz/+AmQJ7q11ft1ba6vWCYgTcYu1jopaa+Oi1VpRAUFAW0StA1RUtFp3q3UQLCTf+u2w/JytVaute9UNihvevz8+N83NTW5IDklujryej8d5mHvuyMk9Xk5e+Zyxddo9uvjyR6feFCwzNl5/fU6w4vgUu7W1wTkPpADueW1w9++D5cbFlVfOqvC7L0mqFANYkvLFAFabufPOf8TIkbXxxhtzYvjwGQEXpUsjrXtRsPL4YK1zg5/1bsGuySun+O0XwYhuweDrg4H/Ds5etn0C+NxuwdKXBmcWXRqppibY9Yq0O/fAScH3ry+cMbomncxrsRuCkdP+O1p8111PV/rtlyRVgAEsSfliAKtNzZ37RUREsMnVhcsPXRFwabDKuBSaLd0tueqAdObng34a7PZaMODD4KRBzewyvXawz73B3tXp2OHWRvDB26frA99XdP3fu6YHvUYHS5yfLoNUWxvMrEk/15ojgkN+l+aNuSPoNTpqa1+s7JsvSepwBrAk5YsBrHbBtyYF3aamk18xOdjihNZH6TlLBv2+CA7vF/SbF/xszeDUAcFubwYju9Y/7uzlgj1nBfveFAy6NdjzL8GIHq0/FnjNEcF2R9UHcG1tcN19wVm3pmsF140Md/l1sM/AdCmlC6vT/GE3B8uOizlzPqv0Wy9J6kAGsCTliwGsdjFlyqP118391tUpFs/q2booPXmfYMDbwbFd0jHBJ343OLd3cPbS9Y85Y+Ng4IvBoNuDoT3TtOesYL8rWx/cJ60S9Lg+GFvdMIKLp+rCCPDpSwYDB6WR7bow3mxicMzUSr/1kqQOZABLUr4YwGoX8+fPj+effy9dG/iWB4Le1wTf37AVx+X2CvZ4LDj4x2lju8+9wVHjGz7m1F2DAe8EB54XHFu0YT56jWDABymgWxvBB+4Q9L46uHdm0wE8oyadzfrklYPj1wl6TUm7RdfWphNlrTDes0JL0iLEAJakfDGA1S5eeeXDYPtfBkuMD1YbE/SdFJy5ePnwHNEzOP7E+q/3uTuN5A7tmza2390r6D83OPgnaQT4wFFB/4+DQ49reuN86DHpMkrn9ml9BK8xMo3ulhsFXvbi4NBvBcN7ptHgumsIPzgz6D0mHn/8zUq//ZKkDmIAS1K+GMBaaLNnfxZseWWw1aR47LE3gg0vSrs+rzQ+WPeMYO1zgrO7lxzfu1Tw03XT1z/ZOhh8WTD0J8Hga4L+n6bR32OWKdrgdgmO2SmN+PabF+z1UHDk1uU3zseSHnPAuNYH8CHbBkteHkyraTqAd/husOUJwYgu6XJIkx+sv2+ziXHjjU9UepVIkjqIASxJ+WIAa6Gx/eSgy00BtwRcFux2ZTDhN8FvpgffPjroMzn44Rr1gVl1UDDgvRSy+1+SzvA8+Lpg7weDfW8MjtwsHff70y1i3cefiyHP3RJ7P3tf8HAE434QnLBlcN7eC95AH7lV0P+TYPhKrQvgEV2C1c8Ltj266QA+8t5gqx+kx677s+Ck++vv2+XymDDhT5VeJZKkDmIAS1K+GMBaaCx7ebD0xcEPV0/Hz257ZDopVN3Job59dLDGqPqTVvX/JDjswOCI7dK1fved2vQG9qITY93Hn4s9npkWu/yjNm5795DoPWtu9PjrZ8HDEZe9WbXgjfTeDwbHnt76UeCTV04n7rpieuMAPvx3wTePTY/ba48Uy3X3HXB1cMiUSq8SSVIHMYAlKV8MYC20ceP+HHBzGuU9eeW0+/CaI4JNTg1WHp+iuP/+6dJFe/0h2O+KtAE9evUUwPtd3PQGdtyhsf1Tf4oI/jv969N14pGPt46HZu8YPf/6aez+THVw7i7lN9JDvhsMfD4Y2cJrEBdPO3w32GhY4wD+4X3Bxqelx5y+VDoOuO76wafcFGx1SYXXiCSpoxjAkpQvBrAWWnX180GXqcGQbVIU/qx30O/AYIOfBBv+ONhv5/rLGu32SjC0d9qAHnxKCuDd/970Bvbik2PQs7+L4gAunl7/fJUY/do5scSs2TH8lfObfo1ju6VLKJ00qPUBfNy6Kd5LA3jktBT2o0gn9uLW+rNG3zIt6HZefPzx55VcJZKkDmIAS1K+GMBaaGx4ZbDYDemsyMUBuXlVisNlLw7O7RYMPTPY99f1G9CjNkoBPPjqJjewR/1rapzzyugoF8B10zOfbBBrPPZSnPpSmZHk/ScE+01ufQCf2Sct/+9KLol00++DrjcFP1kqqFo1/ezFu3z3HhN/+9tblVshkqQOYwBLUr4YwFpobHhV0OPaxmd63nPPFJDcGgzvERx/UrDPPfUb0B8tHYw7PDh51cYb11NWiSVmzY4/z9kuFhTAEcQLn64Vqzz6evz89dMbv9Z3Bwe7PxeMbGUAjyJY4srgl00cB7zRsGDr44OjNw6WuqzhfWv8PKqrn6/Y+pAkdRwDWJLyxQDWQnvooZcDpgb771QfjgfuEJy2XHDADsGpyxd2gd4z2P2Z+g3oZT8LHo7oO2tOcOH3G4Rx/6dnxBHP3xgtid+66ZGPt44+sz4KRvRvuKEe2isY8G5war/WB/DyE4ILqxsH8I2/TyO/fSan6xzXza+pCZYfFzU1L1RobUiSOpIBLEn5YgBroXHM1KDr9cFh30zRu+GwNOq74gXp8kjdbgiqVg7OXCvo90VwbPe0AR21Z6z4yFtxx7sHxSqPvh6bPvm3+MELk2PlR9+I3Z5+MGZ/uUS0JoAjiElvnRCrP/Zy8MPFG26sDxgXDLqj9QHc+5rgqgcbB3BtbXDNg8GuBzUcIR52c7DM2Pjssy8rszIkSR3KAJakfDGAtVBmzXot6HF+wK/TMbHr/izF70rj0383uDzo8ctgzbPSLsj9Z6fr/BY2ot956o8x+rVz4pN5vWLKf4bGmS+Pj7vfGxzz56egff7T/4nqD3aPlgbwvPldYtu//yXOf214w431UesF/T8Nzl6mlQF8dfkALp0OmRL0GRO1tS9WZmVIkjqcASxJ+WIAK7P33vskWH5c0O9XwSrjUjDuelAK31XPD9Y4O+0azdRgq6GF44JnBUMOq9+Inr1j9Jn1UTz80bejNGbf/HzFWOzhL+K+9/dqdF9z0/QPBsZyj7wTnNCr4QZ7z78GP/x+6wJ4ycubPgb48GuDIVPqT3511/SAUfHcc+9WYE1IkirFAJakfDGAlRmHTgm2uTTY5phgu6NSMI7oknaFPna94KxewQanBhueXH+CrP0nBvve1GBDevmbP4o+sz6Ks18ZE899um7UhewNbx8RVS9cFh9+uWS0JoDnzyc2euIfwbghJbtBjw0GT2l5/I4k6DUluLpkBHjMHQGjgi6jgsvvTvPuqA4YFZ9//lVF1oUkqTIMYEnKFwNYmcyZ81nQa3Qw6Z7g+PvSrs8ticqqA9KuyIcd1HBjes5Osd8/fxtdHp4Xf5qzfdSFbGuPAa6bTnnxkjjlxUsafo/DDgj2eKLlAXzqCulyR9U19fH7i7uCXqPjttueCna6PI0C19YGM2uCLqPixRc/qMDakCRVigEsSfliACuTv/zl1WDZcYXdf2ekMyIfv07LwvJHhwa7vRUM7dNoo7rqo6/Fsf++Jv716Trxf3N2iLNfGRP7//M3MeujbaI1ATzy1ZFxzL+vbfj6R24WDPiw5ZdDOuybwYoXNhz9XW9CXHrpwxER8cc/vhz0HhPMqAkemBEwKt55Z24lVockqUIMYEnKFwNYmTz77DtB9/PSsa+1tUG/A4MVfhGc1bNluxbv+ZfgoJ823qgO3z42e/LJ6Pbwl7Hyo2/Ed5+/OXr89bM465Wx0ZoAHv/6mXH48w13tWboEkG/aPmJsAbsF2xySn38TpsRdB0Vr76aPi9ffPFVsNy44Oxbg0t+GywzNubPn1+J1SFJqhADWJLyxQBWZmz7y+DI61IczqgJ1j4n2Pi0lo2wnjogGPBB8P0Vm9/Ijj88+s6aE6989o1oTQBPfOO0OPCfdzZ+vX5fBGe2cKR6s6rgyHvrA3jSPUGfMQ0i95Zb/p7+ELD6hcFB13T0KpAkVZgBLEn5YgArs7vuejpY7cL6MyHfPTNY/Krge1u2LDAH/SbY/9LyG9gzNonFZ30c0z8YGK09BnjMa2fHEc/f2Pg1B3wYnLHJgpdt6PpB96npWr91Abz35GCPSQ3eg/nz5wcHXRMceI0nwJKkRZABLEn5YgArs08++SKdCOu6++ojcevjg50ObVkAD9s+GPBeMLRX0xvYK0ZEv6dnRpaTYO377D3BL5vYxbr/R8EZGza/XGf1CpabGOy+T8Pjf7e4OKZOfbwi77UkqXMygCUpXwxgLRTW/kUw7s76SNz2qGD7I1p+maHdnwmGDGl6A3vm1tHrr5/E3K96R7nQ/WRer7jirRNj+Cvnx2kvTYynP9kwnv1k/ej510+DYWs3EcCfBD9dv/nl2m3f4Buj027dxQG8wUVxxx3/qOTbLUnqZAxgScoXA1gLhc0vDs66tT4Sv39vsOUPW36poYN+Fuz9YJmNbJfY/qk/xZZ/eywmvnFazJvfJYrj9+9zN4kNnngmtvzbY3Hkv26IQ5+7NZZ95N1Y5/F/xWkvTWz8ekN7ppNgDV+p+WVaZ3hw6v0N47e2Ntjoorj99qcq/I5LkjoTA1iS8sUA1kJh78nBoKvqI/H0+4O1z255AA9fIej/cXDEN5veyP5o6eAXx8Zaj78QJ7ww6b/XBv71O4dF31lz4txXzwuO7/rfx1/65slx1itjg+MXa/xaR3wrGPB+8yfpGkk6jvmK6Y0DeJOJccstf6/0Wy5J6kQMYEnKFwNYC6W6+vlghfFpd+HbZqRdh7c+vuUBPIrggPODPf8cHNu1/Mb2lNVipUffjH5Pz4z+T8+IZR95Nxg9qHUb7MHXBYOvb35ZRnQJuDX9LKUBvKEjwJKkhgxgScoXA1gL5fPPvwqWOD+44p5g/TPSZZBaci3g4unc3ulY4APOb36D++N1g0tPDy4+JTh5AZdPKp2O2iDo/2nwszUWvDx9JgdXPNg4gFe5IGpqXqj0Wy5J6kQMYEnKFwNYC42Bk4LvXhssPyE4fKvWxW/ddMZG6brAh5zQPhvrAy4I9r2pZcuy9C+Di5vYBbrv+fHEE29W+u2WJHUiBrAk5YsBrIV2001PButPCLY4Mfj20dkCeBTBsO8E/WcHh5zUthvqY7sEA/8dnDS4BaPRXYPFbgxu+H3jAO41Op555p1Kv92SpE7EAJakfDGAtdDeeuujoOuo4KIHgsVuCE5ZMXsE/3jbdK3eA88LjlmybTbUhw8IBrwdjOi+4O9/6LeDpS5rfAmk2tqg66j497/fr/TbLUnqRAxgScoXA1htgqXHBpPuCbY8IdisKnsAjyI4Zbdgr/8NdnstGPLd5k+O1ZJp7+nBgaMWieOCWwAAH1FJREFUfPKrffsHva8OBg1oHL/VMwJGxX/+83Gl32pJUidiAEtSvhjAahOsNyEYeXtwy4ygx3XBkG8tXASPJDjxe8HAl4Pd3gr2mhkMnpJOlHXgyGD/i9J/j167+Y30kZsG/T8Jzl6u+e+1zdBgycuDUdMax29tbXD174LeY2L+/PmVfqslSZ2IASxJ+WIAq00wZEqwy+UpFkdMC3pNCYb3WLgIHkUwYrF0bPAJxwRHjw72mxwMvjbY/+Jgzz8Fg37T/EZ60G3BfpMWvNtz3ytTvDcVv7W1wZHXBbtcXum3WZLUyRjAkpQvBrDaxEsvfRB0Py+4dVpQUxOsOSJY69w0urqwEVxuOnZYsM+95TfQhx2czix91irNv85OQ4LNTiofvzNrglUviDvv/Eel32ZJUidjAEtSvhjAajPsdHlw8DUpGh+YmY6nPWLz9onfkQS7/z049JimN87f2ymdTOukQQt+re9vmEasywXwlfcES5wfn3/+VaXfYklSJ2MAS1K+GMBqM0888WbQc3Rw1e9SOO56YLD+6e0TwGdsEvSfGwzt3XjDfPgeQf85waFDW/Zax63bfAAPmRIMuLLSb68kqRMygCUpXwxgtSmOvyFYcXxw1/TgmgeDHtcHZy7e9gF83MnBPvc33CAfS3DQGWnk90eHtex1jto0WOEXwTePazp+q2cEy4+L++9/rtJvrSSpEzKAJSlfDGC1qfnz5we7XRlsfnG6lu46w4MtTmz7Y4GPOy3YqyZF79A+wZDvBXs+HAx8MfjJN1s+8tt9ajBgcDCtiev+1tYGx90QrDsh5s3z7M+SpMYMYElqX+OBvwGzgdeBXwPfKHnM6sC9wBzgbeAyYLEyr2cAq819/PHnwWoXBsNuDm6fESxxZbD9Eelau20VwMOXD3Z/OugXaRr4fHDcqcG5fVp+DPE3Rge7HFx+1+ep9wW9Rscf//hypd9SSVInZQBLUvsaC2xFCtolgZuBx4vu70IK5OuBPqQYfhK4uMzrGcBqF3fc8Y+g7/nBb6cHv/p9sNzEFJxVq7ZdBI/sFpyxUTB8hdaPMO/bL1jyiuCBMiO/NTXBVpcEB19T6bdSktSJGcCS1LG2AOYBSxVu7wJ8DixT9JjBwEdA9yaebwCr3bDT5cGOl6XLCD1QE2wzNOgzOdhnt7Y/Jrg100mrBD2uC8ZXlx/9HXtHsNTY+PDDTyv9NkqSOjEDWJI61k+BF4punwI8U/KYVYD5wKZNPN8AVrt59925aVfo/a5OI6o1NcGIacHiVwVbHx+c063j4/esXumkV985vHz8zqgJ1v5FUPWrSr+FkqROzgCWpI6zG2lkd2DRvHOAv5Q8rhcpgJv6h8oAVrt66aUPguXHBUddXx+Yt80IVhkXrDEyOG25jovfcxYL1vtpsPbZKXLLBfCJNwbfuNDr/kqSFsgAlqSOMQj4gLR7czFHgNXpPPXUf4KlxgYn/ao+MqfVBFv9IOh2Y7D3wPaP3x+tFqw5Ilh1bHDvzPLxe8P9Qa/R8dBDL1X6bZMk5YABLEnt73uk+N2tift2Bj6j6WOAezTx+CWBqKqqimHDhsWwYcOiurq60tsSfQ39+c+vBD1GB7dOa7ir8WpjgtVHtW/87tsvWOyGYNujy5/0qrY2+N2DwVo/D4ZMqfTbJUnqxKqrq//7e1NVVZUBLEnt6CRS/O5Q5v4uwBPAdUBfYA3SWaI9C7Qqjk0nBmfeUh+cOx4WLH9RMKwdd4Pefe+g15Tg4unlw7e2Nri9Olh/QvCdy+LLL+dV+q2SJOWEI8CS1L7mk87yPKcwfVT4b3EQrw7cV7jvHeBSmj4DNBjA6kBseXF9AN87M+hyc3DiN9ovfodsE3SfGkx+sHHwzqwJrr8vGHxVsMnEoNfoYM/JHvcrSWoVA7iBkcBXNPwd9eai+zcH/gB8DLxWeLwkdSgDWB2GjS4Kzr2tPoC73Rgc9z/tE7/f+V7Q4/rgvGmN4/d71wXdz0vT7pPippuejCeffKvSb48kKYcM4AZGAg+VWaa+wBvA+aTD8jYFXgVObY83QJLKMYDVYdhzcrDrFelySLW1wS4Hp+sC73xIcMYSbRvAS1wZjGviOr8PzgwYFffc82x89tmXlX5LJEk5ZwA30FwAHw28BXQtmncK8Hzb/uiS1DwDWB3m9dfnpEsi7X91MH1mOgnWmGnBOsNTsO61R3D0xsHZ3bOH77ld07HFva9u+mzPN9wfMCqefvrtSr8dkqSvAQO4gZGkXZ//A7xI2v15rcJ9E4FpJY/fHphHGh2WpA5hAKtDvfDC+8F6E4KVLwh+cENw27Q0Ijz8gRTCPa4P1jo3OKtny6P3rF4pnPvvHyxzabD8hGDq7xvH7/2/9yzPkqQ2ZQA3sDHpXDSQLsN5E2mEd3FgCnBLo+VMAbxq+7wNktSYAawO9+WX8+L2258Ktrk06DoqnRzrhvsLkTozWO+nQbdfBZudFKx1TrDsxcGKPw9WujBY7qIUylsfH2xWle7j1mCpy4INfxycOy2NLJfG7wMz0vfZ5lLP8ixJajMGcLN6AJ+SLt3pCLCkTsEAVkW9/fbHwcBJAaOCvScHV9wTTJsZnH5/cNx9wekPBBOqg/HVwdjq4MLqYNj9wRH3BkPvTfPvnNH8JY6mzwy2uiTY8uKYO/eLSv/IkqSvkU4bwN0zHkpUbjqCYLvC1IMATmvBcvQAPgEGAkfhMcCSOgEDWBX3+edfxa23/j3od0XQZ0zQY3Sw+oXBGj8PDru2+bhtbqqpCc67PVj1gmCTifHRR59X+keVJH3NLDIBXDwtWXYE+BBgucLXKwE3Ai8AfUijvK8DY4BepLNAv4xngZbUwQxgdSpffjkvnn32nZg+/V8xYcKf0sjwwdcEVb8KLrgzuKOJMzuXTjNqgl/enXaxXmpsXHvtY+72LElqFwZwA/eQToD1MekSRzcD6xTdvynpLNFzSZdEOrd93wZJaswAVqd21VWPBIOvDna4LI0Kdx0VLDM2WH9CuqTSkCnBsJuDY6ems0tvc2nQe0zQ9/xgyJR4771PKv0jSJK+xgxgScoXA1i5MmfOZ/HnP78Sd931dHDyTcGmE4OVxgfbXBpnnPFgXHHFrHjiiTcd8ZUkdQgDWJLyxQCWJEnKyACWpHwxgCVJkjIygCUpXwxgSZKkjAxgScoXA1iSJCkjA1iS8sUAliRJysgAlqR8MYAlSZIyMoAlKV8MYEmSpIwMYEnKFwNYkiQpIwNYkvLFAJYkScrIAJakfDGAJUmSMjKAJSlfDGBJkqSMDGBJyhcDWJIkKSMDWJLyxQCWJEnKyACWpHwxgCVJkjIygCUpXwxgSZKkjAxgScoXA1iSJCkjA1iS8sUAliRJysgAlqR8MYAlSZIyMoAlKV8MYEmSpIwMYEnKFwNYkiQpIwNYkvLFAJYkScrIAJakfDGAJUmSMjKAJSlfDGBJkqSMDGBJyhcDWJIkKSMDWJLyxQCWJEnKyACWpHwxgCVJkjIygCUpXwxgSZKkjAxgScoXA1iSJCkjA1iS8sUAliRJysgAlqR8MYAlSZIyMoAlKV8MYEmSpIwMYEnKFwNYkiQpIwNYkvLFAJYkScrIAJakfDGAJUmSMjKAJSlfDGBJkqSMDGBJyhcDWJIkKSMDWJLyxQCWJEnKyACWpHwxgCVJkjIygCUpXwxgSZKkjAxgScoXA1iSJCkjA1iS8sUAliRJysgAlqR8MYAlSZIyMoAlKV8MYEmSpIwMYEnKFwNYkiQpIwNYkvLFAJYkScrIAJakfDGAJUmSMjKAJSlfDGBJkqSMDGBJyhcDWJIkKSMDWJLyxQCWJEnKyACWpPY3BHgImA3MA7qW3D8f+ASYA3xU+O8mZV7LAJYkScrIAJak9jeQFMHHUD6A+7XwtQxgSZKkjAxgSeo4u1A+gPu38DUMYEmSpIwMYEnqOM0F8BvAO8AjwHHNvIYBLEmSlJEBLEkdp1wA9wN6AosBewHvAyeUeQ0DWJIkKSMDWJI6TrkALjUS+GOZ+5YEoqqqKoYNGxbDhg2L6urqSm9LJEmSOq3q6ur//t5UVVVlAEtSB2lpAI8A/lTmPkeAJUmSMnIEWJLaX1fSLs67kwJ48cLtLsBWwNZAd6Bb4THvAVVlXssAliRJysgAbmAE8C/gQ+BtYBqwRZll/CbwBenSnpLUrKNJJ7qaV5jqvt4ZGAQ8Tbr+7/vA48DxzbyWASxJkpSRAdzAesBSha8XA34MvEUapCnWE/gb8CAGsKQOZgBLkiRlZACX1RM4jTRIs1zJfROAiaTz1BjAkjqUASxJkpSRAdzI3sAHpD0UvwJ+UXL/TsAzQC8MYEkVYABLkiRlZACXtTRwKnBQ0bw+wPPADoXbBrCkDmcAS5IkZbTIBPARBNsVph4EaffmBelCOiHWZoXbk4FLiu43gCV1OANYkiQpo04bwL16BbW17TOtuGJLL4O0GDAXOLBw+0XSSVrfKUxzSWeCfhtYp+3fBklqzACWJEnKyABu4BRgxcLXKwBXk4J3pcK8FYFVi6aLgIeBVUiX+ZSkdmcAS5IkZWQAN3Av8CbpcpyvA3cDWzeznO4CLanDGcCSJEkZGcCSlC8GsCRJUkYGsCTliwEsSZKUkQEsSfliAEuSJGVkAEtSvhjAkiRJGRnAkpQvBrAkSVJGBrAk5YsBLEmSlJEBLEn5YgBLkiRlZABLUr4YwJIkSRkZwJKULwawJElSRgawJOWLASxJkpSRASxJ+WIAS5IkZWQAS1K+GMCSJEkZGcCSlC8GsCRJUkYGsCTliwEsSZKUkQEsSfliAEuSJGVkAEtSvhjAkiRJGRnAkpQvBrAkSVJGBrAk5YsBLEmSlJEBLEn5YgBLkiRlZABLUr4YwJIkSRkZwJKULwawJElSRgawJOWLASxJkpSRASxJ+WIAS5IkZWQAS1K+GMCSJEkZGcCSlC8GsCRJUkYGsCTliwEsSZKUkQEsSfliAEuSJGVkAEtSvhjAkiRJGRnAkpQvBrAkSVJGBrAk5YsBLEmSlJEBLEn5YgBLkiRlZABLUr4YwJIkSRkZwJKULwawJElSRgawJOWLASxJkpSRASxJ+WIAS5IkZWQAS1K+GMCSJEkZGcCSlC8GsCRJUkYGsCTliwEsSZKUkQEsSfliAEuSJGVkAEtSvhjAkiRJGRnAkpQvBrAkSVJGBrAk5YsBLEmSlJEBLEn5YgBLkiRlZABLUr4YwJIkSRkZwJKULwawJElSRgawJOWLASxJkpSRASxJ+WIAS5IkZWQAS1K+GMCSJEkZGcCSlC8GsCRJUkYGsCTliwEsSZKUkQEsSe1vCPAQMBuYB3QtuX9z4A/Ax8BrwMhmXssAliRJysgAlqT2N5AUwcfQOID7Am8A5wM9gE2BV4FTy7yWASxJkpSRASxJHWcXGgfw0cBbJfNOAZ4v8xoGsCRJUkYGsCR1nKYCeCIwreRx2xce17eJ1zCAJUmSMjKAJanjNBXAU4BbSh63YeFxqzbxGgawJElSRgawJHUcR4AlSZIqyACWpI7TVAAfRYZjgKuqqmLYsGExbNiwqK6urvS2RJIkqdOqrq7+7+9NVVVVBnC9EcC/gA+Bt0mDMluUPKY1VyuRJCDFbU9gd1IAL1643YU0yvs6MAboRToL9Mt4FmhJkqQ25whwA+sBSxW+Xgz4MWlgpkthXmuvViJJQDrT83xS/M4r+nrnwv2bkq4TPJf0j8y5zbyWASxJkpSRAVxWT+A00u+oyxXmtfZqJZLU5gxgSZKkjAzgRvYGPiAN0HwF/KLovtaeq0aS2pwBLEmSlJEBXNbSpF2bDyqa19qrlUhSmzOAJUmSMuqkAbwB3bsH06e3ffzOnBkstVSQRm4XpAvphFibFW47Aiyp4gxgSZKkjDppAHfdeOONY9KkSW32c9ad+XqfffaJvn37BjCoBcuxGOmcNAcWbrf2aiWS1OYMYEmSpIw6aQADHLr66qvHZ5991mY/67x586IurMt8z1OAFQtfrwBcDbwPrFSY19qrlUhSmzOAJUmSMurEAdzmo8C33XZbrL766kE6w3NT7gXeBD4ihe7dwNYlj2nN1Uokqc0ZwJIkSRl14gCGNhwFbsHoryTlggEsSZKUUScP4DYbBW7B6K8k5YIBLEmSlFEnD2Bog1FgR38lfZ0YwJIkSRnlIIAXehTY0V9JXycGsCRJUkY5CGBYiFFgR38lfd0YwJIkSRnlJIAzjwI7+ivp68YAliRJyignAQwZRoEd/ZX0dWQAS5IkZZSjAG71KLCjv5K+jgxgSZKkjHIUwNCKUWBHfyV9XRnAkiRJGeUsgFs8Cuzor6SvKwNYkiQpo5wFMLRgFNjRX0lfZwawJElSRjkM4AWOAjv6K+nrzACWJEnKKIcBDM2MAjv6K+nrzgCWJEnKKKcBXHYU2NFfSV93BrAkSVJGOQ1gaGIU2NFfSYsCA1iSJCmjHAdwo1FgR38lLQoaBXB1dXUlth9qBddR5+c66vxcR52f6ygfFvX1lOMAhqJRYEd/JS0qGgXwsGHDKrgZUUu4jjo/11Hn5zrq/FxH+bCor6ecB/B/R4Ed/ZW0qDCAc8h11Pm5jjo/11Hn5zrKh0V9PeU8gKEwCuzor6RFxZJAvPrqqzF79uyYPXt2VFVV/fdrp845uY46/+Q66vyT66jzT66jfEyL+np69dVX8x7AXTfeeGNHfyUtMlYj/aPt5OTk5OTk5OSUfVqN/FoH2KDSCyFJHaEL6R/sJZ2cnJycnJycnDJNq5F+p5IkSZIkSZIkSZIkSZIkSZIkSZJaawjwEDAbmAd0Lbl/c+APwMfAa8DIJl7jPOB14CPgf4FN2mlZF1XNraNewO3Ac4X7Rpd5DddR+2puHX0b+B3wJvAh8CTw/SZeowp4kfRZewTYqf0Wd5HU3DpaG/gj8A5pHT0PnNPEa/g5al8L2h7V+SbwReGxxXoAV5DW42zS5+4b7bKki64FraP5wCfAHNLnZA6NPyd+jiRJFTWQtEE7hsYbs77AG8D5pF8sNgVeBU4teswZwMvAxqRT5I8jhfLi7b3gi5Dm1lFP0vrYBfgzTQew66j9NbeO9gKOApYv3N6V9Mvj4KLHHAJ8AOwILAb8iPTLYZ7PHNrZLOjfuvWoP1HNWsDTpD9K1PFz1P6aW0d1egJ/Ax6kcQBfATxBit6+wA3AY+21sIuoBa2j+UC/Zp7v50iS1GnsQuON2dHAWyXzTiGNjtR5ATip6HY34G3ge+2zmIu0ptZRsVqaDmDXUcdZ0Dqq81vg4qLbNcBFJY95DDi77RZNBS1ZR2sDTwG/LJrn56jjNLeOJgATSXsjFQdwT2AuMKho3nKkkeId2mcxF2nl1tF8oH8zz/NzJEnqNJramE0EppU8bvvC4/qSTu8/H9i25DHTSb+kqG1lCWDXUcdqSVwtSdqz4siiee+TRlWKXQXc2aZLJ2h+HT1E2n1zPmmUqu7al36OOla5dbQT8Azp0I/SAN688JyVSp7zTxoGl9pGcwH8Bmk39EeA44ru83MkSepUmtqYTQFuKXnchoXHrUrazWw+jS+Qfitwdfss5iItSwC7jjrWgtZRd9IflWaUPOYrYI+Sx15A2s1TbWtB66gLsB3p0I9lCvP8HHWsptZRH9LeR3WjuaUBvGPhOT1LXuthYHj7LOYirdznqB9pHSxGOvzjfeCEwn1+jiRJnYojwJ2fI8CdX3PrqDdQTYrf0uPdHAHuOC3dTf0M6t9/P0cdq6l1NBm4pOi2I8CV1dLP0UjSCebAz5EkqZNpamN2FNmOAf4PHs/THtryGGDXUfsot46WBv4E3EMaBS5VQ+NfAB/FY4DbQ0t/cT+bdLKlOn6OOk5T6+hF0h+K3ilMc0nH974NrEPTxwAvD3yOxwC3h5Z+jkaQ/u2r4+dIklRxXUm/OOxO2pgtXrjdhTTK+zowhnTM1aak4+KKzwJ9OvAS6TIGvYGxpDNFe0bHttPcOoJ0hu5epMtVjS3cVxxZrqP219w6Wol06aNbSL/sNeVg0i/3O5LW3Ymky4d4Fui209w62o20d0sP0jrqR/qlfHzR8/0ctb/m1tGKpENv6qaLSLs3r0J9hF1OOnnc6sASpLNAP9pxi79IaG4dbQVsTfo3rFvhMe/R8Gzqfo4kSRV3NGmXpHmFqe7rnQv3b0razWwu6cQW5zbxGqNI1zj9GK/p1x4WtI5eLLqvbqopeY1RuI7aU3PraETh64+ovy7mHOD+ktf4EekXw7mkk8fs2AHLvShpbh0dQPojxWzS5aieAs6i8ejWKPwctacF/VtXrHQXaEh/wLgMeJf0GbsX/4jU1ppbR4NIlw/7iPQHvceB45t4jVH4OZIkSZIkSZIkSZIkSZIkSZIkSZIkSZIkSZIkSZIkSZIkSZIkSZIkSZIkSZIkSZIkSZIkSZIkSZIkSZIkSZIkSZIkSZIkSZIkSZIkSZIkSZIkSZIkSZIkSZIkSZIkSZIkSZIkSZIkSZIkSZIkSZIkSZIkSZIkSZIkSZIkAVwN/LiDv+dPgWs6+HtKkiRJ0tfK/wLzgeNL5vcFPgLmAeuU3NcFeAGYCyxVct9WwCfAriXzrwP+BHRtYhlOBt4smde/sFxnl8z/LXBj4euRwP8V3Te18JyqkueMAWqLbl8PfAHMAT4EXgceAA5vYtlKbQm8BnQvmvciMLTo9tJADTALOIf0Ps4p/Hc+6X2bU5juKTynP2ldvFtYpueASUWv2ZP0Hm3ezLLtUvS96qYvgHfKPP7ywvIc1cxrAmxXWLb3gf8AdwDfKLp/esn3/Zim14MkSZIkVVQt8Hfg0ZL5JxbmNxXA+wBfAe8BpzXxmsNIkbhM4fZhwAfAGmWWYYPC99m0aN444ElSeNXpSoqwIwq3RwIPFd1/PSnQ3i363pACuKbkcTcW3V6SFL9vAr8qs4x1pgIXlMwrDuC1gKdIod675HE9SWG4fcn8dUh/NDgaWIz0B4b/AY4redxFhe/fGk8UnldqAPAY8AbNB3A30vv588Ky9QXuBP7QzHMOAD4Flm/lskqSJElSu6olxearwLeK5j9JGsFrKoDvA34H/AJ4tszrTgPuBtYmjWgeuoDleIkUznX+H7A/aWRx8cK87QrLs0rhdlMBfCMpzi4rmr+gAK4zgBSou5ZZxq6kkO9XMr8ugLchRfQlZZ5fF8DfKZl/KCkyF2Qg6Q8AXVrwWIAdSX+oWLdk/pLAv4AtSOu9uQBenvSeb1Q0bz9gdjPPmcGC/5AgSZIkSR2uFhhNisnrCvN2JEXdOqRgKw7gtUhRNYg0cjsf2K2J112JNBr7H+DaFizHNaTdkAGWI+1G25O0i/PehfnnAH8rek65AN4S+BzYuDC/pQEMaUR0bJn76kaqVyiZ/yJpt+A5wKllngvlA3gtUuj/GjgQWLPM81cqPH/9Zr5HsV+Tdk8uNZX03sGCAxjgSuBioBdpZP031P+/Ump90nu0XQuXUZIkSZI6TF0Ar0YaqV0SuAk4ixRipQF8ASma6vwvcFeZ155BiqHSXX6bcggpersXvp5RmD+SFF+QRnaLd+ctF8AAU6iPv9YE8MPA5DL3bU/6eXqUzH+RNDL8IvWj000pF8CQRlgnAc+Q/sDwbxqHaa/C81sSlysAnwGDS+YPJu0W3a1wuyUB3I800v8F6ef/K+mPFE25BHi8BcsnSZIkSR2uLoAhHbc6hjSSuRKNA7gHaUR3dNHzjySF0aolr3sa8AppZPcpUvw1Z1ngS9Lux1cDPyvM37Hw/D6kUd09i57TXACvSIrSwXTMCPCJpD8EvEjjXY7rNBfAxZYi/QFiPrBD0fzWjAAPB16m4e7Sy5KCd8uieQsK4A1I6/c40jHAiwPnA/+k8TrtTdpFu/TYZUmSJEnqFIoDeA9S4N1auL0mDY8BPoIUYO+RjnV9kxTE84Dzil5zS9KZjncmRfNjpDMOL8hfSccjv0A6nhZSdM0BTiCdWKn4xFLNBTDA6cDzwIW0LID7F36WXcosX1fSKPmuJfPrjgHuQtrd+00aRmadlgZwnQ+Bk4pu70bLjgHuUlim4SXzB5Bi9m3SmaHfIY02zyYd092UQ2l8FullSD/HViXzjyP90aH05F+SJEmS1CkUBzCk3V3rRnNLR4D/DNxLGl0tniaQRk67kUYInyaNEtbZkHSM66AFLMv5pEsSvVcy//7C/Jkl8xcUwN1JlxN6mwWfBfqwws9w8wKW8QZgfMm80ssg/ZwUgjuXPK5cAO9MuhTUGqR47UU6lvgLGkbmhML3X5DBpN2fVyyZ3520bounNwrfq9wuzWuTzlD9fdL67UX6/+VD0hmhiz1C+ROASZIkSVLF1dAwgIsVjwBvTvmTG61EGvE9hLT78l+oP8a0zgmk0eKVmlmWnQvf446S+cMK888smb+gAAbYt/DcmSWP+5z66wC/QTpr9feaWbY6TV0H+AUaBjCFZf2YhtHfs7AspQG8GenSQi8Xlult0vHO+xQ9phdpZHmLFizjA6QTYLXEKzTcBXpt0h8rti2atwdpnb5POlt1bRM/w7dJP1tLT9AlSZIkScqBq4CfdPD3PIN0PLUkSZIkSZIkSZIkSZIkSZIkSZIkSZIkSZIkSZIkSZIkSZIkSZIkSZIkSZIkSZIkSZIkSZIkSZIkSZIkSZIkSZIkSZIkSZIkSZIkSZIkSZIkSZIkSZIkSZIkSZIkSZIkSZIkSZIkSZJy6/8DF6FFOfiPPmYAAAAASUVORK5CYII=\">"
      ],
      "text/plain": [
       "<IPython.core.display.HTML object>"
      ]
     },
     "metadata": {},
     "output_type": "display_data"
    }
   ],
   "source": [
    "\n",
    "plt.figure(figsize=(12,8))\n",
    "plt.contourf(lon,lat,wind,wlevs,cmap=cmap,norm=norm,boundaries=[0]+wlevs+[150.],extend='both')\n",
    "plt.colorbar()\n",
    "plt.contour(lon,lat,wind,wlevs)\n",
    "plt.figtext(0.5,0.03,'MAX WIND (KTS) '+np.str(wind.max()))\n",
    "#plt.plot(track[:,1],track[:,0],'k') # not the one printed on HWRF site\n",
    "plt.savefig('wind10.png',transparent=True)\n",
    "plt.title(hurName+' '+date)\n",
    "plt.show()"
   ]
  },
  {
   "cell_type": "code",
   "execution_count": 32,
   "metadata": {
    "collapsed": false
   },
   "outputs": [],
   "source": [
    "from osgeo import gdal,gdal_array\n",
    "import osr\n",
    "\n",
    "dataTypeformat={1:np.byte,2:np.int32,3:np.int32,4:np.float32,5:np.float32,6:np.byte}\n",
    "VSType={1:'VS_BOOLEAN',2:'VS_NOMINAL',3:'VS_ORDINAL',4:'VS_SCALAR',5:'VS_DIRECTION',6:'VS_LDD'}\n",
    "\n",
    "def putmap(filename,var,geo,TYPE,nodata):\n",
    "     driver=gdal.GetDriverByName('PCRaster')\n",
    "     varw=var.astype(dataTypeformat[TYPE])\n",
    "     gtype=gdal_array.NumericTypeCodeToGDALTypeCode(varw.dtype)\n",
    "     NROWS,NCOLS = var.shape\n",
    "     VS='PCRASTER_VALUESCALE={}'.format(VSType[TYPE])\n",
    "     dst_ds=driver.Create(filename,NCOLS,NROWS,1,gtype,[VS])\n",
    "     proj=osr.SpatialReference()\n",
    "     proj.ImportFromEPSG(4326)\n",
    "     dst_ds.SetProjection(proj.ExportToWkt())\n",
    "     dst_ds.SetGeoTransform(geo)\n",
    "     dst_ds.GetRasterBand(1).WriteArray(varw)\n",
    "     dst_ds.GetRasterBand(1).SetNoDataValue(nodata)\n",
    "     dst_ds.FlushCache()\n",
    "     dst_ds=None\n",
    "     return\n"
   ]
  },
  {
   "cell_type": "code",
   "execution_count": 33,
   "metadata": {
    "collapsed": true
   },
   "outputs": [],
   "source": [
    "SAVEPATH='/mnt/pandora/Users_Critech/Pamela/'\n",
    "SAVEPATH='tmp/'"
   ]
  },
  {
   "cell_type": "code",
   "execution_count": 37,
   "metadata": {
    "collapsed": false
   },
   "outputs": [
    {
     "name": "stdout",
     "output_type": "stream",
     "text": [
      "0.05\n"
     ]
    }
   ],
   "source": [
    "TYPE=4     \n",
    "dd=lon[0,1]-lon[0,0]\n",
    "print dd\n",
    "geo=(lon.min(),dd,0,lat.max(),0, -dd)  \n",
    "nodata=-999.\n",
    "putmap(SAVEPATH+'wind10m'+hurName+date+'.tif',np.flipud(wind),geo,TYPE,nodata)\n"
   ]
  },
  {
   "cell_type": "code",
   "execution_count": null,
   "metadata": {
    "collapsed": true
   },
   "outputs": [],
   "source": []
  }
 ],
 "metadata": {
  "hide_input": false,
  "kernelspec": {
   "display_name": "Python 2",
   "language": "python",
   "name": "python2"
  },
  "language_info": {
   "codemirror_mode": {
    "name": "ipython",
    "version": 2
   },
   "file_extension": ".py",
   "mimetype": "text/x-python",
   "name": "python",
   "nbconvert_exporter": "python",
   "pygments_lexer": "ipython2",
   "version": "2.7.12"
  },
  "latex_envs": {
   "bibliofile": "biblio.bib",
   "cite_by": "apalike",
   "current_citInitial": 1,
   "eqLabelWithNumbers": true,
   "eqNumInitial": 0
  }
 },
 "nbformat": 4,
 "nbformat_minor": 0
}
