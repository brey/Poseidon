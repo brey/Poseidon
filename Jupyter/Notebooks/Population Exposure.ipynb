{
 "cells": [
  {
   "cell_type": "markdown",
   "metadata": {
    "collapsed": true
   },
   "source": [
    "# ESTIMATION OF POPULATION EXPOSURE TO WIND SWATH"
   ]
  },
  {
   "cell_type": "code",
   "execution_count": 1,
   "metadata": {
    "collapsed": true
   },
   "outputs": [],
   "source": [
    "from pmap import *"
   ]
  },
  {
   "cell_type": "code",
   "execution_count": 2,
   "metadata": {
    "collapsed": true
   },
   "outputs": [],
   "source": [
    "import numpy as np"
   ]
  },
  {
   "cell_type": "code",
   "execution_count": 3,
   "metadata": {
    "collapsed": true
   },
   "outputs": [],
   "source": [
    "from mpl_toolkits.basemap import Basemap"
   ]
  },
  {
   "cell_type": "code",
   "execution_count": 4,
   "metadata": {
    "collapsed": true
   },
   "outputs": [],
   "source": [
    "import matplotlib.pyplot as plt "
   ]
  },
  {
   "cell_type": "code",
   "execution_count": 5,
   "metadata": {
    "collapsed": true
   },
   "outputs": [],
   "source": [
    "import pyresample"
   ]
  },
  {
   "cell_type": "code",
   "execution_count": 6,
   "metadata": {
    "collapsed": true
   },
   "outputs": [],
   "source": [
    "import matplotlib"
   ]
  },
  {
   "cell_type": "code",
   "execution_count": 7,
   "metadata": {
    "collapsed": true
   },
   "outputs": [],
   "source": [
    "import matplotlib as mpl"
   ]
  },
  {
   "cell_type": "code",
   "execution_count": 8,
   "metadata": {
    "collapsed": true
   },
   "outputs": [],
   "source": [
    "import pandas as pd\n",
    "import numpy as np\n",
    "import urllib2,urllib\n"
   ]
  },
  {
   "cell_type": "code",
   "execution_count": 9,
   "metadata": {
    "collapsed": true
   },
   "outputs": [],
   "source": [
    "%matplotlib inline"
   ]
  },
  {
   "cell_type": "markdown",
   "metadata": {},
   "source": [
    "## Read population data"
   ]
  },
  {
   "cell_type": "code",
   "execution_count": 10,
   "metadata": {
    "collapsed": true
   },
   "outputs": [],
   "source": [
    "# population data file\n",
    "filename='../../POPEXPO/lspop20141.tif'"
   ]
  },
  {
   "cell_type": "code",
   "execution_count": 11,
   "metadata": {
    "collapsed": true
   },
   "outputs": [],
   "source": [
    "dataset=gdal.Open(filename) "
   ]
  },
  {
   "cell_type": "code",
   "execution_count": 12,
   "metadata": {
    "collapsed": false
   },
   "outputs": [
    {
     "data": {
      "text/plain": [
       "'GEOGCS[\"WGS 84\",DATUM[\"WGS_1984\",SPHEROID[\"WGS 84\",6378137,298.257223563,AUTHORITY[\"EPSG\",\"7030\"]],AUTHORITY[\"EPSG\",\"6326\"]],PRIMEM[\"Greenwich\",0],UNIT[\"degree\",0.0174532925199433],AUTHORITY[\"EPSG\",\"4326\"]]'"
      ]
     },
     "execution_count": 12,
     "metadata": {},
     "output_type": "execute_result"
    }
   ],
   "source": [
    "dataset.GetProjection()"
   ]
  },
  {
   "cell_type": "code",
   "execution_count": 13,
   "metadata": {
    "collapsed": false
   },
   "outputs": [
    {
     "data": {
      "text/plain": [
       "43200"
      ]
     },
     "execution_count": 13,
     "metadata": {},
     "output_type": "execute_result"
    }
   ],
   "source": [
    "width=dataset.RasterXSize\n",
    "width"
   ]
  },
  {
   "cell_type": "code",
   "execution_count": 14,
   "metadata": {
    "collapsed": false
   },
   "outputs": [
    {
     "data": {
      "text/plain": [
       "21600"
      ]
     },
     "execution_count": 14,
     "metadata": {},
     "output_type": "execute_result"
    }
   ],
   "source": [
    "height=dataset.RasterYSize\n",
    "height"
   ]
  },
  {
   "cell_type": "code",
   "execution_count": 15,
   "metadata": {
    "collapsed": false
   },
   "outputs": [
    {
     "data": {
      "text/plain": [
       "(-180.0, 0.0083333333333333, 0.0, 89.99999999999929, 0.0, -0.0083333333333333)"
      ]
     },
     "execution_count": 15,
     "metadata": {},
     "output_type": "execute_result"
    }
   ],
   "source": [
    "gt=dataset.GetGeoTransform()\n",
    "gt"
   ]
  },
  {
   "cell_type": "code",
   "execution_count": 16,
   "metadata": {
    "collapsed": false
   },
   "outputs": [],
   "source": [
    "minx = gt[0]                                                                                                                            \n",
    "miny = gt[3] + width*gt[4] + height*gt[5]                                                                                               \n",
    "maxx = gt[0] + width*gt[1] + height*gt[2]                                                                                               \n",
    "maxy = gt[3]                                                                                                                            \n",
    "                                                                                                                                          \n",
    "lon=np.linspace(minx,maxx,width,endpoint=True)                                                                                          \n",
    "lat=np.linspace(miny,maxy,height,endpoint=True)                                                                                         \n",
    "                                                                                                                                          "
   ]
  },
  {
   "cell_type": "code",
   "execution_count": 17,
   "metadata": {
    "collapsed": false
   },
   "outputs": [],
   "source": [
    "lat=lat[::-1]"
   ]
  },
  {
   "cell_type": "code",
   "execution_count": 18,
   "metadata": {
    "collapsed": true
   },
   "outputs": [],
   "source": [
    "v = dataset.GetRasterBand(1)"
   ]
  },
  {
   "cell_type": "code",
   "execution_count": 19,
   "metadata": {
    "collapsed": false
   },
   "outputs": [],
   "source": [
    "nan=v.GetNoDataValue()"
   ]
  },
  {
   "cell_type": "code",
   "execution_count": 20,
   "metadata": {
    "collapsed": false
   },
   "outputs": [
    {
     "data": {
      "text/plain": [
       "'Int32'"
      ]
     },
     "execution_count": 20,
     "metadata": {},
     "output_type": "execute_result"
    }
   ],
   "source": [
    "gdal.GetDataTypeName(v.DataType)"
   ]
  },
  {
   "cell_type": "code",
   "execution_count": 21,
   "metadata": {
    "collapsed": false
   },
   "outputs": [
    {
     "data": {
      "text/plain": [
       "5"
      ]
     },
     "execution_count": 21,
     "metadata": {},
     "output_type": "execute_result"
    }
   ],
   "source": [
    "v.DataType"
   ]
  },
  {
   "cell_type": "code",
   "execution_count": 22,
   "metadata": {
    "collapsed": true
   },
   "outputs": [],
   "source": [
    "parallels = np.arange(-90.,90,20.)                                                                                                        \n",
    "meridians = np.arange(0.,360.,20.)                                                                                                        "
   ]
  },
  {
   "cell_type": "markdown",
   "metadata": {},
   "source": [
    "# TEST WITH TC"
   ]
  },
  {
   "cell_type": "markdown",
   "metadata": {},
   "source": [
    "## read an old geotif file"
   ]
  },
  {
   "cell_type": "code",
   "execution_count": 99,
   "metadata": {
    "collapsed": false
   },
   "outputs": [],
   "source": [
    "wind=getmap('tmp/wind10mmalakas18w2016091600.tif')"
   ]
  },
  {
   "cell_type": "code",
   "execution_count": 100,
   "metadata": {
    "collapsed": false
   },
   "outputs": [
    {
     "data": {
      "text/plain": [
       "Bunch(CELLSIZE=0.04999999999999716, DRIVER='PCRaster Raster File', GeoTr=(106.75, 0.04999999999999716, 0.0, 53.1, 0.0, -0.04999999999999716), NCOLS=1225, NROWS=942, Proj='', XSTART=106.75, YSTART=53.1, data=array([[-999., -999., -999., ..., -999., -999., -999.],\n",
       "       [-999., -999., -999., ..., -999., -999., -999.],\n",
       "       [-999., -999., -999., ..., -999., -999., -999.],\n",
       "       ..., \n",
       "       [-999., -999., -999., ..., -999., -999., -999.],\n",
       "       [-999., -999., -999., ..., -999., -999., -999.],\n",
       "       [-999., -999., -999., ..., -999., -999., -999.]], dtype=float32), lats=[], lons=[], nan=-3.4028234663852886e+38)"
      ]
     },
     "execution_count": 100,
     "metadata": {},
     "output_type": "execute_result"
    }
   ],
   "source": [
    "wind"
   ]
  },
  {
   "cell_type": "code",
   "execution_count": 26,
   "metadata": {
    "collapsed": false
   },
   "outputs": [],
   "source": [
    "# compute lat/lon\n",
    "widthw=wind.NCOLS\n",
    "heightw=wind.NROWS\n",
    "gw=wind.GeoTr\n",
    "wminx = gw[0]                                                                                                                            \n",
    "wminy = gw[3] + widthw*gw[4] + heightw*gw[5]                                                                                               \n",
    "wmaxx = gw[0] + widthw*gw[1] + heightw*gw[2]                                                                                               \n",
    "wmaxy = gw[3]                                                                                                                            \n",
    "                                                                                                                                          \n",
    "wlon=np.linspace(wminx,wmaxx,widthw,endpoint=True)                                                                                          \n",
    "wlat=np.linspace(wminy,wmaxy,heightw,endpoint=True)                                                                                         \n"
   ]
  },
  {
   "cell_type": "code",
   "execution_count": 27,
   "metadata": {
    "collapsed": true
   },
   "outputs": [],
   "source": [
    "w=np.flipud(wind.data)  # the issue of geotiff orientation"
   ]
  },
  {
   "cell_type": "code",
   "execution_count": 29,
   "metadata": {
    "collapsed": false
   },
   "outputs": [],
   "source": [
    "mwind=np.ma.masked_array(w,w==-999) # pay attention on the nan value"
   ]
  },
  {
   "cell_type": "code",
   "execution_count": 30,
   "metadata": {
    "collapsed": true
   },
   "outputs": [],
   "source": [
    "# full window expand\n",
    "minlon=wlon.min()\n",
    "maxlon=wlon.max()\n",
    "minlat=wlat.min()\n",
    "maxlat=wlat.max()"
   ]
  },
  {
   "cell_type": "code",
   "execution_count": 31,
   "metadata": {
    "collapsed": false
   },
   "outputs": [],
   "source": [
    "xw,yw=np.meshgrid(wlon,wlat)"
   ]
  },
  {
   "cell_type": "markdown",
   "metadata": {},
   "source": [
    "In order to save memory usage we select the window that actually has data and perform the analysis there"
   ]
  },
  {
   "cell_type": "code",
   "execution_count": 32,
   "metadata": {
    "collapsed": false
   },
   "outputs": [],
   "source": [
    "minlon=xw[ w!=-999 ].min()\n",
    "maxlon=xw[ w!=-999 ].max()\n",
    "minlat=yw[ w!=-999 ].min()\n",
    "maxlat=yw[ w!=-999 ].max()"
   ]
  },
  {
   "cell_type": "markdown",
   "metadata": {},
   "source": [
    "## read a recent HWRF ascii file"
   ]
  },
  {
   "cell_type": "code",
   "execution_count": 33,
   "metadata": {
    "collapsed": false
   },
   "outputs": [],
   "source": [
    "r = pd.read_csv('tmp/wind10m.txt',header=0)"
   ]
  },
  {
   "cell_type": "code",
   "execution_count": 34,
   "metadata": {
    "collapsed": false
   },
   "outputs": [
    {
     "data": {
      "text/html": [
       "<div>\n",
       "<table border=\"1\" class=\"dataframe\">\n",
       "  <thead>\n",
       "    <tr style=\"text-align: right;\">\n",
       "      <th></th>\n",
       "      <th>102.25   154.45     1.45    38.80     0.05 1045  748</th>\n",
       "    </tr>\n",
       "  </thead>\n",
       "  <tbody>\n",
       "    <tr>\n",
       "      <th>0</th>\n",
       "      <td>1.45   102.25  -999.00</td>\n",
       "    </tr>\n",
       "    <tr>\n",
       "      <th>1</th>\n",
       "      <td>1.45   102.30  -999.00</td>\n",
       "    </tr>\n",
       "    <tr>\n",
       "      <th>2</th>\n",
       "      <td>1.45   102.35  -999.00</td>\n",
       "    </tr>\n",
       "    <tr>\n",
       "      <th>3</th>\n",
       "      <td>1.45   102.40  -999.00</td>\n",
       "    </tr>\n",
       "    <tr>\n",
       "      <th>4</th>\n",
       "      <td>1.45   102.45  -999.00</td>\n",
       "    </tr>\n",
       "  </tbody>\n",
       "</table>\n",
       "</div>"
      ],
      "text/plain": [
       "     102.25   154.45     1.45    38.80     0.05 1045  748\n",
       "0                             1.45   102.25  -999.00     \n",
       "1                             1.45   102.30  -999.00     \n",
       "2                             1.45   102.35  -999.00     \n",
       "3                             1.45   102.40  -999.00     \n",
       "4                             1.45   102.45  -999.00     "
      ]
     },
     "execution_count": 34,
     "metadata": {},
     "output_type": "execute_result"
    }
   ],
   "source": [
    "r.head()"
   ]
  },
  {
   "cell_type": "code",
   "execution_count": 35,
   "metadata": {
    "collapsed": false
   },
   "outputs": [],
   "source": [
    "[nj,ni]=r.columns[0].split()[-2:]# the last 2 values of the header define grid size nj,ni"
   ]
  },
  {
   "cell_type": "code",
   "execution_count": 36,
   "metadata": {
    "collapsed": false
   },
   "outputs": [],
   "source": [
    "ni=np.int(ni)\n",
    "nj=np.int(nj)\n",
    "nn=ni*nj"
   ]
  },
  {
   "cell_type": "code",
   "execution_count": 37,
   "metadata": {
    "collapsed": false
   },
   "outputs": [
    {
     "data": {
      "text/plain": [
       "(748, 1045)"
      ]
     },
     "execution_count": 37,
     "metadata": {},
     "output_type": "execute_result"
    }
   ],
   "source": [
    "ni,nj"
   ]
  },
  {
   "cell_type": "code",
   "execution_count": 38,
   "metadata": {
    "collapsed": false
   },
   "outputs": [],
   "source": [
    "wswath=r[:nn]"
   ]
  },
  {
   "cell_type": "code",
   "execution_count": 39,
   "metadata": {
    "collapsed": false
   },
   "outputs": [],
   "source": [
    "s=wswath[wswath.columns[0]].str.split(expand=True)"
   ]
  },
  {
   "cell_type": "code",
   "execution_count": 40,
   "metadata": {
    "collapsed": false
   },
   "outputs": [],
   "source": [
    "s.columns=['lat','lon','wind']"
   ]
  },
  {
   "cell_type": "code",
   "execution_count": 41,
   "metadata": {
    "collapsed": false
   },
   "outputs": [
    {
     "data": {
      "text/html": [
       "<div>\n",
       "<table border=\"1\" class=\"dataframe\">\n",
       "  <thead>\n",
       "    <tr style=\"text-align: right;\">\n",
       "      <th></th>\n",
       "      <th>lat</th>\n",
       "      <th>lon</th>\n",
       "      <th>wind</th>\n",
       "    </tr>\n",
       "  </thead>\n",
       "  <tbody>\n",
       "    <tr>\n",
       "      <th>0</th>\n",
       "      <td>1.45</td>\n",
       "      <td>102.25</td>\n",
       "      <td>-999.00</td>\n",
       "    </tr>\n",
       "    <tr>\n",
       "      <th>1</th>\n",
       "      <td>1.45</td>\n",
       "      <td>102.30</td>\n",
       "      <td>-999.00</td>\n",
       "    </tr>\n",
       "    <tr>\n",
       "      <th>2</th>\n",
       "      <td>1.45</td>\n",
       "      <td>102.35</td>\n",
       "      <td>-999.00</td>\n",
       "    </tr>\n",
       "    <tr>\n",
       "      <th>3</th>\n",
       "      <td>1.45</td>\n",
       "      <td>102.40</td>\n",
       "      <td>-999.00</td>\n",
       "    </tr>\n",
       "    <tr>\n",
       "      <th>4</th>\n",
       "      <td>1.45</td>\n",
       "      <td>102.45</td>\n",
       "      <td>-999.00</td>\n",
       "    </tr>\n",
       "  </tbody>\n",
       "</table>\n",
       "</div>"
      ],
      "text/plain": [
       "    lat     lon     wind\n",
       "0  1.45  102.25  -999.00\n",
       "1  1.45  102.30  -999.00\n",
       "2  1.45  102.35  -999.00\n",
       "3  1.45  102.40  -999.00\n",
       "4  1.45  102.45  -999.00"
      ]
     },
     "execution_count": 41,
     "metadata": {},
     "output_type": "execute_result"
    }
   ],
   "source": [
    "s.head()"
   ]
  },
  {
   "cell_type": "code",
   "execution_count": 42,
   "metadata": {
    "collapsed": false
   },
   "outputs": [],
   "source": [
    "s=s.apply(pd.to_numeric)"
   ]
  },
  {
   "cell_type": "code",
   "execution_count": 43,
   "metadata": {
    "collapsed": false
   },
   "outputs": [],
   "source": [
    "yw=s['lat'].values.reshape(ni,nj) \n",
    "xw=s['lon'].values.reshape(ni,nj)\n",
    "wind=s['wind'].values.reshape(ni,nj)"
   ]
  },
  {
   "cell_type": "code",
   "execution_count": 44,
   "metadata": {
    "collapsed": false
   },
   "outputs": [],
   "source": [
    "minlon=xw[ wind !=-999 ].min()\n",
    "maxlon=xw[ wind !=-999 ].max()\n",
    "minlat=yw[ wind !=-999 ].min()\n",
    "maxlat=yw[ wind !=-999 ].max()"
   ]
  },
  {
   "cell_type": "code",
   "execution_count": 45,
   "metadata": {
    "collapsed": false
   },
   "outputs": [],
   "source": [
    "mwind=np.ma.masked_array(wind,wind==-999)"
   ]
  },
  {
   "cell_type": "markdown",
   "metadata": {},
   "source": [
    "##### test the retrieval"
   ]
  },
  {
   "cell_type": "code",
   "execution_count": 46,
   "metadata": {
    "collapsed": false
   },
   "outputs": [],
   "source": [
    "%%skip\n",
    "wlevs = [30.,34.,50.,64.,83.,96.,114.,135.] #specify color map to match NOAA's HWRF\n",
    "colors=['c','green','darkgreen','yellow','orange','r','brown']\n",
    "cmap=mpl.colors.ListedColormap(colors)\n",
    "norm=mpl.colors.BoundaryNorm(wlevs,cmap.N)\n",
    "\n",
    "cmap.set_over(mpl.colors.colorConverter.to_rgb('m'))\n",
    "cmap.set_under(mpl.colors.colorConverter.to_rgb('w'))"
   ]
  },
  {
   "cell_type": "code",
   "execution_count": 47,
   "metadata": {
    "collapsed": false
   },
   "outputs": [],
   "source": [
    "%%skip\n",
    "plt.figure(figsize=(12,8))\n",
    "plt.contourf(xw,yw,mwind,wlevs,cmap=cmap,norm=norm,boundaries=[0]+wlevs+[150.],extend='both')\n",
    "plt.colorbar()\n",
    "plt.contour(xw,yw,mwind,wlevs)\n",
    "plt.figtext(0.5,0.03,'MAX WIND (KTS) '+np.str(wind.max()))"
   ]
  },
  {
   "cell_type": "markdown",
   "metadata": {},
   "source": [
    "### geoplot"
   ]
  },
  {
   "cell_type": "code",
   "execution_count": 48,
   "metadata": {
    "collapsed": false
   },
   "outputs": [],
   "source": [
    "m = Basemap(projection='cyl',llcrnrlat=minlat,urcrnrlat=maxlat, llcrnrlon=minlon,urcrnrlon=maxlon,resolution='l')    "
   ]
  },
  {
   "cell_type": "code",
   "execution_count": 49,
   "metadata": {
    "collapsed": false,
    "scrolled": true
   },
   "outputs": [],
   "source": [
    "%%skip\n",
    "m.contourf(xw,yw,mwind,20,cmap=plt.cm.RdBu_r,animated=True)\n",
    "m.colorbar()\n",
    "m.drawcoastlines(linewidth=1.5)                                                                                                           \n",
    "m.drawparallels(parallels)                                                                                                                \n",
    "m.drawmeridians(meridians)                                                                                                                "
   ]
  },
  {
   "cell_type": "markdown",
   "metadata": {},
   "source": [
    "## compute the range of indeces to extract"
   ]
  },
  {
   "cell_type": "markdown",
   "metadata": {},
   "source": [
    "Note that the range is -180:180. However when we read the tiff file we set the initial offset and the size of the x-domain. The reader rewinds in the beginning when the size exceeds the available size. "
   ]
  },
  {
   "cell_type": "code",
   "execution_count": 50,
   "metadata": {
    "collapsed": false
   },
   "outputs": [],
   "source": [
    "i1=np.abs(lon-minlon).argmin()\n",
    "if lon[i1] > minlon: i1=i1-1\n",
    "i2=np.abs(lon-maxlon).argmin()\n",
    "if lon[i2] < maxlon: i2=i2+1\n",
    "                                                                                                                                          \n",
    "j1=np.abs(lat-minlat).argmin()\n",
    "if lat[j1] > minlat: j1=j1-1\n",
    "j2=np.abs(lat-maxlat).argmin()\n",
    "if lat[j2] < maxlat: j2=j2+1   "
   ]
  },
  {
   "cell_type": "code",
   "execution_count": 51,
   "metadata": {
    "collapsed": false
   },
   "outputs": [
    {
     "name": "stdout",
     "output_type": "stream",
     "text": [
      "35201 38928 9522 7207\n"
     ]
    }
   ],
   "source": [
    "print i1,i2,j1,j2"
   ]
  },
  {
   "cell_type": "markdown",
   "metadata": {},
   "source": [
    "extract from the population file"
   ]
  },
  {
   "cell_type": "code",
   "execution_count": 52,
   "metadata": {
    "collapsed": false
   },
   "outputs": [],
   "source": [
    "pop=v.ReadAsArray(i1,j2,i2-i1,j1-j2)"
   ]
  },
  {
   "cell_type": "code",
   "execution_count": 53,
   "metadata": {
    "collapsed": false
   },
   "outputs": [],
   "source": [
    "mpop=np.ma.masked_array(pop,pop==nan) # mask the nan values"
   ]
  },
  {
   "cell_type": "code",
   "execution_count": 54,
   "metadata": {
    "collapsed": true
   },
   "outputs": [],
   "source": [
    "#create a lat/lon for analysis and ploting\n",
    "X=lon[i1:i2]                                                                                                               \n",
    "Y=lat[j2:j1]                                                                                                               \n",
    "                                                                                                                                          \n",
    "x,y=np.meshgrid(X,Y)"
   ]
  },
  {
   "cell_type": "markdown",
   "metadata": {},
   "source": [
    "### plot"
   ]
  },
  {
   "cell_type": "code",
   "execution_count": 55,
   "metadata": {
    "collapsed": false
   },
   "outputs": [],
   "source": [
    "%%skip\n",
    "m.contourf(x,y,mpop,20,cmap=plt.cm.RdBu_r,animated=True)"
   ]
  },
  {
   "cell_type": "markdown",
   "metadata": {},
   "source": [
    "## project wind to pop"
   ]
  },
  {
   "cell_type": "code",
   "execution_count": 56,
   "metadata": {
    "collapsed": true
   },
   "outputs": [],
   "source": [
    "orig=pyresample.geometry.SwathDefinition(lons=xw,lats=yw) # the wind grid geometry"
   ]
  },
  {
   "cell_type": "code",
   "execution_count": 57,
   "metadata": {
    "collapsed": true
   },
   "outputs": [],
   "source": [
    "targ=pyresample.geometry.SwathDefinition(lons=x,lats=y) # the pop grid geometry"
   ]
  },
  {
   "cell_type": "markdown",
   "metadata": {},
   "source": [
    "Now we resamble the wind (orig) to the pop grid (targ)...."
   ]
  },
  {
   "cell_type": "code",
   "execution_count": 58,
   "metadata": {
    "collapsed": false
   },
   "outputs": [],
   "source": [
    "air_near=pyresample.kd_tree.resample_nearest(orig,np.flipud(mwind),targ,radius_of_influence=500000,fill_value=-999)"
   ]
  },
  {
   "cell_type": "code",
   "execution_count": 59,
   "metadata": {
    "collapsed": false
   },
   "outputs": [
    {
     "name": "stdout",
     "output_type": "stream",
     "text": [
      "(2315, 3727) (2315, 3727)\n"
     ]
    }
   ],
   "source": [
    "print air_near.shape, pop.shape # check that the new resambled grid is the same as the pop grid"
   ]
  },
  {
   "cell_type": "code",
   "execution_count": 60,
   "metadata": {
    "collapsed": false
   },
   "outputs": [],
   "source": [
    "%%skip\n",
    "#plot\n",
    "m.imshow(air_near,interpolation='nearest')\n",
    "m.colorbar()\n",
    "m.drawcoastlines(linewidth=1.5)                                                                                                           \n",
    "m.drawparallels(parallels)                                                                                                                \n",
    "m.drawmeridians(meridians)                                                                                                                "
   ]
  },
  {
   "cell_type": "markdown",
   "metadata": {},
   "source": [
    "#### resample with gauss"
   ]
  },
  {
   "cell_type": "markdown",
   "metadata": {},
   "source": [
    "This is a different option in resampling by using nearest gauss weighting. For more see https://pyresample.readthedocs.io/en/latest/swath.html"
   ]
  },
  {
   "cell_type": "code",
   "execution_count": 61,
   "metadata": {
    "collapsed": false
   },
   "outputs": [],
   "source": [
    "%%skip\n",
    "air_gauss=pyresample.kd_tree.resample_gauss(orig,np.flipud(mwind),targ,radius_of_influence=500000,neighbours=10, sigmas=250000, fill_value=-999)"
   ]
  },
  {
   "cell_type": "code",
   "execution_count": 62,
   "metadata": {
    "collapsed": false
   },
   "outputs": [],
   "source": [
    "%%skip\n",
    "m.imshow(air_gauss,interpolation='nearest')\n",
    "m.colorbar()\n",
    "m.drawcoastlines(linewidth=1.5)                                                                                                           \n",
    "m.drawparallels(parallels)                                                                                                                \n",
    "m.drawmeridians(meridians)                                                                                                                \n"
   ]
  },
  {
   "cell_type": "markdown",
   "metadata": {},
   "source": [
    "### Classify wind"
   ]
  },
  {
   "cell_type": "markdown",
   "metadata": {},
   "source": [
    "Now we classify the wind speed based on Saffir-Simpson scale (others can be used as well)"
   ]
  },
  {
   "cell_type": "code",
   "execution_count": 63,
   "metadata": {
    "collapsed": true
   },
   "outputs": [],
   "source": [
    "reference = np.array([0,33,63,82,95,112,136,1000]) \n",
    "output_labels = ['TD', 'TS' ,'CAT. 1','CAT. 2' , 'CAT. 3', 'CAT. 4', 'CAT. 5'] #The value assigned to each interval"
   ]
  },
  {
   "cell_type": "code",
   "execution_count": 64,
   "metadata": {
    "collapsed": true
   },
   "outputs": [],
   "source": [
    "sort_idx = np.argsort(reference) # saving the scale indeces "
   ]
  },
  {
   "cell_type": "code",
   "execution_count": 65,
   "metadata": {
    "collapsed": true
   },
   "outputs": [],
   "source": [
    "pos = np.searchsorted(reference[sort_idx], air_near, side = 'left') # sort the wind array"
   ]
  },
  {
   "cell_type": "code",
   "execution_count": 66,
   "metadata": {
    "collapsed": true
   },
   "outputs": [],
   "source": [
    "out = np.argsort(reference)[pos] # restore the correct order of the scale, more info in http://stackoverflow.com/questions/31078160/classify-elements-of-a-numpy-array-using-a-second-array-as-reference"
   ]
  },
  {
   "cell_type": "code",
   "execution_count": 67,
   "metadata": {
    "collapsed": false
   },
   "outputs": [
    {
     "data": {
      "text/plain": [
       "5"
      ]
     },
     "execution_count": 67,
     "metadata": {},
     "output_type": "execute_result"
    }
   ],
   "source": [
    "out.max()"
   ]
  },
  {
   "cell_type": "code",
   "execution_count": 68,
   "metadata": {
    "collapsed": false
   },
   "outputs": [],
   "source": [
    "cmap = matplotlib.colors.ListedColormap(['w','b','g','y','r','purple']) # custom colormap"
   ]
  },
  {
   "cell_type": "code",
   "execution_count": 69,
   "metadata": {
    "collapsed": false
   },
   "outputs": [],
   "source": [
    "#cmap = matplotlib.cm.get_cmap('jet',4)"
   ]
  },
  {
   "cell_type": "code",
   "execution_count": 70,
   "metadata": {
    "collapsed": false
   },
   "outputs": [],
   "source": [
    "ti=np.arange(0.,6.) # custom range of colormap"
   ]
  },
  {
   "cell_type": "code",
   "execution_count": 71,
   "metadata": {
    "collapsed": false
   },
   "outputs": [],
   "source": [
    "%%skip\n",
    "#plot\n",
    "m.imshow(out,vmin=0, vmax=6, cmap = cmap, interpolation='nearest')\n",
    "m.colorbar( ticks=ti )\n",
    "m.drawcoastlines(linewidth=1.5)                                                                                                           \n",
    "m.drawparallels(parallels)                                                                                                                \n",
    "m.drawmeridians(meridians)                                                                                                                "
   ]
  },
  {
   "cell_type": "markdown",
   "metadata": {},
   "source": [
    "### Compute population exposure"
   ]
  },
  {
   "cell_type": "markdown",
   "metadata": {},
   "source": [
    "Here we can create appropriate masks of the wind force and apply it to the population array (mpop)"
   ]
  },
  {
   "cell_type": "code",
   "execution_count": 72,
   "metadata": {
    "collapsed": true
   },
   "outputs": [],
   "source": [
    "ma5=out>5 # all winds > 5"
   ]
  },
  {
   "cell_type": "markdown",
   "metadata": {},
   "source": [
    "Note that a 'masked' result means 0 "
   ]
  },
  {
   "cell_type": "code",
   "execution_count": 73,
   "metadata": {
    "collapsed": false
   },
   "outputs": [
    {
     "data": {
      "text/plain": [
       "masked"
      ]
     },
     "execution_count": 73,
     "metadata": {},
     "output_type": "execute_result"
    }
   ],
   "source": [
    "pop5 = mpop[ma5].sum() # summing the mpop array for the above mask\n",
    "pop5"
   ]
  },
  {
   "cell_type": "code",
   "execution_count": 74,
   "metadata": {
    "collapsed": false
   },
   "outputs": [],
   "source": [
    "ma4=out > 4"
   ]
  },
  {
   "cell_type": "code",
   "execution_count": 75,
   "metadata": {
    "collapsed": false
   },
   "outputs": [
    {
     "data": {
      "text/plain": [
       "masked"
      ]
     },
     "execution_count": 75,
     "metadata": {},
     "output_type": "execute_result"
    }
   ],
   "source": [
    "pop4 = mpop[ma4].sum()\n",
    "pop4"
   ]
  },
  {
   "cell_type": "code",
   "execution_count": 76,
   "metadata": {
    "collapsed": false
   },
   "outputs": [],
   "source": [
    "ma3=out > 3"
   ]
  },
  {
   "cell_type": "code",
   "execution_count": 77,
   "metadata": {
    "collapsed": false
   },
   "outputs": [
    {
     "data": {
      "text/plain": [
       "1028266"
      ]
     },
     "execution_count": 77,
     "metadata": {},
     "output_type": "execute_result"
    }
   ],
   "source": [
    "pop3 = mpop[ma3].sum()\n",
    "pop3"
   ]
  },
  {
   "cell_type": "code",
   "execution_count": 78,
   "metadata": {
    "collapsed": false
   },
   "outputs": [],
   "source": [
    "ma2=out > 2"
   ]
  },
  {
   "cell_type": "code",
   "execution_count": 79,
   "metadata": {
    "collapsed": false
   },
   "outputs": [
    {
     "data": {
      "text/plain": [
       "28329714"
      ]
     },
     "execution_count": 79,
     "metadata": {},
     "output_type": "execute_result"
    }
   ],
   "source": [
    "pop2 = mpop[ma2].sum()\n",
    "pop2"
   ]
  },
  {
   "cell_type": "code",
   "execution_count": 80,
   "metadata": {
    "collapsed": false
   },
   "outputs": [],
   "source": [
    "ma1=(out > 1)"
   ]
  },
  {
   "cell_type": "code",
   "execution_count": 81,
   "metadata": {
    "collapsed": false
   },
   "outputs": [
    {
     "data": {
      "text/plain": [
       "56958351"
      ]
     },
     "execution_count": 81,
     "metadata": {},
     "output_type": "execute_result"
    }
   ],
   "source": [
    "pop1 = mpop[ma1].sum()\n",
    "pop1"
   ]
  },
  {
   "cell_type": "code",
   "execution_count": 82,
   "metadata": {
    "collapsed": false
   },
   "outputs": [],
   "source": [
    "ma0=(out > 0)"
   ]
  },
  {
   "cell_type": "code",
   "execution_count": 83,
   "metadata": {
    "collapsed": false
   },
   "outputs": [
    {
     "data": {
      "text/plain": [
       "61564714"
      ]
     },
     "execution_count": 83,
     "metadata": {},
     "output_type": "execute_result"
    }
   ],
   "source": [
    "pop0 = mpop[ma0].sum()\n",
    "pop0"
   ]
  },
  {
   "cell_type": "markdown",
   "metadata": {},
   "source": [
    "We can estimate the exposure to a specific wind scale by subtracting. E.g. the population exposed to winds category 3 will be those exposed to more than 2 (pop2) - those exposed to more than 3 (pop3)"
   ]
  },
  {
   "cell_type": "code",
   "execution_count": 84,
   "metadata": {
    "collapsed": false
   },
   "outputs": [
    {
     "data": {
      "text/plain": [
       "27301448"
      ]
     },
     "execution_count": 84,
     "metadata": {},
     "output_type": "execute_result"
    }
   ],
   "source": [
    "pop2-pop3  "
   ]
  },
  {
   "cell_type": "markdown",
   "metadata": {},
   "source": [
    "Another way to test this is to mask the original pop array to the wind force and then exclude the nan values"
   ]
  },
  {
   "cell_type": "code",
   "execution_count": 85,
   "metadata": {
    "collapsed": true
   },
   "outputs": [],
   "source": [
    "mask= out == 3 # all location with wind force 3"
   ]
  },
  {
   "cell_type": "code",
   "execution_count": 86,
   "metadata": {
    "collapsed": false
   },
   "outputs": [
    {
     "data": {
      "text/plain": [
       "27301448"
      ]
     },
     "execution_count": 86,
     "metadata": {},
     "output_type": "execute_result"
    }
   ],
   "source": [
    "np.ma.masked_less(pop[mask],0).sum() # sould be the same as the above result"
   ]
  },
  {
   "cell_type": "markdown",
   "metadata": {},
   "source": [
    "### plot"
   ]
  },
  {
   "cell_type": "markdown",
   "metadata": {},
   "source": [
    "We can plot the areas of interest as well"
   ]
  },
  {
   "cell_type": "code",
   "execution_count": 87,
   "metadata": {
    "collapsed": true
   },
   "outputs": [],
   "source": [
    "mout=np.ma.masked_array(out,mask = out != 3)"
   ]
  },
  {
   "cell_type": "code",
   "execution_count": 88,
   "metadata": {
    "collapsed": false
   },
   "outputs": [],
   "source": [
    "%%skip\n",
    "m.imshow(mout,vmin=0, vmax=6, cmap = cmap, interpolation='nearest')\n",
    "m.colorbar( ticks=ti )\n",
    "m.drawcoastlines(linewidth=1.5)                                                                                                           \n",
    "m.drawparallels(parallels)                                                                                                                \n",
    "m.drawmeridians(meridians)                                                                                                                \n"
   ]
  },
  {
   "cell_type": "markdown",
   "metadata": {},
   "source": [
    "## Real time test"
   ]
  },
  {
   "cell_type": "markdown",
   "metadata": {},
   "source": [
    "This is function based on the corresponding Notebook (link) to read the wind swath of the day \n"
   ]
  },
  {
   "cell_type": "code",
   "execution_count": 89,
   "metadata": {
    "collapsed": true
   },
   "outputs": [],
   "source": [
    "def get_wswath(fname):\n",
    "    path0='ftp://ftp.ncep.noaa.gov/pub/data/nccf/com/hur/prod/'\n",
    "    response=urllib2.urlopen(path0)\n",
    "    ls=response.readlines()\n",
    "    lp=[elem.strip() for elem in ls]\n",
    "        \n",
    "    try:\n",
    "        urllib.urlretrieve(path0+fname, filename='tmp/wind10m.txt')\n",
    "    except:\n",
    "        print 'no such file'\n",
    "        \n",
    "    r=pd.read_csv('tmp/wind10m.txt',header=0)\n",
    "    \n",
    "    [nj,ni]=r.columns[0].split()[-2:]# the last 2 values of the header define grid size\n",
    "    ni=np.int(ni)\n",
    "    nj=np.int(nj)\n",
    "    nn=ni*nj\n",
    "    \n",
    "    wswath=r[:nn]\n",
    "    s=wswath[wswath.columns[0]].str.split(expand=True)\n",
    "    s.columns=['lat','lon','wind']\n",
    "    s=s.apply(pd.to_numeric)\n",
    "    \n",
    "    lat=s['lat'].values.reshape(ni,nj) \n",
    "    lon=s['lon'].values.reshape(ni,nj)\n",
    "    wind=s['wind'].values.reshape(ni,nj)\n",
    "    \n",
    "    return lat,lon,wind"
   ]
  },
  {
   "cell_type": "code",
   "execution_count": 90,
   "metadata": {
    "collapsed": false
   },
   "outputs": [],
   "source": [
    "hlat,hlon,hwind = get_wswath('hwrf.2016092300/twenty20w.2016092300.wind10m.ascii')"
   ]
  },
  {
   "cell_type": "code",
   "execution_count": 96,
   "metadata": {
    "collapsed": true
   },
   "outputs": [],
   "source": [
    "def get_pop(wlat,wlon,wind):\n",
    "    filename='../../POPEXPO/lspop20141.tif' #population data filename\n",
    "    #define the lat/lon window of wind swath\n",
    "    minlon=wlon[ wind != -999 ].min()\n",
    "    maxlon=wlon[ wind != -999 ].max()\n",
    "    minlat=wlat[ wind != -999 ].min()\n",
    "    maxlat=wlat[ wind != -999 ].max()\n",
    "    buf=[minlon,maxlon,minlat,maxlat]\n",
    "    \n",
    "    pop=getmap(filename,buf) # read population data\n",
    "    \n",
    "    mwind=np.ma.masked_array(wind,wind==-999) #mask the wind data for interpolation\n",
    "    \n",
    "    wgeo=pyresample.geometry.SwathDefinition(lons=wlon,lats=wlat) # the wind grid geometry\n",
    "    pgeo=pyresample.geometry.SwathDefinition(lons=pop.lons,lats=pop.lats) # the pop grid geometry\n",
    "    air_near=pyresample.kd_tree.resample_nearest(wgeo,np.flipud(mwind),pgeo,radius_of_influence=500000,fill_value=-999)\n",
    "    \n",
    "    reference = np.array([0,33,63,82,95,112,136,1000]) \n",
    "    output_labels = ['TD', 'TS' ,'CAT. 1','CAT. 2' , 'CAT. 3', 'CAT. 4', 'CAT. 5'] #The value assigned to each interval\n",
    "    sort_idx = np.argsort(reference) # saving the scale indeces \n",
    "    pos = np.searchsorted(reference[sort_idx], air_near, side = 'left') # sort the wind array\n",
    "    out = np.argsort(reference)[pos] # restore the correct order of the scale, more info in http://stackoverflow.com/questions/31078160/classify-elements-of-a-numpy-array-using-a-second-array-as-reference\n",
    "    \n",
    "    dic={}\n",
    "    for i in range(7):\n",
    "        mask= out == i # wind force i\n",
    "        try:\n",
    "            npop = np.ma.masked_less(pop.data[mask],0).sum() # sum of people exposed to wind force i\n",
    "            if npop is np.ma.masked :\n",
    "                dic[output_labels[i]] = 0 \n",
    "            else:\n",
    "                dic[output_labels[i]] = npop\n",
    "        except Exception as e :\n",
    "            print e\n",
    "    return dic"
   ]
  },
  {
   "cell_type": "code",
   "execution_count": 97,
   "metadata": {
    "collapsed": false
   },
   "outputs": [],
   "source": [
    "exposure = get_pop(hlat,hlon,hwind)"
   ]
  },
  {
   "cell_type": "code",
   "execution_count": 98,
   "metadata": {
    "collapsed": false
   },
   "outputs": [
    {
     "data": {
      "text/plain": [
       "{'CAT. 1': 28628637,\n",
       " 'CAT. 2': 27301448,\n",
       " 'CAT. 3': 1028266,\n",
       " 'CAT. 4': 0,\n",
       " 'CAT. 5': 0,\n",
       " 'TD': 229424747,\n",
       " 'TS': 4606363}"
      ]
     },
     "execution_count": 98,
     "metadata": {},
     "output_type": "execute_result"
    }
   ],
   "source": [
    "exposure"
   ]
  },
  {
   "cell_type": "code",
   "execution_count": null,
   "metadata": {
    "collapsed": true
   },
   "outputs": [],
   "source": []
  }
 ],
 "metadata": {
  "hide_input": false,
  "kernelspec": {
   "display_name": "Python 2",
   "language": "python",
   "name": "python2"
  },
  "language_info": {
   "codemirror_mode": {
    "name": "ipython",
    "version": 2
   },
   "file_extension": ".py",
   "mimetype": "text/x-python",
   "name": "python",
   "nbconvert_exporter": "python",
   "pygments_lexer": "ipython2",
   "version": "2.7.12"
  },
  "latex_envs": {
   "bibliofile": "biblio.bib",
   "cite_by": "apalike",
   "current_citInitial": 1,
   "eqLabelWithNumbers": true,
   "eqNumInitial": 0
  }
 },
 "nbformat": 4,
 "nbformat_minor": 1
}
