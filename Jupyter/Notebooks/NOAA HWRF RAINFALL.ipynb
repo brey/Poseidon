{
 "cells": [
  {
   "cell_type": "markdown",
   "metadata": {},
   "source": [
    "# This a quick way to visualize the latest Hurricane rainfall data from HWRF "
   ]
  },
  {
   "cell_type": "code",
   "execution_count": 44,
   "metadata": {
    "collapsed": false
   },
   "outputs": [],
   "source": [
    "#Import the neccessary modules\n",
    "\n",
    "import numpy as np\n",
    "from notebook import *\n",
    "from ipywidgets import *\n",
    "import matplotlib.pyplot as plt\n",
    "import matplotlib as mpl\n",
    "import datetime\n",
    "from mpl_toolkits.basemap import Basemap, shiftgrid\n",
    "import glob\n",
    "import urllib2,urllib\n",
    "import os\n",
    "import pandas\n",
    "%matplotlib notebook"
   ]
  },
  {
   "cell_type": "code",
   "execution_count": 45,
   "metadata": {
    "collapsed": false
   },
   "outputs": [],
   "source": [
    "#Lookup the ftp server for the latest folder\n",
    "path0='ftp://ftp.ncep.noaa.gov/pub/data/nccf/com/hur/prod/'\n",
    "response=urllib2.urlopen(path0)\n",
    "ls=response.readlines()\n",
    "lp=[elem.strip() for elem in ls]\n"
   ]
  },
  {
   "cell_type": "code",
   "execution_count": 46,
   "metadata": {
    "collapsed": false
   },
   "outputs": [
    {
     "data": {
      "text/plain": [
       "['hur.2016070618',\n",
       " 'hur.2016070700',\n",
       " 'hwrf.2016070618',\n",
       " 'hwrf.2016070700',\n",
       " 'inpdata',\n",
       " 'inphwrf']"
      ]
     },
     "execution_count": 46,
     "metadata": {},
     "output_type": "execute_result"
    }
   ],
   "source": [
    "paths=[lp[i].split()[-1] for i in range(np.size(lp))]\n",
    "paths"
   ]
  },
  {
   "cell_type": "code",
   "execution_count": 47,
   "metadata": {
    "collapsed": false
   },
   "outputs": [
    {
     "data": {
      "text/plain": [
       "'hwrf.2016070700'"
      ]
     },
     "execution_count": 47,
     "metadata": {},
     "output_type": "execute_result"
    }
   ],
   "source": [
    "#choose the 3th from the end folder (the latest hwrf ) and isolate the name\n",
    "fpath=lp[-3].split()[-1]\n",
    "fpath"
   ]
  },
  {
   "cell_type": "code",
   "execution_count": 48,
   "metadata": {
    "collapsed": false
   },
   "outputs": [],
   "source": [
    "# parse the folder \n",
    "fresponse=urllib2.urlopen(path0+fpath)\n",
    "fls=fresponse.readlines()\n",
    "flp=[elem.strip() for elem in fls]\n"
   ]
  },
  {
   "cell_type": "code",
   "execution_count": 49,
   "metadata": {
    "collapsed": false
   },
   "outputs": [
    {
     "data": {
      "text/plain": [
       "[396, 795, 1194]"
      ]
     },
     "execution_count": 49,
     "metadata": {},
     "output_type": "execute_result"
    }
   ],
   "source": [
    "w=['rainfall' in e for e in flp]\n",
    "\n",
    "indx=[i for i, x in enumerate(w) if x]\n",
    "\n",
    "indx"
   ]
  },
  {
   "cell_type": "markdown",
   "metadata": {},
   "source": [
    "If it is more than one hur we choose ..."
   ]
  },
  {
   "cell_type": "code",
   "execution_count": 50,
   "metadata": {
    "collapsed": false
   },
   "outputs": [
    {
     "data": {
      "text/plain": [
       "['blas03e.2016070700.rainfall.ascii',\n",
       " 'four04e.2016070700.rainfall.ascii',\n",
       " 'nepartak02w.2016070700.rainfall.ascii']"
      ]
     },
     "execution_count": 50,
     "metadata": {},
     "output_type": "execute_result"
    }
   ],
   "source": [
    "fname=[flp[indx[i]].split()[-1] for i in range(np.size(indx)) ]\n",
    "fname"
   ]
  },
  {
   "cell_type": "code",
   "execution_count": 51,
   "metadata": {
    "collapsed": false
   },
   "outputs": [
    {
     "name": "stdout",
     "output_type": "stream",
     "text": [
      "blas03e.2016070700.rainfall.ascii\n"
     ]
    }
   ],
   "source": [
    "# we choose, remember python indeces start from 0\n",
    "fname=fname[0]\n",
    "print fname # VERIFY"
   ]
  },
  {
   "cell_type": "code",
   "execution_count": 52,
   "metadata": {
    "collapsed": false
   },
   "outputs": [
    {
     "name": "stdout",
     "output_type": "stream",
     "text": [
      "blas03e 2016070700\n"
     ]
    }
   ],
   "source": [
    "#get hur name\n",
    "hurName=fname.split('.')[0]\n",
    "date=fname.split('.')[1]\n",
    "print hurName, date"
   ]
  },
  {
   "cell_type": "code",
   "execution_count": 53,
   "metadata": {
    "collapsed": false
   },
   "outputs": [],
   "source": [
    "# retrieve file\n",
    "try:\n",
    "    urllib.urlretrieve(path0+fpath+'/'+fname, filename='tmp/raindata.txt')\n",
    "except:\n",
    "    print 'no such file'"
   ]
  },
  {
   "cell_type": "code",
   "execution_count": 54,
   "metadata": {
    "collapsed": false
   },
   "outputs": [],
   "source": [
    "#read file\n",
    "r=pandas.read_csv('tmp/raindata.txt',header=0)"
   ]
  },
  {
   "cell_type": "markdown",
   "metadata": {},
   "source": [
    "The file has a header and in the end the track of the Hurricane. So we sort things out"
   ]
  },
  {
   "cell_type": "markdown",
   "metadata": {},
   "source": [
    "We find the number of points included in the track"
   ]
  },
  {
   "cell_type": "code",
   "execution_count": 55,
   "metadata": {
    "collapsed": false
   },
   "outputs": [
    {
     "name": "stderr",
     "output_type": "stream",
     "text": [
      "/usr/local/lib/python2.7/dist-packages/ipykernel/__main__.py:1: FutureWarning: convert_objects is deprecated.  Use the data-type specific converters pd.to_datetime, pd.to_timedelta and pd.to_numeric.\n",
      "  if __name__ == '__main__':\n"
     ]
    }
   ],
   "source": [
    "ntr=r.convert_objects(convert_numeric=True).dropna()"
   ]
  },
  {
   "cell_type": "code",
   "execution_count": 56,
   "metadata": {
    "collapsed": false
   },
   "outputs": [
    {
     "data": {
      "text/html": [
       "<div>\n",
       "<table border=\"1\" class=\"dataframe\">\n",
       "  <thead>\n",
       "    <tr style=\"text-align: right;\">\n",
       "      <th></th>\n",
       "      <th>-152.55  -117.85     8.85    32.00     0.05  695  464</th>\n",
       "    </tr>\n",
       "  </thead>\n",
       "  <tbody>\n",
       "    <tr>\n",
       "      <th>322481</th>\n",
       "      <td>126</td>\n",
       "    </tr>\n",
       "  </tbody>\n",
       "</table>\n",
       "</div>"
      ],
      "text/plain": [
       "          -152.55  -117.85     8.85    32.00     0.05  695  464\n",
       "322481                                                126      "
      ]
     },
     "execution_count": 56,
     "metadata": {},
     "output_type": "execute_result"
    }
   ],
   "source": [
    "ntr"
   ]
  },
  {
   "cell_type": "markdown",
   "metadata": {},
   "source": [
    "Now the values below line (see index on the left) is the track and above is the lat,lon, so"
   ]
  },
  {
   "cell_type": "code",
   "execution_count": 57,
   "metadata": {
    "collapsed": false
   },
   "outputs": [],
   "source": [
    "h=r.columns[0].split() # header"
   ]
  },
  {
   "cell_type": "code",
   "execution_count": 58,
   "metadata": {
    "collapsed": false
   },
   "outputs": [
    {
     "data": {
      "text/plain": [
       "322481"
      ]
     },
     "execution_count": 58,
     "metadata": {},
     "output_type": "execute_result"
    }
   ],
   "source": [
    "ntr.index[0]"
   ]
  },
  {
   "cell_type": "code",
   "execution_count": 59,
   "metadata": {
    "collapsed": false
   },
   "outputs": [],
   "source": [
    "tra=r[ntr.index[0]+1:]"
   ]
  },
  {
   "cell_type": "code",
   "execution_count": 60,
   "metadata": {
    "collapsed": false
   },
   "outputs": [],
   "source": [
    "tr=[]\n",
    "for x in tra.values.ravel():\n",
    "    tr.append(x.split())"
   ]
  },
  {
   "cell_type": "code",
   "execution_count": 61,
   "metadata": {
    "collapsed": false
   },
   "outputs": [],
   "source": [
    "track=np.array(tr).astype(float)"
   ]
  },
  {
   "cell_type": "code",
   "execution_count": 62,
   "metadata": {
    "collapsed": true
   },
   "outputs": [],
   "source": [
    "dat=r[:ntr.index[0]] "
   ]
  },
  {
   "cell_type": "code",
   "execution_count": 63,
   "metadata": {
    "collapsed": false
   },
   "outputs": [],
   "source": [
    "#s=data[data.columns[0]].apply(lambda x: pandas.Series(x.split(',')))"
   ]
  },
  {
   "cell_type": "code",
   "execution_count": 64,
   "metadata": {
    "collapsed": false
   },
   "outputs": [],
   "source": [
    "data=[]\n",
    "for x in dat.values.ravel():\n",
    "    data.append(x.split())"
   ]
  },
  {
   "cell_type": "code",
   "execution_count": 65,
   "metadata": {
    "collapsed": false
   },
   "outputs": [],
   "source": [
    "d=np.array(data)"
   ]
  },
  {
   "cell_type": "code",
   "execution_count": 66,
   "metadata": {
    "collapsed": false
   },
   "outputs": [],
   "source": [
    "lat=d[:-1,0].astype(float)\n",
    "lon=d[:-1,1].astype(float)\n",
    "rainf=d[:-1,2].astype(float)"
   ]
  },
  {
   "cell_type": "code",
   "execution_count": 67,
   "metadata": {
    "collapsed": false
   },
   "outputs": [],
   "source": [
    "ni,nj=np.int(h[-1]),np.int(h[-2])"
   ]
  },
  {
   "cell_type": "markdown",
   "metadata": {},
   "source": [
    "Reshape data to the shape given in the header"
   ]
  },
  {
   "cell_type": "code",
   "execution_count": 68,
   "metadata": {
    "collapsed": false
   },
   "outputs": [],
   "source": [
    "lat=lat.reshape(ni,nj) # the last 2 values of the header define grid size\n",
    "lon=lon.reshape(ni,nj)\n",
    "rainf=rainf.reshape(ni,nj)"
   ]
  },
  {
   "cell_type": "markdown",
   "metadata": {},
   "source": [
    "In order to make the plot better we can mask the NaN values (in this case -999.)"
   ]
  },
  {
   "cell_type": "code",
   "execution_count": 69,
   "metadata": {
    "collapsed": false
   },
   "outputs": [],
   "source": [
    "rain=np.ma.masked_where(rainf == -999., rainf)"
   ]
  },
  {
   "cell_type": "code",
   "execution_count": 70,
   "metadata": {
    "collapsed": false
   },
   "outputs": [],
   "source": [
    "#Define a personal cmap\n",
    "wlevs = [0.,1.,2.,4.,8.,16.,24.,32.] #specify color map to match NOAA's HWRF\n",
    "mrain=np.max(wlevs)\n",
    "colors=['greenyellow','lime','darkgreen','y','yellow','orange','yellow','r']\n",
    "cmap=mpl.colors.ListedColormap(colors)\n",
    "norm=mpl.colors.BoundaryNorm(wlevs,cmap.N)\n",
    "\n",
    "cmap.set_over(mpl.colors.colorConverter.to_rgb('purple'))\n",
    "cmap.set_under(mpl.colors.colorConverter.to_rgb('w'))\n"
   ]
  },
  {
   "cell_type": "markdown",
   "metadata": {},
   "source": [
    "plot the figure"
   ]
  },
  {
   "cell_type": "code",
   "execution_count": 90,
   "metadata": {
    "collapsed": false
   },
   "outputs": [],
   "source": [
    "# check user for saving file\n",
    "user=os.environ['USER']"
   ]
  },
  {
   "cell_type": "code",
   "execution_count": 92,
   "metadata": {
    "collapsed": false
   },
   "outputs": [
    {
     "data": {
      "application/javascript": [
       "/* Put everything inside the global mpl namespace */\n",
       "window.mpl = {};\n",
       "\n",
       "mpl.get_websocket_type = function() {\n",
       "    if (typeof(WebSocket) !== 'undefined') {\n",
       "        return WebSocket;\n",
       "    } else if (typeof(MozWebSocket) !== 'undefined') {\n",
       "        return MozWebSocket;\n",
       "    } else {\n",
       "        alert('Your browser does not have WebSocket support.' +\n",
       "              'Please try Chrome, Safari or Firefox ≥ 6. ' +\n",
       "              'Firefox 4 and 5 are also supported but you ' +\n",
       "              'have to enable WebSockets in about:config.');\n",
       "    };\n",
       "}\n",
       "\n",
       "mpl.figure = function(figure_id, websocket, ondownload, parent_element) {\n",
       "    this.id = figure_id;\n",
       "\n",
       "    this.ws = websocket;\n",
       "\n",
       "    this.supports_binary = (this.ws.binaryType != undefined);\n",
       "\n",
       "    if (!this.supports_binary) {\n",
       "        var warnings = document.getElementById(\"mpl-warnings\");\n",
       "        if (warnings) {\n",
       "            warnings.style.display = 'block';\n",
       "            warnings.textContent = (\n",
       "                \"This browser does not support binary websocket messages. \" +\n",
       "                    \"Performance may be slow.\");\n",
       "        }\n",
       "    }\n",
       "\n",
       "    this.imageObj = new Image();\n",
       "\n",
       "    this.context = undefined;\n",
       "    this.message = undefined;\n",
       "    this.canvas = undefined;\n",
       "    this.rubberband_canvas = undefined;\n",
       "    this.rubberband_context = undefined;\n",
       "    this.format_dropdown = undefined;\n",
       "\n",
       "    this.image_mode = 'full';\n",
       "\n",
       "    this.root = $('<div/>');\n",
       "    this._root_extra_style(this.root)\n",
       "    this.root.attr('style', 'display: inline-block');\n",
       "\n",
       "    $(parent_element).append(this.root);\n",
       "\n",
       "    this._init_header(this);\n",
       "    this._init_canvas(this);\n",
       "    this._init_toolbar(this);\n",
       "\n",
       "    var fig = this;\n",
       "\n",
       "    this.waiting = false;\n",
       "\n",
       "    this.ws.onopen =  function () {\n",
       "            fig.send_message(\"supports_binary\", {value: fig.supports_binary});\n",
       "            fig.send_message(\"send_image_mode\", {});\n",
       "            fig.send_message(\"refresh\", {});\n",
       "        }\n",
       "\n",
       "    this.imageObj.onload = function() {\n",
       "            if (fig.image_mode == 'full') {\n",
       "                // Full images could contain transparency (where diff images\n",
       "                // almost always do), so we need to clear the canvas so that\n",
       "                // there is no ghosting.\n",
       "                fig.context.clearRect(0, 0, fig.canvas.width, fig.canvas.height);\n",
       "            }\n",
       "            fig.context.drawImage(fig.imageObj, 0, 0);\n",
       "        };\n",
       "\n",
       "    this.imageObj.onunload = function() {\n",
       "        this.ws.close();\n",
       "    }\n",
       "\n",
       "    this.ws.onmessage = this._make_on_message_function(this);\n",
       "\n",
       "    this.ondownload = ondownload;\n",
       "}\n",
       "\n",
       "mpl.figure.prototype._init_header = function() {\n",
       "    var titlebar = $(\n",
       "        '<div class=\"ui-dialog-titlebar ui-widget-header ui-corner-all ' +\n",
       "        'ui-helper-clearfix\"/>');\n",
       "    var titletext = $(\n",
       "        '<div class=\"ui-dialog-title\" style=\"width: 100%; ' +\n",
       "        'text-align: center; padding: 3px;\"/>');\n",
       "    titlebar.append(titletext)\n",
       "    this.root.append(titlebar);\n",
       "    this.header = titletext[0];\n",
       "}\n",
       "\n",
       "\n",
       "\n",
       "mpl.figure.prototype._canvas_extra_style = function(canvas_div) {\n",
       "\n",
       "}\n",
       "\n",
       "\n",
       "mpl.figure.prototype._root_extra_style = function(canvas_div) {\n",
       "\n",
       "}\n",
       "\n",
       "mpl.figure.prototype._init_canvas = function() {\n",
       "    var fig = this;\n",
       "\n",
       "    var canvas_div = $('<div/>');\n",
       "\n",
       "    canvas_div.attr('style', 'position: relative; clear: both; outline: 0');\n",
       "\n",
       "    function canvas_keyboard_event(event) {\n",
       "        return fig.key_event(event, event['data']);\n",
       "    }\n",
       "\n",
       "    canvas_div.keydown('key_press', canvas_keyboard_event);\n",
       "    canvas_div.keyup('key_release', canvas_keyboard_event);\n",
       "    this.canvas_div = canvas_div\n",
       "    this._canvas_extra_style(canvas_div)\n",
       "    this.root.append(canvas_div);\n",
       "\n",
       "    var canvas = $('<canvas/>');\n",
       "    canvas.addClass('mpl-canvas');\n",
       "    canvas.attr('style', \"left: 0; top: 0; z-index: 0; outline: 0\")\n",
       "\n",
       "    this.canvas = canvas[0];\n",
       "    this.context = canvas[0].getContext(\"2d\");\n",
       "\n",
       "    var rubberband = $('<canvas/>');\n",
       "    rubberband.attr('style', \"position: absolute; left: 0; top: 0; z-index: 1;\")\n",
       "\n",
       "    var pass_mouse_events = true;\n",
       "\n",
       "    canvas_div.resizable({\n",
       "        start: function(event, ui) {\n",
       "            pass_mouse_events = false;\n",
       "        },\n",
       "        resize: function(event, ui) {\n",
       "            fig.request_resize(ui.size.width, ui.size.height);\n",
       "        },\n",
       "        stop: function(event, ui) {\n",
       "            pass_mouse_events = true;\n",
       "            fig.request_resize(ui.size.width, ui.size.height);\n",
       "        },\n",
       "    });\n",
       "\n",
       "    function mouse_event_fn(event) {\n",
       "        if (pass_mouse_events)\n",
       "            return fig.mouse_event(event, event['data']);\n",
       "    }\n",
       "\n",
       "    rubberband.mousedown('button_press', mouse_event_fn);\n",
       "    rubberband.mouseup('button_release', mouse_event_fn);\n",
       "    // Throttle sequential mouse events to 1 every 20ms.\n",
       "    rubberband.mousemove('motion_notify', mouse_event_fn);\n",
       "\n",
       "    rubberband.mouseenter('figure_enter', mouse_event_fn);\n",
       "    rubberband.mouseleave('figure_leave', mouse_event_fn);\n",
       "\n",
       "    canvas_div.on(\"wheel\", function (event) {\n",
       "        event = event.originalEvent;\n",
       "        event['data'] = 'scroll'\n",
       "        if (event.deltaY < 0) {\n",
       "            event.step = 1;\n",
       "        } else {\n",
       "            event.step = -1;\n",
       "        }\n",
       "        mouse_event_fn(event);\n",
       "    });\n",
       "\n",
       "    canvas_div.append(canvas);\n",
       "    canvas_div.append(rubberband);\n",
       "\n",
       "    this.rubberband = rubberband;\n",
       "    this.rubberband_canvas = rubberband[0];\n",
       "    this.rubberband_context = rubberband[0].getContext(\"2d\");\n",
       "    this.rubberband_context.strokeStyle = \"#000000\";\n",
       "\n",
       "    this._resize_canvas = function(width, height) {\n",
       "        // Keep the size of the canvas, canvas container, and rubber band\n",
       "        // canvas in synch.\n",
       "        canvas_div.css('width', width)\n",
       "        canvas_div.css('height', height)\n",
       "\n",
       "        canvas.attr('width', width);\n",
       "        canvas.attr('height', height);\n",
       "\n",
       "        rubberband.attr('width', width);\n",
       "        rubberband.attr('height', height);\n",
       "    }\n",
       "\n",
       "    // Set the figure to an initial 600x600px, this will subsequently be updated\n",
       "    // upon first draw.\n",
       "    this._resize_canvas(600, 600);\n",
       "\n",
       "    // Disable right mouse context menu.\n",
       "    $(this.rubberband_canvas).bind(\"contextmenu\",function(e){\n",
       "        return false;\n",
       "    });\n",
       "\n",
       "    function set_focus () {\n",
       "        canvas.focus();\n",
       "        canvas_div.focus();\n",
       "    }\n",
       "\n",
       "    window.setTimeout(set_focus, 100);\n",
       "}\n",
       "\n",
       "mpl.figure.prototype._init_toolbar = function() {\n",
       "    var fig = this;\n",
       "\n",
       "    var nav_element = $('<div/>')\n",
       "    nav_element.attr('style', 'width: 100%');\n",
       "    this.root.append(nav_element);\n",
       "\n",
       "    // Define a callback function for later on.\n",
       "    function toolbar_event(event) {\n",
       "        return fig.toolbar_button_onclick(event['data']);\n",
       "    }\n",
       "    function toolbar_mouse_event(event) {\n",
       "        return fig.toolbar_button_onmouseover(event['data']);\n",
       "    }\n",
       "\n",
       "    for(var toolbar_ind in mpl.toolbar_items) {\n",
       "        var name = mpl.toolbar_items[toolbar_ind][0];\n",
       "        var tooltip = mpl.toolbar_items[toolbar_ind][1];\n",
       "        var image = mpl.toolbar_items[toolbar_ind][2];\n",
       "        var method_name = mpl.toolbar_items[toolbar_ind][3];\n",
       "\n",
       "        if (!name) {\n",
       "            // put a spacer in here.\n",
       "            continue;\n",
       "        }\n",
       "        var button = $('<button/>');\n",
       "        button.addClass('ui-button ui-widget ui-state-default ui-corner-all ' +\n",
       "                        'ui-button-icon-only');\n",
       "        button.attr('role', 'button');\n",
       "        button.attr('aria-disabled', 'false');\n",
       "        button.click(method_name, toolbar_event);\n",
       "        button.mouseover(tooltip, toolbar_mouse_event);\n",
       "\n",
       "        var icon_img = $('<span/>');\n",
       "        icon_img.addClass('ui-button-icon-primary ui-icon');\n",
       "        icon_img.addClass(image);\n",
       "        icon_img.addClass('ui-corner-all');\n",
       "\n",
       "        var tooltip_span = $('<span/>');\n",
       "        tooltip_span.addClass('ui-button-text');\n",
       "        tooltip_span.html(tooltip);\n",
       "\n",
       "        button.append(icon_img);\n",
       "        button.append(tooltip_span);\n",
       "\n",
       "        nav_element.append(button);\n",
       "    }\n",
       "\n",
       "    var fmt_picker_span = $('<span/>');\n",
       "\n",
       "    var fmt_picker = $('<select/>');\n",
       "    fmt_picker.addClass('mpl-toolbar-option ui-widget ui-widget-content');\n",
       "    fmt_picker_span.append(fmt_picker);\n",
       "    nav_element.append(fmt_picker_span);\n",
       "    this.format_dropdown = fmt_picker[0];\n",
       "\n",
       "    for (var ind in mpl.extensions) {\n",
       "        var fmt = mpl.extensions[ind];\n",
       "        var option = $(\n",
       "            '<option/>', {selected: fmt === mpl.default_extension}).html(fmt);\n",
       "        fmt_picker.append(option)\n",
       "    }\n",
       "\n",
       "    // Add hover states to the ui-buttons\n",
       "    $( \".ui-button\" ).hover(\n",
       "        function() { $(this).addClass(\"ui-state-hover\");},\n",
       "        function() { $(this).removeClass(\"ui-state-hover\");}\n",
       "    );\n",
       "\n",
       "    var status_bar = $('<span class=\"mpl-message\"/>');\n",
       "    nav_element.append(status_bar);\n",
       "    this.message = status_bar[0];\n",
       "}\n",
       "\n",
       "mpl.figure.prototype.request_resize = function(x_pixels, y_pixels) {\n",
       "    // Request matplotlib to resize the figure. Matplotlib will then trigger a resize in the client,\n",
       "    // which will in turn request a refresh of the image.\n",
       "    this.send_message('resize', {'width': x_pixels, 'height': y_pixels});\n",
       "}\n",
       "\n",
       "mpl.figure.prototype.send_message = function(type, properties) {\n",
       "    properties['type'] = type;\n",
       "    properties['figure_id'] = this.id;\n",
       "    this.ws.send(JSON.stringify(properties));\n",
       "}\n",
       "\n",
       "mpl.figure.prototype.send_draw_message = function() {\n",
       "    if (!this.waiting) {\n",
       "        this.waiting = true;\n",
       "        this.ws.send(JSON.stringify({type: \"draw\", figure_id: this.id}));\n",
       "    }\n",
       "}\n",
       "\n",
       "\n",
       "mpl.figure.prototype.handle_save = function(fig, msg) {\n",
       "    var format_dropdown = fig.format_dropdown;\n",
       "    var format = format_dropdown.options[format_dropdown.selectedIndex].value;\n",
       "    fig.ondownload(fig, format);\n",
       "}\n",
       "\n",
       "\n",
       "mpl.figure.prototype.handle_resize = function(fig, msg) {\n",
       "    var size = msg['size'];\n",
       "    if (size[0] != fig.canvas.width || size[1] != fig.canvas.height) {\n",
       "        fig._resize_canvas(size[0], size[1]);\n",
       "        fig.send_message(\"refresh\", {});\n",
       "    };\n",
       "}\n",
       "\n",
       "mpl.figure.prototype.handle_rubberband = function(fig, msg) {\n",
       "    var x0 = msg['x0'];\n",
       "    var y0 = fig.canvas.height - msg['y0'];\n",
       "    var x1 = msg['x1'];\n",
       "    var y1 = fig.canvas.height - msg['y1'];\n",
       "    x0 = Math.floor(x0) + 0.5;\n",
       "    y0 = Math.floor(y0) + 0.5;\n",
       "    x1 = Math.floor(x1) + 0.5;\n",
       "    y1 = Math.floor(y1) + 0.5;\n",
       "    var min_x = Math.min(x0, x1);\n",
       "    var min_y = Math.min(y0, y1);\n",
       "    var width = Math.abs(x1 - x0);\n",
       "    var height = Math.abs(y1 - y0);\n",
       "\n",
       "    fig.rubberband_context.clearRect(\n",
       "        0, 0, fig.canvas.width, fig.canvas.height);\n",
       "\n",
       "    fig.rubberband_context.strokeRect(min_x, min_y, width, height);\n",
       "}\n",
       "\n",
       "mpl.figure.prototype.handle_figure_label = function(fig, msg) {\n",
       "    // Updates the figure title.\n",
       "    fig.header.textContent = msg['label'];\n",
       "}\n",
       "\n",
       "mpl.figure.prototype.handle_cursor = function(fig, msg) {\n",
       "    var cursor = msg['cursor'];\n",
       "    switch(cursor)\n",
       "    {\n",
       "    case 0:\n",
       "        cursor = 'pointer';\n",
       "        break;\n",
       "    case 1:\n",
       "        cursor = 'default';\n",
       "        break;\n",
       "    case 2:\n",
       "        cursor = 'crosshair';\n",
       "        break;\n",
       "    case 3:\n",
       "        cursor = 'move';\n",
       "        break;\n",
       "    }\n",
       "    fig.rubberband_canvas.style.cursor = cursor;\n",
       "}\n",
       "\n",
       "mpl.figure.prototype.handle_message = function(fig, msg) {\n",
       "    fig.message.textContent = msg['message'];\n",
       "}\n",
       "\n",
       "mpl.figure.prototype.handle_draw = function(fig, msg) {\n",
       "    // Request the server to send over a new figure.\n",
       "    fig.send_draw_message();\n",
       "}\n",
       "\n",
       "mpl.figure.prototype.handle_image_mode = function(fig, msg) {\n",
       "    fig.image_mode = msg['mode'];\n",
       "}\n",
       "\n",
       "mpl.figure.prototype.updated_canvas_event = function() {\n",
       "    // Called whenever the canvas gets updated.\n",
       "    this.send_message(\"ack\", {});\n",
       "}\n",
       "\n",
       "// A function to construct a web socket function for onmessage handling.\n",
       "// Called in the figure constructor.\n",
       "mpl.figure.prototype._make_on_message_function = function(fig) {\n",
       "    return function socket_on_message(evt) {\n",
       "        if (evt.data instanceof Blob) {\n",
       "            /* FIXME: We get \"Resource interpreted as Image but\n",
       "             * transferred with MIME type text/plain:\" errors on\n",
       "             * Chrome.  But how to set the MIME type?  It doesn't seem\n",
       "             * to be part of the websocket stream */\n",
       "            evt.data.type = \"image/png\";\n",
       "\n",
       "            /* Free the memory for the previous frames */\n",
       "            if (fig.imageObj.src) {\n",
       "                (window.URL || window.webkitURL).revokeObjectURL(\n",
       "                    fig.imageObj.src);\n",
       "            }\n",
       "\n",
       "            fig.imageObj.src = (window.URL || window.webkitURL).createObjectURL(\n",
       "                evt.data);\n",
       "            fig.updated_canvas_event();\n",
       "            fig.waiting = false;\n",
       "            return;\n",
       "        }\n",
       "        else if (typeof evt.data === 'string' && evt.data.slice(0, 21) == \"data:image/png;base64\") {\n",
       "            fig.imageObj.src = evt.data;\n",
       "            fig.updated_canvas_event();\n",
       "            fig.waiting = false;\n",
       "            return;\n",
       "        }\n",
       "\n",
       "        var msg = JSON.parse(evt.data);\n",
       "        var msg_type = msg['type'];\n",
       "\n",
       "        // Call the  \"handle_{type}\" callback, which takes\n",
       "        // the figure and JSON message as its only arguments.\n",
       "        try {\n",
       "            var callback = fig[\"handle_\" + msg_type];\n",
       "        } catch (e) {\n",
       "            console.log(\"No handler for the '\" + msg_type + \"' message type: \", msg);\n",
       "            return;\n",
       "        }\n",
       "\n",
       "        if (callback) {\n",
       "            try {\n",
       "                // console.log(\"Handling '\" + msg_type + \"' message: \", msg);\n",
       "                callback(fig, msg);\n",
       "            } catch (e) {\n",
       "                console.log(\"Exception inside the 'handler_\" + msg_type + \"' callback:\", e, e.stack, msg);\n",
       "            }\n",
       "        }\n",
       "    };\n",
       "}\n",
       "\n",
       "// from http://stackoverflow.com/questions/1114465/getting-mouse-location-in-canvas\n",
       "mpl.findpos = function(e) {\n",
       "    //this section is from http://www.quirksmode.org/js/events_properties.html\n",
       "    var targ;\n",
       "    if (!e)\n",
       "        e = window.event;\n",
       "    if (e.target)\n",
       "        targ = e.target;\n",
       "    else if (e.srcElement)\n",
       "        targ = e.srcElement;\n",
       "    if (targ.nodeType == 3) // defeat Safari bug\n",
       "        targ = targ.parentNode;\n",
       "\n",
       "    // jQuery normalizes the pageX and pageY\n",
       "    // pageX,Y are the mouse positions relative to the document\n",
       "    // offset() returns the position of the element relative to the document\n",
       "    var x = e.pageX - $(targ).offset().left;\n",
       "    var y = e.pageY - $(targ).offset().top;\n",
       "\n",
       "    return {\"x\": x, \"y\": y};\n",
       "};\n",
       "\n",
       "/*\n",
       " * return a copy of an object with only non-object keys\n",
       " * we need this to avoid circular references\n",
       " * http://stackoverflow.com/a/24161582/3208463\n",
       " */\n",
       "function simpleKeys (original) {\n",
       "  return Object.keys(original).reduce(function (obj, key) {\n",
       "    if (typeof original[key] !== 'object')\n",
       "        obj[key] = original[key]\n",
       "    return obj;\n",
       "  }, {});\n",
       "}\n",
       "\n",
       "mpl.figure.prototype.mouse_event = function(event, name) {\n",
       "    var canvas_pos = mpl.findpos(event)\n",
       "\n",
       "    if (name === 'button_press')\n",
       "    {\n",
       "        this.canvas.focus();\n",
       "        this.canvas_div.focus();\n",
       "    }\n",
       "\n",
       "    var x = canvas_pos.x;\n",
       "    var y = canvas_pos.y;\n",
       "\n",
       "    this.send_message(name, {x: x, y: y, button: event.button,\n",
       "                             step: event.step,\n",
       "                             guiEvent: simpleKeys(event)});\n",
       "\n",
       "    /* This prevents the web browser from automatically changing to\n",
       "     * the text insertion cursor when the button is pressed.  We want\n",
       "     * to control all of the cursor setting manually through the\n",
       "     * 'cursor' event from matplotlib */\n",
       "    event.preventDefault();\n",
       "    return false;\n",
       "}\n",
       "\n",
       "mpl.figure.prototype._key_event_extra = function(event, name) {\n",
       "    // Handle any extra behaviour associated with a key event\n",
       "}\n",
       "\n",
       "mpl.figure.prototype.key_event = function(event, name) {\n",
       "\n",
       "    // Prevent repeat events\n",
       "    if (name == 'key_press')\n",
       "    {\n",
       "        if (event.which === this._key)\n",
       "            return;\n",
       "        else\n",
       "            this._key = event.which;\n",
       "    }\n",
       "    if (name == 'key_release')\n",
       "        this._key = null;\n",
       "\n",
       "    var value = '';\n",
       "    if (event.ctrlKey && event.which != 17)\n",
       "        value += \"ctrl+\";\n",
       "    if (event.altKey && event.which != 18)\n",
       "        value += \"alt+\";\n",
       "    if (event.shiftKey && event.which != 16)\n",
       "        value += \"shift+\";\n",
       "\n",
       "    value += 'k';\n",
       "    value += event.which.toString();\n",
       "\n",
       "    this._key_event_extra(event, name);\n",
       "\n",
       "    this.send_message(name, {key: value,\n",
       "                             guiEvent: simpleKeys(event)});\n",
       "    return false;\n",
       "}\n",
       "\n",
       "mpl.figure.prototype.toolbar_button_onclick = function(name) {\n",
       "    if (name == 'download') {\n",
       "        this.handle_save(this, null);\n",
       "    } else {\n",
       "        this.send_message(\"toolbar_button\", {name: name});\n",
       "    }\n",
       "};\n",
       "\n",
       "mpl.figure.prototype.toolbar_button_onmouseover = function(tooltip) {\n",
       "    this.message.textContent = tooltip;\n",
       "};\n",
       "mpl.toolbar_items = [[\"Home\", \"Reset original view\", \"fa fa-home icon-home\", \"home\"], [\"Back\", \"Back to  previous view\", \"fa fa-arrow-left icon-arrow-left\", \"back\"], [\"Forward\", \"Forward to next view\", \"fa fa-arrow-right icon-arrow-right\", \"forward\"], [\"\", \"\", \"\", \"\"], [\"Pan\", \"Pan axes with left mouse, zoom with right\", \"fa fa-arrows icon-move\", \"pan\"], [\"Zoom\", \"Zoom to rectangle\", \"fa fa-square-o icon-check-empty\", \"zoom\"], [\"\", \"\", \"\", \"\"], [\"Download\", \"Download plot\", \"fa fa-floppy-o icon-save\", \"download\"]];\n",
       "\n",
       "mpl.extensions = [\"eps\", \"jpeg\", \"pdf\", \"png\", \"ps\", \"raw\", \"svg\", \"tif\"];\n",
       "\n",
       "mpl.default_extension = \"png\";var comm_websocket_adapter = function(comm) {\n",
       "    // Create a \"websocket\"-like object which calls the given IPython comm\n",
       "    // object with the appropriate methods. Currently this is a non binary\n",
       "    // socket, so there is still some room for performance tuning.\n",
       "    var ws = {};\n",
       "\n",
       "    ws.close = function() {\n",
       "        comm.close()\n",
       "    };\n",
       "    ws.send = function(m) {\n",
       "        //console.log('sending', m);\n",
       "        comm.send(m);\n",
       "    };\n",
       "    // Register the callback with on_msg.\n",
       "    comm.on_msg(function(msg) {\n",
       "        //console.log('receiving', msg['content']['data'], msg);\n",
       "        // Pass the mpl event to the overriden (by mpl) onmessage function.\n",
       "        ws.onmessage(msg['content']['data'])\n",
       "    });\n",
       "    return ws;\n",
       "}\n",
       "\n",
       "mpl.mpl_figure_comm = function(comm, msg) {\n",
       "    // This is the function which gets called when the mpl process\n",
       "    // starts-up an IPython Comm through the \"matplotlib\" channel.\n",
       "\n",
       "    var id = msg.content.data.id;\n",
       "    // Get hold of the div created by the display call when the Comm\n",
       "    // socket was opened in Python.\n",
       "    var element = $(\"#\" + id);\n",
       "    var ws_proxy = comm_websocket_adapter(comm)\n",
       "\n",
       "    function ondownload(figure, format) {\n",
       "        window.open(figure.imageObj.src);\n",
       "    }\n",
       "\n",
       "    var fig = new mpl.figure(id, ws_proxy,\n",
       "                           ondownload,\n",
       "                           element.get(0));\n",
       "\n",
       "    // Call onopen now - mpl needs it, as it is assuming we've passed it a real\n",
       "    // web socket which is closed, not our websocket->open comm proxy.\n",
       "    ws_proxy.onopen();\n",
       "\n",
       "    fig.parent_element = element.get(0);\n",
       "    fig.cell_info = mpl.find_output_cell(\"<div id='\" + id + \"'></div>\");\n",
       "    if (!fig.cell_info) {\n",
       "        console.error(\"Failed to find cell for figure\", id, fig);\n",
       "        return;\n",
       "    }\n",
       "\n",
       "    var output_index = fig.cell_info[2]\n",
       "    var cell = fig.cell_info[0];\n",
       "\n",
       "};\n",
       "\n",
       "mpl.figure.prototype.handle_close = function(fig, msg) {\n",
       "    fig.root.unbind('remove')\n",
       "\n",
       "    // Update the output cell to use the data from the current canvas.\n",
       "    fig.push_to_output();\n",
       "    var dataURL = fig.canvas.toDataURL();\n",
       "    // Re-enable the keyboard manager in IPython - without this line, in FF,\n",
       "    // the notebook keyboard shortcuts fail.\n",
       "    IPython.keyboard_manager.enable()\n",
       "    $(fig.parent_element).html('<img src=\"' + dataURL + '\">');\n",
       "    fig.close_ws(fig, msg);\n",
       "}\n",
       "\n",
       "mpl.figure.prototype.close_ws = function(fig, msg){\n",
       "    fig.send_message('closing', msg);\n",
       "    // fig.ws.close()\n",
       "}\n",
       "\n",
       "mpl.figure.prototype.push_to_output = function(remove_interactive) {\n",
       "    // Turn the data on the canvas into data in the output cell.\n",
       "    var dataURL = this.canvas.toDataURL();\n",
       "    this.cell_info[1]['text/html'] = '<img src=\"' + dataURL + '\">';\n",
       "}\n",
       "\n",
       "mpl.figure.prototype.updated_canvas_event = function() {\n",
       "    // Tell IPython that the notebook contents must change.\n",
       "    IPython.notebook.set_dirty(true);\n",
       "    this.send_message(\"ack\", {});\n",
       "    var fig = this;\n",
       "    // Wait a second, then push the new image to the DOM so\n",
       "    // that it is saved nicely (might be nice to debounce this).\n",
       "    setTimeout(function () { fig.push_to_output() }, 1000);\n",
       "}\n",
       "\n",
       "mpl.figure.prototype._init_toolbar = function() {\n",
       "    var fig = this;\n",
       "\n",
       "    var nav_element = $('<div/>')\n",
       "    nav_element.attr('style', 'width: 100%');\n",
       "    this.root.append(nav_element);\n",
       "\n",
       "    // Define a callback function for later on.\n",
       "    function toolbar_event(event) {\n",
       "        return fig.toolbar_button_onclick(event['data']);\n",
       "    }\n",
       "    function toolbar_mouse_event(event) {\n",
       "        return fig.toolbar_button_onmouseover(event['data']);\n",
       "    }\n",
       "\n",
       "    for(var toolbar_ind in mpl.toolbar_items){\n",
       "        var name = mpl.toolbar_items[toolbar_ind][0];\n",
       "        var tooltip = mpl.toolbar_items[toolbar_ind][1];\n",
       "        var image = mpl.toolbar_items[toolbar_ind][2];\n",
       "        var method_name = mpl.toolbar_items[toolbar_ind][3];\n",
       "\n",
       "        if (!name) { continue; };\n",
       "\n",
       "        var button = $('<button class=\"btn btn-default\" href=\"#\" title=\"' + name + '\"><i class=\"fa ' + image + ' fa-lg\"></i></button>');\n",
       "        button.click(method_name, toolbar_event);\n",
       "        button.mouseover(tooltip, toolbar_mouse_event);\n",
       "        nav_element.append(button);\n",
       "    }\n",
       "\n",
       "    // Add the status bar.\n",
       "    var status_bar = $('<span class=\"mpl-message\" style=\"text-align:right; float: right;\"/>');\n",
       "    nav_element.append(status_bar);\n",
       "    this.message = status_bar[0];\n",
       "\n",
       "    // Add the close button to the window.\n",
       "    var buttongrp = $('<div class=\"btn-group inline pull-right\"></div>');\n",
       "    var button = $('<button class=\"btn btn-mini btn-primary\" href=\"#\" title=\"Stop Interaction\"><i class=\"fa fa-power-off icon-remove icon-large\"></i></button>');\n",
       "    button.click(function (evt) { fig.handle_close(fig, {}); } );\n",
       "    button.mouseover('Stop Interaction', toolbar_mouse_event);\n",
       "    buttongrp.append(button);\n",
       "    var titlebar = this.root.find($('.ui-dialog-titlebar'));\n",
       "    titlebar.prepend(buttongrp);\n",
       "}\n",
       "\n",
       "mpl.figure.prototype._root_extra_style = function(el){\n",
       "    var fig = this\n",
       "    el.on(\"remove\", function(){\n",
       "\tfig.close_ws(fig, {});\n",
       "    });\n",
       "}\n",
       "\n",
       "mpl.figure.prototype._canvas_extra_style = function(el){\n",
       "    // this is important to make the div 'focusable\n",
       "    el.attr('tabindex', 0)\n",
       "    // reach out to IPython and tell the keyboard manager to turn it's self\n",
       "    // off when our div gets focus\n",
       "\n",
       "    // location in version 3\n",
       "    if (IPython.notebook.keyboard_manager) {\n",
       "        IPython.notebook.keyboard_manager.register_events(el);\n",
       "    }\n",
       "    else {\n",
       "        // location in version 2\n",
       "        IPython.keyboard_manager.register_events(el);\n",
       "    }\n",
       "\n",
       "}\n",
       "\n",
       "mpl.figure.prototype._key_event_extra = function(event, name) {\n",
       "    var manager = IPython.notebook.keyboard_manager;\n",
       "    if (!manager)\n",
       "        manager = IPython.keyboard_manager;\n",
       "\n",
       "    // Check for shift+enter\n",
       "    if (event.shiftKey && event.which == 13) {\n",
       "        this.canvas_div.blur();\n",
       "        event.shiftKey = false;\n",
       "        // Send a \"J\" for go to next cell\n",
       "        event.which = 74;\n",
       "        event.keyCode = 74;\n",
       "        manager.command_mode();\n",
       "        manager.handle_keydown(event);\n",
       "    }\n",
       "}\n",
       "\n",
       "mpl.figure.prototype.handle_save = function(fig, msg) {\n",
       "    fig.ondownload(fig, null);\n",
       "}\n",
       "\n",
       "\n",
       "mpl.find_output_cell = function(html_output) {\n",
       "    // Return the cell and output element which can be found *uniquely* in the notebook.\n",
       "    // Note - this is a bit hacky, but it is done because the \"notebook_saving.Notebook\"\n",
       "    // IPython event is triggered only after the cells have been serialised, which for\n",
       "    // our purposes (turning an active figure into a static one), is too late.\n",
       "    var cells = IPython.notebook.get_cells();\n",
       "    var ncells = cells.length;\n",
       "    for (var i=0; i<ncells; i++) {\n",
       "        var cell = cells[i];\n",
       "        if (cell.cell_type === 'code'){\n",
       "            for (var j=0; j<cell.output_area.outputs.length; j++) {\n",
       "                var data = cell.output_area.outputs[j];\n",
       "                if (data.data) {\n",
       "                    // IPython >= 3 moved mimebundle to data attribute of output\n",
       "                    data = data.data;\n",
       "                }\n",
       "                if (data['text/html'] == html_output) {\n",
       "                    return [cell, data, j];\n",
       "                }\n",
       "            }\n",
       "        }\n",
       "    }\n",
       "}\n",
       "\n",
       "// Register the function which deals with the matplotlib target/channel.\n",
       "// The kernel may be null if the page has been refreshed.\n",
       "if (IPython.notebook.kernel != null) {\n",
       "    IPython.notebook.kernel.comm_manager.register_target('matplotlib', mpl.mpl_figure_comm);\n",
       "}\n"
      ],
      "text/plain": [
       "<IPython.core.display.Javascript object>"
      ]
     },
     "metadata": {},
     "output_type": "display_data"
    },
    {
     "data": {
      "text/html": [
       "<img src=\"data:image/png;base64,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\">"
      ],
      "text/plain": [
       "<IPython.core.display.HTML object>"
      ]
     },
     "metadata": {},
     "output_type": "display_data"
    }
   ],
   "source": [
    "\n",
    "plt.figure(figsize=(12,8))\n",
    "plt.contourf(lon,lat,rain,wlevs,cmap=cmap,norm=norm, extend='both')\n",
    "plt.colorbar()\n",
    "plt.contour(lon,lat,rain,wlevs)\n",
    "plt.figtext(0.5,0.03,'MAX RAINFALL='+np.str(rain.max()))\n",
    "#plt.plot(track[:,1],track[:,0],'k') # not the one printed on HWRF site\n",
    "plt.savefig('tmp/'+user+'_rainf.png',transparent=True)\n",
    "plt.title(hurName+' '+date)\n",
    "plt.show()"
   ]
  },
  {
   "cell_type": "code",
   "execution_count": 93,
   "metadata": {
    "collapsed": false
   },
   "outputs": [],
   "source": [
    "from osgeo import gdal,gdal_array\n",
    "import osr\n",
    "\n",
    "dataTypeformat={1:np.byte,2:np.int32,3:np.int32,4:np.float32,5:np.float32,6:np.byte}\n",
    "VSType={1:'VS_BOOLEAN',2:'VS_NOMINAL',3:'VS_ORDINAL',4:'VS_SCALAR',5:'VS_DIRECTION',6:'VS_LDD'}\n",
    "\n",
    "def putmap(filename,var,geo,TYPE,nodata):\n",
    "     driver=gdal.GetDriverByName('PCRaster')\n",
    "     varw=var.astype(dataTypeformat[TYPE])\n",
    "     gtype=gdal_array.NumericTypeCodeToGDALTypeCode(varw.dtype)\n",
    "     NROWS,NCOLS = var.shape\n",
    "     VS='PCRASTER_VALUESCALE={}'.format(VSType[TYPE])\n",
    "     dst_ds=driver.Create(filename,NCOLS,NROWS,1,gtype,[VS])\n",
    "     proj=osr.SpatialReference()\n",
    "     proj.ImportFromEPSG(4326)\n",
    "     dst_ds.SetProjection(proj.ExportToWkt())\n",
    "     dst_ds.SetGeoTransform(geo)\n",
    "     dst_ds.GetRasterBand(1).WriteArray(varw)\n",
    "     dst_ds.GetRasterBand(1).SetNoDataValue(nodata)\n",
    "     dst_ds.FlushCache()\n",
    "     dst_ds=None\n",
    "     return\n"
   ]
  },
  {
   "cell_type": "code",
   "execution_count": 94,
   "metadata": {
    "collapsed": true
   },
   "outputs": [],
   "source": [
    "SAVEPATH='/mnt/pandora/Users_Critech/Pamela/'\n",
    "#SAVEPATH='tmp/'"
   ]
  },
  {
   "cell_type": "code",
   "execution_count": 95,
   "metadata": {
    "collapsed": false
   },
   "outputs": [
    {
     "name": "stdout",
     "output_type": "stream",
     "text": [
      "0.05\n"
     ]
    }
   ],
   "source": [
    "TYPE=4     \n",
    "dd=lon[0,1]-lon[0,0]\n",
    "print dd\n",
    "geo=(lon.min(),dd,0,lat.max(),0, -dd)  \n",
    "nodata=-9999.\n",
    "putmap(SAVEPATH+'rainfall'+hurName+date+'.tif',np.flipud(rain),geo,TYPE,nodata)\n"
   ]
  },
  {
   "cell_type": "code",
   "execution_count": null,
   "metadata": {
    "collapsed": true
   },
   "outputs": [],
   "source": []
  }
 ],
 "metadata": {
  "kernelspec": {
   "display_name": "Python 2",
   "language": "python",
   "name": "python2"
  },
  "language_info": {
   "codemirror_mode": {
    "name": "ipython",
    "version": 2
   },
   "file_extension": ".py",
   "mimetype": "text/x-python",
   "name": "python",
   "nbconvert_exporter": "python",
   "pygments_lexer": "ipython2",
   "version": "2.7.12"
  }
 },
 "nbformat": 4,
 "nbformat_minor": 0
}
