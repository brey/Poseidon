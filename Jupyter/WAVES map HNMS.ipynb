{
 "cells": [
  {
   "cell_type": "code",
   "execution_count": 1,
   "metadata": {
    "collapsed": false
   },
   "outputs": [
    {
     "name": "stderr",
     "output_type": "stream",
     "text": [
      ":0: FutureWarning: IPython widgets are experimental and may change in the future.\n"
     ]
    }
   ],
   "source": [
    "import numpy as np\n",
    "from IPython.html.widgets import *\n",
    "import matplotlib.pyplot as plt\n",
    "import datetime\n",
    "from mpl_toolkits.basemap import Basemap, shiftgrid\n",
    "import pygrib\n",
    "import glob\n",
    "import string\n",
    "from shapely.geometry import Point, mapping\n",
    "from fiona import collection\n",
    "from IPython.html import widgets\n",
    "\n",
    "\n",
    "#%matplotlib inline"
   ]
  },
  {
   "cell_type": "code",
   "execution_count": 2,
   "metadata": {
    "collapsed": false
   },
   "outputs": [],
   "source": [
    "from osgeo import gdal,gdal_array\n",
    "import osr\n",
    "\n",
    "dataTypeformat={1:np.byte,2:np.int32,3:np.int32,4:np.float32,5:np.float32,6:np.byte}\n",
    "VSType={1:'VS_BOOLEAN',2:'VS_NOMINAL',3:'VS_ORDINAL',4:'VS_SCALAR',5:'VS_DIRECTION',6:'VS_LDD'}\n",
    "\n",
    "def putmap(filename,var,geo,TYPE,nodata):\n",
    "     driver=gdal.GetDriverByName('PCRaster')\n",
    "     varw=var.astype(dataTypeformat[TYPE])\n",
    "     gtype=gdal_array.NumericTypeCodeToGDALTypeCode(varw.dtype)\n",
    "     NROWS,NCOLS = var.shape\n",
    "     VS='PCRASTER_VALUESCALE={}'.format(VSType[TYPE])\n",
    "     dst_ds=driver.Create(filename,NCOLS,NROWS,1,gtype,[VS])\n",
    "     proj=osr.SpatialReference()\n",
    "     proj.ImportFromEPSG(4326)\n",
    "     dst_ds.SetProjection(proj.ExportToWkt())\n",
    "     dst_ds.SetGeoTransform(geo)\n",
    "     dst_ds.GetRasterBand(1).WriteArray(varw)\n",
    "     dst_ds.GetRasterBand(1).SetNoDataValue(nodata)\n",
    "     dst_ds.FlushCache()\n",
    "     dst_ds=None\n",
    "     return\n"
   ]
  },
  {
   "cell_type": "code",
   "execution_count": 3,
   "metadata": {
    "collapsed": false
   },
   "outputs": [],
   "source": [
    "from gribapi import *\n",
    "def readgrib(INPUT):\n",
    "    f = open(INPUT)\n",
    "\n",
    "#    for t in range(3*time):\n",
    "#        gid = grib_new_from_file(f,headers_only = True)\n",
    "    \n",
    "    for l in range(1):\n",
    "        gid = grib_new_from_file(f)\n",
    "        if gid is None: break\n",
    "\n",
    "        name=grib_get(gid, 'shortName')\n",
    "        \n",
    "        ni = grib_get(gid, 'Ni')\n",
    "\n",
    "        nj =  grib_get(gid, 'Nj')\n",
    "\n",
    "        lat=grib_get_array(gid,'latitudes')\n",
    "        lon=grib_get_array(gid,'longitudes')\n",
    "\n",
    "        dat=grib_get_array(gid,'values')\n",
    "\n",
    "        grib_release(gid)\n",
    "\n",
    "    f.close()\n",
    "\n",
    "    return dat.reshape(nj,ni),lat.reshape(nj,ni),lon.reshape(nj,ni)\n"
   ]
  },
  {
   "cell_type": "code",
   "execution_count": 4,
   "metadata": {
    "collapsed": false
   },
   "outputs": [],
   "source": [
    "def wmap(yyyy=2015,mm=6,dd=3,hh=0,time=1,save=False):\n",
    "    hh=np.int(hh) # The variables are passed as string and needs to become integer to be used later\n",
    "    yyyy=np.int(yyyy)\n",
    "    mm=np.int(mm)\n",
    "    dd=np.int(dd)\n",
    "    time=np.int(time)\n",
    "    # specify date to plot.\n",
    "    date = datetime.datetime(yyyy,mm,dd,hh)\n",
    "\n",
    "    # set PATH of the database.\n",
    "    PATHbase=\"/mnt/Tsunamiweb/grib_HNMS_WAV/\"  # Local mapping location for the above network drive\n",
    "  # PATHbase=\"/mnt/ECMWF/grib/\"  # Local mapping location for the above network drive\n",
    "    PATH=PATHbase+\"%04i/%02i/%02i/\" % (yyyy,mm,dd)\n",
    "\n",
    "    dpath=glob.glob(PATH+'*_{:04d}_{:02d}_{:02d}_{:02d}00_{:02d}h.grb'.format(yyyy,mm,dd,hh,time))\n",
    "\n",
    "    try:\n",
    "        data = pygrib.open(dpath[0])\n",
    "    #    data,lats,lons = readgrib(dpath[0]) \n",
    "    except:        \n",
    "        print 'no available data in ', PATH\n",
    "        return\n",
    "\n",
    "    # read lats,lons\n",
    "    latlons=data[1].latlons()\n",
    "    # reverse latitudes so they go from south to north.\n",
    "    lats = np.flipud(latlons[0]) # make them increasing\n",
    "    lons = latlons[1]\n",
    " #   lats=np.flipud(lats)\n",
    "    # get significant height\n",
    "    sh = data[1].data()[0]\n",
    " #   sh = np.ma.masked_equal(data,9999.)\n",
    "    shi =np.flipud(sh) # make them increasing in lat\n",
    "\n",
    "    # define projection window\n",
    "    \n",
    "    llcrnrlat=lats.min()\n",
    "    llcrnrlon=lons.min()\n",
    "    urcrnrlat=lats.max()\n",
    "    urcrnrlon=lons.max()\n",
    "\n",
    "    \n",
    "    # make orthographic basemap.\n",
    "    m = Basemap(projection='cyl',llcrnrlat=llcrnrlat,urcrnrlat=urcrnrlat,\\\n",
    "             llcrnrlon=llcrnrlon,urcrnrlon=urcrnrlon,resolution='h')\n",
    "    # create figure, add axes\n",
    "    fig1 = plt.figure(figsize=(8,10))\n",
    "    ax = fig1.add_axes([0.1,0.1,0.8,0.8])\n",
    "    # set desired contour levels.\n",
    "    clevs = np.arange(960,1061,5)\n",
    "\n",
    "    # compute native x,y coordinates of grid.\n",
    "    x, y = m(lons, lats)\n",
    "    # define parallels and meridians to draw.\n",
    "    parallels = np.arange(-90.,90,10.)\n",
    "    meridians = np.arange(0.,360.,10.)\n",
    "    # plot SLP contours.\n",
    "    CS1 = m.contour(x,y,shi,20,linewidths=0.5,colors='k',animated=True)\n",
    "    CS2 = m.contourf(x,y,shi,20,cmap=plt.cm.RdBu_r,animated=True)\n",
    "    # draw coastlines, parallels, meridians.\n",
    "    m.drawcoastlines(linewidth=1.5)\n",
    "    m.drawparallels(parallels)\n",
    "    m.drawmeridians(meridians)\n",
    "    # add colorbar\n",
    "    cb = m.colorbar(CS2,\"right\", size=\"5%\", pad=\"2%\")\n",
    "    cb.set_label('m')\n",
    "    # set plot title\n",
    "    ax.set_title('Significant height of combined wind waves and swell\\n Forecast {} from analysis on {}\\n'.format(time,datetime.datetime.strftime(date, '%Y%m%d_%H')) + datetime.datetime.strftime(date+datetime.timedelta(hours=time), '%a %b %d  %H:%M:%S %Z %Y'))\n",
    "    \n",
    "    if save :\n",
    "    #write to geotiff\n",
    "      TYPE=4\n",
    "      geo=(lons.min(),data[1].iDirectionIncrementInDegrees,0,lats.max(),0, -data[1].jDirectionIncrementInDegrees)  \n",
    "      nodata=sh.fill_value\n",
    "      putmap('/mnt/pandora/sws.tif',sh,geo,TYPE,nodata)\n",
    "    \n",
    "      nstamp=datetime.datetime.strftime(date,'%Y%m%d_%H')  \n",
    "      plt.savefig('/mnt/pandora/waves_analysis_on_'+nstamp+'_Forecast_{}'.format(time)+'.png')\n",
    "\n",
    "    plt.show()"
   ]
  },
  {
   "cell_type": "code",
   "execution_count": 5,
   "metadata": {
    "collapsed": false
   },
   "outputs": [],
   "source": [
    "# Define range of file attributes\n",
    "yy=[2016]\n",
    "yy=[w for w in map(str,yy )]\n",
    "mm=np.arange(1,13)\n",
    "mm=[w for w in map(str,mm )]\n",
    "dd=np.arange(1,32)\n",
    "dd=[w for w in map(str,dd )]\n",
    "hh=[0,12]\n",
    "hh=[w for w in map(str,hh )]\n",
    "tt=np.arange(0,51,3)\n",
    "tt=[w for w in map(str,tt )]\n",
    "\n"
   ]
  },
  {
   "cell_type": "code",
   "execution_count": 6,
   "metadata": {
    "collapsed": false
   },
   "outputs": [
    {
     "data": {
      "text/plain": [
       "<function __main__.wmap>"
      ]
     },
     "execution_count": 6,
     "metadata": {},
     "output_type": "execute_result"
    }
   ],
   "source": [
    "interact_manual(wmap, yyyy=yy, mm=mm, dd=dd, hh=hh, time=tt, save=widgets.Checkbox())"
   ]
  },
  {
   "cell_type": "code",
   "execution_count": null,
   "metadata": {
    "collapsed": false
   },
   "outputs": [],
   "source": [
    "\n",
    "\n",
    "\n",
    "\n",
    "\n",
    "\n",
    "\n",
    "\n",
    "\n",
    "\n",
    "\n",
    "\n",
    "\n",
    "\n",
    "\n",
    "\n",
    "\n",
    "\n",
    "\n"
   ]
  }
 ],
 "metadata": {
  "kernelspec": {
   "display_name": "Python 2",
   "language": "python",
   "name": "python2"
  },
  "language_info": {
   "codemirror_mode": {
    "name": "ipython",
    "version": 2
   },
   "file_extension": ".py",
   "mimetype": "text/x-python",
   "name": "python",
   "nbconvert_exporter": "python",
   "pygments_lexer": "ipython2",
   "version": "2.7.6"
  }
 },
 "nbformat": 4,
 "nbformat_minor": 0
}
