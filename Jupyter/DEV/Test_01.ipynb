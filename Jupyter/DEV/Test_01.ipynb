{
 "cells": [
  {
   "cell_type": "code",
   "execution_count": 7,
   "metadata": {
    "collapsed": false
   },
   "outputs": [],
   "source": [
    "import feedparser\n",
    "\n",
    "url='http://www.nhc.noaa.gov/index-at.xml'\n",
    "\n",
    "ep=feedparser.parse(url)"
   ]
  },
  {
   "cell_type": "code",
   "execution_count": 8,
   "metadata": {
    "collapsed": false
   },
   "outputs": [
    {
     "data": {
      "text/plain": [
       "u'<br />\\n000<br />\\nABNT20 KNHC 180554<br />\\nTWOAT <br />\\n<br />\\nTROPICAL WEATHER OUTLOOK<br />\\nNWS NATIONAL HURRICANE CENTER MIAMI FL<br />\\n200 AM EDT FRI SEP 18 2015<br />\\n<br />\\nFor the North Atlantic...Caribbean Sea and the Gulf of Mexico:<br />\\n<br />\\nThe National Hurricane Center is issuing advisories on Tropical<br />\\nDepression Nine, located in the central tropical Atlantic.<br />\\n<br />\\nShower activity associated with the broad low pressure area located<br />\\nabout 750 miles west-southwest of the Cape Verde Islands has become<br />\\nmore concentrated during the past 24 hours.  Conditions appear<br />\\nfavorable for additional development, and a tropical depression<br />\\ncould form during the next day or two while the system moves toward<br />\\nthe west-northwest at 10 to 15 mph.  After that time, conditions are<br />\\nexpected to become less conducive for tropical cyclone formation.<br />\\n* Formation chance through 48 hours...high...80 percent<br />\\n* Formation chance through 5 days...high...80 percent<br />\\n<br />\\nA large area of disturbed weather extending from the eastern Gulf of<br />\\nMexico across the Florida peninsula and into the adjacent Atlantic<br />\\nOcean is associated with a broad surface trough interacting with an<br />\\nupper-level trough.  Surface observations indicate that a low<br />\\npressure area is forming just east of the northern Florida<br />\\nPeninsula, and there is some potential for this low to develop into<br />\\na subtropical or tropical cyclone during the next few days as it<br />\\nmoves slowly northeastward. Regardless of development, locally heavy<br />\\nrains are possible over portions of the Florida Peninsula today.<br />\\nFor more information on this system, see products from your local<br />\\nNational Weather Service office.<br />\\n* Formation chance through 48 hours...low...20 percent<br />\\n* Formation chance through 5 days...medium...40 percent<br />\\n<br />\\n$$<br />\\nForecaster Beven<br />\\n<br />'"
      ]
     },
     "execution_count": 8,
     "metadata": {},
     "output_type": "execute_result"
    }
   ],
   "source": [
    "data=ep['entries']\n",
    "data[0]['summary']"
   ]
  },
  {
   "cell_type": "code",
   "execution_count": 12,
   "metadata": {
    "collapsed": false
   },
   "outputs": [
    {
     "data": {
      "text/plain": [
       "['feed',\n",
       " 'status',\n",
       " 'updated',\n",
       " 'updated_parsed',\n",
       " 'encoding',\n",
       " 'bozo',\n",
       " 'headers',\n",
       " 'etag',\n",
       " 'href',\n",
       " 'version',\n",
       " 'entries',\n",
       " 'namespaces']"
      ]
     },
     "execution_count": 12,
     "metadata": {},
     "output_type": "execute_result"
    }
   ],
   "source": [
    "ep.keys()\n"
   ]
  },
  {
   "cell_type": "code",
   "execution_count": 29,
   "metadata": {
    "collapsed": false
   },
   "outputs": [
    {
     "data": {
      "text/plain": [
       "{'author': u'nhcwebmaster@noaa.gov (NHC Webmaster)',\n",
       " 'author_detail': {'email': u'nhcwebmaster@noaa.gov',\n",
       "  'name': u'NHC Webmaster'},\n",
       " 'authors': [{}],\n",
       " 'guidislink': False,\n",
       " 'id': u'http://www.nhc.noaa.gov/text/refresh/MIATCPAT4+shtml/180841.shtml',\n",
       " 'link': u'http://www.nhc.noaa.gov/text/refresh/MIATCPAT4+shtml/180841.shtml',\n",
       " 'links': [{'href': u'http://www.nhc.noaa.gov/text/refresh/MIATCPAT4+shtml/180841.shtml',\n",
       "   'rel': u'alternate',\n",
       "   'type': u'text/html'}],\n",
       " 'published': u'Fri, 18 Sep 2015 08:41:41 GMT',\n",
       " 'published_parsed': time.struct_time(tm_year=2015, tm_mon=9, tm_mday=18, tm_hour=8, tm_min=41, tm_sec=41, tm_wday=4, tm_yday=261, tm_isdst=0),\n",
       " 'summary': u'Issued at 500 AM AST FRI SEP 18 2015  <pre>\\n\\n000\\nWTNT34 KNHC 180841\\nTCPAT4\\n\\nBULLETIN\\nTROPICAL DEPRESSION NINE ADVISORY NUMBER   8\\nNWS NATIONAL HURRICANE CENTER MIAMI FL       AL092015\\n500 AM AST FRI SEP 18 2015\\n\\n...DEPRESSION CONTINUING TO MOVE NORTH-NORTHWESTWARD...\\n\\n\\nSUMMARY OF 500 AM AST...0900 UTC...INFORMATION\\n----------------------------------------------\\nLOCATION...17.6N 45.7W\\nABOUT 1045 MI...1680 KM E OF THE LESSER ANTILLES\\nMAXIMUM SUSTAINED WINDS...30 MPH...45 KM/H\\nPRESENT MOVEMENT...NNW OR 330 DEGREES AT 7 MPH...11 KM/H\\nMINIMUM CENTRAL PRESSURE...1007 MB...29.74 INCHES\\n\\n\\nWATCHES AND WARNINGS\\n--------------------\\nThere are no coastal watches or warnings in effect.\\n\\n\\nDISCUSSION AND 48-HOUR OUTLOOK\\n------------------------------\\nAt 500 AM AST (0900 UTC), the center of Tropical Depression Nine was\\nlocated near latitude 17.6 North, longitude 45.7 West. The\\ndepression is moving toward the north-northwest near 7 mph (11\\nkm/h).  A motion toward the northwest is expected during the next\\n48 hours.\\n\\nMaximum sustained winds are near 30 mph (45 km/h) with higher gusts.\\nThe depression is moving through an area of strong upper-level\\nwinds, and it is forecast to weaken to a remnant low Friday or\\nFriday night.\\n\\nThe estimated minimum central pressure is 1007 mb (29.74 inches).\\n\\n\\nHAZARDS AFFECTING LAND\\n----------------------\\nNone\\n\\n\\nNEXT ADVISORY\\n-------------\\nNext complete advisory at 1100 AM AST.\\n\\n$$\\nForecaster Beven\\n\\n</pre>',\n",
       " 'summary_detail': {'base': u'http://www.nhc.noaa.gov/index-at.xml',\n",
       "  'language': None,\n",
       "  'type': u'text/html',\n",
       "  'value': u'Issued at 500 AM AST FRI SEP 18 2015  <pre>\\n\\n000\\nWTNT34 KNHC 180841\\nTCPAT4\\n\\nBULLETIN\\nTROPICAL DEPRESSION NINE ADVISORY NUMBER   8\\nNWS NATIONAL HURRICANE CENTER MIAMI FL       AL092015\\n500 AM AST FRI SEP 18 2015\\n\\n...DEPRESSION CONTINUING TO MOVE NORTH-NORTHWESTWARD...\\n\\n\\nSUMMARY OF 500 AM AST...0900 UTC...INFORMATION\\n----------------------------------------------\\nLOCATION...17.6N 45.7W\\nABOUT 1045 MI...1680 KM E OF THE LESSER ANTILLES\\nMAXIMUM SUSTAINED WINDS...30 MPH...45 KM/H\\nPRESENT MOVEMENT...NNW OR 330 DEGREES AT 7 MPH...11 KM/H\\nMINIMUM CENTRAL PRESSURE...1007 MB...29.74 INCHES\\n\\n\\nWATCHES AND WARNINGS\\n--------------------\\nThere are no coastal watches or warnings in effect.\\n\\n\\nDISCUSSION AND 48-HOUR OUTLOOK\\n------------------------------\\nAt 500 AM AST (0900 UTC), the center of Tropical Depression Nine was\\nlocated near latitude 17.6 North, longitude 45.7 West. The\\ndepression is moving toward the north-northwest near 7 mph (11\\nkm/h).  A motion toward the northwest is expected during the next\\n48 hours.\\n\\nMaximum sustained winds are near 30 mph (45 km/h) with higher gusts.\\nThe depression is moving through an area of strong upper-level\\nwinds, and it is forecast to weaken to a remnant low Friday or\\nFriday night.\\n\\nThe estimated minimum central pressure is 1007 mb (29.74 inches).\\n\\n\\nHAZARDS AFFECTING LAND\\n----------------------\\nNone\\n\\n\\nNEXT ADVISORY\\n-------------\\nNext complete advisory at 1100 AM AST.\\n\\n$$\\nForecaster Beven\\n\\n</pre>'},\n",
       " 'title': u'Tropical Depression NINE Public Advisory Number 8',\n",
       " 'title_detail': {'base': u'http://www.nhc.noaa.gov/index-at.xml',\n",
       "  'language': None,\n",
       "  'type': u'text/plain',\n",
       "  'value': u'Tropical Depression NINE Public Advisory Number 8'}}"
      ]
     },
     "execution_count": 29,
     "metadata": {},
     "output_type": "execute_result"
    }
   ],
   "source": [
    "data[2]"
   ]
  },
  {
   "cell_type": "code",
   "execution_count": 30,
   "metadata": {
    "collapsed": false
   },
   "outputs": [
    {
     "name": "stdout",
     "output_type": "stream",
     "text": [
      "Atlantic Tropical Weather Outlook\n",
      "Summary for Tropical Depression NINE (AT4/AL092015)\n",
      "Tropical Depression NINE Public Advisory Number 8\n",
      "Tropical Depression NINE Forecast Advisory Number 8\n",
      "Tropical Depression NINE Forecast Discussion Number 8\n",
      "Tropical Depression NINE Wind Speed Probabilities Number 8\n",
      "Tropical Depression NINE Graphics\n"
     ]
    }
   ],
   "source": [
    "for x in data:\n",
    "    print x.title"
   ]
  },
  {
   "cell_type": "code",
   "execution_count": 33,
   "metadata": {
    "collapsed": false
   },
   "outputs": [
    {
     "data": {
      "text/plain": [
       "{'author': u'nhcwebmaster@noaa.gov (NHC Webmaster)',\n",
       " 'author_detail': {'email': u'nhcwebmaster@noaa.gov',\n",
       "  'name': u'NHC Webmaster'},\n",
       " 'authors': [{}],\n",
       " 'guidislink': False,\n",
       " 'id': u'http://www.nhc.noaa.gov/summary-al092015-201509180841',\n",
       " 'link': u'http://www.nhc.noaa.gov/text/refresh/MIATCPAT4+shtml/180841.shtml',\n",
       " 'links': [{'href': u'http://www.nhc.noaa.gov/text/refresh/MIATCPAT4+shtml/180841.shtml',\n",
       "   'rel': u'alternate',\n",
       "   'type': u'text/html'}],\n",
       " u'nhc_atcf': u'AL092015',\n",
       " u'nhc_center': u'17.6, -45.7',\n",
       " u'nhc_cyclone': u'',\n",
       " u'nhc_datetime': u'5:00 AM AST Fri Sep 18',\n",
       " u'nhc_headline': u'...DEPRESSION CONTINUING TO MOVE NORTH-NORTHWESTWARD...',\n",
       " u'nhc_movement': u'NNW at 7 mph',\n",
       " u'nhc_name': u'NINE',\n",
       " u'nhc_pressure': u'1007 mb',\n",
       " u'nhc_type': u'TROPICAL DEPRESSION',\n",
       " u'nhc_wallet': u'AT4',\n",
       " u'nhc_wind': u'30 mph',\n",
       " 'published': u'Fri, 18 Sep 2015 08:41:41 GMT',\n",
       " 'published_parsed': time.struct_time(tm_year=2015, tm_mon=9, tm_mday=18, tm_hour=8, tm_min=41, tm_sec=41, tm_wday=4, tm_yday=261, tm_isdst=0),\n",
       " 'summary': u'...DEPRESSION CONTINUING TO MOVE NORTH-NORTHWESTWARD...\\n As of 5:00 AM AST Fri Sep 18\\n the center of NINE was located near 17.6, -45.7\\n with movement NNW at 7 mph.\\n The minimum central pressure was 1007 mb\\n with maximum sustained winds of about 30 mph.',\n",
       " 'summary_detail': {'base': u'http://www.nhc.noaa.gov/index-at.xml',\n",
       "  'language': None,\n",
       "  'type': u'text/html',\n",
       "  'value': u'...DEPRESSION CONTINUING TO MOVE NORTH-NORTHWESTWARD...\\n As of 5:00 AM AST Fri Sep 18\\n the center of NINE was located near 17.6, -45.7\\n with movement NNW at 7 mph.\\n The minimum central pressure was 1007 mb\\n with maximum sustained winds of about 30 mph.'},\n",
       " 'title': u'Summary for Tropical Depression NINE (AT4/AL092015)',\n",
       " 'title_detail': {'base': u'http://www.nhc.noaa.gov/index-at.xml',\n",
       "  'language': None,\n",
       "  'type': u'text/plain',\n",
       "  'value': u'Summary for Tropical Depression NINE (AT4/AL092015)'}}"
      ]
     },
     "execution_count": 33,
     "metadata": {},
     "output_type": "execute_result"
    }
   ],
   "source": [
    "data[1]"
   ]
  },
  {
   "cell_type": "code",
   "execution_count": 37,
   "metadata": {
    "collapsed": false
   },
   "outputs": [
    {
     "data": {
      "text/plain": [
       "{'author': u'nhcwebmaster@noaa.gov (NHC Webmaster)',\n",
       " 'author_detail': {'email': u'nhcwebmaster@noaa.gov',\n",
       "  'name': u'NHC Webmaster'},\n",
       " 'authors': [{}],\n",
       " 'guidislink': False,\n",
       " 'id': u'http://www.nhc.noaa.gov/text/refresh/MIAPWSAT4+shtml/180841.shtml',\n",
       " 'link': u'http://www.nhc.noaa.gov/text/refresh/MIAPWSAT4+shtml/180841.shtml',\n",
       " 'links': [{'href': u'http://www.nhc.noaa.gov/text/refresh/MIAPWSAT4+shtml/180841.shtml',\n",
       "   'rel': u'alternate',\n",
       "   'type': u'text/html'}],\n",
       " 'published': u'Fri, 18 Sep 2015 08:42:18 GMT',\n",
       " 'published_parsed': time.struct_time(tm_year=2015, tm_mon=9, tm_mday=18, tm_hour=8, tm_min=42, tm_sec=18, tm_wday=4, tm_yday=261, tm_isdst=0),\n",
       " 'summary': u'Issued at 0900 UTC FRI SEP 18 2015                                              <pre>\\n\\n000\\nFONT14 KNHC 180841\\nPWSAT4\\n                                                                    \\nTROPICAL DEPRESSION NINE WIND SPEED PROBABILITIES NUMBER   8        \\nNWS NATIONAL HURRICANE CENTER MIAMI FL       AL092015               \\n0900 UTC FRI SEP 18 2015                                            \\n                                                                    \\nAT 0900Z THE CENTER OF TROPICAL DEPRESSION NINE WAS LOCATED NEAR    \\nLATITUDE 17.6 NORTH...LONGITUDE 45.7 WEST WITH MAXIMUM SUSTAINED    \\nWINDS NEAR 25 KTS...30 MPH...45 KM/H.                               \\n                                                                    \\nZ INDICATES COORDINATED UNIVERSAL TIME (GREENWICH)                  \\n   ATLANTIC STANDARD TIME (AST)...SUBTRACT 4 HOURS FROM Z TIME      \\n   EASTERN  DAYLIGHT TIME (EDT)...SUBTRACT 4 HOURS FROM Z TIME      \\n   CENTRAL  DAYLIGHT TIME (CDT)...SUBTRACT 5 HOURS FROM Z TIME      \\n                                                                    \\nWIND SPEED PROBABILITY TABLE FOR SPECIFIC LOCATIONS                 \\n                                                                    \\nCHANCES OF SUSTAINED (1-MINUTE AVERAGE) WIND SPEEDS OF AT LEAST     \\n   ...34 KT (39 MPH... 63 KM/H)...                                  \\n   ...50 KT (58 MPH... 93 KM/H)...                                  \\n   ...64 KT (74 MPH...119 KM/H)...                                  \\nFOR LOCATIONS AND TIME PERIODS DURING THE NEXT 5 DAYS               \\n                                                                    \\nPROBABILITIES FOR LOCATIONS ARE GIVEN AS OP(CP) WHERE               \\n    OP  IS THE PROBABILITY OF THE EVENT BEGINNING DURING            \\n        AN INDIVIDUAL TIME PERIOD (ONSET PROBABILITY)               \\n   (CP) IS THE PROBABILITY OF THE EVENT OCCURRING BETWEEN           \\n        06Z FRI AND THE FORECAST HOUR (CUMULATIVE PROBABILITY)      \\n                                                                    \\nPROBABILITIES ARE GIVEN IN PERCENT                                  \\nX INDICATES PROBABILITIES LESS THAN 1 PERCENT                       \\nPROBABILITIES FOR 34 KT AND 50 KT ARE SHOWN AT A GIVEN LOCATION WHEN\\nTHE 5-DAY CUMULATIVE PROBABILITY IS AT LEAST 3 PERCENT.             \\nPROBABILITIES FOR 64 KT ARE SHOWN WHEN THE 5-DAY CUMULATIVE         \\nPROBABILITY IS AT LEAST 1 PERCENT.                                  \\n                                                                    \\n                                                                    \\n  - - - - WIND SPEED PROBABILITIES FOR SELECTED LOCATIONS - - - -   \\n                                                                    \\n               FROM    FROM    FROM    FROM    FROM    FROM    FROM \\n  TIME       06Z FRI 18Z FRI 06Z SAT 18Z SAT 06Z SUN 06Z MON 06Z TUE\\nPERIODS         TO      TO      TO      TO      TO      TO      TO  \\n             18Z FRI 06Z SAT 18Z SAT 06Z SUN 06Z MON 06Z TUE 06Z WED\\n                                                                    \\nFORECAST HOUR    (12)   (24)    (36)    (48)    (72)    (96)   (120)\\n- - - - - - - - - - - - - - - - - - - - - - - - - - - - - - - - - - \\nLOCATION       KT                                                   \\n                                                                    \\n$$                                                                  \\nFORECASTER BEVEN                                                    \\n</pre>',\n",
       " 'summary_detail': {'base': u'http://www.nhc.noaa.gov/index-at.xml',\n",
       "  'language': None,\n",
       "  'type': u'text/html',\n",
       "  'value': u'Issued at 0900 UTC FRI SEP 18 2015                                              <pre>\\n\\n000\\nFONT14 KNHC 180841\\nPWSAT4\\n                                                                    \\nTROPICAL DEPRESSION NINE WIND SPEED PROBABILITIES NUMBER   8        \\nNWS NATIONAL HURRICANE CENTER MIAMI FL       AL092015               \\n0900 UTC FRI SEP 18 2015                                            \\n                                                                    \\nAT 0900Z THE CENTER OF TROPICAL DEPRESSION NINE WAS LOCATED NEAR    \\nLATITUDE 17.6 NORTH...LONGITUDE 45.7 WEST WITH MAXIMUM SUSTAINED    \\nWINDS NEAR 25 KTS...30 MPH...45 KM/H.                               \\n                                                                    \\nZ INDICATES COORDINATED UNIVERSAL TIME (GREENWICH)                  \\n   ATLANTIC STANDARD TIME (AST)...SUBTRACT 4 HOURS FROM Z TIME      \\n   EASTERN  DAYLIGHT TIME (EDT)...SUBTRACT 4 HOURS FROM Z TIME      \\n   CENTRAL  DAYLIGHT TIME (CDT)...SUBTRACT 5 HOURS FROM Z TIME      \\n                                                                    \\nWIND SPEED PROBABILITY TABLE FOR SPECIFIC LOCATIONS                 \\n                                                                    \\nCHANCES OF SUSTAINED (1-MINUTE AVERAGE) WIND SPEEDS OF AT LEAST     \\n   ...34 KT (39 MPH... 63 KM/H)...                                  \\n   ...50 KT (58 MPH... 93 KM/H)...                                  \\n   ...64 KT (74 MPH...119 KM/H)...                                  \\nFOR LOCATIONS AND TIME PERIODS DURING THE NEXT 5 DAYS               \\n                                                                    \\nPROBABILITIES FOR LOCATIONS ARE GIVEN AS OP(CP) WHERE               \\n    OP  IS THE PROBABILITY OF THE EVENT BEGINNING DURING            \\n        AN INDIVIDUAL TIME PERIOD (ONSET PROBABILITY)               \\n   (CP) IS THE PROBABILITY OF THE EVENT OCCURRING BETWEEN           \\n        06Z FRI AND THE FORECAST HOUR (CUMULATIVE PROBABILITY)      \\n                                                                    \\nPROBABILITIES ARE GIVEN IN PERCENT                                  \\nX INDICATES PROBABILITIES LESS THAN 1 PERCENT                       \\nPROBABILITIES FOR 34 KT AND 50 KT ARE SHOWN AT A GIVEN LOCATION WHEN\\nTHE 5-DAY CUMULATIVE PROBABILITY IS AT LEAST 3 PERCENT.             \\nPROBABILITIES FOR 64 KT ARE SHOWN WHEN THE 5-DAY CUMULATIVE         \\nPROBABILITY IS AT LEAST 1 PERCENT.                                  \\n                                                                    \\n                                                                    \\n  - - - - WIND SPEED PROBABILITIES FOR SELECTED LOCATIONS - - - -   \\n                                                                    \\n               FROM    FROM    FROM    FROM    FROM    FROM    FROM \\n  TIME       06Z FRI 18Z FRI 06Z SAT 18Z SAT 06Z SUN 06Z MON 06Z TUE\\nPERIODS         TO      TO      TO      TO      TO      TO      TO  \\n             18Z FRI 06Z SAT 18Z SAT 06Z SUN 06Z MON 06Z TUE 06Z WED\\n                                                                    \\nFORECAST HOUR    (12)   (24)    (36)    (48)    (72)    (96)   (120)\\n- - - - - - - - - - - - - - - - - - - - - - - - - - - - - - - - - - \\nLOCATION       KT                                                   \\n                                                                    \\n$$                                                                  \\nFORECASTER BEVEN                                                    \\n</pre>'},\n",
       " 'title': u'Tropical Depression NINE Wind Speed Probabilities Number 8',\n",
       " 'title_detail': {'base': u'http://www.nhc.noaa.gov/index-at.xml',\n",
       "  'language': None,\n",
       "  'type': u'text/plain',\n",
       "  'value': u'Tropical Depression NINE Wind Speed Probabilities Number 8'}}"
      ]
     },
     "execution_count": 37,
     "metadata": {},
     "output_type": "execute_result"
    }
   ],
   "source": [
    "data[5]\n"
   ]
  },
  {
   "cell_type": "code",
   "execution_count": 39,
   "metadata": {
    "collapsed": false
   },
   "outputs": [],
   "source": [
    "f=data[5].summary"
   ]
  },
  {
   "cell_type": "code",
   "execution_count": 47,
   "metadata": {
    "collapsed": false
   },
   "outputs": [
    {
     "data": {
      "text/plain": [
       "[u'Issued at 0900 UTC FRI SEP 18 2015                                              <pre>',\n",
       " u'',\n",
       " u'000',\n",
       " u'FONT14 KNHC 180841',\n",
       " u'PWSAT4',\n",
       " u'                                                                    ',\n",
       " u'TROPICAL DEPRESSION NINE WIND SPEED PROBABILITIES NUMBER   8        ',\n",
       " u'NWS NATIONAL HURRICANE CENTER MIAMI FL       AL092015               ',\n",
       " u'0900 UTC FRI SEP 18 2015                                            ',\n",
       " u'                                                                    ',\n",
       " u'AT 0900Z THE CENTER OF TROPICAL DEPRESSION NINE WAS LOCATED NEAR    ',\n",
       " u'LATITUDE 17.6 NORTH...LONGITUDE 45.7 WEST WITH MAXIMUM SUSTAINED    ',\n",
       " u'WINDS NEAR 25 KTS...30 MPH...45 KM/H.                               ',\n",
       " u'                                                                    ',\n",
       " u'Z INDICATES COORDINATED UNIVERSAL TIME (GREENWICH)                  ',\n",
       " u'   ATLANTIC STANDARD TIME (AST)...SUBTRACT 4 HOURS FROM Z TIME      ',\n",
       " u'   EASTERN  DAYLIGHT TIME (EDT)...SUBTRACT 4 HOURS FROM Z TIME      ',\n",
       " u'   CENTRAL  DAYLIGHT TIME (CDT)...SUBTRACT 5 HOURS FROM Z TIME      ',\n",
       " u'                                                                    ',\n",
       " u'WIND SPEED PROBABILITY TABLE FOR SPECIFIC LOCATIONS                 ',\n",
       " u'                                                                    ',\n",
       " u'CHANCES OF SUSTAINED (1-MINUTE AVERAGE) WIND SPEEDS OF AT LEAST     ',\n",
       " u'   ...34 KT (39 MPH... 63 KM/H)...                                  ',\n",
       " u'   ...50 KT (58 MPH... 93 KM/H)...                                  ',\n",
       " u'   ...64 KT (74 MPH...119 KM/H)...                                  ',\n",
       " u'FOR LOCATIONS AND TIME PERIODS DURING THE NEXT 5 DAYS               ',\n",
       " u'                                                                    ',\n",
       " u'PROBABILITIES FOR LOCATIONS ARE GIVEN AS OP(CP) WHERE               ',\n",
       " u'    OP  IS THE PROBABILITY OF THE EVENT BEGINNING DURING            ',\n",
       " u'        AN INDIVIDUAL TIME PERIOD (ONSET PROBABILITY)               ',\n",
       " u'   (CP) IS THE PROBABILITY OF THE EVENT OCCURRING BETWEEN           ',\n",
       " u'        06Z FRI AND THE FORECAST HOUR (CUMULATIVE PROBABILITY)      ',\n",
       " u'                                                                    ',\n",
       " u'PROBABILITIES ARE GIVEN IN PERCENT                                  ',\n",
       " u'X INDICATES PROBABILITIES LESS THAN 1 PERCENT                       ',\n",
       " u'PROBABILITIES FOR 34 KT AND 50 KT ARE SHOWN AT A GIVEN LOCATION WHEN',\n",
       " u'THE 5-DAY CUMULATIVE PROBABILITY IS AT LEAST 3 PERCENT.             ',\n",
       " u'PROBABILITIES FOR 64 KT ARE SHOWN WHEN THE 5-DAY CUMULATIVE         ',\n",
       " u'PROBABILITY IS AT LEAST 1 PERCENT.                                  ',\n",
       " u'                                                                    ',\n",
       " u'                                                                    ',\n",
       " u'  - - - - WIND SPEED PROBABILITIES FOR SELECTED LOCATIONS - - - -   ',\n",
       " u'                                                                    ',\n",
       " u'               FROM    FROM    FROM    FROM    FROM    FROM    FROM ',\n",
       " u'  TIME       06Z FRI 18Z FRI 06Z SAT 18Z SAT 06Z SUN 06Z MON 06Z TUE',\n",
       " u'PERIODS         TO      TO      TO      TO      TO      TO      TO  ',\n",
       " u'             18Z FRI 06Z SAT 18Z SAT 06Z SUN 06Z MON 06Z TUE 06Z WED',\n",
       " u'                                                                    ',\n",
       " u'FORECAST HOUR    (12)   (24)    (36)    (48)    (72)    (96)   (120)',\n",
       " u'- - - - - - - - - - - - - - - - - - - - - - - - - - - - - - - - - - ',\n",
       " u'LOCATION       KT                                                   ',\n",
       " u'                                                                    ',\n",
       " u'$$                                                                  ',\n",
       " u'FORECASTER BEVEN                                                    ',\n",
       " u'</pre>']"
      ]
     },
     "execution_count": 47,
     "metadata": {},
     "output_type": "execute_result"
    }
   ],
   "source": [
    "f.split('\\n')\n"
   ]
  },
  {
   "cell_type": "code",
   "execution_count": null,
   "metadata": {
    "collapsed": false
   },
   "outputs": [],
   "source": []
  }
 ],
 "metadata": {
  "kernelspec": {
   "display_name": "Python 2",
   "language": "python",
   "name": "python2"
  },
  "language_info": {
   "codemirror_mode": {
    "name": "ipython",
    "version": 2
   },
   "file_extension": ".py",
   "mimetype": "text/x-python",
   "name": "python",
   "nbconvert_exporter": "python",
   "pygments_lexer": "ipython2",
   "version": "2.7.11+"
  }
 },
 "nbformat": 4,
 "nbformat_minor": 0
}
