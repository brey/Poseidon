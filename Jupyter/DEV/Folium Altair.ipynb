{
 "cells": [
  {
   "cell_type": "code",
   "execution_count": null,
   "metadata": {
    "collapsed": true
   },
   "outputs": [],
   "source": []
  },
  {
   "cell_type": "code",
   "execution_count": 1,
   "metadata": {
    "collapsed": true
   },
   "outputs": [],
   "source": [
    "import folium"
   ]
  },
  {
   "cell_type": "code",
   "execution_count": 1,
   "metadata": {
    "collapsed": true
   },
   "outputs": [],
   "source": [
    "import json\n",
    "from altair import *"
   ]
  },
  {
   "cell_type": "code",
   "execution_count": 2,
   "metadata": {
    "collapsed": true
   },
   "outputs": [],
   "source": [
    "%matplotlib notebook"
   ]
  },
  {
   "cell_type": "code",
   "execution_count": 3,
   "metadata": {
    "collapsed": true
   },
   "outputs": [],
   "source": [
    "data=load_dataset('stocks')"
   ]
  },
  {
   "cell_type": "code",
   "execution_count": 4,
   "metadata": {
    "collapsed": false
   },
   "outputs": [
    {
     "data": {
      "text/html": [
       "<div>\n",
       "<table border=\"1\" class=\"dataframe\">\n",
       "  <thead>\n",
       "    <tr style=\"text-align: right;\">\n",
       "      <th></th>\n",
       "      <th>symbol</th>\n",
       "      <th>date</th>\n",
       "      <th>price</th>\n",
       "    </tr>\n",
       "  </thead>\n",
       "  <tbody>\n",
       "    <tr>\n",
       "      <th>0</th>\n",
       "      <td>MSFT</td>\n",
       "      <td>Jan 1 2000</td>\n",
       "      <td>39.81</td>\n",
       "    </tr>\n",
       "    <tr>\n",
       "      <th>1</th>\n",
       "      <td>MSFT</td>\n",
       "      <td>Feb 1 2000</td>\n",
       "      <td>36.35</td>\n",
       "    </tr>\n",
       "    <tr>\n",
       "      <th>2</th>\n",
       "      <td>MSFT</td>\n",
       "      <td>Mar 1 2000</td>\n",
       "      <td>43.22</td>\n",
       "    </tr>\n",
       "    <tr>\n",
       "      <th>3</th>\n",
       "      <td>MSFT</td>\n",
       "      <td>Apr 1 2000</td>\n",
       "      <td>28.37</td>\n",
       "    </tr>\n",
       "    <tr>\n",
       "      <th>4</th>\n",
       "      <td>MSFT</td>\n",
       "      <td>May 1 2000</td>\n",
       "      <td>25.45</td>\n",
       "    </tr>\n",
       "  </tbody>\n",
       "</table>\n",
       "</div>"
      ],
      "text/plain": [
       "  symbol        date  price\n",
       "0   MSFT  Jan 1 2000  39.81\n",
       "1   MSFT  Feb 1 2000  36.35\n",
       "2   MSFT  Mar 1 2000  43.22\n",
       "3   MSFT  Apr 1 2000  28.37\n",
       "4   MSFT  May 1 2000  25.45"
      ]
     },
     "execution_count": 4,
     "metadata": {},
     "output_type": "execute_result"
    }
   ],
   "source": [
    "data.head()"
   ]
  },
  {
   "cell_type": "code",
   "execution_count": 5,
   "metadata": {
    "collapsed": false
   },
   "outputs": [
    {
     "data": {
      "text/html": [
       "<div class=\"vega-embed\" id=\"cc9b5f83-4c37-44b6-adb5-2626014480c6\"></div>\n",
       "\n",
       "<style>\n",
       ".vega-embed svg, .vega-embed canvas {\n",
       "  border: 1px dotted gray;\n",
       "}\n",
       "\n",
       ".vega-embed .vega-actions a {\n",
       "  margin-right: 6px;\n",
       "}\n",
       "</style>\n"
      ]
     },
     "metadata": {
      "jupyter-vega": "#cc9b5f83-4c37-44b6-adb5-2626014480c6"
     },
     "output_type": "display_data"
    },
    {
     "data": {
      "application/javascript": [
       "var spec = {\"data\": {\"values\": [{\"date\": \"Jan 1 2000\", \"symbol\": \"MSFT\", \"price\": 39.81}, {\"date\": \"Feb 1 2000\", \"symbol\": \"MSFT\", \"price\": 36.35}, {\"date\": \"Mar 1 2000\", \"symbol\": \"MSFT\", \"price\": 43.22}, {\"date\": \"Apr 1 2000\", \"symbol\": \"MSFT\", \"price\": 28.37}, {\"date\": \"May 1 2000\", \"symbol\": \"MSFT\", \"price\": 25.45}, {\"date\": \"Jun 1 2000\", \"symbol\": \"MSFT\", \"price\": 32.54}, {\"date\": \"Jul 1 2000\", \"symbol\": \"MSFT\", \"price\": 28.4}, {\"date\": \"Aug 1 2000\", \"symbol\": \"MSFT\", \"price\": 28.4}, {\"date\": \"Sep 1 2000\", \"symbol\": \"MSFT\", \"price\": 24.53}, {\"date\": \"Oct 1 2000\", \"symbol\": \"MSFT\", \"price\": 28.02}, {\"date\": \"Nov 1 2000\", \"symbol\": \"MSFT\", \"price\": 23.34}, {\"date\": \"Dec 1 2000\", \"symbol\": \"MSFT\", \"price\": 17.65}, {\"date\": \"Jan 1 2001\", \"symbol\": \"MSFT\", \"price\": 24.84}, {\"date\": \"Feb 1 2001\", \"symbol\": \"MSFT\", \"price\": 24.0}, {\"date\": \"Mar 1 2001\", \"symbol\": \"MSFT\", \"price\": 22.25}, {\"date\": \"Apr 1 2001\", \"symbol\": \"MSFT\", \"price\": 27.56}, {\"date\": \"May 1 2001\", \"symbol\": \"MSFT\", \"price\": 28.14}, {\"date\": \"Jun 1 2001\", \"symbol\": \"MSFT\", \"price\": 29.7}, {\"date\": \"Jul 1 2001\", \"symbol\": \"MSFT\", \"price\": 26.93}, {\"date\": \"Aug 1 2001\", \"symbol\": \"MSFT\", \"price\": 23.21}, {\"date\": \"Sep 1 2001\", \"symbol\": \"MSFT\", \"price\": 20.82}, {\"date\": \"Oct 1 2001\", \"symbol\": \"MSFT\", \"price\": 23.65}, {\"date\": \"Nov 1 2001\", \"symbol\": \"MSFT\", \"price\": 26.12}, {\"date\": \"Dec 1 2001\", \"symbol\": \"MSFT\", \"price\": 26.95}, {\"date\": \"Jan 1 2002\", \"symbol\": \"MSFT\", \"price\": 25.92}, {\"date\": \"Feb 1 2002\", \"symbol\": \"MSFT\", \"price\": 23.73}, {\"date\": \"Mar 1 2002\", \"symbol\": \"MSFT\", \"price\": 24.53}, {\"date\": \"Apr 1 2002\", \"symbol\": \"MSFT\", \"price\": 21.26}, {\"date\": \"May 1 2002\", \"symbol\": \"MSFT\", \"price\": 20.71}, {\"date\": \"Jun 1 2002\", \"symbol\": \"MSFT\", \"price\": 22.25}, {\"date\": \"Jul 1 2002\", \"symbol\": \"MSFT\", \"price\": 19.52}, {\"date\": \"Aug 1 2002\", \"symbol\": \"MSFT\", \"price\": 19.97}, {\"date\": \"Sep 1 2002\", \"symbol\": \"MSFT\", \"price\": 17.79}, {\"date\": \"Oct 1 2002\", \"symbol\": \"MSFT\", \"price\": 21.75}, {\"date\": \"Nov 1 2002\", \"symbol\": \"MSFT\", \"price\": 23.46}, {\"date\": \"Dec 1 2002\", \"symbol\": \"MSFT\", \"price\": 21.03}, {\"date\": \"Jan 1 2003\", \"symbol\": \"MSFT\", \"price\": 19.31}, {\"date\": \"Feb 1 2003\", \"symbol\": \"MSFT\", \"price\": 19.34}, {\"date\": \"Mar 1 2003\", \"symbol\": \"MSFT\", \"price\": 19.76}, {\"date\": \"Apr 1 2003\", \"symbol\": \"MSFT\", \"price\": 20.87}, {\"date\": \"May 1 2003\", \"symbol\": \"MSFT\", \"price\": 20.09}, {\"date\": \"Jun 1 2003\", \"symbol\": \"MSFT\", \"price\": 20.93}, {\"date\": \"Jul 1 2003\", \"symbol\": \"MSFT\", \"price\": 21.56}, {\"date\": \"Aug 1 2003\", \"symbol\": \"MSFT\", \"price\": 21.65}, {\"date\": \"Sep 1 2003\", \"symbol\": \"MSFT\", \"price\": 22.69}, {\"date\": \"Oct 1 2003\", \"symbol\": \"MSFT\", \"price\": 21.45}, {\"date\": \"Nov 1 2003\", \"symbol\": \"MSFT\", \"price\": 21.1}, {\"date\": \"Dec 1 2003\", \"symbol\": \"MSFT\", \"price\": 22.46}, {\"date\": \"Jan 1 2004\", \"symbol\": \"MSFT\", \"price\": 22.69}, {\"date\": \"Feb 1 2004\", \"symbol\": \"MSFT\", \"price\": 21.77}, {\"date\": \"Mar 1 2004\", \"symbol\": \"MSFT\", \"price\": 20.46}, {\"date\": \"Apr 1 2004\", \"symbol\": \"MSFT\", \"price\": 21.45}, {\"date\": \"May 1 2004\", \"symbol\": \"MSFT\", \"price\": 21.53}, {\"date\": \"Jun 1 2004\", \"symbol\": \"MSFT\", \"price\": 23.44}, {\"date\": \"Jul 1 2004\", \"symbol\": \"MSFT\", \"price\": 23.38}, {\"date\": \"Aug 1 2004\", \"symbol\": \"MSFT\", \"price\": 22.47}, {\"date\": \"Sep 1 2004\", \"symbol\": \"MSFT\", \"price\": 22.76}, {\"date\": \"Oct 1 2004\", \"symbol\": \"MSFT\", \"price\": 23.02}, {\"date\": \"Nov 1 2004\", \"symbol\": \"MSFT\", \"price\": 24.6}, {\"date\": \"Dec 1 2004\", \"symbol\": \"MSFT\", \"price\": 24.52}, {\"date\": \"Jan 1 2005\", \"symbol\": \"MSFT\", \"price\": 24.11}, {\"date\": \"Feb 1 2005\", \"symbol\": \"MSFT\", \"price\": 23.15}, {\"date\": \"Mar 1 2005\", \"symbol\": \"MSFT\", \"price\": 22.24}, {\"date\": \"Apr 1 2005\", \"symbol\": \"MSFT\", \"price\": 23.28}, {\"date\": \"May 1 2005\", \"symbol\": \"MSFT\", \"price\": 23.82}, {\"date\": \"Jun 1 2005\", \"symbol\": \"MSFT\", \"price\": 22.93}, {\"date\": \"Jul 1 2005\", \"symbol\": \"MSFT\", \"price\": 23.64}, {\"date\": \"Aug 1 2005\", \"symbol\": \"MSFT\", \"price\": 25.35}, {\"date\": \"Sep 1 2005\", \"symbol\": \"MSFT\", \"price\": 23.83}, {\"date\": \"Oct 1 2005\", \"symbol\": \"MSFT\", \"price\": 23.8}, {\"date\": \"Nov 1 2005\", \"symbol\": \"MSFT\", \"price\": 25.71}, {\"date\": \"Dec 1 2005\", \"symbol\": \"MSFT\", \"price\": 24.29}, {\"date\": \"Jan 1 2006\", \"symbol\": \"MSFT\", \"price\": 26.14}, {\"date\": \"Feb 1 2006\", \"symbol\": \"MSFT\", \"price\": 25.04}, {\"date\": \"Mar 1 2006\", \"symbol\": \"MSFT\", \"price\": 25.36}, {\"date\": \"Apr 1 2006\", \"symbol\": \"MSFT\", \"price\": 22.5}, {\"date\": \"May 1 2006\", \"symbol\": \"MSFT\", \"price\": 21.19}, {\"date\": \"Jun 1 2006\", \"symbol\": \"MSFT\", \"price\": 21.8}, {\"date\": \"Jul 1 2006\", \"symbol\": \"MSFT\", \"price\": 22.51}, {\"date\": \"Aug 1 2006\", \"symbol\": \"MSFT\", \"price\": 24.13}, {\"date\": \"Sep 1 2006\", \"symbol\": \"MSFT\", \"price\": 25.68}, {\"date\": \"Oct 1 2006\", \"symbol\": \"MSFT\", \"price\": 26.96}, {\"date\": \"Nov 1 2006\", \"symbol\": \"MSFT\", \"price\": 27.66}, {\"date\": \"Dec 1 2006\", \"symbol\": \"MSFT\", \"price\": 28.13}, {\"date\": \"Jan 1 2007\", \"symbol\": \"MSFT\", \"price\": 29.07}, {\"date\": \"Feb 1 2007\", \"symbol\": \"MSFT\", \"price\": 26.63}, {\"date\": \"Mar 1 2007\", \"symbol\": \"MSFT\", \"price\": 26.35}, {\"date\": \"Apr 1 2007\", \"symbol\": \"MSFT\", \"price\": 28.3}, {\"date\": \"May 1 2007\", \"symbol\": \"MSFT\", \"price\": 29.11}, {\"date\": \"Jun 1 2007\", \"symbol\": \"MSFT\", \"price\": 27.95}, {\"date\": \"Jul 1 2007\", \"symbol\": \"MSFT\", \"price\": 27.5}, {\"date\": \"Aug 1 2007\", \"symbol\": \"MSFT\", \"price\": 27.34}, {\"date\": \"Sep 1 2007\", \"symbol\": \"MSFT\", \"price\": 28.04}, {\"date\": \"Oct 1 2007\", \"symbol\": \"MSFT\", \"price\": 35.03}, {\"date\": \"Nov 1 2007\", \"symbol\": \"MSFT\", \"price\": 32.09}, {\"date\": \"Dec 1 2007\", \"symbol\": \"MSFT\", \"price\": 34.0}, {\"date\": \"Jan 1 2008\", \"symbol\": \"MSFT\", \"price\": 31.13}, {\"date\": \"Feb 1 2008\", \"symbol\": \"MSFT\", \"price\": 26.07}, {\"date\": \"Mar 1 2008\", \"symbol\": \"MSFT\", \"price\": 27.21}, {\"date\": \"Apr 1 2008\", \"symbol\": \"MSFT\", \"price\": 27.34}, {\"date\": \"May 1 2008\", \"symbol\": \"MSFT\", \"price\": 27.25}, {\"date\": \"Jun 1 2008\", \"symbol\": \"MSFT\", \"price\": 26.47}, {\"date\": \"Jul 1 2008\", \"symbol\": \"MSFT\", \"price\": 24.75}, {\"date\": \"Aug 1 2008\", \"symbol\": \"MSFT\", \"price\": 26.36}, {\"date\": \"Sep 1 2008\", \"symbol\": \"MSFT\", \"price\": 25.78}, {\"date\": \"Oct 1 2008\", \"symbol\": \"MSFT\", \"price\": 21.57}, {\"date\": \"Nov 1 2008\", \"symbol\": \"MSFT\", \"price\": 19.66}, {\"date\": \"Dec 1 2008\", \"symbol\": \"MSFT\", \"price\": 18.91}, {\"date\": \"Jan 1 2009\", \"symbol\": \"MSFT\", \"price\": 16.63}, {\"date\": \"Feb 1 2009\", \"symbol\": \"MSFT\", \"price\": 15.81}, {\"date\": \"Mar 1 2009\", \"symbol\": \"MSFT\", \"price\": 17.99}, {\"date\": \"Apr 1 2009\", \"symbol\": \"MSFT\", \"price\": 19.84}, {\"date\": \"May 1 2009\", \"symbol\": \"MSFT\", \"price\": 20.59}, {\"date\": \"Jun 1 2009\", \"symbol\": \"MSFT\", \"price\": 23.42}, {\"date\": \"Jul 1 2009\", \"symbol\": \"MSFT\", \"price\": 23.18}, {\"date\": \"Aug 1 2009\", \"symbol\": \"MSFT\", \"price\": 24.43}, {\"date\": \"Sep 1 2009\", \"symbol\": \"MSFT\", \"price\": 25.49}, {\"date\": \"Oct 1 2009\", \"symbol\": \"MSFT\", \"price\": 27.48}, {\"date\": \"Nov 1 2009\", \"symbol\": \"MSFT\", \"price\": 29.27}, {\"date\": \"Dec 1 2009\", \"symbol\": \"MSFT\", \"price\": 30.34}, {\"date\": \"Jan 1 2010\", \"symbol\": \"MSFT\", \"price\": 28.05}, {\"date\": \"Feb 1 2010\", \"symbol\": \"MSFT\", \"price\": 28.67}, {\"date\": \"Mar 1 2010\", \"symbol\": \"MSFT\", \"price\": 28.8}]}, \"encoding\": {\"y\": {\"field\": \"price\", \"type\": \"quantitative\"}, \"x\": {\"field\": \"date\", \"type\": \"temporal\"}}, \"config\": {\"cell\": {\"width\": 500, \"height\": 350}}, \"mark\": \"line\"};\n",
       "var selector = \"#cc9b5f83-4c37-44b6-adb5-2626014480c6\";\n",
       "var type = \"vega-lite\";\n",
       "\n",
       "var output_area = this;\n",
       "require(['nbextensions/jupyter-vega/index'], function(vega) {\n",
       "  vega.render(selector, spec, type, output_area);\n",
       "}, function (err) {\n",
       "  if (err.requireType !== 'scripterror') {\n",
       "    throw(err);\n",
       "  }\n",
       "});\n"
      ]
     },
     "metadata": {
      "jupyter-vega": "#cc9b5f83-4c37-44b6-adb5-2626014480c6"
     },
     "output_type": "display_data"
    }
   ],
   "source": [
    "Chart(data.query('symbol == \"MSFT\"')).mark_line().encode(x='date:T', y='price:Q')"
   ]
  },
  {
   "cell_type": "code",
   "execution_count": 10,
   "metadata": {
    "collapsed": false
   },
   "outputs": [
    {
     "data": {
      "text/html": [
       "<div class=\"vega-embed\" id=\"c4779a62-64f9-4161-90f8-bde57ce9c6b0\"></div>\n",
       "\n",
       "<style>\n",
       ".vega-embed svg, .vega-embed canvas {\n",
       "  border: 1px dotted gray;\n",
       "}\n",
       "\n",
       ".vega-embed .vega-actions a {\n",
       "  margin-right: 6px;\n",
       "}\n",
       "</style>\n"
      ]
     },
     "metadata": {
      "jupyter-vega": "#c4779a62-64f9-4161-90f8-bde57ce9c6b0"
     },
     "output_type": "display_data"
    },
    {
     "data": {
      "application/javascript": [
       "var spec = {\"data\": {\"values\": [{\"date\": \"Aug 1 2004\", \"symbol\": \"GOOG\", \"price\": 102.37}, {\"date\": \"Sep 1 2004\", \"symbol\": \"GOOG\", \"price\": 129.6}, {\"date\": \"Oct 1 2004\", \"symbol\": \"GOOG\", \"price\": 190.64}, {\"date\": \"Nov 1 2004\", \"symbol\": \"GOOG\", \"price\": 181.98}, {\"date\": \"Dec 1 2004\", \"symbol\": \"GOOG\", \"price\": 192.79}, {\"date\": \"Jan 1 2005\", \"symbol\": \"GOOG\", \"price\": 195.62}, {\"date\": \"Feb 1 2005\", \"symbol\": \"GOOG\", \"price\": 187.99}, {\"date\": \"Mar 1 2005\", \"symbol\": \"GOOG\", \"price\": 180.51}, {\"date\": \"Apr 1 2005\", \"symbol\": \"GOOG\", \"price\": 220.0}, {\"date\": \"May 1 2005\", \"symbol\": \"GOOG\", \"price\": 277.27}, {\"date\": \"Jun 1 2005\", \"symbol\": \"GOOG\", \"price\": 294.15}, {\"date\": \"Jul 1 2005\", \"symbol\": \"GOOG\", \"price\": 287.76}, {\"date\": \"Aug 1 2005\", \"symbol\": \"GOOG\", \"price\": 286.0}, {\"date\": \"Sep 1 2005\", \"symbol\": \"GOOG\", \"price\": 316.46}, {\"date\": \"Oct 1 2005\", \"symbol\": \"GOOG\", \"price\": 372.14}, {\"date\": \"Nov 1 2005\", \"symbol\": \"GOOG\", \"price\": 404.91}, {\"date\": \"Dec 1 2005\", \"symbol\": \"GOOG\", \"price\": 414.86}, {\"date\": \"Jan 1 2006\", \"symbol\": \"GOOG\", \"price\": 432.66}, {\"date\": \"Feb 1 2006\", \"symbol\": \"GOOG\", \"price\": 362.62}, {\"date\": \"Mar 1 2006\", \"symbol\": \"GOOG\", \"price\": 390.0}, {\"date\": \"Apr 1 2006\", \"symbol\": \"GOOG\", \"price\": 417.94}, {\"date\": \"May 1 2006\", \"symbol\": \"GOOG\", \"price\": 371.82}, {\"date\": \"Jun 1 2006\", \"symbol\": \"GOOG\", \"price\": 419.33}, {\"date\": \"Jul 1 2006\", \"symbol\": \"GOOG\", \"price\": 386.6}, {\"date\": \"Aug 1 2006\", \"symbol\": \"GOOG\", \"price\": 378.53}, {\"date\": \"Sep 1 2006\", \"symbol\": \"GOOG\", \"price\": 401.9}, {\"date\": \"Oct 1 2006\", \"symbol\": \"GOOG\", \"price\": 476.39}, {\"date\": \"Nov 1 2006\", \"symbol\": \"GOOG\", \"price\": 484.81}, {\"date\": \"Dec 1 2006\", \"symbol\": \"GOOG\", \"price\": 460.48}, {\"date\": \"Jan 1 2007\", \"symbol\": \"GOOG\", \"price\": 501.5}, {\"date\": \"Feb 1 2007\", \"symbol\": \"GOOG\", \"price\": 449.45}, {\"date\": \"Mar 1 2007\", \"symbol\": \"GOOG\", \"price\": 458.16}, {\"date\": \"Apr 1 2007\", \"symbol\": \"GOOG\", \"price\": 471.38}, {\"date\": \"May 1 2007\", \"symbol\": \"GOOG\", \"price\": 497.91}, {\"date\": \"Jun 1 2007\", \"symbol\": \"GOOG\", \"price\": 522.7}, {\"date\": \"Jul 1 2007\", \"symbol\": \"GOOG\", \"price\": 510.0}, {\"date\": \"Aug 1 2007\", \"symbol\": \"GOOG\", \"price\": 515.25}, {\"date\": \"Sep 1 2007\", \"symbol\": \"GOOG\", \"price\": 567.27}, {\"date\": \"Oct 1 2007\", \"symbol\": \"GOOG\", \"price\": 707.0}, {\"date\": \"Nov 1 2007\", \"symbol\": \"GOOG\", \"price\": 693.0}, {\"date\": \"Dec 1 2007\", \"symbol\": \"GOOG\", \"price\": 691.48}, {\"date\": \"Jan 1 2008\", \"symbol\": \"GOOG\", \"price\": 564.3}, {\"date\": \"Feb 1 2008\", \"symbol\": \"GOOG\", \"price\": 471.18}, {\"date\": \"Mar 1 2008\", \"symbol\": \"GOOG\", \"price\": 440.47}, {\"date\": \"Apr 1 2008\", \"symbol\": \"GOOG\", \"price\": 574.29}, {\"date\": \"May 1 2008\", \"symbol\": \"GOOG\", \"price\": 585.8}, {\"date\": \"Jun 1 2008\", \"symbol\": \"GOOG\", \"price\": 526.42}, {\"date\": \"Jul 1 2008\", \"symbol\": \"GOOG\", \"price\": 473.75}, {\"date\": \"Aug 1 2008\", \"symbol\": \"GOOG\", \"price\": 463.29}, {\"date\": \"Sep 1 2008\", \"symbol\": \"GOOG\", \"price\": 400.52}, {\"date\": \"Oct 1 2008\", \"symbol\": \"GOOG\", \"price\": 359.36}, {\"date\": \"Nov 1 2008\", \"symbol\": \"GOOG\", \"price\": 292.96}, {\"date\": \"Dec 1 2008\", \"symbol\": \"GOOG\", \"price\": 307.65}, {\"date\": \"Jan 1 2009\", \"symbol\": \"GOOG\", \"price\": 338.53}, {\"date\": \"Feb 1 2009\", \"symbol\": \"GOOG\", \"price\": 337.99}, {\"date\": \"Mar 1 2009\", \"symbol\": \"GOOG\", \"price\": 348.06}, {\"date\": \"Apr 1 2009\", \"symbol\": \"GOOG\", \"price\": 395.97}, {\"date\": \"May 1 2009\", \"symbol\": \"GOOG\", \"price\": 417.23}, {\"date\": \"Jun 1 2009\", \"symbol\": \"GOOG\", \"price\": 421.59}, {\"date\": \"Jul 1 2009\", \"symbol\": \"GOOG\", \"price\": 443.05}, {\"date\": \"Aug 1 2009\", \"symbol\": \"GOOG\", \"price\": 461.67}, {\"date\": \"Sep 1 2009\", \"symbol\": \"GOOG\", \"price\": 495.85}, {\"date\": \"Oct 1 2009\", \"symbol\": \"GOOG\", \"price\": 536.12}, {\"date\": \"Nov 1 2009\", \"symbol\": \"GOOG\", \"price\": 583.0}, {\"date\": \"Dec 1 2009\", \"symbol\": \"GOOG\", \"price\": 619.98}, {\"date\": \"Jan 1 2010\", \"symbol\": \"GOOG\", \"price\": 529.94}, {\"date\": \"Feb 1 2010\", \"symbol\": \"GOOG\", \"price\": 526.8}, {\"date\": \"Mar 1 2010\", \"symbol\": \"GOOG\", \"price\": 560.19}]}, \"encoding\": {\"y\": {\"field\": \"price\", \"type\": \"quantitative\"}, \"x\": {\"field\": \"date\", \"type\": \"temporal\"}}, \"config\": {\"cell\": {\"width\": 500, \"height\": 350}}, \"mark\": \"line\"};\n",
       "var selector = \"#c4779a62-64f9-4161-90f8-bde57ce9c6b0\";\n",
       "var type = \"vega-lite\";\n",
       "\n",
       "var output_area = this;\n",
       "require(['nbextensions/jupyter-vega/index'], function(vega) {\n",
       "  vega.render(selector, spec, type, output_area);\n",
       "}, function (err) {\n",
       "  if (err.requireType !== 'scripterror') {\n",
       "    throw(err);\n",
       "  }\n",
       "});\n"
      ]
     },
     "metadata": {
      "jupyter-vega": "#c4779a62-64f9-4161-90f8-bde57ce9c6b0"
     },
     "output_type": "display_data"
    }
   ],
   "source": [
    "vis"
   ]
  },
  {
   "cell_type": "code",
   "execution_count": null,
   "metadata": {
    "collapsed": true
   },
   "outputs": [],
   "source": [
    "vega=folium.Vega(vis,width=\"100%\", height=\"100%\")"
   ]
  },
  {
   "cell_type": "code",
   "execution_count": null,
   "metadata": {
    "collapsed": true
   },
   "outputs": [],
   "source": [
    "popup=folium.Popup(max_width=20).add_child(vega)"
   ]
  },
  {
   "cell_type": "code",
   "execution_count": null,
   "metadata": {
    "collapsed": true
   },
   "outputs": [],
   "source": [
    "icon=folium.Icon(color='blue',icon=\"ok\")\n",
    "folium.Marker([jc,ic],popup=popup,icon=icon).add_to(mapa)"
   ]
  }
 ],
 "metadata": {
  "hide_input": false,
  "kernelspec": {
   "display_name": "Python 2",
   "language": "python",
   "name": "python2"
  },
  "language_info": {
   "codemirror_mode": {
    "name": "ipython",
    "version": 2
   },
   "file_extension": ".py",
   "mimetype": "text/x-python",
   "name": "python",
   "nbconvert_exporter": "python",
   "pygments_lexer": "ipython2",
   "version": "2.7.12"
  },
  "latex_envs": {
   "bibliofile": "biblio.bib",
   "cite_by": "apalike",
   "current_citInitial": 1,
   "eqLabelWithNumbers": true,
   "eqNumInitial": 0
  }
 },
 "nbformat": 4,
 "nbformat_minor": 1
}
