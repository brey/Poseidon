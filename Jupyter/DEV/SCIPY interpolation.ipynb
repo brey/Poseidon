{
 "cells": [
  {
   "cell_type": "markdown",
   "metadata": {},
   "source": [
    "##VARIOUS OPTIONS FOR INTERPOLATION ON LAT/LON GRID"
   ]
  },
  {
   "cell_type": "code",
   "execution_count": 1,
   "metadata": {
    "collapsed": true
   },
   "outputs": [],
   "source": [
    "#%matplotlib inline\n",
    "import numpy as np\n",
    "import matplotlib.pyplot as plt\n",
    "import urllib\n",
    "import netCDF4\n",
    "from mpl_toolkits.basemap import Basemap\n",
    "import scipy.interpolate\n",
    "import sys\n",
    "\n",
    "from scipy import ndimage"
   ]
  },
  {
   "cell_type": "code",
   "execution_count": 2,
   "metadata": {
    "collapsed": false
   },
   "outputs": [
    {
     "name": "stderr",
     "output_type": "stream",
     "text": [
      ":0: FutureWarning: IPython widgets are experimental and may change in the future.\n"
     ]
    }
   ],
   "source": [
    "from IPython.html.widgets import *\n"
   ]
  },
  {
   "cell_type": "markdown",
   "metadata": {},
   "source": [
    "For testing purposes we are interpolating on a lat/lon grid the bathymetry taken from SRTV30v6."
   ]
  },
  {
   "cell_type": "code",
   "execution_count": 3,
   "metadata": {
    "collapsed": true
   },
   "outputs": [],
   "source": [
    "minlat = 28.\n",
    "maxlat = 48.\n",
    "minlon = -12.\n",
    "maxlon = 48.\n",
    "isub=2\n"
   ]
  },
  {
   "cell_type": "code",
   "execution_count": 4,
   "metadata": {
    "collapsed": false
   },
   "outputs": [
    {
     "name": "stdout",
     "output_type": "stream",
     "text": [
      "http://coastwatch.pfeg.noaa.gov/erddap/griddap/usgsCeSrtm30v6.nc?topo[(48.000000):2:(28.000000)][(-12.000000):2:(48.000000)]\n"
     ]
    }
   ],
   "source": [
    "# Read data from: http://coastwatch.pfeg.noaa.gov/erddap/griddap/usgsCeSrtm30v6.html\n",
    "# using the netCDF output option\n",
    " \n",
    "base_url='http://coastwatch.pfeg.noaa.gov/erddap/griddap/usgsCeSrtm30v6.nc?'\n",
    "query='topo[(%f):%d:(%f)][(%f):%d:(%f)]' % (maxlat,isub,minlat,minlon,isub,maxlon)\n",
    "url = base_url+query\n",
    "print url\n"
   ]
  },
  {
   "cell_type": "code",
   "execution_count": 6,
   "metadata": {
    "collapsed": false
   },
   "outputs": [
    {
     "data": {
      "text/plain": [
       "('usgsCeSrtm30v6.nc', <httplib.HTTPMessage instance at 0x4085d40>)"
      ]
     },
     "execution_count": 6,
     "metadata": {},
     "output_type": "execute_result"
    }
   ],
   "source": [
    "# store data in NetCDF file\n",
    "file='usgsCeSrtm30v6.nc'\n",
    "urllib.urlretrieve (url, file)\n",
    "\n"
   ]
  },
  {
   "cell_type": "code",
   "execution_count": 7,
   "metadata": {
    "collapsed": false
   },
   "outputs": [
    {
     "name": "stdout",
     "output_type": "stream",
     "text": [
      "[u'latitude', u'longitude', u'topo']\n"
     ]
    }
   ],
   "source": [
    "# open NetCDF data in\n",
    "nc = netCDF4.Dataset(file)\n",
    "ncv = nc.variables\n",
    "print ncv.keys()\n",
    "\n",
    "lon = ncv['longitude'][:]\n",
    "lat = ncv['latitude'][:]\n",
    "lons, lats = np.meshgrid(lon,lat)\n",
    "topo = ncv['topo'][:,:]\n"
   ]
  },
  {
   "cell_type": "code",
   "execution_count": 8,
   "metadata": {
    "collapsed": false
   },
   "outputs": [
    {
     "name": "stdout",
     "output_type": "stream",
     "text": [
      "(1201, 3601)\n"
     ]
    }
   ],
   "source": [
    "print topo.shape"
   ]
  },
  {
   "cell_type": "code",
   "execution_count": null,
   "metadata": {
    "collapsed": true
   },
   "outputs": [],
   "source": [
    "# Create map\n",
    "m = Basemap(projection='cyl', llcrnrlat=minlat,urcrnrlat=maxlat,llcrnrlon=minlon, urcrnrlon=maxlon,resolution='l')\n",
    "fig = plt.figure(figsize=(10,8))\n",
    "cs = m.pcolormesh(lons,lats,topo,cmap=plt.cm.jet,latlon=True)\n",
    "m.drawcoastlines()\n",
    "m.drawmapboundary()\n",
    "plt.title('SMRT30 - Bathymetry/Topography')\n",
    "cbar = plt.colorbar(orientation='horizontal', extend='both')\n",
    "cbar.ax.set_xlabel('meters')\n",
    "\n",
    "plt.show()"
   ]
  },
  {
   "cell_type": "markdown",
   "metadata": {},
   "source": [
    "###define the new grid to interpolate"
   ]
  },
  {
   "cell_type": "code",
   "execution_count": 10,
   "metadata": {
    "collapsed": true
   },
   "outputs": [],
   "source": [
    "ni=70\n",
    "nj=30"
   ]
  },
  {
   "cell_type": "code",
   "execution_count": 11,
   "metadata": {
    "collapsed": false
   },
   "outputs": [
    {
     "name": "stdout",
     "output_type": "stream",
     "text": [
      "(70,)\n",
      "(30,)\n"
     ]
    }
   ],
   "source": [
    "x=np.linspace(minlon,maxlon,ni,endpoint=True)\n",
    "print x.shape\n",
    "y=np.linspace(minlat,maxlat,nj,endpoint=True)\n",
    "print y.shape"
   ]
  },
  {
   "cell_type": "code",
   "execution_count": 12,
   "metadata": {
    "collapsed": true
   },
   "outputs": [],
   "source": [
    "xx,yy=np.meshgrid(x,y)"
   ]
  },
  {
   "cell_type": "markdown",
   "metadata": {},
   "source": [
    "##Interpolation using basemap tool"
   ]
  },
  {
   "cell_type": "markdown",
   "metadata": {},
   "source": [
    "Because for this function the arrays must be increasing we flip lat "
   ]
  },
  {
   "cell_type": "code",
   "execution_count": 13,
   "metadata": {
    "collapsed": false
   },
   "outputs": [],
   "source": [
    "mtopo,bxx,byy = \\\n",
    "  m.transform_scalar(np.flipud(topo),lon,np.flipud(lat),ni,nj,returnxy=True,masked=True,order=3)  # we flip the lat to make it increasing"
   ]
  },
  {
   "cell_type": "code",
   "execution_count": 14,
   "metadata": {
    "collapsed": true
   },
   "outputs": [],
   "source": [
    "fig = plt.figure(figsize=(10,8))\n",
    "cs = m.pcolormesh(bxx,byy,mtopo,cmap=plt.cm.jet,latlon=True)\n",
    "m.drawcoastlines()\n",
    "m.drawmapboundary()\n",
    "plt.title('basemap transform')\n",
    "cbar = plt.colorbar(orientation='horizontal', extend='both')\n",
    "cbar.ax.set_xlabel('meters')\n",
    "\n",
    "plt.show()"
   ]
  },
  {
   "cell_type": "code",
   "execution_count": 16,
   "metadata": {
    "collapsed": false
   },
   "outputs": [],
   "source": [
    "def bmap():\n",
    " mtopo,bxx,byy = \\\n",
    "   m.transform_scalar(np.flipud(topo),lon,np.flipud(lat),ni,nj,returnxy=True,masked=True)  # we flip the lat to make it increasing \n",
    " return mtopo,bxx,byy"
   ]
  },
  {
   "cell_type": "code",
   "execution_count": 17,
   "metadata": {
    "collapsed": false
   },
   "outputs": [
    {
     "name": "stdout",
     "output_type": "stream",
     "text": [
      "100 loops, best of 3: 8.68 ms per loop\n"
     ]
    }
   ],
   "source": [
    "%timeit var,la,lo=bmap()"
   ]
  },
  {
   "cell_type": "markdown",
   "metadata": {},
   "source": [
    "##Interpolation using RectBivariateSpline"
   ]
  },
  {
   "cell_type": "markdown",
   "metadata": {},
   "source": [
    "Because for this function the arrays must be increasing we flip lat "
   ]
  },
  {
   "cell_type": "code",
   "execution_count": 21,
   "metadata": {
    "collapsed": true
   },
   "outputs": [],
   "source": [
    "blat=np.flipud(lat)\n",
    "btopo=np.flipud(topo) # since we flip lat"
   ]
  },
  {
   "cell_type": "code",
   "execution_count": 30,
   "metadata": {
    "collapsed": false
   },
   "outputs": [],
   "source": [
    "sol=scipy.interpolate.RectBivariateSpline(lon,blat,btopo.T) # note the transpose btopo"
   ]
  },
  {
   "cell_type": "code",
   "execution_count": 31,
   "metadata": {
    "collapsed": false
   },
   "outputs": [],
   "source": [
    "itopo=[]\n",
    "for x,y in zip(xx.ravel(),yy.ravel()):\n",
    "      itopo.append(sol(x,y).ravel()[0])\n",
    "\n",
    "itopo=np.array(itopo)\n",
    "itopo=itopo.reshape(xx.shape)\n"
   ]
  },
  {
   "cell_type": "code",
   "execution_count": 32,
   "metadata": {
    "collapsed": true
   },
   "outputs": [],
   "source": [
    "fig = plt.figure(figsize=(10,8))\n",
    "cs = m.pcolormesh(xx,yy,itopo,cmap=plt.cm.jet,latlon=True)\n",
    "m.drawcoastlines()\n",
    "m.drawmapboundary()\n",
    "plt.title('RectBivariateSpline')\n",
    "cbar = plt.colorbar(orientation='horizontal', extend='both')\n",
    "cbar.ax.set_xlabel('meters')\n",
    "\n",
    "plt.show()"
   ]
  },
  {
   "cell_type": "code",
   "execution_count": 33,
   "metadata": {
    "collapsed": true
   },
   "outputs": [],
   "source": [
    "def rbs():\n",
    "    sol=scipy.interpolate.RectBivariateSpline(lon,np.flipud(lat),np.flipud(topo).T) # note the transpose btopo\n",
    "    itopo=[]\n",
    "    for x,y in zip(xx.ravel(),yy.ravel()):\n",
    "      itopo.append(sol(x,y).ravel()[0])\n",
    "\n",
    "    itopo=np.array(itopo)\n",
    "    itopo=itopo.reshape(xx.shape)\n",
    "    return itopo,xx,yy"
   ]
  },
  {
   "cell_type": "code",
   "execution_count": 34,
   "metadata": {
    "collapsed": false
   },
   "outputs": [
    {
     "name": "stdout",
     "output_type": "stream",
     "text": [
      "1 loops, best of 3: 911 ms per loop\n"
     ]
    }
   ],
   "source": [
    "%timeit var,la,lo=rbs()"
   ]
  },
  {
   "cell_type": "code",
   "execution_count": 35,
   "metadata": {
    "collapsed": false
   },
   "outputs": [
    {
     "name": "stdout",
     "output_type": "stream",
     "text": [
      "3.81469726562e-06\n"
     ]
    }
   ],
   "source": [
    "dx=np.abs(xx-bxx).max()\n",
    "print dx"
   ]
  },
  {
   "cell_type": "code",
   "execution_count": 36,
   "metadata": {
    "collapsed": false
   },
   "outputs": [
    {
     "name": "stdout",
     "output_type": "stream",
     "text": [
      "2.63082569774e-06\n"
     ]
    }
   ],
   "source": [
    "dy=np.abs(yy-byy).max()\n",
    "print dy"
   ]
  },
  {
   "cell_type": "code",
   "execution_count": 37,
   "metadata": {
    "collapsed": false
   },
   "outputs": [
    {
     "name": "stdout",
     "output_type": "stream",
     "text": [
      "0.625348504378\n"
     ]
    }
   ],
   "source": [
    "dv=np.abs(itopo-mtopo).max()\n",
    "print dv"
   ]
  },
  {
   "cell_type": "code",
   "execution_count": 38,
   "metadata": {
    "collapsed": false
   },
   "outputs": [
    {
     "data": {
      "text/plain": [
       "0.24098741638504972"
      ]
     },
     "execution_count": 38,
     "metadata": {},
     "output_type": "execute_result"
    }
   ],
   "source": [
    "np.abs(itopo-mtopo).mean()"
   ]
  },
  {
   "cell_type": "markdown",
   "metadata": {},
   "source": [
    "##Interpolation using RegularGridInterpolator"
   ]
  },
  {
   "cell_type": "code",
   "execution_count": null,
   "metadata": {
    "collapsed": true
   },
   "outputs": [],
   "source": [
    "# compute the new grid location in the original grid\n",
    "\n"
   ]
  },
  {
   "cell_type": "code",
   "execution_count": 39,
   "metadata": {
    "collapsed": false
   },
   "outputs": [],
   "source": [
    "myf = scipy.interpolate.RegularGridInterpolator((lon, blat), btopo.T,method='linear')"
   ]
  },
  {
   "cell_type": "code",
   "execution_count": 40,
   "metadata": {
    "collapsed": false
   },
   "outputs": [],
   "source": [
    "rtopo=[]\n",
    "for x,y in zip(xx.ravel(),yy.ravel()):\n",
    "      rtopo.append(myf([x,y]).ravel()[0])\n",
    "\n",
    "rtopo=np.array(rtopo)\n",
    "rtopo=rtopo.reshape(xx.shape)\n"
   ]
  },
  {
   "cell_type": "code",
   "execution_count": 41,
   "metadata": {
    "collapsed": true
   },
   "outputs": [],
   "source": [
    "def rgi():\n",
    "    myf = scipy.interpolate.RegularGridInterpolator((lon, blat), btopo.T)\n",
    "    rtopo=[]\n",
    "    for x,y in zip(xx.ravel(),yy.ravel()):\n",
    "      rtopo.append(myf([x,y]).ravel()[0])\n",
    "\n",
    "    rtopo=np.array(rtopo)\n",
    "    rtopo=rtopo.reshape(xx.shape)\n",
    "    return rtopo,xx,yy"
   ]
  },
  {
   "cell_type": "code",
   "execution_count": 42,
   "metadata": {
    "collapsed": false
   },
   "outputs": [
    {
     "name": "stdout",
     "output_type": "stream",
     "text": [
      "1 loops, best of 3: 987 ms per loop\n"
     ]
    }
   ],
   "source": [
    "%timeit var,la,lo=rgi()"
   ]
  },
  {
   "cell_type": "code",
   "execution_count": 43,
   "metadata": {
    "collapsed": false
   },
   "outputs": [
    {
     "name": "stdout",
     "output_type": "stream",
     "text": [
      "162.886056972\n"
     ]
    }
   ],
   "source": [
    "dv=np.abs(rtopo-mtopo).max()\n",
    "print dv"
   ]
  },
  {
   "cell_type": "code",
   "execution_count": 45,
   "metadata": {
    "collapsed": true
   },
   "outputs": [],
   "source": [
    "#plot\n",
    "var,la,lo=rgi()\n",
    "fig = plt.figure(figsize=(10,8))\n",
    "cs = m.pcolormesh(la,lo,var,cmap=plt.cm.jet,latlon=True)\n",
    "m.drawcoastlines()\n",
    "m.drawmapboundary()\n",
    "plt.title('Interpolation with RegularGridInterpolator')\n",
    "cbar = plt.colorbar(orientation='horizontal', extend='both')\n",
    "cbar.ax.set_xlabel('meters')\n",
    "\n",
    "plt.show()"
   ]
  },
  {
   "cell_type": "markdown",
   "metadata": {},
   "source": [
    "##Interpolation using ndimage"
   ]
  },
  {
   "cell_type": "code",
   "execution_count": 96,
   "metadata": {
    "collapsed": false
   },
   "outputs": [
    {
     "data": {
      "text/plain": [
       "array([], dtype=int64)"
      ]
     },
     "execution_count": 96,
     "metadata": {},
     "output_type": "execute_result"
    }
   ],
   "source": [
    "xd=np.arange(lon.shape[0],ni)\n",
    "xd"
   ]
  },
  {
   "cell_type": "code",
   "execution_count": 97,
   "metadata": {
    "collapsed": false
   },
   "outputs": [
    {
     "data": {
      "text/plain": [
       "3601"
      ]
     },
     "execution_count": 97,
     "metadata": {},
     "output_type": "execute_result"
    }
   ],
   "source": [
    "lon.shape[0]"
   ]
  },
  {
   "cell_type": "code",
   "execution_count": 50,
   "metadata": {
    "collapsed": false
   },
   "outputs": [
    {
     "data": {
      "text/plain": [
       "'module://IPython.kernel.zmq.pylab.backend_inline'"
      ]
     },
     "execution_count": 50,
     "metadata": {},
     "output_type": "execute_result"
    }
   ],
   "source": [
    "import matplotlib\n",
    "matplotlib.get_backend()"
   ]
  },
  {
   "cell_type": "code",
   "execution_count": null,
   "metadata": {
    "collapsed": true
   },
   "outputs": [],
   "source": []
  }
 ],
 "metadata": {
  "kernelspec": {
   "display_name": "Python 2",
   "language": "python",
   "name": "python2"
  },
  "language_info": {
   "codemirror_mode": {
    "name": "ipython",
    "version": 2
   },
   "file_extension": ".py",
   "mimetype": "text/x-python",
   "name": "python",
   "nbconvert_exporter": "python",
   "pygments_lexer": "ipython2",
   "version": "2.7.11+"
  },
  "widgets": {
   "state": {},
   "version": "1.1.1"
  }
 },
 "nbformat": 4,
 "nbformat_minor": 0
}
