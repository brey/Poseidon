{
 "cells": [
  {
   "cell_type": "code",
   "execution_count": 1,
   "metadata": {
    "collapsed": false
   },
   "outputs": [],
   "source": [
    "from IPython.core.display import HTML\n",
    "\n",
    "%matplotlib inline\n",
    "from matplotlib import style\n",
    "style.use('ggplot')"
   ]
  },
  {
   "cell_type": "markdown",
   "metadata": {},
   "source": [
    "This post is a quick note on how to convert to and from UTM coordinates using\n",
    "[pyproj](pyproj).\n",
    "\n",
    "As the end of the year approaches my TODO list gets bigger and bigger and my\n",
    "posts get smaller and smaller...  Well, this one is small but I find it useful.\n",
    "I always need to check how to do this every I need to convert to/from UTM\n",
    "coordinates."
   ]
  },
  {
   "cell_type": "markdown",
   "metadata": {},
   "source": [
    "`pyproj` is used under the hood of several python packages like basemap,\n",
    "cartopy, pyresample.  So, if you have any of one those above installed, you\n",
    "probably already have `pyproj` as well."
   ]
  },
  {
   "cell_type": "code",
   "execution_count": 2,
   "metadata": {
    "collapsed": false
   },
   "outputs": [],
   "source": [
    "from pyproj import Proj"
   ]
  },
  {
   "cell_type": "markdown",
   "metadata": {},
   "source": [
    "Here is am example from real life case that I had to deal recently.  Someone\n",
    "gave me the corners of a map in UTM but the sampling site positions as lon,\n",
    "lat collected in WGS84.  Here are the data:"
   ]
  },
  {
   "cell_type": "code",
   "execution_count": 3,
   "metadata": {
    "collapsed": false
   },
   "outputs": [
    {
     "name": "stdout",
     "output_type": "stream",
     "text": [
      "\n",
      "Sampling site lon -44.636, lat -23.2278\n",
      "\n"
     ]
    },
    {
     "data": {
      "text/html": [
       "<div>\n",
       "<table border=\"1\" class=\"dataframe\">\n",
       "  <thead>\n",
       "    <tr style=\"text-align: right;\">\n",
       "      <th></th>\n",
       "      <th>Meters East</th>\n",
       "      <th>Meters South</th>\n",
       "    </tr>\n",
       "  </thead>\n",
       "  <tbody>\n",
       "    <tr>\n",
       "      <th>0</th>\n",
       "      <td>529025.0</td>\n",
       "      <td>7422210.0</td>\n",
       "    </tr>\n",
       "    <tr>\n",
       "      <th>1</th>\n",
       "      <td>529114.0</td>\n",
       "      <td>7422343.0</td>\n",
       "    </tr>\n",
       "    <tr>\n",
       "      <th>2</th>\n",
       "      <td>545227.0</td>\n",
       "      <td>7435702.0</td>\n",
       "    </tr>\n",
       "    <tr>\n",
       "      <th>3</th>\n",
       "      <td>545582.0</td>\n",
       "      <td>7435741.0</td>\n",
       "    </tr>\n",
       "  </tbody>\n",
       "</table>\n",
       "</div>"
      ],
      "text/plain": [
       "   Meters East  Meters South\n",
       "0     529025.0     7422210.0\n",
       "1     529114.0     7422343.0\n",
       "2     545227.0     7435702.0\n",
       "3     545582.0     7435741.0"
      ]
     },
     "execution_count": 3,
     "metadata": {},
     "output_type": "execute_result"
    }
   ],
   "source": [
    "import numpy as np\n",
    "from pandas import DataFrame\n",
    "\n",
    "core = (-44.6360, -23.2278)\n",
    "\n",
    "print('\\nSampling site lon %s, lat %s\\n' % (core[0], core[1]))\n",
    "\n",
    "x = (529025.00, 529114.00, 545227.00, 545582.00)\n",
    "y = (7422210.00, 7422343.00, 7435702.00, 7435741.00)\n",
    "\n",
    "df = DataFrame(np.c_[x, y], columns=['Meters East', 'Meters South'])\n",
    "df"
   ]
  },
  {
   "cell_type": "markdown",
   "metadata": {},
   "source": [
    "All that is needed to solve that problem is a `pyproj` object for Zone 23K\n",
    "(near Paraty-Brazil) using `Datum WGS-84`.  Note that we need to specify that\n",
    "we are in the South Hemisphere."
   ]
  },
  {
   "cell_type": "code",
   "execution_count": 14,
   "metadata": {
    "collapsed": false
   },
   "outputs": [],
   "source": [
    "myProj = Proj(\"+proj=utm +zone=23K, +south +ellps=WGS84 +datum=WGS84 +units=m +no_defs\")"
   ]
  },
  {
   "cell_type": "markdown",
   "metadata": {},
   "source": [
    "The next cell uses the object created (`myProj`) to convert the UTM positions\n",
    "to longitude and latitude.  That is why we need the *inverse* keyword."
   ]
  },
  {
   "cell_type": "code",
   "execution_count": 5,
   "metadata": {
    "collapsed": false
   },
   "outputs": [],
   "source": [
    "lon, lat = myProj(df['Meters East'].values, df['Meters South'].values, inverse=True)"
   ]
  },
  {
   "cell_type": "markdown",
   "metadata": {},
   "source": [
    "To convert back just from comparison:"
   ]
  },
  {
   "cell_type": "code",
   "execution_count": 6,
   "metadata": {
    "collapsed": false
   },
   "outputs": [],
   "source": [
    "UTMx, UTMy = myProj(lon, lat)"
   ]
  },
  {
   "cell_type": "markdown",
   "metadata": {},
   "source": [
    "And now a quick table to show the results in the notebook,"
   ]
  },
  {
   "cell_type": "code",
   "execution_count": 7,
   "metadata": {
    "collapsed": false
   },
   "outputs": [
    {
     "data": {
      "text/html": [
       "<div>\n",
       "<table border=\"1\" class=\"dataframe\">\n",
       "  <thead>\n",
       "    <tr style=\"text-align: right;\">\n",
       "      <th></th>\n",
       "      <th>UTMx</th>\n",
       "      <th>UTMy</th>\n",
       "      <th>Lon</th>\n",
       "      <th>Lat</th>\n",
       "    </tr>\n",
       "  </thead>\n",
       "  <tbody>\n",
       "    <tr>\n",
       "      <th>0</th>\n",
       "      <td>529025.0</td>\n",
       "      <td>7422210.0</td>\n",
       "      <td>-44.716128</td>\n",
       "      <td>-23.309315</td>\n",
       "    </tr>\n",
       "    <tr>\n",
       "      <th>1</th>\n",
       "      <td>529114.0</td>\n",
       "      <td>7422343.0</td>\n",
       "      <td>-44.715260</td>\n",
       "      <td>-23.308112</td>\n",
       "    </tr>\n",
       "    <tr>\n",
       "      <th>2</th>\n",
       "      <td>545227.0</td>\n",
       "      <td>7435702.0</td>\n",
       "      <td>-44.558073</td>\n",
       "      <td>-23.187077</td>\n",
       "    </tr>\n",
       "    <tr>\n",
       "      <th>3</th>\n",
       "      <td>545582.0</td>\n",
       "      <td>7435741.0</td>\n",
       "      <td>-44.554606</td>\n",
       "      <td>-23.186714</td>\n",
       "    </tr>\n",
       "  </tbody>\n",
       "</table>\n",
       "</div>"
      ],
      "text/plain": [
       "       UTMx       UTMy        Lon        Lat\n",
       "0  529025.0  7422210.0 -44.716128 -23.309315\n",
       "1  529114.0  7422343.0 -44.715260 -23.308112\n",
       "2  545227.0  7435702.0 -44.558073 -23.187077\n",
       "3  545582.0  7435741.0 -44.554606 -23.186714"
      ]
     },
     "execution_count": 7,
     "metadata": {},
     "output_type": "execute_result"
    }
   ],
   "source": [
    "DataFrame(np.c_[UTMx, UTMy, lon, lat], columns=['UTMx', 'UTMy', 'Lon', 'Lat'])"
   ]
  },
  {
   "cell_type": "markdown",
   "metadata": {},
   "source": [
    "Now I can make a map to show the sampling site."
   ]
  },
  {
   "cell_type": "code",
   "execution_count": 8,
   "metadata": {
    "collapsed": false
   },
   "outputs": [
    {
     "name": "stdout",
     "output_type": "stream",
     "text": [
      "WARNING: x coordinate not montonically increasing - contour plot\n",
      "may not be what you expect.  If it looks odd, your can either\n",
      "adjust the map projection region to be consistent with your data, or\n",
      "(if your data is on a global lat/lon grid) use the shiftdata\n",
      "method to adjust the data to be consistent with the map projection\n",
      "region (see examples/shiftdata.py)."
     ]
    },
    {
     "data": {
      "image/png": "[encoded data removed]",
      "text/plain": [
       "<matplotlib.figure.Figure at 0x7f59c05b8f10>"
      ]
     },
     "metadata": {},
     "output_type": "display_data"
    }
   ],
   "source": [
    "import matplotlib.pyplot as plt\n",
    "from mpl_toolkits.basemap import pyproj\n",
    "from mpl_toolkits.basemap import Basemap\n",
    "\n",
    "fig, ax = plt.subplots(figsize=(6, 6))\n",
    "m = Basemap(projection='merc',\n",
    "              urcrnrlat=lat[1], llcrnrlat=lat[2],\n",
    "              urcrnrlon=lon[1], llcrnrlon=lon[2],\n",
    "              resolution='f',\n",
    "              suppress_ticks=False,\n",
    "              ax=ax)\n",
    "m.fillcontinents()\n",
    "m.drawcoastlines()\n",
    "m.ax = ax\n",
    "pt = m.plot(core[0], core[1], 'ko', latlon=True)\n",
    "\n",
    "lons, lats, xs, ys = m.makegrid(200, 200, returnxy=True)\n",
    "\n",
    "gc = pyproj.Geod(a=m.rmajor, b=m.rminor)\n",
    "\n",
    "distances = np.zeros(lons.size)\n",
    "\n",
    "for k, (lo, la) in enumerate(zip(lons.flatten(), lats.flatten())):\n",
    "    _, _, distances[k] = gc.inv(core[0], core[1], lo, la)\n",
    "    \n",
    "distances = distances.reshape(200, 200)  # In km.\n",
    "\n",
    "# Plot perimeters of equal distance.\n",
    "levels = [1000]  # [50, 100, 150]\n",
    "cs = m.contour(xs, ys, distances, levels, colors='r')"
   ]
  },
  {
   "cell_type": "code",
   "execution_count": null,
   "metadata": {
    "collapsed": true
   },
   "outputs": [],
   "source": []
  }
 ],
 "metadata": {
  "hide_input": false,
  "kernelspec": {
   "display_name": "Python 2",
   "language": "python",
   "name": "python2"
  },
  "language_info": {
   "codemirror_mode": {
    "name": "ipython",
    "version": 2
   },
   "file_extension": ".py",
   "mimetype": "text/x-python",
   "name": "python",
   "nbconvert_exporter": "python",
   "pygments_lexer": "ipython2",
   "version": "2.7.12"
  },
  "latex_envs": {
   "bibliofile": "biblio.bib",
   "cite_by": "apalike",
   "current_citInitial": 1,
   "eqLabelWithNumbers": true,
   "eqNumInitial": 0
  }
 },
 "nbformat": 4,
 "nbformat_minor": 0
}
