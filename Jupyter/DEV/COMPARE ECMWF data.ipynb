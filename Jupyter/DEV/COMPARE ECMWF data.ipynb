{
 "cells": [
  {
   "cell_type": "code",
   "execution_count": null,
   "metadata": {
    "collapsed": false
   },
   "outputs": [],
   "source": [
    "import pygrib # module to read grib files\n",
    "from datetime import datetime # for defining the date\n",
    "import os # module for os functions\n",
    "import glob\n",
    "import numpy as np\n",
    "date=datetime(2016,01,21,12) # get today\n",
    "path='/mnt/ECMWF/'\n"
   ]
  },
  {
   "cell_type": "code",
   "execution_count": null,
   "metadata": {
    "collapsed": false
   },
   "outputs": [],
   "source": [
    "path0=path+'grib/'+str(date.year)+'/'+str(date.month).zfill(2)+'/'+str(date.day-1).zfill(2) # we use yesterday for accessing all products\n",
    "lst=os.listdir(path0)\n",
    "lst"
   ]
  },
  {
   "cell_type": "code",
   "execution_count": null,
   "metadata": {
    "collapsed": false
   },
   "outputs": [],
   "source": [
    "xf=[x for x in lst if 'tropical' in x]\n",
    "ix=lst.index(xf[2])\n"
   ]
  },
  {
   "cell_type": "code",
   "execution_count": null,
   "metadata": {
    "collapsed": false
   },
   "outputs": [],
   "source": [
    "xf[2]"
   ]
  },
  {
   "cell_type": "code",
   "execution_count": null,
   "metadata": {
    "collapsed": false
   },
   "outputs": [],
   "source": [
    "dl=pygrib.open(path0+'/'+lst[ix])"
   ]
  },
  {
   "cell_type": "code",
   "execution_count": null,
   "metadata": {
    "collapsed": false
   },
   "outputs": [],
   "source": [
    "dl.messages # number of arrays included\n"
   ]
  },
  {
   "cell_type": "code",
   "execution_count": null,
   "metadata": {
    "collapsed": false
   },
   "outputs": [],
   "source": [
    "for g in dl:\n",
    "    print g"
   ]
  },
  {
   "cell_type": "code",
   "execution_count": null,
   "metadata": {
    "collapsed": false
   },
   "outputs": [],
   "source": [
    "path1='/mnt/pandora/ECMWF_OPER_TC_FILES/'\n",
    "filename=glob.glob(path1+'*10U*')\n",
    "u10=pygrib.open(filename[0])"
   ]
  },
  {
   "cell_type": "code",
   "execution_count": null,
   "metadata": {
    "collapsed": false
   },
   "outputs": [],
   "source": [
    "for ug in u10:\n",
    "    print ug"
   ]
  },
  {
   "cell_type": "code",
   "execution_count": null,
   "metadata": {
    "collapsed": false
   },
   "outputs": [],
   "source": [
    "for i in range(73):\n",
    "    ui=u10[i+1].data()\n",
    "    ue=dl[3*i+2].data()\n",
    "    print np.array_equal(ui,ue)"
   ]
  },
  {
   "cell_type": "code",
   "execution_count": null,
   "metadata": {
    "collapsed": false
   },
   "outputs": [],
   "source": [
    "filename=glob.glob(path1+'*10V*')\n",
    "v10=pygrib.open(filename[0])\n",
    "for i in range(73):\n",
    "    vi=v10[i+1].data()\n",
    "    ve=dl[3*i+3].data()\n",
    "    print np.array_equal(vi,ve)"
   ]
  },
  {
   "cell_type": "code",
   "execution_count": null,
   "metadata": {
    "collapsed": false
   },
   "outputs": [],
   "source": [
    "filename=glob.glob(path1+'*MSL*')\n",
    "msl=pygrib.open(filename[0])\n",
    "for i in range(73):\n",
    "    pi=msl[i+1].data()\n",
    "    pe=dl[3*i+1].data()\n",
    "    print np.array_equal(pi,pe)"
   ]
  },
  {
   "cell_type": "code",
   "execution_count": null,
   "metadata": {
    "collapsed": false
   },
   "outputs": [],
   "source": []
  }
 ],
 "metadata": {
  "kernelspec": {
   "display_name": "Python 2",
   "language": "python",
   "name": "python2"
  },
  "language_info": {
   "codemirror_mode": {
    "name": "ipython",
    "version": 2
   },
   "file_extension": ".py",
   "mimetype": "text/x-python",
   "name": "python",
   "nbconvert_exporter": "python",
   "pygments_lexer": "ipython2",
   "version": "2.7.12"
  }
 },
 "nbformat": 4,
 "nbformat_minor": 0
}
