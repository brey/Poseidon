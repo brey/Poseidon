{
 "cells": [
  {
   "cell_type": "code",
   "execution_count": 1,
   "metadata": {
    "collapsed": false
   },
   "outputs": [
    {
     "ename": "ImportError",
     "evalue": "No module named 'gr'",
     "output_type": "error",
     "traceback": [
      "\u001b[1;31m---------------------------------------------------------------------------\u001b[0m",
      "\u001b[1;31mImportError\u001b[0m                               Traceback (most recent call last)",
      "\u001b[1;32m<ipython-input-1-f0d5cbae13c3>\u001b[0m in \u001b[0;36m<module>\u001b[1;34m()\u001b[0m\n\u001b[0;32m      1\u001b[0m \u001b[1;32mfrom\u001b[0m \u001b[0mnumpy\u001b[0m\u001b[1;33m.\u001b[0m\u001b[0mrandom\u001b[0m \u001b[1;32mimport\u001b[0m \u001b[0muniform\u001b[0m\u001b[1;33m,\u001b[0m \u001b[0mseed\u001b[0m\u001b[1;33m\u001b[0m\u001b[0m\n\u001b[0;32m      2\u001b[0m \u001b[1;32mimport\u001b[0m \u001b[0mnumpy\u001b[0m \u001b[1;32mas\u001b[0m \u001b[0mnp\u001b[0m\u001b[1;33m\u001b[0m\u001b[0m\n\u001b[1;32m----> 3\u001b[1;33m \u001b[1;32mimport\u001b[0m \u001b[0mgr\u001b[0m\u001b[1;33m\u001b[0m\u001b[0m\n\u001b[0m\u001b[0;32m      4\u001b[0m \u001b[1;33m\u001b[0m\u001b[0m\n\u001b[0;32m      5\u001b[0m \u001b[0mseed\u001b[0m\u001b[1;33m(\u001b[0m\u001b[1;36m0\u001b[0m\u001b[1;33m)\u001b[0m\u001b[1;33m\u001b[0m\u001b[0m\n",
      "\u001b[1;31mImportError\u001b[0m: No module named 'gr'"
     ]
    }
   ],
   "source": [
    "from numpy.random import uniform, seed\n",
    "import numpy as np\n",
    "import gr\n",
    "\n",
    "seed(0)\n",
    "xd = uniform(-2, 2, 100)\n",
    "yd = uniform(-2, 2, 100)\n",
    "zd = xd * np.exp(-xd**2 - yd**2)\n",
    "\n",
    "gr.setviewport(0.1, 0.95, 0.1, 0.95)\n",
    "gr.setwindow(-2, 2, -2, 2)\n",
    "gr.setspace(-0.5, 0.5, 0, 90)\n",
    "gr.setmarkersize(1)\n",
    "gr.setmarkertype(gr.MARKERTYPE_SOLID_CIRCLE)\n",
    "gr.setcharheight(0.024)\n",
    "gr.settextalign(2, 0)\n",
    "gr.settextfontprec(3, 0)\n",
    "\n",
    "x, y, z = gr.gridit(xd, yd, zd, 200, 200)\n",
    "h = np.linspace(-0.5, 0.5, 20)\n",
    "gr.surface(x, y, z, 5)\n",
    "gr.contour(x, y, h, z, 0)\n",
    "gr.polymarker(xd, yd)\n",
    "gr.axes(0.25, 0.25, -2, -2, 2, 2, 0.01)\n",
    "\n",
    "gr.updatews()\n"
   ]
  },
  {
   "cell_type": "code",
   "execution_count": 1,
   "metadata": {
    "collapsed": true
   },
   "outputs": [],
   "source": [
    "from os import environ\n",
    "environ['MPLBACKEND'] = 'module://gr.matplotlib.backend_gr'\n"
   ]
  },
  {
   "cell_type": "code",
   "execution_count": 2,
   "metadata": {
    "collapsed": true
   },
   "outputs": [],
   "source": [
    "from pylab import plot, draw, pause\n",
    "from numpy import arange, sin, pi"
   ]
  },
  {
   "cell_type": "code",
   "execution_count": 3,
   "metadata": {
    "collapsed": true
   },
   "outputs": [],
   "source": [
    "import gr\n",
    "gr.inline('mov')"
   ]
  },
  {
   "cell_type": "code",
   "execution_count": 4,
   "metadata": {
    "collapsed": true
   },
   "outputs": [],
   "source": [
    "x = arange(0, 2 * pi, 0.01)"
   ]
  },
  {
   "cell_type": "code",
   "execution_count": 5,
   "metadata": {
    "collapsed": true
   },
   "outputs": [],
   "source": [
    "line, = plot(x, sin(x))\n",
    "for i in arange(1, 200):\n",
    "    line.set_ydata(sin(x + i / 10.0))\n",
    "    draw()\n",
    "    pause(0.0001)\n"
   ]
  },
  {
   "cell_type": "code",
   "execution_count": null,
   "metadata": {
    "collapsed": true
   },
   "outputs": [],
   "source": [
    "gr.show()"
   ]
  },
  {
   "cell_type": "code",
   "execution_count": 2,
   "metadata": {
    "collapsed": false
   },
   "outputs": [
    {
     "ename": "GR3_Exception",
     "evalue": "GR3_ERROR_INIT_FAILED",
     "output_type": "error",
     "traceback": [
      "\u001b[1;31m---------------------------------------------------------------------------\u001b[0m",
      "\u001b[1;31mGR3_Exception\u001b[0m                             Traceback (most recent call last)",
      "\u001b[1;32m<ipython-input-2-d625897428c4>\u001b[0m in \u001b[0;36m<module>\u001b[1;34m()\u001b[0m\n\u001b[0;32m      1\u001b[0m \u001b[1;32mimport\u001b[0m \u001b[0mgr3\u001b[0m\u001b[1;33m\u001b[0m\u001b[0m\n\u001b[1;32m----> 2\u001b[1;33m \u001b[0mgr3\u001b[0m\u001b[1;33m.\u001b[0m\u001b[0minit\u001b[0m\u001b[1;33m(\u001b[0m\u001b[1;33m)\u001b[0m\u001b[1;33m\u001b[0m\u001b[0m\n\u001b[0m",
      "\u001b[1;32m/usr/lib/python2.7/dist-packages/gr3/__init__.pyc\u001b[0m in \u001b[0;36minit\u001b[1;34m(attrib_list)\u001b[0m\n\u001b[0;32m    193\u001b[0m     \u001b[0merr\u001b[0m \u001b[1;33m=\u001b[0m \u001b[0m_gr3\u001b[0m\u001b[1;33m.\u001b[0m\u001b[0mgr3_init\u001b[0m\u001b[1;33m(\u001b[0m\u001b[0m_attrib_list\u001b[0m\u001b[1;33m.\u001b[0m\u001b[0mdata\u001b[0m\u001b[1;33m)\u001b[0m\u001b[1;33m\u001b[0m\u001b[0m\n\u001b[0;32m    194\u001b[0m     \u001b[1;32mif\u001b[0m \u001b[0merr\u001b[0m\u001b[1;33m:\u001b[0m\u001b[1;33m\u001b[0m\u001b[0m\n\u001b[1;32m--> 195\u001b[1;33m         \u001b[1;32mraise\u001b[0m \u001b[0mGR3_Exception\u001b[0m\u001b[1;33m(\u001b[0m\u001b[0merr\u001b[0m\u001b[1;33m)\u001b[0m\u001b[1;33m\u001b[0m\u001b[0m\n\u001b[0m\u001b[0;32m    196\u001b[0m \u001b[1;33m\u001b[0m\u001b[0m\n\u001b[0;32m    197\u001b[0m \u001b[1;32mdef\u001b[0m \u001b[0mdrawimage\u001b[0m\u001b[1;33m(\u001b[0m\u001b[0mxmin\u001b[0m\u001b[1;33m,\u001b[0m \u001b[0mxmax\u001b[0m\u001b[1;33m,\u001b[0m \u001b[0mymin\u001b[0m\u001b[1;33m,\u001b[0m \u001b[0mymax\u001b[0m\u001b[1;33m,\u001b[0m \u001b[0mpixel_width\u001b[0m\u001b[1;33m,\u001b[0m \u001b[0mpixel_height\u001b[0m\u001b[1;33m,\u001b[0m \u001b[0mwindow\u001b[0m\u001b[1;33m)\u001b[0m\u001b[1;33m:\u001b[0m\u001b[1;33m\u001b[0m\u001b[0m\n",
      "\u001b[1;31mGR3_Exception\u001b[0m: GR3_ERROR_INIT_FAILED"
     ]
    }
   ],
   "source": [
    "import gr3\n",
    "gr3.init()"
   ]
  },
  {
   "cell_type": "code",
   "execution_count": 3,
   "metadata": {
    "collapsed": false
   },
   "outputs": [
    {
     "ename": "GR3_Exception",
     "evalue": "GR3_ERROR_INIT_FAILED",
     "output_type": "error",
     "traceback": [
      "\u001b[1;31m---------------------------------------------------------------------------\u001b[0m",
      "\u001b[1;31mGR3_Exception\u001b[0m                             Traceback (most recent call last)",
      "\u001b[1;32m<ipython-input-3-b85e1e2d88ce>\u001b[0m in \u001b[0;36m<module>\u001b[1;34m()\u001b[0m\n\u001b[0;32m     65\u001b[0m \u001b[0mstate\u001b[0m \u001b[1;33m=\u001b[0m \u001b[0marray\u001b[0m\u001b[1;33m(\u001b[0m\u001b[1;33m[\u001b[0m\u001b[0mt1\u001b[0m\u001b[1;33m,\u001b[0m \u001b[0mw1\u001b[0m\u001b[1;33m,\u001b[0m \u001b[0mt2\u001b[0m\u001b[1;33m,\u001b[0m \u001b[0mw2\u001b[0m\u001b[1;33m]\u001b[0m\u001b[1;33m)\u001b[0m \u001b[1;33m*\u001b[0m \u001b[0mpi\u001b[0m \u001b[1;33m/\u001b[0m \u001b[1;36m180\u001b[0m\u001b[1;33m\u001b[0m\u001b[0m\n\u001b[0;32m     66\u001b[0m \u001b[1;33m\u001b[0m\u001b[0m\n\u001b[1;32m---> 67\u001b[1;33m \u001b[0mgr3\u001b[0m\u001b[1;33m.\u001b[0m\u001b[0minit\u001b[0m\u001b[1;33m(\u001b[0m\u001b[1;33m)\u001b[0m\u001b[1;33m\u001b[0m\u001b[0m\n\u001b[0m\u001b[0;32m     68\u001b[0m \u001b[0mgr3\u001b[0m\u001b[1;33m.\u001b[0m\u001b[0msetcameraprojectionparameters\u001b[0m\u001b[1;33m(\u001b[0m\u001b[1;36m45\u001b[0m\u001b[1;33m,\u001b[0m \u001b[1;36m1\u001b[0m\u001b[1;33m,\u001b[0m \u001b[1;36m100\u001b[0m\u001b[1;33m)\u001b[0m\u001b[1;33m\u001b[0m\u001b[0m\n\u001b[0;32m     69\u001b[0m \u001b[0mgr3\u001b[0m\u001b[1;33m.\u001b[0m\u001b[0mcameralookat\u001b[0m\u001b[1;33m(\u001b[0m\u001b[1;36m6\u001b[0m\u001b[1;33m,\u001b[0m \u001b[1;33m-\u001b[0m\u001b[1;36m2\u001b[0m\u001b[1;33m,\u001b[0m \u001b[1;36m4\u001b[0m\u001b[1;33m,\u001b[0m \u001b[1;36m0\u001b[0m\u001b[1;33m,\u001b[0m \u001b[1;33m-\u001b[0m\u001b[1;36m2\u001b[0m\u001b[1;33m,\u001b[0m \u001b[1;36m0\u001b[0m\u001b[1;33m,\u001b[0m \u001b[1;36m0\u001b[0m\u001b[1;33m,\u001b[0m \u001b[1;36m1\u001b[0m\u001b[1;33m,\u001b[0m \u001b[1;36m0\u001b[0m\u001b[1;33m)\u001b[0m\u001b[1;33m\u001b[0m\u001b[0m\n",
      "\u001b[1;32m/usr/lib/python2.7/dist-packages/gr3/__init__.pyc\u001b[0m in \u001b[0;36minit\u001b[1;34m(attrib_list)\u001b[0m\n\u001b[0;32m    193\u001b[0m     \u001b[0merr\u001b[0m \u001b[1;33m=\u001b[0m \u001b[0m_gr3\u001b[0m\u001b[1;33m.\u001b[0m\u001b[0mgr3_init\u001b[0m\u001b[1;33m(\u001b[0m\u001b[0m_attrib_list\u001b[0m\u001b[1;33m.\u001b[0m\u001b[0mdata\u001b[0m\u001b[1;33m)\u001b[0m\u001b[1;33m\u001b[0m\u001b[0m\n\u001b[0;32m    194\u001b[0m     \u001b[1;32mif\u001b[0m \u001b[0merr\u001b[0m\u001b[1;33m:\u001b[0m\u001b[1;33m\u001b[0m\u001b[0m\n\u001b[1;32m--> 195\u001b[1;33m         \u001b[1;32mraise\u001b[0m \u001b[0mGR3_Exception\u001b[0m\u001b[1;33m(\u001b[0m\u001b[0merr\u001b[0m\u001b[1;33m)\u001b[0m\u001b[1;33m\u001b[0m\u001b[0m\n\u001b[0m\u001b[0;32m    196\u001b[0m \u001b[1;33m\u001b[0m\u001b[0m\n\u001b[0;32m    197\u001b[0m \u001b[1;32mdef\u001b[0m \u001b[0mdrawimage\u001b[0m\u001b[1;33m(\u001b[0m\u001b[0mxmin\u001b[0m\u001b[1;33m,\u001b[0m \u001b[0mxmax\u001b[0m\u001b[1;33m,\u001b[0m \u001b[0mymin\u001b[0m\u001b[1;33m,\u001b[0m \u001b[0mymax\u001b[0m\u001b[1;33m,\u001b[0m \u001b[0mpixel_width\u001b[0m\u001b[1;33m,\u001b[0m \u001b[0mpixel_height\u001b[0m\u001b[1;33m,\u001b[0m \u001b[0mwindow\u001b[0m\u001b[1;33m)\u001b[0m\u001b[1;33m:\u001b[0m\u001b[1;33m\u001b[0m\u001b[0m\n",
      "\u001b[1;31mGR3_Exception\u001b[0m: GR3_ERROR_INIT_FAILED"
     ]
    }
   ],
   "source": [
    "from numpy import sin, cos, pi, array\n",
    "import time\n",
    "import gr\n",
    "import gr3\n",
    "\n",
    "g = 9.8        # gravitational constant\n",
    "\n",
    "def rk4(x, h, y, f):\n",
    "    k1 = h * f(x, y)\n",
    "    k2 = h * f(x + 0.5 * h, y + 0.5 * k1)\n",
    "    k3 = h * f(x + 0.5 * h, y + 0.5 * k2)\n",
    "    k4 = h * f(x + h, y + k3)\n",
    "    return x + h, y + (k1 + 2 * (k2 + k3) + k4) / 6.0\n",
    "\n",
    "def pendulum_derivs(t, state):\n",
    "    # The following derivation is from:\n",
    "    # http://scienceworld.wolfram.com/physics/DoublePendulum.html\n",
    "    t1, w1, t2, w2 = state\n",
    "    a = (m1 + m2) * l1\n",
    "    b = m2 * l2 * cos(t1 - t2)\n",
    "    c = m2 * l1 * cos(t1 - t2)\n",
    "    d = m2 * l2\n",
    "    e = -m2 * l2 * w2**2 * sin(t1 - t2) - g * (m1 + m2) * sin(t1)\n",
    "    f =  m2 * l1 * w1**2 * sin(t1 - t2) - m2 * g * sin(t2)\n",
    "    return array([w1, (e*d-b*f) / (a*d-c*b), w2, (a*f-c*e) / (a*d-c*b)])\n",
    "\n",
    "def double_pendulum(theta, length, mass):\n",
    "    gr.clearws()\n",
    "    gr.setviewport(0, 1, 0, 1)\n",
    "\n",
    "    direction = []\n",
    "    position = [(0, 0, 0)]\n",
    "    for i in range(2):\n",
    "        direction.append((sin(theta[i]) * length[i] * 2,\n",
    "                          -cos(theta[i]) * length[i] * 2, 0))\n",
    "        position.append([position[-1][j] + direction[-1][j] for j in range(3)])\n",
    "\n",
    "    gr3.clear()\n",
    "    # draw pivot point\n",
    "    gr3.drawcylindermesh(1, (0, 0.2, 0), (0, 1, 0), (0.4, 0.4, 0.4), 0.4, 0.05)\n",
    "    gr3.drawcylindermesh(1, (0, 0.2, 0), (0, -1, 0), (0.4, 0.4, 0.4), 0.05, 0.2)\n",
    "    gr3.drawspheremesh(1, (0,0,0), (0.4, 0.4, 0.4), 0.05)\n",
    "    # draw rods\n",
    "    gr3.drawcylindermesh(2, position, direction,\n",
    "                         (0.6, 0.6, 0.6) * 2, (0.05, 0.05),\n",
    "                         [l * 2 for l in length])\n",
    "    # draw bobs\n",
    "    gr3.drawspheremesh(2, position[1:], (1, 1, 1) * 2, [m * 0.2 for m in mass])\n",
    "\n",
    "    gr3.drawimage(0, 1, 0, 1, 500, 500, gr3.GR3_Drawable.GR3_DRAWABLE_GKS)\n",
    "    gr.updatews()\n",
    "    return\n",
    "\n",
    "l1 = 1.2       # length of rods\n",
    "l2 = 1.0\n",
    "m1 = 1.0       # weights of bobs\n",
    "m2 = 1.5\n",
    "t1 = 100.0     # inintial angles\n",
    "t2 = -20.0\n",
    "\n",
    "w1 = 0.0\n",
    "w2 = 0.0\n",
    "t = 0\n",
    "dt = 0.04\n",
    "state = array([t1, w1, t2, w2]) * pi / 180\n",
    "\n",
    "gr3.init()\n",
    "gr3.setcameraprojectionparameters(45, 1, 100)\n",
    "gr3.cameralookat(6, -2, 4, 0, -2, 0, 0, 1, 0)\n",
    "gr3.setbackgroundcolor(1, 1, 1, 1)\n",
    "gr3.setlightdirection(1, 1, 10)\n",
    "\n",
    "now = time.clock()\n",
    "\n",
    "while t < 30:\n",
    "    start = now\n",
    "\n",
    "    t, state = rk4(t, dt, state, pendulum_derivs)\n",
    "    t1, w1, t2, w2 = state\n",
    "    double_pendulum([t1, t2], [l1, l2], [m1, m2])\n",
    "\n",
    "    now = time.clock()\n",
    "    if start + dt > now:\n",
    "        time.sleep(start + dt - now)"
   ]
  },
  {
   "cell_type": "code",
   "execution_count": 1,
   "metadata": {
    "collapsed": false
   },
   "outputs": [
    {
     "ename": "NameError",
     "evalue": "name '__file__' is not defined",
     "output_type": "error",
     "traceback": [
      "\u001b[1;31m---------------------------------------------------------------------------\u001b[0m",
      "\u001b[1;31mNameError\u001b[0m                                 Traceback (most recent call last)",
      "\u001b[1;32m<ipython-input-1-adf35d5ae35d>\u001b[0m in \u001b[0;36m<module>\u001b[1;34m()\u001b[0m\n\u001b[0;32m      7\u001b[0m \u001b[0mdelay\u001b[0m\u001b[1;33m(\u001b[0m\u001b[1;36m2\u001b[0m\u001b[1;33m)\u001b[0m\u001b[1;33m\u001b[0m\u001b[0m\n\u001b[0;32m      8\u001b[0m \u001b[1;33m\u001b[0m\u001b[0m\n\u001b[1;32m----> 9\u001b[1;33m counts = np.loadtxt(os.path.join(os.path.dirname(os.path.realpath(__file__)),\n\u001b[0m\u001b[0;32m     10\u001b[0m                                  \"kws2.dat\"),\n\u001b[0;32m     11\u001b[0m                     skiprows=70).reshape(128, 128)\n",
      "\u001b[1;31mNameError\u001b[0m: name '__file__' is not defined"
     ]
    }
   ],
   "source": [
    "import os\n",
    "from gr.pygr import *\n",
    "import numpy as np\n",
    "\n",
    "os.environ[\"GR_DISPLAY\"] = \"localhost:\"\n",
    "os.system(\"glgr\")\n",
    "delay(2)\n",
    "\n",
    "counts = np.loadtxt(os.path.join(os.path.dirname(os.path.realpath(__file__)),\n",
    "                                 \"kws2.dat\"),\n",
    "                    skiprows=70).reshape(128, 128)\n",
    "surface(counts,\n",
    "        rotation=45, tilt=30,\n",
    "        colormap=4,\n",
    "        xlabel='X',\n",
    "        ylabel='Y',\n",
    "        zlabel=\"Counts\",\n",
    "        accelerate=False)"
   ]
  },
  {
   "cell_type": "code",
   "execution_count": 1,
   "metadata": {
    "collapsed": false
   },
   "outputs": [
    {
     "ename": "NameError",
     "evalue": "global name '__file__' is not defined",
     "output_type": "error",
     "traceback": [
      "\u001b[1;31m---------------------------------------------------------------------------\u001b[0m",
      "\u001b[1;31mNameError\u001b[0m                                 Traceback (most recent call last)",
      "\u001b[1;32m<ipython-input-1-af659f9090a6>\u001b[0m in \u001b[0;36mresizeEvent\u001b[1;34m(self, event)\u001b[0m\n\u001b[0;32m     76\u001b[0m           \u001b[0mself\u001b[0m\u001b[1;33m.\u001b[0m\u001b[0msizex\u001b[0m \u001b[1;33m=\u001b[0m \u001b[0mfloat\u001b[0m\u001b[1;33m(\u001b[0m\u001b[0mself\u001b[0m\u001b[1;33m.\u001b[0m\u001b[0mw\u001b[0m\u001b[1;33m)\u001b[0m\u001b[1;33m/\u001b[0m\u001b[0mself\u001b[0m\u001b[1;33m.\u001b[0m\u001b[0mh\u001b[0m\u001b[1;33m\u001b[0m\u001b[0m\n\u001b[0;32m     77\u001b[0m           \u001b[0mself\u001b[0m\u001b[1;33m.\u001b[0m\u001b[0msizey\u001b[0m \u001b[1;33m=\u001b[0m \u001b[1;36m1\u001b[0m\u001b[1;33m\u001b[0m\u001b[0m\n\u001b[1;32m---> 78\u001b[1;33m         \u001b[0mself\u001b[0m\u001b[1;33m.\u001b[0m\u001b[0mdraw\u001b[0m\u001b[1;33m(\u001b[0m\u001b[1;33m)\u001b[0m\u001b[1;33m\u001b[0m\u001b[0m\n\u001b[0m\u001b[0;32m     79\u001b[0m \u001b[1;33m\u001b[0m\u001b[0m\n\u001b[0;32m     80\u001b[0m     \u001b[1;32mdef\u001b[0m \u001b[0mpaintEvent\u001b[0m\u001b[1;33m(\u001b[0m\u001b[0mself\u001b[0m\u001b[1;33m,\u001b[0m \u001b[0mev\u001b[0m\u001b[1;33m)\u001b[0m \u001b[1;33m:\u001b[0m\u001b[1;33m\u001b[0m\u001b[0m\n",
      "\u001b[1;32m<ipython-input-1-af659f9090a6>\u001b[0m in \u001b[0;36mdraw\u001b[1;34m(self)\u001b[0m\n\u001b[0;32m     47\u001b[0m         \u001b[0mx\u001b[0m \u001b[1;33m=\u001b[0m \u001b[0mrange\u001b[0m\u001b[1;33m(\u001b[0m\u001b[1;36m0\u001b[0m\u001b[1;33m,\u001b[0m \u001b[1;36m128\u001b[0m\u001b[1;33m)\u001b[0m\u001b[1;33m\u001b[0m\u001b[0m\n\u001b[0;32m     48\u001b[0m         \u001b[0my\u001b[0m \u001b[1;33m=\u001b[0m \u001b[0mrange\u001b[0m\u001b[1;33m(\u001b[0m\u001b[1;36m0\u001b[0m\u001b[1;33m,\u001b[0m \u001b[1;36m128\u001b[0m\u001b[1;33m)\u001b[0m\u001b[1;33m\u001b[0m\u001b[0m\n\u001b[1;32m---> 49\u001b[1;33m         z = readfile(os.path.join(os.path.dirname(os.path.realpath(__file__)),\n\u001b[0m\u001b[0;32m     50\u001b[0m                                   \"kws.dat\"), separator='$')\n\u001b[0;32m     51\u001b[0m         \u001b[0mzrange\u001b[0m \u001b[1;33m=\u001b[0m \u001b[0mmax\u001b[0m\u001b[1;33m(\u001b[0m\u001b[0mz\u001b[0m\u001b[1;33m)\u001b[0m \u001b[1;33m-\u001b[0m \u001b[0mmin\u001b[0m\u001b[1;33m(\u001b[0m\u001b[0mz\u001b[0m\u001b[1;33m)\u001b[0m\u001b[1;33m\u001b[0m\u001b[0m\n",
      "\u001b[1;31mNameError\u001b[0m: global name '__file__' is not defined"
     ]
    },
    {
     "ename": "NameError",
     "evalue": "global name '__file__' is not defined",
     "output_type": "error",
     "traceback": [
      "\u001b[1;31m---------------------------------------------------------------------------\u001b[0m",
      "\u001b[1;31mNameError\u001b[0m                                 Traceback (most recent call last)",
      "\u001b[1;32m<ipython-input-1-af659f9090a6>\u001b[0m in \u001b[0;36mdraw\u001b[1;34m(self)\u001b[0m\n\u001b[0;32m     47\u001b[0m         \u001b[0mx\u001b[0m \u001b[1;33m=\u001b[0m \u001b[0mrange\u001b[0m\u001b[1;33m(\u001b[0m\u001b[1;36m0\u001b[0m\u001b[1;33m,\u001b[0m \u001b[1;36m128\u001b[0m\u001b[1;33m)\u001b[0m\u001b[1;33m\u001b[0m\u001b[0m\n\u001b[0;32m     48\u001b[0m         \u001b[0my\u001b[0m \u001b[1;33m=\u001b[0m \u001b[0mrange\u001b[0m\u001b[1;33m(\u001b[0m\u001b[1;36m0\u001b[0m\u001b[1;33m,\u001b[0m \u001b[1;36m128\u001b[0m\u001b[1;33m)\u001b[0m\u001b[1;33m\u001b[0m\u001b[0m\n\u001b[1;32m---> 49\u001b[1;33m         z = readfile(os.path.join(os.path.dirname(os.path.realpath(__file__)),\n\u001b[0m\u001b[0;32m     50\u001b[0m                                   \"kws.dat\"), separator='$')\n\u001b[0;32m     51\u001b[0m         \u001b[0mzrange\u001b[0m \u001b[1;33m=\u001b[0m \u001b[0mmax\u001b[0m\u001b[1;33m(\u001b[0m\u001b[0mz\u001b[0m\u001b[1;33m)\u001b[0m \u001b[1;33m-\u001b[0m \u001b[0mmin\u001b[0m\u001b[1;33m(\u001b[0m\u001b[0mz\u001b[0m\u001b[1;33m)\u001b[0m\u001b[1;33m\u001b[0m\u001b[0m\n",
      "\u001b[1;31mNameError\u001b[0m: global name '__file__' is not defined"
     ]
    },
    {
     "ename": "SystemExit",
     "evalue": "0",
     "output_type": "error",
     "traceback": [
      "An exception has occurred, use %tb to see the full traceback.\n",
      "\u001b[1;31mSystemExit\u001b[0m\u001b[1;31m:\u001b[0m 0\n"
     ]
    },
    {
     "name": "stderr",
     "output_type": "stream",
     "text": [
      "To exit: use 'exit', 'quit', or Ctrl-D.\n"
     ]
    }
   ],
   "source": [
    "import sys\n",
    "import os\n",
    "from PyQt4 import QtCore, QtGui\n",
    "import sip\n",
    "from gr.pygr import *\n",
    "\n",
    "class GrWidget(QtGui.QWidget) :\n",
    "    def __init__(self, *args) :\n",
    "        QtGui.QWidget.__init__(self)\n",
    "\n",
    "        self.setupUi(self)\n",
    "\n",
    "        os.environ[\"GKS_WSTYPE\"] = \"381\"\n",
    "        os.environ[\"GKS_DOUBLE_BUF\"] = \"True\"\n",
    "\n",
    "        self.connect(self.DrawButton, QtCore.SIGNAL(\"clicked()\"), self.draw)\n",
    "        self.connect(self.QuitButton, QtCore.SIGNAL(\"clicked()\"), self.quit)\n",
    "        self.w = 500\n",
    "        self.h = 500\n",
    "        self.sizex = 1\n",
    "        self.sizey = 1\n",
    "\n",
    "    def setupUi(self, Form) :\n",
    "\n",
    "        Form.setWindowTitle(\"GrWidget\")\n",
    "        Form.resize(QtCore.QSize(500, 500).expandedTo(Form.minimumSizeHint()))\n",
    "\n",
    "        self.DrawButton = QtGui.QPushButton(Form)\n",
    "        self.DrawButton.setText(\"Draw\")\n",
    "        self.DrawButton.setGeometry(QtCore.QRect(290, 5, 100, 25))\n",
    "        self.DrawButton.setObjectName(\"draw\")\n",
    "\n",
    "        self.QuitButton = QtGui.QPushButton(Form)\n",
    "        self.QuitButton.setText(\"Quit\")\n",
    "        self.QuitButton.setGeometry(QtCore.QRect(395, 5, 100, 25))\n",
    "        self.QuitButton.setObjectName(\"quit\")\n",
    "\n",
    "        QtCore.QMetaObject.connectSlotsByName(Form)\n",
    "\n",
    "    def quit(self) :\n",
    "        gr.emergencyclosegks()\n",
    "        self.close()\n",
    "\n",
    "    def draw(self) :\n",
    "        self.setStyleSheet(\"background-color:white;\");\n",
    "\n",
    "        x = range(0, 128)\n",
    "        y = range(0, 128)\n",
    "        z = readfile(os.path.join(os.path.dirname(os.path.realpath(__file__)),\n",
    "                                  \"kws.dat\"), separator='$')\n",
    "        zrange = max(z) - min(z)\n",
    "        h = [min(z) + i * 0.025 * zrange for i in range(0, 40)]\n",
    "\n",
    "        gr.clearws()\n",
    "        mwidth  = self.w * 2.54 / self.logicalDpiX() / 100\n",
    "        mheight = self.h * 2.54 / self.logicalDpiY() / 100\n",
    "        gr.setwsviewport(0, mwidth, 0, mheight)\n",
    "        gr.setwswindow(0, self.sizex, 0, self.sizey)\n",
    "        gr.setviewport(0.075 * self.sizex, 0.95 * self.sizex, 0.075 * self.sizey, 0.95 * self.sizey)\n",
    "        gr.setwindow(1, 128, 1, 128)\n",
    "        gr.setspace(min(z), max(z), 0, 90)\n",
    "        gr.setcharheight(0.018)\n",
    "        gr.setcolormap(-3)\n",
    "        gr.surface(x, y, z, 5)\n",
    "        gr.contour(x, y, h, z, -1)\n",
    "        gr.axes(5, 5, 1, 1, 2, 2, 0.0075)\n",
    "        self.update()\n",
    "\n",
    "    def resizeEvent(self, event):\n",
    "        self.w = event.size().width()\n",
    "        self.h = event.size().height()\n",
    "        if self.w > self.h:\n",
    "          self.sizex = 1\n",
    "          self.sizey = float(self.h)/self.w\n",
    "        else:\n",
    "          self.sizex = float(self.w)/self.h\n",
    "          self.sizey = 1\n",
    "        self.draw()\n",
    "\n",
    "    def paintEvent(self, ev) :\n",
    "        self.painter = QtGui.QPainter()\n",
    "        self.painter.begin(self)\n",
    "        self.painter.drawText(15, 15, \"Contour Example using PyQt4 ...\")\n",
    "        os.environ['GKSconid'] = \"%x!%x\" % (sip.unwrapinstance(self), sip.unwrapinstance(self.painter))\n",
    "        gr.updatews()\n",
    "        self.painter.end()\n",
    "\n",
    "app = QtGui.QApplication(sys.argv)\n",
    "if not sys.platform == \"linux2\" :\n",
    "    app.setStyle('Windows')\n",
    "\n",
    "w = GrWidget()\n",
    "w.show()\n",
    "\n",
    "sys.exit(app.exec_())"
   ]
  },
  {
   "cell_type": "code",
   "execution_count": 1,
   "metadata": {
    "collapsed": false
   },
   "outputs": [
    {
     "ename": "GR3_Exception",
     "evalue": "GR3_ERROR_INIT_FAILED",
     "output_type": "error",
     "traceback": [
      "\u001b[1;31m---------------------------------------------------------------------------\u001b[0m",
      "\u001b[1;31mGR3_Exception\u001b[0m                             Traceback (most recent call last)",
      "\u001b[1;32m<ipython-input-1-7cdba04ef9a2>\u001b[0m in \u001b[0;36m<module>\u001b[1;34m()\u001b[0m\n\u001b[0;32m     77\u001b[0m \u001b[0mstate\u001b[0m \u001b[1;33m=\u001b[0m \u001b[0marray\u001b[0m\u001b[1;33m(\u001b[0m\u001b[1;33m[\u001b[0m\u001b[0mtheta\u001b[0m \u001b[1;33m*\u001b[0m \u001b[0mpi\u001b[0m \u001b[1;33m/\u001b[0m \u001b[1;36m180\u001b[0m\u001b[1;33m,\u001b[0m \u001b[1;36m0\u001b[0m\u001b[1;33m]\u001b[0m\u001b[1;33m)\u001b[0m\u001b[1;33m\u001b[0m\u001b[0m\n\u001b[0;32m     78\u001b[0m \u001b[1;33m\u001b[0m\u001b[0m\n\u001b[1;32m---> 79\u001b[1;33m \u001b[0mgr3\u001b[0m\u001b[1;33m.\u001b[0m\u001b[0minit\u001b[0m\u001b[1;33m(\u001b[0m\u001b[1;33m)\u001b[0m\u001b[1;33m\u001b[0m\u001b[0m\n\u001b[0m\u001b[0;32m     80\u001b[0m \u001b[0mgr3\u001b[0m\u001b[1;33m.\u001b[0m\u001b[0msetcameraprojectionparameters\u001b[0m\u001b[1;33m(\u001b[0m\u001b[1;36m45\u001b[0m\u001b[1;33m,\u001b[0m \u001b[1;36m1\u001b[0m\u001b[1;33m,\u001b[0m \u001b[1;36m100\u001b[0m\u001b[1;33m)\u001b[0m\u001b[1;33m\u001b[0m\u001b[0m\n\u001b[0;32m     81\u001b[0m \u001b[0mgr3\u001b[0m\u001b[1;33m.\u001b[0m\u001b[0mcameralookat\u001b[0m\u001b[1;33m(\u001b[0m\u001b[1;36m0\u001b[0m\u001b[1;33m,\u001b[0m \u001b[1;33m-\u001b[0m\u001b[1;36m2\u001b[0m\u001b[1;33m,\u001b[0m \u001b[1;36m6\u001b[0m\u001b[1;33m,\u001b[0m \u001b[1;36m0\u001b[0m\u001b[1;33m,\u001b[0m \u001b[1;33m-\u001b[0m\u001b[1;36m2\u001b[0m\u001b[1;33m,\u001b[0m \u001b[1;36m0\u001b[0m\u001b[1;33m,\u001b[0m \u001b[1;36m0\u001b[0m\u001b[1;33m,\u001b[0m \u001b[1;36m1\u001b[0m\u001b[1;33m,\u001b[0m \u001b[1;36m0\u001b[0m\u001b[1;33m)\u001b[0m\u001b[1;33m\u001b[0m\u001b[0m\n",
      "\u001b[1;32m/usr/lib/python2.7/dist-packages/gr3/__init__.pyc\u001b[0m in \u001b[0;36minit\u001b[1;34m(attrib_list)\u001b[0m\n\u001b[0;32m    193\u001b[0m     \u001b[0merr\u001b[0m \u001b[1;33m=\u001b[0m \u001b[0m_gr3\u001b[0m\u001b[1;33m.\u001b[0m\u001b[0mgr3_init\u001b[0m\u001b[1;33m(\u001b[0m\u001b[0m_attrib_list\u001b[0m\u001b[1;33m.\u001b[0m\u001b[0mdata\u001b[0m\u001b[1;33m)\u001b[0m\u001b[1;33m\u001b[0m\u001b[0m\n\u001b[0;32m    194\u001b[0m     \u001b[1;32mif\u001b[0m \u001b[0merr\u001b[0m\u001b[1;33m:\u001b[0m\u001b[1;33m\u001b[0m\u001b[0m\n\u001b[1;32m--> 195\u001b[1;33m         \u001b[1;32mraise\u001b[0m \u001b[0mGR3_Exception\u001b[0m\u001b[1;33m(\u001b[0m\u001b[0merr\u001b[0m\u001b[1;33m)\u001b[0m\u001b[1;33m\u001b[0m\u001b[0m\n\u001b[0m\u001b[0;32m    196\u001b[0m \u001b[1;33m\u001b[0m\u001b[0m\n\u001b[0;32m    197\u001b[0m \u001b[1;32mdef\u001b[0m \u001b[0mdrawimage\u001b[0m\u001b[1;33m(\u001b[0m\u001b[0mxmin\u001b[0m\u001b[1;33m,\u001b[0m \u001b[0mxmax\u001b[0m\u001b[1;33m,\u001b[0m \u001b[0mymin\u001b[0m\u001b[1;33m,\u001b[0m \u001b[0mymax\u001b[0m\u001b[1;33m,\u001b[0m \u001b[0mpixel_width\u001b[0m\u001b[1;33m,\u001b[0m \u001b[0mpixel_height\u001b[0m\u001b[1;33m,\u001b[0m \u001b[0mwindow\u001b[0m\u001b[1;33m)\u001b[0m\u001b[1;33m:\u001b[0m\u001b[1;33m\u001b[0m\u001b[0m\n",
      "\u001b[1;31mGR3_Exception\u001b[0m: GR3_ERROR_INIT_FAILED"
     ]
    }
   ],
   "source": [
    "from numpy import sin, cos, sqrt, pi, array\n",
    "import time\n",
    "import gr\n",
    "import gr3\n",
    "\n",
    "g = 9.8       # gravitational constant\n",
    "\n",
    "def rk4(x, h, y, f):\n",
    "    k1 = h * f(x, y)\n",
    "    k2 = h * f(x + 0.5 * h, y + 0.5 * k1)\n",
    "    k3 = h * f(x + 0.5 * h, y + 0.5 * k2)\n",
    "    k4 = h * f(x + h, y + k3)\n",
    "    return x + h, y + (k1 + 2 * (k2 + k3) + k4) / 6.0\n",
    "\n",
    "def damped_pendulum_deriv(t, state):\n",
    "    theta, omega = state\n",
    "    return array([omega, -gamma * omega -g / L * sin(theta)])\n",
    "\n",
    "def sign(x):\n",
    "    if x > 0:\n",
    "        return 1\n",
    "    elif x < 0:\n",
    "        return -1\n",
    "    else:\n",
    "        return 0\n",
    "\n",
    "def pendulum(t, theta, omega, acceleration):\n",
    "    gr.clearws()\n",
    "    gr.setviewport(0, 1, 0, 1)\n",
    "\n",
    "    x, y = (sin(theta) * 3.0, -cos(theta) * 3.0)\n",
    "\n",
    "    gr3.clear()\n",
    "    # draw pivot point\n",
    "    gr3.drawspheremesh(1, (0, 0, 0), (0.4, 0.4, 0.4), 0.1)\n",
    "    # draw rod\n",
    "    gr3.drawcylindermesh(1, (0, 0, 0), (x, y, 0), (0.6, 0.6, 0.6), 0.05, 3.0)\n",
    "    # draw sphere\n",
    "    gr3.drawspheremesh(1, (x, y, 0), (1, 1, 1), 0.25)\n",
    "    # show angular velocity\n",
    "    V = 0.3 * omega - sign(omega) * 0.15\n",
    "    gr3.drawcylindermesh(1, (x, y, 0), (cos(theta), sin(theta), 0), (0, 0, 1),\n",
    "                         0.05, V)\n",
    "    gr3.drawconemesh(1, (x + cos(theta) * V, y + sin(theta) * V, 0),\n",
    "                     (-y, x, 0), (0, 0, 1), 0.1, sign(omega) * 0.25)\n",
    "    # show angular acceleration\n",
    "    A = 0.3 * acceleration\n",
    "    gr3.drawcylindermesh(1, (x, y, 0), (sin(theta), cos(theta), 0), (1, 0, 0),\n",
    "                         0.05, A)\n",
    "    gr3.drawconemesh(1, (x + sin(theta) * A, y + cos(theta) * A, 0),\n",
    "                     (x, -y, 0), (1, 0, 0), 0.1, 0.25)\n",
    "    # draw GR3 objects\n",
    "    gr3.drawimage(0, 1, 0.15, 0.85, 500, 350, gr3.GR3_Drawable.GR3_DRAWABLE_GKS)\n",
    "\n",
    "    gr.settextfontprec(2, gr.TEXT_PRECISION_STRING)\n",
    "    gr.setcharheight(0.024)\n",
    "    gr.settextcolorind(1)\n",
    "    gr.textext(0.05, 0.96, 'Damped Pendulum')\n",
    "    gr.mathtex(0.05, 0.9, '\\\\omega=\\\\dot{\\\\theta}')\n",
    "    gr.mathtex(0.05, 0.83, '\\\\dot{\\\\omega}=-\\\\gamma\\\\omega-\\\\frac{g}{l}sin(\\\\theta)')\n",
    "    gr.setcharheight(0.020)\n",
    "    gr.textext(0.05, 0.20, 't:%7.2f' % t)\n",
    "    gr.textext(0.05, 0.16, '\\\\theta:%7.2f' % (theta / pi * 180))\n",
    "    gr.settextcolorind(4)\n",
    "    gr.textext(0.05, 0.12, '\\\\omega:%7.2f' % omega)\n",
    "    gr.settextcolorind(2)\n",
    "    gr.textext(0.05, 0.08, 'y_{A}:%6.2f' % acceleration)\n",
    "    gr.updatews()\n",
    "    return\n",
    "\n",
    "theta = 110.0  # initial angle\n",
    "gamma = 0.1    # damping coefficient\n",
    "L = 1          # pendulum length\n",
    "\n",
    "t = 0\n",
    "dt = 0.04\n",
    "state = array([theta * pi / 180, 0])\n",
    "\n",
    "gr3.init()\n",
    "gr3.setcameraprojectionparameters(45, 1, 100)\n",
    "gr3.cameralookat(0, -2, 6, 0, -2, 0, 0, 1, 0)\n",
    "gr3.setbackgroundcolor(1, 1, 1, 1)\n",
    "gr3.setlightdirection(1, 1, 10)\n",
    "\n",
    "now = time.clock()\n",
    "\n",
    "while t < 30:\n",
    "    start = now\n",
    "\n",
    "    t, state = rk4(t, dt, state, damped_pendulum_deriv)\n",
    "    theta, omega = state\n",
    "    acceleration = sqrt(2 * g * L * (1 - cos(theta)))\n",
    "    pendulum(t, theta, omega, acceleration)\n",
    "\n",
    "    now = time.clock()\n",
    "    if start + dt > now:\n",
    "        time.sleep(start + dt - now)\n",
    "\n",
    "gr3.terminate()"
   ]
  },
  {
   "cell_type": "code",
   "execution_count": null,
   "metadata": {
    "collapsed": true
   },
   "outputs": [],
   "source": []
  }
 ],
 "metadata": {
  "kernelspec": {
   "display_name": "Python 2",
   "language": "python",
   "name": "python2"
  },
  "language_info": {
   "codemirror_mode": {
    "name": "ipython",
    "version": 2
   },
   "file_extension": ".py",
   "mimetype": "text/x-python",
   "name": "python",
   "nbconvert_exporter": "python",
   "pygments_lexer": "ipython2",
   "version": "2.7.12"
  },
  "widgets": {
   "state": {},
   "version": "1.1.1"
  }
 },
 "nbformat": 4,
 "nbformat_minor": 0
}
