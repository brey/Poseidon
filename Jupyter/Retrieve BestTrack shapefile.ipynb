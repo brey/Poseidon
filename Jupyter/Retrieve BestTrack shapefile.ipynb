{
 "cells": [
  {
   "cell_type": "code",
   "execution_count": 29,
   "metadata": {
    "collapsed": true
   },
   "outputs": [],
   "source": [
    "import urllib2,urllib\n",
    "import folium\n",
    "import shapefile"
   ]
  },
  {
   "cell_type": "code",
   "execution_count": 8,
   "metadata": {
    "collapsed": true
   },
   "outputs": [],
   "source": [
    "path='ftp://eclipse.ncdc.noaa.gov/pub/ibtracs/v03r08/all/shp/'"
   ]
  },
  {
   "cell_type": "code",
   "execution_count": 10,
   "metadata": {
    "collapsed": false
   },
   "outputs": [],
   "source": [
    "response=urllib2.urlopen(path)\n",
    "ls=response.readlines()\n",
    "lp=[elem.strip() for elem in ls]\n"
   ]
  },
  {
   "cell_type": "code",
   "execution_count": 12,
   "metadata": {
    "collapsed": false
   },
   "outputs": [
    {
     "data": {
      "text/plain": [
       "['-rw-rw-r--   1 2829     2829     274857093 Dec 16  2015 Allstorms.ibtracs_all_lines.v03r08.dbf',\n",
       " '-rw-rw-r--   1 2829     2829          145 Dec 16  2015 Allstorms.ibtracs_all_lines.v03r08.prj',\n",
       " '-rw-rw-r--   1 2829     2829     24705924 Dec 16  2015 Allstorms.ibtracs_all_lines.v03r08.shp',\n",
       " '-rw-rw-r--   1 2829     2829      2246084 Dec 16  2015 Allstorms.ibtracs_all_lines.v03r08.shx',\n",
       " '-rw-rw-r--   1 2829     2829     11651545 Dec 16  2015 Allstorms.ibtracs_all_lines.v03r08.zip',\n",
       " '-rw-rw-r--   1 2829     2829     287226758 Dec 16  2015 Allstorms.ibtracs_all_points.v03r08.dbf',\n",
       " '-rw-rw-r--   1 2829     2829          145 Dec 16  2015 Allstorms.ibtracs_all_points.v03r08.prj',\n",
       " '-rw-rw-r--   1 2829     2829      8214824 Dec 16  2015 Allstorms.ibtracs_all_points.v03r08.shp',\n",
       " '-rw-rw-r--   1 2829     2829      2347164 Dec 16  2015 Allstorms.ibtracs_all_points.v03r08.shx',\n",
       " '-rw-rw-r--   1 2829     2829      9418210 Dec 16  2015 Allstorms.ibtracs_all_points.v03r08.zip',\n",
       " 'drwxrwxr-x   2 2829     2829        32768 Dec 16  2015 basin',\n",
       " 'drwxrwxr-x   2 2829     2829     16777216 Dec 16  2015 storm',\n",
       " 'drwxrwxr-x   2 2829     2829       131072 Dec 16  2015 year']"
      ]
     },
     "execution_count": 12,
     "metadata": {},
     "output_type": "execute_result"
    }
   ],
   "source": [
    "lp"
   ]
  },
  {
   "cell_type": "code",
   "execution_count": 13,
   "metadata": {
    "collapsed": true
   },
   "outputs": [],
   "source": [
    "fpath=lp[-2].split()[-1]"
   ]
  },
  {
   "cell_type": "code",
   "execution_count": 15,
   "metadata": {
    "collapsed": false
   },
   "outputs": [],
   "source": [
    "fresponse=urllib2.urlopen(path+fpath)\n",
    "fls=fresponse.readlines()\n",
    "flp=[elem.strip() for elem in fls]\n"
   ]
  },
  {
   "cell_type": "code",
   "execution_count": 26,
   "metadata": {
    "collapsed": false
   },
   "outputs": [
    {
     "data": {
      "text/plain": [
       "[124250,\n",
       " 124251,\n",
       " 124252,\n",
       " 124253,\n",
       " 124254,\n",
       " 124255,\n",
       " 124256,\n",
       " 124257,\n",
       " 124258,\n",
       " 124259]"
      ]
     },
     "execution_count": 26,
     "metadata": {},
     "output_type": "execute_result"
    }
   ],
   "source": [
    "w=['2012296N14283' in e for e in flp]\n",
    "\n",
    "indx=[i for i, x in enumerate(w) if x]\n",
    "\n",
    "indx"
   ]
  },
  {
   "cell_type": "code",
   "execution_count": 28,
   "metadata": {
    "collapsed": false
   },
   "outputs": [],
   "source": [
    "for i in indx:\n",
    "    fname = flp[i].split()[-1]\n",
    "    try:\n",
    "        urllib.urlretrieve(path+fpath+'/'+fname, filename='tmp/'+fname)\n",
    "    except:\n",
    "        print 'no such file'"
   ]
  },
  {
   "cell_type": "code",
   "execution_count": 30,
   "metadata": {
    "collapsed": true
   },
   "outputs": [],
   "source": [
    "myshp=shapefile.Reader('tmp/Storm.2012296N14283.ibtracs_all_lines.v03r08.zip')"
   ]
  },
  {
   "cell_type": "code",
   "execution_count": 37,
   "metadata": {
    "collapsed": false
   },
   "outputs": [],
   "source": [
    "fields=myshp.fields"
   ]
  },
  {
   "cell_type": "code",
   "execution_count": 43,
   "metadata": {
    "collapsed": false
   },
   "outputs": [
    {
     "data": {
      "text/plain": [
       "['Basin', 'C', 3, 0]"
      ]
     },
     "execution_count": 43,
     "metadata": {},
     "output_type": "execute_result"
    }
   ],
   "source": [
    "fields[4]\n"
   ]
  },
  {
   "cell_type": "code",
   "execution_count": null,
   "metadata": {
    "collapsed": true
   },
   "outputs": [],
   "source": []
  }
 ],
 "metadata": {
  "kernelspec": {
   "display_name": "Python 2",
   "language": "python",
   "name": "python2"
  },
  "language_info": {
   "codemirror_mode": {
    "name": "ipython",
    "version": 2
   },
   "file_extension": ".py",
   "mimetype": "text/x-python",
   "name": "python",
   "nbconvert_exporter": "python",
   "pygments_lexer": "ipython2",
   "version": "2.7.12"
  },
  "widgets": {
   "state": {},
   "version": "1.1.1"
  }
 },
 "nbformat": 4,
 "nbformat_minor": 0
}
