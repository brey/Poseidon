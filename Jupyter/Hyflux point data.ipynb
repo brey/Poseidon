{
 "cells": [
  {
   "cell_type": "code",
   "execution_count": 1,
   "metadata": {
    "collapsed": false
   },
   "outputs": [],
   "source": [
    "import numpy as np\n",
    "import glob\n",
    "import datetime\n",
    "from pmap import getmap\n",
    "import pandas\n",
    "import os"
   ]
  },
  {
   "cell_type": "code",
   "execution_count": 2,
   "metadata": {
    "collapsed": true
   },
   "outputs": [],
   "source": [
    "PATH='/mnt/ECMWF/processed/2016/FIX_MED_SEA/'  # NEW ECMWF"
   ]
  },
  {
   "cell_type": "code",
   "execution_count": 57,
   "metadata": {
    "collapsed": true
   },
   "outputs": [],
   "source": [
    "PATH='/mnt/oldECMWF/processed/2015/FIX_MED_SEA/'  # OLD ECMWF"
   ]
  },
  {
   "cell_type": "code",
   "execution_count": 3,
   "metadata": {
    "collapsed": true
   },
   "outputs": [],
   "source": [
    "folders=glob.glob(PATH+'calc_*')"
   ]
  },
  {
   "cell_type": "code",
   "execution_count": 4,
   "metadata": {
    "collapsed": true
   },
   "outputs": [],
   "source": [
    "filename=folders[0]+'/bathymetry.tif'\n",
    "grid = getmap(filename)\n",
    "\n",
    "gt=grid.GeoTr\n",
    "\n",
    "width=grid.NCOLS\n",
    "height=grid.NROWS\n",
    "\n",
    "minx = gt[0]\n",
    "miny = gt[3] + width*gt[4] + height*gt[5]\n",
    "maxx = gt[0] + width*gt[1] + height*gt[2]\n",
    "maxy = gt[3]\n",
    "\n",
    "lon=np.linspace(minx,maxx,width,endpoint=True)\n",
    "lat=np.linspace(miny,maxy,height,endpoint=True)\n"
   ]
  },
  {
   "cell_type": "code",
   "execution_count": 5,
   "metadata": {
    "collapsed": false
   },
   "outputs": [
    {
     "name": "stdout",
     "output_type": "stream",
     "text": [
      "2016-01-01 00:00:00\n"
     ]
    }
   ],
   "source": [
    "odate=datetime.datetime.strptime(folders[0][-11:],'%Y%m%d.%H')\n",
    "print odate"
   ]
  },
  {
   "cell_type": "code",
   "execution_count": 61,
   "metadata": {
    "collapsed": false
   },
   "outputs": [],
   "source": [
    "#print lon\n",
    "#print lat"
   ]
  },
  {
   "cell_type": "code",
   "execution_count": 15,
   "metadata": {
    "collapsed": true
   },
   "outputs": [],
   "source": [
    "SAVEPATH='mnt/'#pandora/Users_Critech/Thomas/HYFLUX/'"
   ]
  },
  {
   "cell_type": "code",
   "execution_count": 7,
   "metadata": {
    "collapsed": true
   },
   "outputs": [],
   "source": [
    "OFILE='/mnt/pandora/Projects_Critech/EX_2015_CoastAlRisk/maps/data/s_b_data.txt'"
   ]
  },
  {
   "cell_type": "code",
   "execution_count": 8,
   "metadata": {
    "collapsed": true
   },
   "outputs": [],
   "source": [
    "obs=pandas.read_csv(OFILE,delimiter='\\t')"
   ]
  },
  {
   "cell_type": "code",
   "execution_count": 9,
   "metadata": {
    "collapsed": false
   },
   "outputs": [
    {
     "data": {
      "text/html": [
       "<div>\n",
       "<table border=\"1\" class=\"dataframe\">\n",
       "  <thead>\n",
       "    <tr style=\"text-align: right;\">\n",
       "      <th></th>\n",
       "      <th>ID</th>\n",
       "      <th>NAME</th>\n",
       "      <th>latobs</th>\n",
       "      <th>lonobs</th>\n",
       "      <th>latcalc</th>\n",
       "      <th>loncalc</th>\n",
       "    </tr>\n",
       "  </thead>\n",
       "  <tbody>\n",
       "    <tr>\n",
       "      <th>0</th>\n",
       "      <td>1630</td>\n",
       "      <td>Almeira</td>\n",
       "      <td>36.8300</td>\n",
       "      <td>-2.4800</td>\n",
       "      <td>36.72506</td>\n",
       "      <td>-2.468386</td>\n",
       "    </tr>\n",
       "    <tr>\n",
       "      <th>1</th>\n",
       "      <td>1706</td>\n",
       "      <td>Valencia</td>\n",
       "      <td>39.4400</td>\n",
       "      <td>-0.3100</td>\n",
       "      <td>39.44040</td>\n",
       "      <td>-0.299000</td>\n",
       "    </tr>\n",
       "    <tr>\n",
       "      <th>2</th>\n",
       "      <td>819</td>\n",
       "      <td>Barcelona</td>\n",
       "      <td>41.3400</td>\n",
       "      <td>2.1600</td>\n",
       "      <td>41.27749</td>\n",
       "      <td>2.213909</td>\n",
       "    </tr>\n",
       "    <tr>\n",
       "      <th>3</th>\n",
       "      <td>1461</td>\n",
       "      <td>Palma de Mallorca</td>\n",
       "      <td>39.5600</td>\n",
       "      <td>2.6380</td>\n",
       "      <td>39.39457</td>\n",
       "      <td>2.614552</td>\n",
       "    </tr>\n",
       "    <tr>\n",
       "      <th>4</th>\n",
       "      <td>1741</td>\n",
       "      <td>Sete</td>\n",
       "      <td>43.3976</td>\n",
       "      <td>3.6991</td>\n",
       "      <td>43.31857</td>\n",
       "      <td>3.761195</td>\n",
       "    </tr>\n",
       "    <tr>\n",
       "      <th>5</th>\n",
       "      <td>1500</td>\n",
       "      <td>Corsica</td>\n",
       "      <td>42.9670</td>\n",
       "      <td>9.3500</td>\n",
       "      <td>43.09528</td>\n",
       "      <td>9.267036</td>\n",
       "    </tr>\n",
       "    <tr>\n",
       "      <th>6</th>\n",
       "      <td>1841</td>\n",
       "      <td>Carloforte</td>\n",
       "      <td>39.1480</td>\n",
       "      <td>8.3095</td>\n",
       "      <td>39.22599</td>\n",
       "      <td>8.231240</td>\n",
       "    </tr>\n",
       "    <tr>\n",
       "      <th>7</th>\n",
       "      <td>1848</td>\n",
       "      <td>Imperia</td>\n",
       "      <td>43.8783</td>\n",
       "      <td>8.0189</td>\n",
       "      <td>43.83057</td>\n",
       "      <td>8.149480</td>\n",
       "    </tr>\n",
       "    <tr>\n",
       "      <th>8</th>\n",
       "      <td>1846</td>\n",
       "      <td>Genova</td>\n",
       "      <td>44.4101</td>\n",
       "      <td>8.9255</td>\n",
       "      <td>44.32259</td>\n",
       "      <td>8.919400</td>\n",
       "    </tr>\n",
       "    <tr>\n",
       "      <th>9</th>\n",
       "      <td>1843</td>\n",
       "      <td>Civitavecchia</td>\n",
       "      <td>42.0940</td>\n",
       "      <td>11.7896</td>\n",
       "      <td>41.99920</td>\n",
       "      <td>11.677270</td>\n",
       "    </tr>\n",
       "    <tr>\n",
       "      <th>10</th>\n",
       "      <td>1855</td>\n",
       "      <td>Napoli</td>\n",
       "      <td>40.8414</td>\n",
       "      <td>14.2692</td>\n",
       "      <td>40.66343</td>\n",
       "      <td>14.208470</td>\n",
       "    </tr>\n",
       "    <tr>\n",
       "      <th>11</th>\n",
       "      <td>1847</td>\n",
       "      <td>Ginostra</td>\n",
       "      <td>38.7852</td>\n",
       "      <td>15.1908</td>\n",
       "      <td>38.78520</td>\n",
       "      <td>15.201800</td>\n",
       "    </tr>\n",
       "    <tr>\n",
       "      <th>12</th>\n",
       "      <td>1858</td>\n",
       "      <td>Palermo</td>\n",
       "      <td>38.1214</td>\n",
       "      <td>13.3713</td>\n",
       "      <td>38.16961</td>\n",
       "      <td>13.459630</td>\n",
       "    </tr>\n",
       "    <tr>\n",
       "      <th>13</th>\n",
       "      <td>1844</td>\n",
       "      <td>Crotone</td>\n",
       "      <td>39.0836</td>\n",
       "      <td>17.1371</td>\n",
       "      <td>39.05812</td>\n",
       "      <td>17.208960</td>\n",
       "    </tr>\n",
       "    <tr>\n",
       "      <th>14</th>\n",
       "      <td>1866</td>\n",
       "      <td>S. Benedetto del Tronto</td>\n",
       "      <td>42.9551</td>\n",
       "      <td>13.8898</td>\n",
       "      <td>42.96519</td>\n",
       "      <td>13.977000</td>\n",
       "    </tr>\n",
       "    <tr>\n",
       "      <th>15</th>\n",
       "      <td>1863</td>\n",
       "      <td>Ravenna</td>\n",
       "      <td>44.4921</td>\n",
       "      <td>12.2827</td>\n",
       "      <td>44.49545</td>\n",
       "      <td>12.386810</td>\n",
       "    </tr>\n",
       "    <tr>\n",
       "      <th>16</th>\n",
       "      <td>1870</td>\n",
       "      <td>Venezia</td>\n",
       "      <td>45.4182</td>\n",
       "      <td>12.4265</td>\n",
       "      <td>45.38967</td>\n",
       "      <td>12.436770</td>\n",
       "    </tr>\n",
       "    <tr>\n",
       "      <th>17</th>\n",
       "      <td>2003</td>\n",
       "      <td>Paleochora</td>\n",
       "      <td>35.2240</td>\n",
       "      <td>23.6786</td>\n",
       "      <td>35.19995</td>\n",
       "      <td>23.674720</td>\n",
       "    </tr>\n",
       "    <tr>\n",
       "      <th>18</th>\n",
       "      <td>2001</td>\n",
       "      <td>Kapsali</td>\n",
       "      <td>36.1418</td>\n",
       "      <td>23.0037</td>\n",
       "      <td>36.06577</td>\n",
       "      <td>23.007620</td>\n",
       "    </tr>\n",
       "    <tr>\n",
       "      <th>19</th>\n",
       "      <td>2005</td>\n",
       "      <td>Koroni</td>\n",
       "      <td>36.7975</td>\n",
       "      <td>21.9628</td>\n",
       "      <td>36.79333</td>\n",
       "      <td>22.011430</td>\n",
       "    </tr>\n",
       "    <tr>\n",
       "      <th>20</th>\n",
       "      <td>2361</td>\n",
       "      <td>Kalathos</td>\n",
       "      <td>36.1139</td>\n",
       "      <td>28.0696</td>\n",
       "      <td>36.11199</td>\n",
       "      <td>28.145630</td>\n",
       "    </tr>\n",
       "    <tr>\n",
       "      <th>21</th>\n",
       "      <td>2031</td>\n",
       "      <td>Gokceada</td>\n",
       "      <td>40.2330</td>\n",
       "      <td>25.8940</td>\n",
       "      <td>40.24620</td>\n",
       "      <td>25.987710</td>\n",
       "    </tr>\n",
       "  </tbody>\n",
       "</table>\n",
       "</div>"
      ],
      "text/plain": [
       "      ID                      NAME   latobs   lonobs   latcalc    loncalc\n",
       "0   1630                   Almeira  36.8300  -2.4800  36.72506  -2.468386\n",
       "1   1706                  Valencia  39.4400  -0.3100  39.44040  -0.299000\n",
       "2    819                 Barcelona  41.3400   2.1600  41.27749   2.213909\n",
       "3   1461         Palma de Mallorca  39.5600   2.6380  39.39457   2.614552\n",
       "4   1741                     Sete   43.3976   3.6991  43.31857   3.761195\n",
       "5   1500                   Corsica  42.9670   9.3500  43.09528   9.267036\n",
       "6   1841               Carloforte   39.1480   8.3095  39.22599   8.231240\n",
       "7   1848                   Imperia  43.8783   8.0189  43.83057   8.149480\n",
       "8   1846                   Genova   44.4101   8.9255  44.32259   8.919400\n",
       "9   1843             Civitavecchia  42.0940  11.7896  41.99920  11.677270\n",
       "10  1855                   Napoli   40.8414  14.2692  40.66343  14.208470\n",
       "11  1847                 Ginostra   38.7852  15.1908  38.78520  15.201800\n",
       "12  1858                  Palermo   38.1214  13.3713  38.16961  13.459630\n",
       "13  1844                   Crotone  39.0836  17.1371  39.05812  17.208960\n",
       "14  1866  S. Benedetto del Tronto   42.9551  13.8898  42.96519  13.977000\n",
       "15  1863                  Ravenna   44.4921  12.2827  44.49545  12.386810\n",
       "16  1870                  Venezia   45.4182  12.4265  45.38967  12.436770\n",
       "17  2003               Paleochora   35.2240  23.6786  35.19995  23.674720\n",
       "18  2001                   Kapsali  36.1418  23.0037  36.06577  23.007620\n",
       "19  2005                    Koroni  36.7975  21.9628  36.79333  22.011430\n",
       "20  2361                  Kalathos  36.1139  28.0696  36.11199  28.145630\n",
       "21  2031                 Gokceada   40.2330  25.8940  40.24620  25.987710"
      ]
     },
     "execution_count": 9,
     "metadata": {},
     "output_type": "execute_result"
    }
   ],
   "source": [
    "obs"
   ]
  },
  {
   "cell_type": "code",
   "execution_count": 10,
   "metadata": {
    "collapsed": true
   },
   "outputs": [],
   "source": [
    "#SELECT POINT\n",
    "point=21"
   ]
  },
  {
   "cell_type": "code",
   "execution_count": 11,
   "metadata": {
    "collapsed": true
   },
   "outputs": [],
   "source": [
    "plat,plon=obs['latcalc'][point],obs['loncalc'][point]"
   ]
  },
  {
   "cell_type": "code",
   "execution_count": 12,
   "metadata": {
    "collapsed": true
   },
   "outputs": [],
   "source": [
    "i=np.abs(lat-plat).argmin()\n",
    "j=np.abs(lon-plon).argmin()\n"
   ]
  },
  {
   "cell_type": "code",
   "execution_count": 13,
   "metadata": {
    "collapsed": false
   },
   "outputs": [
    {
     "name": "stdout",
     "output_type": "stream",
     "text": [
      "176 471\n"
     ]
    }
   ],
   "source": [
    "print i,j"
   ]
  },
  {
   "cell_type": "code",
   "execution_count": 16,
   "metadata": {
    "collapsed": false
   },
   "outputs": [],
   "source": [
    "SFOLDER=SAVEPATH+'{}/'.format(obs['ID'][point])\n",
    "if not os.path.isdir(SFOLDER): os.makedirs(SFOLDER)"
   ]
  },
  {
   "cell_type": "code",
   "execution_count": 17,
   "metadata": {
    "collapsed": false
   },
   "outputs": [
    {
     "ename": "ValueError",
     "evalue": "invalid literal for float(): 00-10799",
     "output_type": "error",
     "traceback": [
      "\u001b[1;31m---------------------------------------------------------------------------\u001b[0m",
      "\u001b[1;31mValueError\u001b[0m                                Traceback (most recent call last)",
      "\u001b[1;32m<ipython-input-17-23b27ee795dc>\u001b[0m in \u001b[0;36m<module>\u001b[1;34m()\u001b[0m\n\u001b[0;32m     13\u001b[0m             \u001b[0modate\u001b[0m\u001b[1;33m=\u001b[0m\u001b[0mrdate\u001b[0m \u001b[1;31m# set new odate\u001b[0m\u001b[1;33m\u001b[0m\u001b[0m\n\u001b[0;32m     14\u001b[0m         \u001b[1;32melse\u001b[0m\u001b[1;33m:\u001b[0m\u001b[1;33m\u001b[0m\u001b[0m\n\u001b[1;32m---> 15\u001b[1;33m             \u001b[0mt\u001b[0m\u001b[1;33m.\u001b[0m\u001b[0mappend\u001b[0m\u001b[1;33m(\u001b[0m\u001b[0modate\u001b[0m\u001b[1;33m+\u001b[0m\u001b[0mdatetime\u001b[0m\u001b[1;33m.\u001b[0m\u001b[0mtimedelta\u001b[0m\u001b[1;33m(\u001b[0m\u001b[0mhours\u001b[0m\u001b[1;33m=\u001b[0m\u001b[0mfloat\u001b[0m\u001b[1;33m(\u001b[0m\u001b[0mti\u001b[0m\u001b[1;33m)\u001b[0m\u001b[1;33m/\u001b[0m\u001b[1;36m60.\u001b[0m\u001b[1;33m/\u001b[0m\u001b[1;36m60.\u001b[0m\u001b[1;33m)\u001b[0m\u001b[1;33m)\u001b[0m\u001b[1;33m\u001b[0m\u001b[0m\n\u001b[0m\u001b[0;32m     16\u001b[0m     \u001b[0mnp\u001b[0m\u001b[1;33m.\u001b[0m\u001b[0msavetxt\u001b[0m\u001b[1;33m(\u001b[0m\u001b[0mSFOLDER\u001b[0m\u001b[1;33m+\u001b[0m\u001b[0mrstamp\u001b[0m\u001b[1;33m,\u001b[0m\u001b[0mnp\u001b[0m\u001b[1;33m.\u001b[0m\u001b[0mtranspose\u001b[0m\u001b[1;33m(\u001b[0m\u001b[1;33m[\u001b[0m\u001b[0mt\u001b[0m\u001b[1;33m,\u001b[0m \u001b[0mhobs\u001b[0m\u001b[1;33m]\u001b[0m\u001b[1;33m)\u001b[0m\u001b[1;33m,\u001b[0m\u001b[0mdelimiter\u001b[0m\u001b[1;33m=\u001b[0m\u001b[1;34m\",\"\u001b[0m\u001b[1;33m,\u001b[0m \u001b[0mfmt\u001b[0m\u001b[1;33m=\u001b[0m\u001b[1;34m\"%s\"\u001b[0m\u001b[1;33m)\u001b[0m\u001b[1;33m\u001b[0m\u001b[0m\n",
      "\u001b[1;31mValueError\u001b[0m: invalid literal for float(): 00-10799"
     ]
    }
   ],
   "source": [
    "for ifolder in folders:\n",
    "    rstamp=ifolder.split('/')[-1].split('_')[1] # the time stamp on the run folder (actual date of the run)\n",
    "    rdate=datetime.datetime.strptime(rstamp,'%Y%m%d.%H')\n",
    "    hfiles=glob.glob(ifolder+'/TIF_H*.tif')\n",
    "    t=[]\n",
    "    hobs=[]\n",
    "    for ifile in hfiles:  \n",
    "        dat=getmap(ifile)\n",
    "        hobs.append(np.flipud(dat.data)[i,j])\n",
    "        ti=ifile.split('/')[-1].split('_H_')[1].split('.')[0]\n",
    "        if ti == 0: # there is a new restart\n",
    "            t.append(rdate)\n",
    "            odate=rdate # set new odate\n",
    "        else:\n",
    "            t.append(odate+datetime.timedelta(hours=float(ti)/60./60.))\n",
    "    np.savetxt(SFOLDER+rstamp,np.transpose([t, hobs]),delimiter=\",\", fmt=\"%s\")\n"
   ]
  },
  {
   "cell_type": "code",
   "execution_count": null,
   "metadata": {
    "collapsed": true
   },
   "outputs": [],
   "source": []
  }
 ],
 "metadata": {
  "kernelspec": {
   "display_name": "Python 2",
   "language": "python",
   "name": "python2"
  },
  "language_info": {
   "codemirror_mode": {
    "name": "ipython",
    "version": 2
   },
   "file_extension": ".py",
   "mimetype": "text/x-python",
   "name": "python",
   "nbconvert_exporter": "python",
   "pygments_lexer": "ipython2",
   "version": "2.7.11+"
  },
  "widgets": {
   "state": {},
   "version": "1.1.1"
  }
 },
 "nbformat": 4,
 "nbformat_minor": 0
}
