{
 "cells": [
  {
   "cell_type": "code",
   "execution_count": null,
   "metadata": {
    "collapsed": false
   },
   "outputs": [],
   "source": [
    "from IPython.html.widgets import *\n",
    "import numpy as np\n",
    "import matplotlib.pyplot as plt\n",
    "import urllib\n",
    "import netCDF4\n",
    "from mpl_toolkits.basemap import Basemap\n",
    "import sys\n"
   ]
  },
  {
   "cell_type": "code",
   "execution_count": null,
   "metadata": {
    "collapsed": true
   },
   "outputs": [],
   "source": [
    "minlat = 33\n",
    "maxlat = 35.\n",
    "minlon = 42.1\n",
    "maxlon = 44.9\n",
    "isub=2\n"
   ]
  },
  {
   "cell_type": "code",
   "execution_count": null,
   "metadata": {
    "collapsed": false
   },
   "outputs": [],
   "source": [
    "# Read data from: http://coastwatch.pfeg.noaa.gov/erddap/griddap/usgsCeSrtm30v6.html\n",
    "# using the netCDF output option\n",
    " \n",
    "base_url='http://coastwatch.pfeg.noaa.gov/erddap/griddap/usgsCeSrtm30v6.nc?'\n",
    "query='topo[(%f):%d:(%f)][(%f):%d:(%f)]' % (maxlat,isub,minlat,minlon,isub,maxlon)\n",
    "url = base_url+query\n",
    "print url\n"
   ]
  },
  {
   "cell_type": "code",
   "execution_count": null,
   "metadata": {
    "collapsed": false
   },
   "outputs": [],
   "source": [
    "# store data in NetCDF file\n",
    "file='usgsCeSrtm30v6.nc'\n",
    "urllib.urlretrieve (url, file)\n",
    "\n"
   ]
  },
  {
   "cell_type": "code",
   "execution_count": null,
   "metadata": {
    "collapsed": false
   },
   "outputs": [],
   "source": [
    "# open NetCDF data in\n",
    "nc = netCDF4.Dataset(file)\n",
    "ncv = nc.variables\n",
    "print ncv.keys()\n",
    "\n",
    "lon = ncv['longitude'][:]\n",
    "lat = ncv['latitude'][:]\n",
    "lons, lats = np.meshgrid(lon,lat)\n",
    "topo = ncv['topo'][:,:]\n"
   ]
  },
  {
   "cell_type": "code",
   "execution_count": null,
   "metadata": {
    "collapsed": true
   },
   "outputs": [],
   "source": [
    "# Create map\n",
    "m = Basemap(projection='cyl', llcrnrlat=minlat,urcrnrlat=maxlat,llcrnrlon=minlon, urcrnrlon=maxlon,resolution='l')\n",
    "fig = plt.figure(figsize=(10,8))\n",
    "cs = m.pcolormesh(lons,lats,topo,cmap=plt.cm.jet,latlon=True)\n",
    "m.drawcoastlines()\n",
    "m.drawmapboundary()\n",
    "m.drawcountries(linewidth=1.5,linestyle='--',color='r')\n",
    "m.drawrivers(color='b')\n",
    "\n",
    "plt.title('SMRT30 - Bathymetry/Topography')\n",
    "cbar = plt.colorbar(orientation='horizontal', extend='both')\n",
    "cbar.ax.set_xlabel('meters')\n",
    "\n",
    "plt.show()"
   ]
  }
 ],
 "metadata": {
  "kernelspec": {
   "display_name": "Python 2",
   "language": "python",
   "name": "python2"
  },
  "language_info": {
   "codemirror_mode": {
    "name": "ipython",
    "version": 2
   },
   "file_extension": ".py",
   "mimetype": "text/x-python",
   "name": "python",
   "nbconvert_exporter": "python",
   "pygments_lexer": "ipython2",
   "version": "2.7.11+"
  },
  "widgets": {
   "state": {},
   "version": "1.1.1"
  }
 },
 "nbformat": 4,
 "nbformat_minor": 0
}
