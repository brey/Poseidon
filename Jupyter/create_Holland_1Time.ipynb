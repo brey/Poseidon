{
 "cells": [
  {
   "cell_type": "markdown",
   "metadata": {
    "collapsed": true
   },
   "source": [
    "# Holland model\n",
    "## reading GDACS data"
   ]
  },
  {
   "cell_type": "markdown",
   "metadata": {
    "collapsed": true
   },
   "source": [
    "### Import Python lib ..."
   ]
  },
  {
   "cell_type": "code",
   "execution_count": 85,
   "metadata": {
    "collapsed": true
   },
   "outputs": [],
   "source": [
    "#%matplotlib notebook\n",
    "import pandas\n",
    "import matplotlib.pyplot as plt\n",
    "import numpy as np\n",
    "from xmldic import bxml\n",
    "\n",
    "from scipy.interpolate import griddata\n",
    "from mpl_toolkits.basemap import Basemap\n",
    "from getmedf import *\n",
    "\n",
    "from datetime import datetime,timedelta"
   ]
  },
  {
   "cell_type": "markdown",
   "metadata": {},
   "source": [
    "## PARAMETERS"
   ]
  },
  {
   "cell_type": "code",
   "execution_count": 86,
   "metadata": {
    "collapsed": true
   },
   "outputs": [],
   "source": [
    "nm2m=1852. # 1 nautical mile to meters\n",
    "kt2ms=nm2m/3600.  # knots to m/s\n",
    "omega=2*np.pi/(3600.*24.) # angular speed omega=2pi*f(=frequency of earth : 1 cycle per day) 2pi* 1 / day in seconds\n",
    "rhoa=1.15 #air density  Kg/m^3\n",
    "radius=6378388 #137. # earth's radius according to WGS 84\n",
    "deg2m=np.pi*radius/180.  # ds on cicle equals ds=r*dth - dth=pi/180\n",
    "pn=101000.  # Atmospheric pressure [N/m^2] (101KPa - enviromental pressure)\n",
    "\n",
    "tetaNE=45. #mean angle [degrees] of North Eastern quadrant\n",
    "tetaNW=135. #        \"              North Western\n",
    "tetaSW=225. #        \"              South West\n",
    "tetaSE=315. #        \"              South East\n",
    "\n",
    "maxR=500.e3  # maximum radius of TC [m] (500Km)"
   ]
  },
  {
   "cell_type": "code",
   "execution_count": null,
   "metadata": {
    "collapsed": true
   },
   "outputs": [],
   "source": []
  },
  {
   "cell_type": "markdown",
   "metadata": {},
   "source": [
    "## FUNCTIONS"
   ]
  },
  {
   "cell_type": "markdown",
   "metadata": {},
   "source": [
    "##### f coriolis"
   ]
  },
  {
   "cell_type": "code",
   "execution_count": 87,
   "metadata": {
    "collapsed": false
   },
   "outputs": [],
   "source": [
    "def fcor(lat,omega):\n",
    "    return 2*omega*np.sin(np.deg2rad(lat))\n",
    "\n",
    "# def lat (function of grid)"
   ]
  },
  {
   "cell_type": "code",
   "execution_count": null,
   "metadata": {
    "collapsed": true
   },
   "outputs": [],
   "source": []
  },
  {
   "cell_type": "code",
   "execution_count": null,
   "metadata": {
    "collapsed": true
   },
   "outputs": [],
   "source": []
  },
  {
   "cell_type": "markdown",
   "metadata": {},
   "source": [
    "##### Calculate x"
   ]
  },
  {
   "cell_type": "code",
   "execution_count": 88,
   "metadata": {
    "collapsed": true
   },
   "outputs": [],
   "source": [
    "def calcx(r,rmax,maxR,k):\n",
    "\tm=np.shape(r)\t\n",
    "\tx=np.zeros(m)\n",
    "\tfor i in range(0, np.shape(r)[0], 1):   \n",
    "\t\tfor j in range(0, np.shape(r)[1], 1):\n",
    "\t\t\tratio=(r[i][j]-rmax)/(maxR-rmax)\n",
    "\t\t\tratio2=min(max(ratio,0),1)\n",
    "\t\t\txi=0.5+ratio2*k          \n",
    "\t\t\tx[i][j]=xi           \n",
    "\treturn x"
   ]
  },
  {
   "cell_type": "code",
   "execution_count": 89,
   "metadata": {
    "collapsed": true
   },
   "outputs": [],
   "source": [
    "def calcx2(r,rmax,maxR,k):\n",
    "  \n",
    "    m=np.shape(r)\n",
    "    mtot=m[1] # da sistemare\n",
    "    \n",
    "    x=np.zeros(m)\n",
    "    for i in range(0, mtot, 1):   \n",
    "        for j in range(0, mtot, 1):\n",
    "            if r[i][j]<rmax:\n",
    "                xi=0.5    \n",
    "            elif r[i][j]==rmax:\n",
    "                xi=0.5    \n",
    "            elif r[i][j]>rmax:\n",
    "                xi=0.5+((r[i][j]-rmax)/(maxR-rmax))*k     #min(max(ration,0),1)     \n",
    "            x[i][j]=xi           \n",
    "    return x"
   ]
  },
  {
   "cell_type": "markdown",
   "metadata": {},
   "source": [
    "##### Inflow angle correction"
   ]
  },
  {
   "cell_type": "code",
   "execution_count": 90,
   "metadata": {
    "collapsed": true
   },
   "outputs": [],
   "source": [
    "def calcbeta(r,rmax):\n",
    "    m=np.shape(r)\n",
    "    mtot=m[1] # da sistemare\n",
    "    \n",
    "    beta=np.zeros(m)\n",
    "    for i in range(0, mtot, 1):   \n",
    "        for j in range(0, mtot, 1):   \n",
    "            if r[i][j]>(rmax*1.2):\n",
    "                betai=25    \n",
    "            elif r[i][j]>rmax:\n",
    "                betai=85*(r[i][j]/rmax)-65    \n",
    "            else: \n",
    "                betai=10*r[i][j]/rmax\n",
    "            beta[i][j]=betai    \n",
    "    return beta"
   ]
  },
  {
   "cell_type": "markdown",
   "metadata": {
    "collapsed": true
   },
   "source": [
    "###### Ratio"
   ]
  },
  {
   "cell_type": "code",
   "execution_count": null,
   "metadata": {
    "collapsed": true
   },
   "outputs": [],
   "source": []
  },
  {
   "cell_type": "markdown",
   "metadata": {
    "collapsed": true
   },
   "source": [
    "##### Pressure"
   ]
  },
  {
   "cell_type": "code",
   "execution_count": 91,
   "metadata": {
    "collapsed": true
   },
   "outputs": [],
   "source": [
    "def pres(r, dp, pn, rmax, b):\n",
    "    pc=pn-dp\n",
    "    return pc+dp*np.exp(-(rmax/r)**b)"
   ]
  },
  {
   "cell_type": "markdown",
   "metadata": {},
   "source": [
    "r = radius\n",
    "pch = Central Pressure (Pc)\n",
    "dph = Pressure Drop=(Pn-Pc)\n",
    "rmaxh = Radius of max winds (Rmax)\n",
    "bh = Holland's parameter (B)"
   ]
  },
  {
   "cell_type": "markdown",
   "metadata": {},
   "source": [
    "##### Velocity"
   ]
  },
  {
   "cell_type": "code",
   "execution_count": 92,
   "metadata": {
    "collapsed": true
   },
   "outputs": [],
   "source": [
    "# Velocity without Coriolis\n",
    "def vel(r,b,rhoa,rmax,maxR,k,dp,x):\n",
    "    return (b/rhoa*(rmax/r)**b*dp*np.exp(-(rmax/r)**b))**x"
   ]
  },
  {
   "cell_type": "code",
   "execution_count": 93,
   "metadata": {
    "collapsed": true
   },
   "outputs": [],
   "source": [
    "# Velocity with Coriolis\n",
    "def velcor(r,b,rhoa,rmax,maxR,k,dp,x,f):\n",
    "    return (b/rhoa*(rmax/r)**b*dp*np.exp(-(rmax/r)**b)+(r*(np.absolute(f))/2)**(1/x))**x-r*(np.absolute(f))/2"
   ]
  },
  {
   "cell_type": "code",
   "execution_count": null,
   "metadata": {
    "collapsed": true
   },
   "outputs": [],
   "source": []
  },
  {
   "cell_type": "code",
   "execution_count": 94,
   "metadata": {
    "collapsed": true
   },
   "outputs": [],
   "source": [
    "def vel2(r,sinteta,costeta,b,rhoa,rmax,maxR,k,dp,x,vtx,vty):\n",
    "\n",
    "    vr=vel(r,b,rhoa,rmax,maxR,k,dp,x)\n",
    "    \n",
    "    vx=-vr*sinteta\n",
    "    vy=vr*costeta\n",
    "    \n",
    "    vxvt=vx+vtx*(1.-np.exp(-(rmax/r)**b))\n",
    "    vyvt=vy+vty*(1.-np.exp(-(rmax/r)**b))\n",
    "    \n",
    "    return vx, vy, vxvt, vyvt"
   ]
  },
  {
   "cell_type": "code",
   "execution_count": 95,
   "metadata": {
    "collapsed": true
   },
   "outputs": [],
   "source": [
    "def vel2cor(r,sinteta,costeta,b,rhoa,rmax,maxR,k,dp,x,vtx,vty,f):\n",
    "    \n",
    "    vr=velcor(r,b,rhoa,rmax,maxR,k,dp,x,f)\n",
    "    \n",
    "    vx=-vr*sinteta\n",
    "    vy=vr*costeta\n",
    "    \n",
    "    vxvt=vx+vtx*(1.-np.exp(-(rmax/r)**b))\n",
    "    vyvt=vy+vty*(1.-np.exp(-(rmax/r)**b))\n",
    "    \n",
    "    return vx, vy, vxvt, vyvt"
   ]
  },
  {
   "cell_type": "code",
   "execution_count": null,
   "metadata": {
    "collapsed": false
   },
   "outputs": [],
   "source": []
  },
  {
   "cell_type": "code",
   "execution_count": null,
   "metadata": {
    "collapsed": true
   },
   "outputs": [],
   "source": []
  },
  {
   "cell_type": "markdown",
   "metadata": {},
   "source": [
    "## TC Input Data (GDACS)"
   ]
  },
  {
   "cell_type": "code",
   "execution_count": 138,
   "metadata": {
    "collapsed": false
   },
   "outputs": [
    {
     "name": "stdout",
     "output_type": "stream",
     "text": [
      "Name:HAIMA\n",
      "Input GDACS Dir: /mnt/web/cycloneSurgeVM/1000321_JTWC\n",
      "Bulletin:18\n",
      "InputDir: /mnt/web/cycloneSurgeVM/1000321_JTWC\n",
      "Info in outData.txt file in: /mnt/web/cycloneSurgeVM/1000321_JTWC/18/outData.txt\n",
      "\n"
     ]
    },
    {
     "data": {
      "text/html": [
       "<div>\n",
       "<table border=\"1\" class=\"dataframe\">\n",
       "  <thead>\n",
       "    <tr style=\"text-align: right;\">\n",
       "      <th></th>\n",
       "      <th>time</th>\n",
       "      <th>xhc</th>\n",
       "      <th>yhc</th>\n",
       "      <th>b</th>\n",
       "      <th>k</th>\n",
       "      <th>rmax</th>\n",
       "      <th>deltap</th>\n",
       "      <th>vmax</th>\n",
       "      <th>vmax0</th>\n",
       "      <th>vtr</th>\n",
       "      <th>vtrx</th>\n",
       "      <th>vtry</th>\n",
       "      <th>bias</th>\n",
       "      <th>rmse</th>\n",
       "      <th>Unnamed: 14</th>\n",
       "    </tr>\n",
       "  </thead>\n",
       "  <tbody>\n",
       "    <tr>\n",
       "      <th>0</th>\n",
       "      <td>0.0</td>\n",
       "      <td>126.0</td>\n",
       "      <td>16.0</td>\n",
       "      <td>1.148640</td>\n",
       "      <td>0.126435</td>\n",
       "      <td>10662.7</td>\n",
       "      <td>9472.160</td>\n",
       "      <td>72.016</td>\n",
       "      <td>58.99570</td>\n",
       "      <td>7.47360</td>\n",
       "      <td>-7.18364</td>\n",
       "      <td>2.06155</td>\n",
       "      <td>0.921296E-01</td>\n",
       "      <td>1.56235</td>\n",
       "      <td>NaN</td>\n",
       "    </tr>\n",
       "    <tr>\n",
       "      <th>1</th>\n",
       "      <td>12.0</td>\n",
       "      <td>123.1</td>\n",
       "      <td>16.8</td>\n",
       "      <td>0.966653</td>\n",
       "      <td>0.091435</td>\n",
       "      <td>10700.2</td>\n",
       "      <td>9564.450</td>\n",
       "      <td>66.872</td>\n",
       "      <td>54.38380</td>\n",
       "      <td>7.36412</td>\n",
       "      <td>-7.03081</td>\n",
       "      <td>2.19040</td>\n",
       "      <td>0.160397</td>\n",
       "      <td>1.57241</td>\n",
       "      <td>NaN</td>\n",
       "    </tr>\n",
       "    <tr>\n",
       "      <th>2</th>\n",
       "      <td>24.0</td>\n",
       "      <td>120.3</td>\n",
       "      <td>17.7</td>\n",
       "      <td>0.860889</td>\n",
       "      <td>0.072352</td>\n",
       "      <td>27521.8</td>\n",
       "      <td>4216.810</td>\n",
       "      <td>43.724</td>\n",
       "      <td>34.07760</td>\n",
       "      <td>6.81985</td>\n",
       "      <td>-6.26012</td>\n",
       "      <td>2.70580</td>\n",
       "      <td>-0.876087E-01</td>\n",
       "      <td>1.46312</td>\n",
       "      <td>NaN</td>\n",
       "    </tr>\n",
       "    <tr>\n",
       "      <th>3</th>\n",
       "      <td>36.0</td>\n",
       "      <td>118.0</td>\n",
       "      <td>18.9</td>\n",
       "      <td>0.840678</td>\n",
       "      <td>0.051975</td>\n",
       "      <td>30554.8</td>\n",
       "      <td>4498.660</td>\n",
       "      <td>43.724</td>\n",
       "      <td>34.78240</td>\n",
       "      <td>6.16400</td>\n",
       "      <td>-4.99792</td>\n",
       "      <td>3.60772</td>\n",
       "      <td>0.596941E-01</td>\n",
       "      <td>1.88127</td>\n",
       "      <td>NaN</td>\n",
       "    </tr>\n",
       "    <tr>\n",
       "      <th>4</th>\n",
       "      <td>48.0</td>\n",
       "      <td>116.2</td>\n",
       "      <td>20.5</td>\n",
       "      <td>1.008640</td>\n",
       "      <td>0.066435</td>\n",
       "      <td>30509.3</td>\n",
       "      <td>4390.350</td>\n",
       "      <td>46.296</td>\n",
       "      <td>37.63770</td>\n",
       "      <td>5.72985</td>\n",
       "      <td>-3.56719</td>\n",
       "      <td>4.48400</td>\n",
       "      <td>0.582741E-01</td>\n",
       "      <td>2.27647</td>\n",
       "      <td>NaN</td>\n",
       "    </tr>\n",
       "    <tr>\n",
       "      <th>5</th>\n",
       "      <td>72.0</td>\n",
       "      <td>114.9</td>\n",
       "      <td>24.4</td>\n",
       "      <td>1.008640</td>\n",
       "      <td>0.066435</td>\n",
       "      <td>30509.3</td>\n",
       "      <td>1660.660</td>\n",
       "      <td>23.148</td>\n",
       "      <td>15.97160</td>\n",
       "      <td>5.32459</td>\n",
       "      <td>1.24195</td>\n",
       "      <td>5.17772</td>\n",
       "      <td>NaN</td>\n",
       "      <td>NaN</td>\n",
       "      <td>NaN</td>\n",
       "    </tr>\n",
       "    <tr>\n",
       "      <th>6</th>\n",
       "      <td>96.0</td>\n",
       "      <td>118.7</td>\n",
       "      <td>28.1</td>\n",
       "      <td>1.008640</td>\n",
       "      <td>0.066435</td>\n",
       "      <td>30509.3</td>\n",
       "      <td>738.072</td>\n",
       "      <td>15.432</td>\n",
       "      <td>7.09872</td>\n",
       "      <td>8.23423</td>\n",
       "      <td>7.33640</td>\n",
       "      <td>3.73896</td>\n",
       "      <td>NaN</td>\n",
       "      <td>NaN</td>\n",
       "      <td>NaN</td>\n",
       "    </tr>\n",
       "    <tr>\n",
       "      <th>7</th>\n",
       "      <td>120.0</td>\n",
       "      <td>127.1</td>\n",
       "      <td>30.2</td>\n",
       "      <td>1.008640</td>\n",
       "      <td>0.066435</td>\n",
       "      <td>30509.3</td>\n",
       "      <td>328.032</td>\n",
       "      <td>10.288</td>\n",
       "      <td>4.73248</td>\n",
       "      <td>10.37930</td>\n",
       "      <td>10.11710</td>\n",
       "      <td>2.31806</td>\n",
       "      <td>NaN</td>\n",
       "      <td>NaN</td>\n",
       "      <td>NaN</td>\n",
       "    </tr>\n",
       "  </tbody>\n",
       "</table>\n",
       "</div>"
      ],
      "text/plain": [
       "    time    xhc   yhc         b         k     rmax    deltap    vmax  \\\n",
       "0    0.0  126.0  16.0  1.148640  0.126435  10662.7  9472.160  72.016   \n",
       "1   12.0  123.1  16.8  0.966653  0.091435  10700.2  9564.450  66.872   \n",
       "2   24.0  120.3  17.7  0.860889  0.072352  27521.8  4216.810  43.724   \n",
       "3   36.0  118.0  18.9  0.840678  0.051975  30554.8  4498.660  43.724   \n",
       "4   48.0  116.2  20.5  1.008640  0.066435  30509.3  4390.350  46.296   \n",
       "5   72.0  114.9  24.4  1.008640  0.066435  30509.3  1660.660  23.148   \n",
       "6   96.0  118.7  28.1  1.008640  0.066435  30509.3   738.072  15.432   \n",
       "7  120.0  127.1  30.2  1.008640  0.066435  30509.3   328.032  10.288   \n",
       "\n",
       "      vmax0       vtr      vtrx     vtry           bias           rmse  \\\n",
       "0  58.99570   7.47360  -7.18364  2.06155   0.921296E-01    1.56235       \n",
       "1  54.38380   7.36412  -7.03081  2.19040   0.160397        1.57241       \n",
       "2  34.07760   6.81985  -6.26012  2.70580  -0.876087E-01    1.46312       \n",
       "3  34.78240   6.16400  -4.99792  3.60772   0.596941E-01    1.88127       \n",
       "4  37.63770   5.72985  -3.56719  4.48400   0.582741E-01    2.27647       \n",
       "5  15.97160   5.32459   1.24195  5.17772            NaN            NaN   \n",
       "6   7.09872   8.23423   7.33640  3.73896            NaN            NaN   \n",
       "7   4.73248  10.37930  10.11710  2.31806            NaN            NaN   \n",
       "\n",
       "   Unnamed: 14  \n",
       "0          NaN  \n",
       "1          NaN  \n",
       "2          NaN  \n",
       "3          NaN  \n",
       "4          NaN  \n",
       "5          NaN  \n",
       "6          NaN  \n",
       "7          NaN  "
      ]
     },
     "execution_count": 138,
     "metadata": {},
     "output_type": "execute_result"
    }
   ],
   "source": [
    "#hurName='MATTHEW'\n",
    "#GDACShome='/mnt/web/cycloneSurgeVM/'\n",
    "#GDACSpath=GDACShome+'1000316_NOAA'\n",
    "#bul=24\n",
    "\n",
    "hurName='HAIMA'\n",
    "GDACShome='/mnt/web/cycloneSurgeVM/'\n",
    "GDACSpath=GDACShome+'1000321_JTWC'\n",
    "bul=18\n",
    "\n",
    "GDACSdir=GDACSpath+'/{}'.format(bul)\n",
    "namefile=GDACSdir+'/outData.txt'\n",
    "\n",
    "\n",
    "print ('Name:'+hurName)\n",
    "print('Input GDACS Dir: '+GDACSpath)\n",
    "print ('Bulletin:'+(str(bul)))\n",
    "print('InputDir: '+ GDACSpath)\n",
    "print('Info in outData.txt file in: '+ namefile+'\\n')\n",
    "\n",
    "datH=pandas.read_csv(namefile,header=0,delimiter='\\t')\n",
    "datH"
   ]
  },
  {
   "cell_type": "code",
   "execution_count": null,
   "metadata": {
    "collapsed": false
   },
   "outputs": [],
   "source": []
  },
  {
   "cell_type": "code",
   "execution_count": 141,
   "metadata": {
    "collapsed": false
   },
   "outputs": [
    {
     "name": "stdout",
     "output_type": "stream",
     "text": [
      "Name:HAIMA\n",
      "Input GDACS Dir: /mnt/web/cycloneSurgeVM/1000321_JTWC\n",
      "Bulletin:18\n",
      "InputDir: /mnt/web/cycloneSurgeVM/1000321_JTWC\n",
      "Info in outData.txt file in: /mnt/web/cycloneSurgeVM/1000321_JTWC/18/outData.txt\n",
      "\n"
     ]
    },
    {
     "data": {
      "text/html": [
       "<div>\n",
       "<table border=\"1\" class=\"dataframe\">\n",
       "  <thead>\n",
       "    <tr style=\"text-align: right;\">\n",
       "      <th></th>\n",
       "      <th>time</th>\n",
       "      <th>xhc</th>\n",
       "      <th>yhc</th>\n",
       "      <th>b</th>\n",
       "      <th>k</th>\n",
       "      <th>rmax</th>\n",
       "      <th>deltap</th>\n",
       "      <th>vmax</th>\n",
       "      <th>vmax0</th>\n",
       "      <th>vtr</th>\n",
       "      <th>vtrx</th>\n",
       "      <th>vtry</th>\n",
       "      <th>bias</th>\n",
       "      <th>rmse</th>\n",
       "    </tr>\n",
       "  </thead>\n",
       "  <tbody>\n",
       "    <tr>\n",
       "      <th>0</th>\n",
       "      <td>0.0</td>\n",
       "      <td>126.0</td>\n",
       "      <td>16.0</td>\n",
       "      <td>1.148640</td>\n",
       "      <td>0.126435</td>\n",
       "      <td>10662.7</td>\n",
       "      <td>9472.160</td>\n",
       "      <td>72.016</td>\n",
       "      <td>58.99570</td>\n",
       "      <td>7.47360</td>\n",
       "      <td>-7.18364</td>\n",
       "      <td>2.06155</td>\n",
       "      <td>0.921296E-01</td>\n",
       "      <td>1.56235</td>\n",
       "    </tr>\n",
       "    <tr>\n",
       "      <th>1</th>\n",
       "      <td>12.0</td>\n",
       "      <td>123.1</td>\n",
       "      <td>16.8</td>\n",
       "      <td>0.966653</td>\n",
       "      <td>0.091435</td>\n",
       "      <td>10700.2</td>\n",
       "      <td>9564.450</td>\n",
       "      <td>66.872</td>\n",
       "      <td>54.38380</td>\n",
       "      <td>7.36412</td>\n",
       "      <td>-7.03081</td>\n",
       "      <td>2.19040</td>\n",
       "      <td>0.160397</td>\n",
       "      <td>1.57241</td>\n",
       "    </tr>\n",
       "    <tr>\n",
       "      <th>2</th>\n",
       "      <td>24.0</td>\n",
       "      <td>120.3</td>\n",
       "      <td>17.7</td>\n",
       "      <td>0.860889</td>\n",
       "      <td>0.072352</td>\n",
       "      <td>27521.8</td>\n",
       "      <td>4216.810</td>\n",
       "      <td>43.724</td>\n",
       "      <td>34.07760</td>\n",
       "      <td>6.81985</td>\n",
       "      <td>-6.26012</td>\n",
       "      <td>2.70580</td>\n",
       "      <td>-0.876087E-01</td>\n",
       "      <td>1.46312</td>\n",
       "    </tr>\n",
       "    <tr>\n",
       "      <th>3</th>\n",
       "      <td>36.0</td>\n",
       "      <td>118.0</td>\n",
       "      <td>18.9</td>\n",
       "      <td>0.840678</td>\n",
       "      <td>0.051975</td>\n",
       "      <td>30554.8</td>\n",
       "      <td>4498.660</td>\n",
       "      <td>43.724</td>\n",
       "      <td>34.78240</td>\n",
       "      <td>6.16400</td>\n",
       "      <td>-4.99792</td>\n",
       "      <td>3.60772</td>\n",
       "      <td>0.596941E-01</td>\n",
       "      <td>1.88127</td>\n",
       "    </tr>\n",
       "    <tr>\n",
       "      <th>4</th>\n",
       "      <td>48.0</td>\n",
       "      <td>116.2</td>\n",
       "      <td>20.5</td>\n",
       "      <td>1.008640</td>\n",
       "      <td>0.066435</td>\n",
       "      <td>30509.3</td>\n",
       "      <td>4390.350</td>\n",
       "      <td>46.296</td>\n",
       "      <td>37.63770</td>\n",
       "      <td>5.72985</td>\n",
       "      <td>-3.56719</td>\n",
       "      <td>4.48400</td>\n",
       "      <td>0.582741E-01</td>\n",
       "      <td>2.27647</td>\n",
       "    </tr>\n",
       "    <tr>\n",
       "      <th>5</th>\n",
       "      <td>72.0</td>\n",
       "      <td>114.9</td>\n",
       "      <td>24.4</td>\n",
       "      <td>1.008640</td>\n",
       "      <td>0.066435</td>\n",
       "      <td>30509.3</td>\n",
       "      <td>1660.660</td>\n",
       "      <td>23.148</td>\n",
       "      <td>15.97160</td>\n",
       "      <td>5.32459</td>\n",
       "      <td>1.24195</td>\n",
       "      <td>5.17772</td>\n",
       "      <td>NaN</td>\n",
       "      <td>NaN</td>\n",
       "    </tr>\n",
       "    <tr>\n",
       "      <th>6</th>\n",
       "      <td>96.0</td>\n",
       "      <td>118.7</td>\n",
       "      <td>28.1</td>\n",
       "      <td>1.008640</td>\n",
       "      <td>0.066435</td>\n",
       "      <td>30509.3</td>\n",
       "      <td>738.072</td>\n",
       "      <td>15.432</td>\n",
       "      <td>7.09872</td>\n",
       "      <td>8.23423</td>\n",
       "      <td>7.33640</td>\n",
       "      <td>3.73896</td>\n",
       "      <td>NaN</td>\n",
       "      <td>NaN</td>\n",
       "    </tr>\n",
       "    <tr>\n",
       "      <th>7</th>\n",
       "      <td>120.0</td>\n",
       "      <td>127.1</td>\n",
       "      <td>30.2</td>\n",
       "      <td>1.008640</td>\n",
       "      <td>0.066435</td>\n",
       "      <td>30509.3</td>\n",
       "      <td>328.032</td>\n",
       "      <td>10.288</td>\n",
       "      <td>4.73248</td>\n",
       "      <td>10.37930</td>\n",
       "      <td>10.11710</td>\n",
       "      <td>2.31806</td>\n",
       "      <td>NaN</td>\n",
       "      <td>NaN</td>\n",
       "    </tr>\n",
       "  </tbody>\n",
       "</table>\n",
       "</div>"
      ],
      "text/plain": [
       "    time    xhc   yhc         b         k     rmax    deltap    vmax  \\\n",
       "0    0.0  126.0  16.0  1.148640  0.126435  10662.7  9472.160  72.016   \n",
       "1   12.0  123.1  16.8  0.966653  0.091435  10700.2  9564.450  66.872   \n",
       "2   24.0  120.3  17.7  0.860889  0.072352  27521.8  4216.810  43.724   \n",
       "3   36.0  118.0  18.9  0.840678  0.051975  30554.8  4498.660  43.724   \n",
       "4   48.0  116.2  20.5  1.008640  0.066435  30509.3  4390.350  46.296   \n",
       "5   72.0  114.9  24.4  1.008640  0.066435  30509.3  1660.660  23.148   \n",
       "6   96.0  118.7  28.1  1.008640  0.066435  30509.3   738.072  15.432   \n",
       "7  120.0  127.1  30.2  1.008640  0.066435  30509.3   328.032  10.288   \n",
       "\n",
       "      vmax0       vtr      vtrx     vtry           bias           rmse  \n",
       "0  58.99570   7.47360  -7.18364  2.06155   0.921296E-01    1.56235      \n",
       "1  54.38380   7.36412  -7.03081  2.19040   0.160397        1.57241      \n",
       "2  34.07760   6.81985  -6.26012  2.70580  -0.876087E-01    1.46312      \n",
       "3  34.78240   6.16400  -4.99792  3.60772   0.596941E-01    1.88127      \n",
       "4  37.63770   5.72985  -3.56719  4.48400   0.582741E-01    2.27647      \n",
       "5  15.97160   5.32459   1.24195  5.17772            NaN            NaN  \n",
       "6   7.09872   8.23423   7.33640  3.73896            NaN            NaN  \n",
       "7   4.73248  10.37930  10.11710  2.31806            NaN            NaN  "
      ]
     },
     "execution_count": 141,
     "metadata": {},
     "output_type": "execute_result"
    }
   ],
   "source": [
    "#hurName='MATTHEW'\n",
    "#GDACShome='/mnt/web/cycloneSurgeVM/'\n",
    "#GDACSpath=GDACShome+'1000316_NOAA'\n",
    "#bul=24\n",
    "\n",
    "\n",
    "hurName='HAIMA'\n",
    "GDACShome='/mnt/web/cycloneSurgeVM/'\n",
    "GDACSpath=GDACShome+'1000321_JTWC'\n",
    "bul=18\n",
    "\n",
    "\n",
    "GDACSdir=GDACSpath+'/{}'.format(bul)\n",
    "namefile=GDACSdir+'/outData.txt'\n",
    "\n",
    "\n",
    "print ('Name:'+hurName)\n",
    "print('Input GDACS Dir: '+GDACSpath)\n",
    "print ('Bulletin:'+(str(bul)))\n",
    "print('InputDir: '+ GDACSpath)\n",
    "print('Info in outData.txt file in: '+ namefile+'\\n')\n",
    "\n",
    "datH=pandas.read_csv(namefile,header=0,delimiter='\\t',usecols=np.arange(0,14))\n",
    "datH"
   ]
  },
  {
   "cell_type": "code",
   "execution_count": 142,
   "metadata": {
    "collapsed": true
   },
   "outputs": [],
   "source": [
    "timeH=datH['time'].values\n",
    "latH=datH['yhc'].values\n",
    "lonH=datH['xhc'].values\n",
    "bH=datH['b'].values\n",
    "kH=datH['k'].values\n",
    "rmaxH=datH['rmax'].values\n",
    "dpH=datH['deltap'].values\n",
    "vmaxmsH=datH['vmax'].values\n",
    "vmax0msH=datH['vmax0'].values\n",
    "vtrxH=datH['vtrx'].values\n",
    "vtryH=datH['vtry'].values\n",
    "vtrH=datH['vtr'].values"
   ]
  },
  {
   "cell_type": "code",
   "execution_count": null,
   "metadata": {
    "collapsed": true
   },
   "outputs": [],
   "source": []
  },
  {
   "cell_type": "markdown",
   "metadata": {},
   "source": [
    "##### 1 specific time"
   ]
  },
  {
   "cell_type": "code",
   "execution_count": 143,
   "metadata": {
    "collapsed": false
   },
   "outputs": [
    {
     "name": "stdout",
     "output_type": "stream",
     "text": [
      "b:  1.14864\n",
      "vmax:  72.016\n",
      "vmax0:  58.9957\n",
      "k:  0.126435\n",
      "rmax:  10662.7\n",
      "dp:  9472.16\n",
      "pc:  91527.84\n",
      "vt:  7.4736\n",
      "vtx:  -7.18364\n",
      "vty:  2.06155\n",
      "lat TC:  16.0\n",
      "lon TC:  126.0\n"
     ]
    }
   ],
   "source": [
    "# choose time\n",
    "it=0\n",
    "\n",
    "lat=latH[it]\n",
    "lon=lonH[it]\n",
    "b=bH[it]\n",
    "vmax=vmaxmsH[it]\n",
    "vmax0=vmax0msH[it]\n",
    "k=kH[it]\n",
    "rmax=rmaxH[it]\n",
    "dp=dpH[it]\n",
    "pc=pn-dp\n",
    "vtx=vtrxH[it]\n",
    "vty=vtryH[it]\n",
    "vt=vtrH[it]\n",
    "\n",
    "print 'b: ', b\n",
    "print 'vmax: ', vmax\n",
    "print 'vmax0: ', vmax0\n",
    "print 'k: ', k\n",
    "print 'rmax: ', rmax\n",
    "print 'dp: ', dp\n",
    "print 'pc: ', pc\n",
    "print 'vt: ', vt\n",
    "print 'vtx: ', vtx\n",
    "print 'vty: ', vty\n",
    "print 'lat TC: ', lat\n",
    "print 'lon TC: ', lon\n"
   ]
  },
  {
   "cell_type": "markdown",
   "metadata": {
    "collapsed": true
   },
   "source": [
    "# Holland model\n"
   ]
  },
  {
   "cell_type": "markdown",
   "metadata": {},
   "source": [
    "##### set parameters"
   ]
  },
  {
   "cell_type": "code",
   "execution_count": 144,
   "metadata": {
    "collapsed": true
   },
   "outputs": [],
   "source": [
    "# deg to rad (NEW)\n",
    "deg2rad=np.pi/180 # np.deg2rad\n",
    "deg2m=deg2rad*radius"
   ]
  },
  {
   "cell_type": "markdown",
   "metadata": {},
   "source": [
    "###### Set TC center"
   ]
  },
  {
   "cell_type": "code",
   "execution_count": 145,
   "metadata": {
    "collapsed": false
   },
   "outputs": [
    {
     "name": "stdout",
     "output_type": "stream",
     "text": [
      "TC center (lat/lon):  16.0 / 126.0\n"
     ]
    }
   ],
   "source": [
    "# Define Lat and Lon of TC's center\n",
    "xhc=lon\n",
    "yhc=lat\n",
    "print 'TC center (lat/lon): ', yhc, '/', xhc"
   ]
  },
  {
   "cell_type": "markdown",
   "metadata": {},
   "source": [
    "##### Create grid\n",
    "\n"
   ]
  },
  {
   "cell_type": "code",
   "execution_count": 146,
   "metadata": {
    "collapsed": true
   },
   "outputs": [],
   "source": [
    "# create grid in °\n",
    "xcell0=np.linspace(xhc-10,xhc+10,1000)\n",
    "ycell0=np.linspace(yhc-30,yhc+30,3000)\n",
    "xcell,ycell=np.meshgrid(xcell0,ycell0)"
   ]
  },
  {
   "cell_type": "code",
   "execution_count": 147,
   "metadata": {
    "collapsed": false
   },
   "outputs": [
    {
     "data": {
      "text/plain": [
       "(3000, 1000)"
      ]
     },
     "execution_count": 147,
     "metadata": {},
     "output_type": "execute_result"
    }
   ],
   "source": [
    "xcell.shape"
   ]
  },
  {
   "cell_type": "code",
   "execution_count": 148,
   "metadata": {
    "collapsed": false
   },
   "outputs": [
    {
     "data": {
      "text/plain": [
       "(3000, 1000)"
      ]
     },
     "execution_count": 148,
     "metadata": {},
     "output_type": "execute_result"
    }
   ],
   "source": [
    "ycell.shape"
   ]
  },
  {
   "cell_type": "code",
   "execution_count": null,
   "metadata": {
    "collapsed": true
   },
   "outputs": [],
   "source": []
  },
  {
   "cell_type": "code",
   "execution_count": null,
   "metadata": {
    "collapsed": true
   },
   "outputs": [],
   "source": []
  },
  {
   "cell_type": "markdown",
   "metadata": {},
   "source": [
    "##### Calculate distance between TC center and point (cell)"
   ]
  },
  {
   "cell_type": "code",
   "execution_count": 149,
   "metadata": {
    "collapsed": true
   },
   "outputs": [],
   "source": [
    "# calculate distance between TC center and point (cell)\n",
    "coscellm=np.cos(np.deg2rad(yhc-ycell))\n",
    "dycell=(ycell-yhc)*deg2m\n",
    "dxcell=(xcell-xhc)*deg2m*coscellm\n"
   ]
  },
  {
   "cell_type": "code",
   "execution_count": 150,
   "metadata": {
    "collapsed": false
   },
   "outputs": [
    {
     "data": {
      "text/plain": [
       "(3000, 1000)"
      ]
     },
     "execution_count": 150,
     "metadata": {},
     "output_type": "execute_result"
    }
   ],
   "source": [
    "dycell.shape"
   ]
  },
  {
   "cell_type": "code",
   "execution_count": 151,
   "metadata": {
    "collapsed": true
   },
   "outputs": [],
   "source": [
    "rcell=np.sqrt((dxcell)**2+(dycell)**2) # max(rcell,1000)\n",
    "rcell=np.maximum(rcell,1000)\n",
    "costeta=dxcell/rcell\n",
    "sinteta=dycell/rcell"
   ]
  },
  {
   "cell_type": "markdown",
   "metadata": {},
   "source": [
    "##### Calculate x"
   ]
  },
  {
   "cell_type": "code",
   "execution_count": 152,
   "metadata": {
    "collapsed": false
   },
   "outputs": [],
   "source": [
    "# Calculate x\n",
    "x=calcx(rcell,rmax,maxR,k)"
   ]
  },
  {
   "cell_type": "code",
   "execution_count": 153,
   "metadata": {
    "collapsed": false
   },
   "outputs": [
    {
     "name": "stdout",
     "output_type": "stream",
     "text": [
      "[[ 0.626435  0.626435  0.626435 ...,  0.626435  0.626435  0.626435]\n",
      " [ 0.626435  0.626435  0.626435 ...,  0.626435  0.626435  0.626435]\n",
      " [ 0.626435  0.626435  0.626435 ...,  0.626435  0.626435  0.626435]\n",
      " ..., \n",
      " [ 0.626435  0.626435  0.626435 ...,  0.626435  0.626435  0.626435]\n",
      " [ 0.626435  0.626435  0.626435 ...,  0.626435  0.626435  0.626435]\n",
      " [ 0.626435  0.626435  0.626435 ...,  0.626435  0.626435  0.626435]]\n"
     ]
    }
   ],
   "source": [
    "print x\n"
   ]
  },
  {
   "cell_type": "code",
   "execution_count": 154,
   "metadata": {
    "collapsed": false
   },
   "outputs": [],
   "source": [
    "# Calculate x\n",
    "x2=calcx2(rcell,rmax,maxR,k)"
   ]
  },
  {
   "cell_type": "code",
   "execution_count": 155,
   "metadata": {
    "collapsed": false
   },
   "outputs": [
    {
     "name": "stdout",
     "output_type": "stream",
     "text": [
      "[[ 1.39539647  1.39525829  1.39512035 ...,  1.39512035  1.39525829\n",
      "   1.39539647]\n",
      " [ 1.39485753  1.3947192   1.39458113 ...,  1.39458113  1.3947192\n",
      "   1.39485753]\n",
      " [ 1.39431862  1.39418016  1.39404195 ...,  1.39404195  1.39418016\n",
      "   1.39431862]\n",
      " ..., \n",
      " [ 0.          0.          0.         ...,  0.          0.          0.        ]\n",
      " [ 0.          0.          0.         ...,  0.          0.          0.        ]\n",
      " [ 0.          0.          0.         ...,  0.          0.          0.        ]]\n"
     ]
    }
   ],
   "source": [
    "print x2"
   ]
  },
  {
   "cell_type": "markdown",
   "metadata": {},
   "source": [
    "##### Calculate f"
   ]
  },
  {
   "cell_type": "code",
   "execution_count": 156,
   "metadata": {
    "collapsed": false
   },
   "outputs": [],
   "source": [
    "latcell=ycell\n",
    "f=fcor(latcell, omega)"
   ]
  },
  {
   "cell_type": "markdown",
   "metadata": {},
   "source": [
    "##### Calculate beta"
   ]
  },
  {
   "cell_type": "code",
   "execution_count": 157,
   "metadata": {
    "collapsed": true
   },
   "outputs": [],
   "source": [
    "# calculate beta\n",
    "beta=calcbeta(rcell,rmax)*deg2rad # (use np deg2rad)\n",
    "cosb=np.cos(beta)\n",
    "sinb=np.sin(beta)"
   ]
  },
  {
   "cell_type": "code",
   "execution_count": null,
   "metadata": {
    "collapsed": true
   },
   "outputs": [],
   "source": []
  },
  {
   "cell_type": "markdown",
   "metadata": {
    "collapsed": false
   },
   "source": [
    "##### Calculate pressure "
   ]
  },
  {
   "cell_type": "code",
   "execution_count": 158,
   "metadata": {
    "collapsed": false
   },
   "outputs": [],
   "source": [
    "# calculate pressure field\n",
    "prcell=pres(rcell, dp, pn, rmax, b)"
   ]
  },
  {
   "cell_type": "code",
   "execution_count": 159,
   "metadata": {
    "collapsed": false
   },
   "outputs": [
    {
     "data": {
      "image/png": "[encoded data removed]",
      "text/plain": [
       "<matplotlib.figure.Figure at 0x7f63de6990d0>"
      ]
     },
     "metadata": {},
     "output_type": "display_data"
    }
   ],
   "source": [
    "# Plot pressure\n",
    "plt.figure(figsize=(6,4))\n",
    "plt.plot(xcell[0,:],prcell[1500,:]/100)\n",
    "plt.xlabel('Longitude',fontsize=12)\n",
    "plt.ylabel('Pressure [hPa]',fontsize=12)\n",
    "plt.title('Central Pressure [hPa] ')\n",
    "plt.grid(True)\n",
    "plt.xlim(xhc-1,xhc+1)\n",
    "plt.show()"
   ]
  },
  {
   "cell_type": "code",
   "execution_count": 160,
   "metadata": {
    "collapsed": false
   },
   "outputs": [
    {
     "data": {
      "image/png": "[encoded data removed]",
      "text/plain": [
       "<matplotlib.figure.Figure at 0x7f63deadf350>"
      ]
     },
     "metadata": {},
     "output_type": "display_data"
    }
   ],
   "source": [
    "plt.figure(figsize=(8,6))\n",
    "plt.contourf(xcell,ycell, prcell/100,20)\n",
    "plt.xlabel('longitude',fontsize=12)\n",
    "plt.ylabel('latitude',fontsize=12)\n",
    "plt.title('Pressure',fontsize=12)\n",
    "plt.colorbar(label='hPa')\n",
    "plt.xlim(xhc-2,xhc+2)\n",
    "plt.ylim(yhc-2,yhc+2)\n",
    "plt.show()"
   ]
  },
  {
   "cell_type": "code",
   "execution_count": null,
   "metadata": {
    "collapsed": false
   },
   "outputs": [],
   "source": []
  },
  {
   "cell_type": "markdown",
   "metadata": {},
   "source": [
    "##### Calculate wind"
   ]
  },
  {
   "cell_type": "code",
   "execution_count": 161,
   "metadata": {
    "collapsed": false
   },
   "outputs": [],
   "source": [
    "# calculate v (without vt)\n",
    "vr=vel(rcell,b,rhoa,rmax,maxR,k,dp,x)"
   ]
  },
  {
   "cell_type": "code",
   "execution_count": 162,
   "metadata": {
    "collapsed": false
   },
   "outputs": [],
   "source": [
    "# calculate v (without vt)\n",
    "vrcor=velcor(rcell,b,rhoa,rmax,maxR,k,dp,x,f)"
   ]
  },
  {
   "cell_type": "code",
   "execution_count": 163,
   "metadata": {
    "collapsed": false
   },
   "outputs": [],
   "source": [
    "# calculate v (with vt)\n",
    "vx, vy, vxvt, vyvt = vel2(rcell,sinteta,costeta,b,rhoa,rmax,maxR,k,dp,x,vtx,vty)\n",
    "v=np.sqrt(vx**2+vy**2)\n",
    "vvt=np.sqrt(vxvt**2+vyvt**2)"
   ]
  },
  {
   "cell_type": "code",
   "execution_count": 164,
   "metadata": {
    "collapsed": false
   },
   "outputs": [],
   "source": [
    "# calculate v (with vt)\n",
    "vxc, vyc, vxvtc, vyvtc = vel2cor(rcell,sinteta,costeta,b,rhoa,rmax,maxR,k,dp,x,vtx,vty,f)\n",
    "vc=np.sqrt(vxc**2+vyc**2)\n",
    "vvtc=np.sqrt(vxvtc**2+vyvtc**2)"
   ]
  },
  {
   "cell_type": "code",
   "execution_count": 165,
   "metadata": {
    "collapsed": false
   },
   "outputs": [],
   "source": [
    "# beta correction [with coriolis]+ vt\n",
    "vg=vrcor\n",
    "\n",
    "if yhc>0:\n",
    "    vxb=-vg*(sinteta*cosb+costeta*sinb)\n",
    "    vyb=vg*(costeta*cosb-sinteta*sinb)\n",
    "else: \n",
    "    vxb=vg*(sinteta*cosb-costeta*sinb)\n",
    "    vyb=-vg*(costeta*cosb+sinteta*sinb)\n",
    "\n",
    "\n",
    "vxbvt=vxb+vtx*(1.-np.exp(-(rmax/rcell)**b)) \n",
    "vybvt=vyb+vty*(1.-np.exp(-(rmax/rcell)**b)) \n",
    "vbvt=np.sqrt(vxbvt**2+vybvt**2)"
   ]
  },
  {
   "cell_type": "code",
   "execution_count": 166,
   "metadata": {
    "collapsed": false
   },
   "outputs": [
    {
     "data": {
      "image/png": "[encoded data removed]",
      "text/plain": [
       "<matplotlib.figure.Figure at 0x7f63debb3210>"
      ]
     },
     "metadata": {},
     "output_type": "display_data"
    }
   ],
   "source": [
    "plt.figure(figsize=(6,4))\n",
    "plt.plot(xcell[0,:],v[1500,:]*3.6)\n",
    "plt.plot(xcell[0,:],vvt[1500,:]*3.6, '-r')\n",
    "plt.plot(xcell[0,:],vc[1500,:]*3.6, '--b')\n",
    "plt.plot(xcell[0,:],vvtc[1500,:]*3.6, '--r')\n",
    "plt.plot(xcell[0,:],vbvt[1500,:]*3.6, '--g')\n",
    "plt.xlabel('longitude',fontsize=12)\n",
    "plt.ylabel('velocity',fontsize=12)\n",
    "plt.title('velocity ')\n",
    "plt.xlim((xhc-2,xhc+2))\n",
    "plt.grid(True)\n",
    "plt.show()"
   ]
  },
  {
   "cell_type": "code",
   "execution_count": 167,
   "metadata": {
    "collapsed": false
   },
   "outputs": [
    {
     "data": {
      "image/png": "[encoded data removed]",
      "text/plain": [
       "<matplotlib.figure.Figure at 0x7f63de729bd0>"
      ]
     },
     "metadata": {},
     "output_type": "display_data"
    }
   ],
   "source": [
    "plt.figure(figsize=(8,6))\n",
    "plt.contourf(xcell,ycell, v*3.6,20)\n",
    "plt.xlabel('longitude',fontsize=10)\n",
    "plt.ylabel('latitude',fontsize=10)\n",
    "plt.title('Velocity (no vt)',fontsize=10)\n",
    "plt.colorbar(label='km/h')\n",
    "plt.xlim((xhc-2,xhc+2))\n",
    "plt.ylim((yhc-2,yhc+2))\n",
    "plt.show()"
   ]
  },
  {
   "cell_type": "code",
   "execution_count": 168,
   "metadata": {
    "collapsed": false
   },
   "outputs": [
    {
     "data": {
      "image/png": "[encoded data removed]",
      "text/plain": [
       "<matplotlib.figure.Figure at 0x7f63dec1ced0>"
      ]
     },
     "metadata": {},
     "output_type": "display_data"
    }
   ],
   "source": [
    "plt.figure(figsize=(8,6))\n",
    "plt.contourf(xcell,ycell, vvt*3.6,20)\n",
    "plt.xlabel('longitude',fontsize=10)\n",
    "plt.ylabel('latitude',fontsize=10)\n",
    "plt.title('Velocity (with vt)',fontsize=10)\n",
    "plt.colorbar(label='km/h')\n",
    "plt.xlim((xhc-2,xhc+2))\n",
    "plt.ylim((yhc-2,yhc+2))\n",
    "plt.show()"
   ]
  },
  {
   "cell_type": "code",
   "execution_count": 169,
   "metadata": {
    "collapsed": false
   },
   "outputs": [
    {
     "data": {
      "image/png": "[encoded data removed]",
      "text/plain": [
       "<matplotlib.figure.Figure at 0x7f63de56c310>"
      ]
     },
     "metadata": {},
     "output_type": "display_data"
    }
   ],
   "source": [
    "plt.figure(figsize=(8,6))\n",
    "plt.contourf(xcell,ycell, vvtc*3.6,20)\n",
    "plt.xlabel('longitude',fontsize=10)\n",
    "plt.ylabel('latitude',fontsize=10)\n",
    "plt.title('Velocity (with vt, with coriolis)',fontsize=10)\n",
    "plt.colorbar(label='km/h')\n",
    "plt.xlim((xhc-2,xhc+2))\n",
    "plt.ylim((yhc-2,yhc+2))\n",
    "plt.show()"
   ]
  },
  {
   "cell_type": "code",
   "execution_count": 170,
   "metadata": {
    "collapsed": false
   },
   "outputs": [
    {
     "data": {
      "image/png": "[encoded data removed]",
      "text/plain": [
       "<matplotlib.figure.Figure at 0x7f63dec1c150>"
      ]
     },
     "metadata": {},
     "output_type": "display_data"
    }
   ],
   "source": [
    "plt.figure(figsize=(8,6))\n",
    "plt.contourf(xcell,ycell, vbvt*3.6,20)\n",
    "plt.xlabel('longitude',fontsize=10)\n",
    "plt.ylabel('latitude',fontsize=10)\n",
    "plt.title('Velocity (with vt, with coriolis, with beta correction)',fontsize=10)\n",
    "plt.colorbar(label='km/h')\n",
    "plt.xlim((xhc-2,xhc+2))\n",
    "plt.ylim((yhc-2,yhc+2))\n",
    "plt.show()"
   ]
  },
  {
   "cell_type": "code",
   "execution_count": null,
   "metadata": {
    "collapsed": false
   },
   "outputs": [],
   "source": []
  },
  {
   "cell_type": "code",
   "execution_count": 171,
   "metadata": {
    "collapsed": true
   },
   "outputs": [],
   "source": [
    "from osgeo import gdal,gdal_array\n",
    "import osr\n",
    "\n",
    "dataTypeformat={1:np.byte,2:np.int32,3:np.int32,4:np.float32,5:np.float32,6:np.byte}\n",
    "VSType={1:'VS_BOOLEAN',2:'VS_NOMINAL',3:'VS_ORDINAL',4:'VS_SCALAR',5:'VS_DIRECTION',6:'VS_LDD'}\n",
    "\n",
    "def putmap(filename,var,geo,TYPE,nodata):\n",
    "     driver=gdal.GetDriverByName('PCRaster')\n",
    "     varw=var.astype(dataTypeformat[TYPE])\n",
    "     gtype=gdal_array.NumericTypeCodeToGDALTypeCode(varw.dtype)\n",
    "     NROWS,NCOLS = var.shape\n",
    "     VS='PCRASTER_VALUESCALE={}'.format(VSType[TYPE])\n",
    "     dst_ds=driver.Create(filename,NCOLS,NROWS,1,gtype,[VS])\n",
    "     proj=osr.SpatialReference()\n",
    "     proj.ImportFromEPSG(4326)\n",
    "     dst_ds.SetProjection(proj.ExportToWkt())\n",
    "     dst_ds.SetGeoTransform(geo)\n",
    "     dst_ds.GetRasterBand(1).WriteArray(varw)\n",
    "     dst_ds.GetRasterBand(1).SetNoDataValue(nodata)\n",
    "     dst_ds.FlushCache()\n",
    "     dst_ds=None\n",
    "     return"
   ]
  },
  {
   "cell_type": "code",
   "execution_count": 172,
   "metadata": {
    "collapsed": false
   },
   "outputs": [
    {
     "name": "stdout",
     "output_type": "stream",
     "text": [
      "/mnt/pandora/Users_Critech/Pamela/test/\n"
     ]
    }
   ],
   "source": [
    "#SAVEPATH='/mnt/pandora/Operations_Critech/Emergencies/2016/20160929_Caribbean_TC_MATTHEW/maps_7Oct/data/HWRF/'\n",
    "SAVEPATH='/mnt/pandora/Users_Critech/Pamela/test/'\n",
    "\n",
    "#SAVEPATH='tmp/'\n",
    "print SAVEPATH"
   ]
  },
  {
   "cell_type": "code",
   "execution_count": 173,
   "metadata": {
    "collapsed": true
   },
   "outputs": [],
   "source": [
    "timei='00'"
   ]
  },
  {
   "cell_type": "code",
   "execution_count": 174,
   "metadata": {
    "collapsed": false
   },
   "outputs": [
    {
     "name": "stdout",
     "output_type": "stream",
     "text": [
      "0.02002002002\n"
     ]
    }
   ],
   "source": [
    "TYPE=4     \n",
    "dd=xcell[0,1]-xcell[0,0]\n",
    "print dd\n",
    "geo=(xcell.min(),dd,0,ycell.max(),0, -dd)  \n",
    "nodata=-9999.\n",
    "putmap(SAVEPATH+'wind10m'+hurName+timei+'_'+str(bul)+'_'+'_nocoriolis.tif',np.flipud(vvt),geo,TYPE,nodata)\n",
    "putmap(SAVEPATH+'wind10m'+hurName+timei+'_'+str(bul)+'_'+'_withcoriolis.tif',np.flipud(vvtc),geo,TYPE,nodata)\n",
    "putmap(SAVEPATH+'wind10m'+hurName+timei+'_'+str(bul)+'_'+'_withcoriolis_withbeta.tif',np.flipud(vbvt),geo,TYPE,nodata)"
   ]
  },
  {
   "cell_type": "code",
   "execution_count": null,
   "metadata": {
    "collapsed": true
   },
   "outputs": [],
   "source": [
    "\n"
   ]
  },
  {
   "cell_type": "code",
   "execution_count": null,
   "metadata": {
    "collapsed": true
   },
   "outputs": [],
   "source": []
  },
  {
   "cell_type": "code",
   "execution_count": null,
   "metadata": {
    "collapsed": false
   },
   "outputs": [],
   "source": []
  },
  {
   "cell_type": "code",
   "execution_count": null,
   "metadata": {
    "collapsed": false
   },
   "outputs": [],
   "source": []
  },
  {
   "cell_type": "code",
   "execution_count": null,
   "metadata": {
    "collapsed": false
   },
   "outputs": [],
   "source": []
  },
  {
   "cell_type": "code",
   "execution_count": null,
   "metadata": {
    "collapsed": false
   },
   "outputs": [],
   "source": []
  },
  {
   "cell_type": "code",
   "execution_count": null,
   "metadata": {
    "collapsed": true
   },
   "outputs": [],
   "source": []
  },
  {
   "cell_type": "code",
   "execution_count": null,
   "metadata": {
    "collapsed": true
   },
   "outputs": [],
   "source": []
  },
  {
   "cell_type": "code",
   "execution_count": null,
   "metadata": {
    "collapsed": false
   },
   "outputs": [],
   "source": []
  },
  {
   "cell_type": "code",
   "execution_count": null,
   "metadata": {
    "collapsed": false
   },
   "outputs": [],
   "source": []
  },
  {
   "cell_type": "code",
   "execution_count": null,
   "metadata": {
    "collapsed": false
   },
   "outputs": [],
   "source": []
  },
  {
   "cell_type": "code",
   "execution_count": null,
   "metadata": {
    "collapsed": false
   },
   "outputs": [],
   "source": []
  },
  {
   "cell_type": "code",
   "execution_count": null,
   "metadata": {
    "collapsed": false
   },
   "outputs": [],
   "source": []
  },
  {
   "cell_type": "code",
   "execution_count": null,
   "metadata": {
    "collapsed": false
   },
   "outputs": [],
   "source": []
  },
  {
   "cell_type": "code",
   "execution_count": null,
   "metadata": {
    "collapsed": false
   },
   "outputs": [],
   "source": []
  },
  {
   "cell_type": "code",
   "execution_count": null,
   "metadata": {
    "collapsed": true
   },
   "outputs": [],
   "source": []
  }
 ],
 "metadata": {
  "kernelspec": {
   "display_name": "Python 2",
   "language": "python",
   "name": "python2"
  },
  "language_info": {
   "codemirror_mode": {
    "name": "ipython",
    "version": 2
   },
   "file_extension": ".py",
   "mimetype": "text/x-python",
   "name": "python",
   "nbconvert_exporter": "python",
   "pygments_lexer": "ipython2",
   "version": "2.7.12"
  }
 },
 "nbformat": 4,
 "nbformat_minor": 0
}
