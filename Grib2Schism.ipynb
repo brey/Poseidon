{
 "cells": [
  {
   "cell_type": "markdown",
   "metadata": {
    "collapsed": true,
    "deletable": true,
    "editable": true
   },
   "source": [
    "## Extract from ECMWF grib files to Schism NetCDF input"
   ]
  },
  {
   "cell_type": "code",
   "execution_count": 2,
   "metadata": {
    "collapsed": true,
    "deletable": true,
    "editable": true
   },
   "outputs": [],
   "source": [
    "#!/usr/bin/env python\n",
    "#\n",
    "# Meteo to nc for Schism\n",
    "\n",
    "from Poseidon.utils import *\n",
    "from Poseidon.meteo import *\n",
    "from netCDF4 import Dataset\n",
    "import datetime\n",
    "\n",
    "inPATH='/home/critechproc/STORAGE/meteo/'\n",
    "outPATH='/home/critechproc/STORAGE/SCHISM/UVP/'\n",
    "\n",
    "\n",
    "#define in a dictionary the properties e.g\n",
    "dic={'lon0':-35., # lat/lon window\n",
    "     'lon1':43.,\n",
    "     'lat0':24.5,\n",
    "     'lat1':76.5}\n",
    "\n",
    "\n",
    "#creating a time sequence of the runs\n",
    "\n",
    "start_date = datetime.datetime(2010,2,1,0)\n",
    "\n",
    "end_date = datetime.datetime(2016,3,1,0)\n",
    "\n",
    "time_interval = datetime.timedelta(hours=12)\n",
    "\n",
    "dt=(end_date-start_date).total_seconds()\n",
    "\n",
    "ndt=dt/time_interval.total_seconds()\n",
    "\n",
    "ndt=np.int(ndt)+1\n",
    "\n",
    "\n",
    "date_list = [start_date + time_interval*x for x in range(ndt)]\n",
    "\n",
    "#creating a sequence of folder from which we read the meteo.\n",
    "\n",
    "it=1 #initialize index"
   ]
  },
  {
   "cell_type": "code",
   "execution_count": 36,
   "metadata": {
    "collapsed": false,
    "deletable": true,
    "editable": true
   },
   "outputs": [
    {
     "data": {
      "text/plain": [
       "[datetime.datetime(2010, 2, 1, 0, 0),\n",
       " datetime.datetime(2010, 2, 1, 12, 0),\n",
       " datetime.datetime(2010, 2, 2, 0, 0),\n",
       " datetime.datetime(2010, 2, 2, 12, 0),\n",
       " datetime.datetime(2010, 2, 3, 0, 0),\n",
       " datetime.datetime(2010, 2, 3, 12, 0),\n",
       " datetime.datetime(2010, 2, 4, 0, 0),\n",
       " datetime.datetime(2010, 2, 4, 12, 0),\n",
       " datetime.datetime(2010, 2, 5, 0, 0),\n",
       " datetime.datetime(2010, 2, 5, 12, 0),\n",
       " datetime.datetime(2010, 2, 6, 0, 0),\n",
       " datetime.datetime(2010, 2, 6, 12, 0),\n",
       " datetime.datetime(2010, 2, 7, 0, 0),\n",
       " datetime.datetime(2010, 2, 7, 12, 0),\n",
       " datetime.datetime(2010, 2, 8, 0, 0),\n",
       " datetime.datetime(2010, 2, 8, 12, 0),\n",
       " datetime.datetime(2010, 2, 9, 0, 0),\n",
       " datetime.datetime(2010, 2, 9, 12, 0),\n",
       " datetime.datetime(2010, 2, 10, 0, 0),\n",
       " datetime.datetime(2010, 2, 10, 12, 0),\n",
       " datetime.datetime(2010, 2, 11, 0, 0),\n",
       " datetime.datetime(2010, 2, 11, 12, 0),\n",
       " datetime.datetime(2010, 2, 12, 0, 0),\n",
       " datetime.datetime(2010, 2, 12, 12, 0),\n",
       " datetime.datetime(2010, 2, 13, 0, 0),\n",
       " datetime.datetime(2010, 2, 13, 12, 0),\n",
       " datetime.datetime(2010, 2, 14, 0, 0),\n",
       " datetime.datetime(2010, 2, 14, 12, 0),\n",
       " datetime.datetime(2010, 2, 15, 0, 0),\n",
       " datetime.datetime(2010, 2, 15, 12, 0),\n",
       " datetime.datetime(2010, 2, 16, 0, 0),\n",
       " datetime.datetime(2010, 2, 16, 12, 0),\n",
       " datetime.datetime(2010, 2, 17, 0, 0),\n",
       " datetime.datetime(2010, 2, 17, 12, 0),\n",
       " datetime.datetime(2010, 2, 18, 0, 0),\n",
       " datetime.datetime(2010, 2, 18, 12, 0),\n",
       " datetime.datetime(2010, 2, 19, 0, 0),\n",
       " datetime.datetime(2010, 2, 19, 12, 0),\n",
       " datetime.datetime(2010, 2, 20, 0, 0),\n",
       " datetime.datetime(2010, 2, 20, 12, 0),\n",
       " datetime.datetime(2010, 2, 21, 0, 0),\n",
       " datetime.datetime(2010, 2, 21, 12, 0),\n",
       " datetime.datetime(2010, 2, 22, 0, 0),\n",
       " datetime.datetime(2010, 2, 22, 12, 0),\n",
       " datetime.datetime(2010, 2, 23, 0, 0),\n",
       " datetime.datetime(2010, 2, 23, 12, 0),\n",
       " datetime.datetime(2010, 2, 24, 0, 0),\n",
       " datetime.datetime(2010, 2, 24, 12, 0),\n",
       " datetime.datetime(2010, 2, 25, 0, 0),\n",
       " datetime.datetime(2010, 2, 25, 12, 0),\n",
       " datetime.datetime(2010, 2, 26, 0, 0),\n",
       " datetime.datetime(2010, 2, 26, 12, 0),\n",
       " datetime.datetime(2010, 2, 27, 0, 0),\n",
       " datetime.datetime(2010, 2, 27, 12, 0),\n",
       " datetime.datetime(2010, 2, 28, 0, 0),\n",
       " datetime.datetime(2010, 2, 28, 12, 0),\n",
       " datetime.datetime(2010, 3, 1, 0, 0),\n",
       " datetime.datetime(2010, 3, 1, 12, 0),\n",
       " datetime.datetime(2010, 3, 2, 0, 0),\n",
       " datetime.datetime(2010, 3, 2, 12, 0),\n",
       " datetime.datetime(2010, 3, 3, 0, 0),\n",
       " datetime.datetime(2010, 3, 3, 12, 0),\n",
       " datetime.datetime(2010, 3, 4, 0, 0),\n",
       " datetime.datetime(2010, 3, 4, 12, 0),\n",
       " datetime.datetime(2010, 3, 5, 0, 0),\n",
       " datetime.datetime(2010, 3, 5, 12, 0),\n",
       " datetime.datetime(2010, 3, 6, 0, 0),\n",
       " datetime.datetime(2010, 3, 6, 12, 0),\n",
       " datetime.datetime(2010, 3, 7, 0, 0),\n",
       " datetime.datetime(2010, 3, 7, 12, 0),\n",
       " datetime.datetime(2010, 3, 8, 0, 0),\n",
       " datetime.datetime(2010, 3, 8, 12, 0),\n",
       " datetime.datetime(2010, 3, 9, 0, 0),\n",
       " datetime.datetime(2010, 3, 9, 12, 0),\n",
       " datetime.datetime(2010, 3, 10, 0, 0),\n",
       " datetime.datetime(2010, 3, 10, 12, 0),\n",
       " datetime.datetime(2010, 3, 11, 0, 0),\n",
       " datetime.datetime(2010, 3, 11, 12, 0),\n",
       " datetime.datetime(2010, 3, 12, 0, 0),\n",
       " datetime.datetime(2010, 3, 12, 12, 0),\n",
       " datetime.datetime(2010, 3, 13, 0, 0),\n",
       " datetime.datetime(2010, 3, 13, 12, 0),\n",
       " datetime.datetime(2010, 3, 14, 0, 0),\n",
       " datetime.datetime(2010, 3, 14, 12, 0),\n",
       " datetime.datetime(2010, 3, 15, 0, 0),\n",
       " datetime.datetime(2010, 3, 15, 12, 0),\n",
       " datetime.datetime(2010, 3, 16, 0, 0),\n",
       " datetime.datetime(2010, 3, 16, 12, 0),\n",
       " datetime.datetime(2010, 3, 17, 0, 0),\n",
       " datetime.datetime(2010, 3, 17, 12, 0),\n",
       " datetime.datetime(2010, 3, 18, 0, 0),\n",
       " datetime.datetime(2010, 3, 18, 12, 0),\n",
       " datetime.datetime(2010, 3, 19, 0, 0),\n",
       " datetime.datetime(2010, 3, 19, 12, 0),\n",
       " datetime.datetime(2010, 3, 20, 0, 0),\n",
       " datetime.datetime(2010, 3, 20, 12, 0),\n",
       " datetime.datetime(2010, 3, 21, 0, 0),\n",
       " datetime.datetime(2010, 3, 21, 12, 0),\n",
       " datetime.datetime(2010, 3, 22, 0, 0),\n",
       " datetime.datetime(2010, 3, 22, 12, 0),\n",
       " datetime.datetime(2010, 3, 23, 0, 0),\n",
       " datetime.datetime(2010, 3, 23, 12, 0),\n",
       " datetime.datetime(2010, 3, 24, 0, 0),\n",
       " datetime.datetime(2010, 3, 24, 12, 0),\n",
       " datetime.datetime(2010, 3, 25, 0, 0),\n",
       " datetime.datetime(2010, 3, 25, 12, 0),\n",
       " datetime.datetime(2010, 3, 26, 0, 0),\n",
       " datetime.datetime(2010, 3, 26, 12, 0),\n",
       " datetime.datetime(2010, 3, 27, 0, 0),\n",
       " datetime.datetime(2010, 3, 27, 12, 0),\n",
       " datetime.datetime(2010, 3, 28, 0, 0),\n",
       " datetime.datetime(2010, 3, 28, 12, 0),\n",
       " datetime.datetime(2010, 3, 29, 0, 0),\n",
       " datetime.datetime(2010, 3, 29, 12, 0),\n",
       " datetime.datetime(2010, 3, 30, 0, 0),\n",
       " datetime.datetime(2010, 3, 30, 12, 0),\n",
       " datetime.datetime(2010, 3, 31, 0, 0),\n",
       " datetime.datetime(2010, 3, 31, 12, 0),\n",
       " datetime.datetime(2010, 4, 1, 0, 0),\n",
       " datetime.datetime(2010, 4, 1, 12, 0),\n",
       " datetime.datetime(2010, 4, 2, 0, 0),\n",
       " datetime.datetime(2010, 4, 2, 12, 0),\n",
       " datetime.datetime(2010, 4, 3, 0, 0),\n",
       " datetime.datetime(2010, 4, 3, 12, 0),\n",
       " datetime.datetime(2010, 4, 4, 0, 0),\n",
       " datetime.datetime(2010, 4, 4, 12, 0),\n",
       " datetime.datetime(2010, 4, 5, 0, 0),\n",
       " datetime.datetime(2010, 4, 5, 12, 0),\n",
       " datetime.datetime(2010, 4, 6, 0, 0),\n",
       " datetime.datetime(2010, 4, 6, 12, 0),\n",
       " datetime.datetime(2010, 4, 7, 0, 0),\n",
       " datetime.datetime(2010, 4, 7, 12, 0),\n",
       " datetime.datetime(2010, 4, 8, 0, 0),\n",
       " datetime.datetime(2010, 4, 8, 12, 0),\n",
       " datetime.datetime(2010, 4, 9, 0, 0),\n",
       " datetime.datetime(2010, 4, 9, 12, 0),\n",
       " datetime.datetime(2010, 4, 10, 0, 0),\n",
       " datetime.datetime(2010, 4, 10, 12, 0),\n",
       " datetime.datetime(2010, 4, 11, 0, 0),\n",
       " datetime.datetime(2010, 4, 11, 12, 0),\n",
       " datetime.datetime(2010, 4, 12, 0, 0),\n",
       " datetime.datetime(2010, 4, 12, 12, 0),\n",
       " datetime.datetime(2010, 4, 13, 0, 0),\n",
       " datetime.datetime(2010, 4, 13, 12, 0),\n",
       " datetime.datetime(2010, 4, 14, 0, 0),\n",
       " datetime.datetime(2010, 4, 14, 12, 0),\n",
       " datetime.datetime(2010, 4, 15, 0, 0),\n",
       " datetime.datetime(2010, 4, 15, 12, 0),\n",
       " datetime.datetime(2010, 4, 16, 0, 0),\n",
       " datetime.datetime(2010, 4, 16, 12, 0),\n",
       " datetime.datetime(2010, 4, 17, 0, 0),\n",
       " datetime.datetime(2010, 4, 17, 12, 0),\n",
       " datetime.datetime(2010, 4, 18, 0, 0),\n",
       " datetime.datetime(2010, 4, 18, 12, 0),\n",
       " datetime.datetime(2010, 4, 19, 0, 0),\n",
       " datetime.datetime(2010, 4, 19, 12, 0),\n",
       " datetime.datetime(2010, 4, 20, 0, 0),\n",
       " datetime.datetime(2010, 4, 20, 12, 0),\n",
       " datetime.datetime(2010, 4, 21, 0, 0),\n",
       " datetime.datetime(2010, 4, 21, 12, 0),\n",
       " datetime.datetime(2010, 4, 22, 0, 0),\n",
       " datetime.datetime(2010, 4, 22, 12, 0),\n",
       " datetime.datetime(2010, 4, 23, 0, 0),\n",
       " datetime.datetime(2010, 4, 23, 12, 0),\n",
       " datetime.datetime(2010, 4, 24, 0, 0),\n",
       " datetime.datetime(2010, 4, 24, 12, 0),\n",
       " datetime.datetime(2010, 4, 25, 0, 0),\n",
       " datetime.datetime(2010, 4, 25, 12, 0),\n",
       " datetime.datetime(2010, 4, 26, 0, 0),\n",
       " datetime.datetime(2010, 4, 26, 12, 0),\n",
       " datetime.datetime(2010, 4, 27, 0, 0),\n",
       " datetime.datetime(2010, 4, 27, 12, 0),\n",
       " datetime.datetime(2010, 4, 28, 0, 0),\n",
       " datetime.datetime(2010, 4, 28, 12, 0),\n",
       " datetime.datetime(2010, 4, 29, 0, 0),\n",
       " datetime.datetime(2010, 4, 29, 12, 0),\n",
       " datetime.datetime(2010, 4, 30, 0, 0),\n",
       " datetime.datetime(2010, 4, 30, 12, 0),\n",
       " datetime.datetime(2010, 5, 1, 0, 0),\n",
       " datetime.datetime(2010, 5, 1, 12, 0),\n",
       " datetime.datetime(2010, 5, 2, 0, 0),\n",
       " datetime.datetime(2010, 5, 2, 12, 0),\n",
       " datetime.datetime(2010, 5, 3, 0, 0),\n",
       " datetime.datetime(2010, 5, 3, 12, 0),\n",
       " datetime.datetime(2010, 5, 4, 0, 0),\n",
       " datetime.datetime(2010, 5, 4, 12, 0),\n",
       " datetime.datetime(2010, 5, 5, 0, 0),\n",
       " datetime.datetime(2010, 5, 5, 12, 0),\n",
       " datetime.datetime(2010, 5, 6, 0, 0),\n",
       " datetime.datetime(2010, 5, 6, 12, 0),\n",
       " datetime.datetime(2010, 5, 7, 0, 0),\n",
       " datetime.datetime(2010, 5, 7, 12, 0),\n",
       " datetime.datetime(2010, 5, 8, 0, 0),\n",
       " datetime.datetime(2010, 5, 8, 12, 0),\n",
       " datetime.datetime(2010, 5, 9, 0, 0),\n",
       " datetime.datetime(2010, 5, 9, 12, 0),\n",
       " datetime.datetime(2010, 5, 10, 0, 0),\n",
       " datetime.datetime(2010, 5, 10, 12, 0),\n",
       " datetime.datetime(2010, 5, 11, 0, 0),\n",
       " datetime.datetime(2010, 5, 11, 12, 0),\n",
       " datetime.datetime(2010, 5, 12, 0, 0),\n",
       " datetime.datetime(2010, 5, 12, 12, 0),\n",
       " datetime.datetime(2010, 5, 13, 0, 0),\n",
       " datetime.datetime(2010, 5, 13, 12, 0),\n",
       " datetime.datetime(2010, 5, 14, 0, 0),\n",
       " datetime.datetime(2010, 5, 14, 12, 0),\n",
       " datetime.datetime(2010, 5, 15, 0, 0),\n",
       " datetime.datetime(2010, 5, 15, 12, 0),\n",
       " datetime.datetime(2010, 5, 16, 0, 0),\n",
       " datetime.datetime(2010, 5, 16, 12, 0),\n",
       " datetime.datetime(2010, 5, 17, 0, 0),\n",
       " datetime.datetime(2010, 5, 17, 12, 0),\n",
       " datetime.datetime(2010, 5, 18, 0, 0),\n",
       " datetime.datetime(2010, 5, 18, 12, 0),\n",
       " datetime.datetime(2010, 5, 19, 0, 0),\n",
       " datetime.datetime(2010, 5, 19, 12, 0),\n",
       " datetime.datetime(2010, 5, 20, 0, 0),\n",
       " datetime.datetime(2010, 5, 20, 12, 0),\n",
       " datetime.datetime(2010, 5, 21, 0, 0),\n",
       " datetime.datetime(2010, 5, 21, 12, 0),\n",
       " datetime.datetime(2010, 5, 22, 0, 0),\n",
       " datetime.datetime(2010, 5, 22, 12, 0),\n",
       " datetime.datetime(2010, 5, 23, 0, 0),\n",
       " datetime.datetime(2010, 5, 23, 12, 0),\n",
       " datetime.datetime(2010, 5, 24, 0, 0),\n",
       " datetime.datetime(2010, 5, 24, 12, 0),\n",
       " datetime.datetime(2010, 5, 25, 0, 0),\n",
       " datetime.datetime(2010, 5, 25, 12, 0),\n",
       " datetime.datetime(2010, 5, 26, 0, 0),\n",
       " datetime.datetime(2010, 5, 26, 12, 0),\n",
       " datetime.datetime(2010, 5, 27, 0, 0),\n",
       " datetime.datetime(2010, 5, 27, 12, 0),\n",
       " datetime.datetime(2010, 5, 28, 0, 0),\n",
       " datetime.datetime(2010, 5, 28, 12, 0),\n",
       " datetime.datetime(2010, 5, 29, 0, 0),\n",
       " datetime.datetime(2010, 5, 29, 12, 0),\n",
       " datetime.datetime(2010, 5, 30, 0, 0),\n",
       " datetime.datetime(2010, 5, 30, 12, 0),\n",
       " datetime.datetime(2010, 5, 31, 0, 0),\n",
       " datetime.datetime(2010, 5, 31, 12, 0),\n",
       " datetime.datetime(2010, 6, 1, 0, 0),\n",
       " datetime.datetime(2010, 6, 1, 12, 0),\n",
       " datetime.datetime(2010, 6, 2, 0, 0),\n",
       " datetime.datetime(2010, 6, 2, 12, 0),\n",
       " datetime.datetime(2010, 6, 3, 0, 0),\n",
       " datetime.datetime(2010, 6, 3, 12, 0),\n",
       " datetime.datetime(2010, 6, 4, 0, 0),\n",
       " datetime.datetime(2010, 6, 4, 12, 0),\n",
       " datetime.datetime(2010, 6, 5, 0, 0),\n",
       " datetime.datetime(2010, 6, 5, 12, 0),\n",
       " datetime.datetime(2010, 6, 6, 0, 0),\n",
       " datetime.datetime(2010, 6, 6, 12, 0),\n",
       " datetime.datetime(2010, 6, 7, 0, 0),\n",
       " datetime.datetime(2010, 6, 7, 12, 0),\n",
       " datetime.datetime(2010, 6, 8, 0, 0),\n",
       " datetime.datetime(2010, 6, 8, 12, 0),\n",
       " datetime.datetime(2010, 6, 9, 0, 0),\n",
       " datetime.datetime(2010, 6, 9, 12, 0),\n",
       " datetime.datetime(2010, 6, 10, 0, 0),\n",
       " datetime.datetime(2010, 6, 10, 12, 0),\n",
       " datetime.datetime(2010, 6, 11, 0, 0),\n",
       " datetime.datetime(2010, 6, 11, 12, 0),\n",
       " datetime.datetime(2010, 6, 12, 0, 0),\n",
       " datetime.datetime(2010, 6, 12, 12, 0),\n",
       " datetime.datetime(2010, 6, 13, 0, 0),\n",
       " datetime.datetime(2010, 6, 13, 12, 0),\n",
       " datetime.datetime(2010, 6, 14, 0, 0),\n",
       " datetime.datetime(2010, 6, 14, 12, 0),\n",
       " datetime.datetime(2010, 6, 15, 0, 0),\n",
       " datetime.datetime(2010, 6, 15, 12, 0),\n",
       " datetime.datetime(2010, 6, 16, 0, 0),\n",
       " datetime.datetime(2010, 6, 16, 12, 0),\n",
       " datetime.datetime(2010, 6, 17, 0, 0),\n",
       " datetime.datetime(2010, 6, 17, 12, 0),\n",
       " datetime.datetime(2010, 6, 18, 0, 0),\n",
       " datetime.datetime(2010, 6, 18, 12, 0),\n",
       " datetime.datetime(2010, 6, 19, 0, 0),\n",
       " datetime.datetime(2010, 6, 19, 12, 0),\n",
       " datetime.datetime(2010, 6, 20, 0, 0),\n",
       " datetime.datetime(2010, 6, 20, 12, 0),\n",
       " datetime.datetime(2010, 6, 21, 0, 0),\n",
       " datetime.datetime(2010, 6, 21, 12, 0),\n",
       " datetime.datetime(2010, 6, 22, 0, 0),\n",
       " datetime.datetime(2010, 6, 22, 12, 0),\n",
       " datetime.datetime(2010, 6, 23, 0, 0),\n",
       " datetime.datetime(2010, 6, 23, 12, 0),\n",
       " datetime.datetime(2010, 6, 24, 0, 0),\n",
       " datetime.datetime(2010, 6, 24, 12, 0),\n",
       " datetime.datetime(2010, 6, 25, 0, 0),\n",
       " datetime.datetime(2010, 6, 25, 12, 0),\n",
       " datetime.datetime(2010, 6, 26, 0, 0),\n",
       " datetime.datetime(2010, 6, 26, 12, 0),\n",
       " datetime.datetime(2010, 6, 27, 0, 0),\n",
       " datetime.datetime(2010, 6, 27, 12, 0),\n",
       " datetime.datetime(2010, 6, 28, 0, 0),\n",
       " datetime.datetime(2010, 6, 28, 12, 0),\n",
       " datetime.datetime(2010, 6, 29, 0, 0),\n",
       " datetime.datetime(2010, 6, 29, 12, 0),\n",
       " datetime.datetime(2010, 6, 30, 0, 0),\n",
       " datetime.datetime(2010, 6, 30, 12, 0),\n",
       " datetime.datetime(2010, 7, 1, 0, 0),\n",
       " datetime.datetime(2010, 7, 1, 12, 0),\n",
       " datetime.datetime(2010, 7, 2, 0, 0),\n",
       " datetime.datetime(2010, 7, 2, 12, 0),\n",
       " datetime.datetime(2010, 7, 3, 0, 0),\n",
       " datetime.datetime(2010, 7, 3, 12, 0),\n",
       " datetime.datetime(2010, 7, 4, 0, 0),\n",
       " datetime.datetime(2010, 7, 4, 12, 0),\n",
       " datetime.datetime(2010, 7, 5, 0, 0),\n",
       " datetime.datetime(2010, 7, 5, 12, 0),\n",
       " datetime.datetime(2010, 7, 6, 0, 0),\n",
       " datetime.datetime(2010, 7, 6, 12, 0),\n",
       " datetime.datetime(2010, 7, 7, 0, 0),\n",
       " datetime.datetime(2010, 7, 7, 12, 0),\n",
       " datetime.datetime(2010, 7, 8, 0, 0),\n",
       " datetime.datetime(2010, 7, 8, 12, 0),\n",
       " datetime.datetime(2010, 7, 9, 0, 0),\n",
       " datetime.datetime(2010, 7, 9, 12, 0),\n",
       " datetime.datetime(2010, 7, 10, 0, 0),\n",
       " datetime.datetime(2010, 7, 10, 12, 0),\n",
       " datetime.datetime(2010, 7, 11, 0, 0),\n",
       " datetime.datetime(2010, 7, 11, 12, 0),\n",
       " datetime.datetime(2010, 7, 12, 0, 0),\n",
       " datetime.datetime(2010, 7, 12, 12, 0),\n",
       " datetime.datetime(2010, 7, 13, 0, 0),\n",
       " datetime.datetime(2010, 7, 13, 12, 0),\n",
       " datetime.datetime(2010, 7, 14, 0, 0),\n",
       " datetime.datetime(2010, 7, 14, 12, 0),\n",
       " datetime.datetime(2010, 7, 15, 0, 0),\n",
       " datetime.datetime(2010, 7, 15, 12, 0),\n",
       " datetime.datetime(2010, 7, 16, 0, 0),\n",
       " datetime.datetime(2010, 7, 16, 12, 0),\n",
       " datetime.datetime(2010, 7, 17, 0, 0),\n",
       " datetime.datetime(2010, 7, 17, 12, 0),\n",
       " datetime.datetime(2010, 7, 18, 0, 0),\n",
       " datetime.datetime(2010, 7, 18, 12, 0),\n",
       " datetime.datetime(2010, 7, 19, 0, 0),\n",
       " datetime.datetime(2010, 7, 19, 12, 0),\n",
       " datetime.datetime(2010, 7, 20, 0, 0),\n",
       " datetime.datetime(2010, 7, 20, 12, 0),\n",
       " datetime.datetime(2010, 7, 21, 0, 0),\n",
       " datetime.datetime(2010, 7, 21, 12, 0),\n",
       " datetime.datetime(2010, 7, 22, 0, 0),\n",
       " datetime.datetime(2010, 7, 22, 12, 0),\n",
       " datetime.datetime(2010, 7, 23, 0, 0),\n",
       " datetime.datetime(2010, 7, 23, 12, 0),\n",
       " datetime.datetime(2010, 7, 24, 0, 0),\n",
       " datetime.datetime(2010, 7, 24, 12, 0),\n",
       " datetime.datetime(2010, 7, 25, 0, 0),\n",
       " datetime.datetime(2010, 7, 25, 12, 0),\n",
       " datetime.datetime(2010, 7, 26, 0, 0),\n",
       " datetime.datetime(2010, 7, 26, 12, 0),\n",
       " datetime.datetime(2010, 7, 27, 0, 0),\n",
       " datetime.datetime(2010, 7, 27, 12, 0),\n",
       " datetime.datetime(2010, 7, 28, 0, 0),\n",
       " datetime.datetime(2010, 7, 28, 12, 0),\n",
       " datetime.datetime(2010, 7, 29, 0, 0),\n",
       " datetime.datetime(2010, 7, 29, 12, 0),\n",
       " datetime.datetime(2010, 7, 30, 0, 0),\n",
       " datetime.datetime(2010, 7, 30, 12, 0),\n",
       " datetime.datetime(2010, 7, 31, 0, 0),\n",
       " datetime.datetime(2010, 7, 31, 12, 0),\n",
       " datetime.datetime(2010, 8, 1, 0, 0),\n",
       " datetime.datetime(2010, 8, 1, 12, 0),\n",
       " datetime.datetime(2010, 8, 2, 0, 0),\n",
       " datetime.datetime(2010, 8, 2, 12, 0),\n",
       " datetime.datetime(2010, 8, 3, 0, 0),\n",
       " datetime.datetime(2010, 8, 3, 12, 0),\n",
       " datetime.datetime(2010, 8, 4, 0, 0),\n",
       " datetime.datetime(2010, 8, 4, 12, 0),\n",
       " datetime.datetime(2010, 8, 5, 0, 0),\n",
       " datetime.datetime(2010, 8, 5, 12, 0),\n",
       " datetime.datetime(2010, 8, 6, 0, 0),\n",
       " datetime.datetime(2010, 8, 6, 12, 0),\n",
       " datetime.datetime(2010, 8, 7, 0, 0),\n",
       " datetime.datetime(2010, 8, 7, 12, 0),\n",
       " datetime.datetime(2010, 8, 8, 0, 0),\n",
       " datetime.datetime(2010, 8, 8, 12, 0),\n",
       " datetime.datetime(2010, 8, 9, 0, 0),\n",
       " datetime.datetime(2010, 8, 9, 12, 0),\n",
       " datetime.datetime(2010, 8, 10, 0, 0),\n",
       " datetime.datetime(2010, 8, 10, 12, 0),\n",
       " datetime.datetime(2010, 8, 11, 0, 0),\n",
       " datetime.datetime(2010, 8, 11, 12, 0),\n",
       " datetime.datetime(2010, 8, 12, 0, 0),\n",
       " datetime.datetime(2010, 8, 12, 12, 0),\n",
       " datetime.datetime(2010, 8, 13, 0, 0),\n",
       " datetime.datetime(2010, 8, 13, 12, 0),\n",
       " datetime.datetime(2010, 8, 14, 0, 0),\n",
       " datetime.datetime(2010, 8, 14, 12, 0),\n",
       " datetime.datetime(2010, 8, 15, 0, 0),\n",
       " datetime.datetime(2010, 8, 15, 12, 0),\n",
       " datetime.datetime(2010, 8, 16, 0, 0),\n",
       " datetime.datetime(2010, 8, 16, 12, 0),\n",
       " datetime.datetime(2010, 8, 17, 0, 0),\n",
       " datetime.datetime(2010, 8, 17, 12, 0),\n",
       " datetime.datetime(2010, 8, 18, 0, 0),\n",
       " datetime.datetime(2010, 8, 18, 12, 0),\n",
       " datetime.datetime(2010, 8, 19, 0, 0),\n",
       " datetime.datetime(2010, 8, 19, 12, 0),\n",
       " datetime.datetime(2010, 8, 20, 0, 0),\n",
       " datetime.datetime(2010, 8, 20, 12, 0),\n",
       " datetime.datetime(2010, 8, 21, 0, 0),\n",
       " datetime.datetime(2010, 8, 21, 12, 0),\n",
       " datetime.datetime(2010, 8, 22, 0, 0),\n",
       " datetime.datetime(2010, 8, 22, 12, 0),\n",
       " datetime.datetime(2010, 8, 23, 0, 0),\n",
       " datetime.datetime(2010, 8, 23, 12, 0),\n",
       " datetime.datetime(2010, 8, 24, 0, 0),\n",
       " datetime.datetime(2010, 8, 24, 12, 0),\n",
       " datetime.datetime(2010, 8, 25, 0, 0),\n",
       " datetime.datetime(2010, 8, 25, 12, 0),\n",
       " datetime.datetime(2010, 8, 26, 0, 0),\n",
       " datetime.datetime(2010, 8, 26, 12, 0),\n",
       " datetime.datetime(2010, 8, 27, 0, 0),\n",
       " datetime.datetime(2010, 8, 27, 12, 0),\n",
       " datetime.datetime(2010, 8, 28, 0, 0),\n",
       " datetime.datetime(2010, 8, 28, 12, 0),\n",
       " datetime.datetime(2010, 8, 29, 0, 0),\n",
       " datetime.datetime(2010, 8, 29, 12, 0),\n",
       " datetime.datetime(2010, 8, 30, 0, 0),\n",
       " datetime.datetime(2010, 8, 30, 12, 0),\n",
       " datetime.datetime(2010, 8, 31, 0, 0),\n",
       " datetime.datetime(2010, 8, 31, 12, 0),\n",
       " datetime.datetime(2010, 9, 1, 0, 0),\n",
       " datetime.datetime(2010, 9, 1, 12, 0),\n",
       " datetime.datetime(2010, 9, 2, 0, 0),\n",
       " datetime.datetime(2010, 9, 2, 12, 0),\n",
       " datetime.datetime(2010, 9, 3, 0, 0),\n",
       " datetime.datetime(2010, 9, 3, 12, 0),\n",
       " datetime.datetime(2010, 9, 4, 0, 0),\n",
       " datetime.datetime(2010, 9, 4, 12, 0),\n",
       " datetime.datetime(2010, 9, 5, 0, 0),\n",
       " datetime.datetime(2010, 9, 5, 12, 0),\n",
       " datetime.datetime(2010, 9, 6, 0, 0),\n",
       " datetime.datetime(2010, 9, 6, 12, 0),\n",
       " datetime.datetime(2010, 9, 7, 0, 0),\n",
       " datetime.datetime(2010, 9, 7, 12, 0),\n",
       " datetime.datetime(2010, 9, 8, 0, 0),\n",
       " datetime.datetime(2010, 9, 8, 12, 0),\n",
       " datetime.datetime(2010, 9, 9, 0, 0),\n",
       " datetime.datetime(2010, 9, 9, 12, 0),\n",
       " datetime.datetime(2010, 9, 10, 0, 0),\n",
       " datetime.datetime(2010, 9, 10, 12, 0),\n",
       " datetime.datetime(2010, 9, 11, 0, 0),\n",
       " datetime.datetime(2010, 9, 11, 12, 0),\n",
       " datetime.datetime(2010, 9, 12, 0, 0),\n",
       " datetime.datetime(2010, 9, 12, 12, 0),\n",
       " datetime.datetime(2010, 9, 13, 0, 0),\n",
       " datetime.datetime(2010, 9, 13, 12, 0),\n",
       " datetime.datetime(2010, 9, 14, 0, 0),\n",
       " datetime.datetime(2010, 9, 14, 12, 0),\n",
       " datetime.datetime(2010, 9, 15, 0, 0),\n",
       " datetime.datetime(2010, 9, 15, 12, 0),\n",
       " datetime.datetime(2010, 9, 16, 0, 0),\n",
       " datetime.datetime(2010, 9, 16, 12, 0),\n",
       " datetime.datetime(2010, 9, 17, 0, 0),\n",
       " datetime.datetime(2010, 9, 17, 12, 0),\n",
       " datetime.datetime(2010, 9, 18, 0, 0),\n",
       " datetime.datetime(2010, 9, 18, 12, 0),\n",
       " datetime.datetime(2010, 9, 19, 0, 0),\n",
       " datetime.datetime(2010, 9, 19, 12, 0),\n",
       " datetime.datetime(2010, 9, 20, 0, 0),\n",
       " datetime.datetime(2010, 9, 20, 12, 0),\n",
       " datetime.datetime(2010, 9, 21, 0, 0),\n",
       " datetime.datetime(2010, 9, 21, 12, 0),\n",
       " datetime.datetime(2010, 9, 22, 0, 0),\n",
       " datetime.datetime(2010, 9, 22, 12, 0),\n",
       " datetime.datetime(2010, 9, 23, 0, 0),\n",
       " datetime.datetime(2010, 9, 23, 12, 0),\n",
       " datetime.datetime(2010, 9, 24, 0, 0),\n",
       " datetime.datetime(2010, 9, 24, 12, 0),\n",
       " datetime.datetime(2010, 9, 25, 0, 0),\n",
       " datetime.datetime(2010, 9, 25, 12, 0),\n",
       " datetime.datetime(2010, 9, 26, 0, 0),\n",
       " datetime.datetime(2010, 9, 26, 12, 0),\n",
       " datetime.datetime(2010, 9, 27, 0, 0),\n",
       " datetime.datetime(2010, 9, 27, 12, 0),\n",
       " datetime.datetime(2010, 9, 28, 0, 0),\n",
       " datetime.datetime(2010, 9, 28, 12, 0),\n",
       " datetime.datetime(2010, 9, 29, 0, 0),\n",
       " datetime.datetime(2010, 9, 29, 12, 0),\n",
       " datetime.datetime(2010, 9, 30, 0, 0),\n",
       " datetime.datetime(2010, 9, 30, 12, 0),\n",
       " datetime.datetime(2010, 10, 1, 0, 0),\n",
       " datetime.datetime(2010, 10, 1, 12, 0),\n",
       " datetime.datetime(2010, 10, 2, 0, 0),\n",
       " datetime.datetime(2010, 10, 2, 12, 0),\n",
       " datetime.datetime(2010, 10, 3, 0, 0),\n",
       " datetime.datetime(2010, 10, 3, 12, 0),\n",
       " datetime.datetime(2010, 10, 4, 0, 0),\n",
       " datetime.datetime(2010, 10, 4, 12, 0),\n",
       " datetime.datetime(2010, 10, 5, 0, 0),\n",
       " datetime.datetime(2010, 10, 5, 12, 0),\n",
       " datetime.datetime(2010, 10, 6, 0, 0),\n",
       " datetime.datetime(2010, 10, 6, 12, 0),\n",
       " datetime.datetime(2010, 10, 7, 0, 0),\n",
       " datetime.datetime(2010, 10, 7, 12, 0),\n",
       " datetime.datetime(2010, 10, 8, 0, 0),\n",
       " datetime.datetime(2010, 10, 8, 12, 0),\n",
       " datetime.datetime(2010, 10, 9, 0, 0),\n",
       " datetime.datetime(2010, 10, 9, 12, 0),\n",
       " datetime.datetime(2010, 10, 10, 0, 0),\n",
       " datetime.datetime(2010, 10, 10, 12, 0),\n",
       " datetime.datetime(2010, 10, 11, 0, 0),\n",
       " datetime.datetime(2010, 10, 11, 12, 0),\n",
       " datetime.datetime(2010, 10, 12, 0, 0),\n",
       " datetime.datetime(2010, 10, 12, 12, 0),\n",
       " datetime.datetime(2010, 10, 13, 0, 0),\n",
       " datetime.datetime(2010, 10, 13, 12, 0),\n",
       " datetime.datetime(2010, 10, 14, 0, 0),\n",
       " datetime.datetime(2010, 10, 14, 12, 0),\n",
       " datetime.datetime(2010, 10, 15, 0, 0),\n",
       " datetime.datetime(2010, 10, 15, 12, 0),\n",
       " datetime.datetime(2010, 10, 16, 0, 0),\n",
       " datetime.datetime(2010, 10, 16, 12, 0),\n",
       " datetime.datetime(2010, 10, 17, 0, 0),\n",
       " datetime.datetime(2010, 10, 17, 12, 0),\n",
       " datetime.datetime(2010, 10, 18, 0, 0),\n",
       " datetime.datetime(2010, 10, 18, 12, 0),\n",
       " datetime.datetime(2010, 10, 19, 0, 0),\n",
       " datetime.datetime(2010, 10, 19, 12, 0),\n",
       " datetime.datetime(2010, 10, 20, 0, 0),\n",
       " datetime.datetime(2010, 10, 20, 12, 0),\n",
       " datetime.datetime(2010, 10, 21, 0, 0),\n",
       " datetime.datetime(2010, 10, 21, 12, 0),\n",
       " datetime.datetime(2010, 10, 22, 0, 0),\n",
       " datetime.datetime(2010, 10, 22, 12, 0),\n",
       " datetime.datetime(2010, 10, 23, 0, 0),\n",
       " datetime.datetime(2010, 10, 23, 12, 0),\n",
       " datetime.datetime(2010, 10, 24, 0, 0),\n",
       " datetime.datetime(2010, 10, 24, 12, 0),\n",
       " datetime.datetime(2010, 10, 25, 0, 0),\n",
       " datetime.datetime(2010, 10, 25, 12, 0),\n",
       " datetime.datetime(2010, 10, 26, 0, 0),\n",
       " datetime.datetime(2010, 10, 26, 12, 0),\n",
       " datetime.datetime(2010, 10, 27, 0, 0),\n",
       " datetime.datetime(2010, 10, 27, 12, 0),\n",
       " datetime.datetime(2010, 10, 28, 0, 0),\n",
       " datetime.datetime(2010, 10, 28, 12, 0),\n",
       " datetime.datetime(2010, 10, 29, 0, 0),\n",
       " datetime.datetime(2010, 10, 29, 12, 0),\n",
       " datetime.datetime(2010, 10, 30, 0, 0),\n",
       " datetime.datetime(2010, 10, 30, 12, 0),\n",
       " datetime.datetime(2010, 10, 31, 0, 0),\n",
       " datetime.datetime(2010, 10, 31, 12, 0),\n",
       " datetime.datetime(2010, 11, 1, 0, 0),\n",
       " datetime.datetime(2010, 11, 1, 12, 0),\n",
       " datetime.datetime(2010, 11, 2, 0, 0),\n",
       " datetime.datetime(2010, 11, 2, 12, 0),\n",
       " datetime.datetime(2010, 11, 3, 0, 0),\n",
       " datetime.datetime(2010, 11, 3, 12, 0),\n",
       " datetime.datetime(2010, 11, 4, 0, 0),\n",
       " datetime.datetime(2010, 11, 4, 12, 0),\n",
       " datetime.datetime(2010, 11, 5, 0, 0),\n",
       " datetime.datetime(2010, 11, 5, 12, 0),\n",
       " datetime.datetime(2010, 11, 6, 0, 0),\n",
       " datetime.datetime(2010, 11, 6, 12, 0),\n",
       " datetime.datetime(2010, 11, 7, 0, 0),\n",
       " datetime.datetime(2010, 11, 7, 12, 0),\n",
       " datetime.datetime(2010, 11, 8, 0, 0),\n",
       " datetime.datetime(2010, 11, 8, 12, 0),\n",
       " datetime.datetime(2010, 11, 9, 0, 0),\n",
       " datetime.datetime(2010, 11, 9, 12, 0),\n",
       " datetime.datetime(2010, 11, 10, 0, 0),\n",
       " datetime.datetime(2010, 11, 10, 12, 0),\n",
       " datetime.datetime(2010, 11, 11, 0, 0),\n",
       " datetime.datetime(2010, 11, 11, 12, 0),\n",
       " datetime.datetime(2010, 11, 12, 0, 0),\n",
       " datetime.datetime(2010, 11, 12, 12, 0),\n",
       " datetime.datetime(2010, 11, 13, 0, 0),\n",
       " datetime.datetime(2010, 11, 13, 12, 0),\n",
       " datetime.datetime(2010, 11, 14, 0, 0),\n",
       " datetime.datetime(2010, 11, 14, 12, 0),\n",
       " datetime.datetime(2010, 11, 15, 0, 0),\n",
       " datetime.datetime(2010, 11, 15, 12, 0),\n",
       " datetime.datetime(2010, 11, 16, 0, 0),\n",
       " datetime.datetime(2010, 11, 16, 12, 0),\n",
       " datetime.datetime(2010, 11, 17, 0, 0),\n",
       " datetime.datetime(2010, 11, 17, 12, 0),\n",
       " datetime.datetime(2010, 11, 18, 0, 0),\n",
       " datetime.datetime(2010, 11, 18, 12, 0),\n",
       " datetime.datetime(2010, 11, 19, 0, 0),\n",
       " datetime.datetime(2010, 11, 19, 12, 0),\n",
       " datetime.datetime(2010, 11, 20, 0, 0),\n",
       " datetime.datetime(2010, 11, 20, 12, 0),\n",
       " datetime.datetime(2010, 11, 21, 0, 0),\n",
       " datetime.datetime(2010, 11, 21, 12, 0),\n",
       " datetime.datetime(2010, 11, 22, 0, 0),\n",
       " datetime.datetime(2010, 11, 22, 12, 0),\n",
       " datetime.datetime(2010, 11, 23, 0, 0),\n",
       " datetime.datetime(2010, 11, 23, 12, 0),\n",
       " datetime.datetime(2010, 11, 24, 0, 0),\n",
       " datetime.datetime(2010, 11, 24, 12, 0),\n",
       " datetime.datetime(2010, 11, 25, 0, 0),\n",
       " datetime.datetime(2010, 11, 25, 12, 0),\n",
       " datetime.datetime(2010, 11, 26, 0, 0),\n",
       " datetime.datetime(2010, 11, 26, 12, 0),\n",
       " datetime.datetime(2010, 11, 27, 0, 0),\n",
       " datetime.datetime(2010, 11, 27, 12, 0),\n",
       " datetime.datetime(2010, 11, 28, 0, 0),\n",
       " datetime.datetime(2010, 11, 28, 12, 0),\n",
       " datetime.datetime(2010, 11, 29, 0, 0),\n",
       " datetime.datetime(2010, 11, 29, 12, 0),\n",
       " datetime.datetime(2010, 11, 30, 0, 0),\n",
       " datetime.datetime(2010, 11, 30, 12, 0),\n",
       " datetime.datetime(2010, 12, 1, 0, 0),\n",
       " datetime.datetime(2010, 12, 1, 12, 0),\n",
       " datetime.datetime(2010, 12, 2, 0, 0),\n",
       " datetime.datetime(2010, 12, 2, 12, 0),\n",
       " datetime.datetime(2010, 12, 3, 0, 0),\n",
       " datetime.datetime(2010, 12, 3, 12, 0),\n",
       " datetime.datetime(2010, 12, 4, 0, 0),\n",
       " datetime.datetime(2010, 12, 4, 12, 0),\n",
       " datetime.datetime(2010, 12, 5, 0, 0),\n",
       " datetime.datetime(2010, 12, 5, 12, 0),\n",
       " datetime.datetime(2010, 12, 6, 0, 0),\n",
       " datetime.datetime(2010, 12, 6, 12, 0),\n",
       " datetime.datetime(2010, 12, 7, 0, 0),\n",
       " datetime.datetime(2010, 12, 7, 12, 0),\n",
       " datetime.datetime(2010, 12, 8, 0, 0),\n",
       " datetime.datetime(2010, 12, 8, 12, 0),\n",
       " datetime.datetime(2010, 12, 9, 0, 0),\n",
       " datetime.datetime(2010, 12, 9, 12, 0),\n",
       " datetime.datetime(2010, 12, 10, 0, 0),\n",
       " datetime.datetime(2010, 12, 10, 12, 0),\n",
       " datetime.datetime(2010, 12, 11, 0, 0),\n",
       " datetime.datetime(2010, 12, 11, 12, 0),\n",
       " datetime.datetime(2010, 12, 12, 0, 0),\n",
       " datetime.datetime(2010, 12, 12, 12, 0),\n",
       " datetime.datetime(2010, 12, 13, 0, 0),\n",
       " datetime.datetime(2010, 12, 13, 12, 0),\n",
       " datetime.datetime(2010, 12, 14, 0, 0),\n",
       " datetime.datetime(2010, 12, 14, 12, 0),\n",
       " datetime.datetime(2010, 12, 15, 0, 0),\n",
       " datetime.datetime(2010, 12, 15, 12, 0),\n",
       " datetime.datetime(2010, 12, 16, 0, 0),\n",
       " datetime.datetime(2010, 12, 16, 12, 0),\n",
       " datetime.datetime(2010, 12, 17, 0, 0),\n",
       " datetime.datetime(2010, 12, 17, 12, 0),\n",
       " datetime.datetime(2010, 12, 18, 0, 0),\n",
       " datetime.datetime(2010, 12, 18, 12, 0),\n",
       " datetime.datetime(2010, 12, 19, 0, 0),\n",
       " datetime.datetime(2010, 12, 19, 12, 0),\n",
       " datetime.datetime(2010, 12, 20, 0, 0),\n",
       " datetime.datetime(2010, 12, 20, 12, 0),\n",
       " datetime.datetime(2010, 12, 21, 0, 0),\n",
       " datetime.datetime(2010, 12, 21, 12, 0),\n",
       " datetime.datetime(2010, 12, 22, 0, 0),\n",
       " datetime.datetime(2010, 12, 22, 12, 0),\n",
       " datetime.datetime(2010, 12, 23, 0, 0),\n",
       " datetime.datetime(2010, 12, 23, 12, 0),\n",
       " datetime.datetime(2010, 12, 24, 0, 0),\n",
       " datetime.datetime(2010, 12, 24, 12, 0),\n",
       " datetime.datetime(2010, 12, 25, 0, 0),\n",
       " datetime.datetime(2010, 12, 25, 12, 0),\n",
       " datetime.datetime(2010, 12, 26, 0, 0),\n",
       " datetime.datetime(2010, 12, 26, 12, 0),\n",
       " datetime.datetime(2010, 12, 27, 0, 0),\n",
       " datetime.datetime(2010, 12, 27, 12, 0),\n",
       " datetime.datetime(2010, 12, 28, 0, 0),\n",
       " datetime.datetime(2010, 12, 28, 12, 0),\n",
       " datetime.datetime(2010, 12, 29, 0, 0),\n",
       " datetime.datetime(2010, 12, 29, 12, 0),\n",
       " datetime.datetime(2010, 12, 30, 0, 0),\n",
       " datetime.datetime(2010, 12, 30, 12, 0),\n",
       " datetime.datetime(2010, 12, 31, 0, 0),\n",
       " datetime.datetime(2010, 12, 31, 12, 0),\n",
       " datetime.datetime(2011, 1, 1, 0, 0),\n",
       " datetime.datetime(2011, 1, 1, 12, 0),\n",
       " datetime.datetime(2011, 1, 2, 0, 0),\n",
       " datetime.datetime(2011, 1, 2, 12, 0),\n",
       " datetime.datetime(2011, 1, 3, 0, 0),\n",
       " datetime.datetime(2011, 1, 3, 12, 0),\n",
       " datetime.datetime(2011, 1, 4, 0, 0),\n",
       " datetime.datetime(2011, 1, 4, 12, 0),\n",
       " datetime.datetime(2011, 1, 5, 0, 0),\n",
       " datetime.datetime(2011, 1, 5, 12, 0),\n",
       " datetime.datetime(2011, 1, 6, 0, 0),\n",
       " datetime.datetime(2011, 1, 6, 12, 0),\n",
       " datetime.datetime(2011, 1, 7, 0, 0),\n",
       " datetime.datetime(2011, 1, 7, 12, 0),\n",
       " datetime.datetime(2011, 1, 8, 0, 0),\n",
       " datetime.datetime(2011, 1, 8, 12, 0),\n",
       " datetime.datetime(2011, 1, 9, 0, 0),\n",
       " datetime.datetime(2011, 1, 9, 12, 0),\n",
       " datetime.datetime(2011, 1, 10, 0, 0),\n",
       " datetime.datetime(2011, 1, 10, 12, 0),\n",
       " datetime.datetime(2011, 1, 11, 0, 0),\n",
       " datetime.datetime(2011, 1, 11, 12, 0),\n",
       " datetime.datetime(2011, 1, 12, 0, 0),\n",
       " datetime.datetime(2011, 1, 12, 12, 0),\n",
       " datetime.datetime(2011, 1, 13, 0, 0),\n",
       " datetime.datetime(2011, 1, 13, 12, 0),\n",
       " datetime.datetime(2011, 1, 14, 0, 0),\n",
       " datetime.datetime(2011, 1, 14, 12, 0),\n",
       " datetime.datetime(2011, 1, 15, 0, 0),\n",
       " datetime.datetime(2011, 1, 15, 12, 0),\n",
       " datetime.datetime(2011, 1, 16, 0, 0),\n",
       " datetime.datetime(2011, 1, 16, 12, 0),\n",
       " datetime.datetime(2011, 1, 17, 0, 0),\n",
       " datetime.datetime(2011, 1, 17, 12, 0),\n",
       " datetime.datetime(2011, 1, 18, 0, 0),\n",
       " datetime.datetime(2011, 1, 18, 12, 0),\n",
       " datetime.datetime(2011, 1, 19, 0, 0),\n",
       " datetime.datetime(2011, 1, 19, 12, 0),\n",
       " datetime.datetime(2011, 1, 20, 0, 0),\n",
       " datetime.datetime(2011, 1, 20, 12, 0),\n",
       " datetime.datetime(2011, 1, 21, 0, 0),\n",
       " datetime.datetime(2011, 1, 21, 12, 0),\n",
       " datetime.datetime(2011, 1, 22, 0, 0),\n",
       " datetime.datetime(2011, 1, 22, 12, 0),\n",
       " datetime.datetime(2011, 1, 23, 0, 0),\n",
       " datetime.datetime(2011, 1, 23, 12, 0),\n",
       " datetime.datetime(2011, 1, 24, 0, 0),\n",
       " datetime.datetime(2011, 1, 24, 12, 0),\n",
       " datetime.datetime(2011, 1, 25, 0, 0),\n",
       " datetime.datetime(2011, 1, 25, 12, 0),\n",
       " datetime.datetime(2011, 1, 26, 0, 0),\n",
       " datetime.datetime(2011, 1, 26, 12, 0),\n",
       " datetime.datetime(2011, 1, 27, 0, 0),\n",
       " datetime.datetime(2011, 1, 27, 12, 0),\n",
       " datetime.datetime(2011, 1, 28, 0, 0),\n",
       " datetime.datetime(2011, 1, 28, 12, 0),\n",
       " datetime.datetime(2011, 1, 29, 0, 0),\n",
       " datetime.datetime(2011, 1, 29, 12, 0),\n",
       " datetime.datetime(2011, 1, 30, 0, 0),\n",
       " datetime.datetime(2011, 1, 30, 12, 0),\n",
       " datetime.datetime(2011, 1, 31, 0, 0),\n",
       " datetime.datetime(2011, 1, 31, 12, 0),\n",
       " datetime.datetime(2011, 2, 1, 0, 0),\n",
       " datetime.datetime(2011, 2, 1, 12, 0),\n",
       " datetime.datetime(2011, 2, 2, 0, 0),\n",
       " datetime.datetime(2011, 2, 2, 12, 0),\n",
       " datetime.datetime(2011, 2, 3, 0, 0),\n",
       " datetime.datetime(2011, 2, 3, 12, 0),\n",
       " datetime.datetime(2011, 2, 4, 0, 0),\n",
       " datetime.datetime(2011, 2, 4, 12, 0),\n",
       " datetime.datetime(2011, 2, 5, 0, 0),\n",
       " datetime.datetime(2011, 2, 5, 12, 0),\n",
       " datetime.datetime(2011, 2, 6, 0, 0),\n",
       " datetime.datetime(2011, 2, 6, 12, 0),\n",
       " datetime.datetime(2011, 2, 7, 0, 0),\n",
       " datetime.datetime(2011, 2, 7, 12, 0),\n",
       " datetime.datetime(2011, 2, 8, 0, 0),\n",
       " datetime.datetime(2011, 2, 8, 12, 0),\n",
       " datetime.datetime(2011, 2, 9, 0, 0),\n",
       " datetime.datetime(2011, 2, 9, 12, 0),\n",
       " datetime.datetime(2011, 2, 10, 0, 0),\n",
       " datetime.datetime(2011, 2, 10, 12, 0),\n",
       " datetime.datetime(2011, 2, 11, 0, 0),\n",
       " datetime.datetime(2011, 2, 11, 12, 0),\n",
       " datetime.datetime(2011, 2, 12, 0, 0),\n",
       " datetime.datetime(2011, 2, 12, 12, 0),\n",
       " datetime.datetime(2011, 2, 13, 0, 0),\n",
       " datetime.datetime(2011, 2, 13, 12, 0),\n",
       " datetime.datetime(2011, 2, 14, 0, 0),\n",
       " datetime.datetime(2011, 2, 14, 12, 0),\n",
       " datetime.datetime(2011, 2, 15, 0, 0),\n",
       " datetime.datetime(2011, 2, 15, 12, 0),\n",
       " datetime.datetime(2011, 2, 16, 0, 0),\n",
       " datetime.datetime(2011, 2, 16, 12, 0),\n",
       " datetime.datetime(2011, 2, 17, 0, 0),\n",
       " datetime.datetime(2011, 2, 17, 12, 0),\n",
       " datetime.datetime(2011, 2, 18, 0, 0),\n",
       " datetime.datetime(2011, 2, 18, 12, 0),\n",
       " datetime.datetime(2011, 2, 19, 0, 0),\n",
       " datetime.datetime(2011, 2, 19, 12, 0),\n",
       " datetime.datetime(2011, 2, 20, 0, 0),\n",
       " datetime.datetime(2011, 2, 20, 12, 0),\n",
       " datetime.datetime(2011, 2, 21, 0, 0),\n",
       " datetime.datetime(2011, 2, 21, 12, 0),\n",
       " datetime.datetime(2011, 2, 22, 0, 0),\n",
       " datetime.datetime(2011, 2, 22, 12, 0),\n",
       " datetime.datetime(2011, 2, 23, 0, 0),\n",
       " datetime.datetime(2011, 2, 23, 12, 0),\n",
       " datetime.datetime(2011, 2, 24, 0, 0),\n",
       " datetime.datetime(2011, 2, 24, 12, 0),\n",
       " datetime.datetime(2011, 2, 25, 0, 0),\n",
       " datetime.datetime(2011, 2, 25, 12, 0),\n",
       " datetime.datetime(2011, 2, 26, 0, 0),\n",
       " datetime.datetime(2011, 2, 26, 12, 0),\n",
       " datetime.datetime(2011, 2, 27, 0, 0),\n",
       " datetime.datetime(2011, 2, 27, 12, 0),\n",
       " datetime.datetime(2011, 2, 28, 0, 0),\n",
       " datetime.datetime(2011, 2, 28, 12, 0),\n",
       " datetime.datetime(2011, 3, 1, 0, 0),\n",
       " datetime.datetime(2011, 3, 1, 12, 0),\n",
       " datetime.datetime(2011, 3, 2, 0, 0),\n",
       " datetime.datetime(2011, 3, 2, 12, 0),\n",
       " datetime.datetime(2011, 3, 3, 0, 0),\n",
       " datetime.datetime(2011, 3, 3, 12, 0),\n",
       " datetime.datetime(2011, 3, 4, 0, 0),\n",
       " datetime.datetime(2011, 3, 4, 12, 0),\n",
       " datetime.datetime(2011, 3, 5, 0, 0),\n",
       " datetime.datetime(2011, 3, 5, 12, 0),\n",
       " datetime.datetime(2011, 3, 6, 0, 0),\n",
       " datetime.datetime(2011, 3, 6, 12, 0),\n",
       " datetime.datetime(2011, 3, 7, 0, 0),\n",
       " datetime.datetime(2011, 3, 7, 12, 0),\n",
       " datetime.datetime(2011, 3, 8, 0, 0),\n",
       " datetime.datetime(2011, 3, 8, 12, 0),\n",
       " datetime.datetime(2011, 3, 9, 0, 0),\n",
       " datetime.datetime(2011, 3, 9, 12, 0),\n",
       " datetime.datetime(2011, 3, 10, 0, 0),\n",
       " datetime.datetime(2011, 3, 10, 12, 0),\n",
       " datetime.datetime(2011, 3, 11, 0, 0),\n",
       " datetime.datetime(2011, 3, 11, 12, 0),\n",
       " datetime.datetime(2011, 3, 12, 0, 0),\n",
       " datetime.datetime(2011, 3, 12, 12, 0),\n",
       " datetime.datetime(2011, 3, 13, 0, 0),\n",
       " datetime.datetime(2011, 3, 13, 12, 0),\n",
       " datetime.datetime(2011, 3, 14, 0, 0),\n",
       " datetime.datetime(2011, 3, 14, 12, 0),\n",
       " datetime.datetime(2011, 3, 15, 0, 0),\n",
       " datetime.datetime(2011, 3, 15, 12, 0),\n",
       " datetime.datetime(2011, 3, 16, 0, 0),\n",
       " datetime.datetime(2011, 3, 16, 12, 0),\n",
       " datetime.datetime(2011, 3, 17, 0, 0),\n",
       " datetime.datetime(2011, 3, 17, 12, 0),\n",
       " datetime.datetime(2011, 3, 18, 0, 0),\n",
       " datetime.datetime(2011, 3, 18, 12, 0),\n",
       " datetime.datetime(2011, 3, 19, 0, 0),\n",
       " datetime.datetime(2011, 3, 19, 12, 0),\n",
       " datetime.datetime(2011, 3, 20, 0, 0),\n",
       " datetime.datetime(2011, 3, 20, 12, 0),\n",
       " datetime.datetime(2011, 3, 21, 0, 0),\n",
       " datetime.datetime(2011, 3, 21, 12, 0),\n",
       " datetime.datetime(2011, 3, 22, 0, 0),\n",
       " datetime.datetime(2011, 3, 22, 12, 0),\n",
       " datetime.datetime(2011, 3, 23, 0, 0),\n",
       " datetime.datetime(2011, 3, 23, 12, 0),\n",
       " datetime.datetime(2011, 3, 24, 0, 0),\n",
       " datetime.datetime(2011, 3, 24, 12, 0),\n",
       " datetime.datetime(2011, 3, 25, 0, 0),\n",
       " datetime.datetime(2011, 3, 25, 12, 0),\n",
       " datetime.datetime(2011, 3, 26, 0, 0),\n",
       " datetime.datetime(2011, 3, 26, 12, 0),\n",
       " datetime.datetime(2011, 3, 27, 0, 0),\n",
       " datetime.datetime(2011, 3, 27, 12, 0),\n",
       " datetime.datetime(2011, 3, 28, 0, 0),\n",
       " datetime.datetime(2011, 3, 28, 12, 0),\n",
       " datetime.datetime(2011, 3, 29, 0, 0),\n",
       " datetime.datetime(2011, 3, 29, 12, 0),\n",
       " datetime.datetime(2011, 3, 30, 0, 0),\n",
       " datetime.datetime(2011, 3, 30, 12, 0),\n",
       " datetime.datetime(2011, 3, 31, 0, 0),\n",
       " datetime.datetime(2011, 3, 31, 12, 0),\n",
       " datetime.datetime(2011, 4, 1, 0, 0),\n",
       " datetime.datetime(2011, 4, 1, 12, 0),\n",
       " datetime.datetime(2011, 4, 2, 0, 0),\n",
       " datetime.datetime(2011, 4, 2, 12, 0),\n",
       " datetime.datetime(2011, 4, 3, 0, 0),\n",
       " datetime.datetime(2011, 4, 3, 12, 0),\n",
       " datetime.datetime(2011, 4, 4, 0, 0),\n",
       " datetime.datetime(2011, 4, 4, 12, 0),\n",
       " datetime.datetime(2011, 4, 5, 0, 0),\n",
       " datetime.datetime(2011, 4, 5, 12, 0),\n",
       " datetime.datetime(2011, 4, 6, 0, 0),\n",
       " datetime.datetime(2011, 4, 6, 12, 0),\n",
       " datetime.datetime(2011, 4, 7, 0, 0),\n",
       " datetime.datetime(2011, 4, 7, 12, 0),\n",
       " datetime.datetime(2011, 4, 8, 0, 0),\n",
       " datetime.datetime(2011, 4, 8, 12, 0),\n",
       " datetime.datetime(2011, 4, 9, 0, 0),\n",
       " datetime.datetime(2011, 4, 9, 12, 0),\n",
       " datetime.datetime(2011, 4, 10, 0, 0),\n",
       " datetime.datetime(2011, 4, 10, 12, 0),\n",
       " datetime.datetime(2011, 4, 11, 0, 0),\n",
       " datetime.datetime(2011, 4, 11, 12, 0),\n",
       " datetime.datetime(2011, 4, 12, 0, 0),\n",
       " datetime.datetime(2011, 4, 12, 12, 0),\n",
       " datetime.datetime(2011, 4, 13, 0, 0),\n",
       " datetime.datetime(2011, 4, 13, 12, 0),\n",
       " datetime.datetime(2011, 4, 14, 0, 0),\n",
       " datetime.datetime(2011, 4, 14, 12, 0),\n",
       " datetime.datetime(2011, 4, 15, 0, 0),\n",
       " datetime.datetime(2011, 4, 15, 12, 0),\n",
       " datetime.datetime(2011, 4, 16, 0, 0),\n",
       " datetime.datetime(2011, 4, 16, 12, 0),\n",
       " datetime.datetime(2011, 4, 17, 0, 0),\n",
       " datetime.datetime(2011, 4, 17, 12, 0),\n",
       " datetime.datetime(2011, 4, 18, 0, 0),\n",
       " datetime.datetime(2011, 4, 18, 12, 0),\n",
       " datetime.datetime(2011, 4, 19, 0, 0),\n",
       " datetime.datetime(2011, 4, 19, 12, 0),\n",
       " datetime.datetime(2011, 4, 20, 0, 0),\n",
       " datetime.datetime(2011, 4, 20, 12, 0),\n",
       " datetime.datetime(2011, 4, 21, 0, 0),\n",
       " datetime.datetime(2011, 4, 21, 12, 0),\n",
       " datetime.datetime(2011, 4, 22, 0, 0),\n",
       " datetime.datetime(2011, 4, 22, 12, 0),\n",
       " datetime.datetime(2011, 4, 23, 0, 0),\n",
       " datetime.datetime(2011, 4, 23, 12, 0),\n",
       " datetime.datetime(2011, 4, 24, 0, 0),\n",
       " datetime.datetime(2011, 4, 24, 12, 0),\n",
       " datetime.datetime(2011, 4, 25, 0, 0),\n",
       " datetime.datetime(2011, 4, 25, 12, 0),\n",
       " datetime.datetime(2011, 4, 26, 0, 0),\n",
       " datetime.datetime(2011, 4, 26, 12, 0),\n",
       " datetime.datetime(2011, 4, 27, 0, 0),\n",
       " datetime.datetime(2011, 4, 27, 12, 0),\n",
       " datetime.datetime(2011, 4, 28, 0, 0),\n",
       " datetime.datetime(2011, 4, 28, 12, 0),\n",
       " datetime.datetime(2011, 4, 29, 0, 0),\n",
       " datetime.datetime(2011, 4, 29, 12, 0),\n",
       " datetime.datetime(2011, 4, 30, 0, 0),\n",
       " datetime.datetime(2011, 4, 30, 12, 0),\n",
       " datetime.datetime(2011, 5, 1, 0, 0),\n",
       " datetime.datetime(2011, 5, 1, 12, 0),\n",
       " datetime.datetime(2011, 5, 2, 0, 0),\n",
       " datetime.datetime(2011, 5, 2, 12, 0),\n",
       " datetime.datetime(2011, 5, 3, 0, 0),\n",
       " datetime.datetime(2011, 5, 3, 12, 0),\n",
       " datetime.datetime(2011, 5, 4, 0, 0),\n",
       " datetime.datetime(2011, 5, 4, 12, 0),\n",
       " datetime.datetime(2011, 5, 5, 0, 0),\n",
       " datetime.datetime(2011, 5, 5, 12, 0),\n",
       " datetime.datetime(2011, 5, 6, 0, 0),\n",
       " datetime.datetime(2011, 5, 6, 12, 0),\n",
       " datetime.datetime(2011, 5, 7, 0, 0),\n",
       " datetime.datetime(2011, 5, 7, 12, 0),\n",
       " datetime.datetime(2011, 5, 8, 0, 0),\n",
       " datetime.datetime(2011, 5, 8, 12, 0),\n",
       " datetime.datetime(2011, 5, 9, 0, 0),\n",
       " datetime.datetime(2011, 5, 9, 12, 0),\n",
       " datetime.datetime(2011, 5, 10, 0, 0),\n",
       " datetime.datetime(2011, 5, 10, 12, 0),\n",
       " datetime.datetime(2011, 5, 11, 0, 0),\n",
       " datetime.datetime(2011, 5, 11, 12, 0),\n",
       " datetime.datetime(2011, 5, 12, 0, 0),\n",
       " datetime.datetime(2011, 5, 12, 12, 0),\n",
       " datetime.datetime(2011, 5, 13, 0, 0),\n",
       " datetime.datetime(2011, 5, 13, 12, 0),\n",
       " datetime.datetime(2011, 5, 14, 0, 0),\n",
       " datetime.datetime(2011, 5, 14, 12, 0),\n",
       " datetime.datetime(2011, 5, 15, 0, 0),\n",
       " datetime.datetime(2011, 5, 15, 12, 0),\n",
       " datetime.datetime(2011, 5, 16, 0, 0),\n",
       " datetime.datetime(2011, 5, 16, 12, 0),\n",
       " datetime.datetime(2011, 5, 17, 0, 0),\n",
       " datetime.datetime(2011, 5, 17, 12, 0),\n",
       " datetime.datetime(2011, 5, 18, 0, 0),\n",
       " datetime.datetime(2011, 5, 18, 12, 0),\n",
       " datetime.datetime(2011, 5, 19, 0, 0),\n",
       " datetime.datetime(2011, 5, 19, 12, 0),\n",
       " datetime.datetime(2011, 5, 20, 0, 0),\n",
       " datetime.datetime(2011, 5, 20, 12, 0),\n",
       " datetime.datetime(2011, 5, 21, 0, 0),\n",
       " datetime.datetime(2011, 5, 21, 12, 0),\n",
       " datetime.datetime(2011, 5, 22, 0, 0),\n",
       " datetime.datetime(2011, 5, 22, 12, 0),\n",
       " datetime.datetime(2011, 5, 23, 0, 0),\n",
       " datetime.datetime(2011, 5, 23, 12, 0),\n",
       " datetime.datetime(2011, 5, 24, 0, 0),\n",
       " datetime.datetime(2011, 5, 24, 12, 0),\n",
       " datetime.datetime(2011, 5, 25, 0, 0),\n",
       " datetime.datetime(2011, 5, 25, 12, 0),\n",
       " datetime.datetime(2011, 5, 26, 0, 0),\n",
       " datetime.datetime(2011, 5, 26, 12, 0),\n",
       " datetime.datetime(2011, 5, 27, 0, 0),\n",
       " datetime.datetime(2011, 5, 27, 12, 0),\n",
       " datetime.datetime(2011, 5, 28, 0, 0),\n",
       " datetime.datetime(2011, 5, 28, 12, 0),\n",
       " datetime.datetime(2011, 5, 29, 0, 0),\n",
       " datetime.datetime(2011, 5, 29, 12, 0),\n",
       " datetime.datetime(2011, 5, 30, 0, 0),\n",
       " datetime.datetime(2011, 5, 30, 12, 0),\n",
       " datetime.datetime(2011, 5, 31, 0, 0),\n",
       " datetime.datetime(2011, 5, 31, 12, 0),\n",
       " datetime.datetime(2011, 6, 1, 0, 0),\n",
       " datetime.datetime(2011, 6, 1, 12, 0),\n",
       " datetime.datetime(2011, 6, 2, 0, 0),\n",
       " datetime.datetime(2011, 6, 2, 12, 0),\n",
       " datetime.datetime(2011, 6, 3, 0, 0),\n",
       " datetime.datetime(2011, 6, 3, 12, 0),\n",
       " datetime.datetime(2011, 6, 4, 0, 0),\n",
       " datetime.datetime(2011, 6, 4, 12, 0),\n",
       " datetime.datetime(2011, 6, 5, 0, 0),\n",
       " datetime.datetime(2011, 6, 5, 12, 0),\n",
       " datetime.datetime(2011, 6, 6, 0, 0),\n",
       " datetime.datetime(2011, 6, 6, 12, 0),\n",
       " datetime.datetime(2011, 6, 7, 0, 0),\n",
       " datetime.datetime(2011, 6, 7, 12, 0),\n",
       " datetime.datetime(2011, 6, 8, 0, 0),\n",
       " datetime.datetime(2011, 6, 8, 12, 0),\n",
       " datetime.datetime(2011, 6, 9, 0, 0),\n",
       " datetime.datetime(2011, 6, 9, 12, 0),\n",
       " datetime.datetime(2011, 6, 10, 0, 0),\n",
       " datetime.datetime(2011, 6, 10, 12, 0),\n",
       " datetime.datetime(2011, 6, 11, 0, 0),\n",
       " datetime.datetime(2011, 6, 11, 12, 0),\n",
       " datetime.datetime(2011, 6, 12, 0, 0),\n",
       " datetime.datetime(2011, 6, 12, 12, 0),\n",
       " datetime.datetime(2011, 6, 13, 0, 0),\n",
       " datetime.datetime(2011, 6, 13, 12, 0),\n",
       " datetime.datetime(2011, 6, 14, 0, 0),\n",
       " datetime.datetime(2011, 6, 14, 12, 0),\n",
       " datetime.datetime(2011, 6, 15, 0, 0),\n",
       " datetime.datetime(2011, 6, 15, 12, 0),\n",
       " ...]"
      ]
     },
     "execution_count": 36,
     "metadata": {},
     "output_type": "execute_result"
    }
   ],
   "source": [
    "date_list"
   ]
  },
  {
   "cell_type": "code",
   "execution_count": null,
   "metadata": {
    "collapsed": false,
    "deletable": true,
    "editable": true,
    "scrolled": true
   },
   "outputs": [
    {
     "name": "stdout",
     "output_type": "stream",
     "text": [
      "\n",
      "extracting meteo\n"
     ]
    },
    {
     "name": "stderr",
     "output_type": "stream",
     "text": [
      "100%|██████████| 36/36 [00:12<00:00,  2.83it/s]"
     ]
    },
    {
     "name": "stdout",
     "output_type": "stream",
     "text": [
      "\n",
      "meteo done\n"
     ]
    },
    {
     "name": "stderr",
     "output_type": "stream",
     "text": [
      "\n"
     ]
    },
    {
     "name": "stdout",
     "output_type": "stream",
     "text": [
      "/home/critechproc/STORAGE/SCHISM/UVP/sflux_air_1.001.nc\n",
      "\n",
      "extracting meteo\n"
     ]
    },
    {
     "name": "stderr",
     "output_type": "stream",
     "text": [
      "100%|██████████| 36/36 [00:12<00:00,  2.79it/s]"
     ]
    },
    {
     "name": "stdout",
     "output_type": "stream",
     "text": [
      "\n",
      "meteo done\n"
     ]
    },
    {
     "name": "stderr",
     "output_type": "stream",
     "text": [
      "\n"
     ]
    },
    {
     "name": "stdout",
     "output_type": "stream",
     "text": [
      "/home/critechproc/STORAGE/SCHISM/UVP/sflux_air_1.002.nc\n",
      "\n",
      "extracting meteo\n"
     ]
    },
    {
     "name": "stderr",
     "output_type": "stream",
     "text": [
      "100%|██████████| 36/36 [00:12<00:00,  2.83it/s]"
     ]
    },
    {
     "name": "stdout",
     "output_type": "stream",
     "text": [
      "\n",
      "meteo done\n"
     ]
    },
    {
     "name": "stderr",
     "output_type": "stream",
     "text": [
      "\n"
     ]
    },
    {
     "name": "stdout",
     "output_type": "stream",
     "text": [
      "/home/critechproc/STORAGE/SCHISM/UVP/sflux_air_1.003.nc\n",
      "\n",
      "extracting meteo\n"
     ]
    },
    {
     "name": "stderr",
     "output_type": "stream",
     "text": [
      "100%|██████████| 36/36 [00:12<00:00,  2.80it/s]"
     ]
    },
    {
     "name": "stdout",
     "output_type": "stream",
     "text": [
      "\n",
      "meteo done\n"
     ]
    },
    {
     "name": "stderr",
     "output_type": "stream",
     "text": [
      "\n"
     ]
    },
    {
     "name": "stdout",
     "output_type": "stream",
     "text": [
      "/home/critechproc/STORAGE/SCHISM/UVP/sflux_air_1.004.nc\n",
      "\n",
      "extracting meteo\n"
     ]
    },
    {
     "name": "stderr",
     "output_type": "stream",
     "text": [
      "100%|██████████| 36/36 [00:12<00:00,  2.75it/s]"
     ]
    },
    {
     "name": "stdout",
     "output_type": "stream",
     "text": [
      "\n",
      "meteo done\n"
     ]
    },
    {
     "name": "stderr",
     "output_type": "stream",
     "text": [
      "\n"
     ]
    },
    {
     "name": "stdout",
     "output_type": "stream",
     "text": [
      "/home/critechproc/STORAGE/SCHISM/UVP/sflux_air_1.005.nc\n",
      "\n",
      "extracting meteo\n"
     ]
    },
    {
     "name": "stderr",
     "output_type": "stream",
     "text": [
      "100%|██████████| 36/36 [00:12<00:00,  2.79it/s]"
     ]
    },
    {
     "name": "stdout",
     "output_type": "stream",
     "text": [
      "\n",
      "meteo done\n"
     ]
    },
    {
     "name": "stderr",
     "output_type": "stream",
     "text": [
      "\n"
     ]
    },
    {
     "name": "stdout",
     "output_type": "stream",
     "text": [
      "/home/critechproc/STORAGE/SCHISM/UVP/sflux_air_1.006.nc\n",
      "\n",
      "extracting meteo\n"
     ]
    },
    {
     "name": "stderr",
     "output_type": "stream",
     "text": [
      "100%|██████████| 36/36 [00:12<00:00,  2.88it/s]"
     ]
    },
    {
     "name": "stdout",
     "output_type": "stream",
     "text": [
      "\n",
      "meteo done\n"
     ]
    },
    {
     "name": "stderr",
     "output_type": "stream",
     "text": [
      "\n"
     ]
    },
    {
     "name": "stdout",
     "output_type": "stream",
     "text": [
      "/home/critechproc/STORAGE/SCHISM/UVP/sflux_air_1.007.nc\n",
      "\n",
      "extracting meteo\n"
     ]
    },
    {
     "name": "stderr",
     "output_type": "stream",
     "text": [
      "100%|██████████| 36/36 [00:12<00:00,  2.92it/s]"
     ]
    },
    {
     "name": "stdout",
     "output_type": "stream",
     "text": [
      "\n",
      "meteo done\n"
     ]
    },
    {
     "name": "stderr",
     "output_type": "stream",
     "text": [
      "\n"
     ]
    },
    {
     "name": "stdout",
     "output_type": "stream",
     "text": [
      "/home/critechproc/STORAGE/SCHISM/UVP/sflux_air_1.008.nc\n",
      "\n",
      "extracting meteo\n"
     ]
    },
    {
     "name": "stderr",
     "output_type": "stream",
     "text": [
      "100%|██████████| 36/36 [00:12<00:00,  2.85it/s]"
     ]
    },
    {
     "name": "stdout",
     "output_type": "stream",
     "text": [
      "\n",
      "meteo done\n"
     ]
    },
    {
     "name": "stderr",
     "output_type": "stream",
     "text": [
      "\n"
     ]
    },
    {
     "name": "stdout",
     "output_type": "stream",
     "text": [
      "/home/critechproc/STORAGE/SCHISM/UVP/sflux_air_1.009.nc\n",
      "\n",
      "extracting meteo\n"
     ]
    },
    {
     "name": "stderr",
     "output_type": "stream",
     "text": [
      "100%|██████████| 36/36 [00:12<00:00,  2.85it/s]"
     ]
    },
    {
     "name": "stdout",
     "output_type": "stream",
     "text": [
      "\n",
      "meteo done\n"
     ]
    },
    {
     "name": "stderr",
     "output_type": "stream",
     "text": [
      "\n"
     ]
    },
    {
     "name": "stdout",
     "output_type": "stream",
     "text": [
      "/home/critechproc/STORAGE/SCHISM/UVP/sflux_air_1.010.nc\n",
      "\n",
      "extracting meteo\n"
     ]
    },
    {
     "name": "stderr",
     "output_type": "stream",
     "text": [
      "100%|██████████| 36/36 [00:12<00:00,  2.84it/s]"
     ]
    },
    {
     "name": "stdout",
     "output_type": "stream",
     "text": [
      "\n",
      "meteo done\n"
     ]
    },
    {
     "name": "stderr",
     "output_type": "stream",
     "text": [
      "\n"
     ]
    },
    {
     "name": "stdout",
     "output_type": "stream",
     "text": [
      "/home/critechproc/STORAGE/SCHISM/UVP/sflux_air_1.011.nc\n",
      "\n",
      "extracting meteo\n"
     ]
    },
    {
     "name": "stderr",
     "output_type": "stream",
     "text": [
      "100%|██████████| 36/36 [00:12<00:00,  2.78it/s]"
     ]
    },
    {
     "name": "stdout",
     "output_type": "stream",
     "text": [
      "\n",
      "meteo done\n"
     ]
    },
    {
     "name": "stderr",
     "output_type": "stream",
     "text": [
      "\n"
     ]
    },
    {
     "name": "stdout",
     "output_type": "stream",
     "text": [
      "/home/critechproc/STORAGE/SCHISM/UVP/sflux_air_1.012.nc\n",
      "\n",
      "extracting meteo\n"
     ]
    },
    {
     "name": "stderr",
     "output_type": "stream",
     "text": [
      "100%|██████████| 36/36 [00:12<00:00,  2.90it/s]"
     ]
    },
    {
     "name": "stdout",
     "output_type": "stream",
     "text": [
      "\n",
      "meteo done\n"
     ]
    },
    {
     "name": "stderr",
     "output_type": "stream",
     "text": [
      "\n"
     ]
    },
    {
     "name": "stdout",
     "output_type": "stream",
     "text": [
      "/home/critechproc/STORAGE/SCHISM/UVP/sflux_air_1.013.nc\n",
      "\n",
      "extracting meteo\n"
     ]
    },
    {
     "name": "stderr",
     "output_type": "stream",
     "text": [
      "100%|██████████| 36/36 [00:12<00:00,  2.94it/s]"
     ]
    },
    {
     "name": "stdout",
     "output_type": "stream",
     "text": [
      "\n",
      "meteo done\n"
     ]
    },
    {
     "name": "stderr",
     "output_type": "stream",
     "text": [
      "\n"
     ]
    },
    {
     "name": "stdout",
     "output_type": "stream",
     "text": [
      "/home/critechproc/STORAGE/SCHISM/UVP/sflux_air_1.014.nc\n",
      "\n",
      "extracting meteo\n"
     ]
    },
    {
     "name": "stderr",
     "output_type": "stream",
     "text": [
      "100%|██████████| 36/36 [00:12<00:00,  2.92it/s]"
     ]
    },
    {
     "name": "stdout",
     "output_type": "stream",
     "text": [
      "\n",
      "meteo done\n"
     ]
    },
    {
     "name": "stderr",
     "output_type": "stream",
     "text": [
      "\n"
     ]
    },
    {
     "name": "stdout",
     "output_type": "stream",
     "text": [
      "/home/critechproc/STORAGE/SCHISM/UVP/sflux_air_1.015.nc\n",
      "\n",
      "extracting meteo\n"
     ]
    },
    {
     "name": "stderr",
     "output_type": "stream",
     "text": [
      "100%|██████████| 36/36 [00:12<00:00,  2.89it/s]"
     ]
    },
    {
     "name": "stdout",
     "output_type": "stream",
     "text": [
      "\n",
      "meteo done\n"
     ]
    },
    {
     "name": "stderr",
     "output_type": "stream",
     "text": [
      "\n"
     ]
    },
    {
     "name": "stdout",
     "output_type": "stream",
     "text": [
      "/home/critechproc/STORAGE/SCHISM/UVP/sflux_air_1.016.nc\n",
      "\n",
      "extracting meteo\n"
     ]
    },
    {
     "name": "stderr",
     "output_type": "stream",
     "text": [
      "100%|██████████| 36/36 [00:12<00:00,  2.92it/s]"
     ]
    },
    {
     "name": "stdout",
     "output_type": "stream",
     "text": [
      "\n",
      "meteo done\n"
     ]
    },
    {
     "name": "stderr",
     "output_type": "stream",
     "text": [
      "\n"
     ]
    },
    {
     "name": "stdout",
     "output_type": "stream",
     "text": [
      "/home/critechproc/STORAGE/SCHISM/UVP/sflux_air_1.017.nc\n",
      "\n",
      "extracting meteo\n"
     ]
    },
    {
     "name": "stderr",
     "output_type": "stream",
     "text": [
      "100%|██████████| 36/36 [00:12<00:00,  2.90it/s]"
     ]
    },
    {
     "name": "stdout",
     "output_type": "stream",
     "text": [
      "\n",
      "meteo done\n"
     ]
    },
    {
     "name": "stderr",
     "output_type": "stream",
     "text": [
      "\n"
     ]
    },
    {
     "name": "stdout",
     "output_type": "stream",
     "text": [
      "/home/critechproc/STORAGE/SCHISM/UVP/sflux_air_1.018.nc\n",
      "\n",
      "extracting meteo\n"
     ]
    },
    {
     "name": "stderr",
     "output_type": "stream",
     "text": [
      "100%|██████████| 36/36 [00:12<00:00,  2.85it/s]"
     ]
    },
    {
     "name": "stdout",
     "output_type": "stream",
     "text": [
      "\n",
      "meteo done\n"
     ]
    },
    {
     "name": "stderr",
     "output_type": "stream",
     "text": [
      "\n"
     ]
    },
    {
     "name": "stdout",
     "output_type": "stream",
     "text": [
      "/home/critechproc/STORAGE/SCHISM/UVP/sflux_air_1.019.nc\n",
      "\n",
      "extracting meteo\n"
     ]
    },
    {
     "name": "stderr",
     "output_type": "stream",
     "text": [
      "100%|██████████| 36/36 [00:12<00:00,  2.89it/s]"
     ]
    },
    {
     "name": "stdout",
     "output_type": "stream",
     "text": [
      "\n",
      "meteo done\n"
     ]
    },
    {
     "name": "stderr",
     "output_type": "stream",
     "text": [
      "\n"
     ]
    },
    {
     "name": "stdout",
     "output_type": "stream",
     "text": [
      "/home/critechproc/STORAGE/SCHISM/UVP/sflux_air_1.020.nc\n",
      "\n",
      "extracting meteo\n"
     ]
    },
    {
     "name": "stderr",
     "output_type": "stream",
     "text": [
      "100%|██████████| 36/36 [00:12<00:00,  2.90it/s]"
     ]
    },
    {
     "name": "stdout",
     "output_type": "stream",
     "text": [
      "\n",
      "meteo done\n"
     ]
    },
    {
     "name": "stderr",
     "output_type": "stream",
     "text": [
      "\n"
     ]
    },
    {
     "name": "stdout",
     "output_type": "stream",
     "text": [
      "/home/critechproc/STORAGE/SCHISM/UVP/sflux_air_1.021.nc\n",
      "\n",
      "extracting meteo\n"
     ]
    },
    {
     "name": "stderr",
     "output_type": "stream",
     "text": [
      "100%|██████████| 36/36 [00:12<00:00,  2.92it/s]"
     ]
    },
    {
     "name": "stdout",
     "output_type": "stream",
     "text": [
      "\n",
      "meteo done\n"
     ]
    },
    {
     "name": "stderr",
     "output_type": "stream",
     "text": [
      "\n"
     ]
    },
    {
     "name": "stdout",
     "output_type": "stream",
     "text": [
      "/home/critechproc/STORAGE/SCHISM/UVP/sflux_air_1.022.nc\n",
      "\n",
      "extracting meteo\n"
     ]
    },
    {
     "name": "stderr",
     "output_type": "stream",
     "text": [
      "100%|██████████| 36/36 [00:12<00:00,  2.90it/s]"
     ]
    },
    {
     "name": "stdout",
     "output_type": "stream",
     "text": [
      "\n",
      "meteo done\n"
     ]
    },
    {
     "name": "stderr",
     "output_type": "stream",
     "text": [
      "\n"
     ]
    },
    {
     "name": "stdout",
     "output_type": "stream",
     "text": [
      "/home/critechproc/STORAGE/SCHISM/UVP/sflux_air_1.023.nc\n",
      "\n",
      "extracting meteo\n"
     ]
    },
    {
     "name": "stderr",
     "output_type": "stream",
     "text": [
      "100%|██████████| 36/36 [00:12<00:00,  2.90it/s]"
     ]
    },
    {
     "name": "stdout",
     "output_type": "stream",
     "text": [
      "\n",
      "meteo done\n"
     ]
    },
    {
     "name": "stderr",
     "output_type": "stream",
     "text": [
      "\n"
     ]
    },
    {
     "name": "stdout",
     "output_type": "stream",
     "text": [
      "/home/critechproc/STORAGE/SCHISM/UVP/sflux_air_1.024.nc\n",
      "\n",
      "extracting meteo\n"
     ]
    },
    {
     "name": "stderr",
     "output_type": "stream",
     "text": [
      "100%|██████████| 36/36 [00:12<00:00,  2.90it/s]"
     ]
    },
    {
     "name": "stdout",
     "output_type": "stream",
     "text": [
      "\n",
      "meteo done\n"
     ]
    },
    {
     "name": "stderr",
     "output_type": "stream",
     "text": [
      "\n"
     ]
    },
    {
     "name": "stdout",
     "output_type": "stream",
     "text": [
      "/home/critechproc/STORAGE/SCHISM/UVP/sflux_air_1.025.nc\n",
      "\n",
      "extracting meteo\n"
     ]
    },
    {
     "name": "stderr",
     "output_type": "stream",
     "text": [
      "100%|██████████| 36/36 [00:12<00:00,  2.91it/s]"
     ]
    },
    {
     "name": "stdout",
     "output_type": "stream",
     "text": [
      "\n",
      "meteo done\n"
     ]
    },
    {
     "name": "stderr",
     "output_type": "stream",
     "text": [
      "\n"
     ]
    },
    {
     "name": "stdout",
     "output_type": "stream",
     "text": [
      "/home/critechproc/STORAGE/SCHISM/UVP/sflux_air_1.026.nc\n",
      "\n",
      "extracting meteo\n"
     ]
    },
    {
     "name": "stderr",
     "output_type": "stream",
     "text": [
      "100%|██████████| 36/36 [00:12<00:00,  2.91it/s]"
     ]
    },
    {
     "name": "stdout",
     "output_type": "stream",
     "text": [
      "\n",
      "meteo done\n"
     ]
    },
    {
     "name": "stderr",
     "output_type": "stream",
     "text": [
      "\n"
     ]
    },
    {
     "name": "stdout",
     "output_type": "stream",
     "text": [
      "/home/critechproc/STORAGE/SCHISM/UVP/sflux_air_1.027.nc\n",
      "\n",
      "extracting meteo\n"
     ]
    },
    {
     "name": "stderr",
     "output_type": "stream",
     "text": [
      "100%|██████████| 36/36 [00:12<00:00,  2.95it/s]"
     ]
    },
    {
     "name": "stdout",
     "output_type": "stream",
     "text": [
      "\n",
      "meteo done\n"
     ]
    },
    {
     "name": "stderr",
     "output_type": "stream",
     "text": [
      "\n"
     ]
    },
    {
     "name": "stdout",
     "output_type": "stream",
     "text": [
      "/home/critechproc/STORAGE/SCHISM/UVP/sflux_air_1.028.nc\n",
      "\n",
      "extracting meteo\n"
     ]
    },
    {
     "name": "stderr",
     "output_type": "stream",
     "text": [
      "100%|██████████| 36/36 [00:12<00:00,  2.91it/s]"
     ]
    },
    {
     "name": "stdout",
     "output_type": "stream",
     "text": [
      "\n",
      "meteo done\n"
     ]
    },
    {
     "name": "stderr",
     "output_type": "stream",
     "text": [
      "\n"
     ]
    },
    {
     "name": "stdout",
     "output_type": "stream",
     "text": [
      "/home/critechproc/STORAGE/SCHISM/UVP/sflux_air_1.029.nc\n",
      "\n",
      "extracting meteo\n"
     ]
    },
    {
     "name": "stderr",
     "output_type": "stream",
     "text": [
      "100%|██████████| 36/36 [00:12<00:00,  2.88it/s]"
     ]
    },
    {
     "name": "stdout",
     "output_type": "stream",
     "text": [
      "\n",
      "meteo done\n"
     ]
    },
    {
     "name": "stderr",
     "output_type": "stream",
     "text": [
      "\n"
     ]
    },
    {
     "name": "stdout",
     "output_type": "stream",
     "text": [
      "/home/critechproc/STORAGE/SCHISM/UVP/sflux_air_1.030.nc\n",
      "\n",
      "extracting meteo\n"
     ]
    },
    {
     "name": "stderr",
     "output_type": "stream",
     "text": [
      "100%|██████████| 36/36 [00:12<00:00,  2.91it/s]"
     ]
    },
    {
     "name": "stdout",
     "output_type": "stream",
     "text": [
      "\n",
      "meteo done\n"
     ]
    },
    {
     "name": "stderr",
     "output_type": "stream",
     "text": [
      "\n"
     ]
    },
    {
     "name": "stdout",
     "output_type": "stream",
     "text": [
      "/home/critechproc/STORAGE/SCHISM/UVP/sflux_air_1.031.nc\n",
      "\n",
      "extracting meteo\n"
     ]
    },
    {
     "name": "stderr",
     "output_type": "stream",
     "text": [
      "100%|██████████| 36/36 [00:12<00:00,  2.94it/s]"
     ]
    },
    {
     "name": "stdout",
     "output_type": "stream",
     "text": [
      "\n",
      "meteo done\n"
     ]
    },
    {
     "name": "stderr",
     "output_type": "stream",
     "text": [
      "\n"
     ]
    },
    {
     "name": "stdout",
     "output_type": "stream",
     "text": [
      "/home/critechproc/STORAGE/SCHISM/UVP/sflux_air_1.032.nc\n",
      "\n",
      "extracting meteo\n"
     ]
    },
    {
     "name": "stderr",
     "output_type": "stream",
     "text": [
      "100%|██████████| 36/36 [00:12<00:00,  2.95it/s]"
     ]
    },
    {
     "name": "stdout",
     "output_type": "stream",
     "text": [
      "\n",
      "meteo done\n"
     ]
    },
    {
     "name": "stderr",
     "output_type": "stream",
     "text": [
      "\n"
     ]
    },
    {
     "name": "stdout",
     "output_type": "stream",
     "text": [
      "/home/critechproc/STORAGE/SCHISM/UVP/sflux_air_1.033.nc\n",
      "\n",
      "extracting meteo\n"
     ]
    },
    {
     "name": "stderr",
     "output_type": "stream",
     "text": [
      "100%|██████████| 36/36 [00:12<00:00,  2.92it/s]"
     ]
    },
    {
     "name": "stdout",
     "output_type": "stream",
     "text": [
      "\n",
      "meteo done\n"
     ]
    },
    {
     "name": "stderr",
     "output_type": "stream",
     "text": [
      "\n"
     ]
    },
    {
     "name": "stdout",
     "output_type": "stream",
     "text": [
      "/home/critechproc/STORAGE/SCHISM/UVP/sflux_air_1.034.nc\n",
      "\n",
      "extracting meteo\n"
     ]
    },
    {
     "name": "stderr",
     "output_type": "stream",
     "text": [
      "100%|██████████| 36/36 [00:12<00:00,  2.92it/s]"
     ]
    },
    {
     "name": "stdout",
     "output_type": "stream",
     "text": [
      "\n",
      "meteo done\n"
     ]
    },
    {
     "name": "stderr",
     "output_type": "stream",
     "text": [
      "\n"
     ]
    },
    {
     "name": "stdout",
     "output_type": "stream",
     "text": [
      "/home/critechproc/STORAGE/SCHISM/UVP/sflux_air_1.035.nc\n",
      "\n",
      "extracting meteo\n"
     ]
    },
    {
     "name": "stderr",
     "output_type": "stream",
     "text": [
      "100%|██████████| 36/36 [00:12<00:00,  2.89it/s]"
     ]
    },
    {
     "name": "stdout",
     "output_type": "stream",
     "text": [
      "\n",
      "meteo done\n"
     ]
    },
    {
     "name": "stderr",
     "output_type": "stream",
     "text": [
      "\n"
     ]
    },
    {
     "name": "stdout",
     "output_type": "stream",
     "text": [
      "/home/critechproc/STORAGE/SCHISM/UVP/sflux_air_1.036.nc\n",
      "\n",
      "extracting meteo\n"
     ]
    },
    {
     "name": "stderr",
     "output_type": "stream",
     "text": [
      "100%|██████████| 36/36 [00:12<00:00,  2.91it/s]"
     ]
    },
    {
     "name": "stdout",
     "output_type": "stream",
     "text": [
      "\n",
      "meteo done\n"
     ]
    },
    {
     "name": "stderr",
     "output_type": "stream",
     "text": [
      "\n"
     ]
    },
    {
     "name": "stdout",
     "output_type": "stream",
     "text": [
      "/home/critechproc/STORAGE/SCHISM/UVP/sflux_air_1.037.nc\n",
      "\n",
      "extracting meteo\n"
     ]
    },
    {
     "name": "stderr",
     "output_type": "stream",
     "text": [
      "100%|██████████| 36/36 [00:12<00:00,  2.92it/s]"
     ]
    },
    {
     "name": "stdout",
     "output_type": "stream",
     "text": [
      "\n",
      "meteo done\n"
     ]
    },
    {
     "name": "stderr",
     "output_type": "stream",
     "text": [
      "\n"
     ]
    },
    {
     "name": "stdout",
     "output_type": "stream",
     "text": [
      "/home/critechproc/STORAGE/SCHISM/UVP/sflux_air_1.038.nc\n",
      "\n",
      "extracting meteo\n"
     ]
    },
    {
     "name": "stderr",
     "output_type": "stream",
     "text": [
      "100%|██████████| 36/36 [00:12<00:00,  2.91it/s]"
     ]
    },
    {
     "name": "stdout",
     "output_type": "stream",
     "text": [
      "\n",
      "meteo done\n"
     ]
    },
    {
     "name": "stderr",
     "output_type": "stream",
     "text": [
      "\n"
     ]
    },
    {
     "name": "stdout",
     "output_type": "stream",
     "text": [
      "/home/critechproc/STORAGE/SCHISM/UVP/sflux_air_1.039.nc\n",
      "\n",
      "extracting meteo\n"
     ]
    },
    {
     "name": "stderr",
     "output_type": "stream",
     "text": [
      "100%|██████████| 36/36 [00:12<00:00,  2.90it/s]"
     ]
    },
    {
     "name": "stdout",
     "output_type": "stream",
     "text": [
      "\n",
      "meteo done\n"
     ]
    },
    {
     "name": "stderr",
     "output_type": "stream",
     "text": [
      "\n"
     ]
    },
    {
     "name": "stdout",
     "output_type": "stream",
     "text": [
      "/home/critechproc/STORAGE/SCHISM/UVP/sflux_air_1.040.nc\n",
      "\n",
      "extracting meteo\n"
     ]
    },
    {
     "name": "stderr",
     "output_type": "stream",
     "text": [
      "100%|██████████| 36/36 [00:14<00:00,  2.64it/s]"
     ]
    },
    {
     "name": "stdout",
     "output_type": "stream",
     "text": [
      "\n",
      "meteo done\n"
     ]
    },
    {
     "name": "stderr",
     "output_type": "stream",
     "text": [
      "\n"
     ]
    },
    {
     "name": "stdout",
     "output_type": "stream",
     "text": [
      "/home/critechproc/STORAGE/SCHISM/UVP/sflux_air_1.041.nc\n",
      "\n",
      "extracting meteo\n"
     ]
    },
    {
     "name": "stderr",
     "output_type": "stream",
     "text": [
      "100%|██████████| 36/36 [00:13<00:00,  2.70it/s]"
     ]
    },
    {
     "name": "stdout",
     "output_type": "stream",
     "text": [
      "\n",
      "meteo done\n"
     ]
    },
    {
     "name": "stderr",
     "output_type": "stream",
     "text": [
      "\n"
     ]
    },
    {
     "name": "stdout",
     "output_type": "stream",
     "text": [
      "/home/critechproc/STORAGE/SCHISM/UVP/sflux_air_1.042.nc\n",
      "\n",
      "extracting meteo\n"
     ]
    },
    {
     "name": "stderr",
     "output_type": "stream",
     "text": [
      "100%|██████████| 36/36 [00:13<00:00,  2.68it/s]"
     ]
    },
    {
     "name": "stdout",
     "output_type": "stream",
     "text": [
      "\n",
      "meteo done\n"
     ]
    },
    {
     "name": "stderr",
     "output_type": "stream",
     "text": [
      "\n"
     ]
    },
    {
     "name": "stdout",
     "output_type": "stream",
     "text": [
      "/home/critechproc/STORAGE/SCHISM/UVP/sflux_air_1.043.nc\n",
      "\n",
      "extracting meteo\n"
     ]
    },
    {
     "name": "stderr",
     "output_type": "stream",
     "text": [
      "100%|██████████| 36/36 [00:13<00:00,  2.72it/s]"
     ]
    },
    {
     "name": "stdout",
     "output_type": "stream",
     "text": [
      "\n",
      "meteo done\n"
     ]
    },
    {
     "name": "stderr",
     "output_type": "stream",
     "text": [
      "\n"
     ]
    },
    {
     "name": "stdout",
     "output_type": "stream",
     "text": [
      "/home/critechproc/STORAGE/SCHISM/UVP/sflux_air_1.044.nc\n",
      "\n",
      "extracting meteo\n"
     ]
    },
    {
     "name": "stderr",
     "output_type": "stream",
     "text": [
      "100%|██████████| 36/36 [00:13<00:00,  2.72it/s]"
     ]
    },
    {
     "name": "stdout",
     "output_type": "stream",
     "text": [
      "\n",
      "meteo done\n"
     ]
    },
    {
     "name": "stderr",
     "output_type": "stream",
     "text": [
      "\n"
     ]
    },
    {
     "name": "stdout",
     "output_type": "stream",
     "text": [
      "/home/critechproc/STORAGE/SCHISM/UVP/sflux_air_1.045.nc\n",
      "\n",
      "extracting meteo\n"
     ]
    },
    {
     "name": "stderr",
     "output_type": "stream",
     "text": [
      "100%|██████████| 36/36 [00:13<00:00,  2.70it/s]"
     ]
    },
    {
     "name": "stdout",
     "output_type": "stream",
     "text": [
      "\n",
      "meteo done\n"
     ]
    },
    {
     "name": "stderr",
     "output_type": "stream",
     "text": [
      "\n"
     ]
    },
    {
     "name": "stdout",
     "output_type": "stream",
     "text": [
      "/home/critechproc/STORAGE/SCHISM/UVP/sflux_air_1.046.nc\n",
      "\n",
      "extracting meteo\n"
     ]
    },
    {
     "name": "stderr",
     "output_type": "stream",
     "text": [
      "100%|██████████| 36/36 [00:13<00:00,  2.70it/s]"
     ]
    },
    {
     "name": "stdout",
     "output_type": "stream",
     "text": [
      "\n",
      "meteo done\n"
     ]
    },
    {
     "name": "stderr",
     "output_type": "stream",
     "text": [
      "\n"
     ]
    },
    {
     "name": "stdout",
     "output_type": "stream",
     "text": [
      "/home/critechproc/STORAGE/SCHISM/UVP/sflux_air_1.047.nc\n",
      "\n",
      "extracting meteo\n"
     ]
    },
    {
     "name": "stderr",
     "output_type": "stream",
     "text": [
      "100%|██████████| 36/36 [00:13<00:00,  2.56it/s]"
     ]
    },
    {
     "name": "stdout",
     "output_type": "stream",
     "text": [
      "\n",
      "meteo done\n"
     ]
    },
    {
     "name": "stderr",
     "output_type": "stream",
     "text": [
      "\n"
     ]
    },
    {
     "name": "stdout",
     "output_type": "stream",
     "text": [
      "/home/critechproc/STORAGE/SCHISM/UVP/sflux_air_1.048.nc\n",
      "\n",
      "extracting meteo\n"
     ]
    },
    {
     "name": "stderr",
     "output_type": "stream",
     "text": [
      "100%|██████████| 36/36 [00:13<00:00,  2.72it/s]"
     ]
    },
    {
     "name": "stdout",
     "output_type": "stream",
     "text": [
      "\n",
      "meteo done\n"
     ]
    },
    {
     "name": "stderr",
     "output_type": "stream",
     "text": [
      "\n"
     ]
    },
    {
     "name": "stdout",
     "output_type": "stream",
     "text": [
      "/home/critechproc/STORAGE/SCHISM/UVP/sflux_air_1.049.nc\n",
      "\n",
      "extracting meteo\n"
     ]
    },
    {
     "name": "stderr",
     "output_type": "stream",
     "text": [
      "100%|██████████| 36/36 [00:13<00:00,  2.65it/s]"
     ]
    },
    {
     "name": "stdout",
     "output_type": "stream",
     "text": [
      "\n",
      "meteo done\n"
     ]
    },
    {
     "name": "stderr",
     "output_type": "stream",
     "text": [
      "\n"
     ]
    },
    {
     "name": "stdout",
     "output_type": "stream",
     "text": [
      "/home/critechproc/STORAGE/SCHISM/UVP/sflux_air_1.050.nc\n",
      "\n",
      "extracting meteo\n"
     ]
    },
    {
     "name": "stderr",
     "output_type": "stream",
     "text": [
      "100%|██████████| 36/36 [00:13<00:00,  2.68it/s]"
     ]
    },
    {
     "name": "stdout",
     "output_type": "stream",
     "text": [
      "\n",
      "meteo done\n"
     ]
    },
    {
     "name": "stderr",
     "output_type": "stream",
     "text": [
      "\n"
     ]
    },
    {
     "name": "stdout",
     "output_type": "stream",
     "text": [
      "/home/critechproc/STORAGE/SCHISM/UVP/sflux_air_1.051.nc\n",
      "\n",
      "extracting meteo\n"
     ]
    },
    {
     "name": "stderr",
     "output_type": "stream",
     "text": [
      "100%|██████████| 36/36 [00:13<00:00,  2.69it/s]"
     ]
    },
    {
     "name": "stdout",
     "output_type": "stream",
     "text": [
      "\n",
      "meteo done\n"
     ]
    },
    {
     "name": "stderr",
     "output_type": "stream",
     "text": [
      "\n"
     ]
    },
    {
     "name": "stdout",
     "output_type": "stream",
     "text": [
      "/home/critechproc/STORAGE/SCHISM/UVP/sflux_air_1.052.nc\n",
      "\n",
      "extracting meteo\n"
     ]
    },
    {
     "name": "stderr",
     "output_type": "stream",
     "text": [
      "100%|██████████| 36/36 [00:13<00:00,  2.71it/s]"
     ]
    },
    {
     "name": "stdout",
     "output_type": "stream",
     "text": [
      "\n",
      "meteo done\n"
     ]
    },
    {
     "name": "stderr",
     "output_type": "stream",
     "text": [
      "\n"
     ]
    },
    {
     "name": "stdout",
     "output_type": "stream",
     "text": [
      "/home/critechproc/STORAGE/SCHISM/UVP/sflux_air_1.053.nc\n",
      "\n",
      "extracting meteo\n"
     ]
    },
    {
     "name": "stderr",
     "output_type": "stream",
     "text": [
      "100%|██████████| 36/36 [00:13<00:00,  2.71it/s]"
     ]
    },
    {
     "name": "stdout",
     "output_type": "stream",
     "text": [
      "\n",
      "meteo done\n"
     ]
    },
    {
     "name": "stderr",
     "output_type": "stream",
     "text": [
      "\n"
     ]
    },
    {
     "name": "stdout",
     "output_type": "stream",
     "text": [
      "/home/critechproc/STORAGE/SCHISM/UVP/sflux_air_1.054.nc\n",
      "\n",
      "extracting meteo\n"
     ]
    },
    {
     "name": "stderr",
     "output_type": "stream",
     "text": [
      "100%|██████████| 36/36 [00:13<00:00,  2.74it/s]"
     ]
    },
    {
     "name": "stdout",
     "output_type": "stream",
     "text": [
      "\n",
      "meteo done\n"
     ]
    },
    {
     "name": "stderr",
     "output_type": "stream",
     "text": [
      "\n"
     ]
    },
    {
     "name": "stdout",
     "output_type": "stream",
     "text": [
      "/home/critechproc/STORAGE/SCHISM/UVP/sflux_air_1.055.nc\n",
      "\n",
      "extracting meteo\n"
     ]
    },
    {
     "name": "stderr",
     "output_type": "stream",
     "text": [
      "100%|██████████| 36/36 [00:13<00:00,  2.74it/s]"
     ]
    },
    {
     "name": "stdout",
     "output_type": "stream",
     "text": [
      "\n",
      "meteo done\n"
     ]
    },
    {
     "name": "stderr",
     "output_type": "stream",
     "text": [
      "\n"
     ]
    },
    {
     "name": "stdout",
     "output_type": "stream",
     "text": [
      "/home/critechproc/STORAGE/SCHISM/UVP/sflux_air_1.056.nc\n",
      "\n",
      "extracting meteo\n"
     ]
    },
    {
     "name": "stderr",
     "output_type": "stream",
     "text": [
      "100%|██████████| 36/36 [00:13<00:00,  2.76it/s]"
     ]
    },
    {
     "name": "stdout",
     "output_type": "stream",
     "text": [
      "\n",
      "meteo done\n"
     ]
    },
    {
     "name": "stderr",
     "output_type": "stream",
     "text": [
      "\n"
     ]
    },
    {
     "name": "stdout",
     "output_type": "stream",
     "text": [
      "/home/critechproc/STORAGE/SCHISM/UVP/sflux_air_1.057.nc\n",
      "\n",
      "extracting meteo\n"
     ]
    },
    {
     "name": "stderr",
     "output_type": "stream",
     "text": [
      "100%|██████████| 36/36 [00:13<00:00,  2.60it/s]"
     ]
    },
    {
     "name": "stdout",
     "output_type": "stream",
     "text": [
      "\n",
      "meteo done\n"
     ]
    },
    {
     "name": "stderr",
     "output_type": "stream",
     "text": [
      "\n"
     ]
    },
    {
     "name": "stdout",
     "output_type": "stream",
     "text": [
      "/home/critechproc/STORAGE/SCHISM/UVP/sflux_air_1.058.nc\n",
      "\n",
      "extracting meteo\n"
     ]
    },
    {
     "name": "stderr",
     "output_type": "stream",
     "text": [
      "100%|██████████| 36/36 [00:14<00:00,  2.36it/s]"
     ]
    },
    {
     "name": "stdout",
     "output_type": "stream",
     "text": [
      "\n",
      "meteo done\n"
     ]
    },
    {
     "name": "stderr",
     "output_type": "stream",
     "text": [
      "\n"
     ]
    },
    {
     "name": "stdout",
     "output_type": "stream",
     "text": [
      "/home/critechproc/STORAGE/SCHISM/UVP/sflux_air_1.059.nc\n",
      "\n",
      "extracting meteo\n"
     ]
    },
    {
     "name": "stderr",
     "output_type": "stream",
     "text": [
      "100%|██████████| 36/36 [00:13<00:00,  2.71it/s]"
     ]
    },
    {
     "name": "stdout",
     "output_type": "stream",
     "text": [
      "\n",
      "meteo done\n"
     ]
    },
    {
     "name": "stderr",
     "output_type": "stream",
     "text": [
      "\n"
     ]
    },
    {
     "name": "stdout",
     "output_type": "stream",
     "text": [
      "/home/critechproc/STORAGE/SCHISM/UVP/sflux_air_1.060.nc\n",
      "\n",
      "extracting meteo\n"
     ]
    },
    {
     "name": "stderr",
     "output_type": "stream",
     "text": [
      "100%|██████████| 36/36 [00:13<00:00,  2.73it/s]"
     ]
    },
    {
     "name": "stdout",
     "output_type": "stream",
     "text": [
      "\n",
      "meteo done\n"
     ]
    },
    {
     "name": "stderr",
     "output_type": "stream",
     "text": [
      "\n"
     ]
    },
    {
     "name": "stdout",
     "output_type": "stream",
     "text": [
      "/home/critechproc/STORAGE/SCHISM/UVP/sflux_air_1.061.nc\n",
      "\n",
      "extracting meteo\n"
     ]
    },
    {
     "name": "stderr",
     "output_type": "stream",
     "text": [
      "100%|██████████| 36/36 [00:13<00:00,  2.74it/s]"
     ]
    },
    {
     "name": "stdout",
     "output_type": "stream",
     "text": [
      "\n",
      "meteo done\n"
     ]
    },
    {
     "name": "stderr",
     "output_type": "stream",
     "text": [
      "\n"
     ]
    },
    {
     "name": "stdout",
     "output_type": "stream",
     "text": [
      "/home/critechproc/STORAGE/SCHISM/UVP/sflux_air_1.062.nc\n",
      "\n",
      "extracting meteo\n"
     ]
    },
    {
     "name": "stderr",
     "output_type": "stream",
     "text": [
      "100%|██████████| 36/36 [00:13<00:00,  2.74it/s]"
     ]
    },
    {
     "name": "stdout",
     "output_type": "stream",
     "text": [
      "\n",
      "meteo done\n"
     ]
    },
    {
     "name": "stderr",
     "output_type": "stream",
     "text": [
      "\n"
     ]
    },
    {
     "name": "stdout",
     "output_type": "stream",
     "text": [
      "/home/critechproc/STORAGE/SCHISM/UVP/sflux_air_1.063.nc\n",
      "\n",
      "extracting meteo\n"
     ]
    },
    {
     "name": "stderr",
     "output_type": "stream",
     "text": [
      "100%|██████████| 36/36 [00:13<00:00,  2.58it/s]"
     ]
    },
    {
     "name": "stdout",
     "output_type": "stream",
     "text": [
      "\n",
      "meteo done\n"
     ]
    },
    {
     "name": "stderr",
     "output_type": "stream",
     "text": [
      "\n"
     ]
    },
    {
     "name": "stdout",
     "output_type": "stream",
     "text": [
      "/home/critechproc/STORAGE/SCHISM/UVP/sflux_air_1.064.nc\n",
      "\n",
      "extracting meteo\n"
     ]
    },
    {
     "name": "stderr",
     "output_type": "stream",
     "text": [
      "100%|██████████| 36/36 [00:13<00:00,  2.61it/s]"
     ]
    },
    {
     "name": "stdout",
     "output_type": "stream",
     "text": [
      "\n",
      "meteo done\n"
     ]
    },
    {
     "name": "stderr",
     "output_type": "stream",
     "text": [
      "\n"
     ]
    },
    {
     "name": "stdout",
     "output_type": "stream",
     "text": [
      "/home/critechproc/STORAGE/SCHISM/UVP/sflux_air_1.065.nc\n",
      "\n",
      "extracting meteo\n"
     ]
    },
    {
     "name": "stderr",
     "output_type": "stream",
     "text": [
      "100%|██████████| 36/36 [00:14<00:00,  2.68it/s]"
     ]
    },
    {
     "name": "stdout",
     "output_type": "stream",
     "text": [
      "\n",
      "meteo done\n"
     ]
    },
    {
     "name": "stderr",
     "output_type": "stream",
     "text": [
      "\n"
     ]
    },
    {
     "name": "stdout",
     "output_type": "stream",
     "text": [
      "/home/critechproc/STORAGE/SCHISM/UVP/sflux_air_1.066.nc\n",
      "\n",
      "extracting meteo\n"
     ]
    },
    {
     "name": "stderr",
     "output_type": "stream",
     "text": [
      "100%|██████████| 36/36 [00:14<00:00,  2.47it/s]"
     ]
    },
    {
     "name": "stdout",
     "output_type": "stream",
     "text": [
      "\n",
      "meteo done\n"
     ]
    },
    {
     "name": "stderr",
     "output_type": "stream",
     "text": [
      "\n"
     ]
    },
    {
     "name": "stdout",
     "output_type": "stream",
     "text": [
      "/home/critechproc/STORAGE/SCHISM/UVP/sflux_air_1.067.nc\n",
      "\n",
      "extracting meteo\n"
     ]
    },
    {
     "name": "stderr",
     "output_type": "stream",
     "text": [
      "100%|██████████| 36/36 [00:13<00:00,  2.68it/s]"
     ]
    },
    {
     "name": "stdout",
     "output_type": "stream",
     "text": [
      "\n",
      "meteo done\n"
     ]
    },
    {
     "name": "stderr",
     "output_type": "stream",
     "text": [
      "\n"
     ]
    },
    {
     "name": "stdout",
     "output_type": "stream",
     "text": [
      "/home/critechproc/STORAGE/SCHISM/UVP/sflux_air_1.068.nc\n",
      "\n",
      "extracting meteo\n"
     ]
    },
    {
     "name": "stderr",
     "output_type": "stream",
     "text": [
      "100%|██████████| 36/36 [00:13<00:00,  2.72it/s]"
     ]
    },
    {
     "name": "stdout",
     "output_type": "stream",
     "text": [
      "\n",
      "meteo done\n"
     ]
    },
    {
     "name": "stderr",
     "output_type": "stream",
     "text": [
      "\n"
     ]
    },
    {
     "name": "stdout",
     "output_type": "stream",
     "text": [
      "/home/critechproc/STORAGE/SCHISM/UVP/sflux_air_1.069.nc\n",
      "\n",
      "extracting meteo\n"
     ]
    },
    {
     "name": "stderr",
     "output_type": "stream",
     "text": [
      "100%|██████████| 36/36 [00:13<00:00,  2.75it/s]"
     ]
    },
    {
     "name": "stdout",
     "output_type": "stream",
     "text": [
      "\n",
      "meteo done\n"
     ]
    },
    {
     "name": "stderr",
     "output_type": "stream",
     "text": [
      "\n"
     ]
    },
    {
     "name": "stdout",
     "output_type": "stream",
     "text": [
      "/home/critechproc/STORAGE/SCHISM/UVP/sflux_air_1.070.nc\n",
      "\n",
      "extracting meteo\n"
     ]
    },
    {
     "name": "stderr",
     "output_type": "stream",
     "text": [
      "100%|██████████| 36/36 [00:13<00:00,  2.66it/s]"
     ]
    },
    {
     "name": "stdout",
     "output_type": "stream",
     "text": [
      "\n",
      "meteo done\n"
     ]
    },
    {
     "name": "stderr",
     "output_type": "stream",
     "text": [
      "\n"
     ]
    },
    {
     "name": "stdout",
     "output_type": "stream",
     "text": [
      "/home/critechproc/STORAGE/SCHISM/UVP/sflux_air_1.071.nc\n",
      "\n",
      "extracting meteo\n"
     ]
    },
    {
     "name": "stderr",
     "output_type": "stream",
     "text": [
      "100%|██████████| 36/36 [00:13<00:00,  2.74it/s]"
     ]
    },
    {
     "name": "stdout",
     "output_type": "stream",
     "text": [
      "\n",
      "meteo done\n"
     ]
    },
    {
     "name": "stderr",
     "output_type": "stream",
     "text": [
      "\n"
     ]
    },
    {
     "name": "stdout",
     "output_type": "stream",
     "text": [
      "/home/critechproc/STORAGE/SCHISM/UVP/sflux_air_1.072.nc\n",
      "\n",
      "extracting meteo\n"
     ]
    },
    {
     "name": "stderr",
     "output_type": "stream",
     "text": [
      "100%|██████████| 36/36 [00:13<00:00,  2.68it/s]"
     ]
    },
    {
     "name": "stdout",
     "output_type": "stream",
     "text": [
      "\n",
      "meteo done\n"
     ]
    },
    {
     "name": "stderr",
     "output_type": "stream",
     "text": [
      "\n"
     ]
    },
    {
     "name": "stdout",
     "output_type": "stream",
     "text": [
      "/home/critechproc/STORAGE/SCHISM/UVP/sflux_air_1.073.nc\n",
      "\n",
      "extracting meteo\n"
     ]
    },
    {
     "name": "stderr",
     "output_type": "stream",
     "text": [
      "100%|██████████| 36/36 [00:13<00:00,  2.64it/s]"
     ]
    },
    {
     "name": "stdout",
     "output_type": "stream",
     "text": [
      "\n",
      "meteo done\n"
     ]
    },
    {
     "name": "stderr",
     "output_type": "stream",
     "text": [
      "\n"
     ]
    },
    {
     "name": "stdout",
     "output_type": "stream",
     "text": [
      "/home/critechproc/STORAGE/SCHISM/UVP/sflux_air_1.074.nc\n",
      "\n",
      "extracting meteo\n"
     ]
    },
    {
     "name": "stderr",
     "output_type": "stream",
     "text": [
      "100%|██████████| 36/36 [00:13<00:00,  2.74it/s]"
     ]
    },
    {
     "name": "stdout",
     "output_type": "stream",
     "text": [
      "\n",
      "meteo done\n"
     ]
    },
    {
     "name": "stderr",
     "output_type": "stream",
     "text": [
      "\n"
     ]
    },
    {
     "name": "stdout",
     "output_type": "stream",
     "text": [
      "/home/critechproc/STORAGE/SCHISM/UVP/sflux_air_1.075.nc\n",
      "\n",
      "extracting meteo\n"
     ]
    },
    {
     "name": "stderr",
     "output_type": "stream",
     "text": [
      "100%|██████████| 36/36 [00:13<00:00,  2.69it/s]"
     ]
    },
    {
     "name": "stdout",
     "output_type": "stream",
     "text": [
      "\n",
      "meteo done\n"
     ]
    },
    {
     "name": "stderr",
     "output_type": "stream",
     "text": [
      "\n"
     ]
    },
    {
     "name": "stdout",
     "output_type": "stream",
     "text": [
      "/home/critechproc/STORAGE/SCHISM/UVP/sflux_air_1.076.nc\n",
      "\n",
      "extracting meteo\n"
     ]
    },
    {
     "name": "stderr",
     "output_type": "stream",
     "text": [
      "100%|██████████| 36/36 [00:14<00:00,  2.43it/s]"
     ]
    },
    {
     "name": "stdout",
     "output_type": "stream",
     "text": [
      "\n",
      "meteo done\n"
     ]
    },
    {
     "name": "stderr",
     "output_type": "stream",
     "text": [
      "\n"
     ]
    },
    {
     "name": "stdout",
     "output_type": "stream",
     "text": [
      "/home/critechproc/STORAGE/SCHISM/UVP/sflux_air_1.077.nc\n",
      "\n",
      "extracting meteo\n"
     ]
    },
    {
     "name": "stderr",
     "output_type": "stream",
     "text": [
      "100%|██████████| 36/36 [00:15<00:00,  2.62it/s]"
     ]
    },
    {
     "name": "stdout",
     "output_type": "stream",
     "text": [
      "\n",
      "meteo done\n"
     ]
    },
    {
     "name": "stderr",
     "output_type": "stream",
     "text": [
      "\n"
     ]
    },
    {
     "name": "stdout",
     "output_type": "stream",
     "text": [
      "/home/critechproc/STORAGE/SCHISM/UVP/sflux_air_1.078.nc\n",
      "\n",
      "extracting meteo\n"
     ]
    },
    {
     "name": "stderr",
     "output_type": "stream",
     "text": [
      "100%|██████████| 36/36 [00:14<00:00,  2.47it/s]"
     ]
    },
    {
     "name": "stdout",
     "output_type": "stream",
     "text": [
      "\n",
      "meteo done\n"
     ]
    },
    {
     "name": "stderr",
     "output_type": "stream",
     "text": [
      "\n"
     ]
    },
    {
     "name": "stdout",
     "output_type": "stream",
     "text": [
      "/home/critechproc/STORAGE/SCHISM/UVP/sflux_air_1.079.nc\n",
      "\n",
      "extracting meteo\n"
     ]
    },
    {
     "name": "stderr",
     "output_type": "stream",
     "text": [
      "100%|██████████| 36/36 [00:14<00:00,  2.61it/s]"
     ]
    },
    {
     "name": "stdout",
     "output_type": "stream",
     "text": [
      "\n",
      "meteo done\n"
     ]
    },
    {
     "name": "stderr",
     "output_type": "stream",
     "text": [
      "\n"
     ]
    },
    {
     "name": "stdout",
     "output_type": "stream",
     "text": [
      "/home/critechproc/STORAGE/SCHISM/UVP/sflux_air_1.080.nc\n",
      "\n",
      "extracting meteo\n"
     ]
    },
    {
     "name": "stderr",
     "output_type": "stream",
     "text": [
      "100%|██████████| 36/36 [00:13<00:00,  2.57it/s]"
     ]
    },
    {
     "name": "stdout",
     "output_type": "stream",
     "text": [
      "\n",
      "meteo done\n"
     ]
    },
    {
     "name": "stderr",
     "output_type": "stream",
     "text": [
      "\n"
     ]
    },
    {
     "name": "stdout",
     "output_type": "stream",
     "text": [
      "/home/critechproc/STORAGE/SCHISM/UVP/sflux_air_1.081.nc\n",
      "\n",
      "extracting meteo\n"
     ]
    },
    {
     "name": "stderr",
     "output_type": "stream",
     "text": [
      "100%|██████████| 36/36 [00:14<00:00,  2.43it/s]"
     ]
    },
    {
     "name": "stdout",
     "output_type": "stream",
     "text": [
      "\n",
      "meteo done\n"
     ]
    },
    {
     "name": "stderr",
     "output_type": "stream",
     "text": [
      "\n"
     ]
    },
    {
     "name": "stdout",
     "output_type": "stream",
     "text": [
      "/home/critechproc/STORAGE/SCHISM/UVP/sflux_air_1.082.nc\n",
      "\n",
      "extracting meteo\n"
     ]
    },
    {
     "name": "stderr",
     "output_type": "stream",
     "text": [
      "100%|██████████| 36/36 [00:15<00:00,  2.44it/s]"
     ]
    },
    {
     "name": "stdout",
     "output_type": "stream",
     "text": [
      "\n",
      "meteo done\n"
     ]
    },
    {
     "name": "stderr",
     "output_type": "stream",
     "text": [
      "\n"
     ]
    },
    {
     "name": "stdout",
     "output_type": "stream",
     "text": [
      "/home/critechproc/STORAGE/SCHISM/UVP/sflux_air_1.083.nc\n",
      "\n",
      "extracting meteo\n"
     ]
    },
    {
     "name": "stderr",
     "output_type": "stream",
     "text": [
      "100%|██████████| 36/36 [00:14<00:00,  2.53it/s]"
     ]
    },
    {
     "name": "stdout",
     "output_type": "stream",
     "text": [
      "\n",
      "meteo done\n"
     ]
    },
    {
     "name": "stderr",
     "output_type": "stream",
     "text": [
      "\n"
     ]
    },
    {
     "name": "stdout",
     "output_type": "stream",
     "text": [
      "/home/critechproc/STORAGE/SCHISM/UVP/sflux_air_1.084.nc\n",
      "\n",
      "extracting meteo\n"
     ]
    },
    {
     "name": "stderr",
     "output_type": "stream",
     "text": [
      "100%|██████████| 36/36 [00:14<00:00,  2.62it/s]"
     ]
    },
    {
     "name": "stdout",
     "output_type": "stream",
     "text": [
      "\n",
      "meteo done\n"
     ]
    },
    {
     "name": "stderr",
     "output_type": "stream",
     "text": [
      "\n"
     ]
    },
    {
     "name": "stdout",
     "output_type": "stream",
     "text": [
      "/home/critechproc/STORAGE/SCHISM/UVP/sflux_air_1.085.nc\n",
      "\n",
      "extracting meteo\n"
     ]
    },
    {
     "name": "stderr",
     "output_type": "stream",
     "text": [
      "100%|██████████| 36/36 [00:14<00:00,  2.49it/s]"
     ]
    },
    {
     "name": "stdout",
     "output_type": "stream",
     "text": [
      "\n",
      "meteo done\n"
     ]
    },
    {
     "name": "stderr",
     "output_type": "stream",
     "text": [
      "\n"
     ]
    },
    {
     "name": "stdout",
     "output_type": "stream",
     "text": [
      "/home/critechproc/STORAGE/SCHISM/UVP/sflux_air_1.086.nc\n",
      "\n",
      "extracting meteo\n"
     ]
    },
    {
     "name": "stderr",
     "output_type": "stream",
     "text": [
      "100%|██████████| 36/36 [00:14<00:00,  2.60it/s]"
     ]
    },
    {
     "name": "stdout",
     "output_type": "stream",
     "text": [
      "\n",
      "meteo done\n"
     ]
    },
    {
     "name": "stderr",
     "output_type": "stream",
     "text": [
      "\n"
     ]
    },
    {
     "name": "stdout",
     "output_type": "stream",
     "text": [
      "/home/critechproc/STORAGE/SCHISM/UVP/sflux_air_1.087.nc\n",
      "\n",
      "extracting meteo\n"
     ]
    },
    {
     "name": "stderr",
     "output_type": "stream",
     "text": [
      "100%|██████████| 36/36 [00:14<00:00,  2.57it/s]"
     ]
    },
    {
     "name": "stdout",
     "output_type": "stream",
     "text": [
      "\n",
      "meteo done\n"
     ]
    },
    {
     "name": "stderr",
     "output_type": "stream",
     "text": [
      "\n"
     ]
    },
    {
     "name": "stdout",
     "output_type": "stream",
     "text": [
      "/home/critechproc/STORAGE/SCHISM/UVP/sflux_air_1.088.nc\n",
      "\n",
      "extracting meteo\n"
     ]
    },
    {
     "name": "stderr",
     "output_type": "stream",
     "text": [
      "100%|██████████| 36/36 [00:14<00:00,  2.57it/s]"
     ]
    },
    {
     "name": "stdout",
     "output_type": "stream",
     "text": [
      "\n",
      "meteo done\n"
     ]
    },
    {
     "name": "stderr",
     "output_type": "stream",
     "text": [
      "\n"
     ]
    },
    {
     "name": "stdout",
     "output_type": "stream",
     "text": [
      "/home/critechproc/STORAGE/SCHISM/UVP/sflux_air_1.089.nc\n",
      "\n",
      "extracting meteo\n"
     ]
    },
    {
     "name": "stderr",
     "output_type": "stream",
     "text": [
      "100%|██████████| 36/36 [00:14<00:00,  2.49it/s]"
     ]
    },
    {
     "name": "stdout",
     "output_type": "stream",
     "text": [
      "\n",
      "meteo done\n"
     ]
    },
    {
     "name": "stderr",
     "output_type": "stream",
     "text": [
      "\n"
     ]
    },
    {
     "name": "stdout",
     "output_type": "stream",
     "text": [
      "/home/critechproc/STORAGE/SCHISM/UVP/sflux_air_1.090.nc\n",
      "\n",
      "extracting meteo\n"
     ]
    },
    {
     "name": "stderr",
     "output_type": "stream",
     "text": [
      "100%|██████████| 36/36 [00:13<00:00,  2.67it/s]"
     ]
    },
    {
     "name": "stdout",
     "output_type": "stream",
     "text": [
      "\n",
      "meteo done\n"
     ]
    },
    {
     "name": "stderr",
     "output_type": "stream",
     "text": [
      "\n"
     ]
    },
    {
     "name": "stdout",
     "output_type": "stream",
     "text": [
      "/home/critechproc/STORAGE/SCHISM/UVP/sflux_air_1.091.nc\n",
      "\n",
      "extracting meteo\n"
     ]
    },
    {
     "name": "stderr",
     "output_type": "stream",
     "text": [
      "100%|██████████| 36/36 [00:13<00:00,  2.58it/s]"
     ]
    },
    {
     "name": "stdout",
     "output_type": "stream",
     "text": [
      "\n",
      "meteo done\n"
     ]
    },
    {
     "name": "stderr",
     "output_type": "stream",
     "text": [
      "\n"
     ]
    },
    {
     "name": "stdout",
     "output_type": "stream",
     "text": [
      "/home/critechproc/STORAGE/SCHISM/UVP/sflux_air_1.092.nc\n",
      "\n",
      "extracting meteo\n"
     ]
    },
    {
     "name": "stderr",
     "output_type": "stream",
     "text": [
      "100%|██████████| 36/36 [00:13<00:00,  2.69it/s]"
     ]
    },
    {
     "name": "stdout",
     "output_type": "stream",
     "text": [
      "\n",
      "meteo done\n"
     ]
    },
    {
     "name": "stderr",
     "output_type": "stream",
     "text": [
      "\n"
     ]
    },
    {
     "name": "stdout",
     "output_type": "stream",
     "text": [
      "/home/critechproc/STORAGE/SCHISM/UVP/sflux_air_1.093.nc\n",
      "\n",
      "extracting meteo\n"
     ]
    },
    {
     "name": "stderr",
     "output_type": "stream",
     "text": [
      "100%|██████████| 36/36 [00:14<00:00,  2.51it/s]"
     ]
    },
    {
     "name": "stdout",
     "output_type": "stream",
     "text": [
      "\n",
      "meteo done\n"
     ]
    },
    {
     "name": "stderr",
     "output_type": "stream",
     "text": [
      "\n"
     ]
    },
    {
     "name": "stdout",
     "output_type": "stream",
     "text": [
      "/home/critechproc/STORAGE/SCHISM/UVP/sflux_air_1.094.nc\n",
      "\n",
      "extracting meteo\n"
     ]
    },
    {
     "name": "stderr",
     "output_type": "stream",
     "text": [
      "100%|██████████| 36/36 [00:13<00:00,  2.60it/s]"
     ]
    },
    {
     "name": "stdout",
     "output_type": "stream",
     "text": [
      "\n",
      "meteo done\n"
     ]
    },
    {
     "name": "stderr",
     "output_type": "stream",
     "text": [
      "\n"
     ]
    },
    {
     "name": "stdout",
     "output_type": "stream",
     "text": [
      "/home/critechproc/STORAGE/SCHISM/UVP/sflux_air_1.095.nc\n",
      "\n",
      "extracting meteo\n"
     ]
    },
    {
     "name": "stderr",
     "output_type": "stream",
     "text": [
      "100%|██████████| 36/36 [00:13<00:00,  2.61it/s]"
     ]
    },
    {
     "name": "stdout",
     "output_type": "stream",
     "text": [
      "\n",
      "meteo done\n"
     ]
    },
    {
     "name": "stderr",
     "output_type": "stream",
     "text": [
      "\n"
     ]
    },
    {
     "name": "stdout",
     "output_type": "stream",
     "text": [
      "/home/critechproc/STORAGE/SCHISM/UVP/sflux_air_1.096.nc\n",
      "\n",
      "extracting meteo\n"
     ]
    },
    {
     "name": "stderr",
     "output_type": "stream",
     "text": [
      "100%|██████████| 36/36 [00:14<00:00,  2.58it/s]"
     ]
    },
    {
     "name": "stdout",
     "output_type": "stream",
     "text": [
      "\n",
      "meteo done\n"
     ]
    },
    {
     "name": "stderr",
     "output_type": "stream",
     "text": [
      "\n"
     ]
    },
    {
     "name": "stdout",
     "output_type": "stream",
     "text": [
      "/home/critechproc/STORAGE/SCHISM/UVP/sflux_air_1.097.nc\n",
      "\n",
      "extracting meteo\n"
     ]
    },
    {
     "name": "stderr",
     "output_type": "stream",
     "text": [
      "100%|██████████| 36/36 [00:14<00:00,  2.58it/s]"
     ]
    },
    {
     "name": "stdout",
     "output_type": "stream",
     "text": [
      "\n",
      "meteo done\n"
     ]
    },
    {
     "name": "stderr",
     "output_type": "stream",
     "text": [
      "\n"
     ]
    },
    {
     "name": "stdout",
     "output_type": "stream",
     "text": [
      "/home/critechproc/STORAGE/SCHISM/UVP/sflux_air_1.098.nc\n",
      "\n",
      "extracting meteo\n"
     ]
    },
    {
     "name": "stderr",
     "output_type": "stream",
     "text": [
      "100%|██████████| 36/36 [00:14<00:00,  2.57it/s]"
     ]
    },
    {
     "name": "stdout",
     "output_type": "stream",
     "text": [
      "\n",
      "meteo done\n"
     ]
    },
    {
     "name": "stderr",
     "output_type": "stream",
     "text": [
      "\n"
     ]
    },
    {
     "name": "stdout",
     "output_type": "stream",
     "text": [
      "/home/critechproc/STORAGE/SCHISM/UVP/sflux_air_1.099.nc\n",
      "\n",
      "extracting meteo\n"
     ]
    },
    {
     "name": "stderr",
     "output_type": "stream",
     "text": [
      "100%|██████████| 36/36 [00:14<00:00,  2.57it/s]"
     ]
    },
    {
     "name": "stdout",
     "output_type": "stream",
     "text": [
      "\n",
      "meteo done\n"
     ]
    },
    {
     "name": "stderr",
     "output_type": "stream",
     "text": [
      "\n"
     ]
    },
    {
     "name": "stdout",
     "output_type": "stream",
     "text": [
      "/home/critechproc/STORAGE/SCHISM/UVP/sflux_air_1.100.nc\n",
      "\n",
      "extracting meteo\n"
     ]
    },
    {
     "name": "stderr",
     "output_type": "stream",
     "text": [
      "100%|██████████| 36/36 [00:15<00:00,  2.42it/s]"
     ]
    },
    {
     "name": "stdout",
     "output_type": "stream",
     "text": [
      "\n",
      "meteo done\n"
     ]
    },
    {
     "name": "stderr",
     "output_type": "stream",
     "text": [
      "\n"
     ]
    },
    {
     "name": "stdout",
     "output_type": "stream",
     "text": [
      "/home/critechproc/STORAGE/SCHISM/UVP/sflux_air_1.101.nc\n",
      "\n",
      "extracting meteo\n"
     ]
    },
    {
     "name": "stderr",
     "output_type": "stream",
     "text": [
      "100%|██████████| 36/36 [00:14<00:00,  2.43it/s]"
     ]
    },
    {
     "name": "stdout",
     "output_type": "stream",
     "text": [
      "\n",
      "meteo done\n"
     ]
    },
    {
     "name": "stderr",
     "output_type": "stream",
     "text": [
      "\n"
     ]
    },
    {
     "name": "stdout",
     "output_type": "stream",
     "text": [
      "/home/critechproc/STORAGE/SCHISM/UVP/sflux_air_1.102.nc\n",
      "\n",
      "extracting meteo\n"
     ]
    },
    {
     "name": "stderr",
     "output_type": "stream",
     "text": [
      "100%|██████████| 36/36 [00:14<00:00,  2.43it/s]"
     ]
    },
    {
     "name": "stdout",
     "output_type": "stream",
     "text": [
      "\n",
      "meteo done\n"
     ]
    },
    {
     "name": "stderr",
     "output_type": "stream",
     "text": [
      "\n"
     ]
    },
    {
     "name": "stdout",
     "output_type": "stream",
     "text": [
      "/home/critechproc/STORAGE/SCHISM/UVP/sflux_air_1.103.nc\n",
      "\n",
      "extracting meteo\n"
     ]
    },
    {
     "name": "stderr",
     "output_type": "stream",
     "text": [
      "100%|██████████| 36/36 [00:14<00:00,  2.45it/s]"
     ]
    },
    {
     "name": "stdout",
     "output_type": "stream",
     "text": [
      "\n",
      "meteo done\n"
     ]
    },
    {
     "name": "stderr",
     "output_type": "stream",
     "text": [
      "\n"
     ]
    },
    {
     "name": "stdout",
     "output_type": "stream",
     "text": [
      "/home/critechproc/STORAGE/SCHISM/UVP/sflux_air_1.104.nc\n",
      "\n",
      "extracting meteo\n"
     ]
    },
    {
     "name": "stderr",
     "output_type": "stream",
     "text": [
      "100%|██████████| 36/36 [00:14<00:00,  2.48it/s]"
     ]
    },
    {
     "name": "stdout",
     "output_type": "stream",
     "text": [
      "\n",
      "meteo done\n"
     ]
    },
    {
     "name": "stderr",
     "output_type": "stream",
     "text": [
      "\n"
     ]
    },
    {
     "name": "stdout",
     "output_type": "stream",
     "text": [
      "/home/critechproc/STORAGE/SCHISM/UVP/sflux_air_1.105.nc\n",
      "\n",
      "extracting meteo\n"
     ]
    },
    {
     "name": "stderr",
     "output_type": "stream",
     "text": [
      "100%|██████████| 36/36 [00:14<00:00,  2.46it/s]"
     ]
    },
    {
     "name": "stdout",
     "output_type": "stream",
     "text": [
      "\n",
      "meteo done\n"
     ]
    },
    {
     "name": "stderr",
     "output_type": "stream",
     "text": [
      "\n"
     ]
    },
    {
     "name": "stdout",
     "output_type": "stream",
     "text": [
      "/home/critechproc/STORAGE/SCHISM/UVP/sflux_air_1.106.nc\n",
      "\n",
      "extracting meteo\n"
     ]
    },
    {
     "name": "stderr",
     "output_type": "stream",
     "text": [
      "100%|██████████| 36/36 [00:14<00:00,  2.42it/s]"
     ]
    },
    {
     "name": "stdout",
     "output_type": "stream",
     "text": [
      "\n",
      "meteo done\n"
     ]
    },
    {
     "name": "stderr",
     "output_type": "stream",
     "text": [
      "\n"
     ]
    },
    {
     "name": "stdout",
     "output_type": "stream",
     "text": [
      "/home/critechproc/STORAGE/SCHISM/UVP/sflux_air_1.107.nc\n",
      "\n",
      "extracting meteo\n"
     ]
    },
    {
     "name": "stderr",
     "output_type": "stream",
     "text": [
      "100%|██████████| 36/36 [00:14<00:00,  2.35it/s]"
     ]
    },
    {
     "name": "stdout",
     "output_type": "stream",
     "text": [
      "\n",
      "meteo done\n"
     ]
    },
    {
     "name": "stderr",
     "output_type": "stream",
     "text": [
      "\n"
     ]
    },
    {
     "name": "stdout",
     "output_type": "stream",
     "text": [
      "/home/critechproc/STORAGE/SCHISM/UVP/sflux_air_1.108.nc\n",
      "\n",
      "extracting meteo\n"
     ]
    },
    {
     "name": "stderr",
     "output_type": "stream",
     "text": [
      "100%|██████████| 36/36 [00:14<00:00,  2.50it/s]"
     ]
    },
    {
     "name": "stdout",
     "output_type": "stream",
     "text": [
      "\n",
      "meteo done\n"
     ]
    },
    {
     "name": "stderr",
     "output_type": "stream",
     "text": [
      "\n"
     ]
    },
    {
     "name": "stdout",
     "output_type": "stream",
     "text": [
      "/home/critechproc/STORAGE/SCHISM/UVP/sflux_air_1.109.nc\n",
      "\n",
      "extracting meteo\n"
     ]
    },
    {
     "name": "stderr",
     "output_type": "stream",
     "text": [
      "100%|██████████| 36/36 [00:14<00:00,  2.44it/s]"
     ]
    },
    {
     "name": "stdout",
     "output_type": "stream",
     "text": [
      "\n",
      "meteo done\n"
     ]
    },
    {
     "name": "stderr",
     "output_type": "stream",
     "text": [
      "\n"
     ]
    },
    {
     "name": "stdout",
     "output_type": "stream",
     "text": [
      "/home/critechproc/STORAGE/SCHISM/UVP/sflux_air_1.110.nc\n",
      "\n",
      "extracting meteo\n"
     ]
    },
    {
     "name": "stderr",
     "output_type": "stream",
     "text": [
      "100%|██████████| 36/36 [00:14<00:00,  2.45it/s]"
     ]
    },
    {
     "name": "stdout",
     "output_type": "stream",
     "text": [
      "\n",
      "meteo done\n"
     ]
    },
    {
     "name": "stderr",
     "output_type": "stream",
     "text": [
      "\n"
     ]
    },
    {
     "name": "stdout",
     "output_type": "stream",
     "text": [
      "/home/critechproc/STORAGE/SCHISM/UVP/sflux_air_1.111.nc\n",
      "\n",
      "extracting meteo\n"
     ]
    },
    {
     "name": "stderr",
     "output_type": "stream",
     "text": [
      "100%|██████████| 36/36 [00:14<00:00,  2.43it/s]"
     ]
    },
    {
     "name": "stdout",
     "output_type": "stream",
     "text": [
      "\n",
      "meteo done\n"
     ]
    },
    {
     "name": "stderr",
     "output_type": "stream",
     "text": [
      "\n"
     ]
    },
    {
     "name": "stdout",
     "output_type": "stream",
     "text": [
      "/home/critechproc/STORAGE/SCHISM/UVP/sflux_air_1.112.nc\n",
      "\n",
      "extracting meteo\n"
     ]
    },
    {
     "name": "stderr",
     "output_type": "stream",
     "text": [
      "100%|██████████| 36/36 [00:14<00:00,  2.47it/s]"
     ]
    },
    {
     "name": "stdout",
     "output_type": "stream",
     "text": [
      "\n",
      "meteo done\n"
     ]
    },
    {
     "name": "stderr",
     "output_type": "stream",
     "text": [
      "\n"
     ]
    },
    {
     "name": "stdout",
     "output_type": "stream",
     "text": [
      "/home/critechproc/STORAGE/SCHISM/UVP/sflux_air_1.113.nc\n",
      "\n",
      "extracting meteo\n"
     ]
    },
    {
     "name": "stderr",
     "output_type": "stream",
     "text": [
      "100%|██████████| 36/36 [00:14<00:00,  2.48it/s]"
     ]
    },
    {
     "name": "stdout",
     "output_type": "stream",
     "text": [
      "\n",
      "meteo done\n"
     ]
    },
    {
     "name": "stderr",
     "output_type": "stream",
     "text": [
      "\n"
     ]
    },
    {
     "name": "stdout",
     "output_type": "stream",
     "text": [
      "/home/critechproc/STORAGE/SCHISM/UVP/sflux_air_1.114.nc\n",
      "\n",
      "extracting meteo\n"
     ]
    },
    {
     "name": "stderr",
     "output_type": "stream",
     "text": [
      "100%|██████████| 36/36 [00:14<00:00,  2.42it/s]"
     ]
    },
    {
     "name": "stdout",
     "output_type": "stream",
     "text": [
      "\n",
      "meteo done\n"
     ]
    },
    {
     "name": "stderr",
     "output_type": "stream",
     "text": [
      "\n"
     ]
    },
    {
     "name": "stdout",
     "output_type": "stream",
     "text": [
      "/home/critechproc/STORAGE/SCHISM/UVP/sflux_air_1.115.nc\n",
      "\n",
      "extracting meteo\n"
     ]
    },
    {
     "name": "stderr",
     "output_type": "stream",
     "text": [
      "100%|██████████| 36/36 [00:14<00:00,  2.46it/s]"
     ]
    },
    {
     "name": "stdout",
     "output_type": "stream",
     "text": [
      "\n",
      "meteo done\n"
     ]
    },
    {
     "name": "stderr",
     "output_type": "stream",
     "text": [
      "\n"
     ]
    },
    {
     "name": "stdout",
     "output_type": "stream",
     "text": [
      "/home/critechproc/STORAGE/SCHISM/UVP/sflux_air_1.116.nc\n",
      "\n",
      "extracting meteo\n"
     ]
    },
    {
     "name": "stderr",
     "output_type": "stream",
     "text": [
      "100%|██████████| 36/36 [00:14<00:00,  2.42it/s]"
     ]
    },
    {
     "name": "stdout",
     "output_type": "stream",
     "text": [
      "\n",
      "meteo done\n"
     ]
    },
    {
     "name": "stderr",
     "output_type": "stream",
     "text": [
      "\n"
     ]
    },
    {
     "name": "stdout",
     "output_type": "stream",
     "text": [
      "/home/critechproc/STORAGE/SCHISM/UVP/sflux_air_1.117.nc\n",
      "\n",
      "extracting meteo\n"
     ]
    },
    {
     "name": "stderr",
     "output_type": "stream",
     "text": [
      "100%|██████████| 36/36 [00:14<00:00,  2.45it/s]"
     ]
    },
    {
     "name": "stdout",
     "output_type": "stream",
     "text": [
      "\n",
      "meteo done\n"
     ]
    },
    {
     "name": "stderr",
     "output_type": "stream",
     "text": [
      "\n"
     ]
    },
    {
     "name": "stdout",
     "output_type": "stream",
     "text": [
      "/home/critechproc/STORAGE/SCHISM/UVP/sflux_air_1.118.nc\n",
      "\n",
      "extracting meteo\n"
     ]
    },
    {
     "name": "stderr",
     "output_type": "stream",
     "text": [
      "100%|██████████| 36/36 [00:14<00:00,  2.47it/s]"
     ]
    },
    {
     "name": "stdout",
     "output_type": "stream",
     "text": [
      "\n",
      "meteo done\n"
     ]
    },
    {
     "name": "stderr",
     "output_type": "stream",
     "text": [
      "\n"
     ]
    },
    {
     "name": "stdout",
     "output_type": "stream",
     "text": [
      "/home/critechproc/STORAGE/SCHISM/UVP/sflux_air_1.119.nc\n",
      "\n",
      "extracting meteo\n"
     ]
    },
    {
     "name": "stderr",
     "output_type": "stream",
     "text": [
      "100%|██████████| 36/36 [00:14<00:00,  2.42it/s]"
     ]
    },
    {
     "name": "stdout",
     "output_type": "stream",
     "text": [
      "\n",
      "meteo done\n"
     ]
    },
    {
     "name": "stderr",
     "output_type": "stream",
     "text": [
      "\n"
     ]
    },
    {
     "name": "stdout",
     "output_type": "stream",
     "text": [
      "/home/critechproc/STORAGE/SCHISM/UVP/sflux_air_1.120.nc\n",
      "\n",
      "extracting meteo\n"
     ]
    },
    {
     "name": "stderr",
     "output_type": "stream",
     "text": [
      "100%|██████████| 36/36 [00:14<00:00,  2.46it/s]"
     ]
    },
    {
     "name": "stdout",
     "output_type": "stream",
     "text": [
      "\n",
      "meteo done\n"
     ]
    },
    {
     "name": "stderr",
     "output_type": "stream",
     "text": [
      "\n"
     ]
    },
    {
     "name": "stdout",
     "output_type": "stream",
     "text": [
      "/home/critechproc/STORAGE/SCHISM/UVP/sflux_air_1.121.nc\n",
      "\n",
      "extracting meteo\n"
     ]
    },
    {
     "name": "stderr",
     "output_type": "stream",
     "text": [
      "100%|██████████| 36/36 [00:14<00:00,  2.44it/s]"
     ]
    },
    {
     "name": "stdout",
     "output_type": "stream",
     "text": [
      "\n",
      "meteo done\n"
     ]
    },
    {
     "name": "stderr",
     "output_type": "stream",
     "text": [
      "\n"
     ]
    },
    {
     "name": "stdout",
     "output_type": "stream",
     "text": [
      "/home/critechproc/STORAGE/SCHISM/UVP/sflux_air_1.122.nc\n",
      "\n",
      "extracting meteo\n"
     ]
    },
    {
     "name": "stderr",
     "output_type": "stream",
     "text": [
      "100%|██████████| 36/36 [00:14<00:00,  2.50it/s]"
     ]
    },
    {
     "name": "stdout",
     "output_type": "stream",
     "text": [
      "\n",
      "meteo done\n"
     ]
    },
    {
     "name": "stderr",
     "output_type": "stream",
     "text": [
      "\n"
     ]
    },
    {
     "name": "stdout",
     "output_type": "stream",
     "text": [
      "/home/critechproc/STORAGE/SCHISM/UVP/sflux_air_1.123.nc\n",
      "\n",
      "extracting meteo\n"
     ]
    },
    {
     "name": "stderr",
     "output_type": "stream",
     "text": [
      "100%|██████████| 36/36 [00:14<00:00,  2.48it/s]"
     ]
    },
    {
     "name": "stdout",
     "output_type": "stream",
     "text": [
      "\n",
      "meteo done\n"
     ]
    },
    {
     "name": "stderr",
     "output_type": "stream",
     "text": [
      "\n"
     ]
    },
    {
     "name": "stdout",
     "output_type": "stream",
     "text": [
      "/home/critechproc/STORAGE/SCHISM/UVP/sflux_air_1.124.nc\n",
      "\n",
      "extracting meteo\n"
     ]
    },
    {
     "name": "stderr",
     "output_type": "stream",
     "text": [
      "100%|██████████| 36/36 [00:14<00:00,  2.43it/s]"
     ]
    },
    {
     "name": "stdout",
     "output_type": "stream",
     "text": [
      "\n",
      "meteo done\n"
     ]
    },
    {
     "name": "stderr",
     "output_type": "stream",
     "text": [
      "\n"
     ]
    },
    {
     "name": "stdout",
     "output_type": "stream",
     "text": [
      "/home/critechproc/STORAGE/SCHISM/UVP/sflux_air_1.125.nc\n",
      "\n",
      "extracting meteo\n"
     ]
    },
    {
     "name": "stderr",
     "output_type": "stream",
     "text": [
      "100%|██████████| 36/36 [00:14<00:00,  2.46it/s]"
     ]
    },
    {
     "name": "stdout",
     "output_type": "stream",
     "text": [
      "\n",
      "meteo done\n"
     ]
    },
    {
     "name": "stderr",
     "output_type": "stream",
     "text": [
      "\n"
     ]
    },
    {
     "name": "stdout",
     "output_type": "stream",
     "text": [
      "/home/critechproc/STORAGE/SCHISM/UVP/sflux_air_1.126.nc\n",
      "\n",
      "extracting meteo\n"
     ]
    },
    {
     "name": "stderr",
     "output_type": "stream",
     "text": [
      "100%|██████████| 36/36 [00:14<00:00,  2.51it/s]"
     ]
    },
    {
     "name": "stdout",
     "output_type": "stream",
     "text": [
      "\n",
      "meteo done\n"
     ]
    },
    {
     "name": "stderr",
     "output_type": "stream",
     "text": [
      "\n"
     ]
    },
    {
     "name": "stdout",
     "output_type": "stream",
     "text": [
      "/home/critechproc/STORAGE/SCHISM/UVP/sflux_air_1.127.nc\n",
      "\n",
      "extracting meteo\n"
     ]
    },
    {
     "name": "stderr",
     "output_type": "stream",
     "text": [
      " 28%|██▊       | 10/36 [00:04<00:10,  2.42it/s]"
     ]
    }
   ],
   "source": [
    "for date in date_list:\n",
    "\n",
    "    yyyy=date.year # this is for facilitating the folder format below\n",
    "\n",
    "    mm=date.month\n",
    "\n",
    "    dd=date.day\n",
    "\n",
    "    hh=date.hour\n",
    "\n",
    "  # set PATH of the database.\n",
    "\n",
    "    PATH=inPATH+'/{:04d}/{:02d}/{:02d}/'.format(yyyy,mm,dd)\n",
    "\n",
    "    dpath=glob.glob(PATH+'*{:04d}{:02d}{:02d}.{:02d}.tropical_cyclone.grib'.format(yyyy,mm,dd,hh))\n",
    "\n",
    "#set meteo forcing\n",
    "\n",
    "# specify the forecast times ft1,ft2\n",
    "    ft1 = 0\n",
    "    ft2 = 11 #that is 0...12(including) hours\n",
    "\n",
    "# parse the ecmwf grib file.\n",
    "    m = ecmwf(mpath=dpath[0],ft1=ft1,ft2=ft2,**dic)\n",
    "\n",
    "\n",
    "# Below the output specifically for Schism but one can adapt appropriately\n",
    "\n",
    "#from DataFile class create a file\n",
    "    d = DataFile(outPATH+'sflux_air_1.{:03d}.nc'.format(it), write=True, create=True,format='NETCDF4_CLASSIC')\n",
    "    \n",
    "    print outPATH+'sflux_air_1.{:03d}.nc'.format(it)\n",
    "\n",
    "## add OPTIONAL attributes to the nc file\n",
    "    info = {'description' : 'Schism forsing',\n",
    "    'history' :'JRC Ispra European Commission',\n",
    "    'source' : 'netCDF4 python module'}\n",
    "\n",
    "    d.info(**info)\n",
    "\n",
    "\n",
    "    tu = datetime.datetime.strftime(date,'%Y-%m-%d' )\n",
    "    bd = np.array([yyyy,mm,dd,0])\n",
    "\n",
    "    time = np.arange(ft1,ft2+1)/24. + hh/24.\n",
    "\n",
    "\n",
    "    tt=time[:]#.astype(np.float32)\n",
    "    pp=m.p[:,:,:]#.astype(np.float32)\n",
    "    uu=m.u[:,:,:]#.astype(np.float32)\n",
    "    vv=m.v[:,:,:]#.astype(np.float32)\n",
    "    lats=m.lats#.astype(np.float32)\n",
    "    lons=m.lons#.astype(np.float32)\n",
    "\n",
    "\n",
    "    spfh = np.zeros(vv.shape)\n",
    "\n",
    "#Write variables\n",
    "    d.write('time',tt, **{'vname':['time'], 'limited':False,'long_name': 'Time', 'standard_name': 'time', 'units': tu,'base_date': bd})\n",
    "    d.write('lat',lats,  **{'vname':['nx_grid','ny_grid'],'long_name': 'Latitude', 'standard_name': 'latitude', 'units': 'degrees_north'})\n",
    "    d.write('lon',lons,  **{'vname':['nx_grid','ny_grid'],'long_name': 'Longitude', 'standard_name': 'longitude', 'units': 'degrees_east'})\n",
    "    d.write('prmsl',pp,  **{'vname':['time','nx_grid','ny_grid'],'long_name': 'Pressure reduced to MSL', 'standard_name': 'air_pressure_at_sea_level', 'units': 'Pa'})\n",
    "    d.write('uwind',uu, **{'vname':['time','nx_grid','ny_grid'], 'long_name': 'Surface Eastward Air Velocity', 'standard_name': 'eastward_wind', 'units':\n",
    "'m/s'})\n",
    "    d.write('vwind',vv,  **{'vname':['time','nx_grid','ny_grid'],'long_name': 'Surface Northward Air Velocity', 'standard_name': 'northward_wind', 'units'\n",
    ": 'm/s'})\n",
    "    d.write('spfh',spfh, **{'vname':['time','nx_grid','ny_grid'], 'long_name': 'Surface Specific Humidity (2m AGL)', 'standard_name': 'specific_humidity',\n",
    " 'units': '1'})\n",
    "    d.write('stmp',spfh,  **{'vname':['time','nx_grid','ny_grid'],'long_name': 'Surface Temperature', 'standard_name': 'surface temperature', 'units': 'degrees'})\n",
    "\n",
    "\n",
    "    d.close()\n",
    "\n",
    "    it+=1"
   ]
  },
  {
   "cell_type": "code",
   "execution_count": 6,
   "metadata": {
    "collapsed": false,
    "deletable": true,
    "editable": true
   },
   "outputs": [],
   "source": [
    "f = Dataset('/home/critechproc/STORAGE/SCHISM/EUROP/sflux/sflux_air_1.030.nc')"
   ]
  },
  {
   "cell_type": "code",
   "execution_count": 4,
   "metadata": {
    "collapsed": false,
    "deletable": true,
    "editable": true
   },
   "outputs": [
    {
     "data": {
      "text/plain": [
       "[u'time', u'lat', u'lon', u'prmsl', u'uwind', u'vwind', u'spfh', u'stmp']"
      ]
     },
     "execution_count": 4,
     "metadata": {},
     "output_type": "execute_result"
    }
   ],
   "source": [
    "f.variables.keys()\n"
   ]
  },
  {
   "cell_type": "code",
   "execution_count": 20,
   "metadata": {
    "collapsed": false
   },
   "outputs": [
    {
     "data": {
      "text/plain": [
       "0.14062485345837672"
      ]
     },
     "execution_count": 20,
     "metadata": {},
     "output_type": "execute_result"
    }
   ],
   "source": [
    "f.variables['lon'][0,1]-f.variables['lon'][0,0]"
   ]
  },
  {
   "cell_type": "code",
   "execution_count": null,
   "metadata": {
    "collapsed": true
   },
   "outputs": [],
   "source": [
    "f.variables['']"
   ]
  }
 ],
 "metadata": {
  "kernelspec": {
   "display_name": "Python 2",
   "language": "python",
   "name": "python2"
  },
  "language_info": {
   "codemirror_mode": {
    "name": "ipython",
    "version": 2
   },
   "file_extension": ".py",
   "mimetype": "text/x-python",
   "name": "python",
   "nbconvert_exporter": "python",
   "pygments_lexer": "ipython2",
   "version": "2.7.12"
  }
 },
 "nbformat": 4,
 "nbformat_minor": 2
}
