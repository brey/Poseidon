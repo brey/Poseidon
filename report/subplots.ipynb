{
 "cells": [
  {
   "cell_type": "code",
   "execution_count": null,
   "metadata": {
    "collapsed": true
   },
   "outputs": [],
   "source": []
  },
  {
   "cell_type": "code",
   "execution_count": null,
   "metadata": {
    "collapsed": true
   },
   "outputs": [],
   "source": [
    "a=np.arange(4)\n",
    "b=np.arange(2)\n",
    "glist=[]\n",
    "for r in itertools.product(a,b): glist.append((r[0],r[1]))"
   ]
  },
  {
   "cell_type": "code",
   "execution_count": null,
   "metadata": {
    "collapsed": true
   },
   "outputs": [],
   "source": [
    "fig, axes = plt.subplots(nrows=4, ncols=2, figsize=(12,16) )\n",
    "for i,val in enumerate(ids[:8]):\n",
    "    idat=tota.xs(val)\n",
    "    smask=np.isfinite(idat['ss'])\n",
    "    shmask=np.isfinite(idat)['s_his']\n",
    "    try:\n",
    "        axes[glist[i]]=fplot(axes[glist[i]], idat[smask], 'ss')\n",
    "    except Exception as e:\n",
    "        print e\n",
    "        pass    \n",
    "    try:\n",
    "        axes[glist[i]]=fplot(axes[glist[i]],idat[shmask], 's_his')\n",
    "    except Exception as e:\n",
    "        print e\n",
    "        pass\n",
    "    \n",
    "    axes[glist[i]].set_title(obs.xs(val)['name'])\n",
    "    axes[glist[i]].set_ylim(-.5,0.75)#np.max([0.75,idat[['ss','s_his']].max().max()]))\n",
    "    axes[glist[i]].set_xlim(date10,date+datetime.timedelta(days=3))\n",
    "    axes[glist[i]].set_ylabel('Height (m)')\n",
    "fig.tight_layout()"
   ]
  }
 ],
 "metadata": {
  "hide_input": false,
  "kernelspec": {
   "display_name": "Python 2",
   "language": "python",
   "name": "python2"
  },
  "language_info": {
   "codemirror_mode": {
    "name": "ipython",
    "version": 2
   },
   "file_extension": ".py",
   "mimetype": "text/x-python",
   "name": "python",
   "nbconvert_exporter": "python",
   "pygments_lexer": "ipython2",
   "version": "2.7.12"
  },
  "latex_envs": {
   "bibliofile": "biblio.bib",
   "cite_by": "apalike",
   "current_citInitial": 1,
   "eqLabelWithNumbers": true,
   "eqNumInitial": 0
  }
 },
 "nbformat": 4,
 "nbformat_minor": 1
}
