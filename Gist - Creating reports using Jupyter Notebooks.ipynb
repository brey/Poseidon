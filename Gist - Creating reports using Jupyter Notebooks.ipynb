{
 "cells": [
  {
   "cell_type": "markdown",
   "metadata": {},
   "source": [
    "# Gist - Creating reports using Jupyter Notebooks\n",
    "Gordon Bean  \n",
    "*brazilbean* on **GitHub**"
   ]
  },
  {
   "cell_type": "markdown",
   "metadata": {},
   "source": [
    "## Overview\n",
    "This gist demonstrates one way to use Jupyter Notebooks to create HTML reports generated with in-line or dynamic code.\n",
    "\n",
    "Note: this method relies on the [Python Markdown](https://github.com/ipython-contrib/IPython-notebook-extensions/tree/master/nbextensions/usability/python-markdown) notebook extension."
   ]
  },
  {
   "cell_type": "markdown",
   "metadata": {},
   "source": [
    "## The gist\n",
    "### Key ideas\n",
    "- Use Raw notebook cells to insert open and close HTML comment tags to hide swaths of cells from the final HTML output.\n",
    "  - For other formats (e.g. $\\LaTeX$) or custom use-cases, you can create a nbconvert pre-processor that screens cells for special comment tags and excludes them.\n",
    "- Use the Python Markdown extension to embed code in Markdown cells. \n",
    "\n",
    "### Putting it together\n",
    "- Compute results first\n",
    "- Capture figures using `save_img_tag`\n",
    "- Compile report sections in Markdown cells\n",
    "- Export the report using nbconvert\n",
    "\n",
    "### Caveats\n",
    "- The Python Markdown extension requires that you execute all of the code in a notebook session before exporting. If you want to embed results in markdown cells using nbconvert on a notebook that hasn't already been rendered (i.e. using the Execution pre-processor), you need to get fancy with the pre-processing (out of scope for this gist)."
   ]
  },
  {
   "cell_type": "markdown",
   "metadata": {},
   "source": [
    "## Example"
   ]
  },
  {
   "cell_type": "raw",
   "metadata": {},
   "source": [
    "<!-- hide code"
   ]
  },
  {
   "cell_type": "markdown",
   "metadata": {},
   "source": [
    "### Imports\n",
    "*NOTE: You can continue to use Markdown cells to structure the hidden sections.*"
   ]
  },
  {
   "cell_type": "code",
   "execution_count": 9,
   "metadata": {
    "collapsed": true
   },
   "outputs": [],
   "source": [
    "import matplotlib.pyplot as plt\n",
    "import numpy as np\n",
    "import io, base64\n",
    "\n",
    "%matplotlib inline"
   ]
  },
  {
   "cell_type": "markdown",
   "metadata": {},
   "source": [
    "### Handy functions"
   ]
  },
  {
   "cell_type": "code",
   "execution_count": 10,
   "metadata": {
    "collapsed": true
   },
   "outputs": [],
   "source": [
    "def save_img_tag(fig=None, format='png', alt=\"image\", bbox_inches='tight'):\n",
    "    if fig is None:\n",
    "        fig = plt.gcf()\n",
    "    \n",
    "    # Save data to BytesIO stream\n",
    "    data = io.BytesIO();\n",
    "    plt.savefig(data, format=format, bbox_inches=bbox_inches);\n",
    "    data.seek(0)\n",
    "    \n",
    "    # Encode in base64\n",
    "    data64 = base64.b64encode(data.read())\n",
    "    \n",
    "    # Convert to <img> tag with URI\n",
    "    uri = 'data:image/png;base64,' + (data64.decode())\n",
    "    img_tag = '<img alt=\"{}\" src = \"{}\" />'.format(alt, uri)\n",
    "    \n",
    "    return img_tag"
   ]
  },
  {
   "cell_type": "markdown",
   "metadata": {},
   "source": [
    "### Compute results"
   ]
  },
  {
   "cell_type": "code",
   "execution_count": 3,
   "metadata": {
    "collapsed": false
   },
   "outputs": [
    {
     "data": {
      "text/plain": [
       "array([[ 0.20258051,  0.45594695,  0.59081644,  0.77863322,  0.95562066,\n",
       "         0.77541216],\n",
       "       [ 0.2313933 ,  0.7773782 ,  0.63143983,  0.22231121,  0.51016535,\n",
       "         0.93809008],\n",
       "       [ 0.54847662,  0.15736908,  0.61739686,  0.21555361,  0.27859176,\n",
       "         0.30264647],\n",
       "       [ 0.13091739,  0.51608414,  0.63882124,  0.18896472,  0.23827327,\n",
       "         0.48095137],\n",
       "       [ 0.35712307,  0.80664108,  0.078699  ,  0.09834737,  0.97956833,\n",
       "         0.81227637],\n",
       "       [ 0.48393442,  0.95500417,  0.07009516,  0.83570162,  0.41744175,\n",
       "         0.84856411]])"
      ]
     },
     "execution_count": 3,
     "metadata": {},
     "output_type": "execute_result"
    }
   ],
   "source": [
    "foo = np.random.rand(6,6)\n",
    "foo"
   ]
  },
  {
   "cell_type": "code",
   "execution_count": 11,
   "metadata": {
    "collapsed": false
   },
   "outputs": [
    {
     "data": {
      "image/png": "[encoded data removed]",
      "text/plain": [
       "<matplotlib.figure.Figure at 0x7bd7588>"
      ]
     },
     "metadata": {},
     "output_type": "display_data"
    }
   ],
   "source": [
    "plt.imshow(foo, interpolation='none')\n",
    "plt.title('An example heatmap')\n",
    "\n",
    "example_heatmap = save_img_tag()"
   ]
  },
  {
   "cell_type": "raw",
   "metadata": {},
   "source": [
    "end hide code -->"
   ]
  },
  {
   "cell_type": "markdown",
   "metadata": {
    "variables": {
     "\"{}x{}\".format(*foo.shape)": "<p><strong>NameError</strong>: name &#39;foo&#39; is not defined</p>\n",
     "example_heatmap": "<p><strong>NameError</strong>: name &#39;example_heatmap&#39; is not defined</p>\n"
    }
   },
   "source": [
    "In order to create this example plot (who's dimensions are {{\"{}x{}\".format(*foo.shape)}}):\n",
    "\n",
    "{{example_heatmap}}\n",
    "\n",
    "I did the computation in hidden cells, saved the results, and displayed those results in this Markdown cells using the Python Markdown Jupyter Notebook extension. "
   ]
  },
  {
   "cell_type": "raw",
   "metadata": {},
   "source": [
    "<!-- hide more code"
   ]
  },
  {
   "cell_type": "markdown",
   "metadata": {},
   "source": [
    "## Convert the notebook to HTML"
   ]
  },
  {
   "cell_type": "code",
   "execution_count": 16,
   "metadata": {
    "collapsed": true
   },
   "outputs": [],
   "source": [
    "import tempfile, subprocess\n",
    "\n",
    "def nbconvert(notebook, to='html', path_to_python_markdown=None):\n",
    "    '''Execute a system call to nbconvert\n",
    "    \n",
    "    If python-markdown is not on you PYTHONPATH, provide the path to the nbextension as an argument.\n",
    "    '''\n",
    "    \n",
    "    if path_to_python_markdown is None:\n",
    "        # Guess\n",
    "        path_to_python_markdown = os.path.expandvars(r\"C:\\Users\\%USERNAME%\\.jupyter\\nbextensions\\usability\\python-markdown\")\n",
    "    \n",
    "    with tempfile.NamedTemporaryFile() as f:\n",
    "        tmpf = f.name + '.py'\n",
    "    \n",
    "    with open(tmpf, 'wt') as tmp:\n",
    "        print(\"import sys\", file=tmp)\n",
    "        print(\"sys.path.append(r'{}')\".format(path_to_python_markdown), file=tmp)\n",
    "        print(\"c=get_config()\", file=tmp)\n",
    "        print(\"c.NbConvertApp.notebooks = ['{}']\".format(notebook), file=tmp)\n",
    "        if os.path.exists(path_to_python_markdown):\n",
    "            print(\"c.Exporter.preprocessors = [ 'pymdpreprocessor.PyMarkdownPreprocessor' ]\", file=tmp)\n",
    "        else:\n",
    "            print(\"Could not find python-markdown extension - simple markdown formatting will be used.\")\n",
    "        \n",
    "    cmd = 'jupyter nbconvert --config \"{}\" --to {} --reveal-prefix=\"http://cdn.jsdelivr.net/reveal.js/2.5.0\"'.format(tmpf, to)\n",
    "    print(subprocess.check_output(cmd, stderr=subprocess.STDOUT).decode())\n",
    "    \n",
    "    os.remove(tmpf)\n",
    "    "
   ]
  },
  {
   "cell_type": "code",
   "execution_count": 20,
   "metadata": {
    "collapsed": false
   },
   "outputs": [
    {
     "name": "stdout",
     "output_type": "stream",
     "text": [
      "[NbConvertApp] Converting notebook Gist - Creating reports using Jupyter Notebooks.ipynb to html\r\n",
      "[NbConvertApp] Writing 280004 bytes to Gist - Creating reports using Jupyter Notebooks.html\r\n",
      "\n",
      "Gist - Creating reports using Jupyter Notebooks.html\n"
     ]
    }
   ],
   "source": [
    "import os\n",
    "\n",
    "# Provide the name of this notebook\n",
    "name = 'Gist - Creating reports using Jupyter Notebooks'\n",
    "\n",
    "# Convert the notebook\n",
    "# Be sure to save the notebook before converting to HTML\n",
    "nbconvert(name + '.ipynb', to='html')\n",
    "\n",
    "report = name + '.html'\n",
    "print (report)"
   ]
  },
  {
   "cell_type": "raw",
   "metadata": {},
   "source": [
    "end hide code -->"
   ]
  },
  {
   "cell_type": "markdown",
   "metadata": {},
   "source": [
    "## Output\n",
    "GitHub uses nbviewer to render the notebook file. Thus, what you see in the gist is an almost-rendered version of the final report. To see the actual output, see [here](https://gist.github.com/brazilbean/832ac5006551d1dea5758909d84c50b9).\n",
    "\n",
    "To see the underlying notebook, download the gist and open it with your Jupyter Notebook server."
   ]
  }
 ],
 "metadata": {
  "_draft": {
   "nbviewer_url": "https://gist.github.com/1095e0af3ff2b5f37faeb0f63f0fb917"
  },
  "gist": {
   "data": {
    "description": "Create a report using a Jupyter Notebook",
    "public": true
   },
   "id": "1095e0af3ff2b5f37faeb0f63f0fb917"
  },
  "hide_input": false,
  "kernelspec": {
   "display_name": "Python 3",
   "language": "python",
   "name": "python3"
  },
  "language_info": {
   "codemirror_mode": {
    "name": "ipython",
    "version": 3
   },
   "file_extension": ".py",
   "mimetype": "text/x-python",
   "name": "python",
   "nbconvert_exporter": "python",
   "pygments_lexer": "ipython3",
   "version": "3.5.2"
  },
  "latex_envs": {
   "bibliofile": "biblio.bib",
   "cite_by": "apalike",
   "current_citInitial": 1,
   "eqLabelWithNumbers": true,
   "eqNumInitial": 0
  },
  "nav_menu": {},
  "toc": {
   "navigate_menu": true,
   "number_sections": false,
   "sideBar": true,
   "threshold": 6,
   "toc_cell": false,
   "toc_section_display": "block",
   "toc_window_display": true
  }
 },
 "nbformat": 4,
 "nbformat_minor": 0
}
