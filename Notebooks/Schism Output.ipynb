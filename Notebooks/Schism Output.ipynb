{
 "cells": [
  {
   "cell_type": "markdown",
   "metadata": {},
   "source": [
    "# Combine SCHISM output"
   ]
  },
  {
   "cell_type": "markdown",
   "metadata": {},
   "source": [
    "This is the prototype for combining the multi-core output of SCHISM to one xarray datatet. This includes the construction of the grid references. It replaces autocombine_MPI_elfe.pl.\n",
    "The example model used is the one of Jigsaw Setup Notebook."
   ]
  },
  {
   "cell_type": "code",
   "execution_count": 3,
   "metadata": {},
   "outputs": [
    {
     "data": {
      "text/html": [
       "<style>.container { width:100% !important; }</style>"
      ],
      "text/plain": [
       "<IPython.core.display.HTML object>"
      ]
     },
     "metadata": {},
     "output_type": "display_data"
    }
   ],
   "source": [
    "#to use the full width of the browser window uncomment the code below and execute the cell\n",
    "from IPython.core.display import display, HTML\n",
    "display(HTML(\"<style>.container { width:100% !important; }</style>\"))"
   ]
  },
  {
   "cell_type": "code",
   "execution_count": 1,
   "metadata": {},
   "outputs": [],
   "source": [
    "import glob\n",
    "import pandas as pd\n",
    "import xarray as xr\n",
    "import numpy as np\n",
    "import itertools\n",
    "import matplotlib.pyplot as plt"
   ]
  },
  {
   "cell_type": "code",
   "execution_count": 2,
   "metadata": {},
   "outputs": [],
   "source": [
    "%matplotlib inline"
   ]
  },
  {
   "cell_type": "code",
   "execution_count": 3,
   "metadata": {},
   "outputs": [],
   "source": [
    "folder='/Users/brey/SCHISM/test_grid/'"
   ]
  },
  {
   "cell_type": "markdown",
   "metadata": {},
   "source": [
    "## Read the global element index distribution to the cores  "
   ]
  },
  {
   "cell_type": "code",
   "execution_count": 4,
   "metadata": {},
   "outputs": [],
   "source": [
    "gtol = glob.glob(folder+'outputs/global*')"
   ]
  },
  {
   "cell_type": "code",
   "execution_count": 5,
   "metadata": {},
   "outputs": [],
   "source": [
    "gindx = pd.read_csv(gtol[0],header=None,delim_whitespace=True)"
   ]
  },
  {
   "cell_type": "code",
   "execution_count": 6,
   "metadata": {},
   "outputs": [],
   "source": [
    "gindx = gindx.set_index(gindx.columns[0]) # set the global index as index"
   ]
  },
  {
   "cell_type": "code",
   "execution_count": 7,
   "metadata": {},
   "outputs": [],
   "source": [
    "gindx.columns=['dist'] # rename the column to dist[ribution]"
   ]
  },
  {
   "cell_type": "code",
   "execution_count": 8,
   "metadata": {},
   "outputs": [
    {
     "data": {
      "text/html": [
       "<div>\n",
       "<style scoped>\n",
       "    .dataframe tbody tr th:only-of-type {\n",
       "        vertical-align: middle;\n",
       "    }\n",
       "\n",
       "    .dataframe tbody tr th {\n",
       "        vertical-align: top;\n",
       "    }\n",
       "\n",
       "    .dataframe thead th {\n",
       "        text-align: right;\n",
       "    }\n",
       "</style>\n",
       "<table border=\"1\" class=\"dataframe\">\n",
       "  <thead>\n",
       "    <tr style=\"text-align: right;\">\n",
       "      <th></th>\n",
       "      <th>dist</th>\n",
       "    </tr>\n",
       "    <tr>\n",
       "      <th>0</th>\n",
       "      <th></th>\n",
       "    </tr>\n",
       "  </thead>\n",
       "  <tbody>\n",
       "    <tr>\n",
       "      <th>1</th>\n",
       "      <td>1</td>\n",
       "    </tr>\n",
       "    <tr>\n",
       "      <th>2</th>\n",
       "      <td>0</td>\n",
       "    </tr>\n",
       "    <tr>\n",
       "      <th>3</th>\n",
       "      <td>0</td>\n",
       "    </tr>\n",
       "    <tr>\n",
       "      <th>4</th>\n",
       "      <td>1</td>\n",
       "    </tr>\n",
       "    <tr>\n",
       "      <th>5</th>\n",
       "      <td>3</td>\n",
       "    </tr>\n",
       "  </tbody>\n",
       "</table>\n",
       "</div>"
      ],
      "text/plain": [
       "   dist\n",
       "0      \n",
       "1     1\n",
       "2     0\n",
       "3     0\n",
       "4     1\n",
       "5     3"
      ]
     },
     "execution_count": 8,
     "metadata": {},
     "output_type": "execute_result"
    }
   ],
   "source": [
    "gindx.head()"
   ]
  },
  {
   "cell_type": "code",
   "execution_count": 9,
   "metadata": {},
   "outputs": [],
   "source": [
    "#one can choose the elements on node 0\n",
    "node0 = gindx.loc[gindx.dist == 0]"
   ]
  },
  {
   "cell_type": "code",
   "execution_count": 10,
   "metadata": {},
   "outputs": [
    {
     "data": {
      "text/plain": [
       "Int64Index([  2,   3,   9,  19,  24,  25,  27,  28,  33,  41,\n",
       "            ...\n",
       "            656, 662, 667, 669, 670, 677, 680, 683, 686, 695],\n",
       "           dtype='int64', name=0, length=174)"
      ]
     },
     "execution_count": 10,
     "metadata": {},
     "output_type": "execute_result"
    }
   ],
   "source": [
    "node0.index"
   ]
  },
  {
   "cell_type": "markdown",
   "metadata": {},
   "source": [
    "## Read the global node index distribution to the cores  "
   ]
  },
  {
   "cell_type": "code",
   "execution_count": 11,
   "metadata": {},
   "outputs": [
    {
     "data": {
      "text/plain": [
       "['/Users/brey/SCHISM/test_grid/outputs/local_to_global_0000',\n",
       " '/Users/brey/SCHISM/test_grid/outputs/local_to_global_0001',\n",
       " '/Users/brey/SCHISM/test_grid/outputs/local_to_global_0002',\n",
       " '/Users/brey/SCHISM/test_grid/outputs/local_to_global_0003']"
      ]
     },
     "execution_count": 11,
     "metadata": {},
     "output_type": "execute_result"
    }
   ],
   "source": [
    "gfiles = glob.glob(folder+'outputs/local*')\n",
    "gfiles.sort()\n",
    "gfiles"
   ]
  },
  {
   "cell_type": "code",
   "execution_count": 12,
   "metadata": {},
   "outputs": [
    {
     "data": {
      "text/plain": [
       "['core0000', 'core0001', 'core0002', 'core0003']"
      ]
     },
     "execution_count": 12,
     "metadata": {},
     "output_type": "execute_result"
    }
   ],
   "source": [
    "#create a dict from filenames to identify parts in the dataframes below\n",
    "\n",
    "keys=[]\n",
    "for name in gfiles:\n",
    "    keys.append('core{}'.format(name.split('/')[-1].split('_')[-1]))\n",
    "keys"
   ]
  },
  {
   "cell_type": "markdown",
   "metadata": {},
   "source": [
    "### Parsing the files"
   ]
  },
  {
   "cell_type": "code",
   "execution_count": 13,
   "metadata": {},
   "outputs": [],
   "source": [
    "# We read from the first file the header (it is the sama for all)\n",
    "header = pd.read_csv(gfiles[0],header=None,nrows=1,delim_whitespace=True,names=['ns_global','ne_global','np_global','nvrt','nproc','ntracers','T','S','GEN','AGE','SED3D','EcoSim','ICM','CoSINE','Feco','TIMOR','FABM'])\n",
    "#for i in range(1,len(gfiles)):\n",
    "#    header = pd.concat([header,pd.read_csv(gfiles[i],header=None,nrows=1,delim_whitespace=True)])"
   ]
  },
  {
   "cell_type": "code",
   "execution_count": 14,
   "metadata": {},
   "outputs": [],
   "source": [
    "header = header.T # transpose for visual convenience "
   ]
  },
  {
   "cell_type": "code",
   "execution_count": 15,
   "metadata": {},
   "outputs": [
    {
     "data": {
      "text/html": [
       "<div>\n",
       "<style scoped>\n",
       "    .dataframe tbody tr th:only-of-type {\n",
       "        vertical-align: middle;\n",
       "    }\n",
       "\n",
       "    .dataframe tbody tr th {\n",
       "        vertical-align: top;\n",
       "    }\n",
       "\n",
       "    .dataframe thead th {\n",
       "        text-align: right;\n",
       "    }\n",
       "</style>\n",
       "<table border=\"1\" class=\"dataframe\">\n",
       "  <thead>\n",
       "    <tr style=\"text-align: right;\">\n",
       "      <th></th>\n",
       "      <th>0</th>\n",
       "    </tr>\n",
       "  </thead>\n",
       "  <tbody>\n",
       "    <tr>\n",
       "      <th>ns_global</th>\n",
       "      <td>1109</td>\n",
       "    </tr>\n",
       "    <tr>\n",
       "      <th>ne_global</th>\n",
       "      <td>702</td>\n",
       "    </tr>\n",
       "    <tr>\n",
       "      <th>np_global</th>\n",
       "      <td>407</td>\n",
       "    </tr>\n",
       "    <tr>\n",
       "      <th>nvrt</th>\n",
       "      <td>2</td>\n",
       "    </tr>\n",
       "    <tr>\n",
       "      <th>nproc</th>\n",
       "      <td>4</td>\n",
       "    </tr>\n",
       "    <tr>\n",
       "      <th>ntracers</th>\n",
       "      <td>2</td>\n",
       "    </tr>\n",
       "    <tr>\n",
       "      <th>T</th>\n",
       "      <td>1</td>\n",
       "    </tr>\n",
       "    <tr>\n",
       "      <th>S</th>\n",
       "      <td>1</td>\n",
       "    </tr>\n",
       "    <tr>\n",
       "      <th>GEN</th>\n",
       "      <td>0</td>\n",
       "    </tr>\n",
       "    <tr>\n",
       "      <th>AGE</th>\n",
       "      <td>0</td>\n",
       "    </tr>\n",
       "    <tr>\n",
       "      <th>SED3D</th>\n",
       "      <td>0</td>\n",
       "    </tr>\n",
       "    <tr>\n",
       "      <th>EcoSim</th>\n",
       "      <td>0</td>\n",
       "    </tr>\n",
       "    <tr>\n",
       "      <th>ICM</th>\n",
       "      <td>0</td>\n",
       "    </tr>\n",
       "    <tr>\n",
       "      <th>CoSINE</th>\n",
       "      <td>0</td>\n",
       "    </tr>\n",
       "    <tr>\n",
       "      <th>Feco</th>\n",
       "      <td>0</td>\n",
       "    </tr>\n",
       "    <tr>\n",
       "      <th>TIMOR</th>\n",
       "      <td>0</td>\n",
       "    </tr>\n",
       "    <tr>\n",
       "      <th>FABM</th>\n",
       "      <td>0</td>\n",
       "    </tr>\n",
       "  </tbody>\n",
       "</table>\n",
       "</div>"
      ],
      "text/plain": [
       "              0\n",
       "ns_global  1109\n",
       "ne_global   702\n",
       "np_global   407\n",
       "nvrt          2\n",
       "nproc         4\n",
       "ntracers      2\n",
       "T             1\n",
       "S             1\n",
       "GEN           0\n",
       "AGE           0\n",
       "SED3D         0\n",
       "EcoSim        0\n",
       "ICM           0\n",
       "CoSINE        0\n",
       "Feco          0\n",
       "TIMOR         0\n",
       "FABM          0"
      ]
     },
     "execution_count": 15,
     "metadata": {},
     "output_type": "execute_result"
    }
   ],
   "source": [
    "header"
   ]
  },
  {
   "cell_type": "code",
   "execution_count": 16,
   "metadata": {},
   "outputs": [
    {
     "data": {
      "text/plain": [
       "[174, 176, 176, 176]"
      ]
     },
     "execution_count": 16,
     "metadata": {},
     "output_type": "execute_result"
    }
   ],
   "source": [
    "#get the number of elems from all files\n",
    "nels = []\n",
    "for i in range(len(gfiles)):\n",
    "    ne = pd.read_csv(gfiles[i],skiprows=2, header=None, nrows = 1)\n",
    "    nels.append(ne.values.flatten()[0].astype(int))\n",
    "nels"
   ]
  },
  {
   "cell_type": "code",
   "execution_count": 17,
   "metadata": {},
   "outputs": [
    {
     "data": {
      "text/html": [
       "<div>\n",
       "<style scoped>\n",
       "    .dataframe tbody tr th:only-of-type {\n",
       "        vertical-align: middle;\n",
       "    }\n",
       "\n",
       "    .dataframe tbody tr th {\n",
       "        vertical-align: top;\n",
       "    }\n",
       "\n",
       "    .dataframe thead th {\n",
       "        text-align: right;\n",
       "    }\n",
       "</style>\n",
       "<table border=\"1\" class=\"dataframe\">\n",
       "  <thead>\n",
       "    <tr style=\"text-align: right;\">\n",
       "      <th></th>\n",
       "      <th></th>\n",
       "      <th>local</th>\n",
       "      <th>global_n</th>\n",
       "    </tr>\n",
       "  </thead>\n",
       "  <tbody>\n",
       "    <tr>\n",
       "      <th rowspan=\"5\" valign=\"top\">core0000</th>\n",
       "      <th>0</th>\n",
       "      <td>1</td>\n",
       "      <td>2</td>\n",
       "    </tr>\n",
       "    <tr>\n",
       "      <th>1</th>\n",
       "      <td>2</td>\n",
       "      <td>3</td>\n",
       "    </tr>\n",
       "    <tr>\n",
       "      <th>2</th>\n",
       "      <td>3</td>\n",
       "      <td>9</td>\n",
       "    </tr>\n",
       "    <tr>\n",
       "      <th>3</th>\n",
       "      <td>4</td>\n",
       "      <td>19</td>\n",
       "    </tr>\n",
       "    <tr>\n",
       "      <th>4</th>\n",
       "      <td>5</td>\n",
       "      <td>24</td>\n",
       "    </tr>\n",
       "  </tbody>\n",
       "</table>\n",
       "</div>"
      ],
      "text/plain": [
       "            local  global_n\n",
       "core0000 0      1         2\n",
       "         1      2         3\n",
       "         2      3         9\n",
       "         3      4        19\n",
       "         4      5        24"
      ]
     },
     "execution_count": 17,
     "metadata": {},
     "output_type": "execute_result"
    }
   ],
   "source": [
    "#read and add them to pandas DataFrame \n",
    "frames=np.empty(len(gfiles),dtype=object)\n",
    "for i in range(len(gfiles)):\n",
    "    frames[i] = pd.read_csv(gfiles[i],skiprows=3,header=None, nrows=nels[i], names=['local','global_n'], delim_whitespace=True)\n",
    "\n",
    "elems = pd.concat(frames,keys=keys)\n",
    "\n",
    "elems.head()"
   ]
  },
  {
   "cell_type": "code",
   "execution_count": 18,
   "metadata": {},
   "outputs": [
    {
     "data": {
      "text/plain": [
       "local       176\n",
       "global_n    702\n",
       "dtype: int64"
      ]
     },
     "execution_count": 18,
     "metadata": {},
     "output_type": "execute_result"
    }
   ],
   "source": [
    "elems.max()"
   ]
  },
  {
   "cell_type": "code",
   "execution_count": 19,
   "metadata": {},
   "outputs": [
    {
     "data": {
      "text/plain": [
       "[107, 112, 110, 115]"
      ]
     },
     "execution_count": 19,
     "metadata": {},
     "output_type": "execute_result"
    }
   ],
   "source": [
    "#get the number of nodes from all files\n",
    "nq = []\n",
    "for i in range(len(gfiles)):\n",
    "    nn = pd.read_csv(gfiles[i],skiprows=nels[i] + 3, header=None, nrows = 1)\n",
    "    nq.append(nn.values.flatten()[0].astype(int))\n",
    "nq"
   ]
  },
  {
   "cell_type": "code",
   "execution_count": 20,
   "metadata": {},
   "outputs": [
    {
     "data": {
      "text/html": [
       "<div>\n",
       "<style scoped>\n",
       "    .dataframe tbody tr th:only-of-type {\n",
       "        vertical-align: middle;\n",
       "    }\n",
       "\n",
       "    .dataframe tbody tr th {\n",
       "        vertical-align: top;\n",
       "    }\n",
       "\n",
       "    .dataframe thead th {\n",
       "        text-align: right;\n",
       "    }\n",
       "</style>\n",
       "<table border=\"1\" class=\"dataframe\">\n",
       "  <thead>\n",
       "    <tr style=\"text-align: right;\">\n",
       "      <th></th>\n",
       "      <th></th>\n",
       "      <th>local</th>\n",
       "      <th>global_n</th>\n",
       "    </tr>\n",
       "  </thead>\n",
       "  <tbody>\n",
       "    <tr>\n",
       "      <th rowspan=\"5\" valign=\"top\">core0000</th>\n",
       "      <th>0</th>\n",
       "      <td>1</td>\n",
       "      <td>218</td>\n",
       "    </tr>\n",
       "    <tr>\n",
       "      <th>1</th>\n",
       "      <td>2</td>\n",
       "      <td>220</td>\n",
       "    </tr>\n",
       "    <tr>\n",
       "      <th>2</th>\n",
       "      <td>3</td>\n",
       "      <td>355</td>\n",
       "    </tr>\n",
       "    <tr>\n",
       "      <th>3</th>\n",
       "      <td>4</td>\n",
       "      <td>293</td>\n",
       "    </tr>\n",
       "    <tr>\n",
       "      <th>4</th>\n",
       "      <td>5</td>\n",
       "      <td>305</td>\n",
       "    </tr>\n",
       "  </tbody>\n",
       "</table>\n",
       "</div>"
      ],
      "text/plain": [
       "            local  global_n\n",
       "core0000 0      1       218\n",
       "         1      2       220\n",
       "         2      3       355\n",
       "         3      4       293\n",
       "         4      5       305"
      ]
     },
     "execution_count": 20,
     "metadata": {},
     "output_type": "execute_result"
    }
   ],
   "source": [
    "#read and add them to pandas DataFrame\n",
    "nframes=np.empty(len(gfiles),dtype=object)\n",
    "for i in range(len(gfiles)):\n",
    "    nframes[i] = pd.read_csv(gfiles[i],skiprows=nels[i] + 4,header=None, nrows=nq[i], names=['local','global_n'], delim_whitespace=True)\n",
    "    \n",
    "nodes = pd.concat(nframes,keys=keys)\n",
    "\n",
    "nodes.head()"
   ]
  },
  {
   "cell_type": "code",
   "execution_count": 21,
   "metadata": {},
   "outputs": [
    {
     "data": {
      "text/plain": [
       "local       115\n",
       "global_n    407\n",
       "dtype: int64"
      ]
     },
     "execution_count": 21,
     "metadata": {},
     "output_type": "execute_result"
    }
   ],
   "source": [
    "nodes.max()"
   ]
  },
  {
   "cell_type": "code",
   "execution_count": 22,
   "metadata": {},
   "outputs": [
    {
     "data": {
      "text/plain": [
       "[280, 287, 285, 290]"
      ]
     },
     "execution_count": 22,
     "metadata": {},
     "output_type": "execute_result"
    }
   ],
   "source": [
    "#get the number of edges\n",
    "nw = []\n",
    "for i in range(len(gfiles)):\n",
    "    nb = pd.read_csv(gfiles[i],skiprows=nels[i] + nq[i] + 4, header=None, nrows = 1)\n",
    "    nw.append(nb.values.flatten()[0].astype(int))\n",
    "nw"
   ]
  },
  {
   "cell_type": "code",
   "execution_count": 23,
   "metadata": {},
   "outputs": [
    {
     "data": {
      "text/html": [
       "<div>\n",
       "<style scoped>\n",
       "    .dataframe tbody tr th:only-of-type {\n",
       "        vertical-align: middle;\n",
       "    }\n",
       "\n",
       "    .dataframe tbody tr th {\n",
       "        vertical-align: top;\n",
       "    }\n",
       "\n",
       "    .dataframe thead th {\n",
       "        text-align: right;\n",
       "    }\n",
       "</style>\n",
       "<table border=\"1\" class=\"dataframe\">\n",
       "  <thead>\n",
       "    <tr style=\"text-align: right;\">\n",
       "      <th></th>\n",
       "      <th></th>\n",
       "      <th>local</th>\n",
       "      <th>global_n</th>\n",
       "    </tr>\n",
       "  </thead>\n",
       "  <tbody>\n",
       "    <tr>\n",
       "      <th rowspan=\"5\" valign=\"top\">core0000</th>\n",
       "      <th>0</th>\n",
       "      <td>1</td>\n",
       "      <td>4</td>\n",
       "    </tr>\n",
       "    <tr>\n",
       "      <th>1</th>\n",
       "      <td>2</td>\n",
       "      <td>5</td>\n",
       "    </tr>\n",
       "    <tr>\n",
       "      <th>2</th>\n",
       "      <td>3</td>\n",
       "      <td>6</td>\n",
       "    </tr>\n",
       "    <tr>\n",
       "      <th>3</th>\n",
       "      <td>4</td>\n",
       "      <td>7</td>\n",
       "    </tr>\n",
       "    <tr>\n",
       "      <th>4</th>\n",
       "      <td>5</td>\n",
       "      <td>8</td>\n",
       "    </tr>\n",
       "  </tbody>\n",
       "</table>\n",
       "</div>"
      ],
      "text/plain": [
       "            local  global_n\n",
       "core0000 0      1         4\n",
       "         1      2         5\n",
       "         2      3         6\n",
       "         3      4         7\n",
       "         4      5         8"
      ]
     },
     "execution_count": 23,
     "metadata": {},
     "output_type": "execute_result"
    }
   ],
   "source": [
    "#read and add them to pandas DataFrame\n",
    "wframes=np.empty(len(gfiles),dtype=object)\n",
    "for i in range(len(gfiles)):\n",
    "    wframes[i] = pd.read_csv(gfiles[i],skiprows=nels[i] + nq[i] + 5,header=None, nrows=nw[i], names=['local','global_n'], delim_whitespace=True)\n",
    "    \n",
    "re = pd.concat(wframes,keys=keys)\n",
    "\n",
    "re.head()"
   ]
  },
  {
   "cell_type": "code",
   "execution_count": 24,
   "metadata": {},
   "outputs": [
    {
     "data": {
      "text/plain": [
       "local        290\n",
       "global_n    1109\n",
       "dtype: int64"
      ]
     },
     "execution_count": 24,
     "metadata": {},
     "output_type": "execute_result"
    }
   ],
   "source": [
    "re.max()"
   ]
  },
  {
   "cell_type": "code",
   "execution_count": 25,
   "metadata": {},
   "outputs": [],
   "source": [
    "#read secondary headers\n",
    "\n",
    "h0 = pd.read_csv(gfiles[0],skiprows=nels[0] + nq[0] + nw[0] + 6, header=None, nrows = 1, delim_whitespace=True, names=['start_year','start_month','start_day','start_hour','utc_start'])\n",
    "\n",
    "h1 = pd.read_csv(gfiles[0],skiprows=nels[0] + nq[0] + nw[0] + 7, header=None, nrows = 1, delim_whitespace=True, names = ['nrec','dtout','nspool','nvrt','kz','h0','h_s','h_c','theta_b','theta_f','ics'])\n"
   ]
  },
  {
   "cell_type": "code",
   "execution_count": 26,
   "metadata": {},
   "outputs": [
    {
     "data": {
      "text/plain": [
       "[]"
      ]
     },
     "execution_count": 26,
     "metadata": {},
     "output_type": "execute_result"
    }
   ],
   "source": [
    "ztots = ['ztot_'+str(i) for i in range(1,h1.loc[:,'kz']-1)]\n",
    "\n",
    "ztots"
   ]
  },
  {
   "cell_type": "code",
   "execution_count": 27,
   "metadata": {},
   "outputs": [
    {
     "data": {
      "text/plain": [
       "['sigma_0', 'sigma_1']"
      ]
     },
     "execution_count": 27,
     "metadata": {},
     "output_type": "execute_result"
    }
   ],
   "source": [
    "sigmas = ['sigma_'+str(i) for i in range(h1.loc[:,'nvrt'] - h1.loc[:,'kz'] + 1) ]\n",
    "sigmas"
   ]
  },
  {
   "cell_type": "code",
   "execution_count": 28,
   "metadata": {},
   "outputs": [
    {
     "data": {
      "text/plain": [
       "['sigma_0', 'sigma_1']"
      ]
     },
     "execution_count": 28,
     "metadata": {},
     "output_type": "execute_result"
    }
   ],
   "source": [
    "ztots + sigmas"
   ]
  },
  {
   "cell_type": "code",
   "execution_count": 29,
   "metadata": {},
   "outputs": [],
   "source": [
    "#read secondary header\n",
    "h2 = pd.read_csv(gfiles[0],skiprows=nels[0] + nq[0] + nw[0] + 8, header=None, nrows = 1, delim_whitespace=True, names=ztots + sigmas)"
   ]
  },
  {
   "cell_type": "code",
   "execution_count": 30,
   "metadata": {},
   "outputs": [
    {
     "data": {
      "text/html": [
       "<div>\n",
       "<style scoped>\n",
       "    .dataframe tbody tr th:only-of-type {\n",
       "        vertical-align: middle;\n",
       "    }\n",
       "\n",
       "    .dataframe tbody tr th {\n",
       "        vertical-align: top;\n",
       "    }\n",
       "\n",
       "    .dataframe thead th {\n",
       "        text-align: right;\n",
       "    }\n",
       "</style>\n",
       "<table border=\"1\" class=\"dataframe\">\n",
       "  <thead>\n",
       "    <tr style=\"text-align: right;\">\n",
       "      <th></th>\n",
       "      <th>start_year</th>\n",
       "      <th>start_month</th>\n",
       "      <th>start_day</th>\n",
       "      <th>start_hour</th>\n",
       "      <th>utc_start</th>\n",
       "      <th>nrec</th>\n",
       "      <th>dtout</th>\n",
       "      <th>nspool</th>\n",
       "      <th>nvrt</th>\n",
       "      <th>kz</th>\n",
       "      <th>h0</th>\n",
       "      <th>h_s</th>\n",
       "      <th>h_c</th>\n",
       "      <th>theta_b</th>\n",
       "      <th>theta_f</th>\n",
       "      <th>ics</th>\n",
       "      <th>sigma_0</th>\n",
       "      <th>sigma_1</th>\n",
       "    </tr>\n",
       "  </thead>\n",
       "  <tbody>\n",
       "    <tr>\n",
       "      <th>0</th>\n",
       "      <td>2013</td>\n",
       "      <td>10</td>\n",
       "      <td>28</td>\n",
       "      <td>0.0</td>\n",
       "      <td>0.0</td>\n",
       "      <td>4</td>\n",
       "      <td>3600.0</td>\n",
       "      <td>9</td>\n",
       "      <td>2</td>\n",
       "      <td>1</td>\n",
       "      <td>0.5</td>\n",
       "      <td>1000000.0</td>\n",
       "      <td>40.0</td>\n",
       "      <td>1.0</td>\n",
       "      <td>0.0001</td>\n",
       "      <td>2</td>\n",
       "      <td>-1.0</td>\n",
       "      <td>0.0</td>\n",
       "    </tr>\n",
       "  </tbody>\n",
       "</table>\n",
       "</div>"
      ],
      "text/plain": [
       "   start_year  start_month  start_day  start_hour  utc_start  nrec   dtout  \\\n",
       "0        2013           10         28         0.0        0.0     4  3600.0   \n",
       "\n",
       "   nspool  nvrt  kz   h0        h_s   h_c  theta_b  theta_f  ics  sigma_0  \\\n",
       "0       9     2   1  0.5  1000000.0  40.0      1.0   0.0001    2     -1.0   \n",
       "\n",
       "   sigma_1  \n",
       "0      0.0  "
      ]
     },
     "execution_count": 30,
     "metadata": {},
     "output_type": "execute_result"
    }
   ],
   "source": [
    "#combine headers\n",
    "header2 = pd.concat([h0, h1, h2], axis=1)\n",
    "#header2 = header2.T\n",
    "header2"
   ]
  },
  {
   "cell_type": "code",
   "execution_count": 31,
   "metadata": {},
   "outputs": [
    {
     "data": {
      "text/html": [
       "<div>\n",
       "<style scoped>\n",
       "    .dataframe tbody tr th:only-of-type {\n",
       "        vertical-align: middle;\n",
       "    }\n",
       "\n",
       "    .dataframe tbody tr th {\n",
       "        vertical-align: top;\n",
       "    }\n",
       "\n",
       "    .dataframe thead th {\n",
       "        text-align: right;\n",
       "    }\n",
       "</style>\n",
       "<table border=\"1\" class=\"dataframe\">\n",
       "  <thead>\n",
       "    <tr style=\"text-align: right;\">\n",
       "      <th></th>\n",
       "      <th></th>\n",
       "      <th>lon</th>\n",
       "      <th>lat</th>\n",
       "      <th>depth</th>\n",
       "      <th>kbp00</th>\n",
       "    </tr>\n",
       "  </thead>\n",
       "  <tbody>\n",
       "    <tr>\n",
       "      <th rowspan=\"5\" valign=\"top\">core0000</th>\n",
       "      <th>0</th>\n",
       "      <td>-78.240143</td>\n",
       "      <td>17.926964</td>\n",
       "      <td>838.0</td>\n",
       "      <td>1</td>\n",
       "    </tr>\n",
       "    <tr>\n",
       "      <th>1</th>\n",
       "      <td>-78.295212</td>\n",
       "      <td>17.828188</td>\n",
       "      <td>1539.0</td>\n",
       "      <td>1</td>\n",
       "    </tr>\n",
       "    <tr>\n",
       "      <th>2</th>\n",
       "      <td>-78.185257</td>\n",
       "      <td>17.831535</td>\n",
       "      <td>807.0</td>\n",
       "      <td>1</td>\n",
       "    </tr>\n",
       "    <tr>\n",
       "      <th>3</th>\n",
       "      <td>-78.566040</td>\n",
       "      <td>17.382647</td>\n",
       "      <td>513.0</td>\n",
       "      <td>1</td>\n",
       "    </tr>\n",
       "    <tr>\n",
       "      <th>4</th>\n",
       "      <td>-78.505302</td>\n",
       "      <td>17.517424</td>\n",
       "      <td>938.0</td>\n",
       "      <td>1</td>\n",
       "    </tr>\n",
       "  </tbody>\n",
       "</table>\n",
       "</div>"
      ],
      "text/plain": [
       "                  lon        lat   depth  kbp00\n",
       "core0000 0 -78.240143  17.926964   838.0      1\n",
       "         1 -78.295212  17.828188  1539.0      1\n",
       "         2 -78.185257  17.831535   807.0      1\n",
       "         3 -78.566040  17.382647   513.0      1\n",
       "         4 -78.505302  17.517424   938.0      1"
      ]
     },
     "execution_count": 31,
     "metadata": {},
     "output_type": "execute_result"
    }
   ],
   "source": [
    "#read lat/lon from all files\n",
    "gframes=np.empty(len(gfiles),dtype=object)\n",
    "for i in range(len(gfiles)):\n",
    "    gframes[i] = pd.read_csv(gfiles[i],skiprows=nels[i] + nq[i] + nw[i] + 10, header=None, nrows = nq[i], delim_whitespace=True, names=['lon','lat','depth','kbp00'])\n",
    "    \n",
    "grid = pd.concat(gframes,keys=keys)\n",
    "\n",
    "grid.head()"
   ]
  },
  {
   "cell_type": "code",
   "execution_count": 32,
   "metadata": {},
   "outputs": [
    {
     "data": {
      "text/html": [
       "<div>\n",
       "<style scoped>\n",
       "    .dataframe tbody tr th:only-of-type {\n",
       "        vertical-align: middle;\n",
       "    }\n",
       "\n",
       "    .dataframe tbody tr th {\n",
       "        vertical-align: top;\n",
       "    }\n",
       "\n",
       "    .dataframe thead th {\n",
       "        text-align: right;\n",
       "    }\n",
       "</style>\n",
       "<table border=\"1\" class=\"dataframe\">\n",
       "  <thead>\n",
       "    <tr style=\"text-align: right;\">\n",
       "      <th></th>\n",
       "      <th></th>\n",
       "      <th>type</th>\n",
       "      <th>a</th>\n",
       "      <th>b</th>\n",
       "      <th>c</th>\n",
       "    </tr>\n",
       "  </thead>\n",
       "  <tbody>\n",
       "    <tr>\n",
       "      <th rowspan=\"5\" valign=\"top\">core0000</th>\n",
       "      <th>0</th>\n",
       "      <td>3</td>\n",
       "      <td>1</td>\n",
       "      <td>2</td>\n",
       "      <td>3</td>\n",
       "    </tr>\n",
       "    <tr>\n",
       "      <th>1</th>\n",
       "      <td>3</td>\n",
       "      <td>4</td>\n",
       "      <td>5</td>\n",
       "      <td>6</td>\n",
       "    </tr>\n",
       "    <tr>\n",
       "      <th>2</th>\n",
       "      <td>3</td>\n",
       "      <td>7</td>\n",
       "      <td>8</td>\n",
       "      <td>9</td>\n",
       "    </tr>\n",
       "    <tr>\n",
       "      <th>3</th>\n",
       "      <td>3</td>\n",
       "      <td>10</td>\n",
       "      <td>11</td>\n",
       "      <td>12</td>\n",
       "    </tr>\n",
       "    <tr>\n",
       "      <th>4</th>\n",
       "      <td>3</td>\n",
       "      <td>13</td>\n",
       "      <td>14</td>\n",
       "      <td>15</td>\n",
       "    </tr>\n",
       "  </tbody>\n",
       "</table>\n",
       "</div>"
      ],
      "text/plain": [
       "            type   a   b   c\n",
       "core0000 0     3   1   2   3\n",
       "         1     3   4   5   6\n",
       "         2     3   7   8   9\n",
       "         3     3  10  11  12\n",
       "         4     3  13  14  15"
      ]
     },
     "execution_count": 32,
     "metadata": {},
     "output_type": "execute_result"
    }
   ],
   "source": [
    "#read tessellation \n",
    "eframes=np.empty(len(gfiles),dtype=object)\n",
    "for i in range(len(gfiles)):\n",
    "    eframes[i] = pd.read_csv(gfiles[i],skiprows=nels[i] + nq[i] + nw[i] + nq[i] + 10, header=None, nrows = nels[i], delim_whitespace=True, names=['type','a','b','c'])\n",
    "    \n",
    "tri = pd.concat(eframes,keys=keys)\n",
    "\n",
    "tri.head()"
   ]
  },
  {
   "cell_type": "markdown",
   "metadata": {},
   "source": [
    "## Check grid "
   ]
  },
  {
   "cell_type": "code",
   "execution_count": 33,
   "metadata": {},
   "outputs": [
    {
     "name": "stdout",
     "output_type": "stream",
     "text": [
      "1 2 3\n",
      "(-78.2401428, 17.9269638)\n",
      "(-78.2952118, 17.8281879)\n",
      "(-78.185257, 17.8315353)\n"
     ]
    }
   ],
   "source": [
    "for [a,b,c] in tri.loc['core0000',['a','b','c']].values[0:1]:\n",
    "    print a,b,c\n",
    "    [x1, y1] = grid.loc['core0000',['lon','lat']].values[a - 1]\n",
    "    print(x1,y1)\n",
    "    [x2, y2] = grid.loc['core0000',['lon','lat']].values[b - 1]\n",
    "    print(x2,y2)\n",
    "    [x3, y3] = grid.loc['core0000',['lon','lat']].values[c - 1]\n",
    "    print(x3,y3)\n",
    "\n",
    "\n"
   ]
  },
  {
   "cell_type": "code",
   "execution_count": 34,
   "metadata": {},
   "outputs": [],
   "source": [
    "tri3 = tri.loc['core0000',['a','b','c']].values - 1 # for python index"
   ]
  },
  {
   "cell_type": "code",
   "execution_count": 35,
   "metadata": {},
   "outputs": [
    {
     "data": {
      "image/png": "[encoded data removed]",
      "text/plain": [
       "<Figure size 864x720 with 1 Axes>"
      ]
     },
     "metadata": {},
     "output_type": "display_data"
    }
   ],
   "source": [
    "plt.figure(figsize=(12,10))\n",
    "plt.scatter(grid.lon.values, grid.lat.values)\n",
    "plt.triplot(grid.lon.values, grid.lat.values, tri3[:1], 'go-', lw=.5, markersize=5 )\n",
    "\n",
    "w=np.array([[x1,y1],[x2,y2],[x3,y3]])\n",
    "plt.scatter(w[:,0],w[:,1])\n",
    "t1 = plt.Polygon(w[:3,:], color='g')\n",
    "plt.gca().add_patch(t1)\n",
    "plt.gca().annotate('0', xy=(w[0,0], w[0,1]),xytext=(w[0,0]+.01, w[0,1]+.01),xycoords='data',size=24)\n",
    "plt.gca().annotate('1', xy=(w[1,0], w[1,1]),xytext=(w[1,0]+.01, w[1,1]+.01),xycoords='data',size=24)\n",
    "plt.gca().annotate('2', xy=(w[2,0], w[2,1]),xytext=(w[2,0], w[2,1]+.01),xycoords='data',size=24)\n",
    "\n",
    "plt.show()"
   ]
  },
  {
   "cell_type": "markdown",
   "metadata": {},
   "source": [
    "## Read Netcdf output files"
   ]
  },
  {
   "cell_type": "code",
   "execution_count": 36,
   "metadata": {},
   "outputs": [
    {
     "data": {
      "text/plain": [
       "['/Users/brey/SCHISM/test_grid/outputs/schout_0000_1.nc',\n",
       " '/Users/brey/SCHISM/test_grid/outputs/schout_0000_2.nc',\n",
       " '/Users/brey/SCHISM/test_grid/outputs/schout_0000_3.nc',\n",
       " '/Users/brey/SCHISM/test_grid/outputs/schout_0000_4.nc',\n",
       " '/Users/brey/SCHISM/test_grid/outputs/schout_0001_1.nc',\n",
       " '/Users/brey/SCHISM/test_grid/outputs/schout_0001_2.nc',\n",
       " '/Users/brey/SCHISM/test_grid/outputs/schout_0001_3.nc',\n",
       " '/Users/brey/SCHISM/test_grid/outputs/schout_0001_4.nc',\n",
       " '/Users/brey/SCHISM/test_grid/outputs/schout_0002_1.nc',\n",
       " '/Users/brey/SCHISM/test_grid/outputs/schout_0002_2.nc',\n",
       " '/Users/brey/SCHISM/test_grid/outputs/schout_0002_3.nc',\n",
       " '/Users/brey/SCHISM/test_grid/outputs/schout_0002_4.nc',\n",
       " '/Users/brey/SCHISM/test_grid/outputs/schout_0003_1.nc',\n",
       " '/Users/brey/SCHISM/test_grid/outputs/schout_0003_2.nc',\n",
       " '/Users/brey/SCHISM/test_grid/outputs/schout_0003_3.nc',\n",
       " '/Users/brey/SCHISM/test_grid/outputs/schout_0003_4.nc']"
      ]
     },
     "execution_count": 36,
     "metadata": {},
     "output_type": "execute_result"
    }
   ],
   "source": [
    "files = glob.glob(folder+'outputs/schout_0*_*.nc')\n",
    "files.sort()\n",
    "files"
   ]
  },
  {
   "cell_type": "code",
   "execution_count": 37,
   "metadata": {},
   "outputs": [],
   "source": [
    "#store them in a list\n",
    "out=[]\n",
    "for i in range(len(keys)):\n",
    "    ifiles = [f for f in files if '{}_'.format(i) in f]\n",
    "    out.append(xr.open_mfdataset(ifiles))"
   ]
  },
  {
   "cell_type": "code",
   "execution_count": 38,
   "metadata": {},
   "outputs": [
    {
     "data": {
      "text/plain": [
       "<xarray.Dataset>\n",
       "Dimensions:            (nSCHISM_hgrid_face: 174, nSCHISM_hgrid_node: 107, nSCHISM_vgrid_layers: 2, time: 12, two: 2)\n",
       "Coordinates:\n",
       "  * time               (time) float64 3.6e+03 7.2e+03 1.08e+04 1.44e+04 ...\n",
       "Dimensions without coordinates: nSCHISM_hgrid_face, nSCHISM_hgrid_node, nSCHISM_vgrid_layers, two\n",
       "Data variables:\n",
       "    wetdry_elem        (time, nSCHISM_hgrid_face) float32 dask.array<shape=(12, 174), chunksize=(4, 174)>\n",
       "    zcor               (time, nSCHISM_hgrid_node, nSCHISM_vgrid_layers) float32 dask.array<shape=(12, 107, 2), chunksize=(4, 107, 2)>\n",
       "    elev               (time, nSCHISM_hgrid_node) float32 dask.array<shape=(12, 107), chunksize=(4, 107)>\n",
       "    wind_speed         (time, nSCHISM_hgrid_node, two) float32 dask.array<shape=(12, 107, 2), chunksize=(4, 107, 2)>\n",
       "    vertical_velocity  (time, nSCHISM_hgrid_node, nSCHISM_vgrid_layers) float32 dask.array<shape=(12, 107, 2), chunksize=(4, 107, 2)>\n",
       "    temp               (time, nSCHISM_hgrid_node, nSCHISM_vgrid_layers) float32 dask.array<shape=(12, 107, 2), chunksize=(4, 107, 2)>\n",
       "    salt               (time, nSCHISM_hgrid_node, nSCHISM_vgrid_layers) float32 dask.array<shape=(12, 107, 2), chunksize=(4, 107, 2)>\n",
       "    hvel               (time, nSCHISM_hgrid_node, nSCHISM_vgrid_layers, two) float32 dask.array<shape=(12, 107, 2, 2), chunksize=(4, 107, 2, 2)>"
      ]
     },
     "execution_count": 38,
     "metadata": {},
     "output_type": "execute_result"
    }
   ],
   "source": [
    "out[0] # example"
   ]
  },
  {
   "cell_type": "markdown",
   "metadata": {},
   "source": [
    "## Read the combined NetCDFs with autocombine_MPI_elfe.pl."
   ]
  },
  {
   "cell_type": "markdown",
   "metadata": {},
   "source": [
    "Run \"autocombine_MPI_elfe.pl 0 3\" on the model folder. "
   ]
  },
  {
   "cell_type": "code",
   "execution_count": 41,
   "metadata": {},
   "outputs": [
    {
     "data": {
      "text/plain": [
       "['/Users/brey/SCHISM/test_grid/outputs/schout_0.nc',\n",
       " '/Users/brey/SCHISM/test_grid/outputs/schout_1.nc',\n",
       " '/Users/brey/SCHISM/test_grid/outputs/schout_2.nc',\n",
       " '/Users/brey/SCHISM/test_grid/outputs/schout_3.nc']"
      ]
     },
     "execution_count": 41,
     "metadata": {},
     "output_type": "execute_result"
    }
   ],
   "source": [
    "cfiles = glob.glob(folder+'outputs/schout_0.nc') + glob.glob(folder+'outputs/schout_[!00]*.nc')\n",
    "cfiles.sort()\n",
    "cfiles"
   ]
  },
  {
   "cell_type": "code",
   "execution_count": 42,
   "metadata": {},
   "outputs": [],
   "source": [
    "gr = xr.open_mfdataset(cfiles[0], autoclose=True, drop_variables=['time'])"
   ]
  },
  {
   "cell_type": "code",
   "execution_count": 43,
   "metadata": {},
   "outputs": [],
   "source": [
    "var = xr.open_mfdataset(cfiles[1:], autoclose=True, drop_variables=gr.variables.keys())"
   ]
  },
  {
   "cell_type": "code",
   "execution_count": 44,
   "metadata": {},
   "outputs": [],
   "source": [
    "grf = xr.merge([gr,var])"
   ]
  },
  {
   "cell_type": "code",
   "execution_count": 45,
   "metadata": {
    "scrolled": false
   },
   "outputs": [
    {
     "data": {
      "text/plain": [
       "<xarray.Dataset>\n",
       "Dimensions:                  (nMaxSCHISM_hgrid_face_nodes: 4, nSCHISM_hgrid_edge: 1109, nSCHISM_hgrid_face: 702, nSCHISM_hgrid_node: 407, nSCHISM_vgrid_layers: 2, one: 1, sigma: 2, time: 12, two: 2)\n",
       "Coordinates:\n",
       "  * sigma                    (sigma) float32 -1.0 0.0\n",
       "  * time                     (time) datetime64[ns] 2013-10-28T01:00:00 ...\n",
       "Dimensions without coordinates: nMaxSCHISM_hgrid_face_nodes, nSCHISM_hgrid_edge, nSCHISM_hgrid_face, nSCHISM_hgrid_node, nSCHISM_vgrid_layers, one, two\n",
       "Data variables:\n",
       "    SCHISM_hgrid             (one) int32 dask.array<shape=(1,), chunksize=(1,)>\n",
       "    SCHISM_hgrid_face_nodes  (nSCHISM_hgrid_face, nMaxSCHISM_hgrid_face_nodes) float64 dask.array<shape=(702, 4), chunksize=(702, 4)>\n",
       "    SCHISM_hgrid_edge_nodes  (nSCHISM_hgrid_edge, two) int32 dask.array<shape=(1109, 2), chunksize=(1109, 2)>\n",
       "    SCHISM_hgrid_node_x      (nSCHISM_hgrid_node) float32 dask.array<shape=(407,), chunksize=(407,)>\n",
       "    SCHISM_hgrid_node_y      (nSCHISM_hgrid_node) float32 dask.array<shape=(407,), chunksize=(407,)>\n",
       "    node_bottom_index        (nSCHISM_hgrid_node) int32 dask.array<shape=(407,), chunksize=(407,)>\n",
       "    SCHISM_hgrid_face_x      (nSCHISM_hgrid_face) float32 dask.array<shape=(702,), chunksize=(702,)>\n",
       "    SCHISM_hgrid_face_y      (nSCHISM_hgrid_face) float32 dask.array<shape=(702,), chunksize=(702,)>\n",
       "    ele_bottom_index         (nSCHISM_hgrid_face) int32 dask.array<shape=(702,), chunksize=(702,)>\n",
       "    SCHISM_hgrid_edge_x      (nSCHISM_hgrid_edge) float32 dask.array<shape=(1109,), chunksize=(1109,)>\n",
       "    SCHISM_hgrid_edge_y      (nSCHISM_hgrid_edge) float32 dask.array<shape=(1109,), chunksize=(1109,)>\n",
       "    edge_bottom_index        (nSCHISM_hgrid_edge) int32 dask.array<shape=(1109,), chunksize=(1109,)>\n",
       "    depth                    (nSCHISM_hgrid_node) float32 dask.array<shape=(407,), chunksize=(407,)>\n",
       "    dry_value_flag           (one) int32 dask.array<shape=(1,), chunksize=(1,)>\n",
       "    coordinate_system_flag   (one) int32 dask.array<shape=(1,), chunksize=(1,)>\n",
       "    minimum_depth            (one) float32 dask.array<shape=(1,), chunksize=(1,)>\n",
       "    sigma_h_c                (one) float32 dask.array<shape=(1,), chunksize=(1,)>\n",
       "    sigma_theta_b            (one) float32 dask.array<shape=(1,), chunksize=(1,)>\n",
       "    sigma_theta_f            (one) float32 dask.array<shape=(1,), chunksize=(1,)>\n",
       "    sigma_maxdepth           (one) float32 dask.array<shape=(1,), chunksize=(1,)>\n",
       "    Cs                       (sigma) float32 dask.array<shape=(2,), chunksize=(2,)>\n",
       "    wetdry_elem              (time, nSCHISM_hgrid_face) float32 dask.array<shape=(12, 702), chunksize=(4, 702)>\n",
       "    zcor                     (time, nSCHISM_hgrid_node, nSCHISM_vgrid_layers) float32 dask.array<shape=(12, 407, 2), chunksize=(4, 407, 2)>\n",
       "    elev                     (time, nSCHISM_hgrid_node) float32 dask.array<shape=(12, 407), chunksize=(4, 407)>\n",
       "    wind_speed               (time, nSCHISM_hgrid_node, two) float32 dask.array<shape=(12, 407, 2), chunksize=(4, 407, 2)>\n",
       "    vertical_velocity        (time, nSCHISM_hgrid_node, nSCHISM_vgrid_layers) float32 dask.array<shape=(12, 407, 2), chunksize=(4, 407, 2)>\n",
       "    temp                     (time, nSCHISM_hgrid_node, nSCHISM_vgrid_layers) float32 dask.array<shape=(12, 407, 2), chunksize=(4, 407, 2)>\n",
       "    salt                     (time, nSCHISM_hgrid_node, nSCHISM_vgrid_layers) float32 dask.array<shape=(12, 407, 2), chunksize=(4, 407, 2)>\n",
       "    hvel                     (time, nSCHISM_hgrid_node, nSCHISM_vgrid_layers, two) float32 dask.array<shape=(12, 407, 2, 2), chunksize=(4, 407, 2, 2)>"
      ]
     },
     "execution_count": 45,
     "metadata": {},
     "output_type": "execute_result"
    }
   ],
   "source": [
    "grf"
   ]
  },
  {
   "cell_type": "markdown",
   "metadata": {},
   "source": [
    "## convert time to Timestamps"
   ]
  },
  {
   "cell_type": "code",
   "execution_count": 46,
   "metadata": {},
   "outputs": [],
   "source": [
    "date = header2.loc[:,['start_year','start_month','start_day','start_hour','utc_start']]"
   ]
  },
  {
   "cell_type": "code",
   "execution_count": 47,
   "metadata": {},
   "outputs": [
    {
     "data": {
      "text/html": [
       "<div>\n",
       "<style scoped>\n",
       "    .dataframe tbody tr th:only-of-type {\n",
       "        vertical-align: middle;\n",
       "    }\n",
       "\n",
       "    .dataframe tbody tr th {\n",
       "        vertical-align: top;\n",
       "    }\n",
       "\n",
       "    .dataframe thead th {\n",
       "        text-align: right;\n",
       "    }\n",
       "</style>\n",
       "<table border=\"1\" class=\"dataframe\">\n",
       "  <thead>\n",
       "    <tr style=\"text-align: right;\">\n",
       "      <th></th>\n",
       "      <th>start_year</th>\n",
       "      <th>start_month</th>\n",
       "      <th>start_day</th>\n",
       "      <th>start_hour</th>\n",
       "      <th>utc_start</th>\n",
       "    </tr>\n",
       "  </thead>\n",
       "  <tbody>\n",
       "    <tr>\n",
       "      <th>0</th>\n",
       "      <td>2013</td>\n",
       "      <td>10</td>\n",
       "      <td>28</td>\n",
       "      <td>0.0</td>\n",
       "      <td>0.0</td>\n",
       "    </tr>\n",
       "  </tbody>\n",
       "</table>\n",
       "</div>"
      ],
      "text/plain": [
       "   start_year  start_month  start_day  start_hour  utc_start\n",
       "0        2013           10         28         0.0        0.0"
      ]
     },
     "execution_count": 47,
     "metadata": {},
     "output_type": "execute_result"
    }
   ],
   "source": [
    "date"
   ]
  },
  {
   "cell_type": "code",
   "execution_count": 48,
   "metadata": {},
   "outputs": [],
   "source": [
    "date.columns=['year','month','day','hour','utc'] # rename the columns"
   ]
  },
  {
   "cell_type": "code",
   "execution_count": 49,
   "metadata": {},
   "outputs": [
    {
     "data": {
      "text/plain": [
       "0    2013\n",
       "Name: year, dtype: int64"
      ]
     },
     "execution_count": 49,
     "metadata": {},
     "output_type": "execute_result"
    }
   ],
   "source": [
    "date.year # check"
   ]
  },
  {
   "cell_type": "code",
   "execution_count": 50,
   "metadata": {},
   "outputs": [
    {
     "data": {
      "text/plain": [
       "Timestamp('2013-10-28 00:00:00')"
      ]
     },
     "execution_count": 50,
     "metadata": {},
     "output_type": "execute_result"
    }
   ],
   "source": [
    "#set the start timestamp\n",
    "sdate = pd.Timestamp(year=date.year.values, month=date.month.values, day=date.day.values, hour=date.hour.values, tz=date.utc.values)\n",
    "sdate"
   ]
  },
  {
   "cell_type": "code",
   "execution_count": 51,
   "metadata": {},
   "outputs": [
    {
     "data": {
      "text/plain": [
       "array([ 3600.,  7200., 10800., 14400., 18000., 21600., 25200., 28800.,\n",
       "       32400., 36000., 39600., 43200.])"
      ]
     },
     "execution_count": 51,
     "metadata": {},
     "output_type": "execute_result"
    }
   ],
   "source": [
    "out[0].time.values # output times in seconds"
   ]
  },
  {
   "cell_type": "code",
   "execution_count": 52,
   "metadata": {},
   "outputs": [
    {
     "data": {
      "text/plain": [
       "DatetimeIndex(['2013-10-28 01:00:00', '2013-10-28 02:00:00',\n",
       "               '2013-10-28 03:00:00', '2013-10-28 04:00:00',\n",
       "               '2013-10-28 05:00:00', '2013-10-28 06:00:00',\n",
       "               '2013-10-28 07:00:00', '2013-10-28 08:00:00',\n",
       "               '2013-10-28 09:00:00', '2013-10-28 10:00:00',\n",
       "               '2013-10-28 11:00:00', '2013-10-28 12:00:00'],\n",
       "              dtype='datetime64[ns]', freq=None)"
      ]
     },
     "execution_count": 52,
     "metadata": {},
     "output_type": "execute_result"
    }
   ],
   "source": [
    "#get times as timestamps\n",
    "times = pd.to_datetime(out[0].time.values, unit='s',\n",
    "                   origin=sdate)\n",
    "times"
   ]
  },
  {
   "cell_type": "markdown",
   "metadata": {},
   "source": [
    "## Get the grid (nodes) indices"
   ]
  },
  {
   "cell_type": "markdown",
   "metadata": {},
   "source": [
    "Since there are ghost nodes due to the mpi split we need to sort out the duplicates. This is done with the global_n index which would be the same for repeat nodes."
   ]
  },
  {
   "cell_type": "markdown",
   "metadata": {},
   "source": [
    "### Find duplicates"
   ]
  },
  {
   "cell_type": "code",
   "execution_count": 53,
   "metadata": {},
   "outputs": [
    {
     "data": {
      "text/plain": [
       "core0000  0      False\n",
       "          1      False\n",
       "          2      False\n",
       "          3      False\n",
       "          4      False\n",
       "          5      False\n",
       "          6      False\n",
       "          7      False\n",
       "          8      False\n",
       "          9      False\n",
       "          10      True\n",
       "          11      True\n",
       "          12     False\n",
       "          13     False\n",
       "          14     False\n",
       "          15     False\n",
       "          16      True\n",
       "          17     False\n",
       "          18      True\n",
       "          19     False\n",
       "          20     False\n",
       "          21     False\n",
       "          22     False\n",
       "          23     False\n",
       "          24     False\n",
       "          25      True\n",
       "          26      True\n",
       "          27     False\n",
       "          28     False\n",
       "          29     False\n",
       "                 ...  \n",
       "core0003  85      True\n",
       "          86     False\n",
       "          87      True\n",
       "          88     False\n",
       "          89     False\n",
       "          90     False\n",
       "          91     False\n",
       "          92     False\n",
       "          93     False\n",
       "          94     False\n",
       "          95     False\n",
       "          96      True\n",
       "          97      True\n",
       "          98     False\n",
       "          99     False\n",
       "          100    False\n",
       "          101    False\n",
       "          102    False\n",
       "          103    False\n",
       "          104     True\n",
       "          105    False\n",
       "          106    False\n",
       "          107     True\n",
       "          108    False\n",
       "          109    False\n",
       "          110    False\n",
       "          111    False\n",
       "          112    False\n",
       "          113     True\n",
       "          114     True\n",
       "Name: global_n, Length: 444, dtype: bool"
      ]
     },
     "execution_count": 53,
     "metadata": {},
     "output_type": "execute_result"
    }
   ],
   "source": [
    "nodes.global_n.duplicated(keep=False)"
   ]
  },
  {
   "cell_type": "markdown",
   "metadata": {},
   "source": [
    "#### Check"
   ]
  },
  {
   "cell_type": "code",
   "execution_count": 54,
   "metadata": {},
   "outputs": [
    {
     "data": {
      "text/plain": [
       "local       11\n",
       "global_n    13\n",
       "Name: (core0000, 10), dtype: int64"
      ]
     },
     "execution_count": 54,
     "metadata": {},
     "output_type": "execute_result"
    }
   ],
   "source": [
    "nodes.loc['core0000', 10] # choose one from the above True nodes to check"
   ]
  },
  {
   "cell_type": "code",
   "execution_count": 55,
   "metadata": {},
   "outputs": [
    {
     "data": {
      "text/html": [
       "<div>\n",
       "<style scoped>\n",
       "    .dataframe tbody tr th:only-of-type {\n",
       "        vertical-align: middle;\n",
       "    }\n",
       "\n",
       "    .dataframe tbody tr th {\n",
       "        vertical-align: top;\n",
       "    }\n",
       "\n",
       "    .dataframe thead th {\n",
       "        text-align: right;\n",
       "    }\n",
       "</style>\n",
       "<table border=\"1\" class=\"dataframe\">\n",
       "  <thead>\n",
       "    <tr style=\"text-align: right;\">\n",
       "      <th></th>\n",
       "      <th></th>\n",
       "      <th>local</th>\n",
       "      <th>global_n</th>\n",
       "    </tr>\n",
       "  </thead>\n",
       "  <tbody>\n",
       "    <tr>\n",
       "      <th>core0000</th>\n",
       "      <th>10</th>\n",
       "      <td>11</td>\n",
       "      <td>13</td>\n",
       "    </tr>\n",
       "    <tr>\n",
       "      <th>core0002</th>\n",
       "      <th>46</th>\n",
       "      <td>47</td>\n",
       "      <td>13</td>\n",
       "    </tr>\n",
       "  </tbody>\n",
       "</table>\n",
       "</div>"
      ],
      "text/plain": [
       "             local  global_n\n",
       "core0000 10     11        13\n",
       "core0002 46     47        13"
      ]
     },
     "execution_count": 55,
     "metadata": {},
     "output_type": "execute_result"
    }
   ],
   "source": [
    "nodes.loc[nodes.global_n==13] # find the duplicate indices equal to the global_n"
   ]
  },
  {
   "cell_type": "markdown",
   "metadata": {},
   "source": [
    "It seems that the node 13 is common to core0000 and core00002"
   ]
  },
  {
   "cell_type": "code",
   "execution_count": 56,
   "metadata": {},
   "outputs": [
    {
     "data": {
      "text/plain": [
       "(lon     -77.871216\n",
       " lat      17.000000\n",
       " depth    13.000000\n",
       " kbp00     1.000000\n",
       " Name: (core0000, 10), dtype: float64, lon     -77.871216\n",
       " lat      17.000000\n",
       " depth    13.000000\n",
       " kbp00     1.000000\n",
       " Name: (core0002, 46), dtype: float64)"
      ]
     },
     "execution_count": 56,
     "metadata": {},
     "output_type": "execute_result"
    }
   ],
   "source": [
    "grid.loc['core0000',10], grid.loc['core0002',46] # grid nodes are the same"
   ]
  },
  {
   "cell_type": "code",
   "execution_count": 57,
   "metadata": {},
   "outputs": [
    {
     "data": {
      "text/plain": [
       "True"
      ]
     },
     "execution_count": 57,
     "metadata": {},
     "output_type": "execute_result"
    }
   ],
   "source": [
    "np.array_equal(out[0].elev[:,10].values, out[2].elev[:,46].values) # Elevation data are the same"
   ]
  },
  {
   "cell_type": "code",
   "execution_count": 58,
   "metadata": {},
   "outputs": [
    {
     "data": {
      "text/plain": [
       "(1, 407)"
      ]
     },
     "execution_count": 58,
     "metadata": {},
     "output_type": "execute_result"
    }
   ],
   "source": [
    "nodes.global_n.min(), nodes.global_n.max()# index range of nodes"
   ]
  },
  {
   "cell_type": "code",
   "execution_count": 59,
   "metadata": {},
   "outputs": [],
   "source": [
    "cnodes = nodes.global_n.drop_duplicates() # drop duplicate global nodes and store the values to an array"
   ]
  },
  {
   "cell_type": "code",
   "execution_count": 60,
   "metadata": {},
   "outputs": [
    {
     "data": {
      "text/plain": [
       "array([218, 220, 355, 293, 305, 390, 403, 306, 406,  52,  13, 169,  64,\n",
       "        99, 118, 356, 253, 333, 343, 296, 130, 341, 113, 206, 215, 214,\n",
       "       190, 322, 304,  61, 100, 115,  75,  54,  19, 176, 251, 267, 353,\n",
       "       252, 155, 182, 266, 292, 236, 295,  43, 137, 216, 325,  78, 277,\n",
       "       269, 378, 243, 271, 344, 245, 239, 342, 123, 279,  90, 151,  55,\n",
       "       240, 224, 348, 244, 278, 219, 217, 402, 314, 352, 370, 263, 300,\n",
       "       237, 103, 119, 186, 209,  10, 362,  27,  36, 223, 238, 210, 285,\n",
       "       386,  21,  11, 200, 212, 365, 371, 188, 111, 140, 398,   2, 387,\n",
       "       233, 405, 401, 298, 163, 329, 148,  42, 174, 375, 376,  25, 125,\n",
       "       363, 380, 327, 309, 366, 258, 299, 331, 197, 335, 373, 290, 171,\n",
       "       311,  53,  68, 149, 177, 136,  40,  59, 154, 310,  92, 135, 385,\n",
       "        80,  58, 145, 280, 374, 384, 347, 193, 227, 320,  87, 122,  31,\n",
       "        45, 185, 284, 273, 383, 302, 308, 367, 108,  97, 199, 152, 102,\n",
       "       170, 144,   6,   4, 351, 179, 147,  91, 294,  23, 132,  35,  84,\n",
       "       205, 391, 196, 382, 364,  89, 131, 105, 161, 192,  71, 232, 307,\n",
       "       141, 259,  16, 301, 388,  50,  73,  29, 272,  63,   8,  20,  60,\n",
       "       180, 207, 189, 389, 241, 303, 372,  17, 124, 318, 337, 400, 359,\n",
       "       268, 114, 211, 247, 286, 357, 264, 407, 317, 222, 203, 110, 397,\n",
       "       166, 234, 332, 213, 324, 379,  26, 143, 248, 249, 346, 396, 261,\n",
       "       256, 262, 381, 313, 265, 228, 340, 315, 316, 312,  33, 208, 242,\n",
       "       349, 394, 230,  48,  69, 172, 235, 167, 191, 225,  74,  86, 116,\n",
       "       404, 231, 361, 282, 323, 360,  57, 126, 168, 101, 117, 162,  38,\n",
       "       157, 287, 345,  82, 289, 246, 139,  85, 109, 128, 173,  22,  46,\n",
       "       254, 392,  72,  15,  30,  44,   5,  66,  94, 138, 184, 395, 297,\n",
       "       164, 328, 274, 229, 275, 120, 142, 175, 321, 257, 281, 339, 221,\n",
       "       153,   3,   9, 350, 226, 334,  77, 158,  95, 201, 276, 291, 369,\n",
       "        12,  56,  96, 183, 393, 129, 134, 250,  51,  76,   7, 156, 354,\n",
       "        62,  14, 159, 112,  83, 336, 121, 319, 160,  88, 194, 107,  34,\n",
       "        24, 202, 106, 181, 358,  39, 255, 377, 260, 338, 368,  49,  28,\n",
       "       165,  81, 198, 187, 133, 288, 330, 104,  93, 326, 127,  32, 146,\n",
       "       399,  37,   1, 270,  67, 150, 178, 283,  70,  65,  47,  98, 195,\n",
       "        79, 204,  18,  41])"
      ]
     },
     "execution_count": 60,
     "metadata": {},
     "output_type": "execute_result"
    }
   ],
   "source": [
    "cnodes.values"
   ]
  },
  {
   "cell_type": "code",
   "execution_count": 61,
   "metadata": {},
   "outputs": [
    {
     "data": {
      "text/plain": [
       "(1, 407, 407)"
      ]
     },
     "execution_count": 61,
     "metadata": {},
     "output_type": "execute_result"
    }
   ],
   "source": [
    "cnodes.min(), cnodes.max(), cnodes.size # check"
   ]
  },
  {
   "cell_type": "markdown",
   "metadata": {},
   "source": [
    "## Combine grid "
   ]
  },
  {
   "cell_type": "code",
   "execution_count": 62,
   "metadata": {},
   "outputs": [
    {
     "data": {
      "text/plain": [
       "37"
      ]
     },
     "execution_count": 62,
     "metadata": {},
     "output_type": "execute_result"
    }
   ],
   "source": [
    "#The duplicated nodes on thr grid dataFrame are...\n",
    "grid.duplicated().sum()"
   ]
  },
  {
   "cell_type": "code",
   "execution_count": 63,
   "metadata": {},
   "outputs": [
    {
     "data": {
      "text/plain": [
       "37"
      ]
     },
     "execution_count": 63,
     "metadata": {},
     "output_type": "execute_result"
    }
   ],
   "source": [
    "#which is the same as the duplicated nodes\n",
    "nodes.global_n.duplicated().sum()"
   ]
  },
  {
   "cell_type": "code",
   "execution_count": 64,
   "metadata": {},
   "outputs": [],
   "source": [
    "dgrid = grid.drop_duplicates() # keep only one of the duplicates (the first)"
   ]
  },
  {
   "cell_type": "code",
   "execution_count": 65,
   "metadata": {},
   "outputs": [],
   "source": [
    "dgrid.index = dgrid.index.droplevel() # drop multi-index"
   ]
  },
  {
   "cell_type": "code",
   "execution_count": 66,
   "metadata": {},
   "outputs": [],
   "source": [
    "dgrid = dgrid.reset_index(drop=True) # reset index"
   ]
  },
  {
   "cell_type": "code",
   "execution_count": 67,
   "metadata": {},
   "outputs": [
    {
     "data": {
      "text/plain": [
       "(407, 4)"
      ]
     },
     "execution_count": 67,
     "metadata": {},
     "output_type": "execute_result"
    }
   ],
   "source": [
    "dgrid.shape #not that this is the same size as cnodes above -> check"
   ]
  },
  {
   "cell_type": "code",
   "execution_count": 68,
   "metadata": {},
   "outputs": [],
   "source": [
    "dgrid.index = cnodes.values - 1 # reindex based on the global index, -1 for the python convention"
   ]
  },
  {
   "cell_type": "code",
   "execution_count": 69,
   "metadata": {},
   "outputs": [
    {
     "data": {
      "text/html": [
       "<div>\n",
       "<style scoped>\n",
       "    .dataframe tbody tr th:only-of-type {\n",
       "        vertical-align: middle;\n",
       "    }\n",
       "\n",
       "    .dataframe tbody tr th {\n",
       "        vertical-align: top;\n",
       "    }\n",
       "\n",
       "    .dataframe thead th {\n",
       "        text-align: right;\n",
       "    }\n",
       "</style>\n",
       "<table border=\"1\" class=\"dataframe\">\n",
       "  <thead>\n",
       "    <tr style=\"text-align: right;\">\n",
       "      <th></th>\n",
       "      <th>lon</th>\n",
       "      <th>lat</th>\n",
       "      <th>depth</th>\n",
       "      <th>kbp00</th>\n",
       "    </tr>\n",
       "  </thead>\n",
       "  <tbody>\n",
       "    <tr>\n",
       "      <th>217</th>\n",
       "      <td>-78.240143</td>\n",
       "      <td>17.926964</td>\n",
       "      <td>838.0</td>\n",
       "      <td>1</td>\n",
       "    </tr>\n",
       "    <tr>\n",
       "      <th>219</th>\n",
       "      <td>-78.295212</td>\n",
       "      <td>17.828188</td>\n",
       "      <td>1539.0</td>\n",
       "      <td>1</td>\n",
       "    </tr>\n",
       "    <tr>\n",
       "      <th>354</th>\n",
       "      <td>-78.185257</td>\n",
       "      <td>17.831535</td>\n",
       "      <td>807.0</td>\n",
       "      <td>1</td>\n",
       "    </tr>\n",
       "    <tr>\n",
       "      <th>292</th>\n",
       "      <td>-78.566040</td>\n",
       "      <td>17.382647</td>\n",
       "      <td>513.0</td>\n",
       "      <td>1</td>\n",
       "    </tr>\n",
       "    <tr>\n",
       "      <th>304</th>\n",
       "      <td>-78.505302</td>\n",
       "      <td>17.517424</td>\n",
       "      <td>938.0</td>\n",
       "      <td>1</td>\n",
       "    </tr>\n",
       "  </tbody>\n",
       "</table>\n",
       "</div>"
      ],
      "text/plain": [
       "           lon        lat   depth  kbp00\n",
       "217 -78.240143  17.926964   838.0      1\n",
       "219 -78.295212  17.828188  1539.0      1\n",
       "354 -78.185257  17.831535   807.0      1\n",
       "292 -78.566040  17.382647   513.0      1\n",
       "304 -78.505302  17.517424   938.0      1"
      ]
     },
     "execution_count": 69,
     "metadata": {},
     "output_type": "execute_result"
    }
   ],
   "source": [
    "dgrid.head()"
   ]
  },
  {
   "cell_type": "code",
   "execution_count": 70,
   "metadata": {},
   "outputs": [],
   "source": [
    "grd = dgrid.sort_index() #sort with the new index (that is the global_n)"
   ]
  },
  {
   "cell_type": "code",
   "execution_count": 71,
   "metadata": {},
   "outputs": [],
   "source": [
    "#reindex for final version\n",
    "grd = grd.reset_index(drop=True)\n",
    "#grd = grd.dropna()"
   ]
  },
  {
   "cell_type": "code",
   "execution_count": 72,
   "metadata": {},
   "outputs": [
    {
     "data": {
      "text/html": [
       "<div>\n",
       "<style scoped>\n",
       "    .dataframe tbody tr th:only-of-type {\n",
       "        vertical-align: middle;\n",
       "    }\n",
       "\n",
       "    .dataframe tbody tr th {\n",
       "        vertical-align: top;\n",
       "    }\n",
       "\n",
       "    .dataframe thead th {\n",
       "        text-align: right;\n",
       "    }\n",
       "</style>\n",
       "<table border=\"1\" class=\"dataframe\">\n",
       "  <thead>\n",
       "    <tr style=\"text-align: right;\">\n",
       "      <th></th>\n",
       "      <th>lon</th>\n",
       "      <th>lat</th>\n",
       "      <th>depth</th>\n",
       "      <th>kbp00</th>\n",
       "    </tr>\n",
       "  </thead>\n",
       "  <tbody>\n",
       "    <tr>\n",
       "      <th>0</th>\n",
       "      <td>-76.000000</td>\n",
       "      <td>19.000000</td>\n",
       "      <td>2894.0</td>\n",
       "      <td>1</td>\n",
       "    </tr>\n",
       "    <tr>\n",
       "      <th>1</th>\n",
       "      <td>-79.000000</td>\n",
       "      <td>17.000000</td>\n",
       "      <td>990.0</td>\n",
       "      <td>1</td>\n",
       "    </tr>\n",
       "    <tr>\n",
       "      <th>2</th>\n",
       "      <td>-76.000000</td>\n",
       "      <td>17.000000</td>\n",
       "      <td>1823.0</td>\n",
       "      <td>1</td>\n",
       "    </tr>\n",
       "    <tr>\n",
       "      <th>3</th>\n",
       "      <td>-79.000000</td>\n",
       "      <td>19.000000</td>\n",
       "      <td>5332.0</td>\n",
       "      <td>1</td>\n",
       "    </tr>\n",
       "    <tr>\n",
       "      <th>4</th>\n",
       "      <td>-77.463867</td>\n",
       "      <td>17.856054</td>\n",
       "      <td>90.0</td>\n",
       "      <td>1</td>\n",
       "    </tr>\n",
       "  </tbody>\n",
       "</table>\n",
       "</div>"
      ],
      "text/plain": [
       "         lon        lat   depth  kbp00\n",
       "0 -76.000000  19.000000  2894.0      1\n",
       "1 -79.000000  17.000000   990.0      1\n",
       "2 -76.000000  17.000000  1823.0      1\n",
       "3 -79.000000  19.000000  5332.0      1\n",
       "4 -77.463867  17.856054    90.0      1"
      ]
     },
     "execution_count": 72,
     "metadata": {},
     "output_type": "execute_result"
    }
   ],
   "source": [
    "grd.head()"
   ]
  },
  {
   "cell_type": "markdown",
   "metadata": {},
   "source": [
    "## Combine Tessellation"
   ]
  },
  {
   "cell_type": "markdown",
   "metadata": {},
   "source": [
    "### for one core"
   ]
  },
  {
   "cell_type": "code",
   "execution_count": 73,
   "metadata": {},
   "outputs": [
    {
     "data": {
      "text/html": [
       "<div>\n",
       "<style scoped>\n",
       "    .dataframe tbody tr th:only-of-type {\n",
       "        vertical-align: middle;\n",
       "    }\n",
       "\n",
       "    .dataframe tbody tr th {\n",
       "        vertical-align: top;\n",
       "    }\n",
       "\n",
       "    .dataframe thead th {\n",
       "        text-align: right;\n",
       "    }\n",
       "</style>\n",
       "<table border=\"1\" class=\"dataframe\">\n",
       "  <thead>\n",
       "    <tr style=\"text-align: right;\">\n",
       "      <th></th>\n",
       "      <th>global_n</th>\n",
       "    </tr>\n",
       "    <tr>\n",
       "      <th>local</th>\n",
       "      <th></th>\n",
       "    </tr>\n",
       "  </thead>\n",
       "  <tbody>\n",
       "    <tr>\n",
       "      <th>1</th>\n",
       "      <td>218</td>\n",
       "    </tr>\n",
       "    <tr>\n",
       "      <th>2</th>\n",
       "      <td>220</td>\n",
       "    </tr>\n",
       "    <tr>\n",
       "      <th>3</th>\n",
       "      <td>355</td>\n",
       "    </tr>\n",
       "    <tr>\n",
       "      <th>4</th>\n",
       "      <td>293</td>\n",
       "    </tr>\n",
       "    <tr>\n",
       "      <th>5</th>\n",
       "      <td>305</td>\n",
       "    </tr>\n",
       "  </tbody>\n",
       "</table>\n",
       "</div>"
      ],
      "text/plain": [
       "       global_n\n",
       "local          \n",
       "1           218\n",
       "2           220\n",
       "3           355\n",
       "4           293\n",
       "5           305"
      ]
     },
     "execution_count": 73,
     "metadata": {},
     "output_type": "execute_result"
    }
   ],
   "source": [
    "node0 = nodes.loc['core0000'].copy() # make a copy of the first core\n",
    "node0 = node0.set_index('local') # reset the index using the local values (in essense set the index to start from 1...)\n",
    "node0.head()"
   ]
  },
  {
   "cell_type": "code",
   "execution_count": 74,
   "metadata": {},
   "outputs": [
    {
     "data": {
      "text/plain": [
       "local       115\n",
       "global_n    407\n",
       "dtype: int64"
      ]
     },
     "execution_count": 74,
     "metadata": {},
     "output_type": "execute_result"
    }
   ],
   "source": [
    "nodes.max()"
   ]
  },
  {
   "cell_type": "code",
   "execution_count": 75,
   "metadata": {},
   "outputs": [
    {
     "data": {
      "text/html": [
       "<div>\n",
       "<style scoped>\n",
       "    .dataframe tbody tr th:only-of-type {\n",
       "        vertical-align: middle;\n",
       "    }\n",
       "\n",
       "    .dataframe tbody tr th {\n",
       "        vertical-align: top;\n",
       "    }\n",
       "\n",
       "    .dataframe thead th {\n",
       "        text-align: right;\n",
       "    }\n",
       "</style>\n",
       "<table border=\"1\" class=\"dataframe\">\n",
       "  <thead>\n",
       "    <tr style=\"text-align: right;\">\n",
       "      <th></th>\n",
       "      <th>type</th>\n",
       "      <th>a</th>\n",
       "      <th>b</th>\n",
       "      <th>c</th>\n",
       "    </tr>\n",
       "  </thead>\n",
       "  <tbody>\n",
       "    <tr>\n",
       "      <th>0</th>\n",
       "      <td>3</td>\n",
       "      <td>1</td>\n",
       "      <td>2</td>\n",
       "      <td>3</td>\n",
       "    </tr>\n",
       "    <tr>\n",
       "      <th>1</th>\n",
       "      <td>3</td>\n",
       "      <td>4</td>\n",
       "      <td>5</td>\n",
       "      <td>6</td>\n",
       "    </tr>\n",
       "    <tr>\n",
       "      <th>2</th>\n",
       "      <td>3</td>\n",
       "      <td>7</td>\n",
       "      <td>8</td>\n",
       "      <td>9</td>\n",
       "    </tr>\n",
       "    <tr>\n",
       "      <th>3</th>\n",
       "      <td>3</td>\n",
       "      <td>10</td>\n",
       "      <td>11</td>\n",
       "      <td>12</td>\n",
       "    </tr>\n",
       "    <tr>\n",
       "      <th>4</th>\n",
       "      <td>3</td>\n",
       "      <td>13</td>\n",
       "      <td>14</td>\n",
       "      <td>15</td>\n",
       "    </tr>\n",
       "  </tbody>\n",
       "</table>\n",
       "</div>"
      ],
      "text/plain": [
       "   type   a   b   c\n",
       "0     3   1   2   3\n",
       "1     3   4   5   6\n",
       "2     3   7   8   9\n",
       "3     3  10  11  12\n",
       "4     3  13  14  15"
      ]
     },
     "execution_count": 75,
     "metadata": {},
     "output_type": "execute_result"
    }
   ],
   "source": [
    "tri0=tri.loc['core0000'].copy() # copy the tri dataframe for the first node\n",
    "tri0.head()"
   ]
  },
  {
   "cell_type": "code",
   "execution_count": 76,
   "metadata": {},
   "outputs": [],
   "source": [
    "tri0.loc[:,'ga'] = node0.reindex(tri0['a'].values).values # create a new column where the local indices are replaced by the global ones "
   ]
  },
  {
   "cell_type": "code",
   "execution_count": 77,
   "metadata": {},
   "outputs": [
    {
     "data": {
      "text/html": [
       "<div>\n",
       "<style scoped>\n",
       "    .dataframe tbody tr th:only-of-type {\n",
       "        vertical-align: middle;\n",
       "    }\n",
       "\n",
       "    .dataframe tbody tr th {\n",
       "        vertical-align: top;\n",
       "    }\n",
       "\n",
       "    .dataframe thead th {\n",
       "        text-align: right;\n",
       "    }\n",
       "</style>\n",
       "<table border=\"1\" class=\"dataframe\">\n",
       "  <thead>\n",
       "    <tr style=\"text-align: right;\">\n",
       "      <th></th>\n",
       "      <th>type</th>\n",
       "      <th>a</th>\n",
       "      <th>b</th>\n",
       "      <th>c</th>\n",
       "      <th>ga</th>\n",
       "      <th>gb</th>\n",
       "      <th>gc</th>\n",
       "    </tr>\n",
       "  </thead>\n",
       "  <tbody>\n",
       "    <tr>\n",
       "      <th>0</th>\n",
       "      <td>3</td>\n",
       "      <td>1</td>\n",
       "      <td>2</td>\n",
       "      <td>3</td>\n",
       "      <td>218</td>\n",
       "      <td>220</td>\n",
       "      <td>355</td>\n",
       "    </tr>\n",
       "    <tr>\n",
       "      <th>1</th>\n",
       "      <td>3</td>\n",
       "      <td>4</td>\n",
       "      <td>5</td>\n",
       "      <td>6</td>\n",
       "      <td>293</td>\n",
       "      <td>305</td>\n",
       "      <td>390</td>\n",
       "    </tr>\n",
       "    <tr>\n",
       "      <th>2</th>\n",
       "      <td>3</td>\n",
       "      <td>7</td>\n",
       "      <td>8</td>\n",
       "      <td>9</td>\n",
       "      <td>403</td>\n",
       "      <td>306</td>\n",
       "      <td>406</td>\n",
       "    </tr>\n",
       "    <tr>\n",
       "      <th>3</th>\n",
       "      <td>3</td>\n",
       "      <td>10</td>\n",
       "      <td>11</td>\n",
       "      <td>12</td>\n",
       "      <td>52</td>\n",
       "      <td>13</td>\n",
       "      <td>169</td>\n",
       "    </tr>\n",
       "    <tr>\n",
       "      <th>4</th>\n",
       "      <td>3</td>\n",
       "      <td>13</td>\n",
       "      <td>14</td>\n",
       "      <td>15</td>\n",
       "      <td>64</td>\n",
       "      <td>99</td>\n",
       "      <td>118</td>\n",
       "    </tr>\n",
       "  </tbody>\n",
       "</table>\n",
       "</div>"
      ],
      "text/plain": [
       "   type   a   b   c   ga   gb   gc\n",
       "0     3   1   2   3  218  220  355\n",
       "1     3   4   5   6  293  305  390\n",
       "2     3   7   8   9  403  306  406\n",
       "3     3  10  11  12   52   13  169\n",
       "4     3  13  14  15   64   99  118"
      ]
     },
     "execution_count": 77,
     "metadata": {},
     "output_type": "execute_result"
    }
   ],
   "source": [
    "#repeat for all elements' nodes\n",
    "tri0.loc[:,'gb'] = node0.reindex(tri0['b'].values).values\n",
    "tri0.loc[:,'gc'] = node0.reindex(tri0['c'].values).values\n",
    "tri0.head()"
   ]
  },
  {
   "cell_type": "markdown",
   "metadata": {},
   "source": [
    "### for all cores"
   ]
  },
  {
   "cell_type": "code",
   "execution_count": 78,
   "metadata": {},
   "outputs": [],
   "source": [
    "#repeat for all cores\n",
    "for key in keys:\n",
    "    nod = nodes.loc[key].copy() # make a copy of the the core\n",
    "    nod = nod.set_index('local') # reset the index using the local values (in essense set the index to start from 1...)\n",
    "    tri.loc[key,'ga'] = nod.reindex(tri.loc[key,'a'].values).values\n",
    "    tri.loc[key,'gb'] = nod.reindex(tri.loc[key,'b'].values).values\n",
    "    tri.loc[key,'gc'] = nod.reindex(tri.loc[key,'c'].values).values"
   ]
  },
  {
   "cell_type": "code",
   "execution_count": 79,
   "metadata": {},
   "outputs": [],
   "source": [
    "tri.loc[:,'ga'] = tri.loc[:,'ga'].apply(pd.to_numeric(int)) # make integer\n",
    "tri.loc[:,'gb'] = tri.loc[:,'gb'].apply(pd.to_numeric(int)) # make integer\n",
    "tri.loc[:,'gc'] = tri.loc[:,'gc'].apply(pd.to_numeric(int)) # make integer"
   ]
  },
  {
   "cell_type": "code",
   "execution_count": 80,
   "metadata": {},
   "outputs": [
    {
     "data": {
      "text/plain": [
       "type      3\n",
       "a       115\n",
       "b       113\n",
       "c       114\n",
       "ga      403\n",
       "gb      404\n",
       "gc      407\n",
       "dtype: int64"
      ]
     },
     "execution_count": 80,
     "metadata": {},
     "output_type": "execute_result"
    }
   ],
   "source": [
    "tri.max()"
   ]
  },
  {
   "cell_type": "code",
   "execution_count": 81,
   "metadata": {},
   "outputs": [
    {
     "data": {
      "text/html": [
       "<div>\n",
       "<style scoped>\n",
       "    .dataframe tbody tr th:only-of-type {\n",
       "        vertical-align: middle;\n",
       "    }\n",
       "\n",
       "    .dataframe tbody tr th {\n",
       "        vertical-align: top;\n",
       "    }\n",
       "\n",
       "    .dataframe thead th {\n",
       "        text-align: right;\n",
       "    }\n",
       "</style>\n",
       "<table border=\"1\" class=\"dataframe\">\n",
       "  <thead>\n",
       "    <tr style=\"text-align: right;\">\n",
       "      <th></th>\n",
       "      <th></th>\n",
       "      <th>ga</th>\n",
       "      <th>gb</th>\n",
       "      <th>gc</th>\n",
       "    </tr>\n",
       "  </thead>\n",
       "  <tbody>\n",
       "    <tr>\n",
       "      <th rowspan=\"5\" valign=\"top\">core0000</th>\n",
       "      <th>0</th>\n",
       "      <td>218</td>\n",
       "      <td>220</td>\n",
       "      <td>355</td>\n",
       "    </tr>\n",
       "    <tr>\n",
       "      <th>1</th>\n",
       "      <td>293</td>\n",
       "      <td>305</td>\n",
       "      <td>390</td>\n",
       "    </tr>\n",
       "    <tr>\n",
       "      <th>2</th>\n",
       "      <td>403</td>\n",
       "      <td>306</td>\n",
       "      <td>406</td>\n",
       "    </tr>\n",
       "    <tr>\n",
       "      <th>3</th>\n",
       "      <td>52</td>\n",
       "      <td>13</td>\n",
       "      <td>169</td>\n",
       "    </tr>\n",
       "    <tr>\n",
       "      <th>4</th>\n",
       "      <td>64</td>\n",
       "      <td>99</td>\n",
       "      <td>118</td>\n",
       "    </tr>\n",
       "  </tbody>\n",
       "</table>\n",
       "</div>"
      ],
      "text/plain": [
       "             ga   gb   gc\n",
       "core0000 0  218  220  355\n",
       "         1  293  305  390\n",
       "         2  403  306  406\n",
       "         3   52   13  169\n",
       "         4   64   99  118"
      ]
     },
     "execution_count": 81,
     "metadata": {},
     "output_type": "execute_result"
    }
   ],
   "source": [
    "#keep the global indices\n",
    "gtri = tri.loc[:,['ga','gb','gc']]\n",
    "gtri.head()"
   ]
  },
  {
   "cell_type": "markdown",
   "metadata": {},
   "source": [
    "### Check Orientation of elements"
   ]
  },
  {
   "cell_type": "code",
   "execution_count": 82,
   "metadata": {},
   "outputs": [
    {
     "data": {
      "text/html": [
       "<div>\n",
       "<style scoped>\n",
       "    .dataframe tbody tr th:only-of-type {\n",
       "        vertical-align: middle;\n",
       "    }\n",
       "\n",
       "    .dataframe tbody tr th {\n",
       "        vertical-align: top;\n",
       "    }\n",
       "\n",
       "    .dataframe thead th {\n",
       "        text-align: right;\n",
       "    }\n",
       "</style>\n",
       "<table border=\"1\" class=\"dataframe\">\n",
       "  <thead>\n",
       "    <tr style=\"text-align: right;\">\n",
       "      <th></th>\n",
       "      <th>level_0</th>\n",
       "      <th>level_1</th>\n",
       "      <th>ga</th>\n",
       "      <th>gb</th>\n",
       "      <th>gc</th>\n",
       "    </tr>\n",
       "  </thead>\n",
       "  <tbody>\n",
       "    <tr>\n",
       "      <th>0</th>\n",
       "      <td>core0000</td>\n",
       "      <td>0</td>\n",
       "      <td>218</td>\n",
       "      <td>220</td>\n",
       "      <td>355</td>\n",
       "    </tr>\n",
       "    <tr>\n",
       "      <th>1</th>\n",
       "      <td>core0000</td>\n",
       "      <td>1</td>\n",
       "      <td>293</td>\n",
       "      <td>305</td>\n",
       "      <td>390</td>\n",
       "    </tr>\n",
       "    <tr>\n",
       "      <th>2</th>\n",
       "      <td>core0000</td>\n",
       "      <td>2</td>\n",
       "      <td>403</td>\n",
       "      <td>306</td>\n",
       "      <td>406</td>\n",
       "    </tr>\n",
       "    <tr>\n",
       "      <th>3</th>\n",
       "      <td>core0000</td>\n",
       "      <td>3</td>\n",
       "      <td>52</td>\n",
       "      <td>13</td>\n",
       "      <td>169</td>\n",
       "    </tr>\n",
       "    <tr>\n",
       "      <th>4</th>\n",
       "      <td>core0000</td>\n",
       "      <td>4</td>\n",
       "      <td>64</td>\n",
       "      <td>99</td>\n",
       "      <td>118</td>\n",
       "    </tr>\n",
       "  </tbody>\n",
       "</table>\n",
       "</div>"
      ],
      "text/plain": [
       "    level_0  level_1   ga   gb   gc\n",
       "0  core0000        0  218  220  355\n",
       "1  core0000        1  293  305  390\n",
       "2  core0000        2  403  306  406\n",
       "3  core0000        3   52   13  169\n",
       "4  core0000        4   64   99  118"
      ]
     },
     "execution_count": 82,
     "metadata": {},
     "output_type": "execute_result"
    }
   ],
   "source": [
    "#make a copy of gtri\n",
    "gt = gtri.copy()\n",
    "#gt.index = gt.index.droplevel() # drop multi-index\n",
    "gt = gt.reset_index()\n",
    "gt.head()"
   ]
  },
  {
   "cell_type": "code",
   "execution_count": 83,
   "metadata": {},
   "outputs": [],
   "source": [
    "# We expand the tri dataframe to include lon,lat columns\n",
    "gt.loc[:,'x1'] = grd.loc[gt['ga'].values - 1 ,'lon'].values # -1 for python convention\n",
    "gt.loc[:,'y1'] = grd.loc[gt['ga'].values - 1,'lat'].values\n",
    "\n",
    "gt.loc[:,'x2'] = grd.loc[gt['gb'].values - 1,'lon'].values\n",
    "gt.loc[:,'y2'] = grd.loc[gt['gb'].values - 1,'lat'].values\n",
    "\n",
    "gt.loc[:,'x3'] = grd.loc[gt['gc'].values - 1,'lon'].values\n",
    "gt.loc[:,'y3'] = grd.loc[gt['gc'].values - 1,'lat'].values"
   ]
  },
  {
   "cell_type": "code",
   "execution_count": 84,
   "metadata": {},
   "outputs": [],
   "source": [
    "#compute the value to establish orientation\n",
    "gt['val'] = (gt['y2'] - gt['y1']) * (gt['x3'] - gt['x2']) - (gt['x2'] - gt['x1']) * (gt['y3'] - gt['y2'])"
   ]
  },
  {
   "cell_type": "code",
   "execution_count": 85,
   "metadata": {},
   "outputs": [
    {
     "data": {
      "text/html": [
       "<div>\n",
       "<style scoped>\n",
       "    .dataframe tbody tr th:only-of-type {\n",
       "        vertical-align: middle;\n",
       "    }\n",
       "\n",
       "    .dataframe tbody tr th {\n",
       "        vertical-align: top;\n",
       "    }\n",
       "\n",
       "    .dataframe thead th {\n",
       "        text-align: right;\n",
       "    }\n",
       "</style>\n",
       "<table border=\"1\" class=\"dataframe\">\n",
       "  <thead>\n",
       "    <tr style=\"text-align: right;\">\n",
       "      <th></th>\n",
       "      <th>level_0</th>\n",
       "      <th>level_1</th>\n",
       "      <th>ga</th>\n",
       "      <th>gb</th>\n",
       "      <th>gc</th>\n",
       "      <th>x1</th>\n",
       "      <th>y1</th>\n",
       "      <th>x2</th>\n",
       "      <th>y2</th>\n",
       "      <th>x3</th>\n",
       "      <th>y3</th>\n",
       "      <th>val</th>\n",
       "    </tr>\n",
       "  </thead>\n",
       "  <tbody>\n",
       "    <tr>\n",
       "      <th>0</th>\n",
       "      <td>core0000</td>\n",
       "      <td>0</td>\n",
       "      <td>218</td>\n",
       "      <td>220</td>\n",
       "      <td>355</td>\n",
       "      <td>-78.240143</td>\n",
       "      <td>17.926964</td>\n",
       "      <td>-78.295212</td>\n",
       "      <td>17.828188</td>\n",
       "      <td>-78.185257</td>\n",
       "      <td>17.831535</td>\n",
       "      <td>-0.010677</td>\n",
       "    </tr>\n",
       "    <tr>\n",
       "      <th>1</th>\n",
       "      <td>core0000</td>\n",
       "      <td>1</td>\n",
       "      <td>293</td>\n",
       "      <td>305</td>\n",
       "      <td>390</td>\n",
       "      <td>-78.566040</td>\n",
       "      <td>17.382647</td>\n",
       "      <td>-78.505302</td>\n",
       "      <td>17.517424</td>\n",
       "      <td>-78.631928</td>\n",
       "      <td>17.480579</td>\n",
       "      <td>-0.014828</td>\n",
       "    </tr>\n",
       "    <tr>\n",
       "      <th>2</th>\n",
       "      <td>core0000</td>\n",
       "      <td>2</td>\n",
       "      <td>403</td>\n",
       "      <td>306</td>\n",
       "      <td>406</td>\n",
       "      <td>-78.074883</td>\n",
       "      <td>18.012617</td>\n",
       "      <td>-78.132156</td>\n",
       "      <td>17.923574</td>\n",
       "      <td>-78.031494</td>\n",
       "      <td>17.922298</td>\n",
       "      <td>-0.009036</td>\n",
       "    </tr>\n",
       "    <tr>\n",
       "      <th>3</th>\n",
       "      <td>core0000</td>\n",
       "      <td>3</td>\n",
       "      <td>52</td>\n",
       "      <td>13</td>\n",
       "      <td>169</td>\n",
       "      <td>-78.033897</td>\n",
       "      <td>17.000000</td>\n",
       "      <td>-77.871216</td>\n",
       "      <td>17.000000</td>\n",
       "      <td>-77.953705</td>\n",
       "      <td>17.130636</td>\n",
       "      <td>-0.021252</td>\n",
       "    </tr>\n",
       "    <tr>\n",
       "      <th>4</th>\n",
       "      <td>core0000</td>\n",
       "      <td>4</td>\n",
       "      <td>64</td>\n",
       "      <td>99</td>\n",
       "      <td>118</td>\n",
       "      <td>-78.471001</td>\n",
       "      <td>17.000000</td>\n",
       "      <td>-78.334709</td>\n",
       "      <td>17.000000</td>\n",
       "      <td>-78.409302</td>\n",
       "      <td>17.139154</td>\n",
       "      <td>-0.018966</td>\n",
       "    </tr>\n",
       "  </tbody>\n",
       "</table>\n",
       "</div>"
      ],
      "text/plain": [
       "    level_0  level_1   ga   gb   gc         x1         y1         x2  \\\n",
       "0  core0000        0  218  220  355 -78.240143  17.926964 -78.295212   \n",
       "1  core0000        1  293  305  390 -78.566040  17.382647 -78.505302   \n",
       "2  core0000        2  403  306  406 -78.074883  18.012617 -78.132156   \n",
       "3  core0000        3   52   13  169 -78.033897  17.000000 -77.871216   \n",
       "4  core0000        4   64   99  118 -78.471001  17.000000 -78.334709   \n",
       "\n",
       "          y2         x3         y3       val  \n",
       "0  17.828188 -78.185257  17.831535 -0.010677  \n",
       "1  17.517424 -78.631928  17.480579 -0.014828  \n",
       "2  17.923574 -78.031494  17.922298 -0.009036  \n",
       "3  17.000000 -77.953705  17.130636 -0.021252  \n",
       "4  17.000000 -78.409302  17.139154 -0.018966  "
      ]
     },
     "execution_count": 85,
     "metadata": {},
     "output_type": "execute_result"
    }
   ],
   "source": [
    "gt.head()"
   ]
  },
  {
   "cell_type": "code",
   "execution_count": 86,
   "metadata": {},
   "outputs": [
    {
     "data": {
      "text/html": [
       "<div>\n",
       "<style scoped>\n",
       "    .dataframe tbody tr th:only-of-type {\n",
       "        vertical-align: middle;\n",
       "    }\n",
       "\n",
       "    .dataframe tbody tr th {\n",
       "        vertical-align: top;\n",
       "    }\n",
       "\n",
       "    .dataframe thead th {\n",
       "        text-align: right;\n",
       "    }\n",
       "</style>\n",
       "<table border=\"1\" class=\"dataframe\">\n",
       "  <thead>\n",
       "    <tr style=\"text-align: right;\">\n",
       "      <th></th>\n",
       "      <th>level_0</th>\n",
       "      <th>level_1</th>\n",
       "      <th>ga</th>\n",
       "      <th>gb</th>\n",
       "      <th>gc</th>\n",
       "      <th>x1</th>\n",
       "      <th>y1</th>\n",
       "      <th>x2</th>\n",
       "      <th>y2</th>\n",
       "      <th>x3</th>\n",
       "      <th>y3</th>\n",
       "      <th>val</th>\n",
       "    </tr>\n",
       "  </thead>\n",
       "  <tbody>\n",
       "  </tbody>\n",
       "</table>\n",
       "</div>"
      ],
      "text/plain": [
       "Empty DataFrame\n",
       "Columns: [level_0, level_1, ga, gb, gc, x1, y1, x2, y2, x3, y3, val]\n",
       "Index: []"
      ]
     },
     "execution_count": 86,
     "metadata": {},
     "output_type": "execute_result"
    }
   ],
   "source": [
    "# Make all elements with anti-clockwise orientation\n",
    "gt.loc[gt.val > 0] # clockwise that need to be reshuffled"
   ]
  },
  {
   "cell_type": "code",
   "execution_count": 87,
   "metadata": {},
   "outputs": [],
   "source": [
    "gt2 = gt.copy() # make a copy\n",
    "\n",
    "#swap values 2,3 to change orientation\n",
    "gt2.loc[gt2.val > 0, 'gb'] = gt.loc[gt.val > 0, 'gc'].values.astype(int)\n",
    "\n",
    "gt2.loc[gt2.val > 0, 'gc'] = gt.loc[gt.val > 0, 'gb'].values.astype(int)"
   ]
  },
  {
   "cell_type": "code",
   "execution_count": 88,
   "metadata": {},
   "outputs": [],
   "source": [
    "#update the orientation refs again to verify\n",
    "gt2.loc[:,'x1'] = grd.loc[gt2['ga'].values - 1,'lon'].values\n",
    "gt2.loc[:,'y1'] = grd.loc[gt2['ga'].values - 1,'lat'].values\n",
    "\n",
    "gt2.loc[:,'x2'] = grd.loc[gt2['gb'].values - 1,'lon'].values\n",
    "gt2.loc[:,'y2'] = grd.loc[gt2['gb'].values - 1,'lat'].values\n",
    "\n",
    "gt2.loc[:,'x3'] = grd.loc[gt2['gc'].values - 1,'lon'].values\n",
    "gt2.loc[:,'y3'] = grd.loc[gt2['gc'].values - 1,'lat'].values\n",
    "\n",
    "gt2['val'] = (gt2['y2'] - gt2['y1']) * (gt2['x3'] - gt2['x2']) - (gt2['x2'] - gt2['x1']) * (gt2['y3'] - gt2['y2'])"
   ]
  },
  {
   "cell_type": "code",
   "execution_count": 89,
   "metadata": {},
   "outputs": [
    {
     "data": {
      "text/html": [
       "<div>\n",
       "<style scoped>\n",
       "    .dataframe tbody tr th:only-of-type {\n",
       "        vertical-align: middle;\n",
       "    }\n",
       "\n",
       "    .dataframe tbody tr th {\n",
       "        vertical-align: top;\n",
       "    }\n",
       "\n",
       "    .dataframe thead th {\n",
       "        text-align: right;\n",
       "    }\n",
       "</style>\n",
       "<table border=\"1\" class=\"dataframe\">\n",
       "  <thead>\n",
       "    <tr style=\"text-align: right;\">\n",
       "      <th></th>\n",
       "      <th>level_0</th>\n",
       "      <th>level_1</th>\n",
       "      <th>ga</th>\n",
       "      <th>gb</th>\n",
       "      <th>gc</th>\n",
       "      <th>x1</th>\n",
       "      <th>y1</th>\n",
       "      <th>x2</th>\n",
       "      <th>y2</th>\n",
       "      <th>x3</th>\n",
       "      <th>y3</th>\n",
       "      <th>val</th>\n",
       "    </tr>\n",
       "  </thead>\n",
       "  <tbody>\n",
       "  </tbody>\n",
       "</table>\n",
       "</div>"
      ],
      "text/plain": [
       "Empty DataFrame\n",
       "Columns: [level_0, level_1, ga, gb, gc, x1, y1, x2, y2, x3, y3, val]\n",
       "Index: []"
      ]
     },
     "execution_count": 89,
     "metadata": {},
     "output_type": "execute_result"
    }
   ],
   "source": [
    "gt2.loc[gt2.val > 0] #check"
   ]
  },
  {
   "cell_type": "code",
   "execution_count": 90,
   "metadata": {},
   "outputs": [],
   "source": [
    "# Now we need to put them in order based on the global index in elems\n",
    "#gt2.index = elems.global_n.values # we set the index equal to the global_n column"
   ]
  },
  {
   "cell_type": "code",
   "execution_count": 91,
   "metadata": {},
   "outputs": [],
   "source": [
    "#gt2 = gt2.sort_index()\n",
    "#gt2.head()"
   ]
  },
  {
   "cell_type": "markdown",
   "metadata": {},
   "source": [
    "### Check grid (plot)"
   ]
  },
  {
   "cell_type": "code",
   "execution_count": 92,
   "metadata": {},
   "outputs": [],
   "source": [
    "tri3 = tri.xs(['ga','gb','gc'], axis=1, drop_level=True).values\n",
    "tri3 = tri3 - 1 # python index"
   ]
  },
  {
   "cell_type": "code",
   "execution_count": 93,
   "metadata": {},
   "outputs": [
    {
     "data": {
      "text/plain": [
       "array([[217, 219, 354],\n",
       "       [292, 304, 389],\n",
       "       [402, 305, 405],\n",
       "       ...,\n",
       "       [126, 203, 269],\n",
       "       [164, 256, 325],\n",
       "       [282, 281, 314]])"
      ]
     },
     "execution_count": 93,
     "metadata": {},
     "output_type": "execute_result"
    }
   ],
   "source": [
    "tri3"
   ]
  },
  {
   "cell_type": "code",
   "execution_count": 94,
   "metadata": {},
   "outputs": [
    {
     "data": {
      "text/plain": [
       "406"
      ]
     },
     "execution_count": 94,
     "metadata": {},
     "output_type": "execute_result"
    }
   ],
   "source": [
    "tri3.max()"
   ]
  },
  {
   "cell_type": "code",
   "execution_count": 95,
   "metadata": {
    "scrolled": false
   },
   "outputs": [
    {
     "data": {
      "image/png": "[encoded data removed]",
      "text/plain": [
       "<Figure size 864x720 with 1 Axes>"
      ]
     },
     "metadata": {},
     "output_type": "display_data"
    }
   ],
   "source": [
    "plt.figure(figsize=(12,10))\n",
    "plt.scatter(grd.lon.values, grd.lat.values)\n",
    "plt.triplot(grd.lon.values, grd.lat.values, tri3, 'go-', lw=.5, markersize=5 )\n",
    "\n",
    "\n",
    "plt.show()"
   ]
  },
  {
   "cell_type": "markdown",
   "metadata": {},
   "source": [
    "### Sort elements"
   ]
  },
  {
   "cell_type": "code",
   "execution_count": 96,
   "metadata": {},
   "outputs": [],
   "source": [
    "gt3 = tri.loc[:,['ga','gb','gc']].copy() # make a copy\n",
    "gt3.index = gt3.index.droplevel() # drop multi-index\n",
    "gt3 = gt3.reset_index(drop=True)"
   ]
  },
  {
   "cell_type": "code",
   "execution_count": 97,
   "metadata": {},
   "outputs": [],
   "source": [
    "# Now we need to put them in order based on the global index in elems\n",
    "gt3.index = elems.global_n.values # we set the index equal to the global_n column"
   ]
  },
  {
   "cell_type": "code",
   "execution_count": 98,
   "metadata": {},
   "outputs": [],
   "source": [
    "gt3 = gt3.sort_index() #sort them"
   ]
  },
  {
   "cell_type": "code",
   "execution_count": 99,
   "metadata": {},
   "outputs": [],
   "source": [
    "#add nan column in place of the fourth node. This needs to be tested for quadrilaterals\n",
    "gt3['gd']=np.nan"
   ]
  },
  {
   "cell_type": "code",
   "execution_count": 100,
   "metadata": {
    "scrolled": true
   },
   "outputs": [
    {
     "data": {
      "text/html": [
       "<div>\n",
       "<style scoped>\n",
       "    .dataframe tbody tr th:only-of-type {\n",
       "        vertical-align: middle;\n",
       "    }\n",
       "\n",
       "    .dataframe tbody tr th {\n",
       "        vertical-align: top;\n",
       "    }\n",
       "\n",
       "    .dataframe thead th {\n",
       "        text-align: right;\n",
       "    }\n",
       "</style>\n",
       "<table border=\"1\" class=\"dataframe\">\n",
       "  <thead>\n",
       "    <tr style=\"text-align: right;\">\n",
       "      <th></th>\n",
       "      <th>ga</th>\n",
       "      <th>gb</th>\n",
       "      <th>gc</th>\n",
       "      <th>gd</th>\n",
       "    </tr>\n",
       "  </thead>\n",
       "  <tbody>\n",
       "    <tr>\n",
       "      <th>1</th>\n",
       "      <td>298</td>\n",
       "      <td>163</td>\n",
       "      <td>329</td>\n",
       "      <td>NaN</td>\n",
       "    </tr>\n",
       "    <tr>\n",
       "      <th>2</th>\n",
       "      <td>218</td>\n",
       "      <td>220</td>\n",
       "      <td>355</td>\n",
       "      <td>NaN</td>\n",
       "    </tr>\n",
       "    <tr>\n",
       "      <th>3</th>\n",
       "      <td>293</td>\n",
       "      <td>305</td>\n",
       "      <td>390</td>\n",
       "      <td>NaN</td>\n",
       "    </tr>\n",
       "    <tr>\n",
       "      <th>4</th>\n",
       "      <td>148</td>\n",
       "      <td>42</td>\n",
       "      <td>174</td>\n",
       "      <td>NaN</td>\n",
       "    </tr>\n",
       "    <tr>\n",
       "      <th>5</th>\n",
       "      <td>138</td>\n",
       "      <td>184</td>\n",
       "      <td>395</td>\n",
       "      <td>NaN</td>\n",
       "    </tr>\n",
       "  </tbody>\n",
       "</table>\n",
       "</div>"
      ],
      "text/plain": [
       "    ga   gb   gc  gd\n",
       "1  298  163  329 NaN\n",
       "2  218  220  355 NaN\n",
       "3  293  305  390 NaN\n",
       "4  148   42  174 NaN\n",
       "5  138  184  395 NaN"
      ]
     },
     "execution_count": 100,
     "metadata": {},
     "output_type": "execute_result"
    }
   ],
   "source": [
    "gt3.head()"
   ]
  },
  {
   "cell_type": "code",
   "execution_count": 101,
   "metadata": {},
   "outputs": [],
   "source": [
    "gt3 = gt3.reset_index() # reset to add more columns without problems"
   ]
  },
  {
   "cell_type": "code",
   "execution_count": 102,
   "metadata": {},
   "outputs": [
    {
     "data": {
      "text/html": [
       "<div>\n",
       "<style scoped>\n",
       "    .dataframe tbody tr th:only-of-type {\n",
       "        vertical-align: middle;\n",
       "    }\n",
       "\n",
       "    .dataframe tbody tr th {\n",
       "        vertical-align: top;\n",
       "    }\n",
       "\n",
       "    .dataframe thead th {\n",
       "        text-align: right;\n",
       "    }\n",
       "</style>\n",
       "<table border=\"1\" class=\"dataframe\">\n",
       "  <thead>\n",
       "    <tr style=\"text-align: right;\">\n",
       "      <th></th>\n",
       "      <th>index</th>\n",
       "      <th>ga</th>\n",
       "      <th>gb</th>\n",
       "      <th>gc</th>\n",
       "      <th>gd</th>\n",
       "      <th>x1</th>\n",
       "      <th>y1</th>\n",
       "      <th>x2</th>\n",
       "      <th>y2</th>\n",
       "      <th>x3</th>\n",
       "      <th>y3</th>\n",
       "      <th>xc</th>\n",
       "      <th>yc</th>\n",
       "    </tr>\n",
       "  </thead>\n",
       "  <tbody>\n",
       "    <tr>\n",
       "      <th>0</th>\n",
       "      <td>1</td>\n",
       "      <td>298</td>\n",
       "      <td>163</td>\n",
       "      <td>329</td>\n",
       "      <td>NaN</td>\n",
       "      <td>-78.612152</td>\n",
       "      <td>18.719635</td>\n",
       "      <td>-78.726959</td>\n",
       "      <td>18.837126</td>\n",
       "      <td>-78.745728</td>\n",
       "      <td>18.665728</td>\n",
       "      <td>-78.694946</td>\n",
       "      <td>18.740829</td>\n",
       "    </tr>\n",
       "    <tr>\n",
       "      <th>1</th>\n",
       "      <td>2</td>\n",
       "      <td>218</td>\n",
       "      <td>220</td>\n",
       "      <td>355</td>\n",
       "      <td>NaN</td>\n",
       "      <td>-78.240143</td>\n",
       "      <td>17.926964</td>\n",
       "      <td>-78.295212</td>\n",
       "      <td>17.828188</td>\n",
       "      <td>-78.185257</td>\n",
       "      <td>17.831535</td>\n",
       "      <td>-78.240204</td>\n",
       "      <td>17.862229</td>\n",
       "    </tr>\n",
       "    <tr>\n",
       "      <th>2</th>\n",
       "      <td>3</td>\n",
       "      <td>293</td>\n",
       "      <td>305</td>\n",
       "      <td>390</td>\n",
       "      <td>NaN</td>\n",
       "      <td>-78.566040</td>\n",
       "      <td>17.382647</td>\n",
       "      <td>-78.505302</td>\n",
       "      <td>17.517424</td>\n",
       "      <td>-78.631928</td>\n",
       "      <td>17.480579</td>\n",
       "      <td>-78.567757</td>\n",
       "      <td>17.460217</td>\n",
       "    </tr>\n",
       "    <tr>\n",
       "      <th>3</th>\n",
       "      <td>4</td>\n",
       "      <td>148</td>\n",
       "      <td>42</td>\n",
       "      <td>174</td>\n",
       "      <td>NaN</td>\n",
       "      <td>-77.254791</td>\n",
       "      <td>18.876709</td>\n",
       "      <td>-77.337639</td>\n",
       "      <td>19.000000</td>\n",
       "      <td>-77.422920</td>\n",
       "      <td>18.866097</td>\n",
       "      <td>-77.338450</td>\n",
       "      <td>18.914269</td>\n",
       "    </tr>\n",
       "    <tr>\n",
       "      <th>4</th>\n",
       "      <td>5</td>\n",
       "      <td>138</td>\n",
       "      <td>184</td>\n",
       "      <td>395</td>\n",
       "      <td>NaN</td>\n",
       "      <td>-76.227386</td>\n",
       "      <td>17.808346</td>\n",
       "      <td>-76.117416</td>\n",
       "      <td>17.707579</td>\n",
       "      <td>-76.100327</td>\n",
       "      <td>17.825298</td>\n",
       "      <td>-76.148376</td>\n",
       "      <td>17.780408</td>\n",
       "    </tr>\n",
       "  </tbody>\n",
       "</table>\n",
       "</div>"
      ],
      "text/plain": [
       "   index   ga   gb   gc  gd         x1         y1         x2         y2  \\\n",
       "0      1  298  163  329 NaN -78.612152  18.719635 -78.726959  18.837126   \n",
       "1      2  218  220  355 NaN -78.240143  17.926964 -78.295212  17.828188   \n",
       "2      3  293  305  390 NaN -78.566040  17.382647 -78.505302  17.517424   \n",
       "3      4  148   42  174 NaN -77.254791  18.876709 -77.337639  19.000000   \n",
       "4      5  138  184  395 NaN -76.227386  17.808346 -76.117416  17.707579   \n",
       "\n",
       "          x3         y3         xc         yc  \n",
       "0 -78.745728  18.665728 -78.694946  18.740829  \n",
       "1 -78.185257  17.831535 -78.240204  17.862229  \n",
       "2 -78.631928  17.480579 -78.567757  17.460217  \n",
       "3 -77.422920  18.866097 -77.338450  18.914269  \n",
       "4 -76.100327  17.825298 -76.148376  17.780408  "
      ]
     },
     "execution_count": 102,
     "metadata": {},
     "output_type": "execute_result"
    }
   ],
   "source": [
    "## Add mean x, y of the elememts. To be used in the output\n",
    "gt3['x1'] = grd.loc[gt3['ga'].values - 1, 'lon'].values #lon of the index, -1 for python convention\n",
    "gt3['y1'] = grd.loc[gt3['ga'].values - 1, 'lat'].values #lat of the index\n",
    "gt3['x2'] = grd.loc[gt3['gb'].values - 1, 'lon'].values\n",
    "gt3['y2'] = grd.loc[gt3['gb'].values - 1, 'lat'].values\n",
    "gt3['x3'] = grd.loc[gt3['gc'].values - 1, 'lon'].values\n",
    "gt3['y3'] = grd.loc[gt3['gc'].values - 1, 'lat'].values\n",
    "\n",
    "\n",
    "gt3['xc'] =  gt3[['x1', 'x2', 'x3']].mean(axis=1) #mean lon of the element\n",
    "gt3['yc'] =  gt3[['y1', 'y2', 'y3']].mean(axis=1)\n",
    "gt3.head()"
   ]
  },
  {
   "cell_type": "code",
   "execution_count": 103,
   "metadata": {},
   "outputs": [],
   "source": [
    "## min kbe\n",
    "gt3['kbe1'] = grd.loc[gt3['ga'] - 1,'kbp00'].values\n",
    "gt3['kbe2'] = grd.loc[gt3['gb'] - 1,'kbp00'].values\n",
    "gt3['kbe3'] = grd.loc[gt3['gc'] - 1,'kbp00'].values\n",
    "#gt3['kbe4'] = grd.loc[gt3['gd'],'kbp00'].values\n",
    "\n",
    "gt3['kbe'] = gt3[['kbe1', 'kbe2', 'kbe3']].min(axis=1)"
   ]
  },
  {
   "cell_type": "code",
   "execution_count": 104,
   "metadata": {},
   "outputs": [],
   "source": [
    "gt3 = gt3.set_index('index') # set index back "
   ]
  },
  {
   "cell_type": "code",
   "execution_count": 105,
   "metadata": {},
   "outputs": [],
   "source": [
    "gt34 = gt3.loc[:,['ga','gb','gc','gd']].values # SCHISM_hgrid_face_nodes"
   ]
  },
  {
   "cell_type": "code",
   "execution_count": 106,
   "metadata": {},
   "outputs": [
    {
     "data": {
      "text/plain": [
       "True"
      ]
     },
     "execution_count": 106,
     "metadata": {},
     "output_type": "execute_result"
    }
   ],
   "source": [
    "np.array_equal(gt3.values[:,:3],grf.SCHISM_hgrid_face_nodes.values[:,:3]) # check with autocombine_MPI_elfe.pl values"
   ]
  },
  {
   "cell_type": "markdown",
   "metadata": {},
   "source": [
    "## Grid's Edges"
   ]
  },
  {
   "cell_type": "code",
   "execution_count": 107,
   "metadata": {},
   "outputs": [
    {
     "data": {
      "text/html": [
       "<div>\n",
       "<style scoped>\n",
       "    .dataframe tbody tr th:only-of-type {\n",
       "        vertical-align: middle;\n",
       "    }\n",
       "\n",
       "    .dataframe tbody tr th {\n",
       "        vertical-align: top;\n",
       "    }\n",
       "\n",
       "    .dataframe thead th {\n",
       "        text-align: right;\n",
       "    }\n",
       "</style>\n",
       "<table border=\"1\" class=\"dataframe\">\n",
       "  <thead>\n",
       "    <tr style=\"text-align: right;\">\n",
       "      <th></th>\n",
       "      <th></th>\n",
       "      <th>local</th>\n",
       "      <th>global_n</th>\n",
       "    </tr>\n",
       "  </thead>\n",
       "  <tbody>\n",
       "    <tr>\n",
       "      <th rowspan=\"5\" valign=\"top\">core0000</th>\n",
       "      <th>0</th>\n",
       "      <td>1</td>\n",
       "      <td>4</td>\n",
       "    </tr>\n",
       "    <tr>\n",
       "      <th>1</th>\n",
       "      <td>2</td>\n",
       "      <td>5</td>\n",
       "    </tr>\n",
       "    <tr>\n",
       "      <th>2</th>\n",
       "      <td>3</td>\n",
       "      <td>6</td>\n",
       "    </tr>\n",
       "    <tr>\n",
       "      <th>3</th>\n",
       "      <td>4</td>\n",
       "      <td>7</td>\n",
       "    </tr>\n",
       "    <tr>\n",
       "      <th>4</th>\n",
       "      <td>5</td>\n",
       "      <td>8</td>\n",
       "    </tr>\n",
       "  </tbody>\n",
       "</table>\n",
       "</div>"
      ],
      "text/plain": [
       "            local  global_n\n",
       "core0000 0      1         4\n",
       "         1      2         5\n",
       "         2      3         6\n",
       "         3      4         7\n",
       "         4      5         8"
      ]
     },
     "execution_count": 107,
     "metadata": {},
     "output_type": "execute_result"
    }
   ],
   "source": [
    "re.head() #indices for edges"
   ]
  },
  {
   "cell_type": "code",
   "execution_count": 108,
   "metadata": {},
   "outputs": [],
   "source": [
    "edges = re.loc[re.global_n.drop_duplicates().index] # keep only one of the duplicates"
   ]
  },
  {
   "cell_type": "code",
   "execution_count": 109,
   "metadata": {},
   "outputs": [
    {
     "data": {
      "text/html": [
       "<div>\n",
       "<style scoped>\n",
       "    .dataframe tbody tr th:only-of-type {\n",
       "        vertical-align: middle;\n",
       "    }\n",
       "\n",
       "    .dataframe tbody tr th {\n",
       "        vertical-align: top;\n",
       "    }\n",
       "\n",
       "    .dataframe thead th {\n",
       "        text-align: right;\n",
       "    }\n",
       "</style>\n",
       "<table border=\"1\" class=\"dataframe\">\n",
       "  <thead>\n",
       "    <tr style=\"text-align: right;\">\n",
       "      <th></th>\n",
       "      <th></th>\n",
       "      <th>local</th>\n",
       "      <th>global_n</th>\n",
       "    </tr>\n",
       "  </thead>\n",
       "  <tbody>\n",
       "    <tr>\n",
       "      <th rowspan=\"5\" valign=\"top\">core0000</th>\n",
       "      <th>0</th>\n",
       "      <td>1</td>\n",
       "      <td>4</td>\n",
       "    </tr>\n",
       "    <tr>\n",
       "      <th>1</th>\n",
       "      <td>2</td>\n",
       "      <td>5</td>\n",
       "    </tr>\n",
       "    <tr>\n",
       "      <th>2</th>\n",
       "      <td>3</td>\n",
       "      <td>6</td>\n",
       "    </tr>\n",
       "    <tr>\n",
       "      <th>3</th>\n",
       "      <td>4</td>\n",
       "      <td>7</td>\n",
       "    </tr>\n",
       "    <tr>\n",
       "      <th>4</th>\n",
       "      <td>5</td>\n",
       "      <td>8</td>\n",
       "    </tr>\n",
       "  </tbody>\n",
       "</table>\n",
       "</div>"
      ],
      "text/plain": [
       "            local  global_n\n",
       "core0000 0      1         4\n",
       "         1      2         5\n",
       "         2      3         6\n",
       "         3      4         7\n",
       "         4      5         8"
      ]
     },
     "execution_count": 109,
     "metadata": {},
     "output_type": "execute_result"
    }
   ],
   "source": [
    "edges.head()"
   ]
  },
  {
   "cell_type": "code",
   "execution_count": 110,
   "metadata": {},
   "outputs": [
    {
     "data": {
      "text/plain": [
       "(1109, 2)"
      ]
     },
     "execution_count": 110,
     "metadata": {},
     "output_type": "execute_result"
    }
   ],
   "source": [
    "edges.shape"
   ]
  },
  {
   "cell_type": "markdown",
   "metadata": {},
   "source": [
    "Apparently it goes [b,c], [c,a], [a,b] for some reason ?"
   ]
  },
  {
   "cell_type": "code",
   "execution_count": 111,
   "metadata": {},
   "outputs": [
    {
     "name": "stdout",
     "output_type": "stream",
     "text": [
      "(2106, 2)\n"
     ]
    },
    {
     "data": {
      "text/plain": [
       "array([[220, 355],\n",
       "       [355, 218],\n",
       "       [218, 220],\n",
       "       ...,\n",
       "       [282, 315],\n",
       "       [315, 283],\n",
       "       [283, 282]])"
      ]
     },
     "execution_count": 111,
     "metadata": {},
     "output_type": "execute_result"
    }
   ],
   "source": [
    "edgs=[]\n",
    "for key in keys:\n",
    "    for [ga,gb,gc] in tri.loc[key,['ga','gb','gc']].values:\n",
    "        edgs.append([gb,gc])\n",
    "        edgs.append([gc,ga])\n",
    "        edgs.append([ga,gb])\n",
    "        \n",
    "edgs = np.array(edgs)\n",
    "print edgs.shape\n",
    "edgs"
   ]
  },
  {
   "cell_type": "code",
   "execution_count": 112,
   "metadata": {},
   "outputs": [
    {
     "data": {
      "text/html": [
       "<div>\n",
       "<style scoped>\n",
       "    .dataframe tbody tr th:only-of-type {\n",
       "        vertical-align: middle;\n",
       "    }\n",
       "\n",
       "    .dataframe tbody tr th {\n",
       "        vertical-align: top;\n",
       "    }\n",
       "\n",
       "    .dataframe thead th {\n",
       "        text-align: right;\n",
       "    }\n",
       "</style>\n",
       "<table border=\"1\" class=\"dataframe\">\n",
       "  <thead>\n",
       "    <tr style=\"text-align: right;\">\n",
       "      <th></th>\n",
       "      <th>0</th>\n",
       "      <th>1</th>\n",
       "    </tr>\n",
       "  </thead>\n",
       "  <tbody>\n",
       "    <tr>\n",
       "      <th>0</th>\n",
       "      <td>220</td>\n",
       "      <td>355</td>\n",
       "    </tr>\n",
       "    <tr>\n",
       "      <th>1</th>\n",
       "      <td>355</td>\n",
       "      <td>218</td>\n",
       "    </tr>\n",
       "    <tr>\n",
       "      <th>2</th>\n",
       "      <td>218</td>\n",
       "      <td>220</td>\n",
       "    </tr>\n",
       "    <tr>\n",
       "      <th>3</th>\n",
       "      <td>305</td>\n",
       "      <td>390</td>\n",
       "    </tr>\n",
       "    <tr>\n",
       "      <th>4</th>\n",
       "      <td>390</td>\n",
       "      <td>293</td>\n",
       "    </tr>\n",
       "  </tbody>\n",
       "</table>\n",
       "</div>"
      ],
      "text/plain": [
       "     0    1\n",
       "0  220  355\n",
       "1  355  218\n",
       "2  218  220\n",
       "3  305  390\n",
       "4  390  293"
      ]
     },
     "execution_count": 112,
     "metadata": {},
     "output_type": "execute_result"
    }
   ],
   "source": [
    "edgs = pd.DataFrame(edgs)#make a pandas DataFrame\n",
    "edgs.head()"
   ]
  },
  {
   "cell_type": "code",
   "execution_count": 113,
   "metadata": {},
   "outputs": [
    {
     "data": {
      "text/plain": [
       "((2106, 2), (1109,))"
      ]
     },
     "execution_count": 113,
     "metadata": {},
     "output_type": "execute_result"
    }
   ],
   "source": [
    "edgs.shape, edges.global_n.values.shape # difference due to duplicates"
   ]
  },
  {
   "cell_type": "code",
   "execution_count": 114,
   "metadata": {},
   "outputs": [
    {
     "name": "stdout",
     "output_type": "stream",
     "text": [
      "(1109, 2)\n"
     ]
    },
    {
     "data": {
      "text/html": [
       "<div>\n",
       "<style scoped>\n",
       "    .dataframe tbody tr th:only-of-type {\n",
       "        vertical-align: middle;\n",
       "    }\n",
       "\n",
       "    .dataframe tbody tr th {\n",
       "        vertical-align: top;\n",
       "    }\n",
       "\n",
       "    .dataframe thead th {\n",
       "        text-align: right;\n",
       "    }\n",
       "</style>\n",
       "<table border=\"1\" class=\"dataframe\">\n",
       "  <thead>\n",
       "    <tr style=\"text-align: right;\">\n",
       "      <th></th>\n",
       "      <th>0</th>\n",
       "      <th>1</th>\n",
       "    </tr>\n",
       "  </thead>\n",
       "  <tbody>\n",
       "    <tr>\n",
       "      <th>0</th>\n",
       "      <td>220</td>\n",
       "      <td>355</td>\n",
       "    </tr>\n",
       "    <tr>\n",
       "      <th>1</th>\n",
       "      <td>218</td>\n",
       "      <td>355</td>\n",
       "    </tr>\n",
       "    <tr>\n",
       "      <th>2</th>\n",
       "      <td>218</td>\n",
       "      <td>220</td>\n",
       "    </tr>\n",
       "    <tr>\n",
       "      <th>3</th>\n",
       "      <td>305</td>\n",
       "      <td>390</td>\n",
       "    </tr>\n",
       "    <tr>\n",
       "      <th>4</th>\n",
       "      <td>293</td>\n",
       "      <td>390</td>\n",
       "    </tr>\n",
       "  </tbody>\n",
       "</table>\n",
       "</div>"
      ],
      "text/plain": [
       "     0    1\n",
       "0  220  355\n",
       "1  218  355\n",
       "2  218  220\n",
       "3  305  390\n",
       "4  293  390"
      ]
     },
     "execution_count": 114,
     "metadata": {},
     "output_type": "execute_result"
    }
   ],
   "source": [
    "edgs1 = edgs.apply(sorted, axis=1).drop_duplicates()\n",
    "print edgs1.shape # correct shape\n",
    "edgs1.head()"
   ]
  },
  {
   "cell_type": "code",
   "execution_count": 115,
   "metadata": {},
   "outputs": [],
   "source": [
    "# Now we need to put them in order based on the global index in edges\n",
    "edgs1.index = edges.global_n.values # we set the index equal to the global_n column"
   ]
  },
  {
   "cell_type": "code",
   "execution_count": 116,
   "metadata": {},
   "outputs": [],
   "source": [
    "# .. and we sort\n",
    "edgs1 = edgs1.sort_index()"
   ]
  },
  {
   "cell_type": "code",
   "execution_count": 117,
   "metadata": {},
   "outputs": [
    {
     "data": {
      "text/plain": [
       "True"
      ]
     },
     "execution_count": 117,
     "metadata": {},
     "output_type": "execute_result"
    }
   ],
   "source": [
    "np.array_equal(edgs1.apply(sorted, axis=1).values, np.sort(grf.SCHISM_hgrid_edge_nodes.values)) # they are the same, but the orientation?"
   ]
  },
  {
   "cell_type": "code",
   "execution_count": 118,
   "metadata": {},
   "outputs": [
    {
     "data": {
      "text/plain": [
       "False"
      ]
     },
     "execution_count": 118,
     "metadata": {},
     "output_type": "execute_result"
    }
   ],
   "source": [
    "np.array_equal(edgs1.values, grf.SCHISM_hgrid_edge_nodes.values) # they are the same, but the orientation is wrong?"
   ]
  },
  {
   "cell_type": "code",
   "execution_count": 119,
   "metadata": {},
   "outputs": [
    {
     "data": {
      "text/plain": [
       "(1060, 2)"
      ]
     },
     "execution_count": 119,
     "metadata": {},
     "output_type": "execute_result"
    }
   ],
   "source": [
    "np.argwhere(edgs1.values != grf.SCHISM_hgrid_edge_nodes.values).shape #in many locations"
   ]
  },
  {
   "cell_type": "markdown",
   "metadata": {},
   "source": [
    "### Start again with one core"
   ]
  },
  {
   "cell_type": "code",
   "execution_count": 120,
   "metadata": {},
   "outputs": [
    {
     "data": {
      "text/html": [
       "<div>\n",
       "<style scoped>\n",
       "    .dataframe tbody tr th:only-of-type {\n",
       "        vertical-align: middle;\n",
       "    }\n",
       "\n",
       "    .dataframe tbody tr th {\n",
       "        vertical-align: top;\n",
       "    }\n",
       "\n",
       "    .dataframe thead th {\n",
       "        text-align: right;\n",
       "    }\n",
       "</style>\n",
       "<table border=\"1\" class=\"dataframe\">\n",
       "  <thead>\n",
       "    <tr style=\"text-align: right;\">\n",
       "      <th></th>\n",
       "      <th>0</th>\n",
       "      <th>1</th>\n",
       "    </tr>\n",
       "  </thead>\n",
       "  <tbody>\n",
       "    <tr>\n",
       "      <th>0</th>\n",
       "      <td>220</td>\n",
       "      <td>355</td>\n",
       "    </tr>\n",
       "    <tr>\n",
       "      <th>1</th>\n",
       "      <td>355</td>\n",
       "      <td>218</td>\n",
       "    </tr>\n",
       "    <tr>\n",
       "      <th>2</th>\n",
       "      <td>218</td>\n",
       "      <td>220</td>\n",
       "    </tr>\n",
       "    <tr>\n",
       "      <th>3</th>\n",
       "      <td>305</td>\n",
       "      <td>390</td>\n",
       "    </tr>\n",
       "    <tr>\n",
       "      <th>4</th>\n",
       "      <td>390</td>\n",
       "      <td>293</td>\n",
       "    </tr>\n",
       "  </tbody>\n",
       "</table>\n",
       "</div>"
      ],
      "text/plain": [
       "     0    1\n",
       "0  220  355\n",
       "1  355  218\n",
       "2  218  220\n",
       "3  305  390\n",
       "4  390  293"
      ]
     },
     "execution_count": 120,
     "metadata": {},
     "output_type": "execute_result"
    }
   ],
   "source": [
    "edgs0=[]\n",
    "for [ga,gb,gc] in tri.loc['core0000',['ga','gb','gc']].values:\n",
    "        edgs0.append([gb,gc])\n",
    "        edgs0.append([gc,ga])\n",
    "        edgs0.append([ga,gb])\n",
    "        \n",
    "edgs0 = np.array(edgs0)\n",
    "\n",
    "edgs0 = pd.DataFrame(edgs0)#make a pandas DataFrame\n",
    "edgs0.head()"
   ]
  },
  {
   "cell_type": "code",
   "execution_count": 121,
   "metadata": {},
   "outputs": [
    {
     "data": {
      "text/plain": [
       "((522, 2), (280, 2))"
      ]
     },
     "execution_count": 121,
     "metadata": {},
     "output_type": "execute_result"
    }
   ],
   "source": [
    "edgs0.shape, re.loc['core0000'].shape # different because of duplication"
   ]
  },
  {
   "cell_type": "markdown",
   "metadata": {},
   "source": [
    "We see that the global edge index is less than the edges because there are duplicates in the form of [a, b],[b, a]."
   ]
  },
  {
   "cell_type": "code",
   "execution_count": 122,
   "metadata": {},
   "outputs": [],
   "source": [
    "idsd = edgs0[edgs0.apply(sorted, axis=1).duplicated()].index.values # find the duplicates"
   ]
  },
  {
   "cell_type": "code",
   "execution_count": 123,
   "metadata": {},
   "outputs": [],
   "source": [
    "edges01 = edgs0.drop(idsd) #drop them "
   ]
  },
  {
   "cell_type": "code",
   "execution_count": 124,
   "metadata": {},
   "outputs": [],
   "source": [
    "#apply the global index\n",
    "edges01.index = re.loc['core0000','global_n'].values"
   ]
  },
  {
   "cell_type": "code",
   "execution_count": 125,
   "metadata": {},
   "outputs": [
    {
     "data": {
      "text/html": [
       "<div>\n",
       "<style scoped>\n",
       "    .dataframe tbody tr th:only-of-type {\n",
       "        vertical-align: middle;\n",
       "    }\n",
       "\n",
       "    .dataframe tbody tr th {\n",
       "        vertical-align: top;\n",
       "    }\n",
       "\n",
       "    .dataframe thead th {\n",
       "        text-align: right;\n",
       "    }\n",
       "</style>\n",
       "<table border=\"1\" class=\"dataframe\">\n",
       "  <thead>\n",
       "    <tr style=\"text-align: right;\">\n",
       "      <th></th>\n",
       "      <th>0</th>\n",
       "      <th>1</th>\n",
       "    </tr>\n",
       "  </thead>\n",
       "  <tbody>\n",
       "    <tr>\n",
       "      <th>4</th>\n",
       "      <td>220</td>\n",
       "      <td>355</td>\n",
       "    </tr>\n",
       "    <tr>\n",
       "      <th>5</th>\n",
       "      <td>355</td>\n",
       "      <td>218</td>\n",
       "    </tr>\n",
       "    <tr>\n",
       "      <th>6</th>\n",
       "      <td>218</td>\n",
       "      <td>220</td>\n",
       "    </tr>\n",
       "    <tr>\n",
       "      <th>7</th>\n",
       "      <td>305</td>\n",
       "      <td>390</td>\n",
       "    </tr>\n",
       "    <tr>\n",
       "      <th>8</th>\n",
       "      <td>390</td>\n",
       "      <td>293</td>\n",
       "    </tr>\n",
       "  </tbody>\n",
       "</table>\n",
       "</div>"
      ],
      "text/plain": [
       "     0    1\n",
       "4  220  355\n",
       "5  355  218\n",
       "6  218  220\n",
       "7  305  390\n",
       "8  390  293"
      ]
     },
     "execution_count": 125,
     "metadata": {},
     "output_type": "execute_result"
    }
   ],
   "source": [
    "edges01.head()"
   ]
  },
  {
   "cell_type": "code",
   "execution_count": 126,
   "metadata": {},
   "outputs": [],
   "source": [
    "edges01.loc[:,2] = grf.SCHISM_hgrid_edge_nodes.values[edges01.index.values-1,0] # add to the dataframe the correct results for comparison\n",
    "edges01.loc[:,3] = grf.SCHISM_hgrid_edge_nodes.values[edges01.index.values-1,1]"
   ]
  },
  {
   "cell_type": "code",
   "execution_count": 127,
   "metadata": {},
   "outputs": [
    {
     "data": {
      "text/html": [
       "<div>\n",
       "<style scoped>\n",
       "    .dataframe tbody tr th:only-of-type {\n",
       "        vertical-align: middle;\n",
       "    }\n",
       "\n",
       "    .dataframe tbody tr th {\n",
       "        vertical-align: top;\n",
       "    }\n",
       "\n",
       "    .dataframe thead th {\n",
       "        text-align: right;\n",
       "    }\n",
       "</style>\n",
       "<table border=\"1\" class=\"dataframe\">\n",
       "  <thead>\n",
       "    <tr style=\"text-align: right;\">\n",
       "      <th></th>\n",
       "      <th>0</th>\n",
       "      <th>1</th>\n",
       "      <th>2</th>\n",
       "      <th>3</th>\n",
       "    </tr>\n",
       "  </thead>\n",
       "  <tbody>\n",
       "    <tr>\n",
       "      <th>223</th>\n",
       "      <td>169</td>\n",
       "      <td>123</td>\n",
       "      <td>123</td>\n",
       "      <td>169</td>\n",
       "    </tr>\n",
       "    <tr>\n",
       "      <th>329</th>\n",
       "      <td>263</td>\n",
       "      <td>402</td>\n",
       "      <td>402</td>\n",
       "      <td>263</td>\n",
       "    </tr>\n",
       "    <tr>\n",
       "      <th>328</th>\n",
       "      <td>402</td>\n",
       "      <td>300</td>\n",
       "      <td>300</td>\n",
       "      <td>402</td>\n",
       "    </tr>\n",
       "    <tr>\n",
       "      <th>330</th>\n",
       "      <td>387</td>\n",
       "      <td>21</td>\n",
       "      <td>21</td>\n",
       "      <td>387</td>\n",
       "    </tr>\n",
       "    <tr>\n",
       "      <th>68</th>\n",
       "      <td>233</td>\n",
       "      <td>387</td>\n",
       "      <td>387</td>\n",
       "      <td>233</td>\n",
       "    </tr>\n",
       "    <tr>\n",
       "      <th>399</th>\n",
       "      <td>236</td>\n",
       "      <td>233</td>\n",
       "      <td>233</td>\n",
       "      <td>236</td>\n",
       "    </tr>\n",
       "    <tr>\n",
       "      <th>680</th>\n",
       "      <td>253</td>\n",
       "      <td>236</td>\n",
       "      <td>236</td>\n",
       "      <td>253</td>\n",
       "    </tr>\n",
       "    <tr>\n",
       "      <th>528</th>\n",
       "      <td>279</td>\n",
       "      <td>401</td>\n",
       "      <td>401</td>\n",
       "      <td>279</td>\n",
       "    </tr>\n",
       "    <tr>\n",
       "      <th>322</th>\n",
       "      <td>401</td>\n",
       "      <td>343</td>\n",
       "      <td>343</td>\n",
       "      <td>401</td>\n",
       "    </tr>\n",
       "    <tr>\n",
       "      <th>407</th>\n",
       "      <td>378</td>\n",
       "      <td>214</td>\n",
       "      <td>214</td>\n",
       "      <td>378</td>\n",
       "    </tr>\n",
       "    <tr>\n",
       "      <th>700</th>\n",
       "      <td>300</td>\n",
       "      <td>269</td>\n",
       "      <td>269</td>\n",
       "      <td>300</td>\n",
       "    </tr>\n",
       "  </tbody>\n",
       "</table>\n",
       "</div>"
      ],
      "text/plain": [
       "       0    1    2    3\n",
       "223  169  123  123  169\n",
       "329  263  402  402  263\n",
       "328  402  300  300  402\n",
       "330  387   21   21  387\n",
       "68   233  387  387  233\n",
       "399  236  233  233  236\n",
       "680  253  236  236  253\n",
       "528  279  401  401  279\n",
       "322  401  343  343  401\n",
       "407  378  214  214  378\n",
       "700  300  269  269  300"
      ]
     },
     "execution_count": 127,
     "metadata": {},
     "output_type": "execute_result"
    }
   ],
   "source": [
    "#compare with the correct solution\n",
    "edges01[edges01[0] != edges01[2]] # only a few differences"
   ]
  },
  {
   "cell_type": "markdown",
   "metadata": {},
   "source": [
    "### For all cores"
   ]
  },
  {
   "cell_type": "code",
   "execution_count": 128,
   "metadata": {},
   "outputs": [],
   "source": [
    "edk=[]\n",
    "for key in keys:\n",
    "    eds=[]\n",
    "    for [ga,gb,gc] in tri.loc[key,['ga','gb','gc']].values:\n",
    "        eds.append([gb,gc])\n",
    "        eds.append([gc,ga])\n",
    "        eds.append([ga,gb])\n",
    "        \n",
    "    eds = np.array(eds)\n",
    "\n",
    "    df = pd.DataFrame(eds)\n",
    "    idsd = df[df.apply(sorted, axis=1).duplicated()].index.values # find the duplicates\n",
    "    df_ = df.drop(idsd) #drop them \n",
    "    df_.index = re.loc[key,'global_n'].values\n",
    "    \n",
    "    edk.append(df_)#make a pandas DataFrame"
   ]
  },
  {
   "cell_type": "code",
   "execution_count": 129,
   "metadata": {},
   "outputs": [],
   "source": [
    "edgs = pd.concat(edk) # We concatenate, however there are dublicate indices ..."
   ]
  },
  {
   "cell_type": "code",
   "execution_count": 130,
   "metadata": {},
   "outputs": [
    {
     "data": {
      "text/plain": [
       "(1142, 2)"
      ]
     },
     "execution_count": 130,
     "metadata": {},
     "output_type": "execute_result"
    }
   ],
   "source": [
    "edgs.shape"
   ]
  },
  {
   "cell_type": "code",
   "execution_count": 131,
   "metadata": {},
   "outputs": [
    {
     "data": {
      "text/html": [
       "<div>\n",
       "<style scoped>\n",
       "    .dataframe tbody tr th:only-of-type {\n",
       "        vertical-align: middle;\n",
       "    }\n",
       "\n",
       "    .dataframe tbody tr th {\n",
       "        vertical-align: top;\n",
       "    }\n",
       "\n",
       "    .dataframe thead th {\n",
       "        text-align: right;\n",
       "    }\n",
       "</style>\n",
       "<table border=\"1\" class=\"dataframe\">\n",
       "  <thead>\n",
       "    <tr style=\"text-align: right;\">\n",
       "      <th></th>\n",
       "      <th>0</th>\n",
       "      <th>1</th>\n",
       "    </tr>\n",
       "  </thead>\n",
       "  <tbody>\n",
       "    <tr>\n",
       "      <th>55</th>\n",
       "      <td>13</td>\n",
       "      <td>169</td>\n",
       "    </tr>\n",
       "    <tr>\n",
       "      <th>80</th>\n",
       "      <td>343</td>\n",
       "      <td>253</td>\n",
       "    </tr>\n",
       "    <tr>\n",
       "      <th>123</th>\n",
       "      <td>214</td>\n",
       "      <td>190</td>\n",
       "    </tr>\n",
       "    <tr>\n",
       "      <th>183</th>\n",
       "      <td>190</td>\n",
       "      <td>75</td>\n",
       "    </tr>\n",
       "    <tr>\n",
       "      <th>293</th>\n",
       "      <td>269</td>\n",
       "      <td>378</td>\n",
       "    </tr>\n",
       "    <tr>\n",
       "      <th>343</th>\n",
       "      <td>123</td>\n",
       "      <td>279</td>\n",
       "    </tr>\n",
       "    <tr>\n",
       "      <th>223</th>\n",
       "      <td>169</td>\n",
       "      <td>123</td>\n",
       "    </tr>\n",
       "    <tr>\n",
       "      <th>329</th>\n",
       "      <td>263</td>\n",
       "      <td>402</td>\n",
       "    </tr>\n",
       "    <tr>\n",
       "      <th>328</th>\n",
       "      <td>402</td>\n",
       "      <td>300</td>\n",
       "    </tr>\n",
       "    <tr>\n",
       "      <th>807</th>\n",
       "      <td>111</td>\n",
       "      <td>140</td>\n",
       "    </tr>\n",
       "    <tr>\n",
       "      <th>330</th>\n",
       "      <td>387</td>\n",
       "      <td>21</td>\n",
       "    </tr>\n",
       "    <tr>\n",
       "      <th>68</th>\n",
       "      <td>233</td>\n",
       "      <td>387</td>\n",
       "    </tr>\n",
       "    <tr>\n",
       "      <th>970</th>\n",
       "      <td>140</td>\n",
       "      <td>263</td>\n",
       "    </tr>\n",
       "    <tr>\n",
       "      <th>399</th>\n",
       "      <td>236</td>\n",
       "      <td>233</td>\n",
       "    </tr>\n",
       "    <tr>\n",
       "      <th>680</th>\n",
       "      <td>253</td>\n",
       "      <td>236</td>\n",
       "    </tr>\n",
       "    <tr>\n",
       "      <th>528</th>\n",
       "      <td>279</td>\n",
       "      <td>401</td>\n",
       "    </tr>\n",
       "    <tr>\n",
       "      <th>322</th>\n",
       "      <td>401</td>\n",
       "      <td>343</td>\n",
       "    </tr>\n",
       "    <tr>\n",
       "      <th>407</th>\n",
       "      <td>378</td>\n",
       "      <td>214</td>\n",
       "    </tr>\n",
       "    <tr>\n",
       "      <th>700</th>\n",
       "      <td>300</td>\n",
       "      <td>269</td>\n",
       "    </tr>\n",
       "    <tr>\n",
       "      <th>78</th>\n",
       "      <td>197</td>\n",
       "      <td>335</td>\n",
       "    </tr>\n",
       "    <tr>\n",
       "      <th>328</th>\n",
       "      <td>300</td>\n",
       "      <td>402</td>\n",
       "    </tr>\n",
       "    <tr>\n",
       "      <th>329</th>\n",
       "      <td>402</td>\n",
       "      <td>263</td>\n",
       "    </tr>\n",
       "    <tr>\n",
       "      <th>123</th>\n",
       "      <td>190</td>\n",
       "      <td>214</td>\n",
       "    </tr>\n",
       "    <tr>\n",
       "      <th>407</th>\n",
       "      <td>214</td>\n",
       "      <td>378</td>\n",
       "    </tr>\n",
       "    <tr>\n",
       "      <th>508</th>\n",
       "      <td>71</td>\n",
       "      <td>197</td>\n",
       "    </tr>\n",
       "    <tr>\n",
       "      <th>293</th>\n",
       "      <td>378</td>\n",
       "      <td>269</td>\n",
       "    </tr>\n",
       "    <tr>\n",
       "      <th>700</th>\n",
       "      <td>269</td>\n",
       "      <td>300</td>\n",
       "    </tr>\n",
       "    <tr>\n",
       "      <th>183</th>\n",
       "      <td>75</td>\n",
       "      <td>190</td>\n",
       "    </tr>\n",
       "    <tr>\n",
       "      <th>510</th>\n",
       "      <td>180</td>\n",
       "      <td>60</td>\n",
       "    </tr>\n",
       "    <tr>\n",
       "      <th>970</th>\n",
       "      <td>263</td>\n",
       "      <td>140</td>\n",
       "    </tr>\n",
       "    <tr>\n",
       "      <th>...</th>\n",
       "      <td>...</td>\n",
       "      <td>...</td>\n",
       "    </tr>\n",
       "    <tr>\n",
       "      <th>128</th>\n",
       "      <td>143</td>\n",
       "      <td>166</td>\n",
       "    </tr>\n",
       "    <tr>\n",
       "      <th>130</th>\n",
       "      <td>26</td>\n",
       "      <td>143</td>\n",
       "    </tr>\n",
       "    <tr>\n",
       "      <th>223</th>\n",
       "      <td>123</td>\n",
       "      <td>169</td>\n",
       "    </tr>\n",
       "    <tr>\n",
       "      <th>55</th>\n",
       "      <td>169</td>\n",
       "      <td>13</td>\n",
       "    </tr>\n",
       "    <tr>\n",
       "      <th>250</th>\n",
       "      <td>316</td>\n",
       "      <td>315</td>\n",
       "    </tr>\n",
       "    <tr>\n",
       "      <th>322</th>\n",
       "      <td>343</td>\n",
       "      <td>401</td>\n",
       "    </tr>\n",
       "    <tr>\n",
       "      <th>330</th>\n",
       "      <td>21</td>\n",
       "      <td>387</td>\n",
       "    </tr>\n",
       "    <tr>\n",
       "      <th>399</th>\n",
       "      <td>233</td>\n",
       "      <td>236</td>\n",
       "    </tr>\n",
       "    <tr>\n",
       "      <th>515</th>\n",
       "      <td>315</td>\n",
       "      <td>282</td>\n",
       "    </tr>\n",
       "    <tr>\n",
       "      <th>528</th>\n",
       "      <td>401</td>\n",
       "      <td>279</td>\n",
       "    </tr>\n",
       "    <tr>\n",
       "      <th>343</th>\n",
       "      <td>279</td>\n",
       "      <td>123</td>\n",
       "    </tr>\n",
       "    <tr>\n",
       "      <th>602</th>\n",
       "      <td>332</td>\n",
       "      <td>316</td>\n",
       "    </tr>\n",
       "    <tr>\n",
       "      <th>680</th>\n",
       "      <td>236</td>\n",
       "      <td>253</td>\n",
       "    </tr>\n",
       "    <tr>\n",
       "      <th>174</th>\n",
       "      <td>282</td>\n",
       "      <td>167</td>\n",
       "    </tr>\n",
       "    <tr>\n",
       "      <th>80</th>\n",
       "      <td>253</td>\n",
       "      <td>343</td>\n",
       "    </tr>\n",
       "    <tr>\n",
       "      <th>61</th>\n",
       "      <td>167</td>\n",
       "      <td>94</td>\n",
       "    </tr>\n",
       "    <tr>\n",
       "      <th>61</th>\n",
       "      <td>94</td>\n",
       "      <td>167</td>\n",
       "    </tr>\n",
       "    <tr>\n",
       "      <th>174</th>\n",
       "      <td>167</td>\n",
       "      <td>282</td>\n",
       "    </tr>\n",
       "    <tr>\n",
       "      <th>298</th>\n",
       "      <td>180</td>\n",
       "      <td>280</td>\n",
       "    </tr>\n",
       "    <tr>\n",
       "      <th>508</th>\n",
       "      <td>197</td>\n",
       "      <td>71</td>\n",
       "    </tr>\n",
       "    <tr>\n",
       "      <th>510</th>\n",
       "      <td>60</td>\n",
       "      <td>180</td>\n",
       "    </tr>\n",
       "    <tr>\n",
       "      <th>78</th>\n",
       "      <td>335</td>\n",
       "      <td>197</td>\n",
       "    </tr>\n",
       "    <tr>\n",
       "      <th>120</th>\n",
       "      <td>234</td>\n",
       "      <td>166</td>\n",
       "    </tr>\n",
       "    <tr>\n",
       "      <th>128</th>\n",
       "      <td>166</td>\n",
       "      <td>143</td>\n",
       "    </tr>\n",
       "    <tr>\n",
       "      <th>250</th>\n",
       "      <td>315</td>\n",
       "      <td>316</td>\n",
       "    </tr>\n",
       "    <tr>\n",
       "      <th>995</th>\n",
       "      <td>280</td>\n",
       "      <td>335</td>\n",
       "    </tr>\n",
       "    <tr>\n",
       "      <th>602</th>\n",
       "      <td>316</td>\n",
       "      <td>332</td>\n",
       "    </tr>\n",
       "    <tr>\n",
       "      <th>118</th>\n",
       "      <td>332</td>\n",
       "      <td>234</td>\n",
       "    </tr>\n",
       "    <tr>\n",
       "      <th>130</th>\n",
       "      <td>143</td>\n",
       "      <td>26</td>\n",
       "    </tr>\n",
       "    <tr>\n",
       "      <th>515</th>\n",
       "      <td>282</td>\n",
       "      <td>315</td>\n",
       "    </tr>\n",
       "  </tbody>\n",
       "</table>\n",
       "<p>66 rows × 2 columns</p>\n",
       "</div>"
      ],
      "text/plain": [
       "       0    1\n",
       "55    13  169\n",
       "80   343  253\n",
       "123  214  190\n",
       "183  190   75\n",
       "293  269  378\n",
       "343  123  279\n",
       "223  169  123\n",
       "329  263  402\n",
       "328  402  300\n",
       "807  111  140\n",
       "330  387   21\n",
       "68   233  387\n",
       "970  140  263\n",
       "399  236  233\n",
       "680  253  236\n",
       "528  279  401\n",
       "322  401  343\n",
       "407  378  214\n",
       "700  300  269\n",
       "78   197  335\n",
       "328  300  402\n",
       "329  402  263\n",
       "123  190  214\n",
       "407  214  378\n",
       "508   71  197\n",
       "293  378  269\n",
       "700  269  300\n",
       "183   75  190\n",
       "510  180   60\n",
       "970  263  140\n",
       "..   ...  ...\n",
       "128  143  166\n",
       "130   26  143\n",
       "223  123  169\n",
       "55   169   13\n",
       "250  316  315\n",
       "322  343  401\n",
       "330   21  387\n",
       "399  233  236\n",
       "515  315  282\n",
       "528  401  279\n",
       "343  279  123\n",
       "602  332  316\n",
       "680  236  253\n",
       "174  282  167\n",
       "80   253  343\n",
       "61   167   94\n",
       "61    94  167\n",
       "174  167  282\n",
       "298  180  280\n",
       "508  197   71\n",
       "510   60  180\n",
       "78   335  197\n",
       "120  234  166\n",
       "128  166  143\n",
       "250  315  316\n",
       "995  280  335\n",
       "602  316  332\n",
       "118  332  234\n",
       "130  143   26\n",
       "515  282  315\n",
       "\n",
       "[66 rows x 2 columns]"
      ]
     },
     "execution_count": 131,
     "metadata": {},
     "output_type": "execute_result"
    }
   ],
   "source": [
    "edgs[edgs.index.duplicated(keep=False)]"
   ]
  },
  {
   "cell_type": "code",
   "execution_count": 132,
   "metadata": {},
   "outputs": [],
   "source": [
    "#see https://stackoverflow.com/questions/13035764/remove-rows-with-duplicate-indices-pandas-dataframe-and-timeseries\n",
    "edgs1 = edgs.reset_index().drop_duplicates(subset='index', keep='first').set_index('index') #drop duplicates "
   ]
  },
  {
   "cell_type": "code",
   "execution_count": 133,
   "metadata": {},
   "outputs": [
    {
     "data": {
      "text/plain": [
       "((1109, 2), (1109, 2))"
      ]
     },
     "execution_count": 133,
     "metadata": {},
     "output_type": "execute_result"
    }
   ],
   "source": [
    "edgs1.shape, grf.SCHISM_hgrid_edge_nodes.shape #check"
   ]
  },
  {
   "cell_type": "code",
   "execution_count": 134,
   "metadata": {},
   "outputs": [],
   "source": [
    "edgs1 = edgs1.sort_index() #sort index "
   ]
  },
  {
   "cell_type": "code",
   "execution_count": 135,
   "metadata": {},
   "outputs": [],
   "source": [
    "edgs1.loc[:,2] = grf.SCHISM_hgrid_edge_nodes.values[:,0] # add to the dataframe the correct results for comparison\n",
    "edgs1.loc[:,3] = grf.SCHISM_hgrid_edge_nodes.values[:,1]"
   ]
  },
  {
   "cell_type": "code",
   "execution_count": 136,
   "metadata": {
    "scrolled": true
   },
   "outputs": [
    {
     "data": {
      "text/html": [
       "<div>\n",
       "<style scoped>\n",
       "    .dataframe tbody tr th:only-of-type {\n",
       "        vertical-align: middle;\n",
       "    }\n",
       "\n",
       "    .dataframe tbody tr th {\n",
       "        vertical-align: top;\n",
       "    }\n",
       "\n",
       "    .dataframe thead th {\n",
       "        text-align: right;\n",
       "    }\n",
       "</style>\n",
       "<table border=\"1\" class=\"dataframe\">\n",
       "  <thead>\n",
       "    <tr style=\"text-align: right;\">\n",
       "      <th></th>\n",
       "      <th>0</th>\n",
       "      <th>1</th>\n",
       "      <th>2</th>\n",
       "      <th>3</th>\n",
       "    </tr>\n",
       "    <tr>\n",
       "      <th>index</th>\n",
       "      <th></th>\n",
       "      <th></th>\n",
       "      <th></th>\n",
       "      <th></th>\n",
       "    </tr>\n",
       "  </thead>\n",
       "  <tbody>\n",
       "    <tr>\n",
       "      <th>1</th>\n",
       "      <td>163</td>\n",
       "      <td>329</td>\n",
       "      <td>163</td>\n",
       "      <td>329</td>\n",
       "    </tr>\n",
       "    <tr>\n",
       "      <th>2</th>\n",
       "      <td>329</td>\n",
       "      <td>298</td>\n",
       "      <td>329</td>\n",
       "      <td>298</td>\n",
       "    </tr>\n",
       "    <tr>\n",
       "      <th>3</th>\n",
       "      <td>298</td>\n",
       "      <td>163</td>\n",
       "      <td>298</td>\n",
       "      <td>163</td>\n",
       "    </tr>\n",
       "    <tr>\n",
       "      <th>4</th>\n",
       "      <td>220</td>\n",
       "      <td>355</td>\n",
       "      <td>220</td>\n",
       "      <td>355</td>\n",
       "    </tr>\n",
       "    <tr>\n",
       "      <th>5</th>\n",
       "      <td>355</td>\n",
       "      <td>218</td>\n",
       "      <td>355</td>\n",
       "      <td>218</td>\n",
       "    </tr>\n",
       "  </tbody>\n",
       "</table>\n",
       "</div>"
      ],
      "text/plain": [
       "         0    1    2    3\n",
       "index                    \n",
       "1      163  329  163  329\n",
       "2      329  298  329  298\n",
       "3      298  163  298  163\n",
       "4      220  355  220  355\n",
       "5      355  218  355  218"
      ]
     },
     "execution_count": 136,
     "metadata": {},
     "output_type": "execute_result"
    }
   ],
   "source": [
    "edgs1.head()"
   ]
  },
  {
   "cell_type": "code",
   "execution_count": 137,
   "metadata": {},
   "outputs": [],
   "source": [
    "edgs1 = edgs1.reset_index() #reset index to add columns"
   ]
  },
  {
   "cell_type": "code",
   "execution_count": 138,
   "metadata": {},
   "outputs": [
    {
     "data": {
      "text/html": [
       "<div>\n",
       "<style scoped>\n",
       "    .dataframe tbody tr th:only-of-type {\n",
       "        vertical-align: middle;\n",
       "    }\n",
       "\n",
       "    .dataframe tbody tr th {\n",
       "        vertical-align: top;\n",
       "    }\n",
       "\n",
       "    .dataframe thead th {\n",
       "        text-align: right;\n",
       "    }\n",
       "</style>\n",
       "<table border=\"1\" class=\"dataframe\">\n",
       "  <thead>\n",
       "    <tr style=\"text-align: right;\">\n",
       "      <th></th>\n",
       "      <th>index</th>\n",
       "      <th>0</th>\n",
       "      <th>1</th>\n",
       "      <th>2</th>\n",
       "      <th>3</th>\n",
       "      <th>x1</th>\n",
       "      <th>y1</th>\n",
       "      <th>x2</th>\n",
       "      <th>y2</th>\n",
       "      <th>xc</th>\n",
       "      <th>yc</th>\n",
       "    </tr>\n",
       "  </thead>\n",
       "  <tbody>\n",
       "    <tr>\n",
       "      <th>0</th>\n",
       "      <td>1</td>\n",
       "      <td>163</td>\n",
       "      <td>329</td>\n",
       "      <td>163</td>\n",
       "      <td>329</td>\n",
       "      <td>-78.726959</td>\n",
       "      <td>18.837126</td>\n",
       "      <td>-78.745728</td>\n",
       "      <td>18.665728</td>\n",
       "      <td>-78.736343</td>\n",
       "      <td>18.751427</td>\n",
       "    </tr>\n",
       "    <tr>\n",
       "      <th>1</th>\n",
       "      <td>2</td>\n",
       "      <td>329</td>\n",
       "      <td>298</td>\n",
       "      <td>329</td>\n",
       "      <td>298</td>\n",
       "      <td>-78.745728</td>\n",
       "      <td>18.665728</td>\n",
       "      <td>-78.612152</td>\n",
       "      <td>18.719635</td>\n",
       "      <td>-78.678940</td>\n",
       "      <td>18.692681</td>\n",
       "    </tr>\n",
       "    <tr>\n",
       "      <th>2</th>\n",
       "      <td>3</td>\n",
       "      <td>298</td>\n",
       "      <td>163</td>\n",
       "      <td>298</td>\n",
       "      <td>163</td>\n",
       "      <td>-78.612152</td>\n",
       "      <td>18.719635</td>\n",
       "      <td>-78.726959</td>\n",
       "      <td>18.837126</td>\n",
       "      <td>-78.669556</td>\n",
       "      <td>18.778380</td>\n",
       "    </tr>\n",
       "    <tr>\n",
       "      <th>3</th>\n",
       "      <td>4</td>\n",
       "      <td>220</td>\n",
       "      <td>355</td>\n",
       "      <td>220</td>\n",
       "      <td>355</td>\n",
       "      <td>-78.295212</td>\n",
       "      <td>17.828188</td>\n",
       "      <td>-78.185257</td>\n",
       "      <td>17.831535</td>\n",
       "      <td>-78.240234</td>\n",
       "      <td>17.829862</td>\n",
       "    </tr>\n",
       "    <tr>\n",
       "      <th>4</th>\n",
       "      <td>5</td>\n",
       "      <td>355</td>\n",
       "      <td>218</td>\n",
       "      <td>355</td>\n",
       "      <td>218</td>\n",
       "      <td>-78.185257</td>\n",
       "      <td>17.831535</td>\n",
       "      <td>-78.240143</td>\n",
       "      <td>17.926964</td>\n",
       "      <td>-78.212700</td>\n",
       "      <td>17.879250</td>\n",
       "    </tr>\n",
       "  </tbody>\n",
       "</table>\n",
       "</div>"
      ],
      "text/plain": [
       "   index    0    1    2    3         x1         y1         x2         y2  \\\n",
       "0      1  163  329  163  329 -78.726959  18.837126 -78.745728  18.665728   \n",
       "1      2  329  298  329  298 -78.745728  18.665728 -78.612152  18.719635   \n",
       "2      3  298  163  298  163 -78.612152  18.719635 -78.726959  18.837126   \n",
       "3      4  220  355  220  355 -78.295212  17.828188 -78.185257  17.831535   \n",
       "4      5  355  218  355  218 -78.185257  17.831535 -78.240143  17.926964   \n",
       "\n",
       "          xc         yc  \n",
       "0 -78.736343  18.751427  \n",
       "1 -78.678940  18.692681  \n",
       "2 -78.669556  18.778380  \n",
       "3 -78.240234  17.829862  \n",
       "4 -78.212700  17.879250  "
      ]
     },
     "execution_count": 138,
     "metadata": {},
     "output_type": "execute_result"
    }
   ],
   "source": [
    "#mean x, y \n",
    "edgs1['x1'] = grd.loc[edgs1[0].values - 1, 'lon'].values #lon of the index, -1 for python convention\n",
    "edgs1['y1'] = grd.loc[edgs1[0].values - 1, 'lat'].values #lat of the index\n",
    "edgs1['x2'] = grd.loc[edgs1[1].values - 1, 'lon'].values\n",
    "edgs1['y2'] = grd.loc[edgs1[1].values - 1, 'lat'].values\n",
    " \n",
    "edgs1['xc'] =  edgs1[['x1', 'x2']].mean(axis=1) #mean of the edge index\n",
    "edgs1['yc'] =  edgs1[['y1', 'y2']].mean(axis=1)\n",
    "edgs1.head()"
   ]
  },
  {
   "cell_type": "code",
   "execution_count": 139,
   "metadata": {},
   "outputs": [
    {
     "data": {
      "text/html": [
       "<div>\n",
       "<style scoped>\n",
       "    .dataframe tbody tr th:only-of-type {\n",
       "        vertical-align: middle;\n",
       "    }\n",
       "\n",
       "    .dataframe tbody tr th {\n",
       "        vertical-align: top;\n",
       "    }\n",
       "\n",
       "    .dataframe thead th {\n",
       "        text-align: right;\n",
       "    }\n",
       "</style>\n",
       "<table border=\"1\" class=\"dataframe\">\n",
       "  <thead>\n",
       "    <tr style=\"text-align: right;\">\n",
       "      <th></th>\n",
       "      <th>index</th>\n",
       "      <th>0</th>\n",
       "      <th>1</th>\n",
       "      <th>2</th>\n",
       "      <th>3</th>\n",
       "      <th>x1</th>\n",
       "      <th>y1</th>\n",
       "      <th>x2</th>\n",
       "      <th>y2</th>\n",
       "      <th>xc</th>\n",
       "      <th>yc</th>\n",
       "    </tr>\n",
       "  </thead>\n",
       "  <tbody>\n",
       "    <tr>\n",
       "      <th>60</th>\n",
       "      <td>61</td>\n",
       "      <td>167</td>\n",
       "      <td>94</td>\n",
       "      <td>94</td>\n",
       "      <td>167</td>\n",
       "      <td>-76.576180</td>\n",
       "      <td>17.787008</td>\n",
       "      <td>-76.504166</td>\n",
       "      <td>17.866587</td>\n",
       "      <td>-76.540173</td>\n",
       "      <td>17.826797</td>\n",
       "    </tr>\n",
       "    <tr>\n",
       "      <th>67</th>\n",
       "      <td>68</td>\n",
       "      <td>233</td>\n",
       "      <td>387</td>\n",
       "      <td>387</td>\n",
       "      <td>233</td>\n",
       "      <td>-77.785370</td>\n",
       "      <td>17.683725</td>\n",
       "      <td>-77.823601</td>\n",
       "      <td>17.778366</td>\n",
       "      <td>-77.804485</td>\n",
       "      <td>17.731046</td>\n",
       "    </tr>\n",
       "    <tr>\n",
       "      <th>173</th>\n",
       "      <td>174</td>\n",
       "      <td>282</td>\n",
       "      <td>167</td>\n",
       "      <td>167</td>\n",
       "      <td>282</td>\n",
       "      <td>-76.534286</td>\n",
       "      <td>17.662857</td>\n",
       "      <td>-76.576180</td>\n",
       "      <td>17.787008</td>\n",
       "      <td>-76.555233</td>\n",
       "      <td>17.724933</td>\n",
       "    </tr>\n",
       "    <tr>\n",
       "      <th>222</th>\n",
       "      <td>223</td>\n",
       "      <td>169</td>\n",
       "      <td>123</td>\n",
       "      <td>123</td>\n",
       "      <td>169</td>\n",
       "      <td>-77.953705</td>\n",
       "      <td>17.130636</td>\n",
       "      <td>-77.792885</td>\n",
       "      <td>17.153307</td>\n",
       "      <td>-77.873295</td>\n",
       "      <td>17.141972</td>\n",
       "    </tr>\n",
       "    <tr>\n",
       "      <th>297</th>\n",
       "      <td>298</td>\n",
       "      <td>280</td>\n",
       "      <td>180</td>\n",
       "      <td>180</td>\n",
       "      <td>280</td>\n",
       "      <td>-77.174080</td>\n",
       "      <td>18.756838</td>\n",
       "      <td>-77.095207</td>\n",
       "      <td>18.870497</td>\n",
       "      <td>-77.134644</td>\n",
       "      <td>18.813667</td>\n",
       "    </tr>\n",
       "    <tr>\n",
       "      <th>321</th>\n",
       "      <td>322</td>\n",
       "      <td>401</td>\n",
       "      <td>343</td>\n",
       "      <td>343</td>\n",
       "      <td>401</td>\n",
       "      <td>-77.794792</td>\n",
       "      <td>17.288410</td>\n",
       "      <td>-77.855537</td>\n",
       "      <td>17.382608</td>\n",
       "      <td>-77.825165</td>\n",
       "      <td>17.335509</td>\n",
       "    </tr>\n",
       "    <tr>\n",
       "      <th>327</th>\n",
       "      <td>328</td>\n",
       "      <td>402</td>\n",
       "      <td>300</td>\n",
       "      <td>300</td>\n",
       "      <td>402</td>\n",
       "      <td>-78.401070</td>\n",
       "      <td>17.999613</td>\n",
       "      <td>-78.504799</td>\n",
       "      <td>18.035711</td>\n",
       "      <td>-78.452934</td>\n",
       "      <td>18.017662</td>\n",
       "    </tr>\n",
       "    <tr>\n",
       "      <th>328</th>\n",
       "      <td>329</td>\n",
       "      <td>263</td>\n",
       "      <td>402</td>\n",
       "      <td>402</td>\n",
       "      <td>263</td>\n",
       "      <td>-78.395760</td>\n",
       "      <td>18.089211</td>\n",
       "      <td>-78.401070</td>\n",
       "      <td>17.999613</td>\n",
       "      <td>-78.398415</td>\n",
       "      <td>18.044412</td>\n",
       "    </tr>\n",
       "    <tr>\n",
       "      <th>329</th>\n",
       "      <td>330</td>\n",
       "      <td>387</td>\n",
       "      <td>21</td>\n",
       "      <td>21</td>\n",
       "      <td>387</td>\n",
       "      <td>-77.823601</td>\n",
       "      <td>17.778366</td>\n",
       "      <td>-77.767128</td>\n",
       "      <td>17.877205</td>\n",
       "      <td>-77.795364</td>\n",
       "      <td>17.827786</td>\n",
       "    </tr>\n",
       "    <tr>\n",
       "      <th>398</th>\n",
       "      <td>399</td>\n",
       "      <td>236</td>\n",
       "      <td>233</td>\n",
       "      <td>233</td>\n",
       "      <td>236</td>\n",
       "      <td>-77.853905</td>\n",
       "      <td>17.588829</td>\n",
       "      <td>-77.785370</td>\n",
       "      <td>17.683725</td>\n",
       "      <td>-77.819637</td>\n",
       "      <td>17.636277</td>\n",
       "    </tr>\n",
       "    <tr>\n",
       "      <th>406</th>\n",
       "      <td>407</td>\n",
       "      <td>378</td>\n",
       "      <td>214</td>\n",
       "      <td>214</td>\n",
       "      <td>378</td>\n",
       "      <td>-78.679657</td>\n",
       "      <td>17.931053</td>\n",
       "      <td>-78.775093</td>\n",
       "      <td>17.881996</td>\n",
       "      <td>-78.727375</td>\n",
       "      <td>17.906525</td>\n",
       "    </tr>\n",
       "    <tr>\n",
       "      <th>507</th>\n",
       "      <td>508</td>\n",
       "      <td>71</td>\n",
       "      <td>197</td>\n",
       "      <td>197</td>\n",
       "      <td>71</td>\n",
       "      <td>-77.184036</td>\n",
       "      <td>18.434597</td>\n",
       "      <td>-77.216293</td>\n",
       "      <td>18.542870</td>\n",
       "      <td>-77.200165</td>\n",
       "      <td>18.488733</td>\n",
       "    </tr>\n",
       "    <tr>\n",
       "      <th>509</th>\n",
       "      <td>510</td>\n",
       "      <td>180</td>\n",
       "      <td>60</td>\n",
       "      <td>60</td>\n",
       "      <td>180</td>\n",
       "      <td>-77.095207</td>\n",
       "      <td>18.870497</td>\n",
       "      <td>-77.176498</td>\n",
       "      <td>19.000000</td>\n",
       "      <td>-77.135853</td>\n",
       "      <td>18.935248</td>\n",
       "    </tr>\n",
       "    <tr>\n",
       "      <th>527</th>\n",
       "      <td>528</td>\n",
       "      <td>279</td>\n",
       "      <td>401</td>\n",
       "      <td>401</td>\n",
       "      <td>279</td>\n",
       "      <td>-77.903214</td>\n",
       "      <td>17.259438</td>\n",
       "      <td>-77.794792</td>\n",
       "      <td>17.288410</td>\n",
       "      <td>-77.849003</td>\n",
       "      <td>17.273924</td>\n",
       "    </tr>\n",
       "    <tr>\n",
       "      <th>679</th>\n",
       "      <td>680</td>\n",
       "      <td>253</td>\n",
       "      <td>236</td>\n",
       "      <td>236</td>\n",
       "      <td>253</td>\n",
       "      <td>-77.794556</td>\n",
       "      <td>17.486420</td>\n",
       "      <td>-77.853905</td>\n",
       "      <td>17.588829</td>\n",
       "      <td>-77.824230</td>\n",
       "      <td>17.537624</td>\n",
       "    </tr>\n",
       "    <tr>\n",
       "      <th>699</th>\n",
       "      <td>700</td>\n",
       "      <td>300</td>\n",
       "      <td>269</td>\n",
       "      <td>269</td>\n",
       "      <td>300</td>\n",
       "      <td>-78.504799</td>\n",
       "      <td>18.035711</td>\n",
       "      <td>-78.572914</td>\n",
       "      <td>17.924297</td>\n",
       "      <td>-78.538857</td>\n",
       "      <td>17.980004</td>\n",
       "    </tr>\n",
       "    <tr>\n",
       "      <th>994</th>\n",
       "      <td>995</td>\n",
       "      <td>335</td>\n",
       "      <td>280</td>\n",
       "      <td>280</td>\n",
       "      <td>335</td>\n",
       "      <td>-77.133972</td>\n",
       "      <td>18.637737</td>\n",
       "      <td>-77.174080</td>\n",
       "      <td>18.756838</td>\n",
       "      <td>-77.154026</td>\n",
       "      <td>18.697288</td>\n",
       "    </tr>\n",
       "  </tbody>\n",
       "</table>\n",
       "</div>"
      ],
      "text/plain": [
       "     index    0    1    2    3         x1         y1         x2         y2  \\\n",
       "60      61  167   94   94  167 -76.576180  17.787008 -76.504166  17.866587   \n",
       "67      68  233  387  387  233 -77.785370  17.683725 -77.823601  17.778366   \n",
       "173    174  282  167  167  282 -76.534286  17.662857 -76.576180  17.787008   \n",
       "222    223  169  123  123  169 -77.953705  17.130636 -77.792885  17.153307   \n",
       "297    298  280  180  180  280 -77.174080  18.756838 -77.095207  18.870497   \n",
       "321    322  401  343  343  401 -77.794792  17.288410 -77.855537  17.382608   \n",
       "327    328  402  300  300  402 -78.401070  17.999613 -78.504799  18.035711   \n",
       "328    329  263  402  402  263 -78.395760  18.089211 -78.401070  17.999613   \n",
       "329    330  387   21   21  387 -77.823601  17.778366 -77.767128  17.877205   \n",
       "398    399  236  233  233  236 -77.853905  17.588829 -77.785370  17.683725   \n",
       "406    407  378  214  214  378 -78.679657  17.931053 -78.775093  17.881996   \n",
       "507    508   71  197  197   71 -77.184036  18.434597 -77.216293  18.542870   \n",
       "509    510  180   60   60  180 -77.095207  18.870497 -77.176498  19.000000   \n",
       "527    528  279  401  401  279 -77.903214  17.259438 -77.794792  17.288410   \n",
       "679    680  253  236  236  253 -77.794556  17.486420 -77.853905  17.588829   \n",
       "699    700  300  269  269  300 -78.504799  18.035711 -78.572914  17.924297   \n",
       "994    995  335  280  280  335 -77.133972  18.637737 -77.174080  18.756838   \n",
       "\n",
       "            xc         yc  \n",
       "60  -76.540173  17.826797  \n",
       "67  -77.804485  17.731046  \n",
       "173 -76.555233  17.724933  \n",
       "222 -77.873295  17.141972  \n",
       "297 -77.134644  18.813667  \n",
       "321 -77.825165  17.335509  \n",
       "327 -78.452934  18.017662  \n",
       "328 -78.398415  18.044412  \n",
       "329 -77.795364  17.827786  \n",
       "398 -77.819637  17.636277  \n",
       "406 -78.727375  17.906525  \n",
       "507 -77.200165  18.488733  \n",
       "509 -77.135853  18.935248  \n",
       "527 -77.849003  17.273924  \n",
       "679 -77.824230  17.537624  \n",
       "699 -78.538857  17.980004  \n",
       "994 -77.154026  18.697288  "
      ]
     },
     "execution_count": 139,
     "metadata": {},
     "output_type": "execute_result"
    }
   ],
   "source": [
    "edgs1[edgs1[0] != edgs1[2]] # still some problems with orientation"
   ]
  },
  {
   "cell_type": "code",
   "execution_count": 140,
   "metadata": {},
   "outputs": [],
   "source": [
    "## min bottom index\n",
    "edgs1['kbs1'] = grd.loc[edgs1[0] - 1,'kbp00'].values\n",
    "edgs1['kbs2'] = grd.loc[edgs1[1] - 1,'kbp00'].values\n",
    "\n",
    "edgs1['kbs'] = edgs1[['kbs1', 'kbs2']].min(axis=1)"
   ]
  },
  {
   "cell_type": "code",
   "execution_count": 141,
   "metadata": {},
   "outputs": [
    {
     "data": {
      "text/html": [
       "<div>\n",
       "<style scoped>\n",
       "    .dataframe tbody tr th:only-of-type {\n",
       "        vertical-align: middle;\n",
       "    }\n",
       "\n",
       "    .dataframe tbody tr th {\n",
       "        vertical-align: top;\n",
       "    }\n",
       "\n",
       "    .dataframe thead th {\n",
       "        text-align: right;\n",
       "    }\n",
       "</style>\n",
       "<table border=\"1\" class=\"dataframe\">\n",
       "  <thead>\n",
       "    <tr style=\"text-align: right;\">\n",
       "      <th></th>\n",
       "      <th>0</th>\n",
       "      <th>1</th>\n",
       "      <th>2</th>\n",
       "      <th>3</th>\n",
       "      <th>x1</th>\n",
       "      <th>y1</th>\n",
       "      <th>x2</th>\n",
       "      <th>y2</th>\n",
       "      <th>xc</th>\n",
       "      <th>yc</th>\n",
       "      <th>kbs1</th>\n",
       "      <th>kbs2</th>\n",
       "      <th>kbs</th>\n",
       "    </tr>\n",
       "    <tr>\n",
       "      <th>index</th>\n",
       "      <th></th>\n",
       "      <th></th>\n",
       "      <th></th>\n",
       "      <th></th>\n",
       "      <th></th>\n",
       "      <th></th>\n",
       "      <th></th>\n",
       "      <th></th>\n",
       "      <th></th>\n",
       "      <th></th>\n",
       "      <th></th>\n",
       "      <th></th>\n",
       "      <th></th>\n",
       "    </tr>\n",
       "  </thead>\n",
       "  <tbody>\n",
       "    <tr>\n",
       "      <th>1</th>\n",
       "      <td>163</td>\n",
       "      <td>329</td>\n",
       "      <td>163</td>\n",
       "      <td>329</td>\n",
       "      <td>-78.726959</td>\n",
       "      <td>18.837126</td>\n",
       "      <td>-78.745728</td>\n",
       "      <td>18.665728</td>\n",
       "      <td>-78.736343</td>\n",
       "      <td>18.751427</td>\n",
       "      <td>1</td>\n",
       "      <td>1</td>\n",
       "      <td>1</td>\n",
       "    </tr>\n",
       "    <tr>\n",
       "      <th>2</th>\n",
       "      <td>329</td>\n",
       "      <td>298</td>\n",
       "      <td>329</td>\n",
       "      <td>298</td>\n",
       "      <td>-78.745728</td>\n",
       "      <td>18.665728</td>\n",
       "      <td>-78.612152</td>\n",
       "      <td>18.719635</td>\n",
       "      <td>-78.678940</td>\n",
       "      <td>18.692681</td>\n",
       "      <td>1</td>\n",
       "      <td>1</td>\n",
       "      <td>1</td>\n",
       "    </tr>\n",
       "    <tr>\n",
       "      <th>3</th>\n",
       "      <td>298</td>\n",
       "      <td>163</td>\n",
       "      <td>298</td>\n",
       "      <td>163</td>\n",
       "      <td>-78.612152</td>\n",
       "      <td>18.719635</td>\n",
       "      <td>-78.726959</td>\n",
       "      <td>18.837126</td>\n",
       "      <td>-78.669556</td>\n",
       "      <td>18.778380</td>\n",
       "      <td>1</td>\n",
       "      <td>1</td>\n",
       "      <td>1</td>\n",
       "    </tr>\n",
       "    <tr>\n",
       "      <th>4</th>\n",
       "      <td>220</td>\n",
       "      <td>355</td>\n",
       "      <td>220</td>\n",
       "      <td>355</td>\n",
       "      <td>-78.295212</td>\n",
       "      <td>17.828188</td>\n",
       "      <td>-78.185257</td>\n",
       "      <td>17.831535</td>\n",
       "      <td>-78.240234</td>\n",
       "      <td>17.829862</td>\n",
       "      <td>1</td>\n",
       "      <td>1</td>\n",
       "      <td>1</td>\n",
       "    </tr>\n",
       "    <tr>\n",
       "      <th>5</th>\n",
       "      <td>355</td>\n",
       "      <td>218</td>\n",
       "      <td>355</td>\n",
       "      <td>218</td>\n",
       "      <td>-78.185257</td>\n",
       "      <td>17.831535</td>\n",
       "      <td>-78.240143</td>\n",
       "      <td>17.926964</td>\n",
       "      <td>-78.212700</td>\n",
       "      <td>17.879250</td>\n",
       "      <td>1</td>\n",
       "      <td>1</td>\n",
       "      <td>1</td>\n",
       "    </tr>\n",
       "    <tr>\n",
       "      <th>6</th>\n",
       "      <td>218</td>\n",
       "      <td>220</td>\n",
       "      <td>218</td>\n",
       "      <td>220</td>\n",
       "      <td>-78.240143</td>\n",
       "      <td>17.926964</td>\n",
       "      <td>-78.295212</td>\n",
       "      <td>17.828188</td>\n",
       "      <td>-78.267677</td>\n",
       "      <td>17.877576</td>\n",
       "      <td>1</td>\n",
       "      <td>1</td>\n",
       "      <td>1</td>\n",
       "    </tr>\n",
       "    <tr>\n",
       "      <th>7</th>\n",
       "      <td>305</td>\n",
       "      <td>390</td>\n",
       "      <td>305</td>\n",
       "      <td>390</td>\n",
       "      <td>-78.505302</td>\n",
       "      <td>17.517424</td>\n",
       "      <td>-78.631928</td>\n",
       "      <td>17.480579</td>\n",
       "      <td>-78.568615</td>\n",
       "      <td>17.499001</td>\n",
       "      <td>1</td>\n",
       "      <td>1</td>\n",
       "      <td>1</td>\n",
       "    </tr>\n",
       "    <tr>\n",
       "      <th>8</th>\n",
       "      <td>390</td>\n",
       "      <td>293</td>\n",
       "      <td>390</td>\n",
       "      <td>293</td>\n",
       "      <td>-78.631928</td>\n",
       "      <td>17.480579</td>\n",
       "      <td>-78.566040</td>\n",
       "      <td>17.382647</td>\n",
       "      <td>-78.598984</td>\n",
       "      <td>17.431613</td>\n",
       "      <td>1</td>\n",
       "      <td>1</td>\n",
       "      <td>1</td>\n",
       "    </tr>\n",
       "    <tr>\n",
       "      <th>9</th>\n",
       "      <td>293</td>\n",
       "      <td>305</td>\n",
       "      <td>293</td>\n",
       "      <td>305</td>\n",
       "      <td>-78.566040</td>\n",
       "      <td>17.382647</td>\n",
       "      <td>-78.505302</td>\n",
       "      <td>17.517424</td>\n",
       "      <td>-78.535671</td>\n",
       "      <td>17.450035</td>\n",
       "      <td>1</td>\n",
       "      <td>1</td>\n",
       "      <td>1</td>\n",
       "    </tr>\n",
       "    <tr>\n",
       "      <th>10</th>\n",
       "      <td>42</td>\n",
       "      <td>174</td>\n",
       "      <td>42</td>\n",
       "      <td>174</td>\n",
       "      <td>-77.337639</td>\n",
       "      <td>19.000000</td>\n",
       "      <td>-77.422920</td>\n",
       "      <td>18.866097</td>\n",
       "      <td>-77.380280</td>\n",
       "      <td>18.933048</td>\n",
       "      <td>1</td>\n",
       "      <td>1</td>\n",
       "      <td>1</td>\n",
       "    </tr>\n",
       "    <tr>\n",
       "      <th>11</th>\n",
       "      <td>174</td>\n",
       "      <td>148</td>\n",
       "      <td>174</td>\n",
       "      <td>148</td>\n",
       "      <td>-77.422920</td>\n",
       "      <td>18.866097</td>\n",
       "      <td>-77.254791</td>\n",
       "      <td>18.876709</td>\n",
       "      <td>-77.338856</td>\n",
       "      <td>18.871403</td>\n",
       "      <td>1</td>\n",
       "      <td>1</td>\n",
       "      <td>1</td>\n",
       "    </tr>\n",
       "    <tr>\n",
       "      <th>12</th>\n",
       "      <td>148</td>\n",
       "      <td>42</td>\n",
       "      <td>148</td>\n",
       "      <td>42</td>\n",
       "      <td>-77.254791</td>\n",
       "      <td>18.876709</td>\n",
       "      <td>-77.337639</td>\n",
       "      <td>19.000000</td>\n",
       "      <td>-77.296215</td>\n",
       "      <td>18.938354</td>\n",
       "      <td>1</td>\n",
       "      <td>1</td>\n",
       "      <td>1</td>\n",
       "    </tr>\n",
       "    <tr>\n",
       "      <th>13</th>\n",
       "      <td>184</td>\n",
       "      <td>395</td>\n",
       "      <td>184</td>\n",
       "      <td>395</td>\n",
       "      <td>-76.117416</td>\n",
       "      <td>17.707579</td>\n",
       "      <td>-76.100327</td>\n",
       "      <td>17.825298</td>\n",
       "      <td>-76.108871</td>\n",
       "      <td>17.766438</td>\n",
       "      <td>1</td>\n",
       "      <td>1</td>\n",
       "      <td>1</td>\n",
       "    </tr>\n",
       "    <tr>\n",
       "      <th>14</th>\n",
       "      <td>395</td>\n",
       "      <td>138</td>\n",
       "      <td>395</td>\n",
       "      <td>138</td>\n",
       "      <td>-76.100327</td>\n",
       "      <td>17.825298</td>\n",
       "      <td>-76.227386</td>\n",
       "      <td>17.808346</td>\n",
       "      <td>-76.163857</td>\n",
       "      <td>17.816822</td>\n",
       "      <td>1</td>\n",
       "      <td>1</td>\n",
       "      <td>1</td>\n",
       "    </tr>\n",
       "    <tr>\n",
       "      <th>15</th>\n",
       "      <td>138</td>\n",
       "      <td>184</td>\n",
       "      <td>138</td>\n",
       "      <td>184</td>\n",
       "      <td>-76.227386</td>\n",
       "      <td>17.808346</td>\n",
       "      <td>-76.117416</td>\n",
       "      <td>17.707579</td>\n",
       "      <td>-76.172401</td>\n",
       "      <td>17.757962</td>\n",
       "      <td>1</td>\n",
       "      <td>1</td>\n",
       "      <td>1</td>\n",
       "    </tr>\n",
       "    <tr>\n",
       "      <th>16</th>\n",
       "      <td>174</td>\n",
       "      <td>376</td>\n",
       "      <td>174</td>\n",
       "      <td>376</td>\n",
       "      <td>-77.422920</td>\n",
       "      <td>18.866097</td>\n",
       "      <td>-77.524887</td>\n",
       "      <td>18.774036</td>\n",
       "      <td>-77.473904</td>\n",
       "      <td>18.820066</td>\n",
       "      <td>1</td>\n",
       "      <td>1</td>\n",
       "      <td>1</td>\n",
       "    </tr>\n",
       "    <tr>\n",
       "      <th>17</th>\n",
       "      <td>376</td>\n",
       "      <td>375</td>\n",
       "      <td>376</td>\n",
       "      <td>375</td>\n",
       "      <td>-77.524887</td>\n",
       "      <td>18.774036</td>\n",
       "      <td>-77.428764</td>\n",
       "      <td>18.742899</td>\n",
       "      <td>-77.476826</td>\n",
       "      <td>18.758468</td>\n",
       "      <td>1</td>\n",
       "      <td>1</td>\n",
       "      <td>1</td>\n",
       "    </tr>\n",
       "    <tr>\n",
       "      <th>18</th>\n",
       "      <td>375</td>\n",
       "      <td>174</td>\n",
       "      <td>375</td>\n",
       "      <td>174</td>\n",
       "      <td>-77.428764</td>\n",
       "      <td>18.742899</td>\n",
       "      <td>-77.422920</td>\n",
       "      <td>18.866097</td>\n",
       "      <td>-77.425842</td>\n",
       "      <td>18.804498</td>\n",
       "      <td>1</td>\n",
       "      <td>1</td>\n",
       "      <td>1</td>\n",
       "    </tr>\n",
       "    <tr>\n",
       "      <th>19</th>\n",
       "      <td>189</td>\n",
       "      <td>389</td>\n",
       "      <td>189</td>\n",
       "      <td>389</td>\n",
       "      <td>-77.623909</td>\n",
       "      <td>17.771753</td>\n",
       "      <td>-77.576828</td>\n",
       "      <td>17.682095</td>\n",
       "      <td>-77.600369</td>\n",
       "      <td>17.726924</td>\n",
       "      <td>1</td>\n",
       "      <td>1</td>\n",
       "      <td>1</td>\n",
       "    </tr>\n",
       "    <tr>\n",
       "      <th>20</th>\n",
       "      <td>389</td>\n",
       "      <td>207</td>\n",
       "      <td>389</td>\n",
       "      <td>207</td>\n",
       "      <td>-77.576828</td>\n",
       "      <td>17.682095</td>\n",
       "      <td>-77.526619</td>\n",
       "      <td>17.772562</td>\n",
       "      <td>-77.551724</td>\n",
       "      <td>17.727328</td>\n",
       "      <td>1</td>\n",
       "      <td>1</td>\n",
       "      <td>1</td>\n",
       "    </tr>\n",
       "    <tr>\n",
       "      <th>21</th>\n",
       "      <td>207</td>\n",
       "      <td>189</td>\n",
       "      <td>207</td>\n",
       "      <td>189</td>\n",
       "      <td>-77.526619</td>\n",
       "      <td>17.772562</td>\n",
       "      <td>-77.623909</td>\n",
       "      <td>17.771753</td>\n",
       "      <td>-77.575264</td>\n",
       "      <td>17.772158</td>\n",
       "      <td>1</td>\n",
       "      <td>1</td>\n",
       "      <td>1</td>\n",
       "    </tr>\n",
       "    <tr>\n",
       "      <th>22</th>\n",
       "      <td>164</td>\n",
       "      <td>328</td>\n",
       "      <td>164</td>\n",
       "      <td>328</td>\n",
       "      <td>-76.274162</td>\n",
       "      <td>17.164532</td>\n",
       "      <td>-76.256355</td>\n",
       "      <td>17.344595</td>\n",
       "      <td>-76.265259</td>\n",
       "      <td>17.254563</td>\n",
       "      <td>1</td>\n",
       "      <td>1</td>\n",
       "      <td>1</td>\n",
       "    </tr>\n",
       "    <tr>\n",
       "      <th>23</th>\n",
       "      <td>328</td>\n",
       "      <td>297</td>\n",
       "      <td>328</td>\n",
       "      <td>297</td>\n",
       "      <td>-76.256355</td>\n",
       "      <td>17.344595</td>\n",
       "      <td>-76.391480</td>\n",
       "      <td>17.293682</td>\n",
       "      <td>-76.323917</td>\n",
       "      <td>17.319139</td>\n",
       "      <td>1</td>\n",
       "      <td>1</td>\n",
       "      <td>1</td>\n",
       "    </tr>\n",
       "    <tr>\n",
       "      <th>24</th>\n",
       "      <td>297</td>\n",
       "      <td>164</td>\n",
       "      <td>297</td>\n",
       "      <td>164</td>\n",
       "      <td>-76.391480</td>\n",
       "      <td>17.293682</td>\n",
       "      <td>-76.274162</td>\n",
       "      <td>17.164532</td>\n",
       "      <td>-76.332821</td>\n",
       "      <td>17.229107</td>\n",
       "      <td>1</td>\n",
       "      <td>1</td>\n",
       "      <td>1</td>\n",
       "    </tr>\n",
       "    <tr>\n",
       "      <th>25</th>\n",
       "      <td>306</td>\n",
       "      <td>406</td>\n",
       "      <td>306</td>\n",
       "      <td>406</td>\n",
       "      <td>-78.132156</td>\n",
       "      <td>17.923574</td>\n",
       "      <td>-78.031494</td>\n",
       "      <td>17.922298</td>\n",
       "      <td>-78.081825</td>\n",
       "      <td>17.922936</td>\n",
       "      <td>1</td>\n",
       "      <td>1</td>\n",
       "      <td>1</td>\n",
       "    </tr>\n",
       "    <tr>\n",
       "      <th>26</th>\n",
       "      <td>406</td>\n",
       "      <td>403</td>\n",
       "      <td>406</td>\n",
       "      <td>403</td>\n",
       "      <td>-78.031494</td>\n",
       "      <td>17.922298</td>\n",
       "      <td>-78.074883</td>\n",
       "      <td>18.012617</td>\n",
       "      <td>-78.053188</td>\n",
       "      <td>17.967458</td>\n",
       "      <td>1</td>\n",
       "      <td>1</td>\n",
       "      <td>1</td>\n",
       "    </tr>\n",
       "    <tr>\n",
       "      <th>27</th>\n",
       "      <td>403</td>\n",
       "      <td>306</td>\n",
       "      <td>403</td>\n",
       "      <td>306</td>\n",
       "      <td>-78.074883</td>\n",
       "      <td>18.012617</td>\n",
       "      <td>-78.132156</td>\n",
       "      <td>17.923574</td>\n",
       "      <td>-78.103519</td>\n",
       "      <td>17.968096</td>\n",
       "      <td>1</td>\n",
       "      <td>1</td>\n",
       "      <td>1</td>\n",
       "    </tr>\n",
       "    <tr>\n",
       "      <th>28</th>\n",
       "      <td>229</td>\n",
       "      <td>275</td>\n",
       "      <td>229</td>\n",
       "      <td>275</td>\n",
       "      <td>-76.422173</td>\n",
       "      <td>18.371910</td>\n",
       "      <td>-76.452927</td>\n",
       "      <td>18.489824</td>\n",
       "      <td>-76.437550</td>\n",
       "      <td>18.430867</td>\n",
       "      <td>1</td>\n",
       "      <td>1</td>\n",
       "      <td>1</td>\n",
       "    </tr>\n",
       "    <tr>\n",
       "      <th>29</th>\n",
       "      <td>275</td>\n",
       "      <td>274</td>\n",
       "      <td>275</td>\n",
       "      <td>274</td>\n",
       "      <td>-76.452927</td>\n",
       "      <td>18.489824</td>\n",
       "      <td>-76.551468</td>\n",
       "      <td>18.404758</td>\n",
       "      <td>-76.502197</td>\n",
       "      <td>18.447291</td>\n",
       "      <td>1</td>\n",
       "      <td>1</td>\n",
       "      <td>1</td>\n",
       "    </tr>\n",
       "    <tr>\n",
       "      <th>30</th>\n",
       "      <td>274</td>\n",
       "      <td>229</td>\n",
       "      <td>274</td>\n",
       "      <td>229</td>\n",
       "      <td>-76.551468</td>\n",
       "      <td>18.404758</td>\n",
       "      <td>-76.422173</td>\n",
       "      <td>18.371910</td>\n",
       "      <td>-76.486820</td>\n",
       "      <td>18.388334</td>\n",
       "      <td>1</td>\n",
       "      <td>1</td>\n",
       "      <td>1</td>\n",
       "    </tr>\n",
       "    <tr>\n",
       "      <th>...</th>\n",
       "      <td>...</td>\n",
       "      <td>...</td>\n",
       "      <td>...</td>\n",
       "      <td>...</td>\n",
       "      <td>...</td>\n",
       "      <td>...</td>\n",
       "      <td>...</td>\n",
       "      <td>...</td>\n",
       "      <td>...</td>\n",
       "      <td>...</td>\n",
       "      <td>...</td>\n",
       "      <td>...</td>\n",
       "      <td>...</td>\n",
       "    </tr>\n",
       "    <tr>\n",
       "      <th>1080</th>\n",
       "      <td>394</td>\n",
       "      <td>345</td>\n",
       "      <td>394</td>\n",
       "      <td>345</td>\n",
       "      <td>-77.507431</td>\n",
       "      <td>17.598886</td>\n",
       "      <td>-77.618240</td>\n",
       "      <td>17.583885</td>\n",
       "      <td>-77.562836</td>\n",
       "      <td>17.591386</td>\n",
       "      <td>1</td>\n",
       "      <td>1</td>\n",
       "      <td>1</td>\n",
       "    </tr>\n",
       "    <tr>\n",
       "      <th>1081</th>\n",
       "      <td>94</td>\n",
       "      <td>72</td>\n",
       "      <td>94</td>\n",
       "      <td>72</td>\n",
       "      <td>-76.504166</td>\n",
       "      <td>17.866587</td>\n",
       "      <td>-76.612648</td>\n",
       "      <td>17.896580</td>\n",
       "      <td>-76.558407</td>\n",
       "      <td>17.881583</td>\n",
       "      <td>1</td>\n",
       "      <td>1</td>\n",
       "      <td>1</td>\n",
       "    </tr>\n",
       "    <tr>\n",
       "      <th>1082</th>\n",
       "      <td>404</td>\n",
       "      <td>109</td>\n",
       "      <td>404</td>\n",
       "      <td>109</td>\n",
       "      <td>-77.135330</td>\n",
       "      <td>17.696476</td>\n",
       "      <td>-77.215530</td>\n",
       "      <td>17.724039</td>\n",
       "      <td>-77.175430</td>\n",
       "      <td>17.710258</td>\n",
       "      <td>1</td>\n",
       "      <td>1</td>\n",
       "      <td>1</td>\n",
       "    </tr>\n",
       "    <tr>\n",
       "      <th>1083</th>\n",
       "      <td>287</td>\n",
       "      <td>400</td>\n",
       "      <td>287</td>\n",
       "      <td>400</td>\n",
       "      <td>-77.426300</td>\n",
       "      <td>17.416815</td>\n",
       "      <td>-77.510345</td>\n",
       "      <td>17.360071</td>\n",
       "      <td>-77.468323</td>\n",
       "      <td>17.388443</td>\n",
       "      <td>1</td>\n",
       "      <td>1</td>\n",
       "      <td>1</td>\n",
       "    </tr>\n",
       "    <tr>\n",
       "      <th>1084</th>\n",
       "      <td>8</td>\n",
       "      <td>40</td>\n",
       "      <td>8</td>\n",
       "      <td>40</td>\n",
       "      <td>-77.658806</td>\n",
       "      <td>19.000000</td>\n",
       "      <td>-77.819931</td>\n",
       "      <td>19.000000</td>\n",
       "      <td>-77.739368</td>\n",
       "      <td>19.000000</td>\n",
       "      <td>1</td>\n",
       "      <td>1</td>\n",
       "      <td>1</td>\n",
       "    </tr>\n",
       "    <tr>\n",
       "      <th>1085</th>\n",
       "      <td>215</td>\n",
       "      <td>405</td>\n",
       "      <td>215</td>\n",
       "      <td>405</td>\n",
       "      <td>-77.975029</td>\n",
       "      <td>17.843790</td>\n",
       "      <td>-77.916107</td>\n",
       "      <td>17.780367</td>\n",
       "      <td>-77.945568</td>\n",
       "      <td>17.812078</td>\n",
       "      <td>1</td>\n",
       "      <td>1</td>\n",
       "      <td>1</td>\n",
       "    </tr>\n",
       "    <tr>\n",
       "      <th>1086</th>\n",
       "      <td>262</td>\n",
       "      <td>392</td>\n",
       "      <td>262</td>\n",
       "      <td>392</td>\n",
       "      <td>-76.656319</td>\n",
       "      <td>17.434442</td>\n",
       "      <td>-76.682274</td>\n",
       "      <td>17.536882</td>\n",
       "      <td>-76.669296</td>\n",
       "      <td>17.485662</td>\n",
       "      <td>1</td>\n",
       "      <td>1</td>\n",
       "      <td>1</td>\n",
       "    </tr>\n",
       "    <tr>\n",
       "      <th>1087</th>\n",
       "      <td>184</td>\n",
       "      <td>65</td>\n",
       "      <td>184</td>\n",
       "      <td>65</td>\n",
       "      <td>-76.117416</td>\n",
       "      <td>17.707579</td>\n",
       "      <td>-76.000000</td>\n",
       "      <td>17.781044</td>\n",
       "      <td>-76.058708</td>\n",
       "      <td>17.744311</td>\n",
       "      <td>1</td>\n",
       "      <td>1</td>\n",
       "      <td>1</td>\n",
       "    </tr>\n",
       "    <tr>\n",
       "      <th>1088</th>\n",
       "      <td>131</td>\n",
       "      <td>391</td>\n",
       "      <td>131</td>\n",
       "      <td>391</td>\n",
       "      <td>-78.417213</td>\n",
       "      <td>18.263033</td>\n",
       "      <td>-78.380737</td>\n",
       "      <td>18.176908</td>\n",
       "      <td>-78.398975</td>\n",
       "      <td>18.219971</td>\n",
       "      <td>1</td>\n",
       "      <td>1</td>\n",
       "      <td>1</td>\n",
       "    </tr>\n",
       "    <tr>\n",
       "      <th>1089</th>\n",
       "      <td>5</td>\n",
       "      <td>207</td>\n",
       "      <td>5</td>\n",
       "      <td>207</td>\n",
       "      <td>-77.463867</td>\n",
       "      <td>17.856054</td>\n",
       "      <td>-77.526619</td>\n",
       "      <td>17.772562</td>\n",
       "      <td>-77.495243</td>\n",
       "      <td>17.814308</td>\n",
       "      <td>1</td>\n",
       "      <td>1</td>\n",
       "      <td>1</td>\n",
       "    </tr>\n",
       "    <tr>\n",
       "      <th>1090</th>\n",
       "      <td>126</td>\n",
       "      <td>166</td>\n",
       "      <td>126</td>\n",
       "      <td>166</td>\n",
       "      <td>-76.788094</td>\n",
       "      <td>17.127472</td>\n",
       "      <td>-76.617836</td>\n",
       "      <td>17.150122</td>\n",
       "      <td>-76.702965</td>\n",
       "      <td>17.138797</td>\n",
       "      <td>1</td>\n",
       "      <td>1</td>\n",
       "      <td>1</td>\n",
       "    </tr>\n",
       "    <tr>\n",
       "      <th>1091</th>\n",
       "      <td>18</td>\n",
       "      <td>143</td>\n",
       "      <td>18</td>\n",
       "      <td>143</td>\n",
       "      <td>-76.356880</td>\n",
       "      <td>17.000000</td>\n",
       "      <td>-76.445450</td>\n",
       "      <td>17.142702</td>\n",
       "      <td>-76.401165</td>\n",
       "      <td>17.071351</td>\n",
       "      <td>1</td>\n",
       "      <td>1</td>\n",
       "      <td>1</td>\n",
       "    </tr>\n",
       "    <tr>\n",
       "      <th>1092</th>\n",
       "      <td>26</td>\n",
       "      <td>18</td>\n",
       "      <td>26</td>\n",
       "      <td>18</td>\n",
       "      <td>-76.528999</td>\n",
       "      <td>17.000000</td>\n",
       "      <td>-76.356880</td>\n",
       "      <td>17.000000</td>\n",
       "      <td>-76.442940</td>\n",
       "      <td>17.000000</td>\n",
       "      <td>1</td>\n",
       "      <td>1</td>\n",
       "      <td>1</td>\n",
       "    </tr>\n",
       "    <tr>\n",
       "      <th>1093</th>\n",
       "      <td>128</td>\n",
       "      <td>173</td>\n",
       "      <td>128</td>\n",
       "      <td>173</td>\n",
       "      <td>-77.469978</td>\n",
       "      <td>17.133730</td>\n",
       "      <td>-77.629219</td>\n",
       "      <td>17.132372</td>\n",
       "      <td>-77.549599</td>\n",
       "      <td>17.133051</td>\n",
       "      <td>1</td>\n",
       "      <td>1</td>\n",
       "      <td>1</td>\n",
       "    </tr>\n",
       "    <tr>\n",
       "      <th>1094</th>\n",
       "      <td>207</td>\n",
       "      <td>15</td>\n",
       "      <td>207</td>\n",
       "      <td>15</td>\n",
       "      <td>-77.526619</td>\n",
       "      <td>17.772562</td>\n",
       "      <td>-77.565269</td>\n",
       "      <td>17.857849</td>\n",
       "      <td>-77.545944</td>\n",
       "      <td>17.815206</td>\n",
       "      <td>1</td>\n",
       "      <td>1</td>\n",
       "      <td>1</td>\n",
       "    </tr>\n",
       "    <tr>\n",
       "      <th>1095</th>\n",
       "      <td>59</td>\n",
       "      <td>91</td>\n",
       "      <td>59</td>\n",
       "      <td>91</td>\n",
       "      <td>-77.982147</td>\n",
       "      <td>19.000000</td>\n",
       "      <td>-78.142204</td>\n",
       "      <td>19.000000</td>\n",
       "      <td>-78.062176</td>\n",
       "      <td>19.000000</td>\n",
       "      <td>1</td>\n",
       "      <td>1</td>\n",
       "      <td>1</td>\n",
       "    </tr>\n",
       "    <tr>\n",
       "      <th>1096</th>\n",
       "      <td>42</td>\n",
       "      <td>29</td>\n",
       "      <td>42</td>\n",
       "      <td>29</td>\n",
       "      <td>-77.337639</td>\n",
       "      <td>19.000000</td>\n",
       "      <td>-77.498222</td>\n",
       "      <td>19.000000</td>\n",
       "      <td>-77.417931</td>\n",
       "      <td>19.000000</td>\n",
       "      <td>1</td>\n",
       "      <td>1</td>\n",
       "      <td>1</td>\n",
       "    </tr>\n",
       "    <tr>\n",
       "      <th>1097</th>\n",
       "      <td>173</td>\n",
       "      <td>123</td>\n",
       "      <td>173</td>\n",
       "      <td>123</td>\n",
       "      <td>-77.629219</td>\n",
       "      <td>17.132372</td>\n",
       "      <td>-77.792885</td>\n",
       "      <td>17.153307</td>\n",
       "      <td>-77.711052</td>\n",
       "      <td>17.142839</td>\n",
       "      <td>1</td>\n",
       "      <td>1</td>\n",
       "      <td>1</td>\n",
       "    </tr>\n",
       "    <tr>\n",
       "      <th>1098</th>\n",
       "      <td>19</td>\n",
       "      <td>11</td>\n",
       "      <td>19</td>\n",
       "      <td>11</td>\n",
       "      <td>-79.000000</td>\n",
       "      <td>17.335804</td>\n",
       "      <td>-79.000000</td>\n",
       "      <td>17.175161</td>\n",
       "      <td>-79.000000</td>\n",
       "      <td>17.255483</td>\n",
       "      <td>1</td>\n",
       "      <td>1</td>\n",
       "      <td>1</td>\n",
       "    </tr>\n",
       "    <tr>\n",
       "      <th>1099</th>\n",
       "      <td>232</td>\n",
       "      <td>185</td>\n",
       "      <td>232</td>\n",
       "      <td>185</td>\n",
       "      <td>-78.759003</td>\n",
       "      <td>18.519623</td>\n",
       "      <td>-78.881271</td>\n",
       "      <td>18.450008</td>\n",
       "      <td>-78.820137</td>\n",
       "      <td>18.484816</td>\n",
       "      <td>1</td>\n",
       "      <td>1</td>\n",
       "      <td>1</td>\n",
       "    </tr>\n",
       "    <tr>\n",
       "      <th>1100</th>\n",
       "      <td>47</td>\n",
       "      <td>98</td>\n",
       "      <td>47</td>\n",
       "      <td>98</td>\n",
       "      <td>-76.000000</td>\n",
       "      <td>18.388502</td>\n",
       "      <td>-76.000000</td>\n",
       "      <td>18.526352</td>\n",
       "      <td>-76.000000</td>\n",
       "      <td>18.457427</td>\n",
       "      <td>1</td>\n",
       "      <td>1</td>\n",
       "      <td>1</td>\n",
       "    </tr>\n",
       "    <tr>\n",
       "      <th>1101</th>\n",
       "      <td>41</td>\n",
       "      <td>70</td>\n",
       "      <td>41</td>\n",
       "      <td>70</td>\n",
       "      <td>-76.856682</td>\n",
       "      <td>18.351824</td>\n",
       "      <td>-76.762802</td>\n",
       "      <td>18.288786</td>\n",
       "      <td>-76.809742</td>\n",
       "      <td>18.320305</td>\n",
       "      <td>1</td>\n",
       "      <td>1</td>\n",
       "      <td>1</td>\n",
       "    </tr>\n",
       "    <tr>\n",
       "      <th>1102</th>\n",
       "      <td>84</td>\n",
       "      <td>108</td>\n",
       "      <td>84</td>\n",
       "      <td>108</td>\n",
       "      <td>-77.473526</td>\n",
       "      <td>18.469908</td>\n",
       "      <td>-77.384270</td>\n",
       "      <td>18.466637</td>\n",
       "      <td>-77.428898</td>\n",
       "      <td>18.468272</td>\n",
       "      <td>1</td>\n",
       "      <td>1</td>\n",
       "      <td>1</td>\n",
       "    </tr>\n",
       "    <tr>\n",
       "      <th>1103</th>\n",
       "      <td>96</td>\n",
       "      <td>65</td>\n",
       "      <td>96</td>\n",
       "      <td>65</td>\n",
       "      <td>-76.000000</td>\n",
       "      <td>17.633043</td>\n",
       "      <td>-76.000000</td>\n",
       "      <td>17.781044</td>\n",
       "      <td>-76.000000</td>\n",
       "      <td>17.707044</td>\n",
       "      <td>1</td>\n",
       "      <td>1</td>\n",
       "      <td>1</td>\n",
       "    </tr>\n",
       "    <tr>\n",
       "      <th>1104</th>\n",
       "      <td>43</td>\n",
       "      <td>64</td>\n",
       "      <td>43</td>\n",
       "      <td>64</td>\n",
       "      <td>-78.643120</td>\n",
       "      <td>17.000000</td>\n",
       "      <td>-78.471001</td>\n",
       "      <td>17.000000</td>\n",
       "      <td>-78.557060</td>\n",
       "      <td>17.000000</td>\n",
       "      <td>1</td>\n",
       "      <td>1</td>\n",
       "      <td>1</td>\n",
       "    </tr>\n",
       "    <tr>\n",
       "      <th>1105</th>\n",
       "      <td>5</td>\n",
       "      <td>15</td>\n",
       "      <td>5</td>\n",
       "      <td>15</td>\n",
       "      <td>-77.463867</td>\n",
       "      <td>17.856054</td>\n",
       "      <td>-77.565269</td>\n",
       "      <td>17.857849</td>\n",
       "      <td>-77.514568</td>\n",
       "      <td>17.856952</td>\n",
       "      <td>1</td>\n",
       "      <td>1</td>\n",
       "      <td>1</td>\n",
       "    </tr>\n",
       "    <tr>\n",
       "      <th>1106</th>\n",
       "      <td>92</td>\n",
       "      <td>105</td>\n",
       "      <td>92</td>\n",
       "      <td>105</td>\n",
       "      <td>-78.012741</td>\n",
       "      <td>18.460989</td>\n",
       "      <td>-77.920471</td>\n",
       "      <td>18.503258</td>\n",
       "      <td>-77.966606</td>\n",
       "      <td>18.482123</td>\n",
       "      <td>1</td>\n",
       "      <td>1</td>\n",
       "      <td>1</td>\n",
       "    </tr>\n",
       "    <tr>\n",
       "      <th>1107</th>\n",
       "      <td>117</td>\n",
       "      <td>404</td>\n",
       "      <td>117</td>\n",
       "      <td>404</td>\n",
       "      <td>-77.080086</td>\n",
       "      <td>17.778936</td>\n",
       "      <td>-77.135330</td>\n",
       "      <td>17.696476</td>\n",
       "      <td>-77.107708</td>\n",
       "      <td>17.737706</td>\n",
       "      <td>1</td>\n",
       "      <td>1</td>\n",
       "      <td>1</td>\n",
       "    </tr>\n",
       "    <tr>\n",
       "      <th>1108</th>\n",
       "      <td>66</td>\n",
       "      <td>404</td>\n",
       "      <td>66</td>\n",
       "      <td>404</td>\n",
       "      <td>-77.175758</td>\n",
       "      <td>17.796568</td>\n",
       "      <td>-77.135330</td>\n",
       "      <td>17.696476</td>\n",
       "      <td>-77.155544</td>\n",
       "      <td>17.746522</td>\n",
       "      <td>1</td>\n",
       "      <td>1</td>\n",
       "      <td>1</td>\n",
       "    </tr>\n",
       "    <tr>\n",
       "      <th>1109</th>\n",
       "      <td>66</td>\n",
       "      <td>109</td>\n",
       "      <td>66</td>\n",
       "      <td>109</td>\n",
       "      <td>-77.175758</td>\n",
       "      <td>17.796568</td>\n",
       "      <td>-77.215530</td>\n",
       "      <td>17.724039</td>\n",
       "      <td>-77.195644</td>\n",
       "      <td>17.760303</td>\n",
       "      <td>1</td>\n",
       "      <td>1</td>\n",
       "      <td>1</td>\n",
       "    </tr>\n",
       "  </tbody>\n",
       "</table>\n",
       "<p>1109 rows × 13 columns</p>\n",
       "</div>"
      ],
      "text/plain": [
       "         0    1    2    3         x1         y1         x2         y2  \\\n",
       "index                                                                   \n",
       "1      163  329  163  329 -78.726959  18.837126 -78.745728  18.665728   \n",
       "2      329  298  329  298 -78.745728  18.665728 -78.612152  18.719635   \n",
       "3      298  163  298  163 -78.612152  18.719635 -78.726959  18.837126   \n",
       "4      220  355  220  355 -78.295212  17.828188 -78.185257  17.831535   \n",
       "5      355  218  355  218 -78.185257  17.831535 -78.240143  17.926964   \n",
       "6      218  220  218  220 -78.240143  17.926964 -78.295212  17.828188   \n",
       "7      305  390  305  390 -78.505302  17.517424 -78.631928  17.480579   \n",
       "8      390  293  390  293 -78.631928  17.480579 -78.566040  17.382647   \n",
       "9      293  305  293  305 -78.566040  17.382647 -78.505302  17.517424   \n",
       "10      42  174   42  174 -77.337639  19.000000 -77.422920  18.866097   \n",
       "11     174  148  174  148 -77.422920  18.866097 -77.254791  18.876709   \n",
       "12     148   42  148   42 -77.254791  18.876709 -77.337639  19.000000   \n",
       "13     184  395  184  395 -76.117416  17.707579 -76.100327  17.825298   \n",
       "14     395  138  395  138 -76.100327  17.825298 -76.227386  17.808346   \n",
       "15     138  184  138  184 -76.227386  17.808346 -76.117416  17.707579   \n",
       "16     174  376  174  376 -77.422920  18.866097 -77.524887  18.774036   \n",
       "17     376  375  376  375 -77.524887  18.774036 -77.428764  18.742899   \n",
       "18     375  174  375  174 -77.428764  18.742899 -77.422920  18.866097   \n",
       "19     189  389  189  389 -77.623909  17.771753 -77.576828  17.682095   \n",
       "20     389  207  389  207 -77.576828  17.682095 -77.526619  17.772562   \n",
       "21     207  189  207  189 -77.526619  17.772562 -77.623909  17.771753   \n",
       "22     164  328  164  328 -76.274162  17.164532 -76.256355  17.344595   \n",
       "23     328  297  328  297 -76.256355  17.344595 -76.391480  17.293682   \n",
       "24     297  164  297  164 -76.391480  17.293682 -76.274162  17.164532   \n",
       "25     306  406  306  406 -78.132156  17.923574 -78.031494  17.922298   \n",
       "26     406  403  406  403 -78.031494  17.922298 -78.074883  18.012617   \n",
       "27     403  306  403  306 -78.074883  18.012617 -78.132156  17.923574   \n",
       "28     229  275  229  275 -76.422173  18.371910 -76.452927  18.489824   \n",
       "29     275  274  275  274 -76.452927  18.489824 -76.551468  18.404758   \n",
       "30     274  229  274  229 -76.551468  18.404758 -76.422173  18.371910   \n",
       "...    ...  ...  ...  ...        ...        ...        ...        ...   \n",
       "1080   394  345  394  345 -77.507431  17.598886 -77.618240  17.583885   \n",
       "1081    94   72   94   72 -76.504166  17.866587 -76.612648  17.896580   \n",
       "1082   404  109  404  109 -77.135330  17.696476 -77.215530  17.724039   \n",
       "1083   287  400  287  400 -77.426300  17.416815 -77.510345  17.360071   \n",
       "1084     8   40    8   40 -77.658806  19.000000 -77.819931  19.000000   \n",
       "1085   215  405  215  405 -77.975029  17.843790 -77.916107  17.780367   \n",
       "1086   262  392  262  392 -76.656319  17.434442 -76.682274  17.536882   \n",
       "1087   184   65  184   65 -76.117416  17.707579 -76.000000  17.781044   \n",
       "1088   131  391  131  391 -78.417213  18.263033 -78.380737  18.176908   \n",
       "1089     5  207    5  207 -77.463867  17.856054 -77.526619  17.772562   \n",
       "1090   126  166  126  166 -76.788094  17.127472 -76.617836  17.150122   \n",
       "1091    18  143   18  143 -76.356880  17.000000 -76.445450  17.142702   \n",
       "1092    26   18   26   18 -76.528999  17.000000 -76.356880  17.000000   \n",
       "1093   128  173  128  173 -77.469978  17.133730 -77.629219  17.132372   \n",
       "1094   207   15  207   15 -77.526619  17.772562 -77.565269  17.857849   \n",
       "1095    59   91   59   91 -77.982147  19.000000 -78.142204  19.000000   \n",
       "1096    42   29   42   29 -77.337639  19.000000 -77.498222  19.000000   \n",
       "1097   173  123  173  123 -77.629219  17.132372 -77.792885  17.153307   \n",
       "1098    19   11   19   11 -79.000000  17.335804 -79.000000  17.175161   \n",
       "1099   232  185  232  185 -78.759003  18.519623 -78.881271  18.450008   \n",
       "1100    47   98   47   98 -76.000000  18.388502 -76.000000  18.526352   \n",
       "1101    41   70   41   70 -76.856682  18.351824 -76.762802  18.288786   \n",
       "1102    84  108   84  108 -77.473526  18.469908 -77.384270  18.466637   \n",
       "1103    96   65   96   65 -76.000000  17.633043 -76.000000  17.781044   \n",
       "1104    43   64   43   64 -78.643120  17.000000 -78.471001  17.000000   \n",
       "1105     5   15    5   15 -77.463867  17.856054 -77.565269  17.857849   \n",
       "1106    92  105   92  105 -78.012741  18.460989 -77.920471  18.503258   \n",
       "1107   117  404  117  404 -77.080086  17.778936 -77.135330  17.696476   \n",
       "1108    66  404   66  404 -77.175758  17.796568 -77.135330  17.696476   \n",
       "1109    66  109   66  109 -77.175758  17.796568 -77.215530  17.724039   \n",
       "\n",
       "              xc         yc  kbs1  kbs2  kbs  \n",
       "index                                         \n",
       "1     -78.736343  18.751427     1     1    1  \n",
       "2     -78.678940  18.692681     1     1    1  \n",
       "3     -78.669556  18.778380     1     1    1  \n",
       "4     -78.240234  17.829862     1     1    1  \n",
       "5     -78.212700  17.879250     1     1    1  \n",
       "6     -78.267677  17.877576     1     1    1  \n",
       "7     -78.568615  17.499001     1     1    1  \n",
       "8     -78.598984  17.431613     1     1    1  \n",
       "9     -78.535671  17.450035     1     1    1  \n",
       "10    -77.380280  18.933048     1     1    1  \n",
       "11    -77.338856  18.871403     1     1    1  \n",
       "12    -77.296215  18.938354     1     1    1  \n",
       "13    -76.108871  17.766438     1     1    1  \n",
       "14    -76.163857  17.816822     1     1    1  \n",
       "15    -76.172401  17.757962     1     1    1  \n",
       "16    -77.473904  18.820066     1     1    1  \n",
       "17    -77.476826  18.758468     1     1    1  \n",
       "18    -77.425842  18.804498     1     1    1  \n",
       "19    -77.600369  17.726924     1     1    1  \n",
       "20    -77.551724  17.727328     1     1    1  \n",
       "21    -77.575264  17.772158     1     1    1  \n",
       "22    -76.265259  17.254563     1     1    1  \n",
       "23    -76.323917  17.319139     1     1    1  \n",
       "24    -76.332821  17.229107     1     1    1  \n",
       "25    -78.081825  17.922936     1     1    1  \n",
       "26    -78.053188  17.967458     1     1    1  \n",
       "27    -78.103519  17.968096     1     1    1  \n",
       "28    -76.437550  18.430867     1     1    1  \n",
       "29    -76.502197  18.447291     1     1    1  \n",
       "30    -76.486820  18.388334     1     1    1  \n",
       "...          ...        ...   ...   ...  ...  \n",
       "1080  -77.562836  17.591386     1     1    1  \n",
       "1081  -76.558407  17.881583     1     1    1  \n",
       "1082  -77.175430  17.710258     1     1    1  \n",
       "1083  -77.468323  17.388443     1     1    1  \n",
       "1084  -77.739368  19.000000     1     1    1  \n",
       "1085  -77.945568  17.812078     1     1    1  \n",
       "1086  -76.669296  17.485662     1     1    1  \n",
       "1087  -76.058708  17.744311     1     1    1  \n",
       "1088  -78.398975  18.219971     1     1    1  \n",
       "1089  -77.495243  17.814308     1     1    1  \n",
       "1090  -76.702965  17.138797     1     1    1  \n",
       "1091  -76.401165  17.071351     1     1    1  \n",
       "1092  -76.442940  17.000000     1     1    1  \n",
       "1093  -77.549599  17.133051     1     1    1  \n",
       "1094  -77.545944  17.815206     1     1    1  \n",
       "1095  -78.062176  19.000000     1     1    1  \n",
       "1096  -77.417931  19.000000     1     1    1  \n",
       "1097  -77.711052  17.142839     1     1    1  \n",
       "1098  -79.000000  17.255483     1     1    1  \n",
       "1099  -78.820137  18.484816     1     1    1  \n",
       "1100  -76.000000  18.457427     1     1    1  \n",
       "1101  -76.809742  18.320305     1     1    1  \n",
       "1102  -77.428898  18.468272     1     1    1  \n",
       "1103  -76.000000  17.707044     1     1    1  \n",
       "1104  -78.557060  17.000000     1     1    1  \n",
       "1105  -77.514568  17.856952     1     1    1  \n",
       "1106  -77.966606  18.482123     1     1    1  \n",
       "1107  -77.107708  17.737706     1     1    1  \n",
       "1108  -77.155544  17.746522     1     1    1  \n",
       "1109  -77.195644  17.760303     1     1    1  \n",
       "\n",
       "[1109 rows x 13 columns]"
      ]
     },
     "execution_count": 141,
     "metadata": {},
     "output_type": "execute_result"
    }
   ],
   "source": [
    "edgs1.set_index('index') # set index again"
   ]
  },
  {
   "cell_type": "code",
   "execution_count": 142,
   "metadata": {},
   "outputs": [
    {
     "data": {
      "text/html": [
       "<div>\n",
       "<style scoped>\n",
       "    .dataframe tbody tr th:only-of-type {\n",
       "        vertical-align: middle;\n",
       "    }\n",
       "\n",
       "    .dataframe tbody tr th {\n",
       "        vertical-align: top;\n",
       "    }\n",
       "\n",
       "    .dataframe thead th {\n",
       "        text-align: right;\n",
       "    }\n",
       "</style>\n",
       "<table border=\"1\" class=\"dataframe\">\n",
       "  <thead>\n",
       "    <tr style=\"text-align: right;\">\n",
       "      <th></th>\n",
       "      <th>index</th>\n",
       "      <th>0</th>\n",
       "      <th>1</th>\n",
       "      <th>2</th>\n",
       "      <th>3</th>\n",
       "      <th>x1</th>\n",
       "      <th>y1</th>\n",
       "      <th>x2</th>\n",
       "      <th>y2</th>\n",
       "      <th>xc</th>\n",
       "      <th>yc</th>\n",
       "      <th>kbs1</th>\n",
       "      <th>kbs2</th>\n",
       "      <th>kbs</th>\n",
       "    </tr>\n",
       "  </thead>\n",
       "  <tbody>\n",
       "    <tr>\n",
       "      <th>0</th>\n",
       "      <td>1</td>\n",
       "      <td>163</td>\n",
       "      <td>329</td>\n",
       "      <td>163</td>\n",
       "      <td>329</td>\n",
       "      <td>-78.726959</td>\n",
       "      <td>18.837126</td>\n",
       "      <td>-78.745728</td>\n",
       "      <td>18.665728</td>\n",
       "      <td>-78.736343</td>\n",
       "      <td>18.751427</td>\n",
       "      <td>1</td>\n",
       "      <td>1</td>\n",
       "      <td>1</td>\n",
       "    </tr>\n",
       "    <tr>\n",
       "      <th>1</th>\n",
       "      <td>2</td>\n",
       "      <td>329</td>\n",
       "      <td>298</td>\n",
       "      <td>329</td>\n",
       "      <td>298</td>\n",
       "      <td>-78.745728</td>\n",
       "      <td>18.665728</td>\n",
       "      <td>-78.612152</td>\n",
       "      <td>18.719635</td>\n",
       "      <td>-78.678940</td>\n",
       "      <td>18.692681</td>\n",
       "      <td>1</td>\n",
       "      <td>1</td>\n",
       "      <td>1</td>\n",
       "    </tr>\n",
       "    <tr>\n",
       "      <th>2</th>\n",
       "      <td>3</td>\n",
       "      <td>298</td>\n",
       "      <td>163</td>\n",
       "      <td>298</td>\n",
       "      <td>163</td>\n",
       "      <td>-78.612152</td>\n",
       "      <td>18.719635</td>\n",
       "      <td>-78.726959</td>\n",
       "      <td>18.837126</td>\n",
       "      <td>-78.669556</td>\n",
       "      <td>18.778380</td>\n",
       "      <td>1</td>\n",
       "      <td>1</td>\n",
       "      <td>1</td>\n",
       "    </tr>\n",
       "    <tr>\n",
       "      <th>3</th>\n",
       "      <td>4</td>\n",
       "      <td>220</td>\n",
       "      <td>355</td>\n",
       "      <td>220</td>\n",
       "      <td>355</td>\n",
       "      <td>-78.295212</td>\n",
       "      <td>17.828188</td>\n",
       "      <td>-78.185257</td>\n",
       "      <td>17.831535</td>\n",
       "      <td>-78.240234</td>\n",
       "      <td>17.829862</td>\n",
       "      <td>1</td>\n",
       "      <td>1</td>\n",
       "      <td>1</td>\n",
       "    </tr>\n",
       "    <tr>\n",
       "      <th>4</th>\n",
       "      <td>5</td>\n",
       "      <td>355</td>\n",
       "      <td>218</td>\n",
       "      <td>355</td>\n",
       "      <td>218</td>\n",
       "      <td>-78.185257</td>\n",
       "      <td>17.831535</td>\n",
       "      <td>-78.240143</td>\n",
       "      <td>17.926964</td>\n",
       "      <td>-78.212700</td>\n",
       "      <td>17.879250</td>\n",
       "      <td>1</td>\n",
       "      <td>1</td>\n",
       "      <td>1</td>\n",
       "    </tr>\n",
       "  </tbody>\n",
       "</table>\n",
       "</div>"
      ],
      "text/plain": [
       "   index    0    1    2    3         x1         y1         x2         y2  \\\n",
       "0      1  163  329  163  329 -78.726959  18.837126 -78.745728  18.665728   \n",
       "1      2  329  298  329  298 -78.745728  18.665728 -78.612152  18.719635   \n",
       "2      3  298  163  298  163 -78.612152  18.719635 -78.726959  18.837126   \n",
       "3      4  220  355  220  355 -78.295212  17.828188 -78.185257  17.831535   \n",
       "4      5  355  218  355  218 -78.185257  17.831535 -78.240143  17.926964   \n",
       "\n",
       "          xc         yc  kbs1  kbs2  kbs  \n",
       "0 -78.736343  18.751427     1     1    1  \n",
       "1 -78.678940  18.692681     1     1    1  \n",
       "2 -78.669556  18.778380     1     1    1  \n",
       "3 -78.240234  17.829862     1     1    1  \n",
       "4 -78.212700  17.879250     1     1    1  "
      ]
     },
     "execution_count": 142,
     "metadata": {},
     "output_type": "execute_result"
    }
   ],
   "source": [
    "edgs1.head()"
   ]
  },
  {
   "cell_type": "markdown",
   "metadata": {},
   "source": [
    "#### check the edges that have a problem"
   ]
  },
  {
   "cell_type": "code",
   "execution_count": 143,
   "metadata": {},
   "outputs": [
    {
     "data": {
      "text/html": [
       "<div>\n",
       "<style scoped>\n",
       "    .dataframe tbody tr th:only-of-type {\n",
       "        vertical-align: middle;\n",
       "    }\n",
       "\n",
       "    .dataframe tbody tr th {\n",
       "        vertical-align: top;\n",
       "    }\n",
       "\n",
       "    .dataframe thead th {\n",
       "        text-align: right;\n",
       "    }\n",
       "</style>\n",
       "<table border=\"1\" class=\"dataframe\">\n",
       "  <thead>\n",
       "    <tr style=\"text-align: right;\">\n",
       "      <th></th>\n",
       "      <th>level_0</th>\n",
       "      <th>index</th>\n",
       "      <th>0</th>\n",
       "      <th>1</th>\n",
       "      <th>2</th>\n",
       "      <th>3</th>\n",
       "      <th>x1</th>\n",
       "      <th>y1</th>\n",
       "      <th>x2</th>\n",
       "      <th>y2</th>\n",
       "      <th>xc</th>\n",
       "      <th>yc</th>\n",
       "      <th>kbs1</th>\n",
       "      <th>kbs2</th>\n",
       "      <th>kbs</th>\n",
       "    </tr>\n",
       "  </thead>\n",
       "  <tbody>\n",
       "    <tr>\n",
       "      <th>0</th>\n",
       "      <td>60</td>\n",
       "      <td>61</td>\n",
       "      <td>167</td>\n",
       "      <td>94</td>\n",
       "      <td>94</td>\n",
       "      <td>167</td>\n",
       "      <td>-76.576180</td>\n",
       "      <td>17.787008</td>\n",
       "      <td>-76.504166</td>\n",
       "      <td>17.866587</td>\n",
       "      <td>-76.540173</td>\n",
       "      <td>17.826797</td>\n",
       "      <td>1</td>\n",
       "      <td>1</td>\n",
       "      <td>1</td>\n",
       "    </tr>\n",
       "    <tr>\n",
       "      <th>1</th>\n",
       "      <td>67</td>\n",
       "      <td>68</td>\n",
       "      <td>233</td>\n",
       "      <td>387</td>\n",
       "      <td>387</td>\n",
       "      <td>233</td>\n",
       "      <td>-77.785370</td>\n",
       "      <td>17.683725</td>\n",
       "      <td>-77.823601</td>\n",
       "      <td>17.778366</td>\n",
       "      <td>-77.804485</td>\n",
       "      <td>17.731046</td>\n",
       "      <td>1</td>\n",
       "      <td>1</td>\n",
       "      <td>1</td>\n",
       "    </tr>\n",
       "    <tr>\n",
       "      <th>2</th>\n",
       "      <td>173</td>\n",
       "      <td>174</td>\n",
       "      <td>282</td>\n",
       "      <td>167</td>\n",
       "      <td>167</td>\n",
       "      <td>282</td>\n",
       "      <td>-76.534286</td>\n",
       "      <td>17.662857</td>\n",
       "      <td>-76.576180</td>\n",
       "      <td>17.787008</td>\n",
       "      <td>-76.555233</td>\n",
       "      <td>17.724933</td>\n",
       "      <td>1</td>\n",
       "      <td>1</td>\n",
       "      <td>1</td>\n",
       "    </tr>\n",
       "    <tr>\n",
       "      <th>3</th>\n",
       "      <td>222</td>\n",
       "      <td>223</td>\n",
       "      <td>169</td>\n",
       "      <td>123</td>\n",
       "      <td>123</td>\n",
       "      <td>169</td>\n",
       "      <td>-77.953705</td>\n",
       "      <td>17.130636</td>\n",
       "      <td>-77.792885</td>\n",
       "      <td>17.153307</td>\n",
       "      <td>-77.873295</td>\n",
       "      <td>17.141972</td>\n",
       "      <td>1</td>\n",
       "      <td>1</td>\n",
       "      <td>1</td>\n",
       "    </tr>\n",
       "    <tr>\n",
       "      <th>4</th>\n",
       "      <td>297</td>\n",
       "      <td>298</td>\n",
       "      <td>280</td>\n",
       "      <td>180</td>\n",
       "      <td>180</td>\n",
       "      <td>280</td>\n",
       "      <td>-77.174080</td>\n",
       "      <td>18.756838</td>\n",
       "      <td>-77.095207</td>\n",
       "      <td>18.870497</td>\n",
       "      <td>-77.134644</td>\n",
       "      <td>18.813667</td>\n",
       "      <td>1</td>\n",
       "      <td>1</td>\n",
       "      <td>1</td>\n",
       "    </tr>\n",
       "  </tbody>\n",
       "</table>\n",
       "</div>"
      ],
      "text/plain": [
       "   level_0  index    0    1    2    3         x1         y1         x2  \\\n",
       "0       60     61  167   94   94  167 -76.576180  17.787008 -76.504166   \n",
       "1       67     68  233  387  387  233 -77.785370  17.683725 -77.823601   \n",
       "2      173    174  282  167  167  282 -76.534286  17.662857 -76.576180   \n",
       "3      222    223  169  123  123  169 -77.953705  17.130636 -77.792885   \n",
       "4      297    298  280  180  180  280 -77.174080  18.756838 -77.095207   \n",
       "\n",
       "          y2         xc         yc  kbs1  kbs2  kbs  \n",
       "0  17.866587 -76.540173  17.826797     1     1    1  \n",
       "1  17.778366 -77.804485  17.731046     1     1    1  \n",
       "2  17.787008 -76.555233  17.724933     1     1    1  \n",
       "3  17.153307 -77.873295  17.141972     1     1    1  \n",
       "4  18.870497 -77.134644  18.813667     1     1    1  "
      ]
     },
     "execution_count": 143,
     "metadata": {},
     "output_type": "execute_result"
    }
   ],
   "source": [
    "er = edgs1[edgs1[0] != edgs1[2]]\n",
    "er = er.reset_index()\n",
    "er.head()"
   ]
  },
  {
   "cell_type": "code",
   "execution_count": 144,
   "metadata": {},
   "outputs": [
    {
     "data": {
      "image/png": "[encoded data removed]",
      "text/plain": [
       "<Figure size 864x720 with 1 Axes>"
      ]
     },
     "metadata": {},
     "output_type": "display_data"
    }
   ],
   "source": [
    "plt.figure(figsize=(12,10))\n",
    "plt.scatter(grd.lon.values, grd.lat.values)\n",
    "plt.triplot(grd.lon.values, grd.lat.values, tri3, 'go-', lw=.5, markersize=5 )\n",
    "for i in range(er.shape[0]):\n",
    "    plt.plot([er.loc[i,'x1'],er.loc[i,'x2']],[er.loc[i,'y1'],er.loc[i,'y2']])\n",
    "\n",
    "plt.show()"
   ]
  },
  {
   "cell_type": "markdown",
   "metadata": {},
   "source": [
    "## Combine element-wise variables"
   ]
  },
  {
   "cell_type": "markdown",
   "metadata": {},
   "source": [
    "Now create a full Dataset and fill them up with the appropriate values. We use the 'wed_dry' variable as example"
   ]
  },
  {
   "cell_type": "code",
   "execution_count": 145,
   "metadata": {},
   "outputs": [],
   "source": [
    "s = pd.Series(gindx.values.flatten()) # create a series with the elements node reference"
   ]
  },
  {
   "cell_type": "code",
   "execution_count": 146,
   "metadata": {},
   "outputs": [],
   "source": [
    "data = pd.concat([s] * times.shape[0], axis=1) # concatenate to the number of time steps"
   ]
  },
  {
   "cell_type": "code",
   "execution_count": 147,
   "metadata": {},
   "outputs": [],
   "source": [
    "data.columns=times # set columns names as the timestamps"
   ]
  },
  {
   "cell_type": "code",
   "execution_count": 148,
   "metadata": {},
   "outputs": [
    {
     "data": {
      "text/html": [
       "<div>\n",
       "<style scoped>\n",
       "    .dataframe tbody tr th:only-of-type {\n",
       "        vertical-align: middle;\n",
       "    }\n",
       "\n",
       "    .dataframe tbody tr th {\n",
       "        vertical-align: top;\n",
       "    }\n",
       "\n",
       "    .dataframe thead th {\n",
       "        text-align: right;\n",
       "    }\n",
       "</style>\n",
       "<table border=\"1\" class=\"dataframe\">\n",
       "  <thead>\n",
       "    <tr style=\"text-align: right;\">\n",
       "      <th></th>\n",
       "      <th>2013-10-28 01:00:00</th>\n",
       "      <th>2013-10-28 02:00:00</th>\n",
       "      <th>2013-10-28 03:00:00</th>\n",
       "      <th>2013-10-28 04:00:00</th>\n",
       "      <th>2013-10-28 05:00:00</th>\n",
       "      <th>2013-10-28 06:00:00</th>\n",
       "      <th>2013-10-28 07:00:00</th>\n",
       "      <th>2013-10-28 08:00:00</th>\n",
       "      <th>2013-10-28 09:00:00</th>\n",
       "      <th>2013-10-28 10:00:00</th>\n",
       "      <th>2013-10-28 11:00:00</th>\n",
       "      <th>2013-10-28 12:00:00</th>\n",
       "    </tr>\n",
       "  </thead>\n",
       "  <tbody>\n",
       "    <tr>\n",
       "      <th>0</th>\n",
       "      <td>1</td>\n",
       "      <td>1</td>\n",
       "      <td>1</td>\n",
       "      <td>1</td>\n",
       "      <td>1</td>\n",
       "      <td>1</td>\n",
       "      <td>1</td>\n",
       "      <td>1</td>\n",
       "      <td>1</td>\n",
       "      <td>1</td>\n",
       "      <td>1</td>\n",
       "      <td>1</td>\n",
       "    </tr>\n",
       "    <tr>\n",
       "      <th>1</th>\n",
       "      <td>0</td>\n",
       "      <td>0</td>\n",
       "      <td>0</td>\n",
       "      <td>0</td>\n",
       "      <td>0</td>\n",
       "      <td>0</td>\n",
       "      <td>0</td>\n",
       "      <td>0</td>\n",
       "      <td>0</td>\n",
       "      <td>0</td>\n",
       "      <td>0</td>\n",
       "      <td>0</td>\n",
       "    </tr>\n",
       "    <tr>\n",
       "      <th>2</th>\n",
       "      <td>0</td>\n",
       "      <td>0</td>\n",
       "      <td>0</td>\n",
       "      <td>0</td>\n",
       "      <td>0</td>\n",
       "      <td>0</td>\n",
       "      <td>0</td>\n",
       "      <td>0</td>\n",
       "      <td>0</td>\n",
       "      <td>0</td>\n",
       "      <td>0</td>\n",
       "      <td>0</td>\n",
       "    </tr>\n",
       "    <tr>\n",
       "      <th>3</th>\n",
       "      <td>1</td>\n",
       "      <td>1</td>\n",
       "      <td>1</td>\n",
       "      <td>1</td>\n",
       "      <td>1</td>\n",
       "      <td>1</td>\n",
       "      <td>1</td>\n",
       "      <td>1</td>\n",
       "      <td>1</td>\n",
       "      <td>1</td>\n",
       "      <td>1</td>\n",
       "      <td>1</td>\n",
       "    </tr>\n",
       "    <tr>\n",
       "      <th>4</th>\n",
       "      <td>3</td>\n",
       "      <td>3</td>\n",
       "      <td>3</td>\n",
       "      <td>3</td>\n",
       "      <td>3</td>\n",
       "      <td>3</td>\n",
       "      <td>3</td>\n",
       "      <td>3</td>\n",
       "      <td>3</td>\n",
       "      <td>3</td>\n",
       "      <td>3</td>\n",
       "      <td>3</td>\n",
       "    </tr>\n",
       "  </tbody>\n",
       "</table>\n",
       "</div>"
      ],
      "text/plain": [
       "   2013-10-28 01:00:00  2013-10-28 02:00:00  2013-10-28 03:00:00  \\\n",
       "0                    1                    1                    1   \n",
       "1                    0                    0                    0   \n",
       "2                    0                    0                    0   \n",
       "3                    1                    1                    1   \n",
       "4                    3                    3                    3   \n",
       "\n",
       "   2013-10-28 04:00:00  2013-10-28 05:00:00  2013-10-28 06:00:00  \\\n",
       "0                    1                    1                    1   \n",
       "1                    0                    0                    0   \n",
       "2                    0                    0                    0   \n",
       "3                    1                    1                    1   \n",
       "4                    3                    3                    3   \n",
       "\n",
       "   2013-10-28 07:00:00  2013-10-28 08:00:00  2013-10-28 09:00:00  \\\n",
       "0                    1                    1                    1   \n",
       "1                    0                    0                    0   \n",
       "2                    0                    0                    0   \n",
       "3                    1                    1                    1   \n",
       "4                    3                    3                    3   \n",
       "\n",
       "   2013-10-28 10:00:00  2013-10-28 11:00:00  2013-10-28 12:00:00  \n",
       "0                    1                    1                    1  \n",
       "1                    0                    0                    0  \n",
       "2                    0                    0                    0  \n",
       "3                    1                    1                    1  \n",
       "4                    3                    3                    3  "
      ]
     },
     "execution_count": 148,
     "metadata": {},
     "output_type": "execute_result"
    }
   ],
   "source": [
    "data.head() # view"
   ]
  },
  {
   "cell_type": "code",
   "execution_count": 149,
   "metadata": {},
   "outputs": [],
   "source": [
    "wd = data.copy() # make a copy for safery"
   ]
  },
  {
   "cell_type": "code",
   "execution_count": 150,
   "metadata": {},
   "outputs": [
    {
     "name": "stdout",
     "output_type": "stream",
     "text": [
      "(174, 12) (174, 12)\n"
     ]
    }
   ],
   "source": [
    "print wd.loc[data['2013-10-28 01:00:00'] == 0 ].shape, out[0].wetdry_elem.values.T.shape # check shapes"
   ]
  },
  {
   "cell_type": "code",
   "execution_count": 151,
   "metadata": {},
   "outputs": [],
   "source": [
    "for time in times: #all times\n",
    "    for i in range(len(keys)): # all components\n",
    "        wd.loc[data[time] == i] = out[i].wetdry_elem.values.T # wetdry_elem variable"
   ]
  },
  {
   "cell_type": "code",
   "execution_count": 152,
   "metadata": {},
   "outputs": [
    {
     "data": {
      "text/html": [
       "<div>\n",
       "<style scoped>\n",
       "    .dataframe tbody tr th:only-of-type {\n",
       "        vertical-align: middle;\n",
       "    }\n",
       "\n",
       "    .dataframe tbody tr th {\n",
       "        vertical-align: top;\n",
       "    }\n",
       "\n",
       "    .dataframe thead th {\n",
       "        text-align: right;\n",
       "    }\n",
       "</style>\n",
       "<table border=\"1\" class=\"dataframe\">\n",
       "  <thead>\n",
       "    <tr style=\"text-align: right;\">\n",
       "      <th></th>\n",
       "      <th>2013-10-28 01:00:00</th>\n",
       "      <th>2013-10-28 02:00:00</th>\n",
       "      <th>2013-10-28 03:00:00</th>\n",
       "      <th>2013-10-28 04:00:00</th>\n",
       "      <th>2013-10-28 05:00:00</th>\n",
       "      <th>2013-10-28 06:00:00</th>\n",
       "      <th>2013-10-28 07:00:00</th>\n",
       "      <th>2013-10-28 08:00:00</th>\n",
       "      <th>2013-10-28 09:00:00</th>\n",
       "      <th>2013-10-28 10:00:00</th>\n",
       "      <th>2013-10-28 11:00:00</th>\n",
       "      <th>2013-10-28 12:00:00</th>\n",
       "    </tr>\n",
       "  </thead>\n",
       "  <tbody>\n",
       "    <tr>\n",
       "      <th>0</th>\n",
       "      <td>0.0</td>\n",
       "      <td>0.0</td>\n",
       "      <td>0.0</td>\n",
       "      <td>0.0</td>\n",
       "      <td>0.0</td>\n",
       "      <td>0.0</td>\n",
       "      <td>0.0</td>\n",
       "      <td>0.0</td>\n",
       "      <td>0.0</td>\n",
       "      <td>0.0</td>\n",
       "      <td>0.0</td>\n",
       "      <td>0.0</td>\n",
       "    </tr>\n",
       "    <tr>\n",
       "      <th>1</th>\n",
       "      <td>0.0</td>\n",
       "      <td>0.0</td>\n",
       "      <td>0.0</td>\n",
       "      <td>0.0</td>\n",
       "      <td>0.0</td>\n",
       "      <td>0.0</td>\n",
       "      <td>0.0</td>\n",
       "      <td>0.0</td>\n",
       "      <td>0.0</td>\n",
       "      <td>0.0</td>\n",
       "      <td>0.0</td>\n",
       "      <td>0.0</td>\n",
       "    </tr>\n",
       "    <tr>\n",
       "      <th>2</th>\n",
       "      <td>1.0</td>\n",
       "      <td>1.0</td>\n",
       "      <td>1.0</td>\n",
       "      <td>1.0</td>\n",
       "      <td>1.0</td>\n",
       "      <td>1.0</td>\n",
       "      <td>1.0</td>\n",
       "      <td>1.0</td>\n",
       "      <td>1.0</td>\n",
       "      <td>1.0</td>\n",
       "      <td>1.0</td>\n",
       "      <td>1.0</td>\n",
       "    </tr>\n",
       "    <tr>\n",
       "      <th>3</th>\n",
       "      <td>0.0</td>\n",
       "      <td>0.0</td>\n",
       "      <td>0.0</td>\n",
       "      <td>0.0</td>\n",
       "      <td>0.0</td>\n",
       "      <td>0.0</td>\n",
       "      <td>0.0</td>\n",
       "      <td>0.0</td>\n",
       "      <td>0.0</td>\n",
       "      <td>0.0</td>\n",
       "      <td>0.0</td>\n",
       "      <td>0.0</td>\n",
       "    </tr>\n",
       "    <tr>\n",
       "      <th>4</th>\n",
       "      <td>0.0</td>\n",
       "      <td>0.0</td>\n",
       "      <td>0.0</td>\n",
       "      <td>0.0</td>\n",
       "      <td>0.0</td>\n",
       "      <td>0.0</td>\n",
       "      <td>0.0</td>\n",
       "      <td>0.0</td>\n",
       "      <td>0.0</td>\n",
       "      <td>0.0</td>\n",
       "      <td>0.0</td>\n",
       "      <td>0.0</td>\n",
       "    </tr>\n",
       "  </tbody>\n",
       "</table>\n",
       "</div>"
      ],
      "text/plain": [
       "   2013-10-28 01:00:00  2013-10-28 02:00:00  2013-10-28 03:00:00  \\\n",
       "0                  0.0                  0.0                  0.0   \n",
       "1                  0.0                  0.0                  0.0   \n",
       "2                  1.0                  1.0                  1.0   \n",
       "3                  0.0                  0.0                  0.0   \n",
       "4                  0.0                  0.0                  0.0   \n",
       "\n",
       "   2013-10-28 04:00:00  2013-10-28 05:00:00  2013-10-28 06:00:00  \\\n",
       "0                  0.0                  0.0                  0.0   \n",
       "1                  0.0                  0.0                  0.0   \n",
       "2                  1.0                  1.0                  1.0   \n",
       "3                  0.0                  0.0                  0.0   \n",
       "4                  0.0                  0.0                  0.0   \n",
       "\n",
       "   2013-10-28 07:00:00  2013-10-28 08:00:00  2013-10-28 09:00:00  \\\n",
       "0                  0.0                  0.0                  0.0   \n",
       "1                  0.0                  0.0                  0.0   \n",
       "2                  1.0                  1.0                  1.0   \n",
       "3                  0.0                  0.0                  0.0   \n",
       "4                  0.0                  0.0                  0.0   \n",
       "\n",
       "   2013-10-28 10:00:00  2013-10-28 11:00:00  2013-10-28 12:00:00  \n",
       "0                  0.0                  0.0                  0.0  \n",
       "1                  0.0                  0.0                  0.0  \n",
       "2                  1.0                  1.0                  1.0  \n",
       "3                  0.0                  0.0                  0.0  \n",
       "4                  0.0                  0.0                  0.0  "
      ]
     },
     "execution_count": 152,
     "metadata": {},
     "output_type": "execute_result"
    }
   ],
   "source": [
    "wd.head()"
   ]
  },
  {
   "cell_type": "code",
   "execution_count": 153,
   "metadata": {},
   "outputs": [
    {
     "data": {
      "text/plain": [
       "(12, 702)"
      ]
     },
     "execution_count": 153,
     "metadata": {},
     "output_type": "execute_result"
    }
   ],
   "source": [
    "wd.T.shape # check shape"
   ]
  },
  {
   "cell_type": "markdown",
   "metadata": {},
   "source": [
    "### All variables"
   ]
  },
  {
   "cell_type": "code",
   "execution_count": 154,
   "metadata": {},
   "outputs": [],
   "source": [
    "def ecombine(var,out,data,times):\n",
    "    wd = data.copy()\n",
    "    for time in times: #all times\n",
    "        for i in range(len(keys)): # all components\n",
    "            wd.loc[data[time] == i] = out[i][var].values.T #\n",
    "\n",
    "    return wd.T\n"
   ]
  },
  {
   "cell_type": "code",
   "execution_count": 155,
   "metadata": {},
   "outputs": [
    {
     "name": "stdout",
     "output_type": "stream",
     "text": [
      "time (u'time',) 1\n",
      "wetdry_elem (u'time', u'nSCHISM_hgrid_face') 2\n",
      "zcor (u'time', u'nSCHISM_hgrid_node', u'nSCHISM_vgrid_layers') 3\n",
      "elev (u'time', u'nSCHISM_hgrid_node') 2\n",
      "wind_speed (u'time', u'nSCHISM_hgrid_node', u'two') 3\n",
      "vertical_velocity (u'time', u'nSCHISM_hgrid_node', u'nSCHISM_vgrid_layers') 3\n",
      "temp (u'time', u'nSCHISM_hgrid_node', u'nSCHISM_vgrid_layers') 3\n",
      "salt (u'time', u'nSCHISM_hgrid_node', u'nSCHISM_vgrid_layers') 3\n",
      "hvel (u'time', u'nSCHISM_hgrid_node', u'nSCHISM_vgrid_layers', u'two') 4\n"
     ]
    }
   ],
   "source": [
    "edic={}\n",
    "for var in out[0].variables.keys():\n",
    "    print out[0][var].name, out[0][var].dims, len(out[0][var].dims)\n",
    "    if ('nSCHISM_hgrid_face' in out[0][var].dims) & (len(out[0][var].dims) == 2):\n",
    "        wd = data.copy()\n",
    "        for time in times: #all times\n",
    "            for i in range(len(keys)): # all components\n",
    "                wd.loc[data[time] == i] = out[i][var].values.T #\n",
    "        vname = out[0][var].name\n",
    "        edic[vname]=wd.T.values\n",
    "        \n",
    "    elif ('nSCHISM_hgrid_face' in out[0][var].dims) & ('two' in out[0][var].dims):\n",
    "        wd = data.copy()\n",
    "        for time in times: #all times\n",
    "            for i in range(len(keys)): # all components\n",
    "                wd.loc[data[time] == i] = out[i][var].values[:,:,0].T # wetdry_elem variable\n",
    "        vx = wd.T\n",
    "                \n",
    "        wd = data.copy()\n",
    "        for time in times: #all times\n",
    "            for i in range(len(keys)): # all components\n",
    "                wd.loc[data[time] == i] = out[i][var].values[:,:,1].T # wetdry_elem variable\n",
    "\n",
    "        vy = wd.T\n",
    "\n",
    "        vname = out[0][var].name\n",
    "        edic[vname] = np.dstack([vx.values,vy.values])\n",
    "        \n",
    "    elif ('nSCHISM_hgrid_face' in out[0][var].dims) & ('nSCHISM_vgrid_layers' in out[0][var].dims):\n",
    "        s=out[0][var].shape[2]\n",
    "        ars=[]\n",
    "        for l in range(s):\n",
    "            wd = data.copy()\n",
    "            for time in times: #all times\n",
    "                for i in range(len(keys)): # all components\n",
    "                    wd.loc[data[time] == i] = out[i][var].values[:,:,0].T # wetdry_elem variable\n",
    "\n",
    "            ars.append(wd.T)\n",
    "\n",
    "        vname = out[0][var].name\n",
    "        edic[vname] = np.dstack([v.values for v in ars])\n",
    "\n",
    "\n",
    "\n",
    "        "
   ]
  },
  {
   "cell_type": "code",
   "execution_count": 156,
   "metadata": {},
   "outputs": [
    {
     "data": {
      "text/plain": [
       "True"
      ]
     },
     "execution_count": 156,
     "metadata": {},
     "output_type": "execute_result"
    }
   ],
   "source": [
    "np.array_equal(edic['wetdry_elem'],wd.T.values) # check"
   ]
  },
  {
   "cell_type": "markdown",
   "metadata": {},
   "source": [
    "## Combine node-wise variables"
   ]
  },
  {
   "cell_type": "markdown",
   "metadata": {},
   "source": [
    "As an example we do the 'elev' variable"
   ]
  },
  {
   "cell_type": "code",
   "execution_count": 157,
   "metadata": {},
   "outputs": [],
   "source": [
    "pout = out[0].elev.to_pandas().T\n",
    "for i in range(1,len(keys)):\n",
    "    pout = pd.concat([pout, out[i].elev.to_pandas().T])"
   ]
  },
  {
   "cell_type": "code",
   "execution_count": 158,
   "metadata": {},
   "outputs": [
    {
     "data": {
      "text/html": [
       "<div>\n",
       "<style scoped>\n",
       "    .dataframe tbody tr th:only-of-type {\n",
       "        vertical-align: middle;\n",
       "    }\n",
       "\n",
       "    .dataframe tbody tr th {\n",
       "        vertical-align: top;\n",
       "    }\n",
       "\n",
       "    .dataframe thead th {\n",
       "        text-align: right;\n",
       "    }\n",
       "</style>\n",
       "<table border=\"1\" class=\"dataframe\">\n",
       "  <thead>\n",
       "    <tr style=\"text-align: right;\">\n",
       "      <th>time</th>\n",
       "      <th>3600.0</th>\n",
       "      <th>7200.0</th>\n",
       "      <th>10800.0</th>\n",
       "      <th>14400.0</th>\n",
       "      <th>18000.0</th>\n",
       "      <th>21600.0</th>\n",
       "      <th>25200.0</th>\n",
       "      <th>28800.0</th>\n",
       "      <th>32400.0</th>\n",
       "      <th>36000.0</th>\n",
       "      <th>39600.0</th>\n",
       "      <th>43200.0</th>\n",
       "    </tr>\n",
       "    <tr>\n",
       "      <th>nSCHISM_hgrid_node</th>\n",
       "      <th></th>\n",
       "      <th></th>\n",
       "      <th></th>\n",
       "      <th></th>\n",
       "      <th></th>\n",
       "      <th></th>\n",
       "      <th></th>\n",
       "      <th></th>\n",
       "      <th></th>\n",
       "      <th></th>\n",
       "      <th></th>\n",
       "      <th></th>\n",
       "    </tr>\n",
       "  </thead>\n",
       "  <tbody>\n",
       "    <tr>\n",
       "      <th>0</th>\n",
       "      <td>-0.000555</td>\n",
       "      <td>-0.001322</td>\n",
       "      <td>-0.001953</td>\n",
       "      <td>-0.002593</td>\n",
       "      <td>-0.003135</td>\n",
       "      <td>-0.003568</td>\n",
       "      <td>-0.003490</td>\n",
       "      <td>-0.003374</td>\n",
       "      <td>-0.003200</td>\n",
       "      <td>-0.003343</td>\n",
       "      <td>-0.003586</td>\n",
       "      <td>-0.003914</td>\n",
       "    </tr>\n",
       "    <tr>\n",
       "      <th>1</th>\n",
       "      <td>0.000143</td>\n",
       "      <td>-0.000572</td>\n",
       "      <td>-0.001176</td>\n",
       "      <td>-0.001785</td>\n",
       "      <td>-0.002310</td>\n",
       "      <td>-0.002737</td>\n",
       "      <td>-0.002684</td>\n",
       "      <td>-0.002595</td>\n",
       "      <td>-0.002451</td>\n",
       "      <td>-0.002534</td>\n",
       "      <td>-0.002706</td>\n",
       "      <td>-0.002955</td>\n",
       "    </tr>\n",
       "    <tr>\n",
       "      <th>2</th>\n",
       "      <td>-0.000291</td>\n",
       "      <td>-0.001048</td>\n",
       "      <td>-0.001685</td>\n",
       "      <td>-0.002347</td>\n",
       "      <td>-0.002946</td>\n",
       "      <td>-0.003462</td>\n",
       "      <td>-0.003467</td>\n",
       "      <td>-0.003430</td>\n",
       "      <td>-0.003321</td>\n",
       "      <td>-0.003507</td>\n",
       "      <td>-0.003786</td>\n",
       "      <td>-0.004149</td>\n",
       "    </tr>\n",
       "    <tr>\n",
       "      <th>3</th>\n",
       "      <td>0.003939</td>\n",
       "      <td>0.004878</td>\n",
       "      <td>0.006061</td>\n",
       "      <td>0.007281</td>\n",
       "      <td>0.008379</td>\n",
       "      <td>0.009336</td>\n",
       "      <td>0.010201</td>\n",
       "      <td>0.011052</td>\n",
       "      <td>0.011806</td>\n",
       "      <td>0.012725</td>\n",
       "      <td>0.013607</td>\n",
       "      <td>0.014446</td>\n",
       "    </tr>\n",
       "    <tr>\n",
       "      <th>4</th>\n",
       "      <td>0.002742</td>\n",
       "      <td>0.002689</td>\n",
       "      <td>0.002674</td>\n",
       "      <td>0.002633</td>\n",
       "      <td>0.002544</td>\n",
       "      <td>0.002432</td>\n",
       "      <td>0.002548</td>\n",
       "      <td>0.002694</td>\n",
       "      <td>0.002845</td>\n",
       "      <td>0.003092</td>\n",
       "      <td>0.003303</td>\n",
       "      <td>0.003476</td>\n",
       "    </tr>\n",
       "  </tbody>\n",
       "</table>\n",
       "</div>"
      ],
      "text/plain": [
       "time                 3600.0    7200.0    10800.0   14400.0   18000.0  \\\n",
       "nSCHISM_hgrid_node                                                     \n",
       "0                  -0.000555 -0.001322 -0.001953 -0.002593 -0.003135   \n",
       "1                   0.000143 -0.000572 -0.001176 -0.001785 -0.002310   \n",
       "2                  -0.000291 -0.001048 -0.001685 -0.002347 -0.002946   \n",
       "3                   0.003939  0.004878  0.006061  0.007281  0.008379   \n",
       "4                   0.002742  0.002689  0.002674  0.002633  0.002544   \n",
       "\n",
       "time                 21600.0   25200.0   28800.0   32400.0   36000.0  \\\n",
       "nSCHISM_hgrid_node                                                     \n",
       "0                  -0.003568 -0.003490 -0.003374 -0.003200 -0.003343   \n",
       "1                  -0.002737 -0.002684 -0.002595 -0.002451 -0.002534   \n",
       "2                  -0.003462 -0.003467 -0.003430 -0.003321 -0.003507   \n",
       "3                   0.009336  0.010201  0.011052  0.011806  0.012725   \n",
       "4                   0.002432  0.002548  0.002694  0.002845  0.003092   \n",
       "\n",
       "time                 39600.0   43200.0  \n",
       "nSCHISM_hgrid_node                      \n",
       "0                  -0.003586 -0.003914  \n",
       "1                  -0.002706 -0.002955  \n",
       "2                  -0.003786 -0.004149  \n",
       "3                   0.013607  0.014446  \n",
       "4                   0.003303  0.003476  "
      ]
     },
     "execution_count": 158,
     "metadata": {},
     "output_type": "execute_result"
    }
   ],
   "source": [
    "pout.head()"
   ]
  },
  {
   "cell_type": "code",
   "execution_count": 159,
   "metadata": {},
   "outputs": [],
   "source": [
    "pout = pout.reset_index(drop=True) # reset index"
   ]
  },
  {
   "cell_type": "code",
   "execution_count": 160,
   "metadata": {},
   "outputs": [
    {
     "data": {
      "text/html": [
       "<div>\n",
       "<style scoped>\n",
       "    .dataframe tbody tr th:only-of-type {\n",
       "        vertical-align: middle;\n",
       "    }\n",
       "\n",
       "    .dataframe tbody tr th {\n",
       "        vertical-align: top;\n",
       "    }\n",
       "\n",
       "    .dataframe thead th {\n",
       "        text-align: right;\n",
       "    }\n",
       "</style>\n",
       "<table border=\"1\" class=\"dataframe\">\n",
       "  <thead>\n",
       "    <tr style=\"text-align: right;\">\n",
       "      <th>time</th>\n",
       "      <th>3600.0</th>\n",
       "      <th>7200.0</th>\n",
       "      <th>10800.0</th>\n",
       "      <th>14400.0</th>\n",
       "      <th>18000.0</th>\n",
       "      <th>21600.0</th>\n",
       "      <th>25200.0</th>\n",
       "      <th>28800.0</th>\n",
       "      <th>32400.0</th>\n",
       "      <th>36000.0</th>\n",
       "      <th>39600.0</th>\n",
       "      <th>43200.0</th>\n",
       "    </tr>\n",
       "  </thead>\n",
       "  <tbody>\n",
       "    <tr>\n",
       "      <th>0</th>\n",
       "      <td>-0.000555</td>\n",
       "      <td>-0.001322</td>\n",
       "      <td>-0.001953</td>\n",
       "      <td>-0.002593</td>\n",
       "      <td>-0.003135</td>\n",
       "      <td>-0.003568</td>\n",
       "      <td>-0.003490</td>\n",
       "      <td>-0.003374</td>\n",
       "      <td>-0.003200</td>\n",
       "      <td>-0.003343</td>\n",
       "      <td>-0.003586</td>\n",
       "      <td>-0.003914</td>\n",
       "    </tr>\n",
       "    <tr>\n",
       "      <th>1</th>\n",
       "      <td>0.000143</td>\n",
       "      <td>-0.000572</td>\n",
       "      <td>-0.001176</td>\n",
       "      <td>-0.001785</td>\n",
       "      <td>-0.002310</td>\n",
       "      <td>-0.002737</td>\n",
       "      <td>-0.002684</td>\n",
       "      <td>-0.002595</td>\n",
       "      <td>-0.002451</td>\n",
       "      <td>-0.002534</td>\n",
       "      <td>-0.002706</td>\n",
       "      <td>-0.002955</td>\n",
       "    </tr>\n",
       "    <tr>\n",
       "      <th>2</th>\n",
       "      <td>-0.000291</td>\n",
       "      <td>-0.001048</td>\n",
       "      <td>-0.001685</td>\n",
       "      <td>-0.002347</td>\n",
       "      <td>-0.002946</td>\n",
       "      <td>-0.003462</td>\n",
       "      <td>-0.003467</td>\n",
       "      <td>-0.003430</td>\n",
       "      <td>-0.003321</td>\n",
       "      <td>-0.003507</td>\n",
       "      <td>-0.003786</td>\n",
       "      <td>-0.004149</td>\n",
       "    </tr>\n",
       "    <tr>\n",
       "      <th>3</th>\n",
       "      <td>0.003939</td>\n",
       "      <td>0.004878</td>\n",
       "      <td>0.006061</td>\n",
       "      <td>0.007281</td>\n",
       "      <td>0.008379</td>\n",
       "      <td>0.009336</td>\n",
       "      <td>0.010201</td>\n",
       "      <td>0.011052</td>\n",
       "      <td>0.011806</td>\n",
       "      <td>0.012725</td>\n",
       "      <td>0.013607</td>\n",
       "      <td>0.014446</td>\n",
       "    </tr>\n",
       "    <tr>\n",
       "      <th>4</th>\n",
       "      <td>0.002742</td>\n",
       "      <td>0.002689</td>\n",
       "      <td>0.002674</td>\n",
       "      <td>0.002633</td>\n",
       "      <td>0.002544</td>\n",
       "      <td>0.002432</td>\n",
       "      <td>0.002548</td>\n",
       "      <td>0.002694</td>\n",
       "      <td>0.002845</td>\n",
       "      <td>0.003092</td>\n",
       "      <td>0.003303</td>\n",
       "      <td>0.003476</td>\n",
       "    </tr>\n",
       "  </tbody>\n",
       "</table>\n",
       "</div>"
      ],
      "text/plain": [
       "time   3600.0    7200.0    10800.0   14400.0   18000.0   21600.0   25200.0  \\\n",
       "0    -0.000555 -0.001322 -0.001953 -0.002593 -0.003135 -0.003568 -0.003490   \n",
       "1     0.000143 -0.000572 -0.001176 -0.001785 -0.002310 -0.002737 -0.002684   \n",
       "2    -0.000291 -0.001048 -0.001685 -0.002347 -0.002946 -0.003462 -0.003467   \n",
       "3     0.003939  0.004878  0.006061  0.007281  0.008379  0.009336  0.010201   \n",
       "4     0.002742  0.002689  0.002674  0.002633  0.002544  0.002432  0.002548   \n",
       "\n",
       "time   28800.0   32400.0   36000.0   39600.0   43200.0  \n",
       "0    -0.003374 -0.003200 -0.003343 -0.003586 -0.003914  \n",
       "1    -0.002595 -0.002451 -0.002534 -0.002706 -0.002955  \n",
       "2    -0.003430 -0.003321 -0.003507 -0.003786 -0.004149  \n",
       "3     0.011052  0.011806  0.012725  0.013607  0.014446  \n",
       "4     0.002694  0.002845  0.003092  0.003303  0.003476  "
      ]
     },
     "execution_count": 160,
     "metadata": {},
     "output_type": "execute_result"
    }
   ],
   "source": [
    "pout = pout.drop(pout[grid.duplicated().values].index) # drop duplicate nodes\n",
    "pout.head()"
   ]
  },
  {
   "cell_type": "code",
   "execution_count": 161,
   "metadata": {},
   "outputs": [],
   "source": [
    "pout.index = cnodes.values - 1 # reindex based on the global index -1 for the python convention"
   ]
  },
  {
   "cell_type": "code",
   "execution_count": 162,
   "metadata": {},
   "outputs": [
    {
     "data": {
      "text/html": [
       "<div>\n",
       "<style scoped>\n",
       "    .dataframe tbody tr th:only-of-type {\n",
       "        vertical-align: middle;\n",
       "    }\n",
       "\n",
       "    .dataframe tbody tr th {\n",
       "        vertical-align: top;\n",
       "    }\n",
       "\n",
       "    .dataframe thead th {\n",
       "        text-align: right;\n",
       "    }\n",
       "</style>\n",
       "<table border=\"1\" class=\"dataframe\">\n",
       "  <thead>\n",
       "    <tr style=\"text-align: right;\">\n",
       "      <th>time</th>\n",
       "      <th>3600.0</th>\n",
       "      <th>7200.0</th>\n",
       "      <th>10800.0</th>\n",
       "      <th>14400.0</th>\n",
       "      <th>18000.0</th>\n",
       "      <th>21600.0</th>\n",
       "      <th>25200.0</th>\n",
       "      <th>28800.0</th>\n",
       "      <th>32400.0</th>\n",
       "      <th>36000.0</th>\n",
       "      <th>39600.0</th>\n",
       "      <th>43200.0</th>\n",
       "    </tr>\n",
       "  </thead>\n",
       "  <tbody>\n",
       "    <tr>\n",
       "      <th>217</th>\n",
       "      <td>-0.000555</td>\n",
       "      <td>-0.001322</td>\n",
       "      <td>-0.001953</td>\n",
       "      <td>-0.002593</td>\n",
       "      <td>-0.003135</td>\n",
       "      <td>-0.003568</td>\n",
       "      <td>-0.003490</td>\n",
       "      <td>-0.003374</td>\n",
       "      <td>-0.003200</td>\n",
       "      <td>-0.003343</td>\n",
       "      <td>-0.003586</td>\n",
       "      <td>-0.003914</td>\n",
       "    </tr>\n",
       "    <tr>\n",
       "      <th>219</th>\n",
       "      <td>0.000143</td>\n",
       "      <td>-0.000572</td>\n",
       "      <td>-0.001176</td>\n",
       "      <td>-0.001785</td>\n",
       "      <td>-0.002310</td>\n",
       "      <td>-0.002737</td>\n",
       "      <td>-0.002684</td>\n",
       "      <td>-0.002595</td>\n",
       "      <td>-0.002451</td>\n",
       "      <td>-0.002534</td>\n",
       "      <td>-0.002706</td>\n",
       "      <td>-0.002955</td>\n",
       "    </tr>\n",
       "    <tr>\n",
       "      <th>354</th>\n",
       "      <td>-0.000291</td>\n",
       "      <td>-0.001048</td>\n",
       "      <td>-0.001685</td>\n",
       "      <td>-0.002347</td>\n",
       "      <td>-0.002946</td>\n",
       "      <td>-0.003462</td>\n",
       "      <td>-0.003467</td>\n",
       "      <td>-0.003430</td>\n",
       "      <td>-0.003321</td>\n",
       "      <td>-0.003507</td>\n",
       "      <td>-0.003786</td>\n",
       "      <td>-0.004149</td>\n",
       "    </tr>\n",
       "    <tr>\n",
       "      <th>292</th>\n",
       "      <td>0.003939</td>\n",
       "      <td>0.004878</td>\n",
       "      <td>0.006061</td>\n",
       "      <td>0.007281</td>\n",
       "      <td>0.008379</td>\n",
       "      <td>0.009336</td>\n",
       "      <td>0.010201</td>\n",
       "      <td>0.011052</td>\n",
       "      <td>0.011806</td>\n",
       "      <td>0.012725</td>\n",
       "      <td>0.013607</td>\n",
       "      <td>0.014446</td>\n",
       "    </tr>\n",
       "    <tr>\n",
       "      <th>304</th>\n",
       "      <td>0.002742</td>\n",
       "      <td>0.002689</td>\n",
       "      <td>0.002674</td>\n",
       "      <td>0.002633</td>\n",
       "      <td>0.002544</td>\n",
       "      <td>0.002432</td>\n",
       "      <td>0.002548</td>\n",
       "      <td>0.002694</td>\n",
       "      <td>0.002845</td>\n",
       "      <td>0.003092</td>\n",
       "      <td>0.003303</td>\n",
       "      <td>0.003476</td>\n",
       "    </tr>\n",
       "  </tbody>\n",
       "</table>\n",
       "</div>"
      ],
      "text/plain": [
       "time   3600.0    7200.0    10800.0   14400.0   18000.0   21600.0   25200.0  \\\n",
       "217  -0.000555 -0.001322 -0.001953 -0.002593 -0.003135 -0.003568 -0.003490   \n",
       "219   0.000143 -0.000572 -0.001176 -0.001785 -0.002310 -0.002737 -0.002684   \n",
       "354  -0.000291 -0.001048 -0.001685 -0.002347 -0.002946 -0.003462 -0.003467   \n",
       "292   0.003939  0.004878  0.006061  0.007281  0.008379  0.009336  0.010201   \n",
       "304   0.002742  0.002689  0.002674  0.002633  0.002544  0.002432  0.002548   \n",
       "\n",
       "time   28800.0   32400.0   36000.0   39600.0   43200.0  \n",
       "217  -0.003374 -0.003200 -0.003343 -0.003586 -0.003914  \n",
       "219  -0.002595 -0.002451 -0.002534 -0.002706 -0.002955  \n",
       "354  -0.003430 -0.003321 -0.003507 -0.003786 -0.004149  \n",
       "292   0.011052  0.011806  0.012725  0.013607  0.014446  \n",
       "304   0.002694  0.002845  0.003092  0.003303  0.003476  "
      ]
     },
     "execution_count": 162,
     "metadata": {},
     "output_type": "execute_result"
    }
   ],
   "source": [
    "pout.head()"
   ]
  },
  {
   "cell_type": "code",
   "execution_count": 163,
   "metadata": {},
   "outputs": [],
   "source": [
    "elev = pout.sort_index() #sort with the global index"
   ]
  },
  {
   "cell_type": "code",
   "execution_count": 164,
   "metadata": {},
   "outputs": [],
   "source": [
    "#reindex for final version\n",
    "elev = elev.reset_index(drop=True)"
   ]
  },
  {
   "cell_type": "code",
   "execution_count": 165,
   "metadata": {},
   "outputs": [],
   "source": [
    "elev.columns = times # set time stamp "
   ]
  },
  {
   "cell_type": "code",
   "execution_count": 166,
   "metadata": {},
   "outputs": [],
   "source": [
    "elev = elev.T # transpose to set time as index"
   ]
  },
  {
   "cell_type": "code",
   "execution_count": 167,
   "metadata": {},
   "outputs": [
    {
     "data": {
      "text/html": [
       "<div>\n",
       "<style scoped>\n",
       "    .dataframe tbody tr th:only-of-type {\n",
       "        vertical-align: middle;\n",
       "    }\n",
       "\n",
       "    .dataframe tbody tr th {\n",
       "        vertical-align: top;\n",
       "    }\n",
       "\n",
       "    .dataframe thead th {\n",
       "        text-align: right;\n",
       "    }\n",
       "</style>\n",
       "<table border=\"1\" class=\"dataframe\">\n",
       "  <thead>\n",
       "    <tr style=\"text-align: right;\">\n",
       "      <th></th>\n",
       "      <th>0</th>\n",
       "      <th>1</th>\n",
       "      <th>2</th>\n",
       "      <th>3</th>\n",
       "      <th>4</th>\n",
       "      <th>5</th>\n",
       "      <th>6</th>\n",
       "      <th>7</th>\n",
       "      <th>8</th>\n",
       "      <th>9</th>\n",
       "      <th>...</th>\n",
       "      <th>397</th>\n",
       "      <th>398</th>\n",
       "      <th>399</th>\n",
       "      <th>400</th>\n",
       "      <th>401</th>\n",
       "      <th>402</th>\n",
       "      <th>403</th>\n",
       "      <th>404</th>\n",
       "      <th>405</th>\n",
       "      <th>406</th>\n",
       "    </tr>\n",
       "  </thead>\n",
       "  <tbody>\n",
       "    <tr>\n",
       "      <th>2013-10-28 01:00:00</th>\n",
       "      <td>0.0</td>\n",
       "      <td>0.0</td>\n",
       "      <td>0.0</td>\n",
       "      <td>0.0</td>\n",
       "      <td>-0.001902</td>\n",
       "      <td>0.0</td>\n",
       "      <td>0.0</td>\n",
       "      <td>0.0</td>\n",
       "      <td>0.0</td>\n",
       "      <td>0.0</td>\n",
       "      <td>...</td>\n",
       "      <td>0.002222</td>\n",
       "      <td>0.001423</td>\n",
       "      <td>-0.000130</td>\n",
       "      <td>0.001315</td>\n",
       "      <td>-0.000142</td>\n",
       "      <td>-0.001589</td>\n",
       "      <td>-0.000256</td>\n",
       "      <td>-0.000565</td>\n",
       "      <td>-0.001262</td>\n",
       "      <td>-0.001577</td>\n",
       "    </tr>\n",
       "    <tr>\n",
       "      <th>2013-10-28 02:00:00</th>\n",
       "      <td>0.0</td>\n",
       "      <td>0.0</td>\n",
       "      <td>0.0</td>\n",
       "      <td>0.0</td>\n",
       "      <td>-0.002679</td>\n",
       "      <td>0.0</td>\n",
       "      <td>0.0</td>\n",
       "      <td>0.0</td>\n",
       "      <td>0.0</td>\n",
       "      <td>0.0</td>\n",
       "      <td>...</td>\n",
       "      <td>0.001655</td>\n",
       "      <td>0.001627</td>\n",
       "      <td>-0.000503</td>\n",
       "      <td>0.001110</td>\n",
       "      <td>-0.000921</td>\n",
       "      <td>-0.002359</td>\n",
       "      <td>0.000428</td>\n",
       "      <td>-0.000860</td>\n",
       "      <td>-0.002006</td>\n",
       "      <td>-0.001987</td>\n",
       "    </tr>\n",
       "    <tr>\n",
       "      <th>2013-10-28 03:00:00</th>\n",
       "      <td>0.0</td>\n",
       "      <td>0.0</td>\n",
       "      <td>0.0</td>\n",
       "      <td>0.0</td>\n",
       "      <td>-0.002698</td>\n",
       "      <td>0.0</td>\n",
       "      <td>0.0</td>\n",
       "      <td>0.0</td>\n",
       "      <td>0.0</td>\n",
       "      <td>0.0</td>\n",
       "      <td>...</td>\n",
       "      <td>0.001207</td>\n",
       "      <td>0.001838</td>\n",
       "      <td>-0.000760</td>\n",
       "      <td>0.000970</td>\n",
       "      <td>-0.001581</td>\n",
       "      <td>-0.002888</td>\n",
       "      <td>0.001109</td>\n",
       "      <td>-0.000944</td>\n",
       "      <td>-0.002569</td>\n",
       "      <td>-0.002209</td>\n",
       "    </tr>\n",
       "    <tr>\n",
       "      <th>2013-10-28 04:00:00</th>\n",
       "      <td>0.0</td>\n",
       "      <td>0.0</td>\n",
       "      <td>0.0</td>\n",
       "      <td>0.0</td>\n",
       "      <td>-0.002696</td>\n",
       "      <td>0.0</td>\n",
       "      <td>0.0</td>\n",
       "      <td>0.0</td>\n",
       "      <td>0.0</td>\n",
       "      <td>0.0</td>\n",
       "      <td>...</td>\n",
       "      <td>0.000843</td>\n",
       "      <td>0.001945</td>\n",
       "      <td>-0.000987</td>\n",
       "      <td>0.000845</td>\n",
       "      <td>-0.002211</td>\n",
       "      <td>-0.003442</td>\n",
       "      <td>0.001815</td>\n",
       "      <td>-0.000861</td>\n",
       "      <td>-0.003151</td>\n",
       "      <td>-0.002397</td>\n",
       "    </tr>\n",
       "    <tr>\n",
       "      <th>2013-10-28 05:00:00</th>\n",
       "      <td>0.0</td>\n",
       "      <td>0.0</td>\n",
       "      <td>0.0</td>\n",
       "      <td>0.0</td>\n",
       "      <td>-0.002628</td>\n",
       "      <td>0.0</td>\n",
       "      <td>0.0</td>\n",
       "      <td>0.0</td>\n",
       "      <td>0.0</td>\n",
       "      <td>0.0</td>\n",
       "      <td>...</td>\n",
       "      <td>0.000508</td>\n",
       "      <td>0.001895</td>\n",
       "      <td>-0.001210</td>\n",
       "      <td>0.000714</td>\n",
       "      <td>-0.002732</td>\n",
       "      <td>-0.003879</td>\n",
       "      <td>0.002615</td>\n",
       "      <td>-0.000587</td>\n",
       "      <td>-0.003644</td>\n",
       "      <td>-0.002567</td>\n",
       "    </tr>\n",
       "  </tbody>\n",
       "</table>\n",
       "<p>5 rows × 407 columns</p>\n",
       "</div>"
      ],
      "text/plain": [
       "                     0    1    2    3         4    5    6    7    8    9    \\\n",
       "2013-10-28 01:00:00  0.0  0.0  0.0  0.0 -0.001902  0.0  0.0  0.0  0.0  0.0   \n",
       "2013-10-28 02:00:00  0.0  0.0  0.0  0.0 -0.002679  0.0  0.0  0.0  0.0  0.0   \n",
       "2013-10-28 03:00:00  0.0  0.0  0.0  0.0 -0.002698  0.0  0.0  0.0  0.0  0.0   \n",
       "2013-10-28 04:00:00  0.0  0.0  0.0  0.0 -0.002696  0.0  0.0  0.0  0.0  0.0   \n",
       "2013-10-28 05:00:00  0.0  0.0  0.0  0.0 -0.002628  0.0  0.0  0.0  0.0  0.0   \n",
       "\n",
       "                       ...          397       398       399       400  \\\n",
       "2013-10-28 01:00:00    ...     0.002222  0.001423 -0.000130  0.001315   \n",
       "2013-10-28 02:00:00    ...     0.001655  0.001627 -0.000503  0.001110   \n",
       "2013-10-28 03:00:00    ...     0.001207  0.001838 -0.000760  0.000970   \n",
       "2013-10-28 04:00:00    ...     0.000843  0.001945 -0.000987  0.000845   \n",
       "2013-10-28 05:00:00    ...     0.000508  0.001895 -0.001210  0.000714   \n",
       "\n",
       "                          401       402       403       404       405  \\\n",
       "2013-10-28 01:00:00 -0.000142 -0.001589 -0.000256 -0.000565 -0.001262   \n",
       "2013-10-28 02:00:00 -0.000921 -0.002359  0.000428 -0.000860 -0.002006   \n",
       "2013-10-28 03:00:00 -0.001581 -0.002888  0.001109 -0.000944 -0.002569   \n",
       "2013-10-28 04:00:00 -0.002211 -0.003442  0.001815 -0.000861 -0.003151   \n",
       "2013-10-28 05:00:00 -0.002732 -0.003879  0.002615 -0.000587 -0.003644   \n",
       "\n",
       "                          406  \n",
       "2013-10-28 01:00:00 -0.001577  \n",
       "2013-10-28 02:00:00 -0.001987  \n",
       "2013-10-28 03:00:00 -0.002209  \n",
       "2013-10-28 04:00:00 -0.002397  \n",
       "2013-10-28 05:00:00 -0.002567  \n",
       "\n",
       "[5 rows x 407 columns]"
      ]
     },
     "execution_count": 167,
     "metadata": {},
     "output_type": "execute_result"
    }
   ],
   "source": [
    "elev.head()"
   ]
  },
  {
   "cell_type": "code",
   "execution_count": 168,
   "metadata": {},
   "outputs": [],
   "source": [
    "sl = elev.loc['2013-10-28 04:00:00'].values"
   ]
  },
  {
   "cell_type": "code",
   "execution_count": 169,
   "metadata": {},
   "outputs": [
    {
     "data": {
      "text/plain": [
       "(-0.012861124, 0.018505627, -4.9997358e-05)"
      ]
     },
     "execution_count": 169,
     "metadata": {},
     "output_type": "execute_result"
    }
   ],
   "source": [
    "sl.min(), sl.max(), sl.mean()"
   ]
  },
  {
   "cell_type": "code",
   "execution_count": 170,
   "metadata": {},
   "outputs": [
    {
     "data": {
      "image/png": "[encoded data removed]",
      "text/plain": [
       "<Figure size 864x720 with 2 Axes>"
      ]
     },
     "metadata": {},
     "output_type": "display_data"
    }
   ],
   "source": [
    "#test\n",
    "plt.figure(figsize=(12,10))\n",
    "plt.gca().set_aspect('equal')\n",
    "plt.tricontourf(grd.lon.values, grd.lat.values, tri3, sl, 50 )\n",
    "plt.colorbar()\n",
    "plt.show()"
   ]
  },
  {
   "cell_type": "markdown",
   "metadata": {},
   "source": [
    "### All variables"
   ]
  },
  {
   "cell_type": "code",
   "execution_count": 171,
   "metadata": {},
   "outputs": [],
   "source": [
    "drop_mask = grid.duplicated().values # save the mask"
   ]
  },
  {
   "cell_type": "code",
   "execution_count": 172,
   "metadata": {},
   "outputs": [
    {
     "data": {
      "text/plain": [
       "(444,)"
      ]
     },
     "execution_count": 172,
     "metadata": {},
     "output_type": "execute_result"
    }
   ],
   "source": [
    "drop_mask.shape"
   ]
  },
  {
   "cell_type": "code",
   "execution_count": 173,
   "metadata": {},
   "outputs": [],
   "source": [
    "#Function for combining variables\n",
    "def combine(ars, drop_mask, cnodes, times):\n",
    "        pout = ars[0].to_pandas().T\n",
    "        for f in ars[1:]:\n",
    "            pout = pd.concat([pout, f.to_pandas().T])\n",
    "        \n",
    "        pout = pout.reset_index(drop=True) # reset index\n",
    "        \n",
    "        pout = pout.drop(pout[drop_mask].index) # drop duplicate nodes\n",
    "        \n",
    "        pout.index = cnodes.values - 1 # reindex based on the global index -1 for the python convention\n",
    "        \n",
    "        pout = pout.sort_index() #sort with the global index\n",
    "        \n",
    "        \n",
    "        pout = pout.reset_index(drop=True)#reindex for final version\n",
    "        \n",
    "        pout.columns = times # set time stamp \n",
    "        \n",
    "        return pout.T # transpose to set time as index"
   ]
  },
  {
   "cell_type": "code",
   "execution_count": 174,
   "metadata": {},
   "outputs": [
    {
     "name": "stdout",
     "output_type": "stream",
     "text": [
      "time (u'time',) 1\n",
      "wetdry_elem (u'time', u'nSCHISM_hgrid_face') 2\n",
      "zcor (u'time', u'nSCHISM_hgrid_node', u'nSCHISM_vgrid_layers') 3\n",
      "elev (u'time', u'nSCHISM_hgrid_node') 2\n",
      "wind_speed (u'time', u'nSCHISM_hgrid_node', u'two') 3\n",
      "vertical_velocity (u'time', u'nSCHISM_hgrid_node', u'nSCHISM_vgrid_layers') 3\n",
      "temp (u'time', u'nSCHISM_hgrid_node', u'nSCHISM_vgrid_layers') 3\n",
      "salt (u'time', u'nSCHISM_hgrid_node', u'nSCHISM_vgrid_layers') 3\n",
      "hvel (u'time', u'nSCHISM_hgrid_node', u'nSCHISM_vgrid_layers', u'two') 4\n"
     ]
    }
   ],
   "source": [
    "vdic={}\n",
    "for var in out[0].variables.keys():\n",
    "    print out[0][var].name, out[0][var].dims, len(out[0][var].dims)\n",
    "    if ('nSCHISM_hgrid_node' in out[0][var].dims) & (len(out[0][var].dims) == 2):\n",
    "        ars = [v[out[0][var].name] for v in out]\n",
    "       \n",
    "        v = combine(ars, drop_mask, cnodes, times)\n",
    "        \n",
    "        vdic[out[0][var].name] = v.values\n",
    "        \n",
    "    elif ('nSCHISM_hgrid_node' in out[0][var].dims) & ('two' in out[0][var].dims) & (len(out[0][var].dims) == 3):\n",
    "        ars1 = [v[out[0][var].name][:,:,0] for v in out]\n",
    "        vx = combine(ars1, drop_mask, cnodes, times)\n",
    "        ars2 = [v[out[0][var].name][:,:,1] for v in out]\n",
    "        vy = combine(ars2, drop_mask, cnodes, times)\n",
    "        \n",
    "        vname = out[0][var].name\n",
    "        vdic[vname] = np.dstack([vx.values,vy.values])\n",
    "        \n",
    "    elif ('nSCHISM_hgrid_node' in out[0][var].dims) & ('nSCHISM_vgrid_layers' in out[0][var].dims) & (len(out[0][var].dims) == 3):\n",
    "        s=out[0][var].shape[2]\n",
    "        ars=[]\n",
    "        for l in range(s):\n",
    "            arsi = [v[out[0][var].name][:,:,l] for v in out]\n",
    "            ars.append(combine(arsi, drop_mask, cnodes, times))\n",
    "\n",
    "        vname = out[0][var].name\n",
    "        vdic[vname] = np.dstack([v.values for v in ars])\n",
    "\n",
    "    elif ('nSCHISM_hgrid_node' in out[0][var].dims) & ('nSCHISM_vgrid_layers' in out[0][var].dims) & ('two' in out[0][var].dims) & (len(out[0][var].dims) == 4):\n",
    "        s=out[0][var].shape[2]\n",
    "        ars=[]\n",
    "        for l in range(s):\n",
    "            arsx = [v[out[0][var].name][:,:,l,0] for v in out]\n",
    "            vx = combine(arsx, drop_mask, cnodes, times)\n",
    "            arsy = [v[out[0][var].name][:,:,l,1] for v in out]\n",
    "            vy = combine(arsy, drop_mask, cnodes, times)\n",
    "            ars.append(np.dstack([vx.values,vy.values]))\n",
    "        \n",
    "        vname = out[0][var].name\n",
    "        vdic[vname] = np.stack([a for a in ars], axis=2) # stack correctly\n",
    "        "
   ]
  },
  {
   "cell_type": "code",
   "execution_count": 175,
   "metadata": {},
   "outputs": [
    {
     "data": {
      "text/plain": [
       "[u'wind_speed',\n",
       " u'hvel',\n",
       " u'temp',\n",
       " u'zcor',\n",
       " u'elev',\n",
       " u'vertical_velocity',\n",
       " u'salt']"
      ]
     },
     "execution_count": 175,
     "metadata": {},
     "output_type": "execute_result"
    }
   ],
   "source": [
    "vdic.keys()"
   ]
  },
  {
   "cell_type": "markdown",
   "metadata": {},
   "source": [
    "## Create output structure"
   ]
  },
  {
   "cell_type": "markdown",
   "metadata": {},
   "source": [
    "### General properties"
   ]
  },
  {
   "cell_type": "code",
   "execution_count": 176,
   "metadata": {},
   "outputs": [],
   "source": [
    "sigms = header2.loc[:,sigmas].values.flatten() # get sigmas"
   ]
  },
  {
   "cell_type": "code",
   "execution_count": 177,
   "metadata": {},
   "outputs": [],
   "source": [
    "iwet_dry = 0  # defined by the user\n",
    "ihgrid_id = -2147483647 # defined by user - 0,dummy_dim,ihgrid_id"
   ]
  },
  {
   "cell_type": "markdown",
   "metadata": {},
   "source": [
    "### Xarray for element-based variables"
   ]
  },
  {
   "cell_type": "code",
   "execution_count": 178,
   "metadata": {},
   "outputs": [
    {
     "data": {
      "text/plain": [
       "[u'wetdry_elem']"
      ]
     },
     "execution_count": 178,
     "metadata": {},
     "output_type": "execute_result"
    }
   ],
   "source": [
    "edic.keys()"
   ]
  },
  {
   "cell_type": "code",
   "execution_count": 179,
   "metadata": {},
   "outputs": [],
   "source": [
    "xrdic={}\n",
    "for key in edic.iterkeys():\n",
    "    xrdic.update({key:([x for x in out[0][key].dims],edic[key])})"
   ]
  },
  {
   "cell_type": "code",
   "execution_count": 180,
   "metadata": {},
   "outputs": [],
   "source": [
    "xe = xr.Dataset(xrdic,coords={u'time':times, u'sigma': sigms })"
   ]
  },
  {
   "cell_type": "code",
   "execution_count": 181,
   "metadata": {},
   "outputs": [
    {
     "data": {
      "text/plain": [
       "<xarray.Dataset>\n",
       "Dimensions:      (nSCHISM_hgrid_face: 702, sigma: 2, time: 12)\n",
       "Coordinates:\n",
       "  * sigma        (sigma) float64 -1.0 0.0\n",
       "  * time         (time) datetime64[ns] 2013-10-28T01:00:00 ...\n",
       "Dimensions without coordinates: nSCHISM_hgrid_face\n",
       "Data variables:\n",
       "    wetdry_elem  (time, nSCHISM_hgrid_face) float64 0.0 0.0 1.0 0.0 0.0 0.0 ..."
      ]
     },
     "execution_count": 181,
     "metadata": {},
     "output_type": "execute_result"
    }
   ],
   "source": [
    "xe"
   ]
  },
  {
   "cell_type": "code",
   "execution_count": 182,
   "metadata": {},
   "outputs": [],
   "source": [
    "#Set Attrs (this needs some automation)\n",
    "xe.wetdry_elem.attrs = {'mesh' : 'SCHISM_hgrid', 'data_horizontal_center' : 'elem', 'data_vertical_center' : 'full', 'i23d' : 4, 'ivs' : 1}"
   ]
  },
  {
   "cell_type": "markdown",
   "metadata": {},
   "source": [
    "### Xarray for node-based variables"
   ]
  },
  {
   "cell_type": "code",
   "execution_count": 183,
   "metadata": {},
   "outputs": [
    {
     "data": {
      "text/plain": [
       "[u'wind_speed',\n",
       " u'hvel',\n",
       " u'temp',\n",
       " u'zcor',\n",
       " u'elev',\n",
       " u'vertical_velocity',\n",
       " u'salt']"
      ]
     },
     "execution_count": 183,
     "metadata": {},
     "output_type": "execute_result"
    }
   ],
   "source": [
    "vdic.keys()"
   ]
  },
  {
   "cell_type": "code",
   "execution_count": 184,
   "metadata": {},
   "outputs": [],
   "source": [
    "xrdic={}\n",
    "for key in vdic.iterkeys():\n",
    "    xrdic.update({key:([x for x in out[0][key].dims],vdic[key])})"
   ]
  },
  {
   "cell_type": "code",
   "execution_count": 185,
   "metadata": {},
   "outputs": [],
   "source": [
    "xn = xr.Dataset(xrdic,coords={u'time':times, u'sigma': sigms })"
   ]
  },
  {
   "cell_type": "code",
   "execution_count": 186,
   "metadata": {},
   "outputs": [
    {
     "data": {
      "text/plain": [
       "<xarray.Dataset>\n",
       "Dimensions:            (nSCHISM_hgrid_node: 407, nSCHISM_vgrid_layers: 2, sigma: 2, time: 12, two: 2)\n",
       "Coordinates:\n",
       "  * sigma              (sigma) float64 -1.0 0.0\n",
       "  * time               (time) datetime64[ns] 2013-10-28T01:00:00 ...\n",
       "Dimensions without coordinates: nSCHISM_hgrid_node, nSCHISM_vgrid_layers, two\n",
       "Data variables:\n",
       "    wind_speed         (time, nSCHISM_hgrid_node, two) float32 -8.126666 ...\n",
       "    hvel               (time, nSCHISM_hgrid_node, nSCHISM_vgrid_layers, two) float32 -0.0009977188 ...\n",
       "    elev               (time, nSCHISM_hgrid_node) float32 0.0 0.0 0.0 0.0 ...\n",
       "    vertical_velocity  (time, nSCHISM_hgrid_node, nSCHISM_vgrid_layers) float32 2.5050538e-05 ...\n",
       "    temp               (time, nSCHISM_hgrid_node, nSCHISM_vgrid_layers) float32 10.0 ...\n",
       "    salt               (time, nSCHISM_hgrid_node, nSCHISM_vgrid_layers) float32 0.0 ...\n",
       "    zcor               (time, nSCHISM_hgrid_node, nSCHISM_vgrid_layers) float32 -2894.0 ..."
      ]
     },
     "execution_count": 186,
     "metadata": {},
     "output_type": "execute_result"
    }
   ],
   "source": [
    "xn"
   ]
  },
  {
   "cell_type": "code",
   "execution_count": 187,
   "metadata": {},
   "outputs": [],
   "source": [
    "#Set Attrs\n",
    "xn.salt.attrs = {'mesh' : 'SCHISM_hgrid', 'data_horizontal_center' : 'node', 'data_vertical_center' : 'full', 'i23d' : 2, 'ivs' : 1}\n",
    "xn.zcor.attrs = {'mesh' : 'SCHISM_hgrid', 'data_horizontal_center' : 'node', 'data_vertical_center' : 'full', 'i23d' : 2, 'ivs' : 1}\n",
    "xn.temp.attrs = {'mesh' : 'SCHISM_hgrid', 'data_horizontal_center' : 'node', 'data_vertical_center' : 'full', 'i23d' : 2, 'ivs' : 1}\n",
    "xn.vertical_velocity.attrs = {'mesh' : 'SCHISM_hgrid', 'data_horizontal_center' : 'node', 'data_vertical_center' : 'full', 'i23d' : 2, 'ivs' : 1}\n",
    "xn.hvel.attrs = {'mesh' : 'SCHISM_hgrid', 'data_horizontal_center' : 'node', 'data_vertical_center' : 'full', 'i23d' : 2, 'ivs' : 2}\n",
    "xn.elev.attrs = {'mesh' : 'SCHISM_hgrid', 'data_horizontal_center' : 'node', 'data_vertical_center' : 'full', 'i23d' : 1, 'ivs' : 1}\n",
    "xn.wind_speed.attrs = {'mesh' : 'SCHISM_hgrid', 'data_horizontal_center' : 'node', 'data_vertical_center' : 'full', 'i23d' : 1, 'ivs' : 2}\n",
    "#xv.dahv.attrs = {'mesh' : 'SCHISM_hgrid', 'data_horizontal_center' : 'node', 'data_vertical_center' : 'full', 'i23d' : 1, 'ivs' : 2}"
   ]
  },
  {
   "cell_type": "markdown",
   "metadata": {},
   "source": [
    "### Xarray for Grid variables"
   ]
  },
  {
   "cell_type": "code",
   "execution_count": 188,
   "metadata": {},
   "outputs": [
    {
     "data": {
      "text/html": [
       "<div>\n",
       "<style scoped>\n",
       "    .dataframe tbody tr th:only-of-type {\n",
       "        vertical-align: middle;\n",
       "    }\n",
       "\n",
       "    .dataframe tbody tr th {\n",
       "        vertical-align: top;\n",
       "    }\n",
       "\n",
       "    .dataframe thead th {\n",
       "        text-align: right;\n",
       "    }\n",
       "</style>\n",
       "<table border=\"1\" class=\"dataframe\">\n",
       "  <thead>\n",
       "    <tr style=\"text-align: right;\">\n",
       "      <th></th>\n",
       "      <th>start_year</th>\n",
       "      <th>start_month</th>\n",
       "      <th>start_day</th>\n",
       "      <th>start_hour</th>\n",
       "      <th>utc_start</th>\n",
       "      <th>nrec</th>\n",
       "      <th>dtout</th>\n",
       "      <th>nspool</th>\n",
       "      <th>nvrt</th>\n",
       "      <th>kz</th>\n",
       "      <th>h0</th>\n",
       "      <th>h_s</th>\n",
       "      <th>h_c</th>\n",
       "      <th>theta_b</th>\n",
       "      <th>theta_f</th>\n",
       "      <th>ics</th>\n",
       "      <th>sigma_0</th>\n",
       "      <th>sigma_1</th>\n",
       "    </tr>\n",
       "  </thead>\n",
       "  <tbody>\n",
       "    <tr>\n",
       "      <th>0</th>\n",
       "      <td>2013</td>\n",
       "      <td>10</td>\n",
       "      <td>28</td>\n",
       "      <td>0.0</td>\n",
       "      <td>0.0</td>\n",
       "      <td>4</td>\n",
       "      <td>3600.0</td>\n",
       "      <td>9</td>\n",
       "      <td>2</td>\n",
       "      <td>1</td>\n",
       "      <td>0.5</td>\n",
       "      <td>1000000.0</td>\n",
       "      <td>40.0</td>\n",
       "      <td>1.0</td>\n",
       "      <td>0.0001</td>\n",
       "      <td>2</td>\n",
       "      <td>-1.0</td>\n",
       "      <td>0.0</td>\n",
       "    </tr>\n",
       "  </tbody>\n",
       "</table>\n",
       "</div>"
      ],
      "text/plain": [
       "   start_year  start_month  start_day  start_hour  utc_start  nrec   dtout  \\\n",
       "0        2013           10         28         0.0        0.0     4  3600.0   \n",
       "\n",
       "   nspool  nvrt  kz   h0        h_s   h_c  theta_b  theta_f  ics  sigma_0  \\\n",
       "0       9     2   1  0.5  1000000.0  40.0      1.0   0.0001    2     -1.0   \n",
       "\n",
       "   sigma_1  \n",
       "0      0.0  "
      ]
     },
     "execution_count": 188,
     "metadata": {},
     "output_type": "execute_result"
    }
   ],
   "source": [
    "header2 #remember ..."
   ]
  },
  {
   "cell_type": "code",
   "execution_count": 189,
   "metadata": {},
   "outputs": [
    {
     "data": {
      "text/plain": [
       "(0    2\n",
       " Name: nvrt, dtype: int64, 0    1\n",
       " Name: kz, dtype: int64)"
      ]
     },
     "execution_count": 189,
     "metadata": {},
     "output_type": "execute_result"
    }
   ],
   "source": [
    "header2.nvrt, header2.kz"
   ]
  },
  {
   "cell_type": "code",
   "execution_count": 190,
   "metadata": {
    "scrolled": true
   },
   "outputs": [
    {
     "data": {
      "text/plain": [
       "array([-1.,  0.])"
      ]
     },
     "execution_count": 190,
     "metadata": {},
     "output_type": "execute_result"
    }
   ],
   "source": [
    "#compute cs\n",
    "klev = np.arange(header2.kz,header2.nvrt+1)\n",
    "k = klev-header2.kz.values\n",
    "\n",
    "\n",
    "cs=np.zeros(k)\n",
    "\n",
    "cs=(1-header2.theta_b.values)*np.sinh(header2.theta_f.values*sigms[k])/np.sinh(header2.theta_f.values)+ \\\n",
    "    header2.theta_b.values*(np.tanh(header2.theta_f.values*(sigms[k]+0.5))-np.tanh(header2.theta_f.values*0.5))/2/np.tanh(header2.theta_f.values*0.5)\n",
    "\n",
    "cs"
   ]
  },
  {
   "cell_type": "code",
   "execution_count": 191,
   "metadata": {},
   "outputs": [],
   "source": [
    "xg = xr.Dataset({u'SCHISM_hgrid' : ([u'one'], [ihgrid_id]),\n",
    "                 u'SCHISM_hgrid_face_nodes' : ([u'nSCHISM_hgrid_face', u'nMaxSCHISM_hgrid_face_nodes'], gt34),\n",
    "                 u'SCHISM_hgrid_edge_nodes' : ([u'nSCHISM_hgrid_edge', u'two'], edgs1[[0,1]].values),\n",
    "                 u'SCHISM_hgrid_node_x' : ([u'nSCHISM_hgrid_node'], grd.lon.values),\n",
    "                 u'SCHISM_hgrid_node_y' : ([u'nSCHISM_hgrid_node'], grd.lat.values),\n",
    "                 u'node_bottom_index' : ([u'nSCHISM_hgrid_node'], grd.kbp00.values),\n",
    "                 u'SCHISM_hgrid_face_x' : ([u'nSCHISM_hgrid_face'], gt3.loc[:,'xc'].values),\n",
    "                 u'SCHISM_hgrid_face_y' : ([u'nSCHISM_hgrid_face'], gt3.loc[:,'yc'].values),                 \n",
    "                 u'ele_bottom_index': ([u'nSCHISM_hgrid_face'], gt3.kbe.values ),\n",
    "                 u'SCHISM_hgrid_edge_x' : ([u'nSCHISM_hgrid_edge'], edgs1['xc'].values),\n",
    "                 u'SCHISM_hgrid_edge_y' : ([u'nSCHISM_hgrid_edge'], edgs1['yc'].values ),\n",
    "                 u'edge_bottom_index' : ([u'nSCHISM_hgrid_edge'], edgs1.kbs.values),                 \n",
    "                 u'depth': ([u'nSCHISM_hgrid_node'], grd.depth.values),\n",
    "                 u'dry_value_flag' : ([u'one'], [iwet_dry]),\n",
    "                 u'coordinate_system_flag' : ([u'one'], header2.loc[:,'ics'].values),                \n",
    "                 u'minimum_depth': ([u'one'], header2.loc[:,'h0'].values),\n",
    "                 u'sigma_h_c' : ([u'one'], header2.loc[:,'h_c'].values),\n",
    "                 u'sigma_theta_b': ([u'one'], header2.loc[:,'theta_b'].values),\n",
    "                 u'sigma_theta_f' : ([u'one'], header2.loc[:,'theta_f'].values),\n",
    "                 u'sigma_maxdepth' : ([u'one'], header2.loc[:,'h_s'].values),\n",
    "                 u'Cs' : (['sigma'], cs)},\n",
    "                     coords={u'time':times, u'sigma': sigms })"
   ]
  },
  {
   "cell_type": "code",
   "execution_count": 192,
   "metadata": {},
   "outputs": [
    {
     "data": {
      "text/plain": [
       "<xarray.Dataset>\n",
       "Dimensions:                  (nMaxSCHISM_hgrid_face_nodes: 4, nSCHISM_hgrid_edge: 1109, nSCHISM_hgrid_face: 702, nSCHISM_hgrid_node: 407, one: 1, sigma: 2, time: 12, two: 2)\n",
       "Coordinates:\n",
       "  * sigma                    (sigma) float64 -1.0 0.0\n",
       "  * time                     (time) datetime64[ns] 2013-10-28T01:00:00 ...\n",
       "Dimensions without coordinates: nMaxSCHISM_hgrid_face_nodes, nSCHISM_hgrid_edge, nSCHISM_hgrid_face, nSCHISM_hgrid_node, one, two\n",
       "Data variables:\n",
       "    sigma_theta_f            (one) float64 0.0001\n",
       "    ele_bottom_index         (nSCHISM_hgrid_face) int64 1 1 1 1 1 1 1 1 1 1 ...\n",
       "    coordinate_system_flag   (one) int64 2\n",
       "    SCHISM_hgrid_edge_nodes  (nSCHISM_hgrid_edge, two) int64 163 329 329 298 ...\n",
       "    node_bottom_index        (nSCHISM_hgrid_node) int64 1 1 1 1 1 1 1 1 1 1 ...\n",
       "    minimum_depth            (one) float64 0.5\n",
       "    dry_value_flag           (one) int64 0\n",
       "    sigma_theta_b            (one) float64 1.0\n",
       "    sigma_maxdepth           (one) float64 1e+06\n",
       "    Cs                       (sigma) float64 -1.0 0.0\n",
       "    depth                    (nSCHISM_hgrid_node) float64 2.894e+03 990.0 ...\n",
       "    sigma_h_c                (one) float64 40.0\n",
       "    SCHISM_hgrid_face_x      (nSCHISM_hgrid_face) float64 -78.69 -78.24 ...\n",
       "    SCHISM_hgrid_face_y      (nSCHISM_hgrid_face) float64 18.74 17.86 17.46 ...\n",
       "    SCHISM_hgrid             (one) int64 -2147483647\n",
       "    edge_bottom_index        (nSCHISM_hgrid_edge) int64 1 1 1 1 1 1 1 1 1 1 ...\n",
       "    SCHISM_hgrid_edge_x      (nSCHISM_hgrid_edge) float64 -78.74 -78.68 ...\n",
       "    SCHISM_hgrid_edge_y      (nSCHISM_hgrid_edge) float64 18.75 18.69 18.78 ...\n",
       "    SCHISM_hgrid_face_nodes  (nSCHISM_hgrid_face, nMaxSCHISM_hgrid_face_nodes) float64 298.0 ...\n",
       "    SCHISM_hgrid_node_y      (nSCHISM_hgrid_node) float64 19.0 17.0 17.0 ...\n",
       "    SCHISM_hgrid_node_x      (nSCHISM_hgrid_node) float64 -76.0 -79.0 -76.0 ..."
      ]
     },
     "execution_count": 192,
     "metadata": {},
     "output_type": "execute_result"
    }
   ],
   "source": [
    "xg"
   ]
  },
  {
   "cell_type": "markdown",
   "metadata": {},
   "source": [
    "### Set attrs"
   ]
  },
  {
   "cell_type": "code",
   "execution_count": 193,
   "metadata": {},
   "outputs": [],
   "source": [
    "#Choose attrs\n",
    "if header2.ics.values == 1:\n",
    "    lat_coord_standard_name = 'projection_x_coordinate'\n",
    "    lon_coord_standard_name = 'projection_y_coordinate'\n",
    "    x_units = 'm'\n",
    "    y_units = 'm'\n",
    "    lat_str_len = 23\n",
    "    lon_str_len = 23\n",
    "else:\n",
    "    lat_coord_standard_name = 'latitude'\n",
    "    lon_coord_standard_name = 'longitude'\n",
    "    x_units = 'degrees_north'\n",
    "    y_units = 'degrees_east'\n",
    "    lat_str_len = 8\n",
    "    lon_str_len = 9"
   ]
  },
  {
   "cell_type": "code",
   "execution_count": 194,
   "metadata": {},
   "outputs": [],
   "source": [
    "#set Attrs\n",
    "xg.SCHISM_hgrid_node_x.attrs = {'long_name' : 'node x-coordinate', 'standard_name' : lon_coord_standard_name , 'units' : x_units, 'mesh' : 'SCHISM_hgrid'}\n",
    "\n",
    "xg.SCHISM_hgrid_node_y.attrs = {'long_name' : 'node y-coordinate', 'standard_name' : lat_coord_standard_name , 'units' : y_units, 'mesh' : 'SCHISM_hgrid'}\n",
    "\n",
    "xg.depth.attrs = {'long_name' : 'Bathymetry', 'units' : 'meters', 'positive' : 'down', 'mesh' : 'SCHISM_hgrid', 'location' : 'node'}\n",
    "\n",
    "xg.sigma_h_c.attrs = {'long_name' : 'ocean_s_coordinate h_c constant', 'units' : 'meters', 'positive' : 'down'}\n",
    "\n",
    "xg.sigma_theta_b.attrs = {'long_name' : 'ocean_s_coordinate theta_b constant'}\n",
    "\n",
    "xg.sigma_theta_f.attrs = {'long_name' : 'ocean_s_coordinate theta_f constant'}\n",
    "\n",
    "xg.sigma_maxdepth.attrs = {'long_name' : 'ocean_s_coordinate maximum depth cutoff (mixed s over z bound...', 'units' : 'meters', 'positive' : 'down'}\n",
    "\n",
    "xg.Cs.attrs = {'long_name' : 'Function C(s) at whole levels', 'positive' : 'up' }\n",
    "\n",
    "xg.dry_value_flag.attrs = {'values' : '0: use last-wet value; 1: use junk'}\n",
    "\n",
    "xg.SCHISM_hgrid_face_nodes.attrs = {'long_name' : 'Horizontal Element Table', 'cf_role' : 'face_node_connectivity' , 'start_index' : 1}\n",
    "\n",
    "xg.SCHISM_hgrid_edge_nodes.attrs = {'long_name' : 'Map every edge to the two nodes that it connects', 'cf_role' : 'edge_node_connectivity' , 'start_index' : 1}\n",
    "\n",
    "xg.SCHISM_hgrid_edge_x.attrs = {'long_name' : 'x_coordinate of 2D mesh edge' , 'standard_name' : lon_coord_standard_name, 'units' : 'm', 'mesh' : 'SCHISM_hgrid'}\n",
    "\n",
    "xg.SCHISM_hgrid_edge_y.attrs = {'long_name' : 'y_coordinate of 2D mesh edge' , 'standard_name' : lat_coord_standard_name, 'units' : 'm', 'mesh' : 'SCHISM_hgrid'}\n",
    "\n",
    "xg.SCHISM_hgrid_face_x.attrs = {'long_name' : 'x_coordinate of 2D mesh face' , 'standard_name' : lon_coord_standard_name, 'units' : 'm', 'mesh' : 'SCHISM_hgrid'}\n",
    "\n",
    "xg.SCHISM_hgrid_face_y.attrs = {'long_name' : 'y_coordinate of 2D mesh face' , 'standard_name' : lat_coord_standard_name, 'units' : 'm', 'mesh' : 'SCHISM_hgrid'}\n",
    "\n",
    "xg.SCHISM_hgrid.attrs = {'long_name' : 'Topology data of 2d unstructured mesh',\n",
    "                           'topology_dimension' : 2,\n",
    "                           'cf_role' : 'mesh_topology',\n",
    "                           'node_coordinates' : 'SCHISM_hgrid_node_x SCHISM_hgrid_node_y',\n",
    "                           'face_node_connectivity' : 'SCHISM_hgrid_face_nodes',\n",
    "                           'edge_coordinates' : 'SCHISM_hgrid_edge_x SCHISM_hgrid_edge_y',\n",
    "                           'face_coordinates' : 'SCHISM_hgrid_face_x SCHISM_hgrid_face_y',\n",
    "                           'edge_node_connectivity' : 'SCHISM_hgrid_edge_nodes'\n",
    "                          }\n",
    "\n",
    "xg.node_bottom_index.attrs = {'long_name' : 'bottom level index at each node' , 'units' : 'non-dimensional', 'mesh' : 'SCHISM_hgrid', 'location' : 'node',\n",
    "    'start_index' : 1}\n",
    "\n",
    "xg.ele_bottom_index.attrs = {'long_name' : 'bottom level index at each element' , 'units' : 'non-dimensional', 'mesh' : 'SCHISM_hgrid', 'location' : 'elem',\n",
    "    'start_index' : 1}\n",
    "\n",
    "xg.edge_bottom_index.attrs = {'long_name' : 'bottom level index at each edge' , 'units' : 'non-dimensional', 'mesh' : 'SCHISM_hgrid', 'location' : 'edge',\n",
    "    'start_index' : 1}"
   ]
  },
  {
   "cell_type": "markdown",
   "metadata": {},
   "source": [
    "### merge them"
   ]
  },
  {
   "cell_type": "code",
   "execution_count": 195,
   "metadata": {},
   "outputs": [],
   "source": [
    "dat = xr.merge([xg,xe,xn])"
   ]
  },
  {
   "cell_type": "code",
   "execution_count": 196,
   "metadata": {},
   "outputs": [],
   "source": [
    "dat.attrs = {'Conventions': 'CF-1.0, UGRID-1.0', 'title': 'SCHISM Model output', 'source': 'SCHISM model output version v10', 'references': 'http://ccrm.vims.edu/schismweb/',\n",
    "             'history': 'created by pyPoseidon', 'comment': 'SCHISM Model output', 'type': 'SCHISM Model output', 'VisIT_plugin': 'https://schism.water.ca.gov/library/-/document_library/view/3476283' }"
   ]
  },
  {
   "cell_type": "code",
   "execution_count": 197,
   "metadata": {
    "scrolled": false
   },
   "outputs": [
    {
     "data": {
      "text/plain": [
       "<xarray.Dataset>\n",
       "Dimensions:                  (nMaxSCHISM_hgrid_face_nodes: 4, nSCHISM_hgrid_edge: 1109, nSCHISM_hgrid_face: 702, nSCHISM_hgrid_node: 407, nSCHISM_vgrid_layers: 2, one: 1, sigma: 2, time: 12, two: 2)\n",
       "Coordinates:\n",
       "  * sigma                    (sigma) float64 -1.0 0.0\n",
       "  * time                     (time) datetime64[ns] 2013-10-28T01:00:00 ...\n",
       "Dimensions without coordinates: nMaxSCHISM_hgrid_face_nodes, nSCHISM_hgrid_edge, nSCHISM_hgrid_face, nSCHISM_hgrid_node, nSCHISM_vgrid_layers, one, two\n",
       "Data variables:\n",
       "    sigma_theta_f            (one) float64 0.0001\n",
       "    ele_bottom_index         (nSCHISM_hgrid_face) int64 1 1 1 1 1 1 1 1 1 1 ...\n",
       "    coordinate_system_flag   (one) int64 2\n",
       "    SCHISM_hgrid_edge_nodes  (nSCHISM_hgrid_edge, two) int64 163 329 329 298 ...\n",
       "    node_bottom_index        (nSCHISM_hgrid_node) int64 1 1 1 1 1 1 1 1 1 1 ...\n",
       "    minimum_depth            (one) float64 0.5\n",
       "    dry_value_flag           (one) int64 0\n",
       "    sigma_theta_b            (one) float64 1.0\n",
       "    sigma_maxdepth           (one) float64 1e+06\n",
       "    Cs                       (sigma) float64 -1.0 0.0\n",
       "    depth                    (nSCHISM_hgrid_node) float64 2.894e+03 990.0 ...\n",
       "    sigma_h_c                (one) float64 40.0\n",
       "    SCHISM_hgrid_face_x      (nSCHISM_hgrid_face) float64 -78.69 -78.24 ...\n",
       "    SCHISM_hgrid_face_y      (nSCHISM_hgrid_face) float64 18.74 17.86 17.46 ...\n",
       "    SCHISM_hgrid             (one) int64 -2147483647\n",
       "    edge_bottom_index        (nSCHISM_hgrid_edge) int64 1 1 1 1 1 1 1 1 1 1 ...\n",
       "    SCHISM_hgrid_edge_x      (nSCHISM_hgrid_edge) float64 -78.74 -78.68 ...\n",
       "    SCHISM_hgrid_edge_y      (nSCHISM_hgrid_edge) float64 18.75 18.69 18.78 ...\n",
       "    SCHISM_hgrid_face_nodes  (nSCHISM_hgrid_face, nMaxSCHISM_hgrid_face_nodes) float64 298.0 ...\n",
       "    SCHISM_hgrid_node_y      (nSCHISM_hgrid_node) float64 19.0 17.0 17.0 ...\n",
       "    SCHISM_hgrid_node_x      (nSCHISM_hgrid_node) float64 -76.0 -79.0 -76.0 ...\n",
       "    wetdry_elem              (time, nSCHISM_hgrid_face) float64 0.0 0.0 1.0 ...\n",
       "    wind_speed               (time, nSCHISM_hgrid_node, two) float32 -8.126666 ...\n",
       "    hvel                     (time, nSCHISM_hgrid_node, nSCHISM_vgrid_layers, two) float32 -0.0009977188 ...\n",
       "    elev                     (time, nSCHISM_hgrid_node) float32 0.0 0.0 0.0 ...\n",
       "    vertical_velocity        (time, nSCHISM_hgrid_node, nSCHISM_vgrid_layers) float32 2.5050538e-05 ...\n",
       "    temp                     (time, nSCHISM_hgrid_node, nSCHISM_vgrid_layers) float32 10.0 ...\n",
       "    salt                     (time, nSCHISM_hgrid_node, nSCHISM_vgrid_layers) float32 0.0 ...\n",
       "    zcor                     (time, nSCHISM_hgrid_node, nSCHISM_vgrid_layers) float32 -2894.0 ...\n",
       "Attributes:\n",
       "    comment:       SCHISM Model output\n",
       "    source:        SCHISM model output version v10\n",
       "    references:    http://ccrm.vims.edu/schismweb/\n",
       "    title:         SCHISM Model output\n",
       "    VisIT_plugin:  https://schism.water.ca.gov/library/-/document_library/vie...\n",
       "    history:       created by pyPoseidon\n",
       "    type:          SCHISM Model output\n",
       "    Conventions:   CF-1.0, UGRID-1.0"
      ]
     },
     "execution_count": 197,
     "metadata": {},
     "output_type": "execute_result"
    }
   ],
   "source": [
    "dat"
   ]
  },
  {
   "cell_type": "markdown",
   "metadata": {},
   "source": [
    "## Save to netcdf"
   ]
  },
  {
   "cell_type": "code",
   "execution_count": 198,
   "metadata": {},
   "outputs": [],
   "source": [
    "dat.to_netcdf(folder+'outputs/test.nc')"
   ]
  },
  {
   "cell_type": "markdown",
   "metadata": {},
   "source": [
    "### test read"
   ]
  },
  {
   "cell_type": "code",
   "execution_count": 199,
   "metadata": {},
   "outputs": [],
   "source": [
    "ct = xr.open_mfdataset(folder+'outputs/test.nc')"
   ]
  },
  {
   "cell_type": "code",
   "execution_count": 200,
   "metadata": {},
   "outputs": [
    {
     "data": {
      "text/plain": [
       "<xarray.Dataset>\n",
       "Dimensions:                  (nMaxSCHISM_hgrid_face_nodes: 4, nSCHISM_hgrid_edge: 1109, nSCHISM_hgrid_face: 702, nSCHISM_hgrid_node: 407, nSCHISM_vgrid_layers: 2, one: 1, sigma: 2, time: 12, two: 2)\n",
       "Coordinates:\n",
       "  * sigma                    (sigma) float64 -1.0 0.0\n",
       "  * time                     (time) datetime64[ns] 2013-10-28T01:00:00 ...\n",
       "Dimensions without coordinates: nMaxSCHISM_hgrid_face_nodes, nSCHISM_hgrid_edge, nSCHISM_hgrid_face, nSCHISM_hgrid_node, nSCHISM_vgrid_layers, one, two\n",
       "Data variables:\n",
       "    sigma_theta_f            (one) float64 dask.array<shape=(1,), chunksize=(1,)>\n",
       "    ele_bottom_index         (nSCHISM_hgrid_face) int64 dask.array<shape=(702,), chunksize=(702,)>\n",
       "    coordinate_system_flag   (one) int64 dask.array<shape=(1,), chunksize=(1,)>\n",
       "    SCHISM_hgrid_edge_nodes  (nSCHISM_hgrid_edge, two) int64 dask.array<shape=(1109, 2), chunksize=(1109, 2)>\n",
       "    node_bottom_index        (nSCHISM_hgrid_node) int64 dask.array<shape=(407,), chunksize=(407,)>\n",
       "    minimum_depth            (one) float64 dask.array<shape=(1,), chunksize=(1,)>\n",
       "    dry_value_flag           (one) int64 dask.array<shape=(1,), chunksize=(1,)>\n",
       "    sigma_theta_b            (one) float64 dask.array<shape=(1,), chunksize=(1,)>\n",
       "    sigma_maxdepth           (one) float64 dask.array<shape=(1,), chunksize=(1,)>\n",
       "    Cs                       (sigma) float64 dask.array<shape=(2,), chunksize=(2,)>\n",
       "    depth                    (nSCHISM_hgrid_node) float64 dask.array<shape=(407,), chunksize=(407,)>\n",
       "    sigma_h_c                (one) float64 dask.array<shape=(1,), chunksize=(1,)>\n",
       "    SCHISM_hgrid_face_x      (nSCHISM_hgrid_face) float64 dask.array<shape=(702,), chunksize=(702,)>\n",
       "    SCHISM_hgrid_face_y      (nSCHISM_hgrid_face) float64 dask.array<shape=(702,), chunksize=(702,)>\n",
       "    SCHISM_hgrid             (one) int64 dask.array<shape=(1,), chunksize=(1,)>\n",
       "    edge_bottom_index        (nSCHISM_hgrid_edge) int64 dask.array<shape=(1109,), chunksize=(1109,)>\n",
       "    SCHISM_hgrid_edge_x      (nSCHISM_hgrid_edge) float64 dask.array<shape=(1109,), chunksize=(1109,)>\n",
       "    SCHISM_hgrid_edge_y      (nSCHISM_hgrid_edge) float64 dask.array<shape=(1109,), chunksize=(1109,)>\n",
       "    SCHISM_hgrid_face_nodes  (nSCHISM_hgrid_face, nMaxSCHISM_hgrid_face_nodes) float64 dask.array<shape=(702, 4), chunksize=(702, 4)>\n",
       "    SCHISM_hgrid_node_y      (nSCHISM_hgrid_node) float64 dask.array<shape=(407,), chunksize=(407,)>\n",
       "    SCHISM_hgrid_node_x      (nSCHISM_hgrid_node) float64 dask.array<shape=(407,), chunksize=(407,)>\n",
       "    wetdry_elem              (time, nSCHISM_hgrid_face) float64 dask.array<shape=(12, 702), chunksize=(12, 702)>\n",
       "    wind_speed               (time, nSCHISM_hgrid_node, two) float32 dask.array<shape=(12, 407, 2), chunksize=(12, 407, 2)>\n",
       "    hvel                     (time, nSCHISM_hgrid_node, nSCHISM_vgrid_layers, two) float32 dask.array<shape=(12, 407, 2, 2), chunksize=(12, 407, 2, 2)>\n",
       "    elev                     (time, nSCHISM_hgrid_node) float32 dask.array<shape=(12, 407), chunksize=(12, 407)>\n",
       "    vertical_velocity        (time, nSCHISM_hgrid_node, nSCHISM_vgrid_layers) float32 dask.array<shape=(12, 407, 2), chunksize=(12, 407, 2)>\n",
       "    temp                     (time, nSCHISM_hgrid_node, nSCHISM_vgrid_layers) float32 dask.array<shape=(12, 407, 2), chunksize=(12, 407, 2)>\n",
       "    salt                     (time, nSCHISM_hgrid_node, nSCHISM_vgrid_layers) float32 dask.array<shape=(12, 407, 2), chunksize=(12, 407, 2)>\n",
       "    zcor                     (time, nSCHISM_hgrid_node, nSCHISM_vgrid_layers) float32 dask.array<shape=(12, 407, 2), chunksize=(12, 407, 2)>\n",
       "Attributes:\n",
       "    comment:       SCHISM Model output\n",
       "    source:        SCHISM model output version v10\n",
       "    references:    http://ccrm.vims.edu/schismweb/\n",
       "    title:         SCHISM Model output\n",
       "    VisIT_plugin:  https://schism.water.ca.gov/library/-/document_library/vie...\n",
       "    history:       created by pyPoseidon\n",
       "    type:          SCHISM Model output\n",
       "    Conventions:   CF-1.0, UGRID-1.0"
      ]
     },
     "execution_count": 200,
     "metadata": {},
     "output_type": "execute_result"
    }
   ],
   "source": [
    "ct"
   ]
  },
  {
   "cell_type": "code",
   "execution_count": 201,
   "metadata": {},
   "outputs": [
    {
     "name": "stdout",
     "output_type": "stream",
     "text": [
      "SCHISM_hgrid_edge_nodes\n",
      "SCHISM_hgrid_node_x\n",
      "SCHISM_hgrid_node_y\n",
      "SCHISM_hgrid_face_x\n",
      "SCHISM_hgrid_face_y\n",
      "SCHISM_hgrid_edge_x\n",
      "SCHISM_hgrid_edge_y\n",
      "sigma_theta_f\n",
      "zcor\n"
     ]
    }
   ],
   "source": [
    "#compare to autocombine_MPI_elfe.pl values\n",
    "for key in grf.variables.keys():\n",
    "     if not grf[key].equals(ct[key]): print key"
   ]
  },
  {
   "cell_type": "markdown",
   "metadata": {},
   "source": [
    "### Address the Failed comparisons"
   ]
  },
  {
   "cell_type": "code",
   "execution_count": 202,
   "metadata": {},
   "outputs": [
    {
     "data": {
      "text/plain": [
       "7.66266275320504e-06"
      ]
     },
     "execution_count": 202,
     "metadata": {},
     "output_type": "execute_result"
    }
   ],
   "source": [
    "# Values for SCHISM_hgrid_face_x check within machine accuracy\n",
    "np.max(np.abs(grf.SCHISM_hgrid_face_x.values-ct.SCHISM_hgrid_face_x.values))"
   ]
  },
  {
   "cell_type": "code",
   "execution_count": 203,
   "metadata": {},
   "outputs": [
    {
     "data": {
      "text/plain": [
       "1.9390380856521006e-06"
      ]
     },
     "execution_count": 203,
     "metadata": {},
     "output_type": "execute_result"
    }
   ],
   "source": [
    "# Values for SCHISM_hgrid_face_y check within machine accuracy\n",
    "np.max(np.abs(grf.SCHISM_hgrid_face_y.values-ct.SCHISM_hgrid_face_y.values))"
   ]
  },
  {
   "cell_type": "code",
   "execution_count": 204,
   "metadata": {},
   "outputs": [
    {
     "data": {
      "text/plain": [
       "3.861132825022651e-06"
      ]
     },
     "execution_count": 204,
     "metadata": {},
     "output_type": "execute_result"
    }
   ],
   "source": [
    "# Values for SCHISM_hgrid_edge_x check within machine accuracy\n",
    "np.max(np.abs(grf.SCHISM_hgrid_edge_x.values-ct.SCHISM_hgrid_edge_x.values))"
   ]
  },
  {
   "cell_type": "code",
   "execution_count": 205,
   "metadata": {},
   "outputs": [
    {
     "data": {
      "text/plain": [
       "1.0015136737706598e-06"
      ]
     },
     "execution_count": 205,
     "metadata": {},
     "output_type": "execute_result"
    }
   ],
   "source": [
    "# Values for SCHISM_hgrid_edge_x check within machine accuracy\n",
    "np.max(np.abs(grf.SCHISM_hgrid_edge_y.values-ct.SCHISM_hgrid_edge_y.values))"
   ]
  },
  {
   "cell_type": "code",
   "execution_count": 206,
   "metadata": {},
   "outputs": [
    {
     "data": {
      "text/plain": [
       "4.970702605078259e-08"
      ]
     },
     "execution_count": 206,
     "metadata": {},
     "output_type": "execute_result"
    }
   ],
   "source": [
    "# Values for SCHISM_hgrid_node_x check within machine accuracy\n",
    "np.max(np.abs(grf.SCHISM_hgrid_node_x.values-ct.SCHISM_hgrid_node_x.values))"
   ]
  },
  {
   "cell_type": "code",
   "execution_count": 207,
   "metadata": {},
   "outputs": [
    {
     "data": {
      "text/plain": [
       "4.992675783910272e-08"
      ]
     },
     "execution_count": 207,
     "metadata": {},
     "output_type": "execute_result"
    }
   ],
   "source": [
    "# Values for SCHISM_hgrid_node_x check within machine accuracy\n",
    "np.max(np.abs(grf.SCHISM_hgrid_node_y.values-ct.SCHISM_hgrid_node_y.values))"
   ]
  },
  {
   "cell_type": "code",
   "execution_count": 208,
   "metadata": {},
   "outputs": [
    {
     "data": {
      "text/plain": [
       "2.6212498426166075e-14"
      ]
     },
     "execution_count": 208,
     "metadata": {},
     "output_type": "execute_result"
    }
   ],
   "source": [
    "# Values for theta_b check within machine accuracy\n",
    "np.max(np.abs(grf.sigma_theta_f.values-ct.sigma_theta_f.values))"
   ]
  },
  {
   "cell_type": "code",
   "execution_count": 209,
   "metadata": {},
   "outputs": [
    {
     "data": {
      "text/plain": [
       "0.0"
      ]
     },
     "execution_count": 209,
     "metadata": {},
     "output_type": "execute_result"
    }
   ],
   "source": [
    "# Values for zcor check within machine accuracy\n",
    "b1 = np.ma.log(grf.zcor.values) #mask Inf values\n",
    "b2 = np.ma.log(ct.zcor.values)\n",
    "np.max(np.abs(b1-b2))"
   ]
  },
  {
   "cell_type": "code",
   "execution_count": 210,
   "metadata": {},
   "outputs": [
    {
     "data": {
      "text/plain": [
       "array([[ 60,   0],\n",
       "       [ 60,   1],\n",
       "       [ 67,   0],\n",
       "       [ 67,   1],\n",
       "       [173,   0],\n",
       "       [173,   1],\n",
       "       [222,   0],\n",
       "       [222,   1],\n",
       "       [297,   0],\n",
       "       [297,   1],\n",
       "       [321,   0],\n",
       "       [321,   1],\n",
       "       [327,   0],\n",
       "       [327,   1],\n",
       "       [328,   0],\n",
       "       [328,   1],\n",
       "       [329,   0],\n",
       "       [329,   1],\n",
       "       [398,   0],\n",
       "       [398,   1],\n",
       "       [406,   0],\n",
       "       [406,   1],\n",
       "       [507,   0],\n",
       "       [507,   1],\n",
       "       [509,   0],\n",
       "       [509,   1],\n",
       "       [527,   0],\n",
       "       [527,   1],\n",
       "       [679,   0],\n",
       "       [679,   1],\n",
       "       [699,   0],\n",
       "       [699,   1],\n",
       "       [994,   0],\n",
       "       [994,   1]])"
      ]
     },
     "execution_count": 210,
     "metadata": {},
     "output_type": "execute_result"
    }
   ],
   "source": [
    "# The above problem with the edges orientation for some elements\n",
    "np.argwhere(grf.SCHISM_hgrid_edge_nodes.values!=ct.SCHISM_hgrid_edge_nodes.values)"
   ]
  },
  {
   "cell_type": "code",
   "execution_count": null,
   "metadata": {},
   "outputs": [],
   "source": []
  }
 ],
 "metadata": {
  "kernelspec": {
   "display_name": "dev",
   "language": "python",
   "name": "dev"
  },
  "language_info": {
   "codemirror_mode": {
    "name": "ipython",
    "version": 2
   },
   "file_extension": ".py",
   "mimetype": "text/x-python",
   "name": "python",
   "nbconvert_exporter": "python",
   "pygments_lexer": "ipython2",
   "version": "2.7.15"
  },
  "toc": {
   "base_numbering": 1,
   "nav_menu": {},
   "number_sections": true,
   "sideBar": true,
   "skip_h1_title": false,
   "title_cell": "Table of Contents",
   "title_sidebar": "Contents",
   "toc_cell": false,
   "toc_position": {
    "height": "calc(100% - 180px)",
    "left": "10px",
    "top": "150px",
    "width": "432px"
   },
   "toc_section_display": true,
   "toc_window_display": false
  }
 },
 "nbformat": 4,
 "nbformat_minor": 2
}
