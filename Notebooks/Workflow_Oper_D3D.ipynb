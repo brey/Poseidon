{
 "cells": [
  {
   "cell_type": "markdown",
   "metadata": {},
   "source": [
    "## An example workflow for D3D"
   ]
  },
  {
   "cell_type": "markdown",
   "metadata": {},
   "source": [
    "A D3D workflow using local ECMWF data."
   ]
  },
  {
   "cell_type": "code",
   "execution_count": null,
   "metadata": {},
   "outputs": [],
   "source": [
    "#to use the full width of the browser window uncomment the code below and execute the cell\n",
    "from IPython.core.display import display, HTML\n",
    "display(HTML(\"<style>.container { width:100% !important; }</style>\"))"
   ]
  },
  {
   "cell_type": "code",
   "execution_count": null,
   "metadata": {},
   "outputs": [],
   "source": [
    "import pyPoseidon\n",
    "import pyPoseidon.model as pm\n",
    "import datetime\n",
    "from pyPoseidon.utils import data,point\n",
    "import pandas as pd\n",
    "import matplotlib.pyplot as plt"
   ]
  },
  {
   "cell_type": "code",
   "execution_count": null,
   "metadata": {},
   "outputs": [],
   "source": [
    "pyPoseidon.__version__"
   ]
  },
  {
   "cell_type": "code",
   "execution_count": null,
   "metadata": {},
   "outputs": [],
   "source": [
    "import holoviews as hv\n",
    "import geoviews as gv\n",
    "import geoviews.feature as gf\n",
    "import cartopy.crs as ccrs\n",
    "\n",
    "\n",
    "hv.notebook_extension('bokeh')\n",
    "#hv.notebook_extension('matplotlib')"
   ]
  },
  {
   "cell_type": "markdown",
   "metadata": {},
   "source": [
    "### Define case"
   ]
  },
  {
   "cell_type": "code",
   "execution_count": 56,
   "metadata": {},
   "outputs": [],
   "source": [
    "#define in a dictionary the properties of the model..\n",
    "dic={'minlon':-35., # lat/lon window\n",
    "     'maxlon':42.,\n",
    "     'minlat':25.05,\n",
    "     'maxlat':76.5,\n",
    "     'solver':'d3d',\n",
    "     'tag':'eur01',\n",
    "     'resolution':0.1, #grid resoltuion \n",
    "     'step':60, # step for output of map field in d3d\n",
    "     'rstep': 60*12 ,  # step for restart file\n",
    "     'start_date':'2010-2-1 0:0:0',\n",
    "     'time_frame':'12H',\n",
    "#     'end_date':'2013-2-5 0:0:0',\n",
    "     'ft1':0, # initial forecasting hour per file\n",
    "     'ft2':11, # final forecasting hour per file\n",
    "     'meteo':'ecmwf_oper',\n",
    "     'dem': 'gebco',\n",
    "     'dpath' : '/Users/brey/DATA/GEBCO_2014_2D.nc',\n",
    "     'epath':'/Users/brey/DELFT3D/SVN/7545/bin/lnx64/', #folder for solver executables\n",
    "     'ncores': 4 , #number of cores\n",
    "     'rpath':'/Users/brey/Downloads/EUR/D3D/20100201.00/', #location of calc folder\n",
    "     'Dt':1.0, # add any additional relevant setup variable,\n",
    "     'conda_bin' : '/Users/brey/miniconda3/bin', #optional conda bin path\n",
    "     'conda_env': 'mpi3', # optional conda env for the solver\n",
    "     'ofilename': '/Users/brey/DATA/thomas.txt'#,\n",
    "    # 'update':[] # optional list of components to be updated\n",
    "    }"
   ]
  },
  {
   "cell_type": "markdown",
   "metadata": {},
   "source": [
    "#### Local operational ECMWF files"
   ]
  },
  {
   "cell_type": "code",
   "execution_count": 57,
   "metadata": {},
   "outputs": [],
   "source": [
    "if 'time_frame' in dic.keys(): \n",
    "    end_date= pd.to_datetime(dic['start_date']) + pd.to_timedelta(dic['time_frame'])\n",
    "    dic.update({'end_date':end_date.strftime(format='%Y-%m-%d %H:%M:%S')})"
   ]
  },
  {
   "cell_type": "code",
   "execution_count": 58,
   "metadata": {},
   "outputs": [
    {
     "data": {
      "text/plain": [
       "'2010-02-01 12:00:00'"
      ]
     },
     "execution_count": 58,
     "metadata": {},
     "output_type": "execute_result"
    }
   ],
   "source": [
    "dic['end_date']"
   ]
  },
  {
   "cell_type": "code",
   "execution_count": 59,
   "metadata": {},
   "outputs": [
    {
     "data": {
      "text/plain": [
       "[Timestamp('2010-02-01 00:00:00')]"
      ]
     },
     "execution_count": 59,
     "metadata": {},
     "output_type": "execute_result"
    }
   ],
   "source": [
    "# FOR FORECAST - SINGLE FILE\n",
    "dr = [pd.to_datetime(dic['start_date'])]\n",
    "dr"
   ]
  },
  {
   "cell_type": "code",
   "execution_count": 60,
   "metadata": {},
   "outputs": [
    {
     "data": {
      "text/plain": [
       "DatetimeIndex(['2010-02-01 00:00:00', '2010-02-01 12:00:00'], dtype='datetime64[ns]', freq='12H')"
      ]
     },
     "execution_count": 60,
     "metadata": {},
     "output_type": "execute_result"
    }
   ],
   "source": [
    "#FOR USING THE OPTIMUM METEO\n",
    "dr = pd.date_range(dic['start_date'],dic['end_date'], freq='12H')\n",
    "dr"
   ]
  },
  {
   "cell_type": "code",
   "execution_count": 61,
   "metadata": {},
   "outputs": [
    {
     "data": {
      "text/plain": [
       "['/Users/brey/DATA/2010/02/01/20100201.00.tropical_cyclone.grib',\n",
       " '/Users/brey/DATA/2010/02/01/20100201.12.tropical_cyclone.grib']"
      ]
     },
     "execution_count": 61,
     "metadata": {},
     "output_type": "execute_result"
    }
   ],
   "source": [
    "#creating a sequence of folder from which we read the meteo.\n",
    "\n",
    "PATH='/Users/brey/DATA/'#Path to meteo files\n",
    "#PATH = '/Volumes/data/projects/CRITECH/meteo/ECMWF/operational/'\n",
    "folders = [datetime.datetime.strftime(x, '%Y%m%d.%H') for x in dr]\n",
    "meteo_files = [PATH+'{:04d}/{:02d}/{:02d}/'.format(x.year,x.month,x.day)+datetime.datetime.strftime(x, '%Y%m%d.%H')+'.tropical_cyclone.grib' for x in dr]\n",
    "meteo_files"
   ]
  },
  {
   "cell_type": "markdown",
   "metadata": {},
   "source": [
    "#### update dictionary"
   ]
  },
  {
   "cell_type": "code",
   "execution_count": 62,
   "metadata": {},
   "outputs": [],
   "source": [
    "dic.update({'mpaths':meteo_files})"
   ]
  },
  {
   "cell_type": "markdown",
   "metadata": {},
   "source": [
    "## Initialize"
   ]
  },
  {
   "cell_type": "code",
   "execution_count": 63,
   "metadata": {},
   "outputs": [],
   "source": [
    "#initialize a model\n",
    "b = pm.model(**dic)"
   ]
  },
  {
   "cell_type": "markdown",
   "metadata": {},
   "source": [
    "### set it up"
   ]
  },
  {
   "cell_type": "code",
   "execution_count": 64,
   "metadata": {},
   "outputs": [
    {
     "name": "stdout",
     "output_type": "stream",
     "text": [
      "\n",
      "extracting dem from /Users/brey/DATA/GEBCO_2014_2D.nc\n",
      "\n",
      ".. interpolating on grid ..\n",
      "\n",
      "dem done\n",
      "boundary files not set..\n",
      "\n",
      "extracting meteo from /Users/brey/DATA/2010/02/01/20100201.00.tropical_cyclone.grib\n",
      "\n",
      "retrieving msl at 2010-02-01 00:00:00\n",
      "\n",
      "retrieving 10u at 2010-02-01 00:00:00\n",
      "\n",
      "retrieving 10v at 2010-02-01 00:00:00\n",
      "\n",
      "retrieving msl at 2010-02-01 03:00:00\n",
      "\n",
      "retrieving 10u at 2010-02-01 03:00:00\n",
      "\n",
      "retrieving 10v at 2010-02-01 03:00:00\n",
      "\n",
      "retrieving msl at 2010-02-01 06:00:00\n",
      "\n",
      "retrieving 10u at 2010-02-01 06:00:00\n",
      "\n",
      "retrieving 10v at 2010-02-01 06:00:00\n",
      "\n",
      "retrieving msl at 2010-02-01 09:00:00\n",
      "\n",
      "retrieving 10u at 2010-02-01 09:00:00\n",
      "\n",
      "retrieving 10v at 2010-02-01 09:00:00\n",
      "\n",
      "extracting meteo from /Users/brey/DATA/2010/02/01/20100201.12.tropical_cyclone.grib\n",
      "\n",
      "retrieving msl at 2010-02-01 12:00:00\n",
      "\n",
      "retrieving 10u at 2010-02-01 12:00:00\n",
      "\n",
      "retrieving 10v at 2010-02-01 12:00:00\n",
      "\n",
      "meteo done\n"
     ]
    }
   ],
   "source": [
    "b.set(**dic) #set it up "
   ]
  },
  {
   "cell_type": "code",
   "execution_count": 65,
   "metadata": {},
   "outputs": [
    {
     "data": {
      "text/plain": [
       "<xarray.Dataset>\n",
       "Dimensions:    (latitude: 370, longitude: 552, time: 5, x: 370, y: 552)\n",
       "Coordinates:\n",
       "  * latitude   (latitude) float64 24.81 24.95 25.09 25.23 25.37 25.51 25.65 ...\n",
       "  * longitude  (longitude) float64 -35.3 -35.16 -35.02 -34.88 -34.73 -34.59 ...\n",
       "  * time       (time) datetime64[ns] 2010-02-01 2010-02-01T03:00:00 ...\n",
       "Dimensions without coordinates: x, y\n",
       "Data variables:\n",
       "    u10        (time, latitude, longitude) float64 2.86 2.963 2.983 2.939 ...\n",
       "    v10        (time, latitude, longitude) float64 -10.43 -10.44 -10.47 ...\n",
       "    msl        (time, latitude, longitude) float64 1.014e+05 1.014e+05 ...\n",
       "    lons       (x, y) float64 -35.3 -35.16 -35.02 -34.88 -34.73 -34.59 ...\n",
       "    lats       (x, y) float64 24.81 24.81 24.81 24.81 24.81 24.81 24.81 ..."
      ]
     },
     "execution_count": 65,
     "metadata": {},
     "output_type": "execute_result"
    }
   ],
   "source": [
    "b.impl.meteo.impl.uvp"
   ]
  },
  {
   "cell_type": "markdown",
   "metadata": {},
   "source": [
    "#### Optional adjust the wet area based on a coastline shapefile"
   ]
  },
  {
   "cell_type": "code",
   "execution_count": 66,
   "metadata": {},
   "outputs": [
    {
     "name": "stdout",
     "output_type": "stream",
     "text": [
      "\n",
      "optimize grid\n"
     ]
    },
    {
     "name": "stderr",
     "output_type": "stream",
     "text": [
      "INFO:pp:Creating server instance (pp-1.6.6)\n",
      "INFO:pp:Running on Python 2.7.15 darwin\n",
      "INFO:pp:pp local server started with 8 workers\n",
      "INFO:pp:Task 0 started\n",
      "INFO:pp:Task 1 started\n",
      "INFO:pp:Task 2 started\n",
      "INFO:pp:Task 3 started\n"
     ]
    },
    {
     "name": "stdout",
     "output_type": "stream",
     "text": [
      "\n",
      "eliminate isolated wet regions\n",
      "\n",
      "... adjusting ...\n",
      "\n",
      "... adjusting ...\n",
      "\n",
      "... adjusting ...\n",
      "\n",
      "... adjusting ...\n",
      "\n",
      "... adjusting ...\n",
      "\n",
      "done \n",
      "\n",
      "resample bathymetry\n",
      "\n",
      "done \n"
     ]
    }
   ],
   "source": [
    "b.impl.dem.impl.adjust('/Users/brey/DATA/COASTLINES/naturalearth/coastline/ne_50m_coastline.shp',nc=50,ncores=4) "
   ]
  },
  {
   "cell_type": "code",
   "execution_count": 67,
   "metadata": {},
   "outputs": [
    {
     "data": {
      "text/plain": [
       "<matplotlib.collections.QuadMesh at 0x1a69f547d0>"
      ]
     },
     "execution_count": 67,
     "metadata": {},
     "output_type": "execute_result"
    },
    {
     "data": {
      "image/png": "[encoded data removed]",
      "text/plain": [
       "<Figure size 432x288 with 2 Axes>"
      ]
     },
     "metadata": {},
     "output_type": "display_data"
    }
   ],
   "source": [
    "b.impl.dem.impl.Dataset.fval.plot()# test coverage"
   ]
  },
  {
   "cell_type": "markdown",
   "metadata": {},
   "source": [
    "## Save to folder for execution "
   ]
  },
  {
   "cell_type": "code",
   "execution_count": 68,
   "metadata": {},
   "outputs": [],
   "source": [
    "#set the run by saving the files\n",
    "b.output()"
   ]
  },
  {
   "cell_type": "code",
   "execution_count": 69,
   "metadata": {},
   "outputs": [],
   "source": [
    "# save model info for further use\n",
    "b.save()"
   ]
  },
  {
   "cell_type": "code",
   "execution_count": 70,
   "metadata": {},
   "outputs": [],
   "source": [
    "# save all matrices for further use\n",
    "#b.pickle(path=path)"
   ]
  },
  {
   "cell_type": "code",
   "execution_count": 71,
   "metadata": {},
   "outputs": [
    {
     "data": {
      "text/plain": [
       "{'Dt': 1.0,\n",
       " 'conda_bin': '/Users/brey/miniconda3/bin',\n",
       " 'conda_env': 'mpi3',\n",
       " 'dem': 'gebco',\n",
       " 'dpath': '/Users/brey/DATA/GEBCO_2014_2D.nc',\n",
       " 'end_date': '2010-02-01 12:00:00',\n",
       " 'epath': '/Users/brey/DELFT3D/SVN/7545/bin/lnx64/',\n",
       " 'ft1': 0,\n",
       " 'ft2': 11,\n",
       " 'maxlat': 76.5,\n",
       " 'maxlon': 42.0,\n",
       " 'meteo': 'ecmwf_oper',\n",
       " 'minlat': 25.05,\n",
       " 'minlon': -35.0,\n",
       " 'mpaths': ['/Users/brey/DATA/2010/02/01/20100201.00.tropical_cyclone.grib',\n",
       "  '/Users/brey/DATA/2010/02/01/20100201.12.tropical_cyclone.grib'],\n",
       " 'ncores': 4,\n",
       " 'ofilename': '/Users/brey/DATA/thomas.txt',\n",
       " 'resolution': 0.1,\n",
       " 'rpath': '/Users/brey/Downloads/EUR/D3D/20100201.00/',\n",
       " 'rstep': 720,\n",
       " 'solver': 'd3d',\n",
       " 'start_date': '2010-2-1 0:0:0',\n",
       " 'step': 60,\n",
       " 'tag': 'eur01',\n",
       " 'time_frame': '12H'}"
      ]
     },
     "execution_count": 71,
     "metadata": {},
     "output_type": "execute_result"
    }
   ],
   "source": [
    "dic"
   ]
  },
  {
   "cell_type": "markdown",
   "metadata": {},
   "source": [
    "### execute"
   ]
  },
  {
   "cell_type": "code",
   "execution_count": 72,
   "metadata": {
    "scrolled": true
   },
   "outputs": [
    {
     "name": "stdout",
     "output_type": "stream",
     "text": [
      "MPI process number 001 has host unknown and is running on processor Raven.local\n",
      "MPI process number 003 has host unknown and is running on processor Raven.local\n",
      "MPI process number 000 has host unknown and is running on processor Raven.local\n",
      "MPI process number 002 has host unknown and is running on processor Raven.local\n",
      "--------------------------------------------------------------------------------\n",
      "       Deltares, FLOW2D3D Version 6.02.13.8578, Apr 16 2018, 11:35:48\n",
      "       libflow2d3d.so entry Flow2D3D::Run\n",
      "--------------------------------------------------------------------------------\n",
      "\n",
      "Part I    - Initialisation Time Dep. Data module...    \n",
      "            runid : eur01\n",
      "Part II   - Creating intermediate files...             \n",
      "Part III  - Initialisation of the Execution module...  \n",
      "Part IV   - Reading complete MD-file...                     \n",
      "Part V    - Initialisation & checking input...              \n",
      "Part VI   - Initialisation & checking second part...        \n",
      "Part VII  - Initialisation output...                        \n",
      "Part VIII - Start Simulation...                             \n",
      "\n",
      "  Time to finish   0s,    0.0% completed, time steps left  720\n",
      "  Time to finish   4m 53s,    0.1% completed, time steps left  719\n",
      "  Time to finish   4m  2s,    0.3% completed, time steps left  718\n",
      "  Time to finish   3m 50s,    0.4% completed, time steps left  717\n",
      "  Time to finish   3m 48s,    0.6% completed, time steps left  716\n",
      "  Time to finish   3m 49s,    0.7% completed, time steps left  715\n",
      "  Time to finish   3m 42s,    0.8% completed, time steps left  714\n",
      "  Time to finish   3m 36s,    1.0% completed, time steps left  713\n",
      "  Time to finish   3m 32s,    1.1% completed, time steps left  712\n",
      "  Time to finish   3m 28s,    1.2% completed, time steps left  711\n",
      "  Time to finish   3m 27s,    1.4% completed, time steps left  710\n",
      "  Time to finish   3m 26s,    1.5% completed, time steps left  709\n",
      "  Time to finish   3m 25s,    1.7% completed, time steps left  708\n",
      "  Time to finish   3m 24s,    1.8% completed, time steps left  707\n",
      "  Time to finish   3m 23s,    1.9% completed, time steps left  706\n",
      "  Time to finish   3m 22s,    2.1% completed, time steps left  705\n",
      "  Time to finish   3m 21s,    2.2% completed, time steps left  704\n",
      "  Time to finish   3m 21s,    2.4% completed, time steps left  703\n",
      "  Time to finish   3m 20s,    2.5% completed, time steps left  702\n",
      "  Time to finish   3m 19s,    2.6% completed, time steps left  701\n",
      "  Time to finish   3m 18s,    2.8% completed, time steps left  700\n",
      "  Time to finish   3m 18s,    2.9% completed, time steps left  699\n",
      "  Time to finish   3m 17s,    3.1% completed, time steps left  698\n",
      "  Time to finish   3m 16s,    3.2% completed, time steps left  697\n",
      "  Time to finish   3m 15s,    3.3% completed, time steps left  696\n",
      "  Time to finish   3m 15s,    3.5% completed, time steps left  695\n",
      "  Time to finish   3m 14s,    3.6% completed, time steps left  694\n",
      "  Time to finish   3m 13s,    3.8% completed, time steps left  693\n",
      "  Time to finish   3m 13s,    3.9% completed, time steps left  692\n",
      "  Time to finish   3m 12s,    4.0% completed, time steps left  691\n",
      "  Time to finish   3m 12s,    4.2% completed, time steps left  690\n",
      "  Time to finish   3m 11s,    4.3% completed, time steps left  689\n",
      "  Time to finish   3m 11s,    4.4% completed, time steps left  688\n",
      "  Time to finish   3m 10s,    4.6% completed, time steps left  687\n",
      "  Time to finish   3m 10s,    4.7% completed, time steps left  686\n",
      "  Time to finish   3m 10s,    4.9% completed, time steps left  685\n",
      "  Time to finish   3m  9s,    5.0% completed, time steps left  684\n",
      "  Time to finish   3m  9s,    5.1% completed, time steps left  683\n",
      "  Time to finish   3m  9s,    5.3% completed, time steps left  682\n",
      "  Time to finish   3m  8s,    5.4% completed, time steps left  681\n",
      "  Time to finish   3m  8s,    5.6% completed, time steps left  680\n",
      "  Time to finish   3m  8s,    5.7% completed, time steps left  679\n",
      "  Time to finish   3m  8s,    5.8% completed, time steps left  678\n",
      "  Time to finish   3m  7s,    6.0% completed, time steps left  677\n",
      "  Time to finish   3m  7s,    6.1% completed, time steps left  676\n",
      "  Time to finish   3m  7s,    6.2% completed, time steps left  675\n",
      "  Time to finish   3m  6s,    6.4% completed, time steps left  674\n",
      "  Time to finish   3m  6s,    6.5% completed, time steps left  673\n",
      "  Time to finish   3m  6s,    6.7% completed, time steps left  672\n",
      "  Time to finish   3m  6s,    6.8% completed, time steps left  671\n",
      "  Time to finish   3m  7s,    6.9% completed, time steps left  670\n",
      "  Time to finish   3m  6s,    7.1% completed, time steps left  669\n",
      "  Time to finish   3m  6s,    7.2% completed, time steps left  668\n",
      "  Time to finish   3m  6s,    7.4% completed, time steps left  667\n",
      "  Time to finish   3m  6s,    7.5% completed, time steps left  666\n",
      "  Time to finish   3m  6s,    7.6% completed, time steps left  665\n",
      "  Time to finish   3m  6s,    7.8% completed, time steps left  664\n",
      "  Time to finish   3m  6s,    7.9% completed, time steps left  663\n",
      "  Time to finish   3m  6s,    8.1% completed, time steps left  662\n",
      "  Time to finish   3m  5s,    8.2% completed, time steps left  661\n",
      "  Time to finish   3m  5s,    8.3% completed, time steps left  660\n",
      "  Time to finish   3m  6s,    8.5% completed, time steps left  659\n",
      "  Time to finish   3m  5s,    8.6% completed, time steps left  658\n",
      "  Time to finish   3m  5s,    8.8% completed, time steps left  657\n",
      "  Time to finish   3m  5s,    8.9% completed, time steps left  656\n",
      "  Time to finish   3m  5s,    9.0% completed, time steps left  655\n",
      "  Time to finish   3m  4s,    9.2% completed, time steps left  654\n",
      "  Time to finish   3m  4s,    9.3% completed, time steps left  653\n",
      "  Time to finish   3m  3s,    9.4% completed, time steps left  652\n",
      "  Time to finish   3m  3s,    9.6% completed, time steps left  651\n",
      "  Time to finish   3m  3s,    9.7% completed, time steps left  650\n",
      "  Time to finish   3m  3s,    9.9% completed, time steps left  649\n",
      "  Time to finish   3m  3s,   10.0% completed, time steps left  648\n",
      "  Time to finish   3m  3s,   10.1% completed, time steps left  647\n",
      "  Time to finish   3m  2s,   10.3% completed, time steps left  646\n",
      "  Time to finish   3m  2s,   10.4% completed, time steps left  645\n",
      "  Time to finish   3m  2s,   10.6% completed, time steps left  644\n",
      "  Time to finish   3m  1s,   10.7% completed, time steps left  643\n",
      "  Time to finish   3m  1s,   10.8% completed, time steps left  642\n",
      "  Time to finish   3m  1s,   11.0% completed, time steps left  641\n",
      "  Time to finish   3m  0s,   11.1% completed, time steps left  640\n",
      "  Time to finish   3m  0s,   11.2% completed, time steps left  639\n",
      "  Time to finish   3m  0s,   11.4% completed, time steps left  638\n",
      "  Time to finish   2m 59s,   11.5% completed, time steps left  637\n",
      "  Time to finish   2m 59s,   11.7% completed, time steps left  636\n",
      "  Time to finish   2m 59s,   11.8% completed, time steps left  635\n",
      "  Time to finish   2m 59s,   11.9% completed, time steps left  634\n",
      "  Time to finish   2m 58s,   12.1% completed, time steps left  633\n",
      "  Time to finish   2m 58s,   12.2% completed, time steps left  632\n",
      "  Time to finish   2m 58s,   12.4% completed, time steps left  631\n",
      "  Time to finish   2m 58s,   12.5% completed, time steps left  630\n",
      "  Time to finish   2m 58s,   12.6% completed, time steps left  629\n",
      "  Time to finish   2m 57s,   12.8% completed, time steps left  628\n",
      "  Time to finish   2m 57s,   12.9% completed, time steps left  627\n",
      "  Time to finish   2m 57s,   13.1% completed, time steps left  626\n",
      "  Time to finish   2m 56s,   13.2% completed, time steps left  625\n",
      "  Time to finish   2m 56s,   13.3% completed, time steps left  624\n",
      "  Time to finish   2m 56s,   13.5% completed, time steps left  623\n",
      "  Time to finish   2m 55s,   13.6% completed, time steps left  622\n",
      "  Time to finish   2m 55s,   13.8% completed, time steps left  621\n",
      "  Time to finish   2m 55s,   13.9% completed, time steps left  620\n",
      "  Time to finish   2m 55s,   14.0% completed, time steps left  619\n",
      "  Time to finish   2m 54s,   14.2% completed, time steps left  618\n",
      "  Time to finish   2m 54s,   14.3% completed, time steps left  617\n",
      "  Time to finish   2m 54s,   14.4% completed, time steps left  616\n",
      "  Time to finish   2m 53s,   14.6% completed, time steps left  615\n"
     ]
    },
    {
     "name": "stdout",
     "output_type": "stream",
     "text": [
      "  Time to finish   2m 53s,   14.7% completed, time steps left  614\n",
      "  Time to finish   2m 53s,   14.9% completed, time steps left  613\n",
      "  Time to finish   2m 53s,   15.0% completed, time steps left  612\n",
      "  Time to finish   2m 52s,   15.1% completed, time steps left  611\n",
      "  Time to finish   2m 52s,   15.3% completed, time steps left  610\n",
      "  Time to finish   2m 52s,   15.4% completed, time steps left  609\n",
      "  Time to finish   2m 51s,   15.6% completed, time steps left  608\n",
      "  Time to finish   2m 51s,   15.7% completed, time steps left  607\n",
      "  Time to finish   2m 51s,   15.8% completed, time steps left  606\n",
      "  Time to finish   2m 50s,   16.0% completed, time steps left  605\n",
      "  Time to finish   2m 50s,   16.1% completed, time steps left  604\n",
      "  Time to finish   2m 50s,   16.2% completed, time steps left  603\n",
      "  Time to finish   2m 50s,   16.4% completed, time steps left  602\n",
      "  Time to finish   2m 49s,   16.5% completed, time steps left  601\n",
      "  Time to finish   2m 49s,   16.7% completed, time steps left  600\n",
      "  Time to finish   2m 49s,   16.8% completed, time steps left  599\n",
      "  Time to finish   2m 49s,   16.9% completed, time steps left  598\n",
      "  Time to finish   2m 49s,   17.1% completed, time steps left  597\n",
      "  Time to finish   2m 49s,   17.2% completed, time steps left  596\n",
      "  Time to finish   2m 48s,   17.4% completed, time steps left  595\n",
      "  Time to finish   2m 48s,   17.5% completed, time steps left  594\n",
      "  Time to finish   2m 48s,   17.6% completed, time steps left  593\n",
      "  Time to finish   2m 47s,   17.8% completed, time steps left  592\n",
      "  Time to finish   2m 47s,   17.9% completed, time steps left  591\n",
      "  Time to finish   2m 47s,   18.1% completed, time steps left  590\n",
      "  Time to finish   2m 46s,   18.2% completed, time steps left  589\n",
      "  Time to finish   2m 46s,   18.3% completed, time steps left  588\n",
      "  Time to finish   2m 46s,   18.5% completed, time steps left  587\n",
      "  Time to finish   2m 45s,   18.6% completed, time steps left  586\n",
      "  Time to finish   2m 45s,   18.8% completed, time steps left  585\n",
      "  Time to finish   2m 45s,   18.9% completed, time steps left  584\n",
      "  Time to finish   2m 44s,   19.0% completed, time steps left  583\n",
      "  Time to finish   2m 44s,   19.2% completed, time steps left  582\n",
      "  Time to finish   2m 44s,   19.3% completed, time steps left  581\n",
      "  Time to finish   2m 43s,   19.4% completed, time steps left  580\n",
      "  Time to finish   2m 43s,   19.6% completed, time steps left  579\n",
      "  Time to finish   2m 43s,   19.7% completed, time steps left  578\n",
      "  Time to finish   2m 43s,   19.9% completed, time steps left  577\n",
      "  Time to finish   2m 42s,   20.0% completed, time steps left  576\n",
      "  Time to finish   2m 42s,   20.1% completed, time steps left  575\n",
      "  Time to finish   2m 42s,   20.3% completed, time steps left  574\n",
      "  Time to finish   2m 41s,   20.4% completed, time steps left  573\n",
      "  Time to finish   2m 41s,   20.6% completed, time steps left  572\n",
      "  Time to finish   2m 41s,   20.7% completed, time steps left  571\n",
      "  Time to finish   2m 41s,   20.8% completed, time steps left  570\n",
      "  Time to finish   2m 40s,   21.0% completed, time steps left  569\n",
      "  Time to finish   2m 40s,   21.1% completed, time steps left  568\n",
      "  Time to finish   2m 40s,   21.2% completed, time steps left  567\n",
      "  Time to finish   2m 39s,   21.4% completed, time steps left  566\n",
      "  Time to finish   2m 39s,   21.5% completed, time steps left  565\n",
      "  Time to finish   2m 39s,   21.7% completed, time steps left  564\n",
      "  Time to finish   2m 38s,   21.8% completed, time steps left  563\n",
      "  Time to finish   2m 38s,   21.9% completed, time steps left  562\n",
      "  Time to finish   2m 38s,   22.1% completed, time steps left  561\n",
      "  Time to finish   2m 38s,   22.2% completed, time steps left  560\n",
      "  Time to finish   2m 38s,   22.4% completed, time steps left  559\n",
      "  Time to finish   2m 37s,   22.5% completed, time steps left  558\n",
      "  Time to finish   2m 37s,   22.6% completed, time steps left  557\n",
      "  Time to finish   2m 37s,   22.8% completed, time steps left  556\n",
      "  Time to finish   2m 36s,   22.9% completed, time steps left  555\n",
      "  Time to finish   2m 36s,   23.1% completed, time steps left  554\n",
      "  Time to finish   2m 36s,   23.2% completed, time steps left  553\n",
      "  Time to finish   2m 36s,   23.3% completed, time steps left  552\n",
      "  Time to finish   2m 35s,   23.5% completed, time steps left  551\n",
      "  Time to finish   2m 35s,   23.6% completed, time steps left  550\n",
      "  Time to finish   2m 35s,   23.8% completed, time steps left  549\n",
      "  Time to finish   2m 35s,   23.9% completed, time steps left  548\n",
      "  Time to finish   2m 34s,   24.0% completed, time steps left  547\n",
      "  Time to finish   2m 34s,   24.2% completed, time steps left  546\n",
      "  Time to finish   2m 34s,   24.3% completed, time steps left  545\n",
      "  Time to finish   2m 33s,   24.4% completed, time steps left  544\n",
      "  Time to finish   2m 33s,   24.6% completed, time steps left  543\n",
      "  Time to finish   2m 33s,   24.7% completed, time steps left  542\n",
      "  Time to finish   2m 32s,   24.9% completed, time steps left  541\n",
      "  Time to finish   2m 32s,   25.0% completed, time steps left  540\n",
      "  Time to finish   2m 33s,   25.1% completed, time steps left  539\n",
      "  Time to finish   2m 32s,   25.3% completed, time steps left  538\n",
      "  Time to finish   2m 32s,   25.4% completed, time steps left  537\n",
      "  Time to finish   2m 32s,   25.6% completed, time steps left  536\n",
      "  Time to finish   2m 32s,   25.7% completed, time steps left  535\n",
      "  Time to finish   2m 31s,   25.8% completed, time steps left  534\n",
      "  Time to finish   2m 31s,   26.0% completed, time steps left  533\n",
      "  Time to finish   2m 31s,   26.1% completed, time steps left  532\n",
      "  Time to finish   2m 30s,   26.2% completed, time steps left  531\n",
      "  Time to finish   2m 30s,   26.4% completed, time steps left  530\n",
      "  Time to finish   2m 30s,   26.5% completed, time steps left  529\n",
      "  Time to finish   2m 29s,   26.7% completed, time steps left  528\n",
      "  Time to finish   2m 29s,   26.8% completed, time steps left  527\n",
      "  Time to finish   2m 29s,   26.9% completed, time steps left  526\n",
      "  Time to finish   2m 29s,   27.1% completed, time steps left  525\n",
      "  Time to finish   2m 28s,   27.2% completed, time steps left  524\n",
      "  Time to finish   2m 28s,   27.4% completed, time steps left  523\n",
      "  Time to finish   2m 28s,   27.5% completed, time steps left  522\n",
      "  Time to finish   2m 27s,   27.6% completed, time steps left  521\n",
      "  Time to finish   2m 27s,   27.8% completed, time steps left  520\n",
      "  Time to finish   2m 27s,   27.9% completed, time steps left  519\n",
      "  Time to finish   2m 27s,   28.1% completed, time steps left  518\n",
      "  Time to finish   2m 26s,   28.2% completed, time steps left  517\n",
      "  Time to finish   2m 26s,   28.3% completed, time steps left  516\n",
      "  Time to finish   2m 26s,   28.5% completed, time steps left  515\n",
      "  Time to finish   2m 26s,   28.6% completed, time steps left  514\n",
      "  Time to finish   2m 25s,   28.7% completed, time steps left  513\n",
      "  Time to finish   2m 25s,   28.9% completed, time steps left  512\n",
      "  Time to finish   2m 25s,   29.0% completed, time steps left  511\n",
      "  Time to finish   2m 24s,   29.2% completed, time steps left  510\n",
      "  Time to finish   2m 24s,   29.3% completed, time steps left  509\n",
      "  Time to finish   2m 24s,   29.4% completed, time steps left  508\n",
      "  Time to finish   2m 23s,   29.6% completed, time steps left  507\n",
      "  Time to finish   2m 23s,   29.7% completed, time steps left  506\n",
      "  Time to finish   2m 23s,   29.9% completed, time steps left  505\n",
      "  Time to finish   2m 22s,   30.0% completed, time steps left  504\n",
      "  Time to finish   2m 22s,   30.1% completed, time steps left  503\n",
      "  Time to finish   2m 22s,   30.3% completed, time steps left  502\n",
      "  Time to finish   2m 22s,   30.4% completed, time steps left  501\n",
      "  Time to finish   2m 21s,   30.6% completed, time steps left  500\n",
      "  Time to finish   2m 21s,   30.7% completed, time steps left  499\n",
      "  Time to finish   2m 21s,   30.8% completed, time steps left  498\n",
      "  Time to finish   2m 20s,   31.0% completed, time steps left  497\n",
      "  Time to finish   2m 20s,   31.1% completed, time steps left  496\n",
      "  Time to finish   2m 20s,   31.2% completed, time steps left  495\n",
      "  Time to finish   2m 20s,   31.4% completed, time steps left  494\n",
      "  Time to finish   2m 19s,   31.5% completed, time steps left  493\n",
      "  Time to finish   2m 19s,   31.7% completed, time steps left  492\n"
     ]
    },
    {
     "name": "stdout",
     "output_type": "stream",
     "text": [
      "  Time to finish   2m 19s,   31.8% completed, time steps left  491\n",
      "  Time to finish   2m 18s,   31.9% completed, time steps left  490\n",
      "  Time to finish   2m 18s,   32.1% completed, time steps left  489\n",
      "  Time to finish   2m 18s,   32.2% completed, time steps left  488\n",
      "  Time to finish   2m 18s,   32.4% completed, time steps left  487\n",
      "  Time to finish   2m 17s,   32.5% completed, time steps left  486\n",
      "  Time to finish   2m 17s,   32.6% completed, time steps left  485\n",
      "  Time to finish   2m 17s,   32.8% completed, time steps left  484\n",
      "  Time to finish   2m 16s,   32.9% completed, time steps left  483\n",
      "  Time to finish   2m 16s,   33.1% completed, time steps left  482\n",
      "  Time to finish   2m 16s,   33.2% completed, time steps left  481\n",
      "  Time to finish   2m 16s,   33.3% completed, time steps left  480\n",
      "  Time to finish   2m 15s,   33.5% completed, time steps left  479\n",
      "  Time to finish   2m 15s,   33.6% completed, time steps left  478\n",
      "  Time to finish   2m 15s,   33.8% completed, time steps left  477\n",
      "  Time to finish   2m 15s,   33.9% completed, time steps left  476\n",
      "  Time to finish   2m 14s,   34.0% completed, time steps left  475\n",
      "  Time to finish   2m 14s,   34.2% completed, time steps left  474\n",
      "  Time to finish   2m 14s,   34.3% completed, time steps left  473\n",
      "  Time to finish   2m 13s,   34.4% completed, time steps left  472\n",
      "  Time to finish   2m 13s,   34.6% completed, time steps left  471\n",
      "  Time to finish   2m 13s,   34.7% completed, time steps left  470\n",
      "  Time to finish   2m 13s,   34.9% completed, time steps left  469\n",
      "  Time to finish   2m 12s,   35.0% completed, time steps left  468\n",
      "  Time to finish   2m 12s,   35.1% completed, time steps left  467\n",
      "  Time to finish   2m 12s,   35.3% completed, time steps left  466\n",
      "  Time to finish   2m 11s,   35.4% completed, time steps left  465\n",
      "  Time to finish   2m 11s,   35.6% completed, time steps left  464\n",
      "  Time to finish   2m 11s,   35.7% completed, time steps left  463\n",
      "  Time to finish   2m 11s,   35.8% completed, time steps left  462\n",
      "  Time to finish   2m 10s,   36.0% completed, time steps left  461\n",
      "  Time to finish   2m 10s,   36.1% completed, time steps left  460\n",
      "  Time to finish   2m 10s,   36.2% completed, time steps left  459\n",
      "  Time to finish   2m  9s,   36.4% completed, time steps left  458\n",
      "  Time to finish   2m  9s,   36.5% completed, time steps left  457\n",
      "  Time to finish   2m  9s,   36.7% completed, time steps left  456\n",
      "  Time to finish   2m  8s,   36.8% completed, time steps left  455\n",
      "  Time to finish   2m  8s,   36.9% completed, time steps left  454\n",
      "  Time to finish   2m  8s,   37.1% completed, time steps left  453\n",
      "  Time to finish   2m  8s,   37.2% completed, time steps left  452\n",
      "  Time to finish   2m  7s,   37.4% completed, time steps left  451\n",
      "  Time to finish   2m  7s,   37.5% completed, time steps left  450\n",
      "  Time to finish   2m  7s,   37.6% completed, time steps left  449\n",
      "  Time to finish   2m  7s,   37.8% completed, time steps left  448\n",
      "  Time to finish   2m  6s,   37.9% completed, time steps left  447\n",
      "  Time to finish   2m  6s,   38.1% completed, time steps left  446\n",
      "  Time to finish   2m  6s,   38.2% completed, time steps left  445\n",
      "  Time to finish   2m  5s,   38.3% completed, time steps left  444\n",
      "  Time to finish   2m  5s,   38.5% completed, time steps left  443\n",
      "  Time to finish   2m  5s,   38.6% completed, time steps left  442\n",
      "  Time to finish   2m  5s,   38.8% completed, time steps left  441\n",
      "  Time to finish   2m  4s,   38.9% completed, time steps left  440\n",
      "  Time to finish   2m  4s,   39.0% completed, time steps left  439\n",
      "  Time to finish   2m  4s,   39.2% completed, time steps left  438\n",
      "  Time to finish   2m  3s,   39.3% completed, time steps left  437\n",
      "  Time to finish   2m  3s,   39.4% completed, time steps left  436\n",
      "  Time to finish   2m  3s,   39.6% completed, time steps left  435\n",
      "  Time to finish   2m  3s,   39.7% completed, time steps left  434\n",
      "  Time to finish   2m  2s,   39.9% completed, time steps left  433\n",
      "  Time to finish   2m  2s,   40.0% completed, time steps left  432\n",
      "  Time to finish   2m  2s,   40.1% completed, time steps left  431\n",
      "  Time to finish   2m  1s,   40.3% completed, time steps left  430\n",
      "  Time to finish   2m  1s,   40.4% completed, time steps left  429\n",
      "  Time to finish   2m  1s,   40.6% completed, time steps left  428\n",
      "  Time to finish   2m  1s,   40.7% completed, time steps left  427\n",
      "  Time to finish   2m  0s,   40.8% completed, time steps left  426\n",
      "  Time to finish   2m  0s,   41.0% completed, time steps left  425\n",
      "  Time to finish   2m  0s,   41.1% completed, time steps left  424\n",
      "  Time to finish   1m 59s,   41.2% completed, time steps left  423\n",
      "  Time to finish   1m 59s,   41.4% completed, time steps left  422\n",
      "  Time to finish   1m 59s,   41.5% completed, time steps left  421\n",
      "  Time to finish   1m 58s,   41.7% completed, time steps left  420\n",
      "  Time to finish   1m 58s,   41.8% completed, time steps left  419\n",
      "  Time to finish   1m 58s,   41.9% completed, time steps left  418\n",
      "  Time to finish   1m 58s,   42.1% completed, time steps left  417\n",
      "  Time to finish   1m 58s,   42.2% completed, time steps left  416\n",
      "  Time to finish   1m 57s,   42.4% completed, time steps left  415\n",
      "  Time to finish   1m 57s,   42.5% completed, time steps left  414\n",
      "  Time to finish   1m 57s,   42.6% completed, time steps left  413\n",
      "  Time to finish   1m 57s,   42.8% completed, time steps left  412\n",
      "  Time to finish   1m 56s,   42.9% completed, time steps left  411\n",
      "  Time to finish   1m 56s,   43.1% completed, time steps left  410\n",
      "  Time to finish   1m 56s,   43.2% completed, time steps left  409\n",
      "  Time to finish   1m 55s,   43.3% completed, time steps left  408\n",
      "  Time to finish   1m 55s,   43.5% completed, time steps left  407\n",
      "  Time to finish   1m 55s,   43.6% completed, time steps left  406\n",
      "  Time to finish   1m 55s,   43.8% completed, time steps left  405\n",
      "  Time to finish   1m 54s,   43.9% completed, time steps left  404\n",
      "  Time to finish   1m 54s,   44.0% completed, time steps left  403\n",
      "  Time to finish   1m 54s,   44.2% completed, time steps left  402\n",
      "  Time to finish   1m 53s,   44.3% completed, time steps left  401\n",
      "  Time to finish   1m 53s,   44.4% completed, time steps left  400\n",
      "  Time to finish   1m 53s,   44.6% completed, time steps left  399\n",
      "  Time to finish   1m 53s,   44.7% completed, time steps left  398\n",
      "  Time to finish   1m 52s,   44.9% completed, time steps left  397\n",
      "  Time to finish   1m 52s,   45.0% completed, time steps left  396\n",
      "  Time to finish   1m 52s,   45.1% completed, time steps left  395\n",
      "  Time to finish   1m 51s,   45.3% completed, time steps left  394\n",
      "  Time to finish   1m 51s,   45.4% completed, time steps left  393\n",
      "  Time to finish   1m 51s,   45.6% completed, time steps left  392\n",
      "  Time to finish   1m 50s,   45.7% completed, time steps left  391\n",
      "  Time to finish   1m 50s,   45.8% completed, time steps left  390\n",
      "  Time to finish   1m 50s,   46.0% completed, time steps left  389\n",
      "  Time to finish   1m 50s,   46.1% completed, time steps left  388\n",
      "  Time to finish   1m 49s,   46.2% completed, time steps left  387\n",
      "  Time to finish   1m 49s,   46.4% completed, time steps left  386\n",
      "  Time to finish   1m 49s,   46.5% completed, time steps left  385\n",
      "  Time to finish   1m 48s,   46.7% completed, time steps left  384\n",
      "  Time to finish   1m 48s,   46.8% completed, time steps left  383\n",
      "  Time to finish   1m 48s,   46.9% completed, time steps left  382\n",
      "  Time to finish   1m 48s,   47.1% completed, time steps left  381\n",
      "  Time to finish   1m 47s,   47.2% completed, time steps left  380\n",
      "  Time to finish   1m 47s,   47.4% completed, time steps left  379\n",
      "  Time to finish   1m 47s,   47.5% completed, time steps left  378\n",
      "  Time to finish   1m 46s,   47.6% completed, time steps left  377\n",
      "  Time to finish   1m 46s,   47.8% completed, time steps left  376\n",
      "  Time to finish   1m 46s,   47.9% completed, time steps left  375\n",
      "  Time to finish   1m 46s,   48.1% completed, time steps left  374\n",
      "  Time to finish   1m 45s,   48.2% completed, time steps left  373\n",
      "  Time to finish   1m 45s,   48.3% completed, time steps left  372\n",
      "  Time to finish   1m 45s,   48.5% completed, time steps left  371\n",
      "  Time to finish   1m 44s,   48.6% completed, time steps left  370\n",
      "  Time to finish   1m 44s,   48.8% completed, time steps left  369\n"
     ]
    },
    {
     "name": "stdout",
     "output_type": "stream",
     "text": [
      "  Time to finish   1m 44s,   48.9% completed, time steps left  368\n",
      "  Time to finish   1m 44s,   49.0% completed, time steps left  367\n",
      "  Time to finish   1m 43s,   49.2% completed, time steps left  366\n",
      "  Time to finish   1m 43s,   49.3% completed, time steps left  365\n",
      "  Time to finish   1m 43s,   49.4% completed, time steps left  364\n",
      "  Time to finish   1m 42s,   49.6% completed, time steps left  363\n",
      "  Time to finish   1m 42s,   49.7% completed, time steps left  362\n",
      "  Time to finish   1m 42s,   49.9% completed, time steps left  361\n",
      "  Time to finish   1m 42s,   50.0% completed, time steps left  360\n",
      "  Time to finish   1m 42s,   50.1% completed, time steps left  359\n",
      "  Time to finish   1m 41s,   50.3% completed, time steps left  358\n",
      "  Time to finish   1m 41s,   50.4% completed, time steps left  357\n",
      "  Time to finish   1m 41s,   50.6% completed, time steps left  356\n",
      "  Time to finish   1m 40s,   50.7% completed, time steps left  355\n",
      "  Time to finish   1m 40s,   50.8% completed, time steps left  354\n",
      "  Time to finish   1m 40s,   51.0% completed, time steps left  353\n",
      "  Time to finish   1m 40s,   51.1% completed, time steps left  352\n",
      "  Time to finish   1m 39s,   51.2% completed, time steps left  351\n",
      "  Time to finish   1m 39s,   51.4% completed, time steps left  350\n",
      "  Time to finish   1m 39s,   51.5% completed, time steps left  349\n",
      "  Time to finish   1m 38s,   51.7% completed, time steps left  348\n",
      "  Time to finish   1m 38s,   51.8% completed, time steps left  347\n",
      "  Time to finish   1m 38s,   51.9% completed, time steps left  346\n",
      "  Time to finish   1m 38s,   52.1% completed, time steps left  345\n",
      "  Time to finish   1m 37s,   52.2% completed, time steps left  344\n",
      "  Time to finish   1m 37s,   52.4% completed, time steps left  343\n",
      "  Time to finish   1m 37s,   52.5% completed, time steps left  342\n",
      "  Time to finish   1m 36s,   52.6% completed, time steps left  341\n",
      "  Time to finish   1m 36s,   52.8% completed, time steps left  340\n",
      "  Time to finish   1m 36s,   52.9% completed, time steps left  339\n",
      "  Time to finish   1m 36s,   53.1% completed, time steps left  338\n",
      "  Time to finish   1m 35s,   53.2% completed, time steps left  337\n",
      "  Time to finish   1m 35s,   53.3% completed, time steps left  336\n",
      "  Time to finish   1m 35s,   53.5% completed, time steps left  335\n",
      "  Time to finish   1m 34s,   53.6% completed, time steps left  334\n",
      "  Time to finish   1m 34s,   53.8% completed, time steps left  333\n",
      "  Time to finish   1m 34s,   53.9% completed, time steps left  332\n",
      "  Time to finish   1m 34s,   54.0% completed, time steps left  331\n",
      "  Time to finish   1m 33s,   54.2% completed, time steps left  330\n",
      "  Time to finish   1m 33s,   54.3% completed, time steps left  329\n",
      "  Time to finish   1m 33s,   54.4% completed, time steps left  328\n",
      "  Time to finish   1m 32s,   54.6% completed, time steps left  327\n",
      "  Time to finish   1m 32s,   54.7% completed, time steps left  326\n",
      "  Time to finish   1m 32s,   54.9% completed, time steps left  325\n",
      "  Time to finish   1m 32s,   55.0% completed, time steps left  324\n",
      "  Time to finish   1m 31s,   55.1% completed, time steps left  323\n",
      "  Time to finish   1m 31s,   55.3% completed, time steps left  322\n",
      "  Time to finish   1m 31s,   55.4% completed, time steps left  321\n",
      "  Time to finish   1m 31s,   55.6% completed, time steps left  320\n",
      "  Time to finish   1m 30s,   55.7% completed, time steps left  319\n",
      "  Time to finish   1m 30s,   55.8% completed, time steps left  318\n",
      "  Time to finish   1m 30s,   56.0% completed, time steps left  317\n",
      "  Time to finish   1m 30s,   56.1% completed, time steps left  316\n",
      "  Time to finish   1m 29s,   56.2% completed, time steps left  315\n",
      "  Time to finish   1m 29s,   56.4% completed, time steps left  314\n",
      "  Time to finish   1m 29s,   56.5% completed, time steps left  313\n",
      "  Time to finish   1m 28s,   56.7% completed, time steps left  312\n",
      "  Time to finish   1m 28s,   56.8% completed, time steps left  311\n",
      "  Time to finish   1m 28s,   56.9% completed, time steps left  310\n",
      "  Time to finish   1m 28s,   57.1% completed, time steps left  309\n",
      "  Time to finish   1m 27s,   57.2% completed, time steps left  308\n",
      "  Time to finish   1m 27s,   57.4% completed, time steps left  307\n",
      "  Time to finish   1m 27s,   57.5% completed, time steps left  306\n",
      "  Time to finish   1m 26s,   57.6% completed, time steps left  305\n",
      "  Time to finish   1m 26s,   57.8% completed, time steps left  304\n",
      "  Time to finish   1m 26s,   57.9% completed, time steps left  303\n",
      "  Time to finish   1m 26s,   58.1% completed, time steps left  302\n",
      "  Time to finish   1m 25s,   58.2% completed, time steps left  301\n",
      "  Time to finish   1m 25s,   58.3% completed, time steps left  300\n",
      "  Time to finish   1m 25s,   58.5% completed, time steps left  299\n",
      "  Time to finish   1m 24s,   58.6% completed, time steps left  298\n",
      "  Time to finish   1m 24s,   58.8% completed, time steps left  297\n",
      "  Time to finish   1m 24s,   58.9% completed, time steps left  296\n",
      "  Time to finish   1m 24s,   59.0% completed, time steps left  295\n",
      "  Time to finish   1m 23s,   59.2% completed, time steps left  294\n",
      "  Time to finish   1m 23s,   59.3% completed, time steps left  293\n",
      "  Time to finish   1m 23s,   59.4% completed, time steps left  292\n",
      "  Time to finish   1m 22s,   59.6% completed, time steps left  291\n",
      "  Time to finish   1m 22s,   59.7% completed, time steps left  290\n",
      "  Time to finish   1m 22s,   59.9% completed, time steps left  289\n",
      "  Time to finish   1m 22s,   60.0% completed, time steps left  288\n",
      "  Time to finish   1m 21s,   60.1% completed, time steps left  287\n",
      "  Time to finish   1m 21s,   60.3% completed, time steps left  286\n",
      "  Time to finish   1m 21s,   60.4% completed, time steps left  285\n",
      "  Time to finish   1m 20s,   60.6% completed, time steps left  284\n",
      "  Time to finish   1m 20s,   60.7% completed, time steps left  283\n",
      "  Time to finish   1m 20s,   60.8% completed, time steps left  282\n",
      "  Time to finish   1m 20s,   61.0% completed, time steps left  281\n",
      "  Time to finish   1m 19s,   61.1% completed, time steps left  280\n",
      "  Time to finish   1m 19s,   61.3% completed, time steps left  279\n",
      "  Time to finish   1m 19s,   61.4% completed, time steps left  278\n",
      "  Time to finish   1m 18s,   61.5% completed, time steps left  277\n",
      "  Time to finish   1m 18s,   61.7% completed, time steps left  276\n",
      "  Time to finish   1m 18s,   61.8% completed, time steps left  275\n",
      "  Time to finish   1m 18s,   61.9% completed, time steps left  274\n",
      "  Time to finish   1m 17s,   62.1% completed, time steps left  273\n",
      "  Time to finish   1m 17s,   62.2% completed, time steps left  272\n",
      "  Time to finish   1m 17s,   62.4% completed, time steps left  271\n",
      "  Time to finish   1m 16s,   62.5% completed, time steps left  270\n",
      "  Time to finish   1m 16s,   62.6% completed, time steps left  269\n",
      "  Time to finish   1m 16s,   62.8% completed, time steps left  268\n",
      "  Time to finish   1m 16s,   62.9% completed, time steps left  267\n",
      "  Time to finish   1m 15s,   63.1% completed, time steps left  266\n",
      "  Time to finish   1m 15s,   63.2% completed, time steps left  265\n",
      "  Time to finish   1m 15s,   63.3% completed, time steps left  264\n",
      "  Time to finish   1m 15s,   63.5% completed, time steps left  263\n",
      "  Time to finish   1m 14s,   63.6% completed, time steps left  262\n",
      "  Time to finish   1m 14s,   63.7% completed, time steps left  261\n",
      "  Time to finish   1m 14s,   63.9% completed, time steps left  260\n",
      "  Time to finish   1m 13s,   64.0% completed, time steps left  259\n",
      "  Time to finish   1m 13s,   64.2% completed, time steps left  258\n",
      "  Time to finish   1m 13s,   64.3% completed, time steps left  257\n",
      "  Time to finish   1m 12s,   64.4% completed, time steps left  256\n",
      "  Time to finish   1m 12s,   64.6% completed, time steps left  255\n",
      "  Time to finish   1m 12s,   64.7% completed, time steps left  254\n",
      "  Time to finish   1m 12s,   64.9% completed, time steps left  253\n",
      "  Time to finish   1m 11s,   65.0% completed, time steps left  252\n",
      "  Time to finish   1m 11s,   65.1% completed, time steps left  251\n",
      "  Time to finish   1m 11s,   65.3% completed, time steps left  250\n",
      "  Time to finish   1m 10s,   65.4% completed, time steps left  249\n",
      "  Time to finish   1m 10s,   65.6% completed, time steps left  248\n",
      "  Time to finish   1m 10s,   65.7% completed, time steps left  247\n",
      "  Time to finish   1m 10s,   65.8% completed, time steps left  246\n"
     ]
    },
    {
     "name": "stdout",
     "output_type": "stream",
     "text": [
      "  Time to finish   1m  9s,   66.0% completed, time steps left  245\n",
      "  Time to finish   1m  9s,   66.1% completed, time steps left  244\n",
      "  Time to finish   1m  9s,   66.2% completed, time steps left  243\n",
      "  Time to finish   1m  9s,   66.4% completed, time steps left  242\n",
      "  Time to finish   1m  8s,   66.5% completed, time steps left  241\n",
      "  Time to finish   1m  8s,   66.7% completed, time steps left  240\n",
      "  Time to finish   1m  8s,   66.8% completed, time steps left  239\n",
      "  Time to finish   1m  8s,   66.9% completed, time steps left  238\n",
      "  Time to finish   1m  7s,   67.1% completed, time steps left  237\n",
      "  Time to finish   1m  7s,   67.2% completed, time steps left  236\n",
      "  Time to finish   1m  7s,   67.4% completed, time steps left  235\n",
      "  Time to finish   1m  6s,   67.5% completed, time steps left  234\n",
      "  Time to finish   1m  6s,   67.6% completed, time steps left  233\n",
      "  Time to finish   1m  6s,   67.8% completed, time steps left  232\n",
      "  Time to finish   1m  6s,   67.9% completed, time steps left  231\n",
      "  Time to finish   1m  5s,   68.1% completed, time steps left  230\n",
      "  Time to finish   1m  5s,   68.2% completed, time steps left  229\n",
      "  Time to finish   1m  5s,   68.3% completed, time steps left  228\n",
      "  Time to finish   1m  4s,   68.5% completed, time steps left  227\n",
      "  Time to finish   1m  4s,   68.6% completed, time steps left  226\n",
      "  Time to finish   1m  4s,   68.8% completed, time steps left  225\n",
      "  Time to finish   1m  4s,   68.9% completed, time steps left  224\n",
      "  Time to finish   1m  3s,   69.0% completed, time steps left  223\n",
      "  Time to finish   1m  3s,   69.2% completed, time steps left  222\n",
      "  Time to finish   1m  3s,   69.3% completed, time steps left  221\n",
      "  Time to finish   1m  2s,   69.4% completed, time steps left  220\n",
      "  Time to finish   1m  2s,   69.6% completed, time steps left  219\n",
      "  Time to finish   1m  2s,   69.7% completed, time steps left  218\n",
      "  Time to finish   1m  2s,   69.9% completed, time steps left  217\n",
      "  Time to finish   1m  1s,   70.0% completed, time steps left  216\n",
      "  Time to finish   1m  1s,   70.1% completed, time steps left  215\n",
      "  Time to finish   1m  1s,   70.3% completed, time steps left  214\n",
      "  Time to finish  60s,   70.4% completed, time steps left  213\n",
      "  Time to finish  60s,   70.6% completed, time steps left  212\n",
      "  Time to finish  60s,   70.7% completed, time steps left  211\n",
      "  Time to finish  60s,   70.8% completed, time steps left  210\n",
      "  Time to finish  59s,   71.0% completed, time steps left  209\n",
      "  Time to finish  59s,   71.1% completed, time steps left  208\n",
      "  Time to finish  59s,   71.2% completed, time steps left  207\n",
      "  Time to finish  58s,   71.4% completed, time steps left  206\n",
      "  Time to finish  58s,   71.5% completed, time steps left  205\n",
      "  Time to finish  58s,   71.7% completed, time steps left  204\n",
      "  Time to finish  58s,   71.8% completed, time steps left  203\n",
      "  Time to finish  57s,   71.9% completed, time steps left  202\n",
      "  Time to finish  57s,   72.1% completed, time steps left  201\n",
      "  Time to finish  57s,   72.2% completed, time steps left  200\n",
      "  Time to finish  56s,   72.4% completed, time steps left  199\n",
      "  Time to finish  56s,   72.5% completed, time steps left  198\n",
      "  Time to finish  56s,   72.6% completed, time steps left  197\n",
      "  Time to finish  56s,   72.8% completed, time steps left  196\n",
      "  Time to finish  55s,   72.9% completed, time steps left  195\n",
      "  Time to finish  55s,   73.1% completed, time steps left  194\n",
      "  Time to finish  55s,   73.2% completed, time steps left  193\n",
      "  Time to finish  54s,   73.3% completed, time steps left  192\n",
      "  Time to finish  54s,   73.5% completed, time steps left  191\n",
      "  Time to finish  54s,   73.6% completed, time steps left  190\n",
      "  Time to finish  54s,   73.8% completed, time steps left  189\n",
      "  Time to finish  53s,   73.9% completed, time steps left  188\n",
      "  Time to finish  53s,   74.0% completed, time steps left  187\n",
      "  Time to finish  53s,   74.2% completed, time steps left  186\n",
      "  Time to finish  52s,   74.3% completed, time steps left  185\n",
      "  Time to finish  52s,   74.4% completed, time steps left  184\n",
      "  Time to finish  52s,   74.6% completed, time steps left  183\n",
      "  Time to finish  52s,   74.7% completed, time steps left  182\n",
      "  Time to finish  51s,   74.9% completed, time steps left  181\n",
      "  Time to finish  51s,   75.0% completed, time steps left  180\n",
      "  Time to finish  51s,   75.1% completed, time steps left  179\n",
      "  Time to finish  51s,   75.3% completed, time steps left  178\n",
      "  Time to finish  50s,   75.4% completed, time steps left  177\n",
      "  Time to finish  50s,   75.6% completed, time steps left  176\n",
      "  Time to finish  50s,   75.7% completed, time steps left  175\n",
      "  Time to finish  49s,   75.8% completed, time steps left  174\n",
      "  Time to finish  49s,   76.0% completed, time steps left  173\n",
      "  Time to finish  49s,   76.1% completed, time steps left  172\n",
      "  Time to finish  49s,   76.2% completed, time steps left  171\n",
      "  Time to finish  48s,   76.4% completed, time steps left  170\n",
      "  Time to finish  48s,   76.5% completed, time steps left  169\n",
      "  Time to finish  48s,   76.7% completed, time steps left  168\n",
      "  Time to finish  47s,   76.8% completed, time steps left  167\n",
      "  Time to finish  47s,   76.9% completed, time steps left  166\n",
      "  Time to finish  47s,   77.1% completed, time steps left  165\n",
      "  Time to finish  46s,   77.2% completed, time steps left  164\n",
      "  Time to finish  46s,   77.4% completed, time steps left  163\n",
      "  Time to finish  46s,   77.5% completed, time steps left  162\n",
      "  Time to finish  46s,   77.6% completed, time steps left  161\n",
      "  Time to finish  45s,   77.8% completed, time steps left  160\n",
      "  Time to finish  45s,   77.9% completed, time steps left  159\n",
      "  Time to finish  45s,   78.1% completed, time steps left  158\n",
      "  Time to finish  44s,   78.2% completed, time steps left  157\n",
      "  Time to finish  44s,   78.3% completed, time steps left  156\n",
      "  Time to finish  44s,   78.5% completed, time steps left  155\n",
      "  Time to finish  44s,   78.6% completed, time steps left  154\n",
      "  Time to finish  43s,   78.8% completed, time steps left  153\n",
      "  Time to finish  43s,   78.9% completed, time steps left  152\n",
      "  Time to finish  43s,   79.0% completed, time steps left  151\n",
      "  Time to finish  43s,   79.2% completed, time steps left  150\n",
      "  Time to finish  42s,   79.3% completed, time steps left  149\n",
      "  Time to finish  42s,   79.4% completed, time steps left  148\n",
      "  Time to finish  42s,   79.6% completed, time steps left  147\n",
      "  Time to finish  41s,   79.7% completed, time steps left  146\n",
      "  Time to finish  41s,   79.9% completed, time steps left  145\n",
      "  Time to finish  41s,   80.0% completed, time steps left  144\n",
      "  Time to finish  41s,   80.1% completed, time steps left  143\n",
      "  Time to finish  40s,   80.3% completed, time steps left  142\n",
      "  Time to finish  40s,   80.4% completed, time steps left  141\n",
      "  Time to finish  40s,   80.6% completed, time steps left  140\n",
      "  Time to finish  39s,   80.7% completed, time steps left  139\n",
      "  Time to finish  39s,   80.8% completed, time steps left  138\n",
      "  Time to finish  39s,   81.0% completed, time steps left  137\n",
      "  Time to finish  39s,   81.1% completed, time steps left  136\n",
      "  Time to finish  38s,   81.2% completed, time steps left  135\n",
      "  Time to finish  38s,   81.4% completed, time steps left  134\n",
      "  Time to finish  38s,   81.5% completed, time steps left  133\n",
      "  Time to finish  37s,   81.7% completed, time steps left  132\n",
      "  Time to finish  37s,   81.8% completed, time steps left  131\n",
      "  Time to finish  37s,   81.9% completed, time steps left  130\n",
      "  Time to finish  37s,   82.1% completed, time steps left  129\n",
      "  Time to finish  36s,   82.2% completed, time steps left  128\n",
      "  Time to finish  36s,   82.4% completed, time steps left  127\n",
      "  Time to finish  36s,   82.5% completed, time steps left  126\n",
      "  Time to finish  35s,   82.6% completed, time steps left  125\n",
      "  Time to finish  35s,   82.8% completed, time steps left  124\n",
      "  Time to finish  35s,   82.9% completed, time steps left  123\n",
      "  Time to finish  35s,   83.1% completed, time steps left  122\n",
      "  Time to finish  34s,   83.2% completed, time steps left  121\n",
      "  Time to finish  34s,   83.3% completed, time steps left  120\n",
      "  Time to finish  34s,   83.5% completed, time steps left  119\n",
      "  Time to finish  33s,   83.6% completed, time steps left  118\n",
      "  Time to finish  33s,   83.8% completed, time steps left  117\n"
     ]
    },
    {
     "name": "stdout",
     "output_type": "stream",
     "text": [
      "  Time to finish  33s,   83.9% completed, time steps left  116\n",
      "  Time to finish  33s,   84.0% completed, time steps left  115\n",
      "  Time to finish  32s,   84.2% completed, time steps left  114\n",
      "  Time to finish  32s,   84.3% completed, time steps left  113\n",
      "  Time to finish  32s,   84.4% completed, time steps left  112\n",
      "  Time to finish  31s,   84.6% completed, time steps left  111\n",
      "  Time to finish  31s,   84.7% completed, time steps left  110\n",
      "  Time to finish  31s,   84.9% completed, time steps left  109\n",
      "  Time to finish  31s,   85.0% completed, time steps left  108\n",
      "  Time to finish  30s,   85.1% completed, time steps left  107\n",
      "  Time to finish  30s,   85.3% completed, time steps left  106\n",
      "  Time to finish  30s,   85.4% completed, time steps left  105\n",
      "  Time to finish  29s,   85.6% completed, time steps left  104\n",
      "  Time to finish  29s,   85.7% completed, time steps left  103\n",
      "  Time to finish  29s,   85.8% completed, time steps left  102\n",
      "  Time to finish  29s,   86.0% completed, time steps left  101\n",
      "  Time to finish  28s,   86.1% completed, time steps left  100\n",
      "  Time to finish  28s,   86.2% completed, time steps left  99\n",
      "  Time to finish  28s,   86.4% completed, time steps left  98\n",
      "  Time to finish  27s,   86.5% completed, time steps left  97\n",
      "  Time to finish  27s,   86.7% completed, time steps left  96\n",
      "  Time to finish  27s,   86.8% completed, time steps left  95\n",
      "  Time to finish  27s,   86.9% completed, time steps left  94\n",
      "  Time to finish  26s,   87.1% completed, time steps left  93\n",
      "  Time to finish  26s,   87.2% completed, time steps left  92\n",
      "  Time to finish  26s,   87.4% completed, time steps left  91\n",
      "  Time to finish  25s,   87.5% completed, time steps left  90\n",
      "  Time to finish  25s,   87.6% completed, time steps left  89\n",
      "  Time to finish  25s,   87.8% completed, time steps left  88\n",
      "  Time to finish  25s,   87.9% completed, time steps left  87\n",
      "  Time to finish  24s,   88.1% completed, time steps left  86\n",
      "  Time to finish  24s,   88.2% completed, time steps left  85\n",
      "  Time to finish  24s,   88.3% completed, time steps left  84\n",
      "  Time to finish  23s,   88.5% completed, time steps left  83\n",
      "  Time to finish  23s,   88.6% completed, time steps left  82\n",
      "  Time to finish  23s,   88.8% completed, time steps left  81\n",
      "  Time to finish  23s,   88.9% completed, time steps left  80\n",
      "  Time to finish  22s,   89.0% completed, time steps left  79\n",
      "  Time to finish  22s,   89.2% completed, time steps left  78\n",
      "  Time to finish  22s,   89.3% completed, time steps left  77\n",
      "  Time to finish  22s,   89.4% completed, time steps left  76\n",
      "  Time to finish  21s,   89.6% completed, time steps left  75\n",
      "  Time to finish  21s,   89.7% completed, time steps left  74\n",
      "  Time to finish  21s,   89.9% completed, time steps left  73\n",
      "  Time to finish  20s,   90.0% completed, time steps left  72\n",
      "  Time to finish  20s,   90.1% completed, time steps left  71\n",
      "  Time to finish  20s,   90.3% completed, time steps left  70\n",
      "  Time to finish  20s,   90.4% completed, time steps left  69\n",
      "  Time to finish  19s,   90.6% completed, time steps left  68\n",
      "  Time to finish  19s,   90.7% completed, time steps left  67\n",
      "  Time to finish  19s,   90.8% completed, time steps left  66\n",
      "  Time to finish  18s,   91.0% completed, time steps left  65\n",
      "  Time to finish  18s,   91.1% completed, time steps left  64\n",
      "  Time to finish  18s,   91.2% completed, time steps left  63\n",
      "  Time to finish  18s,   91.4% completed, time steps left  62\n",
      "  Time to finish  17s,   91.5% completed, time steps left  61\n",
      "  Time to finish  17s,   91.7% completed, time steps left  60\n",
      "  Time to finish  17s,   91.8% completed, time steps left  59\n",
      "  Time to finish  16s,   91.9% completed, time steps left  58\n",
      "  Time to finish  16s,   92.1% completed, time steps left  57\n",
      "  Time to finish  16s,   92.2% completed, time steps left  56\n",
      "  Time to finish  16s,   92.4% completed, time steps left  55\n",
      "  Time to finish  15s,   92.5% completed, time steps left  54\n",
      "  Time to finish  15s,   92.6% completed, time steps left  53\n",
      "  Time to finish  15s,   92.8% completed, time steps left  52\n",
      "  Time to finish  14s,   92.9% completed, time steps left  51\n",
      "  Time to finish  14s,   93.1% completed, time steps left  50\n",
      "  Time to finish  14s,   93.2% completed, time steps left  49\n",
      "  Time to finish  14s,   93.3% completed, time steps left  48\n",
      "  Time to finish  13s,   93.5% completed, time steps left  47\n",
      "  Time to finish  13s,   93.6% completed, time steps left  46\n",
      "  Time to finish  13s,   93.8% completed, time steps left  45\n",
      "  Time to finish  12s,   93.9% completed, time steps left  44\n",
      "  Time to finish  12s,   94.0% completed, time steps left  43\n",
      "  Time to finish  12s,   94.2% completed, time steps left  42\n",
      "  Time to finish  12s,   94.3% completed, time steps left  41\n",
      "  Time to finish  11s,   94.4% completed, time steps left  40\n",
      "  Time to finish  11s,   94.6% completed, time steps left  39\n",
      "  Time to finish  11s,   94.7% completed, time steps left  38\n",
      "  Time to finish  10s,   94.9% completed, time steps left  37\n",
      "  Time to finish  10s,   95.0% completed, time steps left  36\n",
      "  Time to finish  10s,   95.1% completed, time steps left  35\n",
      "  Time to finish  10s,   95.3% completed, time steps left  34\n",
      "  Time to finish   9s,   95.4% completed, time steps left  33\n",
      "  Time to finish   9s,   95.6% completed, time steps left  32\n",
      "  Time to finish   9s,   95.7% completed, time steps left  31\n",
      "  Time to finish   8s,   95.8% completed, time steps left  30\n",
      "  Time to finish   8s,   96.0% completed, time steps left  29\n",
      "  Time to finish   8s,   96.1% completed, time steps left  28\n",
      "  Time to finish   8s,   96.2% completed, time steps left  27\n",
      "  Time to finish   7s,   96.4% completed, time steps left  26\n",
      "  Time to finish   7s,   96.5% completed, time steps left  25\n",
      "  Time to finish   7s,   96.7% completed, time steps left  24\n",
      "  Time to finish   7s,   96.8% completed, time steps left  23\n",
      "  Time to finish   6s,   96.9% completed, time steps left  22\n",
      "  Time to finish   6s,   97.1% completed, time steps left  21\n",
      "  Time to finish   6s,   97.2% completed, time steps left  20\n",
      "  Time to finish   5s,   97.4% completed, time steps left  19\n",
      "  Time to finish   5s,   97.5% completed, time steps left  18\n",
      "  Time to finish   5s,   97.6% completed, time steps left  17\n",
      "  Time to finish   5s,   97.8% completed, time steps left  16\n",
      "  Time to finish   4s,   97.9% completed, time steps left  15\n",
      "  Time to finish   4s,   98.1% completed, time steps left  14\n",
      "  Time to finish   4s,   98.2% completed, time steps left  13\n",
      "  Time to finish   3s,   98.3% completed, time steps left  12\n",
      "  Time to finish   3s,   98.5% completed, time steps left  11\n",
      "  Time to finish   3s,   98.6% completed, time steps left  10\n",
      "  Time to finish   3s,   98.8% completed, time steps left  9\n",
      "  Time to finish   2s,   98.9% completed, time steps left  8\n",
      "  Time to finish   2s,   99.0% completed, time steps left  7\n",
      "  Time to finish   2s,   99.2% completed, time steps left  6\n",
      "  Time to finish   1s,   99.3% completed, time steps left  5\n",
      "  Time to finish   1s,   99.4% completed, time steps left  4\n",
      "  Time to finish   1s,   99.6% completed, time steps left  3\n",
      "  Time to finish   1s,   99.7% completed, time steps left  2\n",
      "  Time to finish   0s,   99.9% completed, time steps left  1\n",
      "\n",
      "------------------------------------------------------------------------------\n",
      "  FINISHED    Delft3D-FLOW\n",
      "              runid      : eur01\n",
      "              date, time : 2018-08-07, 19:34:30\n",
      "SUMMARY FOR PARTITION :  1\n",
      "*** WARNING Station  lies outside the computational domain\n",
      "    0 errors and     1 warnings\n",
      "returning to main program from domain eur01\n",
      "------------------------------------------------------------------------------\n",
      "SUMMARY FOR PARTITION :  2\n",
      "    0 errors and     0 warnings\n",
      "returning to main program from domain eur01\n",
      "------------------------------------------------------------------------------\n",
      "SUMMARY FOR PARTITION :  3\n",
      "    0 errors and     0 warnings\n",
      "returning to main program from domain eur01\n",
      "------------------------------------------------------------------------------\n",
      "SUMMARY FOR PARTITION :  4\n",
      "    0 errors and     0 warnings\n",
      "returning to main program from domain eur01\n",
      "------------------------------------------------------------------------------\n",
      "D_Hydro [1533663270.179194] <anonymous> >> d_hydro shutting down normally\n"
     ]
    },
    {
     "name": "stdout",
     "output_type": "stream",
     "text": [
      "D_Hydro [1533663270.179326] <anonymous> >> d_hydro shutting down normally\n",
      "D_Hydro [1533663270.180462] <anonymous> >> d_hydro shutting down normally\n",
      "D_Hydro [1533663270.192241] <anonymous> >> d_hydro shutting down normally\n"
     ]
    }
   ],
   "source": [
    "#execute\n",
    "b.run()"
   ]
  },
  {
   "cell_type": "code",
   "execution_count": null,
   "metadata": {},
   "outputs": [],
   "source": [
    "#%matplotlib inline"
   ]
  },
  {
   "cell_type": "markdown",
   "metadata": {},
   "source": [
    "## Analysis of output "
   ]
  },
  {
   "cell_type": "code",
   "execution_count": null,
   "metadata": {},
   "outputs": [],
   "source": [
    "otp = data(**dic)#,tag='eur025')# optional tag for data selection ,sa_date='2010-2-1 5:0:0',se_date='2010-2-1 22:0:0') # optionally set range for tide gauge data acquisition "
   ]
  },
  {
   "cell_type": "code",
   "execution_count": null,
   "metadata": {},
   "outputs": [],
   "source": [
    "otp.impl.Dataset"
   ]
  },
  {
   "cell_type": "code",
   "execution_count": null,
   "metadata": {},
   "outputs": [],
   "source": [
    "otp.impl.dem.bathymetry.plot()#width=600,cmap='jet')"
   ]
  },
  {
   "cell_type": "code",
   "execution_count": null,
   "metadata": {},
   "outputs": [],
   "source": [
    "fig = plt.figure(figsize=(12,8))\n",
    "ax = plt.subplot(projection=ccrs.PlateCarree());\n",
    "\n",
    "gp = ax.scatter(otp.impl.x, otp.impl.y, s=2, color='k',  label='grid points', transform=ccrs.PlateCarree());\n",
    "\n",
    "pp = ax.scatter(otp.impl.xh, otp.impl.yh, s=2, color='b', label='pressure points', transform=ccrs.PlateCarree());\n",
    "\n",
    "ax.legend()\n",
    "\n",
    "ax.coastlines('50m'); ax.gridlines(draw_labels=True);"
   ]
  },
  {
   "cell_type": "markdown",
   "metadata": {},
   "source": [
    "### Visualize"
   ]
  },
  {
   "cell_type": "code",
   "execution_count": null,
   "metadata": {},
   "outputs": [],
   "source": [
    "%%opts Image [width=650 height=450] (cmap='jet')\n",
    "otp.impl.hview('S1').to(hv.Image, ['XZ','YZ'], 'S1').hist()"
   ]
  },
  {
   "cell_type": "code",
   "execution_count": null,
   "metadata": {},
   "outputs": [],
   "source": [
    "g50 = gv.feature.coastline(plot=dict(scale='50m'), style=dict(linewidth=1.5))"
   ]
  },
  {
   "cell_type": "code",
   "execution_count": null,
   "metadata": {},
   "outputs": [],
   "source": [
    "%%opts Image [colorbar=True width=650 height=450 toolbar=\"above\", tools=['hover']] (cmap='viridis')\n",
    "#otp.impl.gview('S1').to(gv.Image, ['XZ','YZ'],dynamic=True) * g50 * gf.borders() #Faster\n",
    "otp.impl.gview('S1').to(gv.Image, ['XZ','YZ']) * g50 * gf.borders()"
   ]
  },
  {
   "cell_type": "code",
   "execution_count": null,
   "metadata": {},
   "outputs": [],
   "source": [
    "otp.impl.frames(['S1'],title='SSH',vmin=-.5, vmax=.5, nv=20)"
   ]
  },
  {
   "cell_type": "code",
   "execution_count": null,
   "metadata": {
    "scrolled": false
   },
   "outputs": [],
   "source": [
    "otp.impl.frames(['U1Z','V1Z'],title='Vel',scale=.1)"
   ]
  },
  {
   "cell_type": "markdown",
   "metadata": {},
   "source": [
    "## Observation points / Validation"
   ]
  },
  {
   "cell_type": "code",
   "execution_count": null,
   "metadata": {},
   "outputs": [],
   "source": [
    "otp.impl.obs.locations"
   ]
  },
  {
   "cell_type": "code",
   "execution_count": null,
   "metadata": {},
   "outputs": [],
   "source": [
    "# Get with index number\n",
    "p = otp.impl.obs.iloc(2)\n",
    "print p.head()\n",
    "print p.tail()"
   ]
  },
  {
   "cell_type": "code",
   "execution_count": null,
   "metadata": {},
   "outputs": [],
   "source": [
    "#get with Station Name  \n",
    "p = otp.impl.obs.loc('Denmark - Hirtshals')\n",
    "p.head()"
   ]
  },
  {
   "cell_type": "code",
   "execution_count": null,
   "metadata": {},
   "outputs": [],
   "source": [
    "#plot\n",
    "ax = p.plot()"
   ]
  },
  {
   "cell_type": "markdown",
   "metadata": {},
   "source": [
    "### sample nearest point from simulation "
   ]
  },
  {
   "cell_type": "code",
   "execution_count": null,
   "metadata": {},
   "outputs": [],
   "source": [
    " plat,plon = otp.impl.obs.locations.loc[2,['lat','lon']]"
   ]
  },
  {
   "cell_type": "code",
   "execution_count": null,
   "metadata": {},
   "outputs": [],
   "source": [
    "#ts = otp.vars.S1.sel(XZ=[lon], method='nearest', tolerance=5).sel(YZ=[lat], method='nearest', tolerance=5)\n",
    "#ts = ts.squeeze().to_pandas()\n",
    "#ts.head()"
   ]
  },
  {
   "cell_type": "code",
   "execution_count": null,
   "metadata": {},
   "outputs": [],
   "source": [
    "ts = point(lon=plon,lat=plat,data=otp.impl)\n",
    "ts.tseries(var='S1')"
   ]
  },
  {
   "cell_type": "code",
   "execution_count": null,
   "metadata": {},
   "outputs": [],
   "source": [
    "ts.S1.head()"
   ]
  },
  {
   "cell_type": "code",
   "execution_count": null,
   "metadata": {},
   "outputs": [],
   "source": [
    "ts.S1.plot()"
   ]
  },
  {
   "cell_type": "code",
   "execution_count": null,
   "metadata": {},
   "outputs": [],
   "source": [
    "## Join the graphs\n",
    "ax = p.plot(figsize=(14,10))\n",
    "ts.S1.plot(ax=ax,color=['r'])\n",
    "ax.legend(list(p.columns.values) + ['D3D'], loc='center left',bbox_to_anchor=(1.1, 0.5))"
   ]
  },
  {
   "cell_type": "code",
   "execution_count": null,
   "metadata": {},
   "outputs": [],
   "source": [
    "## Join the graphs\n",
    "#p.plot(figsize=(14,10)) * ts.S1.plot(label='d3d',color='red')"
   ]
  }
 ],
 "metadata": {
  "kernelspec": {
   "display_name": "dev",
   "language": "python",
   "name": "dev"
  },
  "language_info": {
   "codemirror_mode": {
    "name": "ipython",
    "version": 2
   },
   "file_extension": ".py",
   "mimetype": "text/x-python",
   "name": "python",
   "nbconvert_exporter": "python",
   "pygments_lexer": "ipython2",
   "version": "2.7.15"
  },
  "toc": {
   "base_numbering": 1,
   "nav_menu": {},
   "number_sections": true,
   "sideBar": true,
   "skip_h1_title": false,
   "title_cell": "Table of Contents",
   "title_sidebar": "Contents",
   "toc_cell": false,
   "toc_position": {
    "height": "calc(100% - 180px)",
    "left": "10px",
    "top": "150px",
    "width": "278px"
   },
   "toc_section_display": true,
   "toc_window_display": false
  }
 },
 "nbformat": 4,
 "nbformat_minor": 2
}
