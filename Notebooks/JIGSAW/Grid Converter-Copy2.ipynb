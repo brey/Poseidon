{
 "cells": [
  {
   "cell_type": "markdown",
   "metadata": {},
   "source": [
    "# Convert .msh grid to .gr3"
   ]
  },
  {
   "cell_type": "code",
   "execution_count": 6,
   "metadata": {},
   "outputs": [
    {
     "data": {
      "text/html": [
       "<style>.container { width:100% !important; }</style>"
      ],
      "text/plain": [
       "<IPython.core.display.HTML object>"
      ]
     },
     "metadata": {},
     "output_type": "display_data"
    }
   ],
   "source": [
    "#to use the full width of the browser window uncomment the code below and execute the cell\n",
    "from IPython.core.display import display, HTML\n",
    "display(HTML(\"<style>.container { width:100% !important; }</style>\"))"
   ]
  },
  {
   "cell_type": "code",
   "execution_count": 1,
   "metadata": {},
   "outputs": [],
   "source": [
    "import pandas as pd\n",
    "import numpy as np\n",
    "from mayavi import mlab\n",
    "from mayavi.sources.builtin_surface import BuiltinSurface"
   ]
  },
  {
   "cell_type": "code",
   "execution_count": 2,
   "metadata": {},
   "outputs": [],
   "source": [
    "import pyresample"
   ]
  },
  {
   "cell_type": "code",
   "execution_count": 3,
   "metadata": {},
   "outputs": [],
   "source": [
    "from shutil import copyfile"
   ]
  },
  {
   "cell_type": "code",
   "execution_count": 4,
   "metadata": {},
   "outputs": [],
   "source": [
    "import shapely"
   ]
  },
  {
   "cell_type": "code",
   "execution_count": 5,
   "metadata": {},
   "outputs": [
    {
     "name": "stdout",
     "output_type": "stream",
     "text": [
      "Notebook initialized with x3d backend.\n"
     ]
    }
   ],
   "source": [
    "mlab.init_notebook()"
   ]
  },
  {
   "cell_type": "markdown",
   "metadata": {},
   "source": [
    "## read .msh"
   ]
  },
  {
   "cell_type": "code",
   "execution_count": 6,
   "metadata": {},
   "outputs": [],
   "source": [
    "msh='/Users/brey/GitHub/jigsaw-geo-matlab/jigsaw/out/EARTH-CONST-MESH.msh'"
   ]
  },
  {
   "cell_type": "code",
   "execution_count": null,
   "metadata": {},
   "outputs": [],
   "source": [
    "msh='/Users/brey/GitHub/jigsaw-geo-matlab/jigsaw/out/EARTH-REGIONAL-MESH.msh'"
   ]
  },
  {
   "cell_type": "code",
   "execution_count": 6,
   "metadata": {},
   "outputs": [],
   "source": [
    "msh='/Users/brey/Downloads/JIGSAW/out/Global.msh'"
   ]
  },
  {
   "cell_type": "code",
   "execution_count": 7,
   "metadata": {},
   "outputs": [],
   "source": [
    "#extract number of elements, number of nodes\n",
    "p,nn=pd.read_csv(msh,header=2,skiprows=1,nrows=0,delimiter='=')"
   ]
  },
  {
   "cell_type": "code",
   "execution_count": 8,
   "metadata": {},
   "outputs": [],
   "source": [
    "nn=int(nn)"
   ]
  },
  {
   "cell_type": "code",
   "execution_count": 9,
   "metadata": {},
   "outputs": [
    {
     "data": {
      "text/plain": [
       "188494"
      ]
     },
     "execution_count": 9,
     "metadata": {},
     "output_type": "execute_result"
    }
   ],
   "source": [
    "nn"
   ]
  },
  {
   "cell_type": "code",
   "execution_count": 10,
   "metadata": {},
   "outputs": [],
   "source": [
    "#read lon,lat,depth for all nodes\n",
    "xy=pd.read_csv(msh,skiprows=4,header=None,delimiter=';',engine='python',nrows=nn,names=['x','y','z','q'])"
   ]
  },
  {
   "cell_type": "code",
   "execution_count": 11,
   "metadata": {},
   "outputs": [
    {
     "data": {
      "text/plain": [
       "(188494, 4)"
      ]
     },
     "execution_count": 11,
     "metadata": {},
     "output_type": "execute_result"
    }
   ],
   "source": [
    "xy.shape"
   ]
  },
  {
   "cell_type": "code",
   "execution_count": 12,
   "metadata": {},
   "outputs": [],
   "source": [
    "xy.index=xy.index+1"
   ]
  },
  {
   "cell_type": "code",
   "execution_count": 13,
   "metadata": {},
   "outputs": [
    {
     "data": {
      "text/html": [
       "<div>\n",
       "<style scoped>\n",
       "    .dataframe tbody tr th:only-of-type {\n",
       "        vertical-align: middle;\n",
       "    }\n",
       "\n",
       "    .dataframe tbody tr th {\n",
       "        vertical-align: top;\n",
       "    }\n",
       "\n",
       "    .dataframe thead th {\n",
       "        text-align: right;\n",
       "    }\n",
       "</style>\n",
       "<table border=\"1\" class=\"dataframe\">\n",
       "  <thead>\n",
       "    <tr style=\"text-align: right;\">\n",
       "      <th></th>\n",
       "      <th>x</th>\n",
       "      <th>y</th>\n",
       "      <th>z</th>\n",
       "      <th>q</th>\n",
       "    </tr>\n",
       "  </thead>\n",
       "  <tbody>\n",
       "    <tr>\n",
       "      <th>1</th>\n",
       "      <td>-3.749826</td>\n",
       "      <td>-0.507305</td>\n",
       "      <td>6370.998876</td>\n",
       "      <td>0</td>\n",
       "    </tr>\n",
       "    <tr>\n",
       "      <th>2</th>\n",
       "      <td>30.748207</td>\n",
       "      <td>55.378945</td>\n",
       "      <td>-6370.685106</td>\n",
       "      <td>0</td>\n",
       "    </tr>\n",
       "    <tr>\n",
       "      <th>3</th>\n",
       "      <td>6370.978370</td>\n",
       "      <td>2.890478</td>\n",
       "      <td>16.348038</td>\n",
       "      <td>0</td>\n",
       "    </tr>\n",
       "    <tr>\n",
       "      <th>4</th>\n",
       "      <td>-1.680920</td>\n",
       "      <td>6370.994689</td>\n",
       "      <td>8.052714</td>\n",
       "      <td>0</td>\n",
       "    </tr>\n",
       "    <tr>\n",
       "      <th>5</th>\n",
       "      <td>-6370.985760</td>\n",
       "      <td>-13.067623</td>\n",
       "      <td>3.268658</td>\n",
       "      <td>0</td>\n",
       "    </tr>\n",
       "  </tbody>\n",
       "</table>\n",
       "</div>"
      ],
      "text/plain": [
       "             x            y            z  q\n",
       "1    -3.749826    -0.507305  6370.998876  0\n",
       "2    30.748207    55.378945 -6370.685106  0\n",
       "3  6370.978370     2.890478    16.348038  0\n",
       "4    -1.680920  6370.994689     8.052714  0\n",
       "5 -6370.985760   -13.067623     3.268658  0"
      ]
     },
     "execution_count": 13,
     "metadata": {},
     "output_type": "execute_result"
    }
   ],
   "source": [
    "xy.head()"
   ]
  },
  {
   "cell_type": "code",
   "execution_count": 14,
   "metadata": {},
   "outputs": [
    {
     "data": {
      "text/html": [
       "<div>\n",
       "<style scoped>\n",
       "    .dataframe tbody tr th:only-of-type {\n",
       "        vertical-align: middle;\n",
       "    }\n",
       "\n",
       "    .dataframe tbody tr th {\n",
       "        vertical-align: top;\n",
       "    }\n",
       "\n",
       "    .dataframe thead th {\n",
       "        text-align: right;\n",
       "    }\n",
       "</style>\n",
       "<table border=\"1\" class=\"dataframe\">\n",
       "  <thead>\n",
       "    <tr style=\"text-align: right;\">\n",
       "      <th></th>\n",
       "      <th>x</th>\n",
       "      <th>y</th>\n",
       "      <th>z</th>\n",
       "      <th>q</th>\n",
       "    </tr>\n",
       "  </thead>\n",
       "  <tbody>\n",
       "    <tr>\n",
       "      <th>188490</th>\n",
       "      <td>-3184.906967</td>\n",
       "      <td>4221.028931</td>\n",
       "      <td>3553.719654</td>\n",
       "      <td>0</td>\n",
       "    </tr>\n",
       "    <tr>\n",
       "      <th>188491</th>\n",
       "      <td>4436.058366</td>\n",
       "      <td>3681.725969</td>\n",
       "      <td>-2712.180131</td>\n",
       "      <td>0</td>\n",
       "    </tr>\n",
       "    <tr>\n",
       "      <th>188492</th>\n",
       "      <td>3963.060647</td>\n",
       "      <td>373.878801</td>\n",
       "      <td>4974.334725</td>\n",
       "      <td>0</td>\n",
       "    </tr>\n",
       "    <tr>\n",
       "      <th>188493</th>\n",
       "      <td>349.909896</td>\n",
       "      <td>4062.737666</td>\n",
       "      <td>4895.034905</td>\n",
       "      <td>0</td>\n",
       "    </tr>\n",
       "    <tr>\n",
       "      <th>188494</th>\n",
       "      <td>-2115.882283</td>\n",
       "      <td>5966.050926</td>\n",
       "      <td>-720.360684</td>\n",
       "      <td>0</td>\n",
       "    </tr>\n",
       "  </tbody>\n",
       "</table>\n",
       "</div>"
      ],
      "text/plain": [
       "                  x            y            z  q\n",
       "188490 -3184.906967  4221.028931  3553.719654  0\n",
       "188491  4436.058366  3681.725969 -2712.180131  0\n",
       "188492  3963.060647   373.878801  4974.334725  0\n",
       "188493   349.909896  4062.737666  4895.034905  0\n",
       "188494 -2115.882283  5966.050926  -720.360684  0"
      ]
     },
     "execution_count": 14,
     "metadata": {},
     "output_type": "execute_result"
    }
   ],
   "source": [
    "xy.tail()"
   ]
  },
  {
   "cell_type": "code",
   "execution_count": 15,
   "metadata": {},
   "outputs": [],
   "source": [
    "#power,pn=pd.read_csv(msh,header=4,skiprows=nn,nrows=0,delimiter='=')\n",
    "#power, pn"
   ]
  },
  {
   "cell_type": "code",
   "execution_count": 16,
   "metadata": {},
   "outputs": [],
   "source": [
    "#pn,s = pn.split(';')"
   ]
  },
  {
   "cell_type": "code",
   "execution_count": 17,
   "metadata": {},
   "outputs": [],
   "source": [
    "#pn = int(pn)\n",
    "#pn"
   ]
  },
  {
   "cell_type": "code",
   "execution_count": 18,
   "metadata": {},
   "outputs": [],
   "source": [
    "#pr=pd.read_csv(msh,skiprows=nn+5,header=None,delimiter=';',engine='python',nrows=pn,names=['a'])\n",
    "#pr.head()"
   ]
  },
  {
   "cell_type": "code",
   "execution_count": 19,
   "metadata": {},
   "outputs": [],
   "source": [
    "#typ,ne=pd.read_csv(msh,header=4,skiprows=nn+pn+1,nrows=0,delimiter='=')\n",
    "#typ, ne"
   ]
  },
  {
   "cell_type": "code",
   "execution_count": 20,
   "metadata": {},
   "outputs": [
    {
     "data": {
      "text/plain": [
       "('TRIA3', '376984')"
      ]
     },
     "execution_count": 20,
     "metadata": {},
     "output_type": "execute_result"
    }
   ],
   "source": [
    "typ,ne=pd.read_csv(msh,header=4,skiprows=nn,nrows=0,delimiter='=')\n",
    "typ, ne"
   ]
  },
  {
   "cell_type": "code",
   "execution_count": 21,
   "metadata": {},
   "outputs": [],
   "source": [
    "ne = int(ne)"
   ]
  },
  {
   "cell_type": "code",
   "execution_count": 22,
   "metadata": {},
   "outputs": [],
   "source": [
    "tr=pd.read_csv(msh,skiprows=nn+5,header=None,delimiter=';',engine='python',nrows=ne,names=['a','b','c','q'])"
   ]
  },
  {
   "cell_type": "code",
   "execution_count": 23,
   "metadata": {},
   "outputs": [],
   "source": [
    "tr.index=tr.index+1"
   ]
  },
  {
   "cell_type": "code",
   "execution_count": 24,
   "metadata": {},
   "outputs": [],
   "source": [
    "tr['q']=3"
   ]
  },
  {
   "cell_type": "code",
   "execution_count": 25,
   "metadata": {},
   "outputs": [
    {
     "data": {
      "text/html": [
       "<div>\n",
       "<style scoped>\n",
       "    .dataframe tbody tr th:only-of-type {\n",
       "        vertical-align: middle;\n",
       "    }\n",
       "\n",
       "    .dataframe tbody tr th {\n",
       "        vertical-align: top;\n",
       "    }\n",
       "\n",
       "    .dataframe thead th {\n",
       "        text-align: right;\n",
       "    }\n",
       "</style>\n",
       "<table border=\"1\" class=\"dataframe\">\n",
       "  <thead>\n",
       "    <tr style=\"text-align: right;\">\n",
       "      <th></th>\n",
       "      <th>a</th>\n",
       "      <th>b</th>\n",
       "      <th>c</th>\n",
       "      <th>q</th>\n",
       "    </tr>\n",
       "  </thead>\n",
       "  <tbody>\n",
       "    <tr>\n",
       "      <th>1</th>\n",
       "      <td>65934</td>\n",
       "      <td>65935</td>\n",
       "      <td>65936</td>\n",
       "      <td>3</td>\n",
       "    </tr>\n",
       "    <tr>\n",
       "      <th>2</th>\n",
       "      <td>34672</td>\n",
       "      <td>34671</td>\n",
       "      <td>72131</td>\n",
       "      <td>3</td>\n",
       "    </tr>\n",
       "    <tr>\n",
       "      <th>3</th>\n",
       "      <td>172054</td>\n",
       "      <td>150772</td>\n",
       "      <td>172405</td>\n",
       "      <td>3</td>\n",
       "    </tr>\n",
       "    <tr>\n",
       "      <th>4</th>\n",
       "      <td>25935</td>\n",
       "      <td>72557</td>\n",
       "      <td>128305</td>\n",
       "      <td>3</td>\n",
       "    </tr>\n",
       "    <tr>\n",
       "      <th>5</th>\n",
       "      <td>56475</td>\n",
       "      <td>149360</td>\n",
       "      <td>156062</td>\n",
       "      <td>3</td>\n",
       "    </tr>\n",
       "  </tbody>\n",
       "</table>\n",
       "</div>"
      ],
      "text/plain": [
       "        a       b       c  q\n",
       "1   65934   65935   65936  3\n",
       "2   34672   34671   72131  3\n",
       "3  172054  150772  172405  3\n",
       "4   25935   72557  128305  3\n",
       "5   56475  149360  156062  3"
      ]
     },
     "execution_count": 25,
     "metadata": {},
     "output_type": "execute_result"
    }
   ],
   "source": [
    "tr.head()"
   ]
  },
  {
   "cell_type": "code",
   "execution_count": 26,
   "metadata": {},
   "outputs": [
    {
     "data": {
      "text/html": [
       "<div>\n",
       "<style scoped>\n",
       "    .dataframe tbody tr th:only-of-type {\n",
       "        vertical-align: middle;\n",
       "    }\n",
       "\n",
       "    .dataframe tbody tr th {\n",
       "        vertical-align: top;\n",
       "    }\n",
       "\n",
       "    .dataframe thead th {\n",
       "        text-align: right;\n",
       "    }\n",
       "</style>\n",
       "<table border=\"1\" class=\"dataframe\">\n",
       "  <thead>\n",
       "    <tr style=\"text-align: right;\">\n",
       "      <th></th>\n",
       "      <th>a</th>\n",
       "      <th>b</th>\n",
       "      <th>c</th>\n",
       "      <th>q</th>\n",
       "    </tr>\n",
       "  </thead>\n",
       "  <tbody>\n",
       "    <tr>\n",
       "      <th>376980</th>\n",
       "      <td>38524</td>\n",
       "      <td>173205</td>\n",
       "      <td>188493</td>\n",
       "      <td>3</td>\n",
       "    </tr>\n",
       "    <tr>\n",
       "      <th>376981</th>\n",
       "      <td>173205</td>\n",
       "      <td>116544</td>\n",
       "      <td>188493</td>\n",
       "      <td>3</td>\n",
       "    </tr>\n",
       "    <tr>\n",
       "      <th>376982</th>\n",
       "      <td>116544</td>\n",
       "      <td>165317</td>\n",
       "      <td>188493</td>\n",
       "      <td>3</td>\n",
       "    </tr>\n",
       "    <tr>\n",
       "      <th>376983</th>\n",
       "      <td>188493</td>\n",
       "      <td>99951</td>\n",
       "      <td>186307</td>\n",
       "      <td>3</td>\n",
       "    </tr>\n",
       "    <tr>\n",
       "      <th>376984</th>\n",
       "      <td>38524</td>\n",
       "      <td>188493</td>\n",
       "      <td>186307</td>\n",
       "      <td>3</td>\n",
       "    </tr>\n",
       "  </tbody>\n",
       "</table>\n",
       "</div>"
      ],
      "text/plain": [
       "             a       b       c  q\n",
       "376980   38524  173205  188493  3\n",
       "376981  173205  116544  188493  3\n",
       "376982  116544  165317  188493  3\n",
       "376983  188493   99951  186307  3\n",
       "376984   38524  188493  186307  3"
      ]
     },
     "execution_count": 26,
     "metadata": {},
     "output_type": "execute_result"
    }
   ],
   "source": [
    "tr.tail()"
   ]
  },
  {
   "cell_type": "code",
   "execution_count": 27,
   "metadata": {},
   "outputs": [],
   "source": [
    "tri3 = tr.loc[:,['a','b','c']].values"
   ]
  },
  {
   "cell_type": "code",
   "execution_count": 28,
   "metadata": {},
   "outputs": [],
   "source": [
    "# read back files\n",
    "grid = pd.read_csv('grid', index_col=0)"
   ]
  },
  {
   "cell_type": "markdown",
   "metadata": {},
   "source": [
    "## Mask Land"
   ]
  },
  {
   "cell_type": "code",
   "execution_count": 36,
   "metadata": {},
   "outputs": [],
   "source": [
    "land = np.load('land_index.npz')['arr_0']"
   ]
  },
  {
   "cell_type": "code",
   "execution_count": 37,
   "metadata": {},
   "outputs": [],
   "source": [
    "bns = np.load('bns.npz')['arr_0'] "
   ]
  },
  {
   "cell_type": "code",
   "execution_count": 103,
   "metadata": {},
   "outputs": [],
   "source": [
    "gcrop = pd.read_csv('gcrop',index_col=0)\n",
    "ecrop = pd.read_csv('ecrop',index_col=0)"
   ]
  },
  {
   "cell_type": "code",
   "execution_count": 104,
   "metadata": {},
   "outputs": [
    {
     "data": {
      "text/html": [
       "<div>\n",
       "<style scoped>\n",
       "    .dataframe tbody tr th:only-of-type {\n",
       "        vertical-align: middle;\n",
       "    }\n",
       "\n",
       "    .dataframe tbody tr th {\n",
       "        vertical-align: top;\n",
       "    }\n",
       "\n",
       "    .dataframe thead th {\n",
       "        text-align: right;\n",
       "    }\n",
       "</style>\n",
       "<table border=\"1\" class=\"dataframe\">\n",
       "  <thead>\n",
       "    <tr style=\"text-align: right;\">\n",
       "      <th></th>\n",
       "      <th>x</th>\n",
       "      <th>y</th>\n",
       "      <th>z</th>\n",
       "      <th>q</th>\n",
       "      <th>lon</th>\n",
       "      <th>lat</th>\n",
       "    </tr>\n",
       "  </thead>\n",
       "  <tbody>\n",
       "    <tr>\n",
       "      <th>1</th>\n",
       "      <td>-3.749826</td>\n",
       "      <td>-0.507305</td>\n",
       "      <td>6370.998876</td>\n",
       "      <td>0.0</td>\n",
       "      <td>-172.295365</td>\n",
       "      <td>89.965970</td>\n",
       "    </tr>\n",
       "    <tr>\n",
       "      <th>2</th>\n",
       "      <td>6370.978370</td>\n",
       "      <td>2.890478</td>\n",
       "      <td>16.348038</td>\n",
       "      <td>0.0</td>\n",
       "      <td>0.025995</td>\n",
       "      <td>0.147022</td>\n",
       "    </tr>\n",
       "    <tr>\n",
       "      <th>3</th>\n",
       "      <td>-1.680920</td>\n",
       "      <td>6370.994689</td>\n",
       "      <td>8.052714</td>\n",
       "      <td>0.0</td>\n",
       "      <td>90.015117</td>\n",
       "      <td>0.072420</td>\n",
       "    </tr>\n",
       "    <tr>\n",
       "      <th>4</th>\n",
       "      <td>-6370.985760</td>\n",
       "      <td>-13.067623</td>\n",
       "      <td>3.268658</td>\n",
       "      <td>0.0</td>\n",
       "      <td>-179.882480</td>\n",
       "      <td>0.029396</td>\n",
       "    </tr>\n",
       "    <tr>\n",
       "      <th>5</th>\n",
       "      <td>-1.905772</td>\n",
       "      <td>-6370.993890</td>\n",
       "      <td>8.615335</td>\n",
       "      <td>0.0</td>\n",
       "      <td>-90.017139</td>\n",
       "      <td>0.077480</td>\n",
       "    </tr>\n",
       "  </tbody>\n",
       "</table>\n",
       "</div>"
      ],
      "text/plain": [
       "             x            y            z    q         lon        lat\n",
       "1    -3.749826    -0.507305  6370.998876  0.0 -172.295365  89.965970\n",
       "2  6370.978370     2.890478    16.348038  0.0    0.025995   0.147022\n",
       "3    -1.680920  6370.994689     8.052714  0.0   90.015117   0.072420\n",
       "4 -6370.985760   -13.067623     3.268658  0.0 -179.882480   0.029396\n",
       "5    -1.905772 -6370.993890     8.615335  0.0  -90.017139   0.077480"
      ]
     },
     "execution_count": 104,
     "metadata": {},
     "output_type": "execute_result"
    }
   ],
   "source": [
    "gcrop.head()"
   ]
  },
  {
   "cell_type": "code",
   "execution_count": 105,
   "metadata": {},
   "outputs": [
    {
     "data": {
      "text/html": [
       "<div>\n",
       "<style scoped>\n",
       "    .dataframe tbody tr th:only-of-type {\n",
       "        vertical-align: middle;\n",
       "    }\n",
       "\n",
       "    .dataframe tbody tr th {\n",
       "        vertical-align: top;\n",
       "    }\n",
       "\n",
       "    .dataframe thead th {\n",
       "        text-align: right;\n",
       "    }\n",
       "</style>\n",
       "<table border=\"1\" class=\"dataframe\">\n",
       "  <thead>\n",
       "    <tr style=\"text-align: right;\">\n",
       "      <th></th>\n",
       "      <th>a</th>\n",
       "      <th>b</th>\n",
       "      <th>c</th>\n",
       "      <th>q</th>\n",
       "      <th>x1</th>\n",
       "      <th>y1</th>\n",
       "      <th>x2</th>\n",
       "      <th>y2</th>\n",
       "      <th>x3</th>\n",
       "      <th>y3</th>\n",
       "      <th>val</th>\n",
       "      <th>s1</th>\n",
       "      <th>s2</th>\n",
       "      <th>s3</th>\n",
       "    </tr>\n",
       "  </thead>\n",
       "  <tbody>\n",
       "    <tr>\n",
       "      <th>1</th>\n",
       "      <td>57565</td>\n",
       "      <td>57567</td>\n",
       "      <td>57566</td>\n",
       "      <td>3</td>\n",
       "      <td>-152.049709</td>\n",
       "      <td>-30.508845</td>\n",
       "      <td>-152.548847</td>\n",
       "      <td>-30.393800</td>\n",
       "      <td>-152.416943</td>\n",
       "      <td>-30.828068</td>\n",
       "      <td>-0.201585</td>\n",
       "      <td>-1.0</td>\n",
       "      <td>-1.0</td>\n",
       "      <td>-1.0</td>\n",
       "    </tr>\n",
       "    <tr>\n",
       "      <th>2</th>\n",
       "      <td>30277</td>\n",
       "      <td>62909</td>\n",
       "      <td>30276</td>\n",
       "      <td>3</td>\n",
       "      <td>6.179056</td>\n",
       "      <td>-17.011670</td>\n",
       "      <td>5.822087</td>\n",
       "      <td>-17.302412</td>\n",
       "      <td>6.265693</td>\n",
       "      <td>-17.453018</td>\n",
       "      <td>-0.182737</td>\n",
       "      <td>1.0</td>\n",
       "      <td>1.0</td>\n",
       "      <td>1.0</td>\n",
       "    </tr>\n",
       "    <tr>\n",
       "      <th>3</th>\n",
       "      <td>152565</td>\n",
       "      <td>152895</td>\n",
       "      <td>131736</td>\n",
       "      <td>3</td>\n",
       "      <td>110.771125</td>\n",
       "      <td>-47.894409</td>\n",
       "      <td>111.178923</td>\n",
       "      <td>-47.541181</td>\n",
       "      <td>110.515668</td>\n",
       "      <td>-47.484343</td>\n",
       "      <td>-0.257458</td>\n",
       "      <td>1.0</td>\n",
       "      <td>1.0</td>\n",
       "      <td>1.0</td>\n",
       "    </tr>\n",
       "    <tr>\n",
       "      <th>4</th>\n",
       "      <td>22773</td>\n",
       "      <td>109352</td>\n",
       "      <td>63330</td>\n",
       "      <td>3</td>\n",
       "      <td>83.127768</td>\n",
       "      <td>0.581281</td>\n",
       "      <td>83.453917</td>\n",
       "      <td>0.890252</td>\n",
       "      <td>83.024470</td>\n",
       "      <td>1.017339</td>\n",
       "      <td>-0.174136</td>\n",
       "      <td>1.0</td>\n",
       "      <td>1.0</td>\n",
       "      <td>1.0</td>\n",
       "    </tr>\n",
       "    <tr>\n",
       "      <th>5</th>\n",
       "      <td>49246</td>\n",
       "      <td>137011</td>\n",
       "      <td>130328</td>\n",
       "      <td>3</td>\n",
       "      <td>-167.237513</td>\n",
       "      <td>-19.483809</td>\n",
       "      <td>-166.917362</td>\n",
       "      <td>-19.815202</td>\n",
       "      <td>-166.769652</td>\n",
       "      <td>-19.388138</td>\n",
       "      <td>-0.185675</td>\n",
       "      <td>-1.0</td>\n",
       "      <td>-1.0</td>\n",
       "      <td>-1.0</td>\n",
       "    </tr>\n",
       "  </tbody>\n",
       "</table>\n",
       "</div>"
      ],
      "text/plain": [
       "        a       b       c  q          x1         y1          x2         y2  \\\n",
       "1   57565   57567   57566  3 -152.049709 -30.508845 -152.548847 -30.393800   \n",
       "2   30277   62909   30276  3    6.179056 -17.011670    5.822087 -17.302412   \n",
       "3  152565  152895  131736  3  110.771125 -47.894409  111.178923 -47.541181   \n",
       "4   22773  109352   63330  3   83.127768   0.581281   83.453917   0.890252   \n",
       "5   49246  137011  130328  3 -167.237513 -19.483809 -166.917362 -19.815202   \n",
       "\n",
       "           x3         y3       val   s1   s2   s3  \n",
       "1 -152.416943 -30.828068 -0.201585 -1.0 -1.0 -1.0  \n",
       "2    6.265693 -17.453018 -0.182737  1.0  1.0  1.0  \n",
       "3  110.515668 -47.484343 -0.257458  1.0  1.0  1.0  \n",
       "4   83.024470   1.017339 -0.174136  1.0  1.0  1.0  \n",
       "5 -166.769652 -19.388138 -0.185675 -1.0 -1.0 -1.0  "
      ]
     },
     "execution_count": 105,
     "metadata": {},
     "output_type": "execute_result"
    }
   ],
   "source": [
    "ecrop.head()"
   ]
  },
  {
   "cell_type": "code",
   "execution_count": 121,
   "metadata": {},
   "outputs": [],
   "source": [
    "def renum(elems):\n",
    "    ptr3 = ecrop.loc[elems,['a','b','c']]\n",
    "    pxy = gcrop.loc[np.unique(ptr3.values)]\n",
    "    pxy.reset_index(inplace=True)\n",
    "    ptr3.reset_index(inplace=True, drop=True)\n",
    "\n",
    "    #re-index for plotting\n",
    "    for i in range(ptr3.a.size):\n",
    "        ptr3.loc[i,'na'] = pxy[pxy.loc[:,'index'] == ptr3.loc[i,'a']].index\n",
    "        ptr3.loc[i,'nb'] = pxy[pxy.loc[:,'index'] == ptr3.loc[i,'b']].index\n",
    "        ptr3.loc[i,'nc'] = pxy[pxy.loc[:,'index'] == ptr3.loc[i,'c']].index\n",
    "\n",
    "    ptr3 = ptr3.loc[:,['na','nb','nc']].astype(int) #keep only the new index\n",
    "    return pxy,ptr3"
   ]
  },
  {
   "cell_type": "code",
   "execution_count": 122,
   "metadata": {},
   "outputs": [],
   "source": [
    "pxy, ptr3 = renum([3,4])"
   ]
  },
  {
   "cell_type": "code",
   "execution_count": 97,
   "metadata": {},
   "outputs": [],
   "source": [
    "celem = ecrop.loc[:,['a','b','c']].values - 1 # to make index.min == 0 for the plot below"
   ]
  },
  {
   "cell_type": "code",
   "execution_count": null,
   "metadata": {
    "scrolled": false
   },
   "outputs": [],
   "source": [
    "mlab.clf()\n",
    "# 3D triangular mesh surface (like trisurf)\n",
    "mlab.triangular_mesh(gcrop['x'].values,gcrop['y'].values,gcrop['z'].values,celem , representation='wireframe', color=(0, 0, 0))#, opacity=0.5)#, scalars=xy['dep'].values)\n",
    "mlab.triangular_mesh(pxy['x'].values,pxy['y'].values,pxy['z'].values,ptr3 , representation='surface', color=(1, 1, 0))#, opacity=0.1)#, scalars=xy['dep'].values)"
   ]
  },
  {
   "cell_type": "markdown",
   "metadata": {},
   "source": [
    "## Read Bathymetry"
   ]
  },
  {
   "cell_type": "code",
   "execution_count": 162,
   "metadata": {},
   "outputs": [],
   "source": [
    "fbath = '/Users/brey/GitHub/jigsaw-geo-matlab/jigsaw/geo/topo.msh'\n",
    "coord, nc = pd.read_csv(fbath,header=2,skiprows=1,nrows=0,delimiter='=')\n",
    "coord, nc\n",
    "nc0, nc1 = nc.split(';')\n",
    "nlon = int(nc1)\n",
    "#read lon for all boundary nodes\n",
    "xb = pd.read_csv(fbath,skiprows=4,header=None,nrows=nlon,names=['lon'])\n",
    "coord, nc = pd.read_csv(fbath,header=4,skiprows=nlon,nrows=0,delimiter='=')\n",
    "coord, nc\n",
    "nc0, nc2 = nc.split(';')\n",
    "nlat = int(nc2)\n",
    "#read lat,depth for boundary nodes\n",
    "yb = pd.read_csv(fbath,skiprows=5 + nlon,header=None,nrows=nlat,names=['lat'])\n",
    "value, nc = pd.read_csv(fbath,header=4,skiprows=nlon+nlat+1,nrows=0,delimiter='=')\n",
    "value, nc\n",
    "val, val0 = nc.split(';')\n",
    "val = int(val)\n",
    "#read \n",
    "bath = pd.read_csv(fbath,skiprows=6 + nlon + nlat,header=None,nrows=val,names=['value'])\n",
    "vb = bath.values.reshape(nlon,nlat)\n",
    "zlev = vb.T"
   ]
  },
  {
   "cell_type": "markdown",
   "metadata": {},
   "source": [
    "## resample on grid points"
   ]
  },
  {
   "cell_type": "code",
   "execution_count": 163,
   "metadata": {},
   "outputs": [],
   "source": [
    "X, Y = np.meshgrid(xb.lon.values, yb.lat.values)"
   ]
  },
  {
   "cell_type": "code",
   "execution_count": 164,
   "metadata": {},
   "outputs": [
    {
     "data": {
      "text/plain": [
       "<matplotlib.colorbar.Colorbar at 0x19a1d8f60>"
      ]
     },
     "execution_count": 164,
     "metadata": {},
     "output_type": "execute_result"
    },
    {
     "data": {
      "image/png": "[encoded data removed]",
      "text/plain": [
       "<Figure size 432x288 with 2 Axes>"
      ]
     },
     "metadata": {},
     "output_type": "display_data"
    }
   ],
   "source": [
    "### plot\n",
    "plt.figure()\n",
    "plt.contourf(X,Y,zlev)\n",
    "plt.colorbar()"
   ]
  },
  {
   "cell_type": "code",
   "execution_count": 165,
   "metadata": {},
   "outputs": [],
   "source": [
    "#mask the positive values\n",
    "wet = np.ma.masked_array(zlev,zlev>0)\n",
    "# wet.fill_value = 0.\n",
    "mx = np.ma.masked_array(X,wet.mask) \n",
    "my = np.ma.masked_array(Y,wet.mask)"
   ]
  },
  {
   "cell_type": "code",
   "execution_count": 166,
   "metadata": {},
   "outputs": [
    {
     "data": {
      "text/plain": [
       "masked_array(\n",
       "  data=[[--, --, --, ..., --, --, --],\n",
       "        [--, --, --, ..., --, --, --],\n",
       "        [--, --, --, ..., --, --, --],\n",
       "        ...,\n",
       "        [-3647, -3735, -3724, ..., -3786, -3766, -3649],\n",
       "        [-4140, -4134, -4133, ..., -4159, -4147, -4139],\n",
       "        [-4120, -4120, -4120, ..., -4120, -4120, -4120]],\n",
       "  mask=[[ True,  True,  True, ...,  True,  True,  True],\n",
       "        [ True,  True,  True, ...,  True,  True,  True],\n",
       "        [ True,  True,  True, ...,  True,  True,  True],\n",
       "        ...,\n",
       "        [False, False, False, ..., False, False, False],\n",
       "        [False, False, False, ..., False, False, False],\n",
       "        [False, False, False, ..., False, False, False]],\n",
       "  fill_value=999999)"
      ]
     },
     "execution_count": 166,
     "metadata": {},
     "output_type": "execute_result"
    }
   ],
   "source": [
    "wet"
   ]
  },
  {
   "cell_type": "code",
   "execution_count": 167,
   "metadata": {},
   "outputs": [
    {
     "data": {
      "text/plain": [
       "<matplotlib.colorbar.Colorbar at 0x18678ada0>"
      ]
     },
     "execution_count": 167,
     "metadata": {},
     "output_type": "execute_result"
    },
    {
     "data": {
      "image/png": "[encoded data removed]",
      "text/plain": [
       "<Figure size 432x288 with 2 Axes>"
      ]
     },
     "metadata": {},
     "output_type": "display_data"
    }
   ],
   "source": [
    "### plot\n",
    "plt.figure()\n",
    "plt.contourf(mx,my,wet)\n",
    "plt.colorbar()"
   ]
  },
  {
   "cell_type": "code",
   "execution_count": 168,
   "metadata": {},
   "outputs": [],
   "source": [
    "orig = pyresample.geometry.SwathDefinition(lons=mx,lats=my) # original points\n",
    "targ = pyresample.geometry.SwathDefinition(lons=gcrop.lon.values,lats=gcrop.lat.values) # target grid\n",
    "       \n",
    "ibath = pyresample.kd_tree.resample_nearest(orig,wet,targ,radius_of_influence=50000,fill_value=0)\n"
   ]
  },
  {
   "cell_type": "code",
   "execution_count": 169,
   "metadata": {},
   "outputs": [
    {
     "data": {
      "text/plain": [
       "(-10141, 0)"
      ]
     },
     "execution_count": 169,
     "metadata": {},
     "output_type": "execute_result"
    }
   ],
   "source": [
    "ibath.min(), ibath.max()"
   ]
  },
  {
   "cell_type": "markdown",
   "metadata": {},
   "source": [
    "### visualize"
   ]
  },
  {
   "cell_type": "code",
   "execution_count": 160,
   "metadata": {},
   "outputs": [],
   "source": [
    "ptr3 = ecrop.loc[17:17,['a','b','c']]\n",
    "\n",
    "pxy = gcrop.loc[np.unique(ptr3.values)]\n",
    "\n",
    "pxy.reset_index(inplace=True)\n",
    "\n",
    "ptr3.reset_index(inplace=True)\n",
    "\n",
    "pxy.head()\n",
    "\n",
    "ptr3.head()\n",
    "\n",
    "#re-index for plotting\n",
    "for i in range(ptr3.a.size):\n",
    "    ptr3.loc[i,'na'] = pxy[pxy.loc[:,'index'] == ptr3.loc[i,'a']].index\n",
    "    ptr3.loc[i,'nb'] = pxy[pxy.loc[:,'index'] == ptr3.loc[i,'b']].index\n",
    "    ptr3.loc[i,'nc'] = pxy[pxy.loc[:,'index'] == ptr3.loc[i,'c']].index\n",
    "\n",
    "ptr3 = ptr3.loc[:,['na','nb','nc']].astype(int) #keep only the new index"
   ]
  },
  {
   "cell_type": "code",
   "execution_count": 161,
   "metadata": {},
   "outputs": [
    {
     "data": {
      "text/html": [
       "<div>\n",
       "<style scoped>\n",
       "    .dataframe tbody tr th:only-of-type {\n",
       "        vertical-align: middle;\n",
       "    }\n",
       "\n",
       "    .dataframe tbody tr th {\n",
       "        vertical-align: top;\n",
       "    }\n",
       "\n",
       "    .dataframe thead th {\n",
       "        text-align: right;\n",
       "    }\n",
       "</style>\n",
       "<table border=\"1\" class=\"dataframe\">\n",
       "  <thead>\n",
       "    <tr style=\"text-align: right;\">\n",
       "      <th></th>\n",
       "      <th>index</th>\n",
       "      <th>x</th>\n",
       "      <th>y</th>\n",
       "      <th>z</th>\n",
       "      <th>q</th>\n",
       "      <th>lon</th>\n",
       "      <th>lat</th>\n",
       "    </tr>\n",
       "  </thead>\n",
       "  <tbody>\n",
       "    <tr>\n",
       "      <th>0</th>\n",
       "      <td>14357</td>\n",
       "      <td>-4851.576232</td>\n",
       "      <td>-668.225019</td>\n",
       "      <td>4074.963115</td>\n",
       "      <td>0.0</td>\n",
       "      <td>-172.157788</td>\n",
       "      <td>39.762836</td>\n",
       "    </tr>\n",
       "    <tr>\n",
       "      <th>1</th>\n",
       "      <td>14358</td>\n",
       "      <td>-4866.981242</td>\n",
       "      <td>-810.478699</td>\n",
       "      <td>4030.540766</td>\n",
       "      <td>0.0</td>\n",
       "      <td>-170.545522</td>\n",
       "      <td>39.245066</td>\n",
       "    </tr>\n",
       "    <tr>\n",
       "      <th>2</th>\n",
       "      <td>14742</td>\n",
       "      <td>-4941.042820</td>\n",
       "      <td>-703.148768</td>\n",
       "      <td>3959.964477</td>\n",
       "      <td>0.0</td>\n",
       "      <td>-171.900747</td>\n",
       "      <td>38.430209</td>\n",
       "    </tr>\n",
       "  </tbody>\n",
       "</table>\n",
       "</div>"
      ],
      "text/plain": [
       "   index            x           y            z    q         lon        lat\n",
       "0  14357 -4851.576232 -668.225019  4074.963115  0.0 -172.157788  39.762836\n",
       "1  14358 -4866.981242 -810.478699  4030.540766  0.0 -170.545522  39.245066\n",
       "2  14742 -4941.042820 -703.148768  3959.964477  0.0 -171.900747  38.430209"
      ]
     },
     "execution_count": 161,
     "metadata": {},
     "output_type": "execute_result"
    }
   ],
   "source": [
    "pxy"
   ]
  },
  {
   "cell_type": "code",
   "execution_count": 162,
   "metadata": {},
   "outputs": [
    {
     "data": {
      "text/html": [
       "<div>\n",
       "<style scoped>\n",
       "    .dataframe tbody tr th:only-of-type {\n",
       "        vertical-align: middle;\n",
       "    }\n",
       "\n",
       "    .dataframe tbody tr th {\n",
       "        vertical-align: top;\n",
       "    }\n",
       "\n",
       "    .dataframe thead th {\n",
       "        text-align: right;\n",
       "    }\n",
       "</style>\n",
       "<table border=\"1\" class=\"dataframe\">\n",
       "  <thead>\n",
       "    <tr style=\"text-align: right;\">\n",
       "      <th></th>\n",
       "      <th>na</th>\n",
       "      <th>nb</th>\n",
       "      <th>nc</th>\n",
       "    </tr>\n",
       "  </thead>\n",
       "  <tbody>\n",
       "    <tr>\n",
       "      <th>0</th>\n",
       "      <td>1</td>\n",
       "      <td>0</td>\n",
       "      <td>2</td>\n",
       "    </tr>\n",
       "  </tbody>\n",
       "</table>\n",
       "</div>"
      ],
      "text/plain": [
       "   na  nb  nc\n",
       "0   1   0   2"
      ]
     },
     "execution_count": 162,
     "metadata": {},
     "output_type": "execute_result"
    }
   ],
   "source": [
    "ptr3 "
   ]
  },
  {
   "cell_type": "code",
   "execution_count": null,
   "metadata": {},
   "outputs": [],
   "source": [
    "mlab.clf()\n",
    "# 3D triangular mesh surface (like trisurf)\n",
    "mlab.triangular_mesh(gcrop['x'].values,gcrop['y'].values,gcrop['z'].values,tri, representation='wireframe', opacity=0.8)\n",
    "\n",
    "surf = mlab.triangular_mesh(gcrop['x'].values,gcrop['y'].values,gcrop['z'].values,tri, representation='surface', opacity=0.8 , scalars=ibath, colormap='gist_earth')\n",
    "mlab.triangular_mesh(pxy['x'].values,pxy['y'].values,pxy['z'].values,ptr3 , representation='surface', color=(0, 0, 1))\n",
    "\n",
    "\n",
    "#mlab.colorbar(title='Bathymetry', orientation='vertical')\n",
    "mlab.points3d(pxy.x[0],pxy.y[0],pxy.z[0], colormap='copper', scale_factor=100 )\n",
    "mlab.points3d(pxy.x[1],pxy.y[1],pxy.z[1], colormap='copper', scale_factor=100 )\n",
    "mlab.points3d(pxy.x[2],pxy.y[2],pxy.z[2], colormap='copper', scale_factor=100 )\n"
   ]
  },
  {
   "cell_type": "code",
   "execution_count": 472,
   "metadata": {},
   "outputs": [],
   "source": [
    "gcrop['dep'] = -ibath # make bathymetry positive "
   ]
  },
  {
   "cell_type": "code",
   "execution_count": 171,
   "metadata": {},
   "outputs": [],
   "source": [
    "nn = gcrop.shape[0]\n",
    "ne = ecrop.shape[0]"
   ]
  },
  {
   "cell_type": "markdown",
   "metadata": {},
   "source": [
    "## save to file"
   ]
  },
  {
   "cell_type": "markdown",
   "metadata": {},
   "source": [
    "### Compute internal land boundaries"
   ]
  },
  {
   "cell_type": "code",
   "execution_count": 479,
   "metadata": {},
   "outputs": [
    {
     "data": {
      "text/html": [
       "<div>\n",
       "<style scoped>\n",
       "    .dataframe tbody tr th:only-of-type {\n",
       "        vertical-align: middle;\n",
       "    }\n",
       "\n",
       "    .dataframe tbody tr th {\n",
       "        vertical-align: top;\n",
       "    }\n",
       "\n",
       "    .dataframe thead th {\n",
       "        text-align: right;\n",
       "    }\n",
       "</style>\n",
       "<table border=\"1\" class=\"dataframe\">\n",
       "  <thead>\n",
       "    <tr style=\"text-align: right;\">\n",
       "      <th></th>\n",
       "      <th>index</th>\n",
       "      <th>x</th>\n",
       "      <th>y</th>\n",
       "      <th>z</th>\n",
       "      <th>q</th>\n",
       "      <th>lon</th>\n",
       "      <th>lat</th>\n",
       "      <th>dep</th>\n",
       "    </tr>\n",
       "  </thead>\n",
       "  <tbody>\n",
       "    <tr>\n",
       "      <th>1</th>\n",
       "      <td>1</td>\n",
       "      <td>-3.749826</td>\n",
       "      <td>-0.507305</td>\n",
       "      <td>6370.998876</td>\n",
       "      <td>0.0</td>\n",
       "      <td>-172.295365</td>\n",
       "      <td>89.965970</td>\n",
       "      <td>4121</td>\n",
       "    </tr>\n",
       "    <tr>\n",
       "      <th>2</th>\n",
       "      <td>3</td>\n",
       "      <td>6370.978370</td>\n",
       "      <td>2.890478</td>\n",
       "      <td>16.348038</td>\n",
       "      <td>0.0</td>\n",
       "      <td>0.025995</td>\n",
       "      <td>0.147022</td>\n",
       "      <td>4933</td>\n",
       "    </tr>\n",
       "    <tr>\n",
       "      <th>3</th>\n",
       "      <td>4</td>\n",
       "      <td>-1.680920</td>\n",
       "      <td>6370.994689</td>\n",
       "      <td>8.052714</td>\n",
       "      <td>0.0</td>\n",
       "      <td>90.015117</td>\n",
       "      <td>0.072420</td>\n",
       "      <td>4197</td>\n",
       "    </tr>\n",
       "    <tr>\n",
       "      <th>4</th>\n",
       "      <td>5</td>\n",
       "      <td>-6370.985760</td>\n",
       "      <td>-13.067623</td>\n",
       "      <td>3.268658</td>\n",
       "      <td>0.0</td>\n",
       "      <td>-179.882480</td>\n",
       "      <td>0.029396</td>\n",
       "      <td>5262</td>\n",
       "    </tr>\n",
       "    <tr>\n",
       "      <th>5</th>\n",
       "      <td>6</td>\n",
       "      <td>-1.905772</td>\n",
       "      <td>-6370.993890</td>\n",
       "      <td>8.615335</td>\n",
       "      <td>0.0</td>\n",
       "      <td>-90.017139</td>\n",
       "      <td>0.077480</td>\n",
       "      <td>940</td>\n",
       "    </tr>\n",
       "  </tbody>\n",
       "</table>\n",
       "</div>"
      ],
      "text/plain": [
       "   index            x            y            z    q         lon        lat  \\\n",
       "1      1    -3.749826    -0.507305  6370.998876  0.0 -172.295365  89.965970   \n",
       "2      3  6370.978370     2.890478    16.348038  0.0    0.025995   0.147022   \n",
       "3      4    -1.680920  6370.994689     8.052714  0.0   90.015117   0.072420   \n",
       "4      5 -6370.985760   -13.067623     3.268658  0.0 -179.882480   0.029396   \n",
       "5      6    -1.905772 -6370.993890     8.615335  0.0  -90.017139   0.077480   \n",
       "\n",
       "    dep  \n",
       "1  4121  \n",
       "2  4933  \n",
       "3  4197  \n",
       "4  5262  \n",
       "5   940  "
      ]
     },
     "execution_count": 479,
     "metadata": {},
     "output_type": "execute_result"
    }
   ],
   "source": [
    "gcrop.head()"
   ]
  },
  {
   "cell_type": "markdown",
   "metadata": {},
   "source": [
    "#### All ..."
   ]
  },
  {
   "cell_type": "code",
   "execution_count": 211,
   "metadata": {},
   "outputs": [
    {
     "data": {
      "text/plain": [
       "(1422, 1422)"
      ]
     },
     "execution_count": 211,
     "metadata": {},
     "output_type": "execute_result"
    }
   ],
   "source": [
    "len(bns), len(xi)"
   ]
  },
  {
   "cell_type": "code",
   "execution_count": 208,
   "metadata": {},
   "outputs": [],
   "source": [
    "lbound = [x for x in bns if len(x) > 0]"
   ]
  },
  {
   "cell_type": "code",
   "execution_count": 333,
   "metadata": {},
   "outputs": [
    {
     "data": {
      "text/plain": [
       "373"
      ]
     },
     "execution_count": 333,
     "metadata": {},
     "output_type": "execute_result"
    }
   ],
   "source": [
    "len(lbound)"
   ]
  },
  {
   "cell_type": "code",
   "execution_count": 336,
   "metadata": {},
   "outputs": [],
   "source": [
    "bound=pd.DataFrame({})\n",
    "for i in range(len(lbound)):\n",
    "        bound = pd.concat([bound , gcrop.loc[gcrop['index'].isin(lbound[i])]])\n",
    "     "
   ]
  },
  {
   "cell_type": "code",
   "execution_count": 337,
   "metadata": {},
   "outputs": [
    {
     "data": {
      "text/plain": [
       "(7966, 10)"
      ]
     },
     "execution_count": 337,
     "metadata": {},
     "output_type": "execute_result"
    }
   ],
   "source": [
    "bound.shape"
   ]
  },
  {
   "cell_type": "code",
   "execution_count": 338,
   "metadata": {},
   "outputs": [
    {
     "data": {
      "text/html": [
       "<div>\n",
       "<style scoped>\n",
       "    .dataframe tbody tr th:only-of-type {\n",
       "        vertical-align: middle;\n",
       "    }\n",
       "\n",
       "    .dataframe tbody tr th {\n",
       "        vertical-align: top;\n",
       "    }\n",
       "\n",
       "    .dataframe thead th {\n",
       "        text-align: right;\n",
       "    }\n",
       "</style>\n",
       "<table border=\"1\" class=\"dataframe\">\n",
       "  <thead>\n",
       "    <tr style=\"text-align: right;\">\n",
       "      <th></th>\n",
       "      <th>level_0</th>\n",
       "      <th>index</th>\n",
       "      <th>x</th>\n",
       "      <th>y</th>\n",
       "      <th>z</th>\n",
       "      <th>q</th>\n",
       "      <th>lon</th>\n",
       "      <th>lat</th>\n",
       "      <th>dep</th>\n",
       "      <th>man</th>\n",
       "    </tr>\n",
       "  </thead>\n",
       "  <tbody>\n",
       "    <tr>\n",
       "      <th>5335</th>\n",
       "      <td>5348</td>\n",
       "      <td>5705</td>\n",
       "      <td>-1237.176135</td>\n",
       "      <td>-1155.612652</td>\n",
       "      <td>-6141.953729</td>\n",
       "      <td>0.0</td>\n",
       "      <td>-136.952297</td>\n",
       "      <td>-74.589908</td>\n",
       "      <td>297</td>\n",
       "      <td>0.12</td>\n",
       "    </tr>\n",
       "    <tr>\n",
       "      <th>5336</th>\n",
       "      <td>5349</td>\n",
       "      <td>5706</td>\n",
       "      <td>-1227.801796</td>\n",
       "      <td>-1206.852467</td>\n",
       "      <td>-6133.975128</td>\n",
       "      <td>0.0</td>\n",
       "      <td>-135.492998</td>\n",
       "      <td>-74.322150</td>\n",
       "      <td>193</td>\n",
       "      <td>0.12</td>\n",
       "    </tr>\n",
       "    <tr>\n",
       "      <th>5337</th>\n",
       "      <td>5350</td>\n",
       "      <td>5708</td>\n",
       "      <td>-1178.756692</td>\n",
       "      <td>-1228.627204</td>\n",
       "      <td>-6139.271036</td>\n",
       "      <td>0.0</td>\n",
       "      <td>-133.813251</td>\n",
       "      <td>-74.499375</td>\n",
       "      <td>868</td>\n",
       "      <td>0.12</td>\n",
       "    </tr>\n",
       "    <tr>\n",
       "      <th>5338</th>\n",
       "      <td>5351</td>\n",
       "      <td>5710</td>\n",
       "      <td>-1127.706166</td>\n",
       "      <td>-1250.875887</td>\n",
       "      <td>-6144.365656</td>\n",
       "      <td>0.0</td>\n",
       "      <td>-132.035710</td>\n",
       "      <td>-74.671749</td>\n",
       "      <td>185</td>\n",
       "      <td>0.12</td>\n",
       "    </tr>\n",
       "    <tr>\n",
       "      <th>5340</th>\n",
       "      <td>5353</td>\n",
       "      <td>5713</td>\n",
       "      <td>-1073.321802</td>\n",
       "      <td>-1276.137532</td>\n",
       "      <td>-6148.910010</td>\n",
       "      <td>0.0</td>\n",
       "      <td>-130.066206</td>\n",
       "      <td>-74.827118</td>\n",
       "      <td>0</td>\n",
       "      <td>0.12</td>\n",
       "    </tr>\n",
       "  </tbody>\n",
       "</table>\n",
       "</div>"
      ],
      "text/plain": [
       "      level_0  index            x            y            z    q         lon  \\\n",
       "5335     5348   5705 -1237.176135 -1155.612652 -6141.953729  0.0 -136.952297   \n",
       "5336     5349   5706 -1227.801796 -1206.852467 -6133.975128  0.0 -135.492998   \n",
       "5337     5350   5708 -1178.756692 -1228.627204 -6139.271036  0.0 -133.813251   \n",
       "5338     5351   5710 -1127.706166 -1250.875887 -6144.365656  0.0 -132.035710   \n",
       "5340     5353   5713 -1073.321802 -1276.137532 -6148.910010  0.0 -130.066206   \n",
       "\n",
       "            lat  dep   man  \n",
       "5335 -74.589908  297  0.12  \n",
       "5336 -74.322150  193  0.12  \n",
       "5337 -74.499375  868  0.12  \n",
       "5338 -74.671749  185  0.12  \n",
       "5340 -74.827118    0  0.12  "
      ]
     },
     "execution_count": 338,
     "metadata": {},
     "output_type": "execute_result"
    }
   ],
   "source": [
    "bound.head()"
   ]
  },
  {
   "cell_type": "code",
   "execution_count": null,
   "metadata": {},
   "outputs": [],
   "source": [
    "#check"
   ]
  },
  {
   "cell_type": "code",
   "execution_count": null,
   "metadata": {},
   "outputs": [],
   "source": [
    "mlab.clf()\n",
    "# 3D triangular mesh surface (like trisurf)\n",
    "mlab.triangular_mesh(gcrop['x'].values,gcrop['y'].values,gcrop['z'].values,tri, representation='wireframe', opacity=0.8)\n",
    "mlab.points3d(bound['x'].values,bound['y'].values,bound['z'].values, colormap=\"copper\", scale_factor=10)\n",
    "\n",
    "\n"
   ]
  },
  {
   "cell_type": "code",
   "execution_count": 340,
   "metadata": {},
   "outputs": [],
   "source": [
    "bound.to_csv('bound')"
   ]
  },
  {
   "cell_type": "markdown",
   "metadata": {},
   "source": [
    "### Combine points"
   ]
  },
  {
   "cell_type": "code",
   "execution_count": 480,
   "metadata": {},
   "outputs": [
    {
     "data": {
      "text/html": [
       "<div>\n",
       "<style scoped>\n",
       "    .dataframe tbody tr th:only-of-type {\n",
       "        vertical-align: middle;\n",
       "    }\n",
       "\n",
       "    .dataframe tbody tr th {\n",
       "        vertical-align: top;\n",
       "    }\n",
       "\n",
       "    .dataframe thead th {\n",
       "        text-align: right;\n",
       "    }\n",
       "</style>\n",
       "<table border=\"1\" class=\"dataframe\">\n",
       "  <thead>\n",
       "    <tr style=\"text-align: right;\">\n",
       "      <th></th>\n",
       "      <th>a</th>\n",
       "      <th>b</th>\n",
       "      <th>c</th>\n",
       "      <th>q</th>\n",
       "      <th>x1</th>\n",
       "      <th>y1</th>\n",
       "      <th>x2</th>\n",
       "      <th>y2</th>\n",
       "      <th>x3</th>\n",
       "      <th>y3</th>\n",
       "      <th>val</th>\n",
       "      <th>s1</th>\n",
       "      <th>s2</th>\n",
       "      <th>s3</th>\n",
       "    </tr>\n",
       "  </thead>\n",
       "  <tbody>\n",
       "    <tr>\n",
       "      <th>1</th>\n",
       "      <td>57565</td>\n",
       "      <td>57567</td>\n",
       "      <td>57566</td>\n",
       "      <td>3</td>\n",
       "      <td>-152.049709</td>\n",
       "      <td>-30.508845</td>\n",
       "      <td>-152.548847</td>\n",
       "      <td>-30.393800</td>\n",
       "      <td>-152.416943</td>\n",
       "      <td>-30.828068</td>\n",
       "      <td>-0.201585</td>\n",
       "      <td>-1.0</td>\n",
       "      <td>-1.0</td>\n",
       "      <td>-1.0</td>\n",
       "    </tr>\n",
       "    <tr>\n",
       "      <th>2</th>\n",
       "      <td>30277</td>\n",
       "      <td>62909</td>\n",
       "      <td>30276</td>\n",
       "      <td>3</td>\n",
       "      <td>6.179056</td>\n",
       "      <td>-17.011670</td>\n",
       "      <td>5.822087</td>\n",
       "      <td>-17.302412</td>\n",
       "      <td>6.265693</td>\n",
       "      <td>-17.453018</td>\n",
       "      <td>-0.182737</td>\n",
       "      <td>1.0</td>\n",
       "      <td>1.0</td>\n",
       "      <td>1.0</td>\n",
       "    </tr>\n",
       "    <tr>\n",
       "      <th>3</th>\n",
       "      <td>152565</td>\n",
       "      <td>152895</td>\n",
       "      <td>131736</td>\n",
       "      <td>3</td>\n",
       "      <td>110.771125</td>\n",
       "      <td>-47.894409</td>\n",
       "      <td>111.178923</td>\n",
       "      <td>-47.541181</td>\n",
       "      <td>110.515668</td>\n",
       "      <td>-47.484343</td>\n",
       "      <td>-0.257458</td>\n",
       "      <td>1.0</td>\n",
       "      <td>1.0</td>\n",
       "      <td>1.0</td>\n",
       "    </tr>\n",
       "    <tr>\n",
       "      <th>4</th>\n",
       "      <td>22773</td>\n",
       "      <td>109352</td>\n",
       "      <td>63330</td>\n",
       "      <td>3</td>\n",
       "      <td>83.127768</td>\n",
       "      <td>0.581281</td>\n",
       "      <td>83.453917</td>\n",
       "      <td>0.890252</td>\n",
       "      <td>83.024470</td>\n",
       "      <td>1.017339</td>\n",
       "      <td>-0.174136</td>\n",
       "      <td>1.0</td>\n",
       "      <td>1.0</td>\n",
       "      <td>1.0</td>\n",
       "    </tr>\n",
       "    <tr>\n",
       "      <th>5</th>\n",
       "      <td>49246</td>\n",
       "      <td>137011</td>\n",
       "      <td>130328</td>\n",
       "      <td>3</td>\n",
       "      <td>-167.237513</td>\n",
       "      <td>-19.483809</td>\n",
       "      <td>-166.917362</td>\n",
       "      <td>-19.815202</td>\n",
       "      <td>-166.769652</td>\n",
       "      <td>-19.388138</td>\n",
       "      <td>-0.185675</td>\n",
       "      <td>-1.0</td>\n",
       "      <td>-1.0</td>\n",
       "      <td>-1.0</td>\n",
       "    </tr>\n",
       "  </tbody>\n",
       "</table>\n",
       "</div>"
      ],
      "text/plain": [
       "        a       b       c  q          x1         y1          x2         y2  \\\n",
       "1   57565   57567   57566  3 -152.049709 -30.508845 -152.548847 -30.393800   \n",
       "2   30277   62909   30276  3    6.179056 -17.011670    5.822087 -17.302412   \n",
       "3  152565  152895  131736  3  110.771125 -47.894409  111.178923 -47.541181   \n",
       "4   22773  109352   63330  3   83.127768   0.581281   83.453917   0.890252   \n",
       "5   49246  137011  130328  3 -167.237513 -19.483809 -166.917362 -19.815202   \n",
       "\n",
       "           x3         y3       val   s1   s2   s3  \n",
       "1 -152.416943 -30.828068 -0.201585 -1.0 -1.0 -1.0  \n",
       "2    6.265693 -17.453018 -0.182737  1.0  1.0  1.0  \n",
       "3  110.515668 -47.484343 -0.257458  1.0  1.0  1.0  \n",
       "4   83.024470   1.017339 -0.174136  1.0  1.0  1.0  \n",
       "5 -166.769652 -19.388138 -0.185675 -1.0 -1.0 -1.0  "
      ]
     },
     "execution_count": 480,
     "metadata": {},
     "output_type": "execute_result"
    }
   ],
   "source": [
    "ecrop.head()"
   ]
  },
  {
   "cell_type": "code",
   "execution_count": 483,
   "metadata": {},
   "outputs": [],
   "source": [
    "bels = ecrop.loc[(ecrop.a.isin(lbound[0])) | (ecrop.b.isin(lbound[0])) | (ecrop.c.isin(lbound[0]))]"
   ]
  },
  {
   "cell_type": "code",
   "execution_count": 484,
   "metadata": {},
   "outputs": [
    {
     "data": {
      "text/html": [
       "<div>\n",
       "<style scoped>\n",
       "    .dataframe tbody tr th:only-of-type {\n",
       "        vertical-align: middle;\n",
       "    }\n",
       "\n",
       "    .dataframe tbody tr th {\n",
       "        vertical-align: top;\n",
       "    }\n",
       "\n",
       "    .dataframe thead th {\n",
       "        text-align: right;\n",
       "    }\n",
       "</style>\n",
       "<table border=\"1\" class=\"dataframe\">\n",
       "  <thead>\n",
       "    <tr style=\"text-align: right;\">\n",
       "      <th></th>\n",
       "      <th>a</th>\n",
       "      <th>b</th>\n",
       "      <th>c</th>\n",
       "      <th>q</th>\n",
       "      <th>x1</th>\n",
       "      <th>y1</th>\n",
       "      <th>x2</th>\n",
       "      <th>y2</th>\n",
       "      <th>x3</th>\n",
       "      <th>y3</th>\n",
       "      <th>val</th>\n",
       "      <th>s1</th>\n",
       "      <th>s2</th>\n",
       "      <th>s3</th>\n",
       "    </tr>\n",
       "  </thead>\n",
       "  <tbody>\n",
       "    <tr>\n",
       "      <th>225</th>\n",
       "      <td>14538</td>\n",
       "      <td>14539</td>\n",
       "      <td>14387</td>\n",
       "      <td>3</td>\n",
       "      <td>-35.453771</td>\n",
       "      <td>6.226889</td>\n",
       "      <td>-35.475780</td>\n",
       "      <td>6.675130</td>\n",
       "      <td>-35.854580</td>\n",
       "      <td>6.429599</td>\n",
       "      <td>-0.175198</td>\n",
       "      <td>-1.0</td>\n",
       "      <td>-1.0</td>\n",
       "      <td>-1.0</td>\n",
       "    </tr>\n",
       "    <tr>\n",
       "      <th>340</th>\n",
       "      <td>127760</td>\n",
       "      <td>164448</td>\n",
       "      <td>720</td>\n",
       "      <td>3</td>\n",
       "      <td>5.334106</td>\n",
       "      <td>-22.386938</td>\n",
       "      <td>5.712184</td>\n",
       "      <td>-22.471913</td>\n",
       "      <td>5.717620</td>\n",
       "      <td>-22.024765</td>\n",
       "      <td>-0.169519</td>\n",
       "      <td>1.0</td>\n",
       "      <td>1.0</td>\n",
       "      <td>1.0</td>\n",
       "    </tr>\n",
       "    <tr>\n",
       "      <th>495</th>\n",
       "      <td>42135</td>\n",
       "      <td>151517</td>\n",
       "      <td>42134</td>\n",
       "      <td>3</td>\n",
       "      <td>147.241650</td>\n",
       "      <td>0.099254</td>\n",
       "      <td>147.058251</td>\n",
       "      <td>-0.312891</td>\n",
       "      <td>147.505597</td>\n",
       "      <td>-0.269254</td>\n",
       "      <td>-0.176368</td>\n",
       "      <td>1.0</td>\n",
       "      <td>1.0</td>\n",
       "      <td>1.0</td>\n",
       "    </tr>\n",
       "    <tr>\n",
       "      <th>510</th>\n",
       "      <td>136252</td>\n",
       "      <td>160937</td>\n",
       "      <td>97357</td>\n",
       "      <td>3</td>\n",
       "      <td>-112.615965</td>\n",
       "      <td>19.393252</td>\n",
       "      <td>-112.709461</td>\n",
       "      <td>19.828759</td>\n",
       "      <td>-113.061846</td>\n",
       "      <td>19.544316</td>\n",
       "      <td>-0.180061</td>\n",
       "      <td>-1.0</td>\n",
       "      <td>-1.0</td>\n",
       "      <td>-1.0</td>\n",
       "    </tr>\n",
       "    <tr>\n",
       "      <th>545</th>\n",
       "      <td>46141</td>\n",
       "      <td>49194</td>\n",
       "      <td>49193</td>\n",
       "      <td>3</td>\n",
       "      <td>-67.002355</td>\n",
       "      <td>-59.044297</td>\n",
       "      <td>-67.640136</td>\n",
       "      <td>-58.722330</td>\n",
       "      <td>-67.856958</td>\n",
       "      <td>-59.146235</td>\n",
       "      <td>-0.340168</td>\n",
       "      <td>-1.0</td>\n",
       "      <td>-1.0</td>\n",
       "      <td>-1.0</td>\n",
       "    </tr>\n",
       "  </tbody>\n",
       "</table>\n",
       "</div>"
      ],
      "text/plain": [
       "          a       b      c  q          x1         y1          x2         y2  \\\n",
       "225   14538   14539  14387  3  -35.453771   6.226889  -35.475780   6.675130   \n",
       "340  127760  164448    720  3    5.334106 -22.386938    5.712184 -22.471913   \n",
       "495   42135  151517  42134  3  147.241650   0.099254  147.058251  -0.312891   \n",
       "510  136252  160937  97357  3 -112.615965  19.393252 -112.709461  19.828759   \n",
       "545   46141   49194  49193  3  -67.002355 -59.044297  -67.640136 -58.722330   \n",
       "\n",
       "             x3         y3       val   s1   s2   s3  \n",
       "225  -35.854580   6.429599 -0.175198 -1.0 -1.0 -1.0  \n",
       "340    5.717620 -22.024765 -0.169519  1.0  1.0  1.0  \n",
       "495  147.505597  -0.269254 -0.176368  1.0  1.0  1.0  \n",
       "510 -113.061846  19.544316 -0.180061 -1.0 -1.0 -1.0  \n",
       "545  -67.856958 -59.146235 -0.340168 -1.0 -1.0 -1.0  "
      ]
     },
     "execution_count": 484,
     "metadata": {},
     "output_type": "execute_result"
    }
   ],
   "source": [
    "bels.head()"
   ]
  },
  {
   "cell_type": "code",
   "execution_count": 486,
   "metadata": {},
   "outputs": [],
   "source": [
    "ies = bels.loc[:,['a','b','c']].values.flatten()"
   ]
  },
  {
   "cell_type": "code",
   "execution_count": 361,
   "metadata": {
    "scrolled": true
   },
   "outputs": [],
   "source": [
    "idb=lbound[0]\n",
    "for i in range(1,len(lbound)):\n",
    "    ibels = bels.loc[(ecrop.a.isin(lbound[i])) | (bels.b.isin(lbound[i])) | (bels.c.isin(lbound[i]))]\n",
    "    if ibels.shape[0] > 0 :\n",
    "        idb = idb + lbound[i]"
   ]
  },
  {
   "cell_type": "code",
   "execution_count": 362,
   "metadata": {},
   "outputs": [
    {
     "data": {
      "text/plain": [
       "5708"
      ]
     },
     "execution_count": 362,
     "metadata": {},
     "output_type": "execute_result"
    }
   ],
   "source": [
    "len(idb)"
   ]
  },
  {
   "cell_type": "code",
   "execution_count": 363,
   "metadata": {},
   "outputs": [],
   "source": [
    "df =gcrop.loc[gcrop.index.isin(idb)]"
   ]
  },
  {
   "cell_type": "code",
   "execution_count": 494,
   "metadata": {},
   "outputs": [],
   "source": [
    "df0 =gcrop.loc[gcrop['index'].isin(lbound[0])]"
   ]
  },
  {
   "cell_type": "code",
   "execution_count": 495,
   "metadata": {},
   "outputs": [],
   "source": [
    "df1 =gcrop.loc[gcrop['index'].isin(ies)]"
   ]
  },
  {
   "cell_type": "code",
   "execution_count": null,
   "metadata": {
    "scrolled": false
   },
   "outputs": [],
   "source": [
    "#check\n",
    "mlab.clf()\n",
    "# 3D triangular mesh surface (like trisurf)\n",
    "mlab.triangular_mesh(gcrop['x'].values,gcrop['y'].values,gcrop['z'].values,tri, representation='wireframe', opacity=0.8)\n",
    "mlab.points3d(df0['x'].values,df0['y'].values,df0['z'].values, colormap=\"copper\", scale_factor=10)\n",
    "mlab.points3d(df1['x'].values,df1['y'].values,df1['z'].values, colormap=\"Blues\", scale_factor=20)"
   ]
  },
  {
   "cell_type": "markdown",
   "metadata": {},
   "source": [
    "### output"
   ]
  },
  {
   "cell_type": "code",
   "execution_count": 307,
   "metadata": {},
   "outputs": [],
   "source": [
    "folder = '/Users/brey/GLOBAL/SCHISM_GLOBAL_2/'"
   ]
  },
  {
   "cell_type": "code",
   "execution_count": 308,
   "metadata": {},
   "outputs": [],
   "source": [
    "g3file = folder + 'hgrid.gr3'"
   ]
  },
  {
   "cell_type": "code",
   "execution_count": 309,
   "metadata": {},
   "outputs": [],
   "source": [
    "with open(g3file,'w') as f:\n",
    "    f.write('\\t uniform.gr3\\n')\n",
    "    f.write('\\t {} {}\\n'.format(ne,nn))\n",
    "    "
   ]
  },
  {
   "cell_type": "code",
   "execution_count": 310,
   "metadata": {},
   "outputs": [],
   "source": [
    "gcrop.to_csv(g3file,index=True, sep='\\t', header=None,mode='a', float_format='%.10f', columns=['lon','lat','dep'])"
   ]
  },
  {
   "cell_type": "code",
   "execution_count": 311,
   "metadata": {},
   "outputs": [],
   "source": [
    "ecrop.to_csv(g3file,index=True, sep='\\t', header=None, mode='a', columns=['q','a','b','c'])"
   ]
  },
  {
   "cell_type": "code",
   "execution_count": 312,
   "metadata": {},
   "outputs": [],
   "source": [
    "with open(g3file, 'a') as f:\n",
    "    f.write('{} = Number of open boundaries\\n'.format(0))\n",
    "    f.write('{} = Total number of open boundary nodes\\n'.format(0))"
   ]
  },
  {
   "cell_type": "code",
   "execution_count": 313,
   "metadata": {},
   "outputs": [],
   "source": [
    "with open(g3file, 'a') as f:\n",
    "    f.write('{} = Number of land boundaries\\n'.format(len(lbound)))\n",
    "    f.write('{} = Total number of land boundary nodes\\n'.format(bound.shape[0]))\n",
    "\n",
    "    total = 0 \n",
    "    for i in range(len(lbound)):\n",
    "        ibound=gcrop.loc[gcrop['index'].isin(lbound[i])]\n",
    "        f.write('{} 1 = Number of nodes for land boundary {}\\n'.format(ibound.shape[0], i+1))\n",
    "        total += ibound.shape[0]\n",
    "        for item in ibound['index'].values:\n",
    "            f.write(\"%s\\n\" % item)"
   ]
  },
  {
   "cell_type": "code",
   "execution_count": 317,
   "metadata": {},
   "outputs": [
    {
     "data": {
      "text/plain": [
       "(7966, 7966)"
      ]
     },
     "execution_count": 317,
     "metadata": {},
     "output_type": "execute_result"
    }
   ],
   "source": [
    "bound.shape[0], total"
   ]
  },
  {
   "cell_type": "markdown",
   "metadata": {},
   "source": [
    "### hgrid.ll"
   ]
  },
  {
   "cell_type": "code",
   "execution_count": 318,
   "metadata": {},
   "outputs": [],
   "source": [
    "llfile=folder+'hgrid.ll'"
   ]
  },
  {
   "cell_type": "code",
   "execution_count": 319,
   "metadata": {},
   "outputs": [
    {
     "data": {
      "text/plain": [
       "'/Users/brey/GLOBAL/SCHISM_GLOBAL_2/hgrid.ll'"
      ]
     },
     "execution_count": 319,
     "metadata": {},
     "output_type": "execute_result"
    }
   ],
   "source": [
    "copyfile(g3file, llfile)"
   ]
  },
  {
   "cell_type": "markdown",
   "metadata": {},
   "source": [
    "### Save manning.gr3"
   ]
  },
  {
   "cell_type": "code",
   "execution_count": 320,
   "metadata": {},
   "outputs": [],
   "source": [
    "manfile=folder+'manning.gr3'"
   ]
  },
  {
   "cell_type": "code",
   "execution_count": 321,
   "metadata": {},
   "outputs": [],
   "source": [
    "with open(manfile,'w') as f:\n",
    "    f.write('\\t 0 \\n')\n",
    "    f.write('\\t {} {}\\n'.format(ne,nn))"
   ]
  },
  {
   "cell_type": "code",
   "execution_count": 322,
   "metadata": {},
   "outputs": [
    {
     "data": {
      "text/html": [
       "<div>\n",
       "<style scoped>\n",
       "    .dataframe tbody tr th:only-of-type {\n",
       "        vertical-align: middle;\n",
       "    }\n",
       "\n",
       "    .dataframe tbody tr th {\n",
       "        vertical-align: top;\n",
       "    }\n",
       "\n",
       "    .dataframe thead th {\n",
       "        text-align: right;\n",
       "    }\n",
       "</style>\n",
       "<table border=\"1\" class=\"dataframe\">\n",
       "  <thead>\n",
       "    <tr style=\"text-align: right;\">\n",
       "      <th></th>\n",
       "      <th>level_0</th>\n",
       "      <th>index</th>\n",
       "      <th>x</th>\n",
       "      <th>y</th>\n",
       "      <th>z</th>\n",
       "      <th>q</th>\n",
       "      <th>lon</th>\n",
       "      <th>lat</th>\n",
       "      <th>dep</th>\n",
       "      <th>man</th>\n",
       "    </tr>\n",
       "  </thead>\n",
       "  <tbody>\n",
       "    <tr>\n",
       "      <th>1</th>\n",
       "      <td>1</td>\n",
       "      <td>1</td>\n",
       "      <td>-3.749826</td>\n",
       "      <td>-0.507305</td>\n",
       "      <td>6370.998876</td>\n",
       "      <td>0.0</td>\n",
       "      <td>-172.295365</td>\n",
       "      <td>89.965970</td>\n",
       "      <td>4121</td>\n",
       "      <td>0.12</td>\n",
       "    </tr>\n",
       "    <tr>\n",
       "      <th>2</th>\n",
       "      <td>2</td>\n",
       "      <td>3</td>\n",
       "      <td>6370.978370</td>\n",
       "      <td>2.890478</td>\n",
       "      <td>16.348038</td>\n",
       "      <td>0.0</td>\n",
       "      <td>0.025995</td>\n",
       "      <td>0.147022</td>\n",
       "      <td>4933</td>\n",
       "      <td>0.12</td>\n",
       "    </tr>\n",
       "    <tr>\n",
       "      <th>3</th>\n",
       "      <td>3</td>\n",
       "      <td>4</td>\n",
       "      <td>-1.680920</td>\n",
       "      <td>6370.994689</td>\n",
       "      <td>8.052714</td>\n",
       "      <td>0.0</td>\n",
       "      <td>90.015117</td>\n",
       "      <td>0.072420</td>\n",
       "      <td>4197</td>\n",
       "      <td>0.12</td>\n",
       "    </tr>\n",
       "    <tr>\n",
       "      <th>4</th>\n",
       "      <td>4</td>\n",
       "      <td>5</td>\n",
       "      <td>-6370.985760</td>\n",
       "      <td>-13.067623</td>\n",
       "      <td>3.268658</td>\n",
       "      <td>0.0</td>\n",
       "      <td>-179.882480</td>\n",
       "      <td>0.029396</td>\n",
       "      <td>5262</td>\n",
       "      <td>0.12</td>\n",
       "    </tr>\n",
       "    <tr>\n",
       "      <th>5</th>\n",
       "      <td>5</td>\n",
       "      <td>6</td>\n",
       "      <td>-1.905772</td>\n",
       "      <td>-6370.993890</td>\n",
       "      <td>8.615335</td>\n",
       "      <td>0.0</td>\n",
       "      <td>-90.017139</td>\n",
       "      <td>0.077480</td>\n",
       "      <td>940</td>\n",
       "      <td>0.12</td>\n",
       "    </tr>\n",
       "  </tbody>\n",
       "</table>\n",
       "</div>"
      ],
      "text/plain": [
       "   level_0  index            x            y            z    q         lon  \\\n",
       "1        1      1    -3.749826    -0.507305  6370.998876  0.0 -172.295365   \n",
       "2        2      3  6370.978370     2.890478    16.348038  0.0    0.025995   \n",
       "3        3      4    -1.680920  6370.994689     8.052714  0.0   90.015117   \n",
       "4        4      5 -6370.985760   -13.067623     3.268658  0.0 -179.882480   \n",
       "5        5      6    -1.905772 -6370.993890     8.615335  0.0  -90.017139   \n",
       "\n",
       "         lat   dep   man  \n",
       "1  89.965970  4121  0.12  \n",
       "2   0.147022  4933  0.12  \n",
       "3   0.072420  4197  0.12  \n",
       "4   0.029396  5262  0.12  \n",
       "5   0.077480   940  0.12  "
      ]
     },
     "execution_count": 322,
     "metadata": {},
     "output_type": "execute_result"
    }
   ],
   "source": [
    "gcrop['man']=.12\n",
    "gcrop.head()"
   ]
  },
  {
   "cell_type": "code",
   "execution_count": 323,
   "metadata": {},
   "outputs": [],
   "source": [
    "gcrop.to_csv(manfile,index=True, sep='\\t', header=None,mode='a', float_format='%.10f',columns=['lon','lat','man'] )"
   ]
  },
  {
   "cell_type": "code",
   "execution_count": 324,
   "metadata": {},
   "outputs": [],
   "source": [
    "ecrop.to_csv(manfile,index=True, sep='\\t', header=None, mode='a', columns=['q','a','b','c'])"
   ]
  },
  {
   "cell_type": "code",
   "execution_count": null,
   "metadata": {},
   "outputs": [],
   "source": []
  }
 ],
 "metadata": {
  "kernelspec": {
   "display_name": "Mayavi",
   "language": "python",
   "name": "mayavi"
  },
  "language_info": {
   "codemirror_mode": {
    "name": "ipython",
    "version": 3
   },
   "file_extension": ".py",
   "mimetype": "text/x-python",
   "name": "python",
   "nbconvert_exporter": "python",
   "pygments_lexer": "ipython3",
   "version": "3.6.5"
  },
  "toc": {
   "base_numbering": 1,
   "nav_menu": {},
   "number_sections": true,
   "sideBar": true,
   "skip_h1_title": false,
   "title_cell": "Table of Contents",
   "title_sidebar": "Contents",
   "toc_cell": false,
   "toc_position": {
    "height": "calc(100% - 180px)",
    "left": "10px",
    "top": "150px",
    "width": "441px"
   },
   "toc_section_display": true,
   "toc_window_display": false
  }
 },
 "nbformat": 4,
 "nbformat_minor": 2
}
