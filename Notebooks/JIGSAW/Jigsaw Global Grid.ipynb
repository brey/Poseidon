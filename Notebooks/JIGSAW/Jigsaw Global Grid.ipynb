{
 "cells": [
  {
   "cell_type": "markdown",
   "metadata": {},
   "source": [
    "# Jigsaw Global Grid "
   ]
  },
  {
   "cell_type": "markdown",
   "metadata": {},
   "source": [
    "This is the prototype for creating a bathymery weighted global grid."
   ]
  },
  {
   "cell_type": "code",
   "execution_count": 1,
   "metadata": {},
   "outputs": [
    {
     "data": {
      "text/html": [
       "<style>.container { width:100% !important; }</style>"
      ],
      "text/plain": [
       "<IPython.core.display.HTML object>"
      ]
     },
     "metadata": {},
     "output_type": "display_data"
    }
   ],
   "source": [
    "#to use the full width of the browser window uncomment the code below and execute the cell\n",
    "from IPython.core.display import display, HTML\n",
    "display(HTML(\"<style>.container { width:100% !important; }</style>\"))"
   ]
  },
  {
   "cell_type": "code",
   "execution_count": 1,
   "metadata": {},
   "outputs": [],
   "source": [
    "import pandas as pd\n",
    "import matplotlib.pyplot as plt\n",
    "import numpy as np\n",
    "import geopandas as gp\n",
    "import xarray as xr\n",
    "from pyPoseidon.dem import erdap, gebco\n",
    "from pyPoseidon.meteo import gfs_erdap\n",
    "import glob\n",
    "import os"
   ]
  },
  {
   "cell_type": "code",
   "execution_count": 2,
   "metadata": {},
   "outputs": [],
   "source": [
    "import matplotlib"
   ]
  },
  {
   "cell_type": "code",
   "execution_count": 3,
   "metadata": {},
   "outputs": [],
   "source": [
    "import subprocess"
   ]
  },
  {
   "cell_type": "code",
   "execution_count": 4,
   "metadata": {},
   "outputs": [],
   "source": [
    "#%matplotlib notebook"
   ]
  },
  {
   "cell_type": "markdown",
   "metadata": {},
   "source": [
    "## geo file"
   ]
  },
  {
   "cell_type": "code",
   "execution_count": 5,
   "metadata": {},
   "outputs": [],
   "source": [
    "fgeo='/Users/brey/Downloads/JIGSAW/geo/Global-GEOM.msh'"
   ]
  },
  {
   "cell_type": "code",
   "execution_count": 6,
   "metadata": {},
   "outputs": [],
   "source": [
    "# write header\n",
    "with open(fgeo,'w') as f:\n",
    "    f.write('#{}; created by pyPoseidon\\n'.format(fgeo.split('/')[-1]))\n",
    "    f.write('MSHID=3;ELLIPSOID-MESH\\n')\n",
    "    f.write('RADII={};{};{}\\n'.format(6371.000000,6371.000000,6371.000000))"
   ]
  },
  {
   "cell_type": "markdown",
   "metadata": {},
   "source": [
    "## hfun file"
   ]
  },
  {
   "cell_type": "markdown",
   "metadata": {},
   "source": [
    "### read bathymetry file"
   ]
  },
  {
   "cell_type": "code",
   "execution_count": 7,
   "metadata": {},
   "outputs": [],
   "source": [
    "fbath = '/Users/brey/GitHub/jigsaw-geo-matlab/jigsaw/geo/topo.msh'"
   ]
  },
  {
   "cell_type": "code",
   "execution_count": 8,
   "metadata": {},
   "outputs": [
    {
     "data": {
      "text/plain": [
       "('COORD', '1;1201')"
      ]
     },
     "execution_count": 8,
     "metadata": {},
     "output_type": "execute_result"
    }
   ],
   "source": [
    "coord, nc = pd.read_csv(fbath,header=2,skiprows=1,nrows=0,delimiter='=')\n",
    "coord, nc"
   ]
  },
  {
   "cell_type": "code",
   "execution_count": 9,
   "metadata": {},
   "outputs": [],
   "source": [
    "nc0, nc1 = nc.split(';')\n",
    "nlon = int(nc1)"
   ]
  },
  {
   "cell_type": "code",
   "execution_count": 10,
   "metadata": {},
   "outputs": [],
   "source": [
    "#read lon for all boundary nodes\n",
    "xb = pd.read_csv(fbath,skiprows=4,header=None,nrows=nlon,names=['lon'])"
   ]
  },
  {
   "cell_type": "code",
   "execution_count": 11,
   "metadata": {},
   "outputs": [
    {
     "data": {
      "text/plain": [
       "('COORD', '2;601')"
      ]
     },
     "execution_count": 11,
     "metadata": {},
     "output_type": "execute_result"
    }
   ],
   "source": [
    "coord, nc = pd.read_csv(fbath,header=4,skiprows=nlon,nrows=0,delimiter='=')\n",
    "coord, nc"
   ]
  },
  {
   "cell_type": "code",
   "execution_count": 12,
   "metadata": {},
   "outputs": [],
   "source": [
    "nc0, nc2 = nc.split(';')\n",
    "nlat = int(nc2)"
   ]
  },
  {
   "cell_type": "code",
   "execution_count": 13,
   "metadata": {},
   "outputs": [],
   "source": [
    "#read lat,depth for boundary nodes\n",
    "yb = pd.read_csv(fbath,skiprows=5 + nlon,header=None,nrows=nlat,names=['lat'])"
   ]
  },
  {
   "cell_type": "code",
   "execution_count": 14,
   "metadata": {},
   "outputs": [
    {
     "data": {
      "text/plain": [
       "('VALUE', '721801;1')"
      ]
     },
     "execution_count": 14,
     "metadata": {},
     "output_type": "execute_result"
    }
   ],
   "source": [
    "value, nc = pd.read_csv(fbath,header=4,skiprows=nlon+nlat+1,nrows=0,delimiter='=')\n",
    "value, nc"
   ]
  },
  {
   "cell_type": "code",
   "execution_count": 15,
   "metadata": {},
   "outputs": [],
   "source": [
    "val, val0 = nc.split(';')\n",
    "val = int(val)"
   ]
  },
  {
   "cell_type": "code",
   "execution_count": 16,
   "metadata": {},
   "outputs": [],
   "source": [
    "#read \n",
    "bath = pd.read_csv(fbath,skiprows=6 + nlon + nlat,header=None,nrows=val,names=['value'])"
   ]
  },
  {
   "cell_type": "code",
   "execution_count": 17,
   "metadata": {},
   "outputs": [
    {
     "data": {
      "text/html": [
       "<div>\n",
       "<style scoped>\n",
       "    .dataframe tbody tr th:only-of-type {\n",
       "        vertical-align: middle;\n",
       "    }\n",
       "\n",
       "    .dataframe tbody tr th {\n",
       "        vertical-align: top;\n",
       "    }\n",
       "\n",
       "    .dataframe thead th {\n",
       "        text-align: right;\n",
       "    }\n",
       "</style>\n",
       "<table border=\"1\" class=\"dataframe\">\n",
       "  <thead>\n",
       "    <tr style=\"text-align: right;\">\n",
       "      <th></th>\n",
       "      <th>value</th>\n",
       "    </tr>\n",
       "  </thead>\n",
       "  <tbody>\n",
       "    <tr>\n",
       "      <th>0</th>\n",
       "      <td>2773</td>\n",
       "    </tr>\n",
       "    <tr>\n",
       "      <th>1</th>\n",
       "      <td>2806</td>\n",
       "    </tr>\n",
       "    <tr>\n",
       "      <th>2</th>\n",
       "      <td>2911</td>\n",
       "    </tr>\n",
       "    <tr>\n",
       "      <th>3</th>\n",
       "      <td>2993</td>\n",
       "    </tr>\n",
       "    <tr>\n",
       "      <th>4</th>\n",
       "      <td>3062</td>\n",
       "    </tr>\n",
       "  </tbody>\n",
       "</table>\n",
       "</div>"
      ],
      "text/plain": [
       "   value\n",
       "0   2773\n",
       "1   2806\n",
       "2   2911\n",
       "3   2993\n",
       "4   3062"
      ]
     },
     "execution_count": 17,
     "metadata": {},
     "output_type": "execute_result"
    }
   ],
   "source": [
    "bath.head()"
   ]
  },
  {
   "cell_type": "code",
   "execution_count": 18,
   "metadata": {},
   "outputs": [
    {
     "data": {
      "text/html": [
       "<div>\n",
       "<style scoped>\n",
       "    .dataframe tbody tr th:only-of-type {\n",
       "        vertical-align: middle;\n",
       "    }\n",
       "\n",
       "    .dataframe tbody tr th {\n",
       "        vertical-align: top;\n",
       "    }\n",
       "\n",
       "    .dataframe thead th {\n",
       "        text-align: right;\n",
       "    }\n",
       "</style>\n",
       "<table border=\"1\" class=\"dataframe\">\n",
       "  <thead>\n",
       "    <tr style=\"text-align: right;\">\n",
       "      <th></th>\n",
       "      <th>value</th>\n",
       "    </tr>\n",
       "  </thead>\n",
       "  <tbody>\n",
       "    <tr>\n",
       "      <th>721796</th>\n",
       "      <td>-997</td>\n",
       "    </tr>\n",
       "    <tr>\n",
       "      <th>721797</th>\n",
       "      <td>-2408</td>\n",
       "    </tr>\n",
       "    <tr>\n",
       "      <th>721798</th>\n",
       "      <td>-3649</td>\n",
       "    </tr>\n",
       "    <tr>\n",
       "      <th>721799</th>\n",
       "      <td>-4139</td>\n",
       "    </tr>\n",
       "    <tr>\n",
       "      <th>721800</th>\n",
       "      <td>-4120</td>\n",
       "    </tr>\n",
       "  </tbody>\n",
       "</table>\n",
       "</div>"
      ],
      "text/plain": [
       "        value\n",
       "721796   -997\n",
       "721797  -2408\n",
       "721798  -3649\n",
       "721799  -4139\n",
       "721800  -4120"
      ]
     },
     "execution_count": 18,
     "metadata": {},
     "output_type": "execute_result"
    }
   ],
   "source": [
    "bath.tail()"
   ]
  },
  {
   "cell_type": "code",
   "execution_count": 19,
   "metadata": {},
   "outputs": [],
   "source": [
    "vb = bath.values.reshape(nlon,nlat)"
   ]
  },
  {
   "cell_type": "code",
   "execution_count": 20,
   "metadata": {},
   "outputs": [
    {
     "data": {
      "text/plain": [
       "(1201, 601)"
      ]
     },
     "execution_count": 20,
     "metadata": {},
     "output_type": "execute_result"
    }
   ],
   "source": [
    "vb.shape"
   ]
  },
  {
   "cell_type": "code",
   "execution_count": 21,
   "metadata": {},
   "outputs": [],
   "source": [
    "zlev=vb.T # to match the matlab configuration in which the file fbath was saved on"
   ]
  },
  {
   "cell_type": "code",
   "execution_count": 22,
   "metadata": {},
   "outputs": [
    {
     "data": {
      "text/plain": [
       "(-10188, 7016)"
      ]
     },
     "execution_count": 22,
     "metadata": {},
     "output_type": "execute_result"
    }
   ],
   "source": [
    "vb.min(), vb.max()"
   ]
  },
  {
   "cell_type": "code",
   "execution_count": 23,
   "metadata": {},
   "outputs": [],
   "source": [
    "X, Y = np.meshgrid(xb,yb)"
   ]
  },
  {
   "cell_type": "code",
   "execution_count": 24,
   "metadata": {},
   "outputs": [
    {
     "data": {
      "text/plain": [
       "(601, 1201)"
      ]
     },
     "execution_count": 24,
     "metadata": {},
     "output_type": "execute_result"
    }
   ],
   "source": [
    "X.shape"
   ]
  },
  {
   "cell_type": "code",
   "execution_count": 25,
   "metadata": {},
   "outputs": [
    {
     "data": {
      "text/plain": [
       "<matplotlib.colorbar.Colorbar at 0x1a1afc5a10>"
      ]
     },
     "execution_count": 25,
     "metadata": {},
     "output_type": "execute_result"
    },
    {
     "data": {
      "image/png": "[encoded data removed]",
      "text/plain": [
       "<Figure size 432x288 with 2 Axes>"
      ]
     },
     "metadata": {},
     "output_type": "display_data"
    }
   ],
   "source": [
    "### plot\n",
    "plt.figure()\n",
    "plt.contourf(X,Y,zlev)\n",
    "plt.colorbar()"
   ]
  },
  {
   "cell_type": "markdown",
   "metadata": {},
   "source": [
    "### Scale"
   ]
  },
  {
   "cell_type": "code",
   "execution_count": 26,
   "metadata": {},
   "outputs": [],
   "source": [
    "eps = np.finfo(float).eps"
   ]
  },
  {
   "cell_type": "code",
   "execution_count": 27,
   "metadata": {},
   "outputs": [],
   "source": [
    "radE = 6371.0E+00 \n",
    "      \n",
    "hfn0 = +100. ;                      # global spacing\n",
    "hfn2 = +20.;                        # adapt. spacing\n",
    "\n",
    " \n",
    "dhdx = +.10;                        # max. gradients    "
   ]
  },
  {
   "cell_type": "code",
   "execution_count": 28,
   "metadata": {},
   "outputs": [],
   "source": [
    "hfun = hfn0*np.ones([nlat,nlon]) # not the shape!"
   ]
  },
  {
   "cell_type": "code",
   "execution_count": 29,
   "metadata": {},
   "outputs": [
    {
     "data": {
      "text/plain": [
       "((601, 1201), (601, 1201))"
      ]
     },
     "execution_count": 29,
     "metadata": {},
     "output_type": "execute_result"
    }
   ],
   "source": [
    "hfun.shape, zlev.shape"
   ]
  },
  {
   "cell_type": "code",
   "execution_count": 30,
   "metadata": {},
   "outputs": [],
   "source": [
    "b=zlev.copy() # make a copy so that we don't change zlev\n",
    "\n",
    "b[b>0] = eps #normalize to only negative values\n",
    "\n",
    "htop = np.sqrt(-b)/1.5 # scale with sqrt(H)"
   ]
  },
  {
   "cell_type": "code",
   "execution_count": 31,
   "metadata": {},
   "outputs": [
    {
     "data": {
      "text/plain": [
       "(0.0, 67.29041536504289, 24.217953051263322)"
      ]
     },
     "execution_count": 31,
     "metadata": {},
     "output_type": "execute_result"
    }
   ],
   "source": [
    "htop.min(), htop.max(), htop.mean()"
   ]
  },
  {
   "cell_type": "code",
   "execution_count": 32,
   "metadata": {},
   "outputs": [],
   "source": [
    "htop[htop<hfn2] = hfn2 # normalize"
   ]
  },
  {
   "cell_type": "code",
   "execution_count": 33,
   "metadata": {},
   "outputs": [
    {
     "data": {
      "text/plain": [
       "(20.0, 67.29041536504289, 32.152711710068566)"
      ]
     },
     "execution_count": 33,
     "metadata": {},
     "output_type": "execute_result"
    }
   ],
   "source": [
    "htop.min(), htop.max(), htop.mean()"
   ]
  },
  {
   "cell_type": "code",
   "execution_count": 38,
   "metadata": {},
   "outputs": [],
   "source": [
    "## optional focused area\n",
    "#hfn3 = +50.;                        # arctic spacing\n",
    "#htop[htop>hfn3] = hfn3"
   ]
  },
  {
   "cell_type": "code",
   "execution_count": 34,
   "metadata": {},
   "outputs": [
    {
     "data": {
      "text/plain": [
       "(20.0, 67.29041536504289, 32.152711710068566)"
      ]
     },
     "execution_count": 34,
     "metadata": {},
     "output_type": "execute_result"
    }
   ],
   "source": [
    "htop.min(), htop.max(), htop.mean()"
   ]
  },
  {
   "cell_type": "code",
   "execution_count": 35,
   "metadata": {},
   "outputs": [],
   "source": [
    "htop[zlev>0.] = hfn0 "
   ]
  },
  {
   "cell_type": "code",
   "execution_count": 36,
   "metadata": {},
   "outputs": [
    {
     "data": {
      "text/plain": [
       "(20.0, 100.0, 59.38359667697772)"
      ]
     },
     "execution_count": 36,
     "metadata": {},
     "output_type": "execute_result"
    }
   ],
   "source": [
    "htop.min(), htop.max(), htop.mean()"
   ]
  },
  {
   "cell_type": "code",
   "execution_count": 39,
   "metadata": {},
   "outputs": [],
   "source": [
    "#hfun[Y>+50.] = htop[Y>+50.] # with focused area\n",
    "hfun = htop # global"
   ]
  },
  {
   "cell_type": "code",
   "execution_count": 40,
   "metadata": {},
   "outputs": [
    {
     "data": {
      "text/plain": [
       "(20.0, 100.0, 59.38359667697772)"
      ]
     },
     "execution_count": 40,
     "metadata": {},
     "output_type": "execute_result"
    }
   ],
   "source": [
    "hfun.min(), hfun.max(), hfun.mean()"
   ]
  },
  {
   "cell_type": "code",
   "execution_count": 44,
   "metadata": {},
   "outputs": [],
   "source": [
    "#hfun = hfun.flatten() # make it 1-d"
   ]
  },
  {
   "cell_type": "code",
   "execution_count": 45,
   "metadata": {},
   "outputs": [],
   "source": [
    "#hfun = np.array([[hf] for hf in list(pfun)]) #convert it to the appropriate format for LIMHFN2 below"
   ]
  },
  {
   "cell_type": "code",
   "execution_count": 41,
   "metadata": {},
   "outputs": [
    {
     "data": {
      "text/plain": [
       "<matplotlib.colorbar.Colorbar at 0x1a2b53fbd0>"
      ]
     },
     "execution_count": 41,
     "metadata": {},
     "output_type": "execute_result"
    },
    {
     "data": {
      "image/png": "[encoded data removed]",
      "text/plain": [
       "<Figure size 432x288 with 2 Axes>"
      ]
     },
     "metadata": {},
     "output_type": "display_data"
    }
   ],
   "source": [
    "#plot\n",
    "plt.figure()\n",
    "plt.contourf(X,Y,hfun)\n",
    "plt.colorbar()"
   ]
  },
  {
   "cell_type": "markdown",
   "metadata": {},
   "source": [
    "## SPHGRID"
   ]
  },
  {
   "cell_type": "code",
   "execution_count": 42,
   "metadata": {},
   "outputs": [],
   "source": [
    "ALON = X.T * np.pi / 180. \n",
    "ALAT = Y.T * np.pi / 180. \n",
    "    \n",
    "#----------------------------------------- spheroidal coord.\n",
    "xpos = radE * np.cos(ALON) * np.cos(ALAT) \n",
    "ypos = radE * np.sin(ALON) * np.cos(ALAT) \n",
    "zpos = radE * np.sin(ALAT)  "
   ]
  },
  {
   "cell_type": "code",
   "execution_count": 43,
   "metadata": {},
   "outputs": [
    {
     "data": {
      "text/plain": [
       "(1201, 601)"
      ]
     },
     "execution_count": 43,
     "metadata": {},
     "output_type": "execute_result"
    }
   ],
   "source": [
    "ALON.shape"
   ]
  },
  {
   "cell_type": "code",
   "execution_count": 44,
   "metadata": {},
   "outputs": [],
   "source": [
    "ppos = pd.DataFrame({'a':xpos.flatten(),'b':ypos.flatten(), 'c':zpos.flatten()})"
   ]
  },
  {
   "cell_type": "code",
   "execution_count": 45,
   "metadata": {},
   "outputs": [
    {
     "data": {
      "text/html": [
       "<div>\n",
       "<style scoped>\n",
       "    .dataframe tbody tr th:only-of-type {\n",
       "        vertical-align: middle;\n",
       "    }\n",
       "\n",
       "    .dataframe tbody tr th {\n",
       "        vertical-align: top;\n",
       "    }\n",
       "\n",
       "    .dataframe thead th {\n",
       "        text-align: right;\n",
       "    }\n",
       "</style>\n",
       "<table border=\"1\" class=\"dataframe\">\n",
       "  <thead>\n",
       "    <tr style=\"text-align: right;\">\n",
       "      <th></th>\n",
       "      <th>a</th>\n",
       "      <th>b</th>\n",
       "      <th>c</th>\n",
       "    </tr>\n",
       "  </thead>\n",
       "  <tbody>\n",
       "    <tr>\n",
       "      <th>0</th>\n",
       "      <td>-3.901112e-13</td>\n",
       "      <td>-4.777485e-29</td>\n",
       "      <td>-6371.000000</td>\n",
       "    </tr>\n",
       "    <tr>\n",
       "      <th>1</th>\n",
       "      <td>-3.335866e+01</td>\n",
       "      <td>-4.085258e-15</td>\n",
       "      <td>-6370.912666</td>\n",
       "    </tr>\n",
       "    <tr>\n",
       "      <th>2</th>\n",
       "      <td>-6.671551e+01</td>\n",
       "      <td>-8.170294e-15</td>\n",
       "      <td>-6370.650676</td>\n",
       "    </tr>\n",
       "    <tr>\n",
       "      <th>3</th>\n",
       "      <td>-1.000715e+02</td>\n",
       "      <td>-1.225523e-14</td>\n",
       "      <td>-6370.214022</td>\n",
       "    </tr>\n",
       "    <tr>\n",
       "      <th>4</th>\n",
       "      <td>-1.334238e+02</td>\n",
       "      <td>-1.633971e-14</td>\n",
       "      <td>-6369.602741</td>\n",
       "    </tr>\n",
       "  </tbody>\n",
       "</table>\n",
       "</div>"
      ],
      "text/plain": [
       "              a             b            c\n",
       "0 -3.901112e-13 -4.777485e-29 -6371.000000\n",
       "1 -3.335866e+01 -4.085258e-15 -6370.912666\n",
       "2 -6.671551e+01 -8.170294e-15 -6370.650676\n",
       "3 -1.000715e+02 -1.225523e-14 -6370.214022\n",
       "4 -1.334238e+02 -1.633971e-14 -6369.602741"
      ]
     },
     "execution_count": 45,
     "metadata": {},
     "output_type": "execute_result"
    }
   ],
   "source": [
    "ppos[:5]"
   ]
  },
  {
   "cell_type": "code",
   "execution_count": 46,
   "metadata": {},
   "outputs": [],
   "source": [
    "grid = np.arange(nlat*nlon).reshape(nlon,nlat)"
   ]
  },
  {
   "cell_type": "code",
   "execution_count": 47,
   "metadata": {},
   "outputs": [
    {
     "data": {
      "text/plain": [
       "(601, 1201)"
      ]
     },
     "execution_count": 47,
     "metadata": {},
     "output_type": "execute_result"
    }
   ],
   "source": [
    "grid = grid.T\n",
    "grid.shape"
   ]
  },
  {
   "cell_type": "code",
   "execution_count": 49,
   "metadata": {},
   "outputs": [],
   "source": [
    "quad = np.zeros([(nlat-1)*(nlon-0),4])\n",
    "\n",
    "nex = 0\n",
    "for jpos in range(1,nlat):\n",
    "       \n",
    "            quad[nex,0] = grid[jpos-1,nlon-1]\n",
    "            quad[nex,1] = grid[jpos-1,0]\n",
    "            quad[nex,2] = grid[jpos-0,0]\n",
    "            quad[nex,3] = grid[jpos-0,nlon-1]\n",
    "            \n",
    "            nex = nex+1\n",
    "            \n",
    "\n",
    "        \n",
    "for ipos in range(1,nlon):\n",
    "    for jpos in range(1,nlat):\n",
    "       \n",
    "            quad[nex,0] = grid[jpos-1,ipos-1]\n",
    "            quad[nex,1] = grid[jpos-1,ipos-0]\n",
    "            quad[nex,2] = grid[jpos-0,ipos-0]\n",
    "            quad[nex,3] = grid[jpos-0,ipos-1]\n",
    "            \n",
    "            nex = nex+1 \n",
    "     "
   ]
  },
  {
   "cell_type": "code",
   "execution_count": 50,
   "metadata": {},
   "outputs": [],
   "source": [
    "quad = quad.astype(int)"
   ]
  },
  {
   "cell_type": "code",
   "execution_count": 51,
   "metadata": {},
   "outputs": [
    {
     "data": {
      "text/plain": [
       "array([[721200,      0,      1, 721201],\n",
       "       [721201,      1,      2, 721202],\n",
       "       [721202,      2,      3, 721203],\n",
       "       ...,\n",
       "       [721196, 721797, 721798, 721197],\n",
       "       [721197, 721798, 721799, 721198],\n",
       "       [721198, 721799, 721800, 721199]])"
      ]
     },
     "execution_count": 51,
     "metadata": {},
     "output_type": "execute_result"
    }
   ],
   "source": [
    "quad"
   ]
  },
  {
   "cell_type": "markdown",
   "metadata": {},
   "source": [
    "### LIMHFUN"
   ]
  },
  {
   "cell_type": "code",
   "execution_count": 52,
   "metadata": {},
   "outputs": [],
   "source": [
    "edge = np.vstack([quad[:,[0,1]],\n",
    "        quad[:,[1,2]],\n",
    "        quad[:,[2,3]],\n",
    "        quad[:,[3,0]]\n",
    "           ])\n"
   ]
  },
  {
   "cell_type": "code",
   "execution_count": 53,
   "metadata": {},
   "outputs": [
    {
     "data": {
      "text/plain": [
       "array([[721200,      0],\n",
       "       [721201,      1],\n",
       "       [721202,      2],\n",
       "       ...,\n",
       "       [721197, 721196],\n",
       "       [721198, 721197],\n",
       "       [721199, 721198]])"
      ]
     },
     "execution_count": 53,
     "metadata": {},
     "output_type": "execute_result"
    }
   ],
   "source": [
    "edge\n"
   ]
  },
  {
   "cell_type": "code",
   "execution_count": 54,
   "metadata": {},
   "outputs": [
    {
     "data": {
      "text/plain": [
       "(2882400, 2)"
      ]
     },
     "execution_count": 54,
     "metadata": {},
     "output_type": "execute_result"
    }
   ],
   "source": [
    "edge.shape"
   ]
  },
  {
   "cell_type": "code",
   "execution_count": 55,
   "metadata": {},
   "outputs": [],
   "source": [
    "edge.sort(axis=1)"
   ]
  },
  {
   "cell_type": "code",
   "execution_count": 56,
   "metadata": {},
   "outputs": [
    {
     "data": {
      "text/plain": [
       "array([[     0, 721200],\n",
       "       [     1, 721201],\n",
       "       [     2, 721202],\n",
       "       ...,\n",
       "       [721196, 721197],\n",
       "       [721197, 721198],\n",
       "       [721198, 721199]])"
      ]
     },
     "execution_count": 56,
     "metadata": {},
     "output_type": "execute_result"
    }
   ],
   "source": [
    "edge"
   ]
  },
  {
   "cell_type": "code",
   "execution_count": 57,
   "metadata": {},
   "outputs": [],
   "source": [
    "edge = np.unique(edge,axis=0)"
   ]
  },
  {
   "cell_type": "code",
   "execution_count": 58,
   "metadata": {},
   "outputs": [
    {
     "data": {
      "text/plain": [
       "array([[     0,      1],\n",
       "       [     0,    601],\n",
       "       [     0, 721200],\n",
       "       [     1,      2],\n",
       "       [     1,    602],\n",
       "       [     1, 721201],\n",
       "       [     2,      3],\n",
       "       [     2,    603],\n",
       "       [     2, 721202],\n",
       "       [     3,      4]])"
      ]
     },
     "execution_count": 58,
     "metadata": {},
     "output_type": "execute_result"
    }
   ],
   "source": [
    "edge[:10]"
   ]
  },
  {
   "cell_type": "code",
   "execution_count": 59,
   "metadata": {},
   "outputs": [],
   "source": [
    "evec = ppos.values[edge[:,1],:] - ppos.values[edge[:,0],:] "
   ]
  },
  {
   "cell_type": "code",
   "execution_count": 60,
   "metadata": {},
   "outputs": [
    {
     "data": {
      "text/plain": [
       "(1442401, 3)"
      ]
     },
     "execution_count": 60,
     "metadata": {},
     "output_type": "execute_result"
    }
   ],
   "source": [
    "evec.shape"
   ]
  },
  {
   "cell_type": "code",
   "execution_count": 61,
   "metadata": {},
   "outputs": [],
   "source": [
    "elen = np.sqrt(np.sum(evec**2,axis=1))"
   ]
  },
  {
   "cell_type": "code",
   "execution_count": 62,
   "metadata": {},
   "outputs": [
    {
     "data": {
      "text/plain": [
       "array([3.33587735e+01, 2.04261533e-15, 9.55496958e-29, 3.33578839e+01,\n",
       "       1.74665331e-01, 8.17051503e-15, 3.33588847e+01, 3.49321217e-01,\n",
       "       1.63405882e-14, 3.33578839e+01])"
      ]
     },
     "execution_count": 62,
     "metadata": {},
     "output_type": "execute_result"
    }
   ],
   "source": [
    "elen[:10]"
   ]
  },
  {
   "cell_type": "code",
   "execution_count": 63,
   "metadata": {},
   "outputs": [
    {
     "data": {
      "text/plain": [
       "(9.554969575338695e-29, 33.35955183293824, 27.26595404999472)"
      ]
     },
     "execution_count": 63,
     "metadata": {},
     "output_type": "execute_result"
    }
   ],
   "source": [
    "elen.min(), elen.max(), elen.mean()"
   ]
  },
  {
   "cell_type": "markdown",
   "metadata": {},
   "source": [
    "### LIMGRAD"
   ]
  },
  {
   "cell_type": "code",
   "execution_count": 64,
   "metadata": {},
   "outputs": [],
   "source": [
    "def limgrad(edge,elen,ffun,dfdx,imax):\n",
    "    \n",
    "    rfun = ffun.T.flatten()\n",
    "    \n",
    "    rfun = np.array([[hf] for hf in list(rfun)])\n",
    "    \n",
    "    eps = np.finfo(float).eps\n",
    "    \n",
    "    nnod = rfun.size\n",
    "        \n",
    "    #-- IVEC(NPTR(II,1):NPTR(II,2)) are edges adj. to II-TH node\n",
    "    nvec = np.hstack([edge[:,0], edge[:,1]])\n",
    "\n",
    "    ivec = np.hstack([np.arange(edge.shape[0]),np.arange(edge.shape[0])])\n",
    "\n",
    "\n",
    "    nvec_ = np.sort(nvec, kind='mergesort')\n",
    "    pidx = np.argsort(nvec, kind='mergesort') # to match with matlab/octave -> https://stackoverflow.com/questions/39484073/matlab-sort-vs-numpy-argsort-how-to-match-results\n",
    "    ivec = ivec[pidx]\n",
    "    nvec = nvec_\n",
    "    \n",
    "    \n",
    "    mark = np.full(rfun.size, False, dtype=bool)\n",
    "    mark[edge[:,0]]=True\n",
    "    mark[edge[:,1]]=True\n",
    "\n",
    "    dif = [nvec[i+1]-nvec[i] for i in range(nvec.shape[0]-1)]\n",
    "    idxx = np.argwhere(np.array(dif) > 0).flatten()\n",
    "    \n",
    "    nptr=np.zeros((mark.size,2))\n",
    "    nptr[mark,0] = np.append(np.array([0]),idxx+1)\n",
    "    nptr[mark,1] = np.append(idxx, nnod-1)\n",
    "    \n",
    "    nptr = nptr.astype(int)\n",
    "\n",
    "#----------------------------- ASET=ITER if node is \"active\"\n",
    "    aset = np.zeros(nnod)\n",
    "    \n",
    "    ftol = min(rfun.flatten()) * np.sqrt(eps)\n",
    "    \n",
    "\n",
    "#----------------------------- exhaustive 'til all satisfied \n",
    "    \n",
    "    for i in range(1,imax):\n",
    "    \n",
    "    #------------------------- find \"active\" nodes this pass\n",
    "        aidx = np.argwhere(aset == i - 1 ) \n",
    "        aidx = aidx.flatten()\n",
    "        \n",
    "        if not aidx.any(): break\n",
    "      \n",
    "    #------------------------- reorder => better convergence\n",
    "\n",
    "        aval = np.sort(rfun.reshape(ffun.shape).flatten()[aidx],kind='mergesort')\n",
    "        idxx = np.argsort(rfun.reshape(ffun.shape).flatten()[aidx], kind='mergesort')\n",
    "        \n",
    "        aidx = aidx[idxx]\n",
    "       \n",
    "    #%------------------------- visit adj. edges and set DFDX\n",
    "        for ipos in range(len(aidx)):\n",
    "            npos = aidx[ipos]\n",
    "        \n",
    "            for jpos in range(nptr[npos,0], nptr[npos,1]+1):\n",
    "                \n",
    "                epos = ivec[jpos]\n",
    "                \n",
    "                nod1 = edge[epos,0]\n",
    "                nod2 = edge[epos,1]\n",
    "                \n",
    "               # print ipos, jpos, epos, nod1, nod2\n",
    "\n",
    "            #----------------- calc. limits about min.-value\n",
    "                if rfun[nod1] > rfun[nod2]:\n",
    "                \n",
    "                    \n",
    "                    fun1 = rfun[nod2] + elen[epos] * dfdx \n",
    "                \n",
    "                    if rfun[nod1] > fun1+ftol :\n",
    "                        rfun[nod1] = fun1\n",
    "                        aset[nod1] = i\n",
    "                else:\n",
    "                \n",
    "                    fun2 = rfun[nod1] + elen[epos] * dfdx \n",
    "                    \n",
    "                    if   rfun[nod2] > fun2+ftol :\n",
    "                        rfun[nod2] = fun2\n",
    "                        aset[nod2] = i\n",
    "     \n",
    "    flag = i < imax\n",
    "    \n",
    "    return rfun,flag"
   ]
  },
  {
   "cell_type": "code",
   "execution_count": 65,
   "metadata": {},
   "outputs": [],
   "source": [
    "#edge2 = pd.read_csv('/Users/brey/Desktop/edge',header=None).values\n",
    "\n",
    "#edge2 = edge2 - 1\n",
    "\n",
    "#elen2 = pd.read_csv('/Users/brey/Desktop/elen',header=None).values\n",
    "\n",
    "#hfun2 = pd.read_csv('/Users/brey/Desktop/hfun0',header=None).values\n",
    "\n",
    "#rfun2 = pd.read_csv('/Users/brey/Desktop/fun',header=None).values\n",
    "\n",
    "\n",
    "#run it\n",
    "#[rfun,flag] = limgrad(edge2,elen2,hfun2,dhdx,100)\n",
    "\n",
    "#difference from the original hfun2\n",
    "#dff = rfun.flatten().reshape(X.T.shape).T - hfun2.flatten().reshape(X.T.shape).T # note the transpose "
   ]
  },
  {
   "cell_type": "code",
   "execution_count": 66,
   "metadata": {},
   "outputs": [],
   "source": [
    "dhdx = .15"
   ]
  },
  {
   "cell_type": "code",
   "execution_count": 67,
   "metadata": {},
   "outputs": [],
   "source": [
    "[fun,flag] = limgrad(edge,elen,hfun,dhdx,4096)"
   ]
  },
  {
   "cell_type": "code",
   "execution_count": 68,
   "metadata": {},
   "outputs": [
    {
     "data": {
      "text/plain": [
       "(20.0, 100.0, 49.770705584252966)"
      ]
     },
     "execution_count": 68,
     "metadata": {},
     "output_type": "execute_result"
    }
   ],
   "source": [
    "fun.min(), fun.max(), fun.mean()"
   ]
  },
  {
   "cell_type": "code",
   "execution_count": 69,
   "metadata": {},
   "outputs": [
    {
     "data": {
      "text/plain": [
       "(601, 1201)"
      ]
     },
     "execution_count": 69,
     "metadata": {},
     "output_type": "execute_result"
    }
   ],
   "source": [
    "hfun.shape"
   ]
  },
  {
   "cell_type": "code",
   "execution_count": 70,
   "metadata": {},
   "outputs": [],
   "source": [
    "tfun = fun.reshape(hfun.T.shape) # we use the transpose to get back to python"
   ]
  },
  {
   "cell_type": "code",
   "execution_count": 71,
   "metadata": {},
   "outputs": [
    {
     "data": {
      "text/plain": [
       "(1201, 601)"
      ]
     },
     "execution_count": 71,
     "metadata": {},
     "output_type": "execute_result"
    }
   ],
   "source": [
    "tfun.shape"
   ]
  },
  {
   "cell_type": "code",
   "execution_count": 72,
   "metadata": {},
   "outputs": [
    {
     "data": {
      "text/plain": [
       "(20.0, 100.0, 49.770705584252966)"
      ]
     },
     "execution_count": 72,
     "metadata": {},
     "output_type": "execute_result"
    }
   ],
   "source": [
    "tfun.min(), tfun.max(), tfun.mean()"
   ]
  },
  {
   "cell_type": "code",
   "execution_count": 73,
   "metadata": {},
   "outputs": [],
   "source": [
    "#difference from the original hfun\n",
    "dff = tfun - hfun.T"
   ]
  },
  {
   "cell_type": "code",
   "execution_count": 74,
   "metadata": {},
   "outputs": [],
   "source": [
    "#difference between solutions (JIGSAW & This one)\n",
    "#dff = fun.flatten().reshape(X.shape) - rfun.flatten().reshape(X.T.shape).T"
   ]
  },
  {
   "cell_type": "code",
   "execution_count": 75,
   "metadata": {},
   "outputs": [
    {
     "data": {
      "text/plain": [
       "(-79.58132330649173, 0.0, -9.612891092724746)"
      ]
     },
     "execution_count": 75,
     "metadata": {},
     "output_type": "execute_result"
    }
   ],
   "source": [
    "dff.min(), dff.max(), dff.mean()"
   ]
  },
  {
   "cell_type": "code",
   "execution_count": 76,
   "metadata": {},
   "outputs": [],
   "source": [
    "%matplotlib inline"
   ]
  },
  {
   "cell_type": "code",
   "execution_count": 77,
   "metadata": {
    "scrolled": false
   },
   "outputs": [
    {
     "data": {
      "text/plain": [
       "<matplotlib.colorbar.Colorbar at 0x1a2d3db710>"
      ]
     },
     "execution_count": 77,
     "metadata": {},
     "output_type": "execute_result"
    },
    {
     "data": {
      "image/png": "[encoded data removed]",
      "text/plain": [
       "<Figure size 720x576 with 2 Axes>"
      ]
     },
     "metadata": {},
     "output_type": "display_data"
    }
   ],
   "source": [
    "#plot\n",
    "plt.figure(figsize=(10,8))\n",
    "plt.contourf(X,Y,dff.T)\n",
    "plt.colorbar()"
   ]
  },
  {
   "cell_type": "code",
   "execution_count": 78,
   "metadata": {},
   "outputs": [
    {
     "data": {
      "text/plain": [
       "<matplotlib.colorbar.Colorbar at 0x1a3301e750>"
      ]
     },
     "execution_count": 78,
     "metadata": {},
     "output_type": "execute_result"
    },
    {
     "data": {
      "image/png": "[encoded data removed]",
      "text/plain": [
       "<Figure size 720x576 with 2 Axes>"
      ]
     },
     "metadata": {},
     "output_type": "display_data"
    }
   ],
   "source": [
    "#plot\n",
    "plt.figure(figsize=(10,8))\n",
    "plt.contourf(X,Y,tfun.T)\n",
    "plt.colorbar()"
   ]
  },
  {
   "cell_type": "code",
   "execution_count": 79,
   "metadata": {},
   "outputs": [],
   "source": [
    "ffun='/Users/brey/Downloads/JIGSAW/out/GLOBAL-HFUN.msh'"
   ]
  },
  {
   "cell_type": "code",
   "execution_count": 80,
   "metadata": {},
   "outputs": [],
   "source": [
    "gf = pd.DataFrame({'hmatx' : xpos.flatten()*np.pi/180, \n",
    "'hmaty' : ypos.flatten()*np.pi/180, \n",
    "'hmatv' : tfun.flatten()}) \n",
    "    "
   ]
  },
  {
   "cell_type": "code",
   "execution_count": 81,
   "metadata": {},
   "outputs": [
    {
     "data": {
      "text/plain": [
       "(721801, 3)"
      ]
     },
     "execution_count": 81,
     "metadata": {},
     "output_type": "execute_result"
    }
   ],
   "source": [
    "gf.shape"
   ]
  },
  {
   "cell_type": "code",
   "execution_count": 82,
   "metadata": {},
   "outputs": [
    {
     "data": {
      "text/html": [
       "<div>\n",
       "<style scoped>\n",
       "    .dataframe tbody tr th:only-of-type {\n",
       "        vertical-align: middle;\n",
       "    }\n",
       "\n",
       "    .dataframe tbody tr th {\n",
       "        vertical-align: top;\n",
       "    }\n",
       "\n",
       "    .dataframe thead th {\n",
       "        text-align: right;\n",
       "    }\n",
       "</style>\n",
       "<table border=\"1\" class=\"dataframe\">\n",
       "  <thead>\n",
       "    <tr style=\"text-align: right;\">\n",
       "      <th></th>\n",
       "      <th>hmatv</th>\n",
       "      <th>hmatx</th>\n",
       "      <th>hmaty</th>\n",
       "    </tr>\n",
       "  </thead>\n",
       "  <tbody>\n",
       "    <tr>\n",
       "      <th>0</th>\n",
       "      <td>100.000000</td>\n",
       "      <td>-6.808726e-15</td>\n",
       "      <td>-8.338284e-31</td>\n",
       "    </tr>\n",
       "    <tr>\n",
       "      <th>1</th>\n",
       "      <td>96.576077</td>\n",
       "      <td>-5.822184e-01</td>\n",
       "      <td>-7.130119e-17</td>\n",
       "    </tr>\n",
       "    <tr>\n",
       "      <th>2</th>\n",
       "      <td>93.091900</td>\n",
       "      <td>-1.164405e+00</td>\n",
       "      <td>-1.425985e-16</td>\n",
       "    </tr>\n",
       "    <tr>\n",
       "      <th>3</th>\n",
       "      <td>89.607535</td>\n",
       "      <td>-1.746578e+00</td>\n",
       "      <td>-2.138941e-16</td>\n",
       "    </tr>\n",
       "    <tr>\n",
       "      <th>4</th>\n",
       "      <td>86.123149</td>\n",
       "      <td>-2.328685e+00</td>\n",
       "      <td>-2.851817e-16</td>\n",
       "    </tr>\n",
       "  </tbody>\n",
       "</table>\n",
       "</div>"
      ],
      "text/plain": [
       "        hmatv         hmatx         hmaty\n",
       "0  100.000000 -6.808726e-15 -8.338284e-31\n",
       "1   96.576077 -5.822184e-01 -7.130119e-17\n",
       "2   93.091900 -1.164405e+00 -1.425985e-16\n",
       "3   89.607535 -1.746578e+00 -2.138941e-16\n",
       "4   86.123149 -2.328685e+00 -2.851817e-16"
      ]
     },
     "execution_count": 82,
     "metadata": {},
     "output_type": "execute_result"
    }
   ],
   "source": [
    "gf.head()"
   ]
  },
  {
   "cell_type": "code",
   "execution_count": 83,
   "metadata": {},
   "outputs": [],
   "source": [
    "xb['x'] = xb.lon*np.pi/180"
   ]
  },
  {
   "cell_type": "code",
   "execution_count": 84,
   "metadata": {},
   "outputs": [],
   "source": [
    "yb['y'] = yb.lat*np.pi/180"
   ]
  },
  {
   "cell_type": "code",
   "execution_count": 85,
   "metadata": {},
   "outputs": [],
   "source": [
    "# write header\n",
    "with open(ffun,'w') as f:\n",
    "    f.write('#{}; created by pyPoseidon\\n'.format(ffun.split('/')[-1]))\n",
    "    f.write('MSHID=3;ELLIPSOID-GRID\\n')\n",
    "    f.write('NDIMS=2\\n')\n",
    "    f.write('COORD=1;{}\\n'.format(xb.x.size))"
   ]
  },
  {
   "cell_type": "code",
   "execution_count": 86,
   "metadata": {},
   "outputs": [],
   "source": [
    "with open(ffun, 'a') as f:\n",
    "    xb.x.to_csv(f, index=False, header=0)"
   ]
  },
  {
   "cell_type": "code",
   "execution_count": 87,
   "metadata": {},
   "outputs": [],
   "source": [
    "with open(ffun, 'a') as f:\n",
    "    f.write('COORD=2;{}\\n'.format(yb.y.size))"
   ]
  },
  {
   "cell_type": "code",
   "execution_count": 88,
   "metadata": {},
   "outputs": [],
   "source": [
    "with open(ffun, 'a') as f:\n",
    "    yb.y.to_csv(f, index=False, header=0)"
   ]
  },
  {
   "cell_type": "code",
   "execution_count": 89,
   "metadata": {},
   "outputs": [],
   "source": [
    "with open(ffun, 'a') as f:\n",
    "    f.write('VALUE={};1\\n'.format(xb.x.size * yb.y.size)) "
   ]
  },
  {
   "cell_type": "code",
   "execution_count": 90,
   "metadata": {},
   "outputs": [],
   "source": [
    "with open(ffun, 'a') as f:\n",
    "    for i in range(fun.size):\n",
    "        f.write('{}\\n'.format(tfun.flatten()[i]))"
   ]
  },
  {
   "cell_type": "code",
   "execution_count": null,
   "metadata": {},
   "outputs": [],
   "source": [
    "#converted TRANSPOSED, IS THERE A WAY TO FIX IT?\n",
    "#cfun = fun.flatten().reshape(X.shape).T\n",
    "#with open(ffun, 'a') as f:\n",
    "#    for i in range(fun.size):\n",
    "#        f.write('{}\\n'.format(cfun.flatten()[i]))"
   ]
  },
  {
   "cell_type": "markdown",
   "metadata": {},
   "source": [
    "## jig file"
   ]
  },
  {
   "cell_type": "code",
   "execution_count": 91,
   "metadata": {},
   "outputs": [],
   "source": [
    "jig='/Users/brey/Downloads/JIGSAW/Global.jig'"
   ]
  },
  {
   "cell_type": "code",
   "execution_count": 92,
   "metadata": {},
   "outputs": [],
   "source": [
    "fmsh = '/Users/brey/Downloads/JIGSAW/out/Global.msh'"
   ]
  },
  {
   "cell_type": "code",
   "execution_count": 93,
   "metadata": {},
   "outputs": [],
   "source": [
    "with open(jig,'w') as f:\n",
    "    f.write('#{}; created by pyPoseidon\\n'.format(jig.split('/')[-1]))\n",
    "    f.write('GEOM_FILE ={}\\n'.format(fgeo))\n",
    "    f.write('MESH_FILE ={}\\n'.format(fmsh))\n",
    "    f.write('HFUN_FILE ={}\\n'.format(ffun))\n",
    "    f.write('HFUN_SCAL = ABSOLUTE\\n')\n",
    "    f.write('HFUN_HMAX = 150\\n')\n",
    "    f.write('HFUN_HMIN = 0.0\\n')\n",
    "    f.write('MESH_DIMS = 2\\n')\n",
    "    f.write('OPTM_QLIM=0.9375\\n')\n",
    "    f.write('VERBOSITY = 1')"
   ]
  },
  {
   "cell_type": "markdown",
   "metadata": {},
   "source": [
    "## Execute jigsaw"
   ]
  },
  {
   "cell_type": "code",
   "execution_count": 94,
   "metadata": {
    "scrolled": false
   },
   "outputs": [
    {
     "name": "stdout",
     "output_type": "stream",
     "text": [
      " \n",
      "#------------------------------------------------------------\n",
      "#\n",
      "#   ,o, ,o,       /                                 \n",
      "#    `   `  e88~88e  d88~\\   /~~~8e Y88b    e    / \n",
      "#   888 888 88   88 C888         88b Y88b  d8b  /   \n",
      "#   888 888 \"8b_d8\"  Y88b   e88~-888  Y888/Y88b/  \n",
      "#   888 888  /        888D C88   888   Y8/  Y8/     \n",
      "#   88P 888 Cb      \\_88P   \"8b_-888    Y    Y    \n",
      "# \\_8\"       Y8\"\"8D                             \n",
      "#\n",
      "#------------------------------------------------------------\n",
      "# JIGSAW: an unstructured mesh generation package.  \n",
      "#------------------------------------------------------------\n",
      " \n",
      "  JIGSAW VERSION 0.9.5\n",
      "\n",
      "  Reading CFG. file...\n",
      "\n",
      "  CFG. data summary...\n",
      "\n",
      "  GEOM_FILE = /Users/brey/Downloads/JIGSAW/geo/Global-GEOM.msh \n",
      "  MESH_FILE = /Users/brey/Downloads/JIGSAW/out/Global.msh \n",
      "  HFUN_FILE = /Users/brey/Downloads/JIGSAW/out/GLOBAL-HFUN.msh \n",
      "\n",
      "  GEOM_SEED = 8 \n",
      "  GEOM_PHI1 = 6.00e+01 \n",
      "  GEOM_PHI2 = 6.00e+01 \n",
      "  GEOM_ETA1 = 4.50e+01 \n",
      "  GEOM_ETA2 = 4.50e+01 \n",
      "  GEOM_FEAT = FALSE \n",
      "\n",
      "  HFUN_SCAL = ABSOLUTE \n",
      "  HFUN_HMAX = 1.50e+02 \n",
      "  HFUN_HMIN = 0.00e+00 \n",
      "\n",
      "  MESH_KERN = DELFRONT \n",
      "  MESH_TOP1 = FALSE \n",
      "  MESH_TOP2 = FALSE \n",
      "  MESH_ITER = MAXINT \n",
      "  MESH_DIMS = 2 \n",
      "  MESH_SIZ1 = 1.33e+00 \n",
      "  MESH_SIZ2 = 1.30e+00 \n",
      "  MESH_SIZ3 = 1.29e+00 \n",
      "  MESH_EPS1 = 3.33e-01 \n",
      "  MESH_EPS2 = 3.33e-01 \n",
      "  MESH_RAD2 = 1.05e+00 \n",
      "  MESH_RAD3 = 2.05e+00 \n",
      "  MESH_OFF2 = 9.00e-01 \n",
      "  MESH_OFF3 = 1.10e+00 \n",
      "  MESH_SNK2 = 2.00e-01 \n",
      "  MESH_SNK3 = 3.33e-01 \n",
      "  MESH_VOL3 = 0.00e+00 \n",
      "\n",
      "  OPTM_ITER = 16 \n",
      "  OPTM_QTOL = 1.00e-04 \n",
      "  OPTM_QLIM = 9.38e-01 \n",
      "  OPTM_ZIP_ = TRUE \n",
      "  OPTM_DIV_ = TRUE \n",
      "  OPTM_TRIA = TRUE \n",
      "  OPTM_DUAL = FALSE \n",
      "\n",
      "  Done. (8.38e-04sec)\n",
      "\n",
      "#------------------------------------------------------------\n",
      "\n",
      "  Reading GEOM file...\n",
      "\n",
      "  GEOM data summary...\n",
      "\n",
      "  ELLIPSOID-MESH\n",
      "\n",
      "  |NDIMS.| = 3\n",
      "\n",
      "  |1-RAD.| = 6.37e+03 \n",
      "  |2-RAD.| = 6.37e+03 \n",
      "  |3-RAD.| = 6.37e+03 \n",
      "\n",
      "  Done. (1.12e-03sec)\n",
      "\n",
      "#------------------------------------------------------------\n",
      "\n",
      "  Reading HFUN file...\n",
      "\n",
      "  Done. (2.25e-01sec)\n",
      "\n",
      "#------------------------------------------------------------\n",
      "\n",
      "  Forming HFUN data...\n",
      "\n",
      "  HFUN data summary...\n",
      "\n",
      "  ELLIPSOID-GRID\n",
      "\n",
      "  |NDIMS.| = 3\n",
      "\n",
      "  .MIN(H). = 2.00e+01\n",
      "  .MAX(H). = 1.00e+02\n",
      "  \n",
      "  |XGRID.| = 1201\n",
      "  |YGRID.| = 601\n",
      "\n",
      "  Done. (9.59e-04sec)\n",
      "\n",
      "#------------------------------------------------------------\n",
      "\n",
      "  Generate rDT MESH...\n",
      "\n",
      "#------------------------------------------------------------\n",
      "#    |ITER.|      |DEL-1|      |DEL-2|      |DEL-3| \n",
      "#------------------------------------------------------------\n",
      "      12500            0        25004            0\n",
      "      25000            0        50004            0\n",
      "      37500            0        75004            0\n",
      "      50000            0       100004            0\n",
      "      62500            0       125004            0\n",
      "      75000            0       150004            0\n",
      "      87500            0       175004            0\n",
      "     100000            0       200004            0\n",
      "     112500            0       225004            0\n",
      "     125000            0       250004            0\n",
      "     137500            0       275004            0\n",
      "     150000            0       300004            0\n",
      "     162500            0       325004            0\n",
      "     175000            0       350004            0\n",
      "     187500            0       375004            0\n",
      "     200000            0       400004            0\n",
      "     212500            0       425004            0\n",
      "     225000            0       450004            0\n",
      "     237500            0       475004            0\n",
      "     250000            0       500004            0\n",
      "     262500            0       525004            0\n",
      "     275000            0       550004            0\n",
      "     287500            0       575004            0\n",
      "     300000            0       600004            0\n",
      "     312500            0       625004            0\n",
      "     325000            0       650004            0\n",
      "     337500            0       675004            0\n",
      "     350000            0       700004            0\n",
      "     362500            0       725004            0\n",
      "     375000            0       750004            0\n",
      "     387500            0       775004            0\n",
      "     400000            0       800004            0\n",
      "     412500            0       825004            0\n",
      "     425000            0       850004            0\n",
      "     434275            0       868554            0\n",
      "\n",
      "  Done. (1.72e+01sec)\n",
      "\n",
      "#------------------------------------------------------------\n",
      "\n",
      "  Pushing MESH data...\n",
      "\n",
      "  Done. (2.70e+00sec)\n",
      "\n",
      "#------------------------------------------------------------\n",
      "\n",
      "  MESH optimisation...\n",
      "\n",
      "#------------------------------------------------------------\n",
      "#    |MOVE.|      |FLIP.|      |MERGE|      |SPLIT| \n",
      "#------------------------------------------------------------\n",
      "     420082            6         1018          151\n",
      "     360112            1           99            6\n",
      "     274339            0           22            2\n",
      "     160683            0            5            0\n",
      "      96483            0           10            0\n",
      "      53958            0            5            0\n",
      "      26769            0            1            0\n",
      "      15178            0            0            0\n",
      "       9492            0            1            0\n",
      "       6333            0            0            0\n",
      "       4494            0            0            0\n",
      "       3318            0            0            0\n",
      "       2382            0            0            0\n",
      "       1675            0            0            0\n",
      "       1278            0            0            0\n",
      "        941            0            0            0\n",
      "\n",
      "  Done. (9.23e+01sec)\n",
      "\n",
      "#------------------------------------------------------------\n",
      "\n",
      "  Writing MESH file...\n",
      "\n",
      "  Done. (1.74e+00sec)\n",
      "\n"
     ]
    }
   ],
   "source": [
    "! /Users/brey/GitHub/jigsaw-geo-matlab/jigsaw/bin/MAC-64/jigsaw64r /Users/brey/Downloads/JIGSAW/Global.jig"
   ]
  },
  {
   "cell_type": "code",
   "execution_count": null,
   "metadata": {},
   "outputs": [],
   "source": []
  }
 ],
 "metadata": {
  "hide_input": false,
  "kernelspec": {
   "display_name": "dev",
   "language": "python",
   "name": "dev"
  },
  "language_info": {
   "codemirror_mode": {
    "name": "ipython",
    "version": 2
   },
   "file_extension": ".py",
   "mimetype": "text/x-python",
   "name": "python",
   "nbconvert_exporter": "python",
   "pygments_lexer": "ipython2",
   "version": "2.7.15"
  },
  "latex_envs": {
   "bibliofile": "biblio.bib",
   "cite_by": "apalike",
   "current_citInitial": 1,
   "eqLabelWithNumbers": true,
   "eqNumInitial": 0
  },
  "toc": {
   "base_numbering": 1,
   "nav_menu": {},
   "number_sections": true,
   "sideBar": true,
   "skip_h1_title": false,
   "title_cell": "Table of Contents",
   "title_sidebar": "Contents",
   "toc_cell": false,
   "toc_position": {},
   "toc_section_display": true,
   "toc_window_display": false
  }
 },
 "nbformat": 4,
 "nbformat_minor": 2
}
