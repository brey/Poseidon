{
 "cells": [
  {
   "cell_type": "markdown",
   "metadata": {},
   "source": [
    "# Analysing emodnet files"
   ]
  },
  {
   "cell_type": "markdown",
   "metadata": {},
   "source": [
    "This is a Notebook for analyzing and merging the netcCDF files from http://portal.emodnet-bathymetry.eu."
   ]
  },
  {
   "cell_type": "code",
   "execution_count": 1,
   "metadata": {},
   "outputs": [],
   "source": [
    "import xarray as xr\n",
    "import numpy as np\n",
    "import glob"
   ]
  },
  {
   "cell_type": "code",
   "execution_count": 2,
   "metadata": {},
   "outputs": [],
   "source": [
    "%matplotlib inline"
   ]
  },
  {
   "cell_type": "code",
   "execution_count": 3,
   "metadata": {},
   "outputs": [],
   "source": [
    "data1 = xr.open_dataset('/Users/brey/DATA/EMODNET/A1.mnt')"
   ]
  },
  {
   "cell_type": "code",
   "execution_count": 4,
   "metadata": {},
   "outputs": [
    {
     "data": {
      "text/plain": [
       "<xarray.Dataset>\n",
       "Dimensions:              (CDI_INDEX_NBR: 32768, COLUMNS: 9480, LAYERS_HEADERS: 20, LINES: 7200, mbHistoryRecNbr: 20)\n",
       "Coordinates:\n",
       "  * LINES                (LINES) float64 70.0 70.0 70.01 70.01 70.01 70.01 ...\n",
       "  * COLUMNS              (COLUMNS) float64 -36.0 -36.0 -35.99 -35.99 -35.99 ...\n",
       "Dimensions without coordinates: CDI_INDEX_NBR, LAYERS_HEADERS, mbHistoryRecNbr\n",
       "Data variables:\n",
       "    mbHistDate           (mbHistoryRecNbr) float64 ...\n",
       "    mbHistTime           (mbHistoryRecNbr) float64 ...\n",
       "    mbHistCode           (mbHistoryRecNbr) float32 ...\n",
       "    mbHistAutor          (mbHistoryRecNbr) |S20 ...\n",
       "    mbHistModule         (mbHistoryRecNbr) |S20 ...\n",
       "    mbHistComment        (mbHistoryRecNbr) |S256 ...\n",
       "    Layer_name           (LAYERS_HEADERS) |S20 ...\n",
       "    DEPTH                (LINES, COLUMNS) float32 ...\n",
       "    MIN_SOUNDING         (LINES, COLUMNS) float32 ...\n",
       "    MAX_SOUNDING         (LINES, COLUMNS) float32 ...\n",
       "    VSOUNDINGS           (LINES, COLUMNS) float64 ...\n",
       "    STDEV                (LINES, COLUMNS) float32 ...\n",
       "    CDI                  (LINES, COLUMNS) float32 ...\n",
       "    CDI_INDEX            (CDI_INDEX_NBR) |S100 ...\n",
       "    DEPTH_SMOOTH         (LINES, COLUMNS) float32 ...\n",
       "    DEPTH_SMOOTH_OFFSET  (LINES, COLUMNS) float32 ...\n",
       "    INTERPOLATION_FLAG   (LINES, COLUMNS) float32 ...\n",
       "Attributes:\n",
       "    CIB_BLOCKS_FOR_UNLIMITED:  1\n",
       "    mbVersion:                 200\n",
       "    mbName:                    A1-export\n",
       "    mbClasse:                   \n",
       "    mbLevel:                   0\n",
       "    mbNbrHistoryRec:           1\n",
       "    mbTimeReference:           Julian date for 1970/01/01 = 2 440 588\n",
       "    mbStartDate:               0\n",
       "    mbStartTime:               0\n",
       "    mbEndDate:                 0\n",
       "    mbEndTime:                 0\n",
       "    mbNorthLatitude:           85.0\n",
       "    mbSouthLatitude:           70.0\n",
       "    mbEastLongitude:           -16.25\n",
       "    mbWestLongitude:           -36.0\n",
       "    mbMeridian180:              \n",
       "    mbGeoDictionnary:           \n",
       "    mbGeoRepresentation:        \n",
       "    mbGeodesicSystem:           \n",
       "    mbEllipsoidName:           WGS-84\n",
       "    mbEllipsoidA:              6378137.0\n",
       "    mbEllipsoidInvF:           0.00335281066474751\n",
       "    mbEllipsoidE2:             0.00669437999014133\n",
       "    mbProjType:                -1\n",
       "    mbProjParameterValue:      [0. 0. 0. 0.]\n",
       "    mbProjParameterCode:       MB_M0,MB_L0,MB_X0,MB_Y0\n",
       "    mbProj4String:             +proj=longlat +ellps=WGS84 +datum=WGS84 +no_defs\n",
       "    Conventions:               CF-1.4\n",
       "    Type:                      DTM\n",
       "    Format:                    STR\n",
       "    Mosaic_type:               \n",
       "    Sounder_type:              0\n",
       "    Number_lines:              7200\n",
       "    Number_columns:            9480\n",
       "    Element_x_size:            0.0020833333333333333\n",
       "    Element_y_size:            0.0020833333333333333\n",
       "    Orientation:               0.0\n",
       "    Latitude_TL:               85.0\n",
       "    Longitude_TL:              -36.0\n",
       "    Latitude_TR:               85.0\n",
       "    Longitude_TR:              -16.25\n",
       "    Latitude_BR:               70.0\n",
       "    Longitude_BR:              -16.25\n",
       "    Latitude_BL:               70.0\n",
       "    Longitude_BL:              -36.0\n",
       "    Xmin_metric:               -36.0\n",
       "    Xmax_metric:               -16.25\n",
       "    Ymin_metric:               70.0\n",
       "    Ymax_metric:               85.0\n",
       "    Number_layers:             9"
      ]
     },
     "execution_count": 4,
     "metadata": {},
     "output_type": "execute_result"
    }
   ],
   "source": [
    "data1"
   ]
  },
  {
   "cell_type": "code",
   "execution_count": 35,
   "metadata": {},
   "outputs": [
    {
     "data": {
      "text/plain": [
       "<xarray.DataArray 'mbHistTime' (mbHistoryRecNbr: 20)>\n",
       "array([36792548.,        0.,        0.,        0.,        0.,        0.,\n",
       "              0.,        0.,        0.,        0.,        0.,        0.,\n",
       "              0.,        0.,        0.,        0.,        0.,        0.,\n",
       "              0.,        0.])\n",
       "Dimensions without coordinates: mbHistoryRecNbr\n",
       "Attributes:\n",
       "    type:           integer\n",
       "    long_name:      History time (UT)\n",
       "    name_code:      MB_HISTORY_TIME\n",
       "    units:          ms\n",
       "    unit_code:      MB_MS\n",
       "    minimum:        0\n",
       "    maximum:        86399999\n",
       "    valid_minimum:  0\n",
       "    valid_maximum:  86399999\n",
       "    format_C:       %d\n",
       "    orientation:    direct"
      ]
     },
     "execution_count": 35,
     "metadata": {},
     "output_type": "execute_result"
    }
   ],
   "source": [
    "data1.mbHistTime"
   ]
  },
  {
   "cell_type": "code",
   "execution_count": 5,
   "metadata": {},
   "outputs": [],
   "source": [
    "v2=data1.DEPTH.max(); v1 = data1.DEPTH.min()"
   ]
  },
  {
   "cell_type": "code",
   "execution_count": 6,
   "metadata": {},
   "outputs": [
    {
     "data": {
      "text/plain": [
       "<matplotlib.collections.QuadMesh at 0x109b13a90>"
      ]
     },
     "execution_count": 6,
     "metadata": {},
     "output_type": "execute_result"
    },
    {
     "data": {
      "image/png": "[encoded data removed]",
      "text/plain": [
       "<Figure size 432x288 with 2 Axes>"
      ]
     },
     "metadata": {},
     "output_type": "display_data"
    }
   ],
   "source": [
    "data1.DEPTH.plot(vmin=v1, vmax=v2, cmap='viridis_r')"
   ]
  },
  {
   "cell_type": "code",
   "execution_count": 7,
   "metadata": {},
   "outputs": [
    {
     "data": {
      "text/plain": [
       "46452312"
      ]
     },
     "execution_count": 7,
     "metadata": {},
     "output_type": "execute_result"
    }
   ],
   "source": [
    "np.sum(np.isnan(data1.DEPTH.values)) # number of Nan values"
   ]
  },
  {
   "cell_type": "code",
   "execution_count": 8,
   "metadata": {},
   "outputs": [
    {
     "data": {
      "text/plain": [
       "(7200, 9480)"
      ]
     },
     "execution_count": 8,
     "metadata": {},
     "output_type": "execute_result"
    }
   ],
   "source": [
    "data1.DEPTH.shape"
   ]
  },
  {
   "cell_type": "code",
   "execution_count": 9,
   "metadata": {},
   "outputs": [
    {
     "name": "stderr",
     "output_type": "stream",
     "text": [
      "/Users/brey/miniconda3/envs/dev/lib/python2.7/site-packages/ipykernel_launcher.py:1: RuntimeWarning: invalid value encountered in greater\n",
      "  \"\"\"Entry point for launching an IPython kernel.\n"
     ]
    },
    {
     "data": {
      "text/plain": [
       "582773"
      ]
     },
     "execution_count": 9,
     "metadata": {},
     "output_type": "execute_result"
    }
   ],
   "source": [
    "np.sum(data1.DEPTH.values>0.) # Total positive (land) values"
   ]
  },
  {
   "cell_type": "markdown",
   "metadata": {},
   "source": [
    "## Merge together the netcdf files"
   ]
  },
  {
   "cell_type": "code",
   "execution_count": 18,
   "metadata": {},
   "outputs": [
    {
     "data": {
      "text/plain": [
       "['/Users/brey/DATA/EMODNET/A1.mnt',\n",
       " '/Users/brey/DATA/EMODNET/A2.mnt',\n",
       " '/Users/brey/DATA/EMODNET/A3.mnt',\n",
       " '/Users/brey/DATA/EMODNET/A4.mnt',\n",
       " '/Users/brey/DATA/EMODNET/B1.mnt',\n",
       " '/Users/brey/DATA/EMODNET/B2.mnt',\n",
       " '/Users/brey/DATA/EMODNET/B3.mnt',\n",
       " '/Users/brey/DATA/EMODNET/B4.mnt',\n",
       " '/Users/brey/DATA/EMODNET/C1.mnt',\n",
       " '/Users/brey/DATA/EMODNET/C2.mnt',\n",
       " '/Users/brey/DATA/EMODNET/C3.mnt',\n",
       " '/Users/brey/DATA/EMODNET/C4.mnt',\n",
       " '/Users/brey/DATA/EMODNET/D1.mnt',\n",
       " '/Users/brey/DATA/EMODNET/D2.mnt',\n",
       " '/Users/brey/DATA/EMODNET/D3.mnt',\n",
       " '/Users/brey/DATA/EMODNET/D4.mnt']"
      ]
     },
     "execution_count": 18,
     "metadata": {},
     "output_type": "execute_result"
    }
   ],
   "source": [
    "files = glob.glob('/Users/brey/DATA/EMODNET/*.mnt')\n",
    "files.sort()\n",
    "files"
   ]
  },
  {
   "cell_type": "code",
   "execution_count": 32,
   "metadata": {},
   "outputs": [],
   "source": [
    "concat_vars=['DEPTH','DEPTH_SMOOTH','DEPTH_SMOOTH_OFFSET','INTERPOLATION_FLAG',\n",
    "             'STDEV','CDI','VSOUNDINGS','MIN_SOUNDING','MAX_SOUNDING']"
   ]
  },
  {
   "cell_type": "code",
   "execution_count": 41,
   "metadata": {},
   "outputs": [],
   "source": [
    "drop_vars = ['mbHistDate','mbHistTime','mbHistCode','mbHistAutor','mbHistModule','mbHistComment','Layer_name','CDI_INDEX']"
   ]
  },
  {
   "cell_type": "markdown",
   "metadata": {},
   "source": [
    "### A Part"
   ]
  },
  {
   "cell_type": "code",
   "execution_count": 48,
   "metadata": {},
   "outputs": [
    {
     "data": {
      "text/plain": [
       "['/Users/brey/DATA/EMODNET/A4.mnt',\n",
       " '/Users/brey/DATA/EMODNET/A3.mnt',\n",
       " '/Users/brey/DATA/EMODNET/A2.mnt',\n",
       " '/Users/brey/DATA/EMODNET/A1.mnt']"
      ]
     },
     "execution_count": 48,
     "metadata": {},
     "output_type": "execute_result"
    }
   ],
   "source": [
    "afiles = files[:4][::-1]\n",
    "afiles"
   ]
  },
  {
   "cell_type": "code",
   "execution_count": 39,
   "metadata": {},
   "outputs": [],
   "source": [
    "a = xr.open_mfdataset(afiles,concat_dim='LINES')#,data_vars=concat_vars)"
   ]
  },
  {
   "cell_type": "code",
   "execution_count": 43,
   "metadata": {},
   "outputs": [],
   "source": [
    "a = a.drop(drop_vars)"
   ]
  },
  {
   "cell_type": "code",
   "execution_count": 70,
   "metadata": {},
   "outputs": [
    {
     "data": {
      "text/plain": [
       "<xarray.Dataset>\n",
       "Dimensions:              (COLUMNS: 9480, LINES: 28800)\n",
       "Coordinates:\n",
       "  * COLUMNS              (COLUMNS) float64 -36.0 -36.0 -35.99 -35.99 -35.99 ...\n",
       "  * LINES                (LINES) float64 25.0 25.0 25.01 25.01 25.01 25.01 ...\n",
       "Data variables:\n",
       "    DEPTH                (LINES, COLUMNS) float32 dask.array<shape=(28800, 9480), chunksize=(7200, 9480)>\n",
       "    MIN_SOUNDING         (LINES, COLUMNS) float32 dask.array<shape=(28800, 9480), chunksize=(7200, 9480)>\n",
       "    MAX_SOUNDING         (LINES, COLUMNS) float32 dask.array<shape=(28800, 9480), chunksize=(7200, 9480)>\n",
       "    VSOUNDINGS           (LINES, COLUMNS) float64 dask.array<shape=(28800, 9480), chunksize=(7200, 9480)>\n",
       "    STDEV                (LINES, COLUMNS) float32 dask.array<shape=(28800, 9480), chunksize=(7200, 9480)>\n",
       "    CDI                  (LINES, COLUMNS) float32 dask.array<shape=(28800, 9480), chunksize=(7200, 9480)>\n",
       "    DEPTH_SMOOTH         (LINES, COLUMNS) float32 dask.array<shape=(28800, 9480), chunksize=(7200, 9480)>\n",
       "    DEPTH_SMOOTH_OFFSET  (LINES, COLUMNS) float32 dask.array<shape=(28800, 9480), chunksize=(7200, 9480)>\n",
       "    INTERPOLATION_FLAG   (LINES, COLUMNS) float32 dask.array<shape=(28800, 9480), chunksize=(7200, 9480)>\n",
       "Attributes:\n",
       "    CIB_BLOCKS_FOR_UNLIMITED:  1\n",
       "    mbVersion:                 200\n",
       "    mbName:                    A4-export\n",
       "    mbClasse:                   \n",
       "    mbLevel:                   0\n",
       "    mbNbrHistoryRec:           1\n",
       "    mbTimeReference:           Julian date for 1970/01/01 = 2 440 588\n",
       "    mbStartDate:               0\n",
       "    mbStartTime:               0\n",
       "    mbEndDate:                 0\n",
       "    mbEndTime:                 0\n",
       "    mbNorthLatitude:           40.0\n",
       "    mbSouthLatitude:           25.0\n",
       "    mbEastLongitude:           -16.25\n",
       "    mbWestLongitude:           -36.0\n",
       "    mbMeridian180:              \n",
       "    mbGeoDictionnary:           \n",
       "    mbGeoRepresentation:        \n",
       "    mbGeodesicSystem:           \n",
       "    mbEllipsoidName:           WGS-84\n",
       "    mbEllipsoidA:              6378137.0\n",
       "    mbEllipsoidInvF:           0.00335281066474751\n",
       "    mbEllipsoidE2:             0.00669437999014133\n",
       "    mbProjType:                -1\n",
       "    mbProjParameterValue:      [0. 0. 0. 0.]\n",
       "    mbProjParameterCode:       MB_M0,MB_L0,MB_X0,MB_Y0\n",
       "    mbProj4String:             +proj=longlat +ellps=WGS84 +datum=WGS84 +no_defs\n",
       "    Conventions:               CF-1.4\n",
       "    Type:                      DTM\n",
       "    Format:                    STR\n",
       "    Mosaic_type:               \n",
       "    Sounder_type:              0\n",
       "    Number_lines:              7200\n",
       "    Number_columns:            9480\n",
       "    Element_x_size:            0.0020833333333333333\n",
       "    Element_y_size:            0.0020833333333333333\n",
       "    Orientation:               0.0\n",
       "    Latitude_TL:               40.0\n",
       "    Longitude_TL:              -36.0\n",
       "    Latitude_TR:               40.0\n",
       "    Longitude_TR:              -16.25\n",
       "    Latitude_BR:               25.0\n",
       "    Longitude_BR:              -16.25\n",
       "    Latitude_BL:               25.0\n",
       "    Longitude_BL:              -36.0\n",
       "    Xmin_metric:               -36.0\n",
       "    Xmax_metric:               -16.25\n",
       "    Ymin_metric:               25.0\n",
       "    Ymax_metric:               40.0\n",
       "    Number_layers:             9"
      ]
     },
     "execution_count": 70,
     "metadata": {},
     "output_type": "execute_result"
    }
   ],
   "source": [
    "a"
   ]
  },
  {
   "cell_type": "code",
   "execution_count": 44,
   "metadata": {
    "scrolled": false
   },
   "outputs": [
    {
     "name": "stderr",
     "output_type": "stream",
     "text": [
      "/Users/brey/miniconda3/envs/dev/lib/python2.7/site-packages/xarray/conventions.py:748: SerializationWarning: saving variable DEPTH with floating point data as an integer dtype without any _FillValue to use for NaNs\n",
      "  for k, v in iteritems(variables))\n",
      "/Users/brey/miniconda3/envs/dev/lib/python2.7/site-packages/xarray/conventions.py:748: SerializationWarning: saving variable MIN_SOUNDING with floating point data as an integer dtype without any _FillValue to use for NaNs\n",
      "  for k, v in iteritems(variables))\n",
      "/Users/brey/miniconda3/envs/dev/lib/python2.7/site-packages/xarray/conventions.py:748: SerializationWarning: saving variable MAX_SOUNDING with floating point data as an integer dtype without any _FillValue to use for NaNs\n",
      "  for k, v in iteritems(variables))\n",
      "/Users/brey/miniconda3/envs/dev/lib/python2.7/site-packages/xarray/conventions.py:748: SerializationWarning: saving variable VSOUNDINGS with floating point data as an integer dtype without any _FillValue to use for NaNs\n",
      "  for k, v in iteritems(variables))\n",
      "/Users/brey/miniconda3/envs/dev/lib/python2.7/site-packages/xarray/conventions.py:748: SerializationWarning: saving variable STDEV with floating point data as an integer dtype without any _FillValue to use for NaNs\n",
      "  for k, v in iteritems(variables))\n",
      "/Users/brey/miniconda3/envs/dev/lib/python2.7/site-packages/xarray/conventions.py:748: SerializationWarning: saving variable CDI with floating point data as an integer dtype without any _FillValue to use for NaNs\n",
      "  for k, v in iteritems(variables))\n",
      "/Users/brey/miniconda3/envs/dev/lib/python2.7/site-packages/xarray/conventions.py:748: SerializationWarning: saving variable DEPTH_SMOOTH with floating point data as an integer dtype without any _FillValue to use for NaNs\n",
      "  for k, v in iteritems(variables))\n",
      "/Users/brey/miniconda3/envs/dev/lib/python2.7/site-packages/xarray/conventions.py:748: SerializationWarning: saving variable DEPTH_SMOOTH_OFFSET with floating point data as an integer dtype without any _FillValue to use for NaNs\n",
      "  for k, v in iteritems(variables))\n",
      "/Users/brey/miniconda3/envs/dev/lib/python2.7/site-packages/xarray/conventions.py:748: SerializationWarning: saving variable INTERPOLATION_FLAG with floating point data as an integer dtype without any _FillValue to use for NaNs\n",
      "  for k, v in iteritems(variables))\n"
     ]
    }
   ],
   "source": [
    "a.to_netcdf('/Users/brey/DATA/EMODNET/A.nc')"
   ]
  },
  {
   "cell_type": "code",
   "execution_count": 45,
   "metadata": {},
   "outputs": [],
   "source": [
    "at=xr.open_mfdataset('/Users/brey/DATA/EMODNET/A.nc')"
   ]
  },
  {
   "cell_type": "code",
   "execution_count": 46,
   "metadata": {},
   "outputs": [
    {
     "data": {
      "text/plain": [
       "<xarray.Dataset>\n",
       "Dimensions:              (COLUMNS: 9480, LINES: 28800)\n",
       "Coordinates:\n",
       "  * COLUMNS              (COLUMNS) float64 -36.0 -36.0 -35.99 -35.99 -35.99 ...\n",
       "  * LINES                (LINES) float64 25.0 25.0 25.01 25.01 25.01 25.01 ...\n",
       "Data variables:\n",
       "    DEPTH                (LINES, COLUMNS) float32 dask.array<shape=(28800, 9480), chunksize=(28800, 9480)>\n",
       "    MIN_SOUNDING         (LINES, COLUMNS) float32 dask.array<shape=(28800, 9480), chunksize=(28800, 9480)>\n",
       "    MAX_SOUNDING         (LINES, COLUMNS) float32 dask.array<shape=(28800, 9480), chunksize=(28800, 9480)>\n",
       "    VSOUNDINGS           (LINES, COLUMNS) float64 dask.array<shape=(28800, 9480), chunksize=(28800, 9480)>\n",
       "    STDEV                (LINES, COLUMNS) float32 dask.array<shape=(28800, 9480), chunksize=(28800, 9480)>\n",
       "    CDI                  (LINES, COLUMNS) float32 dask.array<shape=(28800, 9480), chunksize=(28800, 9480)>\n",
       "    DEPTH_SMOOTH         (LINES, COLUMNS) float32 dask.array<shape=(28800, 9480), chunksize=(28800, 9480)>\n",
       "    DEPTH_SMOOTH_OFFSET  (LINES, COLUMNS) float32 dask.array<shape=(28800, 9480), chunksize=(28800, 9480)>\n",
       "    INTERPOLATION_FLAG   (LINES, COLUMNS) float32 dask.array<shape=(28800, 9480), chunksize=(28800, 9480)>\n",
       "Attributes:\n",
       "    CIB_BLOCKS_FOR_UNLIMITED:  1\n",
       "    mbVersion:                 200\n",
       "    mbName:                    A4-export\n",
       "    mbClasse:                   \n",
       "    mbLevel:                   0\n",
       "    mbNbrHistoryRec:           1\n",
       "    mbTimeReference:           Julian date for 1970/01/01 = 2 440 588\n",
       "    mbStartDate:               0\n",
       "    mbStartTime:               0\n",
       "    mbEndDate:                 0\n",
       "    mbEndTime:                 0\n",
       "    mbNorthLatitude:           40.0\n",
       "    mbSouthLatitude:           25.0\n",
       "    mbEastLongitude:           -16.25\n",
       "    mbWestLongitude:           -36.0\n",
       "    mbMeridian180:              \n",
       "    mbGeoDictionnary:           \n",
       "    mbGeoRepresentation:        \n",
       "    mbGeodesicSystem:           \n",
       "    mbEllipsoidName:           WGS-84\n",
       "    mbEllipsoidA:              6378137.0\n",
       "    mbEllipsoidInvF:           0.00335281066474751\n",
       "    mbEllipsoidE2:             0.00669437999014133\n",
       "    mbProjType:                -1\n",
       "    mbProjParameterValue:      [0. 0. 0. 0.]\n",
       "    mbProjParameterCode:       MB_M0,MB_L0,MB_X0,MB_Y0\n",
       "    mbProj4String:             +proj=longlat +ellps=WGS84 +datum=WGS84 +no_defs\n",
       "    Conventions:               CF-1.4\n",
       "    Type:                      DTM\n",
       "    Format:                    STR\n",
       "    Mosaic_type:               \n",
       "    Sounder_type:              0\n",
       "    Number_lines:              7200\n",
       "    Number_columns:            9480\n",
       "    Element_x_size:            0.0020833333333333333\n",
       "    Element_y_size:            0.0020833333333333333\n",
       "    Orientation:               0.0\n",
       "    Latitude_TL:               40.0\n",
       "    Longitude_TL:              -36.0\n",
       "    Latitude_TR:               40.0\n",
       "    Longitude_TR:              -16.25\n",
       "    Latitude_BR:               25.0\n",
       "    Longitude_BR:              -16.25\n",
       "    Latitude_BL:               25.0\n",
       "    Longitude_BL:              -36.0\n",
       "    Xmin_metric:               -36.0\n",
       "    Xmax_metric:               -16.25\n",
       "    Ymin_metric:               25.0\n",
       "    Ymax_metric:               40.0\n",
       "    Number_layers:             9"
      ]
     },
     "execution_count": 46,
     "metadata": {},
     "output_type": "execute_result"
    }
   ],
   "source": [
    "at"
   ]
  },
  {
   "cell_type": "code",
   "execution_count": 47,
   "metadata": {},
   "outputs": [
    {
     "data": {
      "text/plain": [
       "<matplotlib.collections.QuadMesh at 0x3221eb510>"
      ]
     },
     "execution_count": 47,
     "metadata": {},
     "output_type": "execute_result"
    },
    {
     "data": {
      "image/png": "[encoded data removed]",
      "text/plain": [
       "<Figure size 432x288 with 2 Axes>"
      ]
     },
     "metadata": {},
     "output_type": "display_data"
    }
   ],
   "source": [
    "at.DEPTH.plot()"
   ]
  },
  {
   "cell_type": "markdown",
   "metadata": {},
   "source": [
    "### B Part"
   ]
  },
  {
   "cell_type": "code",
   "execution_count": 49,
   "metadata": {},
   "outputs": [
    {
     "data": {
      "text/plain": [
       "['/Users/brey/DATA/EMODNET/B4.mnt',\n",
       " '/Users/brey/DATA/EMODNET/B3.mnt',\n",
       " '/Users/brey/DATA/EMODNET/B2.mnt',\n",
       " '/Users/brey/DATA/EMODNET/B1.mnt']"
      ]
     },
     "execution_count": 49,
     "metadata": {},
     "output_type": "execute_result"
    }
   ],
   "source": [
    "bfiles = files[4:8][::-1]\n",
    "bfiles"
   ]
  },
  {
   "cell_type": "code",
   "execution_count": 50,
   "metadata": {},
   "outputs": [],
   "source": [
    "b = xr.open_mfdataset(bfiles,concat_dim='LINES')#,data_vars=concat_vars)"
   ]
  },
  {
   "cell_type": "code",
   "execution_count": 51,
   "metadata": {},
   "outputs": [],
   "source": [
    "b = b.drop(drop_vars)"
   ]
  },
  {
   "cell_type": "code",
   "execution_count": 52,
   "metadata": {
    "scrolled": false
   },
   "outputs": [],
   "source": [
    "b.to_netcdf('/Users/brey/DATA/EMODNET/B.nc')"
   ]
  },
  {
   "cell_type": "code",
   "execution_count": 74,
   "metadata": {},
   "outputs": [
    {
     "data": {
      "text/plain": [
       "<xarray.Dataset>\n",
       "Dimensions:              (COLUMNS: 9480, LINES: 28800)\n",
       "Coordinates:\n",
       "  * COLUMNS              (COLUMNS) float64 -16.25 -16.25 -16.24 -16.24 ...\n",
       "  * LINES                (LINES) float64 25.0 25.0 25.01 25.01 25.01 25.01 ...\n",
       "Data variables:\n",
       "    DEPTH                (LINES, COLUMNS) float32 dask.array<shape=(28800, 9480), chunksize=(28800, 9480)>\n",
       "    MIN_SOUNDING         (LINES, COLUMNS) float32 dask.array<shape=(28800, 9480), chunksize=(28800, 9480)>\n",
       "    MAX_SOUNDING         (LINES, COLUMNS) float32 dask.array<shape=(28800, 9480), chunksize=(28800, 9480)>\n",
       "    VSOUNDINGS           (LINES, COLUMNS) float64 dask.array<shape=(28800, 9480), chunksize=(28800, 9480)>\n",
       "    STDEV                (LINES, COLUMNS) float32 dask.array<shape=(28800, 9480), chunksize=(28800, 9480)>\n",
       "    CDI                  (LINES, COLUMNS) float32 dask.array<shape=(28800, 9480), chunksize=(28800, 9480)>\n",
       "    DEPTH_SMOOTH         (LINES, COLUMNS) float32 dask.array<shape=(28800, 9480), chunksize=(28800, 9480)>\n",
       "    DEPTH_SMOOTH_OFFSET  (LINES, COLUMNS) float32 dask.array<shape=(28800, 9480), chunksize=(28800, 9480)>\n",
       "    INTERPOLATION_FLAG   (LINES, COLUMNS) float32 dask.array<shape=(28800, 9480), chunksize=(28800, 9480)>\n",
       "Attributes:\n",
       "    CIB_BLOCKS_FOR_UNLIMITED:  1\n",
       "    mbVersion:                 200\n",
       "    mbName:                    B4-export\n",
       "    mbClasse:                   \n",
       "    mbLevel:                   0\n",
       "    mbNbrHistoryRec:           1\n",
       "    mbTimeReference:           Julian date for 1970/01/01 = 2 440 588\n",
       "    mbStartDate:               0\n",
       "    mbStartTime:               0\n",
       "    mbEndDate:                 0\n",
       "    mbEndTime:                 0\n",
       "    mbNorthLatitude:           40.0\n",
       "    mbSouthLatitude:           25.0\n",
       "    mbEastLongitude:           3.5\n",
       "    mbWestLongitude:           -16.25\n",
       "    mbMeridian180:              \n",
       "    mbGeoDictionnary:           \n",
       "    mbGeoRepresentation:        \n",
       "    mbGeodesicSystem:           \n",
       "    mbEllipsoidName:           WGS-84\n",
       "    mbEllipsoidA:              6378137.0\n",
       "    mbEllipsoidInvF:           0.00335281066474751\n",
       "    mbEllipsoidE2:             0.00669437999014133\n",
       "    mbProjType:                -1\n",
       "    mbProjParameterValue:      [0. 0. 0. 0.]\n",
       "    mbProjParameterCode:       MB_M0,MB_L0,MB_X0,MB_Y0\n",
       "    mbProj4String:             +proj=longlat +ellps=WGS84 +datum=WGS84 +no_defs\n",
       "    Conventions:               CF-1.4\n",
       "    Type:                      DTM\n",
       "    Format:                    STR\n",
       "    Mosaic_type:               \n",
       "    Sounder_type:              0\n",
       "    Number_lines:              7200\n",
       "    Number_columns:            9480\n",
       "    Element_x_size:            0.0020833333333333333\n",
       "    Element_y_size:            0.0020833333333333333\n",
       "    Orientation:               0.0\n",
       "    Latitude_TL:               40.0\n",
       "    Longitude_TL:              -16.25\n",
       "    Latitude_TR:               40.0\n",
       "    Longitude_TR:              3.5\n",
       "    Latitude_BR:               25.0\n",
       "    Longitude_BR:              3.5\n",
       "    Latitude_BL:               25.0\n",
       "    Longitude_BL:              -16.25\n",
       "    Xmin_metric:               -16.25\n",
       "    Xmax_metric:               3.5\n",
       "    Ymin_metric:               25.0\n",
       "    Ymax_metric:               40.0\n",
       "    Number_layers:             9"
      ]
     },
     "execution_count": 74,
     "metadata": {},
     "output_type": "execute_result"
    }
   ],
   "source": [
    "bt=xr.open_mfdataset('/Users/brey/DATA/EMODNET/B.nc')\n",
    "\n",
    "bt"
   ]
  },
  {
   "cell_type": "markdown",
   "metadata": {},
   "source": [
    "### C Part"
   ]
  },
  {
   "cell_type": "code",
   "execution_count": 54,
   "metadata": {},
   "outputs": [
    {
     "data": {
      "text/plain": [
       "['/Users/brey/DATA/EMODNET/C4.mnt',\n",
       " '/Users/brey/DATA/EMODNET/C3.mnt',\n",
       " '/Users/brey/DATA/EMODNET/C2.mnt',\n",
       " '/Users/brey/DATA/EMODNET/C1.mnt']"
      ]
     },
     "execution_count": 54,
     "metadata": {},
     "output_type": "execute_result"
    }
   ],
   "source": [
    "cfiles = files[8:12][::-1]\n",
    "cfiles"
   ]
  },
  {
   "cell_type": "code",
   "execution_count": 55,
   "metadata": {},
   "outputs": [],
   "source": [
    "c = xr.open_mfdataset(cfiles,concat_dim='LINES')#,data_vars=concat_vars)"
   ]
  },
  {
   "cell_type": "code",
   "execution_count": 56,
   "metadata": {},
   "outputs": [],
   "source": [
    "c = c.drop(drop_vars)"
   ]
  },
  {
   "cell_type": "code",
   "execution_count": 57,
   "metadata": {
    "scrolled": false
   },
   "outputs": [],
   "source": [
    "c.to_netcdf('/Users/brey/DATA/EMODNET/C.nc')"
   ]
  },
  {
   "cell_type": "code",
   "execution_count": 75,
   "metadata": {},
   "outputs": [
    {
     "data": {
      "text/plain": [
       "<xarray.Dataset>\n",
       "Dimensions:              (COLUMNS: 9480, LINES: 26272)\n",
       "Coordinates:\n",
       "  * COLUMNS              (COLUMNS) float64 3.501 3.503 3.505 3.507 3.509 ...\n",
       "  * LINES                (LINES) float64 30.27 30.27 30.27 30.27 30.28 30.28 ...\n",
       "Data variables:\n",
       "    DEPTH                (LINES, COLUMNS) float32 dask.array<shape=(26272, 9480), chunksize=(26272, 9480)>\n",
       "    MIN_SOUNDING         (LINES, COLUMNS) float32 dask.array<shape=(26272, 9480), chunksize=(26272, 9480)>\n",
       "    MAX_SOUNDING         (LINES, COLUMNS) float32 dask.array<shape=(26272, 9480), chunksize=(26272, 9480)>\n",
       "    VSOUNDINGS           (LINES, COLUMNS) float64 dask.array<shape=(26272, 9480), chunksize=(26272, 9480)>\n",
       "    STDEV                (LINES, COLUMNS) float32 dask.array<shape=(26272, 9480), chunksize=(26272, 9480)>\n",
       "    CDI                  (LINES, COLUMNS) float32 dask.array<shape=(26272, 9480), chunksize=(26272, 9480)>\n",
       "    DEPTH_SMOOTH         (LINES, COLUMNS) float32 dask.array<shape=(26272, 9480), chunksize=(26272, 9480)>\n",
       "    DEPTH_SMOOTH_OFFSET  (LINES, COLUMNS) float32 dask.array<shape=(26272, 9480), chunksize=(26272, 9480)>\n",
       "    INTERPOLATION_FLAG   (LINES, COLUMNS) float32 dask.array<shape=(26272, 9480), chunksize=(26272, 9480)>\n",
       "Attributes:\n",
       "    CIB_BLOCKS_FOR_UNLIMITED:  1\n",
       "    mbVersion:                 200\n",
       "    mbName:                    C4-export\n",
       "    mbClasse:                   \n",
       "    mbLevel:                   0\n",
       "    mbNbrHistoryRec:           1\n",
       "    mbTimeReference:           Julian date for 1970/01/01 = 2 440 588\n",
       "    mbStartDate:               0\n",
       "    mbStartTime:               0\n",
       "    mbEndDate:                 0\n",
       "    mbEndTime:                 0\n",
       "    mbNorthLatitude:           40.0\n",
       "    mbSouthLatitude:           30.266666666666666\n",
       "    mbEastLongitude:           23.25\n",
       "    mbWestLongitude:           3.5\n",
       "    mbMeridian180:              \n",
       "    mbGeoDictionnary:           \n",
       "    mbGeoRepresentation:        \n",
       "    mbGeodesicSystem:           \n",
       "    mbEllipsoidName:           WGS-84\n",
       "    mbEllipsoidA:              6378137.0\n",
       "    mbEllipsoidInvF:           0.00335281066474751\n",
       "    mbEllipsoidE2:             0.00669437999014133\n",
       "    mbProjType:                -1\n",
       "    mbProjParameterValue:      [0. 0. 0. 0.]\n",
       "    mbProjParameterCode:       MB_M0,MB_L0,MB_X0,MB_Y0\n",
       "    mbProj4String:             +proj=longlat +ellps=WGS84 +datum=WGS84 +no_defs\n",
       "    Conventions:               CF-1.4\n",
       "    Type:                      DTM\n",
       "    Format:                    STR\n",
       "    Mosaic_type:               \n",
       "    Sounder_type:              0\n",
       "    Number_lines:              4672\n",
       "    Number_columns:            9480\n",
       "    Element_x_size:            0.0020833333333333333\n",
       "    Element_y_size:            0.0020833333333333333\n",
       "    Orientation:               0.0\n",
       "    Latitude_TL:               40.0\n",
       "    Longitude_TL:              3.5\n",
       "    Latitude_TR:               40.0\n",
       "    Longitude_TR:              23.25\n",
       "    Latitude_BR:               30.266666666666666\n",
       "    Longitude_BR:              23.25\n",
       "    Latitude_BL:               30.266666666666666\n",
       "    Longitude_BL:              3.5\n",
       "    Xmin_metric:               3.5\n",
       "    Xmax_metric:               23.25\n",
       "    Ymin_metric:               30.266666666666666\n",
       "    Ymax_metric:               40.0\n",
       "    Number_layers:             9"
      ]
     },
     "execution_count": 75,
     "metadata": {},
     "output_type": "execute_result"
    }
   ],
   "source": [
    "ct=xr.open_mfdataset('/Users/brey/DATA/EMODNET/C.nc')\n",
    "\n",
    "ct"
   ]
  },
  {
   "cell_type": "markdown",
   "metadata": {},
   "source": [
    "### D Part"
   ]
  },
  {
   "cell_type": "code",
   "execution_count": 58,
   "metadata": {},
   "outputs": [
    {
     "data": {
      "text/plain": [
       "['/Users/brey/DATA/EMODNET/D4.mnt',\n",
       " '/Users/brey/DATA/EMODNET/D3.mnt',\n",
       " '/Users/brey/DATA/EMODNET/D2.mnt',\n",
       " '/Users/brey/DATA/EMODNET/D1.mnt']"
      ]
     },
     "execution_count": 58,
     "metadata": {},
     "output_type": "execute_result"
    }
   ],
   "source": [
    "dfiles = files[12:][::-1]\n",
    "dfiles"
   ]
  },
  {
   "cell_type": "code",
   "execution_count": 59,
   "metadata": {},
   "outputs": [],
   "source": [
    "d = xr.open_mfdataset(dfiles,concat_dim='LINES')#,data_vars=concat_vars)"
   ]
  },
  {
   "cell_type": "code",
   "execution_count": 60,
   "metadata": {},
   "outputs": [],
   "source": [
    "d = d.drop(drop_vars)"
   ]
  },
  {
   "cell_type": "code",
   "execution_count": 61,
   "metadata": {
    "scrolled": false
   },
   "outputs": [],
   "source": [
    "d.to_netcdf('/Users/brey/DATA/EMODNET/D.nc')"
   ]
  },
  {
   "cell_type": "code",
   "execution_count": 73,
   "metadata": {},
   "outputs": [
    {
     "data": {
      "text/plain": [
       "<xarray.Dataset>\n",
       "Dimensions:              (COLUMNS: 9480, LINES: 24155)\n",
       "Coordinates:\n",
       "  * COLUMNS              (COLUMNS) float64 23.25 23.25 23.26 23.26 23.26 ...\n",
       "  * LINES                (LINES) float64 25.0 25.0 25.01 25.01 25.01 25.01 ...\n",
       "Data variables:\n",
       "    DEPTH                (LINES, COLUMNS) float32 dask.array<shape=(24155, 9480), chunksize=(24155, 9480)>\n",
       "    MIN_SOUNDING         (LINES, COLUMNS) float32 dask.array<shape=(24155, 9480), chunksize=(24155, 9480)>\n",
       "    MAX_SOUNDING         (LINES, COLUMNS) float32 dask.array<shape=(24155, 9480), chunksize=(24155, 9480)>\n",
       "    VSOUNDINGS           (LINES, COLUMNS) float64 dask.array<shape=(24155, 9480), chunksize=(24155, 9480)>\n",
       "    STDEV                (LINES, COLUMNS) float32 dask.array<shape=(24155, 9480), chunksize=(24155, 9480)>\n",
       "    CDI                  (LINES, COLUMNS) float32 dask.array<shape=(24155, 9480), chunksize=(24155, 9480)>\n",
       "    DEPTH_SMOOTH         (LINES, COLUMNS) float32 dask.array<shape=(24155, 9480), chunksize=(24155, 9480)>\n",
       "    DEPTH_SMOOTH_OFFSET  (LINES, COLUMNS) float32 dask.array<shape=(24155, 9480), chunksize=(24155, 9480)>\n",
       "    INTERPOLATION_FLAG   (LINES, COLUMNS) float32 dask.array<shape=(24155, 9480), chunksize=(24155, 9480)>\n",
       "Attributes:\n",
       "    CIB_BLOCKS_FOR_UNLIMITED:  1\n",
       "    mbVersion:                 200\n",
       "    mbName:                    D4-export\n",
       "    mbClasse:                   \n",
       "    mbLevel:                   0\n",
       "    mbNbrHistoryRec:           1\n",
       "    mbTimeReference:           Julian date for 1970/01/01 = 2 440 588\n",
       "    mbStartDate:               0\n",
       "    mbStartTime:               0\n",
       "    mbEndDate:                 0\n",
       "    mbEndTime:                 0\n",
       "    mbNorthLatitude:           40.0\n",
       "    mbSouthLatitude:           25.0\n",
       "    mbEastLongitude:           37.27291666666667\n",
       "    mbWestLongitude:           23.25\n",
       "    mbMeridian180:              \n",
       "    mbGeoDictionnary:           \n",
       "    mbGeoRepresentation:        \n",
       "    mbGeodesicSystem:           \n",
       "    mbEllipsoidName:           WGS-84\n",
       "    mbEllipsoidA:              6378137.0\n",
       "    mbEllipsoidInvF:           0.00335281066474751\n",
       "    mbEllipsoidE2:             0.00669437999014133\n",
       "    mbProjType:                -1\n",
       "    mbProjParameterValue:      [0. 0. 0. 0.]\n",
       "    mbProjParameterCode:       MB_M0,MB_L0,MB_X0,MB_Y0\n",
       "    mbProj4String:             +proj=longlat +ellps=WGS84 +datum=WGS84 +no_defs\n",
       "    Conventions:               CF-1.4\n",
       "    Type:                      DTM\n",
       "    Format:                    STR\n",
       "    Mosaic_type:               \n",
       "    Sounder_type:              0\n",
       "    Number_lines:              7200\n",
       "    Number_columns:            6731\n",
       "    Element_x_size:            0.0020833333333333333\n",
       "    Element_y_size:            0.0020833333333333333\n",
       "    Orientation:               0.0\n",
       "    Latitude_TL:               40.0\n",
       "    Longitude_TL:              23.25\n",
       "    Latitude_TR:               40.0\n",
       "    Longitude_TR:              37.27291666666667\n",
       "    Latitude_BR:               25.0\n",
       "    Longitude_BR:              37.27291666666667\n",
       "    Latitude_BL:               25.0\n",
       "    Longitude_BL:              23.25\n",
       "    Xmin_metric:               23.25\n",
       "    Xmax_metric:               37.27291666666667\n",
       "    Ymin_metric:               25.0\n",
       "    Ymax_metric:               40.0\n",
       "    Number_layers:             9"
      ]
     },
     "execution_count": 73,
     "metadata": {},
     "output_type": "execute_result"
    }
   ],
   "source": [
    "dt=xr.open_mfdataset('/Users/brey/DATA/EMODNET/D.nc')\n",
    "\n",
    "dt"
   ]
  },
  {
   "cell_type": "markdown",
   "metadata": {},
   "source": [
    "### Put All together"
   ]
  },
  {
   "cell_type": "code",
   "execution_count": 102,
   "metadata": {},
   "outputs": [
    {
     "data": {
      "text/plain": [
       "<xarray.Dataset>\n",
       "Dimensions:              (COLUMNS: 18960, LINES: 28800)\n",
       "Coordinates:\n",
       "  * COLUMNS              (COLUMNS) float64 -36.0 -36.0 -35.99 -35.99 -35.99 ...\n",
       "  * LINES                (LINES) float64 25.0 25.0 25.01 25.01 25.01 25.01 ...\n",
       "Data variables:\n",
       "    DEPTH                (LINES, COLUMNS) float32 dask.array<shape=(28800, 18960), chunksize=(28800, 18960)>\n",
       "    MIN_SOUNDING         (LINES, COLUMNS) float32 dask.array<shape=(28800, 18960), chunksize=(28800, 18960)>\n",
       "    MAX_SOUNDING         (LINES, COLUMNS) float32 dask.array<shape=(28800, 18960), chunksize=(28800, 18960)>\n",
       "    VSOUNDINGS           (LINES, COLUMNS) float64 dask.array<shape=(28800, 18960), chunksize=(28800, 18960)>\n",
       "    STDEV                (LINES, COLUMNS) float32 dask.array<shape=(28800, 18960), chunksize=(28800, 18960)>\n",
       "    CDI                  (LINES, COLUMNS) float32 dask.array<shape=(28800, 18960), chunksize=(28800, 18960)>\n",
       "    DEPTH_SMOOTH         (LINES, COLUMNS) float32 dask.array<shape=(28800, 18960), chunksize=(28800, 18960)>\n",
       "    DEPTH_SMOOTH_OFFSET  (LINES, COLUMNS) float32 dask.array<shape=(28800, 18960), chunksize=(28800, 18960)>\n",
       "    INTERPOLATION_FLAG   (LINES, COLUMNS) float32 dask.array<shape=(28800, 18960), chunksize=(28800, 18960)>\n",
       "Attributes:\n",
       "    CIB_BLOCKS_FOR_UNLIMITED:  1\n",
       "    mbVersion:                 200\n",
       "    mbName:                    A4-export\n",
       "    mbClasse:                   \n",
       "    mbLevel:                   0\n",
       "    mbNbrHistoryRec:           1\n",
       "    mbTimeReference:           Julian date for 1970/01/01 = 2 440 588\n",
       "    mbStartDate:               0\n",
       "    mbStartTime:               0\n",
       "    mbEndDate:                 0\n",
       "    mbEndTime:                 0\n",
       "    mbNorthLatitude:           40.0\n",
       "    mbSouthLatitude:           25.0\n",
       "    mbEastLongitude:           -16.25\n",
       "    mbWestLongitude:           -36.0\n",
       "    mbMeridian180:              \n",
       "    mbGeoDictionnary:           \n",
       "    mbGeoRepresentation:        \n",
       "    mbGeodesicSystem:           \n",
       "    mbEllipsoidName:           WGS-84\n",
       "    mbEllipsoidA:              6378137.0\n",
       "    mbEllipsoidInvF:           0.00335281066474751\n",
       "    mbEllipsoidE2:             0.00669437999014133\n",
       "    mbProjType:                -1\n",
       "    mbProjParameterValue:      [0. 0. 0. 0.]\n",
       "    mbProjParameterCode:       MB_M0,MB_L0,MB_X0,MB_Y0\n",
       "    mbProj4String:             +proj=longlat +ellps=WGS84 +datum=WGS84 +no_defs\n",
       "    Conventions:               CF-1.4\n",
       "    Type:                      DTM\n",
       "    Format:                    STR\n",
       "    Mosaic_type:               \n",
       "    Sounder_type:              0\n",
       "    Number_lines:              7200\n",
       "    Number_columns:            9480\n",
       "    Element_x_size:            0.0020833333333333333\n",
       "    Element_y_size:            0.0020833333333333333\n",
       "    Orientation:               0.0\n",
       "    Latitude_TL:               40.0\n",
       "    Longitude_TL:              -36.0\n",
       "    Latitude_TR:               40.0\n",
       "    Longitude_TR:              -16.25\n",
       "    Latitude_BR:               25.0\n",
       "    Longitude_BR:              -16.25\n",
       "    Latitude_BL:               25.0\n",
       "    Longitude_BL:              -36.0\n",
       "    Xmin_metric:               -36.0\n",
       "    Xmax_metric:               -16.25\n",
       "    Ymin_metric:               25.0\n",
       "    Ymax_metric:               40.0\n",
       "    Number_layers:             9"
      ]
     },
     "execution_count": 102,
     "metadata": {},
     "output_type": "execute_result"
    }
   ],
   "source": [
    "at.combine_first(bt)"
   ]
  },
  {
   "cell_type": "code",
   "execution_count": 101,
   "metadata": {},
   "outputs": [
    {
     "data": {
      "text/plain": [
       "<xarray.Dataset>\n",
       "Dimensions:              (COLUMNS: 18960, LINES: 29622)\n",
       "Coordinates:\n",
       "  * LINES                (LINES) float64 25.0 25.0 25.01 25.01 25.01 25.01 ...\n",
       "  * COLUMNS              (COLUMNS) float64 -16.25 -16.25 -16.24 -16.24 ...\n",
       "Data variables:\n",
       "    DEPTH                (LINES, COLUMNS) float32 dask.array<shape=(29622, 18960), chunksize=(29622, 18960)>\n",
       "    MIN_SOUNDING         (LINES, COLUMNS) float32 dask.array<shape=(29622, 18960), chunksize=(29622, 18960)>\n",
       "    MAX_SOUNDING         (LINES, COLUMNS) float32 dask.array<shape=(29622, 18960), chunksize=(29622, 18960)>\n",
       "    VSOUNDINGS           (LINES, COLUMNS) float64 dask.array<shape=(29622, 18960), chunksize=(29622, 18960)>\n",
       "    STDEV                (LINES, COLUMNS) float32 dask.array<shape=(29622, 18960), chunksize=(29622, 18960)>\n",
       "    CDI                  (LINES, COLUMNS) float32 dask.array<shape=(29622, 18960), chunksize=(29622, 18960)>\n",
       "    DEPTH_SMOOTH         (LINES, COLUMNS) float32 dask.array<shape=(29622, 18960), chunksize=(29622, 18960)>\n",
       "    DEPTH_SMOOTH_OFFSET  (LINES, COLUMNS) float32 dask.array<shape=(29622, 18960), chunksize=(29622, 18960)>\n",
       "    INTERPOLATION_FLAG   (LINES, COLUMNS) float32 dask.array<shape=(29622, 18960), chunksize=(29622, 18960)>\n",
       "Attributes:\n",
       "    CIB_BLOCKS_FOR_UNLIMITED:  1\n",
       "    mbVersion:                 200\n",
       "    mbName:                    B4-export\n",
       "    mbClasse:                   \n",
       "    mbLevel:                   0\n",
       "    mbNbrHistoryRec:           1\n",
       "    mbTimeReference:           Julian date for 1970/01/01 = 2 440 588\n",
       "    mbStartDate:               0\n",
       "    mbStartTime:               0\n",
       "    mbEndDate:                 0\n",
       "    mbEndTime:                 0\n",
       "    mbNorthLatitude:           40.0\n",
       "    mbSouthLatitude:           25.0\n",
       "    mbEastLongitude:           3.5\n",
       "    mbWestLongitude:           -16.25\n",
       "    mbMeridian180:              \n",
       "    mbGeoDictionnary:           \n",
       "    mbGeoRepresentation:        \n",
       "    mbGeodesicSystem:           \n",
       "    mbEllipsoidName:           WGS-84\n",
       "    mbEllipsoidA:              6378137.0\n",
       "    mbEllipsoidInvF:           0.00335281066474751\n",
       "    mbEllipsoidE2:             0.00669437999014133\n",
       "    mbProjType:                -1\n",
       "    mbProjParameterValue:      [0. 0. 0. 0.]\n",
       "    mbProjParameterCode:       MB_M0,MB_L0,MB_X0,MB_Y0\n",
       "    mbProj4String:             +proj=longlat +ellps=WGS84 +datum=WGS84 +no_defs\n",
       "    Conventions:               CF-1.4\n",
       "    Type:                      DTM\n",
       "    Format:                    STR\n",
       "    Mosaic_type:               \n",
       "    Sounder_type:              0\n",
       "    Number_lines:              7200\n",
       "    Number_columns:            9480\n",
       "    Element_x_size:            0.0020833333333333333\n",
       "    Element_y_size:            0.0020833333333333333\n",
       "    Orientation:               0.0\n",
       "    Latitude_TL:               40.0\n",
       "    Longitude_TL:              -16.25\n",
       "    Latitude_TR:               40.0\n",
       "    Longitude_TR:              3.5\n",
       "    Latitude_BR:               25.0\n",
       "    Longitude_BR:              3.5\n",
       "    Latitude_BL:               25.0\n",
       "    Longitude_BL:              -16.25\n",
       "    Xmin_metric:               -16.25\n",
       "    Xmax_metric:               3.5\n",
       "    Ymin_metric:               25.0\n",
       "    Ymax_metric:               40.0\n",
       "    Number_layers:             9"
      ]
     },
     "execution_count": 101,
     "metadata": {},
     "output_type": "execute_result"
    }
   ],
   "source": [
    "bt.combine_first(ct)"
   ]
  },
  {
   "cell_type": "code",
   "execution_count": 98,
   "metadata": {},
   "outputs": [
    {
     "data": {
      "text/plain": [
       "<xarray.Dataset>\n",
       "Dimensions:              (COLUMNS: 18960, LINES: 29622)\n",
       "Coordinates:\n",
       "  * LINES                (LINES) float64 25.0 25.0 25.01 25.01 25.01 25.01 ...\n",
       "  * COLUMNS              (COLUMNS) float64 -16.25 -16.25 -16.24 -16.24 ...\n",
       "Data variables:\n",
       "    DEPTH                (LINES, COLUMNS) float32 dask.array<shape=(29622, 18960), chunksize=(29622, 9480)>\n",
       "    MIN_SOUNDING         (LINES, COLUMNS) float32 dask.array<shape=(29622, 18960), chunksize=(29622, 9480)>\n",
       "    MAX_SOUNDING         (LINES, COLUMNS) float32 dask.array<shape=(29622, 18960), chunksize=(29622, 9480)>\n",
       "    VSOUNDINGS           (LINES, COLUMNS) float64 dask.array<shape=(29622, 18960), chunksize=(29622, 9480)>\n",
       "    STDEV                (LINES, COLUMNS) float32 dask.array<shape=(29622, 18960), chunksize=(29622, 9480)>\n",
       "    CDI                  (LINES, COLUMNS) float32 dask.array<shape=(29622, 18960), chunksize=(29622, 9480)>\n",
       "    DEPTH_SMOOTH         (LINES, COLUMNS) float32 dask.array<shape=(29622, 18960), chunksize=(29622, 9480)>\n",
       "    DEPTH_SMOOTH_OFFSET  (LINES, COLUMNS) float32 dask.array<shape=(29622, 18960), chunksize=(29622, 9480)>\n",
       "    INTERPOLATION_FLAG   (LINES, COLUMNS) float32 dask.array<shape=(29622, 18960), chunksize=(29622, 9480)>\n",
       "Attributes:\n",
       "    CIB_BLOCKS_FOR_UNLIMITED:  1\n",
       "    mbVersion:                 200\n",
       "    mbName:                    B4-export\n",
       "    mbClasse:                   \n",
       "    mbLevel:                   0\n",
       "    mbNbrHistoryRec:           1\n",
       "    mbTimeReference:           Julian date for 1970/01/01 = 2 440 588\n",
       "    mbStartDate:               0\n",
       "    mbStartTime:               0\n",
       "    mbEndDate:                 0\n",
       "    mbEndTime:                 0\n",
       "    mbNorthLatitude:           40.0\n",
       "    mbSouthLatitude:           25.0\n",
       "    mbEastLongitude:           3.5\n",
       "    mbWestLongitude:           -16.25\n",
       "    mbMeridian180:              \n",
       "    mbGeoDictionnary:           \n",
       "    mbGeoRepresentation:        \n",
       "    mbGeodesicSystem:           \n",
       "    mbEllipsoidName:           WGS-84\n",
       "    mbEllipsoidA:              6378137.0\n",
       "    mbEllipsoidInvF:           0.00335281066474751\n",
       "    mbEllipsoidE2:             0.00669437999014133\n",
       "    mbProjType:                -1\n",
       "    mbProjParameterValue:      [0. 0. 0. 0.]\n",
       "    mbProjParameterCode:       MB_M0,MB_L0,MB_X0,MB_Y0\n",
       "    mbProj4String:             +proj=longlat +ellps=WGS84 +datum=WGS84 +no_defs\n",
       "    Conventions:               CF-1.4\n",
       "    Type:                      DTM\n",
       "    Format:                    STR\n",
       "    Mosaic_type:               \n",
       "    Sounder_type:              0\n",
       "    Number_lines:              7200\n",
       "    Number_columns:            9480\n",
       "    Element_x_size:            0.0020833333333333333\n",
       "    Element_y_size:            0.0020833333333333333\n",
       "    Orientation:               0.0\n",
       "    Latitude_TL:               40.0\n",
       "    Longitude_TL:              -16.25\n",
       "    Latitude_TR:               40.0\n",
       "    Longitude_TR:              3.5\n",
       "    Latitude_BR:               25.0\n",
       "    Longitude_BR:              3.5\n",
       "    Latitude_BL:               25.0\n",
       "    Longitude_BL:              -16.25\n",
       "    Xmin_metric:               -16.25\n",
       "    Xmax_metric:               3.5\n",
       "    Ymin_metric:               25.0\n",
       "    Ymax_metric:               40.0\n",
       "    Number_layers:             9"
      ]
     },
     "execution_count": 98,
     "metadata": {},
     "output_type": "execute_result"
    }
   ],
   "source": [
    "xr.concat([bt,ct], dim='COLUMNS')"
   ]
  },
  {
   "cell_type": "code",
   "execution_count": 79,
   "metadata": {},
   "outputs": [
    {
     "data": {
      "text/plain": [
       "<xarray.Dataset>\n",
       "Dimensions:              (COLUMNS: 37920, LINES: 108027)\n",
       "Coordinates:\n",
       "  * COLUMNS              (COLUMNS) float64 -36.0 -36.0 -35.99 -35.99 -35.99 ...\n",
       "  * LINES                (LINES) float64 25.0 25.0 25.01 25.01 25.01 25.01 ...\n",
       "Data variables:\n",
       "    DEPTH                (LINES, COLUMNS) float32 dask.array<shape=(108027, 37920), chunksize=(28800, 37920)>\n",
       "    MIN_SOUNDING         (LINES, COLUMNS) float32 dask.array<shape=(108027, 37920), chunksize=(28800, 37920)>\n",
       "    MAX_SOUNDING         (LINES, COLUMNS) float32 dask.array<shape=(108027, 37920), chunksize=(28800, 37920)>\n",
       "    VSOUNDINGS           (LINES, COLUMNS) float64 dask.array<shape=(108027, 37920), chunksize=(28800, 37920)>\n",
       "    STDEV                (LINES, COLUMNS) float32 dask.array<shape=(108027, 37920), chunksize=(28800, 37920)>\n",
       "    CDI                  (LINES, COLUMNS) float32 dask.array<shape=(108027, 37920), chunksize=(28800, 37920)>\n",
       "    DEPTH_SMOOTH         (LINES, COLUMNS) float32 dask.array<shape=(108027, 37920), chunksize=(28800, 37920)>\n",
       "    DEPTH_SMOOTH_OFFSET  (LINES, COLUMNS) float32 dask.array<shape=(108027, 37920), chunksize=(28800, 37920)>\n",
       "    INTERPOLATION_FLAG   (LINES, COLUMNS) float32 dask.array<shape=(108027, 37920), chunksize=(28800, 37920)>\n",
       "Attributes:\n",
       "    CIB_BLOCKS_FOR_UNLIMITED:  1\n",
       "    mbVersion:                 200\n",
       "    mbName:                    B4-export\n",
       "    mbClasse:                   \n",
       "    mbLevel:                   0\n",
       "    mbNbrHistoryRec:           1\n",
       "    mbTimeReference:           Julian date for 1970/01/01 = 2 440 588\n",
       "    mbStartDate:               0\n",
       "    mbStartTime:               0\n",
       "    mbEndDate:                 0\n",
       "    mbEndTime:                 0\n",
       "    mbNorthLatitude:           40.0\n",
       "    mbSouthLatitude:           25.0\n",
       "    mbEastLongitude:           3.5\n",
       "    mbWestLongitude:           -16.25\n",
       "    mbMeridian180:              \n",
       "    mbGeoDictionnary:           \n",
       "    mbGeoRepresentation:        \n",
       "    mbGeodesicSystem:           \n",
       "    mbEllipsoidName:           WGS-84\n",
       "    mbEllipsoidA:              6378137.0\n",
       "    mbEllipsoidInvF:           0.00335281066474751\n",
       "    mbEllipsoidE2:             0.00669437999014133\n",
       "    mbProjType:                -1\n",
       "    mbProjParameterValue:      [0. 0. 0. 0.]\n",
       "    mbProjParameterCode:       MB_M0,MB_L0,MB_X0,MB_Y0\n",
       "    mbProj4String:             +proj=longlat +ellps=WGS84 +datum=WGS84 +no_defs\n",
       "    Conventions:               CF-1.4\n",
       "    Type:                      DTM\n",
       "    Format:                    STR\n",
       "    Mosaic_type:               \n",
       "    Sounder_type:              0\n",
       "    Number_lines:              7200\n",
       "    Number_columns:            9480\n",
       "    Element_x_size:            0.0020833333333333333\n",
       "    Element_y_size:            0.0020833333333333333\n",
       "    Orientation:               0.0\n",
       "    Latitude_TL:               40.0\n",
       "    Longitude_TL:              -16.25\n",
       "    Latitude_TR:               40.0\n",
       "    Longitude_TR:              3.5\n",
       "    Latitude_BR:               25.0\n",
       "    Longitude_BR:              3.5\n",
       "    Latitude_BL:               25.0\n",
       "    Longitude_BL:              -16.25\n",
       "    Xmin_metric:               -16.25\n",
       "    Xmax_metric:               3.5\n",
       "    Ymin_metric:               25.0\n",
       "    Ymax_metric:               40.0\n",
       "    Number_layers:             9"
      ]
     },
     "execution_count": 79,
     "metadata": {},
     "output_type": "execute_result"
    }
   ],
   "source": [
    "e"
   ]
  },
  {
   "cell_type": "code",
   "execution_count": 61,
   "metadata": {
    "scrolled": false
   },
   "outputs": [],
   "source": [
    "e.to_netcdf('/Users/brey/DATA/EMODNET/emodnet.nc')"
   ]
  },
  {
   "cell_type": "markdown",
   "metadata": {},
   "source": [
    "### CHECK"
   ]
  },
  {
   "cell_type": "code",
   "execution_count": 28,
   "metadata": {},
   "outputs": [],
   "source": [
    "emodnet = xr.open_mfdataset('/Users/brey/DATA/emodnet_bathymetry.nc')"
   ]
  },
  {
   "cell_type": "code",
   "execution_count": 40,
   "metadata": {},
   "outputs": [
    {
     "data": {
      "text/plain": [
       "<xarray.Dataset>\n",
       "Dimensions:    (latitude: 28800, longitude: 37920)\n",
       "Coordinates:\n",
       "  * longitude  (longitude) float64 -36.0 -36.0 -35.99 -35.99 -35.99 -35.99 ...\n",
       "  * latitude   (latitude) float64 25.0 25.0 25.01 25.01 25.01 25.01 25.01 ...\n",
       "Data variables:\n",
       "    depth      (latitude, longitude) float64 dask.array<shape=(28800, 37920), chunksize=(28800, 37920)>\n",
       "Attributes:\n",
       "    title:          EMODnet Bathymetry\n",
       "    Institution:    Joint European Research Centre, Directorate for Space, Se...\n",
       "    Project Name:   COAST\n",
       "    History:        The file was created by extracting the variable depth fro...\n",
       "    Creation Date:  20/09/2017\n",
       "    version:        1.0"
      ]
     },
     "execution_count": 40,
     "metadata": {},
     "output_type": "execute_result"
    }
   ],
   "source": [
    "emodnet"
   ]
  },
  {
   "cell_type": "code",
   "execution_count": null,
   "metadata": {},
   "outputs": [],
   "source": []
  }
 ],
 "metadata": {
  "kernelspec": {
   "display_name": "dev",
   "language": "python",
   "name": "dev"
  },
  "language_info": {
   "codemirror_mode": {
    "name": "ipython",
    "version": 2
   },
   "file_extension": ".py",
   "mimetype": "text/x-python",
   "name": "python",
   "nbconvert_exporter": "python",
   "pygments_lexer": "ipython2",
   "version": "2.7.15"
  },
  "toc": {
   "base_numbering": 1,
   "nav_menu": {},
   "number_sections": true,
   "sideBar": true,
   "skip_h1_title": false,
   "title_cell": "Table of Contents",
   "title_sidebar": "Contents",
   "toc_cell": false,
   "toc_position": {},
   "toc_section_display": true,
   "toc_window_display": false
  }
 },
 "nbformat": 4,
 "nbformat_minor": 2
}
