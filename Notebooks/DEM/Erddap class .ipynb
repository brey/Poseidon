{
 "cells": [
  {
   "cell_type": "markdown",
   "metadata": {},
   "source": [
    "## DEM extraction"
   ]
  },
  {
   "cell_type": "markdown",
   "metadata": {},
   "source": [
    "This is a presentation of the erddap retrieval function in dem module"
   ]
  },
  {
   "cell_type": "code",
   "execution_count": 1,
   "metadata": {},
   "outputs": [
    {
     "data": {
      "text/html": [
       "<style>.container { width:100% !important; }</style>"
      ],
      "text/plain": [
       "<IPython.core.display.HTML object>"
      ]
     },
     "metadata": {},
     "output_type": "display_data"
    }
   ],
   "source": [
    "#to use the full width of the browser window\n",
    "from IPython.core.display import display, HTML\n",
    "display(HTML(\"<style>.container { width:100% !important; }</style>\"))"
   ]
  },
  {
   "cell_type": "code",
   "execution_count": 3,
   "metadata": {},
   "outputs": [],
   "source": [
    "import xarray as xr\n",
    "\n",
    "import matplotlib.pyplot as plt\n",
    "\n",
    "import cartopy.crs as ccrs\n",
    "\n",
    "import numpy as np\n"
   ]
  },
  {
   "cell_type": "code",
   "execution_count": 4,
   "metadata": {},
   "outputs": [],
   "source": [
    "%matplotlib inline"
   ]
  },
  {
   "cell_type": "code",
   "execution_count": 5,
   "metadata": {},
   "outputs": [],
   "source": [
    "url = 'https://coastwatch.pfeg.noaa.gov/erddap/griddap/srtm15plus'"
   ]
  },
  {
   "cell_type": "code",
   "execution_count": 6,
   "metadata": {},
   "outputs": [],
   "source": [
    "grid = xr.open_dataset(url)"
   ]
  },
  {
   "cell_type": "code",
   "execution_count": 7,
   "metadata": {},
   "outputs": [
    {
     "data": {
      "text/plain": [
       "<xarray.Dataset>\n",
       "Dimensions:    (latitude: 43201, longitude: 86401)\n",
       "Coordinates:\n",
       "  * latitude   (latitude) float64 -90.0 -90.0 -89.99 -89.99 -89.98 -89.98 ...\n",
       "  * longitude  (longitude) float64 -180.0 -180.0 -180.0 -180.0 -180.0 -180.0 ...\n",
       "Data variables:\n",
       "    z          (latitude, longitude) float32 ...\n",
       "Attributes:\n",
       "    cdm_data_type:              Grid\n",
       "    Conventions:                COARDS, CF-1.6, ACDD-1.3\n",
       "    creator_email:              dsandwell@ucsd.edu\n",
       "    creator_name:               David T. Sandwell\n",
       "    creator_type:               person\n",
       "    creator_url:                http://topex.ucsd.edu/sandwell/\n",
       "    Easternmost_Easting:        180.0\n",
       "    geospatial_lat_max:         90.0\n",
       "    geospatial_lat_min:         -90.0\n",
       "    geospatial_lat_resolution:  0.004166666666666667\n",
       "    geospatial_lat_units:       degrees_north\n",
       "    geospatial_lon_max:         180.0\n",
       "    geospatial_lon_min:         -180.0\n",
       "    geospatial_lon_resolution:  0.004166666666666667\n",
       "    geospatial_lon_units:       degrees_east\n",
       "    GMT_version:                5.2.1 (r15220) [64-bit]\n",
       "    history:                    grdconvert topo15.grd topo15_compressed.nc=ns...\n",
       "    infoUrl:                    http://topex.ucsd.edu/WWW_html/srtm30_plus.html\n",
       "    institution:                SIO, NOAA, U.S. Navy, NGA, GEBCO\n",
       "    keywords:                   altitude, bathymetry, Becker, data, DEM, elev...\n",
       "    license:                    David T. Sandwell, Joseph J. Becker, and Walt...\n",
       "    Northernmost_Northing:      90.0\n",
       "    references:                 Reference, sounding data: Becker, J. J., D. T...\n",
       "    sourceUrl:                  ftp://topex.ucsd.edu/pub/srtm15_plus/topo15.grd\n",
       "    Southernmost_Northing:      -90.0\n",
       "    standard_name_vocabulary:   CF Standard Name Table v55\n",
       "    summary:                    One GMT file, topo15.grd, with the entire glo...\n",
       "    title:                      SRTM15_PLUS Estimated Topography, 15 seconds,...\n",
       "    Westernmost_Easting:        -180.0"
      ]
     },
     "execution_count": 7,
     "metadata": {},
     "output_type": "execute_result"
    }
   ],
   "source": [
    "grid"
   ]
  },
  {
   "cell_type": "code",
   "execution_count": 8,
   "metadata": {},
   "outputs": [
    {
     "data": {
      "text/plain": [
       "(-180.0, 180.0)"
      ]
     },
     "execution_count": 8,
     "metadata": {},
     "output_type": "execute_result"
    }
   ],
   "source": [
    "#lon range\n",
    "grid.attrs['geospatial_lon_min'], grid.attrs['geospatial_lon_max']"
   ]
  },
  {
   "cell_type": "code",
   "execution_count": 9,
   "metadata": {},
   "outputs": [
    {
     "data": {
      "text/plain": [
       "[u'latitude', u'longitude', u'z']"
      ]
     },
     "execution_count": 9,
     "metadata": {},
     "output_type": "execute_result"
    }
   ],
   "source": [
    "grid.variables.keys()"
   ]
  },
  {
   "cell_type": "code",
   "execution_count": 10,
   "metadata": {},
   "outputs": [],
   "source": [
    "#define the lat/lon window and time frame of interest\n",
    "minlon = 0. \n",
    "maxlon =  13.\n",
    "minlat = 54.5\n",
    "maxlat = 66.5"
   ]
  },
  {
   "cell_type": "code",
   "execution_count": 11,
   "metadata": {},
   "outputs": [
    {
     "data": {
      "text/plain": [
       "6.5"
      ]
     },
     "execution_count": 11,
     "metadata": {},
     "output_type": "execute_result"
    }
   ],
   "source": [
    "mc = np.mean([minlon,maxlon])\n",
    "mc"
   ]
  },
  {
   "cell_type": "code",
   "execution_count": 12,
   "metadata": {},
   "outputs": [
    {
     "data": {
      "text/plain": [
       "60.5"
      ]
     },
     "execution_count": 12,
     "metadata": {},
     "output_type": "execute_result"
    }
   ],
   "source": [
    "mt = np.mean([minlat,maxlat])\n",
    "mt"
   ]
  },
  {
   "cell_type": "code",
   "execution_count": 13,
   "metadata": {},
   "outputs": [
    {
     "data": {
      "text/plain": [
       "(0.0, 13.0)"
      ]
     },
     "execution_count": 13,
     "metadata": {},
     "output_type": "execute_result"
    }
   ],
   "source": [
    "minlon, maxlon"
   ]
  },
  {
   "cell_type": "code",
   "execution_count": 14,
   "metadata": {},
   "outputs": [
    {
     "data": {
      "text/plain": [
       "<xarray.DataArray 'longitude' ()>\n",
       "array(-180.)"
      ]
     },
     "execution_count": 14,
     "metadata": {},
     "output_type": "execute_result"
    }
   ],
   "source": [
    "grid.longitude.min()"
   ]
  },
  {
   "cell_type": "code",
   "execution_count": 15,
   "metadata": {},
   "outputs": [],
   "source": [
    "if minlon < grid.longitude.min() : minlon = minlon + 360.\n",
    "if maxlon < grid.longitude.min() : maxlon = maxlon + 360.\n",
    "    \n",
    "if minlon > grid.longitude.max() : minlon = minlon - 360.\n",
    "if maxlon > grid.longitude.max() : maxlon = maxlon - 360.\n"
   ]
  },
  {
   "cell_type": "code",
   "execution_count": 16,
   "metadata": {},
   "outputs": [
    {
     "data": {
      "text/plain": [
       "(0.0, 13.0)"
      ]
     },
     "execution_count": 16,
     "metadata": {},
     "output_type": "execute_result"
    }
   ],
   "source": [
    "minlon, maxlon"
   ]
  },
  {
   "cell_type": "code",
   "execution_count": 17,
   "metadata": {},
   "outputs": [],
   "source": [
    "ilon0 = None\n",
    "ilon1 = None"
   ]
  },
  {
   "cell_type": "code",
   "execution_count": 18,
   "metadata": {},
   "outputs": [],
   "source": [
    "if minlon > maxlon :\n",
    "    ilon0 = grid.longitude.size\n",
    "    ilon1 = 0"
   ]
  },
  {
   "cell_type": "code",
   "execution_count": 19,
   "metadata": {},
   "outputs": [
    {
     "data": {
      "text/plain": [
       "(43200, 46320)"
      ]
     },
     "execution_count": 19,
     "metadata": {},
     "output_type": "execute_result"
    }
   ],
   "source": [
    "i0=np.abs(grid.longitude.data-minlon).argmin()\n",
    "i1=np.abs(grid.longitude.data-maxlon).argmin()\n",
    "i0,i1"
   ]
  },
  {
   "cell_type": "code",
   "execution_count": 20,
   "metadata": {},
   "outputs": [
    {
     "data": {
      "text/plain": [
       "(34680, 37560)"
      ]
     },
     "execution_count": 20,
     "metadata": {},
     "output_type": "execute_result"
    }
   ],
   "source": [
    "j0=np.abs(grid.latitude.data-minlat).argmin()\n",
    "j1=np.abs(grid.latitude.data-maxlat).argmin()\n",
    "j0,j1"
   ]
  },
  {
   "cell_type": "code",
   "execution_count": 21,
   "metadata": {},
   "outputs": [
    {
     "data": {
      "text/plain": [
       "(None, None)"
      ]
     },
     "execution_count": 21,
     "metadata": {},
     "output_type": "execute_result"
    }
   ],
   "source": [
    "ilon0,ilon1"
   ]
  },
  {
   "cell_type": "code",
   "execution_count": 22,
   "metadata": {},
   "outputs": [],
   "source": [
    "if ilon1 != None:\n",
    "    sh1 = (\n",
    "    grid[grid.data_vars.keys()[0]]\n",
    "    .isel(longitude=slice(i0,ilon0),latitude=slice(j0,j1))\n",
    "    )\n",
    "    sh2 = (\n",
    "    grid[grid.data_vars.keys()[0]]\n",
    "    .isel(longitude=slice(ilon1,i1),latitude=slice(j0,j1))\n",
    "    )\n",
    "    sh1.longitude.values = sh1.longitude.values - 360.\n",
    "    sh = xr.concat([sh1,sh2],dim='longitude')\n",
    "else: \n",
    "    sh = (\n",
    "    grid.z\n",
    "    .isel(longitude=slice(i0,i1),latitude=slice(j0,j1))\n",
    "    )"
   ]
  },
  {
   "cell_type": "code",
   "execution_count": 23,
   "metadata": {},
   "outputs": [
    {
     "data": {
      "text/plain": [
       "<xarray.DataArray 'z' (latitude: 2880, longitude: 3120)>\n",
       "[8985600 values with dtype=float32]\n",
       "Coordinates:\n",
       "  * latitude   (latitude) float64 54.5 54.5 54.51 54.51 54.52 54.52 54.53 ...\n",
       "  * longitude  (longitude) float64 0.0 0.004167 0.008333 0.0125 0.01667 ...\n",
       "Attributes:\n",
       "    _ChunkSizes:      [129 129]\n",
       "    colorBarMaximum:  8000.0\n",
       "    colorBarMinimum:  -8000.0\n",
       "    colorBarPalette:  Topography\n",
       "    coordsys:         geographic\n",
       "    ioos_category:    Location\n",
       "    long_name:        Altitude\n",
       "    positive:         up\n",
       "    standard_name:    altitude\n",
       "    units:            m"
      ]
     },
     "execution_count": 23,
     "metadata": {},
     "output_type": "execute_result"
    }
   ],
   "source": [
    "sh"
   ]
  },
  {
   "cell_type": "code",
   "execution_count": 24,
   "metadata": {},
   "outputs": [],
   "source": [
    "sh.attrs = sh.attrs.items() + grid.attrs.items()"
   ]
  },
  {
   "cell_type": "code",
   "execution_count": 25,
   "metadata": {},
   "outputs": [
    {
     "data": {
      "text/plain": [
       "<xarray.DataArray 'z' (latitude: 2880, longitude: 3120)>\n",
       "[8985600 values with dtype=float32]\n",
       "Coordinates:\n",
       "  * latitude   (latitude) float64 54.5 54.5 54.51 54.51 54.52 54.52 54.53 ...\n",
       "  * longitude  (longitude) float64 0.0 0.004167 0.008333 0.0125 0.01667 ...\n",
       "Attributes:\n",
       "    _ChunkSizes:                [129 129]\n",
       "    colorBarMaximum:            8000.0\n",
       "    colorBarMinimum:            -8000.0\n",
       "    colorBarPalette:            Topography\n",
       "    coordsys:                   geographic\n",
       "    ioos_category:              Location\n",
       "    long_name:                  Altitude\n",
       "    positive:                   up\n",
       "    standard_name:              altitude\n",
       "    units:                      m\n",
       "    cdm_data_type:              Grid\n",
       "    Conventions:                COARDS, CF-1.6, ACDD-1.3\n",
       "    creator_email:              dsandwell@ucsd.edu\n",
       "    creator_name:               David T. Sandwell\n",
       "    creator_type:               person\n",
       "    creator_url:                http://topex.ucsd.edu/sandwell/\n",
       "    Easternmost_Easting:        180.0\n",
       "    geospatial_lat_max:         90.0\n",
       "    geospatial_lat_min:         -90.0\n",
       "    geospatial_lat_resolution:  0.004166666666666667\n",
       "    geospatial_lat_units:       degrees_north\n",
       "    geospatial_lon_max:         180.0\n",
       "    geospatial_lon_min:         -180.0\n",
       "    geospatial_lon_resolution:  0.004166666666666667\n",
       "    geospatial_lon_units:       degrees_east\n",
       "    GMT_version:                5.2.1 (r15220) [64-bit]\n",
       "    history:                    grdconvert topo15.grd topo15_compressed.nc=ns...\n",
       "    infoUrl:                    http://topex.ucsd.edu/WWW_html/srtm30_plus.html\n",
       "    institution:                SIO, NOAA, U.S. Navy, NGA, GEBCO\n",
       "    keywords:                   altitude, bathymetry, Becker, data, DEM, elev...\n",
       "    license:                    David T. Sandwell, Joseph J. Becker, and Walt...\n",
       "    Northernmost_Northing:      90.0\n",
       "    references:                 Reference, sounding data: Becker, J. J., D. T...\n",
       "    sourceUrl:                  ftp://topex.ucsd.edu/pub/srtm15_plus/topo15.grd\n",
       "    Southernmost_Northing:      -90.0\n",
       "    standard_name_vocabulary:   CF Standard Name Table v55\n",
       "    summary:                    One GMT file, topo15.grd, with the entire glo...\n",
       "    title:                      SRTM15_PLUS Estimated Topography, 15 seconds,...\n",
       "    Westernmost_Easting:        -180.0"
      ]
     },
     "execution_count": 25,
     "metadata": {},
     "output_type": "execute_result"
    }
   ],
   "source": [
    "sh"
   ]
  },
  {
   "cell_type": "code",
   "execution_count": 26,
   "metadata": {},
   "outputs": [
    {
     "data": {
      "text/plain": [
       "6.497916666666664"
      ]
     },
     "execution_count": 26,
     "metadata": {},
     "output_type": "execute_result"
    }
   ],
   "source": [
    "sh.longitude.data.mean()"
   ]
  },
  {
   "cell_type": "code",
   "execution_count": 27,
   "metadata": {},
   "outputs": [],
   "source": [
    "if np.abs(sh.longitude.data.mean()-mc) > 1 : sh.longitude.data = sh.longitude.data + np.sign(mc)*360."
   ]
  },
  {
   "cell_type": "code",
   "execution_count": 28,
   "metadata": {},
   "outputs": [
    {
     "data": {
      "text/plain": [
       "array([0.00000000e+00, 4.16666667e-03, 8.33333333e-03, ...,\n",
       "       1.29875000e+01, 1.29916667e+01, 1.29958333e+01])"
      ]
     },
     "execution_count": 28,
     "metadata": {},
     "output_type": "execute_result"
    }
   ],
   "source": [
    "sh.longitude.data"
   ]
  },
  {
   "cell_type": "code",
   "execution_count": 29,
   "metadata": {},
   "outputs": [
    {
     "data": {
      "text/plain": [
       "<xarray.DataArray 'z' (latitude: 2880, longitude: 3120)>\n",
       "array([[  -60.,   -60.,   -60., ...,    -5.,    -5.,    -5.],\n",
       "       [  -60.,   -60.,   -60., ...,    -6.,    -5.,    -5.],\n",
       "       [  -60.,   -60.,   -60., ...,    -6.,    -6.,    -6.],\n",
       "       ...,\n",
       "       [-3153., -3155., -3156., ...,   -16.,   -21.,   -37.],\n",
       "       [-3160., -3161., -3161., ...,   -25.,   -38.,   -71.],\n",
       "       [-3172., -3170., -3168., ...,  -115.,  -137.,  -160.]], dtype=float32)\n",
       "Coordinates:\n",
       "  * latitude   (latitude) float64 54.5 54.5 54.51 54.51 54.52 54.52 54.53 ...\n",
       "  * longitude  (longitude) float64 0.0 0.004167 0.008333 0.0125 0.01667 ...\n",
       "Attributes:\n",
       "    _ChunkSizes:                [129 129]\n",
       "    colorBarMaximum:            8000.0\n",
       "    colorBarMinimum:            -8000.0\n",
       "    colorBarPalette:            Topography\n",
       "    coordsys:                   geographic\n",
       "    ioos_category:              Location\n",
       "    long_name:                  Altitude\n",
       "    positive:                   up\n",
       "    standard_name:              altitude\n",
       "    units:                      m\n",
       "    cdm_data_type:              Grid\n",
       "    Conventions:                COARDS, CF-1.6, ACDD-1.3\n",
       "    creator_email:              dsandwell@ucsd.edu\n",
       "    creator_name:               David T. Sandwell\n",
       "    creator_type:               person\n",
       "    creator_url:                http://topex.ucsd.edu/sandwell/\n",
       "    Easternmost_Easting:        180.0\n",
       "    geospatial_lat_max:         90.0\n",
       "    geospatial_lat_min:         -90.0\n",
       "    geospatial_lat_resolution:  0.004166666666666667\n",
       "    geospatial_lat_units:       degrees_north\n",
       "    geospatial_lon_max:         180.0\n",
       "    geospatial_lon_min:         -180.0\n",
       "    geospatial_lon_resolution:  0.004166666666666667\n",
       "    geospatial_lon_units:       degrees_east\n",
       "    GMT_version:                5.2.1 (r15220) [64-bit]\n",
       "    history:                    grdconvert topo15.grd topo15_compressed.nc=ns...\n",
       "    infoUrl:                    http://topex.ucsd.edu/WWW_html/srtm30_plus.html\n",
       "    institution:                SIO, NOAA, U.S. Navy, NGA, GEBCO\n",
       "    keywords:                   altitude, bathymetry, Becker, data, DEM, elev...\n",
       "    license:                    David T. Sandwell, Joseph J. Becker, and Walt...\n",
       "    Northernmost_Northing:      90.0\n",
       "    references:                 Reference, sounding data: Becker, J. J., D. T...\n",
       "    sourceUrl:                  ftp://topex.ucsd.edu/pub/srtm15_plus/topo15.grd\n",
       "    Southernmost_Northing:      -90.0\n",
       "    standard_name_vocabulary:   CF Standard Name Table v55\n",
       "    summary:                    One GMT file, topo15.grd, with the entire glo...\n",
       "    title:                      SRTM15_PLUS Estimated Topography, 15 seconds,...\n",
       "    Westernmost_Easting:        -180.0"
      ]
     },
     "execution_count": 29,
     "metadata": {},
     "output_type": "execute_result"
    }
   ],
   "source": [
    "sh.load()"
   ]
  },
  {
   "cell_type": "code",
   "execution_count": 30,
   "metadata": {
    "scrolled": false
   },
   "outputs": [
    {
     "data": {
      "text/plain": [
       "<matplotlib.collections.QuadMesh at 0x11f43e290>"
      ]
     },
     "execution_count": 30,
     "metadata": {},
     "output_type": "execute_result"
    },
    {
     "data": {
      "image/png": "[encoded data removed]",
      "text/plain": [
       "<Figure size 432x288 with 2 Axes>"
      ]
     },
     "metadata": {},
     "output_type": "display_data"
    }
   ],
   "source": [
    "fig, ax = plt.subplots()\n",
    "sh.plot(ax=ax)"
   ]
  },
  {
   "cell_type": "code",
   "execution_count": 31,
   "metadata": {
    "scrolled": false
   },
   "outputs": [
    {
     "data": {
      "text/plain": [
       "<cartopy.mpl.feature_artist.FeatureArtist at 0x1241c8f50>"
      ]
     },
     "execution_count": 31,
     "metadata": {},
     "output_type": "execute_result"
    },
    {
     "data": {
      "image/png": "[encoded data removed]",
      "text/plain": [
       "<Figure size 432x288 with 2 Axes>"
      ]
     },
     "metadata": {},
     "output_type": "display_data"
    }
   ],
   "source": [
    "fig, ax = plt.subplots()\n",
    "\n",
    "ax = plt.axes(projection=ccrs.Orthographic(mc, mt))\n",
    "\n",
    "sh.plot.contourf(ax=ax, transform=ccrs.PlateCarree());\n",
    "\n",
    "ax.set_global()\n",
    "ax.coastlines()"
   ]
  },
  {
   "cell_type": "code",
   "execution_count": 32,
   "metadata": {},
   "outputs": [
    {
     "data": {
      "text/plain": [
       "(2880, 3120)"
      ]
     },
     "execution_count": 32,
     "metadata": {},
     "output_type": "execute_result"
    }
   ],
   "source": [
    "sh.shape"
   ]
  },
  {
   "cell_type": "code",
   "execution_count": 33,
   "metadata": {},
   "outputs": [],
   "source": [
    "psh = sh.to_pandas()"
   ]
  },
  {
   "cell_type": "code",
   "execution_count": 34,
   "metadata": {},
   "outputs": [],
   "source": [
    "psh.to_csv('/Users/brey/Downloads/d3d.dep',header=None,index=None,sep=' ')"
   ]
  },
  {
   "cell_type": "code",
   "execution_count": 35,
   "metadata": {},
   "outputs": [
    {
     "data": {
      "text/plain": [
       "<xarray.DataArray 'z' ()>\n",
       "array(2702.)"
      ]
     },
     "execution_count": 35,
     "metadata": {},
     "output_type": "execute_result"
    }
   ],
   "source": [
    "sh.max()"
   ]
  },
  {
   "cell_type": "code",
   "execution_count": 36,
   "metadata": {},
   "outputs": [
    {
     "data": {
      "text/plain": [
       "2702.0"
      ]
     },
     "execution_count": 36,
     "metadata": {},
     "output_type": "execute_result"
    }
   ],
   "source": [
    "psh.max().max()"
   ]
  },
  {
   "cell_type": "code",
   "execution_count": null,
   "metadata": {},
   "outputs": [],
   "source": []
  }
 ],
 "metadata": {
  "kernelspec": {
   "display_name": "pyPoseidon",
   "language": "python",
   "name": "pyposeidon"
  },
  "language_info": {
   "codemirror_mode": {
    "name": "ipython",
    "version": 2
   },
   "file_extension": ".py",
   "mimetype": "text/x-python",
   "name": "python",
   "nbconvert_exporter": "python",
   "pygments_lexer": "ipython2",
   "version": "2.7.14"
  },
  "toc": {
   "base_numbering": 1,
   "nav_menu": {},
   "number_sections": true,
   "sideBar": true,
   "skip_h1_title": false,
   "title_cell": "Table of Contents",
   "title_sidebar": "Contents",
   "toc_cell": false,
   "toc_position": {},
   "toc_section_display": true,
   "toc_window_display": false
  },
  "widgets": {
   "state": {
    "01982b628a1b42a58f58409983b305fc": {
     "views": []
    },
    "06ce44ed2d66492791f03f726a488340": {
     "views": []
    },
    "082c45c99c14418a94626b59c00d325b": {
     "views": []
    },
    "121124ad2ad44d429010d799209f611b": {
     "views": []
    },
    "1aff2ac3a8bc432ca22c73858a6dba86": {
     "views": []
    },
    "1b036c33dfe14f288454b3e08b8e7b1e": {
     "views": []
    },
    "1b69fd8a665640c894120f850fa2c0ec": {
     "views": []
    },
    "1cef1dc08c66457d8af8ebb39f390a08": {
     "views": []
    },
    "20c6533930584c33ac63a1ef5740eabe": {
     "views": []
    },
    "2554ecbfcac543988f94883ddaefd58a": {
     "views": []
    },
    "2d9e56f7f6904996afac989477be65d1": {
     "views": []
    },
    "39f4682a5b724848b50d720610780bdb": {
     "views": []
    },
    "4743d6ea59624b2fa8673f1455f4b95d": {
     "views": []
    },
    "4dfd891067814443ba4376587680b1cc": {
     "views": []
    },
    "52cc571bb6644927a33ca7864b9fa8c4": {
     "views": []
    },
    "558d3cc8bccf4831a0602fcd64f9de11": {
     "views": []
    },
    "576260ecd41747b28896529bc24743a5": {
     "views": []
    },
    "58bbcad85c834c96a7e96bba1f72c9b5": {
     "views": []
    },
    "5a9eca7878c84e5db4309df4b96ade0c": {
     "views": []
    },
    "634f9c7e29054873b5cf418581770398": {
     "views": []
    },
    "6c9100a9095646c58c2abfd51ec58085": {
     "views": []
    },
    "6d12f231fc894e30a033b71bc2180c70": {
     "views": []
    },
    "80e9a15d5dd049c59db3a1ffcadd8595": {
     "views": [
      {
       "cell_index": 23
      }
     ]
    },
    "812f4fe2b87f427493db9d734ab7e1dd": {
     "views": []
    },
    "86ec675760014692864a7e2aea53a172": {
     "views": []
    },
    "88e99e0f79964f2e968622cbf0b3579d": {
     "views": []
    },
    "8a51308cdbdc43659d52b35935d0e3a8": {
     "views": []
    },
    "8bf298288e6a46e2b213991686438c99": {
     "views": []
    },
    "92c9bd86f08a4576968e25eb94e3dc55": {
     "views": []
    },
    "92ddb576b1124d48af360d1f92bcf6d8": {
     "views": []
    },
    "986a106beb9745d891a54d4505266226": {
     "views": []
    },
    "99d88e347aed4bb1984292e64ea60fea": {
     "views": []
    },
    "99f6987460e446b19633d89f65df0241": {
     "views": []
    },
    "a4557f2654004f44a82b34843d21c36a": {
     "views": []
    },
    "aa72aa6685e544839c7b1ae4f5c20da7": {
     "views": []
    },
    "b2b2e60f469f48d6a5043ee573f2857d": {
     "views": []
    },
    "ba83144f6fae42bdb3e83ce79e27a96e": {
     "views": []
    },
    "c244852a5c2a42d4bddca47ccec4479f": {
     "views": []
    },
    "c989e71bad9348689e491f88389685c6": {
     "views": []
    },
    "d109cdd581f0472c8319365656fa2b09": {
     "views": []
    },
    "d62803ed055047c498ae85d3c1254e59": {
     "views": []
    },
    "d9e9a0334e0f41ceb3bda3d999d99609": {
     "views": []
    },
    "dcf54dd4109348969171a97ebc117f38": {
     "views": []
    },
    "dd42386962e64fef84e02bcf42a3c3ab": {
     "views": []
    },
    "ee47612f109b4acc82aa3816cc783014": {
     "views": []
    },
    "f06f1d7a6b144d0f8f5589d951a88df5": {
     "views": []
    },
    "f084d28e0a2046999699eb3da3b79f07": {
     "views": []
    },
    "f23287c557184a1d9251c3e4be4bbede": {
     "views": []
    },
    "f2a210f0f441491ab9db880eedf6520c": {
     "views": []
    },
    "f4c24098fb6e41f3a56d38af3aa9da17": {
     "views": []
    }
   },
   "version": "1.1.1"
  }
 },
 "nbformat": 4,
 "nbformat_minor": 2
}
