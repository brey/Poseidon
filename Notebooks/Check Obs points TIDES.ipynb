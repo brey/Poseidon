{
 "cells": [
  {
   "cell_type": "code",
   "execution_count": null,
   "metadata": {
    "collapsed": true
   },
   "outputs": [],
   "source": []
  },
  {
   "cell_type": "code",
   "execution_count": null,
   "metadata": {
    "collapsed": true
   },
   "outputs": [],
   "source": [
    "import numpy as np\n",
    "from point_history import getmes\n",
    "import pickle\n",
    "import datetime\n",
    "from get_point_map import get\n",
    "from get_point_history import pget\n",
    "from netCDF4 import Dataset\n",
    "import pandas as pd"
   ]
  },
  {
   "cell_type": "code",
   "execution_count": null,
   "metadata": {
    "collapsed": true
   },
   "outputs": [],
   "source": [
    "import pytides\n",
    "import copy"
   ]
  },
  {
   "cell_type": "code",
   "execution_count": 217,
   "metadata": {
    "collapsed": true
   },
   "outputs": [],
   "source": [
    "from bilinear import bilinear_interpolation"
   ]
  },
  {
   "cell_type": "code",
   "execution_count": null,
   "metadata": {
    "collapsed": true
   },
   "outputs": [],
   "source": [
    "%matplotlib notebook"
   ]
  },
  {
   "cell_type": "code",
   "execution_count": null,
   "metadata": {
    "collapsed": true
   },
   "outputs": [],
   "source": [
    "path='../../../tide_test/'"
   ]
  },
  {
   "cell_type": "code",
   "execution_count": null,
   "metadata": {
    "collapsed": true
   },
   "outputs": [],
   "source": [
    "basename='med'"
   ]
  },
  {
   "cell_type": "code",
   "execution_count": null,
   "metadata": {
    "collapsed": false
   },
   "outputs": [],
   "source": [
    "with open(path+basename+'.pkl', 'r') as f:\n",
    "    ptr=pickle.load(f)"
   ]
  },
  {
   "cell_type": "code",
   "execution_count": null,
   "metadata": {
    "collapsed": true
   },
   "outputs": [],
   "source": [
    "ptr"
   ]
  },
  {
   "cell_type": "code",
   "execution_count": null,
   "metadata": {
    "collapsed": false
   },
   "outputs": [],
   "source": [
    "len(ptr)"
   ]
  },
  {
   "cell_type": "code",
   "execution_count": null,
   "metadata": {
    "collapsed": true
   },
   "outputs": [],
   "source": [
    "t1='20160101.00'"
   ]
  },
  {
   "cell_type": "code",
   "execution_count": null,
   "metadata": {
    "collapsed": true
   },
   "outputs": [],
   "source": [
    "t2='20160120.00'"
   ]
  },
  {
   "cell_type": "code",
   "execution_count": null,
   "metadata": {
    "collapsed": false
   },
   "outputs": [],
   "source": [
    "sdate=datetime.datetime.strptime(t1,'%Y%m%d.%H')"
   ]
  },
  {
   "cell_type": "code",
   "execution_count": null,
   "metadata": {
    "collapsed": false
   },
   "outputs": [],
   "source": [
    "edate=datetime.datetime.strptime(t2,'%Y%m%d.%H')"
   ]
  },
  {
   "cell_type": "code",
   "execution_count": null,
   "metadata": {
    "collapsed": true
   },
   "outputs": [],
   "source": [
    "hdata=Dataset(path+'trih-med.nc')"
   ]
  },
  {
   "cell_type": "code",
   "execution_count": null,
   "metadata": {
    "collapsed": false
   },
   "outputs": [],
   "source": [
    "hdata.variables.keys()"
   ]
  },
  {
   "cell_type": "code",
   "execution_count": null,
   "metadata": {
    "collapsed": false
   },
   "outputs": [],
   "source": [
    "hdata.variables['XSTAT']"
   ]
  },
  {
   "cell_type": "code",
   "execution_count": null,
   "metadata": {
    "collapsed": false
   },
   "outputs": [],
   "source": [
    "hdata.variables['ZWL'][:][:,0]\n"
   ]
  },
  {
   "cell_type": "code",
   "execution_count": null,
   "metadata": {
    "collapsed": true
   },
   "outputs": [],
   "source": [
    "import urllib2, urllib"
   ]
  },
  {
   "cell_type": "code",
   "execution_count": null,
   "metadata": {
    "collapsed": true
   },
   "outputs": [],
   "source": [
    "def getmes(sdate,edate,point):\n",
    "\n",
    "    pdate=min([edate+datetime.timedelta(hours=72),datetime.datetime.now()])\n",
    "\n",
    "    print sdate, edate\n",
    "    url='http://webcritech.jrc.ec.europa.eu/SeaLevelsDb/Home/ShowBuoyData?id={}&dateMin=%2F{:02d}%2F{:02d}%2F{}+{:02d}%3A{:02d}&dateMax=%2F{:02d}%2F{:02d}%2F{}+{:02d}%3A{:02d}&field=&options='\\\n",
    "                                 .format(point,sdate.month,sdate.day,sdate.year,sdate.hour,0,pdate.month,pdate.day,pdate.year,pdate.hour,0)\n",
    "    url='http://webcritech.jrc.ec.europa.eu/SeaLevelsDb/Home/ShowBuoyData?id={}&dateMin={}%2F{:02d}%2F{:02d}+{:02d}%3A{:02d}&dateMax={}%2F{:02d}%2F{:02d}+{:02d}%3A{:02d}&field=&options=precision=0'\\\n",
    "                                 .format(point,sdate.year,sdate.month,sdate.day,sdate.hour,0,pdate.year,pdate.month,pdate.day,pdate.hour,0)\n",
    "   \n",
    "    print url\n",
    "    response=urllib2.urlopen(url)\n",
    "    ls=response.readlines()\n",
    "    lp=[elem.strip().split(',')  for elem in ls]\n",
    "\n",
    "  # get lat lon\n",
    "    c=[a.split(' ') for a in lp[1]][0]\n",
    "    if 'lat=' in c[2]:\n",
    "            plat=c[2].split('=')[1]\n",
    "            idt=6\n",
    "    else:\n",
    "            c=[a.split(' ') for a in lp[2]][0]\n",
    "            if 'lat=' in c[2]: plat=c[2].split('=')[1]\n",
    "            idt=7\n",
    "\n",
    "    if 'lon=' in c[3]: plon=c[3].split('=')[1]\n",
    "\n",
    "    rt=[]\n",
    "    vt=[]\n",
    "    for a,b,c,d in lp[idt:]:\n",
    "        rt.append(datetime.datetime.strptime(a,'%d %b %Y %H:%M:%S'))\n",
    "        vt.append([b,c,d])\n",
    "\n",
    "    return rt,vt,plat,plon\n",
    "\n"
   ]
  },
  {
   "cell_type": "code",
   "execution_count": null,
   "metadata": {
    "collapsed": true
   },
   "outputs": [],
   "source": [
    "from grid import *\n",
    "from dep import *"
   ]
  },
  {
   "cell_type": "code",
   "execution_count": null,
   "metadata": {
    "collapsed": true
   },
   "outputs": [],
   "source": [
    "def get(t0,t1,path,basename,plat,plon):\n",
    "\n",
    "    plat=float(plat)\n",
    "    plon=float(plon)\n",
    "\n",
    "# print plon,plat\n",
    "    tstart=datetime.datetime.strptime(t0,'%Y%m%d.%H')\n",
    "    tend=datetime.datetime.strptime(t1,'%Y%m%d.%H')\n",
    "\n",
    "    grid = Grid.fromfile(path+basename+'.grd')\n",
    "    lon=grid.x[0,:].data\n",
    "    lat=grid.y[:,0].data\n",
    "    bath=Dep.read(path+basename+'.dep',grid.shape)\n",
    "    bath.val=bath.val.T[:-1,:-1]\n",
    "    dx=lon[1]-lon[0]\n",
    "    dy=lat[1]-lat[0]\n",
    "    x=lon\n",
    "    y=lat\n",
    "\n",
    "\n",
    "    i=np.abs(x-plon).argmin()\n",
    "    j=np.abs(y-plat).argmin()\n",
    "    x0=grid.x.T[i,j]\n",
    "    y0=grid.y.T[i,j]\n",
    "# print i,j,x0,y0,bath.val[i,j]\n",
    "  # retrieve the 4 nearest diagonal points of the i,j\n",
    "    lon4=grid.x.T[i-1:i+2:2,j-1:j+2:2]\n",
    "    lat4=grid.y.T[i-1:i+2:2,j-1:j+2:2]\n",
    "    val4=bath.val[i-1:i+2:2,j-1:j+2:2]\n",
    "# print zip(lon4.flatten(),lat4.flatten(),val4.flatten())\n",
    "# print '==================='\n",
    "    lon8=grid.x.T[i-1:i+2,j-1:j+2]\n",
    "    lat8=grid.y.T[i-1:i+2,j-1:j+2]\n",
    "    val8=bath.val[i-1:i+2,j-1:j+2]\n",
    "# print zip(lon8.flatten(),lat8.flatten(),val8.flatten())\n",
    "# print '==================='\n",
    "  # define the quandrant\n",
    "    A=plon-x0\n",
    "    B=plat-y0\n",
    "    for xx,yy in zip(lon4.flatten(),lat4.flatten()):\n",
    "#        print xx,yy\n",
    "         C=np.sign([xx-plon,A])\n",
    "         D=np.sign([yy-plat,B])\n",
    "         if C[0]==C[-1] and D[0] == D[-1] :\n",
    "            corner=[xx,yy]\n",
    "            indx=[np.abs(x-xx).argmin(),np.abs(y-yy).argmin()]\n",
    "\n",
    "# print indx\n",
    "# print [x0,y0,bath.val[i,j]]\n",
    "# print [x0,corner[1],bath.val[i,indx[1]]]\n",
    "# print [corner[0],corner[1],bath.val[indx[0],indx[1]]]\n",
    "# print [corner[0],y0,bath.val[indx[0],j]]\n",
    "\n",
    "\n",
    "    l=np.argwhere(np.array(val8)==np.nanmax(np.array(val8)))\n",
    "    [ii,jj]=l.ravel()\n",
    "\n",
    "    wx=lon8[ii,jj]\n",
    "    wy=lat8[ii,jj]\n",
    "    i=np.abs(x-wx).argmin()\n",
    "    j=np.abs((y-wy).T).argmin()\n",
    "\n",
    "    d = Dataset(path+'trim-'+basename+'.nc')\n",
    "   #h=d.variables['S1'][:,i:i+2,j:j+2]\n",
    "    h=d.variables['S1'][:,i,j]\n",
    "\n",
    "\n",
    "    time=d.variables['time'][:]\n",
    "    \n",
    "    tstamp=[]\n",
    "    for l in time : tstamp.append(tstart+datetime.timedelta(0,int(l)))\n",
    "\n",
    "    return np.array(tstamp),h"
   ]
  },
  {
   "cell_type": "code",
   "execution_count": null,
   "metadata": {
    "collapsed": true
   },
   "outputs": [],
   "source": [
    "OFILE='/mnt/pandora/Projects_Critech/EX_2015_CoastAlRisk/maps/data/s_b_data.txt'"
   ]
  },
  {
   "cell_type": "code",
   "execution_count": null,
   "metadata": {
    "collapsed": false
   },
   "outputs": [],
   "source": [
    "obs=pd.read_csv(OFILE,delimiter='\\t')"
   ]
  },
  {
   "cell_type": "code",
   "execution_count": null,
   "metadata": {
    "collapsed": false
   },
   "outputs": [],
   "source": [
    "obs['ID'].values"
   ]
  },
  {
   "cell_type": "code",
   "execution_count": 228,
   "metadata": {
    "collapsed": false
   },
   "outputs": [
    {
     "data": {
      "text/html": [
       "<div>\n",
       "<table border=\"1\" class=\"dataframe\">\n",
       "  <thead>\n",
       "    <tr style=\"text-align: right;\">\n",
       "      <th></th>\n",
       "      <th>ID</th>\n",
       "      <th>NAME</th>\n",
       "      <th>latobs</th>\n",
       "      <th>lonobs</th>\n",
       "      <th>latcalc</th>\n",
       "      <th>loncalc</th>\n",
       "    </tr>\n",
       "  </thead>\n",
       "  <tbody>\n",
       "    <tr>\n",
       "      <th>0</th>\n",
       "      <td>1630</td>\n",
       "      <td>Almeira</td>\n",
       "      <td>36.8300</td>\n",
       "      <td>-2.4800</td>\n",
       "      <td>36.72506</td>\n",
       "      <td>-2.468386</td>\n",
       "    </tr>\n",
       "    <tr>\n",
       "      <th>1</th>\n",
       "      <td>1706</td>\n",
       "      <td>Valencia</td>\n",
       "      <td>39.4400</td>\n",
       "      <td>-0.3100</td>\n",
       "      <td>39.44040</td>\n",
       "      <td>-0.299000</td>\n",
       "    </tr>\n",
       "    <tr>\n",
       "      <th>2</th>\n",
       "      <td>819</td>\n",
       "      <td>Barcelona</td>\n",
       "      <td>41.3400</td>\n",
       "      <td>2.1600</td>\n",
       "      <td>41.27749</td>\n",
       "      <td>2.213909</td>\n",
       "    </tr>\n",
       "    <tr>\n",
       "      <th>3</th>\n",
       "      <td>1461</td>\n",
       "      <td>Palma de Mallorca</td>\n",
       "      <td>39.5600</td>\n",
       "      <td>2.6380</td>\n",
       "      <td>39.39457</td>\n",
       "      <td>2.614552</td>\n",
       "    </tr>\n",
       "    <tr>\n",
       "      <th>4</th>\n",
       "      <td>1741</td>\n",
       "      <td>Sete</td>\n",
       "      <td>43.3976</td>\n",
       "      <td>3.6991</td>\n",
       "      <td>43.31857</td>\n",
       "      <td>3.761195</td>\n",
       "    </tr>\n",
       "    <tr>\n",
       "      <th>5</th>\n",
       "      <td>1500</td>\n",
       "      <td>Corsica</td>\n",
       "      <td>42.9670</td>\n",
       "      <td>9.3500</td>\n",
       "      <td>43.09528</td>\n",
       "      <td>9.267036</td>\n",
       "    </tr>\n",
       "    <tr>\n",
       "      <th>6</th>\n",
       "      <td>1841</td>\n",
       "      <td>Carloforte</td>\n",
       "      <td>39.1480</td>\n",
       "      <td>8.3095</td>\n",
       "      <td>39.22599</td>\n",
       "      <td>8.231240</td>\n",
       "    </tr>\n",
       "    <tr>\n",
       "      <th>7</th>\n",
       "      <td>1848</td>\n",
       "      <td>Imperia</td>\n",
       "      <td>43.8783</td>\n",
       "      <td>8.0189</td>\n",
       "      <td>43.83057</td>\n",
       "      <td>8.149480</td>\n",
       "    </tr>\n",
       "    <tr>\n",
       "      <th>8</th>\n",
       "      <td>1846</td>\n",
       "      <td>Genova</td>\n",
       "      <td>44.4101</td>\n",
       "      <td>8.9255</td>\n",
       "      <td>44.32259</td>\n",
       "      <td>8.919400</td>\n",
       "    </tr>\n",
       "    <tr>\n",
       "      <th>9</th>\n",
       "      <td>1843</td>\n",
       "      <td>Civitavecchia</td>\n",
       "      <td>42.0940</td>\n",
       "      <td>11.7896</td>\n",
       "      <td>41.99920</td>\n",
       "      <td>11.677270</td>\n",
       "    </tr>\n",
       "    <tr>\n",
       "      <th>10</th>\n",
       "      <td>1855</td>\n",
       "      <td>Napoli</td>\n",
       "      <td>40.8414</td>\n",
       "      <td>14.2692</td>\n",
       "      <td>40.66343</td>\n",
       "      <td>14.208470</td>\n",
       "    </tr>\n",
       "    <tr>\n",
       "      <th>11</th>\n",
       "      <td>1847</td>\n",
       "      <td>Ginostra</td>\n",
       "      <td>38.7852</td>\n",
       "      <td>15.1908</td>\n",
       "      <td>38.78520</td>\n",
       "      <td>15.201800</td>\n",
       "    </tr>\n",
       "    <tr>\n",
       "      <th>12</th>\n",
       "      <td>1858</td>\n",
       "      <td>Palermo</td>\n",
       "      <td>38.1214</td>\n",
       "      <td>13.3713</td>\n",
       "      <td>38.16961</td>\n",
       "      <td>13.459630</td>\n",
       "    </tr>\n",
       "    <tr>\n",
       "      <th>13</th>\n",
       "      <td>1844</td>\n",
       "      <td>Crotone</td>\n",
       "      <td>39.0836</td>\n",
       "      <td>17.1371</td>\n",
       "      <td>39.05812</td>\n",
       "      <td>17.208960</td>\n",
       "    </tr>\n",
       "    <tr>\n",
       "      <th>14</th>\n",
       "      <td>1866</td>\n",
       "      <td>S. Benedetto del Tronto</td>\n",
       "      <td>42.9551</td>\n",
       "      <td>13.8898</td>\n",
       "      <td>42.96519</td>\n",
       "      <td>13.977000</td>\n",
       "    </tr>\n",
       "    <tr>\n",
       "      <th>15</th>\n",
       "      <td>1863</td>\n",
       "      <td>Ravenna</td>\n",
       "      <td>44.4921</td>\n",
       "      <td>12.2827</td>\n",
       "      <td>44.49545</td>\n",
       "      <td>12.386810</td>\n",
       "    </tr>\n",
       "    <tr>\n",
       "      <th>16</th>\n",
       "      <td>1870</td>\n",
       "      <td>Venezia</td>\n",
       "      <td>45.4182</td>\n",
       "      <td>12.4265</td>\n",
       "      <td>45.38967</td>\n",
       "      <td>12.436770</td>\n",
       "    </tr>\n",
       "    <tr>\n",
       "      <th>17</th>\n",
       "      <td>2003</td>\n",
       "      <td>Paleochora</td>\n",
       "      <td>35.2240</td>\n",
       "      <td>23.6786</td>\n",
       "      <td>35.19995</td>\n",
       "      <td>23.674720</td>\n",
       "    </tr>\n",
       "    <tr>\n",
       "      <th>18</th>\n",
       "      <td>2001</td>\n",
       "      <td>Kapsali</td>\n",
       "      <td>36.1418</td>\n",
       "      <td>23.0037</td>\n",
       "      <td>36.06577</td>\n",
       "      <td>23.007620</td>\n",
       "    </tr>\n",
       "    <tr>\n",
       "      <th>19</th>\n",
       "      <td>2005</td>\n",
       "      <td>Koroni</td>\n",
       "      <td>36.7975</td>\n",
       "      <td>21.9628</td>\n",
       "      <td>36.79333</td>\n",
       "      <td>22.011430</td>\n",
       "    </tr>\n",
       "    <tr>\n",
       "      <th>20</th>\n",
       "      <td>2361</td>\n",
       "      <td>Kalathos</td>\n",
       "      <td>36.1139</td>\n",
       "      <td>28.0696</td>\n",
       "      <td>36.11199</td>\n",
       "      <td>28.145630</td>\n",
       "    </tr>\n",
       "    <tr>\n",
       "      <th>21</th>\n",
       "      <td>2031</td>\n",
       "      <td>Gokceada</td>\n",
       "      <td>40.2330</td>\n",
       "      <td>25.8940</td>\n",
       "      <td>40.24620</td>\n",
       "      <td>25.987710</td>\n",
       "    </tr>\n",
       "  </tbody>\n",
       "</table>\n",
       "</div>"
      ],
      "text/plain": [
       "      ID                      NAME   latobs   lonobs   latcalc    loncalc\n",
       "0   1630                   Almeira  36.8300  -2.4800  36.72506  -2.468386\n",
       "1   1706                  Valencia  39.4400  -0.3100  39.44040  -0.299000\n",
       "2    819                 Barcelona  41.3400   2.1600  41.27749   2.213909\n",
       "3   1461         Palma de Mallorca  39.5600   2.6380  39.39457   2.614552\n",
       "4   1741                     Sete   43.3976   3.6991  43.31857   3.761195\n",
       "5   1500                   Corsica  42.9670   9.3500  43.09528   9.267036\n",
       "6   1841               Carloforte   39.1480   8.3095  39.22599   8.231240\n",
       "7   1848                   Imperia  43.8783   8.0189  43.83057   8.149480\n",
       "8   1846                   Genova   44.4101   8.9255  44.32259   8.919400\n",
       "9   1843             Civitavecchia  42.0940  11.7896  41.99920  11.677270\n",
       "10  1855                   Napoli   40.8414  14.2692  40.66343  14.208470\n",
       "11  1847                 Ginostra   38.7852  15.1908  38.78520  15.201800\n",
       "12  1858                  Palermo   38.1214  13.3713  38.16961  13.459630\n",
       "13  1844                   Crotone  39.0836  17.1371  39.05812  17.208960\n",
       "14  1866  S. Benedetto del Tronto   42.9551  13.8898  42.96519  13.977000\n",
       "15  1863                  Ravenna   44.4921  12.2827  44.49545  12.386810\n",
       "16  1870                  Venezia   45.4182  12.4265  45.38967  12.436770\n",
       "17  2003               Paleochora   35.2240  23.6786  35.19995  23.674720\n",
       "18  2001                   Kapsali  36.1418  23.0037  36.06577  23.007620\n",
       "19  2005                    Koroni  36.7975  21.9628  36.79333  22.011430\n",
       "20  2361                  Kalathos  36.1139  28.0696  36.11199  28.145630\n",
       "21  2031                 Gokceada   40.2330  25.8940  40.24620  25.987710"
      ]
     },
     "execution_count": 228,
     "metadata": {},
     "output_type": "execute_result"
    }
   ],
   "source": [
    "obs"
   ]
  },
  {
   "cell_type": "code",
   "execution_count": null,
   "metadata": {
    "collapsed": true
   },
   "outputs": [],
   "source": [
    "rt=[]\n",
    "hs=[]\n",
    "mt=[]\n",
    "mh=[]\n",
    "ht=[]\n",
    "hh=[]\n",
    "tota=[]\n",
    "for n in obs['ID'].values:\n",
    "    print n\n",
    "    t,s,plat,plon = getmes(sdate,edate,n)\n",
    "    rt.append(t)\n",
    "    hs.append([b for [a,b,c] in s])\n",
    "    dic0={'t_gauge':t, 's':[b for [a,b,c] in s]}\n",
    "    data0=pd.DataFrame(dic0)\n",
    "    data0=data0.set_index('t_gauge')\n",
    "    tcw,cw=get(t1,t2,path,basename,plat,plon)\n",
    "    mt.append(tcw)\n",
    "    mh.append(cw)\n",
    "    dic1={'t_map':tcw, 's_map':cw}\n",
    "    data1=pd.DataFrame.from_dict(dic1)\n",
    "    data1=data1.set_index('t_map')\n",
    "    data=data0.join(data1, how='outer')\n",
    "    hcw,hw=hdata.variables['time'][:][:], hdata.variables['ZWL'][:][:,ptr[n]]\n",
    "    ht.append([sdate+datetime.timedelta(0,int(l)) for l in hcw])\n",
    "    hh.append(hw)\n",
    "    dic2={'t_his':[sdate+datetime.timedelta(0,int(l)) for l in hcw], 's_his':hw}\n",
    "    data2=pd.DataFrame.from_dict(dic2)\n",
    "    data2=data2.set_index('t_his')\n",
    "    data=data.join(data2, how='outer')\n",
    "    tota.append(data)"
   ]
  },
  {
   "cell_type": "code",
   "execution_count": null,
   "metadata": {
    "collapsed": true
   },
   "outputs": [],
   "source": [
    "#tota=pd.concat(tota, keys=ptr.keys()[:20])"
   ]
  },
  {
   "cell_type": "code",
   "execution_count": null,
   "metadata": {
    "collapsed": true
   },
   "outputs": [],
   "source": [
    "tota=pd.concat(tota, keys=obs['ID'].values)"
   ]
  },
  {
   "cell_type": "code",
   "execution_count": null,
   "metadata": {
    "collapsed": false
   },
   "outputs": [],
   "source": [
    "tota.head()"
   ]
  },
  {
   "cell_type": "code",
   "execution_count": null,
   "metadata": {
    "collapsed": false
   },
   "outputs": [],
   "source": [
    "#tota=pd.to_numeric(tota, errors='coerce')"
   ]
  },
  {
   "cell_type": "code",
   "execution_count": null,
   "metadata": {
    "collapsed": false
   },
   "outputs": [],
   "source": [
    "tota[['s','s_map','s_his']] = tota[['s','s_map','s_his']].apply(pd.to_numeric)"
   ]
  },
  {
   "cell_type": "code",
   "execution_count": null,
   "metadata": {
    "collapsed": false
   },
   "outputs": [],
   "source": [
    "#tota.unstack(level=0).plot()"
   ]
  },
  {
   "cell_type": "code",
   "execution_count": null,
   "metadata": {
    "collapsed": false
   },
   "outputs": [],
   "source": [
    "#ptr.keys()[10]"
   ]
  },
  {
   "cell_type": "code",
   "execution_count": null,
   "metadata": {
    "collapsed": false,
    "scrolled": true
   },
   "outputs": [],
   "source": [
    "#tota.xs(ptr.keys()[17]).head()"
   ]
  },
  {
   "cell_type": "code",
   "execution_count": null,
   "metadata": {
    "collapsed": false,
    "scrolled": false
   },
   "outputs": [],
   "source": [
    "#ax=tota.xs(ptr.keys()[10]).plot(style=['k-','go','r-'])"
   ]
  },
  {
   "cell_type": "markdown",
   "metadata": {},
   "source": [
    "## READ the local tide coefficients "
   ]
  },
  {
   "cell_type": "code",
   "execution_count": null,
   "metadata": {
    "collapsed": true
   },
   "outputs": [],
   "source": [
    "# med tide dataset\n",
    "TPATH='../TIDES/'\n",
    "dmed=Dataset(TPATH+'med.nc')"
   ]
  },
  {
   "cell_type": "code",
   "execution_count": null,
   "metadata": {
    "collapsed": true
   },
   "outputs": [],
   "source": [
    "tlat=dmed['lat'][:]\n",
    "tlon=dmed['lon'][:]"
   ]
  },
  {
   "cell_type": "code",
   "execution_count": null,
   "metadata": {
    "collapsed": true
   },
   "outputs": [],
   "source": [
    "tidal_c=dmed['tidal_constituents'][:]"
   ]
  },
  {
   "cell_type": "code",
   "execution_count": null,
   "metadata": {
    "collapsed": true
   },
   "outputs": [],
   "source": [
    "tidal_c=[''.join(k).upper().strip() for k in tidal_c] #form name tags"
   ]
  },
  {
   "cell_type": "code",
   "execution_count": null,
   "metadata": {
    "collapsed": true
   },
   "outputs": [],
   "source": [
    "amp=dmed['tidal_amplitude_h']\n",
    "ph=dmed['tidal_phase_h']"
   ]
  },
  {
   "cell_type": "markdown",
   "metadata": {},
   "source": [
    "## compare delft3d run with foreseen solution"
   ]
  },
  {
   "cell_type": "code",
   "execution_count": 225,
   "metadata": {
    "collapsed": true
   },
   "outputs": [],
   "source": [
    "def ctide(lon,lat,plon,plat,i,j):\n",
    "    x0,y0 = lon[i], lat[j]\n",
    "\n",
    "    # retrieve the 4 nearest diagonal points of the i,j\n",
    "    lon4=lon[i-1:i+2:2]\n",
    "    lon4=np.vstack([lon4,lon4])\n",
    "    lat4=lat[j-1:j+2:2]\n",
    "    lat4=np.vstack([lat4,lat4]).T\n",
    "# print '==================='\n",
    "  # define the quandrant\n",
    "    A=plon-x0\n",
    "    B=plat-y0\n",
    "    for xx,yy in zip(lon4.flatten(),lat4.flatten()):\n",
    "#        print xx,yy\n",
    "         C=np.sign([xx-plon,A])\n",
    "         D=np.sign([yy-plat,B])\n",
    "         if C[0]==C[-1] and D[0] == D[-1] :\n",
    "            corner=[xx,yy]\n",
    "            indx=[np.abs(lon-xx).argmin(),np.abs(lat-yy).argmin()]\n",
    "\n",
    "    phv=np.zeros(ph.shape[-1])\n",
    "    amv=np.zeros(amp.shape[-1])\n",
    "    for k in range(amp.shape[-1]):\n",
    "\n",
    "        p1=[x0,y0,amp[i,j,k]]\n",
    "        p2=[x0,corner[1],amp[i,indx[1],k]]\n",
    "        p3=[corner[0],corner[1],amp[indx[0],indx[1],k]]\n",
    "        p4=[corner[0],y0,amp[indx[0],j,k]]\n",
    "\n",
    "        points=[p1,p2,p3,p4]\n",
    "\n",
    "        amv[k]= bilinear_interpolation(plon,plat,points)\n",
    "\n",
    "        p1=[x0,y0,ph[i,j,k]]\n",
    "        p2=[x0,corner[1],ph[i,indx[1],k]]\n",
    "        p3=[corner[0],corner[1],ph[indx[0],indx[1],k]]\n",
    "        p4=[corner[0],y0,ph[indx[0],j,k]]\n",
    "\n",
    "        points=[p1,p2,p3,p4]\n",
    "\n",
    "        phv[k]= bilinear_interpolation(plon,plat,points)\n",
    "\n",
    "    return amv,phv"
   ]
  },
  {
   "cell_type": "code",
   "execution_count": 237,
   "metadata": {
    "collapsed": true
   },
   "outputs": [],
   "source": [
    "def compare(idx):\n",
    "    ax=tota.xs(obs['ID'].values[idx])['s_his'].plot()#style=['k-','go','r-'])\n",
    "    plon=obs['loncalc'][idx]\n",
    "    plat=obs['latcalc'][idx]\n",
    "    print plon,plat\n",
    "    i=np.abs(tlon-np.float(plon)).argmin()\n",
    "    j=np.abs(tlat-np.float(plat)).argmin()\n",
    "    print i,j\n",
    "    \n",
    "#  tampl=amp[i,j,:]\n",
    "#  tphase=ph[i,j,:]\n",
    "\n",
    "    tampl,tphase=ctide(tlon,tlat,plon,plat,i,j)\n",
    "    dd=np.array([tampl,tphase]).T\n",
    "\n",
    "    df=pd.DataFrame(dd, columns=['amplitude','phase'], index=tidal_c)\n",
    "\n",
    "## create a tide model from osbervation (like a template)\n",
    "    demeaned=tota.xs(obs['ID'].values[idx])['s_his'].values-tota.xs(obs['ID'].values[idx])['s'].mean()\n",
    "\n",
    "    tide=pytides.tide.Tide.decompose(demeaned, tota.xs(obs['ID'].values[idx])['s'].index)\n",
    "\n",
    "# set a tide object to validate\n",
    "    tomed=copy.deepcopy(tide)\n",
    "\n",
    "    k=0\n",
    "    for c,a,p in tomed.model:\n",
    "        if c.name in df.index:\n",
    "            tomed.model['amplitude'][k] = df['amplitude'][c.name]\n",
    "            tomed.model['phase'][k] = df['phase'][c.name]\n",
    "        else:\n",
    "            tomed.model['amplitude'][k]=0.\n",
    "            tomed.model['phase'][k]=0.\n",
    "        k +=1    \n",
    "\n",
    "    dates=pd.date_range(start='2016-01-01',end='2016-01-20',freq='6T')\n",
    "\n",
    "    hours=np.cumsum(np.r_[0, [t.total_seconds()/3600.0 for t in np.diff(dates.to_pydatetime())]])\n",
    "\n",
    "    times=pytides.tide.Tide._times(dates[0], hours)\n",
    "\n",
    "    med_deltares = pd.Series(tomed.at(times) + tota.xs(obs['ID'].values[idx])['s_his'].mean(), index=dates)\n",
    "\n",
    "    med_deltares.plot(ax=ax, color='green', linestyle='--', label='pytides from deltares med')"
   ]
  },
  {
   "cell_type": "code",
   "execution_count": 241,
   "metadata": {
    "collapsed": false
   },
   "outputs": [
    {
     "data": {
      "application/javascript": [
       "/* Put everything inside the global mpl namespace */\n",
       "window.mpl = {};\n",
       "\n",
       "mpl.get_websocket_type = function() {\n",
       "    if (typeof(WebSocket) !== 'undefined') {\n",
       "        return WebSocket;\n",
       "    } else if (typeof(MozWebSocket) !== 'undefined') {\n",
       "        return MozWebSocket;\n",
       "    } else {\n",
       "        alert('Your browser does not have WebSocket support.' +\n",
       "              'Please try Chrome, Safari or Firefox ≥ 6. ' +\n",
       "              'Firefox 4 and 5 are also supported but you ' +\n",
       "              'have to enable WebSockets in about:config.');\n",
       "    };\n",
       "}\n",
       "\n",
       "mpl.figure = function(figure_id, websocket, ondownload, parent_element) {\n",
       "    this.id = figure_id;\n",
       "\n",
       "    this.ws = websocket;\n",
       "\n",
       "    this.supports_binary = (this.ws.binaryType != undefined);\n",
       "\n",
       "    if (!this.supports_binary) {\n",
       "        var warnings = document.getElementById(\"mpl-warnings\");\n",
       "        if (warnings) {\n",
       "            warnings.style.display = 'block';\n",
       "            warnings.textContent = (\n",
       "                \"This browser does not support binary websocket messages. \" +\n",
       "                    \"Performance may be slow.\");\n",
       "        }\n",
       "    }\n",
       "\n",
       "    this.imageObj = new Image();\n",
       "\n",
       "    this.context = undefined;\n",
       "    this.message = undefined;\n",
       "    this.canvas = undefined;\n",
       "    this.rubberband_canvas = undefined;\n",
       "    this.rubberband_context = undefined;\n",
       "    this.format_dropdown = undefined;\n",
       "\n",
       "    this.image_mode = 'full';\n",
       "\n",
       "    this.root = $('<div/>');\n",
       "    this._root_extra_style(this.root)\n",
       "    this.root.attr('style', 'display: inline-block');\n",
       "\n",
       "    $(parent_element).append(this.root);\n",
       "\n",
       "    this._init_header(this);\n",
       "    this._init_canvas(this);\n",
       "    this._init_toolbar(this);\n",
       "\n",
       "    var fig = this;\n",
       "\n",
       "    this.waiting = false;\n",
       "\n",
       "    this.ws.onopen =  function () {\n",
       "            fig.send_message(\"supports_binary\", {value: fig.supports_binary});\n",
       "            fig.send_message(\"send_image_mode\", {});\n",
       "            fig.send_message(\"refresh\", {});\n",
       "        }\n",
       "\n",
       "    this.imageObj.onload = function() {\n",
       "            if (fig.image_mode == 'full') {\n",
       "                // Full images could contain transparency (where diff images\n",
       "                // almost always do), so we need to clear the canvas so that\n",
       "                // there is no ghosting.\n",
       "                fig.context.clearRect(0, 0, fig.canvas.width, fig.canvas.height);\n",
       "            }\n",
       "            fig.context.drawImage(fig.imageObj, 0, 0);\n",
       "        };\n",
       "\n",
       "    this.imageObj.onunload = function() {\n",
       "        this.ws.close();\n",
       "    }\n",
       "\n",
       "    this.ws.onmessage = this._make_on_message_function(this);\n",
       "\n",
       "    this.ondownload = ondownload;\n",
       "}\n",
       "\n",
       "mpl.figure.prototype._init_header = function() {\n",
       "    var titlebar = $(\n",
       "        '<div class=\"ui-dialog-titlebar ui-widget-header ui-corner-all ' +\n",
       "        'ui-helper-clearfix\"/>');\n",
       "    var titletext = $(\n",
       "        '<div class=\"ui-dialog-title\" style=\"width: 100%; ' +\n",
       "        'text-align: center; padding: 3px;\"/>');\n",
       "    titlebar.append(titletext)\n",
       "    this.root.append(titlebar);\n",
       "    this.header = titletext[0];\n",
       "}\n",
       "\n",
       "\n",
       "\n",
       "mpl.figure.prototype._canvas_extra_style = function(canvas_div) {\n",
       "\n",
       "}\n",
       "\n",
       "\n",
       "mpl.figure.prototype._root_extra_style = function(canvas_div) {\n",
       "\n",
       "}\n",
       "\n",
       "mpl.figure.prototype._init_canvas = function() {\n",
       "    var fig = this;\n",
       "\n",
       "    var canvas_div = $('<div/>');\n",
       "\n",
       "    canvas_div.attr('style', 'position: relative; clear: both; outline: 0');\n",
       "\n",
       "    function canvas_keyboard_event(event) {\n",
       "        return fig.key_event(event, event['data']);\n",
       "    }\n",
       "\n",
       "    canvas_div.keydown('key_press', canvas_keyboard_event);\n",
       "    canvas_div.keyup('key_release', canvas_keyboard_event);\n",
       "    this.canvas_div = canvas_div\n",
       "    this._canvas_extra_style(canvas_div)\n",
       "    this.root.append(canvas_div);\n",
       "\n",
       "    var canvas = $('<canvas/>');\n",
       "    canvas.addClass('mpl-canvas');\n",
       "    canvas.attr('style', \"left: 0; top: 0; z-index: 0; outline: 0\")\n",
       "\n",
       "    this.canvas = canvas[0];\n",
       "    this.context = canvas[0].getContext(\"2d\");\n",
       "\n",
       "    var rubberband = $('<canvas/>');\n",
       "    rubberband.attr('style', \"position: absolute; left: 0; top: 0; z-index: 1;\")\n",
       "\n",
       "    var pass_mouse_events = true;\n",
       "\n",
       "    canvas_div.resizable({\n",
       "        start: function(event, ui) {\n",
       "            pass_mouse_events = false;\n",
       "        },\n",
       "        resize: function(event, ui) {\n",
       "            fig.request_resize(ui.size.width, ui.size.height);\n",
       "        },\n",
       "        stop: function(event, ui) {\n",
       "            pass_mouse_events = true;\n",
       "            fig.request_resize(ui.size.width, ui.size.height);\n",
       "        },\n",
       "    });\n",
       "\n",
       "    function mouse_event_fn(event) {\n",
       "        if (pass_mouse_events)\n",
       "            return fig.mouse_event(event, event['data']);\n",
       "    }\n",
       "\n",
       "    rubberband.mousedown('button_press', mouse_event_fn);\n",
       "    rubberband.mouseup('button_release', mouse_event_fn);\n",
       "    // Throttle sequential mouse events to 1 every 20ms.\n",
       "    rubberband.mousemove('motion_notify', mouse_event_fn);\n",
       "\n",
       "    rubberband.mouseenter('figure_enter', mouse_event_fn);\n",
       "    rubberband.mouseleave('figure_leave', mouse_event_fn);\n",
       "\n",
       "    canvas_div.on(\"wheel\", function (event) {\n",
       "        event = event.originalEvent;\n",
       "        event['data'] = 'scroll'\n",
       "        if (event.deltaY < 0) {\n",
       "            event.step = 1;\n",
       "        } else {\n",
       "            event.step = -1;\n",
       "        }\n",
       "        mouse_event_fn(event);\n",
       "    });\n",
       "\n",
       "    canvas_div.append(canvas);\n",
       "    canvas_div.append(rubberband);\n",
       "\n",
       "    this.rubberband = rubberband;\n",
       "    this.rubberband_canvas = rubberband[0];\n",
       "    this.rubberband_context = rubberband[0].getContext(\"2d\");\n",
       "    this.rubberband_context.strokeStyle = \"#000000\";\n",
       "\n",
       "    this._resize_canvas = function(width, height) {\n",
       "        // Keep the size of the canvas, canvas container, and rubber band\n",
       "        // canvas in synch.\n",
       "        canvas_div.css('width', width)\n",
       "        canvas_div.css('height', height)\n",
       "\n",
       "        canvas.attr('width', width);\n",
       "        canvas.attr('height', height);\n",
       "\n",
       "        rubberband.attr('width', width);\n",
       "        rubberband.attr('height', height);\n",
       "    }\n",
       "\n",
       "    // Set the figure to an initial 600x600px, this will subsequently be updated\n",
       "    // upon first draw.\n",
       "    this._resize_canvas(600, 600);\n",
       "\n",
       "    // Disable right mouse context menu.\n",
       "    $(this.rubberband_canvas).bind(\"contextmenu\",function(e){\n",
       "        return false;\n",
       "    });\n",
       "\n",
       "    function set_focus () {\n",
       "        canvas.focus();\n",
       "        canvas_div.focus();\n",
       "    }\n",
       "\n",
       "    window.setTimeout(set_focus, 100);\n",
       "}\n",
       "\n",
       "mpl.figure.prototype._init_toolbar = function() {\n",
       "    var fig = this;\n",
       "\n",
       "    var nav_element = $('<div/>')\n",
       "    nav_element.attr('style', 'width: 100%');\n",
       "    this.root.append(nav_element);\n",
       "\n",
       "    // Define a callback function for later on.\n",
       "    function toolbar_event(event) {\n",
       "        return fig.toolbar_button_onclick(event['data']);\n",
       "    }\n",
       "    function toolbar_mouse_event(event) {\n",
       "        return fig.toolbar_button_onmouseover(event['data']);\n",
       "    }\n",
       "\n",
       "    for(var toolbar_ind in mpl.toolbar_items) {\n",
       "        var name = mpl.toolbar_items[toolbar_ind][0];\n",
       "        var tooltip = mpl.toolbar_items[toolbar_ind][1];\n",
       "        var image = mpl.toolbar_items[toolbar_ind][2];\n",
       "        var method_name = mpl.toolbar_items[toolbar_ind][3];\n",
       "\n",
       "        if (!name) {\n",
       "            // put a spacer in here.\n",
       "            continue;\n",
       "        }\n",
       "        var button = $('<button/>');\n",
       "        button.addClass('ui-button ui-widget ui-state-default ui-corner-all ' +\n",
       "                        'ui-button-icon-only');\n",
       "        button.attr('role', 'button');\n",
       "        button.attr('aria-disabled', 'false');\n",
       "        button.click(method_name, toolbar_event);\n",
       "        button.mouseover(tooltip, toolbar_mouse_event);\n",
       "\n",
       "        var icon_img = $('<span/>');\n",
       "        icon_img.addClass('ui-button-icon-primary ui-icon');\n",
       "        icon_img.addClass(image);\n",
       "        icon_img.addClass('ui-corner-all');\n",
       "\n",
       "        var tooltip_span = $('<span/>');\n",
       "        tooltip_span.addClass('ui-button-text');\n",
       "        tooltip_span.html(tooltip);\n",
       "\n",
       "        button.append(icon_img);\n",
       "        button.append(tooltip_span);\n",
       "\n",
       "        nav_element.append(button);\n",
       "    }\n",
       "\n",
       "    var fmt_picker_span = $('<span/>');\n",
       "\n",
       "    var fmt_picker = $('<select/>');\n",
       "    fmt_picker.addClass('mpl-toolbar-option ui-widget ui-widget-content');\n",
       "    fmt_picker_span.append(fmt_picker);\n",
       "    nav_element.append(fmt_picker_span);\n",
       "    this.format_dropdown = fmt_picker[0];\n",
       "\n",
       "    for (var ind in mpl.extensions) {\n",
       "        var fmt = mpl.extensions[ind];\n",
       "        var option = $(\n",
       "            '<option/>', {selected: fmt === mpl.default_extension}).html(fmt);\n",
       "        fmt_picker.append(option)\n",
       "    }\n",
       "\n",
       "    // Add hover states to the ui-buttons\n",
       "    $( \".ui-button\" ).hover(\n",
       "        function() { $(this).addClass(\"ui-state-hover\");},\n",
       "        function() { $(this).removeClass(\"ui-state-hover\");}\n",
       "    );\n",
       "\n",
       "    var status_bar = $('<span class=\"mpl-message\"/>');\n",
       "    nav_element.append(status_bar);\n",
       "    this.message = status_bar[0];\n",
       "}\n",
       "\n",
       "mpl.figure.prototype.request_resize = function(x_pixels, y_pixels) {\n",
       "    // Request matplotlib to resize the figure. Matplotlib will then trigger a resize in the client,\n",
       "    // which will in turn request a refresh of the image.\n",
       "    this.send_message('resize', {'width': x_pixels, 'height': y_pixels});\n",
       "}\n",
       "\n",
       "mpl.figure.prototype.send_message = function(type, properties) {\n",
       "    properties['type'] = type;\n",
       "    properties['figure_id'] = this.id;\n",
       "    this.ws.send(JSON.stringify(properties));\n",
       "}\n",
       "\n",
       "mpl.figure.prototype.send_draw_message = function() {\n",
       "    if (!this.waiting) {\n",
       "        this.waiting = true;\n",
       "        this.ws.send(JSON.stringify({type: \"draw\", figure_id: this.id}));\n",
       "    }\n",
       "}\n",
       "\n",
       "\n",
       "mpl.figure.prototype.handle_save = function(fig, msg) {\n",
       "    var format_dropdown = fig.format_dropdown;\n",
       "    var format = format_dropdown.options[format_dropdown.selectedIndex].value;\n",
       "    fig.ondownload(fig, format);\n",
       "}\n",
       "\n",
       "\n",
       "mpl.figure.prototype.handle_resize = function(fig, msg) {\n",
       "    var size = msg['size'];\n",
       "    if (size[0] != fig.canvas.width || size[1] != fig.canvas.height) {\n",
       "        fig._resize_canvas(size[0], size[1]);\n",
       "        fig.send_message(\"refresh\", {});\n",
       "    };\n",
       "}\n",
       "\n",
       "mpl.figure.prototype.handle_rubberband = function(fig, msg) {\n",
       "    var x0 = msg['x0'];\n",
       "    var y0 = fig.canvas.height - msg['y0'];\n",
       "    var x1 = msg['x1'];\n",
       "    var y1 = fig.canvas.height - msg['y1'];\n",
       "    x0 = Math.floor(x0) + 0.5;\n",
       "    y0 = Math.floor(y0) + 0.5;\n",
       "    x1 = Math.floor(x1) + 0.5;\n",
       "    y1 = Math.floor(y1) + 0.5;\n",
       "    var min_x = Math.min(x0, x1);\n",
       "    var min_y = Math.min(y0, y1);\n",
       "    var width = Math.abs(x1 - x0);\n",
       "    var height = Math.abs(y1 - y0);\n",
       "\n",
       "    fig.rubberband_context.clearRect(\n",
       "        0, 0, fig.canvas.width, fig.canvas.height);\n",
       "\n",
       "    fig.rubberband_context.strokeRect(min_x, min_y, width, height);\n",
       "}\n",
       "\n",
       "mpl.figure.prototype.handle_figure_label = function(fig, msg) {\n",
       "    // Updates the figure title.\n",
       "    fig.header.textContent = msg['label'];\n",
       "}\n",
       "\n",
       "mpl.figure.prototype.handle_cursor = function(fig, msg) {\n",
       "    var cursor = msg['cursor'];\n",
       "    switch(cursor)\n",
       "    {\n",
       "    case 0:\n",
       "        cursor = 'pointer';\n",
       "        break;\n",
       "    case 1:\n",
       "        cursor = 'default';\n",
       "        break;\n",
       "    case 2:\n",
       "        cursor = 'crosshair';\n",
       "        break;\n",
       "    case 3:\n",
       "        cursor = 'move';\n",
       "        break;\n",
       "    }\n",
       "    fig.rubberband_canvas.style.cursor = cursor;\n",
       "}\n",
       "\n",
       "mpl.figure.prototype.handle_message = function(fig, msg) {\n",
       "    fig.message.textContent = msg['message'];\n",
       "}\n",
       "\n",
       "mpl.figure.prototype.handle_draw = function(fig, msg) {\n",
       "    // Request the server to send over a new figure.\n",
       "    fig.send_draw_message();\n",
       "}\n",
       "\n",
       "mpl.figure.prototype.handle_image_mode = function(fig, msg) {\n",
       "    fig.image_mode = msg['mode'];\n",
       "}\n",
       "\n",
       "mpl.figure.prototype.updated_canvas_event = function() {\n",
       "    // Called whenever the canvas gets updated.\n",
       "    this.send_message(\"ack\", {});\n",
       "}\n",
       "\n",
       "// A function to construct a web socket function for onmessage handling.\n",
       "// Called in the figure constructor.\n",
       "mpl.figure.prototype._make_on_message_function = function(fig) {\n",
       "    return function socket_on_message(evt) {\n",
       "        if (evt.data instanceof Blob) {\n",
       "            /* FIXME: We get \"Resource interpreted as Image but\n",
       "             * transferred with MIME type text/plain:\" errors on\n",
       "             * Chrome.  But how to set the MIME type?  It doesn't seem\n",
       "             * to be part of the websocket stream */\n",
       "            evt.data.type = \"image/png\";\n",
       "\n",
       "            /* Free the memory for the previous frames */\n",
       "            if (fig.imageObj.src) {\n",
       "                (window.URL || window.webkitURL).revokeObjectURL(\n",
       "                    fig.imageObj.src);\n",
       "            }\n",
       "\n",
       "            fig.imageObj.src = (window.URL || window.webkitURL).createObjectURL(\n",
       "                evt.data);\n",
       "            fig.updated_canvas_event();\n",
       "            fig.waiting = false;\n",
       "            return;\n",
       "        }\n",
       "        else if (typeof evt.data === 'string' && evt.data.slice(0, 21) == \"data:image/png;base64\") {\n",
       "            fig.imageObj.src = evt.data;\n",
       "            fig.updated_canvas_event();\n",
       "            fig.waiting = false;\n",
       "            return;\n",
       "        }\n",
       "\n",
       "        var msg = JSON.parse(evt.data);\n",
       "        var msg_type = msg['type'];\n",
       "\n",
       "        // Call the  \"handle_{type}\" callback, which takes\n",
       "        // the figure and JSON message as its only arguments.\n",
       "        try {\n",
       "            var callback = fig[\"handle_\" + msg_type];\n",
       "        } catch (e) {\n",
       "            console.log(\"No handler for the '\" + msg_type + \"' message type: \", msg);\n",
       "            return;\n",
       "        }\n",
       "\n",
       "        if (callback) {\n",
       "            try {\n",
       "                // console.log(\"Handling '\" + msg_type + \"' message: \", msg);\n",
       "                callback(fig, msg);\n",
       "            } catch (e) {\n",
       "                console.log(\"Exception inside the 'handler_\" + msg_type + \"' callback:\", e, e.stack, msg);\n",
       "            }\n",
       "        }\n",
       "    };\n",
       "}\n",
       "\n",
       "// from http://stackoverflow.com/questions/1114465/getting-mouse-location-in-canvas\n",
       "mpl.findpos = function(e) {\n",
       "    //this section is from http://www.quirksmode.org/js/events_properties.html\n",
       "    var targ;\n",
       "    if (!e)\n",
       "        e = window.event;\n",
       "    if (e.target)\n",
       "        targ = e.target;\n",
       "    else if (e.srcElement)\n",
       "        targ = e.srcElement;\n",
       "    if (targ.nodeType == 3) // defeat Safari bug\n",
       "        targ = targ.parentNode;\n",
       "\n",
       "    // jQuery normalizes the pageX and pageY\n",
       "    // pageX,Y are the mouse positions relative to the document\n",
       "    // offset() returns the position of the element relative to the document\n",
       "    var x = e.pageX - $(targ).offset().left;\n",
       "    var y = e.pageY - $(targ).offset().top;\n",
       "\n",
       "    return {\"x\": x, \"y\": y};\n",
       "};\n",
       "\n",
       "/*\n",
       " * return a copy of an object with only non-object keys\n",
       " * we need this to avoid circular references\n",
       " * http://stackoverflow.com/a/24161582/3208463\n",
       " */\n",
       "function simpleKeys (original) {\n",
       "  return Object.keys(original).reduce(function (obj, key) {\n",
       "    if (typeof original[key] !== 'object')\n",
       "        obj[key] = original[key]\n",
       "    return obj;\n",
       "  }, {});\n",
       "}\n",
       "\n",
       "mpl.figure.prototype.mouse_event = function(event, name) {\n",
       "    var canvas_pos = mpl.findpos(event)\n",
       "\n",
       "    if (name === 'button_press')\n",
       "    {\n",
       "        this.canvas.focus();\n",
       "        this.canvas_div.focus();\n",
       "    }\n",
       "\n",
       "    var x = canvas_pos.x;\n",
       "    var y = canvas_pos.y;\n",
       "\n",
       "    this.send_message(name, {x: x, y: y, button: event.button,\n",
       "                             step: event.step,\n",
       "                             guiEvent: simpleKeys(event)});\n",
       "\n",
       "    /* This prevents the web browser from automatically changing to\n",
       "     * the text insertion cursor when the button is pressed.  We want\n",
       "     * to control all of the cursor setting manually through the\n",
       "     * 'cursor' event from matplotlib */\n",
       "    event.preventDefault();\n",
       "    return false;\n",
       "}\n",
       "\n",
       "mpl.figure.prototype._key_event_extra = function(event, name) {\n",
       "    // Handle any extra behaviour associated with a key event\n",
       "}\n",
       "\n",
       "mpl.figure.prototype.key_event = function(event, name) {\n",
       "\n",
       "    // Prevent repeat events\n",
       "    if (name == 'key_press')\n",
       "    {\n",
       "        if (event.which === this._key)\n",
       "            return;\n",
       "        else\n",
       "            this._key = event.which;\n",
       "    }\n",
       "    if (name == 'key_release')\n",
       "        this._key = null;\n",
       "\n",
       "    var value = '';\n",
       "    if (event.ctrlKey && event.which != 17)\n",
       "        value += \"ctrl+\";\n",
       "    if (event.altKey && event.which != 18)\n",
       "        value += \"alt+\";\n",
       "    if (event.shiftKey && event.which != 16)\n",
       "        value += \"shift+\";\n",
       "\n",
       "    value += 'k';\n",
       "    value += event.which.toString();\n",
       "\n",
       "    this._key_event_extra(event, name);\n",
       "\n",
       "    this.send_message(name, {key: value,\n",
       "                             guiEvent: simpleKeys(event)});\n",
       "    return false;\n",
       "}\n",
       "\n",
       "mpl.figure.prototype.toolbar_button_onclick = function(name) {\n",
       "    if (name == 'download') {\n",
       "        this.handle_save(this, null);\n",
       "    } else {\n",
       "        this.send_message(\"toolbar_button\", {name: name});\n",
       "    }\n",
       "};\n",
       "\n",
       "mpl.figure.prototype.toolbar_button_onmouseover = function(tooltip) {\n",
       "    this.message.textContent = tooltip;\n",
       "};\n",
       "mpl.toolbar_items = [[\"Home\", \"Reset original view\", \"fa fa-home icon-home\", \"home\"], [\"Back\", \"Back to  previous view\", \"fa fa-arrow-left icon-arrow-left\", \"back\"], [\"Forward\", \"Forward to next view\", \"fa fa-arrow-right icon-arrow-right\", \"forward\"], [\"\", \"\", \"\", \"\"], [\"Pan\", \"Pan axes with left mouse, zoom with right\", \"fa fa-arrows icon-move\", \"pan\"], [\"Zoom\", \"Zoom to rectangle\", \"fa fa-square-o icon-check-empty\", \"zoom\"], [\"\", \"\", \"\", \"\"], [\"Download\", \"Download plot\", \"fa fa-floppy-o icon-save\", \"download\"]];\n",
       "\n",
       "mpl.extensions = [\"eps\", \"jpeg\", \"pdf\", \"png\", \"ps\", \"raw\", \"svg\", \"tif\"];\n",
       "\n",
       "mpl.default_extension = \"png\";var comm_websocket_adapter = function(comm) {\n",
       "    // Create a \"websocket\"-like object which calls the given IPython comm\n",
       "    // object with the appropriate methods. Currently this is a non binary\n",
       "    // socket, so there is still some room for performance tuning.\n",
       "    var ws = {};\n",
       "\n",
       "    ws.close = function() {\n",
       "        comm.close()\n",
       "    };\n",
       "    ws.send = function(m) {\n",
       "        //console.log('sending', m);\n",
       "        comm.send(m);\n",
       "    };\n",
       "    // Register the callback with on_msg.\n",
       "    comm.on_msg(function(msg) {\n",
       "        //console.log('receiving', msg['content']['data'], msg);\n",
       "        // Pass the mpl event to the overriden (by mpl) onmessage function.\n",
       "        ws.onmessage(msg['content']['data'])\n",
       "    });\n",
       "    return ws;\n",
       "}\n",
       "\n",
       "mpl.mpl_figure_comm = function(comm, msg) {\n",
       "    // This is the function which gets called when the mpl process\n",
       "    // starts-up an IPython Comm through the \"matplotlib\" channel.\n",
       "\n",
       "    var id = msg.content.data.id;\n",
       "    // Get hold of the div created by the display call when the Comm\n",
       "    // socket was opened in Python.\n",
       "    var element = $(\"#\" + id);\n",
       "    var ws_proxy = comm_websocket_adapter(comm)\n",
       "\n",
       "    function ondownload(figure, format) {\n",
       "        window.open(figure.imageObj.src);\n",
       "    }\n",
       "\n",
       "    var fig = new mpl.figure(id, ws_proxy,\n",
       "                           ondownload,\n",
       "                           element.get(0));\n",
       "\n",
       "    // Call onopen now - mpl needs it, as it is assuming we've passed it a real\n",
       "    // web socket which is closed, not our websocket->open comm proxy.\n",
       "    ws_proxy.onopen();\n",
       "\n",
       "    fig.parent_element = element.get(0);\n",
       "    fig.cell_info = mpl.find_output_cell(\"<div id='\" + id + \"'></div>\");\n",
       "    if (!fig.cell_info) {\n",
       "        console.error(\"Failed to find cell for figure\", id, fig);\n",
       "        return;\n",
       "    }\n",
       "\n",
       "    var output_index = fig.cell_info[2]\n",
       "    var cell = fig.cell_info[0];\n",
       "\n",
       "};\n",
       "\n",
       "mpl.figure.prototype.handle_close = function(fig, msg) {\n",
       "    fig.root.unbind('remove')\n",
       "\n",
       "    // Update the output cell to use the data from the current canvas.\n",
       "    fig.push_to_output();\n",
       "    var dataURL = fig.canvas.toDataURL();\n",
       "    // Re-enable the keyboard manager in IPython - without this line, in FF,\n",
       "    // the notebook keyboard shortcuts fail.\n",
       "    IPython.keyboard_manager.enable()\n",
       "    $(fig.parent_element).html('<img src=\"' + dataURL + '\">');\n",
       "    fig.close_ws(fig, msg);\n",
       "}\n",
       "\n",
       "mpl.figure.prototype.close_ws = function(fig, msg){\n",
       "    fig.send_message('closing', msg);\n",
       "    // fig.ws.close()\n",
       "}\n",
       "\n",
       "mpl.figure.prototype.push_to_output = function(remove_interactive) {\n",
       "    // Turn the data on the canvas into data in the output cell.\n",
       "    var dataURL = this.canvas.toDataURL();\n",
       "    this.cell_info[1]['text/html'] = '<img src=\"' + dataURL + '\">';\n",
       "}\n",
       "\n",
       "mpl.figure.prototype.updated_canvas_event = function() {\n",
       "    // Tell IPython that the notebook contents must change.\n",
       "    IPython.notebook.set_dirty(true);\n",
       "    this.send_message(\"ack\", {});\n",
       "    var fig = this;\n",
       "    // Wait a second, then push the new image to the DOM so\n",
       "    // that it is saved nicely (might be nice to debounce this).\n",
       "    setTimeout(function () { fig.push_to_output() }, 1000);\n",
       "}\n",
       "\n",
       "mpl.figure.prototype._init_toolbar = function() {\n",
       "    var fig = this;\n",
       "\n",
       "    var nav_element = $('<div/>')\n",
       "    nav_element.attr('style', 'width: 100%');\n",
       "    this.root.append(nav_element);\n",
       "\n",
       "    // Define a callback function for later on.\n",
       "    function toolbar_event(event) {\n",
       "        return fig.toolbar_button_onclick(event['data']);\n",
       "    }\n",
       "    function toolbar_mouse_event(event) {\n",
       "        return fig.toolbar_button_onmouseover(event['data']);\n",
       "    }\n",
       "\n",
       "    for(var toolbar_ind in mpl.toolbar_items){\n",
       "        var name = mpl.toolbar_items[toolbar_ind][0];\n",
       "        var tooltip = mpl.toolbar_items[toolbar_ind][1];\n",
       "        var image = mpl.toolbar_items[toolbar_ind][2];\n",
       "        var method_name = mpl.toolbar_items[toolbar_ind][3];\n",
       "\n",
       "        if (!name) { continue; };\n",
       "\n",
       "        var button = $('<button class=\"btn btn-default\" href=\"#\" title=\"' + name + '\"><i class=\"fa ' + image + ' fa-lg\"></i></button>');\n",
       "        button.click(method_name, toolbar_event);\n",
       "        button.mouseover(tooltip, toolbar_mouse_event);\n",
       "        nav_element.append(button);\n",
       "    }\n",
       "\n",
       "    // Add the status bar.\n",
       "    var status_bar = $('<span class=\"mpl-message\" style=\"text-align:right; float: right;\"/>');\n",
       "    nav_element.append(status_bar);\n",
       "    this.message = status_bar[0];\n",
       "\n",
       "    // Add the close button to the window.\n",
       "    var buttongrp = $('<div class=\"btn-group inline pull-right\"></div>');\n",
       "    var button = $('<button class=\"btn btn-mini btn-primary\" href=\"#\" title=\"Stop Interaction\"><i class=\"fa fa-power-off icon-remove icon-large\"></i></button>');\n",
       "    button.click(function (evt) { fig.handle_close(fig, {}); } );\n",
       "    button.mouseover('Stop Interaction', toolbar_mouse_event);\n",
       "    buttongrp.append(button);\n",
       "    var titlebar = this.root.find($('.ui-dialog-titlebar'));\n",
       "    titlebar.prepend(buttongrp);\n",
       "}\n",
       "\n",
       "mpl.figure.prototype._root_extra_style = function(el){\n",
       "    var fig = this\n",
       "    el.on(\"remove\", function(){\n",
       "\tfig.close_ws(fig, {});\n",
       "    });\n",
       "}\n",
       "\n",
       "mpl.figure.prototype._canvas_extra_style = function(el){\n",
       "    // this is important to make the div 'focusable\n",
       "    el.attr('tabindex', 0)\n",
       "    // reach out to IPython and tell the keyboard manager to turn it's self\n",
       "    // off when our div gets focus\n",
       "\n",
       "    // location in version 3\n",
       "    if (IPython.notebook.keyboard_manager) {\n",
       "        IPython.notebook.keyboard_manager.register_events(el);\n",
       "    }\n",
       "    else {\n",
       "        // location in version 2\n",
       "        IPython.keyboard_manager.register_events(el);\n",
       "    }\n",
       "\n",
       "}\n",
       "\n",
       "mpl.figure.prototype._key_event_extra = function(event, name) {\n",
       "    var manager = IPython.notebook.keyboard_manager;\n",
       "    if (!manager)\n",
       "        manager = IPython.keyboard_manager;\n",
       "\n",
       "    // Check for shift+enter\n",
       "    if (event.shiftKey && event.which == 13) {\n",
       "        this.canvas_div.blur();\n",
       "        event.shiftKey = false;\n",
       "        // Send a \"J\" for go to next cell\n",
       "        event.which = 74;\n",
       "        event.keyCode = 74;\n",
       "        manager.command_mode();\n",
       "        manager.handle_keydown(event);\n",
       "    }\n",
       "}\n",
       "\n",
       "mpl.figure.prototype.handle_save = function(fig, msg) {\n",
       "    fig.ondownload(fig, null);\n",
       "}\n",
       "\n",
       "\n",
       "mpl.find_output_cell = function(html_output) {\n",
       "    // Return the cell and output element which can be found *uniquely* in the notebook.\n",
       "    // Note - this is a bit hacky, but it is done because the \"notebook_saving.Notebook\"\n",
       "    // IPython event is triggered only after the cells have been serialised, which for\n",
       "    // our purposes (turning an active figure into a static one), is too late.\n",
       "    var cells = IPython.notebook.get_cells();\n",
       "    var ncells = cells.length;\n",
       "    for (var i=0; i<ncells; i++) {\n",
       "        var cell = cells[i];\n",
       "        if (cell.cell_type === 'code'){\n",
       "            for (var j=0; j<cell.output_area.outputs.length; j++) {\n",
       "                var data = cell.output_area.outputs[j];\n",
       "                if (data.data) {\n",
       "                    // IPython >= 3 moved mimebundle to data attribute of output\n",
       "                    data = data.data;\n",
       "                }\n",
       "                if (data['text/html'] == html_output) {\n",
       "                    return [cell, data, j];\n",
       "                }\n",
       "            }\n",
       "        }\n",
       "    }\n",
       "}\n",
       "\n",
       "// Register the function which deals with the matplotlib target/channel.\n",
       "// The kernel may be null if the page has been refreshed.\n",
       "if (IPython.notebook.kernel != null) {\n",
       "    IPython.notebook.kernel.comm_manager.register_target('matplotlib', mpl.mpl_figure_comm);\n",
       "}\n"
      ],
      "text/plain": [
       "<IPython.core.display.Javascript object>"
      ]
     },
     "metadata": {},
     "output_type": "display_data"
    },
    {
     "data": {
      "text/html": [
       "<img src=\"data:image/png;base64,iVBORw0KGgoAAAANSUhEUgAAAoAAAAHgCAYAAAA10dzkAAAgAElEQVR4nOzdeXhM5xcH8GNXrVKtLihqqaW0tPVDUVstRVuUWmottda+L2Vij13ssUSsCYJYIkGIXQhiTYJsEokIiSyyZ76/P64ZM5HM3Jm575D0fJ4nT3vHve+5SSYzZ97lvESMMcYYY4wxxhhjjDHGGGOMMcYYY4wxxhhjjDHGGGOMMcYYY4wxxhhjjDHGGGOMMcYYY4wxxhhjjDHGGGOMMcYYY4wxxhhjjDHGGGOMMcYYY4wxxhhjjDHGGGOMMcYYY4wxxhhjjDHGGGOMMcYYY4wxxhhjjDHGGGOMMcYYY4wxxhhjjDHGGGOMMcYYY4wxxhhjjDHGGGOMMcYYY4wxxhhjjDHGGGOMMcYYY4wxxhhjjDHGGGOMMcYYY4wxxhhjjDHGGGOMMcYYY4wxxhhjjDHGGGOMMcYYY4wxxhhjjDHGGGOMMcYYY4wxxhhjjDHGGGOMMcYYY4wxxhhjjDHGGGOMMcYYYyx3sSGiR0SUQEReRPSVgXNdiSiciOJe/ncTEZXKck4XIvIjohdEdIeIOil7u4wxxhhjzBITiCiUiGoSUREimkdSYlcsh/NrvzyPiKgEEe0ior06/16fiJKJqCMRFSSizkSURETfKn3jjDHGGGPMPEFE9I/OcQEiekJEf8q49gMi2kFEN3Ue20xELlnO20dEGyy4R8YYY4wxppD3iUhNUq+dLg8iWmzgunlEFP/y2kSSevk0rhHRpCznTyEiH4vulDHGGGOMKaIcSUlctSyPOxGRvYzrvyCiWUT0tc5jD4hocJbzhhDRPTPvkTHGGGOMKcjcHkBd9YgokqShYyLTegDzEVHZl/fBX/zFX/zFX/zFX7nnqyxJ7+Msl8puDmAUyZsDSETUiIgy6dVK4M2kvyiESJoTmN0cwLJEBP7iL/7iL/7iL/7KlV9lieVa44kohKTSL+8Q0VwiCqPsVwFXJamkS/GXx9WI6DwRXdQ5pz5Jq35/I2kVcCeSysFktwr4fSJCWFgY4uLihH0NHz5caPvWiJEXvgeO8fa0zzHerhh54XvgGG9P+9aIERYWpkkA37csBWFvmoqkYdxE0q8D+DlJtQEbvTz+kojOElEMSYtAgohoDRF9nKW930mqA5hERHdJKgmTnfeJCHFxcRDJ3d1daPvWiJEXvgeO8fa0zzHerhh54XvgGG9P+9aIERcXxwkgs4hVEkDGGGOMKYcTQGYpTgAZY4yxXIYTQGYpTgAZY4yxXIYTQGYpTgAZY4yxXIYTQGYpTgAZY4yxXIYTQGYpTgAZY4yxXIYTQGYpTgAZY4yxXIYTQGYpTgAZY4yxXIYTQGYpTgAZY4yxXIYTQGYpTgAZY4yxXIYTQGYpTgAZY4yxXIYTQGYpTgAZY4yxXIYTQGYpTgAZY4yxXIYTQGYpTgAZY4yxXIYTQGYpTgAZY4yxXIYTQGYpTgAZY4yxXIYTQGYpTgAZY4yxXIYTQGYpTgAZY4yxXIYTQGYpTgAZY4yxXIYTQGYpTgAZY4yxXIYTQGYpTgAZY4yxXIYTQGYpTgAZY4yxXIYTQGYpTgAZY4yxXIYTQGYpTgAZY4yxXIYTQGYpTgAZY4yxXIYTQGYpTgAZY4yxXIYTQGYpTgAZY4yxXIYTQGYpTgAZY4yxXIYTQGYpTgAZY0IdDjiMfgf6venbYCxP4QSQWYoTQMb+wxyuO2DqialCY6y7sg5tt7cVGgOQEs1V3quEx2HsbcAJILMUJ4CM/YeVXFASpCKhMRaeW4hue7oJjQEAVe2qCv9eGHtbcALILMUJIGP/YTVX14TqlEpojGme09B8S3N4BnkKjVPPvh6cbzsLjcHY24ITQGYpTgAZ+w8ru6QszoWeExpjhNsIfLDgA7R0bCk0ToVlFXA65LTQGIy9LTgBZJbiBJCx/7Di84rjdtRtoTH67O+Dr1Z/hQYbGwiNU3JBSfhG+gqNwdjbghNAZilOABn7j1Kr1Wjq0BQR8RFC44w6Ogq/O/+O2mtqC4uhVquR3yY/gmODhcVg7G3CCSCzFCeAjDHhTgadRKUVlYS1n5GZgb139iI5PVlYDMbeJpwAMktxAsgYE8473BufLPrkTd8GY3kGJ4DMUpwAMvYfFxwbjGdJz4TGuB11G+/Ne09oDADYfmM7bj6+KTwOY28aJ4DMUpwAMvYf12prK2y8ulFojITUBBz0Pyg0BiD+e1Gr1RjpNhKBMYHCYjAmByeAzFKcADL2FgqLC8Oyi8usEuu3Xb/B7pKdVWKJ1tGpI5ZfXC6sfbVajfob6lvtd8NYTjgBzDtsiOgRESUQkRcRfZXDeaWJaAsRBRFR/Mv/ziOiwjrnVCAi9cu24nX+Wzyb9jgBZOwtdCr4lNBFE7p6uvTE/LPzrRJLtF77emHumblCY4w+Ohqjj44WGoMxYzgBzBsmEFEoEdUkoiIkJXThRFQsm3O/IKLJL/9LRFSJiG4Q0VKdcyoQUabOOYZwAsjYW8jlrgu+t/9eaIwrj65g8fnFGOg6EP+e/FdYnLln5uJJ4hNh7QPSKuBMdSYGHxosfG/juWfmote+XkJjMGYMJ4B5QxAR/aNzXICInhDRnzKvH0VE13WONT2AlWVcywkgY2+hDVc3oPW21kJjbPXdimZbmmGk20iM8xgnLE7h2YVx/9l9Ye0DgKOvI5o6NMU4j3EY6TZSaKz1PuvRdntboTEYM4YTwNzvfZKStfpZHvcgosUy2zhCRJt1jjU9gGFEFE1E54ioo4H4nAAy9paxPWeL7nu7C41h72OPttvbYsqJKRhyaIiQGJnqTJCKEBYXJqR9jXVX1qHt9raYcXIG/jrwl9BYLndd8N3674TGYMwYTgBzv3IkJYDVsjzuRET2Mq7/l6S5g2V0HnuXpISyIElDyr2IKIWI2mZzPSeAjL2FJh2fhCabmwida2Z3yQ6/7foNp4JPCVuhm5SWBFIRnr54itSMVGRkZgiJs/zicnRy6oSI+AiEPg8VEkPjZNBJVF5RWWgMxozhBDD3s6QHcDZJcweryIjjQETbc4iP4cOHY8yYMRgzZgzc3d3f9POasf+8QQcHocnmJqiwrIKwGAvPLUS3Pd2EtQ8AMUkxIBUhMTUR5ZaWw7nQc0LiLDi7AD329hDStq7Q56GIiI9AWkaa8FiMZeXu7q59rx4+fDgngHlAdnMAo8jwHMDVRHSPiD6XGWMTEe3I5nHuAWTsLRQRHwG3e24ovbC0sBizT89G3/19hbUPSN8HqQjpmemovKIyPIM8hcSZeWqm8KFfAOh/oD9Up1TC4zBmDPcA5g3jiSiEpNIv7xDRXJLm72W3CrgASYncLSL6NIf2GhNRdSLKT0SFiKgHESURUYdszuUEkLG3lF+0H4rNLSas/Wme0zD40GBh7QNAUEwQCs4qCAD4avVXcLvnJiTOpOOTMOzwMCFt6+rs3JlrALK3AieAeYeKiCKJKJH06wB+TlIdv0Yvj38kaYFHEkm1/XTr/GkMIKIHLx9/SkQXiKhzDnE5AWTsLRX6PBSkImSqM4W0/yLtBeJSxP7tp2ak4s6TOwCAb9d/i/1++4XE2XZjGxx9HYW0rcsau6YwJgcngMxSnAAy9pZ6+uIpSEV4kfbiTd+KIhpubIhdt3a96duwSOPNjbHj5o43fRuMcQLILMYJIGNvqeT0ZJCKhBdRtpbmW5pjy/UtQmO8SHuBoJggYe1/t/477Lu7T1j7jMnFCSCzFCeAjL2l1Gq1sOFfXecfnkebbW2Ex7E9ZwuvYC+hMY4HHkdVu6rC2q+5uibc7rnhyL0jiEmKERZHrVbnmcSficEJILMUJ4CMvYXuPrlrtaHfU8GnUHF5RavEEu1s6FmUX1ZeWPtrr6xFUEwQyiwpg4thF4XF2XtnL0hFXG6G5YgTQGYpTgAZewuVWVIGFx5esEqsCw8v4LPFn1kllmiXwy/j40UfC49T1a4qTgSeENb+5OOTQSrCrahbwmKw3I0TQGYpTgAZewuVXFASvpG+QmP4PPJBZEIkrkZcRSnbUkJixCbHIjAmUEjb2bn5+CZKzC8hPE7tNbVx5N4RYe333tcbpCL4R/sLi8FyN04AmaU4AWTMDIvPL0ZwbLCw9ovMLoKApwHC2geARpsaYcfNHbjz5A7enfuukBg7b+5E482NhbSta7zHeJx/eB4BTwNQZHYR4fHq2deDy10XYe2329EOay6vEdY+y/04AWSW4gSQMRPNPj0b78x5B4cCDglpP1OdCVIRHj5/KKR9je/tv4fLXRc8ePZAW6xZaVuub0HzLc2FtK2r7rq6OOB3QFs7Ua1WC43XZHMToeVg5p6Zi7OhZ4W1z3I/TgCZpTgBZMxEpReWRrG5xbDtxjYh7SemJoJUhOgX0TgZdBIhsSFC4tReUxuHAw4jMiEStdfUFrLieMPVDVZZYfzV6q9w5N4RxKfEY5rnNGRkZgiN12prK2y6tkloDMYM4QSQWYoTQMZMkKnORH6b/Phq9VfChuiiX0RrC0A3dWgqbIeL6quqw+OBh5C2NVZfXo0OOzsAALbf2A67S3ZC4ny58kscDzwupO3snAw6iQfPHlgtHmNZcQLILMUJIGMmiE+JB6kIbba1ge05W2ExZnnNQqY6E222tYG9j72QOJVXVMbJoJNC2tZYfnE5Ojl1AgDM8pqFvvv7ColTcXlF4TUGHyc8RuUVla1Sm5ExYzgBZJbiBJAxEzxOeAxSEXrv643pntOFx/t1169Y6b1SSNvll5UXPs9s0flF6LanGwBg/tn56OnSU0gca5TNefDsAQrNKiQ0BmNycQLILMUJIGMmCIoJQgGbAhh9dDRGHR0lPF7X3V2x6PwiIW1v9d2KyIRIIW1rnAs9h7139gKQVk533d1VSJyyS8rC55GPkLY1bkfdRvF5xYXG0HU88DgmH59stXgsd+EEkFmKE0DGTHAr6haKzyuOqMQoq2zV1Xtfb8w5PUd4HGuwu2SH33b99qZvw2xXHl2xSpFpDadbTmi4saHV4rHchRNAZilOABkzQVpGGiLiI6wWb6DrQPx78l+rxRNp7ZW1aLej3Zu+DbOJ3mZOIyQ2BL87/44j947gq9VfCY/HcidOAJmlOAFk7C3m88jHKtuBLTi7AGFxYUJjOFx30K4IFqn5luZCfmYnAk+gql1V7bGoWoOansYzIWesknCy3IkTQGYpTgAZYyizpAwuhl1807ehiHJLy+H8w/OKt3v+4Xl0du4MAJh3Zp6wFc2nQ06j4vKK8Hnkg9ILSwuJwXI/TgCZpTgBZOwtcybkjNWHSissq4AzIWesGlOUSisq4VTwKaExdFc3K83tnhu+Wv2V1RedsNyFE0BmKU4AGXvLHPQ/iG/WfmPVmFXsquBE4AmrxhSl2spqOPbgmNAYIhe07L2zF/Xs6yEoJgilbEsJiaER+jwUVyOuCo3BxOAEkFmKE0DGzJCQmiBsbp7LXRfUs68npG2NxNREfLDgA8QkxQAAaqyqgaP3jyoeZ/LxycJ2TNFISU/BthvbkJ6ZDgCotaYWDgccFhrT3sde2BZ3jr6OaLalmZC2s2q+pTlabW1llVhMWZwAMktxAsiYCUKfh8I/2h/nH55HuaXlhMTYdWsXGm1qJKRtjZikGJCKkJCaAAD4Zu03OOh/UPE4PV16Yt6ZeYq3q0tTnDslPQUA8O36b7Hfb7/QmI6+jmjq0FRI25uubUJHp45C2s7q67VfY9/dfVaJxZTFCSCzFCeALE/5aetP2H5ju7D2NduZXY24io8WfiQkhqOvI5pvaa49FrH1WNak6Xv77+Fy10XxOF13d8Xi84sVb1dXWFwYSEXan9Mfe/4Q0pupy+mWE+pvqC80hjV8tPAj4QW0mRicADJLcQLI8oxMdSZIRUKHzyYfn4whh4bg7pO7eG/ee0JibLi6QTu86HDdAS0dWyoeI2vSFBIbgviUeMXjdHTqiBWXVgAAohKjsPv2bsVjBMYEouCsgoq3a8iFhxcw4dgEq8ZUWkZmBvLb5EdIbMibvhVmBk4AmaU4AWR5ir2PvdA5TaOPjsYY9zHaLeFE2H17N4YfGQ4A2HFzBxpvbqx4jKCYIOS3ya94u1m129EOa6+sBQBcDLuIMkvKKB7DP9of78x5R/F2szodcho7bu4QHsdaol9Eg1SExNTEN30rzAycADJLcQLI8hS3e26oubqmsPaHHh6KSccnITIhEqQi7cIDUTQrQpUW8DQARecUVbzdrFptbYWNVzcCgLC6djcf30SJ+SUUbzer+Wfno6dLT+FxrMUv2s8qiTMTgxNAZilOAFmeci3iGj60/VBY+wNcB2DGyRmITY4FqUjIsKkuV39X1FlXR/F2Q2JD0H5He8XbzWqA6wAc8DsAQErUSi4oqXiMqxFXrVIw2cbLBv0O9BMeR5fzbWdEJkQKaTs9M1347i9MHE4AmaU4AWR5SkhsCGqtqSWs/V77emHO6TlIy0jD/LPzkZSWJCwWIL5H05r8ov1QbG4xxduNTY4VvugDAKZ7Tsegg4OEx9FVxa4KPIM8hcZYcWmFkAVATCxOAJmlOAFkzATu991x5dEVq8XLuv9sbvbg2QMUmlXoTd+G2SYem4h/jvwjPM6p4FPwjfQFANReU1t4TcNBBwdhuud0oTGY8jgBZJbiBJCxt9idJ3esknSEPg8VNtSo8fD5Q5CKoFarhcZx9XeFV7CX4u2OPjoaY93HKt5uVt32dMPCcwsBAPXs62HPnT1C41krsWXK4gSQWYoTQJZnHA44jJNBJ9/0beRKffb3wSyvWUJjJKcn41DAIeEJ4EDXgZhxcobi7Q47PAyTj08GAETER6DXvl6KxwD0S+f86PAjtvpuFRJHY/bp2eizv4/QGEx5nAAyS3ECyPKMvw78hZmnZr7p27DYAb8D8HjgYdWYA1wH4N+T/1o1pihDDw/VJmpKin4RjacvngKQag+KGs7+efvPWHdlHQCgzbY2sPexFxJHY8mFJeiyu4vQGEx5nAAyS3ECyPIM3aGz3Ozvg39bfU6WqKTpTRh1dBTGeYwTGkNTSFtEb2YLxxbYfG0zAODXXb9ipfdKxWMAUhIbFBOEtVfWot2OdkJiMHE4AWSW4gSQ5Rm/7PwFq7xXvenbsFi/A/2ED8dejbiKuWfmao9Huo0UkjTZnrMVXmokPTMdaRlp2uPxHuMxwm2E0JiarfRSM1IVb7vRpkbagtPXIq4h9Hmo4jGAV79zR19H/LT1JyExmDicADJLcQLI8oyWji2x+dpmOPo64lrENeHx2u9oj+OBxxVvt6dLTyw4u0DxdnU533bW28t2nMc4IUlT6YWlhe81u+X6Fr29k6eemIohh4YIjRmTFANSERJSExRv+3v777H3zl7F281KU9NS9JxMJgYngMxSnACyPKPBxgZwvu2Mn7f/jPU+64XEaLSpEU4FnwIgrdAUUT+ty+4uWHphqeLt6tp+Y7veFnNTTkwRkjSVmF8CNx/fVLxdXbp7JwPAzFMz8deBv4TGTExNBKkIz5KeKd72hYcX8DjhseLtZpVXpkz8V3ECyCzFCSDLM75e+zUOBRxCZ+fOWHZxmZAYlVZU0q40brSpEXbe3Kl4jF93/aodyn6e/BydnDrpDXEqweG6g16vmVewF47cO6JoDAAoNrcY/KL9tMcv0l4gU52paIzVl1ejw84O2uPHCY+FDzunZqSCVCS8dI5IHXZ2wJrLa970bTAzcQLILMUJIMsz7j29h7iUOPTa10tvfpuSyi0th/MPzwMAmm9pji3Xtygeo+32ttqVn8+SnoFUhMTUREVj2PvY6/WaiVJoViE8ePZAe/zevPdw58kdRWMsv7gcnZw6Kdpmdvyi/bQ9fmq1WvFE1tqabWkGR19H4XHiU+Lx09afhO+a81/DCSCzFCeALM8RuYr240Ufa3cC0U3UlBQeF47Y5FgAQEJqAkhFiEmKUTTGKu9Ver1mIqjVapCK9BYxfLDgA+0uF0pZeG4huu3ppmib2RHV4/um/G/D/4QXmQaA21G38e7cd3muocI4AWSW4gSQ5Tmjjo4StmOD7pw2kSU6NFLSU0AqQlRilKLtLru4THivWXpm+mvDpB8v+hiXwy8rGmfumbnCijLrqmdfzyqLM3SlpKco3vur4XTLCYExgULa1nUy6CQqraiE2mtqwzvcW3i8/wpOAPMOGyJ6REQJRORFRF/lcF5pItpCREFEFP/yv/OIqHCW85oR0VUiekFEgUQ0JIf2OAFkeY6oBQ0A8M6cd+Af7Q8AmHBsgrZchyiZ6kyQihSf05acnoz4lHhF28xKrVbDL9oP6Znp2sd0h9CVst9vv7Zwskh11tXBQf+DwuPomuU1C/0O9BMaIzUjFdtvbNf7PSlpv99+1F1XFzVW1YDbPTchMf6LOAHMGyYQUSgR1SSiIiQldOFEVCybc78goskv/0tEVImIbhDRUp1zyhNRIklJX0Ei+pGInhPRb9m0xwkgy3MeJzxGRHyEkLabb2mOR/GPhLSdkwI2BazSU2MNXyz/Qsg+vdZQc3VNuN93Fx7nefJz7fzCBWcXoMfeHkLjaVY0Kz3NQEOz4OiHTT8I/8D0X8IJYN4QRET/6BwXIKInRPSnzOtHEdF1neMZJPX+6VpKRMezuZYTQMbecsXmFtP2OuZ2X678EsceHBMaIy4lDkExQYq3W8WuivC9prP2+C67uAy/O/9u1ZhKW35xOTo6dUT7He2x+vJqITH+izgBzP3eJyI1EdXP8rgHES2W2cYRItqsc7yPiNZmOacHET3NIT4ngCzXS8tIw+2o23lyork1vqeD/geF9zQBUpFm0XUB99zZo1fkWinll5XHudBz2uOj948qXq8vOT0ZpCI8SXwC4PUSN6IUnl0Y95/dF9L20gtLMeTQEPTa1wtzTs8REuO/iBPA3K8cSQlgtSyPOxGRvYzr/yVp7mAZncdOENH8LOe1JaK0bK7nBJBZTVhcGJ6+eCqk7ZDYEGF7s1rb7ajbQnaYMMTplhMabmxo1ZiiHPA7gLrr6ire7urLq/WG/6uvqq54b+bz5OcgFSEuRXpN3nh1I1pva61ojOy8P/993Iq6JTTGCLcRwvdo/i/hBDD3s6QHcDZJcwerZHnc5B7A4cOHY8yYMRgzZgzc3cXPcWH/Te13tBe2ajbgaQAKzy4spG1ry9rTZA0ud13wvf33Vo0pits9N3y1+ivhcb5e+zUOBxxWtM2oxCiQipCcngwA2Oq7FU0dmioaIzvW2LLP3scedpfshMbI69zd3bXv1cOHD+cEMA/Ibg5gFBmeA7iaiO4R0efZ/NsMIvLJ8hjPAWRv3KCDgzD1xFQhbd+KuoXi84oLadvayiwpg0thl0y+zssLcHWVd65ftB/uPb2nPT4UcAhfr/3a5JiGpKSnCB/uzc7xwOOoaldVeJzv1n+HfXf3KdpmWFwYSEXaRSDe4d6wPWeraAxAGmouvbC0tkdexOpsJhb3AOYN44kohKTSL+8Q0VwiCqPsVwEXIKIdRHSLiD7NoT3NKuDBRFSIiJoQUSzxKmD2Bh0KOIQBrgMw9PBQIe37PPLBRws/AiCtarTGookTgSfgdMtJ8XY/XvSxWb0xRYoARPLOHXZ4GCYdn6Q9dr/vjhqrapgc05AHzx6g0KxCiraZHbtLdnqrS72CvVBxeUXhcRtubKj4799aP7PY5FiQirSlgDweeAibnsHE4AQw71ARUSRJiZsXvaoD+DlJtQEbvTz+kYgyiSiJpDqA8S//PT5Lez8S0TWS6gAGkZQMZsfkBDAlPUU7P4UxuT5e9DG67O4ibMeG8w/Po+ySsgCAs6FnUX5ZecVjRMRH6BWYnndmnpACxKVsS5m1WwaR/ARw8KHBmOY5TXvsGeSJKnZVTI5piH+0P96Z846ibWan/4H+sPGy0R6ff3ge5ZaWExZPrQYyM4GmDk2x1Xerom1HJkQK+5CUNQ6pSPE9pt+0tIw0fL7081y9R7NcnAAyS5mcAP7p8ie67O4i8GnN8hq1Wo0CNgUw5cQUtNraSkgMzW4DAHA5/DI+WfSJ4jGuR15HKdtS2uPF5xej6+6uiscpPq84bkfd1h6733eXVaJDkwCmy6jnO8B1AGaemqk9vhpxFe12tDPndnN0O+q2VYble+/rrbf3c1hcGBaeWygsXps2QPPmwE9bf8LGqxuFxREpODYY+W3y54lFUxqBMYGY5jkNpWxL4VrEtTd9O8JxAsgsZXICWG1lNRy5d0Tg05rlNZrSFuuurBO20CAwJlA7wfzG4xsouaCkrOvUaiBGZv1b73BvfLb4M+2x3SU7/LbrN5Pv1Rjd3UYAaQsyl7suRq97/4edoJp7EBtrPEbf/X0x+/Rsk+9NrVYjJT1F1rk3Ht/ABws+0HtsltcsuPrLnKgoU/e93YXMk8uJJtH2CvbKtQW6/aL9UGxuMavEcvR1RHhcuPA4Hg88UH1VdVReURmeQZ7C471pnAAyS5mUAKZlpKHgrIIIjg0W+8zO4uZNYMYMq4ZkCnqS+ASkItyKumWVLbtMGXpctkz+sOmZkDOosKyC9njdlXX4efvPZtyhYQvOLsCzpGfa4x82/YBdt3YZva5wu4mgdsPw8KHxGH+6/In5Z+ebfG+rL6/Gu3PflXXu1YirKL2wtN5jnZ07Y/nF5SbHNaTL7i5YcmGJom1mlZyejIrLKyImKcakofa31fXI668l56J8vvRzq6xq33lzJ37Y9AO+W/+drA9MuR0ngMxSJiWAmhVqovaMzMm33+b+F9z/sqCYIBSwKWC14SbN8JYcmjfzzEzj554IPKG3unTztc1o6djS6HXPkp7J7jXLTrMtzeDo62j0vPyNloL+6Iy7d4232W1PNyw6v8jke+m9rzdIRYhNNt7NmLXHFAD+2POHWXEN6ejUESsurVC0zaziUuJAKpLq9OWBBPDuk7vo6NTRKrE+WvgRrkVcQ3BssN4cWqWt9F6JX3b+InxoPiktCWVE8oAAACAASURBVD9s+uGNz4XnBJBZyqQE8FrENXxo+6Hgp/XrunXL/S+4/2U3H99EifklrBYvIj5C9geVatWk59ZYGe9LR+8f1asvt/3GdjTe3NjodW23t8XaK2uNB8hB622tjb6hZWQAVHsH6K9G8PY23ubxwONmLTRpt6MdSEWyhj7D4sKw7OIyvcd6uvQ0q+fRkM7OnbHm8hpF28zqWdIzKfFNTLRqAvjw+UO039FeeJz0zHRhC0KKzS0Gv2g/3Hh8Q+jrgOqUCv0O9EPX3V2x+PxiYXECngagyOwib3z+JCeAzFImJYDu991RfVV1wU/r1w0dKr3gBgdbPTRTQGxyrOIFcw15kfYCNl42st7QunaVnlvbthlv91DAIXyz9hvtcUJqAiLiI4xe9+36by2qF9d+R3ujCU5CAkCVjiH/qC9x4oTZoYxqsLEBnG87m3193/19MctrloJ3ZB2aAs3hkanaBDDNCgtorVUWptuebkLmUarVapCKEPo8FA+ePUDBWQUVj6Ex0m0kxrqPxdwzc7H52mZhcS48vKCtOPAmcQLILGVSAhgYEyhrLpLShg2TXnCv5f2FXczKOneWnluHDhk/NyU9xaxaaZ/alrNoDlQnp05GhzifPAGo3EUUnFgG+/ebHcqo5ReX4+4TGWPMORjgOgAzTua+Cb3hceEgFeGuXyby5ZOeM1FRysc5E3IGw48M1x5rpt2I7m3qs7+PkMRcd2/jxwmPQSpCakaq4nEAoN+BfnrlgEQ5FHAItdfUxoarG2R9ABSFE0BmKbMKQXsFe1m1/EGfPtIL7tmzVgvJ/gMeJzzGl32XgAhwNr9Ty6CbN9Wg6YUxd52/2UNsF8Mu4v6z+wbPGXVgBqhLNxSY/r6s3sys4lPiMeXEFGRkZph1j3KNcBsB1SmV0BjPkp6h5uqaFs27zCokNgT5VPlw7Jj0WlSwIBAYCMUTM6dbTmiwsYH2WNPzqOT3kh1Ru/Rohs4TUxORkJoAUhFikmQuuzfRi7QXSExNFNK2LkdfRzR1aIpKKyrhVPAp4fFywgkgs5RZCaCo1Y850fTSHOHqMywH633WY+KxiSZdcy70HApPLgsioEkTMffleS4epCJQ/8ZYfXm1mCAAOjv2R4FW/6LNL4lYY8Z0OM1Kbc0etG9aeFw4LodfNutaTdKRkJqg2P2ExYWh/ob6WL1aei0qUQLotW204osatt3YhiabXz0Zs+7YIcoItxEY5zFO8XZTM1JxOuQ0MtWZSM9MB6ko1xdpXnphKTo7d7Z4aoelOAFkljIrAdx1axcabmwo6Gn9utatpRfdXdYffWYKq2dfD7eibinermYCuClc7rrgnVHfgQgor/zGIQAApyPSghTq2lXW4oenL56i8orKJg+Ttd7QDe+0XITu3QFbM6ZyiU40xo4FFpmw+HfL9S1o6tDUrFjxKfGyVyqbytkZqF8fKFsW6OkwHiPcRijavsN1B7RwbKE9TkpLAqkI0S+iFY2T1XiP8fjnyD9CYwBAAZsCVi8jprRlF5dhrPtYtHBsIXSuoTGcADJLmZUAHr1/VPF9Qw354QcpAVy/3mohmSDll5XHmZAzirc75cQUDD402KRrVl9ejWID26N+fWDIEMVvCQDQY8BTUJsxoA6DMEXGENuj+EcgFSFTLaMujY7Gq39BiZ9WY+BAYPp00+8zMTURpCK9+oNKMnXl7JF7R1BzdU2zYmmSpieJT8y63hBHR6BZM+DLL4HuG6dgyCFlnzj2PvZos62N9jgjMwMlF5RUvNfsROAJ2PvYa4+ne07HQNeBisbIzvPk5yY/t99WnZ07Y+mFpW8sPieAzFJmJYAXwy6izJIygp7Wr/v6a6BoUWCJ2FqvTJC0jDTt3LIaq2rg6P2jiscY6z4WI91GmnTNvyf/RdFuf6FDB6B/f9NjJqUl4cqjKwbPKV78ZfLTajz+3me8tyj0eSjyqfKZfC/fLm+J0q0cMGYMMHq08fN/2voT9vu9Wi2Skp4CUhEeJzw2eq13uDeOBx43ep7bPTftVnmmJoCXwy/j40Ufyzr3oP9Bva3yNEONIibor18PtG0L1K0L/LF2Bga4DlC0/dWXV6PDzg6Ktpkd23O26L63u/Z43919WO/Dn7BN8deBv/DvyX/fWHxOAJmlzEoArbmNEABUqgRUqADMyn3VIxiAiccmaoeX6tnXw947e41eY+pQ5D9H/sGEYxO0xy0dW8I73HBBvGGHh6Fgp79Rb8Ry9OhhPEZYXJje8LWcv4MxY4BRo4D8zW3QaWtfozECYwLNKvtRfVFDfN7WGVOnAoNldIR+b/+93m4JmepMkIpk7Tk898xc/Onyp9Hzdt7ciUabGkk1Ck1IAC+GXcSk45NkFw+vtaaW3vaUuqVHlLZiBdCxI9C4MdDFbjb67O+jaPvrrqyT9bO1lI2XDfru7ys8zpsQ8DTAKquBNWVn3hROAJmlTEoAm21pBrd7bohMiBS6nD+rTz4B6tUDJk2ySjimsJFuIzHeYzwAoPmW5thyfYvRa1ptbYWtvltlx/j74N+Y7vlq7PPLlV/i2INjBq/p5dIb9MvfoJn50LGT8URj2cVl6OzcWXscGBOIAjYFDF4zeDAwdSpQvPVSNFvb2eC5gPTmlXUbu0x1ptHVuU2X90X1Nqcxa5a0at6YOuvqvLYnb36b/AiKCcrxmuuR19F6W2vZeyBvu7ENTR2aIibmVQIoZ9Hsiksr0GhTI5CKkJSWZPT86quqw+OBh95jtdbUwsPnMvbEM5GtLdC9u9QL2GnJfPR06al4DGuY5jkNgw4OetO3oSjPIE8kpibibOhZlF8mf1KvWq1GT5eeJs9NDo4NRkhsiKm3qRhOAJmlTEoAq9pVxfHA48hUZyIqMUpYbaqQ2BC9shfvvQe0bw/8I36OMhNg0MFB2uSsw84OslbDVl9VHe733WXHmO45Xa9Ycu01tXEowHBxv4CIcNBHfiAVoVV74ytGF51fhD/2/KE9fvj8odEabb17A3PnAvSFJ/432vgqiDtP7qD4vOJ6j009MdXom/XWrcCPPwJDF5zBrz2MF6jL2msGAPef3TdYqkazFd7ma5v1FirkRLOgISjoVQJ4OfSm0dIZqlMqdN/bXfY8vip2VeAZ5Gn0PCXY2AD9+gG//w70t3V9baeT3GLCsQlWWfTxIu2FsHmlWRWeXRj3nt4zeceqe0/vgVSEMe5jBN6d8jgBZJYyKQH8dPGnuBR2SfDTWvp0OtB1oFQ6IF0NImDgQPPmabE3r8/+Pphzeg4AabXh9hvbjV7z7tx3cefJHbNjfm//vdGh5sePAcqfBlIRfmhjfL7YvDPz9Hp85BS27dwZWLZM/hDovaf39MqAAMDMUzPR/4DhJ//69UCbNkC52XVQr9dBo3Gy6zUzRrMTivNtZ/xvw/+Mnr/h6ga03tYaW7a8+v7/PbpQL4nOzuijozH66GhsvrYZL9JeGI1TcXlFnA45Lfv7MMe9p/ew8NxCTJkiLRjq0yd3T0kZdXSUVYYvt1zfguZbmguPo5n3+Sj+EQKeBqDonKKyrz0UcAikIvTe11vgHSqPE0BmKZMSQEvflOUa4DoA/578FyXml8DlwADpjeNfaeiFKStTnQmH6w5C67/9secPk/bm1N09wFyNNzfGjps7DJ7z4AFQuDBQyKYo6rQMMNrmLK9ZevOmYpJijNaba9tWSs4KFjR//9g5p+eg175eBs9Zvlyam1ZpXgPU7rbbaJvm9Jo533ZGw40N4ervqrclXk7WXlmLdjvawd0d+PhjaSHXFFf9YfTs/H3wb5Mm15dbWg7nH56Xfb4u/2h/RCUa7zH1eOCB6quqaxfZDBuWu6ekDDs8DJOPTxYeR/Mc0PAO90Z4XLjicZ4nPwepCHEpcdpdW+QWNV/vsx4tHVvKHtFa77NeyPQCU3ECyCwlOwHUTBK3xhP/l52/YKX3SlRaUQk7L5xE/vzS5OvfjE87YiZ6+Pwh8qnyCZ3P+euuX7HKe5Xs8zVzTBNSE8xOTFs6tjRao+vIESkpe39OaVRrbng1LwDMOKm/6lNTOsXQzgZfdtuM3+1s4OoqxUpPl/89aNies0W3Pd0MnjN/PtCjB1DDthmqdjE+d7L3vt7wjfQ16T40Q7oeDzxQbWU1o+c73XLCCLcRcHEBvv9emss7fvdK/LrrV4PX/enyp6yaiRqfLf7M6IKfnLTZ1kbW6tfDAYdRa00tDB0KTJ4MTJgADB9u9DJF7Lq1S/GkKSE1AQmpCfD3l1Y0i7LkwhL87vy79riFYws4XHdQPI5u0mdqTcs5p+eYVEO07JKyuPDwgrm3qhhOAJmlZCeAIourZqXZcP6HTT9gweGdKFEC2LBBKgjNlGVKuQ0AuBR2yeTVgwvPLTSpt0mzurb/gf6YeWqmSbE0hh4eij139hg85+RJoFQp4NP5lVCh6UmjbWatNZiemY6F5xYaHKb8tOc0tLIbhJ07pQQwOFj2t6Cl2XnAkBkzgL/+AuouaYvynewNnmsuTYmSmKQYo+VvdG3bJs1PrFoVGLXN+C5CnZw6YfnF5bLb93jggZikWFSsCJw2cSS4z/4+mH16ttHzDvgdQJ11ddC/P6BSSV/9TKs7brLERGm7uWorqxld0GSuAQNe7rMecU3xmoaAtGJct/f65+0/Y+2VtYrHCXgagCKziwCQyk6ZuuNIeqb8T2Yl5pfAzcc3Tb5HpXECyCwlOwGMSYpBC8cWJv2hmKvSiko4GXQSHXZ2wO8LVoEI2L5d3HZd/2Wu/q74eu3Xss93uO5g9g4NcgXHBuOfI/9o54KJcuQI8NVXwIZDvqhYzfjfwMWwi/AK9jIpRqkeo9Fp3WgkJ0tvtPPld2xprfReiV92/mLwHE2PVMMVHfHJbytMDyKDw3UHs3a+0K2dN3zTRrTa2srg+TFJMSZv43b2rOm1BgH5O2DsvbMX9ezroUcPYMECYPFioGtX02LJcS70nHaedffu0veT3YIdpWh+Zgv3nETlFZUVbz9rr3knp05CFs5ci7iGUraltMePEx4L2ddarVaj4KyCCIwJREp6ipDhbLk4AWSWMqsOIAD4RvriUfwjAU9r4L157+F21G303tcb3dfMRoEC0A4jMWWt91mP1tvkd63OODnD6IIEpchZ/GAutVqNJdtv4tt6abh4ESgjqK75e92G4k8Haa6VOQkKABwPPA7bcznv7xaXEodvJo3C2PEZaLG6Oz7oYMZecADuPrmLuBTTXwuMWbpUWjXbpAkweI2jkEUBp07p/3ztLtkhMCbQ4DV99vdBC8cWsuruaba/7NRJmm+5di3ws4Dt0IceHqqdm6f5fj6dWRcH/A4oHwxSfVUiYMbGcyaVTpFr0vFJGHZ4mPa4x94eJg3vyxWVGIVtN7Yp3m5WmoLpUYlROBNyRsjPTC5OAJmlzE4A225vi3VX1in+pFar1Vh7ZS3iU+Ix0m0k2i4biyZNADc3oKZ5O0MxA2Z5zULvfb3RYWcHWW8yQw8PxaTj1pn9LmfoU2OV9yr4R/vLbluzXVj9Fk9w/bo0FCxCkT/+wqCdM/Eo/hHKT+woJGkIjg1Gvpn5Mf1fNda5ncGHNc0bnqqxqoZJpXfkmjNHKofTti2wYE24rEoCa9cCXiZ0tmrmWGoSQDmrnGusqoEOOzsYnZMISDUNf3T4ET//DKxbJ5XdqdPeW6/4uBIGug7ULoDRfD80sL7R6Qzm6tPnZYyy3vh08aeKt7/fb7/eanxLpnW8DZ4lPQOpCImpibgacRUfLfzojd0LJ4DMUmYngF12d8GSC2L3Ztt5cyd6LrZHu3bSm8EXXygf40zIGeH1n54kPsGc03OE1U20xDiPcVKivb2trLk5XXd3xcJzC82Od+HhBdmTwDdf24yWji1lnVtzdU243XOTfR9PEp+AVISWbZNw9y5QTNDGNgW6/okxLvMQEhuCfKp8+KaO4eeAX7Qf7C7ZmRTjzpM7KDjjPcybB9y4AZQsad69fr32a6O1E80xdapUOqVLF/nbORIB9HsP2T+Ljz9+lTClpckbNv1k0ScYfmS4rB7JhNQERMRHoHlzaT/gffuAyu0OyloNbYq++/tiltcsxMW9+n4+m2p8Rbu5OnaUYpT7/rreEKoo1vwAaar9fvuNjmpptmrMVGfCP9r/taLt1sQJILOU2Qmg5oVKtAULgG7dgEuXgM8+U7btF2kvcCLwhJC5L7oy1Zn4dPGnJleaN0VSWhJGuI1ASnqKSdf5R/vDL9oPvff1ljUZvoVjC6zyXoUNVzeYldCu91mvt9m9IZp5V3JoipTLpSni/MuvagQFAQUMb+hhlsxMgNoNwzyPdYhKjAKpCCU/Mvz7OeB3AN+u/9akOFceXUGRaR9j2TIgIAAoUsS8+/1u/XfYd3ef0fNM/bWPGgWMHSstmrCRuUMXEUCde2LB2QWyzv/rL+C776Trnj0D6q4zPmxadE5RuPq7wvm2s7ybAtCgAeDsDHh4AGWbuaHmamWHJXq69MT8s/Nx7570vbRrB1BfebvnmOJqxFU8TniMxo2B+vWB5n/cwXvz3lM0RnYuPLxg9opt0eR8aEhJT9EugNK8hmSqM61xe6/hBJBZyuwEcNjhYVb5JDdtmlQEWsQwXZklZeDo64gis4sI751ruLGhrALI5nrw7AEKzipo9otR1r10c9JuRzvsurVLW3PLVI6+jrIXkfhG+kJ1SiXr3C+Wf2HSAo37z+6jgKowunUDIiLML9FiyIsXUrtPn0rz9EhFoCLPkWngV7T3zl5ZRZZ1nQ45jaJTKmDdOuDhQymmoRgAMOTQkNfqLGpW3xtDpIbdlnCjk+zd77vjoP9B/P03MH26tJPPxIlGm5cSZwLo17+M/v7VajWS0pIweIgakye/nM82w/ie06bsfayrTh1puPncOeCj/x1HVbuqJl1vTNfdXbH4/GLMmSN9LxMmAPTZVcXnWzfa1Ag7b+5EoUJSYv596/t4f/77isbILXbd2oX4lHg02NgATrecZF/39MVT7XDwm8AJILOU2QnghGMTMPyI+EJYI0dKvQd37gDvvqtcu+mZ6cinygf/aH+QihD9Ilq5xrPx14G/TCpua6qzoWdRbmk5s6+femKqXokTQ9RqNQrYFDA6yV6jy+4u2jfa3bd3m5zgyJG1GPCJwBNwueuS4/m3o26jiKo4+vUDAiOegd55igTTFp4CAJpsbpJjTbDoaOlNPCnpVWkKei8S9+9nezoAqXbeD5t+MOkejgcexzsTv4Sj46uYL4xsoJHfJv9r+5g22dzE6IeUs2df7Z7yOOGxwXPHe4zHCLcR6NlTWv08caK82nl7vM+BCiaB2g3DBA/DxYo1k/K79IvSJk3NmwM/bPrB4Ju5poajqduUVa8u9f5dvw68V8sLXyxXdl5KR6eOWH5xOX75RfpeTp0CKlVSNASAVwmypsi+uUXK31ZXI67KKvCdkZmh/SDQamsrbLy6UXYMc59DSuEEkFlKdgJ4KviU3nwcGy8bk4pnmqt/f2DmTGnXhoIFlWtXMwcsKS0JRecURcBT4ztBWGK653QMdB0orH1NYuVy1wXXIq6ZfP2CswvQY28P2eeXsi2F65HXZZ2rKZsASNsuGSs7s+LSCpOLxX6y6BNcDr+sPc66a0dWPo98QBNKgwgYenAEqNV4RBv5DDDAdcBr+xgbqtEWEgLky/dqyLSATQF8WDkYly9nezoAYPuN7fjR4UfDN5LFkXtH8M7Y2ti9G0hIeDUMmhNN71fWEhbNtzQ3+HPfdmMbila8DiI1aEZ++EeG5HguAIxxH4Mx7mPQsaNUyH3mTGmo1pgCNgVBHwSCWo/F33sNlwHSvAm37/IMy5ZJw5kLFgA/OvxocFVoTFIMqthVMbnQuKbW4P37QIGK5y360JUd30hfhD4PRd26UuH7GzeAEiUUDQEAqLOuDlz9XVG0qLSlXV5LABtubIhdt3YZPU93B5HOzp1NKlGTkZmB8R7jZRecVhongMxSshPAFZdWoKNTR+3x1YirOBF4QuTzG4A0cXzxYiAsTN7Qllx+0X7aCbxllpTBxbCLyjScg1Xeq9B+R3th7a+4tAK/7foNnZ07Y+mFpSZfv/fOXkw9MVX2+eWXlcfZ0LNGz9PdoxOQequMDZv1P9Bf9tCvRtaE1FhCGx4XDmqwVBpm85gIajccYUZGA7N7g6i9pnaO84bu3tXvtf7Q9kNUbeCPw4dzjrHl+ha0cGyh99jNxzcNFulNTk9Gje+jcPgwkJEh/Z2EGyhPpumNzNqDt/PmToO7g7RwbAH6Zos0PDu1GNx9DK+6HuE2AhOOTUDr1sDGjVJi9kf3DINDZpp7K/1FJPK3moqeOwwXJ9YMrbf4OQ4bNki9f7VqSSujnyc/N3itOT79FPD2fjltoMxlfLpI3srZ7Te2IyLe+H7TGpoFIOHhYqYnSIumjoJI6tXNl0+519Y3YdH5Rfj74N/a4+Zb5M2bDH0eqp3H12d/H6vMa1cKJ4DMUrITQFN7iMy15vIavU2527SRCsnqDqcp4fzD8yi7pCwAoP6G+sKTWZe7LiZP7jfFlBNTMOTQEAx0HYjpntOFxdGoubomjt4/avS8hNQEvWGSc6HnjPaadN/b3WDdu+wEPA3Q681ZdtH4nrO//gqsXCnVG8zf8S+DQ7NA9lvafbf+O+z325/t+T4+QOnS+o81bw44OOQcY+PVja/VZTwdchoVl1c0eG9VqgCentL11PMXBBoYndeUwDF12kPjzY1BtXaCCMg/uRQ2HTG8lZympl2jRsDOnYCdHdC4p+F6c5qErnzV53i3wQ5McjG8ClhTlqNBkxfa3VZE9GaFx4UjKCYIJUtKvXLSKl01YmKMzx32jfRFVbuqJq1Sr1FDqn2alCR9P8Z6p01Vxa4Kjvp7gkhaOEQEs6ZAGDPs8DAhpYWyylpw+uftP8sqU3Y76jbenSt9Sht+ZDgmHpMxSfUtwQkgs5TsBFB1SmWVAsCzT89Gn/19AEhvBqWGdsTWHanaoa2YnLddNYmcoUglRCZEwjvcGzFJMbjz5I6wOJo324nHJuoVXjXmWdIzsxaO/G/D/2TVJot+EQ1SkXa7tOT0ZIQ+DzV4TUenjiaXQslKs22ZIW3aAPb20oebgt164PZtw21m96ZiaOHE6dNSoV1df/wBLDRQRUezmb2uCw8vaD+s5KRsWeDCBakHMX//5rh7N+dzNUm5qds6/m/D/0A19mL6dKDw5DKw2WS4nt/fB//GdM/pqFsXOHBA2s7xf50vocySnKtua/aBrlYjDZ9/Li22MESzuvrruqlwdQX27JF66ZSmOqVCvwP9ULSolDBpelqN9RonpyeDVIQaq2rA0ddRdrzKlaWtCgGgaFHAX36JS1nKLyuPo3fOal9TiYBHAur6m7qwwlwTj03Um5MudztB3a0wb0fdxt0nBv5wIA0Zm9KTKxIngMxSshPAyccn6yUWhnoYLDHh2ATt1kya+T079j9Ferr0IhWh0N+ed7g35pyeo0xjBmy7sQ1NNovfwy4xNRHxKfGwPWeL7nu7y7pGrVYjnyrfa4sB5PAO95a112ZYXJjJpRLabGsDex/L9rPdeNX4lmPNmkk13ZZfXI7CvTvBx8dwm9lNEv/R4cccF04cPQp81n6DXsI7bJi0qMkUVx5dMbpf8wcfAL6+0iKSgoMb4pqBaaCxybEgFZm83VqddXXwUaODOHMGeHdqJQyeb3jVtWYov1o14PhxYMcOoM7PPii9sHSO1wTFBCG/qgDq1JEKv7sb6Tx6FP8IpCJUrpKJEyekn4Epc+Y0JZqMrbKd7jkdAw/+DSIg9OWvU05ipikV0n5He6z0Xin7vj75BNq5op+VfwHPM8quNHX0dcTNoEht3UQiGPzQYK666+pqe8h79QL+WrgPzbY0k3VtakYqll5YitSMVKPnjnQbiXEe47THPfb2kFVC6HTIaVRYVkHW/QDAhqsbTNo5SSROAJmlZCeAo46Owlh36Z3r4kXpBcOMxcNGDTo4SDsXTa1Wg2bmg5O7lKAUKAAEBSkfM6vevYEPPzS93ll2NHPzrMXex172C9SLtBcgFeHpi6eyzo9MiHxtEYQxgTGBKD6vuEnXaCbwZ6oz8dPWn8xaob3Vd6vRxRQ//ADs2iXVJiw6oK3R3qbmW5q/1osz7PCwHIsnu7gAhSdWwOmQ09rHpk0D/v4729Nz5Bvpiw8WfGDwHE3PlMtdFxQa9j0uGpjSqlarEZsca3Lpo5qraoKqHIWvL9Bgwlz0H284+4lMiET0i2iUKwecPw/s3w9Ub3bD4PdyO+o23plVHA0aAP/7n9SjZ8jTF0/Re19vfPaZ9Lr05Im8VdC6Cs0qhPvPDI//Tz4+GYNch4IIiHq5uPTDD4GrVw23feeJVF+v977eJn3gLFbsVUJWqvdw/L5W+aHJkBAgf37pdY4IGLBim+JbAeoWaCcCqNoB1F1XV9a17vfdQSqSVZx88KHBmOY5TXssdx5x9Itok+qHrvReadXXc0M4AWSWkp0ADj40WJuYOThIf8w3bij/pM46/yvf1OLY7SWNzb37rphPqVlp5hEZ632QQzN0ZC1Ot5zQcGNDWedq6lhphmeNOf/wPD5f+rkltydLC8cW2oLEhWYVwoNnD0xuIy4lzmiNt+++k3Z0uPLoCj5ua48TRqaBjjo6KscVv9nZuhUoPOVTva3P5s8HevaU3QSAV0lETjRv4KGh0tSGwiO/NmkbNbkqLK0M+sITkZHS9m69esm7rlQpqWyKuztQqf4dgx8IniQ+Qf+V9mjWTEqCpsuczvr++8CtW9LPolAhGJ3PqXft/PeNFmkf7zEegw6M0PvgW6GCNMxviHe4Nz5b/BmGHxkuq87m8+TnSE5N0xteLjtgNNosVX63In//Vzvg1K0LFLZ5B37RforGqLyisnZ+NRFAVdxQZelXsq7ddmMbSEWy9g7uwtftWgAAIABJREFUu7+vXiH7U8GnhBScXnhuIbrt6aZ4u+bgBJBZSnYCmJyejKQ0aQWGnZ30x3xM/nuhbO12tNPbkozGfYY9F6Q30A8/hMGhLXNs3/5qSEcb82UCeEiBXbFGuo3U9pxaQ0xSjOw9cU2tZH888Diqraxmye2ZrMT8Erj52Ly9bY2pVQs48nIBb+3aMLg61xzr1gGFpumvTl6xQirvYYr7z+5rJ6pn++9PHoI+DEBUFODxwAOFx1ZX5MNLVm6XA1D0fWnYeMMGoJXhEXYtzVDpmTNAmdoBKDqnqMHz16+X9g1+/31gsuEygACkpE93dIAI6NTnkcE6cNcjr2uH7rOWEMrO6KOjMXjfWBABqS9HJGvWlPYoN+RE4AlUtasqu85m9VXV4XLDHURA7Mspml8Om4jG8/4xeu2ZkDMmzbfz9X1VXL9xY6DYrBK48VjZT/WfL/1cWy2ACKAvTqCcrfzi2VNPTJVVPmvB2QUm7ehirqzlpXrt62VSAXolcQLILGVWIei5cwH60B+l5hiemG6OCccmaLvkw8IA+udL7LwkHZcpI010V4qm56RRI/3HNQngl19aHsPUoR9r0t3LMjUjFUMODTE4L8zV31X28I1SPlv8mdFP8umZ6bjx+IZJ8wy3XN+CEj3+wfGXoz/16klDtkpauhQo8O+72onlR+8fxdx192UnTnJNPzYH1LEPnj8Hbjy+gQ/7DoKrq/Hr0tOB3btfTXWYeWqmwdXXly69WmBx8CDwtYw1VGq1VGIkNFRaFf1h+Sijb+grVkh71P75p/RaY0xKCvSGZomAquP/wsxTM3O8Zt2Vdfh5+88AgArL9IfpszP8yHAM3jtRO2QKAN/9LxVjNjojPTPnGi0H/KQhz8CYQFkfzKrYVYHzZU+90i91xk5D3RmDjF5bY1UNkEr+EuhLl6TXVEBaEFV8Vmn4PDIyEdZE36z9Btcirml/R1T+LErPy3kVeFZrr6zV/p7eBrqJfNmyQN3V9bH79m6hMUNDke3oBCeAzFJmJYCTJwP0QSDyqwRsoKrD2xugv+vB1e8gAKki/qlTyrWvWVncoH2AdsgxOflVAli/vuUx2u9or5039/D5Q8Xn2FjieuR1fGj7IQB5W2PtvLkTjTY1yvHf5bry6IrsAryVV1TGqeBTBs/RrDTW9FDLYXvOFkV7d9N+oGjSRFqkoKTZs4F8Mwtqh7BbOLbAkHUO+MHARh+P4h8ZXSWd1bjDM0C/DETyyx9p/fpSYmfMsmXS81wzz26k20iM9xif4/keHkC1lx3A3t7SQgVjUlNfJWdyd/OxtQW6dwd+H3IbDWaMM3r+06f68/6GDgXqTNefE5bV0gtL8bvz7wCkXjePBx4GYxx7cAxbz3hph0wBoHHLV0WEc3L3yV2TippXWFYB28+cQVGdTtJG01SoPsl4BYbwuHDkU+WTvR+4l9erXUbq1wfe/bdsjrvaWErzO6Ky3qDx8pdpnwo+JWvoXAkZmRlGF0aNdR+L0UdHa+sz1lxouOC4pZ4/z7m0ESeAzFJmJYDDhwP0XgRIRUjLSFPoqf66mTOlWlsaNWtKKysB6VO/pcVRNcWlC9VxRv0NUranmRg9ZIi8fUuNcb/vrt1lpP4GcZ8WvYK9TF7VGRwbrFf3ytiOKLora1PSU8xOZuXsvKKpSVZrTS0cDjA8NhsRLz0XDfXEZDXLaxYKdumLWy+nfv30E7Bpk+zLZZk8RT+pbru9LYZtWo9vvsn5mume0zHooPHeHl3D9k0GtRum7Zn68Udgm4z3pL59ped/yZLS8Vj3sRh1dFSO5+/eLS3MAF79nWQY3g74Zb086Y0sOBh6PWg5sbGR9qf9fexpvD/DcP1D3XvRtDttGlBzvOGabrNPz9bWG+13oJ/eNoI50R0yBYA2HUxbRCVHmSVl4HD8Ij76SCfOnLmoMMb4hMtMdSaKzikqewqIu7v0mgoAH30E5B9j2n7aptDsilOh7n1UGPd2zKHL6mzoWYM1KgHgoP9BHLl3BD16SM/rMhNbY8PVDcLuycODE0AmjlkJYJ8+ABWVSkmI3Abn22/1n/jffiutJASAd96BwTdSYwa4DsBOr8vaick1V0uvhJqeDbn7lpqizbY2WO+zXtlGXyo2t5jFE7g/tP3Q4DZydpfstCvgVnmvwi87fzErTskFJQ3O6zty5NXvvfmW5kZXAWqq+ZuyqnWix1RQh0Ha2mcdOgCrTVvgbNTIUWr0mHBJW8bi112/4p+tK1HVwBSorOWW5OjvNAb5273aMq1VK2nnjZzEp8TjZNBJfPKJ/pvLpOOTDMbeuPHVvD85W849ePYA/qHPQCR9YHv8GNr/N2TKFOkDWO/J3ij2r/Heolu3pPmCGl26ANRmtMG5t5rC6abQHTIFgM5dU0EqklUOSa7SC0tj3UEfVNTJe0faueOr3vL2qNWdc5eT58nPUcq2FHa5xOPbl7Xply8H3puc87aGlrp0SfrdT5oklUJ6W6RmpGo/OPo88sFHCz8ycoVEkwBSj19eKw6vpIIFOQFk4piVAHbqBFABaRN2ORtum2vkSGCczgiQpmwHYHnF/y+Wf4FJa71ABNRoc1a7utXVVZrbpOmFUFKX3V2w5MISk67ZdG2T0V1KdDc0t4SxN4+oxCjce3pPe18/bf3JaJvBscGvbZX26eJPDU66r1FD+t16esq77wfPHqDQrEJ6jyWnJxvc1my46zhQ25HansYuXYAlpv1qAAD7/fbjoP/BbP9t4ED9VaxddnfByF1L9JKIrMZ7jMdIt5Em3UOPbcNRuN2r3i5jyez1yOsoZVsKXbtKP+c//pAen+45XW87rayWLJF+TgAw9cQ0UO2dCDFQQrKlY0ss8XQAkdQ7p+kNNFbMfcwYYPRoYIjKF0X+LWXw3DtP7qC9fT+9n6mTE/BRz/EY4TYix+tGHR2FMe5jEBcnDU/KoTtkCgC9+6gV+bvTVXJBSdg530Dt2q8ec3ICGjSQd32ddXVwwO+AwXM0+6Bv3ZmsnY7g6Ah889spPEl8YuadG6b5MD9rltTz/LbQ/dBz98ldg4utdGleo6hrVyw+v1jY/Wne57LbqYUTwLzDhogeEVECEXkR0VcGzp1NRNeIKJWIzmTz702JSE1E8S+/EojoYQ5tyU4Az4Sc0Q51tGwJfFRaqtFnThFhuYiAFjrborZo8WobLUsTwNILS2POJh8QARUb+KLkAmkczN5e6uXQ/IErqe/+vrDxsjHpmiGHhhjdnig+JV5vZ4f7z+7LKp6alZy5UBo7bu5A482NjZ6369au18rSVFxeEWdCzmR7fkZmBuhbe1DBZMyRuXbGL9oPxeYWe+0xQy/m/Xf/A2o1AenpUq3Cjyc1MbrgYMqJKQiM0a+APsZ9DEYfHZ3t+T17AvPm6Ry79MTI3fMMFirWrbcpV6fNf6NY+1eZZufO0gKUnPg88sHHiz5Gt27SFnJt20qP23jZ5FiyKFOdiaEz7qDfX1JvSY+9PVC0pS1uGlig3dShKRZ5bEORItKxpuBwpIEOM+fbzvhicidMngw0/OUuaErO5W8AqZDvp/Mr6vWqenoCJX+fgqGHh+Z43ZBDQzDlxJTXRhkM0R0yBaReynwzCyAoRrnipCPcRmDQuEd693T0qPR6JIfTLSej0yvC48JBKsJmhwzt66vcRT3mWrJEmv85Z86raQSGJKQmYNTRUWZPMXK65YRfd/1q9DzdAtLBscHIp8onayRBm5i1GY01l9eYdY9y6CaAWatVcAKYN0wgolAiqklERYhoHhGFE1GxHM7vS0TtiWgl5ZwAZhJRPhmxZSeAVeyq4GSQtDdRw4ZSCY2yE9or+uk3q1KlpE+MGu3aAWtfVojR/FGYu4F50TlFoVoZgJIlgU+qB6KATQGo1WrMni0Vgv7mG+UTQHP2mlx4biG67u5q8BzNHDjNi+V7894za9u579Z/p10MY8y+u/vw3frvjJ631Xcrmjo01Xus+qrqOQ41afaCpSLPtb9rY24+vokS8/WzqsCYQBScVTDHa0bvn4X8DaTt5gKeBqDAzKKYMcNwnM8Wf6ZX0w+QehB0t6DS1bGjtKJVo9+Bfhi5T4VChbI9HUDOz5HtN7YjMTX73SBWHDyB0nVfVX7u0UOqN5iTS2HSdmytW0urejXP841XN+a4j7RmV56hY6Ux3z77++D9DrNx3sDUuUabGmHBkZ3ahFetlubqGSrmvvHqRpSZ1BoqFTB96X3km1E455MBeAZ5osz8KqhV69Vjvr7Au7U8DU4dCI8Ll/5uTHgd2b8f2iFTQNrRpcDMIkYTLjs7IDA4XfZoia2tfpwLF6QVp0oJjg1Gfpv8WLdOek0FpBI9xYoZvk6X821nvfJGxixYID0va9WS97qquUe50zrGeYzTjk4A8uuh6u6d/jjhMUhFshbR6CZmIunGybr7FieAeUMQEf2jc1yAiJ4Q0Z9GrptJhhPAAjJiy04Ayy55tUKsbl1pG61OnZR9sielJaHfgX7a1Zzf/5+9vw6LqmvfgOFl32B3F3Z3d3cXJnZii6AiqYiCKAaCCqIiAooFBhZY2GIAFoKN3YpKnO8fizW71t4zqM/3ve/v4DyO53huhj2zZ3DP2te6rjMaA3v3Cr8fOJAqF1NThS/Fp08ZP09yajKIHYG92wtUrgzkKf5GpyI1NwcWLKCG03lkzYcGDf4uiUSeV2kIDImSe/DuAXI55tL9XMK1hKJQMQQfkz4avOM++vCojjepBV4kW33P+qpjU5btSrL9RFcDE5defX0FlwsuksdYl0PNGiY6Gsib7kf8+ONjZLHNqlf0U2RVEVx/KY1+WHp6qerYtEsX6pfHcOvVLZy/e18Xv8WD2HBdjKz2WVU7TadP0+xYgPK7TBaMxFI7dUHM+SfnUdatLFq2BMaNM+wm9uHHBxA7AisbOoeaeHAiCg2y0dno8NBsSzM4HQiSvL5x7lS09uyumu7iccUDpRb0hrMz4LJZP7fz2MNjKL2iOhqJ9iJM3GWISIytI4Z4fu7eDYmC29oa6Gy+T1MMpVurisQqutRqYCpohps3adSfFq6+uGqwwOz+O+rFuHYtXVPZOQy5Dn4m/0T5NeXRxqeN3qzdr7++wi3SDalpqbC2pgk4+/YBxbRTDen7MSD9RowSriUkdlEH7h5AQ6+GGs+gGBk8Ek5naZtePknRwv8/CsDDUiZNZgH4fwD5CB3XNpM9HkYIcdXzXH0F4BNCyCtCyAlCSFuN8xtUAIoFAjVrUi7Qv/YzYzd/Nr6sUgXYejBG59E1YgTtbDACOq8tbgg+JVH7Bnvnz2jWDCBZk3Eq7gySU5MxciQd2zHVGrv3sIX8b5SiJx6d0MvPYXj97TVaerdEWFwYqqzTNk698fKGzs4FoN1afbzBv8X6kHBUXFtR73EeVzzQa1cvyWM7bu6Q7NbFePzxMYhtFhCSpmmXog+M56RmN3PhgrB4sw6q+SztiqGAcwGFUa7cGFaMVq2U1jKMB/dR5R5z5MERrhIzl6N6p+nIEaBWerjC+x/vQewILBarp7tEJESg4tqKqFsXcHUFcuXSr8xl3ZEVq+h3c3rodBQbboVD/DoeAO0oL96xT3KTLFwYmvnTay6uQak5A7F2LbBrVxpatP6pWQCG3g9F2RW10ULU7PnxQ+oLqIbHj4V1RDyq58FsvxmmbPCXUFKcnGhXSwum/hNA6vihfb/HBo8XbW2BCROEnx8+BHJqN0KxOnK1ztZGH+68voN8K/LB2VlIpXn61LBO6OOPj5HVPismHJzA3aiIIR6pzplDuZ3nzgHlDLABPPP4DCqspUqYBWEL9BpUF3QuKDnG0A3qwMCBWHNxDQDaGBh3YBw+JenvKnToAMye/f/bAlB+rswC8P/7KENoAVhN9ngAIWSznueqFYDFCCF1CCFZCSG5CSHzCSFJhJC6nGMNLgCNlxvrDG0rVQKmTIFk0f0XSPiYoBvFAnSnOCdgjW5hGz+eLo6JifTLYGQETQ6SGhK/JqKgc0HYO6RQQQsROnt9+gAbNgi+VT/SreVcXenP/v6Gn+f+u/sotFKbxK6G269u6yKq9GXpvv72WuJFVcejjkH5mduitmHV+VUZfm+pqQApGIdKU/THNLhfcseAAMNbxXff3kUWayO0aCHtgmQUrMhXW8zFCyqLxBs3WTsSL49THt13gMH5nDNGBPOz3eo1+omtQVKKREoKPS9THxuKvE55VePKxKNJ1sWYMV+9i8HSKUxMqPk1j2AuB0uN8fCg383ZR2ej5Nh5CNAInqi3qR6sdxySqPVLlway26vH+608vxIlzU3h6Um7RY30sAwO3D2A8k4N0L699HFxlq4aQkPpZ687LBhT3PdqHtt5R2eMdvPWjUwBw1Jdmm7oBFLfB8RYe0MixoIFwEyRfoWtd2pdY4DyN9U2InI8fP8Q/Xb3g50dXVMBquY25DpgAqIlp5ZoCoYAodMIUEHU0qXAjahU5Bxqhvc/NOTjoKbz9TbRC6ehV0Psv7tf83ijZUaSDdKp+FOovK6y9ocB0MOvBzyveuo9jmHonqE4+/gsCKGf529oSPrAggoyC8D/u/hfdAB5CCeELFM5P2bMmIG5c+di7ty5OMbJkEpLS0NW+6xI+JgAAChTBli8GBLezb9A9OtoXbHDMj0djgiO/dOnUxPquDgqjy9bFjh//s/Px8YSuXIBD9IbUu3a0QxXebrA8uX0Z0MMdhmuvriKoquK/tF7C0+gHTbWyTI0rxcAmm5patA4yOqElSZRXo4XX17g66+v+PDB8PGHywWXDGVn3nh5A1kXFYKpKe0wn3tyDhefXdT/RBmSkpNA7IiqqnH+fOH9f/31FcSOwHSs9ugnl2MuRefSLdINg4MGc48v2+ISCi0vqXwd0fWmhe/fgTfpb7/QykKqFj0BAcJm7GcyVeePn6ne/nr2+RkCowNRvDi159DHywOo0jqLTQ740fQ0OJ5xRIVxS3WiLB68rnlhzY4Hkk5u5cpALgf1zFnHM44oMXUMfH2lnU017L+7H5WcWinoAmXL0m6TFnbvpn+3qubz0XqZtvK6vW97jFi5QzcyBagtTmc9Qviarq1AavuD5KAcSn2FD0DXOUtL4ecT9y6A9J6s2jUGaIJSRuklVlaCJcvPnwDJ9gtPX2iLx8ITwmHiboK1F9eif0B/zWPF3FxTU8oDjIuj4sH4Dwmaz91xcwfabmsLgP7tt9/crnpsWlqaoqvMaA764HzOWW8KjBjV1lfDkfvHdep5QoADhg11MowzZ4TRL1tvjx07prtXz5gxI7MA/D8AHgfwNflzDiAPpwghyzmPG9QB/J3yW+J3VbQoVXWJvar+Ba48v4LiLjRegI3KPC4IIoJ586g9RFQUFYjUqqXkRWQEFhaAuTnl19xMdwxp2JB2HtLSaJHJiLdOTvT91K9v+Oufjj8NE3cT/QdysDdmLxpvboy0tDR8SvqUIY87fQsmg1gBZwg6bu8I3yhfxMXRv0WvXvqfE/c+TsGb00Lk00hkXVAK8+dT6wvzw+aa6RRqSE1LxfKzy1XNscU8q18pv1DI3gT9hmv7gWSzz6bbBDF8/vlZlc9WtPEZlHRWfkkKFaLXsD6wRf/3b5pXqxaJ5+tLR1KAkOgyYspzva+fOzftkhUrRv0vtRD7JhZZrXNLbna9egEeegSQ3t7SIql2bcDYMZ9qN9Pnhg/KjXBGQICU26iFtWup4EaM+vX135hZB6/+/EVouFTbE7C1T2sMW+avG5kCQgGphYpOjWHcKBgFCupP2mEwM5OK3w7dCwWZVgfPNJ46LXQaLE9Yqh/AwZw5dE0F0rtNQ4ZgwT4XzeewaDtDuMlXX1xFMRdK+Ovdm05W3r4FyJL/cOu5tnBm45WNOupIH39tr71fKdSP8dXXVwCosMUnJFZ1Y/Y3KL+mPA5H0w6gry/9fmptgv4GR47Q179xg35v5snMATI7gP83sIAQ8phQ6xcjQgu1Z0RdBZydEPIfoR29c4Qqh3OJft+VEFKBUBWwESFkNqEj4Iac1zKoAExOTYb3DW/d+CJfPnrxFzHMM9NgMG4SQDt7hAB7YvaiyeYmAASD2IgIoGJFSsjOyEhWDuYzWKYMdGrGGjWo3QNAb9Q30psuU6ZknPR76N4h3Rgjo/C65oVuO7v90XO3RW0zKNNz0qFJWHp6qcGv23xrcwRFB+HqVfp3GKc/nSrD+Jj0Ef9VPYteveg5FoQtgPlh839+HhsbKc9q/Xqgrx7XiLff3yIlVU/0hQh5651AeRdloLT4etMCu95evADKuJXB+Sf8dreXl2DlAgBZ7bJjwHjtlh7jtD59Su0/tLh8AOUAFurnJMkkNcQ7Uf53bdwYyONYSFNB2qABLd4MVb8uX05zg8Xo1Embr5vwMQELlnzBpElAi8W2qGE1XvMczbY0w2DbIN3IFDDMOqWkQx1U6RWKLFmo84Aa9xWgQpuO2zti0JDfcBVZy4XFhSHrrGq6TSoPLHM85H6IQnSlhqlT6SSHgQwcidaLtL2QfKN80d63PQ7eO4j6ntq7YXEXrkMHes/49QsgVvkQcpm/AWD4/vu7rlsqFmrwwJwDPiV9wv37wvcmA3tmg1HcpTiO3rqqExmRktdh7b/n358IwPHj9HNcuUInVSNkTJPMAvD/DuwIIYmEkG9E6gNYllAfv1aiY7cROjZOTf8f+28Ga0IFIN8IVROfIlQYwsMfGUHnykVVc9lbrdNZw/wLHHlwBLU96Fz5wAF68YsfY+bMbOHt0QMGW4XwMGUKXQCrVoVOzVi+PG29A9LsYVNT2vEUc4D0wVCvPB6czjqpcsv+FUYGj8SKc4JfSMLHBM2EjjoedRB6P1QXTzT432+wdYXJvn30/xef1M81+hN0XLQOI2cLY8jNm6VF1L9A9pqhqLpGcPT9nfIbP37/QLVqdHHXB3Yju3uXql3VIseqL+uK5qOFVngOOyP0GK0dB/btG33t9++pv6aPD1Upa3VaSpSQdgrHjKF5x1pYuVIqlGjTBii6rKJmV5htwm7coKIRfVi6lHLMxGg5YR+aOKoXdU02N4FJ772YPBmoZOYEMnCk6rEAFbQMXLwf00SMiVOngIomaapKcwAoZFMVHSeeACHAzBALvPiiTv5kyvWevVIl61p4QjiyzzfRzEHvH9Afay+uxZEHRwwSPwB0LRV3GktMGYferraazwmODca8Y/NosaXH/kbMw2vSRHB0IBZFEHBW/waVYVroNFidUOcbp6Wl4euvr0hLS6Mxpenfmwze1gxC/hX5ERZ1B1my0J9L9fVEI7ce//5EoNcX+/5ncgAz8b9AhgtARky9eBEgwwbA9cKaf3bBp6Sm6LzOfH2p1QzjnADC2G7XLqqwZLySP4WZGS0qGzYEdux5j68/v4EQgTtUpw4ligP0M9epgwwpUz2vCvzFjML5nLNeld3fYkDAAImVg/M5Zwzfqy5rrOReCafjTyMggP49uv1Zg1ITbPT/6BH9f+vjDhizf4zmc448OIKhe4Zm6DwFl9TE0MUC31U8Rv0XSEkBSPV9qLuhse4xFqUnjjTUQp06QjGshZL2ddFmgiD6cV3zE/36a7c/WCzbr1/UzmntWoF2oIbcuYEYkb0k20BpQd5p1RdTB9DufkQEHU/nqhOiN3OaF9vYce52lFvanv8EUIEKqRqCnj2BdlauIEO0vTZHBo/EkAVnMUfk+X35MpDdvK6m4Krcwr6YYH0dWbLodyxg3nft29NkDobzT84jx8KyurVI7blvvr3B2cdn9ebZMpiaAqtEGrDKc6egnb32P2hGumqfkj7pCn3xZCXrgtLYcjTS4NfRF1EohlgwkZBg+Hs1FDkdc+LE9Yc6c/MK/X1Rx6Wj9pP+ECYmQtGXWQBm4n+BDBeAv37RC/HBA4AMHAGb43r8E/4QdnZ0jPP+x3udpYm7O+X6eHrSbs2UKXQs/KcwNaVFZefOQM0VXeBxcSsIgY5r06IFdCpHQqgtjD5SuhiH7h2SjC7i3sfpxtn/b4DpXlP4Rvnqfl5/eb2mez4zQt60if49/tSmxSHCAXbhdtzfPX8u8N6yZgUsQ1bqFZH8Sac192ITTHYK1/3s7083Ff8KX78CpPZuNPUS/khsQ9C6tdIehsFsvxkC7tCLrnx56MjmWihiVx2dpwgJLps20e64Fh49ohxXABg2jBZRYuWlHOKRMQOz9tCCXNHKVPZaKFmSilMePQKIVX7NrjSgjIwEgP5L/VF8kfo1UWNDDZRtH4YjRwCzjetQaLoeOS+U4ozoaCDr1Iaa5ul9+lAj6Hz5aGaxFpifZ9OmwB7RVPHy88vIsagEAgP1vkXceHnDYOeB/v3pe2OobTETNeeo822ZKOHLH8S/iwV72edXhFuw0upIDcmpyQZzoMUFoJbhuhosjlvgxCO+uWVaWhoqr6uMiGsvdR6ipPZu5Jj6F35VGhAXff/9l1kAZuLfI8MF4Jcv9EJ89w4gfSdg9kHDOWQZQdasyguecZ1cXIAhQ/g7f0Nw/eV1nHh0Qtf5GD4cqOnQD06n1kmsXzp3FnhEBQpQwvvfOPLHf4iX2Nz8KywIW6Ca4JAReN/wRqftnVR/n38FvRnb2dFuUJ5pXf8oCUZrRx8SIt31mq5x16s29I3yRQffjLXv/ltcGgvchS5EcDDlp/0rvHpF+UHrIgWVhM8NH3Ta3gndutGRMw+dtneCzw0fXae9TBn9PLsCthXRa0a4cB4faYQiD3fu0KIEEG40Rx4cQa2N/B0Oz79w0SK6CdPC9OmQGGwPHUq/v1pgoqwXLwBiURSXnmqPC3mdSLNVQSho0Uz1OSbuJshbJxzXrwMBwd9Qp4l+898JEyBJi0lIAMjEZgi4o16ZNW9OxSKG8D5j3sQg9/LcqFWLCgAYbr26BSPLygZ5kD549wA5HbVNAy89uwTXC67o3l16HRYeTvOx1ZA//597oeasYXiRAAAgAElEQVTKJfCpazf4joOH/jfeKVq2KYag686u2HJ9i+Yxfn6iNapGMMik/82mXvwZIiLoxkiMzAIwE3+LDBeAb98K/njZ+5hjQoAFAGopIN5NiqHlX6WGIUOku22AjkXat6eL8PjxNFdy1KiMvzYz72XRctOnAzWsh8MqxFlCHhZHeeXKRXmJ8nSQjECfObEaYt7EaEa7jT8wHrbhtn/+xtKx+85utPRW381an7KmnyF9YcqyWN2bjiEpOQnJqVKDZdtwW4w/wOdn+fhIC0A376d6TWC3XN+CrjsNjA1JR47FReCwRbBVCQn5syzUT0mfuIKG+Hi6iRHX+n63/NDGp40u0YaHdtvaYcfNHToz4yZNpDwtHvLYlMbguUJ1sWsX0FqjIbrj5g6029QfxangHvPm0eL3xKMTqLpeKVoBhM4sS9eIeRODYQ5BGKMxnW/o1RADJ92Dra3wmCG8QSMj4N69dG+6eaVx6oH6uDDmTQy6TQlX/I1mb9qPPPPUTQTLrC4DUiYSL15QPma1atrvCaBrjTgv+s0bgIxrjW3XVNq5oCrmkyepef7Ro9qvfzORZpKzEbgY/fqpr69iMFNzrSxw3yhfdNzeEe3bU8srhqnrA1Fr+A7V57Hvvb7PIQfrHrMCWDxZ+dfIaAHYb3c/vPzyUvdz/4D+cL/krvEM2hhgr1209SH8N+fPhH76IP4MV64oE1QyC8BM/C0yXACyG0FqKmDczwJDt5lLLlY5T4Wpeb/xY0wVSEmR8pLECAyki8fcudSFfcMGai+QUbBItk6daMFhZQVUt5yA6XtsJHmYLBWEmfdeviy9CWYUzG/uw48PGXrevGPzMOuI+s586J6hiii0P4Ehyj4AGDQI6NoVyLKwKK6+uKp57Kh9o7D8rFRZuOLcClWBS/Ch76hZj3oe9uoFbNyo/317XPFAz11KdU7PXT0RnhDOfU5W6zxw9xeK6tk7vGDS6BH3WIAWsqfiTym6t2pFU0wM7ZKKERQdhKZbmioKCTFaebeC/21/WlwQutGRb4TkMLIpilELhS7Znj20cFSD1zUvNF3XXWfjtGUL/fcUq/DluHuXjqEYdt7aCROHdtCizuVxyoNuo2IkHb/Jk4ElS9Sf43nVC6TiaTx+TH0QyeyKOHRL3adtdeRqlJ03BCtXSh+33RWCXHPUK/oizsVASl7D79+0MClTRv09MQwZAok69/t3gJh1wPpzvqrPKVCAdjObN4feEW5UYhQqr6uM4sWBq7Kv1ciR2vnOAP0cK9d8Q7tt7VTtjwBg87XN6O7XHc2bS31Ng4KApk3VX5+t8UUzaG0q7x7LIxJ5uP40BjsOZHy6QAj9vpiN+w3SewreflafV6elpYHYETz5JJAzh+8dDudz2sRyb2/BnmjssmPIt6hGht+nIWjSRCgAb91Sjt8zC8BM/C0MKgDD4sJ03DVmwgwABQbYoKfnBHz8KCwOp2WiYCYYMDT5YPx4SgLn2TgcPEgtIiZOpCbOu3b9mRfh9NDpsDphpeNiOTkB1ebMxOidCySqQzZaYtFzLGP0vX4vVy5SUlNA7IimEpAHxzOOGL1vtOrve+7qiU1XBdmgb5Rvhvz9GI7HHVftAIkxbBi1JSBzy+Hs47Oax/KKU7dINwwMHMg/fqM9ikwcCwCoV4/eOPWBiSvk0EoQIEtzYNtBIY2iwqpaKN76CPdYQIjAkkMcWSXG9etKBeuBuwdQ37O+pnii2ZZmCIoOQnw8kC2b4FWZnJqsakFT1qoHpi15qPtZnz3Jxisb0XRtb9RMF4syI+kLTy+gjBu/EnI/Goqcw4RrMOBOACoua6G5ATNaZoS2A+9LFK2zZyv5emL08usD0mQDXr1K33iZV8Xuy+qBwyvPr0SZ2cN1nXoGz6PnkMtMndc3I8AJBcvSzg/zFdWHPn2orQ1DWhpARnfByuN8VUtaGv03jI+nBba+oochTx6p2AbQXzgDwhqsL5liw+UN6OPfB/XrS+1/jh1Tt/aSp1IAdNxsiEE9axqkpF++w4bpF+9VWDgYpIUrTp3S+/J4/e01zjw+g6Qkep7oaGDDRrrW3niovtbK/QMBYNyBcXqnKZs2CW4Qy1w+o+uoaP1v8g8gphww660rV4TfZxaAmfhbGFQA7r+7XxesLe5s1K6fhOCDSbhyhS4cDRsqzVc9PQXRiD7cenULpPA9EAIFERoAwsKommzYMCremDPnz3geY/aPwbIzy3TWBBs3ApWmWGHA1ukoKzKPnzeP3rBev6bnSUqiC/oj9UaRXuRwUI/BUsO6S+s0xRltt7WVRMHpO14NL768wO47u/Ue178/5X8R82oIvRumfSxnpMLLB2bos3YRSk6iprzsZpOix3pv562dmHdMcEl99owW7S22tkBgNL/tUrzmA5w5J3ATqq1uiEIt1Z2DH75/yOVWXXx2EaVXK4mhFy4o+aK3Xt2C9Slr3XXFQyOvRtgXu0/H0bOzo36LXXZ0wdbr/EJDPlZ1CYpApfrqNz73S+5o6tZfF7Pm7p5+fScnqWb0Ltnji5yTBZ7lvth9KO/USJNrmMMhB5p0i9OlhwB049ZlRgjiP/B9Cjtt6wbScDM+pSf4kem1sfWMutv78rPLUWrGaHjK0rwePqQiADW6bWioIOh68AA6VacWeEVcjo5O2HqaX6CyguTNG9o9bL98oaZgBKDvN2tWpYJ17lxIFMjS56Qh9k0sSNZkEEI/uxbcIt0wKHAQqleX2hHt3Ssow+X4/p3+rq3lGpRsSKkT5daU00zR+PzzM97/eI979+hYn8HcXHsTAABZRvQGabLBoPWd+a3u2EHf4+PHdANGbLLi1PUE1eex2MSPSQL/c3rodL2G2mvX0gkVQDcE+uIAGc6ezVhsHCFCofngAf1ZLCTKLAAz8bcwqADcfWc3WnlTieSNG8JuuWVLSnD286P/LeeUAEKG7o0b0IsJByeAtLfR3fjZeOLH7x9ISU3BmTNUGdmzJxVksLZ4RjUVzP6kbl3K/dq1C6jZ7zA6zNwtWXCYhcW9e3T8lZZGuzqGfBY1NN7cGA/f61mhQRW5jJuyLWqbpsihkVcjSadry/UtBpvB/gm6dwfc3AAytS52Xj2oeWyvXb3gcUUaF3Hw3kHMPDKTe3zHVXNQYQqVls6c+Wd+Xuz6YXw6OViUnXg3XWdtc+Rtph6fd/ftXRgvN1Y8fu3FNW7cn1aKBYsg5MF0rykiEiJw+TL13WOCJ3mXV4xhw6R2HjVWN0PRdurmtG6RbmjqOljHE7xyRf9Gaq7fZhhPFnx/Qu+HotyKuppJGFnssqBWy8eSTeGKFUARy5aqG41WmzuA1PPFz5/0Z6O6oTh1VT3VxD7CHiWmjFOkMbB/YzXFqre3IJSRd6h4sD5ljRZdEhXrW7Fi0utIjCcvv4N0WYBPX39hwgSgmq1+fpk8glJ3fo1r5vvv7yB2BMToHQihCmotrDy/EsP3DkeFCrQoYWAODy9fKp/D/kaFFzUCqREMAKi5sSaOPlQnBDqddcLI4JG4eZMKexh4vo1ykNGdQRp4U8Hh93eaVjtB0UFotqUZtm2T/u3IEiNYuah7Fb79/lYRs7no5CJNz0GAdi+Zt6WXF40P1Qf275qRKFFCaMOBwcgIEjPwzAIwE38LgwpApl4EqP8fUyN160Z3xEuW0C5F375Kiwd7e3ohn9WeFAIATPcMB2nlrLuB+/jQx/M45UH062idMWybNsDOnYYHmMvBuilVq9IdcGgojdqZPl16I2S+g+fPCxwhExMg5Phn9PDroZpnymB5wjJDMWhiFHAuoBM/6PNnmxIyRcLF87vlpyvYtbDl+hbVGDMtdOhA44/I6M5wDNKOkNDqXPHQ0mkqqk2j81G2eTCUPgAIY3pC1BV90dH094mJwmONNrTFf812Ko5lEOeaGvK4Vo7tihVKV385Tp+m15qHB93w9NvdD+su8VUAYrESANR3b4MCbdSFCavOr0KTlabokr5HePyYdp20uhNTfTYg7+Q+up/D4sJQZkV11WhEFklXsd5znck6QN9n4QXSjrUYjT1odi7b1BUtClzTEAEvPb0UxSZOxG5ZPcl4u2rxaU5Owk38ceInkDIXNe1N8jjlQb1OsQoen4mJkvbCcCU2kQoykn9j7lyg6uJhWHV+Ff/gdDA6jfy9iIsOOT78+EALwBzUx7RhQ81TwPGMI8z2m6FECWXxmi8fcJvjunPtGt34m7jWAqlCO7KNNzdGcGyw6nmY2IttZhhmrriKXqO0xyhkXGuQOrtQrx6NlGMRoTzsuEnjQplBPbt2iFV+kGLqFkLMeNvQdJ+nn55i3aV1ukACgHYCDelSrlyZcWWyvAAsVkzKDc0sADPxtzCoAPS44oHe/pTsExEh8O4GDaJqxlGjBEWuk8wW0MLCcOVYN9++IE3XK74oxVyK4crzK4iLo2MdlvPJFvmMduRuJt7Eyy8vUb48LUzPnaMFnpUVJE7/GzdSkcnhw8LNvGFDYKb3NhA7AovjFprnqbKuCo7HGRD5IENaWhqy2WfTjcnC4sJQfUN1g58fHBusG9lrIa+TfhUvD6zzK++i8aDWhVNDA3sz1J1JJZ3JyQDJmgxLO8NJl4cOCQttj529sfGKUkUi3sQwtPLsguxN1P0tbry8gcIrlbEU997e43YG9+0DygxxxZqLSrnvunX6x0ahodQIevt22mEYHDQYqyP5fjDdu9NOBEOTDR2Ru9U21dcOuBOAPqtW6CLamLWTFrfVbJMbCk4ZpPs5PCEcJVeYqKpnk1OTUXdTXZSs9BaRIhHv5s1AoTmdsC2K//7qrGuCHHWFokLsH8fDopOLUGTsVK5ZNss65mHWLMHDMOLRBZC5ZfDqFf9YAMjlmAs1Wj9QUFwaNxYSLuQ4fvkxiG0WpKWlwcYGqLRgDBwitCXdiYn030LsnPA75TeGuGxE7/4/uM9hyl82AtaXaJOUnISvv76iQAFlsVepEr+g3b+frrvlXE2QxeQ00tKU1BM5rE5YYVroNJw9Syc3DA1WDEKN8dreRkazG6Na/2AMH06V3nmc1O0Xtlzfgm47u+HAAWlWO7Eoimb91XcPCR8TNF9XDiaSWrxYsD8aO9awoi4jymTxcxhPFwBKlaJrF0NmAZiJv4VBBeDqyNW6YO2wMMEywcyMco9696bF0vTptIgSg3XV5Hw+Hlp5dka2xt6KL0qFtRUQkRChU0aWLg0dOZgQw3JVeWDRVrGxgLGxkmjN0kj8/QXT4w4dgC6rZ8N4uTFXeSpGSdeSuPjsouYxPPz4/QPEjuDNtzcAgMSviXq5Q2IcfXgUNTboV6bldMypmU0qxqVnl3S8wkaNaIHDCmgtLDuzDJFPI/HunWHq6Zo2Q9FsriAaIaUvI6tFCY1nSMFER4QA0/bPx67byk4YbyHuuLUXSONNqnSCy88vc7sQH5M+cos8f3+gxAQ+n2jrVui6b2oIDKQCmL17aZGhpU5kOasMbTy7I0dzFaPBdLi4CAbTaWlU2BWnQU0dts4ZRacKLajPPz9j6+HrEs4sD8zTj8HPDyg4sxs2X+O/v2pr6iF3A2HcV6UKJPnDctx9exeVWtyW+OYxMENpHsRChCvPr4IsKIZ4jfjkbPbZULlxgmIjK/YKlSPw5D0QayqddnEBTGZPxpJT2koOJv4R42fyTxA7grY9+RVq/Id4EJtsyJWLdpb1qYUZ/vtPys0+HX8aJcdYcNXKzIO1pEspkDKR+PwZ6O7XHV7XvJQHp2PusbmYc3QOTpygcZsMLVxHoMJo9TeZlASQabXRYOhh9OghJKSo+aeuv7we/Xb3g5eXtGDKs7QMRlganjiiD8ceHkONDTUwfryQbvPwIXSxcFr40wJQ3P2Wr7eZBWAm/hYGFYBB0UFYeZ76LIgVhjNmUMk9U9PKO2gALRIJkd6g1FBvXQsYN92NMmWk5GTGNWGkakIoyRegXZIQdXqIJtjNiRWWnTtTbhvD3r1Uiu/pKSQrDBgAVHHsCK9rXnoNndnoOqP4U79AhkvPLunlAPIsELQQej8UdTxori0zqjU00xYQ7Bn0Htd4E0hF4Y5Pit9EzqUFNZ4hRUQE7Rplz64u1uEtxJH34kCM36p6Vr76+kqSmqIPPj5AqSkTsfS00ijdkNQRZuZ89CgVPo3ZPwaOZ/gGeqwjy9DFuy9Ikw2aI11HR0g8/IyNpTm/coxc44mKk6S7u+vX1VWjDLlySYuM4GAg/9TeCl4ow4nzH1C81E/dz+I4RjVUrgyuWpRRPHho3x463uDtV7dBrPKrJnWw70r5Os8U3TE2BeFhy6FbyLqY0gM2bQLKT52JBWHqSRsP3z/EuuP7FV6jbJzeuCN/nn337V2QxblRqhTlCXZc6qyXesJUveJkl913dqPAghZc6yVnZ0qHKbSyEEiJKJw7BwwMHMjd/DAwQQXrZjN0dB+Lkqb2qs9LTARIHT8MGPsELVtSla/WeuhywQVD9wxVfK9nWnzA2PF/6NnFAbPJEp8n/nEySME4pKZq3wv+pADMnl0q6JFf55kFYCb+Fhn2AdyzR/CKmm35Af1mh6N2bTomdXKiflViDBpEL3p98U8AUGV1PRRqoRQVNPJqhODYYKSl0RGwWOnWvr1hxSUPxsbU34yNkgmBRLHIbr6rVwODaQMU48YBVezU/eUYUtNSkcUui8EFlhiPPjz6nySGiMG6Cq+/vdZ/MASiNUApAGfOUJuWQ9oUQADCWMuQpI2GDYW/NQC0H3wXWZcaqT9BBg8Pei7eeIth8oxv6D9F+ss/5ZNqvY/S5qOx7Mwyxe8OHKB2RlrYsIHajpw7B5QrR73beHyrj0kfUXSMOfbtE66VPjsHgTR30/TetLamHW8GQoCJk3/j6ourSE1TVo7u7sqxdWys0utQDPa9ei7ScBw9CuSd2F+Vz3jmjNTaiSn1tcBL2Xj3/R1KDXdAMIei9vLLS+ScUwtHjtC/2b2390CWGKkWwL9TfoPYEZSskqg4z7hxVKnNw+qAK8huRd17d+4Eyo2x00zs8bvlh/rrWnN99rLaZUXNVvwWZVRiFLJYFkJQEFWXl7JuCf/b/qrnAQRRwps3wmPBscEovKgR7Dm1maUl3dwbLTMCKXIX4eHAnpg9uPBUffwy4eAE2Jy2UfhS9vKcjIKD1TOHmeL16FHa0WP+qe9/8DkKd17fwZnHZxQFVkYLLn1ga2DWrMJ97k4C5Xl++6GddpDRApDF7onzo+Vm4pkFYCb+FhkuAP38qAgDACY5RMLYurRuAWY3LTG6d6cXsj7fJwCwDziIivWUu9w2Pm10XBP2JWJ8nYEDpV27jIB5dIlfV9wxYDff5cuB0ekWaMyEWh/0LVpauPXqFgo4F8DNm/+uIJHj88/PIHYEn5I+SR4v4VqCK25h6QGAQMyXG8mq4d49+retbgCNkeUzM5AC8SA2Sv89MQ7eO6jjWrJ/x9KlIeGeiVG1w2UY20jHuczr8U89HuVwcwPKzBkqIf2/+PICvf17G5Q8wQRITPikhoSPCSA22SQj0BMPzoIUjVEoScVYsIDy4BiqVwdcNipVkfL3Izl3gjLtRAxefFxEBFCy4XVVu5mwMOl10qaNem4yA08oEvc+DllscirUwex3ZGkOHXeYjVDVxByMklGozDvFebos9EbXhfwdqJ3POeS0LAfAsKLfN8oXDd07cMfqOR3+Q4VGfEXrwdPPQVqtxKVLdGROxnSC9w3tvLZPn5Rik5D7ISiytC43XWnyZOpd+fLLS9St/xsHtcX/AGhHMSwuDN7edLrCMNjHHLkHqHdCZ82i7y0ykvLeWAdUX+zkhAlUYcxga2tYwXX5sv64RUAQm7RvT7m5ABCf+J5OUhK1kw7EBaD4+6AGLy+lIpsQSFT3mQVgJv4WGS4AxV/mBa5RyGldSGdcumOHUhLfpg3lmogzNNWwfz9/kVx1fpXOcLh4cfpF+J5+j5o0Sb9BKg+sO8EUpqRILMiIXogSpXoxyxuxbcH06bQVrw+JX+nO8HeKdGe4+85uRD7V5qV8//0dNxNvghB6vv8F5GOVnz8pobnIqiLc8ZFYCMQ6p+KFUAu1a0t3v6+/vcbC4wu5x/btKzXbtVz2AsSOKOLkxJh0aJKuszJsGD2P1nialDsLMqe85LHk5IwrjrXg5ASUWdBPYvuR8DEBWeyy4Px5qHLn7MLt8PLLS9jaUlN0uYeaHPff3UcWayPJaIh5yWlx2szNqUCLYfhwwG7FJ+6mABD8CMVg/pg/fyoOB0BvXnJBw5Ur0EXQ8XDwoJTIX3KaGQat0Sa15c1Lld1iPP5IBRi8+LSbL2JBFufW/VszNejBEL4aNDUtFY8/PkaefCmK8zSznYta8/kGfZu2JKF1TzpjPXlS/7qx5foWNFrbVcKXYzB2zIuitfgzavbdio6mRVqeSXzxkxivXin/bcLiwpB7YXVu0TR0qGA11LYt7WgaCnljYKz/fOToo55sVLIkfW+xsYKqNyg6SDPdBFCKEFkHUQsspo5t/p58eoI9MXzCOoucFHel336mG/05i9TTndg52L1LzQReDOafK+7QEiKNg8ssADPxt8hwAejhQSO6AMBxEx3PsRsnb5fbsCHtxhjC//Lz084wZV8CtigAwmiC4eVLbT+vlNQUvPzyEt++pYEQ4N279NctRnlAYtsIZhBbtqygGp0927DYKADcoiUjsW2GjAyefHqCGYdnGPaGRPiV8gsRCRG6MTNbbEusLItzT84pjne94Iqhe4bquENPngBNh0Rg4Xr9JGv5+CP+QzyyO2TnHtulCxVJMPjtp12pmAfqiQNjD4yFfQSdWzHDXCZUkePcOYCYHEcpJ+VdVp8QIiOwsQGqLBgnUUmyQuPq9RTVrl6+Fflw5/UdLFhAfRCfPpVe73LcfnUbWRblV4wm8+RRFkViTJwo7ZbMmAHMXUj95HjWQDx+L1MPq3U0mBmzGHfu0IJNDUz8wlDWfBx6rVLniwFAzpxK8+MXX+jGwd5BOc4+djMKZGEhXfHz/fd3lB+yAf4B2nwx3nnaL7dApZnm3OPd3alFD0DFKHLluRweVzzQ2K0X6nGiZfM7FcJ/FZV2B+zfgH23du0CikwbAtcLropjGW6/uo3z0Y8V3Vum7OatOeL4tvLlBRWsIVi1im7MGEKvXwMpc0mVo+roCDRrRu8phBhmIQZQ6oi4k2dIxF9kpPD3e/FCEHrw8P7Hezz68EjCS/2ZTNNEnNapS8gZd33hQuH/9YFnyj1pkvQ7m1kAZuJvkeECcM0aOnYFgPU7H1P7AZKGHz/45rdVq1LRiCFjUy8v6i2oBXlRtGqVoGZkv1+lYbXFbsJv36VIOF9nbschm730bsUWoOLFBRGIfJyRUZjtN9NrBQGkFyqyz8rjBF58dhGlVpf68zeUjqlT089nXg1hccp0D48rHrA4bqFLBHj3Dqg4YwY6rtC2wgHoaEY8Ama2FbwCuVUrKpJguHP3B0ivqbh2i2+BAQAjg0fC6Szd+jMld7t2SlNyIP0zVg1BFTdlVlrevFAVAohx4oR+8/GFC2lRJQbrut6K/inJnBbDeLkx7r69i2nTaNH17h19zz9UPv61F9eQZWFRxWiyeHF1UYffLT+0mxosySO2sQHGTaBcN2ZALsbs2TQZhyElNQWP3j0BIWlc4+D3P95jkr81ChSQPv7okRAlycP27bSzzGAyazI6O6m3+L//SgLJ+lsiZgCEv/W8hcr2pO+Jy8giU5Yzb0s18EQTANDTdTHKTOVXQ2JOdHS0duEL0ISWJqv7c+MP9107B5Lzi2JzO24cfV9sJHv4MJB/LJ97yjAkaAgsD6xWXIMXn11EhdVVQQjwVrYHENvdEGJYcgqDvHvMTLrV6C1t2ghJG4RIrU+0wNwoGPT9zRM+JsCke6hunfX11c7DZhAnqDCB0Drfp6rHMyoE40KXMmC5DglRxjky0aXwupkFYCb+DhkuAFesEAxJ/fbTRTanMR0jXr+uDAovXZourlOn6n9t8Y5ZDdbW0qKIxVgxECJI9HlgiQ7yEQgrSsQjW/bFbdtWELHs2iV0KS89u6Q3C1eOKSFTsOjkIr3HHTsmLQCrrq/KjV068eiEQfm9+sDOVdCqgWp+LiAoppOSgGqz5qGVo/ooB6A3mwnzE1C3rrA5YMa1334peTMNG1IqgBg8kr8Y4q4q+xw9ewKz3U8h4E6A8nPW2It6G5pIHn/3/R2KlH+t19fwxw/6GuLiysTdBAkfEyTHzZqljLtin/vO/a8Kqw+GnI458fD9Q5iZAQ4OwvlYp1qOyKeRyDK/jKJw1TIonhIyBTVmLIGrqEm0Zg3Qr7+6MlxukcRSFLL994PbNX34/iFy2OdUxOHxxsJizFsXji49BLVntbnmaOOgvskYGjgcpNVKyagMEP7WE6Ypr7FVAeeQw6K85DF58SCHWkLH4A22KDphPPc5Yr84ZrattXFwveCKJi5DJAUwA+OofpBNGuUTkchIwHiYtt1Mv939YLVvvWr+MRsnMzC6DBPUODoKnGhDYGkppbL8/i0URGrn1617VSExEteC3JLnWNRNkHxPVTuNu+/sBhnfUne+YsWo3VMJV23bKRMTIDxc+DmLTQ4s36Q+OhCvmYZMdQD6t5aL5ubOFbwrgcwCMBN/D4MKQJcLLohIiABAd3PMBf3CVZqlWLQsXZUePlTuDAsUoK159hwtyEcFPPz+LSXGjholfKEY10JOVhfj6ourKOZSTDFa+5RE+U+ffwp/C7bwVa4sdJOYNQwA2Jy2wbgDMmKUHsw5OgdzjqqEeopw4QI9dzMqvEUdjzoIva/0wxDnNBNC4/FS01JhG26LLz81og1kKF06fXEa34rrnccgJv7XnbsIje20K/vcy3Nj2IxYtG9PXz8lRSDVv/uurGryTOwL34NS/5ZatWhnQw0s2g8QFtihQ4Eey1dgRLAQuaFTe9fxQxufNl9Zot8AACAASURBVJLXWHxyMfKYTsEZlWjTvTF70cOvB7Zupa8xU5Rkl3t5bsS+kToOywsmQBAGxcR/ACF8X8Ss9lmR8DFBN85S6zwxRCREgMw2UYwma9dWt0+ZcHACqk62lSjzfXyATp2A7A7Z8eiD0j+nzdRATHQQHJk/Jn0EsSPIU+gLYmKU57j79i5yORgr+GxMfMBbclg3pdsQgYdRZ/48NLVRHx/03zUEpIWr4vVYzuvgUcr59FKvSyg4UzpqEHPceGCbwU8yeuSYrY7IP5ZfDYk3Afo6uQClc9hsuM01clbLCJYXFDExgHGBL1whD0MPvx6w2uOl2omqVElqN8IU8myT4eZG3R0Mhbk5FR2JIbcHEoMYvQexKIIfv39wN4RqIERaIPXcQYMF5P9mDNuifEHMOkgoKkyApwW5OXnVqdZYvuaN6vEsBUTMN9QH8X2NwdJSOlXILAAz8bcwqADsuL2jzrl/0SJhV/vtewpIfR/kzE1XNR4pPHt2ejPUKsoY5N5khoDlAYvPzziKPIQnhMPE3QRxcZTTw8CsHhK/SreluXJRqwuWAODkH47y3elWeOOVjXrNoOVYdHIRpoToJ9CcPEk/C/PPaunNz0/deWsn2m5ri6NH6fEHDmTc4w8QlHeksyV3BMwQHQ2dT1njBbaoY61dAOdwyIEBE+JQvTp9/Zs3BVXf88/KjFeyxAh+R+9JHyOU16eG3v4C6b10aVo8jx8PdLWlofcMS5fS12re77aiyLUNt0X+MeNx7Bj/HEwB2Lu3chEv6FxQF9vHMGYMvZ7F+Jn8E3mc8uDeszcgBAqbFrHasUcPSgQHqAjE/UQwlzv6M/kXiPEbRYHYrBm4hr4ApSFUHu+o43QB0Fl1uFxw4SrXS88diL4rBLn9t1/fqDK29HudJ6cYd17fQS67fIqb2K9fAMn2EwnPlZXQrxTKp+o/UmizNbK0Qv0l0xTHMvTcPgCk2VoJVwqgf8ul7rHo1VtJCHZxkVoNAdp2LoC0iyPG9F3OMBrJz/UbOxY6S5WfPwFS6AG8LvAzkBm0piAFCkhNtdnmQBwr+OSJUGyoodP2TrDc7QMTE/7vW7aU0jDi42nx+TnpCy49uwRPT9ptC7kfgpHBI/kvIoL478BQuDC41w0AkLyUppOalmqQ4GRQ4CB4XvUEIVIbr0GBg0FarFbdPI1e6wUyqpukAHzw7gFyOWrPtwmRJiDpM99u2VJYLwwtAHnHyTOUMwvATPwtDCoAW2xtoRulzZsntY8QX6isxc34IyxcfNEigdOhhkcfHiGHbW7VwHM1PHlCndhTU4WxaYcO6scfuncI9TbVQ2wsFIar5daUUxRN7POxcdrwLYuRfxQ1UNOX0cuDQ4QDxuzXrnLffX+HHftegRAgf3rMbLed/PSETVc3oeeunvD3p+8zLL12+2/Zf7j/Tj0IXY6OHan6kkdAF0Os4mxt5YTqi9VvAKwQ7T3iKVxc6Pu7n/6WcjjkQNz7OOXxtlmwafdjyeOEaHeQn39+jg8/aBeamXvPmgV0tNqAPv6C/LB/f/pa4psbw7Izy1BowmiucAQQ8rCZz6B4cS7uUlySxQzQjpKLitbn2zf6fLnljHgTIuYwFi0KzA50xZCgIYrX4o0mbU7boPTkabosbTlGBo9EhdFOkhurPK1BjmKze2PYaqFlyHwkS1R+xbXbiUqMgpFdIcVNLC0NyNJtPsYGKKkDrEM6fLzQtetp5Yd2C9Rns529+4A02cAdre7cSekbcixeLPVABGhnxUJl0vz993eE3LjCLaxOnkzTdbbl6DH0JRa70tZsWhqQteY+1F7fSPWzAHy7HYby5SHpUD9+TP/tva/uwOyjtEvKqC1q3TWA2mot9PNTVcgOGCA1t75+nRZsjG88bVr6SDg2GE02N+G/CADTvaaIfBqJQYOUVl3MS1SOmBiAFIxDDnu6O+/Zk5pop6WlqWb2dt3ZFZuvbYaREVXNM4wIHoFcnVao8npJ03Ugpn1RtKjwnX72+RmIHVH1YGX8RbH9lVycIQezQgMozUBfVjPALwCXLZOO3jMLwEz8LQwqABt4NsCBu7QFNmOGVMVUuLDgTcSMmhkniH1ZXF0FEYUa7ry+g5y2+SSjNYZ9sftUUxDE4enh4fS/a9dWP4//bX+08m6FmzehyoERg30R2Re+j+c0kM6UiXvm8RmUX1Oe+7y7b+/i0jNpDtWWLQAxfoNHbziseREcIhzQbs0YZMkiLAKDAgdxs2CZOtfHhx7LiNr5V+TH7VfqQehJyUmSESz7nGpdAYbwcOGYTtarYWI1WPVYVtB0HfAKGzbQvzez2Xn2+ZlCBJL0mxYVN+5LiVZaN2c5mFJz0SKg7Rxq28DQqZP67nvl+ZUoMnWYquec1zUvdPfrDldXWiiJ1a1l3MooDHHldjZiMMsZuXgiLS0Nce/jkJyajMaNBc5V2bLAbH939A9QtoZ4I1XbcFuUM5+gar5uutcUZU1XSW5i169rdyYKzeqKseuEDQjrVpav/ZzLNbz24hry2BfTCcbEyNHDEqY7lf5G739QT7UJU4XxpbU1NDeFbb16IHtzT+7v5NmwDLzrycJCKdphuPP6DnIvy6tQNAPaOcpVzFzQeKVQtBvXO4zKbhqLE2inTG2zU7eu1Hi9QQN67lXnV2HYHoE7Q4i2mr351uaw8A1SLUS6d5eacR8/Tq/58IRwVHKvBD8/eo7Qe0dRc6O6z0qVdVVw8tFJdOsmzaoG1CkKMTEAKRqN3I75AAgbqf4B6ubh7ba1w/abO5AlCy2KGcYeGIt8fexVs6RJSxeQIUNw7RrtgBNCNzYnHp3gmqG//PISMQnvFFSA2bOVfF8x3N2FjfWYMYZ1APPmVR7HQhUYMgvATPwtDCoAq2+ojmMP6WxMbh8hR+HC0BmsMp4di7XSwqVnl5DbpqSCKwLQUSvzoJNDnDawPfgVSFsHlCqrYkwGSvJdf3m9Xj8yhiZNpBysVmtMQVpRV+vbr24j34p83OctO7MMo/ZJHVVHj6avpUU2B+iYuMPqKSheXPCAG3tgLOzClTOqlNQUJCUnYd06KTetmEsxRVdKDBZrxEAIXcjEPlM8hIYKBfZ8+2foO1Hda4SNCdt2+wBvb/1ijsSPlIcZ/0J6PS5dqi3sYRB7+S1fDrScth3tfdvrfq81fnGLdENR84ESCxox2DW4dCntShAiCBlM3E10HFmGrl2B4WvWcxW1AJ/PJUaNGoLrf+XKwKydHui1S8lt4NEuHM84osKcMRJDbTEGBw1GqYFuEjNfZtatlh6Sb1Z7TPX0lTyWxS4LNx8XoN/nvHalYGam/J1x7yXo762s6ph35qw5wsZAHy2kuUcXGLXk/6OdPs3f0IwaRbspYhS1q4U+k/kzyajEKOR3KsRVlKal8e1hAKDM8GVos0ZYAwo3OYmyq6qofhaAdid5grmPSR/Rql2SpGvLrmeHCAeY7TfTPZ4/v3oKDkA31O47HunyzeWQf09276ab/CMPjqDWxlo6PmRo9BlUWFuB/yKgE5VzT86hbVvpaDYwOhD5ZnZAQIDyOdevA6TkNRRzoQsRG80P3ztcF0cqR/OtzbHrZiAIkQpLpoRMQf4Bi3X0HcXnbLMMZMAofPkiTI+0vpNjD4zF3AP2CjHPokXaIkcxt71PHyn3XA3Dh0Px/S1YMLMAzMS/RT5CCBLfqcix0lFhbQWdAnX0aOXiKTm2AnX7B6hZsJERXUDUFhuG0/Gnkc+6EtfUmY3f1EAI5UuZbnAGsSPI3UR/PIWWGa8YjRpJOTXtt3YDaeSF5GTBUoZnZ2J1wgrTQqXcJTHXRAtzjs5Bh5VzUKeOsFh4XvXEjpscX5N0ODlJX5stvmoQR7sBtBjeuVPddNj7hjdi38TqbgaAftHOx6SPMF5ujGZtvmL3bv2KvpgntAD49EUqES1mPhikKEdpIAMrhpKS6K678dgAtNgqWOcTQrmBPKy/vB7F5/RR7dq5X3LHgIABmDGDFtms0ASAYXuG4cpzqXy4bVsgr0MR3Hip9G4D6N/5rjJwRQdx8Hvt2sAsX2k3k4HnE+h8zhkmFiNUzde///6OqjV/SoyyGUH9iQptNPeslpjnI52dWxy3QJ1mb7k32KTkJEy0eMTt6OfvZ4eeXkru6JNPT0Bss8DSSvgwLi5Smyc5Zux2RoF6fCX+tWv8rOI+fZTd2QL2ZdFhDL9VdOX5FRRyKqaae6xmuVN48FJ09xB2LmVbnUMxp3L8F0nHvHl8vmtrn9aoP8ZP0tWtWpVujpacWiLhFZcsSX0HteDrq6TK/Er5Be8b3gjc+0si5tuwgaqk98XuQ+PNjXXXSsj1q7pCjYfiLsVx+fllSTcboBFy+eY3kXBQGc6eBYo0PIdya+jfaeZMKiAZf2A8bMNtueep71kfAVEHQYhUJT3zyEyQLgtUN/qk0EPkrUxJlYcO0c8UG8s/FqBF6Pz9zoo1Ut8mZelSgafJaChyzqrivRGpoAWg+ev5RP2GzAIwE3+LfIQQXH6kkQIPGg92+Tk9RovbBFDFJusIXLtG+Uv79+vnPYTeD0XBxXXgwLHIC7gjvZHLQQgQEEDHDPmGzUK2vuqkcYbwcKVnodpriwu2xp5NQWoG4f17OuKMSIjgclPMD5vD4rh0zmRoATglZAo6LFuEjh35xHOt98nI7Wz8ogYmHmEwMqLKP0L46lRGA9i8mXa3AHoTlefD8tCgAR3HVa2qrei7FPsUxKIIUlKk2+NCjuVAyqkXswyPHgmjWW9voH3Xr3jxRYj2YHxU7rmfXULTyb6qXbM9MXtgG26L3r0p4VvMC+WhaVPAyCEvol/zO6RyQr8cRYoIJPlGjQDzrb7o4KsktzKzcjFcL7ii8qIhmmOpChWUBruFCgndezn+m9UYi/2UobwtWoDbyQHUU3qKDlyGjhuUeWOff35Gi5mbJGKMdeu0rzEW18jDgwdSoRdD27ZKj8iiDpXRYsQp5cGgVjtFVpRSNRWuWxfcaLQ8/RdioLcw6q7e8SryL1MvmL7++opJ079zTfM7bu+I5lO3SbwbK1em49n5YfMx64jAqSxf6zU8Dmr7GW3eDIXamHXsT198Lyl27e0BMzNg1+1daO1DPbAIAQ5GxiKPk4xILUIB5wK4mXhTkWF76N4h5LesK+EZMpQtC5ASN3TiEtZd462nDDU21EDg9WMgRKqyvvD0Aur3ieSaVjMeLrsHMP662vUPAAMDB8IieC0KFpQ+Ls6K50G85o8fD8UIWe05tWpJH5MbW2cWgJn4W+QjhGDvDe209aTkJF2R068fuPFKDOKYHBbsfuSI8mKWIzA6EIUtm3NvwEy4oYZevWhCiasrUHGgN8jYdnpb7GFhdMymD/KCrcq6KiAmJ1Q7JQzidAqGLl3oAqclUgGAMfvHoN1SB5iaqvOL1N4nM5598O6BZnTS1utb0WVHFwBC54yNAXmLU7X11XA87jjc3AQj8C1b9Bt3A9Q4NSyMvjaPk8WgFntWZlVlFG7MvzmLcesWdMbDAQHSRAmmmNQqvseO1VaCApRH6OamTmJnqFsXyG5PPf140DJqBqQdwpYtAXPP3dwC8MTlZ8hdUVpkul9yR9WlAxTJHfLzyz0Pq1RR79CWqxePQ2FKqohWHKBcTMBQaqgzWq/lKx2GD5fmhm/erH2NnThB3zcPEbExINl/KKLqKne4gIW+0ilByWU10HAoXwJ+9vFZFF9RXjXKrWNHfjJGjj6zMWaX0MZp1PM2jB3yq36WiQcnov7cpbC1Vf6u285uaDfPS1ccJiTQa/nVK2DG4RmSaMVy3faiyip1cQZAu3p9+0ofY5zd01cSQYgQQzZrFu1Met/wRucd1AWfEGCx83MJjUQOo2VGuPv2ruK7cuzhMeRfXJ272Zd/R5cvpyN7i+MWMD/MT1yZdGgSjkbd5Ip0Fi7kx2m6utLziDcCcnsXOXru6gnLPZtQQmYT2NR5FJqaqm+2xZ+JrbX6OM2ECA4QDFevSn12MwvATPwt8hFCsDZirfbVKEL37lJCb5cdXSRmu2L14uHDtPDzDb2Hsg00euugBOOq0xZjLeetnHh0AlXWqXNnmGmunR3QcuhFkAXFVPNJGUJC9CteAVoUiBekhI8JyJX3m07NqgaeaKNZM8M6gEOChqCNpatu1Phc6ZaiQIcOhr02g5hXef48fd7XrwCpFAbHMOUctKxbWZx/cl6SbqCmspSjXDl+sokcUVHgRqSZrK6BXLVU/FkAxL6JxZefXyQ7ZDFXERDUsqGhgPUpa66lyrRp+iMLW7aklAZ93oRVqlIF9NNPUg+KgDsBePX1lWTEKwcbsTHeqVZKxbygNcg5SmrKdvjBYXSyX6Y5lsqfX5l6QghQwbo7TscrW5tq/E35eiBGmzb8NJZa/Y5i3EYP7nMGDIBkDZAng8gRGqq8UTIUWVkUpNRVhXlygV4r0dFDWoCWdaqLWgNCuK9zKv4USq6oxBWXPf30FKRSmKIjnJICkF7TMGOfle6x7n2+w8JdPdbCbL8Z6s504FqK9PHvg65LNui4ZiwvF6D50eLM6aq9Q1F2hbbYxM1N2bViqv2Hb56AEGGMPHIkLcTuvL6jEwPWqCFVwvJQcW1FPPn0BMWK0eKF4XT8aeRbasKNRJOvEcwWxzbcFuMPqPA3AJ0Nlhy8DGsAOj9PccFIiLblTKftnWAZ4CMRyABAlRUtUXOIShsc1DKHUQ6YMwZPHCUGIcr7U1QUJN3HzAIwE3+LfIQQLAwxIJwwHfIdf+cdneF9Q7BfF/uXBQXRoqfK6nooVk+WVcWB+LliXHx2UTWfERAWjfnzAdPxb0DsCF68VWGzpyM4WDB0ZtgXuw9RiVF632eBArTbpAW5bQuzZ5gw9TvKNdLms/nd8kPfGRdgba1OMJejefOMFYCrI1frPPKuXBF2ljlabUD7zUrBTeGVhXHj5Q3Y2AiCjD176KhTH4oWpXSALl0EQ9jo19F49VWan6mW3VlzXT2QqodU0yPYuDssTIibi4gAKooSnZiZ7bdv6nwiucURDw0a0DE2IfwbC0PZCtTT7vU3qaK53JpyOPv4LJcPmZSchOsvrytsYtS+FwAwzW8ljEcPVzy+erW2WW+uXMrrihAg38L6OHhPOc8sUgSKuDlAeyJQvz5/NCrPexZD/lnttp1FmZHq0Yl79yoTExhKrS4FUuaiYgP1X1dH9PaWVseVnBujSt9g8PD442NM27KFe559sftQxrGh7rvHumafPgHE5DiOxQrUhWHDtOkzI4JHoNZUJ4VlCkA3lL0c1+hSmLS+6/UGnETxZdpikxUrpP6BDCyJRnx98or8jh21o/PEyJtXmixy4ekF5LUpw+1Qyz8Xi97cF7sPGy6ryNpBR+E8AZsaT3nFCmUkGzv3x6SP+JWiJOm19mkNq13+qFZN+nh15/YgddX52R06QGfJxCYRWiNjdsxe2WBO7MEKZBaAmfh75COE4HjMcRiK5s2lBrN9/PtIvphiz6dt24DW3WhcXKFSekgPyNiiIsbcufQLM3kysMAiDaRCOJ6+0GbZ7t5Nc2fF6B/QX7KTVkOJEtrjO4BaxMR/iNf9fPs2fY/9Z1xB1oX65cdsFJY/v3axGZ4QjsSviahfn3JlDLG2AYCTj07C5wZdlfbuFfwG87X1QeP1Ssm20TIj3Ht7T5Jxe+DQb9RsrO6Az5AnD7V3YPm2gHLjAKh70TXwaAxSY69qx4yJlMTxSYx/ysDEEqmp9EbLsoPF0Gc5AtACUx7Tx0OR0jSJ4mOSNImiknslnIo/hTp1aBdaDGZCKzcd7t8f3M44AIzd5oC8o80Uj3t6qlsvsQ7js2fSx+fMAYpZN8beGCUlRH4TZ9DiBFeuLE2UYNAqGjt0oAIFhrk+fsht3oZ/MKTRjHKUW1MOOSqdlXjipaUBpKM1THdJ/6F7bJiOSp3CVc/j788/T8j9ENTdVFd3PTilX1bi641hwgRwx7sMQ4KGoPoEF3hwmqOme03R32Uleqb7zhsbq4/GWww7h0IO2mITNbuZPE55EPMmBi1bQmeJJKb1MPTuDVWbITHS0oBs2aiZNMP9d/dRz34UN06OECkFIDBQEJ1p4dAhZXYuQDtvffooH+d9f8uWpRtARneRw+uaF9YH3lF05kpbdgVpsFWVdiT+W7Jzq3GNASEq75V0f4z796V838wCMBN/iwxnAct39eIcVoCqoZhKeN06oNWIMyixsozCdJmHVq1oYZZRhIRQTtOIEXQBzppV6gclxozDM3D4wWFs367k4o0IHoEV5zQs3dORI4fh+ZQMly7RL/XqnXeQZRHfOkYM5iNnZASu0S5DbY/aOPLgCKpXp2o0OT9FDY8eCdYh4sUwb/MA1HCVptEzz7enn55K4q3WBJ9DdgvtGw2LsIqPp4U6UziK0zsYDh7kcwS7+3UHqb5Pteguvbo0Ip9GYutWytEDlHzC6GjhMw4KHAS3SGWbZflyYbytBmbGO2uWdjpJ3vzJCDx3TSEQYpZKjRsrb6qxb2KRe3luSdweQDsYajcM083WKDhGWbVqjecj4i6C5H6lyBd2dASKWLbgJs7kyMHvRPMSTwCaxVu46n1utrKpqfrnkYtKFu8KhJF5c/7BoB2iTioGAZXcKyFPndMSsc2XLwDpvBAT90lN/8TdYx58fGgnSo5jD4/pphM1aggm4zExSqN5fX5x/QP6o+qYtVwD721R22C5+Zhu00qIup1Ul7FXkMdOfZNZ0rUkpi15wOUtFlpZCFGJURg+HDrBiTz7lp1fn2UUIIw85cXM2rXKxBP2HRVveLVG/GIEBgqxmWKwhCM5CAFI9h+S7PepU6nopL4nvwsOCFMtMTps7g3S2EM15q9RI+l3vVs32qFXA5sAyKkLLJGFIbMAzMTfIsMFICP0M5jtN4NDhDCimTqVelkB9MbQfPpmtPLszDVRlaNRI6gmMWghNhbIVf0kWg4/g/Xr6e5Y7AgvRvOtzREYHYgtWwQ1K8OEgxNgc1rFO0MEQoRIns8/P+tSKLTAulvHr8aBLM2u93jWDSWEFk7xH+Ix4aDSDK/8mvI4+/gsypenhHk1GxfeZ2DCnNq1adwdAJCqh2A0T7qVTktLw+1Xt/E75TcGDRIKny2HtbuZiV8T4X8zSHcDsLKCbuwzOGiwgiOpZRdUrRoktiViMM9D8Vjr2TOAZE/C5Wd0bunuLtwIeu3qpSg+AUgELmooVoyOzMXehD43fBQ+gDlz8s1463jUQcj9ELRqBYXp9O1Xt5F/RX5ER0PiOcc4rjz037gQRc2U5PjgYPp94oF1VOWef5s2AQXntVXYDal1DIfuGYp+0y/B2lp5jsDoQGSd1IJrqzF+vHonjCnGGRz27ENOc/X0jFbOE9F6EF9OXW19NZBKYdizR3js2TOAdJuD2UelHhsREVBwu8Tw8KBdLzlOxZ9C5XVUHSIWvVy8SHl6YixezBeLMPTa1QuVTDeqmpEzXivzPj1yhH/coGm3kctWXWyS3SE7Ji3kW/SceHQCn5I+Yf58gQ7B8xU0lG4iNuoXg412xTh8mB4r9uKTUznU4OvL54ru30/jIeWoXx8wWdwX6y8LfOe5c+n/2D2CB97Gqu8uGkco31Ax5Mwp7fbr+9vFxwt0FTGePZPSDDILwEz8LfQWgF9/fcXhBwLbvWJFqaJrashULDopeGvMm0d3ugDlezWwXACzwOlchZYcdepoE+vV8P49QPqNQ4nhNtixQ5o4IUetjbVw5MERbNyoXNBnHpmJBWEcJ2oZWrWCzsNqztE5mHNUoxWUDjaevHrvBYgdwa/f/FgjhqZNKceuYkXaVYh9Ewvj5caK4xg3r3hxYQH98YN6FMr5ZwxMicYWoSFDhDFe0aYnUcRenT9EiHCj9D99E1msCqoeG54QjvJuFUEITaqwsaGKPgAYtW8Ulp9dLjl+mVcs6g3l77ybNlUnnRd0LoibiTcxd65w7X38CJCCj5DDge48QkOFDk/nHZ2x9bqUhHb5+WXUceqjOjYNuBOA4Nhg5M1Lb4Zif7ohQUPgesFVdywrmHjinYZeDbH/7n506gRFp+fGyxsovLKwwqR88mRhUyVHD/c5KDl2nuLxY8fUO1q11zcAqXZAEV+2dy+Qd0YnxWj+xw+AFI3Gs0SpsqrWxlroM+8IV9G4PWoXyLg23BxWeZoQw+EHh2E8rYMkj3nVwUPIPpMz20tHIfuKaDM6gvu72h61QaoclnRfoqOB7P2nweqEleTYS5eUBZsYPNEEQKkezAx5+nThc/E6imIBFQ/rL69Hta5nJJ55Ypw7R8eUrBBQsxKZMucDulp6c3/HhB7j5zzT7Eay2DGxuboYnp78jpscL17wraV4Hbvt2+mxIfdDdJsQOZVDDTzKg/9tf7Rc35trE0QIUNWhG7yuCeRGS0s6Fu/g2wG+Ub7KJwHcxoH54ZkgDbdwr3U2zhWr4fUVgBMn0t/LOc/Pn9PH2TqYWQBm4m+htwCMeRMj8XoqWVLKf/O86im5mYp5VBMnArVtRsL6mJOuMNFCtWoZH60C6TviYQOQo/VaHD9Oyb0XVcR2rGO2dq2y22N5whIzDqvkQYF2++68viNRKspd+NWwbRvt6j16SeOuEt9ri1Rq1aI7fFYosIxK+Ugxl2MuPHj3APnzUw8rNkIx22+msKFhEHPY3r2jO3FGym8/OhL57Tlb5nT07AkdRynk4l2QJcqilOF43HFUWltNt5iJF76JBydi6WlppIypqxeKzuUTm7RGTnmc8iD6dbQuNQBIP1++Z7pQefENZ9KhSQi9L82hikiIQJFlFVQVp9NCp8HyhBUIoUWEl5fgozYyeKSEOvDjh/C3laPZlmYIig6S/B0Zrjy/guIuxSVxewA1w50+/x2CopUV8CLPs2jQT+ldoeWPV21tHWSroczhOn0ayGdqjn2x0jb8q1cAWZoDMYnSlma9TfUwCG324gAAIABJREFUwOoQzDnuHMtDt4OYtecWKRYW4D4nKDoIuWY00xnJA8D6Y0eRbZa6ACy/XVl0Hs/37vC86olabe9LpgoXLgAlKr9E4lep+b1cYSmHWvEW+TQSpVfT78uyZcIGhyeQWrcO6Dr4Odc4nkFrE3z7NjUCFtsd8SDutMvxK4WKk8ymv1b1xAQE9wNe0gxA32Pt2lRMJs/0FiMuDtzpD88ajK0Pi08u1hlbq1lDMXz5+QWj9o2Ci9tPRd78rtu7UM+9FddZgBCg0Lz2kkLPyIg+3sOvBzZd3cQ9nxqnUJ5DrHt/6VGB7iJqub4CcOpU+ns5p5AlsLBJSGYBmIm/hd4C8PrL6yiySnAFLVhQ28BWvFAOHgyYOQfjzMOrIDm/IPweP2oJoFFcxVsf1vRW00K28R1B6m/DnTt8zgoD47isWqUMXbcLt8O4A+rSzuNxx1FtfTVJGsr6y+vRx5+zIsjADG0/ffsBYkcQHf9W83hmE9K7N+X6fEqiMWmfkoQ7KvPtevnlJXLmpMa3hNDu1ORDk7H4JL9tFBEhLELXrqUvuumHDh+ZDPvl6pW62EQ3/OYjEJtsqseG3g+lxUb6IStXCguf+WFziXcZAPRd7o7S85V5twBQsyZ0Ckg5Vp5fibff32LIEOrvxZCzAFWE/0z+CR8fda4YQJWJhZaVVlU1Tzo0CVZh1rpxtr+/MK4ed2CcpNhmGdi8WLWLzy7i5ZeXXI+8yKeRKONWRsF7srAAhs6Wfg8ZeJ2Pm4k3MWanBffGB1Bbnf9qK2111OIR4+P5ljb/D3tvHVZV9r4PL7FjsHsMbB1jzBHH7hodO7ALGwOwFQVREDCxRVBsVAQLbEXFxMYA7O4ERbjfP5Zr11prHxw/f7y/78V9XXONnLNPn7P2s57njhora6DrjO3CmL6p29cg/UABaQ5Av+kRqDCerwADLwcig309XYrFmiMHkWa0vCOdzaUg2gyRx17Urasfte/dS79LRkRHU+qIDFr1uxavv7xWJiRamoFoxOnnB1hNpxs2GUqXFgtnAJrSkiaNakTOsOTMEt19zpoFYQQfQCc6xIXAbuBbU0HKuHH0MW7cUOkh9qH2iuDv1Cl6vTYmVIvnn55jUeQiXLmiCsy0YNnlWhBCOW7j9o+Dwz7aymddL2O3muHJhycgLgSusxM5VfO269tQaVFNZMqkv5x16Cst0PNd8+T5YdGypaOQIwzQ9aVLF/5y7RqqxcuX9LqPGkvWP/80LwA3bJBfX7o0cPCH5WBqAZiKX4XFAvDkg5Mo4qNmpsl2OgwLFkDZiTG7h8REgPx+Gvk85QqFthvbIntTX2nnzj/K35Rrl3Z4NZByO/H6NVC+0hesC34oPC79rPS48/oO3Nz4+J6H7x8i9k2s9DG239iO6iuqY/BglR+jdcdnSE5O5nb5bKSSlJwEq4auiLphIMVo8Neqv5DTJg4XLqgqy+9J30FcCB6+V1/X2/i3tCj88kHhaFWpQhVxo/eOxvgw8YynaVO1AGR+Ysyna+BASCPEANUGBQDO335kOs7ecWMHKiysrvDZIiLUrtTRu0cRHHVM1xVu6jIXNk5ig2CZoasWRguRHAVo0fw+4T0WLeKNb7U4++gscrjlkxLO+wX3w6T9M5Vx9v79qpH4kJAhmHJIjbx48kQ89tKie3e92hGg3z/fs74c0XzqVMrryj6HP5MynzQtwmLCYONdljvxMRSdVxrZq/LGtdHR4hPP5Wu0a2S07am9ujZ6zt7CbaQAYFTACmS1b8lfAaDP7F3IObEqd7nfRT+kG9BEt8G8E5OEtOnlb2SWGXnRcYTcYqp5c+gix7RRhloYCfZabLyyERWm9lLU7zLs3q2+fwsWAPnGtcCBWHWksXUrkHaKNa4+vyq5B3Mz4nfv6P3PmqUfL5ddXFb3OGbxea+/0AlE996fdKkiRty7R9+PsDC1MO6wuQMWnKajD+ZqUG15Na5jDNDGQW6P3NLROru9tstFCOXLDd89HBMOTNC95hPX4tB7By8bjnsTB6uZVsICPeRmCLWQMhSQnz/T+6ziW1333I8coePmVRdWISwmDCJou7xaECLeILACVkt/2rTJvABcu5b66YpQqRL9ngGpBWAqfh3WhBBkd8nOjUQYDsYeVEyYk5PpDlSmsAX06RBa+4A0OR4gjUsa6fijkX8jZKu7Vom/MiK3R25Tjz4yugRI8cNITgZKtgpFsbn8mfzb928o4lMEzz89x/TpqpAjpQi4FIAGaxugQQPVQ2rv7b2o4KtvKbBdqVZhprVPsRTWnnZmWmTIH4dbt/QCgKyzs+LGC5VVH58Yj8DLgfj0OQmE0N1munSWnfPHjgVydJwC8scWpRBkySYyfhaDNi3i3tMPIK1G4u17sUHf5qubUWmBrTK61fJ5mDpQuxDaTnJB+YniDqyLi9i2QgtCqJCBoVDReBAXgpefX0p9zxiinkbhN7ec0rSHXjt6YdLe2SCEPnftazHGVMXFAWkyfMb9d/K4mL59qRWHCFo1M0DFVO0G3ERmN34WJvI5Oxx3GMW8S0p5twU9bJC3Js+bu3OHvodPDUvByXO0a2TcgNXzq4c+XoHCwrqvry9yjhCoJgAM8doD6wn873P5ueWw6t1Kt8FkHDJZByjTjJzoOVbuk9Sxo77TKrPHWXg0AKT0HmHRvuzcMhSb3ErxsJThwQO6Pn77Rn+z2SeX13XH9u4F0k7KgwtP5JMQ5pkpQlISvf/mzfWZ1sXmF9Plfov4zQxv49+i6bqm6Nz1m65bbgQbN6ZJo/5GWwW2wvJzdIf16hW93HbV39hwhVetnHpwCoW8C+HwYT2dAaDrcOeNvUAyvlNGy6xT1rq13qeTdeuWb78ujJ2LfhmNLLOzwMkJXIG+/85+lFlYnhOhsEnJH0sq6qggFy+KjegBuqmvuLQixkx7IjxvsEmNEaIR+OTJepsnI8xGxNpzamoBmIpfhTUhBBmnZsStV+Joi923dqPSUrpYyyT9Wmh9ubRmopl/SxB2ERj+WvUXMlffyqUTMPzu8ztOPhBEEfwAcc4NUoAGOVZuFYnsruZeexMnWu4oGcHSM1atot1NgGbIFvDSdzaZn5sW/furnTVjDFdysroTZmNdku0pHj2ifBDmnVfQq6CSyawFMzn++FFdPKYemopBu8QV7tixgM3kf0BqLVaOZ1wtR0dw6sD3Ce+Vzqg2aN6M6wbQvOE/FzRAsWL07+vX1XFSTIz6XNkJv8r4Cag2jf9Qjtw9ghFzIoWGrloQolcC2pSkXdNH7x+hSRPzGLprz68hi2s2oWIQALpt64aJoR5K14It7MnJdGSlFQJFRwMZyh1U1KEi2Nurn6sRxqJu3jygtV0s0s3i1eMiP7cT90/gd++i3OiJYcqmTbCpxG/4mAGt0e5l/zHaNfr0VT/T7rqtK4Yu2saR4gFgvPc51OgrVu2MWRyGrM68QmVh5CKQ7u11G0w2The9DgDIMj0/BkyQG6sbbWrmzuWpHwBgt3UASMMZwsdZFLkIxSa0E6qdtfj2jRZM9+/T35H1tBI4cveIcv3x40Bap0I49UDu62RtLfZbDLwcCNdjrrC2pu+HNsYy/7z8OPtIXVAs0R0A2jUWeTF++fYFX79/1UUnMs6bVhzBfvsNVvOCKoD+Zm0W2HCJPIBqK0WsHypm5ywl6eFDasc194TaHi9XDgjYdRdWM62QbCDGXXp6CTnn5sTIkeAK9MNxh2GzoAS3qenalT7WpIOTdd3Ymzch7Zoz7uRwp2fCTrDMD1NkBzRpktjmhcGsAKxfHwgMpP9OLQBT8auwJoQgj2se3QKixbbr21BrVa0fXzhz9RlAx4PVqtF/ayOAcuUCsrhRsr4IFZdWRPo/dksj1sosLqMbcxiRs3wUSPrPAIA6reNg5ZIWScly2bFWrZxSeER4oHtQd4SGqova049POa4dU3NqwXz9AKqi1Zoa16ql/uDfJ7yni2PGd3j3Tv88Za9Hq7Rji4fbMTfhyASg12cc1BwdXFcqx7NOkcgMeceNHai+orpyUmBFupnaFaBK5AXbIpVxFTM4fvNGHw3HuqFlHEajriuvaLUPtUfzuZNNR7jsdWnHZ+XLAwP9PPAu/h0yZeKd/7WIexOHkt5/SI20O23phEm7fJQThNas+W38Wx0389IlIOufe/CHrzwAe/x4vtBmMH4GVDzwAMSFcCdAEeH/9MPTKORVSLpZM/NWy5tXH9sFANvDnnIdbQaZ3+D06foulRaTVx5GJme+ON50eRtIwxm65xwfr7e+MGLQIGrJI4PWfBygJ1+RFcvAnfYgjScLNzM+p3xQ1LGTwvs1Q8GClB83ZAjw24zCumLv4kXAaqwNZxmkhSz5xzPCE922dVN+MyEh6nU55ubAlWfqSGHzZsvmya1bi9NlGgc0Voq8TJn0xYjWHoWtBc3W6K1UGPbf2Y9yS8pJ04LSzUoHkjNWmTywx/n0iXLw2KgZoOeTtVtpoIAxoSPyYSQKehUUfg+uPr8Ku+12SJdOb8k0c6a4wGLqalG3+UMCNXYfMvqtUD3dubP4fCLqKq5aJe60M5gVgM2bq4K91AIwFb8Ka0IISniUwMFYcZj13bd3sfc2NZySKcK00NofMGECQBfGgh40sUGEEgtLIE2JwzoPKC2qLKuCkJsh4iuh8toAoMU/n0BcCF59lrSmQFWIlgK5jZh2eBoG7RqEoCDzFv7xe8cVawiG+vXVnMly5fSeduwHv2cPLSiJCwFJ+xWJicCUKZbTKWJj6egXoF6A5csDEfcjsP2G2E+CECDHmAbwDAvgFhsRxyXwciDq+dVTCk1th8JSVJ12Q8AKxvXr1ddMiNoNbdTpDmYs4u9s1N5RaO7lqHRdZciUCboNBONDAmqyihnMOgAfEj7gzMUvCqHdrBseGQnktN2JaiuqSR/LrEDSmm0DVHHc6B9xETZ6NN0kaHH+8Xnk9czLJTAwBAXJI/y0I37l+ND3yNvFhSs+Aap2FdmBjBjBd2QY3NYfRwbn4tzlog0mo53cl0zTtYIsEYyjweHDgSETYnUFOwCM2D0SpJmTcDPjGeGJImO7mZr3MtSoQd+T7NmBjNP0497bt4E0o8pK+WV223uBFLjI+S0CwPzT89FxS0flN6M1h8/klkk3wdm1C0g/obB0qgPQ9VJkON0ysKUSYckei30XjQbJmTMDrf26wTPCk7ufkJshqLyssjTLOcvsLCB5ojF+vMo9ZevQh4QP+Pzts3Js3brAmkBxsg6z4bGzU1NYjDBSbkRWLoB5t/nFJyooI+niYW3w8Y+4HwFSdpewaDt4kC/mWPG8RuzUg/Tp9R1eLdq1UxNYUgvA/zuYSQh5TAj5SAg5Sgj5w+RYV0LIRULIV0LIcckxnQkh0YSQz4SQ64SQDpLjrAkh+HPBn9JiQYv793nibtTTKF0HjNlPGHfuNjZAWe/q0scp4FUApPAZPHkifmzb1bbYfFUeuP3pE+WRAHQ3lt4lM6JfRkuPt7enxdXP4OjdowiLCVNI/rLO1+5bu1FxqX7uUbmyagZqTFNhi1/GjLQTlcbFCoTQN9nNzXI6hTYjcsQIel9mSm0bG6CCD93NE6InyS9aBNS224/3CaowaOX5lWixvgUiIvjFzNoa0rE9QNWy2si97NmpFYe9Pb2v4sWh2H40aKAqjLUYHzYe5cc5mBKnmTmu9jMpW1Ydc/3zj7pwTjo4CS8/8yps0fdbC6NK1lhwMhw9CuRttBm2q/k2THxiPOIT4+HpKSfqG42fAwKA+o0SsOvmLs4GqOiEf9Bp2jbdZZefXUbOuTmln41ZSki59sFwXKm3iNm5U24qHRLCh9YDdMw6RxKqs2DbGWQYx4+A2QbTuLEyE54Zld9aOOxzQIdZfrrIMTs74PeZtThLnbH7xyJNqzGIFWjA3I+7o/CoXkKOFxN8seK4fXsqACEEyDDjN93E48kTgPw9F5cei0fWxeYXByl2TFnHtGD0E7ZWsE048/XT8k0PHACsJlFvTBnq1VNHiVq029ROUfpmz64XiPXZ2QeRD1XFNSHAgjWPheK8bde3oebKmhgxQqwszzE3B0j+S3BzU9c/Gfe4eXNgxapEmvH+QW9ImJSchPjEeHTsCGGGMsDbgomEU4D5po7ZcJE0Sdw65H7cHcXG2SFNGv52pUuLu3mEyCcSbdroucxadO2qft9TC8D/G3AihNwnhFQghGQkhLgTQh4RQrJIju9LCGlDCFlMxAXgX4SQeELIv4SQdISQjoSQL4SQaoJjrQkhqL+8PtZGrRV/4zQwZhECVHFYbom6mF+8SOX0T58CpEwoWq1vA4B2vaZu3IabL8Ur+afPSSBpkqR8siYBTVL0HAHawcrhUkzabQSg84xjSEhMMCXua0GI2N4AECuDma0LoM9TZoUL+y/2TSxKzftTUSQuXkwXBDNoBQk3btD7EeVsMuTLB5T1qYrg6GDuuo0bgXST8+L8Y5WJvuD0AnTY3EE4msifnx8ZamG0w2A2BoRQlWGFCsC+ffS6atVUhbEWkw5OQsnRw4QL6bOPz1BqUSm8e/+d49XY2qrE7EaNaCGVnJyMNC5pcO/tPe6+2FhX5ld5/DgUPiOgpoIYsX8/UKjlOjRY24C7rs/OPnA95gpfX/nnqvWZBOh3pbYkDS2dvS0ajdSnFiQlJ+Hb928oXFgcIyjrgABAqZEOaDBb31IU5WYzhIfTQtuIZs1oN1qEY8fEqRuiAvzzt8/IVnMHLl4U35eWWmFE96DuaOc5V+fb1rIlUMSNj/pyDndGuvbDcV1Qm625uAY2/WcKO2ZMic82TMOH085niRJAZZ/6uvWEcXQZ782IgvMKgfx+StiBYpuwsDD9bzA5ORk3XtzQdYYjIgArp4K6Ys2Iv/7SZ7ozdN7aWbFASUqiXNTPn/njAPo8WPa2Ea+/vMa159cweLDYvzP/vPyo9s9ZJcfdbHPHsqOzzM4idWlo3VpeNBkzqSdOpJn1IqRLB+Em4M7rO0g/Kz0IAaee9jrphZrzugg7nd26yQtAma8pc88QQRu1mloA/t9AHCFkpObvtISQF4QQOwu3m0HEBaAfIWS74bIdhJBVgmOtCSFwDnU2Ha8yiDydjt87jqLzVcdZZtwZHQ2kr7UGTQIoG9nY9TKCyf2NkUEM5x+fx6P3kpabAYMGAS2mLzAdgfTsyXcozj8+L/RaE4EtWqI4psNxh7lMYUKgnMTyDeuBMcvo+814J9pFMDRUDTb39+czixlY1yEigtpH0Mvo/ZhZVmTNCtTybYhDcbzhWFgYkM6RmmUzuB93R48gO+FCXawY7frKYDROrVyZdh5I6T0gdi1191mqlOpxpcX0w9Pxz+qBwk7C3bd3kcYlDTUrJnQXz6AlZtesSdNYmMhGpHpnGZyyEzSL82PQenJpERwMFGm/Cs3X81UWixtcu5b/XHfd3IWu27qCEL1lDTPdFYEMqYYMlQVVM/jYRobFi+WWOH86OaLaFD05kZmYi3D8uLiYI4SPumOQ+Q3eusWP4B+8o9zHiAhxW9Zo86JF7x290Wmhq67bWbUq8Puc8th3Z5/u2CmHpiBj58HSQtOYUczw6auebuLuTrufGTPyXUtLLgp5PPKBFDrHJUAANAu4kX8j5X7MQLmGcroNQDdbwfz+jxNgmKFZM3EOtBaTJ1M+pBFFfIqAFIlQfv8y42ogZfSNRo3oWimCdvoCmBec1tbA4rBQnaofAGJex6DaimrC39SiyEWo4dVeyLuUGUcTIjfzzpGDblZFGDIEihgptQD8fx/WhJBkQrt2WoQRQrws3FZWAF4khEwwXDaJEHJe8vgpzgI+c4ZfuM89Poe8nmpWz4MHKkflt+be6LyV5ifVri2P8gLU7osZvzClkPH7Lj29pIx+OnfmRwY3XtxA1tlZU/QYxqLNDKwoi/4xkc49tgn6+NB2AjNc9fZW70vb8RGFjzPMOzkPPYJ64MABWowwdOpETZdlz8WMU3XiBJDOobyOpzTl0BTU9RgsfL3ZBnbEip3yGbBR0VqrFi3GSJlQkKGVQYj6WvPn16fMMLgdc8M/a/oIO663X91GBtcMSgqK9uTYr59qtVK+PF24mRGuaGxlSdSiLcwB2v0QxXZt3gxUbBkp7Fiz6ESRH926S+vQ0L+hjncF0CJLluqRxbEinFaKoyNkz8/MJ8526iRUcB6qu2zZMtphEeHMGaCAwN6TENWvzAitGlwLUcIF48SGHRDbR2mNyY0YEDwA3ZZP142oCxYECnuUxOG4w7pjP339hAJFPwo7poB8A8vUoWxDERBAv2uEiI3Af/tNTpnI7p4TaQpeEhZ4265vS5HhPEDXmTSjyiI8hg/Pjn4ZjckHJ6NiRfHmtV9wP122uxlE/FMjZGKnhMQEFC2WpKwpX7/yxzAMHCjPjmbQTlVE12mL95w56QRIhIIFgalBarFthI0NHzKw/NxyVPNuJcws9vYWRwgSIud2EyJOygHoe864takF4P/7+J3QArCs4fLNhJCVFm4rKwBjCCH2hsuGEkJuC479qQLQGFEFUPsMrT8T84fasQPI3XmaYkUi43cxsE6YpbxgEd7Gv9VxQ0RWJoA+tUPLCWNg3SQR2d2I3r1TXgAyywTG7ck/rg06e9AcsB076HW9eqkFjLbjolVsXn1+VTfWmX54OgYED0BoqF7Vafa8mAmqiGcE0HFuuuHVsTNa7SqFx4TTjh3h39cMTsXhvuGo8L7iE+MxzSVBZ1OiFM4lDqCgexmMGaOeRLJkoSNsI+69vYe9524gQwb+uusvriPr7KxYsYJ/zcOH03xP9rjHjwMvP78EcSH48k0859UKl4zYto0WrwzZs9OT0/NPz3V2EmZdW5Y3HRxMu1Fa+F30Q2P/piBErxC8cIHSKkTI6FgGMwLE6nhCxCfozC450bG/eAfQcOY0lBqnd7SdP5+PTQQo/cP/cARXtCUlAeRvD4wNduFvhB/0EMFmT7TBZJ/XtmD+8/r6/StKdFyLDZvF1YN9qD3s/CYpHcqkJCBtWqCgZxFE3Ofdls0ShLSWVlowDh5LSWH0Btnvr1Ah8VgeoC4JmYrILW1Sivv3ATK0MkJuhnLXMcpOmTLi7vXaqLVCaogIM2bICykGkT0Lw7x5KVtDR42yLNgzmzARok5IAHouWu2fgBbrW+i4zgCdQkzdLObvAkDhwpTDrIXfRT+UcWsCQvj8Xnd3sf9ouXLi180oQTKBmLOzWhymFoD/7+P/Fx3AESNGYOzYsRg7diz2a5PYDRCNomLfxCLtTDUOjIk/vLyAnD3pyQ6g5tCyUQ2gV7L+LJadW4Y2G1RClcjKBKCjzJ7beyrPx8hRev7puRIdlhLkyvVDJbdnmqKcE0FrGQIARcZ3Rhs3KincvJnuUE+epMe8f0/HKvXq0WMPH4ZiTux6zBV9dqrxJWP3j4XDPgcEBem5OGaLqiWe29WrQNpB9ThzV9l9ZnIsi6l+fKcBABzDHFF96ijdeEcpAIueQCHPopgyhY41vn8HSJaXiL0nPpnLLBouPb2EHHNzYM8e3trE0REoPrkt9t3eD0Loe/no/SMlH1iL5ORkuB1zg3Xe97gs8BU+8+gMlga8UD4X7WtZG7UWjQPUGanMbBhQY660SSIMK8+vRINVLWFlpX+dIi8xhvSOxeG5RTzqE31mrGDpOVSclNNqziwUHa2PyJGZaA8JGYKhW6dwWa137wKk+XgM2zVa+BhsjXj+XH/5xM3+yPe3vpvJIhDXbuQ3qSzVYssOca72yD0j0TfQScn4ZWbD+Tzz49xjnriq5aMaYZbQkW5WOiUPl0WkyX5/ZcuKx/IAkG9uYVgXl+fqphQvXgCk9XAcusM/4dBboai0tBJnRfVfsGCBWEyhxeDBcrHdrl3i9+rYvWP4kKBygSZMMKe0APR9DTcsQ/GJ8Ri0axBI+s86K5ZatQD/zZS7qX0cgD6XlmOC8edysWmoiPcbeDkQf3jXE26sXVzERbLsO8KaBbICsGfP/ahYkZ6rR4wYkVoA/h+AiAP4nPwaBzDIcNl2YsIBNOsAjtgzAtMOU4MlkaeTMfUiOZnyXwgBSIdecDtGGatmZG3AchanGeacmKMUdgAl6YrieiYfnIwhIZSQ0rAhzxkxGw+KEBz843W2HsFxRrSIi6OdB9ZYLOnUC41dKJN4xQpKTGdjYk9P/eIQGamqxRacXoB/N6sr7qBdgzD10FRs2KAn6a9dC5BCZ1FyZlNuV3r3Lh0By5qct28Dafq0wKoL+mq9SBEx3yerYyWMXcZ3GgAaR1d1wnhdF6pBgx+vr9A55JuXD46O9PW9eweQ4RUQdEl8BmadZeNY7dzjc8jjmQd2dnyU14wZQN5JtbH+IlU7v3hBNywiQ2UAsJpphbyl7+qyaBn+XP4nRi7epbOiqVHjB9fNIPrRxiEa4RzujOG7h+PoUZ47t/TsUvzt25aLzmLfn/jEeK5wzdKvM/x2i2eKNWqAUyYmJlE15aAxYhOyjj5zUGCEPnS534xjKDKBj5YYvns47IOcue9Tt24AaemAsfvl80FRp7XR4l7I10nv5fH522cQF4Ila3hiJtuwhewVb9g8IjwwMcRT+e1dvUpHsJ4RnnjygbcbqFpVzIsDqJebjB+Y2U11HNAaKItQo4aa5GCELDbtZ2HGZWWenkZl7H+Bvz9Qt9lr02xjoxG3FsnJlPNtnPrknKtXMMuKKAC49eoWzj8+D0Lo+UmL+ESaBDRmyguFh8hoHsvWPxP6ChICkJJ6YaPuueUEogyBVK+/vMbNF7dBCDgLnyZNxHQL2XeEceFlfrju7uq5LbUD+H8DjoSQe4Rav2QmhMwmhDwkchVwOkJIJkKIGyHkBKHK4Yya6/8iVPXb/sexHQi1g5GqgM0KwH7B/ZSge5GnU3JyMuIT43VjU5YvSxpPVjh3Mqd0gP6AFu0PlZJiLWHCgQkYvlvOW+eCAAAgAElEQVRNkPD2Fgd2j9o7SsnHFZG6Wd6u0WqAofqK6ro4OmWxbzgdA3cJgiB/wCieqTBhMGynUCbv7NmqIo0tCmnTqsrKK1dUXtSai6qoBqDpFB4RHhxJf9YsgPx+CmRcYWUcz6C1jBHhwQOA2BzEzZfqCrRokXzBsnasAfsFYmufoaFD8ef4SboEBaUDmO8KrOdYK38/fAgQBxscjDkivC/Z6PrKsytoEtBE+Pw8PYG8TvWx9OQ6pXj89v0b4t4IzPEAZHTNiCJVbgvHgBWXVsQwnz26iK1Nm4A6dSg/669VKlFz7lxKXBdh+43tWHdpnZA7tyhyEWr5/Kv4JjKwkWmOuTlw+Zm+PSkybk5MSsSOGzvgNucr151jJ8U2XcTOyqsD36JmA/11HSftQp4pfEfEYZ8D7HeM4zhcGzfSTZFzuNjXIz4xHr81WIVTkXpen61PVxTpqvd0YRw7jyW8N8fjD49BXAiOHJPkxEGfknPwIKRRf4Bc6AHQzSnj8BrRP7i/MgIGKNUlRKKps+k7CwMWC+TEoOpoEY/MDJ++fuLsrsy4rJuv0vFmnjyQxm6K8PHrRwzbPUxXMG3ZApTsGICG/g25419/eY1Xn1/pbEtSisxumXUCPlHcIcPs47PRa3svEMJvKFjiiOPMR+jb98fr+KHEdnS9LzRWJwRIX/I4is0vJnw8QsRJLQBdt2Ni+ONF62ZwMFCyJH+5cVpkhI+Per5ILQD/78CFEPKUEPKJ6H0AixDqDfi35ti1hI6Nk378x/6tRSdCfQC/EEJuEGoJI4LFArB7UHfF6NOMDK4FI0FrRwy9ewOjXK/BZgG/wkXcj0D+uUWksniAkoaN7XoGRqxnWLJErLzqF9wPLkcoL0m2259wYAJefxHLQK3n8EHuhADkL2qTIoORxF934hzUd16g3p6o99V74hlU7rFZGZfHxEDhvmlTWQCg9YbWWHp2KZYvp11EBi8vgBS8AOKUhyPji3hWWrCINrbIKQUbEat9cznWQZ95G4X3NXDXQFQaPUNnm+Ds/OP+st9H44DGiiv+jRsAcSwgta5gJ7UHD4RXCxfaZcuAPGObwfPg6hTxS7O5Z0PJ2texR6CpKLu4LIZ4hOsI3Xv3An/8QdW7VZerhD6zjgWDSPCw4coGNPVw4uxh3r6lry2Ph96eJzmZmsYajbhZ16xDz1cgRK9GZV3u9t3EXe6QEL3QBQBaO25DgWm8c7RjmCOG7hoFQvT2O7VrA6StPZeQw8BGtyH79X4n1Tz/RSk7fT5ZcnIyynfdiEnTec7C/Xf0JH72rJyzy9JxHj2i6nOZnQ1AN7ci9eWmq5tBSu6XCqdEePLhiW5NYig6cgBazp0hvE1YmNwAWIYT90+giE8R7vKMGcVc1nWX1qH+2voW88iNYNQJrQ9laChQtNVW3ZrE4BTuhBF7RqB6db2lkSUwmyatfc6SJXSCdPTuUa7YnX54OvpuHwhCxJGU6Walw8S5cUoByQqsM3fuIIMrTyqeNg3oMPyiMMXn2jV6W9lGgBDa8TReJioAw8PFG1q2/srWqqVLVfuo1AIwFb8Ka0IIImMihYsVALTf1B6LIumiLFM0GVGhAv0Sa/2jBg8GRk69B6uZVtwYKzwmHEU9y+qIukYsOL0AHbcImOigRapHhCp7Xb0asG1/FX+v0a/2HTZ3UCKGKlSgfm0pRXJyMqxmWuHu27u6y319gSp99J5v9qH2uk7hrl16s9zJk9U4qn//VSOEKlYE8rX3Rtb+nZVOBDOdTkyk8Urll6hnCJcjLjgcdxgLF1KvLIaEBIDkvQYy6TcQoidHHzkC2JRMxPzT84VCCNbVZIks2gIwUSDE/H18R9i5i+XdvXf0RoWhbjq1Nbt/diJm3dEzZ4A0k7LrIq2MyJEDwvEse55GX8fAQCDXyDaYHurLdcJEyDk3Jyo0uiQc0ZVcWBID3Q7rTLlDQujj7r29V3fCEMWzGSHy1AToeMe4eUlIoI9TYF4hnH6ozu1kMWmsa3bq8jPls2MdBeZbN8dHvJk6dEivKAeAxg4b8Pv0utyxEw9MxNDQYdzoixCA/DNIoY4YwWK11m7WF6F/uLdGxb58Phkh4vcq9k0syPS00o4MQ9aslEfp7S33f3v28RlsO17AihX8db2C+oLUnyWNoxPhwpMLyOXB5wqWHjMM9WeJQ6B37TLPqxbhQOwBlF5Umrs8Rw4IuayrL6xG03VNkT49360yQ8zrGKSflV53WXg4QEqrWfFajN47GuP2j0Pt2mLqT+TDSKGnH/vuPv+kEkT9/KiXaMctHTH/9Hzd8c7hzhi4fQR3vmHIMjsLpsyPVtbHe/coLeLa8+v4zf037nh3d7Hx/sUnFzF1G01OMo6AGQjhN9eEiJNqdu+m1xl9Jzt2lNMHAMrFZdenFoCp+FVYE0Kw7+o+acu7+frmCh/M1ZXf4YhQvDj/JR41CnBwEsf57IzeidJe1YQtcYYV51egZWBL4XWtAlth+Tn1xBEYCNRoTo07tS3+2DexePaRjpLMFH8ifPn2BcSFcAkS7u78IljYuzBOPlClYv7++tG5qyuUkUSnTqodDSEAqecG0qG30mll3Z8PH4CTD06isHdh7rmJbD1Irjsg06hxaWHNTfbsAcr/+V74OTBkyqR2jVgBMWaM+H0RGWozdNvWDWUHeHKZo+fPqyrXu3fp6OTgQSDNtAy485qPgktITMCrz6+kSkz2PI3WCcHBQPYhHTF+23wuj1OEfPPyoWqbc0pknxbF5hdDv+knMFAz6WeWR/tuHUSZxapB4MiRwN+TZ2Lp2aXSx2K3NXIxCeHVwcy6p/C8ojp/RuZ9aFTTstHX7WcPlc+PbTjeJ7xH7jHN4btCPGM6fZpPKPh7xFrYuPBGgCwa0cjna9YM+Md7BpadEzvzsjG0zwq9CqT0rKaoMZgfjzo5iW0xbr26BTIlk9C4VwtmiO3kRJXhImy4sgG5HOsqyTFadN5kB1LXXWjrIsOpB6dQ0Isn9FVyckDNqWOFtzEz/H7x6QXHywVo6pCoACtUSLxZ+vr9K159+ABCxIkXMlx7fo0rmCIjAWJzCCXm83N1+1B7TDo4Scp5bL+pPRZGLuQuZ1noWnUuSwvptaMXZh/XuzA77HPAkO2UhiDK8M0xNwem+15Gkx/MmRs36Dj/yrMrOv9aBhl/d8X5Fajt20K6EQboczSq7mVenDt3qpMPLapXNy8A+/RJLQBT8b+DNSEEJ26fQM65OYVfuHp+9RB4mWYGTZoEDB0qPIz7IRi/xI6OwMhRyUg3Kx2389twZQP+8K5rOv5Yf3k96q8V51f5XfTDxScqQzsoCKhq+860yPlZErRMITx+PEAKntfxYLK5Z9NFQBkXFW3B1qyZqo52cwNI4ykgbYcoHSRtPNGbL2+UXGYt3Nz45I8yNaiBbhqrJJ1Sb/t2oEodmmsZnyguArJnV7sHhACkd1NEPhQY9IF2uiaKGxrwPeuLyh32S01NAVWZuWIl5V+KzL7ZiNXM6kHE0Tp0CMjRaRJaTVxnuqgyFPYujFqdTgoTLAp5F0Kviad1akTWmevv8BBrLqqFS58+wJ8z+5j6qcm4PvXqQViAZs4MFPUqqTPvvn1b3BkDqKAl7k2c8lscrRHkymLAAPFouob9CpSdxW++Hr5/iLg3cdw4MX16c89PxrWd5qn/rIu51Ee9EfwTmzkTOishhndfPoKU2ofHYsquAqbu7dNH9YU0Yuu1rcg14S948rG2aLeuG0ideT9lUXXk7hEuDxwAak12RqUJYknrunXi3FyAxvtln8MbYQZdD0KNlXwcR8mSVPUuAsu8FZnu74zeqdBktGD50lokJlKucQFPPtOsf3B/zDgyA+XLi5XVXbd1xbyTPCmcrbNariETxg0JGYKph6bqjh8aOhTDgiYhbVrjPVHkn5cfdk7nlN//P/+YF1hMlGfEoshFqOfbHr//Lr/tgAG8X6Gs0cBiD8+f119ua2v+/KKiqPsEkFoApuLXYU0IQdTdKKSblU7of+cU7oQT9yn5y8HBsvEnQNVYxl3U1KnU7iPfvHycBcPK8ytR1aeFMFOUIeh6EGqurCk/QIPQUKBS5WSkn5VeqlAzU/WJwOxujO9RXJy+k8OSJrSFzIwZelm/NolBa1I6fTpAWowFaemgkOqTk2mHLE6sW1BuN9CgQdl14BXIsIoY4ZCAsZqGw8aNQM0mD4VWKAzM6oDxp3K4ybl5Y8fKu4OAueoRUMeYTVt8Q6FBI/HxK5+DxUasRkNXBpnqMSqKqvYyZDBfVBmuPb+Gth0/YSHfmEDApQAMHvOc+/6zAksbYdehA1B1tp6WYMSHD/R2bw37E0LAdUwB+jpsvMph/x2VtxAZKedzZnTNiNuvbiucIu3rr15dLwzSQlRU1ui7GfXmyH04ChRQDbyZj5nIh1MLMiMNBjvd1V3m4PweQ4bzmxIt8V0LS8ktDEzc0aIFhCNegBY+uSZVEypWm6/piLR15/NXmGD/nf1CJWkDl6koNW4Qd/nHrx/Rc74vmrcQ8xmjX0Yjy2zeJiHwciAXOwkAv7fagEnrxT88JioSmS+zzGEjTtw/IeyYZSgahezufPOg5/aecD/ujqJFxXYzom4eQEUty84t062zTAXvsM8B4wzK8n7B/TBy20ypg8S7+Hc4cfK7kjDTpYv5WiDLyfaM8ERD367CKVVCYgLuvL6DXr347+nvv8vtgwjhrasWLOCV+1poLaFSC8BU/CqsCSGIfRJr2hFiGDwYOkUnw+G4w8JoLS3Y+LjcknK6lAmA8vtq+XTQmewaYeRZmYFFdhXyLqQbxWphpuoTIfZNrNAdnqkM2XiI2eJoO4VGx/zVq9Us1goVVEf+bdsA0mYoSBM9H/O33+TKM4D6ZIlGW9++UVLzIM35xs8PsG3D83m0YIv248f0tf3m/hsnfmGYPNm8K1yunGWuJSGU29KWP+8AAA7G0hGrzEycFeHGDk1MDO1G2durY/CXn19yRHItevTgIwIZ7O3p6zU+d2OB1aQJUM2jA8dX0oIV108MbiSE8BFiAO1Y9wmYpOOWbtnxCbn7DBP6VmadnRXXX1CC0bBhehGSmd/d1Zg3IHmv6d5LkWemFjY2wNGj9N/MrseSt3zaGRlAcuk3Z7IEn5Ur6XMwgj2WzNPyzKMzWHdpHVq2hGIU7jr/GcotKcdtfnbf2o2cUyoKPesaLm+HzA1MPKwE2HVzF6os43e07efMR8kR/I7p3tt7IC4E7dqLC8CY1zFC+6I1F9eg6bqm3OX5+47GP4vHc5cDlAcnoh8AwKoL4gjDA7EHdDQHhpyFX2LMVl7m22lLJ3if8kbu3GK18YDgAZh+eLrw+RnBCtYJ4ZMwNFS/2Jx6cArbjl1VumIi3LypRgxa4rFv3y7ON3Y95oo6nn2ExePV51eRfU524eRLpNJnEB3v4yM2XWe4c4euaUBqAZiKX4c1IQTPXz/niLci2NlRzpsRVZZV4bKEn358Cod9DsrfbOw5cs9IpaPIcOvVLbisOWWq0Dt69yhKLCwhP0CD48epb12VZVW40HeALnxWVqrQ4Vfw7Rv9EbMx1OVnl2E9x1p3TO/eei+swEB1l6k1mE1OBsi/lHCuRf78vPmoFmPGQNfl08JoobBsGVC/kz69xYh8LVfCdlE7nD8P5M6TrIwTRZg1S+UziiCKTjKibFlqYyOzTjl+7ziKLyiO5s35kPSLTy6i1ZSVwoWZceScnNQ80oBLATrBjhEDB9KOqgjaaDkGdjLVcpBq1gSqebcRcgDDY8Ix4QCNJzF2dtlIWcTNEo30vJbJjcu3Xtuq0B+2b6ddP4YSJdSCzYiAsztAhlTT8d0spfhox3xRUSnrtrYdfQAk/SedYbuMT8rsdoywlB7EeMM9etCNECHApn1xwkIqLCYMOaaVFaZW1FnSGtaNBW3ZH3AKd8KpB/p4j63XxOrYVauooMGIO6/vIK1LeqndCctENk4gLjy5wJm2A8DvA5zQ1EecJyYTIAH09yGydfn2/ZvQHSFvXjEvN+BSAE7cP6HjE2sxbPcwTDwg4Y4YwHjQU8Jnoe/Ovtz1gYHm3zmtibyILqMFU/YbMfXQVJB/Bgsf59arW8jslhnZsumfB6N5yOx2CFGLOe1lZq+FcYeTklILwFT8OqwJIXj37h3Sz0qvuNnL0KGDWNJfe3VtbLmmD2I0ZgQvXqxXqhphFp8F0A4cO3FawpkzdIw5cNdAhN7iTYpZ0SY60Trsc1C8C1MKrUji+L3jXKeybVt97Nz8wGso2pleoOXbAQD57RFIVn0hru2wiKCNPDNi2TJ9KsX8+UAjuwvI7SFXRRRu44/K3o0REgJU/DPedHNg5tEFmHMtJx6YiAfvHqB6dVpEiELjAeD0w9Mo5F0IbdtS1bUWa6PWoszsRihWjL8d8w60s1OV1mZiIkDehQKA7t3FGctDhtDHYcVcuXJA1flNsebiGu7YdZdUxXjWrHoS+LozISCldws7Wn/8wWe3jp9pPspnOHZMf1KRCQQAIOgKzWjW2lPUqmXO6atWTR0pHzqUsgKQJd9oeZCE0GLTiALuJVCyET9HvHMHwnhABr+LfmgS0ASZMqmPdfWpeJR6OO4wsk8vIRSb7Nj/AjZlxappALBdbYvNV/XchC/fviiCMy02bxZne994cQPpXbJIRXbPPoqNi2UoOWgq6nqIw2avXAGsrYVXYdPVTaizRlBtS0CInLfI6ABGc2RAPM6VgfGgT926hQtP+Gpq4ULz7xwrINm0xsxt4uhRut4uP7dcFwjgFO4E0mqk8HHuvr2LtDPT4uBBPX/21i36eMboOIb27fmYPEsFoJY7nFoApuJXofgAfv722WIGrmwU1Mi/Efyj/HWXGUcGsjFOSq//GVy6pDdeBlSeBqDyr969428rshqwBELEhQGDkbs2LTAEmcZUSXEn8o8/+JFd3Js4ZTds1rUKDATqaihC1aoBJMNHnHkkFnUAQKn2W1HaozZWrAAataFZrJ++iiWQDt7H8bedvDo141oW8i6EyIeRqFWL8lrGiydWuPDkAvJ45tEpphlWnl+J34Y1FwqImOVMzpzq6HZh5EJdmooRMsUpQDdAIn4gQGMM2ainUCGgxQo7XZ4yg/YEazTj7bBqFEgzJ+ForkYN2snToteoGFjNsJyfePYsdOrFXLnkVhb7bu8HGVFe57dYsaLeS9KIv/+m3FKAciGNKmYZ2Mmue3f6d9q0tKNsRKG5JVGwziHu8qtX5YUMoArHhg9XH+vys8vIMZd3nH/84THaT1svjJAURWBqUX9tfay/LFDuCLBnDx3BG3H52WVknJFdugli3okijqwIFezdUGM23+qKfhmNbUeikTev4EagRuUiUYkMdeuKPzNALbjeCCwnzz8+r/O0NIOldXLrVnFRzcA2/CnJHj57lnJas8/RW1I9+/gMOYo8Ft6WGZIHh3zXNRZu3tRPBowYM4bnT1t6fu/f/3Ae2JdaAKbi12HRCFoLmXqw9YbWnOWD0bTYTOEGyM2b/wuio1XOBwPLjAVUBZbRPgOQk5PNIOuMfv6s+jZpO3geQeFIP7as0qESGZhqUbOmevL/9v0bEhITcOzeMUVl2KuX2GsK4D0Ic+WSj38YqnTejd9nV4a7O9Cxz1NUWlpJ2mVq7uWIovaSigm0sDN6XTGUWFgCR+8eVRY9mZ3Mo/eP4BTuhB49aMqGFr5nfUF6tpEumrlz0/tmXVCPCA90D+oufb7Tp8tzOFu1Egs0AH2Hzuw1b7u+TREzFStGu3MMrX2HIU93sR9n3br8b6+5He0aWQITS7x6RUeJ6dqOlvJfD8UdQprRpXRju5IlaWePu9+vn/D041M0bQqs+dHsXLOGjjhXX1idohO89oQnE6cU9yqH7NV4L43TZxKRr7DA/O0HWOpFWJj6OGcfnUX+eWLljGw8GBQEU35yk4Amwm6vCIyeYsT5x+eReUYenVpbi8SkRBy9exSJSRIPEgOqjpiHSrP4DDKHfQ7o5jdOqmbde3vvT3UAzaYPsbFyruHPghB1k2HEunVi4Ybx9sHBVJTh7w/cfHlT6KjANhX55+XH2Ud63s3o0eJN6svPdJN84Eg8CFH9FUWKei1at+aLvTRpzEV1jCbi7JxaAKbi1/FTBaBsge60pRN8TulbM0YysZnHFZByk2kjrjy7wqng4uL4vFutLcP9+/I83MEhgzHlkCS9XAI7O6Cf2z6OB2lnp554tFYVS3efQNrxRU3VeFo0aKBag7Td2Ba+Z32xM3onqq2gmWFmY40jRyjni8HMt4/h716HkWdWqRTZ/rRbMAUFBovbFgN3DUS6IhekhrMVfCtg/539ynskE18wiDh4CyMXItvAf6UctRKNj4BUXq+IZGYenYl+wf2Exz58/xAuc95JuYiNG/P50QDw6vMrZJhUAKvWJlhMLAmOVoPmjZ21ep6DUWKg2Dy5WTOe//hny0vIOkts36SFtoMSef8CiFNeTnzCcPzecViNK6brEBYqRH30jGB8yn/+USkOjOsrmgqIoDUxL1L3KHbt4ztcZeZXQoY/+Bak184wpBsjzmwF1G7WpUv0M1myhKYOiZIztM/dCJkylMHoQ2qGqChxURD5MBJZphWEszg976dR22ERyszgOTfDdg9D99UTTD1XfwZTpsipG9evU5rD/wKEyDdfq1apojojzj8+jwfvHuCvv+gUhhDqy7fi/Aq0WM+PnGJjaTe/+ILiOHbvmO66oUOpFZoR7+LfKd6FhNAiEqDdRLN0K2O3jwnDzOgWbKoREJBaAKbi12FaACYkJqB7UHdl7FC+vFjRKeqaeUZ4ous2dTW15HI/Zw7tlv0sDsUdQqlFeiNSlp7x7Zt6mZaUfesWpMkQP8NNYRg0CKg/3YUjKLMfuHEXHHjoPNI45zP1cdOCqRgBoO/Ovph1dJbCbwJo8ScaQXuf8sau43G6cY9ZJrPyeINO4zeXQhg1iueoGNHVdybyDOorvK7kwpIgNoeEHCAAqLaiGoKjg9GiBUCKnkDeweLCjEGkwp0X4QXSpQvHj2Mgtt4gXTornLdJB3klIUOTgCbo4emn800EqHFxzrk5UbPBS2zaxN+OpWvY9f+gjGhE9AIA2HN7j8IRtbWF7v7yD+kPm35io7p27fhEhSJ/nUWO2SZnGA2sremJae/lMyDjC0g3HacenIKVUyEdbylr9WAsCw/njt1wZQP+XvO37js1cSI9UdZfW1/xDzWDr696Ekwz2RqB4bzcvdKSaiDldnKjNLcte5BhjHw2G3IzBFWWUapFnz6U+nH20VkpB1Rrz6SFJXpKu03tsPhMylTCMTF01G3cfL6Lf4e2wyMwTVz//zSGjYqHgyPfHR24ayB6rJwmHEP/F5ht3M+dg3TULEPQ9SBhYab1SzVi8WL59IgV540a0eKNFViLzyxGu038h8025eUWl+fcKgoUEPODv37/iskHJ+Pzt886wV7ZsubjXGMByFTtlqLzWCMmtQBMxa/CtAA08k6KFhXnwZ56cIqL8Jp8cDLsQ+2Vv81yLhOTEqVmr5aw/cZ2VF9RXXeZNgCeYcmZJYq/1aVLlBcmAo234guEPbf3cERvhtGjgeYTV6NxgD4toV8/Madj1yka03b+POWBWYL2PsbtH4fRe0fD66QXOm+lK6+2Q6hFmcVl4H/soK7IFBUSRtiNjEWFqb3QrRtvbGpEv1VzkWOguGX2u3cRkCIRXN4lQ501dbD56mb6+ipsRXkfXjWphaggnbrfHaRjT6nXIKm5BKR7O2WkefTuURyIFceJtAxsicZOK7jPi+XnVv7rjbADzrJ3SebXOsWhCIfiDinf1+bN9Zxa0qE3SD0x/aBrV6DV7DkKrzApCSBWiTh21gJ/4AdYGkbgsZNIM07uZvvkwxPkbbMEBw+ql1n9OxDDt/GVCdtUaTuz3bvTUSr7bGX4+PUjvn7/iiNH1O82mZoJoad4387qy2uBVNjGFdVT14Ug8xj5rvLj149cdKMZZIXe/Pnm1hxdtnZRIiYt4cydWJAqAUKhT69e0OVm/womTIDOtJyhz84+6LncNcU8TYaY1zG4+ZKX8/r5AdZjbYXijOPHIRRnmcE/yp9bRwHq3+fFu82g1KJSGDb3GLp0Ed8fizItU4baMxFCvS69T3kr66cW797RYyovrYrgaH1YPCE8tcgIQlSqhiU+36xZYtWwpQKwTh26cUwtAFPxqzAtAI0B4D8TIB6fGI8PCapyjqmrol9GwzFMfxavvKwyuk4NlY4SzKDthDFoOU8M0w9Px4BgSu6KjAQK8ilNAOhIUaQ2dg53xvDd4hypCROAjqNPcdyitm3Fi8DRy7Eg09Jz41mAvj+fv+l37pkyqYahs4/Pht12O4wPG4+Reyj3ztaWjtiNqLS0EtZF7tZ1Q83McLWvZ9gw+rxlDvsMQwN8kG2A+OyYzzM/SKGzwsQBAGgc0Bj+Uf6Uk1klAPXWmJBEQYs/o8Hwtdg3INmeSuOZsjdeCdIrZeqidpvaodeixZyy9M2XNyAuBOUqfxR2GhOTEkFcCNp0e4obN1I+9urQgRYXDJl79UCPJWI1Ud++QEWXrvCMoFEV0dGqslGEGitr6CyQCKFcqaV7jiHtuOKmz6tyZWqmDvwoNDv0hmMI75C848YOVFtRDSNGQBld/v03sGEDUGtVLQRdlzuAV15WGSE3Q3DvHh1Pf/8OkOlWOHHlHnfshPBJIEUi8MgQEjN+1Q5kHZtywYIlrFsnViEPn3UJ3fuJE4VkuPv2rtA6KfjaPpDhFYS5wl260I7az8A53Bm+Z325y2Ub6u5B3dHT1wO2tj/3OBMPTBSuf8HBQAbHkjgcp/coarOhDZZuv4Ry8gm9EMvPLUfrDa25ywcPBqZMTebWxgJeBTDU9Qx69RLfX5etXeB10ks3jQEA9+PusNvOh/4ywUi5eXWw6SAUwgsAACAASURBVKq+3W+poDMeY+n4yEi9OOvRI/q3zKSdoWHD1BFwKv43UArAK8+u6OLLAOpNxQyDWR7pPX59ThEiIymXyGgPAwA2C2zQfcJRqfqSoe3GtlyMnM8pH3TaordfZ1yK63FvMD5sPJKTk2Efaq/4Th06BJTi4ytNMXz3cDiFi/1BZs4E7PrTnOMph6YoauqaNemCbgwpv//oG0jOGKxcyS8QBbwKcApdrY+d30U/NPJvhAHBAzDnBCXNVa+uT6JgqLGyBjZc3K4rhhs2BJb7fcSrz/LOkasr7UYQIuZEaTF20xJkGiB2cM4xJydI/kvSceOrz68U8/Hl55ajVWAr8YE/MGWKmmnLwMyeZejgEgDS17ywZOi0pROG+vugjMHv9sUnGp1Xoky8UAyRnJxMO4DZ75tuLozo3VsV73z6BJCsz7FynbjQsLcH/phmp1AtmLGxDDVW1sD2G6psmBA6bvXafgjpx5l/+WvXVjcUnz8DpHM3TA/nC9PQW6GotLSSzoi8cmUgJEQd78tQfUV1bL+xXdmsRZ6l8XBX74rJiSLj9hFLt8J6rAmx+Cch4ynnnl4ObR0Ega4mGB82HqP38oqOQ7GHQUaVEuYXa7mUKUX3IHHijMyeqeOWjuixyMdUkCeCjBpz/DiQ3qEi9tzeo7s8/7z88NxwFtWq/dzjzD89Hx238BtKR0egm0MUcnnoHZ+zz8mOwVOuCNXbgEpPMhaALkdc0D+4v/A2hABr9kTprK9uv7oNkuGDVPDCkCOHypseNkzOTQSoPRYh6lTNmColAyF0HJ1aAKbiV6EUgGP2jcHY/Xo34SvPriimxrLoqpSCZRiKItVye+RGj3EXLMbM5ZuXj1NmaTt7WlhZAddvf1Y87Hbc2IGjd6kUd+dO/PTC1HdnX8w8KuZneXrSQqmCbwUdwVwWg8SyOJ2d+ZO40X4A0C9ch+IOKYbY7D2sVInaSxhR168uAi9v0FkoEAL09FmKNhvaSF/rggWUmF+xovh+tdgf8QQ5y4glr5lds4HkuZEiFaDPKR/hwq+FqKtx9SpNSpFhfdQmVFuSMlVj96DuGL7BQ0kNYWA2D4WLfJd6eqWbmQGZC8cgPJym0HhEeODlZ8ns+we0pHI2OpZZXYwZA1SY3E/JabXUXTB603XtSr+nszaEI+P4sqbPq1EjVezy8iVAunaExzEf7rj9d/aj/JLySsoPABQvTrv9lZdVxu5bcu+Y2qtrY/PVzQqpffCwLyAuBE/fiTcm+fLxiQoDF2xEznF8DNp/wYtPL5DNNScqV+V3K9mnlULXCZJgXQlG7hkp3DBG3I9AmnFFcOkSfxuR0Mf4HI0+gB02dxCOn5csEfMZD8QewAzfqz9tuWUfao/JBydzl0dFAWmH1uS6vTnm5oC73yWpuf+GKxuEyUpzTsxBz+08GdzNDWg/4BYyuelnsBlcM6D/+DtS9fSA4AGYcWQGmjbV/2bMuMBly/Lm1iW9KoGU3q3z7RShWzfVMshMIQ3Qwo8Q1ZNz7VrLHUZAfR2pBWAqfhVKATjt8DQM2qXPqDzz6AzyzaMkc9aelnGbLCE6mu7iGWH+fYI6ds7gmgE9Rt7GRAvG8CJlltdJL6UTpkXmzPQx88/Lz+XYBgSIRz1m6Ly1M7xOCkgoUC1s3sW/U8xDk5OpwEPkgv/li2p7Yow/y+CaQfErZKhUSV0YHr1/hFF79XNQ0YIFUFGD30U/3eieEKDnIvEum4H5ZZUoAXhuDxP62TFcvy4vwHK450HOEubm4gxstC3C96TvqOdXD9PmvOQUupaUdjtu7OA4ojL03tEbI7a4cbvw++/ug7gQ5MmbzIW3M9Re2gRZCt1ToqTSz0rPfY5GjB8P5cTFTgYyTJwIlHdWFeqZM5sfX8+vnk6EwQQ0fv6JsClr7iXXpo1quB0TA6Sxa4MlZ/gx461Xt+AR4YH582kGKivmzp6l75nMO5I9P+adV68eMHYSVVJqaSNalCzJJ8o4eJ1CBXtBNNF/AOM7l63IP+dsU4uh3wzBTs4Eg0MGY+ohPjfz3ONzII75hXy2+vXFNlsMBb0KcmuZTIHM7HhEkIldAOBDwgesvsBXoX139oXrMZ4GEBMDkP4NEHBJL8PP7JYZDq7RUrHJlmtbYLuan0PPODJDuKFfsgRo2vGBzvj8exLtGher+FjaaRsaOhSTDk7CiBH6AvD2q9tKVKIRrIutRT7XUiA2h4SdWy20j/H33+YF4J079FiWo52SEbP2uNQCMBW/CqUANKp2AeDYvWMoNr8YAH0I9X8BC/ROSk6C1UwrhZydkJgA4kLQY/BTqZkxQwXfCth3RxJiakCOHFTsUXt1bWy8ojeQ+i+egy0DW0qtHtasoQRjLRiZWNQxZSfK0aP1Cjq2oD18r5fNMqK8rJNmY6P3k2NovaE1lp5dqoubK14csF83Fz2CJF4nABYtUscMPQPEoyyG2Fj5CPbYsZSTwOednCdVX7MR6zSv+1zYOvNZlIF51aUEQdeDsPboYRCitz158uEJmq1rpihpRWAKviVLgEaNk0BcCB68k3jB/IDWc9DS4j9zJlB23Ag4h1OyXfPmtKMnQ+OAxlgbtVb5m/E6W7WyfJJh3UKAepml699MWBQwMPEEmxLIkl+Mz8/voh+AH689XTyyNVwu9bmrUoU/Kc+dK48P/Fl8SKAUjqJl+B9s5imFMdJD4INjgj47+wgLpsvPLoNMyKH4JjJ8+fYF1eq8lYqZAKDY/GI4fk9fiBo/Z4bVgW/xR1tx13LePEhFEw/fPxRGznXd1hXzTvL2AS9eAMSuJZac1hOL085MixFT4qQG2jujdwo3Zn4X/YQdzfXrgdqNXoG4EIUHyMRZJNMb1JLox04+OImzj84qnqtr14qP06JWLZrLrkVO18Igv5/C/fvmty1USM8BTJPG/Hg2CQLo+TElBWDhwrSZkloApuJXoRSAIg5WcnIyvn2n6oHTp8GNxozHmoFZsyQm0pEvU40xE83uvT9LzYwZjLwmM+TPT3dWPYJ6cBY17u7Uo+9noO1YGCHKKmXms7K3hRBaUGvJy0xNauTnMa6IzOpEFrf28P1DvI1/i3LlVPuevHkB+41yLzyAZs6WKkWfX6eAQZh2WO5N8fixvDO8b59c+f2zSD8rPVwWxXAd06JFU7ZophSs071sGX9dxox01y5CUhIthB0cgLb/msfnMWh5WpYKQE9PoOwoR0WgRAjQqN0jXHoqmCUCaLG+BVZdUH0zWLHk5gYpYZ6hf39V/X3qFJC/9AMlV1iEjRtpt8OSAtr4/FacX6G8Fkuvv25d3gjYxYU+VxkSEhM4OsXJByc5cj9ARWvEhSB/CV6dkXZCfjjNP8ddboZu27opgh0tbr68ibTTsmCpISbaP8ofWYc3UsQ3IpReVBqH4vQk1DpreLECAHhtPId0k8QeLGbfgeefngsj59ptaoclZ3iCYnw8QJqPw8qTKt2AbWSHT3ikcEON2HN7DyouNYlXMSA0FMid/4tuffyQ8AH/bv4Xrf5JSBF3cvFivTWYDDY2vFUWcc4FUiBKmGoC0M32ucfncOKE6uzws6IRK6uUrWWsg5taAKbiV6EUgBuubOAMlbXYv19+Mj8QewAVfPW9/n139uHLN9XrgPHePn2iCxmz4nj1+RW6B3VHl67JFv3pjGMtMzD+3fTD09F7h97ePyUGx0a8+vxKOtIKDuY9Dv/5x/zHTAhQujT1ENQ+hnaHy8CyXPfto8bBg/STeovqbG2MWObMgP0WvUWPEZGRQIamriDFD6ONfxfp6BtQLXc+Cd6an4kFs4Sss7Ni1rIb3KjHYcY9NPonZR0+gNpCiPKhtRAt3KxrKzN4BugGqXVroFvfdxzNgUE7YvP1pRQAVkSb2SAtWqQf2xECDF0t53K6HnPF/juqaefy5dRP0slJbA/C8D7hPX6bVhSjHekHeuAA/Z6aISSEfv9/ZkqwMHIhjtw9AoBy3yydLFu25GMonZ3lsX0AHVFndNUbbc47OQ/dtvHqCFa05CjyiLuOOOfC5EWS7DzQrp5xNPvv5n+xMJLPDYxPjEfzAWfgbphcr7qwClnsmwupHAyiCUjP7T1xMPYgd+yKnVdgNVmckzdtGo2PFIFRdIyRc3tu7+FEggD9XaRLB53Ze3xiPGwW2KCP/WtMkXjqG6NCLYH6RSYLO+vaJJr/BUTfRTIlM0huAZ/nB8osLoODsQcRFUVvy3KAZbniosdK6QiYOTSkFoCp+FUoBWDIzRBUXlZZ+qUzS/I4+eAkfvdRvcXYblrbAWEt+Jcv6c7c2DH89195zipD562dU5y5Wbo0PXmFxYRxRtFa2wojHn94nGJPL4bwcMrD02L+fPMxc9UWV1Cw+Afdyfjj149wOeLCxa6xrhQrBI2LRLp0MOWmNGhAeY8spWJIkPlY98oVgHRvB1JrEZqta6brJBnB+IyiOLvNm2FqN3Hv7T1Ev5RkkhmQc25OuK26zHE3K07th5qOYnGOCFWX8/5eRojeYxbB9Nykqcdu138k7aIkJPJZg/fe3lNGbP7+VJXNFL1bD9/A6y9iXxdt2gFT5E/fu8CicIZh40bapR4yhDfT1oKN1QYMp60OSwbugKqqP3XKfEogw+rV5ic/37O+sB2wnbNIGTlS/jsGaF621Uwr3WVux9y4DSGD1UwrZC54l7s8f9sl2LJb4NvyA9MPT+f407tu7pJ2Z4cN47lhS88uReaBrYU+qwx/Lv+TSxuSYUPYLZCpYpd5Z2dIO3NsCiH7Hoogy5bWUgmMOH7vuJLMlBLcvUu/H313DMCzj8901zHrof8VCAGy5/2odL21Kn8ZKi6tiL239+LyZXr7bdvo/y/w9ojcY/1sAdi8eWoBmIr/DZQC8PGHx6adEbO4HWPA+tOPT7kxAuugWFmJ7oFyk4xjkV8Bi9n69v0b11Hr3ZtanYhw8clF5PbI/VOPdeIEH8U2axb1bpMh80QbpC91VJgtKQIhlAfGFgmWY8x8q56aNMFYhu3Hj/TY9ed2mgo7YmIA8m9f5Gg/E1WXV8WOG3JjqvhvX0GyPeU82gAoBY4MZrFsRuSblw/u/ue4TUjZSXaoNynlQoDyS8rrOmMiiBZilvBhlprIbjfY8YGQRwWoiuLEpEQlY5bdzna1LbZcExg6gnKg6tWj/2ZcO5cD5rnGWuzeTcVEXbqYJ8GwzVvXfrTgEdEbjDhzhvJF9+3Df06YqFMHQmUsAPQP7o+qY1w4U3JLsYaMz6bdUE0/PB0Dd4nbX/VWNIdVDv6LLKNYMLgec0WfnX3kBxgwaRJvZ7QwciEy9m2vpEiIUHMlr7aVYfeJe9LvoIMDMHas4EZQPS1TypsF+ExrhrZt5Wv6zZc3hWIPGdjaJRrBVqtm2TvvZzBnDlBxlOouERv3HaTBTJAMcvEUsz1i3XyW83uNb5rq8F8KwBYt2HuRWgCm4teQ4ixgma8UQK1d0s1Kpyw2N17cQJbZfEg9+4KLOEKNG1NX+f8VqldXx55GNG8u7zbefHkTmd0kOXESXLgA5DbUjM7O5qO2LE4VQEruNw3+1kLLk2KdVICKTAiB1GwZoApNHx/g2TN6rKXs4adPAdJiDEiLsSjkXQgnH0i8T0AzTIljASE3bsUK8wgtjwgPUzGKFlWWVcG8Dec4+x4bp65oNsMCd0B7/AIbxQ5IBltb+j5pkyeeP9cX3iKUKPHj80n7FVFPxSND5in45dsXpWAiBMiQgZ7gZRzXoCA6ygeoKS4hwMwjKS88mCDHtsVDzFgh57OxUWjrbjS82s+PFzgZwUa/mzerU4LLzy7rKCC/gsEhg2E7ZQrXterWzVwI8+zjM64TO+HABAzbPUx4vJanrEXWrDC1/5h7wlxUZQSzjdLC66QX0vXsbErl8DrpJUzcEOHYBX4TDtAuYrtRR6WOC8nJyUjjkgb331lQO2hQqZI+05pBlp39X/D9O/1sRLni5cvL+dEyfEj4wL03DD4+QMWhc5TPlK25svhQgIoNt17bqjueEPrbMAM7jnU4U1IAsknQs2epBWAqfg0pLgC1Zq9GMOIwW2hPPjiJwt78LIhZXYjGaP+ljZ+cnIyJBybiXTwfvFqnDk8aB9SOmSx15ME7efdGBmZxo4UlDygyhOabpuQHD/AFIBsVpcSex9qaWhuwoHNLeP8eIPVdQTr0woN3DxSzZhGinkYhzYRcnDr2fcJ79PD0Q3s+j17BwsiF6LC5g+Un9AN79wJ//KG/LGOfDmg4UT6yT0hM0PGzRFYaRkRE0PdUm6/84IG5qMf7lDcGTI4CIeaFv9YG6eRJOjJln6nZeHr3btVfLCiIHj/10FQMDpE44Bpw8SK9TaG2q1DVx8SdFkAalzRo2P4eAJWnKMKj949gu9oW9+7RkfTy5WrBL/Kz/K8Yvns4Grk7c3Fs1fpswr+e8uLfGGUJAGP2jcGYfeJdl4jPyjpPZh12WayYDKtXU96jFnNOzIFVlx64zSfh/SdcvvXjexav3xkWm18MResdNxXPhMeE/1TxzqLJjCDEvED/WRBCuaBG2NhQ78mfQbN1cmW7ry9QqOMCdNjcQZlcESJvKAB6frp2nZYl9TCw41atov/fLE9PVMAmAAMGpBaAqfg1mBaA155fU3acgwYBU3lbKwAqb4QZ3+6+tVuq8LK2FgsWatSAqQWCCIyvxLz3tJB1FLdupT+eUxJXB6ZK/pkF8N49vjjQpjyIkGXk3yAVN0od7I3YtEm/sBT/QZ+5dQu6rF8tnn96TjlnP26zZk3KdpjJyQCpEgDSr4HFY6+/uI40U7JyJr03X95EuhmZTbtHK86vQMtAuqKvjVprsetw6BAvSCA92iJva96jjsFY0OfyyCXlZq2+sFpJi9EWgNEvozEiaBoXEaeF7WpbBEZtxvDhVBkpw6evnxSO1Y0b6ue5cSPlERkTFRgOHaJeeICqunUOd8aIPSbVpgY3b/54rOrLUceXj9rSIp1LBtRsQVu6Xl5A815Xhb8H5o/4/HkyCKFehayzlXV2Vtx4YcE1V4Nj945J/Rod9jmg1fxxygicoUS/Wfh7npxCwKxdtOvDsN3DhFGPgMpT1vJZz52zvMFafGYx2m8y2ekYsH07nVBosff2PpA/11q0GUkpHj35BlJ1Nd5/0resC3oVBPn9NPf4vwJZvCQh1A3hZzDnxBzpBk3WISNE9dIzwj/KH+028aaHDdY2wDqDdyFD+/b0d9IysKUy0jVuDIzos7OP0r3XrtOWULGi/nij1ZEIX7+y41MLwFT8GkwLwMkHJ2NICG2VmYk0kpOT0XFLR6UAXH95Per51RMey8QZRlSqBFMLBBEYx4dlFWvRurWYf7JrF/3xyE7SIiuWr9+/4ti9Y5w4g4GFeGvvs0MH81DvPzyagPzp91OvWbtQ2NjQy1jCiggs73LGDOqXFxycskUJAA7FHkG5xZaDPGNex4BMS8+R1688uwIyMbvp42mV5yKTbyNOnKDqbi0yDGiBwctXim8AfgzY0L+h4kFphNYLU7uAh8WEwca7HKzFokoA9ISSEoES87189vGZ4hVJCO3klltSDmEx4jPmqVNAvgo3cTD2IBYsoIrgUw9O4cR9E9WABqzzTWouQZPVEhfgH6gwrx4q1r0LgNrBZJyWWzjSfvLhCYgLwbfviSCE2sywDU1G14y4/Srl7ax9d/ZxTgIMjmGOaOI1ivsuFe49DY0XDBLeBqD8X9djrjoO8LOPz6T2PGzM+Pixehnr0pohJTGGWmzedx82pfTjx/h4+tiijOD/Ata5NPqQ5vHMg1rtL/xP6TaN+5xClzl8N83S6FyEWqtqKaNUI4xFVcT9CEw5ON200PSP8kdDf56IXHt1bSnf1taWboAb+jdEsWLq46Z0KJQtW8oLwCtX9Ou6KNLTCLUrmVoApuLXYFoAjt0/Fg77HABQH66UjmjvvL4jJdrXrQss9n+C8JhwAMCSM0uw7tI6lC5N1bQ/g6vPr+I3d3EMRadO4mD1hQtVLpUISclJnBkz63TICkC22Grb/ZasCSq6twWp6cvlBJvh0iX6HpUvT60cADquNApQGHxO+aDz1s6YN492ZoKCIDVMNSIpOSlFY3DWYQsL0x97/vF5ZJqW19QGIfRWqKI8z+OZxyK/6exZ6mOoRYFmG7E8WKIegDpylSVMaDH/9HxlJK1dwPfc3oNS3pW4x9ai2bpmWHPRshdFcnIywv4/9s48Pob7/+MfWlepFlV1VtVdd4uqfh2ttqijijqLuhXVuM/akMQZV5wJIs64kiBIHInEGUGEkIRI4kwIIfe9r98fHzO7s7tz7e7k8Jvn4+Ehs5mZ9+xmduY9n8/7/XpF+bIJqf7Npe66uvCLNi3ee+MG8EEHmmj07KmzXuPDNcTVSDKJEIC0XYMeu4Q7h5kpZoBa0JVc+KFJ1wSmnjEjJwOVKtFmCaZM5D3b9xCdGM0bY3PwZmwK1okteoV7oeVm05pBc87MQfeN441uwp8OmoNu62XqOYlg2FEvJH/FEPM6RrBO1pAPFpdD+S+5n6eUWl5D8rR5mHNmjslz21QyCwDll5RHy19umyyPEaK6Y3XehL79ZBfUWaib0456FYXNV11Mxhej2aZmvJ3OzHeFaQRxDXFFh20/mEx0Gfbd3ofvthl3MbXa0oq3EW7DBoA0PoBvNreVNZrH0KiR9G2Y2SPmn1h9NoOaAKpYA04CqNVqOTf9Cd4T2CmxBg3kD+eb4vffgTHLdE/7Qw4PgUOgA69vrj4RCRGcLrjzD89zvHf1GTrU9BSso6OwNAkA3Iy7ySkQ5mtqYcjJMb7Yfvstlc7hY9xqD5CqXF+xIxFHMNRDRKUXwOTJYLuHfX2NJWgYNlzdgB57e8DJiUrS7Nwp3JVrDkz952Ev7lTT5ceXUWZ+NdgKKLQ8evMIe27Rp4rSdqUR+TJSMNadO3RUQZ8aNcDrzwtQhwX98gQh1getR4+9tOBNo9F1vXuFe6G+Y0vUqMG/bfc93TkJjVT0bxRbrm3hnQYPDwdKtNmOH91+RJcuMOqINWTKySlGziqEAKTdSvQ/wGMD8RZvb90xjR4NvLfQ2J4Q4CbXbAMM0clmCDmhTPedzrE0PBB2AG1d2ppcN0+bh4QEOs2s/8D0cf8Z+G2LgBCgGZQrxx212umejJKzakh6gNCn2aZmvKUGFZZUQrGqIZxkNi6OfnZShIoZ+ITjGUqWNG6aKG1XGk06RgjWsxmi1Wo57k2GdJ2xB9Xm6zRkj0YcRZP1zUEIfTiWQ32n+uzggCE9egCkwyLMdTsCgErndNn+Kwjhb846fPcwvnE2fuL/asNXOHHPdOdIfDxAqoRi5pHl7Dktp8aQ0QL87TfxdRnxdLlJppoAqlgDTgL4xZovOFNK+nZGlSrRUQhLmTAB+HN2ED5b+RkAnZcl49whxP6w/ZybhP4IkiFjxsCkCKmQBhYfwU+DUXm5wPAPqI1PtN6AByHAcdPlXCyGdUVbr2/FTzt/Mr2yHvpC1p6eMOqMZdh2Yxu67OzCFp1v3kwlYcYcHcMKcVtKWnYaPhsxBXvcuVfggNgAfDC3tknPU0MY6YmnycLDBYydoD58GmQMTFer2L4BmoD9sot2MegX6h+6cwgNHduwNXim0Bf+TcpMktxFefeu8IMCQ0wMQJrtQoftHfC//1FZGCEMEyyATiP3WSneeX33ri7RHjiIJnOm3o9+DS5zA9uzR/eZP0t+xhtjzpk5GH9MN3q3O3Q3b9kIoHvIcnLSvVb2dxsMcJXYRi+BRecW4aP6tzjXuXl2psXZxfh46ccIjQ81+bvPVlQFqX6FM9pn6twWw1STiz4ffUSt/PTpvqc7GnzzTPTapE92bragNEz/BR74ZK6uqPBA2AG03PAtihXjnzbNzMnEoEODjBLrWqtr8ZY1eHkBpN8fIN/Rxh/HS47o5toPxYvzxzkWeQxNNzY1er3uuromBbQBXZNF/fpvE63Pz7EPhlIJCZGWzDONR3ITwAYN1ARQxXI4CaDhU1Hf/X2x6tIq5ObSLj8hFwSpaDRAn1H3UXJxSWi1Wrbmg/HuFeLEvROcOqGdN3eio2tHk+v+8w8w1YS17LBhVKNPDv4x/vhizReC63zwgW7kgNGM8xGWmzPCKcjJZMGyIXZ2tMkEoObxhsXxDMxNlVln1So6NS7HUk8KnTrR0UV9Tj84jbKz6kvSdpQyTesV7gX/sDAQopPp0GrpKIdY56TYdCTD9hvb8YPbDwB0jRYAnUZqvPI7wanAPw7+wTqmuN92x7dbeVTTzSQ+HiBfueNbl3Zo1Ej83JpzZo5JuZPQ+FDWgYOPhw/B3rx79MpmaxYNyczJxOerP6cONm9vYMHBNAF0CHTgdc4BjPX4tt3Yhh/dhPVmCOHq/pXqMR2j9s4R3EYOLTa3QMXvvDiaf9M18SblVMQoY1eGV+S89uraILUC8VjP8ls/6eZj2YVlnM5VfU1JU1SvbrrZrV492lTEh6FESlJmEoiGmFRbAIBRS06i/Gzdddntphtab+gkWDPLl1R+uuJTBD81LVOk1QLkt+EgHegFfHHAYvR2HSb4uZ2KOoUGTsZTJLNPz0ZEgmlnD+Zhg/3X+ADauEisnTEDcxLApUvVBFDFcjgJoGFhbNfdXbHl2ha2yUFOvRofmzYBP/6aCKIh6NkvCTVX1URgbCDKlKHTXEJceHiBM+WbmpXKO7IzaxYdbTTk559Nd6wJIdTVzFChgm4kipnOkVrPwbD8wnKTNlWGrF5Nm0wAYa29Q3cOUfFYA8HhphubwjvShHCXmbRqRZNLfRLSEtCi93m4uYlvz9QRmmrmYei+pzscAzZzuvHu3KHvJ0Fkdnf15dUmO8UN8Qr3wpDD1CR6+3bdBXlX6C40WdlR0BEjMT2RTXjcbrrxPpiYS1ISQBodRstN36ByZeDaNeH1F/gtMHKnkMrLl7rve8ef+DvtuOzKHwAAIABJREFU9Rk6VF6hvKF4snekN1tuwsevv3Ibu0qW5PdmNofWzq3xaaeD8PfXvTZyyhPB+l8+itsW533oqO9UH6Ubn+aIBN+4Yawlasi4Y+Mw94zOxoXRX+VD3wNcn5o1ae0wHy02t8CRiCPssqHMlyFT151Dmdm6B+Qt17bgW6euot7xpvQGyy8pj9vPb/NsBZBfJ4D8SM+TuWfmoq/rOMHP7WbcTfzlJaB5wxdHLylbeVb3YKgETJwOHaRvQzvW1QRQxTI4CaCh7Zd/jD8eJD7A3bvGOnfmsngxQIgWZM6HIJ+F4P1F7yPq1QMUL86dQjVFaHwoPlrykaQ4Cxea9laV2mmlj/ttd976JIaqVamHLkCn64SmJfiwPWeL4Z7DRdfTd2VZvRpG+mgMkS8jsfX6Vri6ci9o9Z3qW20KGKD77NXrbY0O4b6+dKn49oZafabova83VgSu4xSBMzIqcj9nKaxerXsvWblZ2LEvCW2FTwEW52vO+HmXsNaeXLKyAFL/KBqva47ixWnxuBCLzi2SdC6ZgulIff4caPNdBgast+O9+ZuLXPFkgPpKN3zbmG6q7lYK917e4x3J+m7bd6j+y16c1LPb7flnDIppeOyLeBArO2iysQkqfXucU7s6fvcSVOgk/LQ06fgkzDil66q68+IOyjnwmy9/8O/XWOBq/D3/5BPhB4g2Lm1w8M5BdplpguNrClu0LQgl5nzGLq+5vAbfre3D/q34MNUpnpyZLPggWLrXNJCutDFxyskp6O8yDcWKCccxB/3r5bor60RlfnyjfHk7+MWYNInGyZP3jIHatdUEUMUyOAkgM+VrSGAgdREQYufNnWzyKNQ9yuhqkfHNQFpuRTmHckhOzwAhVIlfiJjXMShuW1xSd+rSpcBAA5csRnZDyAvVFJEvI0WnTGvX1hUKm5swG9ZF8cH4ugLc6WA+NBr6vr/8ktocfb76c1HJFTkMGUL3y1ww7ex0UgWrV1snRv8D/bH8vCMIodOhAK1v+vhj4e30iU6Mhu05ab7BjP4XM90sNNVuiFOQE3ru5TeCTs5MRnaujGp/vPX//TAezr4B7Chor329sPeW6XbOJeeXsKOZcll50RHFqoQhOprWGsntzpeCU5CTZBtABv1pMqZOi6/7k+F/2/+HG890RX1C5Q+ddnRCrV5u8NLT4m736328rxEQgAS93ulPmeprPZpi1aVV+LJdGKcOr8vGoajY214wzlSfqawqAwBcf3Ydnyz/hHf9stOaw2azcUdt6dJUF5KP77d/zzZnAVTwm9HrNIXHkUw0bKubz156finarx4kqjjwocOHCHsu4pVmwNDt80F6jsGjR/Rz/7JerqypU6noJ4D2gfai3yXDv40csrLMk/9RvYBVLIWTAI7wGgGNv8boRPPwMBYuNUTjr2GH2isvr8xbAJ2aqiusJR8+QU6OaRkVU7xMk16QvXYtjFwoHjyQ1mn3OOmxpClDfRo21HVJX7tmLFcihZUXV2LpefEhs6NHgebN6c+mfEUNYab0atemIrRS3DDkMGKELslk/jHOGWLTs1Kh3eJLQAhYsdygIKDE2P/x1gwZcjb6LL5cK9DJoQdTnM10MW7bRqV9pLDy4kpBZwhzE3BCaMNI6dI0IWy/rT3nRq1Pbl6u7GlLhpabW6JMS0/cukWbbKzR/GUJMa9jEBgbSAV6397spdoaGn7WzTY14/U8/2nnT6jTbyvHjaFh21g0WdlRMEZgbCA+X/05u5yUmYT229oLXqcMnYo6rBuAKr8L22bMOj0Lf3vrOtgyczLxIPEB7/rlp7XB+HUHOa8xIsJCziY/uP0A1xBXwWPR59w5nS4pQLUWl26JFrUQ/GT5J5zkXApjdiwH6Tkafm/VkqZNk1c7JxXGb9fZWdqD+ezTs3ktBpVCTQBVLIWTADpfczbSDgPEPV0BauvVe19vtrj3SZKxqTqDfqJw+bIuQRFSWgfoTS0wNpC36FkfZ2fdNClAY5w+Le1i0X1Pd2y8KqF7QY/mzanINEDrD8Xi7AjZIdnGy5CzZ4G6denPU6aYbnbRR9/O6MwZehMUqrORS7duxor2zD8hVwwA6ODagdf9Qp8RXiNge86WU/cVEAC8N6MaLj++LLzxW4S6xg1hHlQYV4hNm2gNmhTsA+0F5XzqrquLs9HGVfh11tbh6E8aQggwfLju3Grt3Joji2Qt2ri0QcX/HUBAgPWavyxh+w0qf+PvT5NfQNc1KzYZYNjt2cCpAa/MSPc93VF/8CZO3epnn+lKO/i4/PgyqjlWk/BOdHTrRs8phrarfkfN/sLD5YaNM2JUmv4//LmCez1n6rnTBYyOmNpvqZjyQl+zRlenzEc1x2qyH0Tz8rgjwYsW0e+EtUnJTMUXdu3wKiUFKy6uwIqLwn7jcv821kBNAFUsRZIX8JIlVOVfCMb9g3EHEOqa008QLlwwnm6zBrt26abs9O18pCSA/Q70Yzs6pdKune6Jftky8Y4+fRs0uQQFAVWq0J9Hj9aJQgvBvHc+CzxLKDawD0iVmyYTQLEb9M+7fobzNX4nD4axR8di3tl5+PBDncG6ry/w3uzKuPZUpCPiLe633dFuq4gI5FsYIV2mU1Oo1tIQ/xh/wcSs4fqGRkLpjHaeUALYogX3HBYSzbWE9tvao9ove7Bzp3iykB/sCt2FDq4d4O6uG/ULCwM+NK0Bz6HR+kY4eV9X1Fd7TW2cizlnct2kzCT83C2TbRLLy6PC0GK1ydeeXhOViTJk0CB6XWVoubwnvhy0XnCb1ZdXY9Jx6bqHVab/hH4Ouq7hJ0lPMGTP3yhRQvh72XNvT6y7sk5ynPv3YWSTuHixuFh5dm62LM91Bv3vwOzZppv9LIWp4xT6PupjF2CHPz1EanGsjJoAqliKpARQX3eOj+P3jqPJxiYIiQtBhaUVJJ3AjJxFdDRtmpDL9WfXkZRp+tgPHdI5fujb7TQRbuYFwNU/lErnzoCrK/152TJggEgzr9tNN5MWRVLw89MVwA8aJK3Rgnn/YqMZ5lDF/ktUbuMHQujNgBCAvJ8BUkJ8qn6453BJdXn3Xt5DzOsYVKqk67betg0gs/j11gxhdBGlUqqUTmLG3p52uvLx8M1DXlkJQ5pubGo0DSmmtQbQB5qmTXUj20LWcXz8e/Jf/Of3n+A6nXZ0Qp0+btBoxB9kNl7daDTa//DNQzRcL24jKJV9t/eh3dZ27PSlhwd1hanw9RmTDiX6GCbJVVdWFRwx/u03nYWjYRkAH3Ka0xjGj6fJC0OTJV3RaKhMeQIRKvzdE20m6ZLKkLgQlLevINptvPHqRllNYsx0vL4Y84wZwERpNtWyIYRqHAJAv37y46RmpeJHtx9FS4nk1ChKVXCwJmoCqGIpvAmgVqtla4j+/psKKAtx9clVVF5eGSfvnzSpu2QKpg4mPBwoU0b2+Y8aq2rwWjAdPw589RX9OTBQlwCNkTDraii3IIWuXanQMgDMn09H5oQQcj4Qg/F1jY6mdY7rJDysM+/fmqOsDLWWNQb50ofdPyEAaecI0p+/Do5hzpk5+GnnT0jPljbMpN9tPXw4QOaWxd0XwoajI7xGwDXEFeuurBPUWXya/JTTBEUI7SaPehWFsfPuYOxY/hiGsiZCtNrSCh53PTivSXEs6d6dHhMztfbFmi9ENf0MYUZShfhp509oPGQrhg0Tb/6quaomLjzkaopEvoxEabvSso5rV+guo8+EgZEzAuj7L10a8PcHPhjZC+uDhEfNvt7yNafpo9KySoJ1Z0OGAA4O9Odr12iTkdggVXhCuKBTkClmz+Y+VLdw6IeWwyR6bUqEdFgM0lD3mV55fAUVHT4T/ZvKJT3duN53/Hg6cCCHpMwkXnFmfUaN0o0Ais3qpGalYoTXCE4Xu76FoRCmzm0+1lxew9pI5hdqAqhiKbwJYEJaAoiGID07HUOH0hEQIeJS4lDarjTWXlnLuimI0b071fUKCaE6enLQarUobVeaV2zVzw+oU4f+fOyY7kLRX9gFCwD1QP73pDyHgd69aeMJQEWobWyE1z8acRTNNzWXFUMfxmhdyHM4IS0BX679Elm5WZKnv82h3soWIA2OsPuPjATI90tAfh8suq3bTTcQDeH1jjbk8891loGOjkDx/0zblOnzx8E/sOLiCiw5v0RQesSwq5IQ+tku9F+IJnNHYYpAk9+yC8sw8NBA/hX0aOvS1siIPjkzGURD8DqDv621foM8kBKp7Oc88NBA2bWcI71GYqH/QsF1uu/pjpZjNqF9e6BhlyB03tGZd11TSaiYPIkpRh8ZjQV+pmsZjkQcQYvNVISREDoV37s3QAZ3x+bgzYL7HeoxlDNKuuLiCpOi1gz6icvRo0AzCSWjDxIf4D1beTYeK1Zwr0WGy9bAcBo2IDYAnzp8LmkWRA5aLVC8RjDCInVF3PqJtFTEupoZqlSh58Hhu4dBSr3B+/xSiCa/V0+SpGk7NtnYRLJeakJaAmJfi2gzWRk1AVSxFN4EMPZ1LIppikGr1aJnT64FkymYEUPPcE84BYms/JYBA+h06ZUrtNhaDswXm69b9/JlOloE0HrA776jF40//hDf99wzczH2qG64p8feHjgQdkBwG+a9AMBff4l7tZ5+cBr1neqLHwwPn3xCi6/btQOna1GfxPRE1mGjUyflEsCGjm1BGh/k7H/eKVsM8xCX+UhIS8Dgw4MlW23Vr08bWQBa+/jJ3G8EG44AmvT85/cfUrJSeH1TAeBW/C3OVN5PP1HNxbln5qLxzHGCIxqrL69G3/19Jb2HJeeXIOgJ1/eQ+Vvx2XoBAKl4D2R+SawXHvQCQG9ypkYHpZQ3xKfEg5RMBiHAN3+cFhzRN+XdGhofio+XCuvzxL6O5dRJDvMcBrsAE+bdoOUlX22gw/k2NvS7PGMGQIb+zHHGsAbTp1OvbYCWdHTmz31ZXqa9xODDgyV3XS8OWIzh67Zw9m1rK7+ZIT4lXtDhZs0arh+tb5Qvqjk0wLcyTWoCYgOw5vIawXWKzfwE+85dB0BVFLr2ThK9Zxhy8dFF1FglYLj9FsarutTiUqjRPBLeAjlaVm4WiIbgeepz9jUxAW0GQzmcwoaaAL472BJCnhJCUggh5wghXwms+zEhZA8h5DUhJJEQsosQ8pHe7zsSQrSEkOS3/1IIIY949sWbAIY9D8OHDrTKumNHY6svazBmDJ0uDQgQn2piSMpMQkJaAqJeRaHEohK8RcQ3b+o04pycgJ496UWDGaUT4mz0WXiG69SiW21pxVk2hb7FXL9+EPXADYkLMZqOdApyklxHVqsWcP48HaE4ytMHoD+tmJurzPQvALTZ9D+Qprs5CeD8s/M5SbS1aNJE57E8eTK9YYvxz4l/MNVHpFUadCqvjJ2uFqFPH3oTnXlqJhraTBK0ENxwdYOg9p8YiemJ+Mb5G0HB5fptYkAWFoOLC+8qLPrTpvoMOTwES84vMbEFl2rV6Pel01hvk16qDIb2kYC0kRymZphhwMEBWH7BtAzKs+RnbIx69ehx2doCn836ATtCdoi+FznY2uoE5AkByCfhkqSZ9Al7HgaHQP7hr3HHxqH/5rloqvexTp9OBYHl4HjJEf0P8A8burhw1RuORhxFDftmrMe1VNYHrRc9t9+bXhMbjtHp0i47u6DBwG2SXID0ORt9FnXX1RVcJy07DZqjziDFac1s9YbPECCgqGSquUrqlP2fHn+aVMUoLKgJ4LvBDELIQ0JIY0JIKUKIAyHkCSHkA571jxNCThFCKhBCKhJCThNCvPR+35EQkkcIKSYhNicBjHkdw9YxBT0Jwmcr6bBcixbgiKNai6lT6XTpqVN0ZEcKs0/Pxvhj43Hx0UVUd+T3GoqMpEX8gE4s+fJl+fZsAL9shz5jxgDz3pZW/fKLfLs5wLhjUQhGoLduXX5fzzxtntHF703GGzhecpR/cAIMODgAzQfvx2292ciZp2Zi4nHrV4G3aqVzcvnzT/q3FcNwRJePqFdRnJGB4cNpUm/jY4N6k/8VTOqdrzlLLn0wl/nL6NRVTi6/UwKD/rSpPgMODhCVtACArVvfJkANPfD1Fn4RUEPbMIDWA1dZUUVw/4Yj4H3c+2DtFfGnMz8/qjk3dSpQbV4H7ArdJbqNVCJfRmLWigj0e1u6SgjwfuPjggmwKbzCvUx+9gyTT0zGH1uncbTzxo2TXzNnH2gv2Hm6Zw/w/fe65YN3DqLW4tai8iyGrLi4An8cFJ46KTmtPuz30cYRpovcw3RJJ8vFRxc5Oob6I718ML7hpMID+n+JNAQFCW6CEotKIOpVFLt8M+6m5EZFrVaLWadnCZZmFBRqAvhuEE0ImaS3/B4h5AUhZIiJdWsROrrXRO+1Zm9fq/F2mUkA35MQm5MARiREsMXb+ibadeqA449pLTQaOl167Bg4T8NCMCK7nuGeaLm5Je96jBBxXh53WscchAzKGSZN0o1GGYq8SqXW6loIjA2UtG7FinRUVr8pwhSGF7/Il5EotbiU/IOTyb8n/4WNj0ghpAzSstPwKv0V2rWjYsgAHdWVMh265PwSDD4sXo9oaHk1aRKdapx8YjLqjJ/B8aE1ZEfIDtYvdITXCEXkWW5EPpdUvA4Yj7Ax2AXYibraADTBIgT4drSwdI4pLcLQ+FDRZNhQPLn7nu7YFLyJfwNm36G0A7RCBaDqvO+w7/Y+0W2kMs13Gjovn4yub9WZunYFJqz1ErzOmGJ/2H58u5V/nnW673T84TqZlXICgMGDxeusHyc95ox4zj87X1BL1NOTK0ifk5eDBYtSReVZDJFiUfnB1BaY7kIfBFpspjXBi0WEFHrs7YENVzewy4fuHMI3zt8IbpOnzUNx2+K06WxeGVZKTIhyDuU4jWI3nt1AvXX1hDd6S0pWiqCrS0GiJoBFn/KEJm9tDV73JYSsNLF+L0JIhonXMwkhPd7+zCSADwkh8YSOEHYQiM8mgIyGX3ZuNqdLtVIlWm9mbRwdgb59gYMHdZItYuwI2YHOOzoj8mUkx6/SkIQEnYaZ/uicOZS2K43Il5GC6+gnmU2bQrAuhY9Kyyrh+jNpHzTT1FG+PJW54aOcQzmOVMat+Fsov6S8/IOTyd5be0XrJuWwPmg9eu3rhY4daU0nQGVRdkuYodkfth9zzogPr8SlxLHnP0AtA8eNA8YfG4/PR85hZX5MEZ4QziZWbV3aWvW9MzCjH8mZyaLr6j/AmcOdO/T8Grx0Jzq6duRf78Uds26O+jMMAJ023H5ju+h2T57o6UzWuMTrt2sOs0/Pxo+rx6N9e7r8/ffAlM2mp9KFcLvpJviZzT0zF/3dxqKcXp9Mr17i3fwBsQGovaY2uzzddzomn+B/st22zbjud9YsquogxOG7hzmNQsysixAfTW2HsWtpMXK9dfVAvjjD1ury0Xd/X6y+rBO/ZrRkxai4rCJIGycQmxogRFyovOKyirgZd1N0v6ZgauHNddVREjUBLPrUIDQBbGDwujshxNnE+kMJIXEmXo8nhAx++3MVQkhTQkhxQkhZQsg0QpPGZia24ySA+k8752LOYdG5RdBqgRIlgKgokbPRDFxcqKbZ7t3cqQohTtw7gUbrG4mup28vN3gwV3RVDkwRsZA+G0ATTEZi5vPPIViXwkdpu9KSawA//FDnCvGA3w0KnXZ04uzTHNHawgAjnP3TT3R6EjA/0eYjJy8HofGh7MX+66/p5xsYG4imv1xlRx7FMKXzZw3EPGb18Y/xR521dSyKN2YMsOeaF8YdE/EaNAPDabjUrFTB+kcGfScIKaO/cvjP7z/85DSKtVls3hyYsUO6eDiDWDmA7Tlb9N89AsWK6SRmGg7cgVUuwsls0JMgVF1ZlV2edHwSZpyawbv+geAzIG3Xcspe/v6bJoFCbLi6AT329mCXp5ycIlpDW3n6Dxiw1BUA8NmKqiDVr4haew46NIhTX3n/1X2jelJT1F1XF6TrFJBxLSQ1tqVkpZidwF1/dh0Vl1UUXS8tO40z05IfqAlg0cecEcB0E6/rjwCawp8QYscTHxMnToSNjQ3+/fdfkKGE086ekUEvtuaYVYvh7k67WLdtg6hvJEN4QjhK25UW/UIzTg5Pnkh7uuYjOTNZkmjookU6yQVz/FPlKs9PmqQriH8qYxBEaqddYcM1xBU/uP2AX38FOxVbs6b49I8+lx9f5hUON8Xy5fQzBmgywNdsY4iUmlFzyMnLwTDPYUjKTEJSZhLGHB3Da4t4/uF51FxV06w4sa9jFZe0MEc7j4FJAKU8lB6NOMrW1T5680jw4XFxwGL8vGkYKx9FCDB+E3UhkYOY3uTGqxsxzmsKRzuvxKwasNtpWtOUwTBpFpLOAYC1FzaDDO6ORD2hhGHDIDo1ayiYLkU7svPfhzFBQ6ciytl/CPLpbVHP9b+8/jLpPS9GW5e2qNxrFUhtP8WUDRg87npIKgGwxgOXFHx8fGBjYwMbGxtMnDhRTQDfAUzVAD4n/DWAecS4BjCP6GoATXGWEGJv4nWjLuDyS8pztMVMqbxbi+PHaVfnxo1UE1AKGTkZKKYpJir9AdCRy/v3aXK5XXx2ySL03T+YuHKQogOnz8yZtBaKECBNmoIKAMAv2g9frv1S3sEVAvbc2oP/bf8ffv9d59RQrvIrjN4nvXJeSi0nJ+YesNOB9epBdEqLoZqjsD/x8gvLLW5eMKxXNCQhLQFe4eZ1bpmjgymXtOw0SaK/DPrvk0kAnz0T305/9Eos6Vx6fil+cR6ETz/VCZqvOO3K1nYKMcJrBKtJKqVpgtk/M1Pw3qwqWHtIuJshIiGCc/zekd44//A87/rbb+wAGd4ZMTG61wihZQ1C7Lm1B99v103JZORkiAq1//MPMG0a/XnU7v9AyvDLLTFM8J6A2adni65nSP8D/dFv9XJFtU0ZHC85SpJ3KogHa3UE8N1gOiEkllDplzKEJmqPCX8X8DFCiA8hpBIh5BNCRws99X7/MyGkNqFdwGUIIVMInQJuZWJfRglgrdW1ODeve/eMfR6thZ8f8OWX1GdVTmfaQv+Fgo4JDEx9XNu2kDx9B9CbU8P1DfEm443kbdaupZpbmZn0ohTPrzXLMt13Ojudl5uXi3sv70mequjbl8aR+7c5ef8kGm9oLG+jQgBTkzpwIE22c3OpLp7UhhatVmvUECOGhwftOgaAGjWAi8IDNCwVllYQrDlidAn1eZz0WJIlHoM5bhtSmXFqhiId3OYS9SqK83dOTaXXDCnod6OLdX86XnLEL1v7oUwZnX94YkoqR0OOj89Xf46AWJrNpWal8uqT6qPfwFVsdkW4+ghPG8S8jkFxW+meme633UFGtWPPYQAoVw44coR/G4COeok1YxiiXwIzZYq0xGyqz1RMOSmgrs5D2PMwxCQ+BCE6SSil+MvrL8w/O190veCnwfh0xafKHowBagL47qAhtLYvlXB1AGsSquPXXm/djwkhuwkhbwjVAtxJuCfAfEIbQFIJ7SY+S2hjiCmMEkDDEYUbNyDqHWkuV67Qi+CSJdTT1tpUqQIEBXG146SQp81DMU0xWdNgmzfTrkH95hMxpDSX8MEWwst8An6d8Vqyd65UAmID4BftZ9V9GuIVTrsxmSmsxESAVL6DcvbSHCcYoWU5U8A+PkDDt5a2lSpJn9ZvsbmFoEDvuGPjjJpSDOu7xJAjZSEXqbI5+QVTiG8OC/wWYPQR6ssY9CRIUJ7mVvwt7LniC0LodeMTcVMKFlOC2GIwUk4AQOaWg+cFYV9jpkmJb9rfkCMRR0DGtWRnJm49CwepfEdUNuXEvRMmO8iFWLYMGPjWCMfVlWrHihESF4JrT6/JipPfRCRESLKplCJ+bm3UBFDFUniFoBkCAoDatXl/bRGhoVSs+b//gJEjrb//2rWBc+d0/8vhoyUfyUqUGNeA6GjgvffE/UMB8ZEiIcaONS8BVIJZp2fhb2+R1kILCXsehqXnl2LUKCoeHh0NFK8mPQm6GXdT9gVaX6Ccsd6zBqaK9y8+uiirZu/y48uo5lhNdmy7ADtcfXJVcJ2F/gvxl9dfkvb3IvWFUdlCaHwoR97DUp4mPwXREOTmcfUPU7JSjF4zxC7AjtXKO//wPGqtriW4/ps39Du1Zw9kWaY129RMduNPmzZUAUGrBcj8kjgXKjw6nZ2bjfMPz0ueJfCN8gWZ2BCEUNH4nk5TQbpOQbhp90yWgNgAQe1HU+iX8axbR+uuCythz8Mk661KxZKaVnNRE0AVSxFNAL295V0I5XD/Pp3CnDEDmKjAjFOjRsDJk1QL65rMB005mnwA1f377jtdUiuFqiur4spjARE/Ac6cKTwJ4H9+/7GjLAzTfKfJHhGRAvOeb9wAPmoULLmj+Ue3H0E04h9W5MtIVmfv9GkaS6sFihcHp5bKkOTMZFReXllS2cC/J/81qrELiA3AF2u+4NnCGHOLzls7txbVAbQLsMNQj6GS9jfk8BAj14t9t/fhu23fyTqus9FneUdnX6S+MKl/WM2xmuj3R78e78yDM6JOE0zzmK0tZDlmtHZuLShLZYouXWhHe0oKdasIjRHRM5FJYGwgyJTa7Hfm0xETQbrMRIa4jKRsVqzQXYv03VQKA0FPgjjNdU5BToJNOuZgKCKfH6gJoIql8CaAgw8PRtSrKOzbRzt1lYDR9Pr7b5oEWptWrWgdV5kyEH3qNUTuE72HB5UNuXCB1otJ4cu1X5o9dcqMVCw37Z7FsiNkBy49umRWDKnoj7IwKOWjOXkyrX/08wOqt70keRRsgd8CLDon4OX2lo+XfsyO/IaH08/41129QZrtEqzrzMnLAdEQPEsW70wwVWN35sEZyeK0AJ2mE3NNMEXLzS1Fm0OWXViGgYfofJ7HXQ/4RvnyrjvCa4RR7eLu0N2yO2eFRsMZ/UPDBPHTFZ+KTiHqd+ReeHgBfdzFi40JoRaLf/KbbBjx/fb2AfdyAAAgAElEQVTvZduG9e1LtVCfPdOCfH4OyWnW7bTLycvBzHnpunKRnqNBOvN3DVvCtGm6BNDcB9ORXiOx8qKIh6YZdNnZBdtubGOXpTTpyOV1xmss8FvA25SlBGoCqGIpJhPA3LxcFLctjpjXMaxWnxIkJtILxYABdBrY2rRvT90yGDkYOXTa0QluN92wI2SHJOcEpqPZx4eOPErBlI2WHIT0/xh+c/9NksWWJay4uAIDDg7gvNbGpY3sEREpLFlCdR09PID6PwVw3CSsQeXlldlO4awseu603tAJpLkbBAbKAQAlF5fE/Vfi7d+252yNRgB97vtIas6Z5jsN/jH+yMnLkdWkxNB0Y1N4RwqLJ159cpV1Mhl1ZBRHFNiQ0UdGGxXJ67uiCJGYnsjWs5W1L8t20RrC6B++TON2lkoR+E1MT5QtFs0kMJ99Jr4uQ9fdXSX7EkcnRsPlugtGjqTXPWYmRAmSkvTqhfv8CfI/Cd6JBgTEBohqT648uxWk1yhkZwPVqwP/mtFE3nd/X6y6tEr+hiIYuswsDljMWp4WZdQEUMVSTCaATLFxZk4mVq2iT6pKwHTMdulivlCzEF26AKtW0RhiN29DpvpMxe7Q3RhyeAjsA0U8mkCnZOvWBQ4flu5q8r/t/2NHDRLSEnDv5T15BymBAQcHYPkFkWFCC1l7ZS1+c/+N85qlyS0fa9bQbuvt24FOP6VbXa+uumN1zojp++8DtRe1B2m6R1TXzJKaTu9IbzTb1Ex0vc47OktKNF6kvkAxTTEjceVG6xvB576P5OMafHgwlpzn/3KakvLYen0rftopPn/6ocOHrOTU+4ve5/jC6pOdm42++/sa1RqWX1IeYc/DROPIhUmYNBoqtyNX4DfseZigTBXjg2xjQztmb9yg2qFy6ejaUVBuiOHkybfvqd8fqNxb3AfakFqrawnKzQDA5iuuIMM748B1H1QeN8QsK0ypdoByMfSZnnd2XqFqcjIXNQFUsRSjBDA5MxnDPYezU2u2ttRxQgmY2qoWLXTabtakZ09qsM54ApvDTzt/gvM1Z9H1zp+nwsRubtI64AAgPiWeFZgWcw8wl2GewzhTn6/SX1nd13Jz8GZ038MVcvxqw1eSVP3l4uwM/PKLzqXD2tReU5uV8wCo1mKtRW1Rob24tVt1x+q4+EiiVowBadlpkrQtu+3uJukmyXQ9p2SlcF6vt66eLP293/f/jjWX+b+c/5z4B9N8p3Fe2xy8Gd12dxPd9yfLP8G1p9dYEXS5I3Uf2H8g2TlHDkwC6OrK7SKWSu99vbHuCr/yPOODzHih6zcbyaHGqhqSz7e4OKDKv70wcrOT7DiVl1cWnWo/En4UZHwzTN3tAjL0Z9atRwz9KVOpDzdyMXwInuY7Df+c+MfqcfIbNQFUsRSjBJCxg2N8gKdPp64TSlG+PPDpp8oINf/xBzBqFO3gNJeG6xtK6hgLDqbvY8MGoEcP0dWNWH15NX7f/7sZRyiMoYq/mH+oOcSnxBtN38lNNKSyaxfQoQOtS60l3NBpFobHTQhAxrXClz08RLet71Qfqy+vlvTAYC6/7/9d0jQZ8z02HDWrs7YO/GP8JcfrtrsbNgdv5v39VJ+pRjfT9UHr0XNvT9F9M6OtzLFK0c7Tp+Tikla13zoXcw7fOH+DcePo3z0rC5hzZo6oD64hv+z6BVuubeH9PSP5s2oV8Pvv8hrt4lPi2VHdCksrICQuRPJxnX5wGndfyG9lL2tfluMnbooLDy+A2NRAx7nLQfoNwCUJZce+Ub6csodvt34L99vuso9PjD89/oRdgG7qe+LxiZh5aqbV4+Q3agKoYikmp4AdAh3Ym8SwYdTmTClq1KAX28PiZXayGTaMjgLKqeXRR6vV4gP7D0QvfgAVnP7oI9qUMWCA6OpGmGqksAaTT0zmjNDk18Wv2aZmuPBQhk+bCM+Sn+F/2//HTrGPHQvMnWu13bM03tCYM3JJCEDGN0OT38UbgsYcHYPxx8bLboCQg9SShIycDBANwYtUrodjalaqZB05QHxUxjvSG57hnpzX3mS8kdQMwySjCWkJIBoiSW9Nn1FHRhm9P0tgOrEfP9b5TU/3nY5Jx+U9AXdw7QC3m268vw+JC0HFZRUxfz49v+Q02n259kv22lxqcSlFykZy83KxKXgT0rLToNVq2XpwIcITwkHmlQH5cTbIrxMkxTkXc47T+a5U2YihZV5EQoSkWt3CjpoAqliKqAzMzz/TaTelaNSIXgRPn7b+vseNoy4gdYWVH3hhbkzJmcmi60ZGAqVK0aLuUaPkx5p9erbskQYpGN7ARnqNFCzqL6w8TnoMoiHwPp6Hr76iwuFK1I2uD1rPmVZkuyeri6jn6m3fY68ZQ8ASMdV0YQpzp1UNabe1HfaHybDRkUHD9Q3hc98HadlpcLnuIlnfTikuP76M6o7VOa9NOTkFNj42svbzjfM3OHTnEO/v7764i7L2ZdG6NT2/Njlno1N3aYls4w2NcfL+SUl/X61Wi2ORx2Qn1nnaPBANwZOkJ8jKzQLREMSnCFsbPU99DqIhIL8NA/lB2pNZ0JMgfLZS93Q+/th4RYShLz66iBvPZJqzFwHUBFDFUkQTwKZNgWPy9E1l0bYtvQheMU8OT5B//wW++AJoKe7lbZILDy9I7jJ9+JC+D6awWy6GI3XWIiEtgWObN+jQICw9v9TqcZSGucGc9s/E55/Tz3rIEOXjNm9OY3XuLG19+0B7DDms3IFN9ZmKeWfnISIhgrdrlqGYphgevnloUbwnSU8kPQCZQ/NNzRUZ8dEnNSsVt+JvAaCd1oajlfpce3rNSFdygvcEzDo9S1ZMw1FkQ6JeRaHEohK4e5eeW9NWhKDkfGl2S622tIJnuCeSMpNANES0E1youUaIEotK4P6r+3iT8UaSg05OXg7IX9+D/NkFpJ00KZeCcM9QkrYubfN1ZFFNAFUsRTQBrFyZ1rcpBVNwHWmeI5ogc+bQ+r8OFszISX16jo+n7+Ovv8ybmjRs1lCKPu59BIv6CyuMFtzl6ynsOTNn8QtFpsD0KV6cxpKa1P9z4h/REaOIhAjZrhHmxOl/oL/oyI0prj+7jtbOrc09NMk4BDooPjJz9clV1qNVbDr3VvwtfLTkI85rUkdcQ+JC2O7x2mtq41wMv/VQZk4mgp8G4/Fjem6NWngFZeZLswFsv6099tzag1fpr/D1lq+RnSvcml7OoZykEhZDGCekjJwMbLuxTdRxBXjrT95zNEgjafU8915K9/IuCkiRJbImagKoYimCCWBWFlCsmHwNPTkw3ZzPxf3WZbNo0Vsh31+tv29DXr+msXr1AhwcxNcHqFQHIzp8NOKo2a4gcui6u6tggXphJS07DURDEPX0FZsArr3gjJ93KSRS+RZPTxpr8GBp6/c/0B8rLgpLbewI2YFOOzpxXotPiZeVzI70Gon//BQQzwRNACstU8gA3EwmHp9oVgNDaHwom9RNPD7RyIJPn4iECCM7r1NRpyQJqS/0X4hRR2jth2uIq6QaSOaa0WNiID5c8Lno+gBtMJHTZFR5eWVcf3Zd8voM5nS0u7jQ97NDYiMvU9ZR0FP/1uKzlZ+J2ixaEzUBVLEUwQQwPBwoXdp8CRUpMDdzMY01c2DsiRiTciVJT6ex2renXphS2HNrD9pva6/sgRmw5doWq1+ksnKzOFZLSpCdm01rnpLi2HNmfdAG/LpH2ew+NxeoU4d6D0vhu23fiTpCmPq7y7WnkpJomsvdF3fz3ddUDHNdcyISIlDarjQA8aT5WfIzs6WYHAIdZE/95+W9vf59cQZksjQXGKld4Aw1V9U0qxmrgVMD2VaOWq282Zw3GW/Qd39fZOVmyT6+wkit1bWs2vgmhpoAqliKYAJ44gTQsKGyJ7Grq3J+tuvX032PGaPM/vVhLuYNGwLbtomvDwDHIo9JEv8t7AQ/DWan2ZRCq9Wi6sqqeJr8lE0A11xeYyRAXdDEpcSJypkcCDuANi5tOK+tvrwaffdLV1zvururoDwLHyfvn2S1J/mIeR2DYppiZttaPU56jEdvrOtr23B9Q0FLOj7038ugQ4MERa0twfGSI/od6Cd7O0IAUu84yARpOjBuN91kySvpyxpVWlYJkS+lZWdfb/kaHnfFpY+KIq/SX4lOnZtD3XV1zbb2NAc1AVSxFMEEcMsWeYbo5pJpXQtMlm3b6AV26lRl9m9IiRK0ZnK/xKZJQxmEosqt+FucYu6MnAxsDt4sS25EDkwCuOLiCvQ/0F+RGEriGe6Jlpu5nUnLLyw3stMTgqkFk8t7tu8hOlF4ODM+JZ51AhLD466HUV3djFMzZEuniGFoYfcy7SV+2fWLaG3as+RnIBqC7Nxs/Ob+m2L1rxuumjcaTQhAGnqi/spWChyVztNcq9WCaIjkpqDgp8F4nqpAXU4h4KsNX0nSdpVL4w2NZbnsWIqaAKpYimACOH8+MHJkvp3PVmfvXnqBXbgwf+KVK0drJo8fl7Z+ftRaJWcms12QShGREIEydmXYZeamq3QC6BDogMGHJRbnSWSa7zQj3bu/vf9GXEqc1WJ4R3qj6camnNfkTiE229SM9euVCpMEiI3OMR2miemJuPb0muBoybYb2/Cj24+c12x8bIy8joVwv+0uWsvJdL8yPHrzCERDREcpX6W/Yh1RlKx/dbvpZlTXKQVCAPJZCCbsUsau8VjkMTx68wjp2ekgGsJRBChMvEx7iWGew8wedRbi8N3DHG1OfS1Fa/Kb+2+K7JcPNQFUsRTBBHD48PxLnpSAKeBfKU2VwGI+/ZTGO8ffAMgh6lUU3l/0viIXPQb/GH/FRxljXsfgPdv3OMvFbYsrFq9Mmbderf4ajPAaYdV9m5LJYSQxrIXPfR80XM+trVh0bhGGew4X3fZ56nPsvbUXh+4ckl13yWjHiTUo5OTl4Nut3+Lhm4cgGiJoHbjz5k4j4evJJyZjuu90yce19fpWdNnZRXCdti5tcSBMZ8cXnRjNOef4yMrNgkOgAzJyMvAs+ZmobIq5HL57GN84SzQBB/2OZOVmYeFCei6ny5Pqk83LtJcgGiI6/V9QmGrAsRZHIo6g+abm7HI1x2qSPJQLO2oCqGIpggngr7/SOrqiSmAgvbhuyaem1zp1aLxrErVMmZEWQ7sua3L1yVVUWVFFsf0DoHV5GsJOxxmOCFobGxvabBMYG4jj9yQOt0pkmOcwLA5YzHmtmKYYYl/HWi3Gy7SXRh2W//n9x3aRCnH92XUjrTo+bHxsOLIUmTmZJt1B+IhLiQPREMEi/X239+G7bd9xXpvgPQGzT88W3f/m4M1Yd2WdJOu477d/z5nyLmwSInEpcRwPaTE+XvoxQuNDkZMDPDVDq/vSo0vYdkNisTF0I6ZyO27XXlmrqK4lw7Wn1xSrIz4VdQoNnBqwyxWXVZRloVdYURNAFUsRTAA7dKDeq0WV589pQrZxY/7Ea9GCxgsX1udl0Wq1WHdlHe68uIPaa2orIocQ9jwM5RzKWX2/+hhaed2Mu4kKSysoGlMpRh8ZzekUZUbNniQpqIUE4PzD85Lqhx4kPkCJRSUkjRp/teErjiBxalaq6IiePvde3kPJxSUF1zl055CRZuDYo2MlaefNOzsPY4+OlVTLafjduPviruLnNQD02tdLllj17ee3UW+deEdvlRVVLOrGl+sdbu5DmdSRaUs5F3MOddbWUWTf5x+eR63VOuPwD+w/EBVRLwqoCaCKpQgmgC1aAEeUFepXHDkivpbSoQONFxMjb7srj69wLJGsiX4XpFarxddbvpakUSaHjJwMTPWZioycDADGFk9FCcPRK2bUrLAUxMuZyjN02pDq6sBw49kNVFxWUXAdr3AvtNjcgvPaSK+R0PhrRPfP1D0uOrcIwzyHSTomBn19P2tiWO/5jfM3OHxXulG5KTs5U5grz8Kw0H8hRnpJL9COToyW1WTEMPPUTEw8PlH2dlKZc2YOLj26BO9Ib8UUEYKfBrOj5lK9jYsCagKoYimCCWCdOoC/f/6e1NYmKEhZHUN9unalCeAzmfmVqZuotWAs1DJyMiT7elpKYGygZAs9OewK3aX4hfufE/9wLPlSslJkjZopTU5eDoiGSKr/M/SkzczJxLYb2yRLYATEBoj+Hf2i/dB1d1fOa96R3pKSG0bGxxwf7JC4ENReU1vWNlL40OFDjnNG803NZTXbnH5wWtIIYN11dXE2+qzs4wuMDcSfHn9iyskpmOqjnLxBenY6EtMTMf7YeEnT+ebS0bUjdt7cCffb7kalBNZCfxYkT5uHCd4TFC27yS/UBFDFUgQTwE8+Aa7LF5H/fwuTAL6SmStsubbF6CZqLZhpv5dpL1k7NaW8XRkS0xMVEUQ1lAJRgmUXlsEhUGflkl+fmRyqOVaT9Pm229oO7rfdzY5z/N5xfLXhK7O3F8Plugt+3vUztlzbUmjcaSotq8SpD2u0vpEsyZBDdw5JagZpvKGxWVIkvlG+aODUAMM9hytqHekU5ISee3vij4N/YPkFZTqUAaDH3h7YcHUDtl7fqpirz7PkZ4VOL9QaqAmgiqUIJoClSgH388/busjDyJOkpMjb7j+//6zezcqQp83DsgvLkJKVUuStlwpCnFar1eJNxhtFO7Xl8oPbD5zaPj46uHbArlDzi3jvvbwH1xBXs7cXY++tvfnmhKPVahH8NFh09LPqyqoIehLELssdqTMli2OKlptbwivcCwBNhJddWCZp/8x0Zu99vbH2ylrR9dcHrTdLoHrvrb34btt3+NHtR1nNJnJhuu7ztHmSdCcLM57hnoIe0NZGTQBVLIU3AczMpMlMvLKzhe8UjDyJ3Fyh34F+km8AlhCeEI6y9mUVj6MU3279FvvDJKpsF2LytHkWTSl7hXtxpin5+NHtR2y/sd2sGNtvbFfc1eD4veP4we0HRWMAwAivEXC+5sxqGwpRa3UtnH94nl3+fPXnCIwNlBQnLTsNKy+ulNSc4RTkhNvPbwMAZp+ejQneEyTFYCSWOrh2gNtNN9H1Xa674Ked8tX8T0WdQn2n+pjmO43zeVibsUfHYt7ZeYrtPz8ZdWQUFvovzLd4agKoYim8CWBCAk1m0gqnbFShZONGoHNn+dtNPD4xXyyEgp8GKy4JoySGI1qjj4yWdBMsbDCNOUqTm5dr9sjlUI+hsAuws/IRmU/w02A2YZJLH/c+mHV6liRxcsMRv977ekuOW9a+LOadnccpIZDCVJ+pmHJSWqdacmYyiIbg3st7SMkSn2pwv+2OdlvbyToeIH9E6gH63v858Y/icfKDiccnYuapmfkWT00AVSyFNwF89Mi80SyVwkvQkyAj0d6iRJedXTjTUd12dys0tWNyeJL0xGgqfsrJKVgfVHhENycdn4QZp2YU9GGwjDk6RpK0jCmGegzFMM9hKG1XWnRdS+y8qqyowpk+lsqk45MkJw5arRYlF5fEvZf3JK3vHemNJhul+QzrE/s6FsVti4ta7VnKQv+FGHM0H8za84FpvtPyNZlVE0AVS+FNAKOiqLetiooU+rj3wY1nNxSN0W13N2wK3sQu/+D2g6I1akphymt30KFB+VIGIJV5Z+cVqhvz395/Y9bpWWZtO/7YePy862dJAtpJmUlmWxg22djErCYlqbqJDK2dWyM0PlTSugGxAai9pjZ2he7C7tDdkmMwzWNSRcPNpTDV1lrK/LPzMfbo2HyLpyaAKpbCmwDevQuULbrlYir5TH2n+jjz4AwAWguVmpVq9Rh3XtzhaLQZukMUFfT9aRn6HegHx0uOisYNiQvhCOIKsebyGvTa10t0vVfpr7DyItdrcdChQVZv1jGUPYl6FYVjkcckbTvNdxqabmyqmNAwg7kNEyO8RijW0Xv92XVUXFYRY4+Oxdwzc2VtO+PUDMUlo/KbCw8vYPSR0Yrs2y7ADn96/KnIvk2hJoAqlsKbAIaGAhWKppmDSgGgL9Gy9PxSDDo0SPGYbVzacHTurMH1Z9c5IyVvMt5Y3eCdqePSb0j4zf03SV2dliBHcNw70huNNzQWXS/qVRRKLOJOFbTf1h57b+2VfFyjjowSFSefcWoGJh2fxC7vDt2N77d/L2n/dgF2KGtfFq22tJJ8TOYw+PBg2Afay97ub++/se7KOgWOiFrU9TvQDwMODjDyuC5M+Eb5KjraOOXkFES+jIT7bXd8u/VbRWI4XnIUdbSxJmoCqGIpvAlgcDDwqTLWjCr5zOgjo83uBpVKG5c2OHjnIADA9pytYrI2+sgV6ZXC1utbOV2TQU+CUHVlVavGyMjJMHIXYfTQlOTCwwuouaqmpHUfvnkoSTQ89nWsUUNLG5c2OBB2QFIc5rMQizP3zFyMOzaOXXYNcZXcQXwg7AC67e4mKyk1h8Lc0NB1d1dO+URhw7D72trUW1cPpx+clizTYw4JaQmSBNqthZoAqlgKbwJ48SJQo0a+ncsqCjLUY6hZIxNyYBT9AWrvJNfZwRz+OPgHLj66aNV97ry5E512dGKXDX1ErUFuXi7GHh3LcSPourur1Rtarj+7zulg9Y/xlzUNmpWbJbrO0+SnIBrCaRZoubklPMM9JcVwCHQw2t4UhtZnztec8cuuXyTFyC+8wr3Y74AY9oH2+dr08/WWr9kHtMKGVqtFWfuykqSNzIXREF13ZZ2k0oaigJoAqlgKbwJ47hy1glMp+kw6PgnTfacrGqPb7m7YHLwZgDxZi8LGvtv7OJZUZ6PPou66uorHnXR8EisMbC3GHxuPOWfmsMuMtps1eZH6grUaZJDTDEE0BERDRNe78+IOrj65yi5vuLoBPfb2kH/AMsjMycQ/J/6R5LssFzmdv9ag6sqquPToUr7FkwNTEyvVo9ocOu3oBLebblhyfkm+lKfkB2oCqGIpvAngqVNAw4YFcFarWJ0Ffgsw+shoeIV7WX3EjGHs0bHsNHN+62FZk0N3DqG1c2t22ee+j6RauMLI5BOTOYn/iXsnrG7tlpieaGSV18CpAXyjfCVt33lHZ3y05CPZcddcXoM+7n1kbydGaHwoohOjAejemxS9Pbnk50NSbl4uSiwqgYdvHuZLPLks9F8o6SHAEnru7QmnICfMOztPsSaQ/EZNAFUshTcB9PYGmjYtgLNaxeqsurQKfff3Rd/9fbHq0irF4406MgoL/BZYfb9JmUmiTg6WciTiCFpsbsEuH404iuabmisaUylsfGw4SUbQkyD87f23VWOkZKWAaAjH2eQ39984o3VCJKQl4GnyU9lxV1xcgT8O/iF7OzEGHhrIyvE8T31uJNdjLWafnp0vZRIMOXk5hVZy5bOVn6H8kvKKxhhyeAgcAh2w0H+h7G7owoqaAKpYCm8C6OEBfP11AZzVKlZn+43t+NHtR3Te0Rk7QnYoHm9HyA4cv3fc6vuddXqW1RMYQ07eP8kZJTMcESxKzDw1ExOPT1Q0Rp42D9eeXjNbO89cohOjERIXYvX9DvMchsUBiwGYFuy2FoY1jf+fuf7sOm7G3VQ0hmE5xLuAmgCqWApvArh/P9BOvoOQSiHEL9oPo4+MRrNNzSRrpxVGFvgtwKgjoxSNkZyZzHFZiE6MtnptXn4x7+y8fBWmfRcYfWQ0O3odnRiN4rbFFYljH2iPIYeHAKB+ve+a3l5hIys3S5FEXp/07HTcfXFX0Rj6qAmgiqXwJoC7dgEdiq5rmIoJaqyqoVgNYH5gH2iPoR5DC/owigwL/RfiL6+/CvowihQTvCewjiORLyMl2ceZg8t1F0w+MRkAUGlZJcVddFSU52bcTVRcVhEAsD9sPwYfHqxoPDUBVLEU3gRw2zagSxdFz1+VfESr1aK0XWmEJ4QX9KGYjeMlR/Q70A8AnXqc7jtd0c5BJRl8eLBkOy9zCXseZpY3bWElP2rYppycAhsfGwDA7ee38aHDh4rHLGtftkh/L1UoEQkRKGNXBgCw8epGxbvU1QRQxVJ4E8BNm4Du3RU9f1XyEaagXQlJi/xC/6LKCAgr7VWqFHXW1oFftB+7bBdgx3afqhizP2w/2m1VviZF33EkOzdb1KHEUrRaLYrbFkfM6xhF46goz8M3D1FMUwxarRYrL65U3BVETQDfHWwJIU8JISmEkHOEkK8E1v2YELKHEPKaEJJICNlFCPnIYJ1+hJBwQkgaIeQOIaQPz754E8B164DfflP0/FXJR3LychD2PEyx/YfGh2J/2H7F9g/QZpYuO+mwdFJmEoiG4E3GG0VjKoWhVEp1x+q4/PhyAR5R4ebw3cP4xvkbxeMEPQnChYcXFI/DkJWbJckJRaXwo981vujcIgz3HK5oPDUBfDeYQQh5SAhpTAgpRQhxIIQ8IYR8wLP+cULIKUJIBUJIRULIaUKIl97v2xJCMgghvxFC3ieE/E4ISSeEtDKxL94EcOVKoH/+2RqqFHHkWHOZS/DTYDgFOQGg8iFEQ5Cena5oTKVosrEJp1O68vLKuPb0mqIxfe77KOI+Efs6liMEPfPUTI7LiTUwlONJz05XRJ4lvynqDzJFCa1Wi1WXVimi6whw/5ZrLq/Bf37/KRKHjacmgO8E0YSQSXrL7xFCXhBChphYtxYhREsIaaL3WrO3r9V4u7ydEHLYYDsPQoiLif3xJoAODsCQIYqevyrvEPvD9rMm6z329kDUqyhF4zESHWIWYnLJys1S1JKKocXmFpzu4o+Xfqx4TaBS2nlVV1bFlcdXAFDRYaIhZmn7CXHy/kmOIPdIr5FY6L/QqjEKgviUeBANkWS7p2I+WblZWB+0XtEymOzcbBANQVxKnCL7N0RNAIs+5QlN3toavO5LCFlpYv1ehI7uGZJJCOnx9ucbhJBZBr+fQwi5xhPfZAKo0QB/qQ2EKhI5GnEUzTY1AwCUtiuNyJeRisaLTozGe7bvWX2/Ma9j2DoegHYeMzVh1qS1c2uON2tZ+7KKS0g4BDqw0iPWpLvz3sgAACAASURBVNbqWjj/8DwA5Wozzzw4g3rr6rHLf3r8CbsAO6vGKAiycrNw/uH5QivS/K6QmZMp2XbQXLRaLWzP2ebbaK6aABZ9ahCaADYweN2dEOJsYv2hhJA4E6/HE0IGv/05ihAyzuD34wkh90xsV54QghkzkrB4MbBTz8d83jxgrCohpiIR5gadp80D0RA8TnqsaDz9jjtr8jT5KYiGsMLGc87MUcSx4Zddv+Dw3cPscsnFJRUZNdVPLGzP2WKE1wirx/hy7ZdsQ0tyZjKIhlh9CjggNgC119Rml/UdO4oicSlx+eLKo6JD6QQwv1ETwKKPOSOA6SZezySE/Pr2Z9kjgI0bT0SDBjYgxAbu7j4AgBkzgEnWH/hQeUe5+OgiqjlWQ2pWqpE1mBJk52Yj9nWs1ffL1BYy00TTfKfhnxP/WD2OPlqtFkRDrO7Vuu/2Pny//Xt2ef7Z+RhzdIxVYwC0oeVU1CkAwKv0V4r450YkRGCC9wR2OT9sDZ+nPldsWj7seRjKOZRTZN8qppl5aiY0/pqCPgyL8PHxgY2NDWxsbDBx4kQ1AXwHMFUD+Jzw1wDmEeMawDxCSPW3y9sJIYcMtjtMJNQAVq4MXH1r4TllCjB1agGe6SpFilvxt1B+SXm2E06/KaAowYxgMZ7D/5z4B9N8pykaU6vVIvZ1rNXt1A6EHUBbl7bsslJWevoNLUxNm9INGr329WIbgpRi582d6OCqjBr+wzcPFbOZU/n/gToC+G4wnRASS6j0SxlCiD0h5DHh7wI+RgjxIYRUIoR8Quhooafe79sSOkrYm9Au4D6EysGIdgE3aQJ4e9OTa8IEYPbsAjy7VYoU6dnpuP7sulENXVGDkeVgCrmLsoeoZ7gnWm1pxS4rNZrZcnNLtqHlcdLjfElsuu3uhk3Bm6y+30N3DrFSQ87XnPHzrp+tHgMAEtMTQTQEyZnJiuxf5d1HTQDfHTSE1valEq4OYE1CtQHb6637MSFkNyHkDaFagDuJ8QnQl1AdwHRCyF1CJWFMwUkA27UD9u2jJ9fo0cCCBQV4dqsUScITwvHFmi8U2XdcShzbaawUWq0WxTTF2OnlkV4jFZdzUIpjkcfQdGNTdjkrN0uRkTmnICfcfn4bANWbfJD4wOoxDFl1aRUCYgOsvl+Pux74esvXAOj76rm3p9VjAPRzUqJbWqVwsD5oPe6/uq9oDDUBVLEUTgL488+Aiws9uYYNAxYvVvT8VVGRRVxKHKdBQykWnVvE1jCuuLgCu0N3KxpPKXzu+6Dh+oYFfRhFCn25mZUXV7LWg0pQ2q40rj65qni9rEr+88WaL+Af469oDDUBVLEUTgLYty+w6m1d9cCBwLKi22Sn8g7yOuO1Ig0G7ypno8+i7rq6BX0YRYpzMedQZ20dANSeb6jHUMViVV5eGX8c/AMDDw1ULIZK/jLddzo2BW9CpWWVcOPZDUVjqQmgiqVwEsDhwwFbW3py9e0LrF6t6PmroiILRmMuIS0B8SnxiEiIKOhDMhu/aD/FnT/uvLijSNPHu8yVx1dQdWVVAMACvwUYdWSUYrHCnodhqs9URTqzVQqGsUfHYu6ZuSixqITiYvhqAqhiKZwEcMIEYNYsenL17Amst75rlIqK2TByKY+THmNT8CZ039O9oA/JbP7y+ouVpEjPTkfQk6ACPqLCTUpWCvru76t4d3lofCg+XvoxAODSo0s48+CMovHyo8tcJf+Y5jsNY46OUUQM3RA1AVSxFE4C+O+/9B8A/PIL4Oys6Pmr8o7xLPkZK5+iFKUWl8L9V/ex6tIq9N3fV9FYSjL26FjMOzsPAHD3xV2UtS9bwEdUuEnJSuHI8yjFozeP0Htfb0Vj6DPw0EAsPb803+KpKIvGX4Nuu7vlixSSmgCqWAonAZw1i44CAkDnzsCOHYqevyrvGD339sS6K+sUjdF4Q2NEJETAPtBe0fospZl4fCJmnabD7fqjTkoS/DQYMa9jFI2RlJmEW/G3rL7f/PZZzS867egE1xDXgj4MFSux6tIqNNnYBKUWl1I8lpoAqlgKJwH87z9g5Eh6cn3/PbBnj+LnsMo7xPhj41HfqT4rCaIk88/Ox+gjoxWPoxT/nvwXNj42AIBrT6+h8vLKisfssbcHNlzdYPX9zjkzh01izjw4o0jjiaE8z58efyqSaOY3jdY3wsn7Jwv6MFSsxO7Q3Wjt3BrhCeGKx1ITQBVL4SSA9vbAkLde8W3aAAcPCpx9KioGOAQ6gGgI9t3ep3isab7TMPnEZEX2PdRjKI5GHAVA/XOV6ObTd+W4/PgyqjtWt3oMQ37Z9Qucr1m/rmOox1DYB9oDoNIzjdY3snoMgMqmRL6MBADUWFUDFx9dVCROfrI4YLHVLQBVCo7Ljy+jj3uffImlJoAqlsJJAFeuBPq9lb1q0QI4ciRfzmOVd4RDdw6BaAiuP7uueKy/vf/GzFMzFdn3D24/YPuN7QCAphubsjZn1uQ/v//YDtOA2ADUXlPb6jEM+dHtR/Z9WZO/vP7CQv+FAKj4dLNNzaweAwA+WvIR68376YpPEfw0WJE4KipFATUBVLEUTgLo5AT06kVPrsaNgZPqzISKDNKz07Hh6oZ88Tc9FXUKgbGBiuxb32as3rp6OBt91uoxHiQ+wN0XdwHQadN66+pZPcabjDfod6AfK5zdwbUDdoXusnocfbs8fScNa1NlRRU26ftoyUfvxBSwioq5qAmgiqVwEkBnZ9r9CwD16gFnlFVAUFEplPRx74M1l9cAAGquqqn4VGPM6xhFRuZepb8C0RCkZqUCANptbQf32+5Wj6MvZbI/bL9idn36/tKlFpfCvZf3FInD0Hd/X+wP269oDBUVc1ETQBVL4SSAbm5Ap0705Pr8cyBQmQEWFZVCzcBDA7HsArXBqby8suKCzUqRmpUKoiGs1dg3zt/g8N3DVo8z49QMTDo+CQAtgv9++/dWj6EPowepVO3clJNT8CDxAdpva4+9t/YqEkNFxVLUBFDFUjgJoLs70K4dPbmqVgWuXCnAs1tFxQTekd648ljZE3O453AsOrcIAPChw4cIex6maDylMJROORpxlO2itSYrL67E/LPzAVB3C6WTpuzcbJRfUh7PU58rsv+aq2riwsMLaLWlFTzDPRWJoaJiKWoCqGIpnATQ0xNo1YqeXJUqAdeVr+VXUZHFcM/hsD1nq2iMhf4LWT3DkotLKm7ppBSG0ikq0qi3rh5OPziNBk4NcCrqVEEfjoqKSdQEUMVSOAngiRPAV1/Rk6t8eeC28nJuKiqymHxiMqb7Ts+3eMmZycjNy823eNZGXzpFRRrNNjXDschj74zUjMq7iZoAqlgKJwE8exao+1bDtXRpIFK9b6gUMuaemYtxx8YV9GFYTHZutuK2ZgDtls0PYe53iTYubXDwzkFUWFoBN+NuFvThqKiYRE0AVSyFkwBeuADUrElPruLFgZiYgju5VVRMseT8Egw6NAiNNzRmZVSKIsfvHUeTjU0Uj5Mfkjz5RUBsgOKdvwDQ0bUj3G66ocvOLnj05pHi8VRUzEFNAFUshZMABgcDVaoAubkAIcCTJwV8hquoGLA+aD167O2B9xe9jweJDwr6cMxGX/tvU/Am1hVEhZ9e+3op7jUNKGeZp6JiTdQEUMVSOAlgaCjw8cdARgZNAF+8KOAzXEXFALebbmjj0gZEQ5CQllDQh2M2gbGBqLW6FgDALsAOQz2GFvARFX76H+iPFRdXKB4nLTuNFc9WUSmsqAmgiqVwEsCICKBMGSApiSaAb94U8BmuomJAQloCAmIDQDQEmTmZBX04ZhP0JAhVVlQBACzwW4DRR0YrHrP8kvKIeR1j9f1GvoxkhaztAuyg8ddYPQZAPYftAuwQlxKHPbf2KBJDRaWooCaAKpbCSQBjYoD33gMSEmgCmJZWsCe4ioopwhPCUdqutGL7v/7sOlxDXPE64zXOPFDGDudm3E18vPRjAMDMUzMx8fhEReIw5GnzQDQET5KsX9dxNOIomm9qDoB2aTOuINZm1JFRWOC3IN+8k1VUCjNqAqhiKZwE8OlTmvg9fkz/z1FnQVQKIX7RfvhizReK7d/tphs6unbE5ceXUc2xmiIxwhPCUcauDABqpTbVZ6oicRgycjJANAQvUq1f1+Fz3weN1jcCAIw7Ng5zz8y1egwA+Nv7b8w6PQunok6hgVMDRWKoqBQV1ARQxVI4CeDLlzTxu3sXKFYM0LPeVFEpNATEBig6ZXrwzkG0dm4N/xh/1FlbR5EYL1JfsKN+SiZN/jH+iE6MxpuMNyAagqTMJEViMJ/TCK8Rigl12/jY4N+T/+JY5DE029RMkRgqKkUFNQFUsRROApicTBPAq1eBUqUK+OxWUSkgTt4/iUbrG7H/K419oD1crrsosu8uO7tg6/WteJH6QrG6yYuPLqK6Y3UAwKBD/9fenUdZUd5pHP/iAohIIpCIC8wYJcYlODpxMOjIgJKjBhVMwhgJkokxiaIYkrjkGMM1iCuBSGZwl0gEjYIJxlGYGESJaaMgIErUBpHTLLLTAi2LfX/zx1s3FHVv362qurrg+ZxTR7u67vure6n31tO1vPVNu2POHZHXMDN788M3bcHqBf8I6HGqqauxsX8dG2sNkTAUACWsPQLgjh0uAM6aZda+fcJbt0hC5iyfY13HdrVpi6fZqfefmvTqhHL+5PNtwmsTrK6+zsgQy7iAc1fOtc53dTYzs4t/d7GNqxkXeQ2/xxY+Zmc+cmZs7W9s2GgXPn6hnT/5/NhqiISlAChh7REAs1kXAKdPN+vYMeGtWyQh81fPt453drRJCyZZ74m9k16dUAY+MdDG1YyzD7d8aBdMuSCWGovWLLIOt3cwM7MfzfiRPfnWk7HUyXn4jYft7EfPjq39BasXGBlsyNNDYqshEpYCoIS1RwA0M2vd2mzyZLMuXRLcskUSVLuh1lqPam0TXptgX5381aRXJ5RLpl4S2ynZnIadDbbww4Wx1vBbUb/C5q6cG1v7Gxo2GBls+HPDY6shEpYCoISVFwAPOcTsvvvMunVLcMsWSdCOT3bYO+vescVrF8c2DExzGfr7obHdlLG3ymaz1m9SP5u9bHbSqyLSJAVACSsvAHbubDZmjNkxxyS4ZYtIJK545gq76c83Jb0aIhIxBUAJKy8AHnGEWSZjdnz8Nz+K7NMumHKB1W6ojbXGvFXzbNGaRbHWaC7ZbNZ2frIz6dUQaREUACWsvAB49NFmP/6xWQ8NsyUSqyN+eYTV1NXYHXPusMVrFye9Oi3e7GWzYx0AXCRNFAAlrLwA+IUvmH3ve2anxTvMlsg+79jxx9oLS1+w7uO725+W/inp1WnxXl/5un327s8mvRoiLYICoISVFwB79DD75jfNzjgjwS1bZB9w8r0n2zPvPGPdxnWzlz94OdZar614zUa+ODK29ms31Nr2Xdvtltm32PLNy2OpsXjtYjt49MG2+ePNsQxoLZImCoASVl4APO00s/79zfr2TXDLFknY0o1Lbc3WNbHW6PVwL3t80ePW6c5ONm/VvFhrPbHoCev1cK/Y2u9wewdbtGaRdb6rc2xDtCzfvNzIYOc+dq7d+/q9sdQQSQsFQAkrLwCeeabZWWeZnXtuglu2SML6T+lvZLA5y+fEVqPfpH720LyHrO2tbe3d9e/GVsfM7Dfzf2N9ftMntva7jOlir9a9au1va29vrXkrlhq58flOe+A0m7RgUiw1RNJCAVDCyguAffuanXKK2UUXJbhliyTsO3/4jpHB3l77dmw1hjw9xB6Y+4CRwVbUr4ilRjabtV2Nu2zCaxOs/5T+sdQwMzvmnmPsz+//2VplWtmyTctiqbF913Yjg3Ub182mvj01lhoiaaEAKGHlBcDzzjM79lizQYMS3LJFEnbNc9cYGWzzx5tjrVO/vd7IYJs+3hRL+79d+FvrPbG3jXlljA16Kr5O3ePeHvbU208ZGWzt1rWx1MhmszZ42mDrdGcnm7lkZiw1RNJCAVDCyguAAwaYHXaY2be+leCWLZKwRWsW2bXPXxt7ncZso62oX2GN2cZY2p+2eJp96YEv2S9m/8K+/Ydvx1LDzOz0h063Ca9NMDLYtp3bYqtjZs1yzaRIS6cAKGHlBcBBg8zatTO7/PIEt2wRicSM2hl2/H8fbzf+6Ua76tmrYqtz9qNnW+bFjJEhtjBrZvZJ4yfWKtMqtjuNRdJCATD9vg78HdgGvA0MLOM1twArgS3AbODEwO+zQAPwkbfMRwWWyckLgEOGmIHZlVcmuGWLSCTmLJ9jXcd2tV2Nu2IdOuXRBY9aTV1N7MGsYWeDXfnsldawsyHWOiItnQJguvUEPgYGAAcAF+OC26lFXnMdsBw4AWgD3AasANr5lskCfcpch7wAePnlLgD+8IcJbtkiEon5q+dbxzs7Jr0aIhIxBcB0ewSYFpj3NPBgkde8D1zt+3l/YC0w2DcvC/Qtcx3yAuBVV7kAeP31CW7ZIhKJ99a/Z21GtUl6NUQkYgqA6fYGcENg3k+BuU0s3wEX7noG5s8Exvh+zgKrgHVeW98tsg55AXDECBcAb745wS1bZB+wdONSm/zm5FhrrN+23i6Zeolls9lY64hI81IAbJkm4kJYo/ff4DTLW24J8P3Aa38AvNdEu0d5rz8uMP8J4AHfz31wp4cPAM4DNhaok5MXAG+4wQXAUaMS3LJF9gEzl8y0NqPa2Hvr30t6VUQkZRQAW6Z2QMci0yHecnEdAQwaCfylSJs2bNgwGzFihI0YMcIuvXSGgdlddyW9eYvs3d5Y9YaRwa545oqkV0VEUmDGjBn/2FcPGzZMATDFHgGmBuZNo/JrANew5zWAQT8HXmnid3lHAEePdkcA77knwa1cZB+westqI4ONmDEi9lozl8y09dvWx1rjg00f2NKNS2OtISKOjgCmW0/cXb8X4U7XDsQNB1PsLuCfAB/ghnU5CBgN1LH7LuBTvNcfiAuHXwE2AMOaaC8vAN59twuADz6Y4JYtsg/IZrN29K+Otudrn4+91uFjDreauprY2n9x2YtGhljHGhSR3RQA0+9ruHEAG4DFuCFh/N4CbgzMywCrga3kjwPY32tnC+7av/nAFUXq5wXA8eNdAJwyJcEtW0Qi1fbWtvbOundia/+lD14yMtjNs3T3mEhzUACUsPIC4P33uwA4fXqCW7aIRKZhZ0Osz+g1M1uyYYmRwca/Oj62GiKymwKghJUXACdOdAHwhReS27BFJDrDnxtuZLBdjbtiq5HNZu0bT37Dlm1aFlsNEdlNAVDCyguAU6a4AFgT3+VCItKMLp12qZEh6dUQkQgpAEpYeQFw+nQXAGtrE9yyRSQy23Zus9oN6tAiexMFQAkrLwAuWOAC4NatCW7ZIiIi0iQFQAkrLwCamb3/fkJbtIiIiJSkAChhFQyAIiIi0nIpAEpYCoAiIiIpowAoYSkAioiIpIwCoISlACgiIpIyCoASlgKgiIhIyigASlgKgCIiIimjAChhKQCKiIikjAKghKUAKCIikjIKgBKWAqCIiEjKKABKWAqAIiIiKaMAKGEpAIqIiKSMAqCEpQAoIiKSMgqAEpYCoIiISMooAEpYCoAiIiIpowAoYSkAioiIpIwCoISlACgiIpIyCoASlgKgiIhIyigASlgKgCIiIimjAChhKQCKiIikjAKghKUAKCIikjIKgBKWAqCIiEjKKABKWAqAIiIiKaMAKGEpAIqIiKSMAqCEpQAoIiKSMgqAEpYCoIiISMooAEpYCoAiIiIpowAoYSkAioiIpIwCoISlACgiIpIyCoASlgKgiIhIyigASlgKgCIiIimjAChhKQCKiIikjAKghKUAKCIikjIKgBKWAqCIiEjKKACm39eBvwPbgLeBgSWW/0/gZaAeaAT2K7BMD+AlYCuwAhhZpD0FQBERkZRRAEy3nsDHwADgAOBioAE4tchr+uFC4H9ROAC2B1YBtwKtgZOAOuDaJtpTABQREUkZBcB0ewSYFpj3NPBgGa/tTeEAOBT4MDB/OFDbRDsKgCIiIimjAJhubwA3BOb9FJhbxmubCoBjgecD877sLdu+QDvNEgBnzJgRa/vNUWNveA+q0XLaV42WVWNveA+q0XLab44aCoAt00Qgiwtd2QLTLG+5JcD3A6/9AfBeGTWaCoAPAY8H5n3BW/aIAu10AKyurs7q6+tjm4YNGxZr+81RY294D6rRctpXjZZVY294D6rRctpvjhp1dXUKgC1QO6BjkekQb7mWcATwSNwGpEmTJk2aNGlK33QkkjqPAFMD86YR7hrAy6jsGsBWuI2ngyZNmjRp0qQpVdORuP24pExP3F2/F+HuAh6IGw6m2F3A+wFtgK/gAmA77+fcBtAeWAmMAtri7gJeTtN3AYuIiIhIM/sabhzABmAxbkgYv7eAG30/D2X39YWNvv8/y7fMSbixArfhhoS5OY4VFxERERERERERkRbmFtzp4S3AbOBEb35b4Enc3ceNwC9iqPFvwDPAamAzsBD4dsQ1jgb+AqzzatQCP4u4ht+/AjtxR1ujrpHFHRX+yPv9R02sQ7XttwZuAz7APTFmGfCtCtsvVuNS33rnpl3A/AhrAAwG3sQ9GacOGAccGHGN/rgbs+pxn9eNVKbU03t6UP6Te6qpEVX/LlYjqv5drEYU/bucJylBuL5dqkYUfbtUjSj6d7EaUfXvUu8jbP8u1X7Yvg1wu28dVwJTgKMCy3QF/oj7nNYCv8Zd9hVV+w/izhbuAiZV/A5kr3cd7lrAE3DXDN6G29nkriG8FndjyV+pfgdRrMZ5uBtUOnvL/gdug74wwhrtge7svh7yn3Gn1YdFWCOnDa5T/h/V7SRK1cgCfapot9z2nwFm4naq4P5dukdcw+8AXDgYEWGNHrgv9a97y3bF/XvfGmGN03BP6+nvLfsv3vu4uoL2iz29p9In91RTI6r+XaxGVP271GcVtn+XepIShO/bpWqE7dvl1Iiif5fzWeVU27+L1fgi4ft3sfaj6NsAo4FTcJ9BB2AyewbhVrjtaSJwsPc+FuLCbBTt461zP9xNpAqAkud99tyw98f9JTI4sNyLVL+DKLdGzu8pvxNUU+No3F9F42OoMQY35M5IqttJlKqRBfpW0W457ffFXR/aucDroqoRdIlX89MR1hgAbAgsfzfwvxHUWOPVuAN4LrD8KODdCmtA4Tv3h1LZXfvV1PAL07/LrZFTTf+upEa1/btU+2H7dqkaYft2qRpnE03/LlYjqNr+XaxGVP27qfaj7Nt+J3u1PuWrvQM41LfMhbgjqNWcrQi27zcRBUAJ6ID70ukZmD8T92XnV+0OopIaueVXAUNiqPEy7hRLFndk57iIa/w77sadtlS3kyinRhb3+azDnaL4boTt347bcY7xaizHDUnUKcIaQS/hBimvRKkabYFXcaej9gOOAd4BvhNhjbvIH1fzNtwX8MEV1IHCO6GxBdovNm5nNTX8misAVtO/y60Rpn+Xaj9s3y6nRpi+XU6NKPp3qRpB1fTvUjUOInz/LtZ+lH3b73rcH5U5w3HblN/huO3gpAja91MAlDxH4Ta24BflE8ADgXnV7iAqqXEgruO9QOmjCNXWaAWcjjtdcCjlK1XjYNzRmTO8+dXsJMp5H31wp6IOwJ1e20j+U2Oqbf9B7/f34HZ0n8Gd7gr+NRz2PeSc5C1bbHijamtcgftsduK+uCdS2ZhYpWr0wv31PhB3ZPBLuNNEjbgv8UoU2glV+uSeamr4NUcArLZ/V1Kj2v5drP0o+napGhCub5dTI4r+XaqGX7X9u5waYft3sfaj7Ns55+CO7PXzzfsZUBNYri3uM+sVQft+CoCSpyUdATwImIHbORS6ViyKGn7XkT/Ydpga9wK/8s2P6whg0EjcBfBRtP9L4BPcTijndG/eQRHV8JsA/K3MdiupcRlu55DbYR+Gu9A6GKjC1AB3DdI8YD3ui/xm3MXWbSuoA/vGEcAw/bvcGn6V9u9i7d9H+L5dqkYhlfTtcmpE0b9L1fCrtn+XqjGU8P27WPsQXd8Gdy3hJvKve43qCGBT7fspAEpBxa5z8ov6GkB/jU8DrwDTqe7ah3JqBN2EuwA3qhrLcF9K67xpG+6v07XA5yKqUcjPcZ9dFO0PJv9L7svevEp2EOW8h/a4mwEuq6DdcmuMx11n5ncB7t8kqhqFjKO6YFBoJ1Tpk3uqqeEXZwCMon+XqhFUTf9uqv2o+naxGoVU2rdL1YiqfxerkRO2fxerEVX/bqr9Qqrt24Nx4eycAr87C9hO4WsAW0fQvp8CoBT0E9xt7ifivgRG4+42zP2V3hr3hfGS97s2VP4lXqxGF9ydT4/jdrDVKlbjHNwXXWuvRh/cjvz2CGt8FndqLjf9EnedyuFUdrqrWI1TcKdTDvTex1dwF0NXcrdjsfbb4a4LGov7d+6EO2rzhwraL1Uj5yrczrRN8MUR1BiE+1y+7C37GVz4eCnCGq1wdwvu7/18Ge6L+PQK2t+Ppp/eE9WTe4rVgGj6d7EahxFN/y5WI4r+Xaz9qPp2sRpR9O1SNaLq36W2KQjfv4vViKJ/F2s/ir4N7o/HTew+UhnUCliAuw6zPdANdxdvuTdIlWof3PbUFhf+HsO9x3LDpewjMrhrHLaSP9bZMnY/XSQ3zYqgxgne/J97bW5hz/Gjqrmjq6kaA3E7oXpch3kL+CnVXYcUrNHUOF1hThMFa+TeR3/ccAdbcEck5uOuhQnbvv89fB53XdAW3JAn91PdHXzFaoA7OnNXFe2WW+Ma3OmVzd4yv8MNsxBVjQNwp7c247bXWezeIZWr1NN7onhyT6kaUfTvYjWi6t/FakTRv8t5klJOtX27WI2o+nap9xFF/y7nswrbv0vVCNu/i7UfRd/Ga3MHu7f53PbvD2xdgWe9363DXZ9Z7h9g5bT/Ivnvs6kbRUREREREdyZZRAAAAuBJREFURERERERERERERERERERERERERERERERERCQxGhhSREREZB+jACgiIiKyj/EHwKuARbiBVFd58zv5lh0JzMEN6roK93zE+6j+ge4iIiIikgB/ABwIHOv9f1fcw68n+5YdiRtxfARulPTuuEfxDG2WNRURERGRSBQ7BTwA91ianJHAksAyTwL/E8N6iYiIiEhM/AHwYuAV3APUN+OeKdjI7od7F3r2pa4hFBEREUmZXIA7EvgEGMTuh1APwAXA3DV+CoAiIiIie4FcgDsOF/bO9uZ3B/6GAqCIiIjIXmci8Kj3/zfg7u6tB/4CXI0CoIiIiMhe52lgTNIrISIiIiLN43O4sfwuTnpFRERERCR+9+FO996d9IqIiIiIiIiIiIiIiIiIiIiIiIiISJNuB97EDe+yEpgCHBVYpivwR+AjYC3wa9zzfnP6Ai/gnv2bxd1AUshPgHeBrcAK4LpI3oGIiIiIVGQ0cAou0HUAJgPzfb9vhQuIE4GDcWFwITDOt0xPYAhwHm5swEIB8NfAXOCL3s8dgBOjehMiIiIiUr2TcSHuU97PvYEdwKG+ZS7EPQv4wD1fyj9ROAB29+afEPXKioiIiEh41wPv+34eDvw9sMzhuFO9JwXmNxUAvw9sxj1NZDnuVPNUb3kRERERSdA5uCN7/XzzfgbUBJZriwuAvQLzmwqAN3nLP4U7sngI8FvcqeVWUay4iIiIiFSuP7AJd3rXL4ojgNd48z/vm9fFa+O46ldZRERERKo1GBf+zinwu7OA7RS+BrB1YNmmAuAZ5AfAXIhUABQRERFpZlfjwt8ZTfy+FbAAeARoD3TD3SU8LrBMG1yYywLHez/v51vmdeAJ3N2/7YFHgXnoFLCIiIhIs8vi7vL9yJu2eP/1B8KuwLPe79YB97DnHcC9vXYaA9NlvmW64G78qAc+BH5H/niDIiIiIiIiIiIiIiIiIiIiIiIiIiIiIiIiBf0/lRixdXD9S3IAAAAASUVORK5CYII=\">"
      ],
      "text/plain": [
       "<IPython.core.display.HTML object>"
      ]
     },
     "metadata": {},
     "output_type": "display_data"
    },
    {
     "name": "stdout",
     "output_type": "stream",
     "text": [
      "8.9194 44.32259\n",
      "508 430\n"
     ]
    }
   ],
   "source": [
    "compare(8)"
   ]
  },
  {
   "cell_type": "markdown",
   "metadata": {},
   "source": [
    "## MISC"
   ]
  },
  {
   "cell_type": "code",
   "execution_count": null,
   "metadata": {
    "collapsed": false
   },
   "outputs": [],
   "source": [
    "tota.unstack().xs(2561)"
   ]
  },
  {
   "cell_type": "code",
   "execution_count": null,
   "metadata": {
    "collapsed": false
   },
   "outputs": [],
   "source": [
    "#data=pd.to_numeric(data, errors='coerce')"
   ]
  },
  {
   "cell_type": "code",
   "execution_count": null,
   "metadata": {
    "collapsed": false
   },
   "outputs": [],
   "source": [
    "data[['s','s_map','s_his']] = data[['s','s_map','s_his']].apply(pd.to_numeric)"
   ]
  },
  {
   "cell_type": "code",
   "execution_count": null,
   "metadata": {
    "collapsed": false
   },
   "outputs": [],
   "source": [
    "data.plot(style=['k-','go','r-'])"
   ]
  },
  {
   "cell_type": "code",
   "execution_count": null,
   "metadata": {
    "collapsed": false
   },
   "outputs": [],
   "source": [
    "mh"
   ]
  },
  {
   "cell_type": "code",
   "execution_count": null,
   "metadata": {
    "collapsed": false
   },
   "outputs": [],
   "source": [
    "hh"
   ]
  },
  {
   "cell_type": "code",
   "execution_count": null,
   "metadata": {
    "collapsed": false
   },
   "outputs": [],
   "source": [
    "dic0={'t_gauge':rt[0], 's':hs[0], 't_hist':ht[0], 's_hist':hh[0], 't_map':mt[0], 's_map':mh[0]}"
   ]
  },
  {
   "cell_type": "code",
   "execution_count": null,
   "metadata": {
    "collapsed": false
   },
   "outputs": [],
   "source": [
    "data=pd.DataFrame.from_dict(dic0,orient='index')"
   ]
  },
  {
   "cell_type": "code",
   "execution_count": null,
   "metadata": {
    "collapsed": false
   },
   "outputs": [],
   "source": [
    "data[:5]"
   ]
  },
  {
   "cell_type": "code",
   "execution_count": null,
   "metadata": {
    "collapsed": true
   },
   "outputs": [],
   "source": [
    "data=data.transpose()"
   ]
  },
  {
   "cell_type": "code",
   "execution_count": null,
   "metadata": {
    "collapsed": false
   },
   "outputs": [],
   "source": [
    "data[:5]"
   ]
  },
  {
   "cell_type": "code",
   "execution_count": null,
   "metadata": {
    "collapsed": false
   },
   "outputs": [],
   "source": [
    "data=data.set_index(['t_gauge'])"
   ]
  },
  {
   "cell_type": "code",
   "execution_count": null,
   "metadata": {
    "collapsed": false
   },
   "outputs": [],
   "source": [
    "data['s'][:5]"
   ]
  },
  {
   "cell_type": "code",
   "execution_count": null,
   "metadata": {
    "collapsed": false
   },
   "outputs": [],
   "source": [
    "gauge=pd.Series(data['s'])"
   ]
  },
  {
   "cell_type": "code",
   "execution_count": null,
   "metadata": {
    "collapsed": false
   },
   "outputs": [],
   "source": [
    "gauge[:15]"
   ]
  },
  {
   "cell_type": "code",
   "execution_count": null,
   "metadata": {
    "collapsed": false
   },
   "outputs": [],
   "source": [
    "#gauge=gauge.rename(index=data['t_gauge'])"
   ]
  },
  {
   "cell_type": "code",
   "execution_count": null,
   "metadata": {
    "collapsed": false
   },
   "outputs": [],
   "source": [
    "gauge=pd.to_numeric(gauge)"
   ]
  },
  {
   "cell_type": "code",
   "execution_count": null,
   "metadata": {
    "collapsed": false
   },
   "outputs": [],
   "source": [
    "ax=gauge.plot()"
   ]
  },
  {
   "cell_type": "code",
   "execution_count": null,
   "metadata": {
    "collapsed": false
   },
   "outputs": [],
   "source": [
    "gauge1=pd.Series(data['s_map'])"
   ]
  },
  {
   "cell_type": "code",
   "execution_count": null,
   "metadata": {
    "collapsed": false
   },
   "outputs": [],
   "source": [
    "gauge1[:5]"
   ]
  },
  {
   "cell_type": "code",
   "execution_count": null,
   "metadata": {
    "collapsed": false
   },
   "outputs": [],
   "source": [
    "gauge1.plot(ax=ax)"
   ]
  },
  {
   "cell_type": "code",
   "execution_count": null,
   "metadata": {
    "collapsed": false
   },
   "outputs": [],
   "source": [
    "data['s']=pd.to_numeric(data['s'])"
   ]
  },
  {
   "cell_type": "code",
   "execution_count": null,
   "metadata": {
    "collapsed": false
   },
   "outputs": [],
   "source": [
    "#data.plot(x='t_gauge',y='s', style='k-')"
   ]
  },
  {
   "cell_type": "code",
   "execution_count": null,
   "metadata": {
    "collapsed": false
   },
   "outputs": [],
   "source": [
    "dic0={'t_gauge':rt[0], 's':hs[0]}"
   ]
  },
  {
   "cell_type": "code",
   "execution_count": null,
   "metadata": {
    "collapsed": false
   },
   "outputs": [],
   "source": [
    "data0=pd.DataFrame(dic0)"
   ]
  },
  {
   "cell_type": "code",
   "execution_count": null,
   "metadata": {
    "collapsed": true
   },
   "outputs": [],
   "source": [
    "data0=data0.set_index('t_gauge')"
   ]
  },
  {
   "cell_type": "code",
   "execution_count": null,
   "metadata": {
    "collapsed": false
   },
   "outputs": [],
   "source": [
    "data0[:5]"
   ]
  },
  {
   "cell_type": "code",
   "execution_count": null,
   "metadata": {
    "collapsed": true
   },
   "outputs": [],
   "source": [
    "dic1={'t_map':mt[0], 's_map':mh[0]}"
   ]
  },
  {
   "cell_type": "code",
   "execution_count": null,
   "metadata": {
    "collapsed": false
   },
   "outputs": [],
   "source": [
    "data1=pd.DataFrame.from_dict(dic1)"
   ]
  },
  {
   "cell_type": "code",
   "execution_count": null,
   "metadata": {
    "collapsed": true
   },
   "outputs": [],
   "source": [
    "data1=data1.set_index('t_map')"
   ]
  },
  {
   "cell_type": "code",
   "execution_count": null,
   "metadata": {
    "collapsed": false
   },
   "outputs": [],
   "source": [
    "data1[:5]"
   ]
  },
  {
   "cell_type": "code",
   "execution_count": null,
   "metadata": {
    "collapsed": false
   },
   "outputs": [],
   "source": [
    "dataf=data0.join(data1, how='outer')"
   ]
  },
  {
   "cell_type": "code",
   "execution_count": null,
   "metadata": {
    "collapsed": false
   },
   "outputs": [],
   "source": [
    "dataf[:5]"
   ]
  },
  {
   "cell_type": "code",
   "execution_count": null,
   "metadata": {
    "collapsed": false
   },
   "outputs": [],
   "source": [
    "dataf[['s','s_map']] = dataf[['s','s_map']].apply(pd.to_numeric)"
   ]
  },
  {
   "cell_type": "code",
   "execution_count": null,
   "metadata": {
    "collapsed": false
   },
   "outputs": [],
   "source": [
    "dataf.plot(style=['b-','ro'])"
   ]
  },
  {
   "cell_type": "code",
   "execution_count": null,
   "metadata": {
    "collapsed": true
   },
   "outputs": [],
   "source": [
    "import matplotlib.pyplot as plt"
   ]
  },
  {
   "cell_type": "code",
   "execution_count": null,
   "metadata": {
    "collapsed": false
   },
   "outputs": [],
   "source": [
    "dataf.index.to_pydatetime()"
   ]
  },
  {
   "cell_type": "code",
   "execution_count": null,
   "metadata": {
    "collapsed": false
   },
   "outputs": [],
   "source": [
    "dataf[:5]"
   ]
  },
  {
   "cell_type": "code",
   "execution_count": null,
   "metadata": {
    "collapsed": true
   },
   "outputs": [],
   "source": [
    "mask=np.isfinite(dataf['s_map'])"
   ]
  },
  {
   "cell_type": "code",
   "execution_count": null,
   "metadata": {
    "collapsed": false
   },
   "outputs": [],
   "source": [
    "dataf['s_map'][mask]"
   ]
  },
  {
   "cell_type": "code",
   "execution_count": null,
   "metadata": {
    "collapsed": false,
    "scrolled": false
   },
   "outputs": [],
   "source": [
    "plt.plot(dataf['s_map'][mask], '-o')"
   ]
  },
  {
   "cell_type": "code",
   "execution_count": null,
   "metadata": {
    "collapsed": false
   },
   "outputs": [],
   "source": [
    "dic1={'t_gauge':rt[1], 's':hs[1], 't_hist':ht[1], 's_hist':hh[1], 't_map':mt[1], 's_map':mh[1]}"
   ]
  },
  {
   "cell_type": "code",
   "execution_count": null,
   "metadata": {
    "collapsed": false
   },
   "outputs": [],
   "source": [
    "dataf"
   ]
  },
  {
   "cell_type": "code",
   "execution_count": null,
   "metadata": {
    "collapsed": false
   },
   "outputs": [],
   "source": [
    "pd.concat([dataf,dataf], keys=['0', '1'])"
   ]
  },
  {
   "cell_type": "code",
   "execution_count": null,
   "metadata": {
    "collapsed": true
   },
   "outputs": [],
   "source": []
  }
 ],
 "metadata": {
  "hide_input": false,
  "kernelspec": {
   "display_name": "Python 2",
   "language": "python",
   "name": "python2"
  },
  "language_info": {
   "codemirror_mode": {
    "name": "ipython",
    "version": 2
   },
   "file_extension": ".py",
   "mimetype": "text/x-python",
   "name": "python",
   "nbconvert_exporter": "python",
   "pygments_lexer": "ipython2",
   "version": "2.7.12"
  },
  "latex_envs": {
   "bibliofile": "biblio.bib",
   "cite_by": "apalike",
   "current_citInitial": 1,
   "eqLabelWithNumbers": true,
   "eqNumInitial": 0
  }
 },
 "nbformat": 4,
 "nbformat_minor": 0
}
