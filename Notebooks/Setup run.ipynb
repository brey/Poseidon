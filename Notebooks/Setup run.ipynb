{
 "cells": [
  {
   "cell_type": "markdown",
   "metadata": {},
   "source": [
    "# Setting up a DELFT3D simulation"
   ]
  },
  {
   "cell_type": "markdown",
   "metadata": {},
   "source": [
    "This is the outline of the dset.py script from /src/ folder that sets up a complete DELFT3D simulation"
   ]
  },
  {
   "cell_type": "code",
   "execution_count": 2,
   "metadata": {
    "collapsed": true
   },
   "outputs": [],
   "source": [
    "#python modules\n",
    "import numpy as np\n",
    "import datetime\n",
    "import sys\n",
    "import os\n",
    "from shutil import copy2\n",
    "import glob\n",
    "import os\n",
    "import xml.dom.minidom as md"
   ]
  },
  {
   "cell_type": "code",
   "execution_count": 3,
   "metadata": {
    "collapsed": false
   },
   "outputs": [
    {
     "ename": "ImportError",
     "evalue": "No module named meteo",
     "output_type": "error",
     "traceback": [
      "\u001b[0;31m---------------------------------------------------------------------------\u001b[0m",
      "\u001b[0;31mImportError\u001b[0m                               Traceback (most recent call last)",
      "\u001b[0;32m<ipython-input-3-94f1a106d1d3>\u001b[0m in \u001b[0;36m<module>\u001b[0;34m()\u001b[0m\n\u001b[1;32m      1\u001b[0m \u001b[0;31m#local modules\u001b[0m\u001b[0;34m\u001b[0m\u001b[0;34m\u001b[0m\u001b[0m\n\u001b[0;32m----> 2\u001b[0;31m \u001b[0;32mfrom\u001b[0m \u001b[0mmeteo\u001b[0m \u001b[0;32mimport\u001b[0m \u001b[0mwmap\u001b[0m\u001b[0;34m\u001b[0m\u001b[0m\n\u001b[0m\u001b[1;32m      3\u001b[0m \u001b[0;32mfrom\u001b[0m \u001b[0mgrid\u001b[0m \u001b[0;32mimport\u001b[0m \u001b[0;34m*\u001b[0m\u001b[0;34m\u001b[0m\u001b[0m\n\u001b[1;32m      4\u001b[0m \u001b[0;32mfrom\u001b[0m \u001b[0mdep\u001b[0m \u001b[0;32mimport\u001b[0m \u001b[0;34m*\u001b[0m\u001b[0;34m\u001b[0m\u001b[0m\n\u001b[1;32m      5\u001b[0m \u001b[0;32mfrom\u001b[0m \u001b[0mdem\u001b[0m \u001b[0;32mimport\u001b[0m \u001b[0mreadem\u001b[0m\u001b[0;34m\u001b[0m\u001b[0m\n",
      "\u001b[0;31mImportError\u001b[0m: No module named meteo"
     ]
    }
   ],
   "source": [
    "#local modules\n",
    "from meteo import wmap\n",
    "from grid import *\n",
    "from dep import *\n",
    "from dem import readem\n",
    "from idelft3d import meteo2delft3d\n",
    "import mdf\n",
    "from setobs import createf\n"
   ]
  },
  {
   "cell_type": "markdown",
   "metadata": {},
   "source": [
    "## input variables"
   ]
  },
  {
   "cell_type": "code",
   "execution_count": null,
   "metadata": {
    "collapsed": true
   },
   "outputs": [],
   "source": [
    "# lat/lon window\n",
    "lon0=-47.\n",
    "lon1=44.\n",
    "lat0=25.\n",
    "lat1=76."
   ]
  },
  {
   "cell_type": "code",
   "execution_count": null,
   "metadata": {
    "collapsed": true
   },
   "outputs": [],
   "source": [
    "nt=72 # number of forecasting intervals (hours)"
   ]
  },
  {
   "cell_type": "code",
   "execution_count": null,
   "metadata": {
    "collapsed": true
   },
   "outputs": [],
   "source": [
    "resolution = .1 # desired resolution in decimal degrees."
   ]
  },
  {
   "cell_type": "code",
   "execution_count": null,
   "metadata": {
    "collapsed": true
   },
   "outputs": [],
   "source": [
    "#modify the lat/lon window to match the resolution \n",
    "ni=int((lon1-lon0)/resolution)+1\n",
    "nj=int((lat1-lat0)/resolution)+1\n",
    "  \n",
    "lon1=lon0+ni*resolution\n",
    "lat1=lat0+nj*resolution"
   ]
  },
  {
   "cell_type": "code",
   "execution_count": null,
   "metadata": {
    "collapsed": true
   },
   "outputs": [],
   "source": [
    "basename='test' # the name tag of the simulation. It will used in all the required files --see below."
   ]
  },
  {
   "cell_type": "code",
   "execution_count": null,
   "metadata": {
    "collapsed": true
   },
   "outputs": [],
   "source": [
    "#This is the date stamp of the run. It will also be used the name of the simulation folder in YearMonthDay.Hour format.\n",
    "rundate = datetime.date(2017,2,10,0)"
   ]
  },
  {
   "cell_type": "code",
   "execution_count": null,
   "metadata": {
    "collapsed": true
   },
   "outputs": [],
   "source": [
    "path = '../test/' # the location where the simulation will be setup"
   ]
  },
  {
   "cell_type": "code",
   "execution_count": null,
   "metadata": {
    "collapsed": true
   },
   "outputs": [],
   "source": [
    "# create the folder/run path\n",
    "rpath=datetime.datetime.strftime(rundate,'%Y%m%d.%H' )"
   ]
  },
  {
   "cell_type": "code",
   "execution_count": null,
   "metadata": {
    "collapsed": true
   },
   "outputs": [],
   "source": [
    "calc_dir=path+'{}/'.format(rpath)  #run subfolder \n",
    "if not os.path.exists(rpath): #create folder if it doesn't exist\n",
    "      os.makedirs(rpath)\n"
   ]
  },
  {
   "cell_type": "markdown",
   "metadata": {},
   "source": [
    "## Create forcing"
   ]
  },
  {
   "cell_type": "code",
   "execution_count": null,
   "metadata": {
    "collapsed": true
   },
   "outputs": [],
   "source": [
    "#get meteo for that day... see Meteo.ipynb for more info\n",
    "p,u,v,elat,elon = wmap(rundate,0,3*(nt+1),lon0,lon1,lat0,lat1)"
   ]
  },
  {
   "cell_type": "code",
   "execution_count": null,
   "metadata": {
    "collapsed": true
   },
   "outputs": [],
   "source": [
    "#write u,v,p files \n",
    "dlat=elat[1,0]-elat[0,0] #dlat required in meteo2delft\n",
    "dlon=elon[0,1]-elon[0,0] #dlon required \n",
    "mlat0=elat[0,0] \n",
    "mlon0=elon[0,0] \n"
   ]
  },
  {
   "cell_type": "code",
   "execution_count": null,
   "metadata": {
    "collapsed": true
   },
   "outputs": [],
   "source": [
    "meteo2delft3d(p,u,v,lat0,lon0,dlat,dlon,rundate,nt,path=rpath,curvi=False) # write to ascii delft3d format"
   ]
  },
  {
   "cell_type": "markdown",
   "metadata": {},
   "source": [
    "##  Get bathymetry interpolated onto lon,lat"
   ]
  },
  {
   "cell_type": "code",
   "execution_count": null,
   "metadata": {
    "collapsed": true
   },
   "outputs": [],
   "source": [
    "# set the grid \n",
    "x=np.linspace(lon0,lon1,ni)\n",
    "y=np.linspace(lat0,lat1,nj)\n",
    "lon,lat=np.meshgrid(x,y)"
   ]
  },
  {
   "cell_type": "code",
   "execution_count": null,
   "metadata": {
    "collapsed": true
   },
   "outputs": [],
   "source": [
    "pathb='../BATHYMETRY/GLOBAL/GEBCO_2014_2D.nc' #global bathymetry file"
   ]
  },
  {
   "cell_type": "code",
   "execution_count": null,
   "metadata": {
    "collapsed": true
   },
   "outputs": [],
   "source": [
    "bat = readem(lat0,lat1,lon0,lon1,pathb,lon,lat,plot=False,interpolate=True)"
   ]
  },
  {
   "cell_type": "code",
   "execution_count": null,
   "metadata": {
    "collapsed": true
   },
   "outputs": [],
   "source": [
    "# Write bathymetry file\n",
    "ba = Dep() # assign a bathymetry class variable\n",
    "# append the line/column of nodata \n",
    "nodata=np.empty(ni)\n",
    "nodata.fill(np.nan)\n",
    "bat1=np.vstack((bat,nodata))\n",
    "nodata=np.empty((nj+1,1))\n",
    "nodata.fill(np.nan)\n",
    "bat2=np.hstack((bat1,nodata))\n",
    "ba.val = -bat2\n",
    "ba.shape = bat2.shape\n",
    "\n",
    "ba.val[ba.val<0]=-999.  # mask all dry points\n",
    "\n",
    "Dep.write(ba,calc_dir+basename+'.dep') #write dep file"
   ]
  },
  {
   "cell_type": "markdown",
   "metadata": {},
   "source": [
    "## Create the GRID file"
   ]
  },
  {
   "cell_type": "code",
   "execution_count": null,
   "metadata": {
    "collapsed": true
   },
   "outputs": [],
   "source": [
    "grd = Grid() #assign a grid class variable\n",
    "  \n",
    "grd.shape = bat.shape\n",
    "grd.x = lon\n",
    "grd.y = lat\n",
    "grd.properties = {'Coordinate System': 'Spherical', 'alfori': 0.0, 'xori': 0.0, 'yori': 0.0}\n",
    "  \n",
    "grd.write(calc_dir+basename+'.grd') # write grd file"
   ]
  },
  {
   "cell_type": "markdown",
   "metadata": {},
   "source": [
    "## Rest of the files"
   ]
  },
  {
   "cell_type": "code",
   "execution_count": null,
   "metadata": {
    "collapsed": true
   },
   "outputs": [],
   "source": [
    "# Write .enc file\n",
    "  \n",
    "with open(calc_dir+basename+'.enc','w') as f:\n",
    "    f.write('{:>5}{:>5}\\n'.format(ni+1,1))  # add one like ddb. This is the fortran/python conversion 0->1\n",
    "    f.write('{:>5}{:>5}\\n'.format(ni+1,nj+1))\n",
    "    f.write('{:>5}{:>5}\\n'.format(1,nj+1))\n",
    "    f.write('{:>5}{:>5}\\n'.format(1,1))\n",
    "    f.write('{:>5}{:>5}\\n'.format(ni+1,1))\n",
    "  "
   ]
  },
  {
   "cell_type": "code",
   "execution_count": null,
   "metadata": {
    "collapsed": true
   },
   "outputs": [],
   "source": [
    "# Write .obs file. See Obs_points.ipynb\n",
    "createf(calc_dir,basename,lat0,lat1,lon0,lon1,grd,ba)"
   ]
  },
  {
   "cell_type": "code",
   "execution_count": null,
   "metadata": {
    "collapsed": true
   },
   "outputs": [],
   "source": [
    "# Define the mdf input file\n",
    "# first read the default\n",
    "inp, order = mdf.read('default.mdf')"
   ]
  },
  {
   "cell_type": "code",
   "execution_count": null,
   "metadata": {
    "collapsed": true
   },
   "outputs": [],
   "source": [
    "# modify default mdf file\n",
    "\n",
    "#Set grid file\n",
    "inp['Filcco']=basename+'.grd'\n",
    "  \n",
    "#Set enc file\n",
    "inp['Filgrd']=basename+'.enc'\n",
    "  \n",
    "#Set dep file\n",
    "inp['Fildep']=basename+'.dep'\n",
    "  \n",
    "#Set obs file\n",
    "inp['Filsta']=basename+'.obs'\n",
    "  \n",
    "# adjust ni,nj\n",
    "inp['MNKmax']=[ni+1,nj+1,1]  # add one like ddb\n",
    "  \n",
    "# adjust iteration date\n",
    "inp['Itdate']=datetime.datetime.strftime(runtime.date(),'%Y-%m-%d')\n",
    "  \n",
    "#set time unit\n",
    "inp['Tunit']='M'\n",
    "\n",
    "#adjust iteration start\n",
    "inp['Tstart']=[Tstart]\n",
    "  \n",
    "#adjust iteration stop\n",
    "inp['Tstop']=[Tstop]\n",
    "  \n",
    "#adjust time step\n",
    "inp['Dt']=[1.]\n",
    "  \n",
    "#adjust time for output\n",
    "step=60\n",
    "inp['Flmap']=[Tstart,step,Tstop]\n",
    "inp['Flhis']=[Tstart,1,Tstop]\n",
    "inp['Flpp']=[0,0,0]\n",
    "inp['Flrst']=[720]\n",
    "  \n",
    "#time interval to smooth the hydrodynamic boundary conditions\n",
    "inp['Tlfsmo']=[0.]\n",
    "\n",
    "# specify ini file\n",
    "# if 'Filic' not in order: order.append('Filic')\n",
    "# inp['Filic']=basename+'.ini'\n",
    "\n",
    "# netCDF output\n",
    "if 'FlNcdf' not in order: order.append('FlNcdf')\n",
    "inp['FlNcdf'] = 'map his'\n",
    "\n",
    "  \n",
    "#SAVE mdf file\n",
    "mdf.write(inp, calc_dir+basename+'.mdf',selection=order)\n"
   ]
  },
  {
   "cell_type": "code",
   "execution_count": null,
   "metadata": {
    "collapsed": true
   },
   "outputs": [],
   "source": [
    "# edit and save config files\n",
    "#DELFT3D config xml file\n",
    "copy2('config_d_hydro.xml',calc_dir+'config_d_hydro.xml')\n",
    "\n",
    "xml=md.parse(calc_dir+'config_d_hydro.xml')\n",
    "\n",
    "xml.getElementsByTagName('mdfFile')[0].firstChild.replaceWholeText(basename+'.mdf')\n",
    "\n",
    "with open(calc_dir+'config_d_hydro.xml','w') as f:\n",
    "      xml.writexml(f)\n",
    "\n",
    "#execution shell script        \n",
    "copy2('run_flow2d3d.sh',calc_dir+'run_flow2d3d.sh')"
   ]
  }
 ],
 "metadata": {
  "kernelspec": {
   "display_name": "Python 2",
   "language": "python",
   "name": "python2"
  },
  "language_info": {
   "codemirror_mode": {
    "name": "ipython",
    "version": 2
   },
   "file_extension": ".py",
   "mimetype": "text/x-python",
   "name": "python",
   "nbconvert_exporter": "python",
   "pygments_lexer": "ipython2",
   "version": "2.7.13"
  }
 },
 "nbformat": 4,
 "nbformat_minor": 2
}
