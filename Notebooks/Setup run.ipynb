{
 "cells": [
  {
   "cell_type": "markdown",
   "metadata": {},
   "source": [
    "# Setting up a DELFT3D simulation"
   ]
  },
  {
   "cell_type": "markdown",
   "metadata": {},
   "source": [
    "This is the outline of the dset.py script from /src/ folder that sets up a complete DELFT3D simulation"
   ]
  },
  {
   "cell_type": "code",
   "execution_count": 1,
   "metadata": {
    "collapsed": true
   },
   "outputs": [],
   "source": [
    "#python modules\n",
    "import numpy as np\n",
    "import datetime\n",
    "import sys\n",
    "import os\n",
    "from shutil import copy2\n",
    "import glob\n",
    "import os\n",
    "import xml.dom.minidom as md\n",
    "from tqdm import tqdm\n",
    "import subprocess"
   ]
  },
  {
   "cell_type": "code",
   "execution_count": 2,
   "metadata": {
    "collapsed": false
   },
   "outputs": [],
   "source": [
    "%load_ext pypath_magic"
   ]
  },
  {
   "cell_type": "code",
   "execution_count": 3,
   "metadata": {
    "collapsed": false
   },
   "outputs": [
    {
     "name": "stdout",
     "output_type": "stream",
     "text": [
      "Added u'/home/critechuser/REPOS/StormS/src' to path.\n",
      "Added u'/home/critechuser/REPOS/StormS/utils' to path.\n"
     ]
    }
   ],
   "source": [
    "%pypath -a /home/critechuser/REPOS/StormS/src/\n",
    "%pypath -a /home/critechuser/REPOS/StormS/utils/"
   ]
  },
  {
   "cell_type": "code",
   "execution_count": 4,
   "metadata": {
    "collapsed": false
   },
   "outputs": [],
   "source": [
    "#local modules\n",
    "from meteo import wmap\n",
    "from grid import *\n",
    "from dep import *\n",
    "from dem import readem\n",
    "from idelft3d import meteo2delft3d\n",
    "import mdf\n",
    "from setobs import createf\n"
   ]
  },
  {
   "cell_type": "code",
   "execution_count": 5,
   "metadata": {
    "collapsed": false
   },
   "outputs": [
    {
     "name": "stdout",
     "output_type": "stream",
     "text": [
      "Deleted u'/home/critechuser/REPOS/StormS/src' from path\n",
      "Deleted u'/home/critechuser/REPOS/StormS/utils' from path\n"
     ]
    }
   ],
   "source": [
    "# clean up \n",
    "%pypath -d /home/critechuser/REPOS/StormS/src/\n",
    "%pypath -d /home/critechuser/REPOS/StormS/utils/"
   ]
  },
  {
   "cell_type": "markdown",
   "metadata": {},
   "source": [
    "## input variables"
   ]
  },
  {
   "cell_type": "code",
   "execution_count": 6,
   "metadata": {
    "collapsed": true
   },
   "outputs": [],
   "source": [
    "# lat/lon window\n",
    "lon0=-47.\n",
    "lon1=44.\n",
    "lat0=25.\n",
    "lat1=76."
   ]
  },
  {
   "cell_type": "code",
   "execution_count": 7,
   "metadata": {
    "collapsed": true
   },
   "outputs": [],
   "source": [
    "nt=2 # number of forecasting intervals (hours)"
   ]
  },
  {
   "cell_type": "code",
   "execution_count": 8,
   "metadata": {
    "collapsed": true
   },
   "outputs": [],
   "source": [
    "resolution = .1 # desired resolution in decimal degrees."
   ]
  },
  {
   "cell_type": "code",
   "execution_count": 9,
   "metadata": {
    "collapsed": true
   },
   "outputs": [],
   "source": [
    "resmin=resolution * 60 #convert to arc minutes"
   ]
  },
  {
   "cell_type": "markdown",
   "metadata": {},
   "source": [
    "There is an option to read a grid (lat lon) or create one. Below we choose the second option. See dset.py for more info."
   ]
  },
  {
   "cell_type": "code",
   "execution_count": 10,
   "metadata": {
    "collapsed": true
   },
   "outputs": [],
   "source": [
    "#modify the lat/lon window to match the resolution \n",
    "ni=int((lon1-lon0)/resolution)+1\n",
    "nj=int((lat1-lat0)/resolution)+1\n",
    "  \n",
    "lon1=lon0+ni*resolution\n",
    "lat1=lat0+nj*resolution"
   ]
  },
  {
   "cell_type": "code",
   "execution_count": 11,
   "metadata": {
    "collapsed": true
   },
   "outputs": [],
   "source": [
    "basename='test' # the name tag of the simulation. It will used in all the required files --see below."
   ]
  },
  {
   "cell_type": "code",
   "execution_count": 12,
   "metadata": {
    "collapsed": false
   },
   "outputs": [],
   "source": [
    "#This is the date stamp of the run. It will also be used the name of the simulation folder in YearMonthDay.Hour format.\n",
    "runtime = datetime.datetime.strptime('12 Feb 2017 00:00', '%d %b %Y %H:%M')"
   ]
  },
  {
   "cell_type": "code",
   "execution_count": 13,
   "metadata": {
    "collapsed": true
   },
   "outputs": [],
   "source": [
    "path = 'tmp/' # the location where the simulation will be setup"
   ]
  },
  {
   "cell_type": "code",
   "execution_count": 14,
   "metadata": {
    "collapsed": true
   },
   "outputs": [],
   "source": [
    "# create the folder/run path\n",
    "rpath=datetime.datetime.strftime(runtime,'%Y%m%d.%H' )"
   ]
  },
  {
   "cell_type": "code",
   "execution_count": 15,
   "metadata": {
    "collapsed": true
   },
   "outputs": [],
   "source": [
    "calc_dir=path+'{}/'.format(rpath)  #run subfolder \n",
    "if not os.path.exists(calc_dir): #create folder if it doesn't exist\n",
    "      os.makedirs(calc_dir)\n"
   ]
  },
  {
   "cell_type": "code",
   "execution_count": 16,
   "metadata": {
    "collapsed": true
   },
   "outputs": [],
   "source": [
    "Tstart=60.*runtime.hour #minutes\n",
    "\n",
    "Tstop=Tstart+60.*nt #minutes"
   ]
  },
  {
   "cell_type": "code",
   "execution_count": 17,
   "metadata": {
    "collapsed": false
   },
   "outputs": [
    {
     "data": {
      "text/plain": [
       "'run attributes lons=[-47.0, 44.1], lats=[25.0, 76.1], ni=911, nj=511, resolution=0.1 decimal degrees (6.0 minutes)\\n'"
      ]
     },
     "execution_count": 17,
     "metadata": {},
     "output_type": "execute_result"
    }
   ],
   "source": [
    "'run attributes lons=[{}, {}], lats=[{}, {}], ni={}, nj={}, resolution={} decimal degrees ({} minutes)\\n'.format(lon0,lon1,lat0,lat1,ni,nj,resolution,resmin)"
   ]
  },
  {
   "cell_type": "markdown",
   "metadata": {},
   "source": [
    "## Create forcing"
   ]
  },
  {
   "cell_type": "code",
   "execution_count": 18,
   "metadata": {
    "collapsed": false
   },
   "outputs": [
    {
     "name": "stderr",
     "output_type": "stream",
     "text": [
      "100%|██████████| 9/9 [00:23<00:00,  2.56s/it]       | 1/9 [00:02<00:23,  2.92s/it]"
     ]
    },
    {
     "name": "stdout",
     "output_type": "stream",
     "text": [
      "\n",
      "meteo done\n"
     ]
    },
    {
     "name": "stderr",
     "output_type": "stream",
     "text": [
      "\n"
     ]
    }
   ],
   "source": [
    "#get meteo for that day... see Meteo.ipynb for more info\n",
    "p,u,v,elat,elon = wmap(runtime,0,3*(nt+1),lon0,lon1,lat0,lat1)"
   ]
  },
  {
   "cell_type": "code",
   "execution_count": 19,
   "metadata": {
    "collapsed": true
   },
   "outputs": [],
   "source": [
    "#write u,v,p files \n",
    "dlat=elat[1,0]-elat[0,0] #dlat required in meteo2delft\n",
    "dlon=elon[0,1]-elon[0,0] #dlon required \n",
    "mlat0=elat[0,0] \n",
    "mlon0=elon[0,0] \n"
   ]
  },
  {
   "cell_type": "code",
   "execution_count": 20,
   "metadata": {
    "collapsed": false
   },
   "outputs": [],
   "source": [
    "meteo2delft3d(p,u,v,lat0,lon0,dlat,dlon,runtime,nt,path=calc_dir,curvi=False) # write to ascii delft3d format"
   ]
  },
  {
   "cell_type": "markdown",
   "metadata": {},
   "source": [
    "##  Get bathymetry interpolated onto lon,lat"
   ]
  },
  {
   "cell_type": "code",
   "execution_count": 21,
   "metadata": {
    "collapsed": true
   },
   "outputs": [],
   "source": [
    "# set the grid \n",
    "x=np.linspace(lon0,lon1,ni)\n",
    "y=np.linspace(lat0,lat1,nj)\n",
    "lon,lat=np.meshgrid(x,y)"
   ]
  },
  {
   "cell_type": "code",
   "execution_count": 22,
   "metadata": {
    "collapsed": true
   },
   "outputs": [],
   "source": [
    "pathb='../BATHYMETRY/GLOBAL/GEBCO_2014_2D.nc' #global bathymetry file"
   ]
  },
  {
   "cell_type": "code",
   "execution_count": 23,
   "metadata": {
    "collapsed": true
   },
   "outputs": [],
   "source": [
    "bat = readem(lat0,lat1,lon0,lon1,pathb,lon,lat,plot=False,interpolate=True)"
   ]
  },
  {
   "cell_type": "code",
   "execution_count": 24,
   "metadata": {
    "collapsed": false
   },
   "outputs": [
    {
     "name": "stderr",
     "output_type": "stream",
     "text": [
      "/usr/local/lib/python2.7/dist-packages/ipykernel/__main__.py:13: RuntimeWarning: invalid value encountered in less\n"
     ]
    }
   ],
   "source": [
    "# Write bathymetry file\n",
    "ba = Dep() # assign a bathymetry class variable\n",
    "# append the line/column of nodata \n",
    "nodata=np.empty(ni)\n",
    "nodata.fill(np.nan)\n",
    "bat1=np.vstack((bat,nodata))\n",
    "nodata=np.empty((nj+1,1))\n",
    "nodata.fill(np.nan)\n",
    "bat2=np.hstack((bat1,nodata))\n",
    "ba.val = -bat2\n",
    "ba.shape = bat2.shape\n",
    "\n",
    "ba.val[ba.val<0]=-999.  # mask all dry points\n",
    "\n",
    "Dep.write(ba,calc_dir+basename+'.dep') #write dep file"
   ]
  },
  {
   "cell_type": "markdown",
   "metadata": {},
   "source": [
    "## Create the GRID file"
   ]
  },
  {
   "cell_type": "code",
   "execution_count": 25,
   "metadata": {
    "collapsed": true
   },
   "outputs": [],
   "source": [
    "grd = Grid() #assign a grid class variable\n",
    "  \n",
    "grd.shape = bat.shape\n",
    "grd.x = lon\n",
    "grd.y = lat\n",
    "grd.properties = {'Coordinate System': 'Spherical', 'alfori': 0.0, 'xori': 0.0, 'yori': 0.0}\n",
    "  \n",
    "grd.write(calc_dir+basename+'.grd') # write grd file"
   ]
  },
  {
   "cell_type": "markdown",
   "metadata": {},
   "source": [
    "## Rest of the files"
   ]
  },
  {
   "cell_type": "code",
   "execution_count": 26,
   "metadata": {
    "collapsed": true
   },
   "outputs": [],
   "source": [
    "# Write .enc file\n",
    "  \n",
    "with open(calc_dir+basename+'.enc','w') as f:\n",
    "    f.write('{:>5}{:>5}\\n'.format(ni+1,1))  # add one like ddb. This is the fortran/python conversion 0->1\n",
    "    f.write('{:>5}{:>5}\\n'.format(ni+1,nj+1))\n",
    "    f.write('{:>5}{:>5}\\n'.format(1,nj+1))\n",
    "    f.write('{:>5}{:>5}\\n'.format(1,1))\n",
    "    f.write('{:>5}{:>5}\\n'.format(ni+1,1))\n",
    "  "
   ]
  },
  {
   "cell_type": "code",
   "execution_count": 27,
   "metadata": {
    "collapsed": false
   },
   "outputs": [],
   "source": [
    "# Write .obs file. See Obs_points.ipynb\n",
    "createf(calc_dir,basename,lat0,lat1,lon0,lon1,grd,ba)"
   ]
  },
  {
   "cell_type": "code",
   "execution_count": 28,
   "metadata": {
    "collapsed": false
   },
   "outputs": [],
   "source": [
    "# Define the mdf input file\n",
    "# first read the default\n",
    "inp, order = mdf.read('../src/default.mdf')"
   ]
  },
  {
   "cell_type": "code",
   "execution_count": 29,
   "metadata": {
    "collapsed": false
   },
   "outputs": [],
   "source": [
    "# modify default mdf file\n",
    "\n",
    "#Set grid file\n",
    "inp['Filcco']=basename+'.grd'\n",
    "  \n",
    "#Set enc file\n",
    "inp['Filgrd']=basename+'.enc'\n",
    "  \n",
    "#Set dep file\n",
    "inp['Fildep']=basename+'.dep'\n",
    "  \n",
    "#Set obs file\n",
    "inp['Filsta']=basename+'.obs'\n",
    "  \n",
    "# adjust ni,nj\n",
    "inp['MNKmax']=[ni+1,nj+1,1]  # add one like ddb\n",
    "  \n",
    "# adjust iteration date\n",
    "inp['Itdate']=datetime.datetime.strftime(runtime.date(),'%Y-%m-%d')\n",
    "  \n",
    "#set time unit\n",
    "inp['Tunit']='M'\n",
    "\n",
    "#adjust iteration start\n",
    "inp['Tstart']=[Tstart]\n",
    "  \n",
    "#adjust iteration stop\n",
    "inp['Tstop']=[Tstop]\n",
    "  \n",
    "#adjust time step\n",
    "inp['Dt']=[1.]\n",
    "  \n",
    "#adjust time for output\n",
    "step=60\n",
    "inp['Flmap']=[Tstart,step,Tstop]\n",
    "inp['Flhis']=[Tstart,1,Tstop]\n",
    "inp['Flpp']=[0,0,0]\n",
    "inp['Flrst']=[720]\n",
    "  \n",
    "#time interval to smooth the hydrodynamic boundary conditions\n",
    "inp['Tlfsmo']=[0.]\n",
    "\n",
    "# specify ini file\n",
    "# if 'Filic' not in order: order.append('Filic')\n",
    "# inp['Filic']=basename+'.ini'\n",
    "\n",
    "# netCDF output\n",
    "if 'FlNcdf' not in order: order.append('FlNcdf')\n",
    "inp['FlNcdf'] = 'map his'\n",
    "\n",
    "  \n",
    "#SAVE mdf file\n",
    "mdf.write(inp, calc_dir+basename+'.mdf',selection=order)\n"
   ]
  },
  {
   "cell_type": "code",
   "execution_count": 30,
   "metadata": {
    "collapsed": false
   },
   "outputs": [],
   "source": [
    "# edit and save config files\n",
    "#DELFT3D config xml file\n",
    "copy2('../src/config_d_hydro.xml',calc_dir+'config_d_hydro.xml')\n",
    "\n",
    "xml=md.parse(calc_dir+'config_d_hydro.xml')\n",
    "\n",
    "xml.getElementsByTagName('mdfFile')[0].firstChild.replaceWholeText(basename+'.mdf')\n",
    "\n",
    "with open(calc_dir+'config_d_hydro.xml','w') as f:\n",
    "      xml.writexml(f)\n",
    "\n",
    "#execution shell script        \n",
    "copy2('../src/run_flow2d3d.sh',calc_dir+'run_flow2d3d.sh')"
   ]
  },
  {
   "cell_type": "markdown",
   "metadata": {},
   "source": [
    "## Testing the configuration - Run "
   ]
  },
  {
   "cell_type": "code",
   "execution_count": 31,
   "metadata": {
    "collapsed": false
   },
   "outputs": [
    {
     "name": "stdout",
     "output_type": "stream",
     "text": [
      "MPI process number 000 has host unknown and is running on processor POSEIDON\n",
      "MPI process number 002 has host unknown and is running on processor POSEIDON\n",
      "MPI process number 003 has host unknown and is running on processor POSEIDON\n",
      "MPI process number 001 has host unknown and is running on processor POSEIDON\n",
      "--------------------------------------------------------------------------------\n",
      "       Deltares, FLOW2D3D Version 6.02.05.6131, May 17 2016, 12:19:14\n",
      "       libflow2d3d.so entry Flow2D3D::Run\n",
      "--------------------------------------------------------------------------------\n",
      "\n",
      "Part I    - Initialisation Time Dep. Data module...    \n",
      "            runid : test\n",
      "Part II   - Creating intermediate files...             \n",
      "Part III  - Initialisation of the Execution module...  \n",
      "Part IV   - Reading complete MD-file...                     \n",
      "Part V    - Initialisation & checking input...              \n",
      "Part VI   - Initialisation & checking second part...        \n",
      "Part VII  - Initialisation output...                        \n",
      "Part VIII - Start Simulation...                             \n",
      "\n",
      "  Time to finish   0s,    0.0% completed, time steps left  120\n",
      "  Time to finish   1m  9s,    0.8% completed, time steps left  119\n",
      "  Time to finish   1m  3s,    1.7% completed, time steps left  118\n",
      "  Time to finish  60s,    2.5% completed, time steps left  117\n",
      "  Time to finish  59s,    3.3% completed, time steps left  116\n",
      "  Time to finish  58s,    4.2% completed, time steps left  115\n",
      "  Time to finish  56s,    5.0% completed, time steps left  114\n",
      "  Time to finish  56s,    5.8% completed, time steps left  113\n",
      "  Time to finish  55s,    6.7% completed, time steps left  112\n",
      "  Time to finish  54s,    7.5% completed, time steps left  111\n",
      "  Time to finish  53s,    8.3% completed, time steps left  110\n",
      "  Time to finish  53s,    9.2% completed, time steps left  109\n",
      "  Time to finish  52s,   10.0% completed, time steps left  108\n",
      "  Time to finish  52s,   10.8% completed, time steps left  107\n",
      "  Time to finish  52s,   11.7% completed, time steps left  106\n",
      "  Time to finish  51s,   12.5% completed, time steps left  105\n",
      "  Time to finish  51s,   13.3% completed, time steps left  104\n",
      "  Time to finish  50s,   14.2% completed, time steps left  103\n",
      "  Time to finish  49s,   15.0% completed, time steps left  102\n",
      "  Time to finish  49s,   15.8% completed, time steps left  101\n",
      "  Time to finish  48s,   16.7% completed, time steps left  100\n",
      "  Time to finish  48s,   17.5% completed, time steps left  99\n",
      "  Time to finish  47s,   18.3% completed, time steps left  98\n",
      "  Time to finish  47s,   19.2% completed, time steps left  97\n",
      "  Time to finish  46s,   20.0% completed, time steps left  96\n",
      "  Time to finish  46s,   20.8% completed, time steps left  95\n",
      "  Time to finish  45s,   21.7% completed, time steps left  94\n",
      "  Time to finish  45s,   22.5% completed, time steps left  93\n",
      "  Time to finish  44s,   23.3% completed, time steps left  92\n",
      "  Time to finish  43s,   24.2% completed, time steps left  91\n",
      "  Time to finish  43s,   25.0% completed, time steps left  90\n",
      "  Time to finish  43s,   25.8% completed, time steps left  89\n",
      "  Time to finish  42s,   26.7% completed, time steps left  88\n",
      "  Time to finish  42s,   27.5% completed, time steps left  87\n",
      "  Time to finish  41s,   28.3% completed, time steps left  86\n",
      "  Time to finish  41s,   29.2% completed, time steps left  85\n",
      "  Time to finish  40s,   30.0% completed, time steps left  84\n",
      "  Time to finish  40s,   30.8% completed, time steps left  83\n",
      "  Time to finish  39s,   31.7% completed, time steps left  82\n",
      "  Time to finish  39s,   32.5% completed, time steps left  81\n",
      "  Time to finish  38s,   33.3% completed, time steps left  80\n",
      "  Time to finish  38s,   34.2% completed, time steps left  79\n",
      "  Time to finish  37s,   35.0% completed, time steps left  78\n",
      "  Time to finish  37s,   35.8% completed, time steps left  77\n",
      "  Time to finish  36s,   36.7% completed, time steps left  76\n",
      "  Time to finish  36s,   37.5% completed, time steps left  75\n",
      "  Time to finish  35s,   38.3% completed, time steps left  74\n",
      "  Time to finish  35s,   39.2% completed, time steps left  73\n",
      "  Time to finish  34s,   40.0% completed, time steps left  72\n",
      "  Time to finish  34s,   40.8% completed, time steps left  71\n",
      "  Time to finish  33s,   41.7% completed, time steps left  70\n",
      "  Time to finish  33s,   42.5% completed, time steps left  69\n",
      "  Time to finish  32s,   43.3% completed, time steps left  68\n",
      "  Time to finish  32s,   44.2% completed, time steps left  67\n",
      "  Time to finish  31s,   45.0% completed, time steps left  66\n",
      "  Time to finish  31s,   45.8% completed, time steps left  65\n",
      "  Time to finish  30s,   46.7% completed, time steps left  64\n",
      "  Time to finish  30s,   47.5% completed, time steps left  63\n",
      "  Time to finish  29s,   48.3% completed, time steps left  62\n",
      "  Time to finish  29s,   49.2% completed, time steps left  61\n",
      "  Time to finish  28s,   50.0% completed, time steps left  60\n",
      "  Time to finish  29s,   50.8% completed, time steps left  59\n",
      "  Time to finish  29s,   51.7% completed, time steps left  58\n",
      "  Time to finish  28s,   52.5% completed, time steps left  57\n",
      "  Time to finish  28s,   53.3% completed, time steps left  56\n",
      "  Time to finish  27s,   54.2% completed, time steps left  55\n",
      "  Time to finish  27s,   55.0% completed, time steps left  54\n",
      "  Time to finish  26s,   55.8% completed, time steps left  53\n",
      "  Time to finish  26s,   56.7% completed, time steps left  52\n",
      "  Time to finish  25s,   57.5% completed, time steps left  51\n",
      "  Time to finish  25s,   58.3% completed, time steps left  50\n",
      "  Time to finish  24s,   59.2% completed, time steps left  49\n",
      "  Time to finish  24s,   60.0% completed, time steps left  48\n",
      "  Time to finish  23s,   60.8% completed, time steps left  47\n",
      "  Time to finish  23s,   61.7% completed, time steps left  46\n",
      "  Time to finish  22s,   62.5% completed, time steps left  45\n",
      "  Time to finish  22s,   63.3% completed, time steps left  44\n",
      "  Time to finish  21s,   64.2% completed, time steps left  43\n",
      "  Time to finish  21s,   65.0% completed, time steps left  42\n",
      "  Time to finish  20s,   65.8% completed, time steps left  41\n",
      "  Time to finish  20s,   66.7% completed, time steps left  40\n",
      "  Time to finish  19s,   67.5% completed, time steps left  39\n",
      "  Time to finish  19s,   68.3% completed, time steps left  38\n",
      "  Time to finish  18s,   69.2% completed, time steps left  37\n",
      "  Time to finish  18s,   70.0% completed, time steps left  36\n",
      "  Time to finish  17s,   70.8% completed, time steps left  35\n",
      "  Time to finish  17s,   71.7% completed, time steps left  34\n",
      "  Time to finish  16s,   72.5% completed, time steps left  33\n",
      "  Time to finish  16s,   73.3% completed, time steps left  32\n",
      "  Time to finish  15s,   74.2% completed, time steps left  31\n",
      "  Time to finish  15s,   75.0% completed, time steps left  30\n",
      "  Time to finish  14s,   75.8% completed, time steps left  29\n",
      "  Time to finish  14s,   76.7% completed, time steps left  28\n",
      "  Time to finish  13s,   77.5% completed, time steps left  27\n",
      "  Time to finish  13s,   78.3% completed, time steps left  26\n",
      "  Time to finish  12s,   79.2% completed, time steps left  25\n",
      "  Time to finish  12s,   80.0% completed, time steps left  24\n",
      "  Time to finish  11s,   80.8% completed, time steps left  23\n",
      "  Time to finish  11s,   81.7% completed, time steps left  22\n",
      "  Time to finish  10s,   82.5% completed, time steps left  21\n",
      "  Time to finish  10s,   83.3% completed, time steps left  20\n",
      "  Time to finish   9s,   84.2% completed, time steps left  19\n",
      "  Time to finish   9s,   85.0% completed, time steps left  18\n",
      "  Time to finish   8s,   85.8% completed, time steps left  17\n",
      "  Time to finish   8s,   86.7% completed, time steps left  16\n",
      "  Time to finish   7s,   87.5% completed, time steps left  15\n",
      "  Time to finish   7s,   88.3% completed, time steps left  14\n",
      "  Time to finish   6s,   89.2% completed, time steps left  13\n",
      "  Time to finish   6s,   90.0% completed, time steps left  12\n",
      "  Time to finish   5s,   90.8% completed, time steps left  11\n",
      "  Time to finish   5s,   91.7% completed, time steps left  10\n",
      "  Time to finish   4s,   92.5% completed, time steps left  9\n",
      "  Time to finish   4s,   93.3% completed, time steps left  8\n",
      "  Time to finish   3s,   94.2% completed, time steps left  7\n",
      "  Time to finish   3s,   95.0% completed, time steps left  6\n",
      "  Time to finish   2s,   95.8% completed, time steps left  5\n",
      "  Time to finish   2s,   96.7% completed, time steps left  4\n",
      "  Time to finish   1s,   97.5% completed, time steps left  3\n",
      "  Time to finish   1s,   98.3% completed, time steps left  2\n",
      "  Time to finish   0s,   99.2% completed, time steps left  1\n",
      "\n",
      "\n",
      "\n",
      "\n",
      "\n",
      "------------------------------------------------------------------------------\n",
      "  FINISHED    Delft3D-FLOW\n",
      "              runid      : test\n",
      "              date, time : 2017-02-20, 17:17:30\n",
      "SUMMARY FOR PARTITION :  1\n",
      "    0 errors and     0 warnings\n",
      "returning to main program from domain test\n",
      "------------------------------------------------------------------------------\n",
      "\n"
     ]
    }
   ],
   "source": [
    "ex=subprocess.Popen('./run_flow2d3d.sh', cwd=calc_dir, shell=True, stdout=subprocess.PIPE)\n",
    "stdout=ex.communicate()[0]\n",
    "print stdout"
   ]
  }
 ],
 "metadata": {
  "hide_input": false,
  "kernelspec": {
   "display_name": "Python 2",
   "language": "python",
   "name": "python2"
  },
  "language_info": {
   "codemirror_mode": {
    "name": "ipython",
    "version": 2
   },
   "file_extension": ".py",
   "mimetype": "text/x-python",
   "name": "python",
   "nbconvert_exporter": "python",
   "pygments_lexer": "ipython2",
   "version": "2.7.12"
  },
  "latex_envs": {
   "bibliofile": "biblio.bib",
   "cite_by": "apalike",
   "current_citInitial": 1,
   "eqLabelWithNumbers": true,
   "eqNumInitial": 0
  }
 },
 "nbformat": 4,
 "nbformat_minor": 2
}
