{
 "cells": [
  {
   "cell_type": "code",
   "execution_count": null,
   "metadata": {
    "collapsed": true
   },
   "outputs": [],
   "source": [
    "# Time forecasting workflow "
   ]
  },
  {
   "cell_type": "markdown",
   "metadata": {},
   "source": [
    "This is the workflow for running a time range of simulations (like hincast or re-forecasting). See workflow.py script. It runs from rerun.py script."
   ]
  },
  {
   "cell_type": "code",
   "execution_count": 1,
   "metadata": {
    "collapsed": true
   },
   "outputs": [],
   "source": [
    "#Python modules\n",
    "import numpy as np\n",
    "import datetime\n",
    "import sys\n",
    "import os\n",
    "from shutil import copy2\n",
    "import glob\n",
    "import pickle\n",
    "import subprocess\n"
   ]
  },
  {
   "cell_type": "code",
   "execution_count": 2,
   "metadata": {
    "collapsed": true
   },
   "outputs": [],
   "source": [
    "%load_ext pypath_magic"
   ]
  },
  {
   "cell_type": "code",
   "execution_count": 3,
   "metadata": {
    "collapsed": false
   },
   "outputs": [
    {
     "name": "stdout",
     "output_type": "stream",
     "text": [
      "Added u'/home/critechuser/REPOS/StormS/src' to path.\n",
      "Added u'/home/critechuser/REPOS/StormS/utils' to path.\n"
     ]
    }
   ],
   "source": [
    "# add temporarily to the python the required local paths. Make sure you clean up afterwards.\n",
    "# It won't run if ~/pypath_magic.pth is not empty to begin with.\n",
    "%pypath -a /home/critechuser/REPOS/StormS/src/\n",
    "%pypath -a /home/critechuser/REPOS/StormS/utils/"
   ]
  },
  {
   "cell_type": "code",
   "execution_count": 4,
   "metadata": {
    "collapsed": false
   },
   "outputs": [],
   "source": [
    "#local modules\n",
    "from meteo import wmap\n",
    "from idelft3d import meteo2delft3d\n",
    "import mdf"
   ]
  },
  {
   "cell_type": "code",
   "execution_count": 5,
   "metadata": {
    "collapsed": false
   },
   "outputs": [
    {
     "name": "stdout",
     "output_type": "stream",
     "text": [
      "Deleted u'/home/critechuser/REPOS/StormS/src' from path\n",
      "Deleted u'/home/critechuser/REPOS/StormS/utils' from path\n"
     ]
    }
   ],
   "source": [
    "# clean up \n",
    "%pypath -d /home/critechuser/REPOS/StormS/src/\n",
    "%pypath -d /home/critechuser/REPOS/StormS/utils/"
   ]
  },
  {
   "cell_type": "markdown",
   "metadata": {},
   "source": [
    "## Given variables"
   ]
  },
  {
   "cell_type": "code",
   "execution_count": 6,
   "metadata": {
    "collapsed": true
   },
   "outputs": [],
   "source": [
    "path = 'tmp/'"
   ]
  },
  {
   "cell_type": "code",
   "execution_count": 36,
   "metadata": {
    "collapsed": false
   },
   "outputs": [
    {
     "data": {
      "text/plain": [
       "['tmp/20170212.12', 'tmp/20170213.00', 'tmp/tmp.pkl', 'tmp/20170212.00']"
      ]
     },
     "execution_count": 36,
     "metadata": {},
     "output_type": "execute_result"
    }
   ],
   "source": [
    "# check contents of folder\n",
    "tfolder = glob.glob(path+'*')\n",
    "tfolder"
   ]
  },
  {
   "cell_type": "markdown",
   "metadata": {},
   "source": [
    "Now we define the run from time stamp to time stamp e.g. '20170212.12' to '201702.20.00'. \n",
    "The start time stamp of the follow up run is 12 hours after the last simulation present in the folder. "
   ]
  },
  {
   "cell_type": "code",
   "execution_count": 37,
   "metadata": {
    "collapsed": false
   },
   "outputs": [
    {
     "data": {
      "text/plain": [
       "['tmp/20170212.12', 'tmp/20170213.00', 'tmp/20170212.00']"
      ]
     },
     "execution_count": 37,
     "metadata": {},
     "output_type": "execute_result"
    }
   ],
   "source": [
    "# exclude pkl file from contents of folder\n",
    "tfolder = [t for t in tfolder if '.pkl' not in t]\n",
    "tfolder"
   ]
  },
  {
   "cell_type": "code",
   "execution_count": 42,
   "metadata": {
    "collapsed": false
   },
   "outputs": [],
   "source": [
    "tl = [t.split('/')[-1] for t in tfolder]"
   ]
  },
  {
   "cell_type": "code",
   "execution_count": 44,
   "metadata": {
    "collapsed": false
   },
   "outputs": [
    {
     "data": {
      "text/plain": [
       "['20170212.00', '20170212.12', '20170213.00']"
      ]
     },
     "execution_count": 44,
     "metadata": {},
     "output_type": "execute_result"
    }
   ],
   "source": [
    "tl.sort() # we sort to get the last one\n",
    "tl"
   ]
  },
  {
   "cell_type": "code",
   "execution_count": 11,
   "metadata": {
    "collapsed": false
   },
   "outputs": [],
   "source": [
    "rundate = datetime.datetime.strptime(tl[-1], '%Y%m%d.%H')"
   ]
  },
  {
   "cell_type": "code",
   "execution_count": 12,
   "metadata": {
    "collapsed": true
   },
   "outputs": [],
   "source": [
    "# Set time stamp of the follow up run for 12 hours after the last simulation\n",
    "rundate = rundate + datetime.timedelta(hours=12) "
   ]
  },
  {
   "cell_type": "code",
   "execution_count": 13,
   "metadata": {
    "collapsed": false
   },
   "outputs": [
    {
     "data": {
      "text/plain": [
       "'tmp/tmp.pkl'"
      ]
     },
     "execution_count": 13,
     "metadata": {},
     "output_type": "execute_result"
    }
   ],
   "source": [
    "pfile = glob.glob(path+'*.pkl')[0]\n",
    "pfile"
   ]
  },
  {
   "cell_type": "code",
   "execution_count": 14,
   "metadata": {
    "collapsed": false
   },
   "outputs": [],
   "source": [
    "with open(pfile, 'r') as f:\n",
    "    dic=pickle.load(f)\n"
   ]
  },
  {
   "cell_type": "code",
   "execution_count": 15,
   "metadata": {
    "collapsed": false
   },
   "outputs": [
    {
     "data": {
      "text/plain": [
       "{'bname': 'test',\n",
       " 'lat0': 25.0,\n",
       " 'lat1': 76.1,\n",
       " 'lon0': -47.0,\n",
       " 'lon1': 44.10000000000001,\n",
       " 'ni': 911,\n",
       " 'nj': 511,\n",
       " 'nt': 12}"
      ]
     },
     "execution_count": 15,
     "metadata": {},
     "output_type": "execute_result"
    }
   ],
   "source": [
    "dic"
   ]
  },
  {
   "cell_type": "code",
   "execution_count": 16,
   "metadata": {
    "collapsed": true
   },
   "outputs": [],
   "source": [
    "bname=dic['bname']\n",
    "nt=dic['nt']\n",
    "ni=dic['ni']\n",
    "nj=dic['nj']\n",
    "lon0=dic['lon0']\n",
    "lat0=dic['lat0']\n",
    "lon1=dic['lon1']\n",
    "lat1=dic['lat1']"
   ]
  },
  {
   "cell_type": "code",
   "execution_count": 17,
   "metadata": {
    "collapsed": false
   },
   "outputs": [],
   "source": [
    "#files to be copied\n",
    "files=['config_d_hydro.xml',bname+'.mdf',bname+'.grd',bname+'.enc',bname+'.obs',bname+'.dep', bname+'.pkl','run_flow2d3d.sh']"
   ]
  },
  {
   "cell_type": "code",
   "execution_count": 18,
   "metadata": {
    "collapsed": true
   },
   "outputs": [],
   "source": [
    "# previous date for reference\n",
    "previous_run=rundate-datetime.timedelta(hours=12)"
   ]
  },
  {
   "cell_type": "code",
   "execution_count": 19,
   "metadata": {
    "collapsed": true
   },
   "outputs": [],
   "source": [
    "# create the folder/run path\n",
    "folder=datetime.datetime.strftime(rundate,'%Y%m%d.%H' )\n",
    "\n",
    "rpath=path+'{}/'.format(folder)\n",
    "\n",
    "if not os.path.exists(rpath):\n",
    "    os.makedirs(rpath)"
   ]
  },
  {
   "cell_type": "code",
   "execution_count": 20,
   "metadata": {
    "collapsed": true
   },
   "outputs": [],
   "source": [
    "# copy necessary files\n",
    "pfolder=datetime.datetime.strftime(previous_run,'%Y%m%d.%H' )\n",
    "ppath =  path+'{}/'.format(pfolder)  # previous path\n",
    "\n",
    "for filename in files:\n",
    "      copy2(ppath+filename,rpath+filename)"
   ]
  },
  {
   "cell_type": "code",
   "execution_count": 21,
   "metadata": {
    "collapsed": false
   },
   "outputs": [],
   "source": [
    "# copy restart file from previous time stamp folder\n",
    "\n",
    "inresfile='tri-rst.'+bname+'.'+datetime.datetime.strftime(rundate,'%Y%m%d.%H%M%M')\n",
    "\n",
    "outresfile='restart.'+datetime.datetime.strftime(rundate,'%Y%m%d.%H%M%M')\n",
    "\n",
    "copy2(ppath+inresfile,rpath+'tri-rst.'+outresfile)"
   ]
  },
  {
   "cell_type": "code",
   "execution_count": 22,
   "metadata": {
    "collapsed": false
   },
   "outputs": [
    {
     "name": "stderr",
     "output_type": "stream",
     "text": [
      "100%|██████████| 39/39 [02:01<00:00,  2.89s/it]      | 1/39 [00:04<02:53,  4.58s/it]\n"
     ]
    },
    {
     "name": "stdout",
     "output_type": "stream",
     "text": [
      "\n",
      "meteo done\n"
     ]
    }
   ],
   "source": [
    "#get new meteo\n",
    "check=[os.path.exists(rpath+f) for f in ['u.amu','v.amv','p.amp']] # check if u,v,p are there to avoid duplication of effort\n",
    "if np.any(check)==False :\n",
    "    p,u,v,lat,lon = wmap(rundate,0,3*(nt+1),lon0,lon1,lat0,lat1)\n",
    "    dlat=lat[1,0]-lat[0,0]\n",
    "    dlon=lon[0,1]-lon[0,0]\n",
    "\n",
    "    meteo2delft3d(p,u,v,lat0,lon0,dlat,dlon,rundate,nt,path=rpath,curvi=False)"
   ]
  },
  {
   "cell_type": "code",
   "execution_count": 23,
   "metadata": {
    "collapsed": false
   },
   "outputs": [],
   "source": [
    "# modify mdf file. \n",
    "\n",
    "inp, order = mdf.read(rpath+bname+'.mdf') #read \n",
    "\n",
    "# adjust iteration date\n",
    "tstart=rundate.hour*60\n",
    "inp['Itdate']=datetime.datetime.strftime(rundate,'%Y-%m-%d')\n",
    "inp['Tstart']=[tstart]\n",
    "inp['Tstop']=[nt*60+tstart]\n",
    "inp['Flmap']  = [tstart,60,nt*60+tstart] # it is assumed save map every 60 minutes\n",
    "inp['Flhis']  = [tstart,inp['Dt'][0],nt*60+tstart] # it is assumed save obs point every timestep\n",
    "\n",
    "\n",
    "if 'Restid' not in order : order.append('Restid')\n",
    " # adjust restart file\n",
    "inp['Restid']=outresfile\n",
    "\n",
    "# update mdf\n",
    "mdf.write(inp, rpath+bname+'.mdf',selection=order)\n",
    "\n"
   ]
  },
  {
   "cell_type": "code",
   "execution_count": 32,
   "metadata": {
    "collapsed": false
   },
   "outputs": [
    {
     "ename": "KeyboardInterrupt",
     "evalue": "",
     "output_type": "error",
     "traceback": [
      "\u001b[0;31m---------------------------------------------------------------------------\u001b[0m",
      "\u001b[0;31mKeyboardInterrupt\u001b[0m                         Traceback (most recent call last)",
      "\u001b[0;32m<ipython-input-32-7488f6d64458>\u001b[0m in \u001b[0;36m<module>\u001b[0;34m()\u001b[0m\n\u001b[1;32m      1\u001b[0m \u001b[0;31m# run case\u001b[0m\u001b[0;34m\u001b[0m\u001b[0;34m\u001b[0m\u001b[0m\n\u001b[1;32m      2\u001b[0m \u001b[0mex\u001b[0m\u001b[0;34m=\u001b[0m\u001b[0msubprocess\u001b[0m\u001b[0;34m.\u001b[0m\u001b[0mPopen\u001b[0m\u001b[0;34m(\u001b[0m\u001b[0;34m'./run_flow2d3d.sh'\u001b[0m\u001b[0;34m,\u001b[0m \u001b[0mcwd\u001b[0m\u001b[0;34m=\u001b[0m\u001b[0mrpath\u001b[0m\u001b[0;34m,\u001b[0m \u001b[0mshell\u001b[0m\u001b[0;34m=\u001b[0m\u001b[0mTrue\u001b[0m\u001b[0;34m,\u001b[0m \u001b[0mstdout\u001b[0m\u001b[0;34m=\u001b[0m\u001b[0msubprocess\u001b[0m\u001b[0;34m.\u001b[0m\u001b[0mPIPE\u001b[0m\u001b[0;34m)\u001b[0m\u001b[0;34m\u001b[0m\u001b[0m\n\u001b[0;32m----> 3\u001b[0;31m \u001b[0mstdout\u001b[0m\u001b[0;34m=\u001b[0m\u001b[0mex\u001b[0m\u001b[0;34m.\u001b[0m\u001b[0mcommunicate\u001b[0m\u001b[0;34m(\u001b[0m\u001b[0;34m)\u001b[0m\u001b[0;34m[\u001b[0m\u001b[0;36m0\u001b[0m\u001b[0;34m]\u001b[0m\u001b[0;34m\u001b[0m\u001b[0m\n\u001b[0m\u001b[1;32m      4\u001b[0m \u001b[0;32mprint\u001b[0m \u001b[0mstdout\u001b[0m\u001b[0;34m\u001b[0m\u001b[0m\n",
      "\u001b[0;32m/usr/lib/python2.7/subprocess.pyc\u001b[0m in \u001b[0;36mcommunicate\u001b[0;34m(self, input)\u001b[0m\n\u001b[1;32m    790\u001b[0m                 \u001b[0mself\u001b[0m\u001b[0;34m.\u001b[0m\u001b[0mstdin\u001b[0m\u001b[0;34m.\u001b[0m\u001b[0mclose\u001b[0m\u001b[0;34m(\u001b[0m\u001b[0;34m)\u001b[0m\u001b[0;34m\u001b[0m\u001b[0m\n\u001b[1;32m    791\u001b[0m             \u001b[0;32melif\u001b[0m \u001b[0mself\u001b[0m\u001b[0;34m.\u001b[0m\u001b[0mstdout\u001b[0m\u001b[0;34m:\u001b[0m\u001b[0;34m\u001b[0m\u001b[0m\n\u001b[0;32m--> 792\u001b[0;31m                 \u001b[0mstdout\u001b[0m \u001b[0;34m=\u001b[0m \u001b[0m_eintr_retry_call\u001b[0m\u001b[0;34m(\u001b[0m\u001b[0mself\u001b[0m\u001b[0;34m.\u001b[0m\u001b[0mstdout\u001b[0m\u001b[0;34m.\u001b[0m\u001b[0mread\u001b[0m\u001b[0;34m)\u001b[0m\u001b[0;34m\u001b[0m\u001b[0m\n\u001b[0m\u001b[1;32m    793\u001b[0m                 \u001b[0mself\u001b[0m\u001b[0;34m.\u001b[0m\u001b[0mstdout\u001b[0m\u001b[0;34m.\u001b[0m\u001b[0mclose\u001b[0m\u001b[0;34m(\u001b[0m\u001b[0;34m)\u001b[0m\u001b[0;34m\u001b[0m\u001b[0m\n\u001b[1;32m    794\u001b[0m             \u001b[0;32melif\u001b[0m \u001b[0mself\u001b[0m\u001b[0;34m.\u001b[0m\u001b[0mstderr\u001b[0m\u001b[0;34m:\u001b[0m\u001b[0;34m\u001b[0m\u001b[0m\n",
      "\u001b[0;32m/usr/lib/python2.7/subprocess.pyc\u001b[0m in \u001b[0;36m_eintr_retry_call\u001b[0;34m(func, *args)\u001b[0m\n\u001b[1;32m    474\u001b[0m     \u001b[0;32mwhile\u001b[0m \u001b[0mTrue\u001b[0m\u001b[0;34m:\u001b[0m\u001b[0;34m\u001b[0m\u001b[0m\n\u001b[1;32m    475\u001b[0m         \u001b[0;32mtry\u001b[0m\u001b[0;34m:\u001b[0m\u001b[0;34m\u001b[0m\u001b[0m\n\u001b[0;32m--> 476\u001b[0;31m             \u001b[0;32mreturn\u001b[0m \u001b[0mfunc\u001b[0m\u001b[0;34m(\u001b[0m\u001b[0;34m*\u001b[0m\u001b[0margs\u001b[0m\u001b[0;34m)\u001b[0m\u001b[0;34m\u001b[0m\u001b[0m\n\u001b[0m\u001b[1;32m    477\u001b[0m         \u001b[0;32mexcept\u001b[0m \u001b[0;34m(\u001b[0m\u001b[0mOSError\u001b[0m\u001b[0;34m,\u001b[0m \u001b[0mIOError\u001b[0m\u001b[0;34m)\u001b[0m \u001b[0;32mas\u001b[0m \u001b[0me\u001b[0m\u001b[0;34m:\u001b[0m\u001b[0;34m\u001b[0m\u001b[0m\n\u001b[1;32m    478\u001b[0m             \u001b[0;32mif\u001b[0m \u001b[0me\u001b[0m\u001b[0;34m.\u001b[0m\u001b[0merrno\u001b[0m \u001b[0;34m==\u001b[0m \u001b[0merrno\u001b[0m\u001b[0;34m.\u001b[0m\u001b[0mEINTR\u001b[0m\u001b[0;34m:\u001b[0m\u001b[0;34m\u001b[0m\u001b[0m\n",
      "\u001b[0;31mKeyboardInterrupt\u001b[0m: "
     ]
    }
   ],
   "source": [
    "# run case\n",
    "# note that cwd is the folder where the executable is\n",
    "ex=subprocess.Popen('./run_flow2d3d.sh', cwd=rpath, shell=True, stdout=subprocess.PIPE, bufsize=1)\n",
    "for line in iter(ex.stdout.readline,b''): print line\n",
    "ex.stdout.close()"
   ]
  },
  {
   "cell_type": "code",
   "execution_count": null,
   "metadata": {
    "collapsed": true
   },
   "outputs": [],
   "source": []
  }
 ],
 "metadata": {
  "hide_input": false,
  "kernelspec": {
   "display_name": "Python 2",
   "language": "python",
   "name": "python2"
  },
  "language_info": {
   "codemirror_mode": {
    "name": "ipython",
    "version": 2
   },
   "file_extension": ".py",
   "mimetype": "text/x-python",
   "name": "python",
   "nbconvert_exporter": "python",
   "pygments_lexer": "ipython2",
   "version": "2.7.12"
  },
  "latex_envs": {
   "bibliofile": "biblio.bib",
   "cite_by": "apalike",
   "current_citInitial": 1,
   "eqLabelWithNumbers": true,
   "eqNumInitial": 0
  }
 },
 "nbformat": 4,
 "nbformat_minor": 2
}
